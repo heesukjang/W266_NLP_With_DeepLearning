{
  "cells": [
    {
      "cell_type": "markdown",
      "metadata": {
        "id": "view-in-github",
        "colab_type": "text"
      },
      "source": [
        "<a href=\"https://colab.research.google.com/github/heesukjang/W266_NLP_With_DeepLearning/blob/main/image_captioning_REFERENCE.ipynb\" target=\"_parent\"><img src=\"https://colab.research.google.com/assets/colab-badge.svg\" alt=\"Open In Colab\"/></a>"
      ]
    },
    {
      "cell_type": "markdown",
      "id": "24a93076",
      "metadata": {
        "id": "24a93076"
      },
      "source": [
        "# Assignment 4: Image Captioning\n",
        "\n",
        "This assignment is somewhat short.  We want you to spend your time on the project instead!\n",
        "\n",
        "This assignment explores models connecting different modalities - exploring a connection between images and text.  By the time you're done with this assignment, you'll have:\n",
        "\n",
        "* explored MS COCO captioning dataset\n",
        "* investigated a few captioning techniques\n",
        "* worked with CLIP embeddings for images and captions\n",
        "\n",
        "### Setup\n",
        "\n",
        "* run ```sudo apt install unzip``` to install the unzip executable that is required for this assignment.\n",
        "\n",
        "### Data\n",
        "\n",
        "* Download the 2014 validation images, as well as their annotations from https://cocodataset.org/#download.  On your GCP instance, a command like ```curl http://images.cocodataset.org/zips/val2014.zip --output val2014.zip``` for each will do what you need. You'll also want the file named `annotations_trainval2014.zip`.\n",
        "* Unzip both files and name the corresponding directories `val2014` and `annotations` in this assignment directory.\n",
        "\n",
        "**Note:** the file you are downloading is 6GB and takes a couple of minutes to unload.  Once you unzip the files, the ```val2014``` directory contains over 40,000 files.  Please do not list all of the files in your notebook because jupyter will be unhappy with a cell with over 40,000 lines of output.\n",
        "\n"
      ]
    },
    {
      "cell_type": "code",
      "source": [],
      "metadata": {
        "id": "vHRjD4IQLL0p"
      },
      "id": "vHRjD4IQLL0p",
      "execution_count": null,
      "outputs": []
    },
    {
      "cell_type": "code",
      "source": [
        "!sudo apt install unzip"
      ],
      "metadata": {
        "id": "VGzzhcKe5KMN",
        "outputId": "3c225e16-742a-4e81-89b8-87165ee9cb8d",
        "colab": {
          "base_uri": "https://localhost:8080/"
        }
      },
      "id": "VGzzhcKe5KMN",
      "execution_count": 1,
      "outputs": [
        {
          "output_type": "stream",
          "name": "stdout",
          "text": [
            "Reading package lists... Done\n",
            "Building dependency tree       \n",
            "Reading state information... Done\n",
            "unzip is already the newest version (6.0-25ubuntu1.1).\n",
            "0 upgraded, 0 newly installed, 0 to remove and 23 not upgraded.\n"
          ]
        }
      ]
    },
    {
      "cell_type": "code",
      "source": [
        "!curl http://images.cocodataset.org/zips/val2014.zip --output val2014.zip"
      ],
      "metadata": {
        "colab": {
          "base_uri": "https://localhost:8080/"
        },
        "id": "NY7Kl9fp6WPq",
        "outputId": "0bbeac73-b4b8-4541-a3a4-ecda4cd373f1"
      },
      "id": "NY7Kl9fp6WPq",
      "execution_count": 2,
      "outputs": [
        {
          "output_type": "stream",
          "name": "stdout",
          "text": [
            "  % Total    % Received % Xferd  Average Speed   Time    Time     Time  Current\n",
            "                                 Dload  Upload   Total   Spent    Left  Speed\n",
            "100 6337M  100 6337M    0     0  15.5M      0  0:06:47  0:06:47 --:--:-- 15.3M\n"
          ]
        }
      ]
    },
    {
      "cell_type": "code",
      "source": [
        "!curl http://images.cocodataset.org/annotations/annotations_trainval2014.zip --output annotations_trainval2014.zip"
      ],
      "metadata": {
        "colab": {
          "base_uri": "https://localhost:8080/"
        },
        "id": "ia2NLl_36Xzx",
        "outputId": "8470b821-c89a-408f-bcdb-9449094bf967"
      },
      "id": "ia2NLl_36Xzx",
      "execution_count": 3,
      "outputs": [
        {
          "output_type": "stream",
          "name": "stdout",
          "text": [
            "  % Total    % Received % Xferd  Average Speed   Time    Time     Time  Current\n",
            "                                 Dload  Upload   Total   Spent    Left  Speed\n",
            "100  241M  100  241M    0     0  14.2M      0  0:00:16  0:00:16 --:--:-- 16.0M\n"
          ]
        }
      ]
    },
    {
      "cell_type": "code",
      "source": [
        "!rm -rf val2014 annotations    # remove directories and their contents (rm) recursively (r) and forcibly without confirmation needed (f)\n",
        "!mkdir val2014 annotations"
      ],
      "metadata": {
        "id": "QQ--Ysv-67Ew"
      },
      "id": "QQ--Ysv-67Ew",
      "execution_count": 4,
      "outputs": []
    },
    {
      "cell_type": "code",
      "source": [
        "# suppress displaying the output in the cell console using '> /dev/null' and you can access the unzipped files in the val2014 folder\n",
        "# %%capture\n",
        "!unzip val2014.zip > /dev/null"
      ],
      "metadata": {
        "id": "AfIaUR5W66lx"
      },
      "id": "AfIaUR5W66lx",
      "execution_count": 5,
      "outputs": []
    },
    {
      "cell_type": "code",
      "source": [
        "!unzip annotations_trainval2014.zip > /dev/null"
      ],
      "metadata": {
        "id": "u86srkRC66ZZ"
      },
      "id": "u86srkRC66ZZ",
      "execution_count": 6,
      "outputs": []
    },
    {
      "cell_type": "markdown",
      "source": [
        "### Explore the dataset\n",
        "Look in the ```annotations``` directory.  Which file(s) contain the image captions?  Load those into memory here.  Your end goal is to generate a list of tuples for each of train2014 (you don't need the actual images to do this!) and val2014 i.e. ```[(391895, 'val2014/COCO_val2014_000000391895.jpg', 'A man with a red helmet on a small moped on a dirt road. '), ...]```"
      ],
      "metadata": {
        "id": "qoQY0oQAKwX1"
      },
      "id": "qoQY0oQAKwX1"
    },
    {
      "cell_type": "code",
      "source": [
        "!ls -ltr /content/annotations   # -ltr: reverse output order, which is particularly useful when sorting by date"
      ],
      "metadata": {
        "colab": {
          "base_uri": "https://localhost:8080/"
        },
        "id": "jaS7VE62QUoS",
        "outputId": "6fb68089-c00d-443c-cfc4-a33e62189497"
      },
      "id": "jaS7VE62QUoS",
      "execution_count": 7,
      "outputs": [
        {
          "output_type": "stream",
          "name": "stdout",
          "text": [
            "total 825028\n",
            "-rw-rw-r-- 1 root root 332556225 Sep  1  2017 instances_train2014.json\n",
            "-rw-rw-r-- 1 root root 160682675 Sep  1  2017 instances_val2014.json\n",
            "-rw-r--r-- 1 root root 170733465 Sep  1  2017 person_keypoints_train2014.json\n",
            "-rw-r--r-- 1 root root  81637509 Sep  1  2017 person_keypoints_val2014.json\n",
            "-rw-rw-r-- 1 root root  66782097 Sep  1  2017 captions_train2014.json\n",
            "-rw-rw-r-- 1 root root  32421077 Sep  1  2017 captions_val2014.json\n"
          ]
        }
      ]
    },
    {
      "cell_type": "code",
      "source": [
        "!ls -c -ltd -- /content/annotations/*caption*.json   # find (list) JSON files containing \"caption\" in the file names"
      ],
      "metadata": {
        "colab": {
          "base_uri": "https://localhost:8080/"
        },
        "id": "jYwWaP3QIGm4",
        "outputId": "4a1aa661-8758-4737-8f4d-a1aa7f514f3d"
      },
      "id": "jYwWaP3QIGm4",
      "execution_count": 8,
      "outputs": [
        {
          "output_type": "stream",
          "name": "stdout",
          "text": [
            "-rw-rw-r-- 1 root root 32421077 Mar 19 00:02 /content/annotations/captions_val2014.json\n",
            "-rw-rw-r-- 1 root root 66782097 Mar 19 00:02 /content/annotations/captions_train2014.json\n"
          ]
        }
      ]
    },
    {
      "cell_type": "code",
      "source": [
        "# import json\n",
        "\n",
        "# # Open JSON files stored in my Google Drive\n",
        "# with open('/content/annotations/captions_train2014.json') as json_train:\n",
        "#   img_caption_train = json.load(json_train)\n",
        "\n",
        "# print('Train Keys:')\n",
        "# for key, val in img_caption_train.items():\n",
        "#   pprint.pprint(key)"
      ],
      "metadata": {
        "id": "0AACIjYOLM3p"
      },
      "id": "0AACIjYOLM3p",
      "execution_count": 9,
      "outputs": []
    },
    {
      "cell_type": "code",
      "source": [
        "# # !pip install treelib\n",
        "# # from treelib import Tree\n",
        "\n",
        "# import pprint    # display the parsed data\n",
        "# with open('/content/annotations/captions_val2014.json') as json_val:\n",
        "#   img_caption_val = json.load(json_val)\n",
        "\n",
        "# print('Val Keys:')\n",
        "# for key, val in img_caption_val.items():\n",
        "#   pprint.pprint(key)"
      ],
      "metadata": {
        "id": "0wgP5FLjhZ3_"
      },
      "id": "0wgP5FLjhZ3_",
      "execution_count": 10,
      "outputs": []
    },
    {
      "cell_type": "code",
      "execution_count": 11,
      "id": "a3fa66ba",
      "metadata": {
        "colab": {
          "base_uri": "https://localhost:8080/"
        },
        "id": "a3fa66ba",
        "outputId": "62ab0bcc-8a6c-435b-d49c-a8a27606fee4"
      },
      "outputs": [
        {
          "output_type": "stream",
          "name": "stdout",
          "text": [
            "len(train2014) = 82783\n",
            "len(val2014) = 40504\n"
          ]
        }
      ],
      "source": [
        "### YOUR CODE HERE\n",
        "\n",
        "import json\n",
        "\n",
        "def create_list_of_tuples(data):\n",
        "  data_list = []\n",
        "  \n",
        "  dict_image, dict_caption = {}, {}\n",
        "\n",
        "  # Open JSON files stored in my Google Drive\n",
        "  with open('/content/annotations/captions_' + data + '2014.json') as json_file:\n",
        "    img_caption = json.load(json_file)\n",
        "\n",
        "  # # Extract images/id and images/coco_url create a dict with key=id and value=file name \n",
        "  for img in img_caption['images']:\n",
        "    dict_image[img['id']] = '/'.join(img['coco_url'].split('/')[-2:])\n",
        "\n",
        "  for caption in img_caption['annotations']:\n",
        "    dict_caption[caption['image_id']] = caption['caption']\n",
        "\n",
        "  return img_caption, [(key, dict_image[key], dict_caption[key]) for key in set(dict_image.keys()).intersection(dict_caption)]\n",
        "\n",
        "json_train, train2014 = create_list_of_tuples('train')\n",
        "json_val, val2014 = create_list_of_tuples('val')\n",
        "print(f'len(train2014) = {len(train2014)}\\nlen(val2014) = {len(val2014)}')\n",
        "\n",
        "### END YOUR CODE"
      ]
    },
    {
      "cell_type": "code",
      "execution_count": 12,
      "id": "385f8ad9",
      "metadata": {
        "id": "385f8ad9"
      },
      "outputs": [],
      "source": [
        "# # json_train, train2014 = create_list_of_tuples('train')\n",
        "# import math\n",
        "# import numpy as np\n",
        "\n",
        "# print(len(json_train['annotations'])/len(json_train['images']))\n",
        "# print(math.ceil(3.4))\n",
        "# print(round(3.5, 0))\n",
        "# print(np.round(3.5))\n",
        "# print(int(3.5))"
      ]
    },
    {
      "cell_type": "code",
      "execution_count": 13,
      "id": "cdd2859f",
      "metadata": {
        "colab": {
          "base_uri": "https://localhost:8080/"
        },
        "id": "cdd2859f",
        "outputId": "9cfcd081-591e-4cd2-824d-04beef682200"
      },
      "outputs": [
        {
          "output_type": "stream",
          "name": "stdout",
          "text": [
            "Q1. Number of images in the training set with captions = 82783\n",
            "Q2. Number of captions per image in the training set = 5.0\n",
            "Q3. Number of distinct words in the training set = 21312\n"
          ]
        }
      ],
      "source": [
        "# Cell if you want to write code to answer the questions below.\n",
        "\n",
        "### YOUR CODE HERE\n",
        "print(f'Q1. Number of images in the training set with captions = {len(train2014)}')\n",
        "print(f'Q2. Number of captions per image in the training set = {round(len(json_train[\"annotations\"])/len(json_train[\"images\"]),0)}')\n",
        "\n",
        "train_captions = []\n",
        "for caption in train2014:\n",
        "  train_captions.extend([w for w in caption[2].split()])\n",
        "print(f'Q3. Number of distinct words in the training set = {len(set(train_captions))}')\n",
        "\n",
        "### END YOUR CODE    "
      ]
    },
    {
      "cell_type": "markdown",
      "id": "eaa297ca",
      "metadata": {
        "id": "eaa297ca"
      },
      "source": [
        "### Questions (Part A)\n",
        "\n",
        "1. How many images do we have captions for in the training set? **82783**\n",
        "2. How many captions do we have per image (rounded to nearest integer) in the training set? **5**\n",
        "3. If you just split the training captions on whitespace and do nothing else, how many words are in the vocabulary? **21312**\n",
        "\n",
        "Given your answer to 3, think about what you might need to do with that few examples and that large of a vocabulary?  (Use pretrained embeddings from a massive semi-supervised dataset, keeping only the top-k tokens, smarter tokenization, ...).  You don't need to write your answer anywhere, but given how often these problems arise in NLP, you should be feeling more confident at this point in the course how to handle these situations!"
      ]
    },
    {
      "cell_type": "markdown",
      "id": "2506b44f",
      "metadata": {
        "id": "2506b44f"
      },
      "source": [
        "## Let's look at some of the examples!"
      ]
    },
    {
      "cell_type": "code",
      "execution_count": 14,
      "id": "559854ac",
      "metadata": {
        "colab": {
          "base_uri": "https://localhost:8080/",
          "height": 1000
        },
        "id": "559854ac",
        "outputId": "e7cded75-d824-4fdb-9dfb-4172cfcb52da"
      },
      "outputs": [
        {
          "output_type": "display_data",
          "data": {
            "text/plain": [
              "<Figure size 720x1440 with 10 Axes>"
            ],
            "image/png": "[encoded data removed]"
          },
          "metadata": {
            "needs_background": "light"
          }
        }
      ],
      "source": [
        "import matplotlib.pyplot as plt\n",
        "from tensorflow.keras.utils import load_img, img_to_array\n",
        "import random\n",
        "\n",
        "samples = 5\n",
        "n = 1\n",
        "fig = plt.figure(figsize=(10,20))\n",
        "for i in range(samples):\n",
        "    image_caption = val2014[random.randint(0, len(val2014))]\n",
        "    image_load = load_img(image_caption[1])\n",
        "    \n",
        "    ax = fig.add_subplot(samples,2,n,xticks=[],yticks=[])\n",
        "    ax.imshow(image_load)\n",
        "    n += 1\n",
        "    \n",
        "    ax = fig.add_subplot(samples,2,n)\n",
        "    plt.axis('off')\n",
        "    ax.plot()\n",
        "    ax.set_xlim(0, 1)\n",
        "    ax.set_ylim(0, 1)\n",
        "    ax.text(0, 0, image_caption[2], fontsize=20)\n",
        "    n += 1\n",
        "plt.show()"
      ]
    },
    {
      "cell_type": "markdown",
      "id": "ed9357cc",
      "metadata": {
        "id": "ed9357cc"
      },
      "source": [
        "# Foundational image captioning papers\n",
        "\n",
        "## Show & Tell\n",
        "\n",
        "[Show and Tell: A Neural Image Caption Generator](https://arxiv.org/pdf/1411.4555.pdf) was the first step towards neural image captioning.  Fundamentally it is an encoder-decoder scheme similar to what we've seen in class.  Concretely, it uses the CNN structure of an (at the time) state of the art image classification CNN as the encoder and it uses an LSTM as a decoder.  As in the generation models in class, it continues to generate text until a special \"stop\" token is emitted.  After **reading** the paper, answer the following questions:\n",
        "\n",
        "### Questions (Part B)\n",
        "\n",
        "1.  What parts of the CNN were trained?\n",
        "2.  What was the biggest concern when deciding how to train the model?\n",
        "3.  How was the encoded image representation input into the decoder?\n",
        "4.  Given we are \"translating\" from an image to a caption (without a length constraint), which evaluation metric did the authors determine was reasonable for a top line metric?\n",
        "5.  What beam width is equivalent to one where you select the highest probability word in each decoding step?\n",
        "\n",
        "\n",
        "## Deep Visual Alignment\n",
        "\n",
        "[Deep Visual-Semantic Alignments for Generating Image Descriptions](https://cs.stanford.edu/people/karpathy/cvpr2015.pdf) is a fun read for which we will ask no questions.  Its critical insights are around understanding an image as a composition of regions, and building upon that understanding to construct both a caption for the whole image, but labels for its consistuent parts.\n",
        "\n",
        "## Show, Attend & Tell\n",
        "\n",
        "[Show, Attend & Tell](https://arxiv.org/pdf/1502.03044.pdf) applies the same \"provide the decoder more context, as directly as possible\" trick we've seen over the course: adding attention.  After **skimming** the paper, answer the following questions:\n",
        "\n",
        "### Questions (Part C)\n",
        "\n",
        "1. What is the attention over?\n",
        "2. What do the figures with highlight shading represent in Figures 2, 3 and 5?\n",
        "\n",
        "# Exploring a MS COCO captioner\n",
        "\n",
        "There are many examples of image captioners ML engineers have built on the MS COCO dataset you explored. [This one](https://replicate.com/rmokady/clip_prefix_caption) uses a (more) modern large language model as its decoder, GPT-2.  \n",
        "\n",
        "* **Explore** the samples and play with using beam search and not.  What do you notice?\n",
        "\n",
        "This is an example from the Show & Tell paper of a low-quality caption (see figure 5).  The GPT-2 model proposes \"the car that person drove to the hospital.\" vs. \"A yellow school bus parked in a parking lot\" from the original paper. ![Misclassified](https://github.com/heesukjang/W266_NLP_With_DeepLearning/blob/main/littlecar.png?raw=1) "
      ]
    },
    {
      "cell_type": "markdown",
      "id": "6b29df24",
      "metadata": {
        "id": "6b29df24"
      },
      "source": [
        "# CLIP Embeddings and Image Classification\n",
        "\n",
        "The [CLIP paper](https://arxiv.org/pdf/2103.00020.pdf)  describes a system that emits encodings that represent both images and text captions. The system learns to match a picture with its caption so the encoding for the image and the encoding for an associated caption should have a very high cosine similarity.  Systems like DALL-E use CLIP embeddings to generate images based on a text description by using the text encoding to get the image encoding and then processing the image encoding to generate the final image.  We're going to use CLIP in the opposite direction.  Namely we're going to use CLIP embeddings to classify images, that is to score a set of captions for an image based on the image's content.\n",
        "\n",
        "We can use the HuggingFace implementation of **CLIP** to experiment with this **multimodal capability**. "
      ]
    },
    {
      "cell_type": "code",
      "execution_count": 15,
      "id": "5f53b290",
      "metadata": {
        "id": "5f53b290",
        "outputId": "27ab179a-f97a-4d9f-9225-bf628d0f90d1",
        "colab": {
          "base_uri": "https://localhost:8080/"
        }
      },
      "outputs": [
        {
          "output_type": "stream",
          "name": "stdout",
          "text": [
            "\u001b[2K     \u001b[90m━━━━━━━━━━━━━━━━━━━━━━━━━━━━━━━━━━━━━━━━\u001b[0m \u001b[32m6.7/6.7 MB\u001b[0m \u001b[31m45.9 MB/s\u001b[0m eta \u001b[36m0:00:00\u001b[0m\n",
            "\u001b[2K     \u001b[90m━━━━━━━━━━━━━━━━━━━━━━━━━━━━━━━━━━━━━━\u001b[0m \u001b[32m199.2/199.2 KB\u001b[0m \u001b[31m18.4 MB/s\u001b[0m eta \u001b[36m0:00:00\u001b[0m\n",
            "\u001b[2K     \u001b[90m━━━━━━━━━━━━━━━━━━━━━━━━━━━━━━━━━━━━━━━━\u001b[0m \u001b[32m7.6/7.6 MB\u001b[0m \u001b[31m82.6 MB/s\u001b[0m eta \u001b[36m0:00:00\u001b[0m\n",
            "\u001b[?25h"
          ]
        }
      ],
      "source": [
        "!pip install -q transformers"
      ]
    },
    {
      "cell_type": "code",
      "execution_count": 16,
      "id": "ff214401",
      "metadata": {
        "id": "ff214401"
      },
      "outputs": [],
      "source": [
        "import tensorflow as tf\n",
        "from PIL import Image\n",
        "import requests\n",
        "from transformers import CLIPProcessor, TFCLIPModel"
      ]
    },
    {
      "cell_type": "code",
      "execution_count": 17,
      "id": "0390b9bb",
      "metadata": {
        "id": "0390b9bb",
        "outputId": "1b13afea-9dec-4f4d-c7df-9e5d183a1d87",
        "colab": {
          "base_uri": "https://localhost:8080/",
          "height": 344,
          "referenced_widgets": [
            "495c08c1e45d445385b1169c17f68b5f",
            "afaf06a471b5498698c984bc8965fd24",
            "5aba33aa0a794bc9866d3b41360ae347",
            "24d4f279d005461e811254b6a30c1f6f",
            "c93c3281a05e41d58a357f5ce05c5461",
            "e30ef284a45347e6b52c0a31e0196840",
            "661cf63c3c584ee394fcb3332f4075ac",
            "26a23e66c2a44d6abaee16d9704959d4",
            "6399c132f126481196e0f6a8a9d6b452",
            "381bca0ad9f74c8195acf1cf14f4bcaf",
            "016affdd0d714309964177eae5c9232e",
            "6e456fa69c1740dc910e85c8be5e0ebf",
            "135d6ef694424434b4b88a4d396b6a0a",
            "cae311640ba94b1aaf1e0ab411e51c59",
            "1565a04654044e64b3ec5fb322e1f79a",
            "2b26b42828164b898cba2f5da1cd5404",
            "0f6a930c2d5f49b4a90e744eb266de19",
            "0cfa4441ccba4c04812d497a2f8d1aeb",
            "82a3ae3acd1f4784b570d68146a3d691",
            "703b87a2a8d44fa183f84a06264d758e",
            "fb11ad69d3ac4b59bb4fd7d82ae76a44",
            "994a734b047d430f9681aa668a379ba4",
            "f043fb5bc57f417d9baadc305c05f214",
            "7f1fcf95fedb4f4385ccf848216933a7",
            "6679d3aaf3d540b0807469327a3268d2",
            "d36b648e858f4088a310fe5b32079644",
            "3153efc88c2f455994509112fd4047cf",
            "89990fa1a73348a2acf4865a4b822881",
            "2196be61d482474db52065a9fdb023d1",
            "ba752dfefa8647e8879154c088b97eff",
            "f87349c6ea8542a9b1d2033c89ba553d",
            "f3bc70cbe95f44e68969354d79850231",
            "8ce9ec2cd1ef4038acecd2725a236182",
            "017df17690c342bd879a073297d70aa6",
            "cd1ab7fc05374f89a992a8580b3bae2d",
            "c781e7a385a34be5b39adb780d47d542",
            "f31fc403cf754e3ebce5dbde6516cfeb",
            "ed8d33b85652436898e93ec74c3efcb6",
            "aa92b1ddd728498db3f752b224978a9d",
            "51f5807c8a0549c080501bb025bbf941",
            "322599c7340945bb9e75ac88341ba076",
            "059e1cfebc564383bed69534317c8d02",
            "3ed70b0f833a41fb8ce33019f6e7559b",
            "8c5910b81e7c4a228a9110fbbe17f54c",
            "d8169adf63504883bee8d3834b15fbd4",
            "1a04d5e5995349f5bd4ed47e0e3ccde1",
            "da87f13f380e495eac1253df25d33ede",
            "de748dae834b49c9a1a682d6aeeb0d49",
            "ec890bde167e45788615ae02f00bd228",
            "6e3076c647ab4658bc18bddd7310c0aa",
            "32958a820d024ad9bf48d21df558e3e5",
            "6f29af9a967242e0b50ae09c65c283ad",
            "2f87716c3a0a4a9db00e41b5f36eb1bd",
            "b1ee47b1a37645409742224b3a17921b",
            "56ef158cfef14d579c909ad77eff40ad",
            "222c7d889c2a422e8f58b61a93fa0588",
            "6e9167febfbd413a895414fbf4664741",
            "4a435ded7f5645b19e5a27a2f7c386e7",
            "087c4d44c29949608274eca623a58a07",
            "b1b76d2766db4fb8b182f2642956d3b6",
            "b3f7c204c8bb43ae966ca80704b59d45",
            "0d2dc11b9eed47eab549873ee475b1fc",
            "205401e23f9a4d6ebdee1f60dadf9ba9",
            "9e4922c7583e443b8b5771bb7fba2c4d",
            "545389e4672b43bf8a82fec6196475cb",
            "7ddd49ed04644e3d9d10a19cda7b61d5",
            "f6ba5bf45275441da52bf0f3379b6b60",
            "bd915d82c7524d62bc3e3d94cf0593e2",
            "e422a37271ee45089506a33f62c66269",
            "e70946641d1143ebbe6039591ac18595",
            "61c307cd470b4b9b94b45bbf51135fc4",
            "01ef27ff263740eda9387dd92277220a",
            "4dae4fb2546b4607988b35d47beaf6df",
            "163ce25a1e914ec2a2d47e2249399e9d",
            "25a70eb9c0eb4eddb000172d9fa210d3",
            "3fe1e5add66f4984acb2f2ffaf483474",
            "cb0661eb713b4ac1ac4b383b5c5edafd",
            "907499fdfd3c481797cd6efd7fcf7555",
            "fbd0cec4822b4e7584cf52dbce88d7a4",
            "1628636ed0164b05adf88b3504d9772b",
            "e785b2b6aab444ea878f883a6bc24af4",
            "d8ed219beb0d446b9ed1447c808fadf0",
            "ed108009b1fd4a5d892ce30d37ef54a1",
            "d4bd0e231ff041e184ad6838e8a4e947",
            "9fbd401723a342769b819e38fcff668e",
            "fd287d1e0e2445aa87767f1eb8f01e16",
            "088a1cef51954ff0b49374c1b63a4da2",
            "c4bfa770f58042b3846c09ead37bd035"
          ]
        }
      },
      "outputs": [
        {
          "output_type": "display_data",
          "data": {
            "text/plain": [
              "Downloading (…)lve/main/config.json:   0%|          | 0.00/4.19k [00:00<?, ?B/s]"
            ],
            "application/vnd.jupyter.widget-view+json": {
              "version_major": 2,
              "version_minor": 0,
              "model_id": "495c08c1e45d445385b1169c17f68b5f"
            }
          },
          "metadata": {}
        },
        {
          "output_type": "display_data",
          "data": {
            "text/plain": [
              "Downloading tf_model.h5:   0%|          | 0.00/606M [00:00<?, ?B/s]"
            ],
            "application/vnd.jupyter.widget-view+json": {
              "version_major": 2,
              "version_minor": 0,
              "model_id": "6e456fa69c1740dc910e85c8be5e0ebf"
            }
          },
          "metadata": {}
        },
        {
          "output_type": "stream",
          "name": "stderr",
          "text": [
            "All model checkpoint layers were used when initializing TFCLIPModel.\n",
            "\n",
            "All the layers of TFCLIPModel were initialized from the model checkpoint at openai/clip-vit-base-patch32.\n",
            "If your task is similar to the task the model of the checkpoint was trained on, you can already use TFCLIPModel for predictions without further training.\n"
          ]
        },
        {
          "output_type": "display_data",
          "data": {
            "text/plain": [
              "Downloading (…)rocessor_config.json:   0%|          | 0.00/316 [00:00<?, ?B/s]"
            ],
            "application/vnd.jupyter.widget-view+json": {
              "version_major": 2,
              "version_minor": 0,
              "model_id": "f043fb5bc57f417d9baadc305c05f214"
            }
          },
          "metadata": {}
        },
        {
          "output_type": "display_data",
          "data": {
            "text/plain": [
              "Downloading (…)okenizer_config.json:   0%|          | 0.00/568 [00:00<?, ?B/s]"
            ],
            "application/vnd.jupyter.widget-view+json": {
              "version_major": 2,
              "version_minor": 0,
              "model_id": "017df17690c342bd879a073297d70aa6"
            }
          },
          "metadata": {}
        },
        {
          "output_type": "display_data",
          "data": {
            "text/plain": [
              "Downloading (…)olve/main/vocab.json:   0%|          | 0.00/862k [00:00<?, ?B/s]"
            ],
            "application/vnd.jupyter.widget-view+json": {
              "version_major": 2,
              "version_minor": 0,
              "model_id": "d8169adf63504883bee8d3834b15fbd4"
            }
          },
          "metadata": {}
        },
        {
          "output_type": "display_data",
          "data": {
            "text/plain": [
              "Downloading (…)olve/main/merges.txt:   0%|          | 0.00/525k [00:00<?, ?B/s]"
            ],
            "application/vnd.jupyter.widget-view+json": {
              "version_major": 2,
              "version_minor": 0,
              "model_id": "222c7d889c2a422e8f58b61a93fa0588"
            }
          },
          "metadata": {}
        },
        {
          "output_type": "display_data",
          "data": {
            "text/plain": [
              "Downloading (…)/main/tokenizer.json:   0%|          | 0.00/2.22M [00:00<?, ?B/s]"
            ],
            "application/vnd.jupyter.widget-view+json": {
              "version_major": 2,
              "version_minor": 0,
              "model_id": "f6ba5bf45275441da52bf0f3379b6b60"
            }
          },
          "metadata": {}
        },
        {
          "output_type": "display_data",
          "data": {
            "text/plain": [
              "Downloading (…)cial_tokens_map.json:   0%|          | 0.00/389 [00:00<?, ?B/s]"
            ],
            "application/vnd.jupyter.widget-view+json": {
              "version_major": 2,
              "version_minor": 0,
              "model_id": "907499fdfd3c481797cd6efd7fcf7555"
            }
          },
          "metadata": {}
        }
      ],
      "source": [
        "model = TFCLIPModel.from_pretrained(\"openai/clip-vit-base-patch32\")\n",
        "processor = CLIPProcessor.from_pretrained(\"openai/clip-vit-base-patch32\")"
      ]
    },
    {
      "cell_type": "markdown",
      "id": "a29807e0",
      "metadata": {
        "id": "a29807e0"
      },
      "source": [
        "Now let's begin our experiment.  We're going select two images that contain both zebras and cars.  They may contain other things as well.  We're also going to generate a set of captions that we will score.  Specifically, we'll pass the output for the captions through a softmax to give us a probability distribution over the four captions."
      ]
    },
    {
      "cell_type": "code",
      "execution_count": 22,
      "id": "4872c37f",
      "metadata": {
        "id": "4872c37f",
        "outputId": "f13253b2-d394-4d16-aef1-affe1a29c1e7",
        "colab": {
          "base_uri": "https://localhost:8080/"
        }
      },
      "outputs": [
        {
          "output_type": "stream",
          "name": "stdout",
          "text": [
            "\n",
            "https://farm1.staticflickr.com/9/15631288_605abb3096_z.jpg\n",
            "                         a photo of cars - 0.0020\n",
            "                    a photo of a giraffe - 0.0864\n",
            "            a photo of zebras in a field - 0.0219\n",
            "         a photo of some zebras and cars - 0.8898\n",
            "\n",
            "https://farm4.staticflickr.com/3057/3033996041_11293469b7_z.jpg\n",
            "                         a photo of cars - 0.0000\n",
            "                    a photo of a giraffe - 0.0000\n",
            "            a photo of zebras in a field - 0.9740\n",
            "         a photo of some zebras and cars - 0.0259\n"
          ]
        }
      ],
      "source": [
        "# Example tags: animal = zebra, transport = car\n",
        "\n",
        "urls = [\"https://farm1.staticflickr.com/9/15631288_605abb3096_z.jpg\", #zebras foreground, cars background\n",
        "        \"https://farm4.staticflickr.com/3057/3033996041_11293469b7_z.jpg\"]  #zebra foreground, tiny car background\n",
        "captions = [\"a photo of cars\",\n",
        "            \"a photo of a giraffe\",\n",
        "            \"a photo of zebras in a field\",\n",
        "            \"a photo of some zebras and cars\"]\n",
        "\n",
        "for url in urls:\n",
        "    image = Image.open(requests.get(url, stream=True).raw)\n",
        "\n",
        "    inputs = processor(\n",
        "        text=captions, images=image, return_tensors=\"tf\", padding=True\n",
        "    )\n",
        "\n",
        "    outputs = model(**inputs)\n",
        "    logits_per_image = outputs.logits_per_image  # this is the image-text similarity score\n",
        "    probs = tf.nn.softmax(logits_per_image, axis=1)  # we can take the softmax to get the label probabilities\n",
        "    \n",
        "    print()\n",
        "    print(url)\n",
        "    for i, caption in enumerate(captions):\n",
        "        print('%40s - %.4f' % (caption, probs[0, i]))"
      ]
    },
    {
      "cell_type": "markdown",
      "id": "3c92df88",
      "metadata": {
        "id": "3c92df88"
      },
      "source": [
        "**The CLIP embeddings allow us to associate captions with images.**  Specifically, we can build a classifier that assigns probabilities to each of the captions.  We want **the highest probability to go to the most descriptive caption** out of the four captions for the given image.  Notice here that even though both images contain zebras, one of them features a line of clearly visible cars.  The other image only has one small car off in the distance.  Note that the first image with the cars scores high for the caption of ```a photo of some zebras and cars``` because the zebras and cars are very visible.  The second image scores highest for ```a photo of zebras in a field``` but the small car is less noticed but scores above a zero."
      ]
    },
    {
      "cell_type": "code",
      "execution_count": 19,
      "id": "b6782f6e",
      "metadata": {
        "id": "b6782f6e",
        "outputId": "c0fddbc3-acc5-4353-8c6a-83313365c644",
        "colab": {
          "base_uri": "https://localhost:8080/"
        }
      },
      "outputs": [
        {
          "output_type": "stream",
          "name": "stdout",
          "text": [
            "\n",
            "http://farm1.staticflickr.com/8/10896131_6a184b48cb_z.jpg\n",
            "                        a photo of a dog - 0.0002\n",
            "        a photo of some dogs in a basket - 0.0454\n",
            "                       a photo of a bike - 0.0008\n",
            "        a photo of some dogs with a bike - 0.9536\n",
            "\n",
            "http://farm4.staticflickr.com/3082/2797293301_dd26fd613f_z.jpg\n",
            "                        a photo of a dog - 0.0007\n",
            "        a photo of some dogs in a basket - 0.0001\n",
            "                       a photo of a bike - 0.9527\n",
            "        a photo of some dogs with a bike - 0.0465\n"
          ]
        }
      ],
      "source": [
        "# Example tags: two dogs in bike, human bike tiny dog\n",
        "\n",
        "urls = [\"http://farm1.staticflickr.com/8/10896131_6a184b48cb_z.jpg\",  #2 dogs in bike basket\n",
        "        \"http://farm4.staticflickr.com/3082/2797293301_dd26fd613f_z.jpg\"] #human and bike with tiny dog\n",
        "captions = [\"a photo of a dog\",\n",
        "            \"a photo of some dogs in a basket\",\n",
        "            \"a photo of a bike\",\n",
        "            \"a photo of some dogs with a bike\"]\n",
        "\n",
        "for url in urls:\n",
        "    image = Image.open(requests.get(url, stream=True).raw)\n",
        "\n",
        "    inputs = processor(\n",
        "        text=captions, images=image, return_tensors=\"tf\", padding=True\n",
        "    )\n",
        "\n",
        "    outputs = model(**inputs)\n",
        "    logits_per_image = outputs.logits_per_image  # this is the image-text similarity score\n",
        "    probs = tf.nn.softmax(logits_per_image, axis=1)  # we can take the softmax to get the label probabilities\n",
        "    \n",
        "    print()\n",
        "    print(url)\n",
        "    for i, caption in enumerate(captions):\n",
        "        print('%40s - %.4f' % (caption, probs[0, i]))"
      ]
    },
    {
      "cell_type": "markdown",
      "id": "1382c2e1",
      "metadata": {
        "id": "1382c2e1"
      },
      "source": [
        "Again, these two images both contain bicycles and dogs.  The first image is two dogs in a basket on the front of a bike.  While the bike is visible, the two dogs are the focus of the image.  The second image features a person with their bike.  The bike happens to contain a small dog.  We would expect the embeddings to reflect the different emphases of the photos and indeed they do."
      ]
    },
    {
      "cell_type": "code",
      "execution_count": 20,
      "id": "f68063f8",
      "metadata": {
        "id": "f68063f8",
        "outputId": "9a745d76-64bf-4fe6-99bf-f9092d8e7c83",
        "colab": {
          "base_uri": "https://localhost:8080/"
        }
      },
      "outputs": [
        {
          "output_type": "stream",
          "name": "stdout",
          "text": [
            "\n",
            "http://farm1.staticflickr.com/124/405495389_d4316b1224_z.jpg\n",
            "                        a photo of a dog - 0.9986\n",
            "                  a photo of a motorbike - 0.0003\n",
            "                      a photo of a plane - 0.0011\n",
            "                   a photo of some bikes - 0.0000\n",
            "\n",
            "http://farm8.staticflickr.com/7194/6991675037_3c298541c0_z.jpg\n",
            "                        a photo of a dog - 0.0013\n",
            "                  a photo of a motorbike - 0.8968\n",
            "                      a photo of a plane - 0.0000\n",
            "                   a photo of some bikes - 0.1018\n"
          ]
        }
      ],
      "source": [
        "# Example tags: animal = dog, transport = bike\n",
        "\n",
        "urls = [\"http://farm1.staticflickr.com/124/405495389_d4316b1224_z.jpg\",   #dog foreground and tiny bikes background\n",
        "        \"http://farm8.staticflickr.com/7194/6991675037_3c298541c0_z.jpg\"] #motorbike foreground, many bikes and tiny dog background\n",
        "captions = [\"a photo of a dog\",\n",
        "            \"a photo of a motorbike\",\n",
        "            \"a photo of a plane\",\n",
        "            \"a photo of some bikes\"]\n",
        "\n",
        "for url in urls:\n",
        "    image = Image.open(requests.get(url, stream=True).raw)\n",
        "\n",
        "    inputs = processor(\n",
        "        text=captions, images=image, return_tensors=\"tf\", padding=True\n",
        "    )\n",
        "\n",
        "    outputs = model(**inputs)\n",
        "    logits_per_image = outputs.logits_per_image  # this is the image-text similarity score\n",
        "    probs = tf.nn.softmax(logits_per_image, axis=1)  # we can take the softmax to get the label probabilities\n",
        "    \n",
        "    print()\n",
        "    print(url)\n",
        "    for i, caption in enumerate(captions):\n",
        "        print('%40s - %.4f' % (caption, probs[0, i]))"
      ]
    },
    {
      "cell_type": "markdown",
      "id": "430f2a77",
      "metadata": {
        "id": "430f2a77"
      },
      "source": [
        "For the third example, the first image includes a dog in the foreground and a number of small bikes in the distant background.  You can look at the annotations associated with the image to see where these objects are located. The second image includes a motorbike/motorcycle in the the foreground but a number of bikes and a tiny dog in the background.  Again we're hand crafting these captions to include the items in the image but we want the score for the caption to reflect what's in the foreground of the image.  "
      ]
    },
    {
      "cell_type": "markdown",
      "id": "8ab2392f",
      "metadata": {
        "id": "8ab2392f"
      },
      "source": [
        "Now it is your turn.  You will essentially replicate the examples above but you will do it with images **you** select.  First you need to select *two* images for processing. Go to [the COCO Explorer](https://cocodataset.org/#explore), click on two tag icons: an animal (see icon column of animals) and a mode of transportation (see icon column of ), and search. (You pick which; you might have to try a few combinations until you get multiple image results.)\n",
        "\n",
        "Find two different images that each contain your animal and your mode of transportation.  It's okay if they contain other things as well.  If you click on the URL icon above each image, you'll see a link to the annotated image and the original (unlabeled) image. Put the original image link in the code cell below *your image 1 url* and *your image 2 url*, then create four captions that mention only one of the objects each vs both objects together. You can see the captions we created for the three examples above.  The goal is to get probabilities above 0.85 for the caption that best describes the first image and the caption that best describes the second image.\n",
        "\n",
        "As in the examples above, you must find a pair of images with the same two objects tagged in them, but which get different results for which caption has the highest probability according to the CLIP model.\n",
        "\n",
        "Note which object tags you used, and give a brief explanation of what looks different about the two images that you think made them get different CLIP results for the most likely caption.  Enter that explanation in the cell below.  You **do not need to enter it in the answers sheet**.  Just leave it in the notebook that you submit. "
      ]
    },
    {
      "cell_type": "code",
      "execution_count": 36,
      "id": "c215b679",
      "metadata": {
        "id": "c215b679",
        "outputId": "b6fec110-be04-467f-cba3-c047cfc6fa20",
        "colab": {
          "base_uri": "https://localhost:8080/"
        }
      },
      "outputs": [
        {
          "output_type": "stream",
          "name": "stdout",
          "text": [
            "\n",
            "https://farm1.staticflickr.com/85/271255436_e465c41848_z.jpg\n",
            "a cat sitting on a chair and staring at the VCR - 0.2419\n",
            "one cat sitting on a chair and staring at the VCR. Another cat sitting on the floor - 0.7580\n",
            "          a motorbike parked on the hill - 0.0000\n",
            "                      a motorbike parked - 0.0000\n",
            "\n",
            "http://farm4.staticflickr.com/3303/3578484602_0dd41ea9f8_z.jpg\n",
            "a cat sitting on a chair and staring at the VCR - 0.0000\n",
            "one cat sitting on a chair and staring at the VCR. Another cat sitting on the floor - 0.0000\n",
            "          a motorbike parked on the hill - 0.9865\n",
            "                      a motorbike parked - 0.0135\n"
          ]
        }
      ],
      "source": [
        "# Example tags: animal = cat, transportation = motobike\n",
        "\n",
        "urls = [\"https://farm1.staticflickr.com/85/271255436_e465c41848_z.jpg\",   # a cat\n",
        "        \"http://farm4.staticflickr.com/3303/3578484602_0dd41ea9f8_z.jpg\"] # a motobike\n",
        "captions = [\"a cat sitting on a chair and staring at the VCR\",\n",
        "            \"one cat sitting on a chair and staring at the VCR. Another cat sitting on the floor\",\n",
        "            \"a motorbike parked on the hill\",\n",
        "            \"a motorbike parked\"]\n",
        "\n",
        "for url in urls:\n",
        "    image = Image.open(requests.get(url, stream=True).raw)\n",
        "\n",
        "    inputs = processor(\n",
        "        text=captions, images=image, return_tensors=\"tf\", padding=True\n",
        "    )\n",
        "\n",
        "    outputs = model(**inputs)\n",
        "    logits_per_image = outputs.logits_per_image  # this is the image-text similarity score\n",
        "    probs = tf.nn.softmax(logits_per_image, axis=1)  # we can take the softmax to get the label probabilities\n",
        "    \n",
        "    print()\n",
        "    print(url)\n",
        "    for i, caption in enumerate(captions):\n",
        "        print('%40s - %.4f' % (caption, probs[0, i]))"
      ]
    },
    {
      "cell_type": "markdown",
      "id": "0867bdf4",
      "metadata": {
        "id": "0867bdf4"
      },
      "source": [
        "### Questions (Part D)\n",
        "\n",
        "1. What is the animal tag you selected? **cat**\n",
        "\n",
        "2. What is the transportation tag you selected? **motobike**\n",
        "\n",
        "3. What is the probability associated with the most likely caption for image 1? **0.7580**\n",
        "\n",
        "4. What is the probability associated with the most likely caption for image 2? **0.9865**\n",
        "\n",
        "**(Answer 5 below but do NOT enter your sentences in the answers file)**\n",
        "\n",
        "5. Why do you think the differences between your two images are reflected in the 4 captions you produced.  "
      ]
    },
    {
      "cell_type": "markdown",
      "id": "1aeeb910",
      "metadata": {
        "id": "1aeeb910"
      },
      "source": [
        "Please answer in two to four sentences right here: \n",
        "\n",
        "*The first image includes two cats - a cat sitting in a chair and staring at VCR in a room. Another one sitting on the floor. You can look at the annotation with the highest probability to see where these objects are located. The second image includes a motorcycle parked on the hill with the city view. Again, the annotation with the highest probability reflect what's parked on the hill.*"
      ]
    },
    {
      "cell_type": "markdown",
      "id": "f0eaa595",
      "metadata": {
        "id": "f0eaa595"
      },
      "source": [
        "## Yay, you're done with your 266 homework.  Now focus on your project!"
      ]
    },
    {
      "cell_type": "code",
      "execution_count": null,
      "id": "31096067",
      "metadata": {
        "id": "31096067"
      },
      "outputs": [],
      "source": []
    }
  ],
  "metadata": {
    "kernelspec": {
      "display_name": "Python 3 (ipykernel)",
      "language": "python",
      "name": "python3"
    },
    "language_info": {
      "codemirror_mode": {
        "name": "ipython",
        "version": 3
      },
      "file_extension": ".py",
      "mimetype": "text/x-python",
      "name": "python",
      "nbconvert_exporter": "python",
      "pygments_lexer": "ipython3",
      "version": "3.9.13"
    },
    "colab": {
      "provenance": [],
      "include_colab_link": true
    },
    "widgets": {
      "application/vnd.jupyter.widget-state+json": {
        "495c08c1e45d445385b1169c17f68b5f": {
          "model_module": "@jupyter-widgets/controls",
          "model_name": "HBoxModel",
          "model_module_version": "1.5.0",
          "state": {
            "_dom_classes": [],
            "_model_module": "@jupyter-widgets/controls",
            "_model_module_version": "1.5.0",
            "_model_name": "HBoxModel",
            "_view_count": null,
            "_view_module": "@jupyter-widgets/controls",
            "_view_module_version": "1.5.0",
            "_view_name": "HBoxView",
            "box_style": "",
            "children": [
              "IPY_MODEL_afaf06a471b5498698c984bc8965fd24",
              "IPY_MODEL_5aba33aa0a794bc9866d3b41360ae347",
              "IPY_MODEL_24d4f279d005461e811254b6a30c1f6f"
            ],
            "layout": "IPY_MODEL_c93c3281a05e41d58a357f5ce05c5461"
          }
        },
        "afaf06a471b5498698c984bc8965fd24": {
          "model_module": "@jupyter-widgets/controls",
          "model_name": "HTMLModel",
          "model_module_version": "1.5.0",
          "state": {
            "_dom_classes": [],
            "_model_module": "@jupyter-widgets/controls",
            "_model_module_version": "1.5.0",
            "_model_name": "HTMLModel",
            "_view_count": null,
            "_view_module": "@jupyter-widgets/controls",
            "_view_module_version": "1.5.0",
            "_view_name": "HTMLView",
            "description": "",
            "description_tooltip": null,
            "layout": "IPY_MODEL_e30ef284a45347e6b52c0a31e0196840",
            "placeholder": "​",
            "style": "IPY_MODEL_661cf63c3c584ee394fcb3332f4075ac",
            "value": "Downloading (…)lve/main/config.json: 100%"
          }
        },
        "5aba33aa0a794bc9866d3b41360ae347": {
          "model_module": "@jupyter-widgets/controls",
          "model_name": "FloatProgressModel",
          "model_module_version": "1.5.0",
          "state": {
            "_dom_classes": [],
            "_model_module": "@jupyter-widgets/controls",
            "_model_module_version": "1.5.0",
            "_model_name": "FloatProgressModel",
            "_view_count": null,
            "_view_module": "@jupyter-widgets/controls",
            "_view_module_version": "1.5.0",
            "_view_name": "ProgressView",
            "bar_style": "success",
            "description": "",
            "description_tooltip": null,
            "layout": "IPY_MODEL_26a23e66c2a44d6abaee16d9704959d4",
            "max": 4186,
            "min": 0,
            "orientation": "horizontal",
            "style": "IPY_MODEL_6399c132f126481196e0f6a8a9d6b452",
            "value": 4186
          }
        },
        "24d4f279d005461e811254b6a30c1f6f": {
          "model_module": "@jupyter-widgets/controls",
          "model_name": "HTMLModel",
          "model_module_version": "1.5.0",
          "state": {
            "_dom_classes": [],
            "_model_module": "@jupyter-widgets/controls",
            "_model_module_version": "1.5.0",
            "_model_name": "HTMLModel",
            "_view_count": null,
            "_view_module": "@jupyter-widgets/controls",
            "_view_module_version": "1.5.0",
            "_view_name": "HTMLView",
            "description": "",
            "description_tooltip": null,
            "layout": "IPY_MODEL_381bca0ad9f74c8195acf1cf14f4bcaf",
            "placeholder": "​",
            "style": "IPY_MODEL_016affdd0d714309964177eae5c9232e",
            "value": " 4.19k/4.19k [00:00&lt;00:00, 118kB/s]"
          }
        },
        "c93c3281a05e41d58a357f5ce05c5461": {
          "model_module": "@jupyter-widgets/base",
          "model_name": "LayoutModel",
          "model_module_version": "1.2.0",
          "state": {
            "_model_module": "@jupyter-widgets/base",
            "_model_module_version": "1.2.0",
            "_model_name": "LayoutModel",
            "_view_count": null,
            "_view_module": "@jupyter-widgets/base",
            "_view_module_version": "1.2.0",
            "_view_name": "LayoutView",
            "align_content": null,
            "align_items": null,
            "align_self": null,
            "border": null,
            "bottom": null,
            "display": null,
            "flex": null,
            "flex_flow": null,
            "grid_area": null,
            "grid_auto_columns": null,
            "grid_auto_flow": null,
            "grid_auto_rows": null,
            "grid_column": null,
            "grid_gap": null,
            "grid_row": null,
            "grid_template_areas": null,
            "grid_template_columns": null,
            "grid_template_rows": null,
            "height": null,
            "justify_content": null,
            "justify_items": null,
            "left": null,
            "margin": null,
            "max_height": null,
            "max_width": null,
            "min_height": null,
            "min_width": null,
            "object_fit": null,
            "object_position": null,
            "order": null,
            "overflow": null,
            "overflow_x": null,
            "overflow_y": null,
            "padding": null,
            "right": null,
            "top": null,
            "visibility": null,
            "width": null
          }
        },
        "e30ef284a45347e6b52c0a31e0196840": {
          "model_module": "@jupyter-widgets/base",
          "model_name": "LayoutModel",
          "model_module_version": "1.2.0",
          "state": {
            "_model_module": "@jupyter-widgets/base",
            "_model_module_version": "1.2.0",
            "_model_name": "LayoutModel",
            "_view_count": null,
            "_view_module": "@jupyter-widgets/base",
            "_view_module_version": "1.2.0",
            "_view_name": "LayoutView",
            "align_content": null,
            "align_items": null,
            "align_self": null,
            "border": null,
            "bottom": null,
            "display": null,
            "flex": null,
            "flex_flow": null,
            "grid_area": null,
            "grid_auto_columns": null,
            "grid_auto_flow": null,
            "grid_auto_rows": null,
            "grid_column": null,
            "grid_gap": null,
            "grid_row": null,
            "grid_template_areas": null,
            "grid_template_columns": null,
            "grid_template_rows": null,
            "height": null,
            "justify_content": null,
            "justify_items": null,
            "left": null,
            "margin": null,
            "max_height": null,
            "max_width": null,
            "min_height": null,
            "min_width": null,
            "object_fit": null,
            "object_position": null,
            "order": null,
            "overflow": null,
            "overflow_x": null,
            "overflow_y": null,
            "padding": null,
            "right": null,
            "top": null,
            "visibility": null,
            "width": null
          }
        },
        "661cf63c3c584ee394fcb3332f4075ac": {
          "model_module": "@jupyter-widgets/controls",
          "model_name": "DescriptionStyleModel",
          "model_module_version": "1.5.0",
          "state": {
            "_model_module": "@jupyter-widgets/controls",
            "_model_module_version": "1.5.0",
            "_model_name": "DescriptionStyleModel",
            "_view_count": null,
            "_view_module": "@jupyter-widgets/base",
            "_view_module_version": "1.2.0",
            "_view_name": "StyleView",
            "description_width": ""
          }
        },
        "26a23e66c2a44d6abaee16d9704959d4": {
          "model_module": "@jupyter-widgets/base",
          "model_name": "LayoutModel",
          "model_module_version": "1.2.0",
          "state": {
            "_model_module": "@jupyter-widgets/base",
            "_model_module_version": "1.2.0",
            "_model_name": "LayoutModel",
            "_view_count": null,
            "_view_module": "@jupyter-widgets/base",
            "_view_module_version": "1.2.0",
            "_view_name": "LayoutView",
            "align_content": null,
            "align_items": null,
            "align_self": null,
            "border": null,
            "bottom": null,
            "display": null,
            "flex": null,
            "flex_flow": null,
            "grid_area": null,
            "grid_auto_columns": null,
            "grid_auto_flow": null,
            "grid_auto_rows": null,
            "grid_column": null,
            "grid_gap": null,
            "grid_row": null,
            "grid_template_areas": null,
            "grid_template_columns": null,
            "grid_template_rows": null,
            "height": null,
            "justify_content": null,
            "justify_items": null,
            "left": null,
            "margin": null,
            "max_height": null,
            "max_width": null,
            "min_height": null,
            "min_width": null,
            "object_fit": null,
            "object_position": null,
            "order": null,
            "overflow": null,
            "overflow_x": null,
            "overflow_y": null,
            "padding": null,
            "right": null,
            "top": null,
            "visibility": null,
            "width": null
          }
        },
        "6399c132f126481196e0f6a8a9d6b452": {
          "model_module": "@jupyter-widgets/controls",
          "model_name": "ProgressStyleModel",
          "model_module_version": "1.5.0",
          "state": {
            "_model_module": "@jupyter-widgets/controls",
            "_model_module_version": "1.5.0",
            "_model_name": "ProgressStyleModel",
            "_view_count": null,
            "_view_module": "@jupyter-widgets/base",
            "_view_module_version": "1.2.0",
            "_view_name": "StyleView",
            "bar_color": null,
            "description_width": ""
          }
        },
        "381bca0ad9f74c8195acf1cf14f4bcaf": {
          "model_module": "@jupyter-widgets/base",
          "model_name": "LayoutModel",
          "model_module_version": "1.2.0",
          "state": {
            "_model_module": "@jupyter-widgets/base",
            "_model_module_version": "1.2.0",
            "_model_name": "LayoutModel",
            "_view_count": null,
            "_view_module": "@jupyter-widgets/base",
            "_view_module_version": "1.2.0",
            "_view_name": "LayoutView",
            "align_content": null,
            "align_items": null,
            "align_self": null,
            "border": null,
            "bottom": null,
            "display": null,
            "flex": null,
            "flex_flow": null,
            "grid_area": null,
            "grid_auto_columns": null,
            "grid_auto_flow": null,
            "grid_auto_rows": null,
            "grid_column": null,
            "grid_gap": null,
            "grid_row": null,
            "grid_template_areas": null,
            "grid_template_columns": null,
            "grid_template_rows": null,
            "height": null,
            "justify_content": null,
            "justify_items": null,
            "left": null,
            "margin": null,
            "max_height": null,
            "max_width": null,
            "min_height": null,
            "min_width": null,
            "object_fit": null,
            "object_position": null,
            "order": null,
            "overflow": null,
            "overflow_x": null,
            "overflow_y": null,
            "padding": null,
            "right": null,
            "top": null,
            "visibility": null,
            "width": null
          }
        },
        "016affdd0d714309964177eae5c9232e": {
          "model_module": "@jupyter-widgets/controls",
          "model_name": "DescriptionStyleModel",
          "model_module_version": "1.5.0",
          "state": {
            "_model_module": "@jupyter-widgets/controls",
            "_model_module_version": "1.5.0",
            "_model_name": "DescriptionStyleModel",
            "_view_count": null,
            "_view_module": "@jupyter-widgets/base",
            "_view_module_version": "1.2.0",
            "_view_name": "StyleView",
            "description_width": ""
          }
        },
        "6e456fa69c1740dc910e85c8be5e0ebf": {
          "model_module": "@jupyter-widgets/controls",
          "model_name": "HBoxModel",
          "model_module_version": "1.5.0",
          "state": {
            "_dom_classes": [],
            "_model_module": "@jupyter-widgets/controls",
            "_model_module_version": "1.5.0",
            "_model_name": "HBoxModel",
            "_view_count": null,
            "_view_module": "@jupyter-widgets/controls",
            "_view_module_version": "1.5.0",
            "_view_name": "HBoxView",
            "box_style": "",
            "children": [
              "IPY_MODEL_135d6ef694424434b4b88a4d396b6a0a",
              "IPY_MODEL_cae311640ba94b1aaf1e0ab411e51c59",
              "IPY_MODEL_1565a04654044e64b3ec5fb322e1f79a"
            ],
            "layout": "IPY_MODEL_2b26b42828164b898cba2f5da1cd5404"
          }
        },
        "135d6ef694424434b4b88a4d396b6a0a": {
          "model_module": "@jupyter-widgets/controls",
          "model_name": "HTMLModel",
          "model_module_version": "1.5.0",
          "state": {
            "_dom_classes": [],
            "_model_module": "@jupyter-widgets/controls",
            "_model_module_version": "1.5.0",
            "_model_name": "HTMLModel",
            "_view_count": null,
            "_view_module": "@jupyter-widgets/controls",
            "_view_module_version": "1.5.0",
            "_view_name": "HTMLView",
            "description": "",
            "description_tooltip": null,
            "layout": "IPY_MODEL_0f6a930c2d5f49b4a90e744eb266de19",
            "placeholder": "​",
            "style": "IPY_MODEL_0cfa4441ccba4c04812d497a2f8d1aeb",
            "value": "Downloading tf_model.h5: 100%"
          }
        },
        "cae311640ba94b1aaf1e0ab411e51c59": {
          "model_module": "@jupyter-widgets/controls",
          "model_name": "FloatProgressModel",
          "model_module_version": "1.5.0",
          "state": {
            "_dom_classes": [],
            "_model_module": "@jupyter-widgets/controls",
            "_model_module_version": "1.5.0",
            "_model_name": "FloatProgressModel",
            "_view_count": null,
            "_view_module": "@jupyter-widgets/controls",
            "_view_module_version": "1.5.0",
            "_view_name": "ProgressView",
            "bar_style": "success",
            "description": "",
            "description_tooltip": null,
            "layout": "IPY_MODEL_82a3ae3acd1f4784b570d68146a3d691",
            "max": 605551040,
            "min": 0,
            "orientation": "horizontal",
            "style": "IPY_MODEL_703b87a2a8d44fa183f84a06264d758e",
            "value": 605551040
          }
        },
        "1565a04654044e64b3ec5fb322e1f79a": {
          "model_module": "@jupyter-widgets/controls",
          "model_name": "HTMLModel",
          "model_module_version": "1.5.0",
          "state": {
            "_dom_classes": [],
            "_model_module": "@jupyter-widgets/controls",
            "_model_module_version": "1.5.0",
            "_model_name": "HTMLModel",
            "_view_count": null,
            "_view_module": "@jupyter-widgets/controls",
            "_view_module_version": "1.5.0",
            "_view_name": "HTMLView",
            "description": "",
            "description_tooltip": null,
            "layout": "IPY_MODEL_fb11ad69d3ac4b59bb4fd7d82ae76a44",
            "placeholder": "​",
            "style": "IPY_MODEL_994a734b047d430f9681aa668a379ba4",
            "value": " 606M/606M [00:27&lt;00:00, 22.1MB/s]"
          }
        },
        "2b26b42828164b898cba2f5da1cd5404": {
          "model_module": "@jupyter-widgets/base",
          "model_name": "LayoutModel",
          "model_module_version": "1.2.0",
          "state": {
            "_model_module": "@jupyter-widgets/base",
            "_model_module_version": "1.2.0",
            "_model_name": "LayoutModel",
            "_view_count": null,
            "_view_module": "@jupyter-widgets/base",
            "_view_module_version": "1.2.0",
            "_view_name": "LayoutView",
            "align_content": null,
            "align_items": null,
            "align_self": null,
            "border": null,
            "bottom": null,
            "display": null,
            "flex": null,
            "flex_flow": null,
            "grid_area": null,
            "grid_auto_columns": null,
            "grid_auto_flow": null,
            "grid_auto_rows": null,
            "grid_column": null,
            "grid_gap": null,
            "grid_row": null,
            "grid_template_areas": null,
            "grid_template_columns": null,
            "grid_template_rows": null,
            "height": null,
            "justify_content": null,
            "justify_items": null,
            "left": null,
            "margin": null,
            "max_height": null,
            "max_width": null,
            "min_height": null,
            "min_width": null,
            "object_fit": null,
            "object_position": null,
            "order": null,
            "overflow": null,
            "overflow_x": null,
            "overflow_y": null,
            "padding": null,
            "right": null,
            "top": null,
            "visibility": null,
            "width": null
          }
        },
        "0f6a930c2d5f49b4a90e744eb266de19": {
          "model_module": "@jupyter-widgets/base",
          "model_name": "LayoutModel",
          "model_module_version": "1.2.0",
          "state": {
            "_model_module": "@jupyter-widgets/base",
            "_model_module_version": "1.2.0",
            "_model_name": "LayoutModel",
            "_view_count": null,
            "_view_module": "@jupyter-widgets/base",
            "_view_module_version": "1.2.0",
            "_view_name": "LayoutView",
            "align_content": null,
            "align_items": null,
            "align_self": null,
            "border": null,
            "bottom": null,
            "display": null,
            "flex": null,
            "flex_flow": null,
            "grid_area": null,
            "grid_auto_columns": null,
            "grid_auto_flow": null,
            "grid_auto_rows": null,
            "grid_column": null,
            "grid_gap": null,
            "grid_row": null,
            "grid_template_areas": null,
            "grid_template_columns": null,
            "grid_template_rows": null,
            "height": null,
            "justify_content": null,
            "justify_items": null,
            "left": null,
            "margin": null,
            "max_height": null,
            "max_width": null,
            "min_height": null,
            "min_width": null,
            "object_fit": null,
            "object_position": null,
            "order": null,
            "overflow": null,
            "overflow_x": null,
            "overflow_y": null,
            "padding": null,
            "right": null,
            "top": null,
            "visibility": null,
            "width": null
          }
        },
        "0cfa4441ccba4c04812d497a2f8d1aeb": {
          "model_module": "@jupyter-widgets/controls",
          "model_name": "DescriptionStyleModel",
          "model_module_version": "1.5.0",
          "state": {
            "_model_module": "@jupyter-widgets/controls",
            "_model_module_version": "1.5.0",
            "_model_name": "DescriptionStyleModel",
            "_view_count": null,
            "_view_module": "@jupyter-widgets/base",
            "_view_module_version": "1.2.0",
            "_view_name": "StyleView",
            "description_width": ""
          }
        },
        "82a3ae3acd1f4784b570d68146a3d691": {
          "model_module": "@jupyter-widgets/base",
          "model_name": "LayoutModel",
          "model_module_version": "1.2.0",
          "state": {
            "_model_module": "@jupyter-widgets/base",
            "_model_module_version": "1.2.0",
            "_model_name": "LayoutModel",
            "_view_count": null,
            "_view_module": "@jupyter-widgets/base",
            "_view_module_version": "1.2.0",
            "_view_name": "LayoutView",
            "align_content": null,
            "align_items": null,
            "align_self": null,
            "border": null,
            "bottom": null,
            "display": null,
            "flex": null,
            "flex_flow": null,
            "grid_area": null,
            "grid_auto_columns": null,
            "grid_auto_flow": null,
            "grid_auto_rows": null,
            "grid_column": null,
            "grid_gap": null,
            "grid_row": null,
            "grid_template_areas": null,
            "grid_template_columns": null,
            "grid_template_rows": null,
            "height": null,
            "justify_content": null,
            "justify_items": null,
            "left": null,
            "margin": null,
            "max_height": null,
            "max_width": null,
            "min_height": null,
            "min_width": null,
            "object_fit": null,
            "object_position": null,
            "order": null,
            "overflow": null,
            "overflow_x": null,
            "overflow_y": null,
            "padding": null,
            "right": null,
            "top": null,
            "visibility": null,
            "width": null
          }
        },
        "703b87a2a8d44fa183f84a06264d758e": {
          "model_module": "@jupyter-widgets/controls",
          "model_name": "ProgressStyleModel",
          "model_module_version": "1.5.0",
          "state": {
            "_model_module": "@jupyter-widgets/controls",
            "_model_module_version": "1.5.0",
            "_model_name": "ProgressStyleModel",
            "_view_count": null,
            "_view_module": "@jupyter-widgets/base",
            "_view_module_version": "1.2.0",
            "_view_name": "StyleView",
            "bar_color": null,
            "description_width": ""
          }
        },
        "fb11ad69d3ac4b59bb4fd7d82ae76a44": {
          "model_module": "@jupyter-widgets/base",
          "model_name": "LayoutModel",
          "model_module_version": "1.2.0",
          "state": {
            "_model_module": "@jupyter-widgets/base",
            "_model_module_version": "1.2.0",
            "_model_name": "LayoutModel",
            "_view_count": null,
            "_view_module": "@jupyter-widgets/base",
            "_view_module_version": "1.2.0",
            "_view_name": "LayoutView",
            "align_content": null,
            "align_items": null,
            "align_self": null,
            "border": null,
            "bottom": null,
            "display": null,
            "flex": null,
            "flex_flow": null,
            "grid_area": null,
            "grid_auto_columns": null,
            "grid_auto_flow": null,
            "grid_auto_rows": null,
            "grid_column": null,
            "grid_gap": null,
            "grid_row": null,
            "grid_template_areas": null,
            "grid_template_columns": null,
            "grid_template_rows": null,
            "height": null,
            "justify_content": null,
            "justify_items": null,
            "left": null,
            "margin": null,
            "max_height": null,
            "max_width": null,
            "min_height": null,
            "min_width": null,
            "object_fit": null,
            "object_position": null,
            "order": null,
            "overflow": null,
            "overflow_x": null,
            "overflow_y": null,
            "padding": null,
            "right": null,
            "top": null,
            "visibility": null,
            "width": null
          }
        },
        "994a734b047d430f9681aa668a379ba4": {
          "model_module": "@jupyter-widgets/controls",
          "model_name": "DescriptionStyleModel",
          "model_module_version": "1.5.0",
          "state": {
            "_model_module": "@jupyter-widgets/controls",
            "_model_module_version": "1.5.0",
            "_model_name": "DescriptionStyleModel",
            "_view_count": null,
            "_view_module": "@jupyter-widgets/base",
            "_view_module_version": "1.2.0",
            "_view_name": "StyleView",
            "description_width": ""
          }
        },
        "f043fb5bc57f417d9baadc305c05f214": {
          "model_module": "@jupyter-widgets/controls",
          "model_name": "HBoxModel",
          "model_module_version": "1.5.0",
          "state": {
            "_dom_classes": [],
            "_model_module": "@jupyter-widgets/controls",
            "_model_module_version": "1.5.0",
            "_model_name": "HBoxModel",
            "_view_count": null,
            "_view_module": "@jupyter-widgets/controls",
            "_view_module_version": "1.5.0",
            "_view_name": "HBoxView",
            "box_style": "",
            "children": [
              "IPY_MODEL_7f1fcf95fedb4f4385ccf848216933a7",
              "IPY_MODEL_6679d3aaf3d540b0807469327a3268d2",
              "IPY_MODEL_d36b648e858f4088a310fe5b32079644"
            ],
            "layout": "IPY_MODEL_3153efc88c2f455994509112fd4047cf"
          }
        },
        "7f1fcf95fedb4f4385ccf848216933a7": {
          "model_module": "@jupyter-widgets/controls",
          "model_name": "HTMLModel",
          "model_module_version": "1.5.0",
          "state": {
            "_dom_classes": [],
            "_model_module": "@jupyter-widgets/controls",
            "_model_module_version": "1.5.0",
            "_model_name": "HTMLModel",
            "_view_count": null,
            "_view_module": "@jupyter-widgets/controls",
            "_view_module_version": "1.5.0",
            "_view_name": "HTMLView",
            "description": "",
            "description_tooltip": null,
            "layout": "IPY_MODEL_89990fa1a73348a2acf4865a4b822881",
            "placeholder": "​",
            "style": "IPY_MODEL_2196be61d482474db52065a9fdb023d1",
            "value": "Downloading (…)rocessor_config.json: 100%"
          }
        },
        "6679d3aaf3d540b0807469327a3268d2": {
          "model_module": "@jupyter-widgets/controls",
          "model_name": "FloatProgressModel",
          "model_module_version": "1.5.0",
          "state": {
            "_dom_classes": [],
            "_model_module": "@jupyter-widgets/controls",
            "_model_module_version": "1.5.0",
            "_model_name": "FloatProgressModel",
            "_view_count": null,
            "_view_module": "@jupyter-widgets/controls",
            "_view_module_version": "1.5.0",
            "_view_name": "ProgressView",
            "bar_style": "success",
            "description": "",
            "description_tooltip": null,
            "layout": "IPY_MODEL_ba752dfefa8647e8879154c088b97eff",
            "max": 316,
            "min": 0,
            "orientation": "horizontal",
            "style": "IPY_MODEL_f87349c6ea8542a9b1d2033c89ba553d",
            "value": 316
          }
        },
        "d36b648e858f4088a310fe5b32079644": {
          "model_module": "@jupyter-widgets/controls",
          "model_name": "HTMLModel",
          "model_module_version": "1.5.0",
          "state": {
            "_dom_classes": [],
            "_model_module": "@jupyter-widgets/controls",
            "_model_module_version": "1.5.0",
            "_model_name": "HTMLModel",
            "_view_count": null,
            "_view_module": "@jupyter-widgets/controls",
            "_view_module_version": "1.5.0",
            "_view_name": "HTMLView",
            "description": "",
            "description_tooltip": null,
            "layout": "IPY_MODEL_f3bc70cbe95f44e68969354d79850231",
            "placeholder": "​",
            "style": "IPY_MODEL_8ce9ec2cd1ef4038acecd2725a236182",
            "value": " 316/316 [00:00&lt;00:00, 11.4kB/s]"
          }
        },
        "3153efc88c2f455994509112fd4047cf": {
          "model_module": "@jupyter-widgets/base",
          "model_name": "LayoutModel",
          "model_module_version": "1.2.0",
          "state": {
            "_model_module": "@jupyter-widgets/base",
            "_model_module_version": "1.2.0",
            "_model_name": "LayoutModel",
            "_view_count": null,
            "_view_module": "@jupyter-widgets/base",
            "_view_module_version": "1.2.0",
            "_view_name": "LayoutView",
            "align_content": null,
            "align_items": null,
            "align_self": null,
            "border": null,
            "bottom": null,
            "display": null,
            "flex": null,
            "flex_flow": null,
            "grid_area": null,
            "grid_auto_columns": null,
            "grid_auto_flow": null,
            "grid_auto_rows": null,
            "grid_column": null,
            "grid_gap": null,
            "grid_row": null,
            "grid_template_areas": null,
            "grid_template_columns": null,
            "grid_template_rows": null,
            "height": null,
            "justify_content": null,
            "justify_items": null,
            "left": null,
            "margin": null,
            "max_height": null,
            "max_width": null,
            "min_height": null,
            "min_width": null,
            "object_fit": null,
            "object_position": null,
            "order": null,
            "overflow": null,
            "overflow_x": null,
            "overflow_y": null,
            "padding": null,
            "right": null,
            "top": null,
            "visibility": null,
            "width": null
          }
        },
        "89990fa1a73348a2acf4865a4b822881": {
          "model_module": "@jupyter-widgets/base",
          "model_name": "LayoutModel",
          "model_module_version": "1.2.0",
          "state": {
            "_model_module": "@jupyter-widgets/base",
            "_model_module_version": "1.2.0",
            "_model_name": "LayoutModel",
            "_view_count": null,
            "_view_module": "@jupyter-widgets/base",
            "_view_module_version": "1.2.0",
            "_view_name": "LayoutView",
            "align_content": null,
            "align_items": null,
            "align_self": null,
            "border": null,
            "bottom": null,
            "display": null,
            "flex": null,
            "flex_flow": null,
            "grid_area": null,
            "grid_auto_columns": null,
            "grid_auto_flow": null,
            "grid_auto_rows": null,
            "grid_column": null,
            "grid_gap": null,
            "grid_row": null,
            "grid_template_areas": null,
            "grid_template_columns": null,
            "grid_template_rows": null,
            "height": null,
            "justify_content": null,
            "justify_items": null,
            "left": null,
            "margin": null,
            "max_height": null,
            "max_width": null,
            "min_height": null,
            "min_width": null,
            "object_fit": null,
            "object_position": null,
            "order": null,
            "overflow": null,
            "overflow_x": null,
            "overflow_y": null,
            "padding": null,
            "right": null,
            "top": null,
            "visibility": null,
            "width": null
          }
        },
        "2196be61d482474db52065a9fdb023d1": {
          "model_module": "@jupyter-widgets/controls",
          "model_name": "DescriptionStyleModel",
          "model_module_version": "1.5.0",
          "state": {
            "_model_module": "@jupyter-widgets/controls",
            "_model_module_version": "1.5.0",
            "_model_name": "DescriptionStyleModel",
            "_view_count": null,
            "_view_module": "@jupyter-widgets/base",
            "_view_module_version": "1.2.0",
            "_view_name": "StyleView",
            "description_width": ""
          }
        },
        "ba752dfefa8647e8879154c088b97eff": {
          "model_module": "@jupyter-widgets/base",
          "model_name": "LayoutModel",
          "model_module_version": "1.2.0",
          "state": {
            "_model_module": "@jupyter-widgets/base",
            "_model_module_version": "1.2.0",
            "_model_name": "LayoutModel",
            "_view_count": null,
            "_view_module": "@jupyter-widgets/base",
            "_view_module_version": "1.2.0",
            "_view_name": "LayoutView",
            "align_content": null,
            "align_items": null,
            "align_self": null,
            "border": null,
            "bottom": null,
            "display": null,
            "flex": null,
            "flex_flow": null,
            "grid_area": null,
            "grid_auto_columns": null,
            "grid_auto_flow": null,
            "grid_auto_rows": null,
            "grid_column": null,
            "grid_gap": null,
            "grid_row": null,
            "grid_template_areas": null,
            "grid_template_columns": null,
            "grid_template_rows": null,
            "height": null,
            "justify_content": null,
            "justify_items": null,
            "left": null,
            "margin": null,
            "max_height": null,
            "max_width": null,
            "min_height": null,
            "min_width": null,
            "object_fit": null,
            "object_position": null,
            "order": null,
            "overflow": null,
            "overflow_x": null,
            "overflow_y": null,
            "padding": null,
            "right": null,
            "top": null,
            "visibility": null,
            "width": null
          }
        },
        "f87349c6ea8542a9b1d2033c89ba553d": {
          "model_module": "@jupyter-widgets/controls",
          "model_name": "ProgressStyleModel",
          "model_module_version": "1.5.0",
          "state": {
            "_model_module": "@jupyter-widgets/controls",
            "_model_module_version": "1.5.0",
            "_model_name": "ProgressStyleModel",
            "_view_count": null,
            "_view_module": "@jupyter-widgets/base",
            "_view_module_version": "1.2.0",
            "_view_name": "StyleView",
            "bar_color": null,
            "description_width": ""
          }
        },
        "f3bc70cbe95f44e68969354d79850231": {
          "model_module": "@jupyter-widgets/base",
          "model_name": "LayoutModel",
          "model_module_version": "1.2.0",
          "state": {
            "_model_module": "@jupyter-widgets/base",
            "_model_module_version": "1.2.0",
            "_model_name": "LayoutModel",
            "_view_count": null,
            "_view_module": "@jupyter-widgets/base",
            "_view_module_version": "1.2.0",
            "_view_name": "LayoutView",
            "align_content": null,
            "align_items": null,
            "align_self": null,
            "border": null,
            "bottom": null,
            "display": null,
            "flex": null,
            "flex_flow": null,
            "grid_area": null,
            "grid_auto_columns": null,
            "grid_auto_flow": null,
            "grid_auto_rows": null,
            "grid_column": null,
            "grid_gap": null,
            "grid_row": null,
            "grid_template_areas": null,
            "grid_template_columns": null,
            "grid_template_rows": null,
            "height": null,
            "justify_content": null,
            "justify_items": null,
            "left": null,
            "margin": null,
            "max_height": null,
            "max_width": null,
            "min_height": null,
            "min_width": null,
            "object_fit": null,
            "object_position": null,
            "order": null,
            "overflow": null,
            "overflow_x": null,
            "overflow_y": null,
            "padding": null,
            "right": null,
            "top": null,
            "visibility": null,
            "width": null
          }
        },
        "8ce9ec2cd1ef4038acecd2725a236182": {
          "model_module": "@jupyter-widgets/controls",
          "model_name": "DescriptionStyleModel",
          "model_module_version": "1.5.0",
          "state": {
            "_model_module": "@jupyter-widgets/controls",
            "_model_module_version": "1.5.0",
            "_model_name": "DescriptionStyleModel",
            "_view_count": null,
            "_view_module": "@jupyter-widgets/base",
            "_view_module_version": "1.2.0",
            "_view_name": "StyleView",
            "description_width": ""
          }
        },
        "017df17690c342bd879a073297d70aa6": {
          "model_module": "@jupyter-widgets/controls",
          "model_name": "HBoxModel",
          "model_module_version": "1.5.0",
          "state": {
            "_dom_classes": [],
            "_model_module": "@jupyter-widgets/controls",
            "_model_module_version": "1.5.0",
            "_model_name": "HBoxModel",
            "_view_count": null,
            "_view_module": "@jupyter-widgets/controls",
            "_view_module_version": "1.5.0",
            "_view_name": "HBoxView",
            "box_style": "",
            "children": [
              "IPY_MODEL_cd1ab7fc05374f89a992a8580b3bae2d",
              "IPY_MODEL_c781e7a385a34be5b39adb780d47d542",
              "IPY_MODEL_f31fc403cf754e3ebce5dbde6516cfeb"
            ],
            "layout": "IPY_MODEL_ed8d33b85652436898e93ec74c3efcb6"
          }
        },
        "cd1ab7fc05374f89a992a8580b3bae2d": {
          "model_module": "@jupyter-widgets/controls",
          "model_name": "HTMLModel",
          "model_module_version": "1.5.0",
          "state": {
            "_dom_classes": [],
            "_model_module": "@jupyter-widgets/controls",
            "_model_module_version": "1.5.0",
            "_model_name": "HTMLModel",
            "_view_count": null,
            "_view_module": "@jupyter-widgets/controls",
            "_view_module_version": "1.5.0",
            "_view_name": "HTMLView",
            "description": "",
            "description_tooltip": null,
            "layout": "IPY_MODEL_aa92b1ddd728498db3f752b224978a9d",
            "placeholder": "​",
            "style": "IPY_MODEL_51f5807c8a0549c080501bb025bbf941",
            "value": "Downloading (…)okenizer_config.json: 100%"
          }
        },
        "c781e7a385a34be5b39adb780d47d542": {
          "model_module": "@jupyter-widgets/controls",
          "model_name": "FloatProgressModel",
          "model_module_version": "1.5.0",
          "state": {
            "_dom_classes": [],
            "_model_module": "@jupyter-widgets/controls",
            "_model_module_version": "1.5.0",
            "_model_name": "FloatProgressModel",
            "_view_count": null,
            "_view_module": "@jupyter-widgets/controls",
            "_view_module_version": "1.5.0",
            "_view_name": "ProgressView",
            "bar_style": "success",
            "description": "",
            "description_tooltip": null,
            "layout": "IPY_MODEL_322599c7340945bb9e75ac88341ba076",
            "max": 568,
            "min": 0,
            "orientation": "horizontal",
            "style": "IPY_MODEL_059e1cfebc564383bed69534317c8d02",
            "value": 568
          }
        },
        "f31fc403cf754e3ebce5dbde6516cfeb": {
          "model_module": "@jupyter-widgets/controls",
          "model_name": "HTMLModel",
          "model_module_version": "1.5.0",
          "state": {
            "_dom_classes": [],
            "_model_module": "@jupyter-widgets/controls",
            "_model_module_version": "1.5.0",
            "_model_name": "HTMLModel",
            "_view_count": null,
            "_view_module": "@jupyter-widgets/controls",
            "_view_module_version": "1.5.0",
            "_view_name": "HTMLView",
            "description": "",
            "description_tooltip": null,
            "layout": "IPY_MODEL_3ed70b0f833a41fb8ce33019f6e7559b",
            "placeholder": "​",
            "style": "IPY_MODEL_8c5910b81e7c4a228a9110fbbe17f54c",
            "value": " 568/568 [00:00&lt;00:00, 14.8kB/s]"
          }
        },
        "ed8d33b85652436898e93ec74c3efcb6": {
          "model_module": "@jupyter-widgets/base",
          "model_name": "LayoutModel",
          "model_module_version": "1.2.0",
          "state": {
            "_model_module": "@jupyter-widgets/base",
            "_model_module_version": "1.2.0",
            "_model_name": "LayoutModel",
            "_view_count": null,
            "_view_module": "@jupyter-widgets/base",
            "_view_module_version": "1.2.0",
            "_view_name": "LayoutView",
            "align_content": null,
            "align_items": null,
            "align_self": null,
            "border": null,
            "bottom": null,
            "display": null,
            "flex": null,
            "flex_flow": null,
            "grid_area": null,
            "grid_auto_columns": null,
            "grid_auto_flow": null,
            "grid_auto_rows": null,
            "grid_column": null,
            "grid_gap": null,
            "grid_row": null,
            "grid_template_areas": null,
            "grid_template_columns": null,
            "grid_template_rows": null,
            "height": null,
            "justify_content": null,
            "justify_items": null,
            "left": null,
            "margin": null,
            "max_height": null,
            "max_width": null,
            "min_height": null,
            "min_width": null,
            "object_fit": null,
            "object_position": null,
            "order": null,
            "overflow": null,
            "overflow_x": null,
            "overflow_y": null,
            "padding": null,
            "right": null,
            "top": null,
            "visibility": null,
            "width": null
          }
        },
        "aa92b1ddd728498db3f752b224978a9d": {
          "model_module": "@jupyter-widgets/base",
          "model_name": "LayoutModel",
          "model_module_version": "1.2.0",
          "state": {
            "_model_module": "@jupyter-widgets/base",
            "_model_module_version": "1.2.0",
            "_model_name": "LayoutModel",
            "_view_count": null,
            "_view_module": "@jupyter-widgets/base",
            "_view_module_version": "1.2.0",
            "_view_name": "LayoutView",
            "align_content": null,
            "align_items": null,
            "align_self": null,
            "border": null,
            "bottom": null,
            "display": null,
            "flex": null,
            "flex_flow": null,
            "grid_area": null,
            "grid_auto_columns": null,
            "grid_auto_flow": null,
            "grid_auto_rows": null,
            "grid_column": null,
            "grid_gap": null,
            "grid_row": null,
            "grid_template_areas": null,
            "grid_template_columns": null,
            "grid_template_rows": null,
            "height": null,
            "justify_content": null,
            "justify_items": null,
            "left": null,
            "margin": null,
            "max_height": null,
            "max_width": null,
            "min_height": null,
            "min_width": null,
            "object_fit": null,
            "object_position": null,
            "order": null,
            "overflow": null,
            "overflow_x": null,
            "overflow_y": null,
            "padding": null,
            "right": null,
            "top": null,
            "visibility": null,
            "width": null
          }
        },
        "51f5807c8a0549c080501bb025bbf941": {
          "model_module": "@jupyter-widgets/controls",
          "model_name": "DescriptionStyleModel",
          "model_module_version": "1.5.0",
          "state": {
            "_model_module": "@jupyter-widgets/controls",
            "_model_module_version": "1.5.0",
            "_model_name": "DescriptionStyleModel",
            "_view_count": null,
            "_view_module": "@jupyter-widgets/base",
            "_view_module_version": "1.2.0",
            "_view_name": "StyleView",
            "description_width": ""
          }
        },
        "322599c7340945bb9e75ac88341ba076": {
          "model_module": "@jupyter-widgets/base",
          "model_name": "LayoutModel",
          "model_module_version": "1.2.0",
          "state": {
            "_model_module": "@jupyter-widgets/base",
            "_model_module_version": "1.2.0",
            "_model_name": "LayoutModel",
            "_view_count": null,
            "_view_module": "@jupyter-widgets/base",
            "_view_module_version": "1.2.0",
            "_view_name": "LayoutView",
            "align_content": null,
            "align_items": null,
            "align_self": null,
            "border": null,
            "bottom": null,
            "display": null,
            "flex": null,
            "flex_flow": null,
            "grid_area": null,
            "grid_auto_columns": null,
            "grid_auto_flow": null,
            "grid_auto_rows": null,
            "grid_column": null,
            "grid_gap": null,
            "grid_row": null,
            "grid_template_areas": null,
            "grid_template_columns": null,
            "grid_template_rows": null,
            "height": null,
            "justify_content": null,
            "justify_items": null,
            "left": null,
            "margin": null,
            "max_height": null,
            "max_width": null,
            "min_height": null,
            "min_width": null,
            "object_fit": null,
            "object_position": null,
            "order": null,
            "overflow": null,
            "overflow_x": null,
            "overflow_y": null,
            "padding": null,
            "right": null,
            "top": null,
            "visibility": null,
            "width": null
          }
        },
        "059e1cfebc564383bed69534317c8d02": {
          "model_module": "@jupyter-widgets/controls",
          "model_name": "ProgressStyleModel",
          "model_module_version": "1.5.0",
          "state": {
            "_model_module": "@jupyter-widgets/controls",
            "_model_module_version": "1.5.0",
            "_model_name": "ProgressStyleModel",
            "_view_count": null,
            "_view_module": "@jupyter-widgets/base",
            "_view_module_version": "1.2.0",
            "_view_name": "StyleView",
            "bar_color": null,
            "description_width": ""
          }
        },
        "3ed70b0f833a41fb8ce33019f6e7559b": {
          "model_module": "@jupyter-widgets/base",
          "model_name": "LayoutModel",
          "model_module_version": "1.2.0",
          "state": {
            "_model_module": "@jupyter-widgets/base",
            "_model_module_version": "1.2.0",
            "_model_name": "LayoutModel",
            "_view_count": null,
            "_view_module": "@jupyter-widgets/base",
            "_view_module_version": "1.2.0",
            "_view_name": "LayoutView",
            "align_content": null,
            "align_items": null,
            "align_self": null,
            "border": null,
            "bottom": null,
            "display": null,
            "flex": null,
            "flex_flow": null,
            "grid_area": null,
            "grid_auto_columns": null,
            "grid_auto_flow": null,
            "grid_auto_rows": null,
            "grid_column": null,
            "grid_gap": null,
            "grid_row": null,
            "grid_template_areas": null,
            "grid_template_columns": null,
            "grid_template_rows": null,
            "height": null,
            "justify_content": null,
            "justify_items": null,
            "left": null,
            "margin": null,
            "max_height": null,
            "max_width": null,
            "min_height": null,
            "min_width": null,
            "object_fit": null,
            "object_position": null,
            "order": null,
            "overflow": null,
            "overflow_x": null,
            "overflow_y": null,
            "padding": null,
            "right": null,
            "top": null,
            "visibility": null,
            "width": null
          }
        },
        "8c5910b81e7c4a228a9110fbbe17f54c": {
          "model_module": "@jupyter-widgets/controls",
          "model_name": "DescriptionStyleModel",
          "model_module_version": "1.5.0",
          "state": {
            "_model_module": "@jupyter-widgets/controls",
            "_model_module_version": "1.5.0",
            "_model_name": "DescriptionStyleModel",
            "_view_count": null,
            "_view_module": "@jupyter-widgets/base",
            "_view_module_version": "1.2.0",
            "_view_name": "StyleView",
            "description_width": ""
          }
        },
        "d8169adf63504883bee8d3834b15fbd4": {
          "model_module": "@jupyter-widgets/controls",
          "model_name": "HBoxModel",
          "model_module_version": "1.5.0",
          "state": {
            "_dom_classes": [],
            "_model_module": "@jupyter-widgets/controls",
            "_model_module_version": "1.5.0",
            "_model_name": "HBoxModel",
            "_view_count": null,
            "_view_module": "@jupyter-widgets/controls",
            "_view_module_version": "1.5.0",
            "_view_name": "HBoxView",
            "box_style": "",
            "children": [
              "IPY_MODEL_1a04d5e5995349f5bd4ed47e0e3ccde1",
              "IPY_MODEL_da87f13f380e495eac1253df25d33ede",
              "IPY_MODEL_de748dae834b49c9a1a682d6aeeb0d49"
            ],
            "layout": "IPY_MODEL_ec890bde167e45788615ae02f00bd228"
          }
        },
        "1a04d5e5995349f5bd4ed47e0e3ccde1": {
          "model_module": "@jupyter-widgets/controls",
          "model_name": "HTMLModel",
          "model_module_version": "1.5.0",
          "state": {
            "_dom_classes": [],
            "_model_module": "@jupyter-widgets/controls",
            "_model_module_version": "1.5.0",
            "_model_name": "HTMLModel",
            "_view_count": null,
            "_view_module": "@jupyter-widgets/controls",
            "_view_module_version": "1.5.0",
            "_view_name": "HTMLView",
            "description": "",
            "description_tooltip": null,
            "layout": "IPY_MODEL_6e3076c647ab4658bc18bddd7310c0aa",
            "placeholder": "​",
            "style": "IPY_MODEL_32958a820d024ad9bf48d21df558e3e5",
            "value": "Downloading (…)olve/main/vocab.json: 100%"
          }
        },
        "da87f13f380e495eac1253df25d33ede": {
          "model_module": "@jupyter-widgets/controls",
          "model_name": "FloatProgressModel",
          "model_module_version": "1.5.0",
          "state": {
            "_dom_classes": [],
            "_model_module": "@jupyter-widgets/controls",
            "_model_module_version": "1.5.0",
            "_model_name": "FloatProgressModel",
            "_view_count": null,
            "_view_module": "@jupyter-widgets/controls",
            "_view_module_version": "1.5.0",
            "_view_name": "ProgressView",
            "bar_style": "success",
            "description": "",
            "description_tooltip": null,
            "layout": "IPY_MODEL_6f29af9a967242e0b50ae09c65c283ad",
            "max": 862328,
            "min": 0,
            "orientation": "horizontal",
            "style": "IPY_MODEL_2f87716c3a0a4a9db00e41b5f36eb1bd",
            "value": 862328
          }
        },
        "de748dae834b49c9a1a682d6aeeb0d49": {
          "model_module": "@jupyter-widgets/controls",
          "model_name": "HTMLModel",
          "model_module_version": "1.5.0",
          "state": {
            "_dom_classes": [],
            "_model_module": "@jupyter-widgets/controls",
            "_model_module_version": "1.5.0",
            "_model_name": "HTMLModel",
            "_view_count": null,
            "_view_module": "@jupyter-widgets/controls",
            "_view_module_version": "1.5.0",
            "_view_name": "HTMLView",
            "description": "",
            "description_tooltip": null,
            "layout": "IPY_MODEL_b1ee47b1a37645409742224b3a17921b",
            "placeholder": "​",
            "style": "IPY_MODEL_56ef158cfef14d579c909ad77eff40ad",
            "value": " 862k/862k [00:00&lt;00:00, 909kB/s]"
          }
        },
        "ec890bde167e45788615ae02f00bd228": {
          "model_module": "@jupyter-widgets/base",
          "model_name": "LayoutModel",
          "model_module_version": "1.2.0",
          "state": {
            "_model_module": "@jupyter-widgets/base",
            "_model_module_version": "1.2.0",
            "_model_name": "LayoutModel",
            "_view_count": null,
            "_view_module": "@jupyter-widgets/base",
            "_view_module_version": "1.2.0",
            "_view_name": "LayoutView",
            "align_content": null,
            "align_items": null,
            "align_self": null,
            "border": null,
            "bottom": null,
            "display": null,
            "flex": null,
            "flex_flow": null,
            "grid_area": null,
            "grid_auto_columns": null,
            "grid_auto_flow": null,
            "grid_auto_rows": null,
            "grid_column": null,
            "grid_gap": null,
            "grid_row": null,
            "grid_template_areas": null,
            "grid_template_columns": null,
            "grid_template_rows": null,
            "height": null,
            "justify_content": null,
            "justify_items": null,
            "left": null,
            "margin": null,
            "max_height": null,
            "max_width": null,
            "min_height": null,
            "min_width": null,
            "object_fit": null,
            "object_position": null,
            "order": null,
            "overflow": null,
            "overflow_x": null,
            "overflow_y": null,
            "padding": null,
            "right": null,
            "top": null,
            "visibility": null,
            "width": null
          }
        },
        "6e3076c647ab4658bc18bddd7310c0aa": {
          "model_module": "@jupyter-widgets/base",
          "model_name": "LayoutModel",
          "model_module_version": "1.2.0",
          "state": {
            "_model_module": "@jupyter-widgets/base",
            "_model_module_version": "1.2.0",
            "_model_name": "LayoutModel",
            "_view_count": null,
            "_view_module": "@jupyter-widgets/base",
            "_view_module_version": "1.2.0",
            "_view_name": "LayoutView",
            "align_content": null,
            "align_items": null,
            "align_self": null,
            "border": null,
            "bottom": null,
            "display": null,
            "flex": null,
            "flex_flow": null,
            "grid_area": null,
            "grid_auto_columns": null,
            "grid_auto_flow": null,
            "grid_auto_rows": null,
            "grid_column": null,
            "grid_gap": null,
            "grid_row": null,
            "grid_template_areas": null,
            "grid_template_columns": null,
            "grid_template_rows": null,
            "height": null,
            "justify_content": null,
            "justify_items": null,
            "left": null,
            "margin": null,
            "max_height": null,
            "max_width": null,
            "min_height": null,
            "min_width": null,
            "object_fit": null,
            "object_position": null,
            "order": null,
            "overflow": null,
            "overflow_x": null,
            "overflow_y": null,
            "padding": null,
            "right": null,
            "top": null,
            "visibility": null,
            "width": null
          }
        },
        "32958a820d024ad9bf48d21df558e3e5": {
          "model_module": "@jupyter-widgets/controls",
          "model_name": "DescriptionStyleModel",
          "model_module_version": "1.5.0",
          "state": {
            "_model_module": "@jupyter-widgets/controls",
            "_model_module_version": "1.5.0",
            "_model_name": "DescriptionStyleModel",
            "_view_count": null,
            "_view_module": "@jupyter-widgets/base",
            "_view_module_version": "1.2.0",
            "_view_name": "StyleView",
            "description_width": ""
          }
        },
        "6f29af9a967242e0b50ae09c65c283ad": {
          "model_module": "@jupyter-widgets/base",
          "model_name": "LayoutModel",
          "model_module_version": "1.2.0",
          "state": {
            "_model_module": "@jupyter-widgets/base",
            "_model_module_version": "1.2.0",
            "_model_name": "LayoutModel",
            "_view_count": null,
            "_view_module": "@jupyter-widgets/base",
            "_view_module_version": "1.2.0",
            "_view_name": "LayoutView",
            "align_content": null,
            "align_items": null,
            "align_self": null,
            "border": null,
            "bottom": null,
            "display": null,
            "flex": null,
            "flex_flow": null,
            "grid_area": null,
            "grid_auto_columns": null,
            "grid_auto_flow": null,
            "grid_auto_rows": null,
            "grid_column": null,
            "grid_gap": null,
            "grid_row": null,
            "grid_template_areas": null,
            "grid_template_columns": null,
            "grid_template_rows": null,
            "height": null,
            "justify_content": null,
            "justify_items": null,
            "left": null,
            "margin": null,
            "max_height": null,
            "max_width": null,
            "min_height": null,
            "min_width": null,
            "object_fit": null,
            "object_position": null,
            "order": null,
            "overflow": null,
            "overflow_x": null,
            "overflow_y": null,
            "padding": null,
            "right": null,
            "top": null,
            "visibility": null,
            "width": null
          }
        },
        "2f87716c3a0a4a9db00e41b5f36eb1bd": {
          "model_module": "@jupyter-widgets/controls",
          "model_name": "ProgressStyleModel",
          "model_module_version": "1.5.0",
          "state": {
            "_model_module": "@jupyter-widgets/controls",
            "_model_module_version": "1.5.0",
            "_model_name": "ProgressStyleModel",
            "_view_count": null,
            "_view_module": "@jupyter-widgets/base",
            "_view_module_version": "1.2.0",
            "_view_name": "StyleView",
            "bar_color": null,
            "description_width": ""
          }
        },
        "b1ee47b1a37645409742224b3a17921b": {
          "model_module": "@jupyter-widgets/base",
          "model_name": "LayoutModel",
          "model_module_version": "1.2.0",
          "state": {
            "_model_module": "@jupyter-widgets/base",
            "_model_module_version": "1.2.0",
            "_model_name": "LayoutModel",
            "_view_count": null,
            "_view_module": "@jupyter-widgets/base",
            "_view_module_version": "1.2.0",
            "_view_name": "LayoutView",
            "align_content": null,
            "align_items": null,
            "align_self": null,
            "border": null,
            "bottom": null,
            "display": null,
            "flex": null,
            "flex_flow": null,
            "grid_area": null,
            "grid_auto_columns": null,
            "grid_auto_flow": null,
            "grid_auto_rows": null,
            "grid_column": null,
            "grid_gap": null,
            "grid_row": null,
            "grid_template_areas": null,
            "grid_template_columns": null,
            "grid_template_rows": null,
            "height": null,
            "justify_content": null,
            "justify_items": null,
            "left": null,
            "margin": null,
            "max_height": null,
            "max_width": null,
            "min_height": null,
            "min_width": null,
            "object_fit": null,
            "object_position": null,
            "order": null,
            "overflow": null,
            "overflow_x": null,
            "overflow_y": null,
            "padding": null,
            "right": null,
            "top": null,
            "visibility": null,
            "width": null
          }
        },
        "56ef158cfef14d579c909ad77eff40ad": {
          "model_module": "@jupyter-widgets/controls",
          "model_name": "DescriptionStyleModel",
          "model_module_version": "1.5.0",
          "state": {
            "_model_module": "@jupyter-widgets/controls",
            "_model_module_version": "1.5.0",
            "_model_name": "DescriptionStyleModel",
            "_view_count": null,
            "_view_module": "@jupyter-widgets/base",
            "_view_module_version": "1.2.0",
            "_view_name": "StyleView",
            "description_width": ""
          }
        },
        "222c7d889c2a422e8f58b61a93fa0588": {
          "model_module": "@jupyter-widgets/controls",
          "model_name": "HBoxModel",
          "model_module_version": "1.5.0",
          "state": {
            "_dom_classes": [],
            "_model_module": "@jupyter-widgets/controls",
            "_model_module_version": "1.5.0",
            "_model_name": "HBoxModel",
            "_view_count": null,
            "_view_module": "@jupyter-widgets/controls",
            "_view_module_version": "1.5.0",
            "_view_name": "HBoxView",
            "box_style": "",
            "children": [
              "IPY_MODEL_6e9167febfbd413a895414fbf4664741",
              "IPY_MODEL_4a435ded7f5645b19e5a27a2f7c386e7",
              "IPY_MODEL_087c4d44c29949608274eca623a58a07"
            ],
            "layout": "IPY_MODEL_b1b76d2766db4fb8b182f2642956d3b6"
          }
        },
        "6e9167febfbd413a895414fbf4664741": {
          "model_module": "@jupyter-widgets/controls",
          "model_name": "HTMLModel",
          "model_module_version": "1.5.0",
          "state": {
            "_dom_classes": [],
            "_model_module": "@jupyter-widgets/controls",
            "_model_module_version": "1.5.0",
            "_model_name": "HTMLModel",
            "_view_count": null,
            "_view_module": "@jupyter-widgets/controls",
            "_view_module_version": "1.5.0",
            "_view_name": "HTMLView",
            "description": "",
            "description_tooltip": null,
            "layout": "IPY_MODEL_b3f7c204c8bb43ae966ca80704b59d45",
            "placeholder": "​",
            "style": "IPY_MODEL_0d2dc11b9eed47eab549873ee475b1fc",
            "value": "Downloading (…)olve/main/merges.txt: 100%"
          }
        },
        "4a435ded7f5645b19e5a27a2f7c386e7": {
          "model_module": "@jupyter-widgets/controls",
          "model_name": "FloatProgressModel",
          "model_module_version": "1.5.0",
          "state": {
            "_dom_classes": [],
            "_model_module": "@jupyter-widgets/controls",
            "_model_module_version": "1.5.0",
            "_model_name": "FloatProgressModel",
            "_view_count": null,
            "_view_module": "@jupyter-widgets/controls",
            "_view_module_version": "1.5.0",
            "_view_name": "ProgressView",
            "bar_style": "success",
            "description": "",
            "description_tooltip": null,
            "layout": "IPY_MODEL_205401e23f9a4d6ebdee1f60dadf9ba9",
            "max": 524657,
            "min": 0,
            "orientation": "horizontal",
            "style": "IPY_MODEL_9e4922c7583e443b8b5771bb7fba2c4d",
            "value": 524657
          }
        },
        "087c4d44c29949608274eca623a58a07": {
          "model_module": "@jupyter-widgets/controls",
          "model_name": "HTMLModel",
          "model_module_version": "1.5.0",
          "state": {
            "_dom_classes": [],
            "_model_module": "@jupyter-widgets/controls",
            "_model_module_version": "1.5.0",
            "_model_name": "HTMLModel",
            "_view_count": null,
            "_view_module": "@jupyter-widgets/controls",
            "_view_module_version": "1.5.0",
            "_view_name": "HTMLView",
            "description": "",
            "description_tooltip": null,
            "layout": "IPY_MODEL_545389e4672b43bf8a82fec6196475cb",
            "placeholder": "​",
            "style": "IPY_MODEL_7ddd49ed04644e3d9d10a19cda7b61d5",
            "value": " 525k/525k [00:00&lt;00:00, 574kB/s]"
          }
        },
        "b1b76d2766db4fb8b182f2642956d3b6": {
          "model_module": "@jupyter-widgets/base",
          "model_name": "LayoutModel",
          "model_module_version": "1.2.0",
          "state": {
            "_model_module": "@jupyter-widgets/base",
            "_model_module_version": "1.2.0",
            "_model_name": "LayoutModel",
            "_view_count": null,
            "_view_module": "@jupyter-widgets/base",
            "_view_module_version": "1.2.0",
            "_view_name": "LayoutView",
            "align_content": null,
            "align_items": null,
            "align_self": null,
            "border": null,
            "bottom": null,
            "display": null,
            "flex": null,
            "flex_flow": null,
            "grid_area": null,
            "grid_auto_columns": null,
            "grid_auto_flow": null,
            "grid_auto_rows": null,
            "grid_column": null,
            "grid_gap": null,
            "grid_row": null,
            "grid_template_areas": null,
            "grid_template_columns": null,
            "grid_template_rows": null,
            "height": null,
            "justify_content": null,
            "justify_items": null,
            "left": null,
            "margin": null,
            "max_height": null,
            "max_width": null,
            "min_height": null,
            "min_width": null,
            "object_fit": null,
            "object_position": null,
            "order": null,
            "overflow": null,
            "overflow_x": null,
            "overflow_y": null,
            "padding": null,
            "right": null,
            "top": null,
            "visibility": null,
            "width": null
          }
        },
        "b3f7c204c8bb43ae966ca80704b59d45": {
          "model_module": "@jupyter-widgets/base",
          "model_name": "LayoutModel",
          "model_module_version": "1.2.0",
          "state": {
            "_model_module": "@jupyter-widgets/base",
            "_model_module_version": "1.2.0",
            "_model_name": "LayoutModel",
            "_view_count": null,
            "_view_module": "@jupyter-widgets/base",
            "_view_module_version": "1.2.0",
            "_view_name": "LayoutView",
            "align_content": null,
            "align_items": null,
            "align_self": null,
            "border": null,
            "bottom": null,
            "display": null,
            "flex": null,
            "flex_flow": null,
            "grid_area": null,
            "grid_auto_columns": null,
            "grid_auto_flow": null,
            "grid_auto_rows": null,
            "grid_column": null,
            "grid_gap": null,
            "grid_row": null,
            "grid_template_areas": null,
            "grid_template_columns": null,
            "grid_template_rows": null,
            "height": null,
            "justify_content": null,
            "justify_items": null,
            "left": null,
            "margin": null,
            "max_height": null,
            "max_width": null,
            "min_height": null,
            "min_width": null,
            "object_fit": null,
            "object_position": null,
            "order": null,
            "overflow": null,
            "overflow_x": null,
            "overflow_y": null,
            "padding": null,
            "right": null,
            "top": null,
            "visibility": null,
            "width": null
          }
        },
        "0d2dc11b9eed47eab549873ee475b1fc": {
          "model_module": "@jupyter-widgets/controls",
          "model_name": "DescriptionStyleModel",
          "model_module_version": "1.5.0",
          "state": {
            "_model_module": "@jupyter-widgets/controls",
            "_model_module_version": "1.5.0",
            "_model_name": "DescriptionStyleModel",
            "_view_count": null,
            "_view_module": "@jupyter-widgets/base",
            "_view_module_version": "1.2.0",
            "_view_name": "StyleView",
            "description_width": ""
          }
        },
        "205401e23f9a4d6ebdee1f60dadf9ba9": {
          "model_module": "@jupyter-widgets/base",
          "model_name": "LayoutModel",
          "model_module_version": "1.2.0",
          "state": {
            "_model_module": "@jupyter-widgets/base",
            "_model_module_version": "1.2.0",
            "_model_name": "LayoutModel",
            "_view_count": null,
            "_view_module": "@jupyter-widgets/base",
            "_view_module_version": "1.2.0",
            "_view_name": "LayoutView",
            "align_content": null,
            "align_items": null,
            "align_self": null,
            "border": null,
            "bottom": null,
            "display": null,
            "flex": null,
            "flex_flow": null,
            "grid_area": null,
            "grid_auto_columns": null,
            "grid_auto_flow": null,
            "grid_auto_rows": null,
            "grid_column": null,
            "grid_gap": null,
            "grid_row": null,
            "grid_template_areas": null,
            "grid_template_columns": null,
            "grid_template_rows": null,
            "height": null,
            "justify_content": null,
            "justify_items": null,
            "left": null,
            "margin": null,
            "max_height": null,
            "max_width": null,
            "min_height": null,
            "min_width": null,
            "object_fit": null,
            "object_position": null,
            "order": null,
            "overflow": null,
            "overflow_x": null,
            "overflow_y": null,
            "padding": null,
            "right": null,
            "top": null,
            "visibility": null,
            "width": null
          }
        },
        "9e4922c7583e443b8b5771bb7fba2c4d": {
          "model_module": "@jupyter-widgets/controls",
          "model_name": "ProgressStyleModel",
          "model_module_version": "1.5.0",
          "state": {
            "_model_module": "@jupyter-widgets/controls",
            "_model_module_version": "1.5.0",
            "_model_name": "ProgressStyleModel",
            "_view_count": null,
            "_view_module": "@jupyter-widgets/base",
            "_view_module_version": "1.2.0",
            "_view_name": "StyleView",
            "bar_color": null,
            "description_width": ""
          }
        },
        "545389e4672b43bf8a82fec6196475cb": {
          "model_module": "@jupyter-widgets/base",
          "model_name": "LayoutModel",
          "model_module_version": "1.2.0",
          "state": {
            "_model_module": "@jupyter-widgets/base",
            "_model_module_version": "1.2.0",
            "_model_name": "LayoutModel",
            "_view_count": null,
            "_view_module": "@jupyter-widgets/base",
            "_view_module_version": "1.2.0",
            "_view_name": "LayoutView",
            "align_content": null,
            "align_items": null,
            "align_self": null,
            "border": null,
            "bottom": null,
            "display": null,
            "flex": null,
            "flex_flow": null,
            "grid_area": null,
            "grid_auto_columns": null,
            "grid_auto_flow": null,
            "grid_auto_rows": null,
            "grid_column": null,
            "grid_gap": null,
            "grid_row": null,
            "grid_template_areas": null,
            "grid_template_columns": null,
            "grid_template_rows": null,
            "height": null,
            "justify_content": null,
            "justify_items": null,
            "left": null,
            "margin": null,
            "max_height": null,
            "max_width": null,
            "min_height": null,
            "min_width": null,
            "object_fit": null,
            "object_position": null,
            "order": null,
            "overflow": null,
            "overflow_x": null,
            "overflow_y": null,
            "padding": null,
            "right": null,
            "top": null,
            "visibility": null,
            "width": null
          }
        },
        "7ddd49ed04644e3d9d10a19cda7b61d5": {
          "model_module": "@jupyter-widgets/controls",
          "model_name": "DescriptionStyleModel",
          "model_module_version": "1.5.0",
          "state": {
            "_model_module": "@jupyter-widgets/controls",
            "_model_module_version": "1.5.0",
            "_model_name": "DescriptionStyleModel",
            "_view_count": null,
            "_view_module": "@jupyter-widgets/base",
            "_view_module_version": "1.2.0",
            "_view_name": "StyleView",
            "description_width": ""
          }
        },
        "f6ba5bf45275441da52bf0f3379b6b60": {
          "model_module": "@jupyter-widgets/controls",
          "model_name": "HBoxModel",
          "model_module_version": "1.5.0",
          "state": {
            "_dom_classes": [],
            "_model_module": "@jupyter-widgets/controls",
            "_model_module_version": "1.5.0",
            "_model_name": "HBoxModel",
            "_view_count": null,
            "_view_module": "@jupyter-widgets/controls",
            "_view_module_version": "1.5.0",
            "_view_name": "HBoxView",
            "box_style": "",
            "children": [
              "IPY_MODEL_bd915d82c7524d62bc3e3d94cf0593e2",
              "IPY_MODEL_e422a37271ee45089506a33f62c66269",
              "IPY_MODEL_e70946641d1143ebbe6039591ac18595"
            ],
            "layout": "IPY_MODEL_61c307cd470b4b9b94b45bbf51135fc4"
          }
        },
        "bd915d82c7524d62bc3e3d94cf0593e2": {
          "model_module": "@jupyter-widgets/controls",
          "model_name": "HTMLModel",
          "model_module_version": "1.5.0",
          "state": {
            "_dom_classes": [],
            "_model_module": "@jupyter-widgets/controls",
            "_model_module_version": "1.5.0",
            "_model_name": "HTMLModel",
            "_view_count": null,
            "_view_module": "@jupyter-widgets/controls",
            "_view_module_version": "1.5.0",
            "_view_name": "HTMLView",
            "description": "",
            "description_tooltip": null,
            "layout": "IPY_MODEL_01ef27ff263740eda9387dd92277220a",
            "placeholder": "​",
            "style": "IPY_MODEL_4dae4fb2546b4607988b35d47beaf6df",
            "value": "Downloading (…)/main/tokenizer.json: 100%"
          }
        },
        "e422a37271ee45089506a33f62c66269": {
          "model_module": "@jupyter-widgets/controls",
          "model_name": "FloatProgressModel",
          "model_module_version": "1.5.0",
          "state": {
            "_dom_classes": [],
            "_model_module": "@jupyter-widgets/controls",
            "_model_module_version": "1.5.0",
            "_model_name": "FloatProgressModel",
            "_view_count": null,
            "_view_module": "@jupyter-widgets/controls",
            "_view_module_version": "1.5.0",
            "_view_name": "ProgressView",
            "bar_style": "success",
            "description": "",
            "description_tooltip": null,
            "layout": "IPY_MODEL_163ce25a1e914ec2a2d47e2249399e9d",
            "max": 2224041,
            "min": 0,
            "orientation": "horizontal",
            "style": "IPY_MODEL_25a70eb9c0eb4eddb000172d9fa210d3",
            "value": 2224041
          }
        },
        "e70946641d1143ebbe6039591ac18595": {
          "model_module": "@jupyter-widgets/controls",
          "model_name": "HTMLModel",
          "model_module_version": "1.5.0",
          "state": {
            "_dom_classes": [],
            "_model_module": "@jupyter-widgets/controls",
            "_model_module_version": "1.5.0",
            "_model_name": "HTMLModel",
            "_view_count": null,
            "_view_module": "@jupyter-widgets/controls",
            "_view_module_version": "1.5.0",
            "_view_name": "HTMLView",
            "description": "",
            "description_tooltip": null,
            "layout": "IPY_MODEL_3fe1e5add66f4984acb2f2ffaf483474",
            "placeholder": "​",
            "style": "IPY_MODEL_cb0661eb713b4ac1ac4b383b5c5edafd",
            "value": " 2.22M/2.22M [00:01&lt;00:00, 1.95MB/s]"
          }
        },
        "61c307cd470b4b9b94b45bbf51135fc4": {
          "model_module": "@jupyter-widgets/base",
          "model_name": "LayoutModel",
          "model_module_version": "1.2.0",
          "state": {
            "_model_module": "@jupyter-widgets/base",
            "_model_module_version": "1.2.0",
            "_model_name": "LayoutModel",
            "_view_count": null,
            "_view_module": "@jupyter-widgets/base",
            "_view_module_version": "1.2.0",
            "_view_name": "LayoutView",
            "align_content": null,
            "align_items": null,
            "align_self": null,
            "border": null,
            "bottom": null,
            "display": null,
            "flex": null,
            "flex_flow": null,
            "grid_area": null,
            "grid_auto_columns": null,
            "grid_auto_flow": null,
            "grid_auto_rows": null,
            "grid_column": null,
            "grid_gap": null,
            "grid_row": null,
            "grid_template_areas": null,
            "grid_template_columns": null,
            "grid_template_rows": null,
            "height": null,
            "justify_content": null,
            "justify_items": null,
            "left": null,
            "margin": null,
            "max_height": null,
            "max_width": null,
            "min_height": null,
            "min_width": null,
            "object_fit": null,
            "object_position": null,
            "order": null,
            "overflow": null,
            "overflow_x": null,
            "overflow_y": null,
            "padding": null,
            "right": null,
            "top": null,
            "visibility": null,
            "width": null
          }
        },
        "01ef27ff263740eda9387dd92277220a": {
          "model_module": "@jupyter-widgets/base",
          "model_name": "LayoutModel",
          "model_module_version": "1.2.0",
          "state": {
            "_model_module": "@jupyter-widgets/base",
            "_model_module_version": "1.2.0",
            "_model_name": "LayoutModel",
            "_view_count": null,
            "_view_module": "@jupyter-widgets/base",
            "_view_module_version": "1.2.0",
            "_view_name": "LayoutView",
            "align_content": null,
            "align_items": null,
            "align_self": null,
            "border": null,
            "bottom": null,
            "display": null,
            "flex": null,
            "flex_flow": null,
            "grid_area": null,
            "grid_auto_columns": null,
            "grid_auto_flow": null,
            "grid_auto_rows": null,
            "grid_column": null,
            "grid_gap": null,
            "grid_row": null,
            "grid_template_areas": null,
            "grid_template_columns": null,
            "grid_template_rows": null,
            "height": null,
            "justify_content": null,
            "justify_items": null,
            "left": null,
            "margin": null,
            "max_height": null,
            "max_width": null,
            "min_height": null,
            "min_width": null,
            "object_fit": null,
            "object_position": null,
            "order": null,
            "overflow": null,
            "overflow_x": null,
            "overflow_y": null,
            "padding": null,
            "right": null,
            "top": null,
            "visibility": null,
            "width": null
          }
        },
        "4dae4fb2546b4607988b35d47beaf6df": {
          "model_module": "@jupyter-widgets/controls",
          "model_name": "DescriptionStyleModel",
          "model_module_version": "1.5.0",
          "state": {
            "_model_module": "@jupyter-widgets/controls",
            "_model_module_version": "1.5.0",
            "_model_name": "DescriptionStyleModel",
            "_view_count": null,
            "_view_module": "@jupyter-widgets/base",
            "_view_module_version": "1.2.0",
            "_view_name": "StyleView",
            "description_width": ""
          }
        },
        "163ce25a1e914ec2a2d47e2249399e9d": {
          "model_module": "@jupyter-widgets/base",
          "model_name": "LayoutModel",
          "model_module_version": "1.2.0",
          "state": {
            "_model_module": "@jupyter-widgets/base",
            "_model_module_version": "1.2.0",
            "_model_name": "LayoutModel",
            "_view_count": null,
            "_view_module": "@jupyter-widgets/base",
            "_view_module_version": "1.2.0",
            "_view_name": "LayoutView",
            "align_content": null,
            "align_items": null,
            "align_self": null,
            "border": null,
            "bottom": null,
            "display": null,
            "flex": null,
            "flex_flow": null,
            "grid_area": null,
            "grid_auto_columns": null,
            "grid_auto_flow": null,
            "grid_auto_rows": null,
            "grid_column": null,
            "grid_gap": null,
            "grid_row": null,
            "grid_template_areas": null,
            "grid_template_columns": null,
            "grid_template_rows": null,
            "height": null,
            "justify_content": null,
            "justify_items": null,
            "left": null,
            "margin": null,
            "max_height": null,
            "max_width": null,
            "min_height": null,
            "min_width": null,
            "object_fit": null,
            "object_position": null,
            "order": null,
            "overflow": null,
            "overflow_x": null,
            "overflow_y": null,
            "padding": null,
            "right": null,
            "top": null,
            "visibility": null,
            "width": null
          }
        },
        "25a70eb9c0eb4eddb000172d9fa210d3": {
          "model_module": "@jupyter-widgets/controls",
          "model_name": "ProgressStyleModel",
          "model_module_version": "1.5.0",
          "state": {
            "_model_module": "@jupyter-widgets/controls",
            "_model_module_version": "1.5.0",
            "_model_name": "ProgressStyleModel",
            "_view_count": null,
            "_view_module": "@jupyter-widgets/base",
            "_view_module_version": "1.2.0",
            "_view_name": "StyleView",
            "bar_color": null,
            "description_width": ""
          }
        },
        "3fe1e5add66f4984acb2f2ffaf483474": {
          "model_module": "@jupyter-widgets/base",
          "model_name": "LayoutModel",
          "model_module_version": "1.2.0",
          "state": {
            "_model_module": "@jupyter-widgets/base",
            "_model_module_version": "1.2.0",
            "_model_name": "LayoutModel",
            "_view_count": null,
            "_view_module": "@jupyter-widgets/base",
            "_view_module_version": "1.2.0",
            "_view_name": "LayoutView",
            "align_content": null,
            "align_items": null,
            "align_self": null,
            "border": null,
            "bottom": null,
            "display": null,
            "flex": null,
            "flex_flow": null,
            "grid_area": null,
            "grid_auto_columns": null,
            "grid_auto_flow": null,
            "grid_auto_rows": null,
            "grid_column": null,
            "grid_gap": null,
            "grid_row": null,
            "grid_template_areas": null,
            "grid_template_columns": null,
            "grid_template_rows": null,
            "height": null,
            "justify_content": null,
            "justify_items": null,
            "left": null,
            "margin": null,
            "max_height": null,
            "max_width": null,
            "min_height": null,
            "min_width": null,
            "object_fit": null,
            "object_position": null,
            "order": null,
            "overflow": null,
            "overflow_x": null,
            "overflow_y": null,
            "padding": null,
            "right": null,
            "top": null,
            "visibility": null,
            "width": null
          }
        },
        "cb0661eb713b4ac1ac4b383b5c5edafd": {
          "model_module": "@jupyter-widgets/controls",
          "model_name": "DescriptionStyleModel",
          "model_module_version": "1.5.0",
          "state": {
            "_model_module": "@jupyter-widgets/controls",
            "_model_module_version": "1.5.0",
            "_model_name": "DescriptionStyleModel",
            "_view_count": null,
            "_view_module": "@jupyter-widgets/base",
            "_view_module_version": "1.2.0",
            "_view_name": "StyleView",
            "description_width": ""
          }
        },
        "907499fdfd3c481797cd6efd7fcf7555": {
          "model_module": "@jupyter-widgets/controls",
          "model_name": "HBoxModel",
          "model_module_version": "1.5.0",
          "state": {
            "_dom_classes": [],
            "_model_module": "@jupyter-widgets/controls",
            "_model_module_version": "1.5.0",
            "_model_name": "HBoxModel",
            "_view_count": null,
            "_view_module": "@jupyter-widgets/controls",
            "_view_module_version": "1.5.0",
            "_view_name": "HBoxView",
            "box_style": "",
            "children": [
              "IPY_MODEL_fbd0cec4822b4e7584cf52dbce88d7a4",
              "IPY_MODEL_1628636ed0164b05adf88b3504d9772b",
              "IPY_MODEL_e785b2b6aab444ea878f883a6bc24af4"
            ],
            "layout": "IPY_MODEL_d8ed219beb0d446b9ed1447c808fadf0"
          }
        },
        "fbd0cec4822b4e7584cf52dbce88d7a4": {
          "model_module": "@jupyter-widgets/controls",
          "model_name": "HTMLModel",
          "model_module_version": "1.5.0",
          "state": {
            "_dom_classes": [],
            "_model_module": "@jupyter-widgets/controls",
            "_model_module_version": "1.5.0",
            "_model_name": "HTMLModel",
            "_view_count": null,
            "_view_module": "@jupyter-widgets/controls",
            "_view_module_version": "1.5.0",
            "_view_name": "HTMLView",
            "description": "",
            "description_tooltip": null,
            "layout": "IPY_MODEL_ed108009b1fd4a5d892ce30d37ef54a1",
            "placeholder": "​",
            "style": "IPY_MODEL_d4bd0e231ff041e184ad6838e8a4e947",
            "value": "Downloading (…)cial_tokens_map.json: 100%"
          }
        },
        "1628636ed0164b05adf88b3504d9772b": {
          "model_module": "@jupyter-widgets/controls",
          "model_name": "FloatProgressModel",
          "model_module_version": "1.5.0",
          "state": {
            "_dom_classes": [],
            "_model_module": "@jupyter-widgets/controls",
            "_model_module_version": "1.5.0",
            "_model_name": "FloatProgressModel",
            "_view_count": null,
            "_view_module": "@jupyter-widgets/controls",
            "_view_module_version": "1.5.0",
            "_view_name": "ProgressView",
            "bar_style": "success",
            "description": "",
            "description_tooltip": null,
            "layout": "IPY_MODEL_9fbd401723a342769b819e38fcff668e",
            "max": 389,
            "min": 0,
            "orientation": "horizontal",
            "style": "IPY_MODEL_fd287d1e0e2445aa87767f1eb8f01e16",
            "value": 389
          }
        },
        "e785b2b6aab444ea878f883a6bc24af4": {
          "model_module": "@jupyter-widgets/controls",
          "model_name": "HTMLModel",
          "model_module_version": "1.5.0",
          "state": {
            "_dom_classes": [],
            "_model_module": "@jupyter-widgets/controls",
            "_model_module_version": "1.5.0",
            "_model_name": "HTMLModel",
            "_view_count": null,
            "_view_module": "@jupyter-widgets/controls",
            "_view_module_version": "1.5.0",
            "_view_name": "HTMLView",
            "description": "",
            "description_tooltip": null,
            "layout": "IPY_MODEL_088a1cef51954ff0b49374c1b63a4da2",
            "placeholder": "​",
            "style": "IPY_MODEL_c4bfa770f58042b3846c09ead37bd035",
            "value": " 389/389 [00:00&lt;00:00, 14.9kB/s]"
          }
        },
        "d8ed219beb0d446b9ed1447c808fadf0": {
          "model_module": "@jupyter-widgets/base",
          "model_name": "LayoutModel",
          "model_module_version": "1.2.0",
          "state": {
            "_model_module": "@jupyter-widgets/base",
            "_model_module_version": "1.2.0",
            "_model_name": "LayoutModel",
            "_view_count": null,
            "_view_module": "@jupyter-widgets/base",
            "_view_module_version": "1.2.0",
            "_view_name": "LayoutView",
            "align_content": null,
            "align_items": null,
            "align_self": null,
            "border": null,
            "bottom": null,
            "display": null,
            "flex": null,
            "flex_flow": null,
            "grid_area": null,
            "grid_auto_columns": null,
            "grid_auto_flow": null,
            "grid_auto_rows": null,
            "grid_column": null,
            "grid_gap": null,
            "grid_row": null,
            "grid_template_areas": null,
            "grid_template_columns": null,
            "grid_template_rows": null,
            "height": null,
            "justify_content": null,
            "justify_items": null,
            "left": null,
            "margin": null,
            "max_height": null,
            "max_width": null,
            "min_height": null,
            "min_width": null,
            "object_fit": null,
            "object_position": null,
            "order": null,
            "overflow": null,
            "overflow_x": null,
            "overflow_y": null,
            "padding": null,
            "right": null,
            "top": null,
            "visibility": null,
            "width": null
          }
        },
        "ed108009b1fd4a5d892ce30d37ef54a1": {
          "model_module": "@jupyter-widgets/base",
          "model_name": "LayoutModel",
          "model_module_version": "1.2.0",
          "state": {
            "_model_module": "@jupyter-widgets/base",
            "_model_module_version": "1.2.0",
            "_model_name": "LayoutModel",
            "_view_count": null,
            "_view_module": "@jupyter-widgets/base",
            "_view_module_version": "1.2.0",
            "_view_name": "LayoutView",
            "align_content": null,
            "align_items": null,
            "align_self": null,
            "border": null,
            "bottom": null,
            "display": null,
            "flex": null,
            "flex_flow": null,
            "grid_area": null,
            "grid_auto_columns": null,
            "grid_auto_flow": null,
            "grid_auto_rows": null,
            "grid_column": null,
            "grid_gap": null,
            "grid_row": null,
            "grid_template_areas": null,
            "grid_template_columns": null,
            "grid_template_rows": null,
            "height": null,
            "justify_content": null,
            "justify_items": null,
            "left": null,
            "margin": null,
            "max_height": null,
            "max_width": null,
            "min_height": null,
            "min_width": null,
            "object_fit": null,
            "object_position": null,
            "order": null,
            "overflow": null,
            "overflow_x": null,
            "overflow_y": null,
            "padding": null,
            "right": null,
            "top": null,
            "visibility": null,
            "width": null
          }
        },
        "d4bd0e231ff041e184ad6838e8a4e947": {
          "model_module": "@jupyter-widgets/controls",
          "model_name": "DescriptionStyleModel",
          "model_module_version": "1.5.0",
          "state": {
            "_model_module": "@jupyter-widgets/controls",
            "_model_module_version": "1.5.0",
            "_model_name": "DescriptionStyleModel",
            "_view_count": null,
            "_view_module": "@jupyter-widgets/base",
            "_view_module_version": "1.2.0",
            "_view_name": "StyleView",
            "description_width": ""
          }
        },
        "9fbd401723a342769b819e38fcff668e": {
          "model_module": "@jupyter-widgets/base",
          "model_name": "LayoutModel",
          "model_module_version": "1.2.0",
          "state": {
            "_model_module": "@jupyter-widgets/base",
            "_model_module_version": "1.2.0",
            "_model_name": "LayoutModel",
            "_view_count": null,
            "_view_module": "@jupyter-widgets/base",
            "_view_module_version": "1.2.0",
            "_view_name": "LayoutView",
            "align_content": null,
            "align_items": null,
            "align_self": null,
            "border": null,
            "bottom": null,
            "display": null,
            "flex": null,
            "flex_flow": null,
            "grid_area": null,
            "grid_auto_columns": null,
            "grid_auto_flow": null,
            "grid_auto_rows": null,
            "grid_column": null,
            "grid_gap": null,
            "grid_row": null,
            "grid_template_areas": null,
            "grid_template_columns": null,
            "grid_template_rows": null,
            "height": null,
            "justify_content": null,
            "justify_items": null,
            "left": null,
            "margin": null,
            "max_height": null,
            "max_width": null,
            "min_height": null,
            "min_width": null,
            "object_fit": null,
            "object_position": null,
            "order": null,
            "overflow": null,
            "overflow_x": null,
            "overflow_y": null,
            "padding": null,
            "right": null,
            "top": null,
            "visibility": null,
            "width": null
          }
        },
        "fd287d1e0e2445aa87767f1eb8f01e16": {
          "model_module": "@jupyter-widgets/controls",
          "model_name": "ProgressStyleModel",
          "model_module_version": "1.5.0",
          "state": {
            "_model_module": "@jupyter-widgets/controls",
            "_model_module_version": "1.5.0",
            "_model_name": "ProgressStyleModel",
            "_view_count": null,
            "_view_module": "@jupyter-widgets/base",
            "_view_module_version": "1.2.0",
            "_view_name": "StyleView",
            "bar_color": null,
            "description_width": ""
          }
        },
        "088a1cef51954ff0b49374c1b63a4da2": {
          "model_module": "@jupyter-widgets/base",
          "model_name": "LayoutModel",
          "model_module_version": "1.2.0",
          "state": {
            "_model_module": "@jupyter-widgets/base",
            "_model_module_version": "1.2.0",
            "_model_name": "LayoutModel",
            "_view_count": null,
            "_view_module": "@jupyter-widgets/base",
            "_view_module_version": "1.2.0",
            "_view_name": "LayoutView",
            "align_content": null,
            "align_items": null,
            "align_self": null,
            "border": null,
            "bottom": null,
            "display": null,
            "flex": null,
            "flex_flow": null,
            "grid_area": null,
            "grid_auto_columns": null,
            "grid_auto_flow": null,
            "grid_auto_rows": null,
            "grid_column": null,
            "grid_gap": null,
            "grid_row": null,
            "grid_template_areas": null,
            "grid_template_columns": null,
            "grid_template_rows": null,
            "height": null,
            "justify_content": null,
            "justify_items": null,
            "left": null,
            "margin": null,
            "max_height": null,
            "max_width": null,
            "min_height": null,
            "min_width": null,
            "object_fit": null,
            "object_position": null,
            "order": null,
            "overflow": null,
            "overflow_x": null,
            "overflow_y": null,
            "padding": null,
            "right": null,
            "top": null,
            "visibility": null,
            "width": null
          }
        },
        "c4bfa770f58042b3846c09ead37bd035": {
          "model_module": "@jupyter-widgets/controls",
          "model_name": "DescriptionStyleModel",
          "model_module_version": "1.5.0",
          "state": {
            "_model_module": "@jupyter-widgets/controls",
            "_model_module_version": "1.5.0",
            "_model_name": "DescriptionStyleModel",
            "_view_count": null,
            "_view_module": "@jupyter-widgets/base",
            "_view_module_version": "1.2.0",
            "_view_name": "StyleView",
            "description_width": ""
          }
        }
      }
    }
  },
  "nbformat": 4,
  "nbformat_minor": 5
}