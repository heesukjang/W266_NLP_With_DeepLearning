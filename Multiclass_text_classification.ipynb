{
  "cells": [
    {
      "cell_type": "markdown",
      "metadata": {
        "id": "view-in-github",
        "colab_type": "text"
      },
      "source": [
        "<a href=\"https://colab.research.google.com/github/heesukjang/W266_NLP_With_DeepLearning/blob/main/Multiclass_text_classification.ipynb\" target=\"_parent\"><img src=\"https://colab.research.google.com/assets/colab-badge.svg\" alt=\"Open In Colab\"/></a>"
      ]
    },
    {
      "cell_type": "markdown",
      "metadata": {
        "id": "Z-44Qz4-Xd1o"
      },
      "source": [
        "# Assignment 3: Fine tuning a multiclass classification BERT model\n",
        "\n",
        "**Description:** This assignment covers fine-tuning of a multiclass classification. You will compare two different types of solutions using BERT-based models. You should also be able to develop an intuition for:\n",
        "\n",
        "\n",
        "* Working with BERT\n",
        "* Using multiple models to focus on different sub-tasks\n",
        "* Different metrics to measure the effectiveness of your model\n",
        "\n",
        "\n",
        "\n",
        "The assignment notebook closely follows the lesson notebooks. We will use the 20 newsgroups dataset and will leverage some of the models, or part of the code, for our current investigation. \n",
        "\n",
        "**You are strongly encouraged to read through the entire notebook before answering any questions or writing any code.**\n",
        "\n",
        "The initial part of the notebook is purely setup. We will then generate our BERT model and see if and how we can improve it. \n",
        "\n",
        "Do not try to run this entire notebook on your GCP instance as the training of models requires a GPU to work in a timely fashion. This notebook should be run on a Google Colab leveraging a GPU. By default, when you open the notebook in Colab it will try to use a GPU. Total runtime of the entire notebook (with solutions and a Colab GPU) should be about 1h.\n",
        "\n",
        "\n",
        "[![Open In Colab](https://colab.research.google.com/assets/colab-badge.svg)](https://colab.research.google.com/github/datasci-w266/2023-spring-main/blob/master/assignment/a3/Multiclass_text_classification.ipynb)\n",
        "\n",
        "The overall assignment structure is as follows:\n",
        "\n",
        "1. Setup\n",
        "  \n",
        "  1.1 Libraries & Helper Functions\n",
        "\n",
        "  1.2 Data Acquisition\n",
        "\n",
        "  1.3 Training/Test/Validation Sets for BERT-based models\n",
        "\n",
        "2. Classification with a fine tuned BERT model\n",
        "\n",
        "  2.1 Create the specified BERT model\n",
        "  \n",
        "  2.2 Fine tune the BERT model as directed\n",
        "\n",
        "  2.3 Examine the predictions with various metrics\n",
        "\n",
        "3. Classification using two stages\n",
        "\n",
        "  3.1 Relabel the data to group the often confused classes\n",
        "\n",
        "  3.2 Train the first stage model on the relabeled data\n",
        "\n",
        "  3.3 Separate the data for just the confused classes\n",
        "\n",
        "  3.4. Train the second stage model on the two classes\n",
        "\n",
        "  3.5. Combine and evaluate the predictions from the two stages\n",
        "\n",
        "4. Look at examples of misclassifications, see what might have changed\n",
        "\n",
        "\n",
        "\n",
        "**INSTRUCTIONS:**: \n",
        "\n",
        "* Questions are always indicated as **QUESTION:**, so you can search for this string to make sure you answered all of the questions. You are expected to fill out, run, and submit this notebook, as well as to answer the questions in the **answers** file as you did in a1 and a2.\n",
        "\n",
        "* **### YOUR CODE HERE** indicates that you are supposed to write code.\n",
        "\n",
        "* If you want to, you can run all of the cells in section 1 in bulk. This is setup work and no questions are in there. At the end of section 1 we will state all of the relevant variables that were defined and created in section 1.\n",
        "\n",
        "* **IMPORTANT NOTE:** Because the data we're using is downloaded each time we run section 1, a different split of train, validation, and test records is created.  This means that the accuracy, precision, recall, and F1 scores will change, although the delta will be small.  Please enter the values from your final run so that the answer values in your answers file correspond to the answer values in the outputs in your notebook.\n"
      ]
    },
    {
      "cell_type": "markdown",
      "metadata": {
        "id": "NK2xTV-Xisrl"
      },
      "source": [
        "### 1. Setup\n",
        "\n",
        "Lets get all our libraries and download and process our data."
      ]
    },
    {
      "cell_type": "code",
      "execution_count": null,
      "metadata": {
        "colab": {
          "base_uri": "https://localhost:8080/"
        },
        "id": "3gzOXaFdmgO8",
        "outputId": "00e69a85-54ad-49f6-eff9-59b10fc09d1f"
      },
      "outputs": [
        {
          "output_type": "stream",
          "name": "stdout",
          "text": [
            "\u001b[2K     \u001b[90m━━━━━━━━━━━━━━━━━━━━━━━━━━━━━━━━━━━━━━━━\u001b[0m \u001b[32m6.3/6.3 MB\u001b[0m \u001b[31m67.7 MB/s\u001b[0m eta \u001b[36m0:00:00\u001b[0m\n",
            "\u001b[2K     \u001b[90m━━━━━━━━━━━━━━━━━━━━━━━━━━━━━━━━━━━━━━━━\u001b[0m \u001b[32m7.6/7.6 MB\u001b[0m \u001b[31m70.1 MB/s\u001b[0m eta \u001b[36m0:00:00\u001b[0m\n",
            "\u001b[2K     \u001b[90m━━━━━━━━━━━━━━━━━━━━━━━━━━━━━━━━━━━━━━━\u001b[0m \u001b[32m190.3/190.3 KB\u001b[0m \u001b[31m8.2 MB/s\u001b[0m eta \u001b[36m0:00:00\u001b[0m\n",
            "\u001b[?25h"
          ]
        }
      ],
      "source": [
        "!pip install -q transformers"
      ]
    },
    {
      "cell_type": "code",
      "execution_count": null,
      "metadata": {
        "colab": {
          "base_uri": "https://localhost:8080/"
        },
        "id": "ULcKJUjHmkZT",
        "outputId": "8bd08ed7-54d2-40fc-8c78-add65f22d8f9"
      },
      "outputs": [
        {
          "output_type": "stream",
          "name": "stdout",
          "text": [
            "Looking in indexes: https://pypi.org/simple, https://us-python.pkg.dev/colab-wheels/public/simple/\n",
            "Requirement already satisfied: pydot in /usr/local/lib/python3.8/dist-packages (1.3.0)\n",
            "Requirement already satisfied: pyparsing>=2.1.4 in /usr/local/lib/python3.8/dist-packages (from pydot) (3.0.9)\n"
          ]
        }
      ],
      "source": [
        "!pip install pydot"
      ]
    },
    {
      "cell_type": "code",
      "execution_count": null,
      "metadata": {
        "id": "aTq7Qjqbmkfv"
      },
      "outputs": [],
      "source": [
        "from sklearn.datasets import fetch_20newsgroups\n",
        "from sklearn.model_selection import train_test_split\n",
        "from sklearn.metrics import classification_report"
      ]
    },
    {
      "cell_type": "code",
      "execution_count": null,
      "metadata": {
        "id": "-6E-xzDawK0Q"
      },
      "outputs": [],
      "source": [
        "from collections import Counter\n",
        "import numpy as np\n",
        "import tensorflow as tf\n",
        "from tensorflow import keras\n",
        "\n",
        "import seaborn as sns\n",
        "import matplotlib.pyplot as plt\n",
        "from pprint import pprint "
      ]
    },
    {
      "cell_type": "code",
      "execution_count": null,
      "metadata": {
        "id": "99yIOuqFXMwU"
      },
      "outputs": [],
      "source": [
        "from transformers import BertTokenizer, TFBertModel"
      ]
    },
    {
      "cell_type": "code",
      "execution_count": null,
      "metadata": {
        "id": "UWk_PZ9hmkk0"
      },
      "outputs": [],
      "source": [
        "def read_20newsgroups(test_size=0.1):\n",
        "  # download & load 20newsgroups dataset from sklearn's repos\n",
        "  dataset = fetch_20newsgroups(subset=\"all\", shuffle=True, remove=(\"headers\", \"footers\", \"quotes\"))\n",
        "  documents = dataset.data\n",
        "  labels = dataset.target\n",
        "  # split into training & testing a return data as well as label names\n",
        "  return train_test_split(documents, labels, test_size=test_size), dataset.target_names\n",
        "  \n",
        "# call the function\n",
        "(train_texts, test_texts, train_labels, test_labels), target_names = read_20newsgroups()"
      ]
    },
    {
      "cell_type": "markdown",
      "metadata": {
        "id": "8Ocyl9dnb1OM"
      },
      "source": [
        "Take a look at the records.  We basically have a long string of text and an associated label.  That label is the Usenet group where the posting occured. The records are the raw text.  They vary significantly in size."
      ]
    },
    {
      "cell_type": "code",
      "execution_count": null,
      "metadata": {
        "id": "O7Akxu2Umkpo",
        "colab": {
          "base_uri": "https://localhost:8080/"
        },
        "outputId": "f45deb2a-fcc9-4bcd-976d-e538701b90ba"
      },
      "outputs": [
        {
          "output_type": "stream",
          "name": "stdout",
          "text": [
            "len(train_texts)=16961 | type(train_texts)=<class 'list'>\n"
          ]
        },
        {
          "output_type": "execute_result",
          "data": {
            "text/plain": [
              "[\"\\nHopefully, a miracle (o.k. not quite a miracle, but close!) will occur and\\nPittsburgh will be elminated prior to the finals.  If they make it again, \\nthey will probably keep the Cup.  If they don't, it's the Hawks' turn!\\n\\nGO BLACKHAWKS!!\\n\\nCONGRATS TO JEREMY ROENICK FOR BEING ONLY THE 2ND HAWKS PLAYER TO POST \\nBACK TO BACK 50 GOAL SEASONS!!\",\n",
              " '']"
            ]
          },
          "metadata": {},
          "execution_count": 7
        }
      ],
      "source": [
        "print(f'len(train_texts)={len(train_texts)} | type(train_texts)={type(train_texts)}')\n",
        "train_texts[:2]"
      ]
    },
    {
      "cell_type": "markdown",
      "metadata": {
        "id": "1eKIgSBdcHy9"
      },
      "source": [
        "Notice the \"labels\" are just integers that are an offset into the list of target names. (QUESTION: NOT UNDERSTANDING)"
      ]
    },
    {
      "cell_type": "code",
      "execution_count": null,
      "metadata": {
        "id": "KRnu9CSQnMNN",
        "colab": {
          "base_uri": "https://localhost:8080/"
        },
        "outputId": "2b062476-c93d-4ebd-ad9b-e01ca7462192"
      },
      "outputs": [
        {
          "output_type": "execute_result",
          "data": {
            "text/plain": [
              "array([10,  0])"
            ]
          },
          "metadata": {},
          "execution_count": 8
        }
      ],
      "source": [
        "# the 1st raw text is labeled as \"rec.autos\" at index 7 \n",
        "# the 2nd raw text is labeled as \"talk.politics.mideast\" at index 17 ??? \n",
        "train_labels[:2]"
      ]
    },
    {
      "cell_type": "markdown",
      "metadata": {
        "id": "F-ksEnmbcWBt"
      },
      "source": [
        "The variable ''target_names'' stores all of the names of the labels."
      ]
    },
    {
      "cell_type": "code",
      "execution_count": null,
      "metadata": {
        "id": "qvNAnCstx-3S",
        "colab": {
          "base_uri": "https://localhost:8080/"
        },
        "outputId": "24517033-1a08-443b-9663-efc57b8d9828"
      },
      "outputs": [
        {
          "output_type": "stream",
          "name": "stdout",
          "text": [
            "['alt.atheism', 'comp.graphics', 'comp.os.ms-windows.misc', 'comp.sys.ibm.pc.hardware', 'comp.sys.mac.hardware', 'comp.windows.x', 'misc.forsale', 'rec.autos', 'rec.motorcycles', 'rec.sport.baseball', 'rec.sport.hockey', 'sci.crypt', 'sci.electronics', 'sci.med', 'sci.space', 'soc.religion.christian', 'talk.politics.guns', 'talk.politics.mideast', 'talk.politics.misc', 'talk.religion.misc']\n",
            "0 alt.atheism\n",
            "1 comp.graphics\n",
            "2 comp.os.ms-windows.misc\n",
            "3 comp.sys.ibm.pc.hardware\n",
            "4 comp.sys.mac.hardware\n",
            "5 comp.windows.x\n",
            "6 misc.forsale\n",
            "7 rec.autos\n",
            "8 rec.motorcycles\n",
            "9 rec.sport.baseball\n",
            "10 rec.sport.hockey\n",
            "11 sci.crypt\n",
            "12 sci.electronics\n",
            "13 sci.med\n",
            "14 sci.space\n",
            "15 soc.religion.christian\n",
            "16 talk.politics.guns\n",
            "17 talk.politics.mideast\n",
            "18 talk.politics.misc\n",
            "19 talk.religion.misc\n"
          ]
        }
      ],
      "source": [
        "print(target_names)\n",
        "\n",
        "for idx, val in enumerate(target_names):\n",
        "  print(idx, val)"
      ]
    },
    {
      "cell_type": "markdown",
      "metadata": {
        "id": "m1SmEVYOcwP6"
      },
      "source": [
        "We already have a test set and a train set.  Let's explicitly set aside part of our training set for validation purposes. (split the given training further into training and validation set) "
      ]
    },
    {
      "cell_type": "code",
      "execution_count": null,
      "metadata": {
        "id": "H1toWirQAAZ8",
        "colab": {
          "base_uri": "https://localhost:8080/"
        },
        "outputId": "0a77c77f-827c-4122-a3ad-69e793bd86cc"
      },
      "outputs": [
        {
          "output_type": "stream",
          "name": "stdout",
          "text": [
            "len(train_texts) = 16961\n",
            "len(valid_texts) = 961\n",
            "len(valid_labels) = 961\n",
            "len(train_texts) = 16000\n",
            "len(train_texts) = 16000\n"
          ]
        }
      ],
      "source": [
        "print(f'len(train_texts) = {len(train_texts)}')\n",
        "valid_texts = train_texts[16000:]\n",
        "valid_labels = train_labels[16000:]     # set about 5% of the total training set to be validation set\n",
        "train_texts = train_texts[:16000]\n",
        "train_labels = train_labels[:16000]\n",
        "\n",
        "print(f'len(valid_texts) = {len(valid_texts)}\\nlen(valid_labels) = {len(valid_labels)}')\n",
        "print(f'len(train_texts) = {len(train_labels)}\\nlen(train_texts) = {len(train_labels)}')"
      ]
    },
    {
      "cell_type": "markdown",
      "metadata": {
        "id": "aBMiGVwHc76-"
      },
      "source": [
        "The validation set will always have 961 records."
      ]
    },
    {
      "cell_type": "code",
      "execution_count": null,
      "metadata": {
        "id": "bzuXsJjwAAOr",
        "colab": {
          "base_uri": "https://localhost:8080/"
        },
        "outputId": "45260aca-23e8-4964-a871-14e63f0104cc"
      },
      "outputs": [
        {
          "output_type": "execute_result",
          "data": {
            "text/plain": [
              "961"
            ]
          },
          "metadata": {},
          "execution_count": 11
        }
      ],
      "source": [
        "len(valid_texts)"
      ]
    },
    {
      "cell_type": "markdown",
      "metadata": {
        "id": "SBy5EKYwdBcZ"
      },
      "source": [
        "The training set will always have 16000 records."
      ]
    },
    {
      "cell_type": "code",
      "execution_count": null,
      "metadata": {
        "id": "MMVgiD8SCHUk",
        "colab": {
          "base_uri": "https://localhost:8080/"
        },
        "outputId": "9d3dbb9c-72f1-464e-f927-f406d4bee252"
      },
      "outputs": [
        {
          "output_type": "execute_result",
          "data": {
            "text/plain": [
              "16000"
            ]
          },
          "metadata": {},
          "execution_count": 12
        }
      ],
      "source": [
        "len(train_texts)"
      ]
    },
    {
      "cell_type": "markdown",
      "metadata": {
        "id": "LGVOwMBKu2OW"
      },
      "source": [
        "**NOTE:** Each time you rerun the data you will draw a *different* set of train and test documents even though the numbers 961 and 16000 will always be the same."
      ]
    },
    {
      "cell_type": "code",
      "execution_count": null,
      "metadata": {
        "id": "mFISqjoM335H",
        "colab": {
          "base_uri": "https://localhost:8080/"
        },
        "outputId": "4cb54b28-6e9b-48d9-e739-9a38b8773b5b"
      },
      "outputs": [
        {
          "output_type": "stream",
          "name": "stdout",
          "text": [
            "961 [4 6 4 5 5 3 5 5 5 3]\n"
          ]
        }
      ],
      "source": [
        "#get the labels in a needed data format for validation\n",
        "npvalid_labels = np.asarray(valid_labels)   \n",
        "print(len(npvalid_labels), npvalid_labels[:10])"
      ]
    },
    {
      "cell_type": "markdown",
      "metadata": {
        "id": "d3T5uytRdK7I"
      },
      "source": [
        "* train_texts - an array of text strings for training\n",
        "* test_texts - an array of text strings for testing \n",
        "* valid texts - an array of text strings for validation\n",
        "* train_labels - an array of integers representing the labels associated with train_texts\n",
        "* test_labels - an array of integers representing the labels associated with test_texts\n",
        "* valid_labels - an array of integers representing the labels associated with valid_texts\n",
        "* target_names - an array of label strings that correspond to the integers in the *_labels arrays\n",
        "\n",
        "### 2. Classification with a fine tuned BERT model\n",
        "\n",
        "Let's pick our BERT model.  We'll start with the base BERT model and we'll use the cased version since our data has capital and lower case letters."
      ]
    },
    {
      "cell_type": "code",
      "execution_count": null,
      "metadata": {
        "id": "zjFWaM2ZnMIC"
      },
      "outputs": [],
      "source": [
        "#make it easier to use a variety of BERT subword models\n",
        "model_checkpoint = 'bert-base-cased'   # case sensitive (care about upper and lower case)"
      ]
    },
    {
      "cell_type": "code",
      "execution_count": null,
      "metadata": {
        "id": "-7gV_GUdn9Ck",
        "colab": {
          "base_uri": "https://localhost:8080/",
          "height": 254,
          "referenced_widgets": [
            "8429eaae27444bfb865b7c4812525e60",
            "10f9722893fe4f5ab90ecf329cc0ab6a",
            "4167f8c8b81742c2acd25d59f27434bd",
            "1e6dce391de9479d8014de2cc8e0e12b",
            "70b2cabba89e4f4eb37b7785bf246645",
            "9bb27b999dea497dbbc98a7b7b2d86a3",
            "9bd917cd18c549a0a9225a0732929817",
            "d51ebb562b804db2b3883ad102bb008b",
            "54fd05f0508743449f11b624f5b7cb06",
            "4427f8a15aa2417483d7bc6e514b6ce4",
            "1576d74267a140288b009c4bfc39857e",
            "2565d8ca26f741cb855575461590a7c1",
            "2d5c9ebb355c47fb992bab5d95e50944",
            "f9446aa4b47c45a59518dbba9369b13f",
            "be22ce498f27479e91c04b32b01972ce",
            "94430bf4919d4dd5b49be3ece00eedd1",
            "4e3707a42ba04aea93eb929c42661fc8",
            "2e4f1139725d405298acc9163a442023",
            "185cd7dc0de54382a39dca9a433df78f",
            "a9d924999e0d45a9af2ff6c7c2ca3934",
            "2b39ea663faa4b70a39aaf69b6a471db",
            "21fb6d7f051e4c61bdc1c54705976df1",
            "489cbb1f411c45309bcc054a35a4caca",
            "839c9291686b43b59bf5825b4b50c54d",
            "d7f5ca27272e4c54bfb593db96a0b9c0",
            "2469ab3444bf4a29b5f00fc6fd1f390a",
            "cb98bcc4d9dc40aaa46b082f38381644",
            "b73d6002a79d413ea08585a708c53156",
            "df53919a33d742a58186260833785ae6",
            "1640bbb0908b454bacc84a73342649c0",
            "9b10017aa9984ff4b6e33c025a579e56",
            "ce70e77ff1b74b3f988ca691dac10edb",
            "d6d80361bb3847169748d4c15cf491f2",
            "49e43384cbd5433bb22d3584621b7ce8",
            "0bc88245bf544c44b8fd358935eb0006",
            "099f905966c94abe974d4bfa4291fc6d",
            "291ae692cc3348eca421910de692a73b",
            "95f5d6f95bfb467792de38d12e3bc292",
            "3a88f35731564e69be66490e6293279f",
            "ec529cad72bf4467b6cf31e713c14f76",
            "c243ac920b5743cfbecc64d34a2a2ac9",
            "ba9b18bd3c014690af2afbfcf993d4e2",
            "fa33ede9ff4a4f568c79ec914bf9c95d",
            "e4cc4fc1f9f54d81b875554591a3739a"
          ]
        },
        "outputId": "afc85a71-8f47-4043-be6f-e919707ea52d"
      },
      "outputs": [
        {
          "output_type": "display_data",
          "data": {
            "text/plain": [
              "Downloading (…)solve/main/vocab.txt:   0%|          | 0.00/213k [00:00<?, ?B/s]"
            ],
            "application/vnd.jupyter.widget-view+json": {
              "version_major": 2,
              "version_minor": 0,
              "model_id": "8429eaae27444bfb865b7c4812525e60"
            }
          },
          "metadata": {}
        },
        {
          "output_type": "display_data",
          "data": {
            "text/plain": [
              "Downloading (…)okenizer_config.json:   0%|          | 0.00/29.0 [00:00<?, ?B/s]"
            ],
            "application/vnd.jupyter.widget-view+json": {
              "version_major": 2,
              "version_minor": 0,
              "model_id": "2565d8ca26f741cb855575461590a7c1"
            }
          },
          "metadata": {}
        },
        {
          "output_type": "display_data",
          "data": {
            "text/plain": [
              "Downloading (…)lve/main/config.json:   0%|          | 0.00/570 [00:00<?, ?B/s]"
            ],
            "application/vnd.jupyter.widget-view+json": {
              "version_major": 2,
              "version_minor": 0,
              "model_id": "489cbb1f411c45309bcc054a35a4caca"
            }
          },
          "metadata": {}
        },
        {
          "output_type": "display_data",
          "data": {
            "text/plain": [
              "Downloading (…)\"tf_model.h5\";:   0%|          | 0.00/527M [00:00<?, ?B/s]"
            ],
            "application/vnd.jupyter.widget-view+json": {
              "version_major": 2,
              "version_minor": 0,
              "model_id": "49e43384cbd5433bb22d3584621b7ce8"
            }
          },
          "metadata": {}
        },
        {
          "output_type": "stream",
          "name": "stderr",
          "text": [
            "Some layers from the model checkpoint at bert-base-cased were not used when initializing TFBertModel: ['mlm___cls', 'nsp___cls']\n",
            "- This IS expected if you are initializing TFBertModel from the checkpoint of a model trained on another task or with another architecture (e.g. initializing a BertForSequenceClassification model from a BertForPreTraining model).\n",
            "- This IS NOT expected if you are initializing TFBertModel from the checkpoint of a model that you expect to be exactly identical (initializing a BertForSequenceClassification model from a BertForSequenceClassification model).\n",
            "All the layers of TFBertModel were initialized from the model checkpoint at bert-base-cased.\n",
            "If your task is similar to the task the model of the checkpoint was trained on, you can already use TFBertModel for predictions without further training.\n"
          ]
        }
      ],
      "source": [
        "bert_tokenizer = BertTokenizer.from_pretrained(model_checkpoint)\n",
        "bert_model = TFBertModel.from_pretrained(model_checkpoint)"
      ]
    },
    {
      "cell_type": "markdown",
      "metadata": {
        "id": "ZJGkIHSHdilH"
      },
      "source": [
        "We're setting our maximum training record length to 200.  BERT models can handle more and after you've completed the assignment you're welcome to try larger and small sized records."
      ]
    },
    {
      "cell_type": "code",
      "execution_count": null,
      "metadata": {
        "id": "h_59AaVznMCV"
      },
      "outputs": [],
      "source": [
        "# defined at a global scope\n",
        "max_length = 200  "
      ]
    },
    {
      "cell_type": "markdown",
      "metadata": {
        "id": "n6d54_bqd58L"
      },
      "source": [
        "Now we'll tokenize our three data slices.  This will take a minute or two."
      ]
    },
    {
      "cell_type": "code",
      "execution_count": null,
      "metadata": {
        "id": "bgv0nftinL6z"
      },
      "outputs": [],
      "source": [
        "# tokenize the dataset, truncate when passed `max_length`, \n",
        "# and pad with 0's when less than `max_length` and return a tf Tensor\n",
        "train_encodings = bert_tokenizer(train_texts, truncation=True, padding=True, max_length=max_length, return_tensors='tf')\n",
        "valid_encodings = bert_tokenizer(valid_texts, truncation=True, padding=True, max_length=max_length, return_tensors='tf')\n",
        "test_encodings = bert_tokenizer(test_texts, truncation=True, padding=True, max_length=max_length, return_tensors='tf')"
      ]
    },
    {
      "cell_type": "markdown",
      "metadata": {
        "id": "2gNS0Fi0emN8"
      },
      "source": [
        "Notice our input_ids for the first training record and their padding. The train_encodings also includes an array of token_type_ids and an attention_mask array. "
      ]
    },
    {
      "cell_type": "code",
      "execution_count": null,
      "metadata": {
        "id": "XFEXxgAmnLve",
        "colab": {
          "base_uri": "https://localhost:8080/"
        },
        "outputId": "b1abdcfc-9bf5-46a1-de54-6a8e06faa6f3"
      },
      "outputs": [
        {
          "output_type": "stream",
          "name": "stdout",
          "text": [
            "len(train_encodings.input_ids[:1]) =  1 \n",
            "train_encodings.input_ids[:1] tf.Tensor(\n",
            "[[  101 23122   117   170 14173   113   184   119   180   119  1136  2385\n",
            "    170 14173   117  1133  1601   106   114  1209  4467  1105  5610  1209\n",
            "   1129  8468 23713  2988  1106  1103  4278   119  1409  1152  1294  1122\n",
            "   1254   117  1152  1209  1930  1712  1103  1635   119  1409  1152  1274\n",
            "    112   189   117  1122   112   188  1103 14126   112  1885   106 27157\n",
            "    139 10783  1658  2428 11612  2924 25370   106   106 18732 11780  9664\n",
            "  11365 16972   147  9637 15577  3663   155 19825 27451  1658  2428   143\n",
            "   9565   139 27514 11780 21748  2162  3663  7462   123 16769   145  1592\n",
            "   2924 25370   153 10783  3663  9637 16972   153  9025  1942 12465  1658\n",
            "   2428 16972 12465  1658  2428  1851 27157 12507 12342 10719 11414  1708\n",
            "    106   106   102     0     0     0     0     0     0     0     0     0\n",
            "      0     0     0     0     0     0     0     0     0     0     0     0\n",
            "      0     0     0     0     0     0     0     0     0     0     0     0\n",
            "      0     0     0     0     0     0     0     0     0     0     0     0\n",
            "      0     0     0     0     0     0     0     0     0     0     0     0\n",
            "      0     0     0     0     0     0     0     0     0     0     0     0\n",
            "      0     0     0     0     0     0     0     0]], shape=(1, 200), dtype=int32)\n"
          ]
        }
      ],
      "source": [
        "# return type: tensor encoding\n",
        "print('len(train_encodings.input_ids[:1]) = ',len(train_encodings.input_ids[:1]), '\\ntrain_encodings.input_ids[:1]',train_encodings.input_ids[:1])"
      ]
    },
    {
      "cell_type": "markdown",
      "metadata": {
        "id": "23lwfDw2T6gI"
      },
      "source": [
        "### Write a function to **create this multiclass bert model**.\n",
        "\n",
        "Keep in mind the following:\n",
        "* Each record can have one of n labels where **n = the size of target_names**.\n",
        "* We'll still want a **hidden size layer of size 201**\n",
        "* We'll want our hidden layer to make use of the **pooler output** from BERT\n",
        "* We'll also want to use **dropout**\n",
        "* Our **classification layer** will need to be appropriately sized and use the correct non-linearity for a multi-class problem.\n",
        "* Since we have multiple labels we can no longer use binary cross entropy.  Instead we need to change our loss metric to a **categorical cross entropy (one-hot encoding based loss)**.  Which of the two categorical cross entropy metrics will work best here? \n",
        "* Make sure that training affects **all** of the layers in BERT.\n"
      ]
    },
    {
      "cell_type": "markdown",
      "source": [
        "[metrics=SparseCategoricalCrossentropy()](https://www.tensorflow.org/api_docs/python/tf/keras/metrics/SparseCategoricalCrossentropy)<br>\n",
        "Computes the crossentropy metric between thh labels and predictions **(integer-based loss)**. Cross entropy loss is a metric used to measure how well a classification model in machine learning performs. The loss (or error) is measured as a number between 0 and 1, with 0 being a perfect model. The goal is generally to get your model as close to 0 as possible\n",
        "\n",
        "[metrics=tf.keras.metrics.Accuracy](https://www.tensorflow.org/api_docs/python/tf/keras/metrics/Accuracy)<br>Calculates how often predictions equal labels.\n",
        "\n",
        "[metrics=tf.keras.metrics.SparseCategoricalAccuracy](https://www.tensorflow.org/api_docs/python/tf/keras/metrics/SparseCategoricalAccuracy)<br>\n",
        "Computes how often predictions match integer labels."
      ],
      "metadata": {
        "id": "vh7sXxxZM2i1"
      }
    },
    {
      "cell_type": "code",
      "execution_count": null,
      "metadata": {
        "id": "RtWMrLi4tIun"
      },
      "outputs": [],
      "source": [
        "# we want to use \"sparse_categorical_crossentropy (integer-based loss function)\" \n",
        "#   compared to just \"categorial_crossentropy (one-hot encoding based loss i.e.)\"\n",
        "from keras.utils.layer_utils import count_params\n",
        "\n",
        "def create_bert_multiclass_model(checkpoint = model_checkpoint,\n",
        "                                 num_classes = 20,\n",
        "                                 hidden_size = 201, \n",
        "                                 dropout=0.3,\n",
        "                                 learning_rate=0.00005):\n",
        "\n",
        "    \"\"\"\n",
        "    Build a simple classification model with BERT. Use the Pooler Output for classification purposes.\n",
        "    \"\"\"\n",
        "    bert_model = TFBertModel.from_pretrained(checkpoint)                                              \n",
        "\n",
        "    ### YOUR CODE HERE\n",
        "    bert_model.trainable = True     # Make sure that training affects all of the layers in BERT. (set this as default)\n",
        "\n",
        "    input_ids = tf.keras.layers.Input(shape=(max_length,), dtype=tf.int64, name='input_ids_layer')\n",
        "    token_type_ids = tf.keras.layers.Input(shape=(max_length,), dtype=tf.int64, name='token_type_ids_layer')\n",
        "    attention_mask = tf.keras.layers.Input(shape=(max_length,), dtype=tf.int64, name='attention_mask_layer')\n",
        "\n",
        "    bert_inputs = {'input_ids': input_ids,\n",
        "                   'token_type_ids': token_type_ids,\n",
        "                   'attention_mask': attention_mask}\n",
        "\n",
        "    bert_out = bert_model(bert_inputs)\n",
        "    pooler_output = bert_out[1]    # one vector for each \n",
        "    \n",
        "    hidden = tf.keras.layers.Dense(hidden_size, activation='relu', name='hidden_layer')(pooler_output)\n",
        "    hidden = tf.keras.layers.Dropout(dropout)(hidden)  \n",
        "\n",
        "    classification = tf.keras.layers.Dense(num_classes, activation='softmax',name='classification_layer')(hidden)    \n",
        "    classification_model = tf.keras.Model(inputs=[input_ids, token_type_ids, attention_mask], outputs=[classification])\n",
        "\n",
        "    classification_model.compile(optimizer=tf.keras.optimizers.Adam(learning_rate=learning_rate),\n",
        "                                 loss=tf.keras.losses.SparseCategoricalCrossentropy(from_logits=False),          # A 'sigmoid' activation layer turns the output \"logit\" into a value, 0-1 \n",
        "                                 metrics='accuracy')                                        # work for both string and integer based labels - if your data is imbalanced, you would want F1 score or BLUE for the text classification\n",
        "                                #  metrics=tf.keras.metrics.SparseCategoricalAccuracy())    # only for the integer based labels\n",
        "    ### END YOUR CODE\n",
        "    return classification_model"
      ]
    },
    {
      "cell_type": "code",
      "execution_count": null,
      "metadata": {
        "id": "uR-Id158tIlH",
        "colab": {
          "base_uri": "https://localhost:8080/"
        },
        "outputId": "fbf5b045-9ca5-4444-d57a-1380fd62d417"
      },
      "outputs": [
        {
          "output_type": "stream",
          "name": "stderr",
          "text": [
            "Some layers from the model checkpoint at bert-base-cased were not used when initializing TFBertModel: ['mlm___cls', 'nsp___cls']\n",
            "- This IS expected if you are initializing TFBertModel from the checkpoint of a model trained on another task or with another architecture (e.g. initializing a BertForSequenceClassification model from a BertForPreTraining model).\n",
            "- This IS NOT expected if you are initializing TFBertModel from the checkpoint of a model that you expect to be exactly identical (initializing a BertForSequenceClassification model from a BertForSequenceClassification model).\n",
            "All the layers of TFBertModel were initialized from the model checkpoint at bert-base-cased.\n",
            "If your task is similar to the task the model of the checkpoint was trained on, you can already use TFBertModel for predictions without further training.\n"
          ]
        }
      ],
      "source": [
        "pooler_bert_model = create_bert_multiclass_model(checkpoint=model_checkpoint, num_classes=20)"
      ]
    },
    {
      "cell_type": "code",
      "execution_count": null,
      "metadata": {
        "id": "bMxpO16-tIaE",
        "colab": {
          "base_uri": "https://localhost:8080/"
        },
        "outputId": "23d4b96f-746e-4b28-9366-4bb30331ed74"
      },
      "outputs": [
        {
          "output_type": "stream",
          "name": "stdout",
          "text": [
            "Model: \"model\"\n",
            "__________________________________________________________________________________________________\n",
            " Layer (type)                   Output Shape         Param #     Connected to                     \n",
            "==================================================================================================\n",
            " attention_mask_layer (InputLay  [(None, 200)]       0           []                               \n",
            " er)                                                                                              \n",
            "                                                                                                  \n",
            " input_ids_layer (InputLayer)   [(None, 200)]        0           []                               \n",
            "                                                                                                  \n",
            " token_type_ids_layer (InputLay  [(None, 200)]       0           []                               \n",
            " er)                                                                                              \n",
            "                                                                                                  \n",
            " tf_bert_model_1 (TFBertModel)  TFBaseModelOutputWi  108310272   ['attention_mask_layer[0][0]',   \n",
            "                                thPoolingAndCrossAt               'input_ids_layer[0][0]',        \n",
            "                                tentions(last_hidde               'token_type_ids_layer[0][0]']   \n",
            "                                n_state=(None, 200,                                               \n",
            "                                 768),                                                            \n",
            "                                 pooler_output=(Non                                               \n",
            "                                e, 768),                                                          \n",
            "                                 past_key_values=No                                               \n",
            "                                ne, hidden_states=N                                               \n",
            "                                one, attentions=Non                                               \n",
            "                                e, cross_attentions                                               \n",
            "                                =None)                                                            \n",
            "                                                                                                  \n",
            " hidden_layer (Dense)           (None, 201)          154569      ['tf_bert_model_1[0][1]']        \n",
            "                                                                                                  \n",
            " dropout_74 (Dropout)           (None, 201)          0           ['hidden_layer[0][0]']           \n",
            "                                                                                                  \n",
            " classification_layer (Dense)   (None, 20)           4040        ['dropout_74[0][0]']             \n",
            "                                                                                                  \n",
            "==================================================================================================\n",
            "Total params: 108,468,881\n",
            "Trainable params: 108,468,881\n",
            "Non-trainable params: 0\n",
            "__________________________________________________________________________________________________\n"
          ]
        }
      ],
      "source": [
        "pooler_bert_model.summary()"
      ]
    },
    {
      "cell_type": "markdown",
      "source": [
        "**Param # = Total params** (QUESTION ???)\n",
        "**Total params = Trainable params: 108,468,881** = 108,310,272 + 154,569 + 4,040"
      ],
      "metadata": {
        "id": "eRinvGdqLdfK"
      }
    },
    {
      "cell_type": "markdown",
      "metadata": {
        "id": "5chyZZnHdlf9"
      },
      "source": [
        "**QUESTION:** 2.1 How many trainable parameters are in your dense hidden layer? **154,569**\n",
        "\n",
        "**QUESTION:** 2.2 How many trainable parameters are in your classification layer? **4,040**"
      ]
    },
    {
      "cell_type": "code",
      "execution_count": null,
      "metadata": {
        "id": "xe3tTWX6FVZL",
        "colab": {
          "base_uri": "https://localhost:8080/",
          "height": 438
        },
        "outputId": "3056915b-9816-4351-f4d7-a49ef534bbcc"
      },
      "outputs": [
        {
          "output_type": "execute_result",
          "data": {
            "image/png": "[encoded data removed]",
            "text/plain": [
              "<IPython.core.display.Image object>"
            ]
          },
          "metadata": {},
          "execution_count": 22
        }
      ],
      "source": [
        "keras.utils.plot_model(pooler_bert_model, show_shapes=False, show_dtype=False, show_layer_names=True, dpi=90)"
      ]
    },
    {
      "cell_type": "code",
      "execution_count": null,
      "metadata": {
        "id": "aLLjb3mOtICy",
        "colab": {
          "base_uri": "https://localhost:8080/"
        },
        "outputId": "03de266a-6d73-49c5-d52a-a478fc8598c5"
      },
      "outputs": [
        {
          "output_type": "stream",
          "name": "stdout",
          "text": [
            "2000/2000 [==============================] - 773s 366ms/step - loss: 1.4136 - accuracy: 0.5809 - val_loss: 1.0898 - val_accuracy: 0.6722\n"
          ]
        }
      ],
      "source": [
        "# It takes 10 to 14 minutes to complete an epoch when using a GPU\n",
        "pooler_bert_model_history = pooler_bert_model.fit([train_encodings.input_ids, train_encodings.token_type_ids, train_encodings.attention_mask], \n",
        "                                                  train_labels,   \n",
        "                                                  validation_data=([valid_encodings.input_ids, valid_encodings.token_type_ids, valid_encodings.attention_mask], \n",
        "                                                  npvalid_labels),    \n",
        "                                                  batch_size=8, \n",
        "                                                  epochs=1)  "
      ]
    },
    {
      "cell_type": "markdown",
      "metadata": {
        "id": "rdHlOd4LJUOH"
      },
      "source": [
        "Now we need to run evaluate against our fine-tuned model.  This will give us an overall accuracy based on the test set."
      ]
    },
    {
      "cell_type": "code",
      "execution_count": null,
      "metadata": {
        "id": "dPQn2tJPEGdU",
        "colab": {
          "base_uri": "https://localhost:8080/"
        },
        "outputId": "144727d3-24af-4105-a5ac-652c607307e0"
      },
      "outputs": [
        {
          "output_type": "stream",
          "name": "stdout",
          "text": [
            "59/59 [==============================] - 28s 469ms/step - loss: 1.0816 - accuracy: 0.6822\n",
            "Test loss: 1.081616759300232\n",
            "Test accuracy: 0.6822280883789062\n"
          ]
        }
      ],
      "source": [
        "# batch 8, ML=201\n",
        "score = pooler_bert_model.evaluate([test_encodings.input_ids, test_encodings.token_type_ids, test_encodings.attention_mask], \n",
        "                                                  test_labels) \n",
        "\n",
        "print('Test loss:', score[0]) \n",
        "print('Test accuracy:', score[1])"
      ]
    },
    {
      "cell_type": "markdown",
      "metadata": {
        "id": "3CnyZsXLfLJt"
      },
      "source": [
        "**QUESTION:** 2.3 What is the Test accuracy score you get from your model? (Just copy and paste the value into the answers sheet and round to five significant digits.)  **0.68223**"
      ]
    },
    {
      "cell_type": "code",
      "execution_count": null,
      "metadata": {
        "id": "NS7Gp_IYEiJ_",
        "colab": {
          "base_uri": "https://localhost:8080/"
        },
        "outputId": "124bf19f-c63d-4891-e314-f88bb89165a8"
      },
      "outputs": [
        {
          "output_type": "stream",
          "name": "stdout",
          "text": [
            "1/1 [==============================] - 4s 4s/step\n"
          ]
        }
      ],
      "source": [
        "# run predict for the first three elements in the test data set\n",
        "predictions = pooler_bert_model.predict([test_encodings.input_ids[:3], test_encodings.token_type_ids[:3], test_encodings.attention_mask[:3]])"
      ]
    },
    {
      "cell_type": "code",
      "execution_count": null,
      "metadata": {
        "id": "ymGM8QnpchnC",
        "colab": {
          "base_uri": "https://localhost:8080/"
        },
        "outputId": "92d11b86-2176-4f4d-c53d-6fd23544ae18"
      },
      "outputs": [
        {
          "output_type": "execute_result",
          "data": {
            "text/plain": [
              "array([[3.6064113e-04, 2.0976564e-02, 1.4844143e-01, 7.5160563e-01,\n",
              "        4.8955485e-02, 4.4055586e-03, 4.3107928e-03, 1.5382116e-03,\n",
              "        1.9981798e-04, 7.6792401e-04, 6.1855611e-04, 3.7631043e-03,\n",
              "        6.9792834e-03, 3.1814286e-03, 8.5591193e-04, 3.3944770e-04,\n",
              "        1.7461491e-04, 5.3825206e-04, 1.3540944e-03, 6.3336309e-04],\n",
              "       [2.5166690e-04, 3.6188590e-04, 7.1788533e-04, 4.2717080e-04,\n",
              "        1.1855726e-04, 1.7001682e-04, 1.0310680e-02, 3.9947726e-04,\n",
              "        3.6294837e-04, 9.7999531e-01, 4.0450818e-03, 2.3897686e-04,\n",
              "        5.2343501e-04, 6.2005979e-04, 2.6531809e-04, 2.3643316e-04,\n",
              "        7.4993375e-05, 1.2757679e-04, 5.6029757e-04, 1.9215209e-04],\n",
              "       [1.1242834e-03, 9.1121829e-01, 1.5721543e-02, 3.1993159e-03,\n",
              "        6.9922744e-03, 1.3811795e-02, 6.0570892e-03, 2.2139542e-03,\n",
              "        3.2757884e-03, 6.7681348e-04, 1.1174508e-03, 3.1563709e-03,\n",
              "        1.6243044e-02, 1.5762061e-03, 4.5926287e-03, 6.2010298e-04,\n",
              "        5.4716726e-04, 4.3425607e-03, 1.9245781e-03, 1.5887085e-03]],\n",
              "      dtype=float32)"
            ]
          },
          "metadata": {},
          "execution_count": 26
        }
      ],
      "source": [
        "predictions"
      ]
    },
    {
      "cell_type": "code",
      "execution_count": null,
      "metadata": {
        "id": "-ahMJ-zwEiCs",
        "colab": {
          "base_uri": "https://localhost:8080/"
        },
        "outputId": "1091e5bf-62dd-4c4e-c49e-07cb07d669e6"
      },
      "outputs": [
        {
          "output_type": "stream",
          "name": "stdout",
          "text": [
            "59/59 [==============================] - 27s 462ms/step\n"
          ]
        },
        {
          "output_type": "execute_result",
          "data": {
            "text/plain": [
              "<tf.Tensor: shape=(1885,), dtype=int64, numpy=array([ 3,  9,  1, ..., 14,  3, 18])>"
            ]
          },
          "metadata": {},
          "execution_count": 27
        }
      ],
      "source": [
        "#run and capture all predictions from our test set using model.predict\n",
        "### YOUR CODE HERE\n",
        "predictions_model1 = pooler_bert_model.predict([test_encodings.input_ids, test_encodings.token_type_ids, test_encodings.attention_mask])\n",
        "### END YOUR CODE\n",
        "\n",
        "#now we need to get the highest probability in the distribution for each prediction\n",
        "#and store that in a tf.Tensor\n",
        "predictions_model1 = tf.argmax(predictions_model1, axis=-1)\n",
        "predictions_model1"
      ]
    },
    {
      "cell_type": "markdown",
      "source": [
        "There are two ways to see what's going on with our classifier.  Overall accuracy is interesting but it can be misleading.  We need to make sure that each of our categories' prediction performance is operating at an equal or higher level than the overall.\n",
        "\n",
        "Here we'll use the classification report from scikit learn.  It expects two inputs as arrays.  One is the ground truth (y_true) and the other is the associated prediction (y_pred).  This is based on gethering all the predictions from our our test set."
      ],
      "metadata": {
        "id": "0kicTH9k1zmz"
      }
    },
    {
      "cell_type": "code",
      "execution_count": null,
      "metadata": {
        "id": "wPqioIbh2XIE",
        "colab": {
          "base_uri": "https://localhost:8080/"
        },
        "outputId": "1d18ac19-1471-45e2-adf5-623543bae5b5"
      },
      "outputs": [
        {
          "output_type": "stream",
          "name": "stdout",
          "text": [
            "                          precision    recall  f1-score   support\n",
            "\n",
            "             alt.atheism    0.33051   0.60000   0.42623        65\n",
            "           comp.graphics    0.55224   0.71845   0.62447       103\n",
            " comp.os.ms-windows.misc    0.68085   0.63366   0.65641       101\n",
            "comp.sys.ibm.pc.hardware    0.47788   0.59341   0.52941        91\n",
            "   comp.sys.mac.hardware    0.75000   0.61682   0.67692       107\n",
            "          comp.windows.x    0.75701   0.84375   0.79803        96\n",
            "            misc.forsale    0.78824   0.72826   0.75706        92\n",
            "               rec.autos    0.39098   0.68421   0.49761        76\n",
            "         rec.motorcycles    0.74444   0.62037   0.67677       108\n",
            "      rec.sport.baseball    0.75229   0.73214   0.74208       112\n",
            "        rec.sport.hockey    0.77982   0.86735   0.82126        98\n",
            "               sci.crypt    0.87209   0.70093   0.77720       107\n",
            "         sci.electronics    0.76190   0.58716   0.66321       109\n",
            "                 sci.med    0.83871   0.83871   0.83871        93\n",
            "               sci.space    0.93151   0.64151   0.75978       106\n",
            "  soc.religion.christian    0.70642   0.74038   0.72300       104\n",
            "      talk.politics.guns    0.71910   0.76190   0.73988        84\n",
            "   talk.politics.mideast    0.83516   0.80000   0.81720        95\n",
            "      talk.politics.misc    0.66216   0.69014   0.67586        71\n",
            "      talk.religion.misc    0.66667   0.05970   0.10959        67\n",
            "\n",
            "                accuracy                        0.68223      1885\n",
            "               macro avg    0.69990   0.67294   0.66553      1885\n",
            "            weighted avg    0.71345   0.68223   0.68116      1885\n",
            "\n"
          ]
        }
      ],
      "source": [
        "print(classification_report(test_labels, predictions_model1.numpy(), target_names=target_names, digits=5))"
      ]
    },
    {
      "cell_type": "markdown",
      "metadata": {
        "id": "ddMMQ2vBOJKj"
      },
      "source": [
        "**QUESTION:** 2.4 What is the key difference between the macro average F1 score and the weighted average F1 score? **The weighted avg accounts for imbalance in the labels.**\n",
        "\n",
        "**QUESTION:** 2.5 What is the macro average F1 score you get from the classification report?  **0.66553**\n",
        "\n",
        "Now we'll generate another very valuable visualization of what's happening with our classifier -- a confusion matrix."
      ]
    },
    {
      "cell_type": "code",
      "execution_count": null,
      "metadata": {
        "id": "udwdL6iKEh7b"
      },
      "outputs": [],
      "source": [
        "cm = tf.math.confusion_matrix(test_labels, predictions_model1)\n",
        "cm = cm/cm.numpy().sum(axis=1)[:, tf.newaxis]"
      ]
    },
    {
      "cell_type": "markdown",
      "source": [
        "And now we'll display it!"
      ],
      "metadata": {
        "id": "tM1WO4Om2Fsf"
      }
    },
    {
      "cell_type": "code",
      "execution_count": null,
      "metadata": {
        "id": "gh0Bxg-8EhzZ",
        "colab": {
          "base_uri": "https://localhost:8080/",
          "height": 585
        },
        "outputId": "7102df2a-b764-4786-8331-e97d5c88a189"
      },
      "outputs": [
        {
          "output_type": "execute_result",
          "data": {
            "text/plain": [
              "Text(159.0, 0.5, 'True')"
            ]
          },
          "metadata": {},
          "execution_count": 30
        },
        {
          "output_type": "display_data",
          "data": {
            "text/plain": [
              "<Figure size 1440x504 with 2 Axes>"
            ],
            "image/png": "[encoded data removed]"
          },
          "metadata": {
            "needs_background": "light"
          }
        }
      ],
      "source": [
        "plt.figure(figsize=(20,7))\n",
        "sns.heatmap(\n",
        "    cm, annot=True,\n",
        "    xticklabels=target_names,\n",
        "    yticklabels=target_names)\n",
        "plt.xlabel(\"Predicted\")\n",
        "plt.ylabel(\"True\")"
      ]
    },
    {
      "cell_type": "markdown",
      "metadata": {
        "id": "6OKhCGVDOgdl"
      },
      "source": [
        "### 3. Classification using two stages\n",
        "\n",
        "Okay, not bad.  As you can see, some categories are easier to distinguish than others. Look for the **class with the lowest F1 score** (it should be the one at the bottom of the list). In the confusion matrix, which other class is that one being **mistaken for most often**?\n",
        "\n",
        "You might notice that the categories in this dataset are somewhat heirarchical. There are more obvious differences between groups of news categories (e.g. computers vs recreation) and then subtler differences between categories within those groups (e.g. PC vs Mac, within computers).\n",
        "\n",
        "When this happens, one idea is to train a series of models, **to first separate out the more obvious groups of classes, and then use more specialized sub-models to classify only a subset of the classes.** Let's try that here."
      ]
    },
    {
      "cell_type": "markdown",
      "metadata": {
        "id": "E0qA4QBstsin"
      },
      "source": [
        "#### Step 1: New model with 19 classes\n",
        "\n",
        "For simplicity, we'll just combine two categories in our first step. We'll **replace the label of the last class with the label of the class it's most often mistaken for.** (That way, we'll have labels from 0 to 18 instead of 0 to 19, and don't have to renumber everything, though you would have to if you group them more.)"
      ]
    },
    {
      "cell_type": "code",
      "source": [
        "print(len(train_labels), set(train_labels), '\\ntrain_labels: ',train_labels, '\\n')\n",
        "\n",
        "# Notice the \"labels\" are just integers that are an offset into the list of target names.\n",
        "for idx, val in enumerate(target_names):\n",
        "  print(idx, val)\n",
        "print('\\nIndex for the label - soc.religion.christian: ',target_names.index('soc.religion.christian'))"
      ],
      "metadata": {
        "id": "vCv8cKrEIyUa",
        "colab": {
          "base_uri": "https://localhost:8080/"
        },
        "outputId": "511c16f4-9fc8-46a0-b910-8570212e4713"
      },
      "execution_count": null,
      "outputs": [
        {
          "output_type": "stream",
          "name": "stdout",
          "text": [
            "16000 {0, 1, 2, 3, 4, 5, 6, 7, 8, 9, 10, 11, 12, 13, 14, 15, 16, 17, 18, 19} \n",
            "train_labels:  [10  0 18 ... 18  2  4] \n",
            "\n",
            "0 alt.atheism\n",
            "1 comp.graphics\n",
            "2 comp.os.ms-windows.misc\n",
            "3 comp.sys.ibm.pc.hardware\n",
            "4 comp.sys.mac.hardware\n",
            "5 comp.windows.x\n",
            "6 misc.forsale\n",
            "7 rec.autos\n",
            "8 rec.motorcycles\n",
            "9 rec.sport.baseball\n",
            "10 rec.sport.hockey\n",
            "11 sci.crypt\n",
            "12 sci.electronics\n",
            "13 sci.med\n",
            "14 sci.space\n",
            "15 soc.religion.christian\n",
            "16 talk.politics.guns\n",
            "17 talk.politics.mideast\n",
            "18 talk.politics.misc\n",
            "19 talk.religion.misc\n",
            "\n",
            "Index for the label - soc.religion.christian:  15\n"
          ]
        }
      ]
    },
    {
      "cell_type": "code",
      "execution_count": null,
      "metadata": {
        "id": "b0rAv6nLmrwN",
        "colab": {
          "base_uri": "https://localhost:8080/"
        },
        "outputId": "3311771a-086f-43b3-c384-0436fb78f594"
      },
      "outputs": [
        {
          "output_type": "stream",
          "name": "stdout",
          "text": [
            "{0, 1, 2, 3, 4, 5, 6, 7, 8, 9, 10, 11, 12, 13, 14, 15, 16, 17, 18}\n",
            "{0, 1, 2, 3, 4, 5, 6, 7, 8, 9, 10, 11, 12, 13, 14, 15, 16, 17, 18}\n",
            "{0, 1, 2, 3, 4, 5, 6, 7, 8, 9, 10, 11, 12, 13, 14, 15, 16, 17, 18}\n"
          ]
        }
      ],
      "source": [
        "label_to_replace = 19\n",
        "\n",
        "# label_to_replace_with = ...\n",
        "### YOUR CODE HERE\n",
        "label_to_replace_with = target_names.index('soc.religion.christian')          # label=15; target name = soc.religion.christian = the label of the class it's most often mistaken for: the highest score of being incorrectly predicted = 0.47\n",
        "\n",
        "### END YOUR CODE\n",
        "\n",
        "train_labels_19class = train_labels.copy()\n",
        "train_labels_19class[train_labels_19class == label_to_replace] = label_to_replace_with\n",
        "print(set(train_labels_19class))\n",
        "\n",
        "valid_labels_19class = npvalid_labels.copy()\n",
        "valid_labels_19class[valid_labels_19class == label_to_replace] = label_to_replace_with\n",
        "print(set(valid_labels_19class))\n",
        "\n",
        "test_labels_19class = test_labels.copy()\n",
        "test_labels_19class[test_labels_19class == label_to_replace] = label_to_replace_with\n",
        "print(set(test_labels_19class))"
      ]
    },
    {
      "cell_type": "markdown",
      "metadata": {
        "id": "dSQd_UDQhmQd"
      },
      "source": [
        "Now let's create a new model with the same architecture, but to predict probabilities for 19 classes instead of 20. We're using all of the data in this first step, so we'll use the encodings we already preprocessed as inputs, but use the new labels that only have 19 classes."
      ]
    },
    {
      "cell_type": "code",
      "execution_count": null,
      "metadata": {
        "id": "s7hR7ahmmrYL",
        "colab": {
          "base_uri": "https://localhost:8080/"
        },
        "outputId": "e91785ba-bb41-4724-c674-10ce7d58c5da"
      },
      "outputs": [
        {
          "output_type": "stream",
          "name": "stderr",
          "text": [
            "Some layers from the model checkpoint at bert-base-cased were not used when initializing TFBertModel: ['mlm___cls', 'nsp___cls']\n",
            "- This IS expected if you are initializing TFBertModel from the checkpoint of a model trained on another task or with another architecture (e.g. initializing a BertForSequenceClassification model from a BertForPreTraining model).\n",
            "- This IS NOT expected if you are initializing TFBertModel from the checkpoint of a model that you expect to be exactly identical (initializing a BertForSequenceClassification model from a BertForSequenceClassification model).\n",
            "All the layers of TFBertModel were initialized from the model checkpoint at bert-base-cased.\n",
            "If your task is similar to the task the model of the checkpoint was trained on, you can already use TFBertModel for predictions without further training.\n"
          ]
        }
      ],
      "source": [
        "bert_model_19class = create_bert_multiclass_model(checkpoint = model_checkpoint, num_classes=19)"
      ]
    },
    {
      "cell_type": "code",
      "execution_count": null,
      "metadata": {
        "id": "O4Qsai6UmrOj",
        "colab": {
          "base_uri": "https://localhost:8080/"
        },
        "outputId": "108b6445-2b09-4e62-eb97-0d6355cafcbb"
      },
      "outputs": [
        {
          "output_type": "stream",
          "name": "stdout",
          "text": [
            "2000/2000 [==============================] - 763s 361ms/step - loss: 1.3403 - accuracy: 0.6004 - val_loss: 1.0774 - val_accuracy: 0.6712\n"
          ]
        }
      ],
      "source": [
        "bert_model_19class_history = bert_model_19class.fit([train_encodings.input_ids, train_encodings.token_type_ids, train_encodings.attention_mask], \n",
        "                                                  train_labels_19class,   \n",
        "                                                  validation_data=([valid_encodings.input_ids, valid_encodings.token_type_ids, valid_encodings.attention_mask],\n",
        "                                                                   valid_labels_19class),    \n",
        "                                                  batch_size=8,\n",
        "                                                  epochs=1)"
      ]
    },
    {
      "cell_type": "code",
      "execution_count": null,
      "metadata": {
        "id": "BkW9hMq9g9dV",
        "colab": {
          "base_uri": "https://localhost:8080/"
        },
        "outputId": "17f3c5ce-e42c-4706-f3bf-2026f84320fc"
      },
      "outputs": [
        {
          "output_type": "stream",
          "name": "stdout",
          "text": [
            "59/59 [==============================] - 27s 463ms/step - loss: 1.0077 - accuracy: 0.7093\n",
            "Test loss: 1.007653832435608\n",
            "Test accuracy: 0.7092838287353516\n"
          ]
        }
      ],
      "source": [
        "# Evaluate the fine tuned 19-class model against the test data with 19-class labels\n",
        "### YOUR CODE HERE\n",
        "score = bert_model_19class.evaluate([test_encodings.input_ids, test_encodings.token_type_ids, test_encodings.attention_mask], test_labels_19class)\n",
        "### END YOUR CODE\n",
        "print('Test loss:', score[0]) \n",
        "print('Test accuracy:', score[1])"
      ]
    },
    {
      "cell_type": "markdown",
      "metadata": {
        "id": "DPaUdul4hlp0"
      },
      "source": [
        "**QUESTION:** \n",
        "\n",
        "3.1 What is the test accuracy you get when you run the new first stage model with only 19 classes? **0.70928**\n"
      ]
    },
    {
      "cell_type": "code",
      "execution_count": null,
      "metadata": {
        "id": "TrWtaXSug9UR",
        "colab": {
          "base_uri": "https://localhost:8080/"
        },
        "outputId": "f21641f9-f41d-46f7-cfb5-a790e496bf54"
      },
      "outputs": [
        {
          "output_type": "stream",
          "name": "stdout",
          "text": [
            "59/59 [==============================] - 32s 464ms/step\n",
            "1885 tf.Tensor([ 3  9  1 ... 14  3 18], shape=(1885,), dtype=int64)\n"
          ]
        }
      ],
      "source": [
        "#run and capture all the predictions from the 19 class data\n",
        "### YOUR CODE HERE \n",
        "\n",
        "predictions_19class = bert_model_19class.predict([test_encodings.input_ids, test_encodings.token_type_ids, test_encodings.attention_mask])\n",
        "predictions_19class = tf.argmax(predictions_19class, axis=-1)\n",
        "\n",
        "### END YOUR CODE\n",
        "\n",
        "predictions_19class\n",
        "print(len(predictions_19class), predictions_19class)"
      ]
    },
    {
      "cell_type": "code",
      "execution_count": null,
      "metadata": {
        "id": "-nAlDV7K8T4q",
        "colab": {
          "base_uri": "https://localhost:8080/"
        },
        "outputId": "690017e5-1646-444c-971c-47904c94f9eb"
      },
      "outputs": [
        {
          "output_type": "stream",
          "name": "stdout",
          "text": [
            "19 {'rec.sport.baseball', 'talk.politics.mideast', 'comp.os.ms-windows.misc', 'comp.sys.ibm.pc.hardware', 'misc.forsale', 'comp.sys.mac.hardware', 'sci.space', '** COMBINED CLASS **', 'comp.windows.x', 'rec.sport.hockey', 'sci.electronics', 'alt.atheism', 'rec.motorcycles', 'comp.graphics', 'sci.crypt', 'sci.med', 'talk.politics.guns', 'talk.politics.misc', 'rec.autos'}\n",
            "1885 {0, 1, 2, 3, 4, 5, 6, 7, 8, 9, 10, 11, 12, 13, 14, 15, 16, 17, 18}\n",
            "                          precision    recall  f1-score   support\n",
            "\n",
            "             alt.atheism    0.65000   0.40000   0.49524        65\n",
            "           comp.graphics    0.56349   0.68932   0.62009       103\n",
            " comp.os.ms-windows.misc    0.61905   0.64356   0.63107       101\n",
            "comp.sys.ibm.pc.hardware    0.40602   0.59341   0.48214        91\n",
            "   comp.sys.mac.hardware    0.86154   0.52336   0.65116       107\n",
            "          comp.windows.x    0.77477   0.89583   0.83092        96\n",
            "            misc.forsale    0.83544   0.71739   0.77193        92\n",
            "               rec.autos    0.44615   0.76316   0.56311        76\n",
            "         rec.motorcycles    0.72269   0.79630   0.75771       108\n",
            "      rec.sport.baseball    0.76378   0.86607   0.81172       112\n",
            "        rec.sport.hockey    0.97436   0.77551   0.86364        98\n",
            "               sci.crypt    0.90909   0.65421   0.76087       107\n",
            "         sci.electronics    0.74699   0.56881   0.64583       109\n",
            "                 sci.med    0.85870   0.84946   0.85405        93\n",
            "               sci.space    0.85714   0.62264   0.72131       106\n",
            "    ** COMBINED CLASS **    0.71500   0.83626   0.77089       171\n",
            "      talk.politics.guns    0.62376   0.75000   0.68108        84\n",
            "   talk.politics.mideast    0.93056   0.70526   0.80240        95\n",
            "      talk.politics.misc    0.65714   0.64789   0.65248        71\n",
            "\n",
            "                accuracy                        0.70928      1885\n",
            "               macro avg    0.73240   0.69992   0.70356      1885\n",
            "            weighted avg    0.74021   0.70928   0.71278      1885\n",
            "\n"
          ]
        }
      ],
      "source": [
        "target_names_19class = target_names[:label_to_replace_with] \\\n",
        "                     + ['** COMBINED CLASS **'] \\\n",
        "                     + target_names[label_to_replace_with+1:19]\n",
        "print(len(target_names_19class), set(target_names_19class))\n",
        "print(len(test_labels_19class), set(test_labels_19class))\n",
        "print(classification_report(test_labels_19class, predictions_19class.numpy(),\n",
        "                            target_names=target_names_19class, digits=5))"
      ]
    },
    {
      "cell_type": "markdown",
      "metadata": {
        "id": "Eh6nKilF8V7b"
      },
      "source": [
        "**QUESTION:** \n",
        "\n",
        "3.2 What is the F1 score you get for the combined class when you run the new first stage model with only 19 classes? **0.77089**\n"
      ]
    },
    {
      "cell_type": "markdown",
      "metadata": {
        "id": "TTZcBibxR153"
      },
      "source": [
        "#### Step 2: New model with only the two classes combined in step one\n",
        "\n",
        "Now, our first stage model is able to determine which text is one of the two often confused classes, but we need to train a more specific model to distinguish between just these two classes. Ideally, this model will only focus on the more subtle differences between these two news categories, since it doesn't have to learn everything else about the other categories.\n",
        "\n",
        "For this model, we're only going to train using the text examples that are one of the **two confused categories**. We'll keep the encodings we already tokenized, so we need to separate out the input_ids, token_type_ids, and attention_mask for just the rows that have one of these two labels.\n",
        "- label: **19**, target_name: **talk.religion.misc**\n",
        "- label: **15**, target_name: **soc.religion.christian** "
      ]
    },
    {
      "cell_type": "code",
      "execution_count": null,
      "metadata": {
        "id": "N4TmPG6B1mz0",
        "colab": {
          "base_uri": "https://localhost:8080/"
        },
        "outputId": "ccc73c1c-fd78-4c25-adcc-7a7e433328d5"
      },
      "outputs": [
        {
          "output_type": "stream",
          "name": "stdout",
          "text": [
            "len(test_mask_2class): 1885\n",
            "test_mask_2class: [False False False ... False False False]\n"
          ]
        }
      ],
      "source": [
        "train_mask_2class = (train_labels_19class == label_to_replace_with)\n",
        "train_encodings_2class = {'input_ids': train_encodings.input_ids[train_mask_2class],\n",
        "                          'token_type_ids': train_encodings.token_type_ids[train_mask_2class],\n",
        "                          'attention_mask': train_encodings.attention_mask[train_mask_2class]}\n",
        "train_labels_2class = train_labels.copy()[train_mask_2class]\n",
        "train_labels_2class = (train_labels_2class == label_to_replace_with).astype(int)\n",
        "\n",
        "valid_mask_2class = (valid_labels_19class == label_to_replace_with)\n",
        "valid_encodings_2class = {'input_ids': valid_encodings.input_ids[valid_mask_2class],\n",
        "                          'token_type_ids': valid_encodings.token_type_ids[valid_mask_2class],\n",
        "                          'attention_mask': valid_encodings.attention_mask[valid_mask_2class]}\n",
        "valid_labels_2class = npvalid_labels.copy()[valid_mask_2class]\n",
        "valid_labels_2class = (valid_labels_2class == label_to_replace_with).astype(int)\n",
        "\n",
        "test_mask_2class = (test_labels_19class == label_to_replace_with)\n",
        "print(f'len(test_mask_2class): {len(test_mask_2class)}\\ntest_mask_2class: {test_mask_2class}')\n",
        "test_encodings_2class = {'input_ids': test_encodings.input_ids[test_mask_2class],\n",
        "                          'token_type_ids': test_encodings.token_type_ids[test_mask_2class],\n",
        "                          'attention_mask': test_encodings.attention_mask[test_mask_2class]}\n",
        "test_labels_2class = test_labels.copy()[test_mask_2class]\n",
        "test_labels_2class = (test_labels_2class == label_to_replace_with).astype(int)"
      ]
    },
    {
      "cell_type": "code",
      "execution_count": null,
      "metadata": {
        "id": "xwTzhDVp9YTT",
        "colab": {
          "base_uri": "https://localhost:8080/"
        },
        "outputId": "4d256238-fdbe-4a5e-852d-e72505bfaf5b"
      },
      "outputs": [
        {
          "output_type": "execute_result",
          "data": {
            "text/plain": [
              "(1366,)"
            ]
          },
          "metadata": {},
          "execution_count": 39
        }
      ],
      "source": [
        "train_labels_2class.shape"
      ]
    },
    {
      "cell_type": "code",
      "execution_count": null,
      "metadata": {
        "id": "O76HzIGh9dct",
        "colab": {
          "base_uri": "https://localhost:8080/"
        },
        "outputId": "118c10bf-dc41-4892-decd-b74bf73d6780"
      },
      "outputs": [
        {
          "output_type": "execute_result",
          "data": {
            "text/plain": [
              "array([1, 1, 1, ..., 0, 0, 1])"
            ]
          },
          "metadata": {},
          "execution_count": 40
        }
      ],
      "source": [
        "train_labels_2class"
      ]
    },
    {
      "cell_type": "markdown",
      "metadata": {
        "id": "3c7M7sFCucU8"
      },
      "source": [
        "Create and train a new model with the same architecture as before, except that it only predicts two classes. (Note that we could change this to a binary prediction model, but we'll keep it multiclass for consistency here.)"
      ]
    },
    {
      "cell_type": "code",
      "execution_count": null,
      "metadata": {
        "id": "dNe5zVOflttk",
        "colab": {
          "base_uri": "https://localhost:8080/"
        },
        "outputId": "5d2f05c2-69af-4d21-8245-29eb2cd786f3"
      },
      "outputs": [
        {
          "output_type": "stream",
          "name": "stderr",
          "text": [
            "Some layers from the model checkpoint at bert-base-cased were not used when initializing TFBertModel: ['mlm___cls', 'nsp___cls']\n",
            "- This IS expected if you are initializing TFBertModel from the checkpoint of a model trained on another task or with another architecture (e.g. initializing a BertForSequenceClassification model from a BertForPreTraining model).\n",
            "- This IS NOT expected if you are initializing TFBertModel from the checkpoint of a model that you expect to be exactly identical (initializing a BertForSequenceClassification model from a BertForSequenceClassification model).\n",
            "All the layers of TFBertModel were initialized from the model checkpoint at bert-base-cased.\n",
            "If your task is similar to the task the model of the checkpoint was trained on, you can already use TFBertModel for predictions without further training.\n"
          ]
        }
      ],
      "source": [
        "bert_model_2class = create_bert_multiclass_model(checkpoint=model_checkpoint, num_classes=2)"
      ]
    },
    {
      "cell_type": "code",
      "execution_count": null,
      "metadata": {
        "id": "-F5DM3zGlvSd",
        "colab": {
          "base_uri": "https://localhost:8080/"
        },
        "outputId": "ff30ec05-d230-43cd-95aa-1e152cc5d7dd"
      },
      "outputs": [
        {
          "output_type": "stream",
          "name": "stdout",
          "text": [
            "171/171 [==============================] - 118s 396ms/step - loss: 0.6335 - accuracy: 0.6903 - val_loss: 0.5148 - val_accuracy: 0.7727\n"
          ]
        }
      ],
      "source": [
        "bert_model_2class_history = bert_model_2class.fit([train_encodings_2class['input_ids'],\n",
        "                                                   train_encodings_2class['token_type_ids'],\n",
        "                                                   train_encodings_2class['attention_mask']], \n",
        "                                                  train_labels_2class,   \n",
        "                                                  validation_data=([valid_encodings_2class['input_ids'],\n",
        "                                                                    valid_encodings_2class['token_type_ids'],\n",
        "                                                                    valid_encodings_2class['attention_mask']],\n",
        "                                                                   valid_labels_2class),    \n",
        "                                                  batch_size=8, \n",
        "                                                  epochs=1)"
      ]
    },
    {
      "cell_type": "code",
      "execution_count": null,
      "metadata": {
        "id": "UNEUeufxp1g5",
        "colab": {
          "base_uri": "https://localhost:8080/"
        },
        "outputId": "f6e6c455-e20e-4dba-ab3c-b57d896545be"
      },
      "outputs": [
        {
          "output_type": "stream",
          "name": "stdout",
          "text": [
            "6/6 [==============================] - 6s 390ms/step - loss: 0.5128 - accuracy: 0.7895\n",
            "Test loss: 0.5128297805786133\n",
            "Test accuracy: 0.7894737124443054\n"
          ]
        }
      ],
      "source": [
        "# Evaluate the two-class model against the two-class test set.\n",
        "### YOUR CODE HERE\n",
        "score = bert_model_2class.evaluate([test_encodings_2class['input_ids'], \\\n",
        "                                    test_encodings_2class['token_type_ids'], \\\n",
        "                                    test_encodings_2class['attention_mask']], test_labels_2class)\n",
        "### END YOUR CODE\n",
        "print('Test loss:', score[0]) \n",
        "print('Test accuracy:', score[1])"
      ]
    },
    {
      "cell_type": "code",
      "execution_count": null,
      "metadata": {
        "id": "aPuN8_gaESJZ",
        "colab": {
          "base_uri": "https://localhost:8080/"
        },
        "outputId": "cba4d281-2b10-45fc-a320-20688d9e9a9d"
      },
      "outputs": [
        {
          "output_type": "stream",
          "name": "stdout",
          "text": [
            "6/6 [==============================] - 7s 392ms/step\n"
          ]
        },
        {
          "output_type": "execute_result",
          "data": {
            "text/plain": [
              "<tf.Tensor: shape=(171,), dtype=int64, numpy=\n",
              "array([0, 1, 0, 1, 1, 1, 1, 1, 0, 1, 0, 1, 1, 1, 1, 0, 1, 0, 1, 1, 1, 1,\n",
              "       1, 1, 1, 0, 0, 1, 0, 0, 0, 1, 1, 1, 1, 1, 1, 1, 1, 0, 1, 1, 1, 0,\n",
              "       1, 0, 1, 1, 1, 0, 0, 1, 1, 1, 0, 1, 1, 0, 1, 1, 1, 1, 1, 0, 1, 1,\n",
              "       1, 1, 0, 1, 1, 0, 0, 1, 0, 1, 1, 1, 0, 1, 0, 0, 0, 1, 0, 0, 0, 1,\n",
              "       0, 1, 1, 1, 1, 0, 0, 1, 1, 1, 0, 1, 1, 1, 0, 0, 0, 1, 1, 1, 0, 1,\n",
              "       0, 1, 1, 1, 1, 1, 1, 0, 1, 0, 1, 0, 1, 1, 1, 1, 0, 1, 1, 1, 1, 0,\n",
              "       1, 0, 1, 1, 1, 0, 1, 1, 1, 1, 0, 0, 0, 1, 0, 1, 1, 0, 0, 1, 0, 1,\n",
              "       1, 1, 1, 1, 1, 1, 1, 1, 0, 0, 1, 1, 1, 1, 1, 0, 0])>"
            ]
          },
          "metadata": {},
          "execution_count": 44
        }
      ],
      "source": [
        "#run and capture all the predictions from the 2-class test data\n",
        "### YOUR CODE HERE \n",
        "predictions_2class = bert_model_2class.predict([test_encodings_2class['input_ids'], \\\n",
        "                                                test_encodings_2class['token_type_ids'], \\\n",
        "                                                test_encodings_2class['attention_mask']])\n",
        "predictions_2class = tf.argmax(predictions_2class, axis=-1)\n",
        "### END YOUR CODE\n",
        "predictions_2class"
      ]
    },
    {
      "cell_type": "code",
      "execution_count": null,
      "metadata": {
        "id": "zEnHd3ijESPH",
        "colab": {
          "base_uri": "https://localhost:8080/"
        },
        "outputId": "49f818b7-9705-4658-bddb-0b4b31bd11d1"
      },
      "outputs": [
        {
          "output_type": "stream",
          "name": "stdout",
          "text": [
            "                       precision    recall  f1-score   support\n",
            "\n",
            "     label_to_replace    0.77193   0.65672   0.70968        67\n",
            "label_to_replace_with    0.79825   0.87500   0.83486       104\n",
            "\n",
            "             accuracy                        0.78947       171\n",
            "            macro avg    0.78509   0.76586   0.77227       171\n",
            "         weighted avg    0.78793   0.78947   0.78581       171\n",
            "\n"
          ]
        }
      ],
      "source": [
        "# Run the sklearn classification_report again with the 2-class predictions\n",
        "### YOUR CODE HERE\n",
        "print(classification_report(test_labels_2class, predictions_2class.numpy(), target_names=['label_to_replace', 'label_to_replace_with'], digits=5))\n",
        "### END YOUR CODE"
      ]
    },
    {
      "cell_type": "markdown",
      "metadata": {
        "id": "1aTDW3JBut1P"
      },
      "source": [
        "**QUESTION:** \n",
        "\n",
        "3.3 What is the macro average F1 score you get when you run the new second stage model with only 2 classes? **0.77227**"
      ]
    },
    {
      "cell_type": "markdown",
      "metadata": {
        "id": "90DMNd_Nuzgz"
      },
      "source": [
        "#### Step 3: Combine the predicted labels from the two steps\n",
        "\n",
        "To combine our models into two steps, start with the predictions from the first step. Keep all predicted labels except the ones with a predicted value of label_to_replace_with (the label we gave to both of the confused classes in the first step).\n",
        "\n",
        "Wherever the first model predicted the combined category, we'll replace the predictions with the label from the second model. If we used these models in inference, we'd only send an example to the second model if the first model predicted that it was from the combined class."
      ]
    },
    {
      "cell_type": "code",
      "source": [
        "# Now get the examples that the first model predicted as in the combined class\n",
        "test_mask_2class = (predictions_19class.numpy() == label_to_replace_with)\n",
        "test_encodings_2class = {'input_ids': test_encodings.input_ids[test_mask_2class],\n",
        "                         'token_type_ids':test_encodings.token_type_ids[test_mask_2class],\n",
        "                         'attention_mask':test_encodings.attention_mask[test_mask_2class]}\n",
        "# Run those examples through the step 2 model and save the predictions\n",
        "predictions_2class = bert_model_2class.predict([test_encodings_2class['input_ids'],\n",
        "                                                test_encodings_2class['token_type_ids'],\n",
        "                                                test_encodings_2class['attention_mask']])\n",
        "predictions_2class = tf.argmax(predictions_2class, axis=-1)\n",
        "\n",
        "# Replace the step 2 model's predicted labels with the original values from the 20-class dataset\n",
        "predictions_2class = predictions_2class.numpy()\n",
        "predictions_2class[predictions_2class == 0] = label_to_replace\n",
        "predictions_2class[predictions_2class == 1] = label_to_replace_with\n",
        "print(f'len(predictions_2class):{len(predictions_2class)}\\npredictions_2class:\\n{predictions_2class}')\n",
        "\n",
        "# Combine the labels from both steps for the full test dataset\n",
        "predictions_2steps = predictions_19class.numpy()\n",
        "predictions_2steps[test_mask_2class] = predictions_2class\n",
        "\n",
        "print(f'len(predictions_2steps):{len(predictions_2steps)}\\npredictions_2steps:\\n{predictions_2steps}')"
      ],
      "metadata": {
        "id": "vrPmlq1Nu8LK",
        "outputId": "37634cf7-953f-480c-ac3f-f32dae831dc6",
        "colab": {
          "base_uri": "https://localhost:8080/"
        }
      },
      "execution_count": null,
      "outputs": [
        {
          "output_type": "stream",
          "name": "stdout",
          "text": [
            "7/7 [==============================] - 3s 399ms/step\n",
            "len(predictions_2class):200\n",
            "predictions_2class:\n",
            "[15 19 15 15 19 19 15 15 15 15 15 15 15 15 15 19 15 19 19 15 15 19 15 19\n",
            " 15 19 19 15 15 19 15 15 15 19 15 15 19 19 15 19 19 19 19 15 15 15 19 15\n",
            " 19 15 15 15 15 19 15 15 15 15 19 19 15 19 15 15 15 19 19 15 15 19 15 19\n",
            " 15 15 19 19 15 15 15 15 15 15 15 15 15 19 15 15 19 19 15 19 15 15 15 15\n",
            " 19 19 19 15 19 19 15 19 15 15 15 15 19 19 15 19 15 15 19 15 15 15 19 19\n",
            " 15 19 15 15 15 19 15 15 15 15 15 19 19 19 15 15 19 15 15 19 15 19 19 15\n",
            " 19 19 19 19 15 15 15 15 19 15 19 19 15 15 15 19 15 15 15 15 19 19 19 19\n",
            " 19 15 15 19 15 15 19 19 15 19 19 15 19 19 15 15 15 15 15 15 15 15 19 15\n",
            " 15 15 15 15 19 19 19 19]\n",
            "len(predictions_2steps):1885\n",
            "predictions_2steps:\n",
            "[ 3  9  1 ... 14  3 18]\n"
          ]
        }
      ]
    },
    {
      "cell_type": "markdown",
      "metadata": {
        "id": "dxUBa20mv0Iq"
      },
      "source": [
        "Now let's look at the classification report and confusion matrix, using the combined predictions from our two step model (compared to the original labels). Did the overall results get better?"
      ]
    },
    {
      "cell_type": "code",
      "source": [
        "print(f'len(test_labels):{len(test_labels)}\\ntest_labels:\\n{test_labels}')\n",
        "print(f'\\nlen(target_names):{len(target_names)}\\ntest_labels:\\n{target_names}')"
      ],
      "metadata": {
        "id": "URcQkpR-4bcU",
        "colab": {
          "base_uri": "https://localhost:8080/"
        },
        "outputId": "e56903c8-8571-41eb-eb4c-29dcb45186cd"
      },
      "execution_count": null,
      "outputs": [
        {
          "output_type": "stream",
          "name": "stdout",
          "text": [
            "len(test_labels):1885\n",
            "test_labels:\n",
            "[ 3  9  1 ... 14  3 18]\n",
            "\n",
            "len(target_names):20\n",
            "test_labels:\n",
            "['alt.atheism', 'comp.graphics', 'comp.os.ms-windows.misc', 'comp.sys.ibm.pc.hardware', 'comp.sys.mac.hardware', 'comp.windows.x', 'misc.forsale', 'rec.autos', 'rec.motorcycles', 'rec.sport.baseball', 'rec.sport.hockey', 'sci.crypt', 'sci.electronics', 'sci.med', 'sci.space', 'soc.religion.christian', 'talk.politics.guns', 'talk.politics.mideast', 'talk.politics.misc', 'talk.religion.misc']\n"
          ]
        }
      ]
    },
    {
      "cell_type": "code",
      "execution_count": null,
      "metadata": {
        "id": "bbtOD45X6QgO",
        "colab": {
          "base_uri": "https://localhost:8080/"
        },
        "outputId": "a2eb50a2-2b2c-41a9-b3f5-64d0ad2493f3"
      },
      "outputs": [
        {
          "output_type": "stream",
          "name": "stdout",
          "text": [
            "                          precision    recall  f1-score   support\n",
            "\n",
            "             alt.atheism    0.65000   0.40000   0.49524        65\n",
            "           comp.graphics    0.56349   0.68932   0.62009       103\n",
            " comp.os.ms-windows.misc    0.61905   0.64356   0.63107       101\n",
            "comp.sys.ibm.pc.hardware    0.40602   0.59341   0.48214        91\n",
            "   comp.sys.mac.hardware    0.86154   0.52336   0.65116       107\n",
            "          comp.windows.x    0.77477   0.89583   0.83092        96\n",
            "            misc.forsale    0.83544   0.71739   0.77193        92\n",
            "               rec.autos    0.44615   0.76316   0.56311        76\n",
            "         rec.motorcycles    0.72269   0.79630   0.75771       108\n",
            "      rec.sport.baseball    0.76378   0.86607   0.81172       112\n",
            "        rec.sport.hockey    0.97436   0.77551   0.86364        98\n",
            "               sci.crypt    0.90909   0.65421   0.76087       107\n",
            "         sci.electronics    0.74699   0.56881   0.64583       109\n",
            "                 sci.med    0.85870   0.84946   0.85405        93\n",
            "               sci.space    0.85714   0.62264   0.72131       106\n",
            "  soc.religion.christian    0.71667   0.82692   0.76786       104\n",
            "      talk.politics.guns    0.62376   0.75000   0.68108        84\n",
            "   talk.politics.mideast    0.93056   0.70526   0.80240        95\n",
            "      talk.politics.misc    0.65714   0.64789   0.65248        71\n",
            "      talk.religion.misc    0.32500   0.38806   0.35374        67\n",
            "\n",
            "                accuracy                        0.69284      1885\n",
            "               macro avg    0.71212   0.68386   0.68592      1885\n",
            "            weighted avg    0.72644   0.69284   0.69779      1885\n",
            "\n"
          ]
        }
      ],
      "source": [
        "# Run the sklearn classification_report with all 20 classes from the 2-step predictions\n",
        "### YOUR CODE HERE\n",
        "print(classification_report(test_labels, predictions_2steps, target_names=target_names, digits=5))\n",
        "### END YOUR CODE"
      ]
    },
    {
      "cell_type": "code",
      "execution_count": null,
      "metadata": {
        "id": "GoxOfneGDG60"
      },
      "outputs": [],
      "source": [
        "cm = tf.math.confusion_matrix(test_labels, predictions_2steps)\n",
        "cm = cm/cm.numpy().sum(axis=1)[:, tf.newaxis]"
      ]
    },
    {
      "cell_type": "code",
      "execution_count": null,
      "metadata": {
        "id": "of7FDh3CDHGy",
        "colab": {
          "base_uri": "https://localhost:8080/",
          "height": 585
        },
        "outputId": "810b55d2-927e-4d91-9ebb-ff4445a342fe"
      },
      "outputs": [
        {
          "output_type": "execute_result",
          "data": {
            "text/plain": [
              "Text(159.0, 0.5, 'True')"
            ]
          },
          "metadata": {},
          "execution_count": 50
        },
        {
          "output_type": "display_data",
          "data": {
            "text/plain": [
              "<Figure size 1440x504 with 2 Axes>"
            ],
            "image/png": "[encoded data removed]"
          },
          "metadata": {
            "needs_background": "light"
          }
        }
      ],
      "source": [
        "plt.figure(figsize=(20,7))\n",
        "sns.heatmap(\n",
        "    cm, annot=True,\n",
        "    xticklabels=target_names,\n",
        "    yticklabels=target_names)\n",
        "plt.xlabel(\"Predicted\")\n",
        "plt.ylabel(\"True\")"
      ]
    },
    {
      "cell_type": "markdown",
      "metadata": {
        "id": "8jXBmgS2iXDI"
      },
      "source": [
        "**QUESTION:**\n",
        "\n",
        "3.4 What is the macro average F1 score you get from the combined two-step model? **0.68592**\n",
        "\n",
        "3.5 What is the difference in points between the macro weighted F1 score for the original model and the combined two-step model? **0.01663 (= 0.68116 - 0.69779)**\n",
        "\n",
        "3.6 What is the new F1 score for the last category (i.e. label_to_replace, the one that had the lowest F1 score in the original model)? **0.35374**\n",
        "\n",
        "3.7 What is the new F1 score for the other category that you combined with the last category in the two-step model (i.e. label_to_replace_with)? **0.76786**\n",
        "\n",
        "3.8 Which metric (precision or recall) is now lower for the other category (i.e. label_to_replace_with)? **precision**"
      ]
    },
    {
      "cell_type": "markdown",
      "source": [
        "## Look at examples of misclassifications\n",
        "\n",
        "What happened in the two-step model? Did everything improve, or did something get worse? We were concerned about the last news category, which had a very low F1 score in the original model. In the two-step model, the F1 score for that category should have gone up.\n",
        "\n",
        "But for the other category that the original model often confused with the last category, the F1 score might have gone down. In particular, one of the two component metrics, precision or recall, probably went down. (We ask you which one went down in question 3.7 above.)\n",
        "\n",
        "We might be able to tell what happened from the confusion matrix, but it's also always a good idea to look at actual examples that were misclassified, to see if we can spot any patterns. We can also isolate more specific examples, like test examples that the original model got right, but the two-step model got wrong. Let's do that below.\n",
        "\n",
        "**CRITICAL NOTE:** If nothing prints out when you run the code below, there are two possibilities. The first is that there is some error in the code or variable names you have created in earlier cells. The second possibility is that given your current train, validation, and test split, the second model predicted the \"label_to_replace_with\" class and the first model did so too. This is unlikely but it is possible. In either case, you must go back and re-run the ENTIRE notebook to make sure you get a new train, validation, and test split which will allow you to observe the first and second models disagreeing. Please make sure you enter the metric values from this new run into your answers file."
      ],
      "metadata": {
        "id": "12krC6ae3-Mz"
      }
    },
    {
      "cell_type": "code",
      "execution_count": null,
      "metadata": {
        "id": "Lj98aBdmNMrE"
      },
      "outputs": [],
      "source": [
        "# Make a vector the length of our test set, with 1 if the second model predicted the\n",
        "# \"label_to_replace_with\" class, and 0s otherwise\n",
        "select_predictions = (predictions_2steps == label_to_replace_with)"
      ]
    },
    {
      "cell_type": "code",
      "execution_count": null,
      "metadata": {
        "id": "vaBVzlNXdsWN"
      },
      "outputs": [],
      "source": [
        "# Now only keep a 1 if that was not the correct label, i.e. it was a false positive\n",
        "select_predictions = select_predictions * (test_labels != label_to_replace_with)"
      ]
    },
    {
      "cell_type": "code",
      "execution_count": null,
      "metadata": {
        "id": "E05K9v-RdsLT"
      },
      "outputs": [],
      "source": [
        "# And now only keep a 1 if the original model predicted the correct label instead\n",
        "select_predictions = select_predictions * (test_labels == predictions_model1.numpy())"
      ]
    },
    {
      "cell_type": "code",
      "execution_count": null,
      "metadata": {
        "id": "x4dEwbnc_6qr",
        "colab": {
          "base_uri": "https://localhost:8080/"
        },
        "outputId": "de6028e4-144d-4a0d-f759-91eb76e5e44d"
      },
      "outputs": [
        {
          "output_type": "stream",
          "name": "stdout",
          "text": [
            "Prediction: model1 = talk.politics.misc, model2 = soc.religion.christian):\n",
            "Text:   The status of the House of Lords today is quite different to its status  in 1789.     Maddison and Hamilton were both studying existing forms of government for several years before they wrote the federalist papers. That the US system is based to a considerable degree on the UK model is pretty widely accepted. At the time there was no other major country with a representative body. The French plebicite had been suppressed for 140 years and its restoration eight years later would mark the start of the French revolution.   After the UK system the major influences were the Dutch system and of course the classical systems. Nobody seriously suggests that Rome or Greece were  models though because the political systems of both countries were acknowleged disasters. The main lesson learnt from Greece was that unless a federal state was constructed a war would be inevitable. The Greek democracies were always fighting amongst themselves which is how Rome managed to invade. Had the federal consi\n",
            "\n",
            "\n",
            "Prediction: model1 = talk.politics.mideast, model2 = soc.religion.christian):\n",
            "Text: From: Center for Policy Research <cpr> Subject: Zionists reject non-Jews. News   Ethiopian Jews and not-quite Jews  The Israeli press has published items about Ethiopian  Jews waiting in camps in Addis Ababa for immigration to  Israel, who are dying of starvation. The following are  excerpts from an interview with the former general  director of the JDC project for development and welfare  of Ethiopian Jews, Kobi Friedman (Hadashot, 21 April  1993), who has stated that \"there are people dying in  Addis Ababa, but they are converts to Christianity\":  \"Hadashor published the item about the dying Jews after  viewing a video tape filmed last week in Adis Ababa.  How do you know that they are actually converts to  Chritianity ?  \"If there are Jews on the tape, then I don't know what to  say. I am speaking from experience when I say that those  who remained in Ethiopia are Christians. I know that  there have previously been things published in the press  by interesting parties, and there is \n",
            "\n",
            "\n",
            "Prediction: model1 = alt.atheism, model2 = soc.religion.christian):\n",
            "Text:  Not by any standard of history I've seen. Care to back this up, sans the lies apologists are so fond of?   Not really. Most of the prophesies aren't even prophesies. They're prayers and comments taken from the Torah quite out of context. Seems Xians started lying right from the beginning.   My we're an arrogant ass, aren't we?   You're wrong to think we haven't. The trust was in something that doesn't exist.   I'm still willing to die for what I believe and don't believe. So were the loonies in Waco. So what?   Besides, the point's not to die for what one believes in. The point's to make that other sorry son-of-a-bitch to die for what *he* believes in!   :)  Doesn't anyone else here get tired of these cretins' tirades?  Peter the Damed, and damned proud of it!\n",
            "\n",
            "\n",
            "Prediction: model1 = talk.politics.mideast, model2 = soc.religion.christian):\n",
            "Text: David posts a good translation of a post by Suat Kinikliouglu:  [most of the original post elided]     [KK] ***** VATAN SEVGISI RUHLARI KIRDEN KURTARAN EN KUVVETLI RUZGARDIR *****     In translation, as a public service:  [most of the translation elided]     ***** THE LOVE OF THE FATHERLAND IS THE STRONGEST OF ALL WINDS CLEANSING          FILTH OFF SOULS *****  I think this part of the translation is questionable. Although I think the original quote is plain silly, you made it sound as if it is coming from a neo-nazi youth. For example, Turks talk of a \"motherland\" not a Germanic \"fatherland\". Why \"filth\" instead of \"dirt\"? The indeterminacy of translation is a well-known problem [1] so one may have to \"fudge\", but with some care of course. Is the following an equally valid translation?  The love of one's country is the strongest wind to cleanse one's soul.  See my point?  Nevertheless, I think you translate well.  oz\n",
            "\n",
            "\n",
            "Prediction: model1 = alt.atheism, model2 = soc.religion.christian):\n",
            "Text:  \t(2) is a corrallary of (1).  \tThe negation of (2) would contridict (1).     (2) Is a corrallary of (1)    The negation of (2) would contradict (1). --          \"Satan and the Angels do not have freewill.           They do what god tells them to do. \"\n",
            "\n",
            "\n",
            "Prediction: model1 = alt.atheism, model2 = soc.religion.christian):\n",
            "Text:   That's right, and this is pretty impossible, right?  It would be ideal if we could believe for a while, just to try out religion, and only then determine which course of thought suits us best.  But again, this is not possible.  Not that religion warrants belief, but the belief carries with it some psychological benefits.  There are also some psychological burdens, too.   Well, if there were some psychological or other benefits gained from racism, they could only be fully understood or judged by persons actually \"believing\" in racism.  Of course, the parallel happens to be a poor one, but you originated it.\n",
            "\n",
            "\n",
            "Prediction: model1 = talk.religion.misc, model2 = soc.religion.christian):\n",
            "Text: Let me begin by saying I think this is the world's first religion to use the net as its major recruitment medium.  Therefore, even if this religion does not take off, its founding members will be very important historically as this method of soliciting membership will eventually become  common.  The basis of this religion is to apply various aspects of current conventional morality to the characters in Genesis and Exodus but assume that the Bible's accounts of the facts and historical events is correct.  For example,  Story of Adam and Eve: Adam and Eve are in Garden of Eden naked and ignorant.  Have unlimited supply of food provided, but no clothing, jobs, or knowledge.  God says not to eat fruit of tree of knowledge.  They do anyway, then try to hide  in bushes.  God finds them and forces them out of Garden. (There are several different stories on what they were doing while naked in the bushes that might have angered God.)  Traditional Philosophy: 1. The only reason you need knowledg\n",
            "\n",
            "\n"
          ]
        }
      ],
      "source": [
        "# Print out the original and clean text of the examples that met the above conditions\n",
        "for i in np.where(select_predictions)[0]:\n",
        "\n",
        "    print('Prediction: model1 = %s, model2 = %s):\\nText: %s\\n\\n' %\n",
        "          (target_names[predictions_model1[i]],\n",
        "           target_names[predictions_2steps[i]],\n",
        "           test_texts[i][:1000].replace('\\n', ' ')))"
      ]
    },
    {
      "cell_type": "markdown",
      "metadata": {
        "id": "ppncPlCzzz0B"
      },
      "source": [
        "**QUESTION:** \n",
        "\n",
        "4.1 Why do you think the two-step model got these examples wrong, when the original model got them right?\n",
        "\n",
        "- A. The two-step model saw less examples of the \"label_to_replace\" class, because we replaced them with the \"label_to_replace_with\" examples. So it didn't learn the kind of text in that class as well as the original model.\n",
        "\n",
        "- **B. In the two-step process, the step 1 model overpredicted the combined class, and the step 2 model overpredicted the \"label_to_replace_with\" class. A third class is now getting mistaken more often for the \"label_to_replace_with\" class, than in the original model.**\n",
        "\n",
        "- C. It's probably just random that the original model got these specific examples right and the two-step model got them wrong.\n",
        "\n",
        "\n",
        "\n",
        "4.2 Is there anything you might try next, to try to make the two-step model better?\n",
        "\n",
        "- A. Try to balance the training data across classes at each step, or add class weights when calling model.fit.\n",
        "\n",
        "- B. Try to combine another similar category with the two easily confused ones, for a step 1 model with 18 classes and the step 2 model with 3 classes.\n",
        "\n",
        "- **C. Try both A and B**"
      ]
    }
  ],
  "metadata": {
    "accelerator": "GPU",
    "colab": {
      "provenance": [],
      "include_colab_link": true
    },
    "gpuClass": "standard",
    "kernelspec": {
      "display_name": "Python 3 (ipykernel)",
      "language": "python",
      "name": "python3"
    },
    "language_info": {
      "codemirror_mode": {
        "name": "ipython",
        "version": 3
      },
      "file_extension": ".py",
      "mimetype": "text/x-python",
      "name": "python",
      "nbconvert_exporter": "python",
      "pygments_lexer": "ipython3",
      "version": "3.8.15"
    },
    "widgets": {
      "application/vnd.jupyter.widget-state+json": {
        "8429eaae27444bfb865b7c4812525e60": {
          "model_module": "@jupyter-widgets/controls",
          "model_name": "HBoxModel",
          "model_module_version": "1.5.0",
          "state": {
            "_dom_classes": [],
            "_model_module": "@jupyter-widgets/controls",
            "_model_module_version": "1.5.0",
            "_model_name": "HBoxModel",
            "_view_count": null,
            "_view_module": "@jupyter-widgets/controls",
            "_view_module_version": "1.5.0",
            "_view_name": "HBoxView",
            "box_style": "",
            "children": [
              "IPY_MODEL_10f9722893fe4f5ab90ecf329cc0ab6a",
              "IPY_MODEL_4167f8c8b81742c2acd25d59f27434bd",
              "IPY_MODEL_1e6dce391de9479d8014de2cc8e0e12b"
            ],
            "layout": "IPY_MODEL_70b2cabba89e4f4eb37b7785bf246645"
          }
        },
        "10f9722893fe4f5ab90ecf329cc0ab6a": {
          "model_module": "@jupyter-widgets/controls",
          "model_name": "HTMLModel",
          "model_module_version": "1.5.0",
          "state": {
            "_dom_classes": [],
            "_model_module": "@jupyter-widgets/controls",
            "_model_module_version": "1.5.0",
            "_model_name": "HTMLModel",
            "_view_count": null,
            "_view_module": "@jupyter-widgets/controls",
            "_view_module_version": "1.5.0",
            "_view_name": "HTMLView",
            "description": "",
            "description_tooltip": null,
            "layout": "IPY_MODEL_9bb27b999dea497dbbc98a7b7b2d86a3",
            "placeholder": "​",
            "style": "IPY_MODEL_9bd917cd18c549a0a9225a0732929817",
            "value": "Downloading (…)solve/main/vocab.txt: 100%"
          }
        },
        "4167f8c8b81742c2acd25d59f27434bd": {
          "model_module": "@jupyter-widgets/controls",
          "model_name": "FloatProgressModel",
          "model_module_version": "1.5.0",
          "state": {
            "_dom_classes": [],
            "_model_module": "@jupyter-widgets/controls",
            "_model_module_version": "1.5.0",
            "_model_name": "FloatProgressModel",
            "_view_count": null,
            "_view_module": "@jupyter-widgets/controls",
            "_view_module_version": "1.5.0",
            "_view_name": "ProgressView",
            "bar_style": "success",
            "description": "",
            "description_tooltip": null,
            "layout": "IPY_MODEL_d51ebb562b804db2b3883ad102bb008b",
            "max": 213450,
            "min": 0,
            "orientation": "horizontal",
            "style": "IPY_MODEL_54fd05f0508743449f11b624f5b7cb06",
            "value": 213450
          }
        },
        "1e6dce391de9479d8014de2cc8e0e12b": {
          "model_module": "@jupyter-widgets/controls",
          "model_name": "HTMLModel",
          "model_module_version": "1.5.0",
          "state": {
            "_dom_classes": [],
            "_model_module": "@jupyter-widgets/controls",
            "_model_module_version": "1.5.0",
            "_model_name": "HTMLModel",
            "_view_count": null,
            "_view_module": "@jupyter-widgets/controls",
            "_view_module_version": "1.5.0",
            "_view_name": "HTMLView",
            "description": "",
            "description_tooltip": null,
            "layout": "IPY_MODEL_4427f8a15aa2417483d7bc6e514b6ce4",
            "placeholder": "​",
            "style": "IPY_MODEL_1576d74267a140288b009c4bfc39857e",
            "value": " 213k/213k [00:00&lt;00:00, 321kB/s]"
          }
        },
        "70b2cabba89e4f4eb37b7785bf246645": {
          "model_module": "@jupyter-widgets/base",
          "model_name": "LayoutModel",
          "model_module_version": "1.2.0",
          "state": {
            "_model_module": "@jupyter-widgets/base",
            "_model_module_version": "1.2.0",
            "_model_name": "LayoutModel",
            "_view_count": null,
            "_view_module": "@jupyter-widgets/base",
            "_view_module_version": "1.2.0",
            "_view_name": "LayoutView",
            "align_content": null,
            "align_items": null,
            "align_self": null,
            "border": null,
            "bottom": null,
            "display": null,
            "flex": null,
            "flex_flow": null,
            "grid_area": null,
            "grid_auto_columns": null,
            "grid_auto_flow": null,
            "grid_auto_rows": null,
            "grid_column": null,
            "grid_gap": null,
            "grid_row": null,
            "grid_template_areas": null,
            "grid_template_columns": null,
            "grid_template_rows": null,
            "height": null,
            "justify_content": null,
            "justify_items": null,
            "left": null,
            "margin": null,
            "max_height": null,
            "max_width": null,
            "min_height": null,
            "min_width": null,
            "object_fit": null,
            "object_position": null,
            "order": null,
            "overflow": null,
            "overflow_x": null,
            "overflow_y": null,
            "padding": null,
            "right": null,
            "top": null,
            "visibility": null,
            "width": null
          }
        },
        "9bb27b999dea497dbbc98a7b7b2d86a3": {
          "model_module": "@jupyter-widgets/base",
          "model_name": "LayoutModel",
          "model_module_version": "1.2.0",
          "state": {
            "_model_module": "@jupyter-widgets/base",
            "_model_module_version": "1.2.0",
            "_model_name": "LayoutModel",
            "_view_count": null,
            "_view_module": "@jupyter-widgets/base",
            "_view_module_version": "1.2.0",
            "_view_name": "LayoutView",
            "align_content": null,
            "align_items": null,
            "align_self": null,
            "border": null,
            "bottom": null,
            "display": null,
            "flex": null,
            "flex_flow": null,
            "grid_area": null,
            "grid_auto_columns": null,
            "grid_auto_flow": null,
            "grid_auto_rows": null,
            "grid_column": null,
            "grid_gap": null,
            "grid_row": null,
            "grid_template_areas": null,
            "grid_template_columns": null,
            "grid_template_rows": null,
            "height": null,
            "justify_content": null,
            "justify_items": null,
            "left": null,
            "margin": null,
            "max_height": null,
            "max_width": null,
            "min_height": null,
            "min_width": null,
            "object_fit": null,
            "object_position": null,
            "order": null,
            "overflow": null,
            "overflow_x": null,
            "overflow_y": null,
            "padding": null,
            "right": null,
            "top": null,
            "visibility": null,
            "width": null
          }
        },
        "9bd917cd18c549a0a9225a0732929817": {
          "model_module": "@jupyter-widgets/controls",
          "model_name": "DescriptionStyleModel",
          "model_module_version": "1.5.0",
          "state": {
            "_model_module": "@jupyter-widgets/controls",
            "_model_module_version": "1.5.0",
            "_model_name": "DescriptionStyleModel",
            "_view_count": null,
            "_view_module": "@jupyter-widgets/base",
            "_view_module_version": "1.2.0",
            "_view_name": "StyleView",
            "description_width": ""
          }
        },
        "d51ebb562b804db2b3883ad102bb008b": {
          "model_module": "@jupyter-widgets/base",
          "model_name": "LayoutModel",
          "model_module_version": "1.2.0",
          "state": {
            "_model_module": "@jupyter-widgets/base",
            "_model_module_version": "1.2.0",
            "_model_name": "LayoutModel",
            "_view_count": null,
            "_view_module": "@jupyter-widgets/base",
            "_view_module_version": "1.2.0",
            "_view_name": "LayoutView",
            "align_content": null,
            "align_items": null,
            "align_self": null,
            "border": null,
            "bottom": null,
            "display": null,
            "flex": null,
            "flex_flow": null,
            "grid_area": null,
            "grid_auto_columns": null,
            "grid_auto_flow": null,
            "grid_auto_rows": null,
            "grid_column": null,
            "grid_gap": null,
            "grid_row": null,
            "grid_template_areas": null,
            "grid_template_columns": null,
            "grid_template_rows": null,
            "height": null,
            "justify_content": null,
            "justify_items": null,
            "left": null,
            "margin": null,
            "max_height": null,
            "max_width": null,
            "min_height": null,
            "min_width": null,
            "object_fit": null,
            "object_position": null,
            "order": null,
            "overflow": null,
            "overflow_x": null,
            "overflow_y": null,
            "padding": null,
            "right": null,
            "top": null,
            "visibility": null,
            "width": null
          }
        },
        "54fd05f0508743449f11b624f5b7cb06": {
          "model_module": "@jupyter-widgets/controls",
          "model_name": "ProgressStyleModel",
          "model_module_version": "1.5.0",
          "state": {
            "_model_module": "@jupyter-widgets/controls",
            "_model_module_version": "1.5.0",
            "_model_name": "ProgressStyleModel",
            "_view_count": null,
            "_view_module": "@jupyter-widgets/base",
            "_view_module_version": "1.2.0",
            "_view_name": "StyleView",
            "bar_color": null,
            "description_width": ""
          }
        },
        "4427f8a15aa2417483d7bc6e514b6ce4": {
          "model_module": "@jupyter-widgets/base",
          "model_name": "LayoutModel",
          "model_module_version": "1.2.0",
          "state": {
            "_model_module": "@jupyter-widgets/base",
            "_model_module_version": "1.2.0",
            "_model_name": "LayoutModel",
            "_view_count": null,
            "_view_module": "@jupyter-widgets/base",
            "_view_module_version": "1.2.0",
            "_view_name": "LayoutView",
            "align_content": null,
            "align_items": null,
            "align_self": null,
            "border": null,
            "bottom": null,
            "display": null,
            "flex": null,
            "flex_flow": null,
            "grid_area": null,
            "grid_auto_columns": null,
            "grid_auto_flow": null,
            "grid_auto_rows": null,
            "grid_column": null,
            "grid_gap": null,
            "grid_row": null,
            "grid_template_areas": null,
            "grid_template_columns": null,
            "grid_template_rows": null,
            "height": null,
            "justify_content": null,
            "justify_items": null,
            "left": null,
            "margin": null,
            "max_height": null,
            "max_width": null,
            "min_height": null,
            "min_width": null,
            "object_fit": null,
            "object_position": null,
            "order": null,
            "overflow": null,
            "overflow_x": null,
            "overflow_y": null,
            "padding": null,
            "right": null,
            "top": null,
            "visibility": null,
            "width": null
          }
        },
        "1576d74267a140288b009c4bfc39857e": {
          "model_module": "@jupyter-widgets/controls",
          "model_name": "DescriptionStyleModel",
          "model_module_version": "1.5.0",
          "state": {
            "_model_module": "@jupyter-widgets/controls",
            "_model_module_version": "1.5.0",
            "_model_name": "DescriptionStyleModel",
            "_view_count": null,
            "_view_module": "@jupyter-widgets/base",
            "_view_module_version": "1.2.0",
            "_view_name": "StyleView",
            "description_width": ""
          }
        },
        "2565d8ca26f741cb855575461590a7c1": {
          "model_module": "@jupyter-widgets/controls",
          "model_name": "HBoxModel",
          "model_module_version": "1.5.0",
          "state": {
            "_dom_classes": [],
            "_model_module": "@jupyter-widgets/controls",
            "_model_module_version": "1.5.0",
            "_model_name": "HBoxModel",
            "_view_count": null,
            "_view_module": "@jupyter-widgets/controls",
            "_view_module_version": "1.5.0",
            "_view_name": "HBoxView",
            "box_style": "",
            "children": [
              "IPY_MODEL_2d5c9ebb355c47fb992bab5d95e50944",
              "IPY_MODEL_f9446aa4b47c45a59518dbba9369b13f",
              "IPY_MODEL_be22ce498f27479e91c04b32b01972ce"
            ],
            "layout": "IPY_MODEL_94430bf4919d4dd5b49be3ece00eedd1"
          }
        },
        "2d5c9ebb355c47fb992bab5d95e50944": {
          "model_module": "@jupyter-widgets/controls",
          "model_name": "HTMLModel",
          "model_module_version": "1.5.0",
          "state": {
            "_dom_classes": [],
            "_model_module": "@jupyter-widgets/controls",
            "_model_module_version": "1.5.0",
            "_model_name": "HTMLModel",
            "_view_count": null,
            "_view_module": "@jupyter-widgets/controls",
            "_view_module_version": "1.5.0",
            "_view_name": "HTMLView",
            "description": "",
            "description_tooltip": null,
            "layout": "IPY_MODEL_4e3707a42ba04aea93eb929c42661fc8",
            "placeholder": "​",
            "style": "IPY_MODEL_2e4f1139725d405298acc9163a442023",
            "value": "Downloading (…)okenizer_config.json: 100%"
          }
        },
        "f9446aa4b47c45a59518dbba9369b13f": {
          "model_module": "@jupyter-widgets/controls",
          "model_name": "FloatProgressModel",
          "model_module_version": "1.5.0",
          "state": {
            "_dom_classes": [],
            "_model_module": "@jupyter-widgets/controls",
            "_model_module_version": "1.5.0",
            "_model_name": "FloatProgressModel",
            "_view_count": null,
            "_view_module": "@jupyter-widgets/controls",
            "_view_module_version": "1.5.0",
            "_view_name": "ProgressView",
            "bar_style": "success",
            "description": "",
            "description_tooltip": null,
            "layout": "IPY_MODEL_185cd7dc0de54382a39dca9a433df78f",
            "max": 29,
            "min": 0,
            "orientation": "horizontal",
            "style": "IPY_MODEL_a9d924999e0d45a9af2ff6c7c2ca3934",
            "value": 29
          }
        },
        "be22ce498f27479e91c04b32b01972ce": {
          "model_module": "@jupyter-widgets/controls",
          "model_name": "HTMLModel",
          "model_module_version": "1.5.0",
          "state": {
            "_dom_classes": [],
            "_model_module": "@jupyter-widgets/controls",
            "_model_module_version": "1.5.0",
            "_model_name": "HTMLModel",
            "_view_count": null,
            "_view_module": "@jupyter-widgets/controls",
            "_view_module_version": "1.5.0",
            "_view_name": "HTMLView",
            "description": "",
            "description_tooltip": null,
            "layout": "IPY_MODEL_2b39ea663faa4b70a39aaf69b6a471db",
            "placeholder": "​",
            "style": "IPY_MODEL_21fb6d7f051e4c61bdc1c54705976df1",
            "value": " 29.0/29.0 [00:00&lt;00:00, 366B/s]"
          }
        },
        "94430bf4919d4dd5b49be3ece00eedd1": {
          "model_module": "@jupyter-widgets/base",
          "model_name": "LayoutModel",
          "model_module_version": "1.2.0",
          "state": {
            "_model_module": "@jupyter-widgets/base",
            "_model_module_version": "1.2.0",
            "_model_name": "LayoutModel",
            "_view_count": null,
            "_view_module": "@jupyter-widgets/base",
            "_view_module_version": "1.2.0",
            "_view_name": "LayoutView",
            "align_content": null,
            "align_items": null,
            "align_self": null,
            "border": null,
            "bottom": null,
            "display": null,
            "flex": null,
            "flex_flow": null,
            "grid_area": null,
            "grid_auto_columns": null,
            "grid_auto_flow": null,
            "grid_auto_rows": null,
            "grid_column": null,
            "grid_gap": null,
            "grid_row": null,
            "grid_template_areas": null,
            "grid_template_columns": null,
            "grid_template_rows": null,
            "height": null,
            "justify_content": null,
            "justify_items": null,
            "left": null,
            "margin": null,
            "max_height": null,
            "max_width": null,
            "min_height": null,
            "min_width": null,
            "object_fit": null,
            "object_position": null,
            "order": null,
            "overflow": null,
            "overflow_x": null,
            "overflow_y": null,
            "padding": null,
            "right": null,
            "top": null,
            "visibility": null,
            "width": null
          }
        },
        "4e3707a42ba04aea93eb929c42661fc8": {
          "model_module": "@jupyter-widgets/base",
          "model_name": "LayoutModel",
          "model_module_version": "1.2.0",
          "state": {
            "_model_module": "@jupyter-widgets/base",
            "_model_module_version": "1.2.0",
            "_model_name": "LayoutModel",
            "_view_count": null,
            "_view_module": "@jupyter-widgets/base",
            "_view_module_version": "1.2.0",
            "_view_name": "LayoutView",
            "align_content": null,
            "align_items": null,
            "align_self": null,
            "border": null,
            "bottom": null,
            "display": null,
            "flex": null,
            "flex_flow": null,
            "grid_area": null,
            "grid_auto_columns": null,
            "grid_auto_flow": null,
            "grid_auto_rows": null,
            "grid_column": null,
            "grid_gap": null,
            "grid_row": null,
            "grid_template_areas": null,
            "grid_template_columns": null,
            "grid_template_rows": null,
            "height": null,
            "justify_content": null,
            "justify_items": null,
            "left": null,
            "margin": null,
            "max_height": null,
            "max_width": null,
            "min_height": null,
            "min_width": null,
            "object_fit": null,
            "object_position": null,
            "order": null,
            "overflow": null,
            "overflow_x": null,
            "overflow_y": null,
            "padding": null,
            "right": null,
            "top": null,
            "visibility": null,
            "width": null
          }
        },
        "2e4f1139725d405298acc9163a442023": {
          "model_module": "@jupyter-widgets/controls",
          "model_name": "DescriptionStyleModel",
          "model_module_version": "1.5.0",
          "state": {
            "_model_module": "@jupyter-widgets/controls",
            "_model_module_version": "1.5.0",
            "_model_name": "DescriptionStyleModel",
            "_view_count": null,
            "_view_module": "@jupyter-widgets/base",
            "_view_module_version": "1.2.0",
            "_view_name": "StyleView",
            "description_width": ""
          }
        },
        "185cd7dc0de54382a39dca9a433df78f": {
          "model_module": "@jupyter-widgets/base",
          "model_name": "LayoutModel",
          "model_module_version": "1.2.0",
          "state": {
            "_model_module": "@jupyter-widgets/base",
            "_model_module_version": "1.2.0",
            "_model_name": "LayoutModel",
            "_view_count": null,
            "_view_module": "@jupyter-widgets/base",
            "_view_module_version": "1.2.0",
            "_view_name": "LayoutView",
            "align_content": null,
            "align_items": null,
            "align_self": null,
            "border": null,
            "bottom": null,
            "display": null,
            "flex": null,
            "flex_flow": null,
            "grid_area": null,
            "grid_auto_columns": null,
            "grid_auto_flow": null,
            "grid_auto_rows": null,
            "grid_column": null,
            "grid_gap": null,
            "grid_row": null,
            "grid_template_areas": null,
            "grid_template_columns": null,
            "grid_template_rows": null,
            "height": null,
            "justify_content": null,
            "justify_items": null,
            "left": null,
            "margin": null,
            "max_height": null,
            "max_width": null,
            "min_height": null,
            "min_width": null,
            "object_fit": null,
            "object_position": null,
            "order": null,
            "overflow": null,
            "overflow_x": null,
            "overflow_y": null,
            "padding": null,
            "right": null,
            "top": null,
            "visibility": null,
            "width": null
          }
        },
        "a9d924999e0d45a9af2ff6c7c2ca3934": {
          "model_module": "@jupyter-widgets/controls",
          "model_name": "ProgressStyleModel",
          "model_module_version": "1.5.0",
          "state": {
            "_model_module": "@jupyter-widgets/controls",
            "_model_module_version": "1.5.0",
            "_model_name": "ProgressStyleModel",
            "_view_count": null,
            "_view_module": "@jupyter-widgets/base",
            "_view_module_version": "1.2.0",
            "_view_name": "StyleView",
            "bar_color": null,
            "description_width": ""
          }
        },
        "2b39ea663faa4b70a39aaf69b6a471db": {
          "model_module": "@jupyter-widgets/base",
          "model_name": "LayoutModel",
          "model_module_version": "1.2.0",
          "state": {
            "_model_module": "@jupyter-widgets/base",
            "_model_module_version": "1.2.0",
            "_model_name": "LayoutModel",
            "_view_count": null,
            "_view_module": "@jupyter-widgets/base",
            "_view_module_version": "1.2.0",
            "_view_name": "LayoutView",
            "align_content": null,
            "align_items": null,
            "align_self": null,
            "border": null,
            "bottom": null,
            "display": null,
            "flex": null,
            "flex_flow": null,
            "grid_area": null,
            "grid_auto_columns": null,
            "grid_auto_flow": null,
            "grid_auto_rows": null,
            "grid_column": null,
            "grid_gap": null,
            "grid_row": null,
            "grid_template_areas": null,
            "grid_template_columns": null,
            "grid_template_rows": null,
            "height": null,
            "justify_content": null,
            "justify_items": null,
            "left": null,
            "margin": null,
            "max_height": null,
            "max_width": null,
            "min_height": null,
            "min_width": null,
            "object_fit": null,
            "object_position": null,
            "order": null,
            "overflow": null,
            "overflow_x": null,
            "overflow_y": null,
            "padding": null,
            "right": null,
            "top": null,
            "visibility": null,
            "width": null
          }
        },
        "21fb6d7f051e4c61bdc1c54705976df1": {
          "model_module": "@jupyter-widgets/controls",
          "model_name": "DescriptionStyleModel",
          "model_module_version": "1.5.0",
          "state": {
            "_model_module": "@jupyter-widgets/controls",
            "_model_module_version": "1.5.0",
            "_model_name": "DescriptionStyleModel",
            "_view_count": null,
            "_view_module": "@jupyter-widgets/base",
            "_view_module_version": "1.2.0",
            "_view_name": "StyleView",
            "description_width": ""
          }
        },
        "489cbb1f411c45309bcc054a35a4caca": {
          "model_module": "@jupyter-widgets/controls",
          "model_name": "HBoxModel",
          "model_module_version": "1.5.0",
          "state": {
            "_dom_classes": [],
            "_model_module": "@jupyter-widgets/controls",
            "_model_module_version": "1.5.0",
            "_model_name": "HBoxModel",
            "_view_count": null,
            "_view_module": "@jupyter-widgets/controls",
            "_view_module_version": "1.5.0",
            "_view_name": "HBoxView",
            "box_style": "",
            "children": [
              "IPY_MODEL_839c9291686b43b59bf5825b4b50c54d",
              "IPY_MODEL_d7f5ca27272e4c54bfb593db96a0b9c0",
              "IPY_MODEL_2469ab3444bf4a29b5f00fc6fd1f390a"
            ],
            "layout": "IPY_MODEL_cb98bcc4d9dc40aaa46b082f38381644"
          }
        },
        "839c9291686b43b59bf5825b4b50c54d": {
          "model_module": "@jupyter-widgets/controls",
          "model_name": "HTMLModel",
          "model_module_version": "1.5.0",
          "state": {
            "_dom_classes": [],
            "_model_module": "@jupyter-widgets/controls",
            "_model_module_version": "1.5.0",
            "_model_name": "HTMLModel",
            "_view_count": null,
            "_view_module": "@jupyter-widgets/controls",
            "_view_module_version": "1.5.0",
            "_view_name": "HTMLView",
            "description": "",
            "description_tooltip": null,
            "layout": "IPY_MODEL_b73d6002a79d413ea08585a708c53156",
            "placeholder": "​",
            "style": "IPY_MODEL_df53919a33d742a58186260833785ae6",
            "value": "Downloading (…)lve/main/config.json: 100%"
          }
        },
        "d7f5ca27272e4c54bfb593db96a0b9c0": {
          "model_module": "@jupyter-widgets/controls",
          "model_name": "FloatProgressModel",
          "model_module_version": "1.5.0",
          "state": {
            "_dom_classes": [],
            "_model_module": "@jupyter-widgets/controls",
            "_model_module_version": "1.5.0",
            "_model_name": "FloatProgressModel",
            "_view_count": null,
            "_view_module": "@jupyter-widgets/controls",
            "_view_module_version": "1.5.0",
            "_view_name": "ProgressView",
            "bar_style": "success",
            "description": "",
            "description_tooltip": null,
            "layout": "IPY_MODEL_1640bbb0908b454bacc84a73342649c0",
            "max": 570,
            "min": 0,
            "orientation": "horizontal",
            "style": "IPY_MODEL_9b10017aa9984ff4b6e33c025a579e56",
            "value": 570
          }
        },
        "2469ab3444bf4a29b5f00fc6fd1f390a": {
          "model_module": "@jupyter-widgets/controls",
          "model_name": "HTMLModel",
          "model_module_version": "1.5.0",
          "state": {
            "_dom_classes": [],
            "_model_module": "@jupyter-widgets/controls",
            "_model_module_version": "1.5.0",
            "_model_name": "HTMLModel",
            "_view_count": null,
            "_view_module": "@jupyter-widgets/controls",
            "_view_module_version": "1.5.0",
            "_view_name": "HTMLView",
            "description": "",
            "description_tooltip": null,
            "layout": "IPY_MODEL_ce70e77ff1b74b3f988ca691dac10edb",
            "placeholder": "​",
            "style": "IPY_MODEL_d6d80361bb3847169748d4c15cf491f2",
            "value": " 570/570 [00:00&lt;00:00, 7.76kB/s]"
          }
        },
        "cb98bcc4d9dc40aaa46b082f38381644": {
          "model_module": "@jupyter-widgets/base",
          "model_name": "LayoutModel",
          "model_module_version": "1.2.0",
          "state": {
            "_model_module": "@jupyter-widgets/base",
            "_model_module_version": "1.2.0",
            "_model_name": "LayoutModel",
            "_view_count": null,
            "_view_module": "@jupyter-widgets/base",
            "_view_module_version": "1.2.0",
            "_view_name": "LayoutView",
            "align_content": null,
            "align_items": null,
            "align_self": null,
            "border": null,
            "bottom": null,
            "display": null,
            "flex": null,
            "flex_flow": null,
            "grid_area": null,
            "grid_auto_columns": null,
            "grid_auto_flow": null,
            "grid_auto_rows": null,
            "grid_column": null,
            "grid_gap": null,
            "grid_row": null,
            "grid_template_areas": null,
            "grid_template_columns": null,
            "grid_template_rows": null,
            "height": null,
            "justify_content": null,
            "justify_items": null,
            "left": null,
            "margin": null,
            "max_height": null,
            "max_width": null,
            "min_height": null,
            "min_width": null,
            "object_fit": null,
            "object_position": null,
            "order": null,
            "overflow": null,
            "overflow_x": null,
            "overflow_y": null,
            "padding": null,
            "right": null,
            "top": null,
            "visibility": null,
            "width": null
          }
        },
        "b73d6002a79d413ea08585a708c53156": {
          "model_module": "@jupyter-widgets/base",
          "model_name": "LayoutModel",
          "model_module_version": "1.2.0",
          "state": {
            "_model_module": "@jupyter-widgets/base",
            "_model_module_version": "1.2.0",
            "_model_name": "LayoutModel",
            "_view_count": null,
            "_view_module": "@jupyter-widgets/base",
            "_view_module_version": "1.2.0",
            "_view_name": "LayoutView",
            "align_content": null,
            "align_items": null,
            "align_self": null,
            "border": null,
            "bottom": null,
            "display": null,
            "flex": null,
            "flex_flow": null,
            "grid_area": null,
            "grid_auto_columns": null,
            "grid_auto_flow": null,
            "grid_auto_rows": null,
            "grid_column": null,
            "grid_gap": null,
            "grid_row": null,
            "grid_template_areas": null,
            "grid_template_columns": null,
            "grid_template_rows": null,
            "height": null,
            "justify_content": null,
            "justify_items": null,
            "left": null,
            "margin": null,
            "max_height": null,
            "max_width": null,
            "min_height": null,
            "min_width": null,
            "object_fit": null,
            "object_position": null,
            "order": null,
            "overflow": null,
            "overflow_x": null,
            "overflow_y": null,
            "padding": null,
            "right": null,
            "top": null,
            "visibility": null,
            "width": null
          }
        },
        "df53919a33d742a58186260833785ae6": {
          "model_module": "@jupyter-widgets/controls",
          "model_name": "DescriptionStyleModel",
          "model_module_version": "1.5.0",
          "state": {
            "_model_module": "@jupyter-widgets/controls",
            "_model_module_version": "1.5.0",
            "_model_name": "DescriptionStyleModel",
            "_view_count": null,
            "_view_module": "@jupyter-widgets/base",
            "_view_module_version": "1.2.0",
            "_view_name": "StyleView",
            "description_width": ""
          }
        },
        "1640bbb0908b454bacc84a73342649c0": {
          "model_module": "@jupyter-widgets/base",
          "model_name": "LayoutModel",
          "model_module_version": "1.2.0",
          "state": {
            "_model_module": "@jupyter-widgets/base",
            "_model_module_version": "1.2.0",
            "_model_name": "LayoutModel",
            "_view_count": null,
            "_view_module": "@jupyter-widgets/base",
            "_view_module_version": "1.2.0",
            "_view_name": "LayoutView",
            "align_content": null,
            "align_items": null,
            "align_self": null,
            "border": null,
            "bottom": null,
            "display": null,
            "flex": null,
            "flex_flow": null,
            "grid_area": null,
            "grid_auto_columns": null,
            "grid_auto_flow": null,
            "grid_auto_rows": null,
            "grid_column": null,
            "grid_gap": null,
            "grid_row": null,
            "grid_template_areas": null,
            "grid_template_columns": null,
            "grid_template_rows": null,
            "height": null,
            "justify_content": null,
            "justify_items": null,
            "left": null,
            "margin": null,
            "max_height": null,
            "max_width": null,
            "min_height": null,
            "min_width": null,
            "object_fit": null,
            "object_position": null,
            "order": null,
            "overflow": null,
            "overflow_x": null,
            "overflow_y": null,
            "padding": null,
            "right": null,
            "top": null,
            "visibility": null,
            "width": null
          }
        },
        "9b10017aa9984ff4b6e33c025a579e56": {
          "model_module": "@jupyter-widgets/controls",
          "model_name": "ProgressStyleModel",
          "model_module_version": "1.5.0",
          "state": {
            "_model_module": "@jupyter-widgets/controls",
            "_model_module_version": "1.5.0",
            "_model_name": "ProgressStyleModel",
            "_view_count": null,
            "_view_module": "@jupyter-widgets/base",
            "_view_module_version": "1.2.0",
            "_view_name": "StyleView",
            "bar_color": null,
            "description_width": ""
          }
        },
        "ce70e77ff1b74b3f988ca691dac10edb": {
          "model_module": "@jupyter-widgets/base",
          "model_name": "LayoutModel",
          "model_module_version": "1.2.0",
          "state": {
            "_model_module": "@jupyter-widgets/base",
            "_model_module_version": "1.2.0",
            "_model_name": "LayoutModel",
            "_view_count": null,
            "_view_module": "@jupyter-widgets/base",
            "_view_module_version": "1.2.0",
            "_view_name": "LayoutView",
            "align_content": null,
            "align_items": null,
            "align_self": null,
            "border": null,
            "bottom": null,
            "display": null,
            "flex": null,
            "flex_flow": null,
            "grid_area": null,
            "grid_auto_columns": null,
            "grid_auto_flow": null,
            "grid_auto_rows": null,
            "grid_column": null,
            "grid_gap": null,
            "grid_row": null,
            "grid_template_areas": null,
            "grid_template_columns": null,
            "grid_template_rows": null,
            "height": null,
            "justify_content": null,
            "justify_items": null,
            "left": null,
            "margin": null,
            "max_height": null,
            "max_width": null,
            "min_height": null,
            "min_width": null,
            "object_fit": null,
            "object_position": null,
            "order": null,
            "overflow": null,
            "overflow_x": null,
            "overflow_y": null,
            "padding": null,
            "right": null,
            "top": null,
            "visibility": null,
            "width": null
          }
        },
        "d6d80361bb3847169748d4c15cf491f2": {
          "model_module": "@jupyter-widgets/controls",
          "model_name": "DescriptionStyleModel",
          "model_module_version": "1.5.0",
          "state": {
            "_model_module": "@jupyter-widgets/controls",
            "_model_module_version": "1.5.0",
            "_model_name": "DescriptionStyleModel",
            "_view_count": null,
            "_view_module": "@jupyter-widgets/base",
            "_view_module_version": "1.2.0",
            "_view_name": "StyleView",
            "description_width": ""
          }
        },
        "49e43384cbd5433bb22d3584621b7ce8": {
          "model_module": "@jupyter-widgets/controls",
          "model_name": "HBoxModel",
          "model_module_version": "1.5.0",
          "state": {
            "_dom_classes": [],
            "_model_module": "@jupyter-widgets/controls",
            "_model_module_version": "1.5.0",
            "_model_name": "HBoxModel",
            "_view_count": null,
            "_view_module": "@jupyter-widgets/controls",
            "_view_module_version": "1.5.0",
            "_view_name": "HBoxView",
            "box_style": "",
            "children": [
              "IPY_MODEL_0bc88245bf544c44b8fd358935eb0006",
              "IPY_MODEL_099f905966c94abe974d4bfa4291fc6d",
              "IPY_MODEL_291ae692cc3348eca421910de692a73b"
            ],
            "layout": "IPY_MODEL_95f5d6f95bfb467792de38d12e3bc292"
          }
        },
        "0bc88245bf544c44b8fd358935eb0006": {
          "model_module": "@jupyter-widgets/controls",
          "model_name": "HTMLModel",
          "model_module_version": "1.5.0",
          "state": {
            "_dom_classes": [],
            "_model_module": "@jupyter-widgets/controls",
            "_model_module_version": "1.5.0",
            "_model_name": "HTMLModel",
            "_view_count": null,
            "_view_module": "@jupyter-widgets/controls",
            "_view_module_version": "1.5.0",
            "_view_name": "HTMLView",
            "description": "",
            "description_tooltip": null,
            "layout": "IPY_MODEL_3a88f35731564e69be66490e6293279f",
            "placeholder": "​",
            "style": "IPY_MODEL_ec529cad72bf4467b6cf31e713c14f76",
            "value": "Downloading (…)&quot;tf_model.h5&quot;;: 100%"
          }
        },
        "099f905966c94abe974d4bfa4291fc6d": {
          "model_module": "@jupyter-widgets/controls",
          "model_name": "FloatProgressModel",
          "model_module_version": "1.5.0",
          "state": {
            "_dom_classes": [],
            "_model_module": "@jupyter-widgets/controls",
            "_model_module_version": "1.5.0",
            "_model_name": "FloatProgressModel",
            "_view_count": null,
            "_view_module": "@jupyter-widgets/controls",
            "_view_module_version": "1.5.0",
            "_view_name": "ProgressView",
            "bar_style": "success",
            "description": "",
            "description_tooltip": null,
            "layout": "IPY_MODEL_c243ac920b5743cfbecc64d34a2a2ac9",
            "max": 526681800,
            "min": 0,
            "orientation": "horizontal",
            "style": "IPY_MODEL_ba9b18bd3c014690af2afbfcf993d4e2",
            "value": 526681800
          }
        },
        "291ae692cc3348eca421910de692a73b": {
          "model_module": "@jupyter-widgets/controls",
          "model_name": "HTMLModel",
          "model_module_version": "1.5.0",
          "state": {
            "_dom_classes": [],
            "_model_module": "@jupyter-widgets/controls",
            "_model_module_version": "1.5.0",
            "_model_name": "HTMLModel",
            "_view_count": null,
            "_view_module": "@jupyter-widgets/controls",
            "_view_module_version": "1.5.0",
            "_view_name": "HTMLView",
            "description": "",
            "description_tooltip": null,
            "layout": "IPY_MODEL_fa33ede9ff4a4f568c79ec914bf9c95d",
            "placeholder": "​",
            "style": "IPY_MODEL_e4cc4fc1f9f54d81b875554591a3739a",
            "value": " 527M/527M [00:03&lt;00:00, 212MB/s]"
          }
        },
        "95f5d6f95bfb467792de38d12e3bc292": {
          "model_module": "@jupyter-widgets/base",
          "model_name": "LayoutModel",
          "model_module_version": "1.2.0",
          "state": {
            "_model_module": "@jupyter-widgets/base",
            "_model_module_version": "1.2.0",
            "_model_name": "LayoutModel",
            "_view_count": null,
            "_view_module": "@jupyter-widgets/base",
            "_view_module_version": "1.2.0",
            "_view_name": "LayoutView",
            "align_content": null,
            "align_items": null,
            "align_self": null,
            "border": null,
            "bottom": null,
            "display": null,
            "flex": null,
            "flex_flow": null,
            "grid_area": null,
            "grid_auto_columns": null,
            "grid_auto_flow": null,
            "grid_auto_rows": null,
            "grid_column": null,
            "grid_gap": null,
            "grid_row": null,
            "grid_template_areas": null,
            "grid_template_columns": null,
            "grid_template_rows": null,
            "height": null,
            "justify_content": null,
            "justify_items": null,
            "left": null,
            "margin": null,
            "max_height": null,
            "max_width": null,
            "min_height": null,
            "min_width": null,
            "object_fit": null,
            "object_position": null,
            "order": null,
            "overflow": null,
            "overflow_x": null,
            "overflow_y": null,
            "padding": null,
            "right": null,
            "top": null,
            "visibility": null,
            "width": null
          }
        },
        "3a88f35731564e69be66490e6293279f": {
          "model_module": "@jupyter-widgets/base",
          "model_name": "LayoutModel",
          "model_module_version": "1.2.0",
          "state": {
            "_model_module": "@jupyter-widgets/base",
            "_model_module_version": "1.2.0",
            "_model_name": "LayoutModel",
            "_view_count": null,
            "_view_module": "@jupyter-widgets/base",
            "_view_module_version": "1.2.0",
            "_view_name": "LayoutView",
            "align_content": null,
            "align_items": null,
            "align_self": null,
            "border": null,
            "bottom": null,
            "display": null,
            "flex": null,
            "flex_flow": null,
            "grid_area": null,
            "grid_auto_columns": null,
            "grid_auto_flow": null,
            "grid_auto_rows": null,
            "grid_column": null,
            "grid_gap": null,
            "grid_row": null,
            "grid_template_areas": null,
            "grid_template_columns": null,
            "grid_template_rows": null,
            "height": null,
            "justify_content": null,
            "justify_items": null,
            "left": null,
            "margin": null,
            "max_height": null,
            "max_width": null,
            "min_height": null,
            "min_width": null,
            "object_fit": null,
            "object_position": null,
            "order": null,
            "overflow": null,
            "overflow_x": null,
            "overflow_y": null,
            "padding": null,
            "right": null,
            "top": null,
            "visibility": null,
            "width": null
          }
        },
        "ec529cad72bf4467b6cf31e713c14f76": {
          "model_module": "@jupyter-widgets/controls",
          "model_name": "DescriptionStyleModel",
          "model_module_version": "1.5.0",
          "state": {
            "_model_module": "@jupyter-widgets/controls",
            "_model_module_version": "1.5.0",
            "_model_name": "DescriptionStyleModel",
            "_view_count": null,
            "_view_module": "@jupyter-widgets/base",
            "_view_module_version": "1.2.0",
            "_view_name": "StyleView",
            "description_width": ""
          }
        },
        "c243ac920b5743cfbecc64d34a2a2ac9": {
          "model_module": "@jupyter-widgets/base",
          "model_name": "LayoutModel",
          "model_module_version": "1.2.0",
          "state": {
            "_model_module": "@jupyter-widgets/base",
            "_model_module_version": "1.2.0",
            "_model_name": "LayoutModel",
            "_view_count": null,
            "_view_module": "@jupyter-widgets/base",
            "_view_module_version": "1.2.0",
            "_view_name": "LayoutView",
            "align_content": null,
            "align_items": null,
            "align_self": null,
            "border": null,
            "bottom": null,
            "display": null,
            "flex": null,
            "flex_flow": null,
            "grid_area": null,
            "grid_auto_columns": null,
            "grid_auto_flow": null,
            "grid_auto_rows": null,
            "grid_column": null,
            "grid_gap": null,
            "grid_row": null,
            "grid_template_areas": null,
            "grid_template_columns": null,
            "grid_template_rows": null,
            "height": null,
            "justify_content": null,
            "justify_items": null,
            "left": null,
            "margin": null,
            "max_height": null,
            "max_width": null,
            "min_height": null,
            "min_width": null,
            "object_fit": null,
            "object_position": null,
            "order": null,
            "overflow": null,
            "overflow_x": null,
            "overflow_y": null,
            "padding": null,
            "right": null,
            "top": null,
            "visibility": null,
            "width": null
          }
        },
        "ba9b18bd3c014690af2afbfcf993d4e2": {
          "model_module": "@jupyter-widgets/controls",
          "model_name": "ProgressStyleModel",
          "model_module_version": "1.5.0",
          "state": {
            "_model_module": "@jupyter-widgets/controls",
            "_model_module_version": "1.5.0",
            "_model_name": "ProgressStyleModel",
            "_view_count": null,
            "_view_module": "@jupyter-widgets/base",
            "_view_module_version": "1.2.0",
            "_view_name": "StyleView",
            "bar_color": null,
            "description_width": ""
          }
        },
        "fa33ede9ff4a4f568c79ec914bf9c95d": {
          "model_module": "@jupyter-widgets/base",
          "model_name": "LayoutModel",
          "model_module_version": "1.2.0",
          "state": {
            "_model_module": "@jupyter-widgets/base",
            "_model_module_version": "1.2.0",
            "_model_name": "LayoutModel",
            "_view_count": null,
            "_view_module": "@jupyter-widgets/base",
            "_view_module_version": "1.2.0",
            "_view_name": "LayoutView",
            "align_content": null,
            "align_items": null,
            "align_self": null,
            "border": null,
            "bottom": null,
            "display": null,
            "flex": null,
            "flex_flow": null,
            "grid_area": null,
            "grid_auto_columns": null,
            "grid_auto_flow": null,
            "grid_auto_rows": null,
            "grid_column": null,
            "grid_gap": null,
            "grid_row": null,
            "grid_template_areas": null,
            "grid_template_columns": null,
            "grid_template_rows": null,
            "height": null,
            "justify_content": null,
            "justify_items": null,
            "left": null,
            "margin": null,
            "max_height": null,
            "max_width": null,
            "min_height": null,
            "min_width": null,
            "object_fit": null,
            "object_position": null,
            "order": null,
            "overflow": null,
            "overflow_x": null,
            "overflow_y": null,
            "padding": null,
            "right": null,
            "top": null,
            "visibility": null,
            "width": null
          }
        },
        "e4cc4fc1f9f54d81b875554591a3739a": {
          "model_module": "@jupyter-widgets/controls",
          "model_name": "DescriptionStyleModel",
          "model_module_version": "1.5.0",
          "state": {
            "_model_module": "@jupyter-widgets/controls",
            "_model_module_version": "1.5.0",
            "_model_name": "DescriptionStyleModel",
            "_view_count": null,
            "_view_module": "@jupyter-widgets/base",
            "_view_module_version": "1.2.0",
            "_view_name": "StyleView",
            "description_width": ""
          }
        }
      }
    }
  },
  "nbformat": 4,
  "nbformat_minor": 0
}