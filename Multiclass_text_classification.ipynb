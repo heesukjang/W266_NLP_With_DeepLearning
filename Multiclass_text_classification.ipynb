{
  "cells": [
    {
      "cell_type": "markdown",
      "metadata": {
        "id": "view-in-github",
        "colab_type": "text"
      },
      "source": [
        "<a href=\"https://colab.research.google.com/github/heesukjang/W266_NLP_With_DeepLearning/blob/main/Multiclass_text_classification.ipynb\" target=\"_parent\"><img src=\"https://colab.research.google.com/assets/colab-badge.svg\" alt=\"Open In Colab\"/></a>"
      ]
    },
    {
      "cell_type": "markdown",
      "metadata": {
        "id": "Z-44Qz4-Xd1o"
      },
      "source": [
        "# Assignment 3: Fine tuning a multiclass classification BERT model\n",
        "\n",
        "**Description:** This assignment covers fine-tuning of a multiclass classification. You will compare two different types of solutions using BERT-based models. You should also be able to develop an intuition for:\n",
        "\n",
        "\n",
        "* Working with BERT\n",
        "* Using multiple models to focus on different sub-tasks\n",
        "* Different metrics to measure the effectiveness of your model\n",
        "\n",
        "\n",
        "\n",
        "The assignment notebook closely follows the lesson notebooks. We will use the 20 newsgroups dataset and will leverage some of the models, or part of the code, for our current investigation. \n",
        "\n",
        "**You are strongly encouraged to read through the entire notebook before answering any questions or writing any code.**\n",
        "\n",
        "The initial part of the notebook is purely setup. We will then generate our BERT model and see if and how we can improve it. \n",
        "\n",
        "Do not try to run this entire notebook on your GCP instance as the training of models requires a GPU to work in a timely fashion. This notebook should be run on a Google Colab leveraging a GPU. By default, when you open the notebook in Colab it will try to use a GPU. Total runtime of the entire notebook (with solutions and a Colab GPU) should be about 1h.\n",
        "\n",
        "\n",
        "[![Open In Colab](https://colab.research.google.com/assets/colab-badge.svg)](https://colab.research.google.com/github/datasci-w266/2023-spring-main/blob/master/assignment/a3/Multiclass_text_classification.ipynb)\n",
        "\n",
        "The overall assignment structure is as follows:\n",
        "\n",
        "1. Setup\n",
        "  \n",
        "  1.1 Libraries & Helper Functions\n",
        "\n",
        "  1.2 Data Acquisition\n",
        "\n",
        "  1.3 Training/Test/Validation Sets for BERT-based models\n",
        "\n",
        "2. Classification with a fine tuned BERT model\n",
        "\n",
        "  2.1 Create the specified BERT model\n",
        "  \n",
        "  2.2 Fine tune the BERT model as directed\n",
        "\n",
        "  2.3 Examine the predictions with various metrics\n",
        "\n",
        "3. Classification using two stages\n",
        "\n",
        "  3.1 Relabel the data to group the often confused classes\n",
        "\n",
        "  3.2 Train the first stage model on the relabeled data\n",
        "\n",
        "  3.3 Separate the data for just the confused classes\n",
        "\n",
        "  3.4. Train the second stage model on the two classes\n",
        "\n",
        "  3.5. Combine and evaluate the predictions from the two stages\n",
        "\n",
        "4. Look at examples of misclassifications, see what might have changed\n",
        "\n",
        "\n",
        "\n",
        "**INSTRUCTIONS:**: \n",
        "\n",
        "* Questions are always indicated as **QUESTION:**, so you can search for this string to make sure you answered all of the questions. You are expected to fill out, run, and submit this notebook, as well as to answer the questions in the **answers** file as you did in a1 and a2.\n",
        "\n",
        "* **### YOUR CODE HERE** indicates that you are supposed to write code.\n",
        "\n",
        "* If you want to, you can run all of the cells in section 1 in bulk. This is setup work and no questions are in there. At the end of section 1 we will state all of the relevant variables that were defined and created in section 1.\n",
        "\n",
        "* **IMPORTANT NOTE:** Because the data we're using is downloaded each time we run section 1, a different split of train, validation, and test records is created.  This means that the accuracy, precision, recall, and F1 scores will change, although the delta will be small.  Please enter the values from your final run so that the answer values in your answers file correspond to the answer values in the outputs in your notebook.\n"
      ]
    },
    {
      "cell_type": "markdown",
      "metadata": {
        "id": "NK2xTV-Xisrl"
      },
      "source": [
        "### 1. Setup\n",
        "\n",
        "Lets get all our libraries and download and process our data."
      ]
    },
    {
      "cell_type": "code",
      "execution_count": 1,
      "metadata": {
        "colab": {
          "base_uri": "https://localhost:8080/"
        },
        "id": "3gzOXaFdmgO8",
        "outputId": "a612052c-b15d-487f-a63a-36279080e0b4"
      },
      "outputs": [
        {
          "output_type": "stream",
          "name": "stdout",
          "text": [
            "\u001b[2K     \u001b[90m━━━━━━━━━━━━━━━━━━━━━━━━━━━━━━━━━━━━━━━━\u001b[0m \u001b[32m6.3/6.3 MB\u001b[0m \u001b[31m37.6 MB/s\u001b[0m eta \u001b[36m0:00:00\u001b[0m\n",
            "\u001b[2K     \u001b[90m━━━━━━━━━━━━━━━━━━━━━━━━━━━━━━━━━━━━━━\u001b[0m \u001b[32m190.3/190.3 KB\u001b[0m \u001b[31m11.9 MB/s\u001b[0m eta \u001b[36m0:00:00\u001b[0m\n",
            "\u001b[2K     \u001b[90m━━━━━━━━━━━━━━━━━━━━━━━━━━━━━━━━━━━━━━━━\u001b[0m \u001b[32m7.6/7.6 MB\u001b[0m \u001b[31m58.6 MB/s\u001b[0m eta \u001b[36m0:00:00\u001b[0m\n",
            "\u001b[?25h"
          ]
        }
      ],
      "source": [
        "!pip install -q transformers"
      ]
    },
    {
      "cell_type": "code",
      "execution_count": 2,
      "metadata": {
        "colab": {
          "base_uri": "https://localhost:8080/"
        },
        "id": "ULcKJUjHmkZT",
        "outputId": "00cdaa00-5a8c-4f32-c1d6-3b1ccbac0893"
      },
      "outputs": [
        {
          "output_type": "stream",
          "name": "stdout",
          "text": [
            "Looking in indexes: https://pypi.org/simple, https://us-python.pkg.dev/colab-wheels/public/simple/\n",
            "Requirement already satisfied: pydot in /usr/local/lib/python3.8/dist-packages (1.3.0)\n",
            "Requirement already satisfied: pyparsing>=2.1.4 in /usr/local/lib/python3.8/dist-packages (from pydot) (3.0.9)\n"
          ]
        }
      ],
      "source": [
        "!pip install pydot"
      ]
    },
    {
      "cell_type": "code",
      "execution_count": 3,
      "metadata": {
        "id": "aTq7Qjqbmkfv"
      },
      "outputs": [],
      "source": [
        "from sklearn.datasets import fetch_20newsgroups\n",
        "from sklearn.model_selection import train_test_split\n",
        "from sklearn.metrics import classification_report"
      ]
    },
    {
      "cell_type": "code",
      "execution_count": 4,
      "metadata": {
        "id": "-6E-xzDawK0Q"
      },
      "outputs": [],
      "source": [
        "from collections import Counter\n",
        "import numpy as np\n",
        "import tensorflow as tf\n",
        "from tensorflow import keras\n",
        "\n",
        "import seaborn as sns\n",
        "import matplotlib.pyplot as plt\n",
        "from pprint import pprint "
      ]
    },
    {
      "cell_type": "code",
      "execution_count": 5,
      "metadata": {
        "id": "99yIOuqFXMwU"
      },
      "outputs": [],
      "source": [
        "from transformers import BertTokenizer, TFBertModel"
      ]
    },
    {
      "cell_type": "markdown",
      "source": [
        "### Text Classification (Name Entity Tagging) with BERT (QUESTION ???)\n",
        "[The 20 newsgroups text dataset](https://scikit-learn.org/0.19/datasets/twenty_newsgroups.html)\n",
        "\n",
        "The 20 newsgroups dataset comprises around 18000 newsgroups posts on 20 topics split in two subsets: one for training (or development) and the other one for testing (or for performance evaluation). The split between the train and test set is based upon a messages posted before and after a specific date.\n",
        "\n",
        "This module contains two loaders. The first one, sklearn.datasets.**fetch_20newsgroups**, <u>returns a list of the raw texts</u> that can be fed to text feature extractors such as sklearn.feature_extraction.text.CountVectorizer with custom parameters so as to extract feature vectors. The second one, sklearn.datasets.fetch_20newsgroups_vectorized, returns ready-to-use features, i.e., it is not necessary to use a feature extractor."
      ],
      "metadata": {
        "id": "xgjGqU4J0FHi"
      }
    },
    {
      "cell_type": "code",
      "execution_count": 6,
      "metadata": {
        "id": "UWk_PZ9hmkk0"
      },
      "outputs": [],
      "source": [
        "def read_20newsgroups(test_size=0.1):\n",
        "  # download & load 20newsgroups dataset from sklearn's repos\n",
        "  dataset = fetch_20newsgroups(subset=\"all\", shuffle=True, remove=(\"headers\", \"footers\", \"quotes\"))\n",
        "  documents = dataset.data\n",
        "  labels = dataset.target\n",
        "  # split into training & testing a return data as well as label names\n",
        "  return train_test_split(documents, labels, test_size=test_size), dataset.target_names\n",
        "  \n",
        "# call the function\n",
        "(train_texts, test_texts, train_labels, test_labels), target_names = read_20newsgroups()"
      ]
    },
    {
      "cell_type": "markdown",
      "metadata": {
        "id": "8Ocyl9dnb1OM"
      },
      "source": [
        "Take a look at the records.  We basically have a long string of text and an associated label.  That label is the Usenet group where the posting occured. The records are the raw text.  They vary significantly in size."
      ]
    },
    {
      "cell_type": "code",
      "execution_count": 7,
      "metadata": {
        "id": "O7Akxu2Umkpo",
        "colab": {
          "base_uri": "https://localhost:8080/"
        },
        "outputId": "1da07b0f-ca68-4854-980f-af60c985c8d3"
      },
      "outputs": [
        {
          "output_type": "execute_result",
          "data": {
            "text/plain": [
              "['Dateline Tue, 20/Apr93 03:38.\\nIn , Antonio Pera of icop@csa.bu.edu  wrote to All at 1:133/411,\\n\\n AP>         Recently, I heard the Red Sox on WROL a \\n AP> Spanish-speaking radio station. I thought it was so \\n AP> unreal. The Red Sox in Spanish? Anyway, I want to find\\n AP> out how widespread this is? Being a NY native, I know \\n AP> the scMets are on in Spanish but not the Yankmes. I \\n AP> wuold think that LA,SD,Texas and Fla are on in Spanish. \\n AP> Are there any Spanish-speaking networks or is this a \\n AP> local\\n\\n    For the last couple of years, the Braves have been fostering a program to reach to the Latin American audience.  This has included licensing Spanish fan magazines, encouraging Spanish co-broadcasts, and marketing programs directed at the Latin American community.  One of the biggest heros to the Latin American audience has been Francisco Cabrerra (a fact of which he was slightly embarrassed!).  \\n\\nOne funny story is that during Spring Training, the Braves played a game in Mexico.  This game was broadcast back to Atlanta in Spanish.  It took the broadcasters a few innings to get a rythm going because they had to keep changing their location.  Seems it took a while to find a place where they could get a clear signal on their cellular phones through which they were calling the game!\\n\\n        David Deitch, (GIS) Atlanta\\n\\n\\n',\n",
              " '\\nThose rules/regulations/laws would be subject to the same attack:  that\\nthey are attempting to preempt federal authority to regulate (or not)\\nradio communications.  Of course, as the original poster noted, court\\nchallenges of this kind can get expensive.']"
            ]
          },
          "metadata": {},
          "execution_count": 7
        }
      ],
      "source": [
        "train_texts[:2]"
      ]
    },
    {
      "cell_type": "markdown",
      "metadata": {
        "id": "1eKIgSBdcHy9"
      },
      "source": [
        "Notice the \"labels\" are just integers that are an offset into the list of target names. (QUESTION: NOT UNDERSTANDING)"
      ]
    },
    {
      "cell_type": "code",
      "execution_count": 8,
      "metadata": {
        "id": "KRnu9CSQnMNN",
        "colab": {
          "base_uri": "https://localhost:8080/"
        },
        "outputId": "1a089f51-8aa9-4659-a372-736b14b6fe65"
      },
      "outputs": [
        {
          "output_type": "execute_result",
          "data": {
            "text/plain": [
              "array([ 9, 12])"
            ]
          },
          "metadata": {},
          "execution_count": 8
        }
      ],
      "source": [
        "# the 1st raw text is labeled as \"rec.autos\" at index 7 \n",
        "# the 2nd raw text is labeled as \"talk.politics.mideast\" at index 17 ??? \n",
        "train_labels[:2]"
      ]
    },
    {
      "cell_type": "markdown",
      "metadata": {
        "id": "F-ksEnmbcWBt"
      },
      "source": [
        "The variable ''target_names'' stores all of the names of the labels."
      ]
    },
    {
      "cell_type": "code",
      "execution_count": 9,
      "metadata": {
        "id": "qvNAnCstx-3S",
        "colab": {
          "base_uri": "https://localhost:8080/"
        },
        "outputId": "62499ff6-e8ca-4aa4-9579-fe977bc7da29"
      },
      "outputs": [
        {
          "output_type": "stream",
          "name": "stdout",
          "text": [
            "['alt.atheism', 'comp.graphics', 'comp.os.ms-windows.misc', 'comp.sys.ibm.pc.hardware', 'comp.sys.mac.hardware', 'comp.windows.x', 'misc.forsale', 'rec.autos', 'rec.motorcycles', 'rec.sport.baseball', 'rec.sport.hockey', 'sci.crypt', 'sci.electronics', 'sci.med', 'sci.space', 'soc.religion.christian', 'talk.politics.guns', 'talk.politics.mideast', 'talk.politics.misc', 'talk.religion.misc']\n",
            "0 alt.atheism\n",
            "1 comp.graphics\n",
            "2 comp.os.ms-windows.misc\n",
            "3 comp.sys.ibm.pc.hardware\n",
            "4 comp.sys.mac.hardware\n",
            "5 comp.windows.x\n",
            "6 misc.forsale\n",
            "7 rec.autos\n",
            "8 rec.motorcycles\n",
            "9 rec.sport.baseball\n",
            "10 rec.sport.hockey\n",
            "11 sci.crypt\n",
            "12 sci.electronics\n",
            "13 sci.med\n",
            "14 sci.space\n",
            "15 soc.religion.christian\n",
            "16 talk.politics.guns\n",
            "17 talk.politics.mideast\n",
            "18 talk.politics.misc\n",
            "19 talk.religion.misc\n"
          ]
        }
      ],
      "source": [
        "print(target_names)\n",
        "\n",
        "for idx, val in enumerate(target_names[:20]):\n",
        "  print(idx, val)"
      ]
    },
    {
      "cell_type": "markdown",
      "metadata": {
        "id": "m1SmEVYOcwP6"
      },
      "source": [
        "We already have a test set and a train set.  Let's explicitly set aside part of our training set for validation purposes. (split the given training further into training and validation set) "
      ]
    },
    {
      "cell_type": "code",
      "execution_count": 10,
      "metadata": {
        "id": "H1toWirQAAZ8",
        "colab": {
          "base_uri": "https://localhost:8080/"
        },
        "outputId": "45c4e896-19aa-4bbe-f931-bfeca6b7e592"
      },
      "outputs": [
        {
          "output_type": "stream",
          "name": "stdout",
          "text": [
            "len(train_texts) = 16961\n",
            "len(valid_texts) = 961\n",
            "len(valid_labels) = 961\n",
            "len(train_texts) = 16000\n",
            "len(train_texts) = 16000\n"
          ]
        }
      ],
      "source": [
        "print(f'len(train_texts) = {len(train_texts)}')\n",
        "valid_texts = train_texts[16000:]\n",
        "valid_labels = train_labels[16000:]     # set about 5% of the total training set to be validation set\n",
        "train_texts = train_texts[:16000]\n",
        "train_labels = train_labels[:16000]\n",
        "\n",
        "print(f'len(valid_texts) = {len(valid_texts)}\\nlen(valid_labels) = {len(valid_labels)}')\n",
        "print(f'len(train_texts) = {len(train_labels)}\\nlen(train_texts) = {len(train_labels)}')"
      ]
    },
    {
      "cell_type": "markdown",
      "metadata": {
        "id": "aBMiGVwHc76-"
      },
      "source": [
        "The validation set will always have 961 records."
      ]
    },
    {
      "cell_type": "code",
      "execution_count": 11,
      "metadata": {
        "id": "bzuXsJjwAAOr",
        "colab": {
          "base_uri": "https://localhost:8080/"
        },
        "outputId": "93c7dbc2-142a-4ef7-9f02-aa4598d9cd34"
      },
      "outputs": [
        {
          "output_type": "execute_result",
          "data": {
            "text/plain": [
              "961"
            ]
          },
          "metadata": {},
          "execution_count": 11
        }
      ],
      "source": [
        "len(valid_texts)"
      ]
    },
    {
      "cell_type": "markdown",
      "metadata": {
        "id": "SBy5EKYwdBcZ"
      },
      "source": [
        "The training set will always have 16000 records."
      ]
    },
    {
      "cell_type": "code",
      "execution_count": 12,
      "metadata": {
        "id": "MMVgiD8SCHUk",
        "colab": {
          "base_uri": "https://localhost:8080/"
        },
        "outputId": "5fa4b019-47bd-4289-9968-88cd9a92df25"
      },
      "outputs": [
        {
          "output_type": "execute_result",
          "data": {
            "text/plain": [
              "16000"
            ]
          },
          "metadata": {},
          "execution_count": 12
        }
      ],
      "source": [
        "len(train_texts)"
      ]
    },
    {
      "cell_type": "markdown",
      "metadata": {
        "id": "LGVOwMBKu2OW"
      },
      "source": [
        "**NOTE:** Each time you rerun the data you will draw a *different* set of train and test documents even though the numbers 961 and 16000 will always be the same."
      ]
    },
    {
      "cell_type": "code",
      "execution_count": 13,
      "metadata": {
        "id": "mFISqjoM335H",
        "colab": {
          "base_uri": "https://localhost:8080/"
        },
        "outputId": "a6bdc302-c183-4e4f-d203-6b1a34a8f782"
      },
      "outputs": [
        {
          "output_type": "stream",
          "name": "stdout",
          "text": [
            "961 [14  4  2  2 11  5 17  2 16 10]\n"
          ]
        }
      ],
      "source": [
        "#get the labels in a needed data format for validation\n",
        "npvalid_labels = np.asarray(valid_labels)   \n",
        "print(len(npvalid_labels), npvalid_labels[:10])"
      ]
    },
    {
      "cell_type": "markdown",
      "metadata": {
        "id": "d3T5uytRdK7I"
      },
      "source": [
        "* train_texts - an array of text strings for training\n",
        "* test_texts - an array of text strings for testing \n",
        "* valid texts - an array of text strings for validation\n",
        "* train_labels - an array of integers representing the labels associated with train_texts\n",
        "* test_labels - an array of integers representing the labels associated with test_texts\n",
        "* valid_labels - an array of integers representing the labels associated with valid_texts\n",
        "* target_names - an array of label strings that correspond to the integers in the *_labels arrays\n",
        "\n",
        "### 2. Classification with a fine tuned BERT model\n",
        "\n",
        "Let's pick our BERT model.  We'll start with the base BERT model and we'll use the cased version since our data has capital and lower case letters."
      ]
    },
    {
      "cell_type": "code",
      "execution_count": 14,
      "metadata": {
        "id": "zjFWaM2ZnMIC"
      },
      "outputs": [],
      "source": [
        "#make it easier to use a variety of BERT subword models\n",
        "model_checkpoint = 'bert-base-cased'   # case sensitive (care about upper and lower case)"
      ]
    },
    {
      "cell_type": "code",
      "execution_count": 15,
      "metadata": {
        "id": "-7gV_GUdn9Ck",
        "colab": {
          "base_uri": "https://localhost:8080/",
          "height": 254,
          "referenced_widgets": [
            "556f2e9a900946698280380826bb04ad",
            "78ec7d33c9e24cca92f06214899d3eef",
            "a69bba1eaebe4e42b87e5dafcd33ae53",
            "96ca03584c454470a5657c29903b20e3",
            "cf11ac8cfa814a8db7d53d6c9d29cdcd",
            "405484734964455289caf83460d797a5",
            "b03dfdd6053049e7b0966de079d2dc0e",
            "aa32950190474f97879ab46b05f88b2f",
            "2707bea713294d83a710e20a4d7945e7",
            "18f7203e28e948fe834ca7687921168a",
            "60bff7638e714c1daca04ec576beaa3a",
            "d62585076394414e82cf4e81fc62408c",
            "a28e76174bfe4245a67997ccf7e4874d",
            "852199d34a7a40aca4971f162da39096",
            "fc8af880d0694ae4b72b64a262eeb585",
            "449be3dcf2a4439290ec7f5aea056a4f",
            "75dc6cb0a959477aa535b9d6082f0db2",
            "5188b6b77573449d868a9492ca1f131b",
            "ce183783bd96402ea429df2e4df194ba",
            "b2ab865147854a90ab47b21894a61643",
            "ccc1e4a512ef49b5a45fdc24997b4cf0",
            "443e54faa2094e22a33f4a67f9540e9a",
            "6e35d5f5ae3e4acfafee4873e09aa56b",
            "0bf28d0f06de4b0ea6ecd2ddf2e6a8af",
            "18c77a2e97e849838f2a976e43dad93f",
            "984dcf119c494765b5d64a8aeeb9253f",
            "fc19b97310f541a9addd8a6f893b2027",
            "4dd2a5ddaaac492687279029d4a1d8b8",
            "dac62c0d2d024484b346e651dfa58d65",
            "5e26520c0a314c949d14106897bcd7ee",
            "da4168a2fcef4e83b17b1d596934d458",
            "d1ed949a739845db95a2f29ef6a6a634",
            "340a2d77a2364227a637f5bddc010592",
            "0fef379b3e834b33b1c46fa932ab7fca",
            "0d2f74f679e54d169fa761f0e91ee113",
            "31ec67596dc44118b689a250f120fe3d",
            "705985759e8542f7bb986f518071b99d",
            "c9407f19c83f4553888a2ff04f2753e4",
            "8a51f844a04f4e8d80c2a937895d6e84",
            "70380be853cc4cb2ade2ace148af3fa6",
            "eb059085e5d44471bdcabf5f818dc465",
            "3680e8f0ee584c98886d13b3ac8143de",
            "9eec4e0409434403b7349b33954d7358",
            "0e6cf61eba494facabf6c53846730d7c"
          ]
        },
        "outputId": "40ef46b2-bac0-412b-fdb2-4c4a77e04c5b"
      },
      "outputs": [
        {
          "output_type": "display_data",
          "data": {
            "text/plain": [
              "Downloading (…)solve/main/vocab.txt:   0%|          | 0.00/213k [00:00<?, ?B/s]"
            ],
            "application/vnd.jupyter.widget-view+json": {
              "version_major": 2,
              "version_minor": 0,
              "model_id": "556f2e9a900946698280380826bb04ad"
            }
          },
          "metadata": {}
        },
        {
          "output_type": "display_data",
          "data": {
            "text/plain": [
              "Downloading (…)okenizer_config.json:   0%|          | 0.00/29.0 [00:00<?, ?B/s]"
            ],
            "application/vnd.jupyter.widget-view+json": {
              "version_major": 2,
              "version_minor": 0,
              "model_id": "d62585076394414e82cf4e81fc62408c"
            }
          },
          "metadata": {}
        },
        {
          "output_type": "display_data",
          "data": {
            "text/plain": [
              "Downloading (…)lve/main/config.json:   0%|          | 0.00/570 [00:00<?, ?B/s]"
            ],
            "application/vnd.jupyter.widget-view+json": {
              "version_major": 2,
              "version_minor": 0,
              "model_id": "6e35d5f5ae3e4acfafee4873e09aa56b"
            }
          },
          "metadata": {}
        },
        {
          "output_type": "display_data",
          "data": {
            "text/plain": [
              "Downloading (…)\"tf_model.h5\";:   0%|          | 0.00/527M [00:00<?, ?B/s]"
            ],
            "application/vnd.jupyter.widget-view+json": {
              "version_major": 2,
              "version_minor": 0,
              "model_id": "0fef379b3e834b33b1c46fa932ab7fca"
            }
          },
          "metadata": {}
        },
        {
          "output_type": "stream",
          "name": "stderr",
          "text": [
            "Some layers from the model checkpoint at bert-base-cased were not used when initializing TFBertModel: ['nsp___cls', 'mlm___cls']\n",
            "- This IS expected if you are initializing TFBertModel from the checkpoint of a model trained on another task or with another architecture (e.g. initializing a BertForSequenceClassification model from a BertForPreTraining model).\n",
            "- This IS NOT expected if you are initializing TFBertModel from the checkpoint of a model that you expect to be exactly identical (initializing a BertForSequenceClassification model from a BertForSequenceClassification model).\n",
            "All the layers of TFBertModel were initialized from the model checkpoint at bert-base-cased.\n",
            "If your task is similar to the task the model of the checkpoint was trained on, you can already use TFBertModel for predictions without further training.\n"
          ]
        }
      ],
      "source": [
        "bert_tokenizer = BertTokenizer.from_pretrained(model_checkpoint)\n",
        "bert_model = TFBertModel.from_pretrained(model_checkpoint)"
      ]
    },
    {
      "cell_type": "markdown",
      "metadata": {
        "id": "ZJGkIHSHdilH"
      },
      "source": [
        "We're setting our maximum training record length to 200.  BERT models can handle more and after you've completed the assignment you're welcome to try larger and small sized records."
      ]
    },
    {
      "cell_type": "code",
      "execution_count": 16,
      "metadata": {
        "id": "h_59AaVznMCV"
      },
      "outputs": [],
      "source": [
        "max_length = 200"
      ]
    },
    {
      "cell_type": "markdown",
      "metadata": {
        "id": "n6d54_bqd58L"
      },
      "source": [
        "Now we'll tokenize our three data slices.  This will take a minute or two."
      ]
    },
    {
      "cell_type": "code",
      "execution_count": 17,
      "metadata": {
        "id": "bgv0nftinL6z"
      },
      "outputs": [],
      "source": [
        "# tokenize the dataset, truncate when passed `max_length`, \n",
        "# and pad with 0's when less than `max_length` and return a tf Tensor\n",
        "train_encodings = bert_tokenizer(train_texts, truncation=True, padding=True, max_length=max_length, return_tensors='tf')\n",
        "valid_encodings = bert_tokenizer(valid_texts, truncation=True, padding=True, max_length=max_length, return_tensors='tf')\n",
        "test_encodings = bert_tokenizer(test_texts, truncation=True, padding=True, max_length=max_length, return_tensors='tf')"
      ]
    },
    {
      "cell_type": "markdown",
      "metadata": {
        "id": "2gNS0Fi0emN8"
      },
      "source": [
        "Notice our input_ids for the first training record and their padding. The train_encodings also includes an array of token_type_ids and an attention_mask array. "
      ]
    },
    {
      "cell_type": "code",
      "execution_count": 18,
      "metadata": {
        "id": "XFEXxgAmnLve",
        "colab": {
          "base_uri": "https://localhost:8080/"
        },
        "outputId": "1aa7a5f2-8b35-448d-fce5-044495020e0b"
      },
      "outputs": [
        {
          "metadata": {
            "tags": null
          },
          "name": "stdout",
          "output_type": "stream",
          "text": [
            "len(train_encodings.input_ids[:1]) =  1 \n",
            "train_encodings.input_ids[:1] tf.Tensor(\n",
            "[[  101 14265  2568 17037  1162   117  1406   120 23844  1580  1495  5347\n",
            "    131  3383   119  1130   117  4464 14286  1161  1104   178  2528  1643\n",
            "    137   172  3202   119   171  1358   119  5048  1358  1724  1106  1398\n",
            "   1120   122   131 15118   120  3746  1475   117 10997   135 15088   117\n",
            "    146  1767  1103  2156  8913  1113 26476 13901   170 10997   135  2124\n",
            "    118  3522  2070  1466   119   146  1354  1122  1108  1177 10997   135\n",
            "   8362 16330   119  1109  2156  8913  1107  2124   136 10756   117   146\n",
            "   1328  1106  1525 10997   135  1149  1293  6506  1142  1110   136  6819\n",
            "    170  5883  2900   117   146  1221 10997   135  1103   188  1665  2107\n",
            "   6248  1132  1113  1107  2124  1133  1136  1103 14932  1377  6801   119\n",
            "    146 10997   135   192 11848  5253  1341  1115 10722   117 19416   117\n",
            "   2245  1105   143  1742  1132  1113  1107  2124   119 10997   135  2372\n",
            "   1175  1251  2124   118  3522  6379  1137  1110  1142   170 10997   135\n",
            "   1469  1370  1103  1314  2337  1104  1201   117  1103 14864  1138  1151\n",
            "  12100  1158   170  1788  1106  2519  1106  1103  2911  1237  3703   119\n",
            "   1188  1144  1529 15469  2124  5442  6959   117 11653  2124  1884   118\n",
            "   8737   117  1105  6213  2648  2002  1120   102]], shape=(1, 200), dtype=int32)\n"
          ]
        }
      ],
      "source": [
        "print('len(train_encodings.input_ids[:1]) = ',len(train_encodings.input_ids[:1]), '\\ntrain_encodings.input_ids[:1]',train_encodings.input_ids[:1])"
      ]
    },
    {
      "cell_type": "markdown",
      "metadata": {
        "id": "23lwfDw2T6gI"
      },
      "source": [
        "### Write a function to **create this multiclass bert model**.\n",
        "\n",
        "Keep in mind the following:\n",
        "* Each record can have one of n labels where **n = the size of target_names**.\n",
        "* We'll still want a **hidden size layer of size 201**\n",
        "* We'll want our hidden layer to make use of the **pooler output** from BERT\n",
        "* We'll also want to use **dropout**\n",
        "* Our **classification layer** will need to be appropriately sized and use the correct non-linearity for a multi-class problem.\n",
        "* Since we have multiple labels we can no longer use binary cross entropy.  Instead we need to change our loss metric to a **categorical cross entropy (one-hot encoding based loss)**.  Which of the two categorical cross entropy metrics will work best here? \n",
        "* Make sure that training affects **all** of the layers in BERT.\n"
      ]
    },
    {
      "cell_type": "markdown",
      "source": [
        "[metrics=SparseCategoricalCrossentropy()](https://www.tensorflow.org/api_docs/python/tf/keras/metrics/SparseCategoricalCrossentropy)<br>\n",
        "Computes the crossentropy metric between thh labels and predictions **(integer-based loss)**. Cross entropy loss is a metric used to measure how well a classification model in machine learning performs. The loss (or error) is measured as a number between 0 and 1, with 0 being a perfect model. The goal is generally to get your model as close to 0 as possible\n",
        "\n",
        "[metrics=tf.keras.metrics.Accuracy](https://www.tensorflow.org/api_docs/python/tf/keras/metrics/Accuracy)<br>Calculates how often predictions equal labels.\n",
        "\n",
        "[metrics=tf.keras.metrics.SparseCategoricalAccuracy](https://www.tensorflow.org/api_docs/python/tf/keras/metrics/SparseCategoricalAccuracy)<br>\n",
        "Computes how often predictions match integer labels."
      ],
      "metadata": {
        "id": "vh7sXxxZM2i1"
      }
    },
    {
      "cell_type": "code",
      "execution_count": 19,
      "metadata": {
        "id": "RtWMrLi4tIun"
      },
      "outputs": [],
      "source": [
        "# we want to use \"sparse_categorical_crossentropy (integer-based loss function)\" \n",
        "#   compared to just \"categorial_crossentropy (one-hot encoding based loss i.e.)\"\n",
        "from keras.utils.layer_utils import count_params\n",
        "\n",
        "def create_bert_multiclass_model(checkpoint = model_checkpoint,\n",
        "                                 num_classes = 20,\n",
        "                                 hidden_size = 201, \n",
        "                                 dropout=0.3,\n",
        "                                 learning_rate=0.00005):\n",
        "    \"\"\"\n",
        "    Build a simple classification model with BERT. Use the Pooler Output for classification purposes.\n",
        "    \"\"\"\n",
        "    bert_model = TFBertModel.from_pretrained(checkpoint)                                              \n",
        "\n",
        "    ### YOUR CODE HERE\n",
        "    bert_model.trainable = True     # Make sure that training affects all of the layers in BERT.\n",
        "\n",
        "    input_ids = tf.keras.layers.Input(shape=(200,), dtype=tf.int64, name='input_ids_layer')\n",
        "    token_type_ids = tf.keras.layers.Input(shape=(200,), dtype=tf.int64, name='token_type_ids_layer')\n",
        "    attention_mask = tf.keras.layers.Input(shape=(200,), dtype=tf.int64, name='attention_mask_layer')\n",
        "\n",
        "    bert_inputs = {'input_ids': input_ids,\n",
        "                   'token_type_ids': token_type_ids,\n",
        "                   'attention_mask': attention_mask}\n",
        "\n",
        "    bert_out = bert_model(bert_inputs)\n",
        "    pooler_output = bert_out[1]    # one vector for each \n",
        "    \n",
        "    hidden = tf.keras.layers.Dense(hidden_size, activation='relu', name='hidden_layer')(pooler_output)\n",
        "    hidden = tf.keras.layers.Dropout(dropout)(hidden)  \n",
        "\n",
        "    classification = tf.keras.layers.Dense(num_classes, activation='softmax',name='classification_layer')(hidden)    \n",
        "    classification_model = tf.keras.Model(inputs=[input_ids, token_type_ids, attention_mask], outputs=[classification])\n",
        "\n",
        "    classification_model.compile(optimizer=tf.keras.optimizers.Adam(learning_rate=learning_rate),\n",
        "                                 loss=tf.keras.losses.SparseCategoricalCrossentropy(from_logits=False),          # A 'sigmoid' activation layer turns the output \"logit\" into a value, 0-1 \n",
        "                                 metrics='accuracy')  \n",
        "                                #  metrics=tf.keras.metrics.SparseCategoricalAccuracy())    # QUESTION: which metrics ???\n",
        "    ### END YOUR CODE\n",
        "    return classification_model"
      ]
    },
    {
      "cell_type": "code",
      "execution_count": 20,
      "metadata": {
        "id": "uR-Id158tIlH",
        "colab": {
          "base_uri": "https://localhost:8080/"
        },
        "outputId": "d8195994-547c-4db9-fb8b-6e614c8b34dd"
      },
      "outputs": [
        {
          "output_type": "stream",
          "name": "stderr",
          "text": [
            "Some layers from the model checkpoint at bert-base-cased were not used when initializing TFBertModel: ['nsp___cls', 'mlm___cls']\n",
            "- This IS expected if you are initializing TFBertModel from the checkpoint of a model trained on another task or with another architecture (e.g. initializing a BertForSequenceClassification model from a BertForPreTraining model).\n",
            "- This IS NOT expected if you are initializing TFBertModel from the checkpoint of a model that you expect to be exactly identical (initializing a BertForSequenceClassification model from a BertForSequenceClassification model).\n",
            "All the layers of TFBertModel were initialized from the model checkpoint at bert-base-cased.\n",
            "If your task is similar to the task the model of the checkpoint was trained on, you can already use TFBertModel for predictions without further training.\n"
          ]
        }
      ],
      "source": [
        "pooler_bert_model = create_bert_multiclass_model(checkpoint=model_checkpoint, num_classes=20)"
      ]
    },
    {
      "cell_type": "code",
      "execution_count": 21,
      "metadata": {
        "id": "bMxpO16-tIaE",
        "colab": {
          "base_uri": "https://localhost:8080/"
        },
        "outputId": "1fd2b6f6-419f-45ab-94e2-ffb8d6a8005d"
      },
      "outputs": [
        {
          "output_type": "stream",
          "name": "stdout",
          "text": [
            "Model: \"model\"\n",
            "__________________________________________________________________________________________________\n",
            " Layer (type)                   Output Shape         Param #     Connected to                     \n",
            "==================================================================================================\n",
            " attention_mask_layer (InputLay  [(None, 200)]       0           []                               \n",
            " er)                                                                                              \n",
            "                                                                                                  \n",
            " input_ids_layer (InputLayer)   [(None, 200)]        0           []                               \n",
            "                                                                                                  \n",
            " token_type_ids_layer (InputLay  [(None, 200)]       0           []                               \n",
            " er)                                                                                              \n",
            "                                                                                                  \n",
            " tf_bert_model_1 (TFBertModel)  TFBaseModelOutputWi  108310272   ['attention_mask_layer[0][0]',   \n",
            "                                thPoolingAndCrossAt               'input_ids_layer[0][0]',        \n",
            "                                tentions(last_hidde               'token_type_ids_layer[0][0]']   \n",
            "                                n_state=(None, 200,                                               \n",
            "                                 768),                                                            \n",
            "                                 pooler_output=(Non                                               \n",
            "                                e, 768),                                                          \n",
            "                                 past_key_values=No                                               \n",
            "                                ne, hidden_states=N                                               \n",
            "                                one, attentions=Non                                               \n",
            "                                e, cross_attentions                                               \n",
            "                                =None)                                                            \n",
            "                                                                                                  \n",
            " hidden_layer (Dense)           (None, 201)          154569      ['tf_bert_model_1[0][1]']        \n",
            "                                                                                                  \n",
            " dropout_74 (Dropout)           (None, 201)          0           ['hidden_layer[0][0]']           \n",
            "                                                                                                  \n",
            " classification_layer (Dense)   (None, 20)           4040        ['dropout_74[0][0]']             \n",
            "                                                                                                  \n",
            "==================================================================================================\n",
            "Total params: 108,468,881\n",
            "Trainable params: 108,468,881\n",
            "Non-trainable params: 0\n",
            "__________________________________________________________________________________________________\n"
          ]
        }
      ],
      "source": [
        "pooler_bert_model.summary()"
      ]
    },
    {
      "cell_type": "markdown",
      "source": [
        "**Param # = Total params** (QUESTION ???)\n",
        "**Total params = Trainable params: 108,468,881** = 108,310,272 + 154,569 + 4,040"
      ],
      "metadata": {
        "id": "eRinvGdqLdfK"
      }
    },
    {
      "cell_type": "markdown",
      "metadata": {
        "id": "5chyZZnHdlf9"
      },
      "source": [
        "**QUESTION:** 2.1 How many trainable parameters are in your dense hidden layer? **154,569**\n",
        "\n",
        "**QUESTION:** 2.2 How many trainable parameters are in your classification layer? **4,040**"
      ]
    },
    {
      "cell_type": "code",
      "execution_count": 22,
      "metadata": {
        "id": "xe3tTWX6FVZL",
        "colab": {
          "base_uri": "https://localhost:8080/",
          "height": 438
        },
        "outputId": "12b5a0dc-712f-4d21-de29-97a53ff36574"
      },
      "outputs": [
        {
          "output_type": "execute_result",
          "data": {
            "image/png": "[encoded data removed]",
            "text/plain": [
              "<IPython.core.display.Image object>"
            ]
          },
          "metadata": {},
          "execution_count": 22
        }
      ],
      "source": [
        "keras.utils.plot_model(pooler_bert_model, show_shapes=False, show_dtype=False, show_layer_names=True, dpi=90)"
      ]
    },
    {
      "cell_type": "code",
      "execution_count": null,
      "metadata": {
        "id": "aLLjb3mOtICy",
        "colab": {
          "base_uri": "https://localhost:8080/"
        },
        "outputId": "613307f4-2055-4386-8bc2-356d1474ad90"
      },
      "outputs": [
        {
          "output_type": "stream",
          "name": "stdout",
          "text": [
            "2000/2000 [==============================] - ETA: 0s - loss: 1.5372 - accuracy: 0.5435"
          ]
        }
      ],
      "source": [
        "# It takes 10 to 14 minutes to complete an epoch when using a GPU\n",
        "pooler_bert_model_history = pooler_bert_model.fit([train_encodings.input_ids, train_encodings.token_type_ids, train_encodings.attention_mask], \n",
        "                                                  train_labels,   \n",
        "                                                  validation_data=([valid_encodings.input_ids, valid_encodings.token_type_ids, valid_encodings.attention_mask], \n",
        "                                                  npvalid_labels),    \n",
        "                                                  batch_size=8, \n",
        "                                                  epochs=1)  "
      ]
    },
    {
      "cell_type": "markdown",
      "metadata": {
        "id": "rdHlOd4LJUOH"
      },
      "source": [
        "Now we need to run evaluate against our fine-tuned model.  This will give us an overall accuracy based on the test set."
      ]
    },
    {
      "cell_type": "code",
      "execution_count": 32,
      "metadata": {
        "id": "dPQn2tJPEGdU",
        "colab": {
          "base_uri": "https://localhost:8080/"
        },
        "outputId": "28eb19a8-05f6-46b7-a1ac-104318b5abde"
      },
      "outputs": [
        {
          "output_type": "stream",
          "name": "stdout",
          "text": [
            "59/59 [==============================] - 27s 451ms/step - loss: 1.0959 - accuracy: 0.6859\n",
            "Test loss: 1.0959337949752808\n",
            "Test accuracy: 0.6859416365623474\n"
          ]
        }
      ],
      "source": [
        "# batch 8, ML=201\n",
        "score = pooler_bert_model.evaluate([test_encodings.input_ids, test_encodings.token_type_ids, test_encodings.attention_mask], \n",
        "                                                  test_labels) \n",
        "\n",
        "print('Test loss:', score[0]) \n",
        "print('Test accuracy:', score[1])"
      ]
    },
    {
      "cell_type": "markdown",
      "metadata": {
        "id": "3CnyZsXLfLJt"
      },
      "source": [
        "**QUESTION:** 2.3 What is the Test accuracy score you get from your model? (Just copy and paste the value into the answers sheet and round to five significant digits.)  **0.68594**"
      ]
    },
    {
      "cell_type": "code",
      "execution_count": 36,
      "metadata": {
        "id": "NS7Gp_IYEiJ_",
        "colab": {
          "base_uri": "https://localhost:8080/"
        },
        "outputId": "e64b84bf-903e-419c-a571-a86d4279d463"
      },
      "outputs": [
        {
          "output_type": "stream",
          "name": "stdout",
          "text": [
            "1/1 [==============================] - 0s 82ms/step\n"
          ]
        }
      ],
      "source": [
        "# run predict for the first three elements in the test data set\n",
        "predictions = pooler_bert_model.predict([test_encodings.input_ids[:3], test_encodings.token_type_ids[:3], test_encodings.attention_mask[:3]])"
      ]
    },
    {
      "cell_type": "code",
      "execution_count": 37,
      "metadata": {
        "id": "ymGM8QnpchnC",
        "colab": {
          "base_uri": "https://localhost:8080/"
        },
        "outputId": "52a0394d-d16b-4362-f66f-3fd6a7413c4a"
      },
      "outputs": [
        {
          "output_type": "execute_result",
          "data": {
            "text/plain": [
              "array([[9.0604601e-03, 1.0382836e-04, 3.5172584e-04, 1.6806716e-04,\n",
              "        1.0273299e-04, 2.0491035e-04, 2.0804592e-04, 7.6907879e-04,\n",
              "        6.3609646e-04, 1.6928959e-04, 1.0711988e-03, 3.1691632e-04,\n",
              "        5.2167044e-04, 1.8601867e-04, 4.7867629e-04, 8.7885356e-01,\n",
              "        4.7030216e-04, 3.7340351e-04, 6.7609391e-04, 1.0527787e-01],\n",
              "       [5.2329153e-03, 5.8145414e-04, 4.3427325e-03, 3.2339396e-03,\n",
              "        5.6387379e-04, 1.2679625e-03, 3.9965999e-03, 2.4615752e-04,\n",
              "        1.2276324e-03, 1.8161981e-04, 2.5019326e-04, 9.6853548e-01,\n",
              "        4.7283210e-03, 4.6954546e-04, 4.4951309e-04, 1.7177108e-04,\n",
              "        1.8423401e-03, 1.0335370e-03, 7.9435727e-04, 8.5012423e-04],\n",
              "       [1.4343004e-01, 1.4469172e-03, 1.9973838e-03, 1.8894391e-03,\n",
              "        1.6684310e-03, 1.0668404e-03, 1.0593451e-03, 1.0279425e-02,\n",
              "        9.1828760e-03, 5.6715859e-03, 2.4369690e-03, 3.9552104e-02,\n",
              "        7.5149923e-03, 9.5811058e-03, 6.0191560e-03, 1.1980948e-02,\n",
              "        2.0668724e-01, 1.5135429e-02, 4.2980146e-01, 9.3598336e-02]],\n",
              "      dtype=float32)"
            ]
          },
          "metadata": {},
          "execution_count": 37
        }
      ],
      "source": [
        "predictions"
      ]
    },
    {
      "cell_type": "code",
      "execution_count": 35,
      "metadata": {
        "id": "-ahMJ-zwEiCs",
        "colab": {
          "base_uri": "https://localhost:8080/"
        },
        "outputId": "79a145fa-135c-4635-968f-0e94c70897a6"
      },
      "outputs": [
        {
          "output_type": "stream",
          "name": "stdout",
          "text": [
            "59/59 [==============================] - 26s 442ms/step\n"
          ]
        },
        {
          "output_type": "execute_result",
          "data": {
            "text/plain": [
              "<tf.Tensor: shape=(1885,), dtype=int64, numpy=array([15, 11, 18, ...,  8, 14,  7])>"
            ]
          },
          "metadata": {},
          "execution_count": 35
        }
      ],
      "source": [
        "#run and capture all predictions from our test set using model.predict\n",
        "### YOUR CODE HERE\n",
        "predictions_model1 = pooler_bert_model.predict([test_encodings.input_ids, test_encodings.token_type_ids, test_encodings.attention_mask])\n",
        "### END YOUR CODE\n",
        "\n",
        "#now we need to get the highest probability in the distribution for each prediction\n",
        "#and store that in a tf.Tensor\n",
        "predictions_model1 = tf.argmax(predictions_model1, axis=-1)\n",
        "predictions_model1"
      ]
    },
    {
      "cell_type": "markdown",
      "metadata": {
        "id": "LGI8oA6fMWTI"
      },
      "source": [
        "There are two ways to see what's going on with our classifier.  Overall accuracy is interesting but it can be misleading.  We need to make sure that each of our categories' prediction performance is operating at an equal or higher level than the overall.\n",
        "\n",
        "Here we'll use the classification report from scikit learn.  It expects two inputs as arrays.  One is the ground truth (y_true) and the other is the associated prediction (y_pred).  This is based on gethering all the predictions from our our test set.\n",
        "\n",
        "[Classification Report](https://scikit-learn.org/stable/modules/generated/sklearn.metrics.classification_report.html)<br>\n",
        "[F1 Score in ML](https://www.mariakhalusova.com/posts/2019-04-17-ml-model-evaluation-metrics-p2/#:~:text=Macro%2Daveraged%3A%20all%20classes%20equally,is%20weighted%20by%20its%20size)\n",
        "![Screen Shot 2023-02-21 at 9.41.43 PM.png](data:image/png;base64,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)"
      ]
    },
    {
      "cell_type": "markdown",
      "source": [],
      "metadata": {
        "id": "k5zUSeC7r_6p"
      }
    },
    {
      "cell_type": "code",
      "execution_count": 46,
      "metadata": {
        "id": "wPqioIbh2XIE",
        "colab": {
          "base_uri": "https://localhost:8080/"
        },
        "outputId": "347c6bd7-af58-4a32-cd9d-ff31b8df77d8"
      },
      "outputs": [
        {
          "output_type": "stream",
          "name": "stdout",
          "text": [
            "                          precision    recall  f1-score   support\n",
            "\n",
            "             alt.atheism       0.45      0.43      0.44        77\n",
            "           comp.graphics       0.81      0.64      0.71        96\n",
            " comp.os.ms-windows.misc       0.72      0.50      0.59        98\n",
            "comp.sys.ibm.pc.hardware       0.63      0.71      0.67       105\n",
            "   comp.sys.mac.hardware       0.71      0.66      0.69        83\n",
            "          comp.windows.x       0.88      0.86      0.87       100\n",
            "            misc.forsale       0.84      0.70      0.76        99\n",
            "               rec.autos       0.54      0.75      0.63        91\n",
            "         rec.motorcycles       0.59      0.79      0.68        90\n",
            "      rec.sport.baseball       0.70      0.82      0.75       118\n",
            "        rec.sport.hockey       0.79      0.92      0.85        97\n",
            "               sci.crypt       0.88      0.72      0.79        95\n",
            "         sci.electronics       0.62      0.68      0.65        95\n",
            "                 sci.med       0.97      0.73      0.84       101\n",
            "               sci.space       0.90      0.61      0.73        98\n",
            "  soc.religion.christian       0.51      0.84      0.64        92\n",
            "      talk.politics.guns       0.59      0.72      0.65        99\n",
            "   talk.politics.mideast       0.90      0.77      0.83        90\n",
            "      talk.politics.misc       0.55      0.56      0.56        84\n",
            "      talk.religion.misc       0.24      0.12      0.16        77\n",
            "\n",
            "                accuracy                           0.69      1885\n",
            "               macro avg       0.69      0.68      0.67      1885\n",
            "            weighted avg       0.70      0.69      0.68      1885\n",
            "\n",
            "*********************************\n",
            "Macro Avg F1 Score = 0.67325\n",
            "Weighted Avg F1 Score = 0.68307\n"
          ]
        }
      ],
      "source": [
        "from sklearn.metrics import f1_score\n",
        "\n",
        "print(classification_report(test_labels, predictions_model1.numpy(), target_names=target_names))\n",
        "print(f'*********************************\\nMacro Avg F1 Score = {f1_score(test_labels, predictions_model1.numpy(), average=\"macro\").round(5)}')\n",
        "print(f'Weighted Avg F1 Score = {f1_score(test_labels, predictions_model1.numpy(), average=\"weighted\").round(5)}')"
      ]
    },
    {
      "cell_type": "markdown",
      "metadata": {
        "id": "ddMMQ2vBOJKj"
      },
      "source": [
        "**QUESTION:** 2.4 What is the key difference between the macro average F1 score and the weighted average F1 score? **The weighted avg accounts for imbalance in the labels.**\n",
        "\n",
        "**QUESTION:** 2.5 What is the macro average F1 score you get from the classification report?  **0.67**\n",
        "\n",
        "Now we'll generate another very valuable visualization of what's happening with our classifier -- a confusion matrix."
      ]
    },
    {
      "cell_type": "code",
      "execution_count": 39,
      "metadata": {
        "id": "udwdL6iKEh7b"
      },
      "outputs": [],
      "source": [
        "cm = tf.math.confusion_matrix(test_labels, predictions_model1)\n",
        "cm = cm/cm.numpy().sum(axis=1)[:, tf.newaxis]"
      ]
    },
    {
      "cell_type": "markdown",
      "metadata": {
        "id": "_9YL2AlQOY4Y"
      },
      "source": [
        "And now we'll display it!"
      ]
    },
    {
      "cell_type": "code",
      "execution_count": 40,
      "metadata": {
        "id": "gh0Bxg-8EhzZ",
        "colab": {
          "base_uri": "https://localhost:8080/",
          "height": 585
        },
        "outputId": "bd8e6643-018a-45d5-fb04-9b53776f8de3"
      },
      "outputs": [
        {
          "output_type": "execute_result",
          "data": {
            "text/plain": [
              "Text(159.0, 0.5, 'True')"
            ]
          },
          "metadata": {},
          "execution_count": 40
        },
        {
          "output_type": "display_data",
          "data": {
            "text/plain": [
              "<Figure size 1440x504 with 2 Axes>"
            ],
            "image/png": "[encoded data removed]"
          },
          "metadata": {
            "needs_background": "light"
          }
        }
      ],
      "source": [
        "plt.figure(figsize=(20,7))\n",
        "sns.heatmap(\n",
        "    cm, annot=True,\n",
        "    xticklabels=target_names,\n",
        "    yticklabels=target_names)\n",
        "plt.xlabel(\"Predicted\")\n",
        "plt.ylabel(\"True\")"
      ]
    },
    {
      "cell_type": "markdown",
      "metadata": {
        "id": "6OKhCGVDOgdl"
      },
      "source": [
        "### 3. Classification using two stages\n",
        "\n",
        "Okay, not bad.  As you can see, some categories are easier to distinguish than others. Look for the class with the lowest F1 score (it should be the one at the bottom of the list). In the confusion matrix, which other class is that one being mistaken for most often?\n",
        "\n",
        "You might notice that the categories in this dataset are somewhat heirarchical. There are more obvious differences between groups of news categories (e.g. computers vs recreation) and then subtler differences between categories within those groups (e.g. PC vs Mac, within computers).\n",
        "\n",
        "When this happens, one idea is to train a series of models, to first separate out the more obvious groups of classes, and then use more specialized sub-models to classify only a subset of the classes. Let's try that here."
      ]
    },
    {
      "cell_type": "markdown",
      "metadata": {
        "id": "E0qA4QBstsin"
      },
      "source": [
        "#### Step 1: New model with 19 classes\n",
        "\n",
        "For simplicity, we'll just combine two categories in our first step. We'll replace the label of the last class with the label of the class it's most often mistaken for. (That way, we'll have labels from 0 to 18 instead of 0 to 19, and don't have to renumber everything, though you would have to if you group them more.)"
      ]
    },
    {
      "cell_type": "code",
      "execution_count": 59,
      "metadata": {
        "id": "b0rAv6nLmrwN",
        "colab": {
          "base_uri": "https://localhost:8080/",
          "height": 240
        },
        "outputId": "a71f12ec-8c67-47c4-8a51-fbdfdb8ee142"
      },
      "outputs": [
        {
          "output_type": "error",
          "ename": "NameError",
          "evalue": "ignored",
          "traceback": [
            "\u001b[0;31m---------------------------------------------------------------------------\u001b[0m",
            "\u001b[0;31mNameError\u001b[0m                                 Traceback (most recent call last)",
            "\u001b[0;32m<ipython-input-59-19b6fdca575a>\u001b[0m in \u001b[0;36m<module>\u001b[0;34m\u001b[0m\n\u001b[1;32m      8\u001b[0m \u001b[0;34m\u001b[0m\u001b[0m\n\u001b[1;32m      9\u001b[0m \u001b[0mtrain_labels_19class\u001b[0m \u001b[0;34m=\u001b[0m \u001b[0mtrain_labels\u001b[0m\u001b[0;34m.\u001b[0m\u001b[0mcopy\u001b[0m\u001b[0;34m(\u001b[0m\u001b[0;34m)\u001b[0m\u001b[0;34m\u001b[0m\u001b[0;34m\u001b[0m\u001b[0m\n\u001b[0;32m---> 10\u001b[0;31m \u001b[0mtrain_labels_19class\u001b[0m\u001b[0;34m[\u001b[0m\u001b[0mtrain_labels_19class\u001b[0m \u001b[0;34m==\u001b[0m \u001b[0mlabel_to_replace\u001b[0m\u001b[0;34m]\u001b[0m \u001b[0;34m=\u001b[0m \u001b[0mlabel_to_replace_with\u001b[0m\u001b[0;34m\u001b[0m\u001b[0;34m\u001b[0m\u001b[0m\n\u001b[0m\u001b[1;32m     11\u001b[0m \u001b[0;34m\u001b[0m\u001b[0m\n\u001b[1;32m     12\u001b[0m \u001b[0mvalid_labels_19class\u001b[0m \u001b[0;34m=\u001b[0m \u001b[0mnpvalid_labels\u001b[0m\u001b[0;34m.\u001b[0m\u001b[0mcopy\u001b[0m\u001b[0;34m(\u001b[0m\u001b[0;34m)\u001b[0m\u001b[0;34m\u001b[0m\u001b[0;34m\u001b[0m\u001b[0m\n",
            "\u001b[0;31mNameError\u001b[0m: name 'label_to_replace_with' is not defined"
          ]
        }
      ],
      "source": [
        "label_to_replace = 19\n",
        "\n",
        "# label_to_replace_with = ...\n",
        "### YOUR CODE HERE\n",
        "label_to_replace_with\n",
        "\n",
        "### END YOUR CODE\n",
        "\n",
        "train_labels_19class = train_labels.copy()\n",
        "train_labels_19class[train_labels_19class == label_to_replace] = label_to_replace_with\n",
        "\n",
        "valid_labels_19class = npvalid_labels.copy()\n",
        "valid_labels_19class[valid_labels_19class == label_to_replace] = label_to_replace_with\n",
        "\n",
        "test_labels_19class = test_labels.copy()\n",
        "test_labels_19class[test_labels_19class == label_to_replace] = label_to_replace_with"
      ]
    },
    {
      "cell_type": "markdown",
      "metadata": {
        "id": "dSQd_UDQhmQd"
      },
      "source": [
        "Now let's create a new model with the same architecture, but to predict probabilities for 19 classes instead of 20. We're using all of the data in this first step, so we'll use the encodings we already preprocessed as inputs, but use the new labels that only have 19 classes."
      ]
    },
    {
      "cell_type": "code",
      "execution_count": null,
      "metadata": {
        "id": "s7hR7ahmmrYL"
      },
      "outputs": [],
      "source": [
        "bert_model_19class = create_bert_multiclass_model(checkpoint = model_checkpoint, num_classes=19)"
      ]
    },
    {
      "cell_type": "code",
      "execution_count": null,
      "metadata": {
        "id": "O4Qsai6UmrOj"
      },
      "outputs": [],
      "source": [
        "bert_model_19class_history = bert_model_19class.fit([train_encodings.input_ids, train_encodings.token_type_ids, train_encodings.attention_mask], \n",
        "                                                  train_labels_19class,   \n",
        "                                                  validation_data=([valid_encodings.input_ids, valid_encodings.token_type_ids, valid_encodings.attention_mask],\n",
        "                                                                   valid_labels_19class),    \n",
        "                                                  batch_size=8,\n",
        "                                                  epochs=1)"
      ]
    },
    {
      "cell_type": "code",
      "execution_count": null,
      "metadata": {
        "id": "BkW9hMq9g9dV"
      },
      "outputs": [],
      "source": [
        "#Evaluate the fine tuned 19-class model against the test data with 19-class labels\n",
        "### YOUR CODE HERE\n",
        "### END YOUR CODE\n",
        "print('Test loss:', score[0]) \n",
        "print('Test accuracy:', score[1])"
      ]
    },
    {
      "cell_type": "markdown",
      "metadata": {
        "id": "DPaUdul4hlp0"
      },
      "source": [
        "**QUESTION:** \n",
        "\n",
        "3.1 What is the test accuracy you get when you run the new first stage model with only 19 classes?\n"
      ]
    },
    {
      "cell_type": "code",
      "execution_count": null,
      "metadata": {
        "id": "TrWtaXSug9UR"
      },
      "outputs": [],
      "source": [
        "#run and capture all the predictions from the 19 class data\n",
        "### YOUR CODE HERE \n",
        "### END YOUR CODE\n",
        "\n",
        "predictions_19class"
      ]
    },
    {
      "cell_type": "code",
      "execution_count": null,
      "metadata": {
        "id": "-nAlDV7K8T4q"
      },
      "outputs": [],
      "source": [
        "target_names_19class = target_names[:label_to_replace_with] \\\n",
        "                     + ['** COMBINED CLASS **'] \\\n",
        "                     + target_names[label_to_replace_with+1:19]\n",
        "\n",
        "print(classification_report(test_labels_19class, predictions_19class.numpy(),\n",
        "                            target_names=target_names_19class))"
      ]
    },
    {
      "cell_type": "markdown",
      "metadata": {
        "id": "Eh6nKilF8V7b"
      },
      "source": [
        "**QUESTION:** \n",
        "\n",
        "3.2 What is the F1 score you get for the combined class when you run the new first stage model with only 19 classes?\n"
      ]
    },
    {
      "cell_type": "markdown",
      "metadata": {
        "id": "TTZcBibxR153"
      },
      "source": [
        "#### Step 2: New model with only the two classes combined in step one\n",
        "\n",
        "Now, our first stage model is able to determine which text is one of the two often confused classes, but we need to train a more specific model to distinguish between just these two classes. Ideally, this model will only focus on the more subtle differences between these two news categories, since it doesn't have to learn everything else about the other categories.\n",
        "\n",
        "For this model, we're only going to train using the text examples that are one of the two confused categories. We'll keep the encodings we already tokenized, so we need to separate out the input_ids, token_type_ids, and attention_mask for just the rows that have one of these two labels."
      ]
    },
    {
      "cell_type": "code",
      "execution_count": null,
      "metadata": {
        "id": "N4TmPG6B1mz0"
      },
      "outputs": [],
      "source": [
        "train_mask_2class = (train_labels_19class == label_to_replace_with)\n",
        "train_encodings_2class = {'input_ids': train_encodings.input_ids[train_mask_2class],\n",
        "                          'token_type_ids': train_encodings.token_type_ids[train_mask_2class],\n",
        "                          'attention_mask': train_encodings.attention_mask[train_mask_2class]}\n",
        "train_labels_2class = train_labels.copy()[train_mask_2class]\n",
        "train_labels_2class = (train_labels_2class == label_to_replace_with).astype(int)\n",
        "\n",
        "valid_mask_2class = (valid_labels_19class == label_to_replace_with)\n",
        "valid_encodings_2class = {'input_ids': valid_encodings.input_ids[valid_mask_2class],\n",
        "                          'token_type_ids': valid_encodings.token_type_ids[valid_mask_2class],\n",
        "                          'attention_mask': valid_encodings.attention_mask[valid_mask_2class]}\n",
        "valid_labels_2class = npvalid_labels.copy()[valid_mask_2class]\n",
        "valid_labels_2class = (valid_labels_2class == label_to_replace_with).astype(int)\n",
        "\n",
        "test_mask_2class = (test_labels_19class == label_to_replace_with)\n",
        "test_encodings_2class = {'input_ids': test_encodings.input_ids[test_mask_2class],\n",
        "                          'token_type_ids': test_encodings.token_type_ids[test_mask_2class],\n",
        "                          'attention_mask': test_encodings.attention_mask[test_mask_2class]}\n",
        "test_labels_2class = test_labels.copy()[test_mask_2class]\n",
        "test_labels_2class = (test_labels_2class == label_to_replace_with).astype(int)"
      ]
    },
    {
      "cell_type": "code",
      "execution_count": null,
      "metadata": {
        "id": "xwTzhDVp9YTT"
      },
      "outputs": [],
      "source": [
        "train_labels_2class.shape"
      ]
    },
    {
      "cell_type": "code",
      "execution_count": null,
      "metadata": {
        "id": "O76HzIGh9dct"
      },
      "outputs": [],
      "source": [
        "train_labels_2class"
      ]
    },
    {
      "cell_type": "markdown",
      "metadata": {
        "id": "3c7M7sFCucU8"
      },
      "source": [
        "Create and train a new model with the same architecture as before, except that it only predicts two classes. (Note that we could change this to a binary prediction model, but we'll keep it multiclass for consistency here.)"
      ]
    },
    {
      "cell_type": "code",
      "execution_count": null,
      "metadata": {
        "id": "dNe5zVOflttk"
      },
      "outputs": [],
      "source": [
        "bert_model_2class = create_bert_multiclass_model(checkpoint=model_checkpoint, num_classes=2)"
      ]
    },
    {
      "cell_type": "code",
      "execution_count": null,
      "metadata": {
        "id": "-F5DM3zGlvSd"
      },
      "outputs": [],
      "source": [
        "bert_model_2class_history = bert_model_2class.fit([train_encodings_2class['input_ids'],\n",
        "                                                   train_encodings_2class['token_type_ids'],\n",
        "                                                   train_encodings_2class['attention_mask']], \n",
        "                                                  train_labels_2class,   \n",
        "                                                  validation_data=([valid_encodings_2class['input_ids'],\n",
        "                                                                    valid_encodings_2class['token_type_ids'],\n",
        "                                                                    valid_encodings_2class['attention_mask']],\n",
        "                                                                   valid_labels_2class),    \n",
        "                                                  batch_size=8, \n",
        "                                                  epochs=1)"
      ]
    },
    {
      "cell_type": "code",
      "execution_count": null,
      "metadata": {
        "id": "UNEUeufxp1g5"
      },
      "outputs": [],
      "source": [
        "#Evaluate the two-class model against the two-class test set.\n",
        "### YOUR CODE HERE\n",
        "### END YOUR CODE\n",
        "print('Test loss:', score[0]) \n",
        "print('Test accuracy:', score[1])"
      ]
    },
    {
      "cell_type": "code",
      "execution_count": null,
      "metadata": {
        "id": "aPuN8_gaESJZ"
      },
      "outputs": [],
      "source": [
        "#run and capture all the predictions from the 2-class test data\n",
        "### YOUR CODE HERE \n",
        "### END YOUR CODE\n",
        "predictions_2class"
      ]
    },
    {
      "cell_type": "code",
      "execution_count": null,
      "metadata": {
        "id": "zEnHd3ijESPH"
      },
      "outputs": [],
      "source": [
        "# Run the sklearn classification_report again with the 2-class predictions\n",
        "### YOUR CODE HERE\n",
        "### END YOUR CODE"
      ]
    },
    {
      "cell_type": "markdown",
      "metadata": {
        "id": "1aTDW3JBut1P"
      },
      "source": [
        "**QUESTION:** \n",
        "\n",
        "3.3 What is the macro average F1 score you get when you run the new second stage model with only 2 classes?"
      ]
    },
    {
      "cell_type": "markdown",
      "metadata": {
        "id": "90DMNd_Nuzgz"
      },
      "source": [
        "#### Step 3: Combine the predicted labels from the two steps\n",
        "\n",
        "To combine our models into two steps, start with the predictions from the first step. Keep all predicted labels except the ones with a predicted value of label_to_replace_with (the label we gave to both of the confused classes in the first step).\n",
        "\n",
        "Wherever the first model predicted the combined category, we'll replace the predictions with the label from the second model. If we used these models in inference, we'd only send an example to the second model if the first model predicted that it was from the combined class."
      ]
    },
    {
      "cell_type": "code",
      "execution_count": null,
      "metadata": {
        "id": "bmSd5B8M-YPh"
      },
      "outputs": [],
      "source": [
        "predictions_2class = predictions_2class.numpy()\n",
        "predictions_2class[predictions_2class == 0] = label_to_replace\n",
        "predictions_2class[predictions_2class == 1] = label_to_replace_with"
      ]
    },
    {
      "cell_type": "code",
      "execution_count": null,
      "metadata": {
        "id": "czf7y8Ha5hu-"
      },
      "outputs": [],
      "source": [
        "predictions_2steps = predictions_19class.numpy()\n",
        "predictions_2steps[test_mask_2class] = predictions_2class\n",
        "\n",
        "predictions_2steps"
      ]
    },
    {
      "cell_type": "markdown",
      "metadata": {
        "id": "dxUBa20mv0Iq"
      },
      "source": [
        "Now let's look at the classification report and confusion matrix, using the combined predictions from our two step model (compared to the original labels). Did the overall results get better?"
      ]
    },
    {
      "cell_type": "code",
      "execution_count": null,
      "metadata": {
        "id": "bbtOD45X6QgO"
      },
      "outputs": [],
      "source": [
        "# Run the sklearn classification_report with all 20 classes from the 2-step predictions\n",
        "### YOUR CODE HERE\n",
        "### END YOUR CODE"
      ]
    },
    {
      "cell_type": "code",
      "execution_count": null,
      "metadata": {
        "id": "GoxOfneGDG60"
      },
      "outputs": [],
      "source": [
        "cm = tf.math.confusion_matrix(test_labels, predictions_2steps)\n",
        "cm = cm/cm.numpy().sum(axis=1)[:, tf.newaxis]"
      ]
    },
    {
      "cell_type": "code",
      "execution_count": null,
      "metadata": {
        "id": "of7FDh3CDHGy"
      },
      "outputs": [],
      "source": [
        "plt.figure(figsize=(20,7))\n",
        "sns.heatmap(\n",
        "    cm, annot=True,\n",
        "    xticklabels=target_names,\n",
        "    yticklabels=target_names)\n",
        "plt.xlabel(\"Predicted\")\n",
        "plt.ylabel(\"True\")"
      ]
    },
    {
      "cell_type": "markdown",
      "metadata": {
        "id": "8jXBmgS2iXDI"
      },
      "source": [
        "**QUESTION:**\n",
        "\n",
        "3.4 What is the macro average F1 score you get from the combined two-step model?\n",
        "\n",
        "3.5 What is the difference in points between the macro weighted F1 score for the original model and the combined two-step model?\n",
        "\n",
        "3.6 What is the new F1 score for the last category (i.e. label_to_replace, the one that had the lowest F1 score in the original model)?\n",
        "\n",
        "3.7 What is the new F1 score for the other category that you combined with the last category in the two-step model (i.e. label_to_replace_with)?\n",
        "\n",
        "3.8 Which metric (precision or recall) is now lower for the other category (i.e. label_to_replace_with)?"
      ]
    },
    {
      "cell_type": "markdown",
      "metadata": {
        "id": "coyVPop8SuG9"
      },
      "source": [
        "### Look at examples of misclassifications\n",
        "\n",
        "What happened in the two-step model? Did everything improve, or did something get worse? We were concerned about the last news category, which had a very low F1 score in the original model. In the two-step model, the F1 score for that category should have gone up.\n",
        "\n",
        "But for the other category that the original model often confused with the last category, the F1 score might have gone down. In particular, one of the two component metrics, precision or recall, probably went down. (We ask you which one went down in question 3.7 above.)\n",
        "\n",
        "We might be able to tell what happened from the confusion matrix, but it's also always a good idea to look at actual examples that were misclassified, to see if we can spot any patterns. We can also isolate more specific examples, like test examples that the original model got right, but the two-step model got wrong. Let's do that below.\n",
        "\n",
        "**CRITICAL NOTE:**  If nothing prints out when you run the code below, there are two possibilities.  The first is that there is some error in the code or variable names you have created in earlier cells.  The second possibility is that given your current train, validation, and test split, the second model predicted the \"label_to_replace_with\" class and the first model did so too.  This is unlikely but it is possible. In either case, you must go back and re-run the *ENTIRE* notebook to make sure you get a new train, validation, and test split which will allow you to observe the first and second models disagreeing. Please make sure you enter the metric values from this new run into your answers file."
      ]
    },
    {
      "cell_type": "code",
      "execution_count": null,
      "metadata": {
        "id": "Lj98aBdmNMrE"
      },
      "outputs": [],
      "source": [
        "# Make a vector the length of our test set, with 1 if the second model predicted the\n",
        "# \"label_to_replace_with\" class, and 0s otherwise\n",
        "select_predictions = (predictions_2steps == label_to_replace_with)\n"
      ]
    },
    {
      "cell_type": "code",
      "execution_count": null,
      "metadata": {
        "id": "vaBVzlNXdsWN"
      },
      "outputs": [],
      "source": [
        "# Now only keep a 1 if that was not the correct label, i.e. it was a false positive\n",
        "select_predictions = select_predictions * (test_labels != label_to_replace_with)"
      ]
    },
    {
      "cell_type": "code",
      "execution_count": null,
      "metadata": {
        "id": "E05K9v-RdsLT"
      },
      "outputs": [],
      "source": [
        "# And now only keep a 1 if the original model predicted the correct label instead\n",
        "select_predictions = select_predictions * (test_labels == predictions_model1.numpy())"
      ]
    },
    {
      "cell_type": "code",
      "execution_count": null,
      "metadata": {
        "id": "x4dEwbnc_6qr"
      },
      "outputs": [],
      "source": [
        "# Print out the original and clean text of the examples that met the above conditions\n",
        "for i in np.where(select_predictions)[0]:\n",
        "\n",
        "    print('Prediction: model1 = %s, model2 = %s):\\nText: %s\\n\\n' %\n",
        "          (target_names[predictions_model1[i]],\n",
        "           target_names[predictions_2steps[i]],\n",
        "           test_texts[i][:1000].replace('\\n', ' ')))"
      ]
    },
    {
      "cell_type": "markdown",
      "metadata": {
        "id": "ppncPlCzzz0B"
      },
      "source": [
        "**QUESTION:** \n",
        "\n",
        "4.1 Why do you think the two-step model got these examples wrong, when the original model got them right?\n",
        "\n",
        "- A. The two-step model saw less examples of the \"label_to_replace\" class, because we replaced them with the \"label_to_replace_with\" examples. So it didn't learn the kind of text in that class as well as the original model.\n",
        "\n",
        "- B. In the two-step process, the step 1 model overpredicted the combined class, and the step 2 model overpredicted the \"label_to_replace_with\" class. A third class is now getting mistaken more often for the \"label_to_replace_with\" class, than in the original model.\n",
        "\n",
        "- C. It's probably just random that the original model got these specific examples right and the two-step model got them wrong.\n",
        "\n",
        "\n",
        "\n",
        "4.2 Is there anything you might try next, to try to make the two-step model better?\n",
        "\n",
        "- A. Try to balance the training data across classes at each step, or add class weights when calling model.fit.\n",
        "\n",
        "- B. Try to combine another similar category with the two easily confused ones, for a step 1 model with 18 classes and the step 2 model with 3 classes.\n",
        "\n",
        "- C. Try both A and B"
      ]
    }
  ],
  "metadata": {
    "accelerator": "GPU",
    "colab": {
      "provenance": [],
      "include_colab_link": true
    },
    "gpuClass": "standard",
    "kernelspec": {
      "display_name": "Python 3 (ipykernel)",
      "language": "python",
      "name": "python3"
    },
    "language_info": {
      "codemirror_mode": {
        "name": "ipython",
        "version": 3
      },
      "file_extension": ".py",
      "mimetype": "text/x-python",
      "name": "python",
      "nbconvert_exporter": "python",
      "pygments_lexer": "ipython3",
      "version": "3.8.15"
    },
    "widgets": {
      "application/vnd.jupyter.widget-state+json": {
        "556f2e9a900946698280380826bb04ad": {
          "model_module": "@jupyter-widgets/controls",
          "model_name": "HBoxModel",
          "model_module_version": "1.5.0",
          "state": {
            "_dom_classes": [],
            "_model_module": "@jupyter-widgets/controls",
            "_model_module_version": "1.5.0",
            "_model_name": "HBoxModel",
            "_view_count": null,
            "_view_module": "@jupyter-widgets/controls",
            "_view_module_version": "1.5.0",
            "_view_name": "HBoxView",
            "box_style": "",
            "children": [
              "IPY_MODEL_78ec7d33c9e24cca92f06214899d3eef",
              "IPY_MODEL_a69bba1eaebe4e42b87e5dafcd33ae53",
              "IPY_MODEL_96ca03584c454470a5657c29903b20e3"
            ],
            "layout": "IPY_MODEL_cf11ac8cfa814a8db7d53d6c9d29cdcd"
          }
        },
        "78ec7d33c9e24cca92f06214899d3eef": {
          "model_module": "@jupyter-widgets/controls",
          "model_name": "HTMLModel",
          "model_module_version": "1.5.0",
          "state": {
            "_dom_classes": [],
            "_model_module": "@jupyter-widgets/controls",
            "_model_module_version": "1.5.0",
            "_model_name": "HTMLModel",
            "_view_count": null,
            "_view_module": "@jupyter-widgets/controls",
            "_view_module_version": "1.5.0",
            "_view_name": "HTMLView",
            "description": "",
            "description_tooltip": null,
            "layout": "IPY_MODEL_405484734964455289caf83460d797a5",
            "placeholder": "​",
            "style": "IPY_MODEL_b03dfdd6053049e7b0966de079d2dc0e",
            "value": "Downloading (…)solve/main/vocab.txt: 100%"
          }
        },
        "a69bba1eaebe4e42b87e5dafcd33ae53": {
          "model_module": "@jupyter-widgets/controls",
          "model_name": "FloatProgressModel",
          "model_module_version": "1.5.0",
          "state": {
            "_dom_classes": [],
            "_model_module": "@jupyter-widgets/controls",
            "_model_module_version": "1.5.0",
            "_model_name": "FloatProgressModel",
            "_view_count": null,
            "_view_module": "@jupyter-widgets/controls",
            "_view_module_version": "1.5.0",
            "_view_name": "ProgressView",
            "bar_style": "success",
            "description": "",
            "description_tooltip": null,
            "layout": "IPY_MODEL_aa32950190474f97879ab46b05f88b2f",
            "max": 213450,
            "min": 0,
            "orientation": "horizontal",
            "style": "IPY_MODEL_2707bea713294d83a710e20a4d7945e7",
            "value": 213450
          }
        },
        "96ca03584c454470a5657c29903b20e3": {
          "model_module": "@jupyter-widgets/controls",
          "model_name": "HTMLModel",
          "model_module_version": "1.5.0",
          "state": {
            "_dom_classes": [],
            "_model_module": "@jupyter-widgets/controls",
            "_model_module_version": "1.5.0",
            "_model_name": "HTMLModel",
            "_view_count": null,
            "_view_module": "@jupyter-widgets/controls",
            "_view_module_version": "1.5.0",
            "_view_name": "HTMLView",
            "description": "",
            "description_tooltip": null,
            "layout": "IPY_MODEL_18f7203e28e948fe834ca7687921168a",
            "placeholder": "​",
            "style": "IPY_MODEL_60bff7638e714c1daca04ec576beaa3a",
            "value": " 213k/213k [00:00&lt;00:00, 2.04MB/s]"
          }
        },
        "cf11ac8cfa814a8db7d53d6c9d29cdcd": {
          "model_module": "@jupyter-widgets/base",
          "model_name": "LayoutModel",
          "model_module_version": "1.2.0",
          "state": {
            "_model_module": "@jupyter-widgets/base",
            "_model_module_version": "1.2.0",
            "_model_name": "LayoutModel",
            "_view_count": null,
            "_view_module": "@jupyter-widgets/base",
            "_view_module_version": "1.2.0",
            "_view_name": "LayoutView",
            "align_content": null,
            "align_items": null,
            "align_self": null,
            "border": null,
            "bottom": null,
            "display": null,
            "flex": null,
            "flex_flow": null,
            "grid_area": null,
            "grid_auto_columns": null,
            "grid_auto_flow": null,
            "grid_auto_rows": null,
            "grid_column": null,
            "grid_gap": null,
            "grid_row": null,
            "grid_template_areas": null,
            "grid_template_columns": null,
            "grid_template_rows": null,
            "height": null,
            "justify_content": null,
            "justify_items": null,
            "left": null,
            "margin": null,
            "max_height": null,
            "max_width": null,
            "min_height": null,
            "min_width": null,
            "object_fit": null,
            "object_position": null,
            "order": null,
            "overflow": null,
            "overflow_x": null,
            "overflow_y": null,
            "padding": null,
            "right": null,
            "top": null,
            "visibility": null,
            "width": null
          }
        },
        "405484734964455289caf83460d797a5": {
          "model_module": "@jupyter-widgets/base",
          "model_name": "LayoutModel",
          "model_module_version": "1.2.0",
          "state": {
            "_model_module": "@jupyter-widgets/base",
            "_model_module_version": "1.2.0",
            "_model_name": "LayoutModel",
            "_view_count": null,
            "_view_module": "@jupyter-widgets/base",
            "_view_module_version": "1.2.0",
            "_view_name": "LayoutView",
            "align_content": null,
            "align_items": null,
            "align_self": null,
            "border": null,
            "bottom": null,
            "display": null,
            "flex": null,
            "flex_flow": null,
            "grid_area": null,
            "grid_auto_columns": null,
            "grid_auto_flow": null,
            "grid_auto_rows": null,
            "grid_column": null,
            "grid_gap": null,
            "grid_row": null,
            "grid_template_areas": null,
            "grid_template_columns": null,
            "grid_template_rows": null,
            "height": null,
            "justify_content": null,
            "justify_items": null,
            "left": null,
            "margin": null,
            "max_height": null,
            "max_width": null,
            "min_height": null,
            "min_width": null,
            "object_fit": null,
            "object_position": null,
            "order": null,
            "overflow": null,
            "overflow_x": null,
            "overflow_y": null,
            "padding": null,
            "right": null,
            "top": null,
            "visibility": null,
            "width": null
          }
        },
        "b03dfdd6053049e7b0966de079d2dc0e": {
          "model_module": "@jupyter-widgets/controls",
          "model_name": "DescriptionStyleModel",
          "model_module_version": "1.5.0",
          "state": {
            "_model_module": "@jupyter-widgets/controls",
            "_model_module_version": "1.5.0",
            "_model_name": "DescriptionStyleModel",
            "_view_count": null,
            "_view_module": "@jupyter-widgets/base",
            "_view_module_version": "1.2.0",
            "_view_name": "StyleView",
            "description_width": ""
          }
        },
        "aa32950190474f97879ab46b05f88b2f": {
          "model_module": "@jupyter-widgets/base",
          "model_name": "LayoutModel",
          "model_module_version": "1.2.0",
          "state": {
            "_model_module": "@jupyter-widgets/base",
            "_model_module_version": "1.2.0",
            "_model_name": "LayoutModel",
            "_view_count": null,
            "_view_module": "@jupyter-widgets/base",
            "_view_module_version": "1.2.0",
            "_view_name": "LayoutView",
            "align_content": null,
            "align_items": null,
            "align_self": null,
            "border": null,
            "bottom": null,
            "display": null,
            "flex": null,
            "flex_flow": null,
            "grid_area": null,
            "grid_auto_columns": null,
            "grid_auto_flow": null,
            "grid_auto_rows": null,
            "grid_column": null,
            "grid_gap": null,
            "grid_row": null,
            "grid_template_areas": null,
            "grid_template_columns": null,
            "grid_template_rows": null,
            "height": null,
            "justify_content": null,
            "justify_items": null,
            "left": null,
            "margin": null,
            "max_height": null,
            "max_width": null,
            "min_height": null,
            "min_width": null,
            "object_fit": null,
            "object_position": null,
            "order": null,
            "overflow": null,
            "overflow_x": null,
            "overflow_y": null,
            "padding": null,
            "right": null,
            "top": null,
            "visibility": null,
            "width": null
          }
        },
        "2707bea713294d83a710e20a4d7945e7": {
          "model_module": "@jupyter-widgets/controls",
          "model_name": "ProgressStyleModel",
          "model_module_version": "1.5.0",
          "state": {
            "_model_module": "@jupyter-widgets/controls",
            "_model_module_version": "1.5.0",
            "_model_name": "ProgressStyleModel",
            "_view_count": null,
            "_view_module": "@jupyter-widgets/base",
            "_view_module_version": "1.2.0",
            "_view_name": "StyleView",
            "bar_color": null,
            "description_width": ""
          }
        },
        "18f7203e28e948fe834ca7687921168a": {
          "model_module": "@jupyter-widgets/base",
          "model_name": "LayoutModel",
          "model_module_version": "1.2.0",
          "state": {
            "_model_module": "@jupyter-widgets/base",
            "_model_module_version": "1.2.0",
            "_model_name": "LayoutModel",
            "_view_count": null,
            "_view_module": "@jupyter-widgets/base",
            "_view_module_version": "1.2.0",
            "_view_name": "LayoutView",
            "align_content": null,
            "align_items": null,
            "align_self": null,
            "border": null,
            "bottom": null,
            "display": null,
            "flex": null,
            "flex_flow": null,
            "grid_area": null,
            "grid_auto_columns": null,
            "grid_auto_flow": null,
            "grid_auto_rows": null,
            "grid_column": null,
            "grid_gap": null,
            "grid_row": null,
            "grid_template_areas": null,
            "grid_template_columns": null,
            "grid_template_rows": null,
            "height": null,
            "justify_content": null,
            "justify_items": null,
            "left": null,
            "margin": null,
            "max_height": null,
            "max_width": null,
            "min_height": null,
            "min_width": null,
            "object_fit": null,
            "object_position": null,
            "order": null,
            "overflow": null,
            "overflow_x": null,
            "overflow_y": null,
            "padding": null,
            "right": null,
            "top": null,
            "visibility": null,
            "width": null
          }
        },
        "60bff7638e714c1daca04ec576beaa3a": {
          "model_module": "@jupyter-widgets/controls",
          "model_name": "DescriptionStyleModel",
          "model_module_version": "1.5.0",
          "state": {
            "_model_module": "@jupyter-widgets/controls",
            "_model_module_version": "1.5.0",
            "_model_name": "DescriptionStyleModel",
            "_view_count": null,
            "_view_module": "@jupyter-widgets/base",
            "_view_module_version": "1.2.0",
            "_view_name": "StyleView",
            "description_width": ""
          }
        },
        "d62585076394414e82cf4e81fc62408c": {
          "model_module": "@jupyter-widgets/controls",
          "model_name": "HBoxModel",
          "model_module_version": "1.5.0",
          "state": {
            "_dom_classes": [],
            "_model_module": "@jupyter-widgets/controls",
            "_model_module_version": "1.5.0",
            "_model_name": "HBoxModel",
            "_view_count": null,
            "_view_module": "@jupyter-widgets/controls",
            "_view_module_version": "1.5.0",
            "_view_name": "HBoxView",
            "box_style": "",
            "children": [
              "IPY_MODEL_a28e76174bfe4245a67997ccf7e4874d",
              "IPY_MODEL_852199d34a7a40aca4971f162da39096",
              "IPY_MODEL_fc8af880d0694ae4b72b64a262eeb585"
            ],
            "layout": "IPY_MODEL_449be3dcf2a4439290ec7f5aea056a4f"
          }
        },
        "a28e76174bfe4245a67997ccf7e4874d": {
          "model_module": "@jupyter-widgets/controls",
          "model_name": "HTMLModel",
          "model_module_version": "1.5.0",
          "state": {
            "_dom_classes": [],
            "_model_module": "@jupyter-widgets/controls",
            "_model_module_version": "1.5.0",
            "_model_name": "HTMLModel",
            "_view_count": null,
            "_view_module": "@jupyter-widgets/controls",
            "_view_module_version": "1.5.0",
            "_view_name": "HTMLView",
            "description": "",
            "description_tooltip": null,
            "layout": "IPY_MODEL_75dc6cb0a959477aa535b9d6082f0db2",
            "placeholder": "​",
            "style": "IPY_MODEL_5188b6b77573449d868a9492ca1f131b",
            "value": "Downloading (…)okenizer_config.json: 100%"
          }
        },
        "852199d34a7a40aca4971f162da39096": {
          "model_module": "@jupyter-widgets/controls",
          "model_name": "FloatProgressModel",
          "model_module_version": "1.5.0",
          "state": {
            "_dom_classes": [],
            "_model_module": "@jupyter-widgets/controls",
            "_model_module_version": "1.5.0",
            "_model_name": "FloatProgressModel",
            "_view_count": null,
            "_view_module": "@jupyter-widgets/controls",
            "_view_module_version": "1.5.0",
            "_view_name": "ProgressView",
            "bar_style": "success",
            "description": "",
            "description_tooltip": null,
            "layout": "IPY_MODEL_ce183783bd96402ea429df2e4df194ba",
            "max": 29,
            "min": 0,
            "orientation": "horizontal",
            "style": "IPY_MODEL_b2ab865147854a90ab47b21894a61643",
            "value": 29
          }
        },
        "fc8af880d0694ae4b72b64a262eeb585": {
          "model_module": "@jupyter-widgets/controls",
          "model_name": "HTMLModel",
          "model_module_version": "1.5.0",
          "state": {
            "_dom_classes": [],
            "_model_module": "@jupyter-widgets/controls",
            "_model_module_version": "1.5.0",
            "_model_name": "HTMLModel",
            "_view_count": null,
            "_view_module": "@jupyter-widgets/controls",
            "_view_module_version": "1.5.0",
            "_view_name": "HTMLView",
            "description": "",
            "description_tooltip": null,
            "layout": "IPY_MODEL_ccc1e4a512ef49b5a45fdc24997b4cf0",
            "placeholder": "​",
            "style": "IPY_MODEL_443e54faa2094e22a33f4a67f9540e9a",
            "value": " 29.0/29.0 [00:00&lt;00:00, 309B/s]"
          }
        },
        "449be3dcf2a4439290ec7f5aea056a4f": {
          "model_module": "@jupyter-widgets/base",
          "model_name": "LayoutModel",
          "model_module_version": "1.2.0",
          "state": {
            "_model_module": "@jupyter-widgets/base",
            "_model_module_version": "1.2.0",
            "_model_name": "LayoutModel",
            "_view_count": null,
            "_view_module": "@jupyter-widgets/base",
            "_view_module_version": "1.2.0",
            "_view_name": "LayoutView",
            "align_content": null,
            "align_items": null,
            "align_self": null,
            "border": null,
            "bottom": null,
            "display": null,
            "flex": null,
            "flex_flow": null,
            "grid_area": null,
            "grid_auto_columns": null,
            "grid_auto_flow": null,
            "grid_auto_rows": null,
            "grid_column": null,
            "grid_gap": null,
            "grid_row": null,
            "grid_template_areas": null,
            "grid_template_columns": null,
            "grid_template_rows": null,
            "height": null,
            "justify_content": null,
            "justify_items": null,
            "left": null,
            "margin": null,
            "max_height": null,
            "max_width": null,
            "min_height": null,
            "min_width": null,
            "object_fit": null,
            "object_position": null,
            "order": null,
            "overflow": null,
            "overflow_x": null,
            "overflow_y": null,
            "padding": null,
            "right": null,
            "top": null,
            "visibility": null,
            "width": null
          }
        },
        "75dc6cb0a959477aa535b9d6082f0db2": {
          "model_module": "@jupyter-widgets/base",
          "model_name": "LayoutModel",
          "model_module_version": "1.2.0",
          "state": {
            "_model_module": "@jupyter-widgets/base",
            "_model_module_version": "1.2.0",
            "_model_name": "LayoutModel",
            "_view_count": null,
            "_view_module": "@jupyter-widgets/base",
            "_view_module_version": "1.2.0",
            "_view_name": "LayoutView",
            "align_content": null,
            "align_items": null,
            "align_self": null,
            "border": null,
            "bottom": null,
            "display": null,
            "flex": null,
            "flex_flow": null,
            "grid_area": null,
            "grid_auto_columns": null,
            "grid_auto_flow": null,
            "grid_auto_rows": null,
            "grid_column": null,
            "grid_gap": null,
            "grid_row": null,
            "grid_template_areas": null,
            "grid_template_columns": null,
            "grid_template_rows": null,
            "height": null,
            "justify_content": null,
            "justify_items": null,
            "left": null,
            "margin": null,
            "max_height": null,
            "max_width": null,
            "min_height": null,
            "min_width": null,
            "object_fit": null,
            "object_position": null,
            "order": null,
            "overflow": null,
            "overflow_x": null,
            "overflow_y": null,
            "padding": null,
            "right": null,
            "top": null,
            "visibility": null,
            "width": null
          }
        },
        "5188b6b77573449d868a9492ca1f131b": {
          "model_module": "@jupyter-widgets/controls",
          "model_name": "DescriptionStyleModel",
          "model_module_version": "1.5.0",
          "state": {
            "_model_module": "@jupyter-widgets/controls",
            "_model_module_version": "1.5.0",
            "_model_name": "DescriptionStyleModel",
            "_view_count": null,
            "_view_module": "@jupyter-widgets/base",
            "_view_module_version": "1.2.0",
            "_view_name": "StyleView",
            "description_width": ""
          }
        },
        "ce183783bd96402ea429df2e4df194ba": {
          "model_module": "@jupyter-widgets/base",
          "model_name": "LayoutModel",
          "model_module_version": "1.2.0",
          "state": {
            "_model_module": "@jupyter-widgets/base",
            "_model_module_version": "1.2.0",
            "_model_name": "LayoutModel",
            "_view_count": null,
            "_view_module": "@jupyter-widgets/base",
            "_view_module_version": "1.2.0",
            "_view_name": "LayoutView",
            "align_content": null,
            "align_items": null,
            "align_self": null,
            "border": null,
            "bottom": null,
            "display": null,
            "flex": null,
            "flex_flow": null,
            "grid_area": null,
            "grid_auto_columns": null,
            "grid_auto_flow": null,
            "grid_auto_rows": null,
            "grid_column": null,
            "grid_gap": null,
            "grid_row": null,
            "grid_template_areas": null,
            "grid_template_columns": null,
            "grid_template_rows": null,
            "height": null,
            "justify_content": null,
            "justify_items": null,
            "left": null,
            "margin": null,
            "max_height": null,
            "max_width": null,
            "min_height": null,
            "min_width": null,
            "object_fit": null,
            "object_position": null,
            "order": null,
            "overflow": null,
            "overflow_x": null,
            "overflow_y": null,
            "padding": null,
            "right": null,
            "top": null,
            "visibility": null,
            "width": null
          }
        },
        "b2ab865147854a90ab47b21894a61643": {
          "model_module": "@jupyter-widgets/controls",
          "model_name": "ProgressStyleModel",
          "model_module_version": "1.5.0",
          "state": {
            "_model_module": "@jupyter-widgets/controls",
            "_model_module_version": "1.5.0",
            "_model_name": "ProgressStyleModel",
            "_view_count": null,
            "_view_module": "@jupyter-widgets/base",
            "_view_module_version": "1.2.0",
            "_view_name": "StyleView",
            "bar_color": null,
            "description_width": ""
          }
        },
        "ccc1e4a512ef49b5a45fdc24997b4cf0": {
          "model_module": "@jupyter-widgets/base",
          "model_name": "LayoutModel",
          "model_module_version": "1.2.0",
          "state": {
            "_model_module": "@jupyter-widgets/base",
            "_model_module_version": "1.2.0",
            "_model_name": "LayoutModel",
            "_view_count": null,
            "_view_module": "@jupyter-widgets/base",
            "_view_module_version": "1.2.0",
            "_view_name": "LayoutView",
            "align_content": null,
            "align_items": null,
            "align_self": null,
            "border": null,
            "bottom": null,
            "display": null,
            "flex": null,
            "flex_flow": null,
            "grid_area": null,
            "grid_auto_columns": null,
            "grid_auto_flow": null,
            "grid_auto_rows": null,
            "grid_column": null,
            "grid_gap": null,
            "grid_row": null,
            "grid_template_areas": null,
            "grid_template_columns": null,
            "grid_template_rows": null,
            "height": null,
            "justify_content": null,
            "justify_items": null,
            "left": null,
            "margin": null,
            "max_height": null,
            "max_width": null,
            "min_height": null,
            "min_width": null,
            "object_fit": null,
            "object_position": null,
            "order": null,
            "overflow": null,
            "overflow_x": null,
            "overflow_y": null,
            "padding": null,
            "right": null,
            "top": null,
            "visibility": null,
            "width": null
          }
        },
        "443e54faa2094e22a33f4a67f9540e9a": {
          "model_module": "@jupyter-widgets/controls",
          "model_name": "DescriptionStyleModel",
          "model_module_version": "1.5.0",
          "state": {
            "_model_module": "@jupyter-widgets/controls",
            "_model_module_version": "1.5.0",
            "_model_name": "DescriptionStyleModel",
            "_view_count": null,
            "_view_module": "@jupyter-widgets/base",
            "_view_module_version": "1.2.0",
            "_view_name": "StyleView",
            "description_width": ""
          }
        },
        "6e35d5f5ae3e4acfafee4873e09aa56b": {
          "model_module": "@jupyter-widgets/controls",
          "model_name": "HBoxModel",
          "model_module_version": "1.5.0",
          "state": {
            "_dom_classes": [],
            "_model_module": "@jupyter-widgets/controls",
            "_model_module_version": "1.5.0",
            "_model_name": "HBoxModel",
            "_view_count": null,
            "_view_module": "@jupyter-widgets/controls",
            "_view_module_version": "1.5.0",
            "_view_name": "HBoxView",
            "box_style": "",
            "children": [
              "IPY_MODEL_0bf28d0f06de4b0ea6ecd2ddf2e6a8af",
              "IPY_MODEL_18c77a2e97e849838f2a976e43dad93f",
              "IPY_MODEL_984dcf119c494765b5d64a8aeeb9253f"
            ],
            "layout": "IPY_MODEL_fc19b97310f541a9addd8a6f893b2027"
          }
        },
        "0bf28d0f06de4b0ea6ecd2ddf2e6a8af": {
          "model_module": "@jupyter-widgets/controls",
          "model_name": "HTMLModel",
          "model_module_version": "1.5.0",
          "state": {
            "_dom_classes": [],
            "_model_module": "@jupyter-widgets/controls",
            "_model_module_version": "1.5.0",
            "_model_name": "HTMLModel",
            "_view_count": null,
            "_view_module": "@jupyter-widgets/controls",
            "_view_module_version": "1.5.0",
            "_view_name": "HTMLView",
            "description": "",
            "description_tooltip": null,
            "layout": "IPY_MODEL_4dd2a5ddaaac492687279029d4a1d8b8",
            "placeholder": "​",
            "style": "IPY_MODEL_dac62c0d2d024484b346e651dfa58d65",
            "value": "Downloading (…)lve/main/config.json: 100%"
          }
        },
        "18c77a2e97e849838f2a976e43dad93f": {
          "model_module": "@jupyter-widgets/controls",
          "model_name": "FloatProgressModel",
          "model_module_version": "1.5.0",
          "state": {
            "_dom_classes": [],
            "_model_module": "@jupyter-widgets/controls",
            "_model_module_version": "1.5.0",
            "_model_name": "FloatProgressModel",
            "_view_count": null,
            "_view_module": "@jupyter-widgets/controls",
            "_view_module_version": "1.5.0",
            "_view_name": "ProgressView",
            "bar_style": "success",
            "description": "",
            "description_tooltip": null,
            "layout": "IPY_MODEL_5e26520c0a314c949d14106897bcd7ee",
            "max": 570,
            "min": 0,
            "orientation": "horizontal",
            "style": "IPY_MODEL_da4168a2fcef4e83b17b1d596934d458",
            "value": 570
          }
        },
        "984dcf119c494765b5d64a8aeeb9253f": {
          "model_module": "@jupyter-widgets/controls",
          "model_name": "HTMLModel",
          "model_module_version": "1.5.0",
          "state": {
            "_dom_classes": [],
            "_model_module": "@jupyter-widgets/controls",
            "_model_module_version": "1.5.0",
            "_model_name": "HTMLModel",
            "_view_count": null,
            "_view_module": "@jupyter-widgets/controls",
            "_view_module_version": "1.5.0",
            "_view_name": "HTMLView",
            "description": "",
            "description_tooltip": null,
            "layout": "IPY_MODEL_d1ed949a739845db95a2f29ef6a6a634",
            "placeholder": "​",
            "style": "IPY_MODEL_340a2d77a2364227a637f5bddc010592",
            "value": " 570/570 [00:00&lt;00:00, 13.4kB/s]"
          }
        },
        "fc19b97310f541a9addd8a6f893b2027": {
          "model_module": "@jupyter-widgets/base",
          "model_name": "LayoutModel",
          "model_module_version": "1.2.0",
          "state": {
            "_model_module": "@jupyter-widgets/base",
            "_model_module_version": "1.2.0",
            "_model_name": "LayoutModel",
            "_view_count": null,
            "_view_module": "@jupyter-widgets/base",
            "_view_module_version": "1.2.0",
            "_view_name": "LayoutView",
            "align_content": null,
            "align_items": null,
            "align_self": null,
            "border": null,
            "bottom": null,
            "display": null,
            "flex": null,
            "flex_flow": null,
            "grid_area": null,
            "grid_auto_columns": null,
            "grid_auto_flow": null,
            "grid_auto_rows": null,
            "grid_column": null,
            "grid_gap": null,
            "grid_row": null,
            "grid_template_areas": null,
            "grid_template_columns": null,
            "grid_template_rows": null,
            "height": null,
            "justify_content": null,
            "justify_items": null,
            "left": null,
            "margin": null,
            "max_height": null,
            "max_width": null,
            "min_height": null,
            "min_width": null,
            "object_fit": null,
            "object_position": null,
            "order": null,
            "overflow": null,
            "overflow_x": null,
            "overflow_y": null,
            "padding": null,
            "right": null,
            "top": null,
            "visibility": null,
            "width": null
          }
        },
        "4dd2a5ddaaac492687279029d4a1d8b8": {
          "model_module": "@jupyter-widgets/base",
          "model_name": "LayoutModel",
          "model_module_version": "1.2.0",
          "state": {
            "_model_module": "@jupyter-widgets/base",
            "_model_module_version": "1.2.0",
            "_model_name": "LayoutModel",
            "_view_count": null,
            "_view_module": "@jupyter-widgets/base",
            "_view_module_version": "1.2.0",
            "_view_name": "LayoutView",
            "align_content": null,
            "align_items": null,
            "align_self": null,
            "border": null,
            "bottom": null,
            "display": null,
            "flex": null,
            "flex_flow": null,
            "grid_area": null,
            "grid_auto_columns": null,
            "grid_auto_flow": null,
            "grid_auto_rows": null,
            "grid_column": null,
            "grid_gap": null,
            "grid_row": null,
            "grid_template_areas": null,
            "grid_template_columns": null,
            "grid_template_rows": null,
            "height": null,
            "justify_content": null,
            "justify_items": null,
            "left": null,
            "margin": null,
            "max_height": null,
            "max_width": null,
            "min_height": null,
            "min_width": null,
            "object_fit": null,
            "object_position": null,
            "order": null,
            "overflow": null,
            "overflow_x": null,
            "overflow_y": null,
            "padding": null,
            "right": null,
            "top": null,
            "visibility": null,
            "width": null
          }
        },
        "dac62c0d2d024484b346e651dfa58d65": {
          "model_module": "@jupyter-widgets/controls",
          "model_name": "DescriptionStyleModel",
          "model_module_version": "1.5.0",
          "state": {
            "_model_module": "@jupyter-widgets/controls",
            "_model_module_version": "1.5.0",
            "_model_name": "DescriptionStyleModel",
            "_view_count": null,
            "_view_module": "@jupyter-widgets/base",
            "_view_module_version": "1.2.0",
            "_view_name": "StyleView",
            "description_width": ""
          }
        },
        "5e26520c0a314c949d14106897bcd7ee": {
          "model_module": "@jupyter-widgets/base",
          "model_name": "LayoutModel",
          "model_module_version": "1.2.0",
          "state": {
            "_model_module": "@jupyter-widgets/base",
            "_model_module_version": "1.2.0",
            "_model_name": "LayoutModel",
            "_view_count": null,
            "_view_module": "@jupyter-widgets/base",
            "_view_module_version": "1.2.0",
            "_view_name": "LayoutView",
            "align_content": null,
            "align_items": null,
            "align_self": null,
            "border": null,
            "bottom": null,
            "display": null,
            "flex": null,
            "flex_flow": null,
            "grid_area": null,
            "grid_auto_columns": null,
            "grid_auto_flow": null,
            "grid_auto_rows": null,
            "grid_column": null,
            "grid_gap": null,
            "grid_row": null,
            "grid_template_areas": null,
            "grid_template_columns": null,
            "grid_template_rows": null,
            "height": null,
            "justify_content": null,
            "justify_items": null,
            "left": null,
            "margin": null,
            "max_height": null,
            "max_width": null,
            "min_height": null,
            "min_width": null,
            "object_fit": null,
            "object_position": null,
            "order": null,
            "overflow": null,
            "overflow_x": null,
            "overflow_y": null,
            "padding": null,
            "right": null,
            "top": null,
            "visibility": null,
            "width": null
          }
        },
        "da4168a2fcef4e83b17b1d596934d458": {
          "model_module": "@jupyter-widgets/controls",
          "model_name": "ProgressStyleModel",
          "model_module_version": "1.5.0",
          "state": {
            "_model_module": "@jupyter-widgets/controls",
            "_model_module_version": "1.5.0",
            "_model_name": "ProgressStyleModel",
            "_view_count": null,
            "_view_module": "@jupyter-widgets/base",
            "_view_module_version": "1.2.0",
            "_view_name": "StyleView",
            "bar_color": null,
            "description_width": ""
          }
        },
        "d1ed949a739845db95a2f29ef6a6a634": {
          "model_module": "@jupyter-widgets/base",
          "model_name": "LayoutModel",
          "model_module_version": "1.2.0",
          "state": {
            "_model_module": "@jupyter-widgets/base",
            "_model_module_version": "1.2.0",
            "_model_name": "LayoutModel",
            "_view_count": null,
            "_view_module": "@jupyter-widgets/base",
            "_view_module_version": "1.2.0",
            "_view_name": "LayoutView",
            "align_content": null,
            "align_items": null,
            "align_self": null,
            "border": null,
            "bottom": null,
            "display": null,
            "flex": null,
            "flex_flow": null,
            "grid_area": null,
            "grid_auto_columns": null,
            "grid_auto_flow": null,
            "grid_auto_rows": null,
            "grid_column": null,
            "grid_gap": null,
            "grid_row": null,
            "grid_template_areas": null,
            "grid_template_columns": null,
            "grid_template_rows": null,
            "height": null,
            "justify_content": null,
            "justify_items": null,
            "left": null,
            "margin": null,
            "max_height": null,
            "max_width": null,
            "min_height": null,
            "min_width": null,
            "object_fit": null,
            "object_position": null,
            "order": null,
            "overflow": null,
            "overflow_x": null,
            "overflow_y": null,
            "padding": null,
            "right": null,
            "top": null,
            "visibility": null,
            "width": null
          }
        },
        "340a2d77a2364227a637f5bddc010592": {
          "model_module": "@jupyter-widgets/controls",
          "model_name": "DescriptionStyleModel",
          "model_module_version": "1.5.0",
          "state": {
            "_model_module": "@jupyter-widgets/controls",
            "_model_module_version": "1.5.0",
            "_model_name": "DescriptionStyleModel",
            "_view_count": null,
            "_view_module": "@jupyter-widgets/base",
            "_view_module_version": "1.2.0",
            "_view_name": "StyleView",
            "description_width": ""
          }
        },
        "0fef379b3e834b33b1c46fa932ab7fca": {
          "model_module": "@jupyter-widgets/controls",
          "model_name": "HBoxModel",
          "model_module_version": "1.5.0",
          "state": {
            "_dom_classes": [],
            "_model_module": "@jupyter-widgets/controls",
            "_model_module_version": "1.5.0",
            "_model_name": "HBoxModel",
            "_view_count": null,
            "_view_module": "@jupyter-widgets/controls",
            "_view_module_version": "1.5.0",
            "_view_name": "HBoxView",
            "box_style": "",
            "children": [
              "IPY_MODEL_0d2f74f679e54d169fa761f0e91ee113",
              "IPY_MODEL_31ec67596dc44118b689a250f120fe3d",
              "IPY_MODEL_705985759e8542f7bb986f518071b99d"
            ],
            "layout": "IPY_MODEL_c9407f19c83f4553888a2ff04f2753e4"
          }
        },
        "0d2f74f679e54d169fa761f0e91ee113": {
          "model_module": "@jupyter-widgets/controls",
          "model_name": "HTMLModel",
          "model_module_version": "1.5.0",
          "state": {
            "_dom_classes": [],
            "_model_module": "@jupyter-widgets/controls",
            "_model_module_version": "1.5.0",
            "_model_name": "HTMLModel",
            "_view_count": null,
            "_view_module": "@jupyter-widgets/controls",
            "_view_module_version": "1.5.0",
            "_view_name": "HTMLView",
            "description": "",
            "description_tooltip": null,
            "layout": "IPY_MODEL_8a51f844a04f4e8d80c2a937895d6e84",
            "placeholder": "​",
            "style": "IPY_MODEL_70380be853cc4cb2ade2ace148af3fa6",
            "value": "Downloading (…)&quot;tf_model.h5&quot;;: 100%"
          }
        },
        "31ec67596dc44118b689a250f120fe3d": {
          "model_module": "@jupyter-widgets/controls",
          "model_name": "FloatProgressModel",
          "model_module_version": "1.5.0",
          "state": {
            "_dom_classes": [],
            "_model_module": "@jupyter-widgets/controls",
            "_model_module_version": "1.5.0",
            "_model_name": "FloatProgressModel",
            "_view_count": null,
            "_view_module": "@jupyter-widgets/controls",
            "_view_module_version": "1.5.0",
            "_view_name": "ProgressView",
            "bar_style": "success",
            "description": "",
            "description_tooltip": null,
            "layout": "IPY_MODEL_eb059085e5d44471bdcabf5f818dc465",
            "max": 526681800,
            "min": 0,
            "orientation": "horizontal",
            "style": "IPY_MODEL_3680e8f0ee584c98886d13b3ac8143de",
            "value": 526681800
          }
        },
        "705985759e8542f7bb986f518071b99d": {
          "model_module": "@jupyter-widgets/controls",
          "model_name": "HTMLModel",
          "model_module_version": "1.5.0",
          "state": {
            "_dom_classes": [],
            "_model_module": "@jupyter-widgets/controls",
            "_model_module_version": "1.5.0",
            "_model_name": "HTMLModel",
            "_view_count": null,
            "_view_module": "@jupyter-widgets/controls",
            "_view_module_version": "1.5.0",
            "_view_name": "HTMLView",
            "description": "",
            "description_tooltip": null,
            "layout": "IPY_MODEL_9eec4e0409434403b7349b33954d7358",
            "placeholder": "​",
            "style": "IPY_MODEL_0e6cf61eba494facabf6c53846730d7c",
            "value": " 527M/527M [00:05&lt;00:00, 104MB/s]"
          }
        },
        "c9407f19c83f4553888a2ff04f2753e4": {
          "model_module": "@jupyter-widgets/base",
          "model_name": "LayoutModel",
          "model_module_version": "1.2.0",
          "state": {
            "_model_module": "@jupyter-widgets/base",
            "_model_module_version": "1.2.0",
            "_model_name": "LayoutModel",
            "_view_count": null,
            "_view_module": "@jupyter-widgets/base",
            "_view_module_version": "1.2.0",
            "_view_name": "LayoutView",
            "align_content": null,
            "align_items": null,
            "align_self": null,
            "border": null,
            "bottom": null,
            "display": null,
            "flex": null,
            "flex_flow": null,
            "grid_area": null,
            "grid_auto_columns": null,
            "grid_auto_flow": null,
            "grid_auto_rows": null,
            "grid_column": null,
            "grid_gap": null,
            "grid_row": null,
            "grid_template_areas": null,
            "grid_template_columns": null,
            "grid_template_rows": null,
            "height": null,
            "justify_content": null,
            "justify_items": null,
            "left": null,
            "margin": null,
            "max_height": null,
            "max_width": null,
            "min_height": null,
            "min_width": null,
            "object_fit": null,
            "object_position": null,
            "order": null,
            "overflow": null,
            "overflow_x": null,
            "overflow_y": null,
            "padding": null,
            "right": null,
            "top": null,
            "visibility": null,
            "width": null
          }
        },
        "8a51f844a04f4e8d80c2a937895d6e84": {
          "model_module": "@jupyter-widgets/base",
          "model_name": "LayoutModel",
          "model_module_version": "1.2.0",
          "state": {
            "_model_module": "@jupyter-widgets/base",
            "_model_module_version": "1.2.0",
            "_model_name": "LayoutModel",
            "_view_count": null,
            "_view_module": "@jupyter-widgets/base",
            "_view_module_version": "1.2.0",
            "_view_name": "LayoutView",
            "align_content": null,
            "align_items": null,
            "align_self": null,
            "border": null,
            "bottom": null,
            "display": null,
            "flex": null,
            "flex_flow": null,
            "grid_area": null,
            "grid_auto_columns": null,
            "grid_auto_flow": null,
            "grid_auto_rows": null,
            "grid_column": null,
            "grid_gap": null,
            "grid_row": null,
            "grid_template_areas": null,
            "grid_template_columns": null,
            "grid_template_rows": null,
            "height": null,
            "justify_content": null,
            "justify_items": null,
            "left": null,
            "margin": null,
            "max_height": null,
            "max_width": null,
            "min_height": null,
            "min_width": null,
            "object_fit": null,
            "object_position": null,
            "order": null,
            "overflow": null,
            "overflow_x": null,
            "overflow_y": null,
            "padding": null,
            "right": null,
            "top": null,
            "visibility": null,
            "width": null
          }
        },
        "70380be853cc4cb2ade2ace148af3fa6": {
          "model_module": "@jupyter-widgets/controls",
          "model_name": "DescriptionStyleModel",
          "model_module_version": "1.5.0",
          "state": {
            "_model_module": "@jupyter-widgets/controls",
            "_model_module_version": "1.5.0",
            "_model_name": "DescriptionStyleModel",
            "_view_count": null,
            "_view_module": "@jupyter-widgets/base",
            "_view_module_version": "1.2.0",
            "_view_name": "StyleView",
            "description_width": ""
          }
        },
        "eb059085e5d44471bdcabf5f818dc465": {
          "model_module": "@jupyter-widgets/base",
          "model_name": "LayoutModel",
          "model_module_version": "1.2.0",
          "state": {
            "_model_module": "@jupyter-widgets/base",
            "_model_module_version": "1.2.0",
            "_model_name": "LayoutModel",
            "_view_count": null,
            "_view_module": "@jupyter-widgets/base",
            "_view_module_version": "1.2.0",
            "_view_name": "LayoutView",
            "align_content": null,
            "align_items": null,
            "align_self": null,
            "border": null,
            "bottom": null,
            "display": null,
            "flex": null,
            "flex_flow": null,
            "grid_area": null,
            "grid_auto_columns": null,
            "grid_auto_flow": null,
            "grid_auto_rows": null,
            "grid_column": null,
            "grid_gap": null,
            "grid_row": null,
            "grid_template_areas": null,
            "grid_template_columns": null,
            "grid_template_rows": null,
            "height": null,
            "justify_content": null,
            "justify_items": null,
            "left": null,
            "margin": null,
            "max_height": null,
            "max_width": null,
            "min_height": null,
            "min_width": null,
            "object_fit": null,
            "object_position": null,
            "order": null,
            "overflow": null,
            "overflow_x": null,
            "overflow_y": null,
            "padding": null,
            "right": null,
            "top": null,
            "visibility": null,
            "width": null
          }
        },
        "3680e8f0ee584c98886d13b3ac8143de": {
          "model_module": "@jupyter-widgets/controls",
          "model_name": "ProgressStyleModel",
          "model_module_version": "1.5.0",
          "state": {
            "_model_module": "@jupyter-widgets/controls",
            "_model_module_version": "1.5.0",
            "_model_name": "ProgressStyleModel",
            "_view_count": null,
            "_view_module": "@jupyter-widgets/base",
            "_view_module_version": "1.2.0",
            "_view_name": "StyleView",
            "bar_color": null,
            "description_width": ""
          }
        },
        "9eec4e0409434403b7349b33954d7358": {
          "model_module": "@jupyter-widgets/base",
          "model_name": "LayoutModel",
          "model_module_version": "1.2.0",
          "state": {
            "_model_module": "@jupyter-widgets/base",
            "_model_module_version": "1.2.0",
            "_model_name": "LayoutModel",
            "_view_count": null,
            "_view_module": "@jupyter-widgets/base",
            "_view_module_version": "1.2.0",
            "_view_name": "LayoutView",
            "align_content": null,
            "align_items": null,
            "align_self": null,
            "border": null,
            "bottom": null,
            "display": null,
            "flex": null,
            "flex_flow": null,
            "grid_area": null,
            "grid_auto_columns": null,
            "grid_auto_flow": null,
            "grid_auto_rows": null,
            "grid_column": null,
            "grid_gap": null,
            "grid_row": null,
            "grid_template_areas": null,
            "grid_template_columns": null,
            "grid_template_rows": null,
            "height": null,
            "justify_content": null,
            "justify_items": null,
            "left": null,
            "margin": null,
            "max_height": null,
            "max_width": null,
            "min_height": null,
            "min_width": null,
            "object_fit": null,
            "object_position": null,
            "order": null,
            "overflow": null,
            "overflow_x": null,
            "overflow_y": null,
            "padding": null,
            "right": null,
            "top": null,
            "visibility": null,
            "width": null
          }
        },
        "0e6cf61eba494facabf6c53846730d7c": {
          "model_module": "@jupyter-widgets/controls",
          "model_name": "DescriptionStyleModel",
          "model_module_version": "1.5.0",
          "state": {
            "_model_module": "@jupyter-widgets/controls",
            "_model_module_version": "1.5.0",
            "_model_name": "DescriptionStyleModel",
            "_view_count": null,
            "_view_module": "@jupyter-widgets/base",
            "_view_module_version": "1.2.0",
            "_view_name": "StyleView",
            "description_width": ""
          }
        }
      }
    }
  },
  "nbformat": 4,
  "nbformat_minor": 0
}