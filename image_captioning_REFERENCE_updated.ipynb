{
  "cells": [
    {
      "cell_type": "markdown",
      "metadata": {
        "id": "view-in-github",
        "colab_type": "text"
      },
      "source": [
        "<a href=\"https://colab.research.google.com/github/heesukjang/W266_NLP_With_DeepLearning/blob/main/image_captioning_REFERENCE_updated.ipynb\" target=\"_parent\"><img src=\"https://colab.research.google.com/assets/colab-badge.svg\" alt=\"Open In Colab\"/></a>"
      ]
    },
    {
      "cell_type": "markdown",
      "id": "24a93076",
      "metadata": {
        "id": "24a93076"
      },
      "source": [
        "# Assignment 4: Image Captioning\n",
        "\n",
        "This assignment is somewhat short.  We want you to spend your time on the project instead!\n",
        "\n",
        "This assignment explores models connecting different modalities - exploring a connection between images and text.  By the time you're done with this assignment, you'll have:\n",
        "\n",
        "* explored MS COCO captioning dataset\n",
        "* investigated a few captioning techniques\n",
        "* worked with CLIP embeddings for images and captions\n",
        "\n",
        "### Setup\n",
        "\n",
        "* run ```sudo apt install unzip``` to install the unzip executable that is required for this assignment.\n",
        "\n",
        "### Data\n",
        "\n",
        "* Download the 2014 validation images, as well as their annotations from https://cocodataset.org/#download.  On your GCP instance, a command like ```curl http://images.cocodataset.org/zips/val2014.zip --output val2014.zip``` for each will do what you need. You'll also want the file named `annotations_trainval2014.zip`.\n",
        "* Unzip both files and name the corresponding directories `val2014` and `annotations` in this assignment directory.\n",
        "\n",
        "**Note:** the file you are downloading is 6GB and takes a couple of minutes to unload.  Once you unzip the files, the ```val2014``` directory contains over 40,000 files.  Please do not list all of the files in your notebook because jupyter will be unhappy with a cell with over 40,000 lines of output.\n",
        "\n"
      ]
    },
    {
      "cell_type": "code",
      "source": [
        "!sudo apt install unzip"
      ],
      "metadata": {
        "id": "VGzzhcKe5KMN",
        "outputId": "fff91df8-873b-4c3e-c67d-7fbe32da2e2b",
        "colab": {
          "base_uri": "https://localhost:8080/"
        }
      },
      "id": "VGzzhcKe5KMN",
      "execution_count": 143,
      "outputs": [
        {
          "output_type": "stream",
          "name": "stdout",
          "text": [
            "Reading package lists... Done\n",
            "Building dependency tree       \n",
            "Reading state information... Done\n",
            "unzip is already the newest version (6.0-25ubuntu1.1).\n",
            "0 upgraded, 0 newly installed, 0 to remove and 23 not upgraded.\n"
          ]
        }
      ]
    },
    {
      "cell_type": "code",
      "source": [
        "!curl http://images.cocodataset.org/zips/val2014.zip --output val2014.zip"
      ],
      "metadata": {
        "colab": {
          "base_uri": "https://localhost:8080/"
        },
        "id": "NY7Kl9fp6WPq",
        "outputId": "27b34beb-6618-423f-a03c-b9c52c6df9cc"
      },
      "id": "NY7Kl9fp6WPq",
      "execution_count": 144,
      "outputs": [
        {
          "output_type": "stream",
          "name": "stdout",
          "text": [
            "  % Total    % Received % Xferd  Average Speed   Time    Time     Time  Current\n",
            "                                 Dload  Upload   Total   Spent    Left  Speed\n",
            "100 6337M  100 6337M    0     0  53.1M      0  0:01:59  0:01:59 --:--:-- 56.0M\n"
          ]
        }
      ]
    },
    {
      "cell_type": "code",
      "source": [
        "!curl http://images.cocodataset.org/annotations/annotations_trainval2014.zip --output annotations_trainval2014.zip"
      ],
      "metadata": {
        "colab": {
          "base_uri": "https://localhost:8080/"
        },
        "id": "ia2NLl_36Xzx",
        "outputId": "ab885c0f-4dba-4d0f-9593-f596ec636f27"
      },
      "id": "ia2NLl_36Xzx",
      "execution_count": 145,
      "outputs": [
        {
          "output_type": "stream",
          "name": "stdout",
          "text": [
            "  % Total    % Received % Xferd  Average Speed   Time    Time     Time  Current\n",
            "                                 Dload  Upload   Total   Spent    Left  Speed\n",
            "100  241M  100  241M    0     0  85.5M      0  0:00:02  0:00:02 --:--:-- 85.5M\n"
          ]
        }
      ]
    },
    {
      "cell_type": "code",
      "source": [
        "!rm -rf val2014 annotations    # remove recursively and forcibly both 'val2014' and 'annotations' folders \n",
        "!mkdir val2014 annotations     # make directories (folders) of both 'val2014' and 'annotations'"
      ],
      "metadata": {
        "id": "QQ--Ysv-67Ew"
      },
      "id": "QQ--Ysv-67Ew",
      "execution_count": 146,
      "outputs": []
    },
    {
      "cell_type": "code",
      "source": [
        "!unzip val2014.zip > /dev/null      # suppress displaying output in console using \"> /dev/null \""
      ],
      "metadata": {
        "id": "AfIaUR5W66lx"
      },
      "id": "AfIaUR5W66lx",
      "execution_count": 147,
      "outputs": []
    },
    {
      "cell_type": "code",
      "source": [
        "!unzip annotations_trainval2014.zip > /dev/null"
      ],
      "metadata": {
        "id": "u86srkRC66ZZ"
      },
      "id": "u86srkRC66ZZ",
      "execution_count": 148,
      "outputs": []
    },
    {
      "cell_type": "markdown",
      "source": [
        "### Explore the dataset\n",
        "Look in the ```annotations``` directory.  Which file(s) contain the image captions?  Load those into memory here.  Your end goal is to generate a list of tuples for each of train2014 (you don't need the actual images to do this!) and val2014 i.e. ```[(391895, 'val2014/COCO_val2014_000000391895.jpg', 'A man with a red helmet on a small moped on a dirt road. '), ...]```"
      ],
      "metadata": {
        "id": "qoQY0oQAKwX1"
      },
      "id": "qoQY0oQAKwX1"
    },
    {
      "cell_type": "code",
      "source": [
        "!ls -ltr /content/annotations   "
      ],
      "metadata": {
        "colab": {
          "base_uri": "https://localhost:8080/"
        },
        "id": "jaS7VE62QUoS",
        "outputId": "eff8f057-63b0-4398-a37f-aa9232be83e2"
      },
      "id": "jaS7VE62QUoS",
      "execution_count": 149,
      "outputs": [
        {
          "output_type": "stream",
          "name": "stdout",
          "text": [
            "total 825028\n",
            "-rw-rw-r-- 1 root root 332556225 Sep  1  2017 instances_train2014.json\n",
            "-rw-rw-r-- 1 root root 160682675 Sep  1  2017 instances_val2014.json\n",
            "-rw-r--r-- 1 root root 170733465 Sep  1  2017 person_keypoints_train2014.json\n",
            "-rw-r--r-- 1 root root  81637509 Sep  1  2017 person_keypoints_val2014.json\n",
            "-rw-rw-r-- 1 root root  66782097 Sep  1  2017 captions_train2014.json\n",
            "-rw-rw-r-- 1 root root  32421077 Sep  1  2017 captions_val2014.json\n"
          ]
        }
      ]
    },
    {
      "cell_type": "code",
      "source": [
        "!ls -c -ltd -- /content/annotations/*caption*.json   # find (list) JSON files containing \"caption\" in the file names"
      ],
      "metadata": {
        "colab": {
          "base_uri": "https://localhost:8080/"
        },
        "id": "jYwWaP3QIGm4",
        "outputId": "5df83f42-5100-4075-bfec-897928a8e448"
      },
      "id": "jYwWaP3QIGm4",
      "execution_count": 150,
      "outputs": [
        {
          "output_type": "stream",
          "name": "stdout",
          "text": [
            "-rw-rw-r-- 1 root root 32421077 Mar 26 17:48 /content/annotations/captions_val2014.json\n",
            "-rw-rw-r-- 1 root root 66782097 Mar 26 17:48 /content/annotations/captions_train2014.json\n"
          ]
        }
      ]
    },
    {
      "cell_type": "code",
      "source": [
        "# import json\n",
        "# import pprint\n",
        "\n",
        "# with open('/content/annotations/captions_train2014.json') as json_file:\n",
        "#   img_caption = json.load(json_file)\n",
        "# pprint.pprint(img_caption['annotations'][0])\n",
        "\n",
        "# # check duplicate ids from images\n",
        "# dict_image = {}\n",
        "# for annt in img_caption['images'][:100]:\n",
        "#   if 'id' not in annt:\n",
        "#     continue\n",
        "#   img_id = annt['id']\n",
        "#   if img_id not in dict_image:\n",
        "#     dict_image[img_id] = []\n",
        "#   dict_image[img_id].append(annt)\n",
        "# print('len(dict_image): ',len(dict_image))\n",
        "\n",
        "# # duplicate image_ids from annotations\n",
        "# dict_caption = {}\n",
        "# for annt in img_caption['annotations'][:100]:\n",
        "#   if 'image_id' not in annt:\n",
        "#     continue\n",
        "#   img_id = annt['image_id']\n",
        "#   if img_id not in dict_caption:\n",
        "#     dict_caption[img_id] = []\n",
        "#   dict_caption[img_id].append(annt)\n",
        "# print('len(dict_caption): ',len(dict_caption))\n",
        "\n",
        "# duplicates = [annt for annt in dict_caption.keys() if len(dict_caption) > 1]\n",
        "# print(len(duplicates))\n",
        "# print(duplicates)\n",
        "# pprint.pprint(dict_caption[318556])"
      ],
      "metadata": {
        "id": "BVq_6g_rL25b"
      },
      "id": "BVq_6g_rL25b",
      "execution_count": 151,
      "outputs": []
    },
    {
      "cell_type": "code",
      "source": [
        "#   # print('caption: ', caption)\n",
        "#   # if caption['image_id'] not in dict_caption.keys():\n",
        "#   #   print(f'{caption[\"image_id\"]} not in {dict_caption.keys()}')\n",
        "#   #   dict_caption[caption['image_id']] = [caption['caption']]\n",
        "#   if (caption['image_id'] in dict_image.keys()) and (caption['image_id'] in dict_caption.keys()):\n",
        "#     print(caption['image_id'], 'yes')\n",
        "#     value = dict_caption[caption['image_id']]\n",
        "#     print('value: ', value.dtype)\n",
        "#     # value.append(caption['caption'])\n",
        "#     # dict_caption[caption['image_id']] = value\n",
        "#   # train2014.append()\n",
        "\n",
        "# # print('dict_caption:')\n",
        "# # pprint.pprint(dict_caption)\n",
        "# # print('\\nmaster value: ', value)\n",
        "\n",
        "# # print(len(dict_image))\n",
        "# # print(len(dict_caption))\n",
        "# # print(len(dict_image[479495]))\n",
        "# # print(len(dict_caption[479495]))\n",
        "\n",
        "# # print(dict_image[479495])\n",
        "# # print(dict_image[479495][1])\n",
        "# # print(dict_caption[479495])"
      ],
      "metadata": {
        "id": "EzC4XixC0kzN"
      },
      "id": "EzC4XixC0kzN",
      "execution_count": 152,
      "outputs": []
    },
    {
      "cell_type": "code",
      "source": [
        "# dict_image, dict_caption = {}, {}\n",
        "# train2014=[]\n",
        "\n",
        "# with open('/content/annotations/captions_train2014.json') as json_file:\n",
        "#   img_caption = json.load(json_file)\n",
        "\n",
        "# pprint.pprint(img_caption['annotations'][0])\n",
        "# # pprint.pprint(img_caption['annotations'][479495]['caption'])\n",
        "# pprint.pprint(img_caption['images'][0]);print()\n",
        "\n",
        "# print(img_caption['annotations'][0]['image_id'])\n",
        "# print(img_caption['images'][0]['id']);print()\n",
        "\n",
        "# for img in img_caption['images'][:2]:\n",
        "#   dict_image[img['id']] = '/'.join(img['coco_url'].split('/')[-2:])\n",
        "# print('dict_image:',dict_image)\n",
        "\n",
        "# for caption in img_caption['annotations'][:2]:\n",
        "#     dict_caption[caption['image_id']] = caption['caption']\n",
        "# print('dict_caption:',dict_caption)"
      ],
      "metadata": {
        "id": "2DaPsHmID04J"
      },
      "id": "2DaPsHmID04J",
      "execution_count": 153,
      "outputs": []
    },
    {
      "cell_type": "markdown",
      "source": [
        "## How many images do we **have captions** for in the training set?"
      ],
      "metadata": {
        "id": "Y2kfE6hu1Bbi"
      },
      "id": "Y2kfE6hu1Bbi"
    },
    {
      "cell_type": "code",
      "source": [
        "# dict_image, dict_caption = {}, {}\n",
        "# train2014=[]\n",
        "\n",
        "# with open('/content/annotations/captions_train2014.json') as json_file:\n",
        "#   img_caption = json.load(json_file)\n",
        "\n",
        "# pprint.pprint(img_caption['images'][0]);print()\n",
        "# pprint.pprint(img_caption['annotations'][0]);print()\n",
        "# # pprint.pprint(img_caption['annotations'][479495]['caption'])\n",
        "\n",
        "# print('len(img_caption[images]):',len(img_caption['images']))\n",
        "# print('len(img_caption[annotations]):',len(img_caption['annotations']));print()\n",
        "\n",
        "# # print(img_caption['annotations'][0]['image_id'])\n",
        "# # print(img_caption['images'][0]['id']);print()\n",
        "\n",
        "# for img in img_caption['images']:\n",
        "#   dict_image[img['id']] = '/'.join(img['coco_url'].split('/')[-2:])\n",
        "# print('len(dict_image):',len(dict_image))\n",
        "\n",
        "# for caption in img_caption['annotations']:\n",
        "#     dict_caption[caption['image_id']] = caption['caption']\n",
        "# print('len(dict_caption):',len(dict_caption))\n",
        "# print('==============================================================\\ndict_caption[479495]:',dict_caption[479495])\n"
      ],
      "metadata": {
        "id": "rWAsPCPb0rh6"
      },
      "id": "rWAsPCPb0rh6",
      "execution_count": 154,
      "outputs": []
    },
    {
      "cell_type": "code",
      "source": [
        "# # Extract images/id and images/coco_url create a dict with key=id and value=file name \n",
        "import json\n",
        "import pprint\n",
        "\n",
        "with open('/content/annotations/captions_train2014.json') as json_file:\n",
        "  img_caption = json.load(json_file)\n",
        "pprint.pprint(img_caption['annotations'][0])\n",
        "\n",
        "dict_image, dict_caption = {}, {}\n",
        "# print(dict_caption)\n",
        "\n",
        "for img in img_caption['images']:\n",
        "  dict_image[img['id']] = '/'.join(img['coco_url'].split('/')[-2:])\n",
        "\n",
        "# for caption in img_caption['annotations'][:5]:\n",
        "for caption in img_caption['annotations']:\n",
        "  if caption['image_id'] not in dict_caption.keys():\n",
        "    dict_caption[caption['image_id']] = [caption['caption']]    \n",
        "\n",
        "  else:                              \n",
        "    cap = dict_caption[caption['image_id']]\n",
        "    # print('cap: ', cap)\n",
        "    cap.append(caption['caption'])               # captions with duplicate image_id in annotations\n",
        "    dict_caption[caption['image_id']] = cap\n",
        "print('len(dict_caption):',len(dict_caption))\n",
        "\n",
        "data_tuples = [(key, dict_image[key], dict_caption[key]) for key in set(dict_image.keys()).intersection(dict_caption)]\n",
        "print('\\nlen(train2014): ', len(data_tuples));print()\n",
        "\n",
        "train2014 = []\n",
        "for tup in data_tuples:\n",
        "  for cap in tup[2]:\n",
        "    train2014.append((tup[0], tup[1], cap))\n",
        "# print('\\nfinal list:\\n', l)\n",
        "\n",
        "# print([(id, jpg, caption) for id, jpg, caption in train2014 if id == 318556])\n",
        "assert (318556,'train2014/COCO_train2014_000000318556.jpg', 'A blue and white bathroom with butterfly themed wall tiles.') in train2014\n",
        "assert (479495,'train2014/COCO_train2014_000000479495.jpg', 'A bicycle is parked by a bench at night.') in train2014"
      ],
      "metadata": {
        "id": "kjs-RfGXEP1J",
        "colab": {
          "base_uri": "https://localhost:8080/"
        },
        "outputId": "d5c5ab0e-bca7-403d-c218-0dd6472ae7bb"
      },
      "id": "kjs-RfGXEP1J",
      "execution_count": 228,
      "outputs": [
        {
          "output_type": "stream",
          "name": "stdout",
          "text": [
            "{'caption': 'A very clean and well decorated empty bathroom',\n",
            " 'id': 48,\n",
            " 'image_id': 318556}\n",
            "len(dict_caption): 82783\n",
            "\n",
            "len(train2014):  82783\n",
            "\n"
          ]
        }
      ]
    },
    {
      "cell_type": "code",
      "execution_count": 248,
      "id": "a3fa66ba",
      "metadata": {
        "id": "a3fa66ba"
      },
      "outputs": [],
      "source": [
        "### YOUR CODE HERE\n",
        "import json\n",
        "import string\n",
        "\n",
        "def create_list_of_tuples(data):\n",
        "  dict_image, dict_caption = {}, {}\n",
        "\n",
        "  # Open JSON files stored in my Google Drive\n",
        "  with open('/content/annotations/captions_' + data + '2014.json') as json_file:\n",
        "    img_caption = json.load(json_file)\n",
        "\n",
        "  # # Extract images/id and images/coco_url create a dict with key=id and value=file name \n",
        "  for img in img_caption['images']:\n",
        "    dict_image[img['id']] = '/'.join(img['coco_url'].split('/')[-2:])\n",
        "\n",
        "  for caption in img_caption['annotations']:\n",
        "    if caption['image_id'] not in dict_caption.keys():\n",
        "      dict_caption[caption['image_id']] = [caption['caption']]    \n",
        "    else:                              \n",
        "      cap = dict_caption[caption['image_id']]\n",
        "      cap.append(caption['caption'])               # captions with duplicate image_id in annotations\n",
        "      dict_caption[caption['image_id']] = cap\n",
        "\n",
        "  # Generate a list of tuples: [image_id, img JPG, caption]  \n",
        "  data_tuples = [(key, dict_image[key], dict_caption[key]) for key in set(dict_image.keys()).intersection(dict_caption)]\n",
        "\n",
        "  # Generate a list of tuples considering image_id with multiple captions\n",
        "  data2014 = []\n",
        "  for tup in data_tuples:\n",
        "    for cap in tup[2]:\n",
        "      data2014.append((tup[0], tup[1], cap))\n",
        "\n",
        "  # Uncover a number of captions per image in data\n",
        "  captions =[]\n",
        "  for caption in img_caption['annotations']:\n",
        "    captions.extend(caption['caption'].split()) \n",
        "    # captions.extend(caption['caption'].lower().split())                                                          # unique vocabs disregarding letter case\n",
        "    # captions.extend(caption['caption'].lower().translate(str.maketrans('', '', string.punctuation)).split())     # unique vocabs disregarding letter case and punctuation\n",
        "\n",
        "  return data2014, data_tuples, captions, img_caption\n",
        "\n",
        "train2014, train2014_unique_image_id_with_caption, captions_train, json_train = create_list_of_tuples('train')\n",
        "val2014, val2014_unique_image_id_with_caption, captions_val, json_val = create_list_of_tuples('val')\n",
        "### END YOUR CODE"
      ]
    },
    {
      "cell_type": "markdown",
      "source": [
        "## Sanity Check "
      ],
      "metadata": {
        "id": "nN5sUBsodb4R"
      },
      "id": "nN5sUBsodb4R"
    },
    {
      "cell_type": "code",
      "source": [
        "print([(id, jpg, caption) for id, jpg, caption in train2014 if id == 479495])\n",
        "print([(id, jpg, caption) for id, jpg, caption in val2014 if id == 203564])"
      ],
      "metadata": {
        "colab": {
          "base_uri": "https://localhost:8080/"
        },
        "id": "jnYhjwkBZhyn",
        "outputId": "e2636022-b529-4de0-d351-76aa3bf14703"
      },
      "id": "jnYhjwkBZhyn",
      "execution_count": 249,
      "outputs": [
        {
          "output_type": "stream",
          "name": "stdout",
          "text": [
            "[(479495, 'train2014/COCO_train2014_000000479495.jpg', 'A bicycle is parked by a bench at night.'), (479495, 'train2014/COCO_train2014_000000479495.jpg', 'A bike on the platform of a public transportation stop at night.'), (479495, 'train2014/COCO_train2014_000000479495.jpg', 'A bicycle leans on a bench at a subway stop.'), (479495, 'train2014/COCO_train2014_000000479495.jpg', 'A bicycle parked next to a bench in a train station.'), (479495, 'train2014/COCO_train2014_000000479495.jpg', 'A bike and a bench on the side of a street.')]\n",
            "[(203564, 'val2014/COCO_val2014_000000203564.jpg', 'A bicycle replica with a clock as the front wheel.'), (203564, 'val2014/COCO_val2014_000000203564.jpg', 'The bike has a clock as a tire.'), (203564, 'val2014/COCO_val2014_000000203564.jpg', 'A black metal bicycle with a clock inside the front wheel.'), (203564, 'val2014/COCO_val2014_000000203564.jpg', 'A bicycle figurine in which the front wheel is replaced with a clock\\n'), (203564, 'val2014/COCO_val2014_000000203564.jpg', 'A clock with the appearance of the wheel of a bicycle ')]\n"
          ]
        }
      ]
    },
    {
      "cell_type": "code",
      "source": [
        "assert (479495,'train2014/COCO_train2014_000000479495.jpg', 'A bicycle is parked by a bench at night.') in train2014\n",
        "assert (203564, 'val2014/COCO_val2014_000000203564.jpg', 'A black metal bicycle with a clock inside the front wheel.') in val2014"
      ],
      "metadata": {
        "id": "le5GUp-yT-Yl"
      },
      "id": "le5GUp-yT-Yl",
      "execution_count": 253,
      "outputs": []
    },
    {
      "cell_type": "code",
      "source": [
        "print(f'Total num of images in the raw_train2014 = {len(json_train[\"images\"])}\\nTotal num of images in the raw_train2014 = {len(json_val[\"images\"])}\\n')\n",
        "print(f'Total num of annotations in the raw_val2014 = {len(json_train[\"annotations\"])}\\nTotal num of annotations in the raw_val2014 = {len(json_val[\"annotations\"])}\\n')\n",
        "print(f'Total num of images in the train2014 = {len(train2014)}\\nTotal num of images in the val2014 = {len(val2014)}\\n')\n",
        "print(f'Total num of distinct images with captions in the train2014 = {len(train2014_unique_image_id_with_caption)}\\nTotal num of distinct images with captions in the val2014 = {len(val2014_unique_image_id_with_caption)}\\n')\n",
        "print(f'Number of distinct words in the raw_train2014 = {len(set(captions_train))}\\nNumber of distinct words in the raw_val2014 = {len(set(captions_val))}')"
      ],
      "metadata": {
        "colab": {
          "base_uri": "https://localhost:8080/"
        },
        "id": "rc2acGJMcKQF",
        "outputId": "4b558923-2742-4d3b-ee5f-a06975f5ef8d"
      },
      "id": "rc2acGJMcKQF",
      "execution_count": 252,
      "outputs": [
        {
          "output_type": "stream",
          "name": "stdout",
          "text": [
            "Total num of images in the raw_train2014 = 82783\n",
            "Total num of images in the raw_train2014 = 40504\n",
            "\n",
            "Total num of annotations in the raw_val2014 = 414113\n",
            "Total num of annotations in the raw_val2014 = 202654\n",
            "\n",
            "Total num of images in the train2014 = 414113\n",
            "Total num of images in the val2014 = 202654\n",
            "\n",
            "Total num of distinct images with captions in the train2014 = 82783\n",
            "Total num of distinct images with captions in the val2014 = 40504\n",
            "\n",
            "Number of distinct words in the raw_train2014 = 44535\n",
            "Number of distinct words in the raw_val2014 = 31749\n"
          ]
        }
      ]
    },
    {
      "cell_type": "code",
      "source": [
        "train2014[:2]"
      ],
      "metadata": {
        "id": "kCs1sOJBBurQ",
        "outputId": "d22f5d41-dfd5-42ef-89f8-d9f42c341c1b",
        "colab": {
          "base_uri": "https://localhost:8080/"
        }
      },
      "id": "kCs1sOJBBurQ",
      "execution_count": 16,
      "outputs": [
        {
          "output_type": "execute_result",
          "data": {
            "text/plain": [
              "[(262145,\n",
              "  'train2014/COCO_train2014_000000262145.jpg',\n",
              "  'People shop for vegetables like carrots and potatoes at an open air market.'),\n",
              " (262146,\n",
              "  'train2014/COCO_train2014_000000262146.jpg',\n",
              "  'A skier is shown taking on a very steep slope.')]"
            ]
          },
          "metadata": {},
          "execution_count": 16
        }
      ]
    },
    {
      "cell_type": "code",
      "source": [
        "train2014[0][2]"
      ],
      "metadata": {
        "id": "w5PW5WTD-8Hj",
        "outputId": "4379c80c-b76c-4b37-894c-b0d01344d22b",
        "colab": {
          "base_uri": "https://localhost:8080/",
          "height": 35
        }
      },
      "id": "w5PW5WTD-8Hj",
      "execution_count": 17,
      "outputs": [
        {
          "output_type": "execute_result",
          "data": {
            "text/plain": [
              "'People shop for vegetables like carrots and potatoes at an open air market.'"
            ],
            "application/vnd.google.colaboratory.intrinsic+json": {
              "type": "string"
            }
          },
          "metadata": {},
          "execution_count": 17
        }
      ]
    },
    {
      "cell_type": "code",
      "source": [
        "train2014[0][2].split()"
      ],
      "metadata": {
        "id": "YTfAQ8_n7Uye",
        "outputId": "5cd61a71-e5b9-4637-84b8-19f3518e5c43",
        "colab": {
          "base_uri": "https://localhost:8080/"
        }
      },
      "id": "YTfAQ8_n7Uye",
      "execution_count": 18,
      "outputs": [
        {
          "output_type": "execute_result",
          "data": {
            "text/plain": [
              "['People',\n",
              " 'shop',\n",
              " 'for',\n",
              " 'vegetables',\n",
              " 'like',\n",
              " 'carrots',\n",
              " 'and',\n",
              " 'potatoes',\n",
              " 'at',\n",
              " 'an',\n",
              " 'open',\n",
              " 'air',\n",
              " 'market.']"
            ]
          },
          "metadata": {},
          "execution_count": 18
        }
      ]
    },
    {
      "cell_type": "code",
      "execution_count": 245,
      "id": "cdd2859f",
      "metadata": {
        "colab": {
          "base_uri": "https://localhost:8080/"
        },
        "id": "cdd2859f",
        "outputId": "cfa7fc6c-ee9e-4c0b-ccf4-db980aee965a"
      },
      "outputs": [
        {
          "output_type": "stream",
          "name": "stdout",
          "text": [
            "Q1. Number of images in the training set with captions = 82783\n",
            "Q2. Number of captions per image in the training set = 5\n",
            "Q3. Number of distinct words in the training set = 44535\n"
          ]
        }
      ],
      "source": [
        "# Cell if you want to write code to answer the questions below.\n",
        "# stemming/lemmatization ?\n",
        "\n",
        "### YOUR CODE HERE\n",
        "print(f'Q1. Number of images in the training set with captions = {len(train2014_unique_image_id_with_caption)}')\n",
        "print(f'Q2. Number of captions per image in the training set = {int(len(json_train[\"annotations\"])/len(json_train[\"images\"]))}')\n",
        "print(f'Q3. Number of distinct words in the training set = {len(set(captions_train))}')\n",
        "### END YOUR CODE "
      ]
    },
    {
      "cell_type": "markdown",
      "id": "eaa297ca",
      "metadata": {
        "id": "eaa297ca"
      },
      "source": [
        "### Questions (Part A)\n",
        "\n",
        "1. How many images do we have captions for in the training set? **82783**\n",
        "2. How many captions do we have per image (rounded to nearest integer) in the training set? **5**\n",
        "3. If you just split the training captions on whitespace and do nothing else, how many words are in the vocabulary? **44535**\n",
        "\n",
        "Given your answer to 3, think about what you might need to do with that few examples and that large of a vocabulary?  (Use pretrained embeddings from a massive semi-supervised dataset, keeping only the top-k tokens, smarter tokenization, ...).  You don't need to write your answer anywhere, but given how often these problems arise in NLP, you should be feeling more confident at this point in the course how to handle these situations!"
      ]
    },
    {
      "cell_type": "markdown",
      "source": [
        "**Stemming/Lemmatization, remove stopwords and punctuations, beam search (select top-k tokens), part of speech tagging**"
      ],
      "metadata": {
        "id": "tJJxrhXrv_49"
      },
      "id": "tJJxrhXrv_49"
    },
    {
      "cell_type": "markdown",
      "id": "2506b44f",
      "metadata": {
        "id": "2506b44f"
      },
      "source": [
        "## Let's look at some of the examples!"
      ]
    },
    {
      "cell_type": "code",
      "execution_count": 21,
      "id": "559854ac",
      "metadata": {
        "colab": {
          "base_uri": "https://localhost:8080/",
          "height": 1000
        },
        "id": "559854ac",
        "outputId": "a9d361d6-bebc-45b6-c261-303472f3ad58"
      },
      "outputs": [
        {
          "output_type": "display_data",
          "data": {
            "text/plain": [
              "<Figure size 720x1440 with 10 Axes>"
            ],
            "image/png": "[encoded data removed]"
          },
          "metadata": {
            "needs_background": "light"
          }
        }
      ],
      "source": [
        "import matplotlib.pyplot as plt\n",
        "from tensorflow.keras.utils import load_img, img_to_array\n",
        "import random\n",
        "\n",
        "samples = 5\n",
        "n = 1\n",
        "fig = plt.figure(figsize=(10,20))\n",
        "for i in range(samples):\n",
        "    image_caption = val2014[random.randint(0, len(val2014))]\n",
        "    image_load = load_img(image_caption[1])\n",
        "    \n",
        "    ax = fig.add_subplot(samples,2,n,xticks=[],yticks=[])\n",
        "    ax.imshow(image_load)\n",
        "    n += 1\n",
        "    \n",
        "    ax = fig.add_subplot(samples,2,n)\n",
        "    plt.axis('off')\n",
        "    ax.plot()\n",
        "    ax.set_xlim(0, 1)\n",
        "    ax.set_ylim(0, 1)\n",
        "    ax.text(0, 0, image_caption[2], fontsize=20)\n",
        "    n += 1\n",
        "plt.show()"
      ]
    },
    {
      "cell_type": "markdown",
      "id": "ed9357cc",
      "metadata": {
        "id": "ed9357cc"
      },
      "source": [
        "# Foundational image captioning papers\n",
        "\n",
        "## Show & Tell\n",
        "\n",
        "[Show and Tell: A Neural Image Caption Generator](https://arxiv.org/pdf/1411.4555.pdf) was the first step towards neural image captioning.  Fundamentally it is an encoder-decoder scheme similar to what we've seen in class.  Concretely, it uses the CNN structure of an (at the time) state of the art image classification CNN as the encoder and it uses an LSTM as a decoder.  As in the generation models in class, it continues to generate text until a special \"stop\" token is emitted.  After **reading** the paper, answer the following questions:\n",
        "\n",
        "### Questions (Part B)\n",
        "\n",
        "1.  What parts of the CNN were trained?<br>\n",
        "<font color=green>**The kernels (filters) and weights of the CNN component of the system to a pre-trained model were trained as an input to the RNN decoder that generates sentences.**</font><br>\n",
        "2.  What was the biggest concern when deciding how to train the model?<br>\n",
        "<font color=green>**The biggest concern was to deal with overfitting.** To avoid the issue, a number of techniques have been explored. For example, the weights of the CNN component of the system to a pre-trained model (i.e. on ImageNet) were initialized using stochastic gradient descent with fixed learning rate and no momentum. Also the dropout, ensemble models, as well as different neural network frameworks adjusting number of hidden layers and units have been explored.</font><br>\n",
        "3.  How was the encoded image representation input into the decoder?<br> \n",
        "<font color=green>**The image *I* is only the input once, at t = -1, to inform the LSTM about the image contents to the decoder LSTM** - The image representation output from the last hidden state of the CNN (encoder)is given to the first time step of the decoder (LSTM). Starting with *x1* as a \\<START\\> vector, we compute the distribution over the fist word *y1*. We sample a word from the distribution (select the argmax), set its embedding vetor as *x2* and repeat this process until the \\<END\\>token is generated. During training, the correct input is given to the decoder at every time step and optimize the sum of the log probabilities of image input *(I)* and correct transcription *(S)* as a training pair *(S, I)* using stochastic gradient descent.</font><br>\n",
        "4.  Given we are \"translating\" from an image to a caption (without a length constraint), which evaluation metric did the authors determine was reasonable for a top line metric? <font color=green>**BLEU score**</font><br>\n",
        "5.  What beam width is equivalent to one where you select the highest probability word in each decoding step? <font color=green>**1**</font>\n",
        "\n",
        "\n",
        "## Deep Visual Alignment\n",
        "\n",
        "[Deep Visual-Semantic Alignments for Generating Image Descriptions](https://cs.stanford.edu/people/karpathy/cvpr2015.pdf) is a fun read for which we will ask no questions.  Its critical insights are around understanding an image as a composition of regions, and building upon that understanding to construct both a caption for the whole image, but labels for its consistuent parts.\n",
        "\n",
        "## Show, Attend & Tell\n",
        "\n",
        "[Show, Attend & Tell](https://arxiv.org/pdf/1502.03044.pdf) applies the same \"provide the decoder more context, as directly as possible\" trick we've seen over the course: adding attention.  After **skimming** the paper, answer the following questions:\n",
        "\n",
        "### Questions (Part C)\n",
        "\n",
        "1. What is the attention over? <font color=green>**A salient parts (features) of an image, which is represented as a single embedded vector** - A CNN (encoder) is used to extract feature vectors (annotation vectors) from the image, which is a representation corresponding to a salient part of an image. Then an Attention mechanism in LSTM (decoder) is applied to selectively focus on more important parts of an image by\n",
        "selecting a subset of all the feature vectors for generating caption(s) corresponding to the image.</font><br>\n",
        "2. What do the figures with highlight shading represent in Figures 2, 3 and 5?\n",
        "<font color=green>**The attended region (salient part of an image) that corresponds to a word**</font>\n",
        "\n",
        "# Exploring a MS COCO captioner\n",
        "\n",
        "There are many examples of image captioners ML engineers have built on the MS COCO dataset you explored. [This one](https://replicate.com/rmokady/clip_prefix_caption) uses a (more) modern large language model as its decoder, GPT-2.  \n",
        "\n",
        "* **Explore** the samples and play with using beam search and not.  What do you notice?\n",
        "\n",
        "This is an example from the Show & Tell paper of a low-quality caption (see figure 5).  The GPT-2 model proposes \"the car that person drove to the hospital.\" vs. \"A yellow school bus parked in a parking lot\" from the original paper. ![Misclassified](https://github.com/heesukjang/W266_NLP_With_DeepLearning/blob/main/littlecar.png?raw=1) "
      ]
    },
    {
      "cell_type": "markdown",
      "id": "6b29df24",
      "metadata": {
        "id": "6b29df24"
      },
      "source": [
        "# CLIP Embeddings and Image Classification\n",
        "\n",
        "The [CLIP paper](https://arxiv.org/pdf/2103.00020.pdf)  describes a system that emits encodings that represent both images and text captions. The system learns to match a picture with its caption so the encoding for the image and the encoding for an associated caption should have a very high cosine similarity.  Systems like DALL-E use CLIP embeddings to generate images based on a text description by using the text encoding to get the image encoding and then processing the image encoding to generate the final image.  We're going to use CLIP in the opposite direction.  Namely we're going to use CLIP embeddings to classify images, that is to score a set of captions for an image based on the image's content.\n",
        "\n",
        "We can use the HuggingFace implementation of **CLIP** to experiment with this **multimodal capability**. "
      ]
    },
    {
      "cell_type": "code",
      "execution_count": 22,
      "id": "5f53b290",
      "metadata": {
        "id": "5f53b290",
        "outputId": "a323bc31-fd27-4e9d-9627-5e2404267361",
        "colab": {
          "base_uri": "https://localhost:8080/"
        }
      },
      "outputs": [
        {
          "output_type": "stream",
          "name": "stdout",
          "text": [
            "\u001b[2K     \u001b[90m━━━━━━━━━━━━━━━━━━━━━━━━━━━━━━━━━━━━━━━━\u001b[0m \u001b[32m6.8/6.8 MB\u001b[0m \u001b[31m34.9 MB/s\u001b[0m eta \u001b[36m0:00:00\u001b[0m\n",
            "\u001b[2K     \u001b[90m━━━━━━━━━━━━━━━━━━━━━━━━━━━━━━━━━━━━━━\u001b[0m \u001b[32m199.8/199.8 KB\u001b[0m \u001b[31m13.9 MB/s\u001b[0m eta \u001b[36m0:00:00\u001b[0m\n",
            "\u001b[2K     \u001b[90m━━━━━━━━━━━━━━━━━━━━━━━━━━━━━━━━━━━━━━━━\u001b[0m \u001b[32m7.6/7.6 MB\u001b[0m \u001b[31m64.4 MB/s\u001b[0m eta \u001b[36m0:00:00\u001b[0m\n",
            "\u001b[?25h"
          ]
        }
      ],
      "source": [
        "!pip install -q transformers"
      ]
    },
    {
      "cell_type": "code",
      "execution_count": 23,
      "id": "ff214401",
      "metadata": {
        "id": "ff214401"
      },
      "outputs": [],
      "source": [
        "import tensorflow as tf\n",
        "from PIL import Image\n",
        "import requests\n",
        "from transformers import CLIPProcessor, TFCLIPModel"
      ]
    },
    {
      "cell_type": "code",
      "execution_count": 24,
      "id": "0390b9bb",
      "metadata": {
        "id": "0390b9bb",
        "outputId": "94f0ad4e-1ad5-4f79-db22-0f553b7145fd",
        "colab": {
          "base_uri": "https://localhost:8080/",
          "height": 364,
          "referenced_widgets": [
            "1db2cca31bee42d39fbb5454b55a8e31",
            "6b04b1f22a4b4f48a3d19596e576ce0a",
            "f6c0e3ddfbfb42c693bc4df6c23a6e4c",
            "830b6a059af94770b70b8b65654a5215",
            "f3c709cbeb194c6d8b5283b158e16faa",
            "b90f67fcf9384398a90d3f5c48eb171e",
            "5874f668aa17429baa7bf9c40c81f674",
            "35c3997ca8ec4c2a88712352f680e113",
            "9ab37cbee64c46f6ac5919e5ed2341da",
            "68377c1fd8ed4bd4bd1e5cb294eb3e23",
            "3bc9ed4eebb244609da649f10de328b9",
            "4b8e5b7097a24c44b45eeb9007c0681e",
            "886cde7d7951418ea02b7e36d8fedfc5",
            "d1c7efddb25d4737a0e5f5f2e3f05ee3",
            "94ffe866675c43018cd43e3072e57abf",
            "11f8aae236364b8a94ed6d8cb35098e5",
            "599c66950644495f8dc4ed69150461e9",
            "df90208ce0614c5caea9b26ebfd2fde1",
            "72c6cf9605f242d399964417033f3505",
            "0a38c1974051403f8ed3c9a90f243a20",
            "5a263b98d77f41bea8aabb46653ba418",
            "d043b341823b4333b539ffba6145f5b4",
            "efd2ba7dce574ae8aef051e82a6651d7",
            "1b998c9d30654237a0b4dd11ee4490fc",
            "f47f18a5a9ee4ef7aaf448fc39018311",
            "017bc82d4e6f49a7be601f9d8a59edcb",
            "1d7c918552dd4d25a46b5e12a634cdd3",
            "ec4cf10e1ee64e708470c92c7b53b6aa",
            "7164ff398e1f4f4490f66d9664b4eb35",
            "b8748d1faca9478580d3e4e968032e8e",
            "a87107bb92f44dad952816fa52494f01",
            "fc9b9dbd104245c8bea84e01eed7a967",
            "4d2fdc2568234ba992b914178328ec7b",
            "d0c181b7022748089b7cf50f4b015542",
            "03815147483142e083a046b0bb32e6e3",
            "a673aabbc01c469ea54c2055c2427345",
            "489630f478c64d08889f493ca870d01c",
            "a625a3647a1145beaa47d192dfcf5347",
            "60cf4a26525b4aca9ab3975415734789",
            "3705259318c44fd2b94b026ac75d8563",
            "6949334b1336481aa46e62c928628ca7",
            "b6705e0af27546c2b3cd011f7d558179",
            "4da2d4abb93e45fcb25d09173bb554e6",
            "acc8596540344c7f98e3ddaa1012edb2",
            "9e3995d9ca30466083e1a5a1ef295270",
            "e1e1f875f423496da3f41fb2a39dc3d4",
            "dea913810552434fb03f9d35a1e0f196",
            "2eba5abd83d440fbbfd9a1bb67b30055",
            "f3e0f23a102849d6ad7c924bbcfaf85f",
            "b29253de2bf14f32a935ce96c323ddf3",
            "db80445305604e1cb92a383e19fe1ee0",
            "0d41e5d638904e5696d4772dad23a5c8",
            "a86ee1f32ad1423083a79850e45e61f7",
            "3f097e27885c46b6943b492c4bc7f5fd",
            "ad7b937e6c164a09a28d52865043d626",
            "c4311fd19b4c4af39eb093ff0c8c76ea",
            "ad7ed6695e8249e3a1e6842cda423d96",
            "9023434aa3034c44a9adf6e2ba49db17",
            "ba1797af521c4ef883b9a29b35a7b26d",
            "f6a219bc0e20409f8d2d3bf586bea781",
            "4631db08aa8441a8af7bc7fbef9a9649",
            "c5d32a2968344c23964645417dc312ac",
            "9bb7a3ec5323453c9a74b43a0784de23",
            "2e5666c316944c789d477350b79e3b9d",
            "4778f4362a374f04a27d09936a0044ee",
            "c51c98e43d3d4d28a0cf00a87a62fa27",
            "398c2dbe2ec046edab96d9001cfbb85e",
            "e12bd392e5024491a8b9cc3eb367e396",
            "82b0670f8f0e4b28adfe9af1cb7affed",
            "d3d89c3c990c48ccb44c7095f49782fd",
            "447b8603a8884ba5854c5c4fde8a95a6",
            "64afa7daec174fd687b64277b464f54a",
            "ce593f6b39d34358b16c7e497953612e",
            "48bdd5f8583f43fda77c5ad3945ff1ea",
            "1dfc6067cdb0470b965406d03947c906",
            "39e52b0a8d364d84a9cd9bd7e2d5752b",
            "0b5df368183d4b138bb4879799086720",
            "272911b1b5054563875a0f57ddbd1783",
            "5cc1d90b028b4fc08e86aa39747666ec",
            "aff3be7df0984e27b96783b99b32e80a",
            "0e9b602f5c794089be6e445196ae8ea3",
            "e211b85ca8424db09c395703deb37569",
            "0b3cffc1e3ab4907b15dadf25fe48b3b",
            "e687836c8d564ea4b8c8d64077b4daab",
            "92becf450c5a4171baa9b588d51a0309",
            "0cbf46466f50411db565e9fbff0e34ef",
            "0e9cfd63213549b482caaf0f4243308a",
            "a660aa52897740d4beb0fc08403a1469"
          ]
        }
      },
      "outputs": [
        {
          "output_type": "display_data",
          "data": {
            "text/plain": [
              "Downloading (…)lve/main/config.json:   0%|          | 0.00/4.19k [00:00<?, ?B/s]"
            ],
            "application/vnd.jupyter.widget-view+json": {
              "version_major": 2,
              "version_minor": 0,
              "model_id": "1db2cca31bee42d39fbb5454b55a8e31"
            }
          },
          "metadata": {}
        },
        {
          "output_type": "display_data",
          "data": {
            "text/plain": [
              "Downloading tf_model.h5:   0%|          | 0.00/606M [00:00<?, ?B/s]"
            ],
            "application/vnd.jupyter.widget-view+json": {
              "version_major": 2,
              "version_minor": 0,
              "model_id": "4b8e5b7097a24c44b45eeb9007c0681e"
            }
          },
          "metadata": {}
        },
        {
          "output_type": "stream",
          "name": "stderr",
          "text": [
            "All model checkpoint layers were used when initializing TFCLIPModel.\n",
            "\n",
            "All the layers of TFCLIPModel were initialized from the model checkpoint at openai/clip-vit-base-patch32.\n",
            "If your task is similar to the task the model of the checkpoint was trained on, you can already use TFCLIPModel for predictions without further training.\n"
          ]
        },
        {
          "output_type": "display_data",
          "data": {
            "text/plain": [
              "Downloading (…)rocessor_config.json:   0%|          | 0.00/316 [00:00<?, ?B/s]"
            ],
            "application/vnd.jupyter.widget-view+json": {
              "version_major": 2,
              "version_minor": 0,
              "model_id": "efd2ba7dce574ae8aef051e82a6651d7"
            }
          },
          "metadata": {}
        },
        {
          "output_type": "display_data",
          "data": {
            "text/plain": [
              "Downloading (…)okenizer_config.json:   0%|          | 0.00/568 [00:00<?, ?B/s]"
            ],
            "application/vnd.jupyter.widget-view+json": {
              "version_major": 2,
              "version_minor": 0,
              "model_id": "d0c181b7022748089b7cf50f4b015542"
            }
          },
          "metadata": {}
        },
        {
          "output_type": "display_data",
          "data": {
            "text/plain": [
              "Downloading (…)olve/main/vocab.json:   0%|          | 0.00/862k [00:00<?, ?B/s]"
            ],
            "application/vnd.jupyter.widget-view+json": {
              "version_major": 2,
              "version_minor": 0,
              "model_id": "9e3995d9ca30466083e1a5a1ef295270"
            }
          },
          "metadata": {}
        },
        {
          "output_type": "display_data",
          "data": {
            "text/plain": [
              "Downloading (…)olve/main/merges.txt:   0%|          | 0.00/525k [00:00<?, ?B/s]"
            ],
            "application/vnd.jupyter.widget-view+json": {
              "version_major": 2,
              "version_minor": 0,
              "model_id": "c4311fd19b4c4af39eb093ff0c8c76ea"
            }
          },
          "metadata": {}
        },
        {
          "output_type": "display_data",
          "data": {
            "text/plain": [
              "Downloading (…)/main/tokenizer.json:   0%|          | 0.00/2.22M [00:00<?, ?B/s]"
            ],
            "application/vnd.jupyter.widget-view+json": {
              "version_major": 2,
              "version_minor": 0,
              "model_id": "398c2dbe2ec046edab96d9001cfbb85e"
            }
          },
          "metadata": {}
        },
        {
          "output_type": "display_data",
          "data": {
            "text/plain": [
              "Downloading (…)cial_tokens_map.json:   0%|          | 0.00/389 [00:00<?, ?B/s]"
            ],
            "application/vnd.jupyter.widget-view+json": {
              "version_major": 2,
              "version_minor": 0,
              "model_id": "272911b1b5054563875a0f57ddbd1783"
            }
          },
          "metadata": {}
        }
      ],
      "source": [
        "model = TFCLIPModel.from_pretrained(\"openai/clip-vit-base-patch32\")\n",
        "processor = CLIPProcessor.from_pretrained(\"openai/clip-vit-base-patch32\")"
      ]
    },
    {
      "cell_type": "markdown",
      "id": "a29807e0",
      "metadata": {
        "id": "a29807e0"
      },
      "source": [
        "Now let's begin our experiment.  We're going select two images that contain both zebras and cars.  They may contain other things as well.  We're also going to generate a set of captions that we will score.  Specifically, we'll pass the output for the captions through a softmax to give us a probability distribution over the four captions."
      ]
    },
    {
      "cell_type": "code",
      "execution_count": 25,
      "id": "4872c37f",
      "metadata": {
        "id": "4872c37f",
        "outputId": "d350b9ef-ad1b-4c9d-d6e3-469b1be528b4",
        "colab": {
          "base_uri": "https://localhost:8080/"
        }
      },
      "outputs": [
        {
          "output_type": "stream",
          "name": "stdout",
          "text": [
            "\n",
            "https://farm1.staticflickr.com/9/15631288_605abb3096_z.jpg\n",
            "                         a photo of cars - 0.0020\n",
            "                    a photo of a giraffe - 0.0864\n",
            "            a photo of zebras in a field - 0.0219\n",
            "         a photo of some zebras and cars - 0.8898\n",
            "\n",
            "https://farm4.staticflickr.com/3057/3033996041_11293469b7_z.jpg\n",
            "                         a photo of cars - 0.0000\n",
            "                    a photo of a giraffe - 0.0000\n",
            "            a photo of zebras in a field - 0.9740\n",
            "         a photo of some zebras and cars - 0.0259\n"
          ]
        }
      ],
      "source": [
        "# Example tags: animal = zebra, transport = car\n",
        "\n",
        "urls = [\"https://farm1.staticflickr.com/9/15631288_605abb3096_z.jpg\", #zebras foreground, cars background\n",
        "        \"https://farm4.staticflickr.com/3057/3033996041_11293469b7_z.jpg\"]  #zebra foreground, tiny car background\n",
        "captions = [\"a photo of cars\",\n",
        "            \"a photo of a giraffe\",\n",
        "            \"a photo of zebras in a field\",\n",
        "            \"a photo of some zebras and cars\"]\n",
        "\n",
        "for url in urls:\n",
        "    image = Image.open(requests.get(url, stream=True).raw)\n",
        "\n",
        "    inputs = processor(\n",
        "        text=captions, images=image, return_tensors=\"tf\", padding=True\n",
        "    )\n",
        "\n",
        "    outputs = model(**inputs)\n",
        "    logits_per_image = outputs.logits_per_image  # this is the image-text similarity score\n",
        "    probs = tf.nn.softmax(logits_per_image, axis=1)  # we can take the softmax to get the label probabilities\n",
        "    \n",
        "    print()\n",
        "    print(url)\n",
        "    for i, caption in enumerate(captions):\n",
        "        print('%40s - %.4f' % (caption, probs[0, i]))"
      ]
    },
    {
      "cell_type": "markdown",
      "id": "3c92df88",
      "metadata": {
        "id": "3c92df88"
      },
      "source": [
        "**The CLIP embeddings allow us to associate captions with images.**  Specifically, we can build a classifier that assigns probabilities to each of the captions.  We want **the highest probability to go to the most descriptive caption** out of the four captions for the given image.  Notice here that even though both images contain zebras, one of them features a line of clearly visible cars.  The other image only has one small car off in the distance.  Note that the first image with the cars scores high for the caption of ```a photo of some zebras and cars``` because the zebras and cars are very visible.  The second image scores highest for ```a photo of zebras in a field``` but the small car is less noticed but scores above a zero."
      ]
    },
    {
      "cell_type": "code",
      "execution_count": 26,
      "id": "b6782f6e",
      "metadata": {
        "id": "b6782f6e",
        "outputId": "b723e330-3a1d-416a-fa5f-07d79840f964",
        "colab": {
          "base_uri": "https://localhost:8080/"
        }
      },
      "outputs": [
        {
          "output_type": "stream",
          "name": "stdout",
          "text": [
            "\n",
            "http://farm1.staticflickr.com/8/10896131_6a184b48cb_z.jpg\n",
            "                        a photo of a dog - 0.0002\n",
            "        a photo of some dogs in a basket - 0.0454\n",
            "                       a photo of a bike - 0.0008\n",
            "        a photo of some dogs with a bike - 0.9536\n",
            "\n",
            "http://farm4.staticflickr.com/3082/2797293301_dd26fd613f_z.jpg\n",
            "                        a photo of a dog - 0.0007\n",
            "        a photo of some dogs in a basket - 0.0001\n",
            "                       a photo of a bike - 0.9527\n",
            "        a photo of some dogs with a bike - 0.0465\n"
          ]
        }
      ],
      "source": [
        "# Example tags: two dogs in bike, human bike tiny dog\n",
        "\n",
        "urls = [\"http://farm1.staticflickr.com/8/10896131_6a184b48cb_z.jpg\",  #2 dogs in bike basket\n",
        "        \"http://farm4.staticflickr.com/3082/2797293301_dd26fd613f_z.jpg\"] #human and bike with tiny dog\n",
        "captions = [\"a photo of a dog\",\n",
        "            \"a photo of some dogs in a basket\",\n",
        "            \"a photo of a bike\",\n",
        "            \"a photo of some dogs with a bike\"]\n",
        "\n",
        "for url in urls:\n",
        "    image = Image.open(requests.get(url, stream=True).raw)\n",
        "\n",
        "    inputs = processor(\n",
        "        text=captions, images=image, return_tensors=\"tf\", padding=True\n",
        "    )\n",
        "\n",
        "    outputs = model(**inputs)\n",
        "    logits_per_image = outputs.logits_per_image  # this is the image-text similarity score\n",
        "    probs = tf.nn.softmax(logits_per_image, axis=1)  # we can take the softmax to get the label probabilities\n",
        "    \n",
        "    print()\n",
        "    print(url)\n",
        "    for i, caption in enumerate(captions):\n",
        "        print('%40s - %.4f' % (caption, probs[0, i]))"
      ]
    },
    {
      "cell_type": "markdown",
      "id": "1382c2e1",
      "metadata": {
        "id": "1382c2e1"
      },
      "source": [
        "Again, these two images both contain bicycles and dogs.  The first image is two dogs in a basket on the front of a bike.  While the bike is visible, the two dogs are the focus of the image.  The second image features a person with their bike.  The bike happens to contain a small dog.  We would expect the embeddings to reflect the different emphases of the photos and indeed they do."
      ]
    },
    {
      "cell_type": "code",
      "execution_count": 27,
      "id": "f68063f8",
      "metadata": {
        "id": "f68063f8",
        "outputId": "33d63b28-f8f4-4ce5-d293-4b950abed5c0",
        "colab": {
          "base_uri": "https://localhost:8080/"
        }
      },
      "outputs": [
        {
          "output_type": "stream",
          "name": "stdout",
          "text": [
            "\n",
            "http://farm1.staticflickr.com/124/405495389_d4316b1224_z.jpg\n",
            "                        a photo of a dog - 0.9986\n",
            "                  a photo of a motorbike - 0.0003\n",
            "                      a photo of a plane - 0.0011\n",
            "                   a photo of some bikes - 0.0000\n",
            "\n",
            "http://farm8.staticflickr.com/7194/6991675037_3c298541c0_z.jpg\n",
            "                        a photo of a dog - 0.0013\n",
            "                  a photo of a motorbike - 0.8968\n",
            "                      a photo of a plane - 0.0000\n",
            "                   a photo of some bikes - 0.1018\n"
          ]
        }
      ],
      "source": [
        "# Example tags: animal = dog, transport = bike\n",
        "\n",
        "urls = [\"http://farm1.staticflickr.com/124/405495389_d4316b1224_z.jpg\",   #dog foreground and tiny bikes background\n",
        "        \"http://farm8.staticflickr.com/7194/6991675037_3c298541c0_z.jpg\"] #motorbike foreground, many bikes and tiny dog background\n",
        "captions = [\"a photo of a dog\",\n",
        "            \"a photo of a motorbike\",\n",
        "            \"a photo of a plane\",\n",
        "            \"a photo of some bikes\"]\n",
        "\n",
        "for url in urls:\n",
        "    image = Image.open(requests.get(url, stream=True).raw)\n",
        "\n",
        "    inputs = processor(\n",
        "        text=captions, images=image, return_tensors=\"tf\", padding=True\n",
        "    )\n",
        "\n",
        "    outputs = model(**inputs)\n",
        "    logits_per_image = outputs.logits_per_image  # this is the image-text similarity score\n",
        "    probs = tf.nn.softmax(logits_per_image, axis=1)  # we can take the softmax to get the label probabilities\n",
        "    \n",
        "    print()\n",
        "    print(url)\n",
        "    for i, caption in enumerate(captions):\n",
        "        print('%40s - %.4f' % (caption, probs[0, i]))"
      ]
    },
    {
      "cell_type": "markdown",
      "id": "430f2a77",
      "metadata": {
        "id": "430f2a77"
      },
      "source": [
        "For the third example, the first image includes a dog in the foreground and a number of small bikes in the distant background.  You can look at the annotations associated with the image to see where these objects are located. The second image includes a motorbike/motorcycle in the the foreground but a number of bikes and a tiny dog in the background.  Again we're hand crafting these captions to include the items in the image but we want the score for the caption to reflect what's in the foreground of the image.  "
      ]
    },
    {
      "cell_type": "markdown",
      "id": "8ab2392f",
      "metadata": {
        "id": "8ab2392f"
      },
      "source": [
        "Now it is your turn.  You will essentially replicate the examples above but you will do it with images **you** select.  First you need to select *two* images for processing. Go to [the COCO Explorer](https://cocodataset.org/#explore), click on two tag icons: an animal (see icon column of animals) and a mode of transportation (see icon column of ), and search. (You pick which; you might have to try a few combinations until you get multiple image results.)\n",
        "\n",
        "Find two different images that each contain your animal and your mode of transportation.  It's okay if they contain other things as well.  If you click on the URL icon above each image, you'll see a link to the annotated image and the original (unlabeled) image. Put the original image link in the code cell below *your image 1 url* and *your image 2 url*, then create four captions that mention only one of the objects each vs both objects together. You can see the captions we created for the three examples above.  The goal is to get probabilities above 0.85 for the caption that best describes the first image and the caption that best describes the second image.\n",
        "\n",
        "As in the examples above, you must find a pair of images with the same two objects tagged in them, but which get different results for which caption has the highest probability according to the CLIP model.\n",
        "\n",
        "Note which object tags you used, and give a brief explanation of what looks different about the two images that you think made them get different CLIP results for the most likely caption.  Enter that explanation in the cell below.  You **do not need to enter it in the answers sheet**.  Just leave it in the notebook that you submit. "
      ]
    },
    {
      "cell_type": "code",
      "execution_count": 28,
      "id": "c215b679",
      "metadata": {
        "id": "c215b679",
        "outputId": "ed535276-16ae-4129-c7cc-8fc6265f76ae",
        "colab": {
          "base_uri": "https://localhost:8080/"
        }
      },
      "outputs": [
        {
          "output_type": "stream",
          "name": "stdout",
          "text": [
            "\n",
            "https://farm1.staticflickr.com/85/271255436_e465c41848_z.jpg\n",
            "a cat sitting on a chair and staring at the VCR - 0.24195\n",
            "one cat sitting on a chair and staring at the VCR. Another cat sitting on the floor - 0.75805\n",
            "          a motorbike parked on the hill - 0.00000\n",
            "                      a motorbike parked - 0.00000\n",
            "\n",
            "http://farm4.staticflickr.com/3303/3578484602_0dd41ea9f8_z.jpg\n",
            "a cat sitting on a chair and staring at the VCR - 0.00000\n",
            "one cat sitting on a chair and staring at the VCR. Another cat sitting on the floor - 0.00000\n",
            "          a motorbike parked on the hill - 0.98650\n",
            "                      a motorbike parked - 0.01350\n"
          ]
        }
      ],
      "source": [
        "# Example tags: animal = cat, transportation = motobike\n",
        "\n",
        "urls = [\"https://farm1.staticflickr.com/85/271255436_e465c41848_z.jpg\",   # a cat\n",
        "        \"http://farm4.staticflickr.com/3303/3578484602_0dd41ea9f8_z.jpg\"] # a motobike\n",
        "captions = [\"a cat sitting on a chair and staring at the VCR\",\n",
        "            \"one cat sitting on a chair and staring at the VCR. Another cat sitting on the floor\",\n",
        "            \"a motorbike parked on the hill\",\n",
        "            \"a motorbike parked\"]\n",
        "\n",
        "for url in urls:\n",
        "    image = Image.open(requests.get(url, stream=True).raw)\n",
        "\n",
        "    inputs = processor(\n",
        "        text=captions, images=image, return_tensors=\"tf\", padding=True\n",
        "    )\n",
        "\n",
        "    outputs = model(**inputs)\n",
        "    logits_per_image = outputs.logits_per_image  # this is the image-text similarity score\n",
        "    probs = tf.nn.softmax(logits_per_image, axis=1)  # we can take the softmax to get the label probabilities\n",
        "    \n",
        "    print()\n",
        "    print(url)\n",
        "    for i, caption in enumerate(captions):\n",
        "        print('%40s - %.5f' % (caption, probs[0, i]))"
      ]
    },
    {
      "cell_type": "markdown",
      "id": "0867bdf4",
      "metadata": {
        "id": "0867bdf4"
      },
      "source": [
        "### Questions (Part D)\n",
        "\n",
        "1. What is the animal tag you selected? **cat**\n",
        "\n",
        "2. What is the transportation tag you selected? **motobike**\n",
        "\n",
        "3. What is the probability associated with the most likely caption for image 1? **0.75805**\n",
        "\n",
        "4. What is the probability associated with the most likely caption for image 2? **0.98650**\n",
        "\n",
        "**(Answer 5 below but do NOT enter your sentences in the answers file)**\n",
        "\n",
        "5. Why do you think the differences between your two images are reflected in the 4 captions you produced.  "
      ]
    },
    {
      "cell_type": "markdown",
      "id": "1aeeb910",
      "metadata": {
        "id": "1aeeb910"
      },
      "source": [
        "Please answer in two to four sentences right here: \n",
        "\n",
        "<font color=green>*The first image includes two cats - a cat sitting in a chair and staring at VCR in a room. Another one sitting on the floor. You can look at the annotation with the highest probability to see where these objects are located and what actions they are demonstrated. The second image includes a motorcycle parked on the hill with the city view. Again, the annotation with the highest probability closely reflects what's parked on the hill.*</font>"
      ]
    },
    {
      "cell_type": "markdown",
      "id": "f0eaa595",
      "metadata": {
        "id": "f0eaa595"
      },
      "source": [
        "## Yay, you're done with your 266 homework.  Now focus on your project!"
      ]
    }
  ],
  "metadata": {
    "kernelspec": {
      "display_name": "Python 3 (ipykernel)",
      "language": "python",
      "name": "python3"
    },
    "language_info": {
      "codemirror_mode": {
        "name": "ipython",
        "version": 3
      },
      "file_extension": ".py",
      "mimetype": "text/x-python",
      "name": "python",
      "nbconvert_exporter": "python",
      "pygments_lexer": "ipython3",
      "version": "3.9.13"
    },
    "colab": {
      "provenance": [],
      "include_colab_link": true
    },
    "widgets": {
      "application/vnd.jupyter.widget-state+json": {
        "1db2cca31bee42d39fbb5454b55a8e31": {
          "model_module": "@jupyter-widgets/controls",
          "model_name": "HBoxModel",
          "model_module_version": "1.5.0",
          "state": {
            "_dom_classes": [],
            "_model_module": "@jupyter-widgets/controls",
            "_model_module_version": "1.5.0",
            "_model_name": "HBoxModel",
            "_view_count": null,
            "_view_module": "@jupyter-widgets/controls",
            "_view_module_version": "1.5.0",
            "_view_name": "HBoxView",
            "box_style": "",
            "children": [
              "IPY_MODEL_6b04b1f22a4b4f48a3d19596e576ce0a",
              "IPY_MODEL_f6c0e3ddfbfb42c693bc4df6c23a6e4c",
              "IPY_MODEL_830b6a059af94770b70b8b65654a5215"
            ],
            "layout": "IPY_MODEL_f3c709cbeb194c6d8b5283b158e16faa"
          }
        },
        "6b04b1f22a4b4f48a3d19596e576ce0a": {
          "model_module": "@jupyter-widgets/controls",
          "model_name": "HTMLModel",
          "model_module_version": "1.5.0",
          "state": {
            "_dom_classes": [],
            "_model_module": "@jupyter-widgets/controls",
            "_model_module_version": "1.5.0",
            "_model_name": "HTMLModel",
            "_view_count": null,
            "_view_module": "@jupyter-widgets/controls",
            "_view_module_version": "1.5.0",
            "_view_name": "HTMLView",
            "description": "",
            "description_tooltip": null,
            "layout": "IPY_MODEL_b90f67fcf9384398a90d3f5c48eb171e",
            "placeholder": "​",
            "style": "IPY_MODEL_5874f668aa17429baa7bf9c40c81f674",
            "value": "Downloading (…)lve/main/config.json: 100%"
          }
        },
        "f6c0e3ddfbfb42c693bc4df6c23a6e4c": {
          "model_module": "@jupyter-widgets/controls",
          "model_name": "FloatProgressModel",
          "model_module_version": "1.5.0",
          "state": {
            "_dom_classes": [],
            "_model_module": "@jupyter-widgets/controls",
            "_model_module_version": "1.5.0",
            "_model_name": "FloatProgressModel",
            "_view_count": null,
            "_view_module": "@jupyter-widgets/controls",
            "_view_module_version": "1.5.0",
            "_view_name": "ProgressView",
            "bar_style": "success",
            "description": "",
            "description_tooltip": null,
            "layout": "IPY_MODEL_35c3997ca8ec4c2a88712352f680e113",
            "max": 4186,
            "min": 0,
            "orientation": "horizontal",
            "style": "IPY_MODEL_9ab37cbee64c46f6ac5919e5ed2341da",
            "value": 4186
          }
        },
        "830b6a059af94770b70b8b65654a5215": {
          "model_module": "@jupyter-widgets/controls",
          "model_name": "HTMLModel",
          "model_module_version": "1.5.0",
          "state": {
            "_dom_classes": [],
            "_model_module": "@jupyter-widgets/controls",
            "_model_module_version": "1.5.0",
            "_model_name": "HTMLModel",
            "_view_count": null,
            "_view_module": "@jupyter-widgets/controls",
            "_view_module_version": "1.5.0",
            "_view_name": "HTMLView",
            "description": "",
            "description_tooltip": null,
            "layout": "IPY_MODEL_68377c1fd8ed4bd4bd1e5cb294eb3e23",
            "placeholder": "​",
            "style": "IPY_MODEL_3bc9ed4eebb244609da649f10de328b9",
            "value": " 4.19k/4.19k [00:00&lt;00:00, 75.2kB/s]"
          }
        },
        "f3c709cbeb194c6d8b5283b158e16faa": {
          "model_module": "@jupyter-widgets/base",
          "model_name": "LayoutModel",
          "model_module_version": "1.2.0",
          "state": {
            "_model_module": "@jupyter-widgets/base",
            "_model_module_version": "1.2.0",
            "_model_name": "LayoutModel",
            "_view_count": null,
            "_view_module": "@jupyter-widgets/base",
            "_view_module_version": "1.2.0",
            "_view_name": "LayoutView",
            "align_content": null,
            "align_items": null,
            "align_self": null,
            "border": null,
            "bottom": null,
            "display": null,
            "flex": null,
            "flex_flow": null,
            "grid_area": null,
            "grid_auto_columns": null,
            "grid_auto_flow": null,
            "grid_auto_rows": null,
            "grid_column": null,
            "grid_gap": null,
            "grid_row": null,
            "grid_template_areas": null,
            "grid_template_columns": null,
            "grid_template_rows": null,
            "height": null,
            "justify_content": null,
            "justify_items": null,
            "left": null,
            "margin": null,
            "max_height": null,
            "max_width": null,
            "min_height": null,
            "min_width": null,
            "object_fit": null,
            "object_position": null,
            "order": null,
            "overflow": null,
            "overflow_x": null,
            "overflow_y": null,
            "padding": null,
            "right": null,
            "top": null,
            "visibility": null,
            "width": null
          }
        },
        "b90f67fcf9384398a90d3f5c48eb171e": {
          "model_module": "@jupyter-widgets/base",
          "model_name": "LayoutModel",
          "model_module_version": "1.2.0",
          "state": {
            "_model_module": "@jupyter-widgets/base",
            "_model_module_version": "1.2.0",
            "_model_name": "LayoutModel",
            "_view_count": null,
            "_view_module": "@jupyter-widgets/base",
            "_view_module_version": "1.2.0",
            "_view_name": "LayoutView",
            "align_content": null,
            "align_items": null,
            "align_self": null,
            "border": null,
            "bottom": null,
            "display": null,
            "flex": null,
            "flex_flow": null,
            "grid_area": null,
            "grid_auto_columns": null,
            "grid_auto_flow": null,
            "grid_auto_rows": null,
            "grid_column": null,
            "grid_gap": null,
            "grid_row": null,
            "grid_template_areas": null,
            "grid_template_columns": null,
            "grid_template_rows": null,
            "height": null,
            "justify_content": null,
            "justify_items": null,
            "left": null,
            "margin": null,
            "max_height": null,
            "max_width": null,
            "min_height": null,
            "min_width": null,
            "object_fit": null,
            "object_position": null,
            "order": null,
            "overflow": null,
            "overflow_x": null,
            "overflow_y": null,
            "padding": null,
            "right": null,
            "top": null,
            "visibility": null,
            "width": null
          }
        },
        "5874f668aa17429baa7bf9c40c81f674": {
          "model_module": "@jupyter-widgets/controls",
          "model_name": "DescriptionStyleModel",
          "model_module_version": "1.5.0",
          "state": {
            "_model_module": "@jupyter-widgets/controls",
            "_model_module_version": "1.5.0",
            "_model_name": "DescriptionStyleModel",
            "_view_count": null,
            "_view_module": "@jupyter-widgets/base",
            "_view_module_version": "1.2.0",
            "_view_name": "StyleView",
            "description_width": ""
          }
        },
        "35c3997ca8ec4c2a88712352f680e113": {
          "model_module": "@jupyter-widgets/base",
          "model_name": "LayoutModel",
          "model_module_version": "1.2.0",
          "state": {
            "_model_module": "@jupyter-widgets/base",
            "_model_module_version": "1.2.0",
            "_model_name": "LayoutModel",
            "_view_count": null,
            "_view_module": "@jupyter-widgets/base",
            "_view_module_version": "1.2.0",
            "_view_name": "LayoutView",
            "align_content": null,
            "align_items": null,
            "align_self": null,
            "border": null,
            "bottom": null,
            "display": null,
            "flex": null,
            "flex_flow": null,
            "grid_area": null,
            "grid_auto_columns": null,
            "grid_auto_flow": null,
            "grid_auto_rows": null,
            "grid_column": null,
            "grid_gap": null,
            "grid_row": null,
            "grid_template_areas": null,
            "grid_template_columns": null,
            "grid_template_rows": null,
            "height": null,
            "justify_content": null,
            "justify_items": null,
            "left": null,
            "margin": null,
            "max_height": null,
            "max_width": null,
            "min_height": null,
            "min_width": null,
            "object_fit": null,
            "object_position": null,
            "order": null,
            "overflow": null,
            "overflow_x": null,
            "overflow_y": null,
            "padding": null,
            "right": null,
            "top": null,
            "visibility": null,
            "width": null
          }
        },
        "9ab37cbee64c46f6ac5919e5ed2341da": {
          "model_module": "@jupyter-widgets/controls",
          "model_name": "ProgressStyleModel",
          "model_module_version": "1.5.0",
          "state": {
            "_model_module": "@jupyter-widgets/controls",
            "_model_module_version": "1.5.0",
            "_model_name": "ProgressStyleModel",
            "_view_count": null,
            "_view_module": "@jupyter-widgets/base",
            "_view_module_version": "1.2.0",
            "_view_name": "StyleView",
            "bar_color": null,
            "description_width": ""
          }
        },
        "68377c1fd8ed4bd4bd1e5cb294eb3e23": {
          "model_module": "@jupyter-widgets/base",
          "model_name": "LayoutModel",
          "model_module_version": "1.2.0",
          "state": {
            "_model_module": "@jupyter-widgets/base",
            "_model_module_version": "1.2.0",
            "_model_name": "LayoutModel",
            "_view_count": null,
            "_view_module": "@jupyter-widgets/base",
            "_view_module_version": "1.2.0",
            "_view_name": "LayoutView",
            "align_content": null,
            "align_items": null,
            "align_self": null,
            "border": null,
            "bottom": null,
            "display": null,
            "flex": null,
            "flex_flow": null,
            "grid_area": null,
            "grid_auto_columns": null,
            "grid_auto_flow": null,
            "grid_auto_rows": null,
            "grid_column": null,
            "grid_gap": null,
            "grid_row": null,
            "grid_template_areas": null,
            "grid_template_columns": null,
            "grid_template_rows": null,
            "height": null,
            "justify_content": null,
            "justify_items": null,
            "left": null,
            "margin": null,
            "max_height": null,
            "max_width": null,
            "min_height": null,
            "min_width": null,
            "object_fit": null,
            "object_position": null,
            "order": null,
            "overflow": null,
            "overflow_x": null,
            "overflow_y": null,
            "padding": null,
            "right": null,
            "top": null,
            "visibility": null,
            "width": null
          }
        },
        "3bc9ed4eebb244609da649f10de328b9": {
          "model_module": "@jupyter-widgets/controls",
          "model_name": "DescriptionStyleModel",
          "model_module_version": "1.5.0",
          "state": {
            "_model_module": "@jupyter-widgets/controls",
            "_model_module_version": "1.5.0",
            "_model_name": "DescriptionStyleModel",
            "_view_count": null,
            "_view_module": "@jupyter-widgets/base",
            "_view_module_version": "1.2.0",
            "_view_name": "StyleView",
            "description_width": ""
          }
        },
        "4b8e5b7097a24c44b45eeb9007c0681e": {
          "model_module": "@jupyter-widgets/controls",
          "model_name": "HBoxModel",
          "model_module_version": "1.5.0",
          "state": {
            "_dom_classes": [],
            "_model_module": "@jupyter-widgets/controls",
            "_model_module_version": "1.5.0",
            "_model_name": "HBoxModel",
            "_view_count": null,
            "_view_module": "@jupyter-widgets/controls",
            "_view_module_version": "1.5.0",
            "_view_name": "HBoxView",
            "box_style": "",
            "children": [
              "IPY_MODEL_886cde7d7951418ea02b7e36d8fedfc5",
              "IPY_MODEL_d1c7efddb25d4737a0e5f5f2e3f05ee3",
              "IPY_MODEL_94ffe866675c43018cd43e3072e57abf"
            ],
            "layout": "IPY_MODEL_11f8aae236364b8a94ed6d8cb35098e5"
          }
        },
        "886cde7d7951418ea02b7e36d8fedfc5": {
          "model_module": "@jupyter-widgets/controls",
          "model_name": "HTMLModel",
          "model_module_version": "1.5.0",
          "state": {
            "_dom_classes": [],
            "_model_module": "@jupyter-widgets/controls",
            "_model_module_version": "1.5.0",
            "_model_name": "HTMLModel",
            "_view_count": null,
            "_view_module": "@jupyter-widgets/controls",
            "_view_module_version": "1.5.0",
            "_view_name": "HTMLView",
            "description": "",
            "description_tooltip": null,
            "layout": "IPY_MODEL_599c66950644495f8dc4ed69150461e9",
            "placeholder": "​",
            "style": "IPY_MODEL_df90208ce0614c5caea9b26ebfd2fde1",
            "value": "Downloading tf_model.h5: 100%"
          }
        },
        "d1c7efddb25d4737a0e5f5f2e3f05ee3": {
          "model_module": "@jupyter-widgets/controls",
          "model_name": "FloatProgressModel",
          "model_module_version": "1.5.0",
          "state": {
            "_dom_classes": [],
            "_model_module": "@jupyter-widgets/controls",
            "_model_module_version": "1.5.0",
            "_model_name": "FloatProgressModel",
            "_view_count": null,
            "_view_module": "@jupyter-widgets/controls",
            "_view_module_version": "1.5.0",
            "_view_name": "ProgressView",
            "bar_style": "success",
            "description": "",
            "description_tooltip": null,
            "layout": "IPY_MODEL_72c6cf9605f242d399964417033f3505",
            "max": 605551040,
            "min": 0,
            "orientation": "horizontal",
            "style": "IPY_MODEL_0a38c1974051403f8ed3c9a90f243a20",
            "value": 605551040
          }
        },
        "94ffe866675c43018cd43e3072e57abf": {
          "model_module": "@jupyter-widgets/controls",
          "model_name": "HTMLModel",
          "model_module_version": "1.5.0",
          "state": {
            "_dom_classes": [],
            "_model_module": "@jupyter-widgets/controls",
            "_model_module_version": "1.5.0",
            "_model_name": "HTMLModel",
            "_view_count": null,
            "_view_module": "@jupyter-widgets/controls",
            "_view_module_version": "1.5.0",
            "_view_name": "HTMLView",
            "description": "",
            "description_tooltip": null,
            "layout": "IPY_MODEL_5a263b98d77f41bea8aabb46653ba418",
            "placeholder": "​",
            "style": "IPY_MODEL_d043b341823b4333b539ffba6145f5b4",
            "value": " 606M/606M [00:08&lt;00:00, 66.5MB/s]"
          }
        },
        "11f8aae236364b8a94ed6d8cb35098e5": {
          "model_module": "@jupyter-widgets/base",
          "model_name": "LayoutModel",
          "model_module_version": "1.2.0",
          "state": {
            "_model_module": "@jupyter-widgets/base",
            "_model_module_version": "1.2.0",
            "_model_name": "LayoutModel",
            "_view_count": null,
            "_view_module": "@jupyter-widgets/base",
            "_view_module_version": "1.2.0",
            "_view_name": "LayoutView",
            "align_content": null,
            "align_items": null,
            "align_self": null,
            "border": null,
            "bottom": null,
            "display": null,
            "flex": null,
            "flex_flow": null,
            "grid_area": null,
            "grid_auto_columns": null,
            "grid_auto_flow": null,
            "grid_auto_rows": null,
            "grid_column": null,
            "grid_gap": null,
            "grid_row": null,
            "grid_template_areas": null,
            "grid_template_columns": null,
            "grid_template_rows": null,
            "height": null,
            "justify_content": null,
            "justify_items": null,
            "left": null,
            "margin": null,
            "max_height": null,
            "max_width": null,
            "min_height": null,
            "min_width": null,
            "object_fit": null,
            "object_position": null,
            "order": null,
            "overflow": null,
            "overflow_x": null,
            "overflow_y": null,
            "padding": null,
            "right": null,
            "top": null,
            "visibility": null,
            "width": null
          }
        },
        "599c66950644495f8dc4ed69150461e9": {
          "model_module": "@jupyter-widgets/base",
          "model_name": "LayoutModel",
          "model_module_version": "1.2.0",
          "state": {
            "_model_module": "@jupyter-widgets/base",
            "_model_module_version": "1.2.0",
            "_model_name": "LayoutModel",
            "_view_count": null,
            "_view_module": "@jupyter-widgets/base",
            "_view_module_version": "1.2.0",
            "_view_name": "LayoutView",
            "align_content": null,
            "align_items": null,
            "align_self": null,
            "border": null,
            "bottom": null,
            "display": null,
            "flex": null,
            "flex_flow": null,
            "grid_area": null,
            "grid_auto_columns": null,
            "grid_auto_flow": null,
            "grid_auto_rows": null,
            "grid_column": null,
            "grid_gap": null,
            "grid_row": null,
            "grid_template_areas": null,
            "grid_template_columns": null,
            "grid_template_rows": null,
            "height": null,
            "justify_content": null,
            "justify_items": null,
            "left": null,
            "margin": null,
            "max_height": null,
            "max_width": null,
            "min_height": null,
            "min_width": null,
            "object_fit": null,
            "object_position": null,
            "order": null,
            "overflow": null,
            "overflow_x": null,
            "overflow_y": null,
            "padding": null,
            "right": null,
            "top": null,
            "visibility": null,
            "width": null
          }
        },
        "df90208ce0614c5caea9b26ebfd2fde1": {
          "model_module": "@jupyter-widgets/controls",
          "model_name": "DescriptionStyleModel",
          "model_module_version": "1.5.0",
          "state": {
            "_model_module": "@jupyter-widgets/controls",
            "_model_module_version": "1.5.0",
            "_model_name": "DescriptionStyleModel",
            "_view_count": null,
            "_view_module": "@jupyter-widgets/base",
            "_view_module_version": "1.2.0",
            "_view_name": "StyleView",
            "description_width": ""
          }
        },
        "72c6cf9605f242d399964417033f3505": {
          "model_module": "@jupyter-widgets/base",
          "model_name": "LayoutModel",
          "model_module_version": "1.2.0",
          "state": {
            "_model_module": "@jupyter-widgets/base",
            "_model_module_version": "1.2.0",
            "_model_name": "LayoutModel",
            "_view_count": null,
            "_view_module": "@jupyter-widgets/base",
            "_view_module_version": "1.2.0",
            "_view_name": "LayoutView",
            "align_content": null,
            "align_items": null,
            "align_self": null,
            "border": null,
            "bottom": null,
            "display": null,
            "flex": null,
            "flex_flow": null,
            "grid_area": null,
            "grid_auto_columns": null,
            "grid_auto_flow": null,
            "grid_auto_rows": null,
            "grid_column": null,
            "grid_gap": null,
            "grid_row": null,
            "grid_template_areas": null,
            "grid_template_columns": null,
            "grid_template_rows": null,
            "height": null,
            "justify_content": null,
            "justify_items": null,
            "left": null,
            "margin": null,
            "max_height": null,
            "max_width": null,
            "min_height": null,
            "min_width": null,
            "object_fit": null,
            "object_position": null,
            "order": null,
            "overflow": null,
            "overflow_x": null,
            "overflow_y": null,
            "padding": null,
            "right": null,
            "top": null,
            "visibility": null,
            "width": null
          }
        },
        "0a38c1974051403f8ed3c9a90f243a20": {
          "model_module": "@jupyter-widgets/controls",
          "model_name": "ProgressStyleModel",
          "model_module_version": "1.5.0",
          "state": {
            "_model_module": "@jupyter-widgets/controls",
            "_model_module_version": "1.5.0",
            "_model_name": "ProgressStyleModel",
            "_view_count": null,
            "_view_module": "@jupyter-widgets/base",
            "_view_module_version": "1.2.0",
            "_view_name": "StyleView",
            "bar_color": null,
            "description_width": ""
          }
        },
        "5a263b98d77f41bea8aabb46653ba418": {
          "model_module": "@jupyter-widgets/base",
          "model_name": "LayoutModel",
          "model_module_version": "1.2.0",
          "state": {
            "_model_module": "@jupyter-widgets/base",
            "_model_module_version": "1.2.0",
            "_model_name": "LayoutModel",
            "_view_count": null,
            "_view_module": "@jupyter-widgets/base",
            "_view_module_version": "1.2.0",
            "_view_name": "LayoutView",
            "align_content": null,
            "align_items": null,
            "align_self": null,
            "border": null,
            "bottom": null,
            "display": null,
            "flex": null,
            "flex_flow": null,
            "grid_area": null,
            "grid_auto_columns": null,
            "grid_auto_flow": null,
            "grid_auto_rows": null,
            "grid_column": null,
            "grid_gap": null,
            "grid_row": null,
            "grid_template_areas": null,
            "grid_template_columns": null,
            "grid_template_rows": null,
            "height": null,
            "justify_content": null,
            "justify_items": null,
            "left": null,
            "margin": null,
            "max_height": null,
            "max_width": null,
            "min_height": null,
            "min_width": null,
            "object_fit": null,
            "object_position": null,
            "order": null,
            "overflow": null,
            "overflow_x": null,
            "overflow_y": null,
            "padding": null,
            "right": null,
            "top": null,
            "visibility": null,
            "width": null
          }
        },
        "d043b341823b4333b539ffba6145f5b4": {
          "model_module": "@jupyter-widgets/controls",
          "model_name": "DescriptionStyleModel",
          "model_module_version": "1.5.0",
          "state": {
            "_model_module": "@jupyter-widgets/controls",
            "_model_module_version": "1.5.0",
            "_model_name": "DescriptionStyleModel",
            "_view_count": null,
            "_view_module": "@jupyter-widgets/base",
            "_view_module_version": "1.2.0",
            "_view_name": "StyleView",
            "description_width": ""
          }
        },
        "efd2ba7dce574ae8aef051e82a6651d7": {
          "model_module": "@jupyter-widgets/controls",
          "model_name": "HBoxModel",
          "model_module_version": "1.5.0",
          "state": {
            "_dom_classes": [],
            "_model_module": "@jupyter-widgets/controls",
            "_model_module_version": "1.5.0",
            "_model_name": "HBoxModel",
            "_view_count": null,
            "_view_module": "@jupyter-widgets/controls",
            "_view_module_version": "1.5.0",
            "_view_name": "HBoxView",
            "box_style": "",
            "children": [
              "IPY_MODEL_1b998c9d30654237a0b4dd11ee4490fc",
              "IPY_MODEL_f47f18a5a9ee4ef7aaf448fc39018311",
              "IPY_MODEL_017bc82d4e6f49a7be601f9d8a59edcb"
            ],
            "layout": "IPY_MODEL_1d7c918552dd4d25a46b5e12a634cdd3"
          }
        },
        "1b998c9d30654237a0b4dd11ee4490fc": {
          "model_module": "@jupyter-widgets/controls",
          "model_name": "HTMLModel",
          "model_module_version": "1.5.0",
          "state": {
            "_dom_classes": [],
            "_model_module": "@jupyter-widgets/controls",
            "_model_module_version": "1.5.0",
            "_model_name": "HTMLModel",
            "_view_count": null,
            "_view_module": "@jupyter-widgets/controls",
            "_view_module_version": "1.5.0",
            "_view_name": "HTMLView",
            "description": "",
            "description_tooltip": null,
            "layout": "IPY_MODEL_ec4cf10e1ee64e708470c92c7b53b6aa",
            "placeholder": "​",
            "style": "IPY_MODEL_7164ff398e1f4f4490f66d9664b4eb35",
            "value": "Downloading (…)rocessor_config.json: 100%"
          }
        },
        "f47f18a5a9ee4ef7aaf448fc39018311": {
          "model_module": "@jupyter-widgets/controls",
          "model_name": "FloatProgressModel",
          "model_module_version": "1.5.0",
          "state": {
            "_dom_classes": [],
            "_model_module": "@jupyter-widgets/controls",
            "_model_module_version": "1.5.0",
            "_model_name": "FloatProgressModel",
            "_view_count": null,
            "_view_module": "@jupyter-widgets/controls",
            "_view_module_version": "1.5.0",
            "_view_name": "ProgressView",
            "bar_style": "success",
            "description": "",
            "description_tooltip": null,
            "layout": "IPY_MODEL_b8748d1faca9478580d3e4e968032e8e",
            "max": 316,
            "min": 0,
            "orientation": "horizontal",
            "style": "IPY_MODEL_a87107bb92f44dad952816fa52494f01",
            "value": 316
          }
        },
        "017bc82d4e6f49a7be601f9d8a59edcb": {
          "model_module": "@jupyter-widgets/controls",
          "model_name": "HTMLModel",
          "model_module_version": "1.5.0",
          "state": {
            "_dom_classes": [],
            "_model_module": "@jupyter-widgets/controls",
            "_model_module_version": "1.5.0",
            "_model_name": "HTMLModel",
            "_view_count": null,
            "_view_module": "@jupyter-widgets/controls",
            "_view_module_version": "1.5.0",
            "_view_name": "HTMLView",
            "description": "",
            "description_tooltip": null,
            "layout": "IPY_MODEL_fc9b9dbd104245c8bea84e01eed7a967",
            "placeholder": "​",
            "style": "IPY_MODEL_4d2fdc2568234ba992b914178328ec7b",
            "value": " 316/316 [00:00&lt;00:00, 8.65kB/s]"
          }
        },
        "1d7c918552dd4d25a46b5e12a634cdd3": {
          "model_module": "@jupyter-widgets/base",
          "model_name": "LayoutModel",
          "model_module_version": "1.2.0",
          "state": {
            "_model_module": "@jupyter-widgets/base",
            "_model_module_version": "1.2.0",
            "_model_name": "LayoutModel",
            "_view_count": null,
            "_view_module": "@jupyter-widgets/base",
            "_view_module_version": "1.2.0",
            "_view_name": "LayoutView",
            "align_content": null,
            "align_items": null,
            "align_self": null,
            "border": null,
            "bottom": null,
            "display": null,
            "flex": null,
            "flex_flow": null,
            "grid_area": null,
            "grid_auto_columns": null,
            "grid_auto_flow": null,
            "grid_auto_rows": null,
            "grid_column": null,
            "grid_gap": null,
            "grid_row": null,
            "grid_template_areas": null,
            "grid_template_columns": null,
            "grid_template_rows": null,
            "height": null,
            "justify_content": null,
            "justify_items": null,
            "left": null,
            "margin": null,
            "max_height": null,
            "max_width": null,
            "min_height": null,
            "min_width": null,
            "object_fit": null,
            "object_position": null,
            "order": null,
            "overflow": null,
            "overflow_x": null,
            "overflow_y": null,
            "padding": null,
            "right": null,
            "top": null,
            "visibility": null,
            "width": null
          }
        },
        "ec4cf10e1ee64e708470c92c7b53b6aa": {
          "model_module": "@jupyter-widgets/base",
          "model_name": "LayoutModel",
          "model_module_version": "1.2.0",
          "state": {
            "_model_module": "@jupyter-widgets/base",
            "_model_module_version": "1.2.0",
            "_model_name": "LayoutModel",
            "_view_count": null,
            "_view_module": "@jupyter-widgets/base",
            "_view_module_version": "1.2.0",
            "_view_name": "LayoutView",
            "align_content": null,
            "align_items": null,
            "align_self": null,
            "border": null,
            "bottom": null,
            "display": null,
            "flex": null,
            "flex_flow": null,
            "grid_area": null,
            "grid_auto_columns": null,
            "grid_auto_flow": null,
            "grid_auto_rows": null,
            "grid_column": null,
            "grid_gap": null,
            "grid_row": null,
            "grid_template_areas": null,
            "grid_template_columns": null,
            "grid_template_rows": null,
            "height": null,
            "justify_content": null,
            "justify_items": null,
            "left": null,
            "margin": null,
            "max_height": null,
            "max_width": null,
            "min_height": null,
            "min_width": null,
            "object_fit": null,
            "object_position": null,
            "order": null,
            "overflow": null,
            "overflow_x": null,
            "overflow_y": null,
            "padding": null,
            "right": null,
            "top": null,
            "visibility": null,
            "width": null
          }
        },
        "7164ff398e1f4f4490f66d9664b4eb35": {
          "model_module": "@jupyter-widgets/controls",
          "model_name": "DescriptionStyleModel",
          "model_module_version": "1.5.0",
          "state": {
            "_model_module": "@jupyter-widgets/controls",
            "_model_module_version": "1.5.0",
            "_model_name": "DescriptionStyleModel",
            "_view_count": null,
            "_view_module": "@jupyter-widgets/base",
            "_view_module_version": "1.2.0",
            "_view_name": "StyleView",
            "description_width": ""
          }
        },
        "b8748d1faca9478580d3e4e968032e8e": {
          "model_module": "@jupyter-widgets/base",
          "model_name": "LayoutModel",
          "model_module_version": "1.2.0",
          "state": {
            "_model_module": "@jupyter-widgets/base",
            "_model_module_version": "1.2.0",
            "_model_name": "LayoutModel",
            "_view_count": null,
            "_view_module": "@jupyter-widgets/base",
            "_view_module_version": "1.2.0",
            "_view_name": "LayoutView",
            "align_content": null,
            "align_items": null,
            "align_self": null,
            "border": null,
            "bottom": null,
            "display": null,
            "flex": null,
            "flex_flow": null,
            "grid_area": null,
            "grid_auto_columns": null,
            "grid_auto_flow": null,
            "grid_auto_rows": null,
            "grid_column": null,
            "grid_gap": null,
            "grid_row": null,
            "grid_template_areas": null,
            "grid_template_columns": null,
            "grid_template_rows": null,
            "height": null,
            "justify_content": null,
            "justify_items": null,
            "left": null,
            "margin": null,
            "max_height": null,
            "max_width": null,
            "min_height": null,
            "min_width": null,
            "object_fit": null,
            "object_position": null,
            "order": null,
            "overflow": null,
            "overflow_x": null,
            "overflow_y": null,
            "padding": null,
            "right": null,
            "top": null,
            "visibility": null,
            "width": null
          }
        },
        "a87107bb92f44dad952816fa52494f01": {
          "model_module": "@jupyter-widgets/controls",
          "model_name": "ProgressStyleModel",
          "model_module_version": "1.5.0",
          "state": {
            "_model_module": "@jupyter-widgets/controls",
            "_model_module_version": "1.5.0",
            "_model_name": "ProgressStyleModel",
            "_view_count": null,
            "_view_module": "@jupyter-widgets/base",
            "_view_module_version": "1.2.0",
            "_view_name": "StyleView",
            "bar_color": null,
            "description_width": ""
          }
        },
        "fc9b9dbd104245c8bea84e01eed7a967": {
          "model_module": "@jupyter-widgets/base",
          "model_name": "LayoutModel",
          "model_module_version": "1.2.0",
          "state": {
            "_model_module": "@jupyter-widgets/base",
            "_model_module_version": "1.2.0",
            "_model_name": "LayoutModel",
            "_view_count": null,
            "_view_module": "@jupyter-widgets/base",
            "_view_module_version": "1.2.0",
            "_view_name": "LayoutView",
            "align_content": null,
            "align_items": null,
            "align_self": null,
            "border": null,
            "bottom": null,
            "display": null,
            "flex": null,
            "flex_flow": null,
            "grid_area": null,
            "grid_auto_columns": null,
            "grid_auto_flow": null,
            "grid_auto_rows": null,
            "grid_column": null,
            "grid_gap": null,
            "grid_row": null,
            "grid_template_areas": null,
            "grid_template_columns": null,
            "grid_template_rows": null,
            "height": null,
            "justify_content": null,
            "justify_items": null,
            "left": null,
            "margin": null,
            "max_height": null,
            "max_width": null,
            "min_height": null,
            "min_width": null,
            "object_fit": null,
            "object_position": null,
            "order": null,
            "overflow": null,
            "overflow_x": null,
            "overflow_y": null,
            "padding": null,
            "right": null,
            "top": null,
            "visibility": null,
            "width": null
          }
        },
        "4d2fdc2568234ba992b914178328ec7b": {
          "model_module": "@jupyter-widgets/controls",
          "model_name": "DescriptionStyleModel",
          "model_module_version": "1.5.0",
          "state": {
            "_model_module": "@jupyter-widgets/controls",
            "_model_module_version": "1.5.0",
            "_model_name": "DescriptionStyleModel",
            "_view_count": null,
            "_view_module": "@jupyter-widgets/base",
            "_view_module_version": "1.2.0",
            "_view_name": "StyleView",
            "description_width": ""
          }
        },
        "d0c181b7022748089b7cf50f4b015542": {
          "model_module": "@jupyter-widgets/controls",
          "model_name": "HBoxModel",
          "model_module_version": "1.5.0",
          "state": {
            "_dom_classes": [],
            "_model_module": "@jupyter-widgets/controls",
            "_model_module_version": "1.5.0",
            "_model_name": "HBoxModel",
            "_view_count": null,
            "_view_module": "@jupyter-widgets/controls",
            "_view_module_version": "1.5.0",
            "_view_name": "HBoxView",
            "box_style": "",
            "children": [
              "IPY_MODEL_03815147483142e083a046b0bb32e6e3",
              "IPY_MODEL_a673aabbc01c469ea54c2055c2427345",
              "IPY_MODEL_489630f478c64d08889f493ca870d01c"
            ],
            "layout": "IPY_MODEL_a625a3647a1145beaa47d192dfcf5347"
          }
        },
        "03815147483142e083a046b0bb32e6e3": {
          "model_module": "@jupyter-widgets/controls",
          "model_name": "HTMLModel",
          "model_module_version": "1.5.0",
          "state": {
            "_dom_classes": [],
            "_model_module": "@jupyter-widgets/controls",
            "_model_module_version": "1.5.0",
            "_model_name": "HTMLModel",
            "_view_count": null,
            "_view_module": "@jupyter-widgets/controls",
            "_view_module_version": "1.5.0",
            "_view_name": "HTMLView",
            "description": "",
            "description_tooltip": null,
            "layout": "IPY_MODEL_60cf4a26525b4aca9ab3975415734789",
            "placeholder": "​",
            "style": "IPY_MODEL_3705259318c44fd2b94b026ac75d8563",
            "value": "Downloading (…)okenizer_config.json: 100%"
          }
        },
        "a673aabbc01c469ea54c2055c2427345": {
          "model_module": "@jupyter-widgets/controls",
          "model_name": "FloatProgressModel",
          "model_module_version": "1.5.0",
          "state": {
            "_dom_classes": [],
            "_model_module": "@jupyter-widgets/controls",
            "_model_module_version": "1.5.0",
            "_model_name": "FloatProgressModel",
            "_view_count": null,
            "_view_module": "@jupyter-widgets/controls",
            "_view_module_version": "1.5.0",
            "_view_name": "ProgressView",
            "bar_style": "success",
            "description": "",
            "description_tooltip": null,
            "layout": "IPY_MODEL_6949334b1336481aa46e62c928628ca7",
            "max": 568,
            "min": 0,
            "orientation": "horizontal",
            "style": "IPY_MODEL_b6705e0af27546c2b3cd011f7d558179",
            "value": 568
          }
        },
        "489630f478c64d08889f493ca870d01c": {
          "model_module": "@jupyter-widgets/controls",
          "model_name": "HTMLModel",
          "model_module_version": "1.5.0",
          "state": {
            "_dom_classes": [],
            "_model_module": "@jupyter-widgets/controls",
            "_model_module_version": "1.5.0",
            "_model_name": "HTMLModel",
            "_view_count": null,
            "_view_module": "@jupyter-widgets/controls",
            "_view_module_version": "1.5.0",
            "_view_name": "HTMLView",
            "description": "",
            "description_tooltip": null,
            "layout": "IPY_MODEL_4da2d4abb93e45fcb25d09173bb554e6",
            "placeholder": "​",
            "style": "IPY_MODEL_acc8596540344c7f98e3ddaa1012edb2",
            "value": " 568/568 [00:00&lt;00:00, 17.8kB/s]"
          }
        },
        "a625a3647a1145beaa47d192dfcf5347": {
          "model_module": "@jupyter-widgets/base",
          "model_name": "LayoutModel",
          "model_module_version": "1.2.0",
          "state": {
            "_model_module": "@jupyter-widgets/base",
            "_model_module_version": "1.2.0",
            "_model_name": "LayoutModel",
            "_view_count": null,
            "_view_module": "@jupyter-widgets/base",
            "_view_module_version": "1.2.0",
            "_view_name": "LayoutView",
            "align_content": null,
            "align_items": null,
            "align_self": null,
            "border": null,
            "bottom": null,
            "display": null,
            "flex": null,
            "flex_flow": null,
            "grid_area": null,
            "grid_auto_columns": null,
            "grid_auto_flow": null,
            "grid_auto_rows": null,
            "grid_column": null,
            "grid_gap": null,
            "grid_row": null,
            "grid_template_areas": null,
            "grid_template_columns": null,
            "grid_template_rows": null,
            "height": null,
            "justify_content": null,
            "justify_items": null,
            "left": null,
            "margin": null,
            "max_height": null,
            "max_width": null,
            "min_height": null,
            "min_width": null,
            "object_fit": null,
            "object_position": null,
            "order": null,
            "overflow": null,
            "overflow_x": null,
            "overflow_y": null,
            "padding": null,
            "right": null,
            "top": null,
            "visibility": null,
            "width": null
          }
        },
        "60cf4a26525b4aca9ab3975415734789": {
          "model_module": "@jupyter-widgets/base",
          "model_name": "LayoutModel",
          "model_module_version": "1.2.0",
          "state": {
            "_model_module": "@jupyter-widgets/base",
            "_model_module_version": "1.2.0",
            "_model_name": "LayoutModel",
            "_view_count": null,
            "_view_module": "@jupyter-widgets/base",
            "_view_module_version": "1.2.0",
            "_view_name": "LayoutView",
            "align_content": null,
            "align_items": null,
            "align_self": null,
            "border": null,
            "bottom": null,
            "display": null,
            "flex": null,
            "flex_flow": null,
            "grid_area": null,
            "grid_auto_columns": null,
            "grid_auto_flow": null,
            "grid_auto_rows": null,
            "grid_column": null,
            "grid_gap": null,
            "grid_row": null,
            "grid_template_areas": null,
            "grid_template_columns": null,
            "grid_template_rows": null,
            "height": null,
            "justify_content": null,
            "justify_items": null,
            "left": null,
            "margin": null,
            "max_height": null,
            "max_width": null,
            "min_height": null,
            "min_width": null,
            "object_fit": null,
            "object_position": null,
            "order": null,
            "overflow": null,
            "overflow_x": null,
            "overflow_y": null,
            "padding": null,
            "right": null,
            "top": null,
            "visibility": null,
            "width": null
          }
        },
        "3705259318c44fd2b94b026ac75d8563": {
          "model_module": "@jupyter-widgets/controls",
          "model_name": "DescriptionStyleModel",
          "model_module_version": "1.5.0",
          "state": {
            "_model_module": "@jupyter-widgets/controls",
            "_model_module_version": "1.5.0",
            "_model_name": "DescriptionStyleModel",
            "_view_count": null,
            "_view_module": "@jupyter-widgets/base",
            "_view_module_version": "1.2.0",
            "_view_name": "StyleView",
            "description_width": ""
          }
        },
        "6949334b1336481aa46e62c928628ca7": {
          "model_module": "@jupyter-widgets/base",
          "model_name": "LayoutModel",
          "model_module_version": "1.2.0",
          "state": {
            "_model_module": "@jupyter-widgets/base",
            "_model_module_version": "1.2.0",
            "_model_name": "LayoutModel",
            "_view_count": null,
            "_view_module": "@jupyter-widgets/base",
            "_view_module_version": "1.2.0",
            "_view_name": "LayoutView",
            "align_content": null,
            "align_items": null,
            "align_self": null,
            "border": null,
            "bottom": null,
            "display": null,
            "flex": null,
            "flex_flow": null,
            "grid_area": null,
            "grid_auto_columns": null,
            "grid_auto_flow": null,
            "grid_auto_rows": null,
            "grid_column": null,
            "grid_gap": null,
            "grid_row": null,
            "grid_template_areas": null,
            "grid_template_columns": null,
            "grid_template_rows": null,
            "height": null,
            "justify_content": null,
            "justify_items": null,
            "left": null,
            "margin": null,
            "max_height": null,
            "max_width": null,
            "min_height": null,
            "min_width": null,
            "object_fit": null,
            "object_position": null,
            "order": null,
            "overflow": null,
            "overflow_x": null,
            "overflow_y": null,
            "padding": null,
            "right": null,
            "top": null,
            "visibility": null,
            "width": null
          }
        },
        "b6705e0af27546c2b3cd011f7d558179": {
          "model_module": "@jupyter-widgets/controls",
          "model_name": "ProgressStyleModel",
          "model_module_version": "1.5.0",
          "state": {
            "_model_module": "@jupyter-widgets/controls",
            "_model_module_version": "1.5.0",
            "_model_name": "ProgressStyleModel",
            "_view_count": null,
            "_view_module": "@jupyter-widgets/base",
            "_view_module_version": "1.2.0",
            "_view_name": "StyleView",
            "bar_color": null,
            "description_width": ""
          }
        },
        "4da2d4abb93e45fcb25d09173bb554e6": {
          "model_module": "@jupyter-widgets/base",
          "model_name": "LayoutModel",
          "model_module_version": "1.2.0",
          "state": {
            "_model_module": "@jupyter-widgets/base",
            "_model_module_version": "1.2.0",
            "_model_name": "LayoutModel",
            "_view_count": null,
            "_view_module": "@jupyter-widgets/base",
            "_view_module_version": "1.2.0",
            "_view_name": "LayoutView",
            "align_content": null,
            "align_items": null,
            "align_self": null,
            "border": null,
            "bottom": null,
            "display": null,
            "flex": null,
            "flex_flow": null,
            "grid_area": null,
            "grid_auto_columns": null,
            "grid_auto_flow": null,
            "grid_auto_rows": null,
            "grid_column": null,
            "grid_gap": null,
            "grid_row": null,
            "grid_template_areas": null,
            "grid_template_columns": null,
            "grid_template_rows": null,
            "height": null,
            "justify_content": null,
            "justify_items": null,
            "left": null,
            "margin": null,
            "max_height": null,
            "max_width": null,
            "min_height": null,
            "min_width": null,
            "object_fit": null,
            "object_position": null,
            "order": null,
            "overflow": null,
            "overflow_x": null,
            "overflow_y": null,
            "padding": null,
            "right": null,
            "top": null,
            "visibility": null,
            "width": null
          }
        },
        "acc8596540344c7f98e3ddaa1012edb2": {
          "model_module": "@jupyter-widgets/controls",
          "model_name": "DescriptionStyleModel",
          "model_module_version": "1.5.0",
          "state": {
            "_model_module": "@jupyter-widgets/controls",
            "_model_module_version": "1.5.0",
            "_model_name": "DescriptionStyleModel",
            "_view_count": null,
            "_view_module": "@jupyter-widgets/base",
            "_view_module_version": "1.2.0",
            "_view_name": "StyleView",
            "description_width": ""
          }
        },
        "9e3995d9ca30466083e1a5a1ef295270": {
          "model_module": "@jupyter-widgets/controls",
          "model_name": "HBoxModel",
          "model_module_version": "1.5.0",
          "state": {
            "_dom_classes": [],
            "_model_module": "@jupyter-widgets/controls",
            "_model_module_version": "1.5.0",
            "_model_name": "HBoxModel",
            "_view_count": null,
            "_view_module": "@jupyter-widgets/controls",
            "_view_module_version": "1.5.0",
            "_view_name": "HBoxView",
            "box_style": "",
            "children": [
              "IPY_MODEL_e1e1f875f423496da3f41fb2a39dc3d4",
              "IPY_MODEL_dea913810552434fb03f9d35a1e0f196",
              "IPY_MODEL_2eba5abd83d440fbbfd9a1bb67b30055"
            ],
            "layout": "IPY_MODEL_f3e0f23a102849d6ad7c924bbcfaf85f"
          }
        },
        "e1e1f875f423496da3f41fb2a39dc3d4": {
          "model_module": "@jupyter-widgets/controls",
          "model_name": "HTMLModel",
          "model_module_version": "1.5.0",
          "state": {
            "_dom_classes": [],
            "_model_module": "@jupyter-widgets/controls",
            "_model_module_version": "1.5.0",
            "_model_name": "HTMLModel",
            "_view_count": null,
            "_view_module": "@jupyter-widgets/controls",
            "_view_module_version": "1.5.0",
            "_view_name": "HTMLView",
            "description": "",
            "description_tooltip": null,
            "layout": "IPY_MODEL_b29253de2bf14f32a935ce96c323ddf3",
            "placeholder": "​",
            "style": "IPY_MODEL_db80445305604e1cb92a383e19fe1ee0",
            "value": "Downloading (…)olve/main/vocab.json: 100%"
          }
        },
        "dea913810552434fb03f9d35a1e0f196": {
          "model_module": "@jupyter-widgets/controls",
          "model_name": "FloatProgressModel",
          "model_module_version": "1.5.0",
          "state": {
            "_dom_classes": [],
            "_model_module": "@jupyter-widgets/controls",
            "_model_module_version": "1.5.0",
            "_model_name": "FloatProgressModel",
            "_view_count": null,
            "_view_module": "@jupyter-widgets/controls",
            "_view_module_version": "1.5.0",
            "_view_name": "ProgressView",
            "bar_style": "success",
            "description": "",
            "description_tooltip": null,
            "layout": "IPY_MODEL_0d41e5d638904e5696d4772dad23a5c8",
            "max": 862328,
            "min": 0,
            "orientation": "horizontal",
            "style": "IPY_MODEL_a86ee1f32ad1423083a79850e45e61f7",
            "value": 862328
          }
        },
        "2eba5abd83d440fbbfd9a1bb67b30055": {
          "model_module": "@jupyter-widgets/controls",
          "model_name": "HTMLModel",
          "model_module_version": "1.5.0",
          "state": {
            "_dom_classes": [],
            "_model_module": "@jupyter-widgets/controls",
            "_model_module_version": "1.5.0",
            "_model_name": "HTMLModel",
            "_view_count": null,
            "_view_module": "@jupyter-widgets/controls",
            "_view_module_version": "1.5.0",
            "_view_name": "HTMLView",
            "description": "",
            "description_tooltip": null,
            "layout": "IPY_MODEL_3f097e27885c46b6943b492c4bc7f5fd",
            "placeholder": "​",
            "style": "IPY_MODEL_ad7b937e6c164a09a28d52865043d626",
            "value": " 862k/862k [00:00&lt;00:00, 7.13MB/s]"
          }
        },
        "f3e0f23a102849d6ad7c924bbcfaf85f": {
          "model_module": "@jupyter-widgets/base",
          "model_name": "LayoutModel",
          "model_module_version": "1.2.0",
          "state": {
            "_model_module": "@jupyter-widgets/base",
            "_model_module_version": "1.2.0",
            "_model_name": "LayoutModel",
            "_view_count": null,
            "_view_module": "@jupyter-widgets/base",
            "_view_module_version": "1.2.0",
            "_view_name": "LayoutView",
            "align_content": null,
            "align_items": null,
            "align_self": null,
            "border": null,
            "bottom": null,
            "display": null,
            "flex": null,
            "flex_flow": null,
            "grid_area": null,
            "grid_auto_columns": null,
            "grid_auto_flow": null,
            "grid_auto_rows": null,
            "grid_column": null,
            "grid_gap": null,
            "grid_row": null,
            "grid_template_areas": null,
            "grid_template_columns": null,
            "grid_template_rows": null,
            "height": null,
            "justify_content": null,
            "justify_items": null,
            "left": null,
            "margin": null,
            "max_height": null,
            "max_width": null,
            "min_height": null,
            "min_width": null,
            "object_fit": null,
            "object_position": null,
            "order": null,
            "overflow": null,
            "overflow_x": null,
            "overflow_y": null,
            "padding": null,
            "right": null,
            "top": null,
            "visibility": null,
            "width": null
          }
        },
        "b29253de2bf14f32a935ce96c323ddf3": {
          "model_module": "@jupyter-widgets/base",
          "model_name": "LayoutModel",
          "model_module_version": "1.2.0",
          "state": {
            "_model_module": "@jupyter-widgets/base",
            "_model_module_version": "1.2.0",
            "_model_name": "LayoutModel",
            "_view_count": null,
            "_view_module": "@jupyter-widgets/base",
            "_view_module_version": "1.2.0",
            "_view_name": "LayoutView",
            "align_content": null,
            "align_items": null,
            "align_self": null,
            "border": null,
            "bottom": null,
            "display": null,
            "flex": null,
            "flex_flow": null,
            "grid_area": null,
            "grid_auto_columns": null,
            "grid_auto_flow": null,
            "grid_auto_rows": null,
            "grid_column": null,
            "grid_gap": null,
            "grid_row": null,
            "grid_template_areas": null,
            "grid_template_columns": null,
            "grid_template_rows": null,
            "height": null,
            "justify_content": null,
            "justify_items": null,
            "left": null,
            "margin": null,
            "max_height": null,
            "max_width": null,
            "min_height": null,
            "min_width": null,
            "object_fit": null,
            "object_position": null,
            "order": null,
            "overflow": null,
            "overflow_x": null,
            "overflow_y": null,
            "padding": null,
            "right": null,
            "top": null,
            "visibility": null,
            "width": null
          }
        },
        "db80445305604e1cb92a383e19fe1ee0": {
          "model_module": "@jupyter-widgets/controls",
          "model_name": "DescriptionStyleModel",
          "model_module_version": "1.5.0",
          "state": {
            "_model_module": "@jupyter-widgets/controls",
            "_model_module_version": "1.5.0",
            "_model_name": "DescriptionStyleModel",
            "_view_count": null,
            "_view_module": "@jupyter-widgets/base",
            "_view_module_version": "1.2.0",
            "_view_name": "StyleView",
            "description_width": ""
          }
        },
        "0d41e5d638904e5696d4772dad23a5c8": {
          "model_module": "@jupyter-widgets/base",
          "model_name": "LayoutModel",
          "model_module_version": "1.2.0",
          "state": {
            "_model_module": "@jupyter-widgets/base",
            "_model_module_version": "1.2.0",
            "_model_name": "LayoutModel",
            "_view_count": null,
            "_view_module": "@jupyter-widgets/base",
            "_view_module_version": "1.2.0",
            "_view_name": "LayoutView",
            "align_content": null,
            "align_items": null,
            "align_self": null,
            "border": null,
            "bottom": null,
            "display": null,
            "flex": null,
            "flex_flow": null,
            "grid_area": null,
            "grid_auto_columns": null,
            "grid_auto_flow": null,
            "grid_auto_rows": null,
            "grid_column": null,
            "grid_gap": null,
            "grid_row": null,
            "grid_template_areas": null,
            "grid_template_columns": null,
            "grid_template_rows": null,
            "height": null,
            "justify_content": null,
            "justify_items": null,
            "left": null,
            "margin": null,
            "max_height": null,
            "max_width": null,
            "min_height": null,
            "min_width": null,
            "object_fit": null,
            "object_position": null,
            "order": null,
            "overflow": null,
            "overflow_x": null,
            "overflow_y": null,
            "padding": null,
            "right": null,
            "top": null,
            "visibility": null,
            "width": null
          }
        },
        "a86ee1f32ad1423083a79850e45e61f7": {
          "model_module": "@jupyter-widgets/controls",
          "model_name": "ProgressStyleModel",
          "model_module_version": "1.5.0",
          "state": {
            "_model_module": "@jupyter-widgets/controls",
            "_model_module_version": "1.5.0",
            "_model_name": "ProgressStyleModel",
            "_view_count": null,
            "_view_module": "@jupyter-widgets/base",
            "_view_module_version": "1.2.0",
            "_view_name": "StyleView",
            "bar_color": null,
            "description_width": ""
          }
        },
        "3f097e27885c46b6943b492c4bc7f5fd": {
          "model_module": "@jupyter-widgets/base",
          "model_name": "LayoutModel",
          "model_module_version": "1.2.0",
          "state": {
            "_model_module": "@jupyter-widgets/base",
            "_model_module_version": "1.2.0",
            "_model_name": "LayoutModel",
            "_view_count": null,
            "_view_module": "@jupyter-widgets/base",
            "_view_module_version": "1.2.0",
            "_view_name": "LayoutView",
            "align_content": null,
            "align_items": null,
            "align_self": null,
            "border": null,
            "bottom": null,
            "display": null,
            "flex": null,
            "flex_flow": null,
            "grid_area": null,
            "grid_auto_columns": null,
            "grid_auto_flow": null,
            "grid_auto_rows": null,
            "grid_column": null,
            "grid_gap": null,
            "grid_row": null,
            "grid_template_areas": null,
            "grid_template_columns": null,
            "grid_template_rows": null,
            "height": null,
            "justify_content": null,
            "justify_items": null,
            "left": null,
            "margin": null,
            "max_height": null,
            "max_width": null,
            "min_height": null,
            "min_width": null,
            "object_fit": null,
            "object_position": null,
            "order": null,
            "overflow": null,
            "overflow_x": null,
            "overflow_y": null,
            "padding": null,
            "right": null,
            "top": null,
            "visibility": null,
            "width": null
          }
        },
        "ad7b937e6c164a09a28d52865043d626": {
          "model_module": "@jupyter-widgets/controls",
          "model_name": "DescriptionStyleModel",
          "model_module_version": "1.5.0",
          "state": {
            "_model_module": "@jupyter-widgets/controls",
            "_model_module_version": "1.5.0",
            "_model_name": "DescriptionStyleModel",
            "_view_count": null,
            "_view_module": "@jupyter-widgets/base",
            "_view_module_version": "1.2.0",
            "_view_name": "StyleView",
            "description_width": ""
          }
        },
        "c4311fd19b4c4af39eb093ff0c8c76ea": {
          "model_module": "@jupyter-widgets/controls",
          "model_name": "HBoxModel",
          "model_module_version": "1.5.0",
          "state": {
            "_dom_classes": [],
            "_model_module": "@jupyter-widgets/controls",
            "_model_module_version": "1.5.0",
            "_model_name": "HBoxModel",
            "_view_count": null,
            "_view_module": "@jupyter-widgets/controls",
            "_view_module_version": "1.5.0",
            "_view_name": "HBoxView",
            "box_style": "",
            "children": [
              "IPY_MODEL_ad7ed6695e8249e3a1e6842cda423d96",
              "IPY_MODEL_9023434aa3034c44a9adf6e2ba49db17",
              "IPY_MODEL_ba1797af521c4ef883b9a29b35a7b26d"
            ],
            "layout": "IPY_MODEL_f6a219bc0e20409f8d2d3bf586bea781"
          }
        },
        "ad7ed6695e8249e3a1e6842cda423d96": {
          "model_module": "@jupyter-widgets/controls",
          "model_name": "HTMLModel",
          "model_module_version": "1.5.0",
          "state": {
            "_dom_classes": [],
            "_model_module": "@jupyter-widgets/controls",
            "_model_module_version": "1.5.0",
            "_model_name": "HTMLModel",
            "_view_count": null,
            "_view_module": "@jupyter-widgets/controls",
            "_view_module_version": "1.5.0",
            "_view_name": "HTMLView",
            "description": "",
            "description_tooltip": null,
            "layout": "IPY_MODEL_4631db08aa8441a8af7bc7fbef9a9649",
            "placeholder": "​",
            "style": "IPY_MODEL_c5d32a2968344c23964645417dc312ac",
            "value": "Downloading (…)olve/main/merges.txt: 100%"
          }
        },
        "9023434aa3034c44a9adf6e2ba49db17": {
          "model_module": "@jupyter-widgets/controls",
          "model_name": "FloatProgressModel",
          "model_module_version": "1.5.0",
          "state": {
            "_dom_classes": [],
            "_model_module": "@jupyter-widgets/controls",
            "_model_module_version": "1.5.0",
            "_model_name": "FloatProgressModel",
            "_view_count": null,
            "_view_module": "@jupyter-widgets/controls",
            "_view_module_version": "1.5.0",
            "_view_name": "ProgressView",
            "bar_style": "success",
            "description": "",
            "description_tooltip": null,
            "layout": "IPY_MODEL_9bb7a3ec5323453c9a74b43a0784de23",
            "max": 524657,
            "min": 0,
            "orientation": "horizontal",
            "style": "IPY_MODEL_2e5666c316944c789d477350b79e3b9d",
            "value": 524657
          }
        },
        "ba1797af521c4ef883b9a29b35a7b26d": {
          "model_module": "@jupyter-widgets/controls",
          "model_name": "HTMLModel",
          "model_module_version": "1.5.0",
          "state": {
            "_dom_classes": [],
            "_model_module": "@jupyter-widgets/controls",
            "_model_module_version": "1.5.0",
            "_model_name": "HTMLModel",
            "_view_count": null,
            "_view_module": "@jupyter-widgets/controls",
            "_view_module_version": "1.5.0",
            "_view_name": "HTMLView",
            "description": "",
            "description_tooltip": null,
            "layout": "IPY_MODEL_4778f4362a374f04a27d09936a0044ee",
            "placeholder": "​",
            "style": "IPY_MODEL_c51c98e43d3d4d28a0cf00a87a62fa27",
            "value": " 525k/525k [00:00&lt;00:00, 5.08MB/s]"
          }
        },
        "f6a219bc0e20409f8d2d3bf586bea781": {
          "model_module": "@jupyter-widgets/base",
          "model_name": "LayoutModel",
          "model_module_version": "1.2.0",
          "state": {
            "_model_module": "@jupyter-widgets/base",
            "_model_module_version": "1.2.0",
            "_model_name": "LayoutModel",
            "_view_count": null,
            "_view_module": "@jupyter-widgets/base",
            "_view_module_version": "1.2.0",
            "_view_name": "LayoutView",
            "align_content": null,
            "align_items": null,
            "align_self": null,
            "border": null,
            "bottom": null,
            "display": null,
            "flex": null,
            "flex_flow": null,
            "grid_area": null,
            "grid_auto_columns": null,
            "grid_auto_flow": null,
            "grid_auto_rows": null,
            "grid_column": null,
            "grid_gap": null,
            "grid_row": null,
            "grid_template_areas": null,
            "grid_template_columns": null,
            "grid_template_rows": null,
            "height": null,
            "justify_content": null,
            "justify_items": null,
            "left": null,
            "margin": null,
            "max_height": null,
            "max_width": null,
            "min_height": null,
            "min_width": null,
            "object_fit": null,
            "object_position": null,
            "order": null,
            "overflow": null,
            "overflow_x": null,
            "overflow_y": null,
            "padding": null,
            "right": null,
            "top": null,
            "visibility": null,
            "width": null
          }
        },
        "4631db08aa8441a8af7bc7fbef9a9649": {
          "model_module": "@jupyter-widgets/base",
          "model_name": "LayoutModel",
          "model_module_version": "1.2.0",
          "state": {
            "_model_module": "@jupyter-widgets/base",
            "_model_module_version": "1.2.0",
            "_model_name": "LayoutModel",
            "_view_count": null,
            "_view_module": "@jupyter-widgets/base",
            "_view_module_version": "1.2.0",
            "_view_name": "LayoutView",
            "align_content": null,
            "align_items": null,
            "align_self": null,
            "border": null,
            "bottom": null,
            "display": null,
            "flex": null,
            "flex_flow": null,
            "grid_area": null,
            "grid_auto_columns": null,
            "grid_auto_flow": null,
            "grid_auto_rows": null,
            "grid_column": null,
            "grid_gap": null,
            "grid_row": null,
            "grid_template_areas": null,
            "grid_template_columns": null,
            "grid_template_rows": null,
            "height": null,
            "justify_content": null,
            "justify_items": null,
            "left": null,
            "margin": null,
            "max_height": null,
            "max_width": null,
            "min_height": null,
            "min_width": null,
            "object_fit": null,
            "object_position": null,
            "order": null,
            "overflow": null,
            "overflow_x": null,
            "overflow_y": null,
            "padding": null,
            "right": null,
            "top": null,
            "visibility": null,
            "width": null
          }
        },
        "c5d32a2968344c23964645417dc312ac": {
          "model_module": "@jupyter-widgets/controls",
          "model_name": "DescriptionStyleModel",
          "model_module_version": "1.5.0",
          "state": {
            "_model_module": "@jupyter-widgets/controls",
            "_model_module_version": "1.5.0",
            "_model_name": "DescriptionStyleModel",
            "_view_count": null,
            "_view_module": "@jupyter-widgets/base",
            "_view_module_version": "1.2.0",
            "_view_name": "StyleView",
            "description_width": ""
          }
        },
        "9bb7a3ec5323453c9a74b43a0784de23": {
          "model_module": "@jupyter-widgets/base",
          "model_name": "LayoutModel",
          "model_module_version": "1.2.0",
          "state": {
            "_model_module": "@jupyter-widgets/base",
            "_model_module_version": "1.2.0",
            "_model_name": "LayoutModel",
            "_view_count": null,
            "_view_module": "@jupyter-widgets/base",
            "_view_module_version": "1.2.0",
            "_view_name": "LayoutView",
            "align_content": null,
            "align_items": null,
            "align_self": null,
            "border": null,
            "bottom": null,
            "display": null,
            "flex": null,
            "flex_flow": null,
            "grid_area": null,
            "grid_auto_columns": null,
            "grid_auto_flow": null,
            "grid_auto_rows": null,
            "grid_column": null,
            "grid_gap": null,
            "grid_row": null,
            "grid_template_areas": null,
            "grid_template_columns": null,
            "grid_template_rows": null,
            "height": null,
            "justify_content": null,
            "justify_items": null,
            "left": null,
            "margin": null,
            "max_height": null,
            "max_width": null,
            "min_height": null,
            "min_width": null,
            "object_fit": null,
            "object_position": null,
            "order": null,
            "overflow": null,
            "overflow_x": null,
            "overflow_y": null,
            "padding": null,
            "right": null,
            "top": null,
            "visibility": null,
            "width": null
          }
        },
        "2e5666c316944c789d477350b79e3b9d": {
          "model_module": "@jupyter-widgets/controls",
          "model_name": "ProgressStyleModel",
          "model_module_version": "1.5.0",
          "state": {
            "_model_module": "@jupyter-widgets/controls",
            "_model_module_version": "1.5.0",
            "_model_name": "ProgressStyleModel",
            "_view_count": null,
            "_view_module": "@jupyter-widgets/base",
            "_view_module_version": "1.2.0",
            "_view_name": "StyleView",
            "bar_color": null,
            "description_width": ""
          }
        },
        "4778f4362a374f04a27d09936a0044ee": {
          "model_module": "@jupyter-widgets/base",
          "model_name": "LayoutModel",
          "model_module_version": "1.2.0",
          "state": {
            "_model_module": "@jupyter-widgets/base",
            "_model_module_version": "1.2.0",
            "_model_name": "LayoutModel",
            "_view_count": null,
            "_view_module": "@jupyter-widgets/base",
            "_view_module_version": "1.2.0",
            "_view_name": "LayoutView",
            "align_content": null,
            "align_items": null,
            "align_self": null,
            "border": null,
            "bottom": null,
            "display": null,
            "flex": null,
            "flex_flow": null,
            "grid_area": null,
            "grid_auto_columns": null,
            "grid_auto_flow": null,
            "grid_auto_rows": null,
            "grid_column": null,
            "grid_gap": null,
            "grid_row": null,
            "grid_template_areas": null,
            "grid_template_columns": null,
            "grid_template_rows": null,
            "height": null,
            "justify_content": null,
            "justify_items": null,
            "left": null,
            "margin": null,
            "max_height": null,
            "max_width": null,
            "min_height": null,
            "min_width": null,
            "object_fit": null,
            "object_position": null,
            "order": null,
            "overflow": null,
            "overflow_x": null,
            "overflow_y": null,
            "padding": null,
            "right": null,
            "top": null,
            "visibility": null,
            "width": null
          }
        },
        "c51c98e43d3d4d28a0cf00a87a62fa27": {
          "model_module": "@jupyter-widgets/controls",
          "model_name": "DescriptionStyleModel",
          "model_module_version": "1.5.0",
          "state": {
            "_model_module": "@jupyter-widgets/controls",
            "_model_module_version": "1.5.0",
            "_model_name": "DescriptionStyleModel",
            "_view_count": null,
            "_view_module": "@jupyter-widgets/base",
            "_view_module_version": "1.2.0",
            "_view_name": "StyleView",
            "description_width": ""
          }
        },
        "398c2dbe2ec046edab96d9001cfbb85e": {
          "model_module": "@jupyter-widgets/controls",
          "model_name": "HBoxModel",
          "model_module_version": "1.5.0",
          "state": {
            "_dom_classes": [],
            "_model_module": "@jupyter-widgets/controls",
            "_model_module_version": "1.5.0",
            "_model_name": "HBoxModel",
            "_view_count": null,
            "_view_module": "@jupyter-widgets/controls",
            "_view_module_version": "1.5.0",
            "_view_name": "HBoxView",
            "box_style": "",
            "children": [
              "IPY_MODEL_e12bd392e5024491a8b9cc3eb367e396",
              "IPY_MODEL_82b0670f8f0e4b28adfe9af1cb7affed",
              "IPY_MODEL_d3d89c3c990c48ccb44c7095f49782fd"
            ],
            "layout": "IPY_MODEL_447b8603a8884ba5854c5c4fde8a95a6"
          }
        },
        "e12bd392e5024491a8b9cc3eb367e396": {
          "model_module": "@jupyter-widgets/controls",
          "model_name": "HTMLModel",
          "model_module_version": "1.5.0",
          "state": {
            "_dom_classes": [],
            "_model_module": "@jupyter-widgets/controls",
            "_model_module_version": "1.5.0",
            "_model_name": "HTMLModel",
            "_view_count": null,
            "_view_module": "@jupyter-widgets/controls",
            "_view_module_version": "1.5.0",
            "_view_name": "HTMLView",
            "description": "",
            "description_tooltip": null,
            "layout": "IPY_MODEL_64afa7daec174fd687b64277b464f54a",
            "placeholder": "​",
            "style": "IPY_MODEL_ce593f6b39d34358b16c7e497953612e",
            "value": "Downloading (…)/main/tokenizer.json: 100%"
          }
        },
        "82b0670f8f0e4b28adfe9af1cb7affed": {
          "model_module": "@jupyter-widgets/controls",
          "model_name": "FloatProgressModel",
          "model_module_version": "1.5.0",
          "state": {
            "_dom_classes": [],
            "_model_module": "@jupyter-widgets/controls",
            "_model_module_version": "1.5.0",
            "_model_name": "FloatProgressModel",
            "_view_count": null,
            "_view_module": "@jupyter-widgets/controls",
            "_view_module_version": "1.5.0",
            "_view_name": "ProgressView",
            "bar_style": "success",
            "description": "",
            "description_tooltip": null,
            "layout": "IPY_MODEL_48bdd5f8583f43fda77c5ad3945ff1ea",
            "max": 2224041,
            "min": 0,
            "orientation": "horizontal",
            "style": "IPY_MODEL_1dfc6067cdb0470b965406d03947c906",
            "value": 2224041
          }
        },
        "d3d89c3c990c48ccb44c7095f49782fd": {
          "model_module": "@jupyter-widgets/controls",
          "model_name": "HTMLModel",
          "model_module_version": "1.5.0",
          "state": {
            "_dom_classes": [],
            "_model_module": "@jupyter-widgets/controls",
            "_model_module_version": "1.5.0",
            "_model_name": "HTMLModel",
            "_view_count": null,
            "_view_module": "@jupyter-widgets/controls",
            "_view_module_version": "1.5.0",
            "_view_name": "HTMLView",
            "description": "",
            "description_tooltip": null,
            "layout": "IPY_MODEL_39e52b0a8d364d84a9cd9bd7e2d5752b",
            "placeholder": "​",
            "style": "IPY_MODEL_0b5df368183d4b138bb4879799086720",
            "value": " 2.22M/2.22M [00:00&lt;00:00, 15.6MB/s]"
          }
        },
        "447b8603a8884ba5854c5c4fde8a95a6": {
          "model_module": "@jupyter-widgets/base",
          "model_name": "LayoutModel",
          "model_module_version": "1.2.0",
          "state": {
            "_model_module": "@jupyter-widgets/base",
            "_model_module_version": "1.2.0",
            "_model_name": "LayoutModel",
            "_view_count": null,
            "_view_module": "@jupyter-widgets/base",
            "_view_module_version": "1.2.0",
            "_view_name": "LayoutView",
            "align_content": null,
            "align_items": null,
            "align_self": null,
            "border": null,
            "bottom": null,
            "display": null,
            "flex": null,
            "flex_flow": null,
            "grid_area": null,
            "grid_auto_columns": null,
            "grid_auto_flow": null,
            "grid_auto_rows": null,
            "grid_column": null,
            "grid_gap": null,
            "grid_row": null,
            "grid_template_areas": null,
            "grid_template_columns": null,
            "grid_template_rows": null,
            "height": null,
            "justify_content": null,
            "justify_items": null,
            "left": null,
            "margin": null,
            "max_height": null,
            "max_width": null,
            "min_height": null,
            "min_width": null,
            "object_fit": null,
            "object_position": null,
            "order": null,
            "overflow": null,
            "overflow_x": null,
            "overflow_y": null,
            "padding": null,
            "right": null,
            "top": null,
            "visibility": null,
            "width": null
          }
        },
        "64afa7daec174fd687b64277b464f54a": {
          "model_module": "@jupyter-widgets/base",
          "model_name": "LayoutModel",
          "model_module_version": "1.2.0",
          "state": {
            "_model_module": "@jupyter-widgets/base",
            "_model_module_version": "1.2.0",
            "_model_name": "LayoutModel",
            "_view_count": null,
            "_view_module": "@jupyter-widgets/base",
            "_view_module_version": "1.2.0",
            "_view_name": "LayoutView",
            "align_content": null,
            "align_items": null,
            "align_self": null,
            "border": null,
            "bottom": null,
            "display": null,
            "flex": null,
            "flex_flow": null,
            "grid_area": null,
            "grid_auto_columns": null,
            "grid_auto_flow": null,
            "grid_auto_rows": null,
            "grid_column": null,
            "grid_gap": null,
            "grid_row": null,
            "grid_template_areas": null,
            "grid_template_columns": null,
            "grid_template_rows": null,
            "height": null,
            "justify_content": null,
            "justify_items": null,
            "left": null,
            "margin": null,
            "max_height": null,
            "max_width": null,
            "min_height": null,
            "min_width": null,
            "object_fit": null,
            "object_position": null,
            "order": null,
            "overflow": null,
            "overflow_x": null,
            "overflow_y": null,
            "padding": null,
            "right": null,
            "top": null,
            "visibility": null,
            "width": null
          }
        },
        "ce593f6b39d34358b16c7e497953612e": {
          "model_module": "@jupyter-widgets/controls",
          "model_name": "DescriptionStyleModel",
          "model_module_version": "1.5.0",
          "state": {
            "_model_module": "@jupyter-widgets/controls",
            "_model_module_version": "1.5.0",
            "_model_name": "DescriptionStyleModel",
            "_view_count": null,
            "_view_module": "@jupyter-widgets/base",
            "_view_module_version": "1.2.0",
            "_view_name": "StyleView",
            "description_width": ""
          }
        },
        "48bdd5f8583f43fda77c5ad3945ff1ea": {
          "model_module": "@jupyter-widgets/base",
          "model_name": "LayoutModel",
          "model_module_version": "1.2.0",
          "state": {
            "_model_module": "@jupyter-widgets/base",
            "_model_module_version": "1.2.0",
            "_model_name": "LayoutModel",
            "_view_count": null,
            "_view_module": "@jupyter-widgets/base",
            "_view_module_version": "1.2.0",
            "_view_name": "LayoutView",
            "align_content": null,
            "align_items": null,
            "align_self": null,
            "border": null,
            "bottom": null,
            "display": null,
            "flex": null,
            "flex_flow": null,
            "grid_area": null,
            "grid_auto_columns": null,
            "grid_auto_flow": null,
            "grid_auto_rows": null,
            "grid_column": null,
            "grid_gap": null,
            "grid_row": null,
            "grid_template_areas": null,
            "grid_template_columns": null,
            "grid_template_rows": null,
            "height": null,
            "justify_content": null,
            "justify_items": null,
            "left": null,
            "margin": null,
            "max_height": null,
            "max_width": null,
            "min_height": null,
            "min_width": null,
            "object_fit": null,
            "object_position": null,
            "order": null,
            "overflow": null,
            "overflow_x": null,
            "overflow_y": null,
            "padding": null,
            "right": null,
            "top": null,
            "visibility": null,
            "width": null
          }
        },
        "1dfc6067cdb0470b965406d03947c906": {
          "model_module": "@jupyter-widgets/controls",
          "model_name": "ProgressStyleModel",
          "model_module_version": "1.5.0",
          "state": {
            "_model_module": "@jupyter-widgets/controls",
            "_model_module_version": "1.5.0",
            "_model_name": "ProgressStyleModel",
            "_view_count": null,
            "_view_module": "@jupyter-widgets/base",
            "_view_module_version": "1.2.0",
            "_view_name": "StyleView",
            "bar_color": null,
            "description_width": ""
          }
        },
        "39e52b0a8d364d84a9cd9bd7e2d5752b": {
          "model_module": "@jupyter-widgets/base",
          "model_name": "LayoutModel",
          "model_module_version": "1.2.0",
          "state": {
            "_model_module": "@jupyter-widgets/base",
            "_model_module_version": "1.2.0",
            "_model_name": "LayoutModel",
            "_view_count": null,
            "_view_module": "@jupyter-widgets/base",
            "_view_module_version": "1.2.0",
            "_view_name": "LayoutView",
            "align_content": null,
            "align_items": null,
            "align_self": null,
            "border": null,
            "bottom": null,
            "display": null,
            "flex": null,
            "flex_flow": null,
            "grid_area": null,
            "grid_auto_columns": null,
            "grid_auto_flow": null,
            "grid_auto_rows": null,
            "grid_column": null,
            "grid_gap": null,
            "grid_row": null,
            "grid_template_areas": null,
            "grid_template_columns": null,
            "grid_template_rows": null,
            "height": null,
            "justify_content": null,
            "justify_items": null,
            "left": null,
            "margin": null,
            "max_height": null,
            "max_width": null,
            "min_height": null,
            "min_width": null,
            "object_fit": null,
            "object_position": null,
            "order": null,
            "overflow": null,
            "overflow_x": null,
            "overflow_y": null,
            "padding": null,
            "right": null,
            "top": null,
            "visibility": null,
            "width": null
          }
        },
        "0b5df368183d4b138bb4879799086720": {
          "model_module": "@jupyter-widgets/controls",
          "model_name": "DescriptionStyleModel",
          "model_module_version": "1.5.0",
          "state": {
            "_model_module": "@jupyter-widgets/controls",
            "_model_module_version": "1.5.0",
            "_model_name": "DescriptionStyleModel",
            "_view_count": null,
            "_view_module": "@jupyter-widgets/base",
            "_view_module_version": "1.2.0",
            "_view_name": "StyleView",
            "description_width": ""
          }
        },
        "272911b1b5054563875a0f57ddbd1783": {
          "model_module": "@jupyter-widgets/controls",
          "model_name": "HBoxModel",
          "model_module_version": "1.5.0",
          "state": {
            "_dom_classes": [],
            "_model_module": "@jupyter-widgets/controls",
            "_model_module_version": "1.5.0",
            "_model_name": "HBoxModel",
            "_view_count": null,
            "_view_module": "@jupyter-widgets/controls",
            "_view_module_version": "1.5.0",
            "_view_name": "HBoxView",
            "box_style": "",
            "children": [
              "IPY_MODEL_5cc1d90b028b4fc08e86aa39747666ec",
              "IPY_MODEL_aff3be7df0984e27b96783b99b32e80a",
              "IPY_MODEL_0e9b602f5c794089be6e445196ae8ea3"
            ],
            "layout": "IPY_MODEL_e211b85ca8424db09c395703deb37569"
          }
        },
        "5cc1d90b028b4fc08e86aa39747666ec": {
          "model_module": "@jupyter-widgets/controls",
          "model_name": "HTMLModel",
          "model_module_version": "1.5.0",
          "state": {
            "_dom_classes": [],
            "_model_module": "@jupyter-widgets/controls",
            "_model_module_version": "1.5.0",
            "_model_name": "HTMLModel",
            "_view_count": null,
            "_view_module": "@jupyter-widgets/controls",
            "_view_module_version": "1.5.0",
            "_view_name": "HTMLView",
            "description": "",
            "description_tooltip": null,
            "layout": "IPY_MODEL_0b3cffc1e3ab4907b15dadf25fe48b3b",
            "placeholder": "​",
            "style": "IPY_MODEL_e687836c8d564ea4b8c8d64077b4daab",
            "value": "Downloading (…)cial_tokens_map.json: 100%"
          }
        },
        "aff3be7df0984e27b96783b99b32e80a": {
          "model_module": "@jupyter-widgets/controls",
          "model_name": "FloatProgressModel",
          "model_module_version": "1.5.0",
          "state": {
            "_dom_classes": [],
            "_model_module": "@jupyter-widgets/controls",
            "_model_module_version": "1.5.0",
            "_model_name": "FloatProgressModel",
            "_view_count": null,
            "_view_module": "@jupyter-widgets/controls",
            "_view_module_version": "1.5.0",
            "_view_name": "ProgressView",
            "bar_style": "success",
            "description": "",
            "description_tooltip": null,
            "layout": "IPY_MODEL_92becf450c5a4171baa9b588d51a0309",
            "max": 389,
            "min": 0,
            "orientation": "horizontal",
            "style": "IPY_MODEL_0cbf46466f50411db565e9fbff0e34ef",
            "value": 389
          }
        },
        "0e9b602f5c794089be6e445196ae8ea3": {
          "model_module": "@jupyter-widgets/controls",
          "model_name": "HTMLModel",
          "model_module_version": "1.5.0",
          "state": {
            "_dom_classes": [],
            "_model_module": "@jupyter-widgets/controls",
            "_model_module_version": "1.5.0",
            "_model_name": "HTMLModel",
            "_view_count": null,
            "_view_module": "@jupyter-widgets/controls",
            "_view_module_version": "1.5.0",
            "_view_name": "HTMLView",
            "description": "",
            "description_tooltip": null,
            "layout": "IPY_MODEL_0e9cfd63213549b482caaf0f4243308a",
            "placeholder": "​",
            "style": "IPY_MODEL_a660aa52897740d4beb0fc08403a1469",
            "value": " 389/389 [00:00&lt;00:00, 7.17kB/s]"
          }
        },
        "e211b85ca8424db09c395703deb37569": {
          "model_module": "@jupyter-widgets/base",
          "model_name": "LayoutModel",
          "model_module_version": "1.2.0",
          "state": {
            "_model_module": "@jupyter-widgets/base",
            "_model_module_version": "1.2.0",
            "_model_name": "LayoutModel",
            "_view_count": null,
            "_view_module": "@jupyter-widgets/base",
            "_view_module_version": "1.2.0",
            "_view_name": "LayoutView",
            "align_content": null,
            "align_items": null,
            "align_self": null,
            "border": null,
            "bottom": null,
            "display": null,
            "flex": null,
            "flex_flow": null,
            "grid_area": null,
            "grid_auto_columns": null,
            "grid_auto_flow": null,
            "grid_auto_rows": null,
            "grid_column": null,
            "grid_gap": null,
            "grid_row": null,
            "grid_template_areas": null,
            "grid_template_columns": null,
            "grid_template_rows": null,
            "height": null,
            "justify_content": null,
            "justify_items": null,
            "left": null,
            "margin": null,
            "max_height": null,
            "max_width": null,
            "min_height": null,
            "min_width": null,
            "object_fit": null,
            "object_position": null,
            "order": null,
            "overflow": null,
            "overflow_x": null,
            "overflow_y": null,
            "padding": null,
            "right": null,
            "top": null,
            "visibility": null,
            "width": null
          }
        },
        "0b3cffc1e3ab4907b15dadf25fe48b3b": {
          "model_module": "@jupyter-widgets/base",
          "model_name": "LayoutModel",
          "model_module_version": "1.2.0",
          "state": {
            "_model_module": "@jupyter-widgets/base",
            "_model_module_version": "1.2.0",
            "_model_name": "LayoutModel",
            "_view_count": null,
            "_view_module": "@jupyter-widgets/base",
            "_view_module_version": "1.2.0",
            "_view_name": "LayoutView",
            "align_content": null,
            "align_items": null,
            "align_self": null,
            "border": null,
            "bottom": null,
            "display": null,
            "flex": null,
            "flex_flow": null,
            "grid_area": null,
            "grid_auto_columns": null,
            "grid_auto_flow": null,
            "grid_auto_rows": null,
            "grid_column": null,
            "grid_gap": null,
            "grid_row": null,
            "grid_template_areas": null,
            "grid_template_columns": null,
            "grid_template_rows": null,
            "height": null,
            "justify_content": null,
            "justify_items": null,
            "left": null,
            "margin": null,
            "max_height": null,
            "max_width": null,
            "min_height": null,
            "min_width": null,
            "object_fit": null,
            "object_position": null,
            "order": null,
            "overflow": null,
            "overflow_x": null,
            "overflow_y": null,
            "padding": null,
            "right": null,
            "top": null,
            "visibility": null,
            "width": null
          }
        },
        "e687836c8d564ea4b8c8d64077b4daab": {
          "model_module": "@jupyter-widgets/controls",
          "model_name": "DescriptionStyleModel",
          "model_module_version": "1.5.0",
          "state": {
            "_model_module": "@jupyter-widgets/controls",
            "_model_module_version": "1.5.0",
            "_model_name": "DescriptionStyleModel",
            "_view_count": null,
            "_view_module": "@jupyter-widgets/base",
            "_view_module_version": "1.2.0",
            "_view_name": "StyleView",
            "description_width": ""
          }
        },
        "92becf450c5a4171baa9b588d51a0309": {
          "model_module": "@jupyter-widgets/base",
          "model_name": "LayoutModel",
          "model_module_version": "1.2.0",
          "state": {
            "_model_module": "@jupyter-widgets/base",
            "_model_module_version": "1.2.0",
            "_model_name": "LayoutModel",
            "_view_count": null,
            "_view_module": "@jupyter-widgets/base",
            "_view_module_version": "1.2.0",
            "_view_name": "LayoutView",
            "align_content": null,
            "align_items": null,
            "align_self": null,
            "border": null,
            "bottom": null,
            "display": null,
            "flex": null,
            "flex_flow": null,
            "grid_area": null,
            "grid_auto_columns": null,
            "grid_auto_flow": null,
            "grid_auto_rows": null,
            "grid_column": null,
            "grid_gap": null,
            "grid_row": null,
            "grid_template_areas": null,
            "grid_template_columns": null,
            "grid_template_rows": null,
            "height": null,
            "justify_content": null,
            "justify_items": null,
            "left": null,
            "margin": null,
            "max_height": null,
            "max_width": null,
            "min_height": null,
            "min_width": null,
            "object_fit": null,
            "object_position": null,
            "order": null,
            "overflow": null,
            "overflow_x": null,
            "overflow_y": null,
            "padding": null,
            "right": null,
            "top": null,
            "visibility": null,
            "width": null
          }
        },
        "0cbf46466f50411db565e9fbff0e34ef": {
          "model_module": "@jupyter-widgets/controls",
          "model_name": "ProgressStyleModel",
          "model_module_version": "1.5.0",
          "state": {
            "_model_module": "@jupyter-widgets/controls",
            "_model_module_version": "1.5.0",
            "_model_name": "ProgressStyleModel",
            "_view_count": null,
            "_view_module": "@jupyter-widgets/base",
            "_view_module_version": "1.2.0",
            "_view_name": "StyleView",
            "bar_color": null,
            "description_width": ""
          }
        },
        "0e9cfd63213549b482caaf0f4243308a": {
          "model_module": "@jupyter-widgets/base",
          "model_name": "LayoutModel",
          "model_module_version": "1.2.0",
          "state": {
            "_model_module": "@jupyter-widgets/base",
            "_model_module_version": "1.2.0",
            "_model_name": "LayoutModel",
            "_view_count": null,
            "_view_module": "@jupyter-widgets/base",
            "_view_module_version": "1.2.0",
            "_view_name": "LayoutView",
            "align_content": null,
            "align_items": null,
            "align_self": null,
            "border": null,
            "bottom": null,
            "display": null,
            "flex": null,
            "flex_flow": null,
            "grid_area": null,
            "grid_auto_columns": null,
            "grid_auto_flow": null,
            "grid_auto_rows": null,
            "grid_column": null,
            "grid_gap": null,
            "grid_row": null,
            "grid_template_areas": null,
            "grid_template_columns": null,
            "grid_template_rows": null,
            "height": null,
            "justify_content": null,
            "justify_items": null,
            "left": null,
            "margin": null,
            "max_height": null,
            "max_width": null,
            "min_height": null,
            "min_width": null,
            "object_fit": null,
            "object_position": null,
            "order": null,
            "overflow": null,
            "overflow_x": null,
            "overflow_y": null,
            "padding": null,
            "right": null,
            "top": null,
            "visibility": null,
            "width": null
          }
        },
        "a660aa52897740d4beb0fc08403a1469": {
          "model_module": "@jupyter-widgets/controls",
          "model_name": "DescriptionStyleModel",
          "model_module_version": "1.5.0",
          "state": {
            "_model_module": "@jupyter-widgets/controls",
            "_model_module_version": "1.5.0",
            "_model_name": "DescriptionStyleModel",
            "_view_count": null,
            "_view_module": "@jupyter-widgets/base",
            "_view_module_version": "1.2.0",
            "_view_name": "StyleView",
            "description_width": ""
          }
        }
      }
    }
  },
  "nbformat": 4,
  "nbformat_minor": 5
}