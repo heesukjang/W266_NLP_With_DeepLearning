{
  "cells": [
    {
      "cell_type": "markdown",
      "metadata": {
        "id": "view-in-github",
        "colab_type": "text"
      },
      "source": [
        "<a href=\"https://colab.research.google.com/github/heesukjang/W266_NLP_With_DeepLearning/blob/main/image_captioning_REFERENCE_updated.ipynb\" target=\"_parent\"><img src=\"https://colab.research.google.com/assets/colab-badge.svg\" alt=\"Open In Colab\"/></a>"
      ]
    },
    {
      "cell_type": "markdown",
      "id": "24a93076",
      "metadata": {
        "id": "24a93076"
      },
      "source": [
        "# Assignment 4: Image Captioning\n",
        "\n",
        "This assignment is somewhat short.  We want you to spend your time on the project instead!\n",
        "\n",
        "This assignment explores models connecting different modalities - exploring a connection between images and text.  By the time you're done with this assignment, you'll have:\n",
        "\n",
        "* explored MS COCO captioning dataset\n",
        "* investigated a few captioning techniques\n",
        "* worked with CLIP embeddings for images and captions\n",
        "\n",
        "### Setup\n",
        "\n",
        "* run ```sudo apt install unzip``` to install the unzip executable that is required for this assignment.\n",
        "\n",
        "### Data\n",
        "\n",
        "* Download the 2014 validation images, as well as their annotations from https://cocodataset.org/#download.  On your GCP instance, a command like ```curl http://images.cocodataset.org/zips/val2014.zip --output val2014.zip``` for each will do what you need. You'll also want the file named `annotations_trainval2014.zip`.\n",
        "* Unzip both files and name the corresponding directories `val2014` and `annotations` in this assignment directory.\n",
        "\n",
        "**Note:** the file you are downloading is 6GB and takes a couple of minutes to unload.  Once you unzip the files, the ```val2014``` directory contains over 40,000 files.  Please do not list all of the files in your notebook because jupyter will be unhappy with a cell with over 40,000 lines of output.\n",
        "\n"
      ]
    },
    {
      "cell_type": "code",
      "source": [
        "!sudo apt install unzip"
      ],
      "metadata": {
        "id": "VGzzhcKe5KMN",
        "outputId": "38ce8bde-db6a-48cc-e90e-2189f1b50ae5",
        "colab": {
          "base_uri": "https://localhost:8080/"
        }
      },
      "id": "VGzzhcKe5KMN",
      "execution_count": 1,
      "outputs": [
        {
          "output_type": "stream",
          "name": "stdout",
          "text": [
            "Reading package lists... Done\n",
            "Building dependency tree       \n",
            "Reading state information... Done\n",
            "unzip is already the newest version (6.0-25ubuntu1.1).\n",
            "0 upgraded, 0 newly installed, 0 to remove and 23 not upgraded.\n"
          ]
        }
      ]
    },
    {
      "cell_type": "code",
      "source": [
        "!curl http://images.cocodataset.org/zips/val2014.zip --output val2014.zip"
      ],
      "metadata": {
        "colab": {
          "base_uri": "https://localhost:8080/"
        },
        "id": "NY7Kl9fp6WPq",
        "outputId": "457c0c1a-64d5-4dbc-c98a-d64df34b5a96"
      },
      "id": "NY7Kl9fp6WPq",
      "execution_count": 2,
      "outputs": [
        {
          "output_type": "stream",
          "name": "stdout",
          "text": [
            "  % Total    % Received % Xferd  Average Speed   Time    Time     Time  Current\n",
            "                                 Dload  Upload   Total   Spent    Left  Speed\n",
            "100 6337M  100 6337M    0     0  51.2M      0  0:02:03  0:02:03 --:--:-- 57.8M\n"
          ]
        }
      ]
    },
    {
      "cell_type": "code",
      "source": [
        "!curl http://images.cocodataset.org/annotations/annotations_trainval2014.zip --output annotations_trainval2014.zip"
      ],
      "metadata": {
        "colab": {
          "base_uri": "https://localhost:8080/"
        },
        "id": "ia2NLl_36Xzx",
        "outputId": "8115ba50-d4db-41d0-a428-a2133b05be1d"
      },
      "id": "ia2NLl_36Xzx",
      "execution_count": 3,
      "outputs": [
        {
          "output_type": "stream",
          "name": "stdout",
          "text": [
            "  % Total    % Received % Xferd  Average Speed   Time    Time     Time  Current\n",
            "                                 Dload  Upload   Total   Spent    Left  Speed\n",
            "100  241M  100  241M    0     0  81.3M      0  0:00:02  0:00:02 --:--:-- 81.2M\n"
          ]
        }
      ]
    },
    {
      "cell_type": "code",
      "source": [
        "!rm -rf val2014 annotations    \n",
        "!mkdir val2014 annotations"
      ],
      "metadata": {
        "id": "QQ--Ysv-67Ew"
      },
      "id": "QQ--Ysv-67Ew",
      "execution_count": 4,
      "outputs": []
    },
    {
      "cell_type": "code",
      "source": [
        "!unzip val2014.zip > /dev/null"
      ],
      "metadata": {
        "id": "AfIaUR5W66lx"
      },
      "id": "AfIaUR5W66lx",
      "execution_count": 5,
      "outputs": []
    },
    {
      "cell_type": "code",
      "source": [
        "!unzip annotations_trainval2014.zip > /dev/null"
      ],
      "metadata": {
        "id": "u86srkRC66ZZ"
      },
      "id": "u86srkRC66ZZ",
      "execution_count": 6,
      "outputs": []
    },
    {
      "cell_type": "markdown",
      "source": [
        "### Explore the dataset\n",
        "Look in the ```annotations``` directory.  Which file(s) contain the image captions?  Load those into memory here.  Your end goal is to generate a list of tuples for each of train2014 (you don't need the actual images to do this!) and val2014 i.e. ```[(391895, 'val2014/COCO_val2014_000000391895.jpg', 'A man with a red helmet on a small moped on a dirt road. '), ...]```"
      ],
      "metadata": {
        "id": "qoQY0oQAKwX1"
      },
      "id": "qoQY0oQAKwX1"
    },
    {
      "cell_type": "code",
      "source": [
        "!ls -ltr /content/annotations   "
      ],
      "metadata": {
        "colab": {
          "base_uri": "https://localhost:8080/"
        },
        "id": "jaS7VE62QUoS",
        "outputId": "df26741b-6aa8-4d30-f696-9610c5e34743"
      },
      "id": "jaS7VE62QUoS",
      "execution_count": 7,
      "outputs": [
        {
          "output_type": "stream",
          "name": "stdout",
          "text": [
            "total 825028\n",
            "-rw-rw-r-- 1 root root 332556225 Sep  1  2017 instances_train2014.json\n",
            "-rw-rw-r-- 1 root root 160682675 Sep  1  2017 instances_val2014.json\n",
            "-rw-r--r-- 1 root root 170733465 Sep  1  2017 person_keypoints_train2014.json\n",
            "-rw-r--r-- 1 root root  81637509 Sep  1  2017 person_keypoints_val2014.json\n",
            "-rw-rw-r-- 1 root root  66782097 Sep  1  2017 captions_train2014.json\n",
            "-rw-rw-r-- 1 root root  32421077 Sep  1  2017 captions_val2014.json\n"
          ]
        }
      ]
    },
    {
      "cell_type": "code",
      "source": [
        "!ls -c -ltd -- /content/annotations/*caption*.json   # find (list) JSON files containing \"caption\" in the file names"
      ],
      "metadata": {
        "colab": {
          "base_uri": "https://localhost:8080/"
        },
        "id": "jYwWaP3QIGm4",
        "outputId": "6a938083-cc98-4cbe-b1ff-3c706ca48954"
      },
      "id": "jYwWaP3QIGm4",
      "execution_count": 8,
      "outputs": [
        {
          "output_type": "stream",
          "name": "stdout",
          "text": [
            "-rw-rw-r-- 1 root root 32421077 Mar 25 16:44 /content/annotations/captions_val2014.json\n",
            "-rw-rw-r-- 1 root root 66782097 Mar 25 16:44 /content/annotations/captions_train2014.json\n"
          ]
        }
      ]
    },
    {
      "cell_type": "code",
      "source": [
        "import json\n",
        "import pprint\n",
        "\n",
        "with open('/content/annotations/captions_train2014.json') as json_file:\n",
        "  img_caption = json.load(json_file)\n",
        "pprint.pprint(img_caption['annotations'][0])\n",
        "\n",
        "# check duplicate ids from images\n",
        "dict_image = {}\n",
        "for annt in img_caption['images'][:100]:\n",
        "  if 'id' not in annt:\n",
        "    continue\n",
        "  img_id = annt['id']\n",
        "  if img_id not in dict_image:\n",
        "    dict_image[img_id] = []\n",
        "  dict_image[img_id].append(annt)\n",
        "print('len(dict_image): ',len(dict_image))\n",
        "\n",
        "# duplicate image_ids from annotations\n",
        "dict_caption = {}\n",
        "for annt in img_caption['annotations'][:100]:\n",
        "  if 'image_id' not in annt:\n",
        "    continue\n",
        "  img_id = annt['image_id']\n",
        "  if img_id not in dict_caption:\n",
        "    dict_caption[img_id] = []\n",
        "  dict_caption[img_id].append(annt)\n",
        "print('len(dict_caption): ',len(dict_caption))\n",
        "\n",
        "duplicates = [annt for annt in dict_caption.keys() if len(dict_caption) > 1]\n",
        "print(len(duplicates))\n",
        "print(duplicates)\n",
        "pprint.pprint(dict_caption[318556])"
      ],
      "metadata": {
        "id": "BVq_6g_rL25b",
        "outputId": "d9df0d62-8663-4723-bdc6-52f4d50494dc",
        "colab": {
          "base_uri": "https://localhost:8080/"
        }
      },
      "id": "BVq_6g_rL25b",
      "execution_count": 9,
      "outputs": [
        {
          "output_type": "stream",
          "name": "stdout",
          "text": [
            "{'caption': 'A very clean and well decorated empty bathroom',\n",
            " 'id': 48,\n",
            " 'image_id': 318556}\n",
            "len(dict_image):  100\n",
            "len(dict_caption):  59\n",
            "59\n",
            "[318556, 116100, 379340, 134754, 538480, 476220, 299675, 32275, 302443, 25470, 513461, 18691, 285579, 266366, 226658, 124567, 293605, 321194, 479495, 539984, 28231, 350235, 314265, 389006, 31813, 465049, 360334, 524679, 279672, 385716, 44816, 360306, 122802, 515040, 161657, 72704, 28149, 257263, 520049, 503598, 230843, 231029, 174028, 480489, 56972, 187042, 101891, 90359, 213532, 24091, 372427, 376047, 577876, 47093, 374873, 360053, 517565, 543882, 38682]\n",
            "[{'caption': 'A very clean and well decorated empty bathroom',\n",
            "  'id': 48,\n",
            "  'image_id': 318556},\n",
            " {'caption': 'A blue and white bathroom with butterfly themed wall tiles.',\n",
            "  'id': 126,\n",
            "  'image_id': 318556},\n",
            " {'caption': 'A bathroom with a border of butterflies and blue paint on the '\n",
            "             'walls above it.',\n",
            "  'id': 219,\n",
            "  'image_id': 318556},\n",
            " {'caption': 'An angled view of a beautifully decorated bathroom.',\n",
            "  'id': 255,\n",
            "  'image_id': 318556}]\n"
          ]
        }
      ]
    },
    {
      "cell_type": "code",
      "source": [
        "dict_image, dict_caption = {}, {}\n",
        "\n",
        "with open('/content/annotations/captions_train2014.json') as json_file:\n",
        "  img_caption = json.load(json_file)\n",
        "\n",
        "pprint.pprint(img_caption['annotations'][0])\n",
        "# pprint.pprint(img_caption['annotations'][479495]['caption'])\n",
        "pprint.pprint(img_caption['images'][0])\n",
        "\n",
        "for img in img_caption['images']:\n",
        "  dict_image[img['id']] = '/'.join(img['coco_url'].split('/')[-2:])\n",
        "\n",
        "for caption in img_caption['annotations'][:10]:\n",
        "  if caption['image_id'] not in dict_caption.keys():\n",
        "    dict_caption[caption['image_id']] = [caption['caption']]\n",
        "  else:\n",
        "    val = dict_caption[caption['image_id']]\n",
        "    print('val: ', val)\n",
        "    val.append(caption['caption'])\n",
        "    dict_caption[caption['image_id']] = val\n",
        "pprint.pprint(dict_caption)\n",
        "print('\\nmaster val: ', val)\n",
        "\n",
        "print(len(dict_image))\n",
        "print(len(dict_caption))\n",
        "# print(len(dict_image[479495]))\n",
        "# print(len(dict_caption[479495]))\n",
        "\n",
        "# print(dict_image[479495])\n",
        "# print(dict_image[479495][1])\n",
        "# print(dict_caption[479495])"
      ],
      "metadata": {
        "id": "2DaPsHmID04J",
        "outputId": "c44a22fd-b249-4b07-c704-ab25d6334abf",
        "colab": {
          "base_uri": "https://localhost:8080/"
        }
      },
      "id": "2DaPsHmID04J",
      "execution_count": 10,
      "outputs": [
        {
          "output_type": "stream",
          "name": "stdout",
          "text": [
            "{'caption': 'A very clean and well decorated empty bathroom',\n",
            " 'id': 48,\n",
            " 'image_id': 318556}\n",
            "{'coco_url': 'http://images.cocodataset.org/train2014/COCO_train2014_000000057870.jpg',\n",
            " 'date_captured': '2013-11-14 16:28:13',\n",
            " 'file_name': 'COCO_train2014_000000057870.jpg',\n",
            " 'flickr_url': 'http://farm4.staticflickr.com/3153/2970773875_164f0c0b83_z.jpg',\n",
            " 'height': 480,\n",
            " 'id': 57870,\n",
            " 'license': 5,\n",
            " 'width': 640}\n",
            "val:  ['A very clean and well decorated empty bathroom']\n",
            "val:  ['A panoramic view of a kitchen and all of its appliances.']\n",
            "val:  ['A graffiti-ed stop sign across the street from a red car ']\n",
            "val:  ['A very clean and well decorated empty bathroom', 'A blue and white bathroom with butterfly themed wall tiles.']\n",
            "val:  ['A very clean and well decorated empty bathroom', 'A blue and white bathroom with butterfly themed wall tiles.', 'A bathroom with a border of butterflies and blue paint on the walls above it.']\n",
            "{116100: ['A panoramic view of a kitchen and all of its appliances.',\n",
            "          'A panoramic photo of a kitchen and dining room'],\n",
            " 134754: ['The two people are walking down the beach.'],\n",
            " 318556: ['A very clean and well decorated empty bathroom',\n",
            "          'A blue and white bathroom with butterfly themed wall tiles.',\n",
            "          'A bathroom with a border of butterflies and blue paint on the walls '\n",
            "          'above it.',\n",
            "          'An angled view of a beautifully decorated bathroom.'],\n",
            " 379340: ['A graffiti-ed stop sign across the street from a red car ',\n",
            "          'A vandalized stop sign and a red beetle on the road'],\n",
            " 538480: ['A sink and a toilet inside a small bathroom.']}\n",
            "\n",
            "master val:  ['A very clean and well decorated empty bathroom', 'A blue and white bathroom with butterfly themed wall tiles.', 'A bathroom with a border of butterflies and blue paint on the walls above it.', 'An angled view of a beautifully decorated bathroom.']\n",
            "82783\n",
            "5\n"
          ]
        }
      ]
    },
    {
      "cell_type": "code",
      "source": [
        "# # Extract images/id and images/coco_url create a dict with key=id and value=file name \n",
        "for img in img_caption['images']:\n",
        "  dict_image[img['id']] = '/'.join(img['coco_url'].split('/')[-2:])\n",
        "\n",
        "for caption in img_caption['annotations']:\n",
        "  dict_caption[caption['image_id']] = caption['caption']\n",
        "\n",
        "data_tuple = [(key, dict_image[key], dict_caption[key]) for key in set(dict_image.keys()).intersection(dict_caption)]\n",
        "data_tuple[:2]"
      ],
      "metadata": {
        "id": "kjs-RfGXEP1J",
        "colab": {
          "base_uri": "https://localhost:8080/"
        },
        "outputId": "684fa564-af2e-4945-bc16-3648e7efa344"
      },
      "id": "kjs-RfGXEP1J",
      "execution_count": 40,
      "outputs": [
        {
          "output_type": "execute_result",
          "data": {
            "text/plain": [
              "[(262145,\n",
              "  'train2014/COCO_train2014_000000262145.jpg',\n",
              "  'People shop for vegetables like carrots and potatoes at an open air market.'),\n",
              " (262146,\n",
              "  'train2014/COCO_train2014_000000262146.jpg',\n",
              "  'A skier is shown taking on a very steep slope.')]"
            ]
          },
          "metadata": {},
          "execution_count": 40
        }
      ]
    },
    {
      "cell_type": "code",
      "execution_count": 12,
      "id": "a3fa66ba",
      "metadata": {
        "id": "a3fa66ba"
      },
      "outputs": [],
      "source": [
        "### YOUR CODE HERE\n",
        "import json\n",
        "import string\n",
        "\n",
        "def create_list_of_tuples(data):\n",
        "  dict_image, dict_caption = {}, {}\n",
        "\n",
        "  # Open JSON files stored in my Google Drive\n",
        "  with open('/content/annotations/captions_' + data + '2014.json') as json_file:\n",
        "    img_caption = json.load(json_file)\n",
        "\n",
        "  # # Extract images/id and images/coco_url create a dict with key=id and value=file name \n",
        "  for img in img_caption['images']:\n",
        "    dict_image[img['id']] = '/'.join(img['coco_url'].split('/')[-2:])\n",
        "\n",
        "  for caption in img_caption['annotations']:\n",
        "    dict_caption[caption['image_id']] = caption['caption']\n",
        "  \n",
        "  data_tuples = [(key, dict_image[key], dict_caption[key]) for key in set(dict_image.keys()).intersection(dict_caption)]\n",
        "\n",
        "  captions =[]\n",
        "  for caption in img_caption['annotations']:\n",
        "    captions.extend(caption['caption'].split()) \n",
        "    # captions.extend(caption['caption'].lower().split())                                                          # unique vocabs disregarding letter case\n",
        "    # captions.extend(caption['caption'].lower().translate(str.maketrans('', '', string.punctuation)).split())     # unique vocabs disregarding letter case and punctuation\n",
        "\n",
        "  return data_tuples, captions, img_caption\n",
        "\n",
        "train2014, captions_train, json_train = create_list_of_tuples('train')\n",
        "val2014, captions_val, json_val = create_list_of_tuples('val')\n",
        "### END YOUR CODE"
      ]
    },
    {
      "cell_type": "code",
      "source": [
        "print([(id, jpg, caption) for id, jpg, caption in train2014 if id == 479495])\n",
        "print([(id, jpg, caption) for id, jpg, caption in val2014 if id == 203564])"
      ],
      "metadata": {
        "colab": {
          "base_uri": "https://localhost:8080/"
        },
        "id": "jnYhjwkBZhyn",
        "outputId": "b32ff6e7-b043-4a40-e4b2-59a0d5b0a7b0"
      },
      "id": "jnYhjwkBZhyn",
      "execution_count": 23,
      "outputs": [
        {
          "output_type": "stream",
          "name": "stdout",
          "text": [
            "[(479495, 'train2014/COCO_train2014_000000479495.jpg', 'A bike and a bench on the side of a street.')]\n",
            "[(203564, 'val2014/COCO_val2014_000000203564.jpg', 'A clock with the appearance of the wheel of a bicycle ')]\n"
          ]
        }
      ]
    },
    {
      "cell_type": "code",
      "source": [
        "# assert (479495,'train2014/COCO_train2014_000000479495.jpg', 'A bicycle is parked by a bench at night.') in train2014\n",
        "# assert (203564, 'val2014/COCO_val2014_000000203564.jpg', 'A black metal bicycle with a clock inside the front wheel.') in val2014"
      ],
      "metadata": {
        "id": "le5GUp-yT-Yl"
      },
      "id": "le5GUp-yT-Yl",
      "execution_count": 25,
      "outputs": []
    },
    {
      "cell_type": "code",
      "source": [
        "print(f'len(train2014) = {len(train2014)}\\nlen(val2014) = {len(val2014)}')\n",
        "print(f'len(set(captions_train)) = {len(set(captions_train))}\\nlen(set(captions_val)) = {len(set(captions_val))}')"
      ],
      "metadata": {
        "colab": {
          "base_uri": "https://localhost:8080/"
        },
        "id": "rc2acGJMcKQF",
        "outputId": "cf2bc29f-1457-49cf-f1a8-addfeeffbb84"
      },
      "id": "rc2acGJMcKQF",
      "execution_count": 26,
      "outputs": [
        {
          "output_type": "stream",
          "name": "stdout",
          "text": [
            "len(train2014) = 82783\n",
            "len(val2014) = 40504\n",
            "len(set(captions_train)) = 44535\n",
            "len(set(captions_val)) = 31749\n"
          ]
        }
      ]
    },
    {
      "cell_type": "code",
      "source": [
        "train2014[:2]"
      ],
      "metadata": {
        "id": "kCs1sOJBBurQ",
        "outputId": "0327b191-5986-4cef-9ccd-f0a8574ed8e6",
        "colab": {
          "base_uri": "https://localhost:8080/"
        }
      },
      "id": "kCs1sOJBBurQ",
      "execution_count": 27,
      "outputs": [
        {
          "output_type": "execute_result",
          "data": {
            "text/plain": [
              "[(262145,\n",
              "  'train2014/COCO_train2014_000000262145.jpg',\n",
              "  'People shop for vegetables like carrots and potatoes at an open air market.'),\n",
              " (262146,\n",
              "  'train2014/COCO_train2014_000000262146.jpg',\n",
              "  'A skier is shown taking on a very steep slope.')]"
            ]
          },
          "metadata": {},
          "execution_count": 27
        }
      ]
    },
    {
      "cell_type": "code",
      "source": [
        "train2014[0][2]"
      ],
      "metadata": {
        "id": "w5PW5WTD-8Hj",
        "outputId": "92db0ebb-807a-4108-da14-252d496cb7e8",
        "colab": {
          "base_uri": "https://localhost:8080/",
          "height": 35
        }
      },
      "id": "w5PW5WTD-8Hj",
      "execution_count": 28,
      "outputs": [
        {
          "output_type": "execute_result",
          "data": {
            "text/plain": [
              "'People shop for vegetables like carrots and potatoes at an open air market.'"
            ],
            "application/vnd.google.colaboratory.intrinsic+json": {
              "type": "string"
            }
          },
          "metadata": {},
          "execution_count": 28
        }
      ]
    },
    {
      "cell_type": "code",
      "source": [
        "train2014[0][2].split()"
      ],
      "metadata": {
        "id": "YTfAQ8_n7Uye",
        "outputId": "ae8faf39-dbe0-4298-b888-e77160a09f42",
        "colab": {
          "base_uri": "https://localhost:8080/"
        }
      },
      "id": "YTfAQ8_n7Uye",
      "execution_count": 29,
      "outputs": [
        {
          "output_type": "execute_result",
          "data": {
            "text/plain": [
              "['People',\n",
              " 'shop',\n",
              " 'for',\n",
              " 'vegetables',\n",
              " 'like',\n",
              " 'carrots',\n",
              " 'and',\n",
              " 'potatoes',\n",
              " 'at',\n",
              " 'an',\n",
              " 'open',\n",
              " 'air',\n",
              " 'market.']"
            ]
          },
          "metadata": {},
          "execution_count": 29
        }
      ]
    },
    {
      "cell_type": "code",
      "source": [
        "# assert (262145,'train2014/COCO_train2014_000000262145.jpg','People shop for vegetables like carrots and potatoes at an open air market.') in train2014\n",
        "# assert (262146,'train2014/COCO_train2014_000000262146.jpg','A skier is shown taking on a very steep slope.') in train2014\n",
        "# # assert (479495,'train2014/COCO_train2014_000000479495.jpg','A bicycle is parked by a bench at night.') in train2014\n",
        "# assert (203564,'val2014/COCO_val2014_000000203564.jpg','A black metal bicycle with a clock inside the front wheel.') in val2014"
      ],
      "metadata": {
        "id": "sTyklrZXAmLZ"
      },
      "id": "sTyklrZXAmLZ",
      "execution_count": 30,
      "outputs": []
    },
    {
      "cell_type": "code",
      "execution_count": 31,
      "id": "cdd2859f",
      "metadata": {
        "colab": {
          "base_uri": "https://localhost:8080/"
        },
        "id": "cdd2859f",
        "outputId": "6e119d45-0cc0-4580-9551-e1300da566d1"
      },
      "outputs": [
        {
          "output_type": "stream",
          "name": "stdout",
          "text": [
            "Q1. Number of images in the training set with captions = 82783\n",
            "Q2. Number of captions per image in the training set = 5\n",
            "Q3. Number of distinct words in the training set = 44535\n"
          ]
        }
      ],
      "source": [
        "# Cell if you want to write code to answer the questions below.\n",
        "# stemming/lemmatization ?\n",
        "\n",
        "### YOUR CODE HERE\n",
        "print(f'Q1. Number of images in the training set with captions = {len(train2014)}')\n",
        "print(f'Q2. Number of captions per image in the training set = {int(len(json_train[\"annotations\"])/len(json_train[\"images\"]))}')\n",
        "print(f'Q3. Number of distinct words in the training set = {len(set(captions_train))}')\n",
        "### END YOUR CODE "
      ]
    },
    {
      "cell_type": "markdown",
      "id": "eaa297ca",
      "metadata": {
        "id": "eaa297ca"
      },
      "source": [
        "### Questions (Part A)\n",
        "\n",
        "1. How many images do we have captions for in the training set? **82783**\n",
        "2. How many captions do we have per image (rounded to nearest integer) in the training set? **5**\n",
        "3. If you just split the training captions on whitespace and do nothing else, how many words are in the vocabulary? **44535**\n",
        "\n",
        "Given your answer to 3, think about what you might need to do with that few examples and that large of a vocabulary?  (Use pretrained embeddings from a massive semi-supervised dataset, keeping only the top-k tokens, smarter tokenization, ...).  You don't need to write your answer anywhere, but given how often these problems arise in NLP, you should be feeling more confident at this point in the course how to handle these situations!"
      ]
    },
    {
      "cell_type": "markdown",
      "source": [
        "**Stemming/Lemmatization, remove stopwords and punctuations, beam search (select top-k tokens), part of speech tagging**"
      ],
      "metadata": {
        "id": "tJJxrhXrv_49"
      },
      "id": "tJJxrhXrv_49"
    },
    {
      "cell_type": "markdown",
      "id": "2506b44f",
      "metadata": {
        "id": "2506b44f"
      },
      "source": [
        "## Let's look at some of the examples!"
      ]
    },
    {
      "cell_type": "code",
      "execution_count": 32,
      "id": "559854ac",
      "metadata": {
        "colab": {
          "base_uri": "https://localhost:8080/",
          "height": 1000
        },
        "id": "559854ac",
        "outputId": "8504b79b-1cd9-450b-bf1a-0aa5f89ffac1"
      },
      "outputs": [
        {
          "output_type": "display_data",
          "data": {
            "text/plain": [
              "<Figure size 720x1440 with 10 Axes>"
            ],
            "image/png": "[encoded data removed]"
          },
          "metadata": {
            "needs_background": "light"
          }
        }
      ],
      "source": [
        "import matplotlib.pyplot as plt\n",
        "from tensorflow.keras.utils import load_img, img_to_array\n",
        "import random\n",
        "\n",
        "samples = 5\n",
        "n = 1\n",
        "fig = plt.figure(figsize=(10,20))\n",
        "for i in range(samples):\n",
        "    image_caption = val2014[random.randint(0, len(val2014))]\n",
        "    image_load = load_img(image_caption[1])\n",
        "    \n",
        "    ax = fig.add_subplot(samples,2,n,xticks=[],yticks=[])\n",
        "    ax.imshow(image_load)\n",
        "    n += 1\n",
        "    \n",
        "    ax = fig.add_subplot(samples,2,n)\n",
        "    plt.axis('off')\n",
        "    ax.plot()\n",
        "    ax.set_xlim(0, 1)\n",
        "    ax.set_ylim(0, 1)\n",
        "    ax.text(0, 0, image_caption[2], fontsize=20)\n",
        "    n += 1\n",
        "plt.show()"
      ]
    },
    {
      "cell_type": "markdown",
      "id": "ed9357cc",
      "metadata": {
        "id": "ed9357cc"
      },
      "source": [
        "# Foundational image captioning papers\n",
        "\n",
        "## Show & Tell\n",
        "\n",
        "[Show and Tell: A Neural Image Caption Generator](https://arxiv.org/pdf/1411.4555.pdf) was the first step towards neural image captioning.  Fundamentally it is an encoder-decoder scheme similar to what we've seen in class.  Concretely, it uses the CNN structure of an (at the time) state of the art image classification CNN as the encoder and it uses an LSTM as a decoder.  As in the generation models in class, it continues to generate text until a special \"stop\" token is emitted.  After **reading** the paper, answer the following questions:\n",
        "\n",
        "### Questions (Part B)\n",
        "\n",
        "1.  What parts of the CNN were trained?<br>\n",
        "<font color=green>**The kernels (filters) and weights of the CNN component of the system to a pre-trained model were trained as an input to the RNN decoder that generates sentences.**</font><br>\n",
        "2.  What was the biggest concern when deciding how to train the model?<br>\n",
        "<font color=green>**The biggest concern was to deal with overfitting.** To avoid the issue, a number of techniques have been explored. For example, the weights of the CNN component of the system to a pre-trained model (i.e. on ImageNet) were initialized using stochastic gradient descent with fixed learning rate and no momentum. Also the dropout, ensemble models, as well as different neural network frameworks adjusting number of hidden layers and units have been explored.</font><br>\n",
        "3.  How was the encoded image representation input into the decoder?<br> \n",
        "<font color=green>**The image *I* is only the input once, at t = -1, to inform the LSTM about the image contents to the decoder LSTM** - The image representation output from the last hidden state of the CNN (encoder)is given to the first time step of the decoder (LSTM). Starting with *x1* as a \\<START\\> vector, we compute the distribution over the fist word *y1*. We sample a word from the distribution (select the argmax), set its embedding vetor as *x2* and repeat this process until the \\<END\\>token is generated. During training, the correct input is given to the decoder at every time step and optimize the sum of the log probabilities of image input *(I)* and correct transcription *(S)* as a training pair *(S, I)* using stochastic gradient descent.</font><br>\n",
        "4.  Given we are \"translating\" from an image to a caption (without a length constraint), which evaluation metric did the authors determine was reasonable for a top line metric? <font color=green>**BLEU score**</font><br>\n",
        "5.  What beam width is equivalent to one where you select the highest probability word in each decoding step? <font color=green>**1**</font>\n",
        "\n",
        "\n",
        "## Deep Visual Alignment\n",
        "\n",
        "[Deep Visual-Semantic Alignments for Generating Image Descriptions](https://cs.stanford.edu/people/karpathy/cvpr2015.pdf) is a fun read for which we will ask no questions.  Its critical insights are around understanding an image as a composition of regions, and building upon that understanding to construct both a caption for the whole image, but labels for its consistuent parts.\n",
        "\n",
        "## Show, Attend & Tell\n",
        "\n",
        "[Show, Attend & Tell](https://arxiv.org/pdf/1502.03044.pdf) applies the same \"provide the decoder more context, as directly as possible\" trick we've seen over the course: adding attention.  After **skimming** the paper, answer the following questions:\n",
        "\n",
        "### Questions (Part C)\n",
        "\n",
        "1. What is the attention over? <font color=green>**A salient parts (features) of an image, which is represented as a single embedded vector** - A CNN (encoder) is used to extract feature vectors (annotation vectors) from the image, which is a representation corresponding to a salient part of an image. Then an Attention mechanism in LSTM (decoder) is applied to selectively focus on more important parts of an image by\n",
        "selecting a subset of all the feature vectors for generating caption(s) corresponding to the image.</font><br>\n",
        "2. What do the figures with highlight shading represent in Figures 2, 3 and 5?\n",
        "<font color=green>**The attended region (salient part of an image) that corresponds to a word**</font>\n",
        "\n",
        "# Exploring a MS COCO captioner\n",
        "\n",
        "There are many examples of image captioners ML engineers have built on the MS COCO dataset you explored. [This one](https://replicate.com/rmokady/clip_prefix_caption) uses a (more) modern large language model as its decoder, GPT-2.  \n",
        "\n",
        "* **Explore** the samples and play with using beam search and not.  What do you notice?\n",
        "\n",
        "This is an example from the Show & Tell paper of a low-quality caption (see figure 5).  The GPT-2 model proposes \"the car that person drove to the hospital.\" vs. \"A yellow school bus parked in a parking lot\" from the original paper. ![Misclassified](https://github.com/heesukjang/W266_NLP_With_DeepLearning/blob/main/littlecar.png?raw=1) "
      ]
    },
    {
      "cell_type": "markdown",
      "id": "6b29df24",
      "metadata": {
        "id": "6b29df24"
      },
      "source": [
        "# CLIP Embeddings and Image Classification\n",
        "\n",
        "The [CLIP paper](https://arxiv.org/pdf/2103.00020.pdf)  describes a system that emits encodings that represent both images and text captions. The system learns to match a picture with its caption so the encoding for the image and the encoding for an associated caption should have a very high cosine similarity.  Systems like DALL-E use CLIP embeddings to generate images based on a text description by using the text encoding to get the image encoding and then processing the image encoding to generate the final image.  We're going to use CLIP in the opposite direction.  Namely we're going to use CLIP embeddings to classify images, that is to score a set of captions for an image based on the image's content.\n",
        "\n",
        "We can use the HuggingFace implementation of **CLIP** to experiment with this **multimodal capability**. "
      ]
    },
    {
      "cell_type": "code",
      "execution_count": 33,
      "id": "5f53b290",
      "metadata": {
        "id": "5f53b290",
        "outputId": "83950e51-8d95-45ca-d0d8-1c7da225a2de",
        "colab": {
          "base_uri": "https://localhost:8080/"
        }
      },
      "outputs": [
        {
          "output_type": "stream",
          "name": "stdout",
          "text": [
            "\u001b[2K     \u001b[90m━━━━━━━━━━━━━━━━━━━━━━━━━━━━━━━━━━━━━━━━\u001b[0m \u001b[32m6.8/6.8 MB\u001b[0m \u001b[31m39.2 MB/s\u001b[0m eta \u001b[36m0:00:00\u001b[0m\n",
            "\u001b[2K     \u001b[90m━━━━━━━━━━━━━━━━━━━━━━━━━━━━━━━━━━━━━━\u001b[0m \u001b[32m199.8/199.8 KB\u001b[0m \u001b[31m16.8 MB/s\u001b[0m eta \u001b[36m0:00:00\u001b[0m\n",
            "\u001b[2K     \u001b[90m━━━━━━━━━━━━━━━━━━━━━━━━━━━━━━━━━━━━━━━━\u001b[0m \u001b[32m7.6/7.6 MB\u001b[0m \u001b[31m51.3 MB/s\u001b[0m eta \u001b[36m0:00:00\u001b[0m\n",
            "\u001b[?25h"
          ]
        }
      ],
      "source": [
        "!pip install -q transformers"
      ]
    },
    {
      "cell_type": "code",
      "execution_count": 34,
      "id": "ff214401",
      "metadata": {
        "id": "ff214401"
      },
      "outputs": [],
      "source": [
        "import tensorflow as tf\n",
        "from PIL import Image\n",
        "import requests\n",
        "from transformers import CLIPProcessor, TFCLIPModel"
      ]
    },
    {
      "cell_type": "code",
      "execution_count": 35,
      "id": "0390b9bb",
      "metadata": {
        "id": "0390b9bb",
        "outputId": "130b9647-66d5-411f-ec16-dff37e116399",
        "colab": {
          "base_uri": "https://localhost:8080/",
          "height": 344,
          "referenced_widgets": [
            "7eead22757344033bd91fb7baeeb4fd4",
            "d4b6d42c730d4a919fe498d5320f888f",
            "96832f2a044b472aa88d91c2d6605e4a",
            "f6537069eeec4410b4c2dfac75dc9d03",
            "2e234f6078c944c4aa49e15af22a9fba",
            "c73bd4b6874843bab0da4f88f3bd279e",
            "f8dc6537c3274174841e4cbb6cb7c169",
            "ed8be04a7590410aa80ee833cb2a268f",
            "05f53f32b5f24189a8cfe232c81708e4",
            "1650a44fdcb04a3788dadca09367981d",
            "d21a3d208d934d329aeb5046c9e50370",
            "c39d8bcae0d440feae3702c675d4f28c",
            "79fe3feae5594766a3b4b682577f0c0a",
            "df20d4e25b0b4460a8bfac7f696ec7bf",
            "112e2994f19f4d2c8f01032457868808",
            "d61ec906c7f548ee8bcb3fee34ea2dc2",
            "06c81e19bad847a584fd581ea6d2d233",
            "c7df73cd570c4fa7b7d30019b6b29d35",
            "a8308cf6fd164053b78838d8c49b8dc9",
            "f90eff8ce6ea4ccdb622010f45196fa9",
            "7f5b63603b0f48a49abf0a8a82efe385",
            "961bb825124a419d90672337193278f2",
            "29fd36962dca4490b04cba37cd915724",
            "cd69f237691b4363aabc8b3863ed67b1",
            "264ea681fad74999a4281deeaaed87ac",
            "aff17ef97522453aa66842538660febd",
            "933b329662ff400da47828a41b5447df",
            "f47291789a80443c9bd6992ad171c9ca",
            "607a198a3dd4415180115f9a7e4f15e8",
            "f5d7eae369584010a608ad7ccbfb8622",
            "fe51968ba7aa468393158e0206606082",
            "19882feca15341e288ab5478edede1da",
            "4863ae30bee446f09d1b7a6271bb4752",
            "d35ccda4950344a5ba014d06c3ace68a",
            "314be2f87d134906aff2e18b849750df",
            "19478cff47f34d6681dce0c3e4491e65",
            "96c122e2c236431896eee09ee48e886f",
            "b5cba29d6f284d7aa2f907f294f1b410",
            "285c5f8ba60545d99fd1c176b6ae7ef1",
            "131ef4f039614ea4b987ed58458f565d",
            "db58cbfea5eb496d86532b6bbe60071e",
            "b2f920c3c06444a98bf4249b5009bac3",
            "24d17d35c7184985994f90c20b38b7bd",
            "f06bab9f9277413ab6a3eee57a1f2a42",
            "1e95bf43076442a285a8be21eb3d4a16",
            "a96ec78957414cffaf1a580e38d09772",
            "69186115100a4895ac05938013b41106",
            "af1e7d735db34410bd0fd2085dbb3dda",
            "68deaeab3f2e454d8a9f863c58b8b5eb",
            "9e42f63513334af1ba086025c13f762c",
            "8d103cd018984f2f9f5ee9e7dd349b6f",
            "977a81b76ff94f3e9a4b9756a7c3edbe",
            "55cf24a3d8d146ab9d4e731b9d1bf6f8",
            "b8593e24e03142f5aa4fc497aef90ad3",
            "b04a942d7c824953a34bb0131d04dd62",
            "4f806190fab948268bf6160b6c70153b",
            "a57623ee92774d9686d482f7c95afd38",
            "a6c1ebcc27564eb3831a76f50770bb25",
            "420278996c394a57b4d4136899fc23c1",
            "cdca8c415ecf4267b6d912b444ee1398",
            "402b6010e7ca4dfe896a2eb666bc3603",
            "f7ba78ceda244592b6d621af2f5e74df",
            "2e6ad3a74c1542f88dfdb94bac4ed0d4",
            "c6d09d9cf3254252bcf9539294732bba",
            "248e2669076e418a88d2152301e182a1",
            "afcf89de62b946d79794a8eb820d618a",
            "b9c74a517a1a49cabe822af97613a4d3",
            "f7f71157e37b4ce7bdf56907502fd210",
            "24641a40cdad495b99aa3bd2798c01c4",
            "20ccc0c628ca4ee4b4db5c90f8644d86",
            "01271e28b75c427b9ec79cadb2bc81a3",
            "9b6035835f9749948dfb2645348d98aa",
            "4e97b899adc743868e0a091dc13860fc",
            "30b5c42464e74bfb992f64e8e0bca333",
            "9efe3cc5ff764b8c93b5739c48b6179b",
            "1456fd2184c14b579b6ba0f998a88f10",
            "d35eb6e44e394b43b801dc287de13df7",
            "db8bcd9b6aa34bcdb443da3618e02b7a",
            "6b8ca67ac34a4d08bcc7fb0d19aa1129",
            "d2b701ecb45d49f0a6cb152ad7eac1dc",
            "85c8d872481a4d11a2c5c68477f2c012",
            "ae2e6abbeb1c4076872ba3fc7952b985",
            "1b54b5f55e2543eea13594c0d3906984",
            "4f37d05719984d4dafde39334ec834ee",
            "a8ec2c9f586a48938f5e278bfbf0afa6",
            "0af2bb2829014525a896260cab9194d4",
            "701720c23cb2497dbd6786879d9af8bd",
            "b746a62b9cd247b9984db5d1458bbb85"
          ]
        }
      },
      "outputs": [
        {
          "output_type": "display_data",
          "data": {
            "text/plain": [
              "Downloading (…)lve/main/config.json:   0%|          | 0.00/4.19k [00:00<?, ?B/s]"
            ],
            "application/vnd.jupyter.widget-view+json": {
              "version_major": 2,
              "version_minor": 0,
              "model_id": "7eead22757344033bd91fb7baeeb4fd4"
            }
          },
          "metadata": {}
        },
        {
          "output_type": "display_data",
          "data": {
            "text/plain": [
              "Downloading tf_model.h5:   0%|          | 0.00/606M [00:00<?, ?B/s]"
            ],
            "application/vnd.jupyter.widget-view+json": {
              "version_major": 2,
              "version_minor": 0,
              "model_id": "c39d8bcae0d440feae3702c675d4f28c"
            }
          },
          "metadata": {}
        },
        {
          "output_type": "stream",
          "name": "stderr",
          "text": [
            "All model checkpoint layers were used when initializing TFCLIPModel.\n",
            "\n",
            "All the layers of TFCLIPModel were initialized from the model checkpoint at openai/clip-vit-base-patch32.\n",
            "If your task is similar to the task the model of the checkpoint was trained on, you can already use TFCLIPModel for predictions without further training.\n"
          ]
        },
        {
          "output_type": "display_data",
          "data": {
            "text/plain": [
              "Downloading (…)rocessor_config.json:   0%|          | 0.00/316 [00:00<?, ?B/s]"
            ],
            "application/vnd.jupyter.widget-view+json": {
              "version_major": 2,
              "version_minor": 0,
              "model_id": "29fd36962dca4490b04cba37cd915724"
            }
          },
          "metadata": {}
        },
        {
          "output_type": "display_data",
          "data": {
            "text/plain": [
              "Downloading (…)okenizer_config.json:   0%|          | 0.00/568 [00:00<?, ?B/s]"
            ],
            "application/vnd.jupyter.widget-view+json": {
              "version_major": 2,
              "version_minor": 0,
              "model_id": "d35ccda4950344a5ba014d06c3ace68a"
            }
          },
          "metadata": {}
        },
        {
          "output_type": "display_data",
          "data": {
            "text/plain": [
              "Downloading (…)olve/main/vocab.json:   0%|          | 0.00/862k [00:00<?, ?B/s]"
            ],
            "application/vnd.jupyter.widget-view+json": {
              "version_major": 2,
              "version_minor": 0,
              "model_id": "1e95bf43076442a285a8be21eb3d4a16"
            }
          },
          "metadata": {}
        },
        {
          "output_type": "display_data",
          "data": {
            "text/plain": [
              "Downloading (…)olve/main/merges.txt:   0%|          | 0.00/525k [00:00<?, ?B/s]"
            ],
            "application/vnd.jupyter.widget-view+json": {
              "version_major": 2,
              "version_minor": 0,
              "model_id": "4f806190fab948268bf6160b6c70153b"
            }
          },
          "metadata": {}
        },
        {
          "output_type": "display_data",
          "data": {
            "text/plain": [
              "Downloading (…)/main/tokenizer.json:   0%|          | 0.00/2.22M [00:00<?, ?B/s]"
            ],
            "application/vnd.jupyter.widget-view+json": {
              "version_major": 2,
              "version_minor": 0,
              "model_id": "b9c74a517a1a49cabe822af97613a4d3"
            }
          },
          "metadata": {}
        },
        {
          "output_type": "display_data",
          "data": {
            "text/plain": [
              "Downloading (…)cial_tokens_map.json:   0%|          | 0.00/389 [00:00<?, ?B/s]"
            ],
            "application/vnd.jupyter.widget-view+json": {
              "version_major": 2,
              "version_minor": 0,
              "model_id": "db8bcd9b6aa34bcdb443da3618e02b7a"
            }
          },
          "metadata": {}
        }
      ],
      "source": [
        "model = TFCLIPModel.from_pretrained(\"openai/clip-vit-base-patch32\")\n",
        "processor = CLIPProcessor.from_pretrained(\"openai/clip-vit-base-patch32\")"
      ]
    },
    {
      "cell_type": "markdown",
      "id": "a29807e0",
      "metadata": {
        "id": "a29807e0"
      },
      "source": [
        "Now let's begin our experiment.  We're going select two images that contain both zebras and cars.  They may contain other things as well.  We're also going to generate a set of captions that we will score.  Specifically, we'll pass the output for the captions through a softmax to give us a probability distribution over the four captions."
      ]
    },
    {
      "cell_type": "code",
      "execution_count": 36,
      "id": "4872c37f",
      "metadata": {
        "id": "4872c37f",
        "outputId": "0c8879be-8dbf-4cab-cda0-f2dbd6006480",
        "colab": {
          "base_uri": "https://localhost:8080/"
        }
      },
      "outputs": [
        {
          "output_type": "stream",
          "name": "stdout",
          "text": [
            "\n",
            "https://farm1.staticflickr.com/9/15631288_605abb3096_z.jpg\n",
            "                         a photo of cars - 0.0020\n",
            "                    a photo of a giraffe - 0.0864\n",
            "            a photo of zebras in a field - 0.0219\n",
            "         a photo of some zebras and cars - 0.8898\n",
            "\n",
            "https://farm4.staticflickr.com/3057/3033996041_11293469b7_z.jpg\n",
            "                         a photo of cars - 0.0000\n",
            "                    a photo of a giraffe - 0.0000\n",
            "            a photo of zebras in a field - 0.9740\n",
            "         a photo of some zebras and cars - 0.0259\n"
          ]
        }
      ],
      "source": [
        "# Example tags: animal = zebra, transport = car\n",
        "\n",
        "urls = [\"https://farm1.staticflickr.com/9/15631288_605abb3096_z.jpg\", #zebras foreground, cars background\n",
        "        \"https://farm4.staticflickr.com/3057/3033996041_11293469b7_z.jpg\"]  #zebra foreground, tiny car background\n",
        "captions = [\"a photo of cars\",\n",
        "            \"a photo of a giraffe\",\n",
        "            \"a photo of zebras in a field\",\n",
        "            \"a photo of some zebras and cars\"]\n",
        "\n",
        "for url in urls:\n",
        "    image = Image.open(requests.get(url, stream=True).raw)\n",
        "\n",
        "    inputs = processor(\n",
        "        text=captions, images=image, return_tensors=\"tf\", padding=True\n",
        "    )\n",
        "\n",
        "    outputs = model(**inputs)\n",
        "    logits_per_image = outputs.logits_per_image  # this is the image-text similarity score\n",
        "    probs = tf.nn.softmax(logits_per_image, axis=1)  # we can take the softmax to get the label probabilities\n",
        "    \n",
        "    print()\n",
        "    print(url)\n",
        "    for i, caption in enumerate(captions):\n",
        "        print('%40s - %.4f' % (caption, probs[0, i]))"
      ]
    },
    {
      "cell_type": "markdown",
      "id": "3c92df88",
      "metadata": {
        "id": "3c92df88"
      },
      "source": [
        "**The CLIP embeddings allow us to associate captions with images.**  Specifically, we can build a classifier that assigns probabilities to each of the captions.  We want **the highest probability to go to the most descriptive caption** out of the four captions for the given image.  Notice here that even though both images contain zebras, one of them features a line of clearly visible cars.  The other image only has one small car off in the distance.  Note that the first image with the cars scores high for the caption of ```a photo of some zebras and cars``` because the zebras and cars are very visible.  The second image scores highest for ```a photo of zebras in a field``` but the small car is less noticed but scores above a zero."
      ]
    },
    {
      "cell_type": "code",
      "execution_count": 37,
      "id": "b6782f6e",
      "metadata": {
        "id": "b6782f6e",
        "outputId": "09265858-45c8-4d42-ff4a-bd785fe65d0f",
        "colab": {
          "base_uri": "https://localhost:8080/"
        }
      },
      "outputs": [
        {
          "output_type": "stream",
          "name": "stdout",
          "text": [
            "\n",
            "http://farm1.staticflickr.com/8/10896131_6a184b48cb_z.jpg\n",
            "                        a photo of a dog - 0.0002\n",
            "        a photo of some dogs in a basket - 0.0454\n",
            "                       a photo of a bike - 0.0008\n",
            "        a photo of some dogs with a bike - 0.9536\n",
            "\n",
            "http://farm4.staticflickr.com/3082/2797293301_dd26fd613f_z.jpg\n",
            "                        a photo of a dog - 0.0007\n",
            "        a photo of some dogs in a basket - 0.0001\n",
            "                       a photo of a bike - 0.9527\n",
            "        a photo of some dogs with a bike - 0.0465\n"
          ]
        }
      ],
      "source": [
        "# Example tags: two dogs in bike, human bike tiny dog\n",
        "\n",
        "urls = [\"http://farm1.staticflickr.com/8/10896131_6a184b48cb_z.jpg\",  #2 dogs in bike basket\n",
        "        \"http://farm4.staticflickr.com/3082/2797293301_dd26fd613f_z.jpg\"] #human and bike with tiny dog\n",
        "captions = [\"a photo of a dog\",\n",
        "            \"a photo of some dogs in a basket\",\n",
        "            \"a photo of a bike\",\n",
        "            \"a photo of some dogs with a bike\"]\n",
        "\n",
        "for url in urls:\n",
        "    image = Image.open(requests.get(url, stream=True).raw)\n",
        "\n",
        "    inputs = processor(\n",
        "        text=captions, images=image, return_tensors=\"tf\", padding=True\n",
        "    )\n",
        "\n",
        "    outputs = model(**inputs)\n",
        "    logits_per_image = outputs.logits_per_image  # this is the image-text similarity score\n",
        "    probs = tf.nn.softmax(logits_per_image, axis=1)  # we can take the softmax to get the label probabilities\n",
        "    \n",
        "    print()\n",
        "    print(url)\n",
        "    for i, caption in enumerate(captions):\n",
        "        print('%40s - %.4f' % (caption, probs[0, i]))"
      ]
    },
    {
      "cell_type": "markdown",
      "id": "1382c2e1",
      "metadata": {
        "id": "1382c2e1"
      },
      "source": [
        "Again, these two images both contain bicycles and dogs.  The first image is two dogs in a basket on the front of a bike.  While the bike is visible, the two dogs are the focus of the image.  The second image features a person with their bike.  The bike happens to contain a small dog.  We would expect the embeddings to reflect the different emphases of the photos and indeed they do."
      ]
    },
    {
      "cell_type": "code",
      "execution_count": 38,
      "id": "f68063f8",
      "metadata": {
        "id": "f68063f8",
        "outputId": "6782d927-9a28-4edf-df92-99fb587a0271",
        "colab": {
          "base_uri": "https://localhost:8080/"
        }
      },
      "outputs": [
        {
          "output_type": "stream",
          "name": "stdout",
          "text": [
            "\n",
            "http://farm1.staticflickr.com/124/405495389_d4316b1224_z.jpg\n",
            "                        a photo of a dog - 0.9986\n",
            "                  a photo of a motorbike - 0.0003\n",
            "                      a photo of a plane - 0.0011\n",
            "                   a photo of some bikes - 0.0000\n",
            "\n",
            "http://farm8.staticflickr.com/7194/6991675037_3c298541c0_z.jpg\n",
            "                        a photo of a dog - 0.0013\n",
            "                  a photo of a motorbike - 0.8968\n",
            "                      a photo of a plane - 0.0000\n",
            "                   a photo of some bikes - 0.1018\n"
          ]
        }
      ],
      "source": [
        "# Example tags: animal = dog, transport = bike\n",
        "\n",
        "urls = [\"http://farm1.staticflickr.com/124/405495389_d4316b1224_z.jpg\",   #dog foreground and tiny bikes background\n",
        "        \"http://farm8.staticflickr.com/7194/6991675037_3c298541c0_z.jpg\"] #motorbike foreground, many bikes and tiny dog background\n",
        "captions = [\"a photo of a dog\",\n",
        "            \"a photo of a motorbike\",\n",
        "            \"a photo of a plane\",\n",
        "            \"a photo of some bikes\"]\n",
        "\n",
        "for url in urls:\n",
        "    image = Image.open(requests.get(url, stream=True).raw)\n",
        "\n",
        "    inputs = processor(\n",
        "        text=captions, images=image, return_tensors=\"tf\", padding=True\n",
        "    )\n",
        "\n",
        "    outputs = model(**inputs)\n",
        "    logits_per_image = outputs.logits_per_image  # this is the image-text similarity score\n",
        "    probs = tf.nn.softmax(logits_per_image, axis=1)  # we can take the softmax to get the label probabilities\n",
        "    \n",
        "    print()\n",
        "    print(url)\n",
        "    for i, caption in enumerate(captions):\n",
        "        print('%40s - %.4f' % (caption, probs[0, i]))"
      ]
    },
    {
      "cell_type": "markdown",
      "id": "430f2a77",
      "metadata": {
        "id": "430f2a77"
      },
      "source": [
        "For the third example, the first image includes a dog in the foreground and a number of small bikes in the distant background.  You can look at the annotations associated with the image to see where these objects are located. The second image includes a motorbike/motorcycle in the the foreground but a number of bikes and a tiny dog in the background.  Again we're hand crafting these captions to include the items in the image but we want the score for the caption to reflect what's in the foreground of the image.  "
      ]
    },
    {
      "cell_type": "markdown",
      "id": "8ab2392f",
      "metadata": {
        "id": "8ab2392f"
      },
      "source": [
        "Now it is your turn.  You will essentially replicate the examples above but you will do it with images **you** select.  First you need to select *two* images for processing. Go to [the COCO Explorer](https://cocodataset.org/#explore), click on two tag icons: an animal (see icon column of animals) and a mode of transportation (see icon column of ), and search. (You pick which; you might have to try a few combinations until you get multiple image results.)\n",
        "\n",
        "Find two different images that each contain your animal and your mode of transportation.  It's okay if they contain other things as well.  If you click on the URL icon above each image, you'll see a link to the annotated image and the original (unlabeled) image. Put the original image link in the code cell below *your image 1 url* and *your image 2 url*, then create four captions that mention only one of the objects each vs both objects together. You can see the captions we created for the three examples above.  The goal is to get probabilities above 0.85 for the caption that best describes the first image and the caption that best describes the second image.\n",
        "\n",
        "As in the examples above, you must find a pair of images with the same two objects tagged in them, but which get different results for which caption has the highest probability according to the CLIP model.\n",
        "\n",
        "Note which object tags you used, and give a brief explanation of what looks different about the two images that you think made them get different CLIP results for the most likely caption.  Enter that explanation in the cell below.  You **do not need to enter it in the answers sheet**.  Just leave it in the notebook that you submit. "
      ]
    },
    {
      "cell_type": "code",
      "execution_count": 39,
      "id": "c215b679",
      "metadata": {
        "id": "c215b679",
        "outputId": "fe0a20e7-4f30-4bd1-a83d-70cc23787e2a",
        "colab": {
          "base_uri": "https://localhost:8080/"
        }
      },
      "outputs": [
        {
          "output_type": "stream",
          "name": "stdout",
          "text": [
            "\n",
            "https://farm1.staticflickr.com/85/271255436_e465c41848_z.jpg\n",
            "a cat sitting on a chair and staring at the VCR - 0.24195\n",
            "one cat sitting on a chair and staring at the VCR. Another cat sitting on the floor - 0.75805\n",
            "          a motorbike parked on the hill - 0.00000\n",
            "                      a motorbike parked - 0.00000\n",
            "\n",
            "http://farm4.staticflickr.com/3303/3578484602_0dd41ea9f8_z.jpg\n",
            "a cat sitting on a chair and staring at the VCR - 0.00000\n",
            "one cat sitting on a chair and staring at the VCR. Another cat sitting on the floor - 0.00000\n",
            "          a motorbike parked on the hill - 0.98650\n",
            "                      a motorbike parked - 0.01350\n"
          ]
        }
      ],
      "source": [
        "# Example tags: animal = cat, transportation = motobike\n",
        "\n",
        "urls = [\"https://farm1.staticflickr.com/85/271255436_e465c41848_z.jpg\",   # a cat\n",
        "        \"http://farm4.staticflickr.com/3303/3578484602_0dd41ea9f8_z.jpg\"] # a motobike\n",
        "captions = [\"a cat sitting on a chair and staring at the VCR\",\n",
        "            \"one cat sitting on a chair and staring at the VCR. Another cat sitting on the floor\",\n",
        "            \"a motorbike parked on the hill\",\n",
        "            \"a motorbike parked\"]\n",
        "\n",
        "for url in urls:\n",
        "    image = Image.open(requests.get(url, stream=True).raw)\n",
        "\n",
        "    inputs = processor(\n",
        "        text=captions, images=image, return_tensors=\"tf\", padding=True\n",
        "    )\n",
        "\n",
        "    outputs = model(**inputs)\n",
        "    logits_per_image = outputs.logits_per_image  # this is the image-text similarity score\n",
        "    probs = tf.nn.softmax(logits_per_image, axis=1)  # we can take the softmax to get the label probabilities\n",
        "    \n",
        "    print()\n",
        "    print(url)\n",
        "    for i, caption in enumerate(captions):\n",
        "        print('%40s - %.5f' % (caption, probs[0, i]))"
      ]
    },
    {
      "cell_type": "markdown",
      "id": "0867bdf4",
      "metadata": {
        "id": "0867bdf4"
      },
      "source": [
        "### Questions (Part D)\n",
        "\n",
        "1. What is the animal tag you selected? **cat**\n",
        "\n",
        "2. What is the transportation tag you selected? **motobike**\n",
        "\n",
        "3. What is the probability associated with the most likely caption for image 1? **0.75805**\n",
        "\n",
        "4. What is the probability associated with the most likely caption for image 2? **0.98650**\n",
        "\n",
        "**(Answer 5 below but do NOT enter your sentences in the answers file)**\n",
        "\n",
        "5. Why do you think the differences between your two images are reflected in the 4 captions you produced.  "
      ]
    },
    {
      "cell_type": "markdown",
      "id": "1aeeb910",
      "metadata": {
        "id": "1aeeb910"
      },
      "source": [
        "Please answer in two to four sentences right here: \n",
        "\n",
        "<font color=green>*The first image includes two cats - a cat sitting in a chair and staring at VCR in a room. Another one sitting on the floor. You can look at the annotation with the highest probability to see where these objects are located and what actions they are demonstrated. The second image includes a motorcycle parked on the hill with the city view. Again, the annotation with the highest probability closely reflects what's parked on the hill.*</font>"
      ]
    },
    {
      "cell_type": "markdown",
      "id": "f0eaa595",
      "metadata": {
        "id": "f0eaa595"
      },
      "source": [
        "## Yay, you're done with your 266 homework.  Now focus on your project!"
      ]
    }
  ],
  "metadata": {
    "kernelspec": {
      "display_name": "Python 3 (ipykernel)",
      "language": "python",
      "name": "python3"
    },
    "language_info": {
      "codemirror_mode": {
        "name": "ipython",
        "version": 3
      },
      "file_extension": ".py",
      "mimetype": "text/x-python",
      "name": "python",
      "nbconvert_exporter": "python",
      "pygments_lexer": "ipython3",
      "version": "3.9.13"
    },
    "colab": {
      "provenance": [],
      "include_colab_link": true
    },
    "widgets": {
      "application/vnd.jupyter.widget-state+json": {
        "7eead22757344033bd91fb7baeeb4fd4": {
          "model_module": "@jupyter-widgets/controls",
          "model_name": "HBoxModel",
          "model_module_version": "1.5.0",
          "state": {
            "_dom_classes": [],
            "_model_module": "@jupyter-widgets/controls",
            "_model_module_version": "1.5.0",
            "_model_name": "HBoxModel",
            "_view_count": null,
            "_view_module": "@jupyter-widgets/controls",
            "_view_module_version": "1.5.0",
            "_view_name": "HBoxView",
            "box_style": "",
            "children": [
              "IPY_MODEL_d4b6d42c730d4a919fe498d5320f888f",
              "IPY_MODEL_96832f2a044b472aa88d91c2d6605e4a",
              "IPY_MODEL_f6537069eeec4410b4c2dfac75dc9d03"
            ],
            "layout": "IPY_MODEL_2e234f6078c944c4aa49e15af22a9fba"
          }
        },
        "d4b6d42c730d4a919fe498d5320f888f": {
          "model_module": "@jupyter-widgets/controls",
          "model_name": "HTMLModel",
          "model_module_version": "1.5.0",
          "state": {
            "_dom_classes": [],
            "_model_module": "@jupyter-widgets/controls",
            "_model_module_version": "1.5.0",
            "_model_name": "HTMLModel",
            "_view_count": null,
            "_view_module": "@jupyter-widgets/controls",
            "_view_module_version": "1.5.0",
            "_view_name": "HTMLView",
            "description": "",
            "description_tooltip": null,
            "layout": "IPY_MODEL_c73bd4b6874843bab0da4f88f3bd279e",
            "placeholder": "​",
            "style": "IPY_MODEL_f8dc6537c3274174841e4cbb6cb7c169",
            "value": "Downloading (…)lve/main/config.json: 100%"
          }
        },
        "96832f2a044b472aa88d91c2d6605e4a": {
          "model_module": "@jupyter-widgets/controls",
          "model_name": "FloatProgressModel",
          "model_module_version": "1.5.0",
          "state": {
            "_dom_classes": [],
            "_model_module": "@jupyter-widgets/controls",
            "_model_module_version": "1.5.0",
            "_model_name": "FloatProgressModel",
            "_view_count": null,
            "_view_module": "@jupyter-widgets/controls",
            "_view_module_version": "1.5.0",
            "_view_name": "ProgressView",
            "bar_style": "success",
            "description": "",
            "description_tooltip": null,
            "layout": "IPY_MODEL_ed8be04a7590410aa80ee833cb2a268f",
            "max": 4186,
            "min": 0,
            "orientation": "horizontal",
            "style": "IPY_MODEL_05f53f32b5f24189a8cfe232c81708e4",
            "value": 4186
          }
        },
        "f6537069eeec4410b4c2dfac75dc9d03": {
          "model_module": "@jupyter-widgets/controls",
          "model_name": "HTMLModel",
          "model_module_version": "1.5.0",
          "state": {
            "_dom_classes": [],
            "_model_module": "@jupyter-widgets/controls",
            "_model_module_version": "1.5.0",
            "_model_name": "HTMLModel",
            "_view_count": null,
            "_view_module": "@jupyter-widgets/controls",
            "_view_module_version": "1.5.0",
            "_view_name": "HTMLView",
            "description": "",
            "description_tooltip": null,
            "layout": "IPY_MODEL_1650a44fdcb04a3788dadca09367981d",
            "placeholder": "​",
            "style": "IPY_MODEL_d21a3d208d934d329aeb5046c9e50370",
            "value": " 4.19k/4.19k [00:00&lt;00:00, 51.0kB/s]"
          }
        },
        "2e234f6078c944c4aa49e15af22a9fba": {
          "model_module": "@jupyter-widgets/base",
          "model_name": "LayoutModel",
          "model_module_version": "1.2.0",
          "state": {
            "_model_module": "@jupyter-widgets/base",
            "_model_module_version": "1.2.0",
            "_model_name": "LayoutModel",
            "_view_count": null,
            "_view_module": "@jupyter-widgets/base",
            "_view_module_version": "1.2.0",
            "_view_name": "LayoutView",
            "align_content": null,
            "align_items": null,
            "align_self": null,
            "border": null,
            "bottom": null,
            "display": null,
            "flex": null,
            "flex_flow": null,
            "grid_area": null,
            "grid_auto_columns": null,
            "grid_auto_flow": null,
            "grid_auto_rows": null,
            "grid_column": null,
            "grid_gap": null,
            "grid_row": null,
            "grid_template_areas": null,
            "grid_template_columns": null,
            "grid_template_rows": null,
            "height": null,
            "justify_content": null,
            "justify_items": null,
            "left": null,
            "margin": null,
            "max_height": null,
            "max_width": null,
            "min_height": null,
            "min_width": null,
            "object_fit": null,
            "object_position": null,
            "order": null,
            "overflow": null,
            "overflow_x": null,
            "overflow_y": null,
            "padding": null,
            "right": null,
            "top": null,
            "visibility": null,
            "width": null
          }
        },
        "c73bd4b6874843bab0da4f88f3bd279e": {
          "model_module": "@jupyter-widgets/base",
          "model_name": "LayoutModel",
          "model_module_version": "1.2.0",
          "state": {
            "_model_module": "@jupyter-widgets/base",
            "_model_module_version": "1.2.0",
            "_model_name": "LayoutModel",
            "_view_count": null,
            "_view_module": "@jupyter-widgets/base",
            "_view_module_version": "1.2.0",
            "_view_name": "LayoutView",
            "align_content": null,
            "align_items": null,
            "align_self": null,
            "border": null,
            "bottom": null,
            "display": null,
            "flex": null,
            "flex_flow": null,
            "grid_area": null,
            "grid_auto_columns": null,
            "grid_auto_flow": null,
            "grid_auto_rows": null,
            "grid_column": null,
            "grid_gap": null,
            "grid_row": null,
            "grid_template_areas": null,
            "grid_template_columns": null,
            "grid_template_rows": null,
            "height": null,
            "justify_content": null,
            "justify_items": null,
            "left": null,
            "margin": null,
            "max_height": null,
            "max_width": null,
            "min_height": null,
            "min_width": null,
            "object_fit": null,
            "object_position": null,
            "order": null,
            "overflow": null,
            "overflow_x": null,
            "overflow_y": null,
            "padding": null,
            "right": null,
            "top": null,
            "visibility": null,
            "width": null
          }
        },
        "f8dc6537c3274174841e4cbb6cb7c169": {
          "model_module": "@jupyter-widgets/controls",
          "model_name": "DescriptionStyleModel",
          "model_module_version": "1.5.0",
          "state": {
            "_model_module": "@jupyter-widgets/controls",
            "_model_module_version": "1.5.0",
            "_model_name": "DescriptionStyleModel",
            "_view_count": null,
            "_view_module": "@jupyter-widgets/base",
            "_view_module_version": "1.2.0",
            "_view_name": "StyleView",
            "description_width": ""
          }
        },
        "ed8be04a7590410aa80ee833cb2a268f": {
          "model_module": "@jupyter-widgets/base",
          "model_name": "LayoutModel",
          "model_module_version": "1.2.0",
          "state": {
            "_model_module": "@jupyter-widgets/base",
            "_model_module_version": "1.2.0",
            "_model_name": "LayoutModel",
            "_view_count": null,
            "_view_module": "@jupyter-widgets/base",
            "_view_module_version": "1.2.0",
            "_view_name": "LayoutView",
            "align_content": null,
            "align_items": null,
            "align_self": null,
            "border": null,
            "bottom": null,
            "display": null,
            "flex": null,
            "flex_flow": null,
            "grid_area": null,
            "grid_auto_columns": null,
            "grid_auto_flow": null,
            "grid_auto_rows": null,
            "grid_column": null,
            "grid_gap": null,
            "grid_row": null,
            "grid_template_areas": null,
            "grid_template_columns": null,
            "grid_template_rows": null,
            "height": null,
            "justify_content": null,
            "justify_items": null,
            "left": null,
            "margin": null,
            "max_height": null,
            "max_width": null,
            "min_height": null,
            "min_width": null,
            "object_fit": null,
            "object_position": null,
            "order": null,
            "overflow": null,
            "overflow_x": null,
            "overflow_y": null,
            "padding": null,
            "right": null,
            "top": null,
            "visibility": null,
            "width": null
          }
        },
        "05f53f32b5f24189a8cfe232c81708e4": {
          "model_module": "@jupyter-widgets/controls",
          "model_name": "ProgressStyleModel",
          "model_module_version": "1.5.0",
          "state": {
            "_model_module": "@jupyter-widgets/controls",
            "_model_module_version": "1.5.0",
            "_model_name": "ProgressStyleModel",
            "_view_count": null,
            "_view_module": "@jupyter-widgets/base",
            "_view_module_version": "1.2.0",
            "_view_name": "StyleView",
            "bar_color": null,
            "description_width": ""
          }
        },
        "1650a44fdcb04a3788dadca09367981d": {
          "model_module": "@jupyter-widgets/base",
          "model_name": "LayoutModel",
          "model_module_version": "1.2.0",
          "state": {
            "_model_module": "@jupyter-widgets/base",
            "_model_module_version": "1.2.0",
            "_model_name": "LayoutModel",
            "_view_count": null,
            "_view_module": "@jupyter-widgets/base",
            "_view_module_version": "1.2.0",
            "_view_name": "LayoutView",
            "align_content": null,
            "align_items": null,
            "align_self": null,
            "border": null,
            "bottom": null,
            "display": null,
            "flex": null,
            "flex_flow": null,
            "grid_area": null,
            "grid_auto_columns": null,
            "grid_auto_flow": null,
            "grid_auto_rows": null,
            "grid_column": null,
            "grid_gap": null,
            "grid_row": null,
            "grid_template_areas": null,
            "grid_template_columns": null,
            "grid_template_rows": null,
            "height": null,
            "justify_content": null,
            "justify_items": null,
            "left": null,
            "margin": null,
            "max_height": null,
            "max_width": null,
            "min_height": null,
            "min_width": null,
            "object_fit": null,
            "object_position": null,
            "order": null,
            "overflow": null,
            "overflow_x": null,
            "overflow_y": null,
            "padding": null,
            "right": null,
            "top": null,
            "visibility": null,
            "width": null
          }
        },
        "d21a3d208d934d329aeb5046c9e50370": {
          "model_module": "@jupyter-widgets/controls",
          "model_name": "DescriptionStyleModel",
          "model_module_version": "1.5.0",
          "state": {
            "_model_module": "@jupyter-widgets/controls",
            "_model_module_version": "1.5.0",
            "_model_name": "DescriptionStyleModel",
            "_view_count": null,
            "_view_module": "@jupyter-widgets/base",
            "_view_module_version": "1.2.0",
            "_view_name": "StyleView",
            "description_width": ""
          }
        },
        "c39d8bcae0d440feae3702c675d4f28c": {
          "model_module": "@jupyter-widgets/controls",
          "model_name": "HBoxModel",
          "model_module_version": "1.5.0",
          "state": {
            "_dom_classes": [],
            "_model_module": "@jupyter-widgets/controls",
            "_model_module_version": "1.5.0",
            "_model_name": "HBoxModel",
            "_view_count": null,
            "_view_module": "@jupyter-widgets/controls",
            "_view_module_version": "1.5.0",
            "_view_name": "HBoxView",
            "box_style": "",
            "children": [
              "IPY_MODEL_79fe3feae5594766a3b4b682577f0c0a",
              "IPY_MODEL_df20d4e25b0b4460a8bfac7f696ec7bf",
              "IPY_MODEL_112e2994f19f4d2c8f01032457868808"
            ],
            "layout": "IPY_MODEL_d61ec906c7f548ee8bcb3fee34ea2dc2"
          }
        },
        "79fe3feae5594766a3b4b682577f0c0a": {
          "model_module": "@jupyter-widgets/controls",
          "model_name": "HTMLModel",
          "model_module_version": "1.5.0",
          "state": {
            "_dom_classes": [],
            "_model_module": "@jupyter-widgets/controls",
            "_model_module_version": "1.5.0",
            "_model_name": "HTMLModel",
            "_view_count": null,
            "_view_module": "@jupyter-widgets/controls",
            "_view_module_version": "1.5.0",
            "_view_name": "HTMLView",
            "description": "",
            "description_tooltip": null,
            "layout": "IPY_MODEL_06c81e19bad847a584fd581ea6d2d233",
            "placeholder": "​",
            "style": "IPY_MODEL_c7df73cd570c4fa7b7d30019b6b29d35",
            "value": "Downloading tf_model.h5: 100%"
          }
        },
        "df20d4e25b0b4460a8bfac7f696ec7bf": {
          "model_module": "@jupyter-widgets/controls",
          "model_name": "FloatProgressModel",
          "model_module_version": "1.5.0",
          "state": {
            "_dom_classes": [],
            "_model_module": "@jupyter-widgets/controls",
            "_model_module_version": "1.5.0",
            "_model_name": "FloatProgressModel",
            "_view_count": null,
            "_view_module": "@jupyter-widgets/controls",
            "_view_module_version": "1.5.0",
            "_view_name": "ProgressView",
            "bar_style": "success",
            "description": "",
            "description_tooltip": null,
            "layout": "IPY_MODEL_a8308cf6fd164053b78838d8c49b8dc9",
            "max": 605551040,
            "min": 0,
            "orientation": "horizontal",
            "style": "IPY_MODEL_f90eff8ce6ea4ccdb622010f45196fa9",
            "value": 605551040
          }
        },
        "112e2994f19f4d2c8f01032457868808": {
          "model_module": "@jupyter-widgets/controls",
          "model_name": "HTMLModel",
          "model_module_version": "1.5.0",
          "state": {
            "_dom_classes": [],
            "_model_module": "@jupyter-widgets/controls",
            "_model_module_version": "1.5.0",
            "_model_name": "HTMLModel",
            "_view_count": null,
            "_view_module": "@jupyter-widgets/controls",
            "_view_module_version": "1.5.0",
            "_view_name": "HTMLView",
            "description": "",
            "description_tooltip": null,
            "layout": "IPY_MODEL_7f5b63603b0f48a49abf0a8a82efe385",
            "placeholder": "​",
            "style": "IPY_MODEL_961bb825124a419d90672337193278f2",
            "value": " 606M/606M [00:07&lt;00:00, 66.5MB/s]"
          }
        },
        "d61ec906c7f548ee8bcb3fee34ea2dc2": {
          "model_module": "@jupyter-widgets/base",
          "model_name": "LayoutModel",
          "model_module_version": "1.2.0",
          "state": {
            "_model_module": "@jupyter-widgets/base",
            "_model_module_version": "1.2.0",
            "_model_name": "LayoutModel",
            "_view_count": null,
            "_view_module": "@jupyter-widgets/base",
            "_view_module_version": "1.2.0",
            "_view_name": "LayoutView",
            "align_content": null,
            "align_items": null,
            "align_self": null,
            "border": null,
            "bottom": null,
            "display": null,
            "flex": null,
            "flex_flow": null,
            "grid_area": null,
            "grid_auto_columns": null,
            "grid_auto_flow": null,
            "grid_auto_rows": null,
            "grid_column": null,
            "grid_gap": null,
            "grid_row": null,
            "grid_template_areas": null,
            "grid_template_columns": null,
            "grid_template_rows": null,
            "height": null,
            "justify_content": null,
            "justify_items": null,
            "left": null,
            "margin": null,
            "max_height": null,
            "max_width": null,
            "min_height": null,
            "min_width": null,
            "object_fit": null,
            "object_position": null,
            "order": null,
            "overflow": null,
            "overflow_x": null,
            "overflow_y": null,
            "padding": null,
            "right": null,
            "top": null,
            "visibility": null,
            "width": null
          }
        },
        "06c81e19bad847a584fd581ea6d2d233": {
          "model_module": "@jupyter-widgets/base",
          "model_name": "LayoutModel",
          "model_module_version": "1.2.0",
          "state": {
            "_model_module": "@jupyter-widgets/base",
            "_model_module_version": "1.2.0",
            "_model_name": "LayoutModel",
            "_view_count": null,
            "_view_module": "@jupyter-widgets/base",
            "_view_module_version": "1.2.0",
            "_view_name": "LayoutView",
            "align_content": null,
            "align_items": null,
            "align_self": null,
            "border": null,
            "bottom": null,
            "display": null,
            "flex": null,
            "flex_flow": null,
            "grid_area": null,
            "grid_auto_columns": null,
            "grid_auto_flow": null,
            "grid_auto_rows": null,
            "grid_column": null,
            "grid_gap": null,
            "grid_row": null,
            "grid_template_areas": null,
            "grid_template_columns": null,
            "grid_template_rows": null,
            "height": null,
            "justify_content": null,
            "justify_items": null,
            "left": null,
            "margin": null,
            "max_height": null,
            "max_width": null,
            "min_height": null,
            "min_width": null,
            "object_fit": null,
            "object_position": null,
            "order": null,
            "overflow": null,
            "overflow_x": null,
            "overflow_y": null,
            "padding": null,
            "right": null,
            "top": null,
            "visibility": null,
            "width": null
          }
        },
        "c7df73cd570c4fa7b7d30019b6b29d35": {
          "model_module": "@jupyter-widgets/controls",
          "model_name": "DescriptionStyleModel",
          "model_module_version": "1.5.0",
          "state": {
            "_model_module": "@jupyter-widgets/controls",
            "_model_module_version": "1.5.0",
            "_model_name": "DescriptionStyleModel",
            "_view_count": null,
            "_view_module": "@jupyter-widgets/base",
            "_view_module_version": "1.2.0",
            "_view_name": "StyleView",
            "description_width": ""
          }
        },
        "a8308cf6fd164053b78838d8c49b8dc9": {
          "model_module": "@jupyter-widgets/base",
          "model_name": "LayoutModel",
          "model_module_version": "1.2.0",
          "state": {
            "_model_module": "@jupyter-widgets/base",
            "_model_module_version": "1.2.0",
            "_model_name": "LayoutModel",
            "_view_count": null,
            "_view_module": "@jupyter-widgets/base",
            "_view_module_version": "1.2.0",
            "_view_name": "LayoutView",
            "align_content": null,
            "align_items": null,
            "align_self": null,
            "border": null,
            "bottom": null,
            "display": null,
            "flex": null,
            "flex_flow": null,
            "grid_area": null,
            "grid_auto_columns": null,
            "grid_auto_flow": null,
            "grid_auto_rows": null,
            "grid_column": null,
            "grid_gap": null,
            "grid_row": null,
            "grid_template_areas": null,
            "grid_template_columns": null,
            "grid_template_rows": null,
            "height": null,
            "justify_content": null,
            "justify_items": null,
            "left": null,
            "margin": null,
            "max_height": null,
            "max_width": null,
            "min_height": null,
            "min_width": null,
            "object_fit": null,
            "object_position": null,
            "order": null,
            "overflow": null,
            "overflow_x": null,
            "overflow_y": null,
            "padding": null,
            "right": null,
            "top": null,
            "visibility": null,
            "width": null
          }
        },
        "f90eff8ce6ea4ccdb622010f45196fa9": {
          "model_module": "@jupyter-widgets/controls",
          "model_name": "ProgressStyleModel",
          "model_module_version": "1.5.0",
          "state": {
            "_model_module": "@jupyter-widgets/controls",
            "_model_module_version": "1.5.0",
            "_model_name": "ProgressStyleModel",
            "_view_count": null,
            "_view_module": "@jupyter-widgets/base",
            "_view_module_version": "1.2.0",
            "_view_name": "StyleView",
            "bar_color": null,
            "description_width": ""
          }
        },
        "7f5b63603b0f48a49abf0a8a82efe385": {
          "model_module": "@jupyter-widgets/base",
          "model_name": "LayoutModel",
          "model_module_version": "1.2.0",
          "state": {
            "_model_module": "@jupyter-widgets/base",
            "_model_module_version": "1.2.0",
            "_model_name": "LayoutModel",
            "_view_count": null,
            "_view_module": "@jupyter-widgets/base",
            "_view_module_version": "1.2.0",
            "_view_name": "LayoutView",
            "align_content": null,
            "align_items": null,
            "align_self": null,
            "border": null,
            "bottom": null,
            "display": null,
            "flex": null,
            "flex_flow": null,
            "grid_area": null,
            "grid_auto_columns": null,
            "grid_auto_flow": null,
            "grid_auto_rows": null,
            "grid_column": null,
            "grid_gap": null,
            "grid_row": null,
            "grid_template_areas": null,
            "grid_template_columns": null,
            "grid_template_rows": null,
            "height": null,
            "justify_content": null,
            "justify_items": null,
            "left": null,
            "margin": null,
            "max_height": null,
            "max_width": null,
            "min_height": null,
            "min_width": null,
            "object_fit": null,
            "object_position": null,
            "order": null,
            "overflow": null,
            "overflow_x": null,
            "overflow_y": null,
            "padding": null,
            "right": null,
            "top": null,
            "visibility": null,
            "width": null
          }
        },
        "961bb825124a419d90672337193278f2": {
          "model_module": "@jupyter-widgets/controls",
          "model_name": "DescriptionStyleModel",
          "model_module_version": "1.5.0",
          "state": {
            "_model_module": "@jupyter-widgets/controls",
            "_model_module_version": "1.5.0",
            "_model_name": "DescriptionStyleModel",
            "_view_count": null,
            "_view_module": "@jupyter-widgets/base",
            "_view_module_version": "1.2.0",
            "_view_name": "StyleView",
            "description_width": ""
          }
        },
        "29fd36962dca4490b04cba37cd915724": {
          "model_module": "@jupyter-widgets/controls",
          "model_name": "HBoxModel",
          "model_module_version": "1.5.0",
          "state": {
            "_dom_classes": [],
            "_model_module": "@jupyter-widgets/controls",
            "_model_module_version": "1.5.0",
            "_model_name": "HBoxModel",
            "_view_count": null,
            "_view_module": "@jupyter-widgets/controls",
            "_view_module_version": "1.5.0",
            "_view_name": "HBoxView",
            "box_style": "",
            "children": [
              "IPY_MODEL_cd69f237691b4363aabc8b3863ed67b1",
              "IPY_MODEL_264ea681fad74999a4281deeaaed87ac",
              "IPY_MODEL_aff17ef97522453aa66842538660febd"
            ],
            "layout": "IPY_MODEL_933b329662ff400da47828a41b5447df"
          }
        },
        "cd69f237691b4363aabc8b3863ed67b1": {
          "model_module": "@jupyter-widgets/controls",
          "model_name": "HTMLModel",
          "model_module_version": "1.5.0",
          "state": {
            "_dom_classes": [],
            "_model_module": "@jupyter-widgets/controls",
            "_model_module_version": "1.5.0",
            "_model_name": "HTMLModel",
            "_view_count": null,
            "_view_module": "@jupyter-widgets/controls",
            "_view_module_version": "1.5.0",
            "_view_name": "HTMLView",
            "description": "",
            "description_tooltip": null,
            "layout": "IPY_MODEL_f47291789a80443c9bd6992ad171c9ca",
            "placeholder": "​",
            "style": "IPY_MODEL_607a198a3dd4415180115f9a7e4f15e8",
            "value": "Downloading (…)rocessor_config.json: 100%"
          }
        },
        "264ea681fad74999a4281deeaaed87ac": {
          "model_module": "@jupyter-widgets/controls",
          "model_name": "FloatProgressModel",
          "model_module_version": "1.5.0",
          "state": {
            "_dom_classes": [],
            "_model_module": "@jupyter-widgets/controls",
            "_model_module_version": "1.5.0",
            "_model_name": "FloatProgressModel",
            "_view_count": null,
            "_view_module": "@jupyter-widgets/controls",
            "_view_module_version": "1.5.0",
            "_view_name": "ProgressView",
            "bar_style": "success",
            "description": "",
            "description_tooltip": null,
            "layout": "IPY_MODEL_f5d7eae369584010a608ad7ccbfb8622",
            "max": 316,
            "min": 0,
            "orientation": "horizontal",
            "style": "IPY_MODEL_fe51968ba7aa468393158e0206606082",
            "value": 316
          }
        },
        "aff17ef97522453aa66842538660febd": {
          "model_module": "@jupyter-widgets/controls",
          "model_name": "HTMLModel",
          "model_module_version": "1.5.0",
          "state": {
            "_dom_classes": [],
            "_model_module": "@jupyter-widgets/controls",
            "_model_module_version": "1.5.0",
            "_model_name": "HTMLModel",
            "_view_count": null,
            "_view_module": "@jupyter-widgets/controls",
            "_view_module_version": "1.5.0",
            "_view_name": "HTMLView",
            "description": "",
            "description_tooltip": null,
            "layout": "IPY_MODEL_19882feca15341e288ab5478edede1da",
            "placeholder": "​",
            "style": "IPY_MODEL_4863ae30bee446f09d1b7a6271bb4752",
            "value": " 316/316 [00:00&lt;00:00, 14.1kB/s]"
          }
        },
        "933b329662ff400da47828a41b5447df": {
          "model_module": "@jupyter-widgets/base",
          "model_name": "LayoutModel",
          "model_module_version": "1.2.0",
          "state": {
            "_model_module": "@jupyter-widgets/base",
            "_model_module_version": "1.2.0",
            "_model_name": "LayoutModel",
            "_view_count": null,
            "_view_module": "@jupyter-widgets/base",
            "_view_module_version": "1.2.0",
            "_view_name": "LayoutView",
            "align_content": null,
            "align_items": null,
            "align_self": null,
            "border": null,
            "bottom": null,
            "display": null,
            "flex": null,
            "flex_flow": null,
            "grid_area": null,
            "grid_auto_columns": null,
            "grid_auto_flow": null,
            "grid_auto_rows": null,
            "grid_column": null,
            "grid_gap": null,
            "grid_row": null,
            "grid_template_areas": null,
            "grid_template_columns": null,
            "grid_template_rows": null,
            "height": null,
            "justify_content": null,
            "justify_items": null,
            "left": null,
            "margin": null,
            "max_height": null,
            "max_width": null,
            "min_height": null,
            "min_width": null,
            "object_fit": null,
            "object_position": null,
            "order": null,
            "overflow": null,
            "overflow_x": null,
            "overflow_y": null,
            "padding": null,
            "right": null,
            "top": null,
            "visibility": null,
            "width": null
          }
        },
        "f47291789a80443c9bd6992ad171c9ca": {
          "model_module": "@jupyter-widgets/base",
          "model_name": "LayoutModel",
          "model_module_version": "1.2.0",
          "state": {
            "_model_module": "@jupyter-widgets/base",
            "_model_module_version": "1.2.0",
            "_model_name": "LayoutModel",
            "_view_count": null,
            "_view_module": "@jupyter-widgets/base",
            "_view_module_version": "1.2.0",
            "_view_name": "LayoutView",
            "align_content": null,
            "align_items": null,
            "align_self": null,
            "border": null,
            "bottom": null,
            "display": null,
            "flex": null,
            "flex_flow": null,
            "grid_area": null,
            "grid_auto_columns": null,
            "grid_auto_flow": null,
            "grid_auto_rows": null,
            "grid_column": null,
            "grid_gap": null,
            "grid_row": null,
            "grid_template_areas": null,
            "grid_template_columns": null,
            "grid_template_rows": null,
            "height": null,
            "justify_content": null,
            "justify_items": null,
            "left": null,
            "margin": null,
            "max_height": null,
            "max_width": null,
            "min_height": null,
            "min_width": null,
            "object_fit": null,
            "object_position": null,
            "order": null,
            "overflow": null,
            "overflow_x": null,
            "overflow_y": null,
            "padding": null,
            "right": null,
            "top": null,
            "visibility": null,
            "width": null
          }
        },
        "607a198a3dd4415180115f9a7e4f15e8": {
          "model_module": "@jupyter-widgets/controls",
          "model_name": "DescriptionStyleModel",
          "model_module_version": "1.5.0",
          "state": {
            "_model_module": "@jupyter-widgets/controls",
            "_model_module_version": "1.5.0",
            "_model_name": "DescriptionStyleModel",
            "_view_count": null,
            "_view_module": "@jupyter-widgets/base",
            "_view_module_version": "1.2.0",
            "_view_name": "StyleView",
            "description_width": ""
          }
        },
        "f5d7eae369584010a608ad7ccbfb8622": {
          "model_module": "@jupyter-widgets/base",
          "model_name": "LayoutModel",
          "model_module_version": "1.2.0",
          "state": {
            "_model_module": "@jupyter-widgets/base",
            "_model_module_version": "1.2.0",
            "_model_name": "LayoutModel",
            "_view_count": null,
            "_view_module": "@jupyter-widgets/base",
            "_view_module_version": "1.2.0",
            "_view_name": "LayoutView",
            "align_content": null,
            "align_items": null,
            "align_self": null,
            "border": null,
            "bottom": null,
            "display": null,
            "flex": null,
            "flex_flow": null,
            "grid_area": null,
            "grid_auto_columns": null,
            "grid_auto_flow": null,
            "grid_auto_rows": null,
            "grid_column": null,
            "grid_gap": null,
            "grid_row": null,
            "grid_template_areas": null,
            "grid_template_columns": null,
            "grid_template_rows": null,
            "height": null,
            "justify_content": null,
            "justify_items": null,
            "left": null,
            "margin": null,
            "max_height": null,
            "max_width": null,
            "min_height": null,
            "min_width": null,
            "object_fit": null,
            "object_position": null,
            "order": null,
            "overflow": null,
            "overflow_x": null,
            "overflow_y": null,
            "padding": null,
            "right": null,
            "top": null,
            "visibility": null,
            "width": null
          }
        },
        "fe51968ba7aa468393158e0206606082": {
          "model_module": "@jupyter-widgets/controls",
          "model_name": "ProgressStyleModel",
          "model_module_version": "1.5.0",
          "state": {
            "_model_module": "@jupyter-widgets/controls",
            "_model_module_version": "1.5.0",
            "_model_name": "ProgressStyleModel",
            "_view_count": null,
            "_view_module": "@jupyter-widgets/base",
            "_view_module_version": "1.2.0",
            "_view_name": "StyleView",
            "bar_color": null,
            "description_width": ""
          }
        },
        "19882feca15341e288ab5478edede1da": {
          "model_module": "@jupyter-widgets/base",
          "model_name": "LayoutModel",
          "model_module_version": "1.2.0",
          "state": {
            "_model_module": "@jupyter-widgets/base",
            "_model_module_version": "1.2.0",
            "_model_name": "LayoutModel",
            "_view_count": null,
            "_view_module": "@jupyter-widgets/base",
            "_view_module_version": "1.2.0",
            "_view_name": "LayoutView",
            "align_content": null,
            "align_items": null,
            "align_self": null,
            "border": null,
            "bottom": null,
            "display": null,
            "flex": null,
            "flex_flow": null,
            "grid_area": null,
            "grid_auto_columns": null,
            "grid_auto_flow": null,
            "grid_auto_rows": null,
            "grid_column": null,
            "grid_gap": null,
            "grid_row": null,
            "grid_template_areas": null,
            "grid_template_columns": null,
            "grid_template_rows": null,
            "height": null,
            "justify_content": null,
            "justify_items": null,
            "left": null,
            "margin": null,
            "max_height": null,
            "max_width": null,
            "min_height": null,
            "min_width": null,
            "object_fit": null,
            "object_position": null,
            "order": null,
            "overflow": null,
            "overflow_x": null,
            "overflow_y": null,
            "padding": null,
            "right": null,
            "top": null,
            "visibility": null,
            "width": null
          }
        },
        "4863ae30bee446f09d1b7a6271bb4752": {
          "model_module": "@jupyter-widgets/controls",
          "model_name": "DescriptionStyleModel",
          "model_module_version": "1.5.0",
          "state": {
            "_model_module": "@jupyter-widgets/controls",
            "_model_module_version": "1.5.0",
            "_model_name": "DescriptionStyleModel",
            "_view_count": null,
            "_view_module": "@jupyter-widgets/base",
            "_view_module_version": "1.2.0",
            "_view_name": "StyleView",
            "description_width": ""
          }
        },
        "d35ccda4950344a5ba014d06c3ace68a": {
          "model_module": "@jupyter-widgets/controls",
          "model_name": "HBoxModel",
          "model_module_version": "1.5.0",
          "state": {
            "_dom_classes": [],
            "_model_module": "@jupyter-widgets/controls",
            "_model_module_version": "1.5.0",
            "_model_name": "HBoxModel",
            "_view_count": null,
            "_view_module": "@jupyter-widgets/controls",
            "_view_module_version": "1.5.0",
            "_view_name": "HBoxView",
            "box_style": "",
            "children": [
              "IPY_MODEL_314be2f87d134906aff2e18b849750df",
              "IPY_MODEL_19478cff47f34d6681dce0c3e4491e65",
              "IPY_MODEL_96c122e2c236431896eee09ee48e886f"
            ],
            "layout": "IPY_MODEL_b5cba29d6f284d7aa2f907f294f1b410"
          }
        },
        "314be2f87d134906aff2e18b849750df": {
          "model_module": "@jupyter-widgets/controls",
          "model_name": "HTMLModel",
          "model_module_version": "1.5.0",
          "state": {
            "_dom_classes": [],
            "_model_module": "@jupyter-widgets/controls",
            "_model_module_version": "1.5.0",
            "_model_name": "HTMLModel",
            "_view_count": null,
            "_view_module": "@jupyter-widgets/controls",
            "_view_module_version": "1.5.0",
            "_view_name": "HTMLView",
            "description": "",
            "description_tooltip": null,
            "layout": "IPY_MODEL_285c5f8ba60545d99fd1c176b6ae7ef1",
            "placeholder": "​",
            "style": "IPY_MODEL_131ef4f039614ea4b987ed58458f565d",
            "value": "Downloading (…)okenizer_config.json: 100%"
          }
        },
        "19478cff47f34d6681dce0c3e4491e65": {
          "model_module": "@jupyter-widgets/controls",
          "model_name": "FloatProgressModel",
          "model_module_version": "1.5.0",
          "state": {
            "_dom_classes": [],
            "_model_module": "@jupyter-widgets/controls",
            "_model_module_version": "1.5.0",
            "_model_name": "FloatProgressModel",
            "_view_count": null,
            "_view_module": "@jupyter-widgets/controls",
            "_view_module_version": "1.5.0",
            "_view_name": "ProgressView",
            "bar_style": "success",
            "description": "",
            "description_tooltip": null,
            "layout": "IPY_MODEL_db58cbfea5eb496d86532b6bbe60071e",
            "max": 568,
            "min": 0,
            "orientation": "horizontal",
            "style": "IPY_MODEL_b2f920c3c06444a98bf4249b5009bac3",
            "value": 568
          }
        },
        "96c122e2c236431896eee09ee48e886f": {
          "model_module": "@jupyter-widgets/controls",
          "model_name": "HTMLModel",
          "model_module_version": "1.5.0",
          "state": {
            "_dom_classes": [],
            "_model_module": "@jupyter-widgets/controls",
            "_model_module_version": "1.5.0",
            "_model_name": "HTMLModel",
            "_view_count": null,
            "_view_module": "@jupyter-widgets/controls",
            "_view_module_version": "1.5.0",
            "_view_name": "HTMLView",
            "description": "",
            "description_tooltip": null,
            "layout": "IPY_MODEL_24d17d35c7184985994f90c20b38b7bd",
            "placeholder": "​",
            "style": "IPY_MODEL_f06bab9f9277413ab6a3eee57a1f2a42",
            "value": " 568/568 [00:00&lt;00:00, 27.9kB/s]"
          }
        },
        "b5cba29d6f284d7aa2f907f294f1b410": {
          "model_module": "@jupyter-widgets/base",
          "model_name": "LayoutModel",
          "model_module_version": "1.2.0",
          "state": {
            "_model_module": "@jupyter-widgets/base",
            "_model_module_version": "1.2.0",
            "_model_name": "LayoutModel",
            "_view_count": null,
            "_view_module": "@jupyter-widgets/base",
            "_view_module_version": "1.2.0",
            "_view_name": "LayoutView",
            "align_content": null,
            "align_items": null,
            "align_self": null,
            "border": null,
            "bottom": null,
            "display": null,
            "flex": null,
            "flex_flow": null,
            "grid_area": null,
            "grid_auto_columns": null,
            "grid_auto_flow": null,
            "grid_auto_rows": null,
            "grid_column": null,
            "grid_gap": null,
            "grid_row": null,
            "grid_template_areas": null,
            "grid_template_columns": null,
            "grid_template_rows": null,
            "height": null,
            "justify_content": null,
            "justify_items": null,
            "left": null,
            "margin": null,
            "max_height": null,
            "max_width": null,
            "min_height": null,
            "min_width": null,
            "object_fit": null,
            "object_position": null,
            "order": null,
            "overflow": null,
            "overflow_x": null,
            "overflow_y": null,
            "padding": null,
            "right": null,
            "top": null,
            "visibility": null,
            "width": null
          }
        },
        "285c5f8ba60545d99fd1c176b6ae7ef1": {
          "model_module": "@jupyter-widgets/base",
          "model_name": "LayoutModel",
          "model_module_version": "1.2.0",
          "state": {
            "_model_module": "@jupyter-widgets/base",
            "_model_module_version": "1.2.0",
            "_model_name": "LayoutModel",
            "_view_count": null,
            "_view_module": "@jupyter-widgets/base",
            "_view_module_version": "1.2.0",
            "_view_name": "LayoutView",
            "align_content": null,
            "align_items": null,
            "align_self": null,
            "border": null,
            "bottom": null,
            "display": null,
            "flex": null,
            "flex_flow": null,
            "grid_area": null,
            "grid_auto_columns": null,
            "grid_auto_flow": null,
            "grid_auto_rows": null,
            "grid_column": null,
            "grid_gap": null,
            "grid_row": null,
            "grid_template_areas": null,
            "grid_template_columns": null,
            "grid_template_rows": null,
            "height": null,
            "justify_content": null,
            "justify_items": null,
            "left": null,
            "margin": null,
            "max_height": null,
            "max_width": null,
            "min_height": null,
            "min_width": null,
            "object_fit": null,
            "object_position": null,
            "order": null,
            "overflow": null,
            "overflow_x": null,
            "overflow_y": null,
            "padding": null,
            "right": null,
            "top": null,
            "visibility": null,
            "width": null
          }
        },
        "131ef4f039614ea4b987ed58458f565d": {
          "model_module": "@jupyter-widgets/controls",
          "model_name": "DescriptionStyleModel",
          "model_module_version": "1.5.0",
          "state": {
            "_model_module": "@jupyter-widgets/controls",
            "_model_module_version": "1.5.0",
            "_model_name": "DescriptionStyleModel",
            "_view_count": null,
            "_view_module": "@jupyter-widgets/base",
            "_view_module_version": "1.2.0",
            "_view_name": "StyleView",
            "description_width": ""
          }
        },
        "db58cbfea5eb496d86532b6bbe60071e": {
          "model_module": "@jupyter-widgets/base",
          "model_name": "LayoutModel",
          "model_module_version": "1.2.0",
          "state": {
            "_model_module": "@jupyter-widgets/base",
            "_model_module_version": "1.2.0",
            "_model_name": "LayoutModel",
            "_view_count": null,
            "_view_module": "@jupyter-widgets/base",
            "_view_module_version": "1.2.0",
            "_view_name": "LayoutView",
            "align_content": null,
            "align_items": null,
            "align_self": null,
            "border": null,
            "bottom": null,
            "display": null,
            "flex": null,
            "flex_flow": null,
            "grid_area": null,
            "grid_auto_columns": null,
            "grid_auto_flow": null,
            "grid_auto_rows": null,
            "grid_column": null,
            "grid_gap": null,
            "grid_row": null,
            "grid_template_areas": null,
            "grid_template_columns": null,
            "grid_template_rows": null,
            "height": null,
            "justify_content": null,
            "justify_items": null,
            "left": null,
            "margin": null,
            "max_height": null,
            "max_width": null,
            "min_height": null,
            "min_width": null,
            "object_fit": null,
            "object_position": null,
            "order": null,
            "overflow": null,
            "overflow_x": null,
            "overflow_y": null,
            "padding": null,
            "right": null,
            "top": null,
            "visibility": null,
            "width": null
          }
        },
        "b2f920c3c06444a98bf4249b5009bac3": {
          "model_module": "@jupyter-widgets/controls",
          "model_name": "ProgressStyleModel",
          "model_module_version": "1.5.0",
          "state": {
            "_model_module": "@jupyter-widgets/controls",
            "_model_module_version": "1.5.0",
            "_model_name": "ProgressStyleModel",
            "_view_count": null,
            "_view_module": "@jupyter-widgets/base",
            "_view_module_version": "1.2.0",
            "_view_name": "StyleView",
            "bar_color": null,
            "description_width": ""
          }
        },
        "24d17d35c7184985994f90c20b38b7bd": {
          "model_module": "@jupyter-widgets/base",
          "model_name": "LayoutModel",
          "model_module_version": "1.2.0",
          "state": {
            "_model_module": "@jupyter-widgets/base",
            "_model_module_version": "1.2.0",
            "_model_name": "LayoutModel",
            "_view_count": null,
            "_view_module": "@jupyter-widgets/base",
            "_view_module_version": "1.2.0",
            "_view_name": "LayoutView",
            "align_content": null,
            "align_items": null,
            "align_self": null,
            "border": null,
            "bottom": null,
            "display": null,
            "flex": null,
            "flex_flow": null,
            "grid_area": null,
            "grid_auto_columns": null,
            "grid_auto_flow": null,
            "grid_auto_rows": null,
            "grid_column": null,
            "grid_gap": null,
            "grid_row": null,
            "grid_template_areas": null,
            "grid_template_columns": null,
            "grid_template_rows": null,
            "height": null,
            "justify_content": null,
            "justify_items": null,
            "left": null,
            "margin": null,
            "max_height": null,
            "max_width": null,
            "min_height": null,
            "min_width": null,
            "object_fit": null,
            "object_position": null,
            "order": null,
            "overflow": null,
            "overflow_x": null,
            "overflow_y": null,
            "padding": null,
            "right": null,
            "top": null,
            "visibility": null,
            "width": null
          }
        },
        "f06bab9f9277413ab6a3eee57a1f2a42": {
          "model_module": "@jupyter-widgets/controls",
          "model_name": "DescriptionStyleModel",
          "model_module_version": "1.5.0",
          "state": {
            "_model_module": "@jupyter-widgets/controls",
            "_model_module_version": "1.5.0",
            "_model_name": "DescriptionStyleModel",
            "_view_count": null,
            "_view_module": "@jupyter-widgets/base",
            "_view_module_version": "1.2.0",
            "_view_name": "StyleView",
            "description_width": ""
          }
        },
        "1e95bf43076442a285a8be21eb3d4a16": {
          "model_module": "@jupyter-widgets/controls",
          "model_name": "HBoxModel",
          "model_module_version": "1.5.0",
          "state": {
            "_dom_classes": [],
            "_model_module": "@jupyter-widgets/controls",
            "_model_module_version": "1.5.0",
            "_model_name": "HBoxModel",
            "_view_count": null,
            "_view_module": "@jupyter-widgets/controls",
            "_view_module_version": "1.5.0",
            "_view_name": "HBoxView",
            "box_style": "",
            "children": [
              "IPY_MODEL_a96ec78957414cffaf1a580e38d09772",
              "IPY_MODEL_69186115100a4895ac05938013b41106",
              "IPY_MODEL_af1e7d735db34410bd0fd2085dbb3dda"
            ],
            "layout": "IPY_MODEL_68deaeab3f2e454d8a9f863c58b8b5eb"
          }
        },
        "a96ec78957414cffaf1a580e38d09772": {
          "model_module": "@jupyter-widgets/controls",
          "model_name": "HTMLModel",
          "model_module_version": "1.5.0",
          "state": {
            "_dom_classes": [],
            "_model_module": "@jupyter-widgets/controls",
            "_model_module_version": "1.5.0",
            "_model_name": "HTMLModel",
            "_view_count": null,
            "_view_module": "@jupyter-widgets/controls",
            "_view_module_version": "1.5.0",
            "_view_name": "HTMLView",
            "description": "",
            "description_tooltip": null,
            "layout": "IPY_MODEL_9e42f63513334af1ba086025c13f762c",
            "placeholder": "​",
            "style": "IPY_MODEL_8d103cd018984f2f9f5ee9e7dd349b6f",
            "value": "Downloading (…)olve/main/vocab.json: 100%"
          }
        },
        "69186115100a4895ac05938013b41106": {
          "model_module": "@jupyter-widgets/controls",
          "model_name": "FloatProgressModel",
          "model_module_version": "1.5.0",
          "state": {
            "_dom_classes": [],
            "_model_module": "@jupyter-widgets/controls",
            "_model_module_version": "1.5.0",
            "_model_name": "FloatProgressModel",
            "_view_count": null,
            "_view_module": "@jupyter-widgets/controls",
            "_view_module_version": "1.5.0",
            "_view_name": "ProgressView",
            "bar_style": "success",
            "description": "",
            "description_tooltip": null,
            "layout": "IPY_MODEL_977a81b76ff94f3e9a4b9756a7c3edbe",
            "max": 862328,
            "min": 0,
            "orientation": "horizontal",
            "style": "IPY_MODEL_55cf24a3d8d146ab9d4e731b9d1bf6f8",
            "value": 862328
          }
        },
        "af1e7d735db34410bd0fd2085dbb3dda": {
          "model_module": "@jupyter-widgets/controls",
          "model_name": "HTMLModel",
          "model_module_version": "1.5.0",
          "state": {
            "_dom_classes": [],
            "_model_module": "@jupyter-widgets/controls",
            "_model_module_version": "1.5.0",
            "_model_name": "HTMLModel",
            "_view_count": null,
            "_view_module": "@jupyter-widgets/controls",
            "_view_module_version": "1.5.0",
            "_view_name": "HTMLView",
            "description": "",
            "description_tooltip": null,
            "layout": "IPY_MODEL_b8593e24e03142f5aa4fc497aef90ad3",
            "placeholder": "​",
            "style": "IPY_MODEL_b04a942d7c824953a34bb0131d04dd62",
            "value": " 862k/862k [00:00&lt;00:00, 8.27MB/s]"
          }
        },
        "68deaeab3f2e454d8a9f863c58b8b5eb": {
          "model_module": "@jupyter-widgets/base",
          "model_name": "LayoutModel",
          "model_module_version": "1.2.0",
          "state": {
            "_model_module": "@jupyter-widgets/base",
            "_model_module_version": "1.2.0",
            "_model_name": "LayoutModel",
            "_view_count": null,
            "_view_module": "@jupyter-widgets/base",
            "_view_module_version": "1.2.0",
            "_view_name": "LayoutView",
            "align_content": null,
            "align_items": null,
            "align_self": null,
            "border": null,
            "bottom": null,
            "display": null,
            "flex": null,
            "flex_flow": null,
            "grid_area": null,
            "grid_auto_columns": null,
            "grid_auto_flow": null,
            "grid_auto_rows": null,
            "grid_column": null,
            "grid_gap": null,
            "grid_row": null,
            "grid_template_areas": null,
            "grid_template_columns": null,
            "grid_template_rows": null,
            "height": null,
            "justify_content": null,
            "justify_items": null,
            "left": null,
            "margin": null,
            "max_height": null,
            "max_width": null,
            "min_height": null,
            "min_width": null,
            "object_fit": null,
            "object_position": null,
            "order": null,
            "overflow": null,
            "overflow_x": null,
            "overflow_y": null,
            "padding": null,
            "right": null,
            "top": null,
            "visibility": null,
            "width": null
          }
        },
        "9e42f63513334af1ba086025c13f762c": {
          "model_module": "@jupyter-widgets/base",
          "model_name": "LayoutModel",
          "model_module_version": "1.2.0",
          "state": {
            "_model_module": "@jupyter-widgets/base",
            "_model_module_version": "1.2.0",
            "_model_name": "LayoutModel",
            "_view_count": null,
            "_view_module": "@jupyter-widgets/base",
            "_view_module_version": "1.2.0",
            "_view_name": "LayoutView",
            "align_content": null,
            "align_items": null,
            "align_self": null,
            "border": null,
            "bottom": null,
            "display": null,
            "flex": null,
            "flex_flow": null,
            "grid_area": null,
            "grid_auto_columns": null,
            "grid_auto_flow": null,
            "grid_auto_rows": null,
            "grid_column": null,
            "grid_gap": null,
            "grid_row": null,
            "grid_template_areas": null,
            "grid_template_columns": null,
            "grid_template_rows": null,
            "height": null,
            "justify_content": null,
            "justify_items": null,
            "left": null,
            "margin": null,
            "max_height": null,
            "max_width": null,
            "min_height": null,
            "min_width": null,
            "object_fit": null,
            "object_position": null,
            "order": null,
            "overflow": null,
            "overflow_x": null,
            "overflow_y": null,
            "padding": null,
            "right": null,
            "top": null,
            "visibility": null,
            "width": null
          }
        },
        "8d103cd018984f2f9f5ee9e7dd349b6f": {
          "model_module": "@jupyter-widgets/controls",
          "model_name": "DescriptionStyleModel",
          "model_module_version": "1.5.0",
          "state": {
            "_model_module": "@jupyter-widgets/controls",
            "_model_module_version": "1.5.0",
            "_model_name": "DescriptionStyleModel",
            "_view_count": null,
            "_view_module": "@jupyter-widgets/base",
            "_view_module_version": "1.2.0",
            "_view_name": "StyleView",
            "description_width": ""
          }
        },
        "977a81b76ff94f3e9a4b9756a7c3edbe": {
          "model_module": "@jupyter-widgets/base",
          "model_name": "LayoutModel",
          "model_module_version": "1.2.0",
          "state": {
            "_model_module": "@jupyter-widgets/base",
            "_model_module_version": "1.2.0",
            "_model_name": "LayoutModel",
            "_view_count": null,
            "_view_module": "@jupyter-widgets/base",
            "_view_module_version": "1.2.0",
            "_view_name": "LayoutView",
            "align_content": null,
            "align_items": null,
            "align_self": null,
            "border": null,
            "bottom": null,
            "display": null,
            "flex": null,
            "flex_flow": null,
            "grid_area": null,
            "grid_auto_columns": null,
            "grid_auto_flow": null,
            "grid_auto_rows": null,
            "grid_column": null,
            "grid_gap": null,
            "grid_row": null,
            "grid_template_areas": null,
            "grid_template_columns": null,
            "grid_template_rows": null,
            "height": null,
            "justify_content": null,
            "justify_items": null,
            "left": null,
            "margin": null,
            "max_height": null,
            "max_width": null,
            "min_height": null,
            "min_width": null,
            "object_fit": null,
            "object_position": null,
            "order": null,
            "overflow": null,
            "overflow_x": null,
            "overflow_y": null,
            "padding": null,
            "right": null,
            "top": null,
            "visibility": null,
            "width": null
          }
        },
        "55cf24a3d8d146ab9d4e731b9d1bf6f8": {
          "model_module": "@jupyter-widgets/controls",
          "model_name": "ProgressStyleModel",
          "model_module_version": "1.5.0",
          "state": {
            "_model_module": "@jupyter-widgets/controls",
            "_model_module_version": "1.5.0",
            "_model_name": "ProgressStyleModel",
            "_view_count": null,
            "_view_module": "@jupyter-widgets/base",
            "_view_module_version": "1.2.0",
            "_view_name": "StyleView",
            "bar_color": null,
            "description_width": ""
          }
        },
        "b8593e24e03142f5aa4fc497aef90ad3": {
          "model_module": "@jupyter-widgets/base",
          "model_name": "LayoutModel",
          "model_module_version": "1.2.0",
          "state": {
            "_model_module": "@jupyter-widgets/base",
            "_model_module_version": "1.2.0",
            "_model_name": "LayoutModel",
            "_view_count": null,
            "_view_module": "@jupyter-widgets/base",
            "_view_module_version": "1.2.0",
            "_view_name": "LayoutView",
            "align_content": null,
            "align_items": null,
            "align_self": null,
            "border": null,
            "bottom": null,
            "display": null,
            "flex": null,
            "flex_flow": null,
            "grid_area": null,
            "grid_auto_columns": null,
            "grid_auto_flow": null,
            "grid_auto_rows": null,
            "grid_column": null,
            "grid_gap": null,
            "grid_row": null,
            "grid_template_areas": null,
            "grid_template_columns": null,
            "grid_template_rows": null,
            "height": null,
            "justify_content": null,
            "justify_items": null,
            "left": null,
            "margin": null,
            "max_height": null,
            "max_width": null,
            "min_height": null,
            "min_width": null,
            "object_fit": null,
            "object_position": null,
            "order": null,
            "overflow": null,
            "overflow_x": null,
            "overflow_y": null,
            "padding": null,
            "right": null,
            "top": null,
            "visibility": null,
            "width": null
          }
        },
        "b04a942d7c824953a34bb0131d04dd62": {
          "model_module": "@jupyter-widgets/controls",
          "model_name": "DescriptionStyleModel",
          "model_module_version": "1.5.0",
          "state": {
            "_model_module": "@jupyter-widgets/controls",
            "_model_module_version": "1.5.0",
            "_model_name": "DescriptionStyleModel",
            "_view_count": null,
            "_view_module": "@jupyter-widgets/base",
            "_view_module_version": "1.2.0",
            "_view_name": "StyleView",
            "description_width": ""
          }
        },
        "4f806190fab948268bf6160b6c70153b": {
          "model_module": "@jupyter-widgets/controls",
          "model_name": "HBoxModel",
          "model_module_version": "1.5.0",
          "state": {
            "_dom_classes": [],
            "_model_module": "@jupyter-widgets/controls",
            "_model_module_version": "1.5.0",
            "_model_name": "HBoxModel",
            "_view_count": null,
            "_view_module": "@jupyter-widgets/controls",
            "_view_module_version": "1.5.0",
            "_view_name": "HBoxView",
            "box_style": "",
            "children": [
              "IPY_MODEL_a57623ee92774d9686d482f7c95afd38",
              "IPY_MODEL_a6c1ebcc27564eb3831a76f50770bb25",
              "IPY_MODEL_420278996c394a57b4d4136899fc23c1"
            ],
            "layout": "IPY_MODEL_cdca8c415ecf4267b6d912b444ee1398"
          }
        },
        "a57623ee92774d9686d482f7c95afd38": {
          "model_module": "@jupyter-widgets/controls",
          "model_name": "HTMLModel",
          "model_module_version": "1.5.0",
          "state": {
            "_dom_classes": [],
            "_model_module": "@jupyter-widgets/controls",
            "_model_module_version": "1.5.0",
            "_model_name": "HTMLModel",
            "_view_count": null,
            "_view_module": "@jupyter-widgets/controls",
            "_view_module_version": "1.5.0",
            "_view_name": "HTMLView",
            "description": "",
            "description_tooltip": null,
            "layout": "IPY_MODEL_402b6010e7ca4dfe896a2eb666bc3603",
            "placeholder": "​",
            "style": "IPY_MODEL_f7ba78ceda244592b6d621af2f5e74df",
            "value": "Downloading (…)olve/main/merges.txt: 100%"
          }
        },
        "a6c1ebcc27564eb3831a76f50770bb25": {
          "model_module": "@jupyter-widgets/controls",
          "model_name": "FloatProgressModel",
          "model_module_version": "1.5.0",
          "state": {
            "_dom_classes": [],
            "_model_module": "@jupyter-widgets/controls",
            "_model_module_version": "1.5.0",
            "_model_name": "FloatProgressModel",
            "_view_count": null,
            "_view_module": "@jupyter-widgets/controls",
            "_view_module_version": "1.5.0",
            "_view_name": "ProgressView",
            "bar_style": "success",
            "description": "",
            "description_tooltip": null,
            "layout": "IPY_MODEL_2e6ad3a74c1542f88dfdb94bac4ed0d4",
            "max": 524657,
            "min": 0,
            "orientation": "horizontal",
            "style": "IPY_MODEL_c6d09d9cf3254252bcf9539294732bba",
            "value": 524657
          }
        },
        "420278996c394a57b4d4136899fc23c1": {
          "model_module": "@jupyter-widgets/controls",
          "model_name": "HTMLModel",
          "model_module_version": "1.5.0",
          "state": {
            "_dom_classes": [],
            "_model_module": "@jupyter-widgets/controls",
            "_model_module_version": "1.5.0",
            "_model_name": "HTMLModel",
            "_view_count": null,
            "_view_module": "@jupyter-widgets/controls",
            "_view_module_version": "1.5.0",
            "_view_name": "HTMLView",
            "description": "",
            "description_tooltip": null,
            "layout": "IPY_MODEL_248e2669076e418a88d2152301e182a1",
            "placeholder": "​",
            "style": "IPY_MODEL_afcf89de62b946d79794a8eb820d618a",
            "value": " 525k/525k [00:00&lt;00:00, 4.91MB/s]"
          }
        },
        "cdca8c415ecf4267b6d912b444ee1398": {
          "model_module": "@jupyter-widgets/base",
          "model_name": "LayoutModel",
          "model_module_version": "1.2.0",
          "state": {
            "_model_module": "@jupyter-widgets/base",
            "_model_module_version": "1.2.0",
            "_model_name": "LayoutModel",
            "_view_count": null,
            "_view_module": "@jupyter-widgets/base",
            "_view_module_version": "1.2.0",
            "_view_name": "LayoutView",
            "align_content": null,
            "align_items": null,
            "align_self": null,
            "border": null,
            "bottom": null,
            "display": null,
            "flex": null,
            "flex_flow": null,
            "grid_area": null,
            "grid_auto_columns": null,
            "grid_auto_flow": null,
            "grid_auto_rows": null,
            "grid_column": null,
            "grid_gap": null,
            "grid_row": null,
            "grid_template_areas": null,
            "grid_template_columns": null,
            "grid_template_rows": null,
            "height": null,
            "justify_content": null,
            "justify_items": null,
            "left": null,
            "margin": null,
            "max_height": null,
            "max_width": null,
            "min_height": null,
            "min_width": null,
            "object_fit": null,
            "object_position": null,
            "order": null,
            "overflow": null,
            "overflow_x": null,
            "overflow_y": null,
            "padding": null,
            "right": null,
            "top": null,
            "visibility": null,
            "width": null
          }
        },
        "402b6010e7ca4dfe896a2eb666bc3603": {
          "model_module": "@jupyter-widgets/base",
          "model_name": "LayoutModel",
          "model_module_version": "1.2.0",
          "state": {
            "_model_module": "@jupyter-widgets/base",
            "_model_module_version": "1.2.0",
            "_model_name": "LayoutModel",
            "_view_count": null,
            "_view_module": "@jupyter-widgets/base",
            "_view_module_version": "1.2.0",
            "_view_name": "LayoutView",
            "align_content": null,
            "align_items": null,
            "align_self": null,
            "border": null,
            "bottom": null,
            "display": null,
            "flex": null,
            "flex_flow": null,
            "grid_area": null,
            "grid_auto_columns": null,
            "grid_auto_flow": null,
            "grid_auto_rows": null,
            "grid_column": null,
            "grid_gap": null,
            "grid_row": null,
            "grid_template_areas": null,
            "grid_template_columns": null,
            "grid_template_rows": null,
            "height": null,
            "justify_content": null,
            "justify_items": null,
            "left": null,
            "margin": null,
            "max_height": null,
            "max_width": null,
            "min_height": null,
            "min_width": null,
            "object_fit": null,
            "object_position": null,
            "order": null,
            "overflow": null,
            "overflow_x": null,
            "overflow_y": null,
            "padding": null,
            "right": null,
            "top": null,
            "visibility": null,
            "width": null
          }
        },
        "f7ba78ceda244592b6d621af2f5e74df": {
          "model_module": "@jupyter-widgets/controls",
          "model_name": "DescriptionStyleModel",
          "model_module_version": "1.5.0",
          "state": {
            "_model_module": "@jupyter-widgets/controls",
            "_model_module_version": "1.5.0",
            "_model_name": "DescriptionStyleModel",
            "_view_count": null,
            "_view_module": "@jupyter-widgets/base",
            "_view_module_version": "1.2.0",
            "_view_name": "StyleView",
            "description_width": ""
          }
        },
        "2e6ad3a74c1542f88dfdb94bac4ed0d4": {
          "model_module": "@jupyter-widgets/base",
          "model_name": "LayoutModel",
          "model_module_version": "1.2.0",
          "state": {
            "_model_module": "@jupyter-widgets/base",
            "_model_module_version": "1.2.0",
            "_model_name": "LayoutModel",
            "_view_count": null,
            "_view_module": "@jupyter-widgets/base",
            "_view_module_version": "1.2.0",
            "_view_name": "LayoutView",
            "align_content": null,
            "align_items": null,
            "align_self": null,
            "border": null,
            "bottom": null,
            "display": null,
            "flex": null,
            "flex_flow": null,
            "grid_area": null,
            "grid_auto_columns": null,
            "grid_auto_flow": null,
            "grid_auto_rows": null,
            "grid_column": null,
            "grid_gap": null,
            "grid_row": null,
            "grid_template_areas": null,
            "grid_template_columns": null,
            "grid_template_rows": null,
            "height": null,
            "justify_content": null,
            "justify_items": null,
            "left": null,
            "margin": null,
            "max_height": null,
            "max_width": null,
            "min_height": null,
            "min_width": null,
            "object_fit": null,
            "object_position": null,
            "order": null,
            "overflow": null,
            "overflow_x": null,
            "overflow_y": null,
            "padding": null,
            "right": null,
            "top": null,
            "visibility": null,
            "width": null
          }
        },
        "c6d09d9cf3254252bcf9539294732bba": {
          "model_module": "@jupyter-widgets/controls",
          "model_name": "ProgressStyleModel",
          "model_module_version": "1.5.0",
          "state": {
            "_model_module": "@jupyter-widgets/controls",
            "_model_module_version": "1.5.0",
            "_model_name": "ProgressStyleModel",
            "_view_count": null,
            "_view_module": "@jupyter-widgets/base",
            "_view_module_version": "1.2.0",
            "_view_name": "StyleView",
            "bar_color": null,
            "description_width": ""
          }
        },
        "248e2669076e418a88d2152301e182a1": {
          "model_module": "@jupyter-widgets/base",
          "model_name": "LayoutModel",
          "model_module_version": "1.2.0",
          "state": {
            "_model_module": "@jupyter-widgets/base",
            "_model_module_version": "1.2.0",
            "_model_name": "LayoutModel",
            "_view_count": null,
            "_view_module": "@jupyter-widgets/base",
            "_view_module_version": "1.2.0",
            "_view_name": "LayoutView",
            "align_content": null,
            "align_items": null,
            "align_self": null,
            "border": null,
            "bottom": null,
            "display": null,
            "flex": null,
            "flex_flow": null,
            "grid_area": null,
            "grid_auto_columns": null,
            "grid_auto_flow": null,
            "grid_auto_rows": null,
            "grid_column": null,
            "grid_gap": null,
            "grid_row": null,
            "grid_template_areas": null,
            "grid_template_columns": null,
            "grid_template_rows": null,
            "height": null,
            "justify_content": null,
            "justify_items": null,
            "left": null,
            "margin": null,
            "max_height": null,
            "max_width": null,
            "min_height": null,
            "min_width": null,
            "object_fit": null,
            "object_position": null,
            "order": null,
            "overflow": null,
            "overflow_x": null,
            "overflow_y": null,
            "padding": null,
            "right": null,
            "top": null,
            "visibility": null,
            "width": null
          }
        },
        "afcf89de62b946d79794a8eb820d618a": {
          "model_module": "@jupyter-widgets/controls",
          "model_name": "DescriptionStyleModel",
          "model_module_version": "1.5.0",
          "state": {
            "_model_module": "@jupyter-widgets/controls",
            "_model_module_version": "1.5.0",
            "_model_name": "DescriptionStyleModel",
            "_view_count": null,
            "_view_module": "@jupyter-widgets/base",
            "_view_module_version": "1.2.0",
            "_view_name": "StyleView",
            "description_width": ""
          }
        },
        "b9c74a517a1a49cabe822af97613a4d3": {
          "model_module": "@jupyter-widgets/controls",
          "model_name": "HBoxModel",
          "model_module_version": "1.5.0",
          "state": {
            "_dom_classes": [],
            "_model_module": "@jupyter-widgets/controls",
            "_model_module_version": "1.5.0",
            "_model_name": "HBoxModel",
            "_view_count": null,
            "_view_module": "@jupyter-widgets/controls",
            "_view_module_version": "1.5.0",
            "_view_name": "HBoxView",
            "box_style": "",
            "children": [
              "IPY_MODEL_f7f71157e37b4ce7bdf56907502fd210",
              "IPY_MODEL_24641a40cdad495b99aa3bd2798c01c4",
              "IPY_MODEL_20ccc0c628ca4ee4b4db5c90f8644d86"
            ],
            "layout": "IPY_MODEL_01271e28b75c427b9ec79cadb2bc81a3"
          }
        },
        "f7f71157e37b4ce7bdf56907502fd210": {
          "model_module": "@jupyter-widgets/controls",
          "model_name": "HTMLModel",
          "model_module_version": "1.5.0",
          "state": {
            "_dom_classes": [],
            "_model_module": "@jupyter-widgets/controls",
            "_model_module_version": "1.5.0",
            "_model_name": "HTMLModel",
            "_view_count": null,
            "_view_module": "@jupyter-widgets/controls",
            "_view_module_version": "1.5.0",
            "_view_name": "HTMLView",
            "description": "",
            "description_tooltip": null,
            "layout": "IPY_MODEL_9b6035835f9749948dfb2645348d98aa",
            "placeholder": "​",
            "style": "IPY_MODEL_4e97b899adc743868e0a091dc13860fc",
            "value": "Downloading (…)/main/tokenizer.json: 100%"
          }
        },
        "24641a40cdad495b99aa3bd2798c01c4": {
          "model_module": "@jupyter-widgets/controls",
          "model_name": "FloatProgressModel",
          "model_module_version": "1.5.0",
          "state": {
            "_dom_classes": [],
            "_model_module": "@jupyter-widgets/controls",
            "_model_module_version": "1.5.0",
            "_model_name": "FloatProgressModel",
            "_view_count": null,
            "_view_module": "@jupyter-widgets/controls",
            "_view_module_version": "1.5.0",
            "_view_name": "ProgressView",
            "bar_style": "success",
            "description": "",
            "description_tooltip": null,
            "layout": "IPY_MODEL_30b5c42464e74bfb992f64e8e0bca333",
            "max": 2224041,
            "min": 0,
            "orientation": "horizontal",
            "style": "IPY_MODEL_9efe3cc5ff764b8c93b5739c48b6179b",
            "value": 2224041
          }
        },
        "20ccc0c628ca4ee4b4db5c90f8644d86": {
          "model_module": "@jupyter-widgets/controls",
          "model_name": "HTMLModel",
          "model_module_version": "1.5.0",
          "state": {
            "_dom_classes": [],
            "_model_module": "@jupyter-widgets/controls",
            "_model_module_version": "1.5.0",
            "_model_name": "HTMLModel",
            "_view_count": null,
            "_view_module": "@jupyter-widgets/controls",
            "_view_module_version": "1.5.0",
            "_view_name": "HTMLView",
            "description": "",
            "description_tooltip": null,
            "layout": "IPY_MODEL_1456fd2184c14b579b6ba0f998a88f10",
            "placeholder": "​",
            "style": "IPY_MODEL_d35eb6e44e394b43b801dc287de13df7",
            "value": " 2.22M/2.22M [00:00&lt;00:00, 13.8MB/s]"
          }
        },
        "01271e28b75c427b9ec79cadb2bc81a3": {
          "model_module": "@jupyter-widgets/base",
          "model_name": "LayoutModel",
          "model_module_version": "1.2.0",
          "state": {
            "_model_module": "@jupyter-widgets/base",
            "_model_module_version": "1.2.0",
            "_model_name": "LayoutModel",
            "_view_count": null,
            "_view_module": "@jupyter-widgets/base",
            "_view_module_version": "1.2.0",
            "_view_name": "LayoutView",
            "align_content": null,
            "align_items": null,
            "align_self": null,
            "border": null,
            "bottom": null,
            "display": null,
            "flex": null,
            "flex_flow": null,
            "grid_area": null,
            "grid_auto_columns": null,
            "grid_auto_flow": null,
            "grid_auto_rows": null,
            "grid_column": null,
            "grid_gap": null,
            "grid_row": null,
            "grid_template_areas": null,
            "grid_template_columns": null,
            "grid_template_rows": null,
            "height": null,
            "justify_content": null,
            "justify_items": null,
            "left": null,
            "margin": null,
            "max_height": null,
            "max_width": null,
            "min_height": null,
            "min_width": null,
            "object_fit": null,
            "object_position": null,
            "order": null,
            "overflow": null,
            "overflow_x": null,
            "overflow_y": null,
            "padding": null,
            "right": null,
            "top": null,
            "visibility": null,
            "width": null
          }
        },
        "9b6035835f9749948dfb2645348d98aa": {
          "model_module": "@jupyter-widgets/base",
          "model_name": "LayoutModel",
          "model_module_version": "1.2.0",
          "state": {
            "_model_module": "@jupyter-widgets/base",
            "_model_module_version": "1.2.0",
            "_model_name": "LayoutModel",
            "_view_count": null,
            "_view_module": "@jupyter-widgets/base",
            "_view_module_version": "1.2.0",
            "_view_name": "LayoutView",
            "align_content": null,
            "align_items": null,
            "align_self": null,
            "border": null,
            "bottom": null,
            "display": null,
            "flex": null,
            "flex_flow": null,
            "grid_area": null,
            "grid_auto_columns": null,
            "grid_auto_flow": null,
            "grid_auto_rows": null,
            "grid_column": null,
            "grid_gap": null,
            "grid_row": null,
            "grid_template_areas": null,
            "grid_template_columns": null,
            "grid_template_rows": null,
            "height": null,
            "justify_content": null,
            "justify_items": null,
            "left": null,
            "margin": null,
            "max_height": null,
            "max_width": null,
            "min_height": null,
            "min_width": null,
            "object_fit": null,
            "object_position": null,
            "order": null,
            "overflow": null,
            "overflow_x": null,
            "overflow_y": null,
            "padding": null,
            "right": null,
            "top": null,
            "visibility": null,
            "width": null
          }
        },
        "4e97b899adc743868e0a091dc13860fc": {
          "model_module": "@jupyter-widgets/controls",
          "model_name": "DescriptionStyleModel",
          "model_module_version": "1.5.0",
          "state": {
            "_model_module": "@jupyter-widgets/controls",
            "_model_module_version": "1.5.0",
            "_model_name": "DescriptionStyleModel",
            "_view_count": null,
            "_view_module": "@jupyter-widgets/base",
            "_view_module_version": "1.2.0",
            "_view_name": "StyleView",
            "description_width": ""
          }
        },
        "30b5c42464e74bfb992f64e8e0bca333": {
          "model_module": "@jupyter-widgets/base",
          "model_name": "LayoutModel",
          "model_module_version": "1.2.0",
          "state": {
            "_model_module": "@jupyter-widgets/base",
            "_model_module_version": "1.2.0",
            "_model_name": "LayoutModel",
            "_view_count": null,
            "_view_module": "@jupyter-widgets/base",
            "_view_module_version": "1.2.0",
            "_view_name": "LayoutView",
            "align_content": null,
            "align_items": null,
            "align_self": null,
            "border": null,
            "bottom": null,
            "display": null,
            "flex": null,
            "flex_flow": null,
            "grid_area": null,
            "grid_auto_columns": null,
            "grid_auto_flow": null,
            "grid_auto_rows": null,
            "grid_column": null,
            "grid_gap": null,
            "grid_row": null,
            "grid_template_areas": null,
            "grid_template_columns": null,
            "grid_template_rows": null,
            "height": null,
            "justify_content": null,
            "justify_items": null,
            "left": null,
            "margin": null,
            "max_height": null,
            "max_width": null,
            "min_height": null,
            "min_width": null,
            "object_fit": null,
            "object_position": null,
            "order": null,
            "overflow": null,
            "overflow_x": null,
            "overflow_y": null,
            "padding": null,
            "right": null,
            "top": null,
            "visibility": null,
            "width": null
          }
        },
        "9efe3cc5ff764b8c93b5739c48b6179b": {
          "model_module": "@jupyter-widgets/controls",
          "model_name": "ProgressStyleModel",
          "model_module_version": "1.5.0",
          "state": {
            "_model_module": "@jupyter-widgets/controls",
            "_model_module_version": "1.5.0",
            "_model_name": "ProgressStyleModel",
            "_view_count": null,
            "_view_module": "@jupyter-widgets/base",
            "_view_module_version": "1.2.0",
            "_view_name": "StyleView",
            "bar_color": null,
            "description_width": ""
          }
        },
        "1456fd2184c14b579b6ba0f998a88f10": {
          "model_module": "@jupyter-widgets/base",
          "model_name": "LayoutModel",
          "model_module_version": "1.2.0",
          "state": {
            "_model_module": "@jupyter-widgets/base",
            "_model_module_version": "1.2.0",
            "_model_name": "LayoutModel",
            "_view_count": null,
            "_view_module": "@jupyter-widgets/base",
            "_view_module_version": "1.2.0",
            "_view_name": "LayoutView",
            "align_content": null,
            "align_items": null,
            "align_self": null,
            "border": null,
            "bottom": null,
            "display": null,
            "flex": null,
            "flex_flow": null,
            "grid_area": null,
            "grid_auto_columns": null,
            "grid_auto_flow": null,
            "grid_auto_rows": null,
            "grid_column": null,
            "grid_gap": null,
            "grid_row": null,
            "grid_template_areas": null,
            "grid_template_columns": null,
            "grid_template_rows": null,
            "height": null,
            "justify_content": null,
            "justify_items": null,
            "left": null,
            "margin": null,
            "max_height": null,
            "max_width": null,
            "min_height": null,
            "min_width": null,
            "object_fit": null,
            "object_position": null,
            "order": null,
            "overflow": null,
            "overflow_x": null,
            "overflow_y": null,
            "padding": null,
            "right": null,
            "top": null,
            "visibility": null,
            "width": null
          }
        },
        "d35eb6e44e394b43b801dc287de13df7": {
          "model_module": "@jupyter-widgets/controls",
          "model_name": "DescriptionStyleModel",
          "model_module_version": "1.5.0",
          "state": {
            "_model_module": "@jupyter-widgets/controls",
            "_model_module_version": "1.5.0",
            "_model_name": "DescriptionStyleModel",
            "_view_count": null,
            "_view_module": "@jupyter-widgets/base",
            "_view_module_version": "1.2.0",
            "_view_name": "StyleView",
            "description_width": ""
          }
        },
        "db8bcd9b6aa34bcdb443da3618e02b7a": {
          "model_module": "@jupyter-widgets/controls",
          "model_name": "HBoxModel",
          "model_module_version": "1.5.0",
          "state": {
            "_dom_classes": [],
            "_model_module": "@jupyter-widgets/controls",
            "_model_module_version": "1.5.0",
            "_model_name": "HBoxModel",
            "_view_count": null,
            "_view_module": "@jupyter-widgets/controls",
            "_view_module_version": "1.5.0",
            "_view_name": "HBoxView",
            "box_style": "",
            "children": [
              "IPY_MODEL_6b8ca67ac34a4d08bcc7fb0d19aa1129",
              "IPY_MODEL_d2b701ecb45d49f0a6cb152ad7eac1dc",
              "IPY_MODEL_85c8d872481a4d11a2c5c68477f2c012"
            ],
            "layout": "IPY_MODEL_ae2e6abbeb1c4076872ba3fc7952b985"
          }
        },
        "6b8ca67ac34a4d08bcc7fb0d19aa1129": {
          "model_module": "@jupyter-widgets/controls",
          "model_name": "HTMLModel",
          "model_module_version": "1.5.0",
          "state": {
            "_dom_classes": [],
            "_model_module": "@jupyter-widgets/controls",
            "_model_module_version": "1.5.0",
            "_model_name": "HTMLModel",
            "_view_count": null,
            "_view_module": "@jupyter-widgets/controls",
            "_view_module_version": "1.5.0",
            "_view_name": "HTMLView",
            "description": "",
            "description_tooltip": null,
            "layout": "IPY_MODEL_1b54b5f55e2543eea13594c0d3906984",
            "placeholder": "​",
            "style": "IPY_MODEL_4f37d05719984d4dafde39334ec834ee",
            "value": "Downloading (…)cial_tokens_map.json: 100%"
          }
        },
        "d2b701ecb45d49f0a6cb152ad7eac1dc": {
          "model_module": "@jupyter-widgets/controls",
          "model_name": "FloatProgressModel",
          "model_module_version": "1.5.0",
          "state": {
            "_dom_classes": [],
            "_model_module": "@jupyter-widgets/controls",
            "_model_module_version": "1.5.0",
            "_model_name": "FloatProgressModel",
            "_view_count": null,
            "_view_module": "@jupyter-widgets/controls",
            "_view_module_version": "1.5.0",
            "_view_name": "ProgressView",
            "bar_style": "success",
            "description": "",
            "description_tooltip": null,
            "layout": "IPY_MODEL_a8ec2c9f586a48938f5e278bfbf0afa6",
            "max": 389,
            "min": 0,
            "orientation": "horizontal",
            "style": "IPY_MODEL_0af2bb2829014525a896260cab9194d4",
            "value": 389
          }
        },
        "85c8d872481a4d11a2c5c68477f2c012": {
          "model_module": "@jupyter-widgets/controls",
          "model_name": "HTMLModel",
          "model_module_version": "1.5.0",
          "state": {
            "_dom_classes": [],
            "_model_module": "@jupyter-widgets/controls",
            "_model_module_version": "1.5.0",
            "_model_name": "HTMLModel",
            "_view_count": null,
            "_view_module": "@jupyter-widgets/controls",
            "_view_module_version": "1.5.0",
            "_view_name": "HTMLView",
            "description": "",
            "description_tooltip": null,
            "layout": "IPY_MODEL_701720c23cb2497dbd6786879d9af8bd",
            "placeholder": "​",
            "style": "IPY_MODEL_b746a62b9cd247b9984db5d1458bbb85",
            "value": " 389/389 [00:00&lt;00:00, 15.4kB/s]"
          }
        },
        "ae2e6abbeb1c4076872ba3fc7952b985": {
          "model_module": "@jupyter-widgets/base",
          "model_name": "LayoutModel",
          "model_module_version": "1.2.0",
          "state": {
            "_model_module": "@jupyter-widgets/base",
            "_model_module_version": "1.2.0",
            "_model_name": "LayoutModel",
            "_view_count": null,
            "_view_module": "@jupyter-widgets/base",
            "_view_module_version": "1.2.0",
            "_view_name": "LayoutView",
            "align_content": null,
            "align_items": null,
            "align_self": null,
            "border": null,
            "bottom": null,
            "display": null,
            "flex": null,
            "flex_flow": null,
            "grid_area": null,
            "grid_auto_columns": null,
            "grid_auto_flow": null,
            "grid_auto_rows": null,
            "grid_column": null,
            "grid_gap": null,
            "grid_row": null,
            "grid_template_areas": null,
            "grid_template_columns": null,
            "grid_template_rows": null,
            "height": null,
            "justify_content": null,
            "justify_items": null,
            "left": null,
            "margin": null,
            "max_height": null,
            "max_width": null,
            "min_height": null,
            "min_width": null,
            "object_fit": null,
            "object_position": null,
            "order": null,
            "overflow": null,
            "overflow_x": null,
            "overflow_y": null,
            "padding": null,
            "right": null,
            "top": null,
            "visibility": null,
            "width": null
          }
        },
        "1b54b5f55e2543eea13594c0d3906984": {
          "model_module": "@jupyter-widgets/base",
          "model_name": "LayoutModel",
          "model_module_version": "1.2.0",
          "state": {
            "_model_module": "@jupyter-widgets/base",
            "_model_module_version": "1.2.0",
            "_model_name": "LayoutModel",
            "_view_count": null,
            "_view_module": "@jupyter-widgets/base",
            "_view_module_version": "1.2.0",
            "_view_name": "LayoutView",
            "align_content": null,
            "align_items": null,
            "align_self": null,
            "border": null,
            "bottom": null,
            "display": null,
            "flex": null,
            "flex_flow": null,
            "grid_area": null,
            "grid_auto_columns": null,
            "grid_auto_flow": null,
            "grid_auto_rows": null,
            "grid_column": null,
            "grid_gap": null,
            "grid_row": null,
            "grid_template_areas": null,
            "grid_template_columns": null,
            "grid_template_rows": null,
            "height": null,
            "justify_content": null,
            "justify_items": null,
            "left": null,
            "margin": null,
            "max_height": null,
            "max_width": null,
            "min_height": null,
            "min_width": null,
            "object_fit": null,
            "object_position": null,
            "order": null,
            "overflow": null,
            "overflow_x": null,
            "overflow_y": null,
            "padding": null,
            "right": null,
            "top": null,
            "visibility": null,
            "width": null
          }
        },
        "4f37d05719984d4dafde39334ec834ee": {
          "model_module": "@jupyter-widgets/controls",
          "model_name": "DescriptionStyleModel",
          "model_module_version": "1.5.0",
          "state": {
            "_model_module": "@jupyter-widgets/controls",
            "_model_module_version": "1.5.0",
            "_model_name": "DescriptionStyleModel",
            "_view_count": null,
            "_view_module": "@jupyter-widgets/base",
            "_view_module_version": "1.2.0",
            "_view_name": "StyleView",
            "description_width": ""
          }
        },
        "a8ec2c9f586a48938f5e278bfbf0afa6": {
          "model_module": "@jupyter-widgets/base",
          "model_name": "LayoutModel",
          "model_module_version": "1.2.0",
          "state": {
            "_model_module": "@jupyter-widgets/base",
            "_model_module_version": "1.2.0",
            "_model_name": "LayoutModel",
            "_view_count": null,
            "_view_module": "@jupyter-widgets/base",
            "_view_module_version": "1.2.0",
            "_view_name": "LayoutView",
            "align_content": null,
            "align_items": null,
            "align_self": null,
            "border": null,
            "bottom": null,
            "display": null,
            "flex": null,
            "flex_flow": null,
            "grid_area": null,
            "grid_auto_columns": null,
            "grid_auto_flow": null,
            "grid_auto_rows": null,
            "grid_column": null,
            "grid_gap": null,
            "grid_row": null,
            "grid_template_areas": null,
            "grid_template_columns": null,
            "grid_template_rows": null,
            "height": null,
            "justify_content": null,
            "justify_items": null,
            "left": null,
            "margin": null,
            "max_height": null,
            "max_width": null,
            "min_height": null,
            "min_width": null,
            "object_fit": null,
            "object_position": null,
            "order": null,
            "overflow": null,
            "overflow_x": null,
            "overflow_y": null,
            "padding": null,
            "right": null,
            "top": null,
            "visibility": null,
            "width": null
          }
        },
        "0af2bb2829014525a896260cab9194d4": {
          "model_module": "@jupyter-widgets/controls",
          "model_name": "ProgressStyleModel",
          "model_module_version": "1.5.0",
          "state": {
            "_model_module": "@jupyter-widgets/controls",
            "_model_module_version": "1.5.0",
            "_model_name": "ProgressStyleModel",
            "_view_count": null,
            "_view_module": "@jupyter-widgets/base",
            "_view_module_version": "1.2.0",
            "_view_name": "StyleView",
            "bar_color": null,
            "description_width": ""
          }
        },
        "701720c23cb2497dbd6786879d9af8bd": {
          "model_module": "@jupyter-widgets/base",
          "model_name": "LayoutModel",
          "model_module_version": "1.2.0",
          "state": {
            "_model_module": "@jupyter-widgets/base",
            "_model_module_version": "1.2.0",
            "_model_name": "LayoutModel",
            "_view_count": null,
            "_view_module": "@jupyter-widgets/base",
            "_view_module_version": "1.2.0",
            "_view_name": "LayoutView",
            "align_content": null,
            "align_items": null,
            "align_self": null,
            "border": null,
            "bottom": null,
            "display": null,
            "flex": null,
            "flex_flow": null,
            "grid_area": null,
            "grid_auto_columns": null,
            "grid_auto_flow": null,
            "grid_auto_rows": null,
            "grid_column": null,
            "grid_gap": null,
            "grid_row": null,
            "grid_template_areas": null,
            "grid_template_columns": null,
            "grid_template_rows": null,
            "height": null,
            "justify_content": null,
            "justify_items": null,
            "left": null,
            "margin": null,
            "max_height": null,
            "max_width": null,
            "min_height": null,
            "min_width": null,
            "object_fit": null,
            "object_position": null,
            "order": null,
            "overflow": null,
            "overflow_x": null,
            "overflow_y": null,
            "padding": null,
            "right": null,
            "top": null,
            "visibility": null,
            "width": null
          }
        },
        "b746a62b9cd247b9984db5d1458bbb85": {
          "model_module": "@jupyter-widgets/controls",
          "model_name": "DescriptionStyleModel",
          "model_module_version": "1.5.0",
          "state": {
            "_model_module": "@jupyter-widgets/controls",
            "_model_module_version": "1.5.0",
            "_model_name": "DescriptionStyleModel",
            "_view_count": null,
            "_view_module": "@jupyter-widgets/base",
            "_view_module_version": "1.2.0",
            "_view_name": "StyleView",
            "description_width": ""
          }
        }
      }
    }
  },
  "nbformat": 4,
  "nbformat_minor": 5
}