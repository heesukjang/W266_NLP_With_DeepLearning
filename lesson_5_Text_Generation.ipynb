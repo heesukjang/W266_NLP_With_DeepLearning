{
  "cells": [
    {
      "cell_type": "markdown",
      "metadata": {
        "id": "view-in-github",
        "colab_type": "text"
      },
      "source": [
        "<a href=\"https://colab.research.google.com/github/heesukjang/W266_NLP_With_DeepLearning/blob/main/lesson_5_Text_Generation.ipynb\" target=\"_parent\"><img src=\"https://colab.research.google.com/assets/colab-badge.svg\" alt=\"Open In Colab\"/></a>"
      ]
    },
    {
      "cell_type": "markdown",
      "metadata": {
        "id": "1CJVpUxEKnCn"
      },
      "source": [
        "# Lesson Notebook 5: Text Generation\n",
        "\n",
        "In this notebook we will look at 3 different examples:\n",
        "\n",
        "1. Building a Seq2Seq model for machine translation using RNNs with and without Attention\n",
        "\n",
        "2. Playing with T5 for summarization and translation\n",
        "\n",
        "3. Exercise with prompts and language generation using the OPT model\n",
        "\n",
        "The sequence to sequence architecture is inspired by the Keras Tutorial https://keras.io/examples/nlp/lstm_seq2seq/.\n",
        "\n",
        "\n",
        "<a id = 'returnToTop'></a>\n",
        "\n",
        "## Notebook Contents\n",
        "  * 1. [Setup](#setup)\n",
        "  * 2. [Seq2Seq Model](#encoderDecoder)\n",
        "      * 2.1 [Data Acquisition](#dataAcquisition)\n",
        "      * 2.2 [Seq2Seq without Attention](#s2sNoAttention)\n",
        "      * 2.3 [Seq2Seq with Attention](#s2sAttention)\n",
        "  * 3. [T5](#t5Example)\n",
        "    * 3.1 [Tokenization](#tokenization)\n",
        "    * 3.2 [Model Structure & Output](#modelOutput)\n",
        "  * 4. [Prompt Engineering and Generative Large Language Models](#prompts)\n",
        "    * 4.1 [Cloze Prompts](#clozeExample)\n",
        "    * 4.2 [Prefix Prompts](#prefixExample)\n",
        "    * 4.3 [Class Exercise](#classExercise)\n",
        "  * 5. [Answers](#answers)      \n",
        "\n",
        "\n",
        "\n",
        "\n",
        "  [![Open In Colab](https://colab.research.google.com/assets/colab-badge.svg)](https://colab.research.google.com/github/datasci-w266/2023-spring-main/blob/master/materials/lesson_notebooks/lesson_5_Text_Generation.ipynb)"
      ]
    },
    {
      "cell_type": "markdown",
      "metadata": {
        "id": "1tsSyq1WjYsO"
      },
      "source": [
        "[Return to Top](#returnToTop)  \n",
        "<a id = 'setup'></a>\n",
        "\n",
        "## 1. Setup\n",
        "\n",
        "We first need to do the usual setup. We will also use some nltk and sklearn components in order to tokenize the text.\n",
        "\n",
        "This notebook requires the tensorflow dataset and other prerequisites that you must download and then store locally. This can also be done on Colab."
      ]
    },
    {
      "cell_type": "code",
      "execution_count": 74,
      "metadata": {
        "id": "oKdHlKOSKkgM"
      },
      "outputs": [],
      "source": [
        "#@title Installs\n",
        "\n",
        "!pip install pydot --quiet\n",
        "!pip install transformers --quiet\n",
        "!pip install sentencepiece --quiet\n",
        "!pip install nltk --quiet"
      ]
    },
    {
      "cell_type": "code",
      "execution_count": 75,
      "metadata": {
        "id": "FgTghneFvZqd"
      },
      "outputs": [],
      "source": [
        "#@title Imports\n",
        "\n",
        "import numpy as np\n",
        "\n",
        "import tensorflow as tf\n",
        "from tensorflow import keras\n",
        "\n",
        "import tensorflow_datasets as tfds\n",
        "\n",
        "import sklearn as sk\n",
        "from sklearn.feature_extraction.text import CountVectorizer\n",
        "\n",
        "import os\n",
        "import nltk\n",
        "\n",
        "import matplotlib.pyplot as plt\n",
        "\n",
        "import re\n",
        "import textwrap\n",
        "\n",
        "from transformers import T5Tokenizer, TFT5Model, TFT5ForConditionalGeneration\n",
        "from transformers import GPT2Tokenizer, TFOPTForCausalLM"
      ]
    },
    {
      "cell_type": "code",
      "execution_count": 76,
      "metadata": {
        "colab": {
          "base_uri": "https://localhost:8080/"
        },
        "id": "dhvbHp3Gq7CM",
        "outputId": "72bb3631-a21e-4015-fa4c-70d22b2824b7"
      },
      "outputs": [
        {
          "output_type": "stream",
          "name": "stderr",
          "text": [
            "[nltk_data] Downloading package punkt to /root/nltk_data...\n",
            "[nltk_data]   Package punkt is already up-to-date!\n"
          ]
        },
        {
          "output_type": "execute_result",
          "data": {
            "text/plain": [
              "True"
            ]
          },
          "metadata": {},
          "execution_count": 76
        }
      ],
      "source": [
        "nltk.download('punkt')"
      ]
    },
    {
      "cell_type": "markdown",
      "metadata": {
        "id": "SM3-mYDnnxyT"
      },
      "source": [
        "[Return to Top](#returnToTop)  \n",
        "<a id = 'encoderDecoder'></a>\n",
        "\n",
        "\n",
        "## 2. Building a Seq2Seq model for Translation using RNNs with and without Attention\n",
        "\n",
        "### 2.1 Downloading and pre-processing Data\n",
        "\n",
        "\n",
        "Let's get the data. Just like the Keras tutorial, we will use http://www.manythings.org as the source for the parallel corpus, but we will use German.  Machine translation requires sentence pairs for training, that is individual sentences in German and the corresponding sentence in English."
      ]
    },
    {
      "cell_type": "code",
      "execution_count": 77,
      "metadata": {
        "colab": {
          "base_uri": "https://localhost:8080/"
        },
        "id": "EJgys8FQva6V",
        "outputId": "5be34739-f7d7-4fc2-831c-f6e9ce5603c0"
      },
      "outputs": [
        {
          "output_type": "execute_result",
          "data": {
            "text/plain": [
              "['Archive:  deu-eng.zip',\n",
              " 'replace deu.txt? [y]es, [n]o, [A]ll, [N]one, [r]ename: A',\n",
              " '  inflating: deu.txt                 ',\n",
              " '  inflating: _about.txt              ']"
            ]
          },
          "metadata": {},
          "execution_count": 77
        }
      ],
      "source": [
        "!!curl -O http://www.manythings.org/anki/deu-eng.zip       # use \"cURL\" to transfer data to and from a server. \n",
        "!!unzip deu-eng.zip"
      ]
    },
    {
      "cell_type": "markdown",
      "metadata": {
        "id": "8fGnUBkZQteK"
      },
      "source": [
        "Next, we need to set a few parameters.  Note these numbers are much smaller than we would set in a real world system.  For example, vocabulary sizes of 2000 and 3000 are unrealistic unless we were dealing with a highly specialized domain."
      ]
    },
    {
      "cell_type": "code",
      "execution_count": 78,
      "metadata": {
        "id": "mWyF80SsnP-M"
      },
      "outputs": [],
      "source": [
        "embed_dim = 100  # Embedding dimensions for vectors and LSTMs.\n",
        "num_samples = 10000  # Number of examples to consider.\n",
        "\n",
        "# Path to the data txt file on disk.\n",
        "data_path = \"deu.txt\"\n",
        "\n",
        "# Vocabulary sizes that we'll use:\n",
        "english_vocab_size = 2000\n",
        "german_vocab_size = 3000"
      ]
    },
    {
      "cell_type": "markdown",
      "metadata": {
        "id": "mgRfFYZsRGmn"
      },
      "source": [
        "Next, we need to format the input. In particular we would like to use nltk to help with the tokenization. We will then use sklearn's CountVectorizer to create a vocabulary from the most frequent words in each language.\n",
        "\n",
        "(Before, we used pre-trained word embeddings from Word2Vec that came with a defined vocabulary. This time, we'll start from scratch, and need to extract the vocabulary from the training text.)\n",
        "\n",
        "[CountVectorizer](https://scikit-learn.org/stable/modules/generated/sklearn.feature_extraction.text.CountVectorizer.html)<br>\n",
        "Convert a collection of text documents to a matrix of token counts."
      ]
    },
    {
      "cell_type": "code",
      "source": [
        "input_texts = []\n",
        "target_texts = []\n",
        "\n",
        "max_input_length = -1\n",
        "max_output_length = -1\n",
        "\n",
        "\n",
        "with open(data_path, \"r\", encoding=\"utf-8\") as f:\n",
        "    lines = f.read().split(\"\\n\")\n",
        "print('len(lines): ',len(lines))\n",
        "lines[:5]"
      ],
      "metadata": {
        "colab": {
          "base_uri": "https://localhost:8080/"
        },
        "id": "z3QhK-gXc8yk",
        "outputId": "126f4324-557f-448b-fc66-d4ee7874cc43"
      },
      "execution_count": 79,
      "outputs": [
        {
          "output_type": "stream",
          "name": "stdout",
          "text": [
            "len(lines):  255818\n"
          ]
        },
        {
          "output_type": "execute_result",
          "data": {
            "text/plain": [
              "['Go.\\tGeh.\\tCC-BY 2.0 (France) Attribution: tatoeba.org #2877272 (CM) & #8597805 (Roujin)',\n",
              " 'Hi.\\tHallo!\\tCC-BY 2.0 (France) Attribution: tatoeba.org #538123 (CM) & #380701 (cburgmer)',\n",
              " 'Hi.\\tGrüß Gott!\\tCC-BY 2.0 (France) Attribution: tatoeba.org #538123 (CM) & #659813 (Esperantostern)',\n",
              " 'Run!\\tLauf!\\tCC-BY 2.0 (France) Attribution: tatoeba.org #906328 (papabear) & #941078 (Fingerhut)',\n",
              " 'Run.\\tLauf!\\tCC-BY 2.0 (France) Attribution: tatoeba.org #4008918 (JSakuragi) & #941078 (Fingerhut)']"
            ]
          },
          "metadata": {},
          "execution_count": 79
        }
      ]
    },
    {
      "cell_type": "code",
      "source": [
        "print(f'num_samples: {num_samples} | len(lines) - 1: {len(lines) - 1}')\n",
        "print(min(num_samples, len(lines) - 1))"
      ],
      "metadata": {
        "colab": {
          "base_uri": "https://localhost:8080/"
        },
        "id": "s2qEAzecdgFF",
        "outputId": "154a1483-0a97-4679-8916-f4280906ed13"
      },
      "execution_count": 80,
      "outputs": [
        {
          "output_type": "stream",
          "name": "stdout",
          "text": [
            "num_samples: 10000 | len(lines) - 1: 255817\n",
            "10000\n"
          ]
        }
      ]
    },
    {
      "cell_type": "code",
      "execution_count": 81,
      "metadata": {
        "colab": {
          "base_uri": "https://localhost:8080/"
        },
        "id": "jSTzz6VAtlqv",
        "outputId": "dbac7a0b-a833-4dbb-d81d-aa3eb3e78c14"
      },
      "outputs": [
        {
          "output_type": "stream",
          "name": "stdout",
          "text": [
            "input_text: Go., target_text: Geh., _: CC-BY 2.0 (France) Attribution: tatoeba.org #2877272 (CM) & #8597805 (Roujin)\n",
            "tokenized_source_text: Go., tokenized_target_text: Geh.\n",
            "len(tokenized_source_text): 2\n",
            "max_input_length: 2\n",
            "len(tokenized_target_text): 2\n",
            "max_output_length: 2\n",
            "source_text: go ., target_text: geh .\n",
            "len(input_texts): 1, input_texts: ['go .'], target_texts: ['geh .']\n",
            "\n",
            "input_text: Hi., target_text: Hallo!, _: CC-BY 2.0 (France) Attribution: tatoeba.org #538123 (CM) & #380701 (cburgmer)\n",
            "tokenized_source_text: Hi., tokenized_target_text: Hallo!\n",
            "source_text: hi ., target_text: hallo !\n",
            "len(input_texts): 2, input_texts: ['go .', 'hi .'], target_texts: ['geh .', 'hallo !']\n",
            "\n",
            "vectorizer_english_CountVectorizer: CountVectorizer(max_features=2000)\n",
            "vocab_english.get_feature_names_out(): ['go' 'hi']\n",
            "vectorizer_german_CountVectorizer: CountVectorizer(max_features=3000)\n",
            "vocab_german.get_feature_names_out(): ['geh' 'hallo']\n",
            "\n",
            "Maximum source input length:  2\n",
            "Maximum target output length:  2\n"
          ]
        }
      ],
      "source": [
        "# ===================================\n",
        "# ======= REVERSE ENGINEERING =======\n",
        "# ===================================\n",
        "\n",
        "input_texts = []\n",
        "target_texts = []\n",
        "\n",
        "max_input_length = -1\n",
        "max_output_length = -1\n",
        "\n",
        "\n",
        "with open(data_path, \"r\", encoding=\"utf-8\") as f:\n",
        "    lines = f.read().split(\"\\n\")\n",
        "\n",
        "# for line in lines[: min(num_samples, len(lines) - 1)]:\n",
        "for line in lines[:2]:\n",
        "    input_text, target_text, _ = line.split(\"\\t\")\n",
        "    print(f'input_text: {input_text}, target_text: {target_text}, _: {_}')\n",
        "\n",
        "    tokenized_source_text = nltk.word_tokenize(input_text, language='english')\n",
        "    tokenized_target_text = nltk.word_tokenize(target_text, language='german')\n",
        "    print(f'tokenized_source_text: {input_text}, tokenized_target_text: {target_text}')\n",
        "\n",
        "    if len(tokenized_source_text) > max_input_length:\n",
        "      print(f'len(tokenized_source_text): {len(tokenized_source_text)}')\n",
        "      max_input_length = len(tokenized_source_text)\n",
        "      print(f'max_input_length: {max_input_length}')\n",
        "\n",
        "    if len(tokenized_target_text) > max_output_length:\n",
        "      print(f'len(tokenized_target_text): {len(tokenized_target_text)}')\n",
        "      max_output_length = len(tokenized_target_text)\n",
        "      print(f'max_output_length: {max_output_length}')\n",
        "\n",
        "    source_text = (' '.join(tokenized_source_text)).lower()\n",
        "    target_text = (' '.join(tokenized_target_text)).lower()\n",
        "    print(f'source_text: {source_text}, target_text: {target_text}')\n",
        "\n",
        "    input_texts.append(source_text)\n",
        "    target_texts.append(target_text)\n",
        "    print(f'len(input_texts): {len(input_texts)}, input_texts: {input_texts}, target_texts: {target_texts}\\n')\n",
        "\n",
        "vectorizer_english = CountVectorizer(max_features=english_vocab_size)   # Use CountVectorizer to create a vocabulary from the most frequent words in each language.\n",
        "print(f'vectorizer_english_CountVectorizer: {vectorizer_english}')\n",
        "vectorizer_english.fit(input_texts)                                     # train 'input_texts\n",
        "vocab_english = vectorizer_english.get_feature_names_out()\n",
        "print(f'vocab_english.get_feature_names_out(): {vocab_english}')\n",
        "\n",
        "vectorizer_german = CountVectorizer(max_features=german_vocab_size)\n",
        "print(f'vectorizer_german_CountVectorizer: {vectorizer_german}')\n",
        "vectorizer_german.fit(target_texts)\n",
        "vocab_german = vectorizer_german.get_feature_names_out()\n",
        "print(f'vocab_german.get_feature_names_out(): {vocab_german}')\n",
        "\n",
        "print('\\nMaximum source input length: ', max_input_length)\n",
        "print('Maximum target output length: ', max_output_length)"
      ]
    },
    {
      "cell_type": "code",
      "source": [
        "# =============================\n",
        "# ======= ORIGINAL CODE =======\n",
        "# =============================\n",
        "\n",
        "input_texts = []\n",
        "target_texts = []\n",
        "\n",
        "max_input_length = -1\n",
        "max_output_length = -1\n",
        "\n",
        "\n",
        "with open(data_path, \"r\", encoding=\"utf-8\") as f:\n",
        "    lines = f.read().split(\"\\n\")\n",
        "for line in lines[: min(num_samples, len(lines) - 1)]:\n",
        "    input_text, target_text, _ = line.split(\"\\t\")\n",
        "\n",
        "    tokenized_source_text = nltk.word_tokenize(input_text, language='english')\n",
        "    tokenized_target_text = nltk.word_tokenize(target_text, language='german')\n",
        "\n",
        "    if len(tokenized_source_text) > max_input_length:\n",
        "      max_input_length = len(tokenized_source_text)\n",
        "\n",
        "    if len(tokenized_target_text) > max_output_length:\n",
        "      max_output_length = len(tokenized_target_text)\n",
        "\n",
        "    source_text = (' '.join(tokenized_source_text)).lower()\n",
        "    target_text = (' '.join(tokenized_target_text)).lower()\n",
        "\n",
        "    input_texts.append(source_text)\n",
        "    target_texts.append(target_text)\n",
        "\n",
        "vectorizer_english = CountVectorizer(max_features=english_vocab_size)\n",
        "vectorizer_english.fit(input_texts)\n",
        "vocab_english = vectorizer_english.get_feature_names_out()\n",
        "\n",
        "vectorizer_german = CountVectorizer(max_features=german_vocab_size)\n",
        "vectorizer_german.fit(target_texts)\n",
        "vocab_german = vectorizer_german.get_feature_names_out()\n",
        "\n",
        "print('Maximum source input length: ', max_input_length)\n",
        "print('Maximum target output length: ', max_output_length)"
      ],
      "metadata": {
        "colab": {
          "base_uri": "https://localhost:8080/"
        },
        "id": "d_dkWvkyfonk",
        "outputId": "d419ad5e-adac-4d77-8394-10a700ca4f9f"
      },
      "execution_count": 82,
      "outputs": [
        {
          "output_type": "stream",
          "name": "stdout",
          "text": [
            "Maximum source input length:  6\n",
            "Maximum target output length:  11\n"
          ]
        }
      ]
    },
    {
      "cell_type": "code",
      "execution_count": 83,
      "metadata": {
        "colab": {
          "base_uri": "https://localhost:8080/"
        },
        "id": "MQwEsJh7R8Yd",
        "outputId": "df7b01bb-e2a8-4207-f94b-fb3b813a1c45"
      },
      "outputs": [
        {
          "output_type": "execute_result",
          "data": {
            "text/plain": [
              "['go .', 'hi .', 'hi .', 'run !', 'run .']"
            ]
          },
          "metadata": {},
          "execution_count": 83
        }
      ],
      "source": [
        "input_texts[:5]"
      ]
    },
    {
      "cell_type": "code",
      "execution_count": 84,
      "metadata": {
        "colab": {
          "base_uri": "https://localhost:8080/"
        },
        "id": "Uz463u9GR_wO",
        "outputId": "84236519-a087-433b-b1fe-1400670af20d"
      },
      "outputs": [
        {
          "output_type": "execute_result",
          "data": {
            "text/plain": [
              "['geh .', 'hallo !', 'grüß gott !', 'lauf !', 'lauf !']"
            ]
          },
          "metadata": {},
          "execution_count": 84
        }
      ],
      "source": [
        "target_texts[:5]"
      ]
    },
    {
      "cell_type": "markdown",
      "metadata": {
        "id": "vIAaknDaRasy"
      },
      "source": [
        "Looks simple but correct.\n",
        "\n",
        "So the source and target sequences have max lengths 6 and 11, respectively. As we will add start and end tokens (\\<s> and \\</s>) to our decoder side we will set the respective max lengths to: "
      ]
    },
    {
      "cell_type": "code",
      "execution_count": 85,
      "metadata": {
        "id": "mDdzDfvQ9EO1"
      },
      "outputs": [],
      "source": [
        "max_encoder_seq_length = 6\n",
        "max_decoder_seq_length = 13 #11 + start + end"
      ]
    },
    {
      "cell_type": "markdown",
      "metadata": {
        "id": "HtF9ihIeRuTO"
      },
      "source": [
        "Next, we create the dictionaries translating between integer ids and tokens for both source (English) and target (German).\n",
        "\n"
      ]
    },
    {
      "cell_type": "code",
      "source": [
        "print(f'len(vocab_english): {len(vocab_english)}\\n\\nvocab_english_full: {vocab_english}\\nvocab_english[:5]: {vocab_english[:5]}\\nvocab_english[100:105]: {vocab_english[100:105]}\\nvocab_english[200:205]: {vocab_english[200:205]}\\nvocab_english[-5:]: {vocab_english[-5:]}')"
      ],
      "metadata": {
        "colab": {
          "base_uri": "https://localhost:8080/"
        },
        "id": "8e3Jgu5DlMs7",
        "outputId": "7373ddac-a7d1-4f8c-c10e-e8ac71a951f0"
      },
      "execution_count": 86,
      "outputs": [
        {
          "output_type": "stream",
          "name": "stdout",
          "text": [
            "len(vocab_english): 2000\n",
            "\n",
            "vocab_english_full: ['00' '10' '100' ... 'your' 'yours' 'yourself']\n",
            "vocab_english[:5]: ['00' '10' '100' '12' '13']\n",
            "vocab_english[100:105]: ['apart' 'apologize' 'apologized' 'applauded' 'apple']\n",
            "vocab_english[200:205]: ['bike' 'biked' 'bird' 'birds' 'birthday']\n",
            "vocab_english[-5:]: ['you' 'young' 'your' 'yours' 'yourself']\n"
          ]
        }
      ]
    },
    {
      "cell_type": "code",
      "source": [
        "# ===================================\n",
        "# ======= REVERSE ENGINEERING =======\n",
        "# ===================================\n",
        "\n",
        "# english_vocab_size = 2000\n",
        "# german_vocab_size = 3000\n",
        "\n",
        "# ================= Encoder: Dict for English ===================\n",
        "source_id_vocab_dict = {}\n",
        "source_vocab_id_dict = {}\n",
        "\n",
        "for sid, svocab in enumerate(vocab_english[:3]):   # limit to the length of 3\n",
        "  source_id_vocab_dict[sid] = svocab\n",
        "  source_vocab_id_dict[svocab] = sid\n",
        "  print(f'source_id_vocab_dict: {source_id_vocab_dict[sid]}\\nsource_vocab_id_dict: {source_vocab_id_dict[svocab]}\\n')\n",
        "print(f'source_id_vocab_dict: {source_id_vocab_dict}\\nsource_vocab_id_dict: {source_vocab_id_dict}\\n')\n",
        "\n",
        "source_id_vocab_dict[english_vocab_size] = \"<unk>\"       # unknown token: used to replace the rare words that didn't fit in your vocabulary\n",
        "source_id_vocab_dict[english_vocab_size + 1] = \"<pad>\"   # padding token: used to fill the reminder of max length defined, making sure all the squences in your batch in training data have the same length\n",
        "print(f'source_id_vocab_dict[english_vocab_size]: {source_id_vocab_dict[english_vocab_size]}\\nsource_id_vocab_dict[english_vocab_size + 1]: {source_id_vocab_dict[english_vocab_size + 1]}\\n')\n",
        "\n",
        "source_vocab_id_dict[\"<unk>\"] = english_vocab_size\n",
        "source_vocab_id_dict[\"<pad>\"] = english_vocab_size + 1\n",
        "print(f'source_id_vocab_dict: {source_id_vocab_dict}\\nsource_vocab_id_dict: {source_vocab_id_dict}')\n",
        "\n",
        "# ================= Decoder: Dict for German ===================\n",
        "target_id_vocab_dict = {}\n",
        "target_vocab_id_dict = {}\n",
        "\n",
        "# for tid, tvocab in enumerate(vocab_german):\n",
        "for tid, tvocab in enumerate(vocab_german[:3]):     # limit to the length of 3\n",
        "  target_id_vocab_dict[tid] = tvocab\n",
        "  target_vocab_id_dict[tvocab] = tid\n",
        "\n",
        "# Add unknown token plus start and end tokens to target language\n",
        "# we are going to feed the <start> token at the beginning of the encordre and then it keeps generating until it chooses\n",
        "# to generate the <end> token\n",
        "target_id_vocab_dict[german_vocab_size] = \"<unk>\"\n",
        "target_id_vocab_dict[german_vocab_size + 1] = \"<start>\"\n",
        "target_id_vocab_dict[german_vocab_size + 2] = \"<end>\"\n",
        "target_id_vocab_dict[german_vocab_size + 3] = \"<pad>\"\n",
        "\n",
        "target_vocab_id_dict[\"<unk>\"] = german_vocab_size\n",
        "target_vocab_id_dict[\"<start>\"] = german_vocab_size + 1\n",
        "target_vocab_id_dict[\"<end>\"] = german_vocab_size + 2\n",
        "target_vocab_id_dict[\"<pad>\"] = german_vocab_size + 3\n",
        "print(f'\\ntarget_id_vocab_dict: {target_id_vocab_dict}\\ntarget_vocab_id_dict: {target_vocab_id_dict}')"
      ],
      "metadata": {
        "colab": {
          "base_uri": "https://localhost:8080/"
        },
        "id": "diFMlsAykrP0",
        "outputId": "ea82bab5-882f-4bc0-85ee-4aad38c50897"
      },
      "execution_count": 87,
      "outputs": [
        {
          "output_type": "stream",
          "name": "stdout",
          "text": [
            "source_id_vocab_dict: 00\n",
            "source_vocab_id_dict: 0\n",
            "\n",
            "source_id_vocab_dict: 10\n",
            "source_vocab_id_dict: 1\n",
            "\n",
            "source_id_vocab_dict: 100\n",
            "source_vocab_id_dict: 2\n",
            "\n",
            "source_id_vocab_dict: {0: '00', 1: '10', 2: '100'}\n",
            "source_vocab_id_dict: {'00': 0, '10': 1, '100': 2}\n",
            "\n",
            "source_id_vocab_dict[english_vocab_size]: <unk>\n",
            "source_id_vocab_dict[english_vocab_size + 1]: <pad>\n",
            "\n",
            "source_id_vocab_dict: {0: '00', 1: '10', 2: '100', 2000: '<unk>', 2001: '<pad>'}\n",
            "source_vocab_id_dict: {'00': 0, '10': 1, '100': 2, '<unk>': 2000, '<pad>': 2001}\n",
            "\n",
            "target_id_vocab_dict: {0: '00', 1: '10', 2: '100', 3000: '<unk>', 3001: '<start>', 3002: '<end>', 3003: '<pad>'}\n",
            "target_vocab_id_dict: {'00': 0, '10': 1, '100': 2, '<unk>': 3000, '<start>': 3001, '<end>': 3002, '<pad>': 3003}\n"
          ]
        }
      ]
    },
    {
      "cell_type": "code",
      "execution_count": 88,
      "metadata": {
        "id": "f8JiJ9pL3AnU"
      },
      "outputs": [],
      "source": [
        "# =============================\n",
        "# ======= ORIGINAL CODE =======\n",
        "# =============================\n",
        "\n",
        "source_id_vocab_dict = {}\n",
        "source_vocab_id_dict = {}\n",
        "\n",
        "for sid, svocab in enumerate(vocab_english):\n",
        "  source_id_vocab_dict[sid] = svocab\n",
        "  source_vocab_id_dict[svocab] = sid\n",
        "\n",
        "source_id_vocab_dict[english_vocab_size] = \"<unk>\"\n",
        "source_id_vocab_dict[english_vocab_size + 1] = \"<pad>\"\n",
        "\n",
        "source_vocab_id_dict[\"<unk>\"] = english_vocab_size\n",
        "source_vocab_id_dict[\"<pad>\"] = english_vocab_size + 1\n",
        "\n",
        "target_id_vocab_dict = {}\n",
        "target_vocab_id_dict = {}\n",
        "\n",
        "for tid, tvocab in enumerate(vocab_german):\n",
        "  target_id_vocab_dict[tid] = tvocab\n",
        "  target_vocab_id_dict[tvocab] = tid\n",
        "\n",
        "# Add unknown token plus start and end tokens to target language\n",
        "\n",
        "target_id_vocab_dict[german_vocab_size] = \"<unk>\"\n",
        "target_id_vocab_dict[german_vocab_size + 1] = \"<start>\"\n",
        "target_id_vocab_dict[german_vocab_size + 2] = \"<end>\"\n",
        "target_id_vocab_dict[german_vocab_size + 3] = \"<pad>\"\n",
        "\n",
        "target_vocab_id_dict[\"<unk>\"] = german_vocab_size\n",
        "target_vocab_id_dict[\"<start>\"] = german_vocab_size + 1\n",
        "target_vocab_id_dict[\"<end>\"] = german_vocab_size + 2\n",
        "target_vocab_id_dict[\"<pad>\"] = german_vocab_size + 3"
      ]
    },
    {
      "cell_type": "markdown",
      "metadata": {
        "id": "KKY10hN1SLui"
      },
      "source": [
        "Lastly, we need to create the training and test data that will feed into our two models. It is convenient to define a small function for that that also takes care of padding and adding start/end tokens on the decoder side.\n",
        "\n",
        "Notice that we need to create three sequences of vocab ids: \n",
        "- inputs to the encoder (starting language), \n",
        "- inputs to the decoder (output language, for the preceding tokens in the output sequence) and \n",
        "- labels for the decoder (the correct next word to predict at each time step in the output, which is shifted one over from the inputs to the decoder).\n",
        "\n",
        "### Convert text to vocabulary IDs \n",
        "Used Word2Vec before but now we just have our own that we just learned from tokenizing the training data. And the unique thing about this function \"convert_text_to_data()\", we are going to reuse this for 3 different inputs (3 different inputs needed to a SeqToSeq model):\n",
        "- Input to the encoder = Vocab IDs for the English text\n",
        "- Input for the decorder = Vocab IDs for the German text\n",
        "- Output of the decorder = Our labels that both of those are going to be German sequence. They are just off by 1\n",
        "\n",
        "So the **input to the decorder** starts with the **<start>** sentence token and then the **1st label** is the 1st real word of the sentence and then that 1st real word of the sentence is the 2nd input to the decorder. And this way, we're not as we train. we are not waiting for whatever we predicted as the previous word for the decorder we're feeding it the correct sequence as the inputs and just teaching it to predict the correct next word. It's called **teacher forcing.**\n"
      ]
    },
    {
      "cell_type": "code",
      "source": [
        "# ===================================\n",
        "# ======= REVERSE ENGINEERING =======\n",
        "# ===================================\n",
        "\n",
        "print(f'input_texts[:10] in English => {input_texts[:10]}\\ntarget_texts[:10] in German => {target_texts[:10]}')\n",
        "print(f'source_vocab_id_dict => {source_vocab_id_dict}\\ntarget_vocab_id_dict => {target_vocab_id_dict}')\n",
        "# print(f'input_texts[:10] in English => {input_texts[:10]}\\ntarget_texts[:10] in German => {target_texts[:10]}')\n",
        "\n",
        "def convert_text_to_data(texts, \n",
        "                         vocab_id_dict, \n",
        "                         max_length=20, \n",
        "                         type=None,\n",
        "                         train_test_vector=None,\n",
        "                         samples=100000):\n",
        "  \n",
        "  if type == None:\n",
        "    raise ValueError('\\'type\\' is not defined. Please choose from: input_source, input_target, output_target.')\n",
        "  \n",
        "  train_data = []\n",
        "  test_data = []\n",
        "\n",
        "  for text_num, text in enumerate(texts[:5]):   # limit to 5 texts\n",
        "\n",
        "    sentence_ids = []\n",
        "\n",
        "    for token in text.split():\n",
        "      print('token:', token)\n",
        "\n",
        "      if token in vocab_id_dict.keys():\n",
        "        sentence_ids.append(vocab_id_dict[token])\n",
        "      else:\n",
        "        sentence_ids.append(vocab_id_dict[\"<unk>\"])\n",
        "    \n",
        "    vocab_size = len(vocab_id_dict.keys())\n",
        "    \n",
        "    # Depending on encoder/decoder and input/output, add start/end tokens.\n",
        "    # Then add padding.\n",
        "    \n",
        "    if type == 'input_source':     # input for the encorder: English (=sentence_ids) and padding tokens\n",
        "      # ids = (sentence_ids + [vocab_size - 1] * max_length)[:max_length]\n",
        "      ids = (sentence_ids + [vocab_id_dict[\"<pad>\"]] * max_length)[:max_length]     # Natalie's code\n",
        "\n",
        "    elif type == 'input_target':   # input for the decorder: use <start> token at the beginning\n",
        "      # ids = ([vocab_size - 3]] + sentence_ids + [vocab_size - 2] + [vocab_size - 1] * max_length)[:max_length]\n",
        "      ids = ([vocab_id_dict[\"<start>\"]] + sentence_ids + [vocab_id_dict[\"<end>\"]] + [vocab_id_dict[\"<pad>\"]] * max_length)[:max_length]   # Natalie's code\n",
        "      \n",
        "\n",
        "    elif type == 'output_target':   # label for the decorder: we don't put the <start> token at the beginning but we do make sure having the <end> token then padding token\n",
        "      # ids = (sentence_ids + [vocab_size - 2] + [vocab_size -1] * max_length)[:max_length]\n",
        "      ids = (sentence_ids + [vocab_id_dict[\"<end>\"]] + [vocab_id_dict[\"<pad>\"]] * max_length)[:max_length]     # Natalie's code\n",
        "\n",
        "    if train_test_vector is not None and not train_test_vector[text_num]:\n",
        "      test_data.append(ids)\n",
        "    else:\n",
        "      train_data.append(ids)\n",
        "\n",
        "\n",
        "  return np.array(train_data), np.array(test_data)\n",
        "\n",
        "\n",
        "train_test_split_vector = (np.random.uniform(size=5) > 0.2)             # QUESTION???: do not understand\n",
        "print('np.random.uniform(size=5): ', np.random.uniform(size=5))\n",
        "print('train_test_split_vector: ',train_test_split_vector)\n",
        "\n",
        "train_source_input_data, test_source_input_data = convert_text_to_data(input_texts, \n",
        "                                                                       source_vocab_id_dict,\n",
        "                                                                       type='input_source',\n",
        "                                                                       max_length=max_encoder_seq_length,\n",
        "                                                                       train_test_vector=train_test_split_vector)\n",
        "\n",
        "train_target_input_data, test_target_input_data = convert_text_to_data(target_texts,\n",
        "                                                                       target_vocab_id_dict,\n",
        "                                                                       type='input_target',\n",
        "                                                                       max_length=max_decoder_seq_length,\n",
        "                                                                       train_test_vector=train_test_split_vector)\n",
        "\n",
        "train_target_output_data, test_target_output_data = convert_text_to_data(target_texts,\n",
        "                                                                         target_vocab_id_dict,\n",
        "                                                                         type='output_target',\n",
        "                                                                         max_length=max_decoder_seq_length,\n",
        "                                                                         train_test_vector=train_test_split_vector)\n",
        "\n",
        "\n"
      ],
      "metadata": {
        "colab": {
          "base_uri": "https://localhost:8080/"
        },
        "id": "96Wx6hyeBZu5",
        "outputId": "564eb4cd-b6c7-4bb5-c9bb-264dd0d8f09f"
      },
      "execution_count": 89,
      "outputs": [
        {
          "output_type": "stream",
          "name": "stdout",
          "text": [
            "input_texts[:10] in English => ['go .', 'hi .', 'hi .', 'run !', 'run .', 'wow !', 'wow !', 'duck !', 'fire !', 'help !']\n",
            "target_texts[:10] in German => ['geh .', 'hallo !', 'grüß gott !', 'lauf !', 'lauf !', 'potzdonner !', 'donnerwetter !', 'kopf runter !', 'feuer !', 'hilfe !']\n",
            "source_vocab_id_dict => {'00': 0, '10': 1, '100': 2, '12': 3, '13': 4, '15': 5, '17': 6, '18': 7, '19': 8, '30': 9, '300': 10, '45': 11, '50': 12, '99': 13, 'aah': 14, 'abandon': 15, 'aboard': 16, 'about': 17, 'abroad': 18, 'absent': 19, 'absurd': 20, 'accelerated': 21, 'accept': 22, 'accurate': 23, 'ache': 24, 'ached': 25, 'aches': 26, 'acne': 27, 'across': 28, 'act': 29, 'action': 30, 'active': 31, 'actor': 32, 'add': 33, 'addict': 34, 'addicted': 35, 'admirable': 36, 'admire': 37, 'admired': 38, 'admit': 39, 'adopted': 40, 'adore': 41, 'adored': 42, 'adores': 43, 'advises': 44, 'afraid': 45, 'after': 46, 'afternoon': 47, 'again': 48, 'against': 49, 'age': 50, 'agile': 51, 'agree': 52, 'agreed': 53, 'agrees': 54, 'ahead': 55, 'ai': 56, 'aim': 57, 'air': 58, 'alert': 59, 'alive': 60, 'all': 61, 'allow': 62, 'almonds': 63, 'almost': 64, 'alone': 65, 'along': 66, 'aloud': 67, 'already': 68, 'also': 69, 'always': 70, 'am': 71, 'amazed': 72, 'amazing': 73, 'ambush': 74, 'american': 75, 'amnesia': 76, 'amuse': 77, 'amused': 78, 'an': 79, 'and': 80, 'anemic': 81, 'angel': 82, 'angry': 83, 'animal': 84, 'animals': 85, 'annoy': 86, 'annoyed': 87, 'annoying': 88, 'anorexic': 89, 'another': 90, 'answer': 91, 'answered': 92, 'answers': 93, 'anxious': 94, 'any': 95, 'anybody': 96, 'anyone': 97, 'anything': 98, 'anyway': 99, 'apart': 100, 'apologize': 101, 'apologized': 102, 'applauded': 103, 'apple': 104, 'apples': 105, 'approve': 106, 'approved': 107, 'approves': 108, 'arabs': 109, 'are': 110, 'arm': 111, 'armed': 112, 'around': 113, 'arrived': 114, 'arrogant': 115, 'art': 116, 'artist': 117, 'artistic': 118, 'as': 119, 'ashamed': 120, 'asian': 121, 'aside': 122, 'ask': 123, 'asked': 124, 'asleep': 125, 'assume': 126, 'assumed': 127, 'at': 128, 'ate': 129, 'atheist': 130, 'attack': 131, 'attend': 132, 'attentive': 133, 'aunt': 134, 'austrian': 135, 'author': 136, 'autistic': 137, 'autumn': 138, 'avoids': 139, 'awake': 140, 'away': 141, 'awesome': 142, 'awful': 143, 'babbling': 144, 'babe': 145, 'babies': 146, 'baby': 147, 'back': 148, 'backup': 149, 'bad': 150, 'baffled': 151, 'bag': 152, 'baker': 153, 'baking': 154, 'bald': 155, 'ball': 156, 'banana': 157, 'bananas': 158, 'bankrupt': 159, 'barbaric': 160, 'bargain': 161, 'bark': 162, 'bat': 163, 'bath': 164, 'be': 165, 'beans': 166, 'bear': 167, 'beard': 168, 'beat': 169, 'beautiful': 170, 'became': 171, 'bed': 172, 'beds': 173, 'bedtime': 174, 'beef': 175, 'been': 176, 'beer': 177, 'began': 178, 'begin': 179, 'beginner': 180, 'begun': 181, 'behind': 182, 'being': 183, 'belched': 184, 'believe': 185, 'believed': 186, 'bell': 187, 'belong': 188, 'below': 189, 'bent': 190, 'beside': 191, 'best': 192, 'bet': 193, 'betrayed': 194, 'better': 195, 'beyond': 196, 'biased': 197, 'big': 198, 'bigot': 199, 'bike': 200, 'biked': 201, 'bird': 202, 'birds': 203, 'birthday': 204, 'bit': 205, 'bite': 206, 'bizarre': 207, 'black': 208, 'blacked': 209, 'blame': 210, 'blames': 211, 'bled': 212, 'bleeding': 213, 'bless': 214, 'blind': 215, 'blink': 216, 'blinked': 217, 'blog': 218, 'blonde': 219, 'blood': 220, 'bloom': 221, 'blow': 222, 'blue': 223, 'bluffing': 224, 'blushed': 225, 'board': 226, 'boat': 227, 'boats': 228, 'bogus': 229, 'boil': 230, 'bolt': 231, 'book': 232, 'books': 233, 'bore': 234, 'bored': 235, 'boring': 236, 'borrow': 237, 'boss': 238, 'boston': 239, 'botanist': 240, 'both': 241, 'bother': 242, 'bottoms': 243, 'bought': 244, 'bowed': 245, 'bowl': 246, 'box': 247, 'boy': 248, 'boys': 249, 'brace': 250, 'braces': 251, 'brag': 252, 'bragging': 253, 'braked': 254, 'brakes': 255, 'brand': 256, 'brat': 257, 'brave': 258, 'bread': 259, 'break': 260, 'breathe': 261, 'brief': 262, 'bring': 263, 'british': 264, 'broke': 265, 'broken': 266, 'broom': 267, 'brought': 268, 'brown': 269, 'bug': 270, 'bugs': 271, 'built': 272, 'bulky': 273, 'bull': 274, 'bullied': 275, 'burn': 276, 'burned': 277, 'burns': 278, 'burp': 279, 'burped': 280, 'bury': 281, 'bus': 282, 'business': 283, 'busy': 284, 'butcher': 285, 'buy': 286, 'buying': 287, 'by': 288, 'ca': 289, 'cab': 290, 'cage': 291, 'cain': 292, 'cake': 293, 'call': 294, 'called': 295, 'calls': 296, 'calm': 297, 'came': 298, 'camels': 299, 'can': 300, 'canadian': 301, 'cancel': 302, 'canceled': 303, 'cancer': 304, 'candy': 305, 'captured': 306, 'car': 307, 'card': 308, 'care': 309, 'cared': 310, 'careful': 311, 'cares': 312, 'carrots': 313, 'carry': 314, 'cars': 315, 'cash': 316, 'castles': 317, 'cat': 318, 'catch': 319, 'cats': 320, 'cattle': 321, 'caught': 322, 'caused': 323, 'caution': 324, 'caviar': 325, 'cd': 326, 'cds': 327, 'celery': 328, 'certain': 329, 'chair': 330, 'change': 331, 'changed': 332, 'chatting': 333, 'cheap': 334, 'cheat': 335, 'cheated': 336, 'cheats': 337, 'check': 338, 'checked': 339, 'cheer': 340, 'cheered': 341, 'cheers': 342, 'cheese': 343, 'chef': 344, 'chess': 345, 'chest': 346, 'chew': 347, 'chicken': 348, 'child': 349, 'chill': 350, 'chilly': 351, 'chinese': 352, 'choking': 353, 'choose': 354, 'christmas': 355, 'chubby': 356, 'chuckled': 357, 'church': 358, 'circle': 359, 'city': 360, 'clap': 361, 'clapped': 362, 'clapping': 363, 'class': 364, 'classic': 365, 'clean': 366, 'clear': 367, 'clearly': 368, 'clever': 369, 'click': 370, 'client': 371, 'climbing': 372, 'clock': 373, 'clocks': 374, 'close': 375, 'closed': 376, 'closely': 377, 'closer': 378, 'cloudy': 379, 'clue': 380, 'cnn': 381, 'coach': 382, 'coat': 383, 'coffee': 384, 'coin': 385, 'coke': 386, 'cold': 387, 'college': 388, 'come': 389, 'comes': 390, 'comfort': 391, 'coming': 392, 'command': 393, 'comment': 394, 'confessed': 395, 'confused': 396, 'contact': 397, 'control': 398, 'cook': 399, 'cookies': 400, 'cooking': 401, 'cool': 402, 'cops': 403, 'copy': 404, 'correct': 405, 'cough': 406, 'coughed': 407, 'coughing': 408, 'could': 409, 'count': 410, 'courage': 411, 'course': 412, 'cover': 413, 'cow': 414, 'coward': 415, 'cows': 416, 'crafty': 417, 'cranky': 418, 'crazy': 419, 'creative': 420, 'crew': 421, 'cried': 422, 'cripple': 423, 'crown': 424, 'cruel': 425, 'cry': 426, 'crying': 427, 'cuff': 428, 'cup': 429, 'cured': 430, 'curious': 431, 'curse': 432, 'cursed': 433, 'curt': 434, 'cuss': 435, 'cut': 436, 'cute': 437, 'cutie': 438, 'cycled': 439, 'dad': 440, 'daft': 441, 'damaged': 442, 'dance': 443, 'danced': 444, 'dancer': 445, 'dancers': 446, 'dances': 447, 'dancing': 448, 'danger': 449, 'dangerous': 450, 'danish': 451, 'dare': 452, 'dark': 453, 'date': 454, 'dating': 455, 'day': 456, 'dead': 457, 'deaf': 458, 'deal': 459, 'dear': 460, 'death': 461, 'debt': 462, 'decide': 463, 'decided': 464, 'decline': 465, 'dedicated': 466, 'deep': 467, 'deeply': 468, 'deer': 469, 'definitely': 470, 'delicious': 471, 'denial': 472, 'denied': 473, 'dentist': 474, 'deny': 475, 'depressed': 476, 'deserve': 477, 'deserved': 478, 'diabetic': 479, 'diary': 480, 'dice': 481, 'did': 482, 'die': 483, 'died': 484, 'dieting': 485, 'different': 486, 'dinner': 487, 'dirty': 488, 'disagree': 489, 'disagreed': 490, 'discreet': 491, 'dislike': 492, 'divorced': 493, 'dizzy': 494, 'dj': 495, 'do': 496, 'doctor': 497, 'does': 498, 'dog': 499, 'dogs': 500, 'doing': 501, 'done': 502, 'donuts': 503, 'doomed': 504, 'door': 505, 'doubts': 506, 'down': 507, 'downstairs': 508, 'dozed': 509, 'dozing': 510, 'drank': 511, 'draw': 512, 'dream': 513, 'dreaming': 514, 'dreams': 515, 'dress': 516, 'drink': 517, 'drive': 518, 'driven': 519, 'drives': 520, 'driving': 521, 'drop': 522, 'drove': 523, 'drowned': 524, 'drowning': 525, 'drunk': 526, 'dry': 527, 'dug': 528, 'dumb': 529, 'dumped': 530, 'duty': 531, 'dye': 532, 'dying': 533, 'dyslexic': 534, 'early': 535, 'ears': 536, 'east': 537, 'easter': 538, 'easy': 539, 'eat': 540, 'eaten': 541, 'eating': 542, 'egg': 543, 'eggs': 544, 'eight': 545, 'eighteen': 546, 'empty': 547, 'end': 548, 'ends': 549, 'enemies': 550, 'enemy': 551, 'engaged': 552, 'engine': 553, 'english': 554, 'enjoy': 555, 'enjoyed': 556, 'enlisted': 557, 'enough': 558, 'ensued': 559, 'enter': 560, 'envy': 561, 'escape': 562, 'escaped': 563, 'escaping': 564, 'even': 565, 'evening': 566, 'everybody': 567, 'everyone': 568, 'everything': 569, 'evil': 570, 'ex': 571, 'exaggerated': 572, 'examine': 573, 'excited': 574, 'exciting': 575, 'excuse': 576, 'exercised': 577, 'exercises': 578, 'exhale': 579, 'exhaled': 580, 'exhausted': 581, 'exhausting': 582, 'exist': 583, 'exists': 584, 'expected': 585, 'expecting': 586, 'expert': 587, 'explain': 588, 'eyes': 589, 'face': 590, 'fact': 591, 'facts': 592, 'fad': 593, 'fail': 594, 'failed': 595, 'faint': 596, 'fainted': 597, 'fair': 598, 'faith': 599, 'fake': 600, 'faking': 601, 'fall': 602, 'falling': 603, 'family': 604, 'famous': 605, 'fan': 606, 'fanatic': 607, 'fantastic': 608, 'far': 609, 'farmer': 610, 'farsighted': 611, 'fascinated': 612, 'fast': 613, 'faster': 614, 'fasting': 615, 'fat': 616, 'father': 617, 'fault': 618, 'favor': 619, 'fbi': 620, 'fear': 621, 'fed': 622, 'fee': 623, 'feed': 624, 'feel': 625, 'feels': 626, 'feet': 627, 'fell': 628, 'felt': 629, 'fencing': 630, 'fever': 631, 'few': 632, 'fight': 633, 'fighting': 634, 'file': 635, 'fill': 636, 'filming': 637, 'filthy': 638, 'find': 639, 'fine': 640, 'finicky': 641, 'finish': 642, 'finished': 643, 'fire': 644, 'fired': 645, 'firefly': 646, 'fireman': 647, 'first': 648, 'fish': 649, 'fishing': 650, 'fist': 651, 'fit': 652, 'five': 653, 'fix': 654, 'fixed': 655, 'flaky': 656, 'flat': 657, 'flattered': 658, 'fled': 659, 'flew': 660, 'flies': 661, 'flinched': 662, 'flip': 663, 'floats': 664, 'floor': 665, 'flowers': 666, 'flu': 667, 'flunk': 668, 'fly': 669, 'flying': 670, 'focus': 671, 'focused': 672, 'foggy': 673, 'fold': 674, 'follow': 675, 'followed': 676, 'food': 677, 'fool': 678, 'foolish': 679, 'fools': 680, 'foot': 681, 'for': 682, 'forbidden': 683, 'forgave': 684, 'forget': 685, 'forgive': 686, 'forgot': 687, 'form': 688, 'forward': 689, 'fought': 690, 'found': 691, 'fox': 692, 'frail': 693, 'frank': 694, 'freaked': 695, 'free': 696, 'freeze': 697, 'freezing': 698, 'french': 699, 'friend': 700, 'friendly': 701, 'friends': 702, 'frowned': 703, 'froze': 704, 'frugal': 705, 'fruit': 706, 'fry': 707, 'full': 708, 'fun': 709, 'fungus': 710, 'funny': 711, 'furious': 712, 'fussy': 713, 'futile': 714, 'futon': 715, 'gamble': 716, 'gambler': 717, 'game': 718, 'games': 719, 'gang': 720, 'gardener': 721, 'garlic': 722, 'gas': 723, 'gasped': 724, 'gate': 725, 'gave': 726, 'gawking': 727, 'generous': 728, 'genius': 729, 'get': 730, 'gets': 731, 'getting': 732, 'ghosts': 733, 'giddy': 734, 'gift': 735, 'gifts': 736, 'giggled': 737, 'girl': 738, 'girls': 739, 'give': 740, 'gives': 741, 'giving': 742, 'glad': 743, 'glass': 744, 'glasses': 745, 'gloated': 746, 'glove': 747, 'glue': 748, 'go': 749, 'god': 750, 'goes': 751, 'going': 752, 'gold': 753, 'golf': 754, 'gone': 755, 'good': 756, 'goodbye': 757, 'goodnight': 758, 'goofed': 759, 'gorgeous': 760, 'gossip': 761, 'got': 762, 'grab': 763, 'graduated': 764, 'grass': 765, 'grateful': 766, 'great': 767, 'greedy': 768, 'green': 769, 'grimaced': 770, 'grinned': 771, 'groaned': 772, 'gross': 773, 'grotesque': 774, 'grouch': 775, 'grounded': 776, 'grow': 777, 'grown': 778, 'grows': 779, 'grumbled': 780, 'guarantee': 781, 'guess': 782, 'guessed': 783, 'guide': 784, 'guilty': 785, 'gullible': 786, 'gum': 787, 'gun': 788, 'guts': 789, 'guy': 790, 'guys': 791, 'had': 792, 'hailed': 793, 'hailing': 794, 'hair': 795, 'half': 796, 'ham': 797, 'hand': 798, 'handle': 799, 'hands': 800, 'hang': 801, 'happen': 802, 'happened': 803, 'happens': 804, 'happy': 805, 'hard': 806, 'harder': 807, 'hare': 808, 'harvard': 809, 'has': 810, 'hassle': 811, 'hat': 812, 'hate': 813, 'hated': 814, 'hates': 815, 'have': 816, 'having': 817, 'he': 818, 'head': 819, 'healthily': 820, 'healthy': 821, 'hear': 822, 'heard': 823, 'hearsay': 824, 'heart': 825, 'heavy': 826, 'hell': 827, 'hello': 828, 'help': 829, 'helped': 830, 'helping': 831, 'helps': 832, 'henpecked': 833, 'hens': 834, 'her': 835, 'here': 836, 'hero': 837, 'heroes': 838, 'heroic': 839, 'hers': 840, 'hesitated': 841, 'hey': 842, 'hi': 843, 'hiccup': 844, 'hiccups': 845, 'hid': 846, 'hide': 847, 'hiding': 848, 'high': 849, 'higher': 850, 'hiking': 851, 'him': 852, 'hint': 853, 'hip': 854, 'hired': 855, 'hiring': 856, 'his': 857, 'hit': 858, 'hives': 859, 'hobby': 860, 'hold': 861, 'hole': 862, 'holiday': 863, 'holidays': 864, 'home': 865, 'homeless': 866, 'homemade': 867, 'homesick': 868, 'honest': 869, 'honesty': 870, 'honey': 871, 'honor': 872, 'hop': 873, 'hope': 874, 'hopeless': 875, 'horrible': 876, 'horse': 877, 'horses': 878, 'hot': 879, 'hour': 880, 'house': 881, 'how': 882, 'hug': 883, 'huge': 884, 'hugged': 885, 'human': 886, 'humans': 887, 'humble': 888, 'humming': 889, 'humor': 890, 'hunch': 891, 'hung': 892, 'hungover': 893, 'hungry': 894, 'hunt': 895, 'hunter': 896, 'hurried': 897, 'hurry': 898, 'hurt': 899, 'hurts': 900, 'hydrated': 901, 'hypocrite': 902, 'ice': 903, 'idea': 904, 'idiot': 905, 'idiots': 906, 'ignore': 907, 'ignored': 908, 'ill': 909, 'illiterate': 910, 'immoral': 911, 'immune': 912, 'impatient': 913, 'impolite': 914, 'important': 915, 'impressed': 916, 'improved': 917, 'improvised': 918, 'in': 919, 'incorrect': 920, 'inhaled': 921, 'inhumane': 922, 'injured': 923, 'innocent': 924, 'insane': 925, 'insects': 926, 'inside': 927, 'insisted': 928, 'insult': 929, 'interested': 930, 'invited': 931, 'ipod': 932, 'iron': 933, 'ironic': 934, 'ironing': 935, 'is': 936, 'it': 937, 'itches': 938, 'jail': 939, 'jam': 940, 'japan': 941, 'japanese': 942, 'jaw': 943, 'jazz': 944, 'jealous': 945, 'jeans': 946, 'jerk': 947, 'jesuit': 948, 'jesus': 949, 'job': 950, 'jock': 951, 'jogging': 952, 'join': 953, 'joined': 954, 'joints': 955, 'joke': 956, 'jokes': 957, 'joking': 958, 'judge': 959, 'juice': 960, 'jump': 961, 'jumped': 962, 'just': 963, 'justice': 964, 'karaoke': 965, 'keep': 966, 'keeps': 967, 'kept': 968, 'ketchup': 969, 'key': 970, 'keys': 971, 'kick': 972, 'kicked': 973, 'kid': 974, 'kidding': 975, 'kids': 976, 'kill': 977, 'kind': 978, 'kiss': 979, 'kissed': 980, 'kissing': 981, 'kite': 982, 'kittens': 983, 'kitty': 984, 'klutz': 985, 'knee': 986, 'kneeled': 987, 'knelt': 988, 'knew': 989, 'knife': 990, 'knits': 991, 'know': 992, 'knows': 993, 'korean': 994, 'ladies': 995, 'landed': 996, 'large': 997, 'lasagna': 998, 'last': 999, 'lasts': 1000, 'late': 1001, 'later': 1002, 'laugh': 1003, 'laughed': 1004, 'laughing': 1005, 'law': 1006, 'lawn': 1007, 'lawyer': 1008, 'lawyers': 1009, 'lay': 1010, 'lazy': 1011, 'lead': 1012, 'leaks': 1013, 'learn': 1014, 'learns': 1015, 'leave': 1016, 'leaving': 1017, 'led': 1018, 'left': 1019, 'leg': 1020, 'legal': 1021, 'lend': 1022, 'let': 1023, 'letter': 1024, 'lettuce': 1025, 'liar': 1026, 'liars': 1027, 'lie': 1028, 'lied': 1029, 'lies': 1030, 'life': 1031, 'light': 1032, 'like': 1033, 'liked': 1034, 'likes': 1035, 'limped': 1036, 'limping': 1037, 'line': 1038, 'lines': 1039, 'lion': 1040, 'lip': 1041, 'lips': 1042, 'list': 1043, 'listen': 1044, 'listened': 1045, 'listening': 1046, 'listens': 1047, 'live': 1048, 'lives': 1049, 'livid': 1050, 'lizards': 1051, 'll': 1052, 'llama': 1053, 'loaded': 1054, 'loan': 1055, 'lock': 1056, 'locked': 1057, 'lonely': 1058, 'loner': 1059, 'long': 1060, 'look': 1061, 'looked': 1062, 'looking': 1063, 'looks': 1064, 'loosen': 1065, 'lose': 1066, 'loser': 1067, 'losing': 1068, 'loss': 1069, 'lost': 1070, 'lot': 1071, 'lots': 1072, 'loud': 1073, 'louder': 1074, 'love': 1075, 'loved': 1076, 'lovely': 1077, 'loves': 1078, 'loving': 1079, 'low': 1080, 'loyal': 1081, 'lucid': 1082, 'luck': 1083, 'lucky': 1084, 'lunch': 1085, 'lungs': 1086, 'lying': 1087, 'mad': 1088, 'made': 1089, 'mahjong': 1090, 'maid': 1091, 'mail': 1092, 'make': 1093, 'makes': 1094, 'making': 1095, 'mama': 1096, 'man': 1097, 'manage': 1098, 'managing': 1099, 'many': 1100, 'map': 1101, 'married': 1102, 'marry': 1103, 'marvelous': 1104, 'mary': 1105, 'math': 1106, 'matters': 1107, 'mature': 1108, 'may': 1109, 'maybe': 1110, 'me': 1111, 'mean': 1112, 'means': 1113, 'meant': 1114, 'meat': 1115, 'mechanic': 1116, 'meddling': 1117, 'medic': 1118, 'meditating': 1119, 'meet': 1120, 'memorize': 1121, 'men': 1122, 'merciful': 1123, 'mess': 1124, 'messy': 1125, 'met': 1126, 'mice': 1127, 'midnight': 1128, 'might': 1129, 'milk': 1130, 'mind': 1131, 'mine': 1132, 'minute': 1133, 'miserable': 1134, 'miss': 1135, 'missed': 1136, 'missing': 1137, 'mistaken': 1138, 'moaned': 1139, 'mock': 1140, 'modest': 1141, 'mole': 1142, 'mom': 1143, 'moment': 1144, 'monday': 1145, 'mondays': 1146, 'money': 1147, 'monk': 1148, 'moody': 1149, 'more': 1150, 'morning': 1151, 'morons': 1152, 'mortal': 1153, 'mother': 1154, 'motion': 1155, 'motivated': 1156, 'mouse': 1157, 'move': 1158, 'moved': 1159, 'movies': 1160, 'moving': 1161, 'mow': 1162, 'much': 1163, 'mug': 1164, 'mum': 1165, 'music': 1166, 'musician': 1167, 'muslim': 1168, 'must': 1169, 'mute': 1170, 'my': 1171, 'myself': 1172, 'myth': 1173, 'nails': 1174, 'naive': 1175, 'naked': 1176, 'name': 1177, 'nap': 1178, 'nature': 1179, 'naughty': 1180, 'nearby': 1181, 'nearly': 1182, 'neck': 1183, 'need': 1184, 'needed': 1185, 'needs': 1186, 'needy': 1187, 'nerve': 1188, 'nervous': 1189, 'never': 1190, 'new': 1191, 'news': 1192, 'next': 1193, 'nice': 1194, 'night': 1195, 'nights': 1196, 'nimble': 1197, 'ninja': 1198, 'no': 1199, 'nobody': 1200, 'nodded': 1201, 'nonsense': 1202, 'noodles': 1203, 'noon': 1204, 'normal': 1205, 'north': 1206, 'nose': 1207, 'nosy': 1208, 'not': 1209, 'notes': 1210, 'nothing': 1211, 'notice': 1212, 'noticed': 1213, 'now': 1214, 'number': 1215, 'nurse': 1216, 'nuts': 1217, 'obese': 1218, 'obey': 1219, 'obeyed': 1220, 'obeys': 1221, 'object': 1222, 'objected': 1223, 'objection': 1224, 'objective': 1225, 'obsolete': 1226, 'occupied': 1227, 'ocd': 1228, 'october': 1229, 'odd': 1230, 'of': 1231, 'off': 1232, 'offended': 1233, 'officer': 1234, 'often': 1235, 'oh': 1236, 'ok': 1237, 'okay': 1238, 'old': 1239, 'older': 1240, 'oldest': 1241, 'on': 1242, 'once': 1243, 'one': 1244, 'onions': 1245, 'online': 1246, 'only': 1247, 'open': 1248, 'opened': 1249, 'oppose': 1250, 'opposed': 1251, 'optimist': 1252, 'optimistic': 1253, 'optional': 1254, 'or': 1255, 'oranges': 1256, 'orders': 1257, 'our': 1258, 'ours': 1259, 'out': 1260, 'outraged': 1261, 'outside': 1262, 'over': 1263, 'overslept': 1264, 'overweight': 1265, 'owe': 1266, 'owls': 1267, 'own': 1268, 'pacifist': 1269, 'paddling': 1270, 'page': 1271, 'paid': 1272, 'pain': 1273, 'pale': 1274, 'panic': 1275, 'panicked': 1276, 'paper': 1277, 'parties': 1278, 'pass': 1279, 'past': 1280, 'patient': 1281, 'paused': 1282, 'pay': 1283, 'paying': 1284, 'pays': 1285, 'peace': 1286, 'pear': 1287, 'pen': 1288, 'people': 1289, 'perfect': 1290, 'phone': 1291, 'phoned': 1292, 'piano': 1293, 'pick': 1294, 'picky': 1295, 'pity': 1296, 'pizza': 1297, 'plan': 1298, 'plane': 1299, 'plans': 1300, 'plants': 1301, 'play': 1302, 'please': 1303, 'poet': 1304, 'pointless': 1305, 'poisoned': 1306, 'polite': 1307, 'pony': 1308, 'poor': 1309, 'popular': 1310, 'positive': 1311, 'possible': 1312, 'posted': 1313, 'pot': 1314, 'pray': 1315, 'prayed': 1316, 'praying': 1317, 'prefer': 1318, 'prepared': 1319, 'pretty': 1320, 'prisoner': 1321, 'problem': 1322, 'promise': 1323, 'promised': 1324, 'proof': 1325, 'prove': 1326, 'puking': 1327, 'pull': 1328, 'punctual': 1329, 'purist': 1330, 'push': 1331, 'pushing': 1332, 'pushy': 1333, 'put': 1334, 'questions': 1335, 'quick': 1336, 'quickly': 1337, 'quiet': 1338, 'quietly': 1339, 'quit': 1340, 'quite': 1341, 'quitter': 1342, 'radio': 1343, 'rain': 1344, 'raining': 1345, 'raise': 1346, 'ran': 1347, 'rather': 1348, 're': 1349, 'read': 1350, 'reading': 1351, 'ready': 1352, 'real': 1353, 'really': 1354, 'rebel': 1355, 'record': 1356, 'recovered': 1357, 'recycle': 1358, 'red': 1359, 'redhead': 1360, 'refuse': 1361, 'refused': 1362, 'relax': 1363, 'relaxed': 1364, 'release': 1365, 'relented': 1366, 'relief': 1367, 'remain': 1368, 'remarried': 1369, 'remember': 1370, 'remembers': 1371, 'repeat': 1372, 'replace': 1373, 'replied': 1374, 'reply': 1375, 'rescued': 1376, 'resign': 1377, 'resigned': 1378, 'resist': 1379, 'respect': 1380, 'respects': 1381, 'respond': 1382, 'responded': 1383, 'rest': 1384, 'rested': 1385, 'resting': 1386, 'restless': 1387, 'retired': 1388, 'return': 1389, 'returned': 1390, 'revenge': 1391, 'rewarded': 1392, 'rice': 1393, 'rich': 1394, 'rid': 1395, 'riddles': 1396, 'ride': 1397, 'rifle': 1398, 'right': 1399, 'ring': 1400, 'rise': 1401, 'risk': 1402, 'risky': 1403, 'robbed': 1404, 'robe': 1405, 'rock': 1406, 'rocks': 1407, 'roll': 1408, 'romantic': 1409, 'roof': 1410, 'room': 1411, 'rope': 1412, 'row': 1413, 'rude': 1414, 'ruined': 1415, 'rule': 1416, 'rules': 1417, 'rum': 1418, 'run': 1419, 'running': 1420, 'runs': 1421, 'rush': 1422, 'rushed': 1423, 'ruthless': 1424, 'sad': 1425, 'safe': 1426, 'safely': 1427, 'said': 1428, 'saint': 1429, 'salad': 1430, 'salami': 1431, 'sale': 1432, 'salesman': 1433, 'salmon': 1434, 'salt': 1435, 'samurai': 1436, 'sand': 1437, 'sang': 1438, 'sashimi': 1439, 'sat': 1440, 'satisfied': 1441, 'saturday': 1442, 'saturn': 1443, 'save': 1444, 'saved': 1445, 'saw': 1446, 'say': 1447, 'saying': 1448, 'says': 1449, 'scarce': 1450, 'scare': 1451, 'scared': 1452, 'scares': 1453, 'scary': 1454, 'school': 1455, 'scold': 1456, 'scolded': 1457, 'scoot': 1458, 'scream': 1459, 'screamed': 1460, 'sea': 1461, 'seafood': 1462, 'searching': 1463, 'seasick': 1464, 'seat': 1465, 'seated': 1466, 'sec': 1467, 'second': 1468, 'secret': 1469, 'security': 1470, 'see': 1471, 'seem': 1472, 'seems': 1473, 'seen': 1474, 'seize': 1475, 'seldom': 1476, 'selfish': 1477, 'sell': 1478, 'send': 1479, 'sense': 1480, 'sensible': 1481, 'sent': 1482, 'serious': 1483, 'seriously': 1484, 'set': 1485, 'shall': 1486, 'shame': 1487, 'sharp': 1488, 'shaved': 1489, 'she': 1490, 'ship': 1491, 'shocked': 1492, 'shoot': 1493, 'shooting': 1494, 'short': 1495, 'shot': 1496, 'should': 1497, 'shouted': 1498, 'show': 1499, 'showered': 1500, 'shrieked': 1501, 'shrugged': 1502, 'shut': 1503, 'shy': 1504, 'sick': 1505, 'sickens': 1506, 'sighed': 1507, 'sign': 1508, 'silent': 1509, 'silly': 1510, 'simple': 1511, 'sincere': 1512, 'sing': 1513, 'singer': 1514, 'singing': 1515, 'single': 1516, 'sink': 1517, 'sinking': 1518, 'sinned': 1519, 'sisters': 1520, 'sit': 1521, 'six': 1522, 'skate': 1523, 'skating': 1524, 'skeptical': 1525, 'ski': 1526, 'skiing': 1527, 'skinny': 1528, 'skip': 1529, 'slave': 1530, 'sleep': 1531, 'sleeping': 1532, 'sleepy': 1533, 'slept': 1534, 'slim': 1535, 'slipped': 1536, 'slipping': 1537, 'slob': 1538, 'slow': 1539, 'slower': 1540, 'slowly': 1541, 'small': 1542, 'smart': 1543, 'smell': 1544, 'smelled': 1545, 'smells': 1546, 'smile': 1547, 'smiled': 1548, 'smiling': 1549, 'smoke': 1550, 'smoked': 1551, 'smokes': 1552, 'smoking': 1553, 'snack': 1554, 'snail': 1555, 'sneaky': 1556, 'sneeze': 1557, 'sneezed': 1558, 'sneezing': 1559, 'snore': 1560, 'snores': 1561, 'snoring': 1562, 'snow': 1563, 'snowed': 1564, 'snowing': 1565, 'so': 1566, 'sobbed': 1567, 'sober': 1568, 'soccer': 1569, 'softly': 1570, 'sold': 1571, 'soldier': 1572, 'solid': 1573, 'solved': 1574, 'some': 1575, 'somebody': 1576, 'someone': 1577, 'something': 1578, 'son': 1579, 'song': 1580, 'songs': 1581, 'sons': 1582, 'soon': 1583, 'sore': 1584, 'sorry': 1585, 'sounds': 1586, 'soup': 1587, 'space': 1588, 'speak': 1589, 'speaking': 1590, 'special': 1591, 'specific': 1592, 'sped': 1593, 'speed': 1594, 'spiders': 1595, 'spies': 1596, 'spinach': 1597, 'spit': 1598, 'split': 1599, 'spoke': 1600, 'spoons': 1601, 'sports': 1602, 'spring': 1603, 'spy': 1604, 'squinted': 1605, 'staggered': 1606, 'stalled': 1607, 'stalling': 1608, 'stammered': 1609, 'stamp': 1610, 'stamps': 1611, 'stand': 1612, 'standing': 1613, 'star': 1614, 'stare': 1615, 'staring': 1616, 'start': 1617, 'started': 1618, 'starve': 1619, 'starved': 1620, 'starving': 1621, 'stay': 1622, 'stayed': 1623, 'staying': 1624, 'steal': 1625, 'step': 1626, 'stern': 1627, 'stew': 1628, 'stick': 1629, 'still': 1630, 'stingy': 1631, 'stink': 1632, 'stinks': 1633, 'stir': 1634, 'stoic': 1635, 'stole': 1636, 'stoned': 1637, 'stood': 1638, 'stop': 1639, 'stopped': 1640, 'stories': 1641, 'straighten': 1642, 'strange': 1643, 'strict': 1644, 'stroke': 1645, 'strong': 1646, 'stronger': 1647, 'struggled': 1648, 'stubborn': 1649, 'stuck': 1650, 'student': 1651, 'study': 1652, 'studying': 1653, 'stuffed': 1654, 'stunned': 1655, 'stuntman': 1656, 'stupid': 1657, 'stutters': 1658, 'succeed': 1659, 'succeeded': 1660, 'successful': 1661, 'sue': 1662, 'sued': 1663, 'sugar': 1664, 'suggested': 1665, 'suit': 1666, 'suits': 1667, 'summer': 1668, 'sun': 1669, 'sundays': 1670, 'sunsets': 1671, 'superb': 1672, 'supper': 1673, 'support': 1674, 'suppose': 1675, 'sure': 1676, 'surgery': 1677, 'surprise': 1678, 'surprised': 1679, 'surrender': 1680, 'surrendered': 1681, 'survive': 1682, 'survived': 1683, 'sushi': 1684, 'suspect': 1685, 'swam': 1686, 'swearing': 1687, 'sweated': 1688, 'sweating': 1689, 'sweaty': 1690, 'sweep': 1691, 'sweet': 1692, 'swim': 1693, 'swims': 1694, 'swiss': 1695, 'swore': 1696, 'sympathize': 1697, 'table': 1698, 'tag': 1699, 'tailors': 1700, 'take': 1701, 'takes': 1702, 'taking': 1703, 'talk': 1704, 'talked': 1705, 'talking': 1706, 'talks': 1707, 'tall': 1708, 'taller': 1709, 'tango': 1710, 'taste': 1711, 'tastes': 1712, 'tasty': 1713, 'taught': 1714, 'taxes': 1715, 'taxi': 1716, 'tea': 1717, 'teach': 1718, 'teacher': 1719, 'teaches': 1720, 'team': 1721, 'teased': 1722, 'teenager': 1723, 'tell': 1724, 'temp': 1725, 'tempt': 1726, 'tempted': 1727, 'ten': 1728, 'tennis': 1729, 'terrific': 1730, 'tests': 1731, 'texted': 1732, 'thank': 1733, 'thanks': 1734, 'that': 1735, 'the': 1736, 'their': 1737, 'them': 1738, 'then': 1739, 'there': 1740, 'these': 1741, 'they': 1742, 'thief': 1743, 'thin': 1744, 'things': 1745, 'think': 1746, 'thirsty': 1747, 'thirteen': 1748, 'thirty': 1749, 'this': 1750, 'thorough': 1751, 'those': 1752, 'thought': 1753, 'three': 1754, 'threw': 1755, 'thrilling': 1756, 'through': 1757, 'throw': 1758, 'tickles': 1759, 'ticklish': 1760, 'tidy': 1761, 'tigers': 1762, 'tight': 1763, 'till': 1764, 'time': 1765, 'timing': 1766, 'tipsy': 1767, 'tire': 1768, 'tired': 1769, 'to': 1770, 'today': 1771, 'together': 1772, 'told': 1773, 'tolerant': 1774, 'tom': 1775, 'tomatoes': 1776, 'tomorrow': 1777, 'too': 1778, 'took': 1779, 'tools': 1780, 'tooth': 1781, 'tortured': 1782, 'touch': 1783, 'touched': 1784, 'touching': 1785, 'touchy': 1786, 'tough': 1787, 'tourist': 1788, 'towel': 1789, 'town': 1790, 'tragic': 1791, 'trains': 1792, 'trap': 1793, 'trapped': 1794, 'trash': 1795, 'travel': 1796, 'treat': 1797, 'tree': 1798, 'trees': 1799, 'tricked': 1800, 'tried': 1801, 'tries': 1802, 'tripped': 1803, 'trips': 1804, 'trouble': 1805, 'truck': 1806, 'true': 1807, 'trust': 1808, 'trusted': 1809, 'trusts': 1810, 'truth': 1811, 'try': 1812, 'trying': 1813, 'tulips': 1814, 'turn': 1815, 'turned': 1816, 'turtles': 1817, 'tv': 1818, 'twelve': 1819, 'twin': 1820, 'twitter': 1821, 'two': 1822, 'type': 1823, 'ufo': 1824, 'ugly': 1825, 'unarmed': 1826, 'unbelievable': 1827, 'uncle': 1828, 'understand': 1829, 'undressing': 1830, 'uneasy': 1831, 'unemployed': 1832, 'unfair': 1833, 'unhappy': 1834, 'uninsured': 1835, 'unkind': 1836, 'unlikely': 1837, 'unlock': 1838, 'unlocked': 1839, 'unlucky': 1840, 'unmarried': 1841, 'unscrew': 1842, 'untalented': 1843, 'untrue': 1844, 'unusual': 1845, 'unwell': 1846, 'up': 1847, 'upset': 1848, 'upstairs': 1849, 'urgent': 1850, 'us': 1851, 'use': 1852, 'used': 1853, 'useful': 1854, 'useless': 1855, 'using': 1856, 'usually': 1857, 'vague': 1858, 'vain': 1859, 'van': 1860, 'vanished': 1861, 've': 1862, 'vegan': 1863, 'very': 1864, 'vet': 1865, 'vigilant': 1866, 'violent': 1867, 'violin': 1868, 'visa': 1869, 'visit': 1870, 'visited': 1871, 'voices': 1872, 'volunteered': 1873, 'vomited': 1874, 'vote': 1875, 'voted': 1876, 'wait': 1877, 'waited': 1878, 'waiter': 1879, 'waiting': 1880, 'wake': 1881, 'walk': 1882, 'walked': 1883, 'walking': 1884, 'walks': 1885, 'want': 1886, 'wanted': 1887, 'wants': 1888, 'war': 1889, 'warm': 1890, 'warmly': 1891, 'warn': 1892, 'warned': 1893, 'wary': 1894, 'was': 1895, 'wash': 1896, 'washing': 1897, 'wasted': 1898, 'watch': 1899, 'watched': 1900, 'watchful': 1901, 'watching': 1902, 'water': 1903, 'waved': 1904, 'wax': 1905, 'way': 1906, 'we': 1907, 'weak': 1908, 'weakling': 1909, 'wealthy': 1910, 'weapon': 1911, 'wear': 1912, 'weary': 1913, 'wednesday': 1914, 'week': 1915, 'weird': 1916, 'welcome': 1917, 'well': 1918, 'went': 1919, 'wept': 1920, 'were': 1921, 'west': 1922, 'wet': 1923, 'what': 1924, 'when': 1925, 'where': 1926, 'which': 1927, 'while': 1928, 'whining': 1929, 'whispered': 1930, 'whistled': 1931, 'white': 1932, 'who': 1933, 'whom': 1934, 'whose': 1935, 'why': 1936, 'wicked': 1937, 'wide': 1938, 'wife': 1939, 'wig': 1940, 'will': 1941, 'wimp': 1942, 'win': 1943, 'windy': 1944, 'wine': 1945, 'winked': 1946, 'winners': 1947, 'winning': 1948, 'wins': 1949, 'winter': 1950, 'wise': 1951, 'wish': 1952, 'with': 1953, 'without': 1954, 'witty': 1955, 'wo': 1956, 'woke': 1957, 'wolf': 1958, 'woman': 1959, 'women': 1960, 'won': 1961, 'wonder': 1962, 'wonderful': 1963, 'wood': 1964, 'word': 1965, 'work': 1966, 'worked': 1967, 'working': 1968, 'works': 1969, 'worn': 1970, 'worried': 1971, 'worry': 1972, 'worse': 1973, 'worth': 1974, 'would': 1975, 'wounded': 1976, 'wow': 1977, 'wrist': 1978, 'write': 1979, 'writer': 1980, 'writing': 1981, 'wrong': 1982, 'wrote': 1983, 'yawned': 1984, 'year': 1985, 'years': 1986, 'yell': 1987, 'yelled': 1988, 'yelling': 1989, 'yellow': 1990, 'yen': 1991, 'yes': 1992, 'yet': 1993, 'yoga': 1994, 'you': 1995, 'young': 1996, 'your': 1997, 'yours': 1998, 'yourself': 1999, '<unk>': 2000, '<pad>': 2001}\n",
            "target_vocab_id_dict => {'00': 0, '10': 1, '100': 2, '12': 3, '14': 4, '15': 5, '18': 6, '19': 7, '30': 8, '45': 9, '99': 10, 'ab': 11, 'abbiegen': 12, 'abbrechen': 13, 'abend': 14, 'abendbrot': 15, 'abendessen': 16, 'abends': 17, 'aber': 18, 'abführen': 19, 'abgebogen': 20, 'abgelehnt': 21, 'abgemacht': 22, 'abgesagt': 23, 'abgeschlossen': 24, 'abgeschnitten': 25, 'abgestimmt': 26, 'abgöttisch': 27, 'ablehnen': 28, 'abreißen': 29, 'absage': 30, 'absagen': 31, 'abschluss': 32, 'absicht': 33, 'absolut': 34, 'abstimmen': 35, 'absurd': 36, 'abwarten': 37, 'ach': 38, 'achseln': 39, 'acht': 40, 'achtzehn': 41, 'achtzig': 42, 'acker': 43, 'adoptiert': 44, 'ah': 45, 'aha': 46, 'ahnung': 47, 'akne': 48, 'aktiv': 49, 'albern': 50, 'alle': 51, 'allein': 52, 'alleine': 53, 'allen': 54, 'alles': 55, 'als': 56, 'alt': 57, 'alter': 58, 'am': 59, 'amerikaner': 60, 'amüsiere': 61, 'amüsieren': 62, 'amüsierst': 63, 'amüsiert': 64, 'an': 65, 'analphabet': 66, 'analphabetin': 67, 'anderer': 68, 'anderes': 69, 'anders': 70, 'anfang': 71, 'anfangen': 72, 'anfassen': 73, 'anfänger': 74, 'anfängerin': 75, 'angefahren': 76, 'angefangen': 77, 'angehalten': 78, 'angeheuert': 79, 'angekommen': 80, 'angel': 81, 'angeln': 82, 'angelogen': 83, 'angerufen': 84, 'angesagt': 85, 'angeschossen': 86, 'angeschrieben': 87, 'angestellt': 88, 'angestrengt': 89, 'angetrunken': 90, 'angle': 91, 'angreifen': 92, 'angriff': 93, 'angst': 94, 'angsthase': 95, 'anhalten': 96, 'anklicken': 97, 'ankämpfen': 98, 'anrufen': 99, 'anschließen': 100, 'ansehen': 101, 'ansicht': 102, 'anstrengen': 103, 'anstrengend': 104, 'antrag': 105, 'antworte': 106, 'antworten': 107, 'antwortet': 108, 'antwortete': 109, 'anwalt': 110, 'anwerben': 111, 'anwesend': 112, 'anzeigen': 113, 'anzugeben': 114, 'apfel': 115, 'apfelsinen': 116, 'apparat': 117, 'applaudiert': 118, 'applaudierte': 119, 'applaudierten': 120, 'araber': 121, 'arbeit': 122, 'arbeite': 123, 'arbeiten': 124, 'arbeitet': 125, 'arbeitete': 126, 'arbeitslos': 127, 'arbeitsstelle': 128, 'arm': 129, 'arrogant': 130, 'artig': 131, 'arzt': 132, 'asiaten': 133, 'atheist': 134, 'atme': 135, 'atmen': 136, 'atmet': 137, 'atmete': 138, 'attacke': 139, 'auch': 140, 'auf': 141, 'aufdringlich': 142, 'aufgabe': 143, 'aufgeben': 144, 'aufgeblasen': 145, 'aufgebracht': 146, 'aufgegeben': 147, 'aufgegossen': 148, 'aufgehalten': 149, 'aufgehört': 150, 'aufgelegt': 151, 'aufgeregt': 152, 'aufgeschlossen': 153, 'aufgestanden': 154, 'aufgezogen': 155, 'aufgibt': 156, 'aufhören': 157, 'aufhört': 158, 'aufmerksam': 159, 'aufregend': 160, 'aufrichtig': 161, 'aufstehen': 162, 'aufständische': 163, 'aufständischer': 164, 'aufwachen': 165, 'aufwärmen': 166, 'augen': 167, 'augenblick': 168, 'augenblickchen': 169, 'aus': 170, 'ausatmen': 171, 'ausbrechen': 172, 'auseinander': 173, 'ausgebrochen': 174, 'ausgeflippt': 175, 'ausgegangen': 176, 'ausgehen': 177, 'ausgenutzt': 178, 'ausgerastet': 179, 'ausgeraubt': 180, 'ausgeruht': 181, 'ausgerutscht': 182, 'ausgeschieden': 183, 'ausgeschlossen': 184, 'ausgezogen': 185, 'ausland': 186, 'ausreden': 187, 'ausreichend': 188, 'ausrufen': 189, 'ausruhen': 190, 'aussichtslos': 191, 'ausstehen': 192, 'aussteigen': 193, 'austern': 194, 'auswendig': 195, 'auszugehen': 196, 'autist': 197, 'auto': 198, 'autor': 199, 'autos': 200, 'außer': 201, 'aß': 202, 'aßen': 203, 'baby': 204, 'backen': 205, 'bade': 206, 'bademantel': 207, 'baden': 208, 'badet': 209, 'bahnhof': 210, 'bald': 211, 'balg': 212, 'ball': 213, 'banane': 214, 'bananen': 215, 'bankrott': 216, 'bar': 217, 'barbarisch': 218, 'bares': 219, 'bargeld': 220, 'bart': 221, 'baum': 222, 'baut': 223, 'baute': 224, 'beachte': 225, 'beachten': 226, 'beachtet': 227, 'bearbeiten': 228, 'becher': 229, 'bedankte': 230, 'bedeutung': 231, 'bedien': 232, 'bedienen': 233, 'bedient': 234, 'bedürftig': 235, 'beeil': 236, 'beeile': 237, 'beeilen': 238, 'beeilt': 239, 'beeindruckt': 240, 'beenden': 241, 'befangen': 242, 'befehl': 243, 'befehle': 244, 'befindet': 245, 'befreundet': 246, 'begann': 247, 'begegnet': 248, 'beginne': 249, 'beginnen': 250, 'beglückt': 251, 'begonnen': 252, 'begriffen': 253, 'behalt': 254, 'behalte': 255, 'behalten': 256, 'behaltet': 257, 'beharrte': 258, 'behebe': 259, 'beheben': 260, 'behilflich': 261, 'bei': 262, 'beibringen': 263, 'beichtete': 264, 'beide': 265, 'beiden': 266, 'beides': 267, 'beifall': 268, 'beigetragen': 269, 'beim': 270, 'bein': 271, 'beinahe': 272, 'beiß': 273, 'beißen': 274, 'bekam': 275, 'bekannt': 276, 'bekenne': 277, 'bekifft': 278, 'bekomme': 279, 'bekommen': 280, 'belassen': 281, 'belastungsstörung': 282, 'beleidigt': 283, 'beleidigung': 284, 'belieben': 285, 'beliebige': 286, 'beliebst': 287, 'beliebt': 288, 'bellen': 289, 'belogen': 290, 'belohnte': 291, 'bemerkt': 292, 'bemerkte': 293, 'bemüht': 294, 'beneide': 295, 'benimm': 296, 'benutze': 297, 'benutzen': 298, 'benutzt': 299, 'benzin': 300, 'benötige': 301, 'beobachte': 302, 'beobachten': 303, 'beobachtet': 304, 'beraubte': 305, 'bereit': 306, 'bereite': 307, 'bereiten': 308, 'bereiteten': 309, 'bereits': 310, 'berliner': 311, 'beruf': 312, 'beruhige': 313, 'beruhigen': 314, 'beruhigt': 315, 'berät': 316, 'berühmt': 317, 'berührend': 318, 'bescheid': 319, 'bescheiden': 320, 'bescheuert': 321, 'beschleunigt': 322, 'beschleunigte': 323, 'beschreibe': 324, 'beschwer': 325, 'beschwipst': 326, 'beschädigt': 327, 'beschäftige': 328, 'beschäftigt': 329, 'beschütze': 330, 'besen': 331, 'besetzt': 332, 'besitze': 333, 'besoffen': 334, 'besonders': 335, 'besorgt': 336, 'besser': 337, 'bestand': 338, 'beste': 339, 'besteht': 340, 'bestens': 341, 'bestes': 342, 'bestimmst': 343, 'bestreite': 344, 'bestritt': 345, 'bestürzt': 346, 'besuch': 347, 'besuchen': 348, 'besucht': 349, 'bete': 350, 'beten': 351, 'betet': 352, 'betete': 353, 'beteten': 354, 'betreiben': 355, 'betreibst': 356, 'betreibt': 357, 'betrog': 358, 'betrogen': 359, 'betrunken': 360, 'betrüblich': 361, 'betrübt': 362, 'betrüge': 363, 'betrügen': 364, 'betrügt': 365, 'bett': 366, 'betten': 367, 'bewaffnet': 368, 'beweg': 369, 'bewege': 370, 'bewegen': 371, 'bewegt': 372, 'bewegte': 373, 'bewegung': 374, 'beweis': 375, 'beweise': 376, 'beweisen': 377, 'bewundere': 378, 'bewundern': 379, 'bewundernswert': 380, 'bewunderte': 381, 'bewusstsein': 382, 'bewölkt': 383, 'bezahle': 384, 'bezahlen': 385, 'bezahlst': 386, 'bezahlt': 387, 'bezahlte': 388, 'bezahlten': 389, 'beängstigen': 390, 'beängstigend': 391, 'beängstigst': 392, 'bier': 393, 'bilden': 394, 'bildet': 395, 'billig': 396, 'billigt': 397, 'bin': 398, 'birne': 399, 'bis': 400, 'biss': 401, 'bisschen': 402, 'bist': 403, 'bitte': 404, 'bitten': 405, 'blass': 406, 'blau': 407, 'blauäugig': 408, 'bleib': 409, 'bleibe': 410, 'bleiben': 411, 'bleibst': 412, 'bleibt': 413, 'blendend': 414, 'blicke': 415, 'blickte': 416, 'blickten': 417, 'blieb': 418, 'blind': 419, 'blinzeln': 420, 'blinzelte': 421, 'blond': 422, 'bluffe': 423, 'blumen': 424, 'blut': 425, 'blutarmut': 426, 'blute': 427, 'blutete': 428, 'blättern': 429, 'blöd': 430, 'blödmann': 431, 'blühen': 432, 'boden': 433, 'bog': 434, 'bohnen': 435, 'bohnere': 436, 'boot': 437, 'boote': 438, 'bord': 439, 'borg': 440, 'boston': 441, 'botaniker': 442, 'botanikerin': 443, 'brach': 444, 'brandneu': 445, 'brannte': 446, 'brannten': 447, 'brauche': 448, 'brauchen': 449, 'brauchst': 450, 'braucht': 451, 'brauchte': 452, 'braun': 453, 'brav': 454, 'brechen': 455, 'breit': 456, 'bremse': 457, 'bremste': 458, 'brennt': 459, 'brief': 460, 'briefmarke': 461, 'briefmarken': 462, 'brille': 463, 'brillenträger': 464, 'bring': 465, 'bringe': 466, 'bringen': 467, 'bringt': 468, 'brite': 469, 'brot': 470, 'brust': 471, 'brutal': 472, 'brüllte': 473, 'bub': 474, 'buch': 475, 'buchstaben': 476, 'buchstabier': 477, 'bulle': 478, 'bullen': 479, 'bus': 480, 'bäcker': 481, 'bär': 482, 'bäume': 483, 'böse': 484, 'bücher': 485, 'bückte': 486, 'bügeln': 487, 'camion': 488, 'cd': 489, 'cds': 490, 'chaot': 491, 'chef': 492, 'chinese': 493, 'chinesin': 494, 'clever': 495, 'cnn': 496, 'cola': 497, 'cool': 498, 'cousins': 499, 'crew': 500, 'da': 501, 'dabei': 502, 'dach': 503, 'dachschaden': 504, 'dachte': 505, 'dafür': 506, 'dageblieben': 507, 'dagegen': 508, 'dagegengestellt': 509, 'daheim': 510, 'dahin': 511, 'damit': 512, 'dank': 513, 'dankbar': 514, 'danke': 515, 'danken': 516, 'dankst': 517, 'dann': 518, 'daran': 519, 'darauf': 520, 'daraus': 521, 'darf': 522, 'darfst': 523, 'darum': 524, 'darüber': 525, 'das': 526, 'dass': 527, 'datei': 528, 'daumen': 529, 'davon': 530, 'davongekommen': 531, 'davor': 532, 'dazu': 533, 'dazusetzen': 534, 'dazwischengehen': 535, 'decke': 536, 'deckung': 537, 'dein': 538, 'deine': 539, 'deinem': 540, 'deinen': 541, 'deinetwegen': 542, 'deins': 543, 'dem': 544, 'den': 545, 'denk': 546, 'denke': 547, 'denken': 548, 'denkt': 549, 'denn': 550, 'depressiv': 551, 'deprimiert': 552, 'der': 553, 'detailliere': 554, 'deutlich': 555, 'diabetiker': 556, 'diabetikerin': 557, 'dich': 558, 'dichter': 559, 'dick': 560, 'die': 561, 'dieb': 562, 'diene': 563, 'dienst': 564, 'dienstmädchen': 565, 'dies': 566, 'diese': 567, 'diesen': 568, 'dieser': 569, 'dieses': 570, 'diesmal': 571, 'ding': 572, 'dinge': 573, 'diplomatisch': 574, 'dir': 575, 'diskret': 576, 'diskutierte': 577, 'diät': 578, 'dj': 579, 'doch': 580, 'dollar': 581, 'donnerwetter': 582, 'doof': 583, 'doofköpfe': 584, 'dort': 585, 'dorthin': 586, 'dr': 587, 'drachen': 588, 'dran': 589, 'drauf': 590, 'draus': 591, 'draußen': 592, 'drecksloch': 593, 'dreh': 594, 'drehe': 595, 'drehte': 596, 'drei': 597, 'dreihundert': 598, 'drein': 599, 'dreizehn': 600, 'dreißig': 601, 'drin': 602, 'dringend': 603, 'dringlich': 604, 'drinnen': 605, 'drum': 606, 'drumrum': 607, 'drängeln': 608, 'drüben': 609, 'drüber': 610, 'drück': 611, 'drücken': 612, 'drückst': 613, 'drückt': 614, 'drückte': 615, 'drückten': 616, 'du': 617, 'dumm': 618, 'dummen': 619, 'dummkopf': 620, 'dummköpfe': 621, 'dunkel': 622, 'durch': 623, 'durchatmen': 624, 'durcheinander': 625, 'durchfallen': 626, 'durchgefallen': 627, 'durchtrieben': 628, 'durst': 629, 'durstig': 630, 'duschen': 631, 'duschte': 632, 'dvd': 633, 'dämlich': 634, 'dösen': 635, 'döst': 636, 'döste': 637, 'dünn': 638, 'dürfen': 639, 'eben': 640, 'echt': 641, 'egal': 642, 'ego': 643, 'egoistisch': 644, 'ehefrau': 645, 'ehre': 646, 'ehrgeizig': 647, 'ehrlich': 648, 'ehrlichkeit': 649, 'ei': 650, 'eidechsen': 651, 'eier': 652, 'eiferer': 653, 'eifersüchtig': 654, 'eigenartig': 655, 'eigenbrötler': 656, 'eilig': 657, 'eilt': 658, 'eilte': 659, 'ein': 660, 'einchecken': 661, 'eindruck': 662, 'eine': 663, 'einem': 664, 'einen': 665, 'einer': 666, 'eines': 667, 'einfach': 668, 'einfältig': 669, 'eingabetaste': 670, 'eingeatmet': 671, 'eingebildet': 672, 'eingebrochen': 673, 'eingeladen': 674, 'eingelenkt': 675, 'eingeschlafen': 676, 'eingestellt': 677, 'einig': 678, 'einige': 679, 'einigermaßen': 680, 'einladen': 681, 'einmal': 682, 'eins': 683, 'einsam': 684, 'einspruch': 685, 'einsteigen': 686, 'eintopf': 687, 'eintreten': 688, 'eintritt': 689, 'einverstanden': 690, 'einziehen': 691, 'einzuwenden': 692, 'eis': 693, 'eisen': 694, 'eiskalt': 695, 'eitel': 696, 'ekelhaft': 697, 'eklig': 698, 'elbe': 699, 'elegant': 700, 'eltern': 701, 'empfindlich': 702, 'empört': 703, 'ende': 704, 'endlich': 705, 'eng': 706, 'engagiert': 707, 'engel': 708, 'englisch': 709, 'engländer': 710, 'enorm': 711, 'enspann': 712, 'enspannt': 713, 'entgegen': 714, 'entkam': 715, 'entkamen': 716, 'entkommen': 717, 'entlang': 718, 'entlassen': 719, 'entledige': 720, 'entledigen': 721, 'entscheiden': 722, 'entscheidung': 723, 'entschieden': 724, 'entschuldige': 725, 'entschuldigen': 726, 'entschuldigt': 727, 'entschuldigte': 728, 'entschuldigung': 729, 'entspann': 730, 'entspanne': 731, 'entspannen': 732, 'entspannt': 733, 'entspannte': 734, 'entspannten': 735, 'entsperr': 736, 'entsperrt': 737, 'enttäuscht': 738, 'entzwei': 739, 'entzückend': 740, 'er': 741, 'erbarmen': 742, 'erbaut': 743, 'erblasste': 744, 'erblindet': 745, 'erblindete': 746, 'erbricht': 747, 'erbrochen': 748, 'erbsen': 749, 'erbärmlich': 750, 'erfolg': 751, 'erfolgreich': 752, 'erfreut': 753, 'erfunden': 754, 'ergebe': 755, 'ergeben': 756, 'erhielt': 757, 'erhitzt': 758, 'erhob': 759, 'erholt': 760, 'erholten': 761, 'erinnere': 762, 'erinnern': 763, 'erinnert': 764, 'erklären': 765, 'erkältet': 766, 'erkältung': 767, 'erlaube': 768, 'erledige': 769, 'erledigen': 770, 'erledigt': 771, 'erleichterung': 772, 'ernst': 773, 'ernstes': 774, 'ernsthaft': 775, 'errötete': 776, 'erschießen': 777, 'erschoss': 778, 'erschossen': 779, 'erschreckte': 780, 'erschrocken': 781, 'erschöpft': 782, 'erschüttert': 783, 'ersetze': 784, 'ersetzen': 785, 'ersetzt': 786, 'erstarrte': 787, 'erstaunlich': 788, 'erstaunt': 789, 'erste': 790, 'erster': 791, 'erstickt': 792, 'erteil': 793, 'erteilen': 794, 'erteilt': 795, 'ertrank': 796, 'ertrinke': 797, 'ertrinken': 798, 'ertrunken': 799, 'ertränkt': 800, 'ertüchtigt': 801, 'ertüchtigte': 802, 'erwachsen': 803, 'erwarten': 804, 'erwartet': 805, 'erwischt': 806, 'erzähl': 807, 'erzählen': 808, 'erzählt': 809, 'erzählte': 810, 'es': 811, 'esel': 812, 'esse': 813, 'essen': 814, 'esst': 815, 'etwas': 816, 'euch': 817, 'euer': 818, 'eulen': 819, 'eure': 820, 'eurem': 821, 'eures': 822, 'ex': 823, 'existieren': 824, 'existiert': 825, 'exknacki': 826, 'fach': 827, 'fachmann': 828, 'fahr': 829, 'fahre': 830, 'fahren': 831, 'fahrrad': 832, 'fahrt': 833, 'fair': 834, 'faktum': 835, 'fall': 836, 'falle': 837, 'fallen': 838, 'fallengelassen': 839, 'falsch': 840, 'falsche': 841, 'falte': 842, 'familie': 843, 'fan': 844, 'fanatiker': 845, 'fand': 846, 'fang': 847, 'fange': 848, 'fangen': 849, 'fangt': 850, 'fantastisch': 851, 'farbe': 852, 'fass': 853, 'fasse': 854, 'fassen': 855, 'fasst': 856, 'fassung': 857, 'fassungslos': 858, 'fast': 859, 'faste': 860, 'fasten': 861, 'fastet': 862, 'fasziniert': 863, 'faul': 864, 'faust': 865, 'fbi': 866, 'fechte': 867, 'federn': 868, 'feg': 869, 'feger': 870, 'fehlen': 871, 'fehler': 872, 'fehlst': 873, 'fehlt': 874, 'feier': 875, 'feiertage': 876, 'feigling': 877, 'feind': 878, 'feinde': 879, 'ferien': 880, 'fern': 881, 'fernsehen': 882, 'fernseher': 883, 'fertig': 884, 'fest': 885, 'fett': 886, 'fettleibig': 887, 'feuchtes': 888, 'feuer': 889, 'feuern': 890, 'feuerwehrmann': 891, 'fieber': 892, 'fiel': 893, 'fielen': 894, 'fies': 895, 'filme': 896, 'filmen': 897, 'finde': 898, 'finden': 899, 'findet': 900, 'fing': 901, 'finster': 902, 'fisch': 903, 'fische': 904, 'fischen': 905, 'fix': 906, 'flau': 907, 'fledermaus': 908, 'fleisch': 909, 'fleischhauer': 910, 'fliege': 911, 'fliegen': 912, 'fliegende': 913, 'flink': 914, 'fluch': 915, 'fluche': 916, 'fluchen': 917, 'fluchte': 918, 'flugzeug': 919, 'flüchtete': 920, 'flüsterte': 921, 'folge': 922, 'folgen': 923, 'folgt': 924, 'folgte': 925, 'form': 926, 'fort': 927, 'fortfahren': 928, 'fortgehen': 929, 'fortgeschickt': 930, 'frag': 931, 'frage': 932, 'fragen': 933, 'fragst': 934, 'fragt': 935, 'fragte': 936, 'französisch': 937, 'französische': 938, 'französischunterricht': 939, 'frau': 940, 'frauen': 941, 'frechheit': 942, 'frei': 943, 'freier': 944, 'freigeschaltet': 945, 'freiwillig': 946, 'fressen': 947, 'freude': 948, 'freund': 949, 'freunde': 950, 'freundinnen': 951, 'freundlich': 952, 'freute': 953, 'frieden': 954, 'friere': 955, 'friert': 956, 'froh': 957, 'frohe': 958, 'frohes': 959, 'fror': 960, 'frostig': 961, 'frucht': 962, 'fröhliche': 963, 'früh': 964, 'frühaufsteher': 965, 'frühling': 966, 'frühzeitig': 967, 'fuchs': 968, 'fuchsteufelswild': 969, 'fuhr': 970, 'fuhren': 971, 'funktionieren': 972, 'funktioniert': 973, 'furchtbar': 974, 'futon': 975, 'fuß': 976, 'fußball': 977, 'fußboden': 978, 'fährst': 979, 'fährt': 980, 'fällt': 981, 'fälschung': 982, 'fängst': 983, 'fängt': 984, 'färbe': 985, 'füge': 986, 'fügte': 987, 'fühl': 988, 'fühle': 989, 'fühlt': 990, 'fühlte': 991, 'führe': 992, 'führen': 993, 'führt': 994, 'füller': 995, 'fünf': 996, 'fünfundvierzig': 997, 'fünfzig': 998, 'für': 999, 'fürchte': 1000, 'fürchten': 1001, 'fürchterlich': 1002, 'fürchtet': 1003, 'fürs': 1004, 'füttere': 1005, 'füttert': 1006, 'füße': 1007, 'füßen': 1008, 'gab': 1009, 'gaben': 1010, 'gang': 1011, 'ganz': 1012, 'gar': 1013, 'garantiere': 1014, 'gas': 1015, 'geahnt': 1016, 'geantwortet': 1017, 'gearbeitet': 1018, 'geb': 1019, 'gebacken': 1020, 'gebaut': 1021, 'gebe': 1022, 'gebeichtet': 1023, 'geben': 1024, 'gebeten': 1025, 'gebetet': 1026, 'gebissen': 1027, 'geblieben': 1028, 'geblinzelt': 1029, 'gebracht': 1030, 'gebrauch': 1031, 'gebrauchen': 1032, 'gebrechlich': 1033, 'gebrochen': 1034, 'gebt': 1035, 'geburtstag': 1036, 'gebühr': 1037, 'gedacht': 1038, 'gedanken': 1039, 'gedauert': 1040, 'gedichte': 1041, 'geduldig': 1042, 'geduscht': 1043, 'gedächtnis': 1044, 'gedächtnisverlust': 1045, 'geeignet': 1046, 'gefahr': 1047, 'gefahren': 1048, 'gefallen': 1049, 'gefangen': 1050, 'gefangene': 1051, 'gefangener': 1052, 'gefehlt': 1053, 'gefeuert': 1054, 'gefiel': 1055, 'gefiele': 1056, 'geflucht': 1057, 'geflüchtet': 1058, 'geflüstert': 1059, 'gefolgt': 1060, 'gefoltert': 1061, 'gefragt': 1062, 'gefressen': 1063, 'gefroren': 1064, 'gefunden': 1065, 'gefährlich': 1066, 'gefällst': 1067, 'gefällt': 1068, 'gefälscht': 1069, 'gefängnis': 1070, 'gefügt': 1071, 'gefüttert': 1072, 'gegangen': 1073, 'gegeben': 1074, 'gegen': 1075, 'gegessen': 1076, 'geglaubt': 1077, 'gegraben': 1078, 'gegähnt': 1079, 'geh': 1080, 'gehabt': 1081, 'gehalten': 1082, 'gehaltserhöhung': 1083, 'gehasst': 1084, 'gehauen': 1085, 'gehe': 1086, 'geheilt': 1087, 'geheim': 1088, 'geheimnis': 1089, 'geheiratet': 1090, 'gehen': 1091, 'geheult': 1092, 'geholfen': 1093, 'gehorch': 1094, 'gehorchen': 1095, 'gehorcht': 1096, 'gehorchte': 1097, 'gehst': 1098, 'geht': 1099, 'gehts': 1100, 'gehustet': 1101, 'gehänselt': 1102, 'gehöre': 1103, 'gehören': 1104, 'gehörlos': 1105, 'gehörst': 1106, 'gehört': 1107, 'geige': 1108, 'geil': 1109, 'geirrt': 1110, 'geister': 1111, 'geizig': 1112, 'gejubelt': 1113, 'gekauft': 1114, 'geklappt': 1115, 'geklatscht': 1116, 'geknuddelt': 1117, 'gekocht': 1118, 'gekommen': 1119, 'gekotzt': 1120, 'gekündigt': 1121, 'geküsst': 1122, 'gelacht': 1123, 'gelandet': 1124, 'gelangweilt': 1125, 'gelassen': 1126, 'gelaufen': 1127, 'gelb': 1128, 'geld': 1129, 'gelegen': 1130, 'gelenke': 1131, 'gelesen': 1132, 'geliebt': 1133, 'gelogen': 1134, 'gelächelt': 1135, 'gelähmt': 1136, 'gelöst': 1137, 'gemacht': 1138, 'gemein': 1139, 'gemeint': 1140, 'gemeldet': 1141, 'gen': 1142, 'genau': 1143, 'genauer': 1144, 'genie': 1145, 'genießen': 1146, 'genommen': 1147, 'genug': 1148, 'gerade': 1149, 'gerannt': 1150, 'geraten': 1151, 'gerecht': 1152, 'gerettet': 1153, 'geriet': 1154, 'gern': 1155, 'gerne': 1156, 'gerufen': 1157, 'gerührt': 1158, 'gesagt': 1159, 'geschafft': 1160, 'geschehen': 1161, 'gescheitert': 1162, 'geschenk': 1163, 'geschenke': 1164, 'geschickt': 1165, 'geschieden': 1166, 'geschlafen': 1167, 'geschlagen': 1168, 'geschlossen': 1169, 'geschneit': 1170, 'geschossen': 1171, 'geschrieben': 1172, 'geschrien': 1173, 'geschummelt': 1174, 'geschwitzt': 1175, 'geschwommen': 1176, 'gesehen': 1177, 'gesetz': 1178, 'gesicht': 1179, 'gesorgt': 1180, 'gesprochen': 1181, 'gesprungen': 1182, 'gespuckt': 1183, 'gestorben': 1184, 'gesund': 1185, 'gesundheit': 1186, 'gesungen': 1187, 'getan': 1188, 'getrennt': 1189, 'getroffen': 1190, 'getrunken': 1191, 'gewachsen': 1192, 'gewappnet': 1193, 'gewarnt': 1194, 'gewartet': 1195, 'gewehr': 1196, 'geweint': 1197, 'gewesen': 1198, 'gewinne': 1199, 'gewinnen': 1200, 'gewitzt': 1201, 'gewonnen': 1202, 'geworden': 1203, 'gewusst': 1204, 'gewählt': 1205, 'geöffnet': 1206, 'gib': 1207, 'gibt': 1208, 'gibts': 1209, 'gierig': 1210, 'ging': 1211, 'gingen': 1212, 'glatze': 1213, 'glaube': 1214, 'gleich': 1215, 'glück': 1216, 'glücklich': 1217, 'gnadenlos': 1218, 'gnädig': 1219, 'gold': 1220, 'gott': 1221, 'grausam': 1222, 'grippe': 1223, 'groß': 1224, 'großartig': 1225, 'große': 1226, 'großer': 1227, 'grund': 1228, 'gruselig': 1229, 'grün': 1230, 'gründlich': 1231, 'guck': 1232, 'gucken': 1233, 'gut': 1234, 'gute': 1235, 'guten': 1236, 'guter': 1237, 'gähnte': 1238, 'haar': 1239, 'haare': 1240, 'hab': 1241, 'habe': 1242, 'haben': 1243, 'habt': 1244, 'half': 1245, 'halfen': 1246, 'hallo': 1247, 'halt': 1248, 'halte': 1249, 'halten': 1250, 'haltet': 1251, 'hand': 1252, 'handschellen': 1253, 'handtuch': 1254, 'hart': 1255, 'hase': 1256, 'hasse': 1257, 'hassen': 1258, 'hasst': 1259, 'hasste': 1260, 'hast': 1261, 'hat': 1262, 'hatte': 1263, 'hatten': 1264, 'hau': 1265, 'haus': 1266, 'hause': 1267, 'heiliger': 1268, 'heim': 1269, 'heiß': 1270, 'heiße': 1271, 'heißer': 1272, 'held': 1273, 'heldenhaft': 1274, 'helfe': 1275, 'helfen': 1276, 'helft': 1277, 'hellwach': 1278, 'her': 1279, 'herauf': 1280, 'heraus': 1281, 'herbst': 1282, 'herein': 1283, 'herum': 1284, 'herunter': 1285, 'hervorragend': 1286, 'herz': 1287, 'heuchler': 1288, 'heult': 1289, 'heute': 1290, 'hey': 1291, 'hielt': 1292, 'hier': 1293, 'hierher': 1294, 'hilf': 1295, 'hilfe': 1296, 'hilft': 1297, 'hin': 1298, 'hinein': 1299, 'hineingehen': 1300, 'hingefahren': 1301, 'hingefallen': 1302, 'hingegangen': 1303, 'hingehen': 1304, 'hinlegen': 1305, 'hinten': 1306, 'hinter': 1307, 'hinunter': 1308, 'hoch': 1309, 'hoffe': 1310, 'hoffnung': 1311, 'hol': 1312, 'hole': 1313, 'holen': 1314, 'holz': 1315, 'hosenträger': 1316, 'hund': 1317, 'hunde': 1318, 'hunger': 1319, 'hungrig': 1320, 'huste': 1321, 'hustete': 1322, 'hut': 1323, 'hälfte': 1324, 'hälften': 1325, 'hände': 1326, 'hängt': 1327, 'hässlich': 1328, 'hätte': 1329, 'höflich': 1330, 'höher': 1331, 'hör': 1332, 'höre': 1333, 'hören': 1334, 'hörst': 1335, 'hört': 1336, 'hörte': 1337, 'hübsch': 1338, 'ich': 1339, 'idee': 1340, 'idiot': 1341, 'idioten': 1342, 'ignorier': 1343, 'ihm': 1344, 'ihn': 1345, 'ihnen': 1346, 'ihr': 1347, 'ihre': 1348, 'ihrer': 1349, 'ihres': 1350, 'im': 1351, 'immer': 1352, 'in': 1353, 'ins': 1354, 'insekten': 1355, 'interessiert': 1356, 'irgendjemand': 1357, 'irgendwen': 1358, 'irgendwer': 1359, 'irre': 1360, 'irren': 1361, 'irrst': 1362, 'irrt': 1363, 'iss': 1364, 'isst': 1365, 'ist': 1366, 'ja': 1367, 'jahr': 1368, 'jahre': 1369, 'jammern': 1370, 'japaner': 1371, 'jeden': 1372, 'jeder': 1373, 'jemand': 1374, 'jemanden': 1375, 'jetzt': 1376, 'job': 1377, 'joggen': 1378, 'jung': 1379, 'junge': 1380, 'jungen': 1381, 'jungs': 1382, 'juristen': 1383, 'kaffee': 1384, 'kalt': 1385, 'kam': 1386, 'kamen': 1387, 'kanadier': 1388, 'kanadierin': 1389, 'kann': 1390, 'kannst': 1391, 'kannte': 1392, 'kannten': 1393, 'kapiert': 1394, 'kaputt': 1395, 'karte': 1396, 'kasse': 1397, 'katze': 1398, 'katzen': 1399, 'kauf': 1400, 'kaufe': 1401, 'kaufen': 1402, 'kein': 1403, 'keine': 1404, 'keinen': 1405, 'keiner': 1406, 'kekse': 1407, 'kenne': 1408, 'kennen': 1409, 'kennst': 1410, 'kennt': 1411, 'kicherte': 1412, 'kiefer': 1413, 'kind': 1414, 'kinder': 1415, 'klappt': 1416, 'klar': 1417, 'klarkommen': 1418, 'klatschen': 1419, 'klatschte': 1420, 'klavier': 1421, 'klein': 1422, 'klingt': 1423, 'klug': 1424, 'knapp': 1425, 'kniete': 1426, 'knoblauch': 1427, 'koch': 1428, 'koche': 1429, 'kochen': 1430, 'kocht': 1431, 'komisch': 1432, 'komm': 1433, 'kommando': 1434, 'komme': 1435, 'kommen': 1436, 'kommst': 1437, 'kommt': 1438, 'konnte': 1439, 'kontrolle': 1440, 'kontrollier': 1441, 'kontrollieren': 1442, 'kontrolliert': 1443, 'konzentrieren': 1444, 'kopf': 1445, 'kopfschmerzen': 1446, 'kopfweh': 1447, 'kopie': 1448, 'koreanisch': 1449, 'kostenlos': 1450, 'kostet': 1451, 'krank': 1452, 'krankenschwester': 1453, 'kreativ': 1454, 'krebs': 1455, 'kreischte': 1456, 'krieg': 1457, 'kuchen': 1458, 'kuh': 1459, 'kuli': 1460, 'kunst': 1461, 'kurz': 1462, 'kuss': 1463, 'käfig': 1464, 'kämpfen': 1465, 'kämpfte': 1466, 'kätzchen': 1467, 'können': 1468, 'könnt': 1469, 'könnte': 1470, 'kühe': 1471, 'kümmere': 1472, 'kümmern': 1473, 'kümmert': 1474, 'künstler': 1475, 'küssen': 1476, 'küsst': 1477, 'lach': 1478, 'lachen': 1479, 'lachs': 1480, 'lachte': 1481, 'lachten': 1482, 'lag': 1483, 'lage': 1484, 'landkarte': 1485, 'lang': 1486, 'lange': 1487, 'langsam': 1488, 'langsamer': 1489, 'langweile': 1490, 'langweilig': 1491, 'las': 1492, 'lass': 1493, 'lasse': 1494, 'lassen': 1495, 'lasst': 1496, 'lauf': 1497, 'laufe': 1498, 'laufen': 1499, 'laufenden': 1500, 'laufpass': 1501, 'laune': 1502, 'launisch': 1503, 'laut': 1504, 'lauter': 1505, 'lebe': 1506, 'leben': 1507, 'lebt': 1508, 'lecker': 1509, 'ledig': 1510, 'leer': 1511, 'leg': 1512, 'legal': 1513, 'legen': 1514, 'legt': 1515, 'legte': 1516, 'lehrer': 1517, 'lehrerin': 1518, 'leicht': 1519, 'leichtgläubig': 1520, 'leid': 1521, 'leiden': 1522, 'leidet': 1523, 'leine': 1524, 'leise': 1525, 'leitung': 1526, 'lenkte': 1527, 'lern': 1528, 'lerne': 1529, 'lernen': 1530, 'lernt': 1531, 'lese': 1532, 'lesen': 1533, 'letzte': 1534, 'letzter': 1535, 'liebe': 1536, 'lieben': 1537, 'liebenswürdig': 1538, 'lieber': 1539, 'liebt': 1540, 'liebte': 1541, 'lied': 1542, 'lief': 1543, 'liege': 1544, 'liegen': 1545, 'liegst': 1546, 'liegt': 1547, 'lies': 1548, 'liest': 1549, 'ließ': 1550, 'lippen': 1551, 'liste': 1552, 'loch': 1553, 'locker': 1554, 'log': 1555, 'los': 1556, 'losgehen': 1557, 'loslegen': 1558, 'luft': 1559, 'lungen': 1560, 'lustig': 1561, 'lächeln': 1562, 'lächelt': 1563, 'lächelte': 1564, 'lächelten': 1565, 'länger': 1566, 'läufer': 1567, 'läuft': 1568, 'lüge': 1569, 'lügen': 1570, 'lügner': 1571, 'lügst': 1572, 'lügt': 1573, 'mach': 1574, 'mache': 1575, 'machen': 1576, 'machst': 1577, 'macht': 1578, 'machte': 1579, 'mag': 1580, 'mager': 1581, 'magst': 1582, 'mal': 1583, 'mama': 1584, 'man': 1585, 'mann': 1586, 'mantel': 1587, 'maria': 1588, 'marmelade': 1589, 'mary': 1590, 'mathe': 1591, 'mathematik': 1592, 'maul': 1593, 'maus': 1594, 'meditiere': 1595, 'mehr': 1596, 'meidet': 1597, 'mein': 1598, 'meine': 1599, 'meinem': 1600, 'meinen': 1601, 'meines': 1602, 'meins': 1603, 'meinst': 1604, 'meinte': 1605, 'meinung': 1606, 'meldete': 1607, 'menge': 1608, 'mensch': 1609, 'menschen': 1610, 'menschlich': 1611, 'merk': 1612, 'merken': 1613, 'merkt': 1614, 'merkwürdig': 1615, 'messer': 1616, 'mich': 1617, 'mies': 1618, 'miesepeter': 1619, 'milch': 1620, 'minute': 1621, 'mir': 1622, 'miserabel': 1623, 'mist': 1624, 'mit': 1625, 'mitbringen': 1626, 'miteinander': 1627, 'mitfahren': 1628, 'mitgebracht': 1629, 'mitmachen': 1630, 'mitnehmen': 1631, 'mittag': 1632, 'mittagessen': 1633, 'mitten': 1634, 'mitternacht': 1635, 'mittwoch': 1636, 'mochte': 1637, 'mochten': 1638, 'modeerscheinung': 1639, 'mogeln': 1640, 'mogelt': 1641, 'mollig': 1642, 'moment': 1643, 'montag': 1644, 'montage': 1645, 'morgen': 1646, 'moslem': 1647, 'motiviert': 1648, 'motor': 1649, 'motzte': 1650, 'mumm': 1651, 'mund': 1652, 'murrte': 1653, 'musik': 1654, 'musiker': 1655, 'musikerin': 1656, 'muss': 1657, 'musst': 1658, 'musste': 1659, 'mut': 1660, 'mutig': 1661, 'mutter': 1662, 'mythos': 1663, 'mächtig': 1664, 'mädchen': 1665, 'mädels': 1666, 'mäh': 1667, 'männer': 1668, 'mäuse': 1669, 'möchte': 1670, 'möge': 1671, 'mögen': 1672, 'möglich': 1673, 'mönch': 1674, 'müde': 1675, 'mühe': 1676, 'münze': 1677, 'müssen': 1678, 'na': 1679, 'nach': 1680, 'nachdenken': 1681, 'nachlassen': 1682, 'nacht': 1683, 'nackt': 1684, 'nagelneu': 1685, 'nahe': 1686, 'nahm': 1687, 'nahrung': 1688, 'naiv': 1689, 'nase': 1690, 'nass': 1691, 'ne': 1692, 'nebel': 1693, 'neblig': 1694, 'nehme': 1695, 'nehmen': 1696, 'nehmt': 1697, 'nein': 1698, 'nerv': 1699, 'nerven': 1700, 'nervös': 1701, 'nett': 1702, 'neu': 1703, 'neues': 1704, 'neugierig': 1705, 'nicht': 1706, 'nichts': 1707, 'nickerchen': 1708, 'nickte': 1709, 'nie': 1710, 'nieder': 1711, 'niedergeschlagen': 1712, 'niemand': 1713, 'niemandem': 1714, 'niemanden': 1715, 'niese': 1716, 'nietenhose': 1717, 'nimm': 1718, 'noch': 1719, 'nochmal': 1720, 'nochmals': 1721, 'norden': 1722, 'normal': 1723, 'notizen': 1724, 'nummer': 1725, 'nun': 1726, 'nur': 1727, 'nutze': 1728, 'nutzlos': 1729, 'nächste': 1730, 'nächster': 1731, 'nächstes': 1732, 'nähe': 1733, 'näher': 1734, 'nötig': 1735, 'nüchtern': 1736, 'nützlich': 1737, 'ob': 1738, 'obdachlos': 1739, 'oben': 1740, 'objektiv': 1741, 'obst': 1742, 'oder': 1743, 'ofen': 1744, 'oft': 1745, 'oh': 1746, 'ohne': 1747, 'ohnmächtig': 1748, 'ohr': 1749, 'ohren': 1750, 'ok': 1751, 'okay': 1752, 'optimist': 1753, 'ordentlich': 1754, 'ordnung': 1755, 'osten': 1756, 'ostern': 1757, 'paar': 1758, 'pack': 1759, 'panik': 1760, 'papier': 1761, 'partys': 1762, 'pass': 1763, 'passiert': 1764, 'passt': 1765, 'pause': 1766, 'pech': 1767, 'perfekt': 1768, 'pfeife': 1769, 'pferd': 1770, 'pferde': 1771, 'pfiff': 1772, 'pflanzen': 1773, 'pflicht': 1774, 'pingelig': 1775, 'pizza': 1776, 'plan': 1777, 'pleite': 1778, 'pläne': 1779, 'poet': 1780, 'polizei': 1781, 'post': 1782, 'probier': 1783, 'probieren': 1784, 'probiert': 1785, 'problem': 1786, 'pummelig': 1787, 'purist': 1788, 'pünktlich': 1789, 'radio': 1790, 'ran': 1791, 'rannte': 1792, 'rasiert': 1793, 'rasierte': 1794, 'rastete': 1795, 'rate': 1796, 'raten': 1797, 'ratet': 1798, 'rauchen': 1799, 'raucht': 1800, 'raufen': 1801, 'raus': 1802, 'rausgegangen': 1803, 'real': 1804, 'rechnung': 1805, 'recht': 1806, 'rechts': 1807, 'rechtsanwalt': 1808, 'rede': 1809, 'reden': 1810, 'regen': 1811, 'regnen': 1812, 'regnet': 1813, 'reich': 1814, 'reicht': 1815, 'reihe': 1816, 'reihen': 1817, 'rein': 1818, 'reingehen': 1819, 'reinkommen': 1820, 'reis': 1821, 'reise': 1822, 'reisen': 1823, 'reizend': 1824, 'rennen': 1825, 'rennt': 1826, 'repariere': 1827, 'reparieren': 1828, 'repariert': 1829, 'rette': 1830, 'retten': 1831, 'richtig': 1832, 'richtung': 1833, 'rieche': 1834, 'riecht': 1835, 'rief': 1836, 'rindfleisch': 1837, 'risiko': 1838, 'rock': 1839, 'rollschuh': 1840, 'rot': 1841, 'rotschopf': 1842, 'ruf': 1843, 'rufe': 1844, 'rufen': 1845, 'ruft': 1846, 'ruhe': 1847, 'ruhestand': 1848, 'ruhig': 1849, 'ruiniert': 1850, 'runter': 1851, 'runzelte': 1852, 'rutsch': 1853, 'rutschte': 1854, 'rücken': 1855, 'rühr': 1856, 'rülpste': 1857, 'sache': 1858, 'sag': 1859, 'sage': 1860, 'sagen': 1861, 'sagt': 1862, 'sagte': 1863, 'sagten': 1864, 'sagtet': 1865, 'sah': 1866, 'sahen': 1867, 'salami': 1868, 'salat': 1869, 'salz': 1870, 'samstag': 1871, 'samurai': 1872, 'sand': 1873, 'sang': 1874, 'sangen': 1875, 'saschimi': 1876, 'satt': 1877, 'saturn': 1878, 'sauber': 1879, 'sauer': 1880, 'saukalt': 1881, 'sause': 1882, 'saß': 1883, 'saßen': 1884, 'schach': 1885, 'schachtel': 1886, 'schade': 1887, 'schaden': 1888, 'schaffen': 1889, 'schaffst': 1890, 'schafft': 1891, 'schaffte': 1892, 'schallplattenunterhalter': 1893, 'schalte': 1894, 'schande': 1895, 'scharf': 1896, 'scharfsinnig': 1897, 'schau': 1898, 'schaue': 1899, 'schauen': 1900, 'schauspieler': 1901, 'schaust': 1902, 'schaut': 1903, 'schaute': 1904, 'schauten': 1905, 'scheinen': 1906, 'scheinst': 1907, 'scheint': 1908, 'scheitere': 1909, 'scheitern': 1910, 'scher': 1911, 'scherte': 1912, 'scherz': 1913, 'scherze': 1914, 'scherzen': 1915, 'scherzt': 1916, 'schick': 1917, 'schicken': 1918, 'schickt': 1919, 'schiech': 1920, 'schieß': 1921, 'schieße': 1922, 'schießen': 1923, 'schießt': 1924, 'schildkröten': 1925, 'schimpfen': 1926, 'schimpfte': 1927, 'schinden': 1928, 'schinken': 1929, 'schlaf': 1930, 'schlafe': 1931, 'schlafen': 1932, 'schlag': 1933, 'schlaganfall': 1934, 'schlage': 1935, 'schlagen': 1936, 'schlagt': 1937, 'schlank': 1938, 'schlau': 1939, 'schlecht': 1940, 'schlechte': 1941, 'schlechtes': 1942, 'schlicht': 1943, 'schlichtweg': 1944, 'schlief': 1945, 'schliefen': 1946, 'schließ': 1947, 'schließe': 1948, 'schließen': 1949, 'schlimm': 1950, 'schlimmer': 1951, 'schlittschuh': 1952, 'schloss': 1953, 'schluchzte': 1954, 'schluckauf': 1955, 'schlug': 1956, 'schlummert': 1957, 'schluss': 1958, 'schläfrig': 1959, 'schläfst': 1960, 'schläft': 1961, 'schlösser': 1962, 'schlüssel': 1963, 'schmalzkringel': 1964, 'schmeck': 1965, 'schmecken': 1966, 'schmeckt': 1967, 'schmerzen': 1968, 'schmerzt': 1969, 'schmerzten': 1970, 'schmutzig': 1971, 'schnapp': 1972, 'schnappte': 1973, 'schnarche': 1974, 'schnarcht': 1975, 'schnecke': 1976, 'schnee': 1977, 'schneide': 1978, 'schneiden': 1979, 'schneider': 1980, 'schneiderinnen': 1981, 'schneidet': 1982, 'schneit': 1983, 'schneite': 1984, 'schnell': 1985, 'schnelle': 1986, 'schneller': 1987, 'schnitt': 1988, 'schnupfen': 1989, 'schnurren': 1990, 'schnäppchen': 1991, 'schockiert': 1992, 'schon': 1993, 'schoss': 1994, 'schraub': 1995, 'schrecklich': 1996, 'schrei': 1997, 'schreib': 1998, 'schreibe': 1999, 'schreiben': 2000, 'schreibt': 2001, 'schreibtisch': 2002, 'schreie': 2003, 'schreien': 2004, 'schreit': 2005, 'schrie': 2006, 'schrieb': 2007, 'schriftsteller': 2008, 'schroff': 2009, 'schubs': 2010, 'schubsen': 2011, 'schubst': 2012, 'schubste': 2013, 'schuld': 2014, 'schulde': 2015, 'schulden': 2016, 'schuldest': 2017, 'schuldig': 2018, 'schule': 2019, 'schummeln': 2020, 'schummelt': 2021, 'schummelte': 2022, 'schuss': 2023, 'schusswaffe': 2024, 'schwach': 2025, 'schwamm': 2026, 'schwammen': 2027, 'schwanger': 2028, 'schwarz': 2029, 'schweine': 2030, 'schweizer': 2031, 'schwer': 2032, 'schwestern': 2033, 'schwierig': 2034, 'schwierigkeiten': 2035, 'schwimm': 2036, 'schwimmbecken': 2037, 'schwimme': 2038, 'schwimmen': 2039, 'schwimmt': 2040, 'schwindelig': 2041, 'schwindlig': 2042, 'schwirr': 2043, 'schwitzte': 2044, 'schwitzten': 2045, 'schwur': 2046, 'schwächling': 2047, 'schäm': 2048, 'schäme': 2049, 'schämen': 2050, 'schämte': 2051, 'schön': 2052, 'schönen': 2053, 'schüchtern': 2054, 'schüchterner': 2055, 'schüler': 2056, 'schülerin': 2057, 'schüttete': 2058, 'sechs': 2059, 'seekrank': 2060, 'segne': 2061, 'seh': 2062, 'sehe': 2063, 'sehen': 2064, 'sehr': 2065, 'seht': 2066, 'sei': 2067, 'seid': 2068, 'seien': 2069, 'seil': 2070, 'sein': 2071, 'seine': 2072, 'seinen': 2073, 'seins': 2074, 'seite': 2075, 'sekunde': 2076, 'selber': 2077, 'selbst': 2078, 'selbstsüchtig': 2079, 'selbstverständlich': 2080, 'sellerie': 2081, 'selten': 2082, 'seltsam': 2083, 'sers': 2084, 'setz': 2085, 'setze': 2086, 'setzen': 2087, 'setzt': 2088, 'setzte': 2089, 'setzten': 2090, 'seufzte': 2091, 'sexy': 2092, 'sich': 2093, 'sicher': 2094, 'sicherheit': 2095, 'sicherheitsdienst': 2096, 'sie': 2097, 'sieben': 2098, 'siebzehn': 2099, 'siegen': 2100, 'sieger': 2101, 'siegten': 2102, 'sieh': 2103, 'siehe': 2104, 'siehst': 2105, 'sieht': 2106, 'sind': 2107, 'sing': 2108, 'singe': 2109, 'singen': 2110, 'single': 2111, 'singt': 2112, 'sinken': 2113, 'sinn': 2114, 'sinnen': 2115, 'sinnlos': 2116, 'sitz': 2117, 'sitzen': 2118, 'sitzenlassen': 2119, 'skateboard': 2120, 'skaten': 2121, 'skatet': 2122, 'skeptisch': 2123, 'ski': 2124, 'skifahren': 2125, 'sklave': 2126, 'skurril': 2127, 'so': 2128, 'sofort': 2129, 'sogar': 2130, 'sohn': 2131, 'solche': 2132, 'soldat': 2133, 'soldatin': 2134, 'soll': 2135, 'sollen': 2136, 'sollst': 2137, 'sollte': 2138, 'sollten': 2139, 'solltest': 2140, 'solltet': 2141, 'sommer': 2142, 'sonne': 2143, 'sonnenuntergänge': 2144, 'sonntage': 2145, 'sonst': 2146, 'sorge': 2147, 'sorgen': 2148, 'soweit': 2149, 'sparsam': 2150, 'spazieren': 2151, 'spaziergang': 2152, 'spaß': 2153, 'speist': 2154, 'spendete': 2155, 'sperrig': 2156, 'spezifisch': 2157, 'spiegelei': 2158, 'spiel': 2159, 'spiele': 2160, 'spielen': 2161, 'spieler': 2162, 'spielfilme': 2163, 'spinat': 2164, 'spinne': 2165, 'spinnen': 2166, 'spinnst': 2167, 'spion': 2168, 'spione': 2169, 'spionin': 2170, 'sport': 2171, 'sportler': 2172, 'sprach': 2173, 'sprache': 2174, 'spreche': 2175, 'sprechen': 2176, 'sprecht': 2177, 'sprich': 2178, 'spricht': 2179, 'spring': 2180, 'springen': 2181, 'springschnurspringen': 2182, 'spuck': 2183, 'spuckte': 2184, 'sputen': 2185, 'spät': 2186, 'später': 2187, 'spül': 2188, 'spüre': 2189, 'spüren': 2190, 'stadt': 2191, 'stammelte': 2192, 'stand': 2193, 'standen': 2194, 'starb': 2195, 'starben': 2196, 'stark': 2197, 'starr': 2198, 'starren': 2199, 'starrt': 2200, 'statt': 2201, 'stau': 2202, 'stecke': 2203, 'stecken': 2204, 'steckt': 2205, 'steh': 2206, 'stehe': 2207, 'stehen': 2208, 'stehenbleiben': 2209, 'steht': 2210, 'steig': 2211, 'steige': 2212, 'steigen': 2213, 'steigt': 2214, 'stell': 2215, 'stelle': 2216, 'stellen': 2217, 'stellte': 2218, 'sterbe': 2219, 'sterben': 2220, 'sterblich': 2221, 'stern': 2222, 'steuern': 2223, 'stieß': 2224, 'still': 2225, 'stillgestanden': 2226, 'stimme': 2227, 'stimmen': 2228, 'stimmt': 2229, 'stimmte': 2230, 'stimmten': 2231, 'stinken': 2232, 'stinkig': 2233, 'stinkreich': 2234, 'stinkst': 2235, 'stinkt': 2236, 'stirb': 2237, 'stirbst': 2238, 'stirbt': 2239, 'stirn': 2240, 'stockbesoffen': 2241, 'stockbetrunken': 2242, 'stocken': 2243, 'stoisch': 2244, 'stolperte': 2245, 'stopp': 2246, 'stoppen': 2247, 'stoppte': 2248, 'stottert': 2249, 'stoßzeit': 2250, 'strafgefangene': 2251, 'strafgefangener': 2252, 'streitet': 2253, 'streng': 2254, 'strengen': 2255, 'strengt': 2256, 'strickt': 2257, 'stritt': 2258, 'student': 2259, 'studentin': 2260, 'studiere': 2261, 'studieren': 2262, 'studiert': 2263, 'stuhl': 2264, 'stumm': 2265, 'stuntman': 2266, 'stur': 2267, 'stärker': 2268, 'stöhnte': 2269, 'stört': 2270, 'stück': 2271, 'stürmte': 2272, 'stürzte': 2273, 'stürzten': 2274, 'such': 2275, 'suche': 2276, 'suchen': 2277, 'sucht': 2278, 'summe': 2279, 'summen': 2280, 'summt': 2281, 'super': 2282, 'suppe': 2283, 'sushi': 2284, 'säge': 2285, 'sänger': 2286, 'sängerin': 2287, 'söhne': 2288, 'süchtig': 2289, 'süchtiger': 2290, 'süß': 2291, 'süße': 2292, 'süßes': 2293, 'süßigkeiten': 2294, 'tag': 2295, 'tagebuch': 2296, 'talent': 2297, 'tango': 2298, 'tante': 2299, 'tanz': 2300, 'tanze': 2301, 'tanzen': 2302, 'tanzt': 2303, 'tanzte': 2304, 'tanzten': 2305, 'tapfer': 2306, 'tasche': 2307, 'tasse': 2308, 'tat': 2309, 'taten': 2310, 'tatsache': 2311, 'tatsachen': 2312, 'tatsächlich': 2313, 'tatverdächtiger': 2314, 'taub': 2315, 'tauchte': 2316, 'tausche': 2317, 'tauschen': 2318, 'tauscht': 2319, 'taxi': 2320, 'team': 2321, 'tee': 2322, 'teenager': 2323, 'teilchen': 2324, 'teile': 2325, 'teilen': 2326, 'telefoniert': 2327, 'telefonierte': 2328, 'teller': 2329, 'tennis': 2330, 'tests': 2331, 'thomas': 2332, 'tief': 2333, 'tier': 2334, 'tiere': 2335, 'tiger': 2336, 'timing': 2337, 'tisch': 2338, 'tod': 2339, 'todmüde': 2340, 'tolerant': 2341, 'toll': 2342, 'tollpatsch': 2343, 'tom': 2344, 'tomaten': 2345, 'toms': 2346, 'topf': 2347, 'tor': 2348, 'tot': 2349, 'tourist': 2350, 'trab': 2351, 'traf': 2352, 'trafen': 2353, 'trag': 2354, 'trage': 2355, 'tragen': 2356, 'tragisch': 2357, 'trainer': 2358, 'trainiert': 2359, 'trank': 2360, 'trat': 2361, 'tratsche': 2362, 'traue': 2363, 'trauen': 2364, 'traum': 2365, 'traurig': 2366, 'treffen': 2367, 'treibe': 2368, 'treppe': 2369, 'tresor': 2370, 'trete': 2371, 'treten': 2372, 'tretet': 2373, 'treu': 2374, 'treuherzig': 2375, 'trifft': 2376, 'trink': 2377, 'trinke': 2378, 'trinken': 2379, 'trinkst': 2380, 'trinkt': 2381, 'tritt': 2382, 'trocken': 2383, 'trockne': 2384, 'trocknen': 2385, 'troll': 2386, 'trotzdem': 2387, 'trug': 2388, 'träge': 2389, 'trägt': 2390, 'tränen': 2391, 'träum': 2392, 'träume': 2393, 'träumen': 2394, 'tröste': 2395, 'trösten': 2396, 'tröstet': 2397, 'tschüss': 2398, 'tu': 2399, 'tue': 2400, 'tulpen': 2401, 'tun': 2402, 'tust': 2403, 'tut': 2404, 'twitter': 2405, 'typ': 2406, 'tänzer': 2407, 'tänzerin': 2408, 'töricht': 2409, 'töte': 2410, 'töten': 2411, 'tötet': 2412, 'tür': 2413, 'türe': 2414, 'türen': 2415, 'ufo': 2416, 'uhr': 2417, 'uhren': 2418, 'um': 2419, 'umarme': 2420, 'umarmen': 2421, 'umarmt': 2422, 'umarmte': 2423, 'umarmten': 2424, 'umarmung': 2425, 'umbringen': 2426, 'umgezogen': 2427, 'umsonst': 2428, 'umziehen': 2429, 'unbewaffnet': 2430, 'und': 2431, 'undicht': 2432, 'unfair': 2433, 'unfreundlich': 2434, 'ungeduldig': 2435, 'ungerecht': 2436, 'ungewöhnlich': 2437, 'ungezogen': 2438, 'unglaublich': 2439, 'unglücklich': 2440, 'unhandlich': 2441, 'unheimlich': 2442, 'unhöflich': 2443, 'universität': 2444, 'unleidlich': 2445, 'unmenschlich': 2446, 'unmoralisch': 2447, 'unmöglich': 2448, 'unordentlich': 2449, 'unrecht': 2450, 'uns': 2451, 'unschuldig': 2452, 'unser': 2453, 'unsere': 2454, 'unseren': 2455, 'unserer': 2456, 'unseres': 2457, 'unsers': 2458, 'unsinn': 2459, 'unsre': 2460, 'unsrer': 2461, 'unsres': 2462, 'untalentiert': 2463, 'unten': 2464, 'unter': 2465, 'unterbrechen': 2466, 'untergehen': 2467, 'untergliedere': 2468, 'unterhalte': 2469, 'unterhalten': 2470, 'unterrichte': 2471, 'unterrichten': 2472, 'unterrichtest': 2473, 'unterrichtet': 2474, 'unterschreib': 2475, 'unterschreibe': 2476, 'unterschreiben': 2477, 'unterschrieben': 2478, 'unterstütze': 2479, 'unterstützen': 2480, 'unterstützt': 2481, 'unterstützung': 2482, 'untersuch': 2483, 'untersuchen': 2484, 'untertasse': 2485, 'unterwegs': 2486, 'untröstlich': 2487, 'unverletzt': 2488, 'unverschämt': 2489, 'unversichert': 2490, 'unwahrscheinlich': 2491, 'unwohl': 2492, 'unzuverlässig': 2493, 'up': 2494, 'urlaub': 2495, 'vage': 2496, 'vater': 2497, 'vati': 2498, 'veganer': 2499, 'ventilator': 2500, 'verabredung': 2501, 'verabscheute': 2502, 'verabschiede': 2503, 'verabschiedet': 2504, 'verabschiedete': 2505, 'verachte': 2506, 'verachtet': 2507, 'veraltet': 2508, 'veranlagt': 2509, 'veranlasst': 2510, 'verantwortlich': 2511, 'verbessert': 2512, 'verbindung': 2513, 'verblüfft': 2514, 'verboten': 2515, 'verbrannt': 2516, 'verbrannte': 2517, 'verbrenne': 2518, 'verbrennen': 2519, 'verbrennt': 2520, 'verdiene': 2521, 'verdient': 2522, 'verdorben': 2523, 'verdufte': 2524, 'verehre': 2525, 'verehrte': 2526, 'verfallen': 2527, 'vergaß': 2528, 'vergeben': 2529, 'vergebt': 2530, 'vergeht': 2531, 'vergessen': 2532, 'vergesst': 2533, 'vergib': 2534, 'vergiftet': 2535, 'vergingen': 2536, 'vergiss': 2537, 'vergnügen': 2538, 'vergrabe': 2539, 'verhasst': 2540, 'verheiratet': 2541, 'verhindern': 2542, 'verhungern': 2543, 'verirrt': 2544, 'verirrte': 2545, 'verkatert': 2546, 'verkauf': 2547, 'verkaufe': 2548, 'verkaufen': 2549, 'verkauft': 2550, 'verklagen': 2551, 'verklagt': 2552, 'verkrümele': 2553, 'verkäufer': 2554, 'verlass': 2555, 'verlasse': 2556, 'verlassen': 2557, 'verlaufen': 2558, 'verletzt': 2559, 'verliebt': 2560, 'verliere': 2561, 'verlieren': 2562, 'verlierst': 2563, 'verliert': 2564, 'verließ': 2565, 'verlobt': 2566, 'verlor': 2567, 'verloren': 2568, 'verlust': 2569, 'vermisse': 2570, 'vermissen': 2571, 'vermisst': 2572, 'vermutet': 2573, 'verneigte': 2574, 'vernommen': 2575, 'vernünftig': 2576, 'verpennt': 2577, 'verpiss': 2578, 'verraten': 2579, 'verregneter': 2580, 'verriegle': 2581, 'verriet': 2582, 'verrucht': 2583, 'verrückt': 2584, 'versage': 2585, 'versagen': 2586, 'versagt': 2587, 'versagte': 2588, 'verschieden': 2589, 'verschlafen': 2590, 'verschuldet': 2591, 'verschwand': 2592, 'verschwanden': 2593, 'verschwinde': 2594, 'verschwinden': 2595, 'verschwindet': 2596, 'verschwitzt': 2597, 'verschwunden': 2598, 'versichert': 2599, 'versprach': 2600, 'versprech': 2601, 'verspreche': 2602, 'versprechen': 2603, 'versprochen': 2604, 'verspäte': 2605, 'verspäten': 2606, 'verspätet': 2607, 'verspätete': 2608, 'verstand': 2609, 'verstanden': 2610, 'versteck': 2611, 'verstecke': 2612, 'verstecken': 2613, 'versteckt': 2614, 'versteckte': 2615, 'verstehe': 2616, 'verstehen': 2617, 'verstehst': 2618, 'versteht': 2619, 'verstärkung': 2620, 'versuch': 2621, 'versuche': 2622, 'versuchen': 2623, 'versucht': 2624, 'versuchte': 2625, 'versuchten': 2626, 'versuchung': 2627, 'vertrau': 2628, 'vertraue': 2629, 'vertrauen': 2630, 'vertraut': 2631, 'vertraute': 2632, 'vertreter': 2633, 'verträumt': 2634, 'verunsichert': 2635, 'verurteil': 2636, 'verurteilen': 2637, 'verurteilt': 2638, 'verwandt': 2639, 'verwende': 2640, 'verwenden': 2641, 'verwendung': 2642, 'verwirrt': 2643, 'verwirrte': 2644, 'verwundet': 2645, 'verzeihen': 2646, 'verzeihung': 2647, 'verzieh': 2648, 'verziehe': 2649, 'verziehen': 2650, 'verzieht': 2651, 'verzisch': 2652, 'verzog': 2653, 'verändern': 2654, 'verändert': 2655, 'veränderte': 2656, 'verärgert': 2657, 'veteran': 2658, 'vieh': 2659, 'viel': 2660, 'viele': 2661, 'vielen': 2662, 'vielleicht': 2663, 'vier': 2664, 'viertel': 2665, 'violine': 2666, 'visum': 2667, 'vogel': 2668, 'voll': 2669, 'volltanken': 2670, 'vom': 2671, 'von': 2672, 'vor': 2673, 'voran': 2674, 'vorangehen': 2675, 'voraus': 2676, 'vorausschauend': 2677, 'vorbei': 2678, 'vorbeigekommen': 2679, 'vorbeikommen': 2680, 'voreingenommen': 2681, 'vorführung': 2682, 'vorgemacht': 2683, 'vorgeschlagen': 2684, 'vorgesetzter': 2685, 'vorne': 2686, 'vorsicht': 2687, 'vorsichtig': 2688, 'vorurteile': 2689, 'vorzeitig': 2690, 'vorübergehende': 2691, 'vögel': 2692, 'vögeln': 2693, 'völlig': 2694, 'wach': 2695, 'wachen': 2696, 'wachsam': 2697, 'wachsen': 2698, 'wachte': 2699, 'waffe': 2700, 'wagen': 2701, 'wahnsinn': 2702, 'wahnsinnig': 2703, 'wahr': 2704, 'wahrhaben': 2705, 'wahrheit': 2706, 'waisenkind': 2707, 'walten': 2708, 'wandern': 2709, 'wankte': 2710, 'wann': 2711, 'war': 2712, 'waren': 2713, 'warm': 2714, 'warmherzig': 2715, 'warne': 2716, 'warnen': 2717, 'warst': 2718, 'wart': 2719, 'warte': 2720, 'warten': 2721, 'wartest': 2722, 'wartet': 2723, 'wartete': 2724, 'warteten': 2725, 'warum': 2726, 'was': 2727, 'wasch': 2728, 'wasche': 2729, 'wasser': 2730, 'weck': 2731, 'wecke': 2732, 'weckte': 2733, 'weg': 2734, 'wegen': 2735, 'weggegangen': 2736, 'weggehen': 2737, 'weggelaufen': 2738, 'weh': 2739, 'wehgetan': 2740, 'wehren': 2741, 'wehtun': 2742, 'weichei': 2743, 'weigere': 2744, 'weigern': 2745, 'weigerten': 2746, 'weihnachten': 2747, 'weilchen': 2748, 'weile': 2749, 'wein': 2750, 'weine': 2751, 'weinen': 2752, 'weint': 2753, 'weinte': 2754, 'weise': 2755, 'weit': 2756, 'weiter': 2757, 'weitermachen': 2758, 'weitsichtig': 2759, 'weiß': 2760, 'weißer': 2761, 'weißt': 2762, 'welche': 2763, 'welches': 2764, 'welt': 2765, 'wem': 2766, 'wen': 2767, 'wenig': 2768, 'wer': 2769, 'werd': 2770, 'werde': 2771, 'werden': 2772, 'werfen': 2773, 'werft': 2774, 'werke': 2775, 'werkzeug': 2776, 'wert': 2777, 'westen': 2778, 'wette': 2779, 'wichtig': 2780, 'widersprach': 2781, 'widert': 2782, 'wie': 2783, 'wieder': 2784, 'wiederhole': 2785, 'wiederholen': 2786, 'wiederholt': 2787, 'wiederkommen': 2788, 'wiederschauen': 2789, 'wiedersehen': 2790, 'wiese': 2791, 'wieso': 2792, 'will': 2793, 'willen': 2794, 'willkommen': 2795, 'willst': 2796, 'windig': 2797, 'wink': 2798, 'winkte': 2799, 'winter': 2800, 'wir': 2801, 'wird': 2802, 'wirf': 2803, 'wirklich': 2804, 'wirkst': 2805, 'wirkte': 2806, 'wirst': 2807, 'wissen': 2808, 'witz': 2809, 'witze': 2810, 'witzelt': 2811, 'witzig': 2812, 'wo': 2813, 'woche': 2814, 'wohl': 2815, 'wohlhabend': 2816, 'wohne': 2817, 'wohnung': 2818, 'wolf': 2819, 'wolken': 2820, 'wollen': 2821, 'wollte': 2822, 'woran': 2823, 'worden': 2824, 'wort': 2825, 'wortkarg': 2826, 'wortspiel': 2827, 'wozu': 2828, 'wunderbar': 2829, 'wunderschön': 2830, 'wurde': 2831, 'wurden': 2832, 'wurdest': 2833, 'wurdet': 2834, 'wusste': 2835, 'wussten': 2836, 'wut': 2837, 'wähle': 2838, 'wählen': 2839, 'wählerisch': 2840, 'wählt': 2841, 'wählte': 2842, 'wär': 2843, 'wäre': 2844, 'wünsch': 2845, 'wünsche': 2846, 'würde': 2847, 'würdest': 2848, 'würfel': 2849, 'würfele': 2850, 'würfeln': 2851, 'würfle': 2852, 'würgen': 2853, 'wütend': 2854, 'yen': 2855, 'yoga': 2856, 'zahle': 2857, 'zahlen': 2858, 'zahlt': 2859, 'zahlte': 2860, 'zahn': 2861, 'zahnarzt': 2862, 'zahnspange': 2863, 'zahnärztin': 2864, 'zehn': 2865, 'zeichen': 2866, 'zeichne': 2867, 'zeichnen': 2868, 'zeig': 2869, 'zeige': 2870, 'zeigen': 2871, 'zeigt': 2872, 'zeigte': 2873, 'zeilen': 2874, 'zeit': 2875, 'zeitarbeiter': 2876, 'zeitarbeiterin': 2877, 'zeitig': 2878, 'zerbrach': 2879, 'zerbrochen': 2880, 'zerstört': 2881, 'zieh': 2882, 'ziehe': 2883, 'ziehen': 2884, 'zieht': 2885, 'ziel': 2886, 'zielen': 2887, 'zielt': 2888, 'ziemlich': 2889, 'zigarette': 2890, 'zimmer': 2891, 'zirkus': 2892, 'zisch': 2893, 'zitterte': 2894, 'zog': 2895, 'zoomte': 2896, 'zornig': 2897, 'zu': 2898, 'zubereiten': 2899, 'zubereitet': 2900, 'zucker': 2901, 'zuckte': 2902, 'zudringlich': 2903, 'zuerst': 2904, 'zufrieden': 2905, 'zug': 2906, 'zugehört': 2907, 'zugelassen': 2908, 'zugemacht': 2909, 'zugeschaut': 2910, 'zugesehen': 2911, 'zugestimmt': 2912, 'zugetragen': 2913, 'zuhause': 2914, 'zuhören': 2915, 'zulassen': 2916, 'zum': 2917, 'zumute': 2918, 'zur': 2919, 'zurecht': 2920, 'zurechtkommen': 2921, 'zurück': 2922, 'zurückgehen': 2923, 'zurückgekommen': 2924, 'zurückgetan': 2925, 'zurückgetreten': 2926, 'zurückkommen': 2927, 'zusammen': 2928, 'zusammenbleiben': 2929, 'zuschieben': 2930, 'zusehen': 2931, 'zustimmen': 2932, 'zutritt': 2933, 'zuverlässig': 2934, 'zuversichtlich': 2935, 'zwangserkrankung': 2936, 'zweck': 2937, 'zwei': 2938, 'zweifel': 2939, 'zwiebeln': 2940, 'zwilling': 2941, 'zwinkerte': 2942, 'zwängen': 2943, 'zwölf': 2944, 'zäh': 2945, 'zähl': 2946, 'zähle': 2947, 'zählen': 2948, 'zögerte': 2949, 'zögerten': 2950, 'züchte': 2951, 'züge': 2952, 'ächzte': 2953, 'älter': 2954, 'älteste': 2955, 'ändere': 2956, 'ändern': 2957, 'änderte': 2958, 'äpfel': 2959, 'ärgere': 2960, 'ärgern': 2961, 'ärzte': 2962, 'ärztin': 2963, 'öffne': 2964, 'öffnen': 2965, 'öffnet': 2966, 'öffnete': 2967, 'österreicher': 2968, 'übel': 2969, 'üben': 2970, 'über': 2971, 'überarbeitet': 2972, 'überaus': 2973, 'überfall': 2974, 'überflüssig': 2975, 'übergeben': 2976, 'übergewicht': 2977, 'übergewichtig': 2978, 'übergibt': 2979, 'überlass': 2980, 'überlasse': 2981, 'überlassen': 2982, 'überlasst': 2983, 'überleben': 2984, 'überlebt': 2985, 'überlebte': 2986, 'übernehme': 2987, 'übernehmen': 2988, 'übernehmt': 2989, 'übernimm': 2990, 'überprüfen': 2991, 'überrasche': 2992, 'überraschen': 2993, 'überrascht': 2994, 'übers': 2995, 'übersteigt': 2996, 'übertrieben': 2997, 'überzeugt': 2998, 'üblen': 2999, '<unk>': 3000, '<start>': 3001, '<end>': 3002, '<pad>': 3003}\n",
            "np.random.uniform(size=5):  [0.68786228 0.83931309 0.07939488 0.17050103 0.92328442]\n",
            "train_test_split_vector:  [ True  True  True  True  True]\n",
            "token: go\n",
            "token: .\n",
            "token: hi\n",
            "token: .\n",
            "token: hi\n",
            "token: .\n",
            "token: run\n",
            "token: !\n",
            "token: run\n",
            "token: .\n",
            "token: geh\n",
            "token: .\n",
            "token: hallo\n",
            "token: !\n",
            "token: grüß\n",
            "token: gott\n",
            "token: !\n",
            "token: lauf\n",
            "token: !\n",
            "token: lauf\n",
            "token: !\n",
            "token: geh\n",
            "token: .\n",
            "token: hallo\n",
            "token: !\n",
            "token: grüß\n",
            "token: gott\n",
            "token: !\n",
            "token: lauf\n",
            "token: !\n",
            "token: lauf\n",
            "token: !\n"
          ]
        }
      ]
    },
    {
      "cell_type": "code",
      "execution_count": 90,
      "metadata": {
        "id": "DWf2bb905SW9"
      },
      "outputs": [],
      "source": [
        "# =============================\n",
        "# ======= ORIGINAL CODE =======\n",
        "# =============================\n",
        "\n",
        "def convert_text_to_data(texts, \n",
        "                         vocab_id_dict, \n",
        "                         max_length=20, \n",
        "                         type=None,\n",
        "                         train_test_vector=None,\n",
        "                         samples=100000):\n",
        "  \n",
        "  if type == None:\n",
        "    raise ValueError('\\'type\\' is not defined. Please choose from: input_source, input_target, output_target.')\n",
        "  \n",
        "  train_data = []\n",
        "  test_data = []\n",
        "\n",
        "  for text_num, text in enumerate(texts[:samples]):\n",
        "\n",
        "    sentence_ids = []\n",
        "\n",
        "    for token in text.split():\n",
        "\n",
        "      if token in vocab_id_dict.keys():\n",
        "        sentence_ids.append(vocab_id_dict[token])\n",
        "      else:\n",
        "        sentence_ids.append(vocab_id_dict[\"<unk>\"])\n",
        "    \n",
        "    vocab_size = len(vocab_id_dict.keys())\n",
        "    \n",
        "    # Depending on encoder/decoder and input/output, add start/end tokens.\n",
        "    # Then add padding.\n",
        "    \n",
        "    if type == 'input_source':     # input for the encorder: English (=sentence_ids) and padding tokens\n",
        "      # ids = (sentence_ids + [vocab_size - 1] * max_length)[:max_length]\n",
        "      ids = (sentence_ids + [vocab_id_dict[\"<pad>\"]] * max_length)[:max_length]     # Natalie's code\n",
        "\n",
        "    elif type == 'input_target':   # input for the decorder: use <start> token at the beginning\n",
        "      # ids = ([vocab_size - 3]] + sentence_ids + [vocab_size - 2] + [vocab_size - 1] * max_length)[:max_length]\n",
        "      ids = ([vocab_id_dict[\"<start>\"]] + sentence_ids + [vocab_id_dict[\"<end>\"]] + [vocab_id_dict[\"<pad>\"]] * max_length)[:max_length]   # Natalie's code\n",
        "      \n",
        "\n",
        "    elif type == 'output_target':   # label for the decorder: we don't put the <start> token at the beginning but we do make sure having the <end> token then padding token\n",
        "      # ids = (sentence_ids + [vocab_size - 2] + [vocab_size -1] * max_length)[:max_length]\n",
        "      ids = (sentence_ids + [vocab_id_dict[\"<end>\"]] + [vocab_id_dict[\"<pad>\"]] * max_length)[:max_length]     # Natalie's code\n",
        "\n",
        "    if train_test_vector is not None and not train_test_vector[text_num]:\n",
        "      test_data.append(ids)\n",
        "    else:\n",
        "      train_data.append(ids)\n",
        "\n",
        "\n",
        "\n",
        "  return np.array(train_data), np.array(test_data)\n",
        "\n",
        "\n",
        "train_test_split_vector = (np.random.uniform(size=10000) > 0.2)     \n",
        "\n",
        "\n",
        "train_source_input_data, test_source_input_data = convert_text_to_data(input_texts, \n",
        "                                                                       source_vocab_id_dict,\n",
        "                                                                       type='input_source',\n",
        "                                                                       max_length=max_encoder_seq_length,\n",
        "                                                                       train_test_vector=train_test_split_vector)\n",
        "\n",
        "train_target_input_data, test_target_input_data = convert_text_to_data(target_texts,\n",
        "                                                                       target_vocab_id_dict,\n",
        "                                                                       type='input_target',\n",
        "                                                                       max_length=max_decoder_seq_length,\n",
        "                                                                       train_test_vector=train_test_split_vector)\n",
        "\n",
        "train_target_output_data, test_target_output_data = convert_text_to_data(target_texts,\n",
        "                                                                         target_vocab_id_dict,\n",
        "                                                                         type='output_target',\n",
        "                                                                         max_length=max_decoder_seq_length,\n",
        "                                                                         train_test_vector=train_test_split_vector)\n",
        "\n",
        "\n"
      ]
    },
    {
      "cell_type": "markdown",
      "metadata": {
        "id": "XwsJeSJVWbnI"
      },
      "source": [
        "Let us look at a few examples. They appear coorect."
      ]
    },
    {
      "cell_type": "code",
      "execution_count": 91,
      "metadata": {
        "colab": {
          "base_uri": "https://localhost:8080/"
        },
        "id": "YB5WqPpYV_EQ",
        "outputId": "5e5a1382-fae9-49a7-ddd2-a4b6bdf00995"
      },
      "outputs": [
        {
          "output_type": "execute_result",
          "data": {
            "text/plain": [
              "array([[ 749, 2000, 2001, 2001, 2001, 2001],\n",
              "       [ 843, 2000, 2001, 2001, 2001, 2001]])"
            ]
          },
          "metadata": {},
          "execution_count": 91
        }
      ],
      "source": [
        "train_source_input_data[:2]"
      ]
    },
    {
      "cell_type": "code",
      "execution_count": 92,
      "metadata": {
        "colab": {
          "base_uri": "https://localhost:8080/"
        },
        "id": "N103xCPpWBx7",
        "outputId": "8249f487-91cc-4b22-b813-c879cbaccd47"
      },
      "outputs": [
        {
          "output_type": "execute_result",
          "data": {
            "text/plain": [
              "array([[3001, 1080, 3000, 3002, 3003, 3003, 3003, 3003, 3003, 3003, 3003,\n",
              "        3003, 3003],\n",
              "       [3001, 1247, 3000, 3002, 3003, 3003, 3003, 3003, 3003, 3003, 3003,\n",
              "        3003, 3003]])"
            ]
          },
          "metadata": {},
          "execution_count": 92
        }
      ],
      "source": [
        "train_target_input_data[:2]"
      ]
    },
    {
      "cell_type": "code",
      "execution_count": 93,
      "metadata": {
        "colab": {
          "base_uri": "https://localhost:8080/"
        },
        "id": "-7Wcc1bFWB5c",
        "outputId": "49cc6808-ee2b-44ee-e0c5-3f506bee4a38"
      },
      "outputs": [
        {
          "output_type": "execute_result",
          "data": {
            "text/plain": [
              "array([[1080, 3000, 3002, 3003, 3003, 3003, 3003, 3003, 3003, 3003, 3003,\n",
              "        3003, 3003],\n",
              "       [1247, 3000, 3002, 3003, 3003, 3003, 3003, 3003, 3003, 3003, 3003,\n",
              "        3003, 3003]])"
            ]
          },
          "metadata": {},
          "execution_count": 93
        }
      ],
      "source": [
        "train_target_output_data[:2]"
      ]
    },
    {
      "cell_type": "markdown",
      "metadata": {
        "id": "bMTL8pWhSxjc"
      },
      "source": [
        "[Return to Top](#returnToTop)  \n",
        "<a id = 's2sNoAttention'></a>\n",
        "\n",
        "### 2.2 The Seq2seq model without Attention\n",
        "\n",
        "We need to build both the encoder and the decoder and we'll use LSTMs.  We'll set up the system first without an attention layer between the encoder and decoder."
      ]
    },
    {
      "cell_type": "code",
      "execution_count": null,
      "metadata": {
        "id": "UK9eP5bC6jCL"
      },
      "outputs": [],
      "source": [
        "def create_translation_model_no_att(encode_vocab_size, decode_vocab_size, embed_dim):\n",
        "\n",
        "    source_input_no_att = tf.keras.layers.Input(shape=(max_encoder_seq_length,),\n",
        "                                                dtype='int64',\n",
        "                                                name='source_input_no_att')\n",
        "    target_input_no_att = tf.keras.layers.Input(shape=(max_decoder_seq_length,),\n",
        "                                                dtype='int64',\n",
        "                                                name='target_input_no_att')\n",
        "\n",
        "    source_embedding_layer_no_att = tf.keras.layers.Embedding(input_dim=encode_vocab_size,\n",
        "                                                              output_dim=embed_dim,\n",
        "                                                              name='source_embedding_layer_no_att')\n",
        "\n",
        "    target_embedding_layer_no_att  = tf.keras.layers.Embedding(input_dim=decode_vocab_size,\n",
        "                                                               output_dim=embed_dim,\n",
        "                                                               name='target_embedding_layer_no_att')\n",
        "\n",
        "    source_embeddings_no_att = source_embedding_layer_no_att(source_input_no_att)\n",
        "    target_embeddings_no_att = target_embedding_layer_no_att(target_input_no_att)\n",
        "\n",
        "    encoder_lstm_layer_no_att = tf.keras.layers.LSTM(embed_dim, return_sequences=True, return_state=True, name='encoder_lstm_layer_no_att')\n",
        "    encoder_out_no_att, encoder_state_h_no_att, encoder_state_c_no_att = encoder_lstm_layer_no_att(source_embeddings_no_att)\n",
        "\n",
        "    decoder_lstm_layer_no_att = tf.keras.layers.LSTM(embed_dim, return_sequences=True, return_state=False, name='decoder_lstm_layer_no_att')\n",
        "    decoder_lstm_out_no_att = decoder_lstm_layer_no_att(target_embeddings_no_att, [encoder_state_h_no_att, encoder_state_c_no_att])\n",
        "\n",
        "    target_classification_no_att = tf.keras.layers.Dense(decode_vocab_size,\n",
        "                                                         activation='softmax',\n",
        "                                                         name='classification_no_att')(decoder_lstm_out_no_att)\n",
        "\n",
        "    translation_model_no_att = tf.keras.models.Model(inputs=[source_input_no_att, target_input_no_att], outputs=[target_classification_no_att])\n",
        "\n",
        "    translation_model_no_att.compile(optimizer=\"Adam\",\n",
        "                                     loss='sparse_categorical_crossentropy',\n",
        "                                     metrics=['accuracy'])\n",
        "    \n",
        "    return translation_model_no_att\n"
      ]
    },
    {
      "cell_type": "markdown",
      "metadata": {
        "id": "61fGG0H0jYsd"
      },
      "source": [
        "Now we can call the function we created to instantiate that model and confirm that it is set up the way we like using model.sumary()."
      ]
    },
    {
      "cell_type": "code",
      "execution_count": null,
      "metadata": {
        "colab": {
          "base_uri": "https://localhost:8080/"
        },
        "id": "AQafY_4y6jFl",
        "outputId": "b9fa3487-0a67-4f42-d6b9-fed37f283381"
      },
      "outputs": [
        {
          "name": "stdout",
          "output_type": "stream",
          "text": [
            "Model: \"model\"\n",
            "__________________________________________________________________________________________________\n",
            " Layer (type)                   Output Shape         Param #     Connected to                     \n",
            "==================================================================================================\n",
            " source_input_no_att (InputLaye  [(None, 6)]         0           []                               \n",
            " r)                                                                                               \n",
            "                                                                                                  \n",
            " target_input_no_att (InputLaye  [(None, 13)]        0           []                               \n",
            " r)                                                                                               \n",
            "                                                                                                  \n",
            " source_embedding_layer_no_att   (None, 6, 100)      200200      ['source_input_no_att[0][0]']    \n",
            " (Embedding)                                                                                      \n",
            "                                                                                                  \n",
            " target_embedding_layer_no_att   (None, 13, 100)     300400      ['target_input_no_att[0][0]']    \n",
            " (Embedding)                                                                                      \n",
            "                                                                                                  \n",
            " encoder_lstm_layer_no_att (LST  [(None, 6, 100),    80400       ['source_embedding_layer_no_att[0\n",
            " M)                              (None, 100),                    ][0]']                           \n",
            "                                 (None, 100)]                                                     \n",
            "                                                                                                  \n",
            " decoder_lstm_layer_no_att (LST  (None, 13, 100)     80400       ['target_embedding_layer_no_att[0\n",
            " M)                                                              ][0]',                           \n",
            "                                                                  'encoder_lstm_layer_no_att[0][1]\n",
            "                                                                 ',                               \n",
            "                                                                  'encoder_lstm_layer_no_att[0][2]\n",
            "                                                                 ']                               \n",
            "                                                                                                  \n",
            " classification_no_att (Dense)  (None, 13, 3004)     303404      ['decoder_lstm_layer_no_att[0][0]\n",
            "                                                                 ']                               \n",
            "                                                                                                  \n",
            "==================================================================================================\n",
            "Total params: 964,804\n",
            "Trainable params: 964,804\n",
            "Non-trainable params: 0\n",
            "__________________________________________________________________________________________________\n"
          ]
        }
      ],
      "source": [
        "encode_vocab_size = len(source_id_vocab_dict.keys())\n",
        "decode_vocab_size = len(target_id_vocab_dict.keys())\n",
        "\n",
        "translation_model_no_att = create_translation_model_no_att(encode_vocab_size, decode_vocab_size, embed_dim)\n",
        "\n",
        "translation_model_no_att.summary()"
      ]
    },
    {
      "cell_type": "markdown",
      "metadata": {
        "id": "w911c-QMYky3"
      },
      "source": [
        "It never hurts to look at the shapes of the outputs."
      ]
    },
    {
      "cell_type": "code",
      "execution_count": null,
      "metadata": {
        "colab": {
          "base_uri": "https://localhost:8080/"
        },
        "id": "E-NVTE_pU3-H",
        "outputId": "a4336673-e5be-4f06-80c9-25f1a82021f1"
      },
      "outputs": [
        {
          "name": "stdout",
          "output_type": "stream",
          "text": [
            "252/252 [==============================] - 7s 3ms/step\n"
          ]
        },
        {
          "data": {
            "text/plain": [
              "(8047, 13, 3004)"
            ]
          },
          "execution_count": 17,
          "metadata": {},
          "output_type": "execute_result"
        }
      ],
      "source": [
        "translation_model_no_att.predict(x=[train_source_input_data, train_target_input_data]).shape"
      ]
    },
    {
      "cell_type": "markdown",
      "metadata": {
        "id": "g9EgkYYmjYsf"
      },
      "source": [
        "Now that everything checks out, we can train our model."
      ]
    },
    {
      "cell_type": "code",
      "execution_count": null,
      "metadata": {
        "colab": {
          "base_uri": "https://localhost:8080/"
        },
        "id": "h35KVb-G6jNs",
        "outputId": "f7f01bff-ddeb-4454-827d-1a6bfcfad7c7"
      },
      "outputs": [
        {
          "name": "stdout",
          "output_type": "stream",
          "text": [
            "Epoch 1/40\n",
            "252/252 [==============================] - 6s 12ms/step - loss: 2.5067 - accuracy: 0.6623 - val_loss: 1.6758 - val_accuracy: 0.7487\n",
            "Epoch 2/40\n",
            "252/252 [==============================] - 2s 8ms/step - loss: 1.5505 - accuracy: 0.7653 - val_loss: 1.5117 - val_accuracy: 0.7705\n",
            "Epoch 3/40\n",
            "252/252 [==============================] - 2s 10ms/step - loss: 1.4213 - accuracy: 0.7734 - val_loss: 1.4180 - val_accuracy: 0.7774\n",
            "Epoch 4/40\n",
            "252/252 [==============================] - 3s 11ms/step - loss: 1.3261 - accuracy: 0.7836 - val_loss: 1.3351 - val_accuracy: 0.7892\n",
            "Epoch 5/40\n",
            "252/252 [==============================] - 2s 9ms/step - loss: 1.2404 - accuracy: 0.7955 - val_loss: 1.2776 - val_accuracy: 0.7964\n",
            "Epoch 6/40\n",
            "252/252 [==============================] - 2s 9ms/step - loss: 1.1739 - accuracy: 0.8020 - val_loss: 1.2361 - val_accuracy: 0.8009\n",
            "Epoch 7/40\n",
            "252/252 [==============================] - 2s 9ms/step - loss: 1.1116 - accuracy: 0.8105 - val_loss: 1.1900 - val_accuracy: 0.8096\n",
            "Epoch 8/40\n",
            "252/252 [==============================] - 2s 9ms/step - loss: 1.0519 - accuracy: 0.8190 - val_loss: 1.1512 - val_accuracy: 0.8170\n",
            "Epoch 9/40\n",
            "252/252 [==============================] - 3s 11ms/step - loss: 0.9982 - accuracy: 0.8256 - val_loss: 1.1197 - val_accuracy: 0.8209\n",
            "Epoch 10/40\n",
            "252/252 [==============================] - 3s 10ms/step - loss: 0.9520 - accuracy: 0.8304 - val_loss: 1.0968 - val_accuracy: 0.8252\n",
            "Epoch 11/40\n",
            "252/252 [==============================] - 2s 8ms/step - loss: 0.9112 - accuracy: 0.8350 - val_loss: 1.0773 - val_accuracy: 0.8268\n",
            "Epoch 12/40\n",
            "252/252 [==============================] - 2s 9ms/step - loss: 0.8742 - accuracy: 0.8387 - val_loss: 1.0594 - val_accuracy: 0.8289\n",
            "Epoch 13/40\n",
            "252/252 [==============================] - 2s 9ms/step - loss: 0.8393 - accuracy: 0.8434 - val_loss: 1.0413 - val_accuracy: 0.8320\n",
            "Epoch 14/40\n",
            "252/252 [==============================] - 2s 9ms/step - loss: 0.8054 - accuracy: 0.8473 - val_loss: 1.0259 - val_accuracy: 0.8350\n",
            "Epoch 15/40\n",
            "252/252 [==============================] - 3s 12ms/step - loss: 0.7731 - accuracy: 0.8523 - val_loss: 1.0180 - val_accuracy: 0.8358\n",
            "Epoch 16/40\n",
            "252/252 [==============================] - 2s 9ms/step - loss: 0.7413 - accuracy: 0.8568 - val_loss: 1.0030 - val_accuracy: 0.8388\n",
            "Epoch 17/40\n",
            "252/252 [==============================] - 2s 9ms/step - loss: 0.7113 - accuracy: 0.8605 - val_loss: 0.9928 - val_accuracy: 0.8414\n",
            "Epoch 18/40\n",
            "252/252 [==============================] - 2s 9ms/step - loss: 0.6822 - accuracy: 0.8640 - val_loss: 0.9857 - val_accuracy: 0.8416\n",
            "Epoch 19/40\n",
            "252/252 [==============================] - 3s 12ms/step - loss: 0.6536 - accuracy: 0.8676 - val_loss: 0.9758 - val_accuracy: 0.8440\n",
            "Epoch 20/40\n",
            "252/252 [==============================] - 3s 11ms/step - loss: 0.6264 - accuracy: 0.8714 - val_loss: 0.9682 - val_accuracy: 0.8453\n",
            "Epoch 21/40\n",
            "252/252 [==============================] - 2s 10ms/step - loss: 0.5996 - accuracy: 0.8752 - val_loss: 0.9604 - val_accuracy: 0.8461\n",
            "Epoch 22/40\n",
            "252/252 [==============================] - 2s 9ms/step - loss: 0.5750 - accuracy: 0.8791 - val_loss: 0.9538 - val_accuracy: 0.8490\n",
            "Epoch 23/40\n",
            "252/252 [==============================] - 2s 9ms/step - loss: 0.5499 - accuracy: 0.8829 - val_loss: 0.9487 - val_accuracy: 0.8499\n",
            "Epoch 24/40\n",
            "252/252 [==============================] - 2s 9ms/step - loss: 0.5263 - accuracy: 0.8865 - val_loss: 0.9493 - val_accuracy: 0.8494\n",
            "Epoch 25/40\n",
            "252/252 [==============================] - 2s 9ms/step - loss: 0.5040 - accuracy: 0.8896 - val_loss: 0.9434 - val_accuracy: 0.8517\n",
            "Epoch 26/40\n",
            "252/252 [==============================] - 3s 12ms/step - loss: 0.4817 - accuracy: 0.8938 - val_loss: 0.9418 - val_accuracy: 0.8525\n",
            "Epoch 27/40\n",
            "252/252 [==============================] - 2s 8ms/step - loss: 0.4604 - accuracy: 0.8978 - val_loss: 0.9379 - val_accuracy: 0.8527\n",
            "Epoch 28/40\n",
            "252/252 [==============================] - 2s 8ms/step - loss: 0.4398 - accuracy: 0.9011 - val_loss: 0.9346 - val_accuracy: 0.8536\n",
            "Epoch 29/40\n",
            "252/252 [==============================] - 2s 9ms/step - loss: 0.4209 - accuracy: 0.9045 - val_loss: 0.9354 - val_accuracy: 0.8543\n",
            "Epoch 30/40\n",
            "252/252 [==============================] - 2s 9ms/step - loss: 0.4017 - accuracy: 0.9080 - val_loss: 0.9336 - val_accuracy: 0.8547\n",
            "Epoch 31/40\n",
            "252/252 [==============================] - 3s 10ms/step - loss: 0.3834 - accuracy: 0.9120 - val_loss: 0.9353 - val_accuracy: 0.8564\n",
            "Epoch 32/40\n",
            "252/252 [==============================] - 3s 11ms/step - loss: 0.3670 - accuracy: 0.9151 - val_loss: 0.9326 - val_accuracy: 0.8566\n",
            "Epoch 33/40\n",
            "252/252 [==============================] - 2s 8ms/step - loss: 0.3507 - accuracy: 0.9182 - val_loss: 0.9317 - val_accuracy: 0.8586\n",
            "Epoch 34/40\n",
            "252/252 [==============================] - 2s 9ms/step - loss: 0.3347 - accuracy: 0.9221 - val_loss: 0.9350 - val_accuracy: 0.8578\n",
            "Epoch 35/40\n",
            "252/252 [==============================] - 2s 9ms/step - loss: 0.3196 - accuracy: 0.9250 - val_loss: 0.9353 - val_accuracy: 0.8588\n",
            "Epoch 36/40\n",
            "252/252 [==============================] - 2s 9ms/step - loss: 0.3047 - accuracy: 0.9280 - val_loss: 0.9411 - val_accuracy: 0.8585\n",
            "Epoch 37/40\n",
            "252/252 [==============================] - 3s 11ms/step - loss: 0.2911 - accuracy: 0.9303 - val_loss: 0.9420 - val_accuracy: 0.8584\n",
            "Epoch 38/40\n",
            "252/252 [==============================] - 2s 10ms/step - loss: 0.2787 - accuracy: 0.9339 - val_loss: 0.9419 - val_accuracy: 0.8591\n",
            "Epoch 39/40\n",
            "252/252 [==============================] - 2s 9ms/step - loss: 0.2662 - accuracy: 0.9363 - val_loss: 0.9465 - val_accuracy: 0.8595\n",
            "Epoch 40/40\n",
            "252/252 [==============================] - 2s 8ms/step - loss: 0.2531 - accuracy: 0.9393 - val_loss: 0.9544 - val_accuracy: 0.8586\n"
          ]
        },
        {
          "data": {
            "text/plain": [
              "<keras.callbacks.History at 0x7f2c002138e0>"
            ]
          },
          "execution_count": 18,
          "metadata": {},
          "output_type": "execute_result"
        }
      ],
      "source": [
        "translation_model_no_att.fit(x=[train_source_input_data, train_target_input_data],\n",
        "                             y=train_target_output_data,\n",
        "                             validation_data=([test_source_input_data, test_target_input_data],\n",
        "                                              test_target_output_data),\n",
        "                             epochs=40)"
      ]
    },
    {
      "cell_type": "markdown",
      "metadata": {
        "id": "CSmVtP2oXGAc"
      },
      "source": [
        "[Return to Top](#returnToTop)  \n",
        "<a id = 's2sAttention'></a>\n",
        "\n",
        "### 2.3 The Seq2seq model with Attention\n",
        "\n",
        "All we need to do is add an attention layer that ceates a context vector for each decoder position. We can use the attention layer provided by Keras in *tf.keras.layers.Attention()*.  We will then simply concatenate these corresponding context vectors with the output of the LSTM layer in order to predict the translation tokens one by one."
      ]
    },
    {
      "cell_type": "code",
      "execution_count": null,
      "metadata": {
        "id": "aPu2HDtfGKvK"
      },
      "outputs": [],
      "source": [
        "def create_translation_model_with_att(encode_vocab_size, decode_vocab_size, embed_dim):\n",
        "\n",
        "    source_input_with_att = tf.keras.layers.Input(shape=(max_encoder_seq_length,), \n",
        "                                                  dtype='int64',\n",
        "                                                  name='source_input_with_att')\n",
        "    target_input_with_att = tf.keras.layers.Input(shape=(max_decoder_seq_length,), \n",
        "                                                  dtype='int64',\n",
        "                                                  name='target_input_with_att')\n",
        "\n",
        "    source_embedding_layer_with_att = tf.keras.layers.Embedding(input_dim=encode_vocab_size,\n",
        "                                                                output_dim=embed_dim,\n",
        "                                                                name='source_embedding_layer_with_att')\n",
        "\n",
        "    target_embedding_layer_with_att  = tf.keras.layers.Embedding(input_dim=decode_vocab_size,\n",
        "                                                                 output_dim=embed_dim,\n",
        "                                                                 name='target_embedding_layer_with_att')\n",
        "\n",
        "    source_embeddings_with_att = source_embedding_layer_with_att(source_input_with_att)\n",
        "    target_embeddings_with_att = target_embedding_layer_with_att(target_input_with_att)\n",
        "\n",
        "    encoder_lstm_layer_with_att = tf.keras.layers.LSTM(embed_dim, return_sequences=True, return_state=True, name='encoder_lstm_layer_with_att')\n",
        "    encoder_out_with_att, encoder_state_h_with_att, encoder_state_c_with_att = encoder_lstm_layer_with_att(source_embeddings_with_att)\n",
        "\n",
        "    decoder_lstm_layer_with_att = tf.keras.layers.LSTM(embed_dim, return_sequences=True, return_state=False, name='decoder_lstm_layer_with_att')\n",
        "    decoder_lstm_out_with_att = decoder_lstm_layer_with_att(target_embeddings_with_att, [encoder_state_h_with_att, encoder_state_c_with_att])\n",
        "\n",
        "    attention_context_vectors = tf.keras.layers.Attention(name='attention_layer')([decoder_lstm_out_with_att, encoder_out_with_att])\n",
        "\n",
        "    concat_decode_out_with_att = tf.keras.layers.Concatenate(axis=-1, name='concat_layer_with_att')([decoder_lstm_out_with_att, attention_context_vectors])\n",
        "\n",
        "    target_classification_with_att = tf.keras.layers.Dense(decode_vocab_size,\n",
        "                                                           activation='softmax',\n",
        "                                                           name='classification_with_att')(concat_decode_out_with_att)\n",
        "\n",
        "    translation_model_with_att = tf.keras.models.Model(inputs=[source_input_with_att, target_input_with_att], outputs=[target_classification_with_att])\n",
        "\n",
        "    translation_model_with_att.compile(optimizer=\"Adam\",\n",
        "                                       loss='sparse_categorical_crossentropy',\n",
        "                                       metrics=['accuracy'])\n",
        "\n",
        "    return translation_model_with_att\n"
      ]
    },
    {
      "cell_type": "code",
      "execution_count": null,
      "metadata": {
        "colab": {
          "base_uri": "https://localhost:8080/"
        },
        "id": "JMMluPO-urkE",
        "outputId": "88fa8959-1a01-4062-8e7a-bde9589d82a8"
      },
      "outputs": [
        {
          "name": "stdout",
          "output_type": "stream",
          "text": [
            "Model: \"model_1\"\n",
            "__________________________________________________________________________________________________\n",
            " Layer (type)                   Output Shape         Param #     Connected to                     \n",
            "==================================================================================================\n",
            " source_input_with_att (InputLa  [(None, 6)]         0           []                               \n",
            " yer)                                                                                             \n",
            "                                                                                                  \n",
            " target_input_with_att (InputLa  [(None, 13)]        0           []                               \n",
            " yer)                                                                                             \n",
            "                                                                                                  \n",
            " source_embedding_layer_with_at  (None, 6, 100)      200200      ['source_input_with_att[0][0]']  \n",
            " t (Embedding)                                                                                    \n",
            "                                                                                                  \n",
            " target_embedding_layer_with_at  (None, 13, 100)     300400      ['target_input_with_att[0][0]']  \n",
            " t (Embedding)                                                                                    \n",
            "                                                                                                  \n",
            " encoder_lstm_layer_with_att (L  [(None, 6, 100),    80400       ['source_embedding_layer_with_att\n",
            " STM)                            (None, 100),                    [0][0]']                         \n",
            "                                 (None, 100)]                                                     \n",
            "                                                                                                  \n",
            " decoder_lstm_layer_with_att (L  (None, 13, 100)     80400       ['target_embedding_layer_with_att\n",
            " STM)                                                            [0][0]',                         \n",
            "                                                                  'encoder_lstm_layer_with_att[0][\n",
            "                                                                 1]',                             \n",
            "                                                                  'encoder_lstm_layer_with_att[0][\n",
            "                                                                 2]']                             \n",
            "                                                                                                  \n",
            " attention_layer (Attention)    (None, 13, 100)      0           ['decoder_lstm_layer_with_att[0][\n",
            "                                                                 0]',                             \n",
            "                                                                  'encoder_lstm_layer_with_att[0][\n",
            "                                                                 0]']                             \n",
            "                                                                                                  \n",
            " concat_layer_with_att (Concate  (None, 13, 200)     0           ['decoder_lstm_layer_with_att[0][\n",
            " nate)                                                           0]',                             \n",
            "                                                                  'attention_layer[0][0]']        \n",
            "                                                                                                  \n",
            " classification_with_att (Dense  (None, 13, 3004)    603804      ['concat_layer_with_att[0][0]']  \n",
            " )                                                                                                \n",
            "                                                                                                  \n",
            "==================================================================================================\n",
            "Total params: 1,265,204\n",
            "Trainable params: 1,265,204\n",
            "Non-trainable params: 0\n",
            "__________________________________________________________________________________________________\n"
          ]
        }
      ],
      "source": [
        "translation_model_with_att = create_translation_model_with_att(encode_vocab_size, decode_vocab_size, embed_dim)\n",
        "\n",
        "translation_model_with_att.summary()"
      ]
    },
    {
      "cell_type": "code",
      "execution_count": null,
      "metadata": {
        "colab": {
          "base_uri": "https://localhost:8080/"
        },
        "id": "XYjG5lVPNBsU",
        "outputId": "e533f7d8-edd9-404d-aa43-2a6708607d63"
      },
      "outputs": [
        {
          "name": "stdout",
          "output_type": "stream",
          "text": [
            "Epoch 1/40\n",
            "252/252 [==============================] - 6s 12ms/step - loss: 2.3585 - accuracy: 0.6847 - val_loss: 1.6066 - val_accuracy: 0.7643\n",
            "Epoch 2/40\n",
            "252/252 [==============================] - 2s 9ms/step - loss: 1.4787 - accuracy: 0.7705 - val_loss: 1.4426 - val_accuracy: 0.7718\n",
            "Epoch 3/40\n",
            "252/252 [==============================] - 2s 9ms/step - loss: 1.3403 - accuracy: 0.7836 - val_loss: 1.3332 - val_accuracy: 0.7897\n",
            "Epoch 4/40\n",
            "252/252 [==============================] - 3s 10ms/step - loss: 1.2223 - accuracy: 0.7976 - val_loss: 1.2526 - val_accuracy: 0.8029\n",
            "Epoch 5/40\n",
            "252/252 [==============================] - 3s 11ms/step - loss: 1.1307 - accuracy: 0.8074 - val_loss: 1.1943 - val_accuracy: 0.8088\n",
            "Epoch 6/40\n",
            "252/252 [==============================] - 2s 9ms/step - loss: 1.0540 - accuracy: 0.8163 - val_loss: 1.1485 - val_accuracy: 0.8152\n",
            "Epoch 7/40\n",
            "252/252 [==============================] - 2s 9ms/step - loss: 0.9853 - accuracy: 0.8250 - val_loss: 1.1116 - val_accuracy: 0.8220\n",
            "Epoch 8/40\n",
            "252/252 [==============================] - 2s 9ms/step - loss: 0.9224 - accuracy: 0.8328 - val_loss: 1.0739 - val_accuracy: 0.8274\n",
            "Epoch 9/40\n",
            "252/252 [==============================] - 2s 9ms/step - loss: 0.8615 - accuracy: 0.8403 - val_loss: 1.0490 - val_accuracy: 0.8324\n",
            "Epoch 10/40\n",
            "252/252 [==============================] - 3s 12ms/step - loss: 0.8059 - accuracy: 0.8466 - val_loss: 1.0236 - val_accuracy: 0.8364\n",
            "Epoch 11/40\n",
            "252/252 [==============================] - 2s 9ms/step - loss: 0.7536 - accuracy: 0.8524 - val_loss: 1.0024 - val_accuracy: 0.8384\n",
            "Epoch 12/40\n",
            "252/252 [==============================] - 2s 9ms/step - loss: 0.7048 - accuracy: 0.8587 - val_loss: 0.9833 - val_accuracy: 0.8418\n",
            "Epoch 13/40\n",
            "252/252 [==============================] - 2s 9ms/step - loss: 0.6585 - accuracy: 0.8646 - val_loss: 0.9717 - val_accuracy: 0.8449\n",
            "Epoch 14/40\n",
            "252/252 [==============================] - 2s 9ms/step - loss: 0.6173 - accuracy: 0.8703 - val_loss: 0.9646 - val_accuracy: 0.8460\n",
            "Epoch 15/40\n",
            "252/252 [==============================] - 3s 11ms/step - loss: 0.5771 - accuracy: 0.8758 - val_loss: 0.9542 - val_accuracy: 0.8484\n",
            "Epoch 16/40\n",
            "252/252 [==============================] - 3s 11ms/step - loss: 0.5394 - accuracy: 0.8813 - val_loss: 0.9475 - val_accuracy: 0.8497\n",
            "Epoch 17/40\n",
            "252/252 [==============================] - 2s 9ms/step - loss: 0.5033 - accuracy: 0.8871 - val_loss: 0.9354 - val_accuracy: 0.8527\n",
            "Epoch 18/40\n",
            "252/252 [==============================] - 2s 9ms/step - loss: 0.4701 - accuracy: 0.8923 - val_loss: 0.9358 - val_accuracy: 0.8561\n",
            "Epoch 19/40\n",
            "252/252 [==============================] - 2s 9ms/step - loss: 0.4384 - accuracy: 0.8981 - val_loss: 0.9291 - val_accuracy: 0.8571\n",
            "Epoch 20/40\n",
            "252/252 [==============================] - 2s 9ms/step - loss: 0.4090 - accuracy: 0.9044 - val_loss: 0.9284 - val_accuracy: 0.8581\n",
            "Epoch 21/40\n",
            "252/252 [==============================] - 3s 12ms/step - loss: 0.3800 - accuracy: 0.9100 - val_loss: 0.9181 - val_accuracy: 0.8583\n",
            "Epoch 22/40\n",
            "252/252 [==============================] - 2s 9ms/step - loss: 0.3554 - accuracy: 0.9153 - val_loss: 0.9191 - val_accuracy: 0.8601\n",
            "Epoch 23/40\n",
            "252/252 [==============================] - 2s 9ms/step - loss: 0.3308 - accuracy: 0.9203 - val_loss: 0.9200 - val_accuracy: 0.8605\n",
            "Epoch 24/40\n",
            "252/252 [==============================] - 2s 9ms/step - loss: 0.3089 - accuracy: 0.9250 - val_loss: 0.9207 - val_accuracy: 0.8612\n",
            "Epoch 25/40\n",
            "252/252 [==============================] - 2s 9ms/step - loss: 0.2885 - accuracy: 0.9288 - val_loss: 0.9214 - val_accuracy: 0.8637\n",
            "Epoch 26/40\n",
            "252/252 [==============================] - 3s 10ms/step - loss: 0.2693 - accuracy: 0.9335 - val_loss: 0.9188 - val_accuracy: 0.8635\n",
            "Epoch 27/40\n",
            "252/252 [==============================] - 3s 11ms/step - loss: 0.2515 - accuracy: 0.9375 - val_loss: 0.9264 - val_accuracy: 0.8642\n",
            "Epoch 28/40\n",
            "252/252 [==============================] - 2s 9ms/step - loss: 0.2356 - accuracy: 0.9403 - val_loss: 0.9259 - val_accuracy: 0.8653\n",
            "Epoch 29/40\n",
            "252/252 [==============================] - 2s 9ms/step - loss: 0.2208 - accuracy: 0.9443 - val_loss: 0.9278 - val_accuracy: 0.8659\n",
            "Epoch 30/40\n",
            "252/252 [==============================] - 2s 9ms/step - loss: 0.2070 - accuracy: 0.9462 - val_loss: 0.9320 - val_accuracy: 0.8655\n",
            "Epoch 31/40\n",
            "252/252 [==============================] - 2s 9ms/step - loss: 0.1952 - accuracy: 0.9490 - val_loss: 0.9327 - val_accuracy: 0.8656\n",
            "Epoch 32/40\n",
            "252/252 [==============================] - 3s 13ms/step - loss: 0.1840 - accuracy: 0.9509 - val_loss: 0.9396 - val_accuracy: 0.8659\n",
            "Epoch 33/40\n",
            "252/252 [==============================] - 2s 9ms/step - loss: 0.1735 - accuracy: 0.9534 - val_loss: 0.9432 - val_accuracy: 0.8657\n",
            "Epoch 34/40\n",
            "252/252 [==============================] - 2s 9ms/step - loss: 0.1631 - accuracy: 0.9553 - val_loss: 0.9465 - val_accuracy: 0.8676\n",
            "Epoch 35/40\n",
            "252/252 [==============================] - 2s 9ms/step - loss: 0.1551 - accuracy: 0.9573 - val_loss: 0.9566 - val_accuracy: 0.8670\n",
            "Epoch 36/40\n",
            "252/252 [==============================] - 2s 9ms/step - loss: 0.1470 - accuracy: 0.9593 - val_loss: 0.9594 - val_accuracy: 0.8671\n",
            "Epoch 37/40\n",
            "252/252 [==============================] - 3s 10ms/step - loss: 0.1399 - accuracy: 0.9603 - val_loss: 0.9569 - val_accuracy: 0.8683\n",
            "Epoch 38/40\n",
            "252/252 [==============================] - 3s 11ms/step - loss: 0.1325 - accuracy: 0.9610 - val_loss: 0.9729 - val_accuracy: 0.8662\n",
            "Epoch 39/40\n",
            "252/252 [==============================] - 2s 9ms/step - loss: 0.1264 - accuracy: 0.9622 - val_loss: 0.9738 - val_accuracy: 0.8663\n",
            "Epoch 40/40\n",
            "252/252 [==============================] - 2s 9ms/step - loss: 0.1217 - accuracy: 0.9634 - val_loss: 0.9821 - val_accuracy: 0.8651\n"
          ]
        },
        {
          "data": {
            "text/plain": [
              "<keras.callbacks.History at 0x7f2bbffa5a00>"
            ]
          },
          "execution_count": 21,
          "metadata": {},
          "output_type": "execute_result"
        }
      ],
      "source": [
        "translation_model_with_att.fit(x=[train_source_input_data, train_target_input_data],\n",
        "                               y=train_target_output_data,\n",
        "                               validation_data=([test_source_input_data, test_target_input_data],\n",
        "                                                test_target_output_data),\n",
        "                               epochs=40)"
      ]
    },
    {
      "cell_type": "markdown",
      "metadata": {
        "id": "jz6en_QG6Mnw"
      },
      "source": [
        "Validation accuracy is about one percentage point better.\n",
        "\n",
        "**Question 1:** Why do you think the benefit of adding an attention layer is not larger?\n",
        "\n",
        "[Return to Top](#returnToTop)  \n",
        "<a id = 't5Example'></a>\n",
        "\n",
        "## 3. T5\n",
        "\n",
        "Now we turn to text generation with transformers. The T5 system was introduced [here](https://arxiv.org/pdf/1910.10683.pdf).  This model uses both the encoder and the decoder configurations of transformers and connects them together.  A big difference with this model is that it designed to accept text as an input and produce text as an output for a number of different tasks ranging from summarization and question answering to classification.  The system needs to be told which task to perform as the first part of the input text.  Be sure to look in *Appendix D* of the paper to see a complete set of the tasks that T5 base and large checkpoints can perform right out of the box and the data used to train them.\n",
        "\n",
        "Let's play a bit with Huggingface's (Large) implementation of T5."
      ]
    },
    {
      "cell_type": "code",
      "execution_count": null,
      "metadata": {
        "colab": {
          "base_uri": "https://localhost:8080/",
          "height": 599,
          "referenced_widgets": [
            "342ca7df0a0d4f1c85319f9e2abb880e",
            "59fd294947674fcfaf7183dc052a3e5e",
            "19fb9e97809e48528760359c315ceda6",
            "03136f812ae2446b9bfae25f8ea59acb",
            "3ad9dd99ce5a485ab02073560833bb0b",
            "3c859e6cc4ee4c6cb6929e86a42a0661",
            "6730c4fcd52840b0b9e6148d1fa04579",
            "b996d7b803944184bfc0f6c58dc7e93b",
            "5846d0566c4b4a0abb66d35ecf57dd4e",
            "cfe68cbe424d411e9790b1ffee83c9cc",
            "81e9e35f86724f258f17f98e38841a33",
            "08917850df1147678e2fccb6e3af24b1",
            "b237575386964219a9c9de3b0ea268e4",
            "b5f67135090547f8a6f444348317bde0",
            "b715c0ce335a490db4d5b72d05baddd1",
            "f5fe8e832f4b479d8e36c833986e9a43",
            "5c50113ab7884863bbf0e90d7d49132b",
            "a3e2edec1c5049a9ab5b78a559ab5809",
            "ccf42986beda4dd8944f0c01906d7f02",
            "ec32a0133f1643dfb1acabaa7abc5f80",
            "6eba6653997447f1b5f4fd79e4a71500",
            "d34dec55384e4b38852981ac5844487e",
            "dfc0f40a1a55493e869c279717db8603",
            "8b5e3965d635481b92493c2f8c2a0340",
            "ded31453b8004d3f8ebd16ae4707db16",
            "70f0e480489a46e896c18f8f0c9f9ede",
            "ee1e9cdf3c4c4aaa828e4637abcb1115",
            "d011b55823b04b36afcdf4f23996e34a",
            "2f9305325ec548d8a512966783b1fbc8",
            "cc65b8f9967844a19d2d29521d995a3b",
            "6128dd75865a4b1bbfca4b60902e523c",
            "1351dddab63348a9afaee3491e6d5a9b",
            "473308def3504a6c88ad8dca43ba1c4d",
            "05078b533b4a4210b4cab757bd2f363b",
            "3dc3b53ca25d484f9a03e7ae5292f917",
            "856e6c27084a4764bf6c7a31368c3811",
            "e25fe958b35c43b08608f742bb2d97a1",
            "94e81dcd66014701833893ab8dd6cccf",
            "fb3b5b3e5c644e54be3f0828f860a63a",
            "ea1ecf40aca74599a89b1b9173fb2070",
            "530762b56504499a828d257fa5dbe1d7",
            "75063084efea45448d8af5fe5b0a3263",
            "d4ac471161e7469687bfb5e7c0896d85",
            "547fc6fc4bb349ed9c5e5a81468f1245"
          ]
        },
        "id": "ZP02F_4E2Ngq",
        "outputId": "e226fe1c-c3bb-4527-e0a5-005cc3e5eb81"
      },
      "outputs": [
        {
          "data": {
            "application/vnd.jupyter.widget-view+json": {
              "model_id": "342ca7df0a0d4f1c85319f9e2abb880e",
              "version_major": 2,
              "version_minor": 0
            },
            "text/plain": [
              "Downloading (…)lve/main/config.json:   0%|          | 0.00/1.21k [00:00<?, ?B/s]"
            ]
          },
          "metadata": {},
          "output_type": "display_data"
        },
        {
          "data": {
            "application/vnd.jupyter.widget-view+json": {
              "model_id": "08917850df1147678e2fccb6e3af24b1",
              "version_major": 2,
              "version_minor": 0
            },
            "text/plain": [
              "Downloading (…)\"tf_model.h5\";:   0%|          | 0.00/2.95G [00:00<?, ?B/s]"
            ]
          },
          "metadata": {},
          "output_type": "display_data"
        },
        {
          "name": "stderr",
          "output_type": "stream",
          "text": [
            "All model checkpoint layers were used when initializing TFT5ForConditionalGeneration.\n",
            "\n",
            "All the layers of TFT5ForConditionalGeneration were initialized from the model checkpoint at t5-large.\n",
            "If your task is similar to the task the model of the checkpoint was trained on, you can already use TFT5ForConditionalGeneration for predictions without further training.\n"
          ]
        },
        {
          "data": {
            "application/vnd.jupyter.widget-view+json": {
              "model_id": "dfc0f40a1a55493e869c279717db8603",
              "version_major": 2,
              "version_minor": 0
            },
            "text/plain": [
              "Downloading (…)neration_config.json:   0%|          | 0.00/147 [00:00<?, ?B/s]"
            ]
          },
          "metadata": {},
          "output_type": "display_data"
        },
        {
          "data": {
            "application/vnd.jupyter.widget-view+json": {
              "model_id": "05078b533b4a4210b4cab757bd2f363b",
              "version_major": 2,
              "version_minor": 0
            },
            "text/plain": [
              "Downloading (…)ve/main/spiece.model:   0%|          | 0.00/792k [00:00<?, ?B/s]"
            ]
          },
          "metadata": {},
          "output_type": "display_data"
        },
        {
          "name": "stdout",
          "output_type": "stream",
          "text": [
            "Model: \"tft5_for_conditional_generation\"\n",
            "_________________________________________________________________\n",
            " Layer (type)                Output Shape              Param #   \n",
            "=================================================================\n",
            " shared (Embedding)          multiple                  32899072  \n",
            "                                                                 \n",
            " encoder (TFT5MainLayer)     multiple                  334939648 \n",
            "                                                                 \n",
            " decoder (TFT5MainLayer)     multiple                  435627520 \n",
            "                                                                 \n",
            "=================================================================\n",
            "Total params: 737,668,096\n",
            "Trainable params: 737,668,096\n",
            "Non-trainable params: 0\n",
            "_________________________________________________________________\n"
          ]
        },
        {
          "name": "stderr",
          "output_type": "stream",
          "text": [
            "/usr/local/lib/python3.8/dist-packages/transformers/models/t5/tokenization_t5.py:163: FutureWarning: This tokenizer was incorrectly instantiated with a model max length of 512 which will be corrected in Transformers v5.\n",
            "For now, this behavior is kept to avoid breaking backwards compatibility when padding/encoding with `truncation is True`.\n",
            "- Be aware that you SHOULD NOT rely on t5-large automatically truncating your input to 512 when padding/encoding.\n",
            "- If you want to encode/pad to sequences longer than 512 you can either instantiate this tokenizer with `model_max_length` or pass `max_length` when encoding/padding.\n",
            "- To avoid this warning, please instantiate this tokenizer with `model_max_length` set to your preferred value.\n",
            "  warnings.warn(\n"
          ]
        }
      ],
      "source": [
        "t5_model = TFT5ForConditionalGeneration.from_pretrained('t5-large')\n",
        "t5_tokenizer = T5Tokenizer.from_pretrained('t5-large')\n",
        "\n",
        "t5_model.summary()"
      ]
    },
    {
      "cell_type": "markdown",
      "metadata": {
        "id": "ukA3CNS6ZsZt"
      },
      "source": [
        "737 m trainable parameters. Quite a lot. \n",
        "\n",
        "Let's create a short text to use as an example."
      ]
    },
    {
      "cell_type": "code",
      "execution_count": null,
      "metadata": {
        "id": "vGxjgkL96Lh3"
      },
      "outputs": [],
      "source": [
        "ARTICLE = (\"Oh boy, what a lengthy and cumbersome excercise this was. \" \\\n",
        "           \"I had to look into every detail, check everything twice, \" \\\n",
        "           \" and then compare to prior results. Because of this tediousness \" \\\n",
        "           \" and extra work my homework was 2 days late.\")"
      ]
    },
    {
      "cell_type": "markdown",
      "metadata": {
        "id": "n-tEGC7MZz9F"
      },
      "source": [
        "Next, we need to specify the task we want T5 to perform and include it at the begining of the input text.  We add a task prompt to the begining of our input.  Because we are summarizing, we add the word *summarize:* to the begining of our input."
      ]
    },
    {
      "cell_type": "code",
      "execution_count": null,
      "metadata": {
        "id": "TgFCtCMP2TAo"
      },
      "outputs": [],
      "source": [
        "t5_input_text = \"summarize: \" + ARTICLE\n",
        "t5_inputs = t5_tokenizer([t5_input_text], return_tensors='tf')"
      ]
    },
    {
      "cell_type": "markdown",
      "metadata": {
        "id": "yoR7GwLsZ96P"
      },
      "source": [
        "First, we will generate a summary using the default output options."
      ]
    },
    {
      "cell_type": "code",
      "execution_count": null,
      "metadata": {
        "colab": {
          "base_uri": "https://localhost:8080/"
        },
        "id": "BooaIspD2YHx",
        "outputId": "47cf5b5f-203a-47bc-8b55-eac44b1f5ce0"
      },
      "outputs": [
        {
          "name": "stderr",
          "output_type": "stream",
          "text": [
            "/usr/local/lib/python3.8/dist-packages/transformers/generation/tf_utils.py:702: UserWarning: Neither `max_length` nor `max_new_tokens` have been set, `max_length` will default to 20 (`generation_config.max_length`). Controlling `max_length` via the config is deprecated and `max_length` will be removed from the config in v5 of Transformers -- we recommend using `max_new_tokens` to control the maximum length of the generation.\n",
            "  warnings.warn(\n"
          ]
        },
        {
          "name": "stdout",
          "output_type": "stream",
          "text": [
            "['homework was a lengthy and cumbersome excercise . because of this tedious']\n"
          ]
        }
      ],
      "source": [
        "t5_summary_ids = t5_model.generate(t5_inputs['input_ids'])\n",
        "\n",
        "print([t5_tokenizer.decode(g, skip_special_tokens=True,\n",
        "                           clean_up_tokenization_spaces=False)\n",
        "       for g in t5_summary_ids])"
      ]
    },
    {
      "cell_type": "markdown",
      "metadata": {
        "id": "RHlbG7UOaEnr"
      },
      "source": [
        "Not great. But let's get more sophisticated and prescribe a minimum length and use beam search to generate multiple outputs.  We also indicate the maximum length the output should be.  Finally, in order to reduce repetitive output we tell the model to avoid output that repeats trigrams (three word groupings)."
      ]
    },
    {
      "cell_type": "code",
      "execution_count": null,
      "metadata": {
        "colab": {
          "base_uri": "https://localhost:8080/"
        },
        "id": "Cl2LvRRz2cH1",
        "outputId": "4c4957f2-75e8-4869-d4e7-c56adede66a7"
      },
      "outputs": [
        {
          "name": "stdout",
          "output_type": "stream",
          "text": [
            "['i had to look into every detail, check everything twice, and then compare to prior results . because of this tediousness and extra work my homework was 2 days late .']\n"
          ]
        }
      ],
      "source": [
        "t5_summary_ids = t5_model.generate(t5_inputs['input_ids'],\n",
        "                                   num_beams=3,\n",
        "                                   no_repeat_ngram_size=3,\n",
        "                                   min_length=20,\n",
        "                                   max_length=40)\n",
        "                             \n",
        "print([t5_tokenizer.decode(g, skip_special_tokens=True, \n",
        "                           clean_up_tokenization_spaces=False) for g in t5_summary_ids])"
      ]
    },
    {
      "cell_type": "markdown",
      "metadata": {
        "id": "i5-eCY8DaQTM"
      },
      "source": [
        "That is a bit better thanks to our application of some hyperparameters. \n",
        "\n",
        "Lastly, can T5 perform machine translation? Yes, in some limited instances.  We need to specify the input and output languages. Keep in mind that the model has only been trained to translate in particular directions e.g. English to Romanian but NOT Romanian to English.\n"
      ]
    },
    {
      "cell_type": "code",
      "execution_count": null,
      "metadata": {
        "id": "guJVGlqg5LWM"
      },
      "outputs": [],
      "source": [
        "t5_input_text = \"translate English to German: \" + ARTICLE\n",
        "t5_inputs = t5_tokenizer([t5_input_text], return_tensors='tf')"
      ]
    },
    {
      "cell_type": "code",
      "execution_count": null,
      "metadata": {
        "colab": {
          "base_uri": "https://localhost:8080/"
        },
        "id": "CB6pE72B5PKb",
        "outputId": "be1ba8e4-15cf-4058-fb5a-ee207988c128"
      },
      "outputs": [
        {
          "name": "stdout",
          "output_type": "stream",
          "text": [
            "['Ich habe es nicht geschafft, meinen ersten Test zu schreiben, da ich nicht genügend Zeit hatte, um meinen Test zu bearbeiten.']\n"
          ]
        }
      ],
      "source": [
        "t5_summary_ids = t5_model.generate(t5_inputs['input_ids'],\n",
        "                                   num_beams=3,\n",
        "                                   no_repeat_ngram_size=3,\n",
        "                                   min_length=10,\n",
        "                                   max_length=40)\n",
        "                             \n",
        "print([t5_tokenizer.decode(g, skip_special_tokens=True, \n",
        "                           clean_up_tokenization_spaces=False) for g in t5_summary_ids])"
      ]
    },
    {
      "cell_type": "markdown",
      "metadata": {
        "id": "Y1C3xL6ma5xC"
      },
      "source": [
        "Hmm... output language fluency is very good. But take the German output and feed it in to translate.google.com and see what this means. Is it anything like its English input? This hallucination might be mitigated by changing some of the hyperparameters like num_beams.\n",
        "\n",
        "Is a shorter example more accurate?  Maybe."
      ]
    },
    {
      "cell_type": "code",
      "execution_count": null,
      "metadata": {
        "id": "SY93muRb5RiI"
      },
      "outputs": [],
      "source": [
        "t5_input_text = \"translate English to German: That was really not very good today; it was too difficult to solve.\"\n",
        "t5_inputs = t5_tokenizer([t5_input_text], return_tensors='tf')"
      ]
    },
    {
      "cell_type": "code",
      "execution_count": null,
      "metadata": {
        "colab": {
          "base_uri": "https://localhost:8080/"
        },
        "id": "mDsF31UZbK1I",
        "outputId": "60fa49cd-fde1-46bf-a736-dc12fcfced0e"
      },
      "outputs": [
        {
          "name": "stdout",
          "output_type": "stream",
          "text": [
            "['Das war heute wirklich nicht sehr gut; es war zu schwierig zu lösen.']\n"
          ]
        }
      ],
      "source": [
        "t5_summary_ids = t5_model.generate(t5_inputs['input_ids'],\n",
        "                                   num_beams=3,\n",
        "                                   no_repeat_ngram_size=3,\n",
        "                                   min_length=10,\n",
        "                                   max_length=40)\n",
        "                             \n",
        "print([t5_tokenizer.decode(g, skip_special_tokens=True, \n",
        "                           clean_up_tokenization_spaces=False) for g in t5_summary_ids])"
      ]
    },
    {
      "cell_type": "markdown",
      "metadata": {
        "id": "QJy_BapabMYQ"
      },
      "source": [
        "That is not bad, though some mistakes are there."
      ]
    },
    {
      "cell_type": "markdown",
      "metadata": {
        "id": "OihbtuDE24RP"
      },
      "source": [
        "[Return to Top](#returnToTop)  \n",
        "<a id = 'prompts'></a>\n",
        "\n",
        "## 4. Prompt Engineering and Generative Large Language Models\n",
        "\n",
        "The development of very large language models such as [GPT3](https://arxiv.org/pdf/2005.14165.pdf) have led to increased interest in few shot and zero shot approaches to tasks.  These generative language models allow a user to provide a prompt with several examples followed by a question the model must answer.  GPT3, especially its 175 billion parameter model, demonstrates the feasibility of a zero shot model where the model can simply be presented with the prompt and in many instances provide the correct answer.  \n",
        "\n",
        "The implication of this zero shot capability is that a very large generative language model can be pre-trained and then shared by a large group of people because it requires no fine-tuning or parameter manipulation. Instead, the users work on the wording of their prompt and providing enough context that the model an perform the task correctly. [Liu et. al.](https://arxiv.org/pdf/2107.13586.pdf) characterize this as \"pre-train, prompt, and predict.\"\n",
        "\n",
        "There are multiple approaches to pre-train, prompt and predict.  Here we explore two of them.  First we look at cloze prompts.  These leverage the masked language model approach used in BERT an T5 where individual words or spans are masked and during pre-training the model learns to predict the maked tokens. Second we look at prefix prompts.  These leverage the next word prediction capability of decoder only models in the GPT family. "
      ]
    },
    {
      "cell_type": "markdown",
      "metadata": {
        "id": "X4vUv5ZYB9rz"
      },
      "source": [
        "[Return to Top](#returnToTop)  \n",
        "<a id = 'clozePrompts'></a>\n",
        "\n",
        "### 4.1 Cloze Prompts\n",
        "\n",
        "Cloze prompts take advantgae of the masked language model task where an individual word or span of words anywhere in the input are masked and the language model learns to predict them. "
      ]
    },
    {
      "cell_type": "code",
      "execution_count": null,
      "metadata": {
        "colab": {
          "base_uri": "https://localhost:8080/",
          "height": 339,
          "referenced_widgets": [
            "58f36121b0d24e12b0e0e69f98bcff4d",
            "96fea4e79c254651b714d87c69457955",
            "e6ed441cf40346ffa1d430392c0f198c",
            "45f3c05afd6d43b79fccbf8e7f493241",
            "64b024e9cd6544b5aa03e3cd10c1fc85",
            "941499bee36e4594ad909b3cae5ea390",
            "03d019f212454b6da55fa81c3dcb509e",
            "479f64f1f834474b8c3764dd26434568",
            "222d17e71cb341639c298726c3083d64",
            "b452b0f0c7a840939b9275af315bc98d",
            "9ae121329a604b8ba29fb1348ce9da2f",
            "821c3317c1044e5f932602535da3e569",
            "04af3b20fca44068acb99029552d90d7",
            "cc4e1f2e57404d0088629001a336ade6",
            "cbab82bb9ad248f991bd90a7a972d631",
            "c95df3d184ea41a4a0c3d01684da16a1",
            "db79c4f0f5b744e8a75f41c92f2eba19",
            "d41200b65b3040d8b85ee05b5c86a89d",
            "6f6c48462e96490ea7723becf2607e79",
            "658d0a7d25a24d658d239d2a3469c129",
            "b77d5cf2b3474b3b86846605dd6019b2",
            "b878c7fd6f0a43ddb967a6db68d2e4cb",
            "29bace504ff84aefaee8e95904c571e8",
            "6277d6da4f3c460b8eb8a10c9e3180ef",
            "0f444e540c9e4cd3a1b6d088d969bae0",
            "b01a6bb99876457285765ea5a6da7fce",
            "79c38130697045279fe163f3e8a56945",
            "d2a7499f09494e12a9edd765e1110f44",
            "2cf1a4fa717e4a5db7374c52f6b7e280",
            "5378dfd350cb4408afd0ce22f6cd490c",
            "14a5f7b822754bff8b9aa1ec71f18273",
            "8a7f2c044c3d421e83a896a699d04ae5",
            "c1d53ecf061a4348a36434d5ca8f8662",
            "4dd42e0344f4431cb242a250a7d1073e",
            "1cbb12551fb14c4ea3a060ca859bf6a2",
            "08061d56c5db4565996216cd063a50cd",
            "f9363c84bf71430b83e810f8ba386f89",
            "7e7c882ae2b44d5b87398f5fad2ffc9f",
            "64477215d7c54e988e042f8b3923011c",
            "d0c8046fdf1e4a2eba4757ce74974938",
            "c54060108bd64d2da3e289ecd993722b",
            "c317b0418b0240fda9c390f2ffca47be",
            "65527cdb577247fdb252c04d78a958f1",
            "f34e749967224aafb91b0750ef0f79b6"
          ]
        },
        "id": "0ECNZWOiJK8r",
        "outputId": "58ff0d28-2430-431d-a3bd-c0fd06b81d7a"
      },
      "outputs": [
        {
          "data": {
            "application/vnd.jupyter.widget-view+json": {
              "model_id": "58f36121b0d24e12b0e0e69f98bcff4d",
              "version_major": 2,
              "version_minor": 0
            },
            "text/plain": [
              "Downloading (…)lve/main/config.json:   0%|          | 0.00/1.21k [00:00<?, ?B/s]"
            ]
          },
          "metadata": {},
          "output_type": "display_data"
        },
        {
          "data": {
            "application/vnd.jupyter.widget-view+json": {
              "model_id": "821c3317c1044e5f932602535da3e569",
              "version_major": 2,
              "version_minor": 0
            },
            "text/plain": [
              "Downloading (…)\"tf_model.h5\";:   0%|          | 0.00/892M [00:00<?, ?B/s]"
            ]
          },
          "metadata": {},
          "output_type": "display_data"
        },
        {
          "name": "stderr",
          "output_type": "stream",
          "text": [
            "All model checkpoint layers were used when initializing TFT5ForConditionalGeneration.\n",
            "\n",
            "All the layers of TFT5ForConditionalGeneration were initialized from the model checkpoint at t5-base.\n",
            "If your task is similar to the task the model of the checkpoint was trained on, you can already use TFT5ForConditionalGeneration for predictions without further training.\n"
          ]
        },
        {
          "data": {
            "application/vnd.jupyter.widget-view+json": {
              "model_id": "29bace504ff84aefaee8e95904c571e8",
              "version_major": 2,
              "version_minor": 0
            },
            "text/plain": [
              "Downloading (…)neration_config.json:   0%|          | 0.00/147 [00:00<?, ?B/s]"
            ]
          },
          "metadata": {},
          "output_type": "display_data"
        },
        {
          "data": {
            "application/vnd.jupyter.widget-view+json": {
              "model_id": "4dd42e0344f4431cb242a250a7d1073e",
              "version_major": 2,
              "version_minor": 0
            },
            "text/plain": [
              "Downloading (…)ve/main/spiece.model:   0%|          | 0.00/792k [00:00<?, ?B/s]"
            ]
          },
          "metadata": {},
          "output_type": "display_data"
        },
        {
          "name": "stderr",
          "output_type": "stream",
          "text": [
            "/usr/local/lib/python3.8/dist-packages/transformers/models/t5/tokenization_t5.py:163: FutureWarning: This tokenizer was incorrectly instantiated with a model max length of 512 which will be corrected in Transformers v5.\n",
            "For now, this behavior is kept to avoid breaking backwards compatibility when padding/encoding with `truncation is True`.\n",
            "- Be aware that you SHOULD NOT rely on t5-base automatically truncating your input to 512 when padding/encoding.\n",
            "- If you want to encode/pad to sequences longer than 512 you can either instantiate this tokenizer with `model_max_length` or pass `max_length` when encoding/padding.\n",
            "- To avoid this warning, please instantiate this tokenizer with `model_max_length` set to your preferred value.\n",
            "  warnings.warn(\n"
          ]
        }
      ],
      "source": [
        "del t5_tokenizer\n",
        "del t5_model\n",
        "\n",
        "t5_model = TFT5ForConditionalGeneration.from_pretrained('t5-base')\n",
        "t5_tokenizer = T5Tokenizer.from_pretrained('t5-base')"
      ]
    },
    {
      "cell_type": "markdown",
      "metadata": {
        "id": "e3imLWPK2_JR"
      },
      "source": [
        "\"\\<extra_id_0\\>\" is the special token (called a sentinel token) we can use with T5 to invoke its masked word modeling ability. There are up to 99 of these tokens. This means we can construct sentences, like a fill in the blank test, that allow us to probe the knowledge embedded in the model based on its pre-training.  Here's an example that works well.  After you've run it try substituting beagle for poodle and you'll see the model gets confused.\n",
        "\n",
        "Notice two that we are using a beam search approach and accepting the top three choices rather than just the first choice."
      ]
    },
    {
      "cell_type": "code",
      "execution_count": null,
      "metadata": {
        "colab": {
          "base_uri": "https://localhost:8080/"
        },
        "id": "VErVi2AW3J84",
        "outputId": "0151e060-663c-4945-859d-ccd4ce6ab3e7"
      },
      "outputs": [
        {
          "name": "stdout",
          "output_type": "stream",
          "text": [
            "['Shepherd', 'working', 'Working']\n"
          ]
        }
      ],
      "source": [
        "PROMPT_SENTENCE = ( \"An Australian <extra_id_0> is a type of working dog .\")\n",
        "t5_input_text = PROMPT_SENTENCE\n",
        "t5_inputs = t5_tokenizer([t5_input_text], return_tensors='tf')\n",
        "t5_summary_ids = t5_model.generate(t5_inputs['input_ids'], \n",
        "                                   num_beams=15,\n",
        "                                   no_repeat_ngram_size=2,\n",
        "                                   num_return_sequences=3,\n",
        "                                   min_length=1,\n",
        "                                   max_length=3)\n",
        "                             \n",
        "print([t5_tokenizer.decode(g, skip_special_tokens=True, \n",
        "                           clean_up_tokenization_spaces=False) for g in t5_summary_ids])"
      ]
    },
    {
      "cell_type": "markdown",
      "metadata": {
        "id": "R_OmxvA13A09"
      },
      "source": [
        "[Return to Top](#returnToTop)  \n",
        "<a id = 'prefixPrompt'></a>\n",
        "\n",
        "### 4.2 Prefix Prompts\n",
        "\n",
        "Prefix prompts are used with models that predict the next word given a large context window.  If you fill that window with the right information you can get the model to generate the output you want.  GPT3 relies on this approach to successfully perform.  You can either include a couple of examples of what you want the model to do and then ask your question or you can just ask your question.\n",
        "\n",
        "Let's take a look at a decoder-only generative pretrained text generation model: [OPT](https://arxiv.org/pdf/2205.01068.pdf). This model doesn't have separate input and output sequences, instead we will feed in one sequence (the prefix prompt) and ask the model to continue generating text to complete that same sequence.  The OPT model is intended to replicate the functionality of the GPT-3 model and comes in several size from 125 million parameters to 175 billion parameters.  We'll work with the 350 million parameter model."
      ]
    },
    {
      "cell_type": "markdown",
      "metadata": {
        "id": "VAdytHKkIXtx"
      },
      "source": [
        "As with T5, we'll just try out the pre-trained model and see what text it generates for a new starting sequence."
      ]
    },
    {
      "cell_type": "code",
      "execution_count": null,
      "metadata": {
        "id": "xA7SCOBXM7nN"
      },
      "outputs": [],
      "source": [
        "from transformers import GPT2Tokenizer, TFOPTForCausalLM\n"
      ]
    },
    {
      "cell_type": "code",
      "execution_count": null,
      "metadata": {
        "colab": {
          "base_uri": "https://localhost:8080/",
          "height": 330,
          "referenced_widgets": [
            "ede33228db42489484dddc78fd804a85",
            "a6580a5c8b1f4a5a9703c3a1464aa6c1",
            "595035e2401a4ce1a3d60e6660bed987",
            "24ddf35e641748259b54a132d4da23aa",
            "e175633d47424ebe9f701484536a2965",
            "7f2be85389a045fb8b18f0b4d03217fa",
            "7c8307f281a34fe9a2c1d91e8da30dc7",
            "3055f5c777ae44ebb922ff09adbf0c52",
            "032ebb22f33641cc94f57de3bfe55585",
            "98f211febaaa4f5ca1317530ffd601eb",
            "81fbac7e521c41eba1875d4c1ecd1db1",
            "cbae8d027fd2497da5d9a3ed5760871f",
            "82bc5e8fbb5149aeb660b9ec7fdfc154",
            "fd75cb6ec09f4af8a584391742aa6e86",
            "cf7e914b8c1f4c67ac22ec91486e133f",
            "8dddd6f83c1b49ffb417be1141d5ae67",
            "da6d628552124d7aac3974c92962996b",
            "2a5668cc44ec4c1c8567f08e5f33460e",
            "7d48e8625c934b849884397a5a5afc89",
            "ddeed5f76d2048c3871503d162e135a7",
            "cf8862773f914949951bf36b6a9fece6",
            "faf829d0986b48a8aae017339008bc4e",
            "5431e07aed214681961b463376fcd6e4",
            "f028f9b33a2c4af3905b48664dc9fe1c",
            "ed7da85a4f24495fa1272a3464724a9a",
            "7fc7592b74e44f5d852804f2dd70e2c3",
            "58e6198b426946fda6777b1e497b1002",
            "4ef76cbd354f45ffbac8d3f05597f51e",
            "5f19c5d2f3054edbb5c749779636701f",
            "587d7d33535d4ce5a8b084a552073e52",
            "974c1406d98f4fb4a23f2b700a48b632",
            "9bfe0289d7a34eaab8fdcdbcd654cd24",
            "64204bc52bab4cfbbcc85d65c3bf10bb",
            "c3a39fcf40a74acdb46b45d411b58906",
            "afae606770e2448f8c99253cec22d1d8",
            "72b78141b901440ea67a1f9a9661926b",
            "39961a23b92d435b9d2daee31732606b",
            "21069da5e03640cc947968ee2cda0a31",
            "db999cc21e144fae95020fedc8f547ca",
            "dace66e7450741e2bc806e8c44e3486e",
            "4834332789aa43e6a9c7cef244d27cd3",
            "ed605cf37f7049ab83d2ccd09ea5047c",
            "3df33e47f77347f6aa154682cec720f8",
            "6c317e38b35447e48b2b8d4f465b7d84",
            "710f0af951eb48148e715f544a014854",
            "be738395495c4296af63be3b3cc6bec1",
            "f4ef59a869074119a49eec655d24bdc3",
            "884dcca5099a42b28e503450ff4d4213",
            "2e25fabb290d4d8d884ece1932f4825a",
            "9f674bac61164a6b9248496734b10471",
            "2a4f7b679fd6443b94cfbfc7adbe4eb1",
            "f37bb5f0191f4e4ab0929d279b6ab51b",
            "97d3fd32bd5b413bbd70bef90dfa6ac4",
            "e1d090e8eef4440195ca7ac98afc7aa5",
            "28adf5ae61df4890a817ce39bed03501",
            "ed5e354d9b0b42b2b6b6068e50247603",
            "05ccbcaa89df4a0793e34ec1d512a358",
            "8f1ddf337a834d4fba557d99403e99a3",
            "ff27df55197e486e8f0e66d49d41121e",
            "a6a4e393905847a88fe81eded073d252",
            "5e4f44dde9a844ef83e455c10feca58e",
            "045f6a739fe04a92a94e52399d8cdebd",
            "2a4cbabb04bd4de0898bd2592f490529",
            "70bb6c84251641c4939e1998b6893806",
            "888bf56f2a204b8f883df979436aaa21",
            "b475d760fccc4e4987aae40141b8886e",
            "3b623f09283344cc931ac37ca053b293",
            "3e8d5f55b5ef4aa6ae580391abb26075",
            "40ae8b7462104dbe95dc10eb62d8749a",
            "9ce113147e9e42f883ab8019ad900a5b",
            "e2fae6209a5f49d4aff34dae478c9503",
            "551220905b9b41d7aa0308a3380740ff",
            "2bc08cfee8ad43fb8d281c64da76b0de",
            "81b690d1f94448239ea1a0984f0a4521",
            "b1a5419e344e4c349e905522f1f15aa0",
            "a2e6d14eed674b1293e5337744f4d5da",
            "354bde2806db4ab9b8733c36877d2048"
          ]
        },
        "id": "iTl3MurxM7d2",
        "outputId": "105f94f3-3daf-4aef-edf5-6e6d88526a98"
      },
      "outputs": [
        {
          "data": {
            "application/vnd.jupyter.widget-view+json": {
              "model_id": "ede33228db42489484dddc78fd804a85",
              "version_major": 2,
              "version_minor": 0
            },
            "text/plain": [
              "Downloading (…)olve/main/vocab.json:   0%|          | 0.00/899k [00:00<?, ?B/s]"
            ]
          },
          "metadata": {},
          "output_type": "display_data"
        },
        {
          "data": {
            "application/vnd.jupyter.widget-view+json": {
              "model_id": "cbae8d027fd2497da5d9a3ed5760871f",
              "version_major": 2,
              "version_minor": 0
            },
            "text/plain": [
              "Downloading (…)olve/main/merges.txt:   0%|          | 0.00/456k [00:00<?, ?B/s]"
            ]
          },
          "metadata": {},
          "output_type": "display_data"
        },
        {
          "data": {
            "application/vnd.jupyter.widget-view+json": {
              "model_id": "5431e07aed214681961b463376fcd6e4",
              "version_major": 2,
              "version_minor": 0
            },
            "text/plain": [
              "Downloading (…)cial_tokens_map.json:   0%|          | 0.00/441 [00:00<?, ?B/s]"
            ]
          },
          "metadata": {},
          "output_type": "display_data"
        },
        {
          "data": {
            "application/vnd.jupyter.widget-view+json": {
              "model_id": "c3a39fcf40a74acdb46b45d411b58906",
              "version_major": 2,
              "version_minor": 0
            },
            "text/plain": [
              "Downloading (…)okenizer_config.json:   0%|          | 0.00/685 [00:00<?, ?B/s]"
            ]
          },
          "metadata": {},
          "output_type": "display_data"
        },
        {
          "data": {
            "application/vnd.jupyter.widget-view+json": {
              "model_id": "710f0af951eb48148e715f544a014854",
              "version_major": 2,
              "version_minor": 0
            },
            "text/plain": [
              "Downloading (…)lve/main/config.json:   0%|          | 0.00/644 [00:00<?, ?B/s]"
            ]
          },
          "metadata": {},
          "output_type": "display_data"
        },
        {
          "data": {
            "application/vnd.jupyter.widget-view+json": {
              "model_id": "ed5e354d9b0b42b2b6b6068e50247603",
              "version_major": 2,
              "version_minor": 0
            },
            "text/plain": [
              "Downloading (…)\"tf_model.h5\";:   0%|          | 0.00/663M [00:00<?, ?B/s]"
            ]
          },
          "metadata": {},
          "output_type": "display_data"
        },
        {
          "name": "stderr",
          "output_type": "stream",
          "text": [
            "All model checkpoint layers were used when initializing TFOPTForCausalLM.\n",
            "\n",
            "All the layers of TFOPTForCausalLM were initialized from the model checkpoint at facebook/opt-350m.\n",
            "If your task is similar to the task the model of the checkpoint was trained on, you can already use TFOPTForCausalLM for predictions without further training.\n"
          ]
        },
        {
          "data": {
            "application/vnd.jupyter.widget-view+json": {
              "model_id": "3b623f09283344cc931ac37ca053b293",
              "version_major": 2,
              "version_minor": 0
            },
            "text/plain": [
              "Downloading (…)neration_config.json:   0%|          | 0.00/137 [00:00<?, ?B/s]"
            ]
          },
          "metadata": {},
          "output_type": "display_data"
        }
      ],
      "source": [
        "opt_tokenizer = GPT2Tokenizer.from_pretrained(\"facebook/opt-350m\")\n",
        "opt_model = TFOPTForCausalLM.from_pretrained(\"facebook/opt-350m\")"
      ]
    },
    {
      "cell_type": "code",
      "execution_count": null,
      "metadata": {
        "id": "rseHCa6q1OP9"
      },
      "outputs": [],
      "source": [
        "prefix_prompt = 'Yesterday, I went to the store to buy '\n",
        "input_ids = opt_tokenizer.encode(prefix_prompt, return_tensors='tf')"
      ]
    },
    {
      "cell_type": "code",
      "execution_count": null,
      "metadata": {
        "colab": {
          "base_uri": "https://localhost:8080/"
        },
        "id": "OpI1EL511OTA",
        "outputId": "8e5ba0ad-dfe0-49f2-c6f3-84254f4412c1"
      },
      "outputs": [
        {
          "name": "stdout",
          "output_type": "stream",
          "text": [
            "\n",
            "0: Yesterday, I went to the store to buy  an iPhone and there was a message saying there were no new models available.\n",
            "You've only been here for like 2\n",
            "\n",
            "1: Yesterday, I went to the store to buy  a new (to me) T-shirt.\n",
            "I came home and said \"Wait where did this shirt come from\n",
            "\n",
            "2: Yesterday, I went to the store to buy iced tea. One of my friends was at work and he has a huge beard so it would be weird if we got\n"
          ]
        }
      ],
      "source": [
        "generated_text_outputs = opt_model.generate(\n",
        "    input_ids, \n",
        "    max_length=35,\n",
        "    num_return_sequences=3,\n",
        "    repetition_penalty=1.5,\n",
        "    top_p=0.92,\n",
        "    temperature=.85,\n",
        "    do_sample=True,\n",
        "    top_k=125,\n",
        "    early_stopping=True\n",
        ")\n",
        "\n",
        "#Print output for each sequence generated above\n",
        "for i, beam in enumerate(generated_text_outputs):\n",
        "  print()\n",
        "  print(\"{}: {}\".format(i, opt_tokenizer.decode(beam, skip_special_tokens=True, clean_up_tokenization_spaces=True)))\n"
      ]
    },
    {
      "cell_type": "markdown",
      "metadata": {
        "id": "5TRA7t_1H7MG"
      },
      "source": [
        "Now let's try a long prompt to give the model a lot of context to work with and see how well it performs.  We'll also include the output for that same prompt from chatGPT for comparison purposes. "
      ]
    },
    {
      "cell_type": "code",
      "execution_count": null,
      "metadata": {
        "id": "zHMz-leRM7S6"
      },
      "outputs": [],
      "source": [
        "prompt = (\"Write a paragraph long review of Dino's Diner which has been your family's favorite for generations.\" \\\n",
        "          \" You are a 42 year old parent with three hungry kids who lives in Tom's River, NJ.\")\n",
        "\n",
        "inputs = opt_tokenizer(prompt, return_tensors=\"tf\")"
      ]
    },
    {
      "cell_type": "code",
      "execution_count": null,
      "metadata": {
        "colab": {
          "base_uri": "https://localhost:8080/"
        },
        "id": "1Kzo9uQGM7Hg",
        "outputId": "78f1eaec-f303-45cb-c039-7c1521f6b751"
      },
      "outputs": [
        {
          "name": "stdout",
          "output_type": "stream",
          "text": [
            "0: Write a paragraph long review of Dino's Diner which has been your family's favorite for generations. You are a 42 year old parent with three hungry kids who lives in Tom's River, NJ. What makes Dino's Dining so special?\n",
            "A great place to see family and friends enjoy the best burgers around! We're on the way there now but we would have come if Dino's hadn't closed its doors last April - this is a special lunch from me because it really does just happen that I know my kids will love Dino's (heck he never said how many people can go through his kitchen) So get out one more time...and let us be proud parents today. Thank you!\n",
            "Have you ever had a diner experience like Dino’s? Tell us about it here: https://www3dinksubwaynewyorkcitiesreviewclub/comments/?id=9996#comment-398029258841 | Here at 3DINS\n",
            "\n",
            "1: Write a paragraph long review of Dino's Diner which has been your family's favorite for generations. You are a 42 year old parent with three hungry kids who lives in Tom's River, NJ. Here is the reason I have created this place:\n",
            "We love our food and we really enjoy making it! We bring our own wine (a couple bottles from one bottle can be used to make an order when you want), but we also try not TOO much chocolate on hand because we aren't great at filling large groups around us...so that means there will always need someone busy every 5 minutes or so - just like us!! If anyone knows how to customize / convert your pizza doughs/griddles into a great pizza crust they'd help me out :) The food here may seem expensive now days due some new taxes etc., however, I firmly believe that Dino's was built as part of a very good food culture back then!!! Thanks, Dino's Dine & Daze....I\n",
            "\n"
          ]
        }
      ],
      "source": [
        "#OPT 350m model\n",
        "generate_ids = opt_model.generate(inputs.input_ids,\n",
        "                              min_length=100, \n",
        "                              max_length=200,  \n",
        "                              repetition_penalty = 1.5,\n",
        "                              top_k=150, \n",
        "                              do_sample=True, \n",
        "                              top_p=0.95, \n",
        "                              temperature=.85,\n",
        "                              num_return_sequences=2) \n",
        "\n",
        "for i, sample_output in enumerate(generate_ids):\n",
        "  print(\"{}: {}\".format(i, opt_tokenizer.decode(sample_output, skip_special_tokens=True, clean_up_tokenization_spaces=True)))\n",
        "  print()"
      ]
    },
    {
      "cell_type": "markdown",
      "metadata": {
        "id": "9SQTJpMHIMKA"
      },
      "source": [
        "Here's how chatGPT, a variant of GPT3 trained to generate outputs that please humans, responded to that same prompt:\n",
        "\n",
        "`Dino's Diner has been a staple in my family for generations. As a 42 year old parent with three hungry kids, I appreciate the affordable, family-friendly atmosphere that Dino's provides. The menu offers a wide variety of options for breakfast, lunch, and dinner, and the portions are always generous. The staff is friendly and accommodating, and the service is fast. My kids love the milkshakes and the classic diner fare, and I can always count on Dino's to hit the spot. Living in Tom's River, NJ, Dino's Diner is the perfect spot for a family meal. It has been a beloved family tradition for us, and I'm sure it will continue to be for generations to come.`"
      ]
    },
    {
      "cell_type": "markdown",
      "metadata": {
        "id": "IpGU1ruV3Lp5"
      },
      "source": [
        "\n",
        "[Return to Top](#returnToTop)  \n",
        "<a id = 'classExercise'></a>\n",
        "\n",
        "### 4.3 In-Class Exercise (or on your own):\n",
        "- Try changing the text_start input text to see how OPT completes different types of starting sentences (prefix prompts). (If time, we can brainstorm some sentences to try in groups or collect in the chat during the live session.)\n",
        "- You can alter num_return_sequences to return a larger or smaller number of output options (i.e. beams).\n",
        "- You might want to play with the parameters for repetition_penalty to see how they affect the model's output.\n",
        "- You might also want to see what happens when you increase max_length, and how that relates to the repetition constraints. As the text gets longer, it will be more challenging for the model to avoid repeating itself. So stricter constraints against repetition might make the model get more creative or wander farther from the input sequence."
      ]
    },
    {
      "cell_type": "markdown",
      "metadata": {
        "id": "MKH8Jpmh2Bkw"
      },
      "source": [
        "[Return to Top](#returnToTop)  \n",
        "<a id = 'answers'></a>\n",
        "\n",
        "## 5. Answers\n",
        "\n",
        "**Question 1:** Why do you think the benefit of adding an attention layer is not larger?\n",
        "\n",
        "      Answer:   The nature of our training and test sets and the artificial size of the inputs (6 words) and outputs (11 words) means that the gains we might see on long sentences aren't a part of this test."
      ]
    },
    {
      "cell_type": "code",
      "execution_count": null,
      "metadata": {
        "id": "cmqqPpeA2IrD"
      },
      "outputs": [],
      "source": []
    }
  ],
  "metadata": {
    "accelerator": "GPU",
    "colab": {
      "provenance": [],
      "include_colab_link": true
    },
    "gpuClass": "standard",
    "kernelspec": {
      "display_name": "Python 3 (ipykernel)",
      "language": "python",
      "name": "python3"
    },
    "language_info": {
      "codemirror_mode": {
        "name": "ipython",
        "version": 3
      },
      "file_extension": ".py",
      "mimetype": "text/x-python",
      "name": "python",
      "nbconvert_exporter": "python",
      "pygments_lexer": "ipython3",
      "version": "3.8.15"
    },
    "widgets": {
      "application/vnd.jupyter.widget-state+json": {
        "03136f812ae2446b9bfae25f8ea59acb": {
          "model_module": "@jupyter-widgets/controls",
          "model_module_version": "1.5.0",
          "model_name": "HTMLModel",
          "state": {
            "_dom_classes": [],
            "_model_module": "@jupyter-widgets/controls",
            "_model_module_version": "1.5.0",
            "_model_name": "HTMLModel",
            "_view_count": null,
            "_view_module": "@jupyter-widgets/controls",
            "_view_module_version": "1.5.0",
            "_view_name": "HTMLView",
            "description": "",
            "description_tooltip": null,
            "layout": "IPY_MODEL_cfe68cbe424d411e9790b1ffee83c9cc",
            "placeholder": "​",
            "style": "IPY_MODEL_81e9e35f86724f258f17f98e38841a33",
            "value": " 1.21k/1.21k [00:00&lt;00:00, 53.0kB/s]"
          }
        },
        "032ebb22f33641cc94f57de3bfe55585": {
          "model_module": "@jupyter-widgets/controls",
          "model_module_version": "1.5.0",
          "model_name": "ProgressStyleModel",
          "state": {
            "_model_module": "@jupyter-widgets/controls",
            "_model_module_version": "1.5.0",
            "_model_name": "ProgressStyleModel",
            "_view_count": null,
            "_view_module": "@jupyter-widgets/base",
            "_view_module_version": "1.2.0",
            "_view_name": "StyleView",
            "bar_color": null,
            "description_width": ""
          }
        },
        "03d019f212454b6da55fa81c3dcb509e": {
          "model_module": "@jupyter-widgets/controls",
          "model_module_version": "1.5.0",
          "model_name": "DescriptionStyleModel",
          "state": {
            "_model_module": "@jupyter-widgets/controls",
            "_model_module_version": "1.5.0",
            "_model_name": "DescriptionStyleModel",
            "_view_count": null,
            "_view_module": "@jupyter-widgets/base",
            "_view_module_version": "1.2.0",
            "_view_name": "StyleView",
            "description_width": ""
          }
        },
        "045f6a739fe04a92a94e52399d8cdebd": {
          "model_module": "@jupyter-widgets/controls",
          "model_module_version": "1.5.0",
          "model_name": "DescriptionStyleModel",
          "state": {
            "_model_module": "@jupyter-widgets/controls",
            "_model_module_version": "1.5.0",
            "_model_name": "DescriptionStyleModel",
            "_view_count": null,
            "_view_module": "@jupyter-widgets/base",
            "_view_module_version": "1.2.0",
            "_view_name": "StyleView",
            "description_width": ""
          }
        },
        "04af3b20fca44068acb99029552d90d7": {
          "model_module": "@jupyter-widgets/controls",
          "model_module_version": "1.5.0",
          "model_name": "HTMLModel",
          "state": {
            "_dom_classes": [],
            "_model_module": "@jupyter-widgets/controls",
            "_model_module_version": "1.5.0",
            "_model_name": "HTMLModel",
            "_view_count": null,
            "_view_module": "@jupyter-widgets/controls",
            "_view_module_version": "1.5.0",
            "_view_name": "HTMLView",
            "description": "",
            "description_tooltip": null,
            "layout": "IPY_MODEL_db79c4f0f5b744e8a75f41c92f2eba19",
            "placeholder": "​",
            "style": "IPY_MODEL_d41200b65b3040d8b85ee05b5c86a89d",
            "value": "Downloading (…)&quot;tf_model.h5&quot;;: 100%"
          }
        },
        "05078b533b4a4210b4cab757bd2f363b": {
          "model_module": "@jupyter-widgets/controls",
          "model_module_version": "1.5.0",
          "model_name": "HBoxModel",
          "state": {
            "_dom_classes": [],
            "_model_module": "@jupyter-widgets/controls",
            "_model_module_version": "1.5.0",
            "_model_name": "HBoxModel",
            "_view_count": null,
            "_view_module": "@jupyter-widgets/controls",
            "_view_module_version": "1.5.0",
            "_view_name": "HBoxView",
            "box_style": "",
            "children": [
              "IPY_MODEL_3dc3b53ca25d484f9a03e7ae5292f917",
              "IPY_MODEL_856e6c27084a4764bf6c7a31368c3811",
              "IPY_MODEL_e25fe958b35c43b08608f742bb2d97a1"
            ],
            "layout": "IPY_MODEL_94e81dcd66014701833893ab8dd6cccf"
          }
        },
        "05ccbcaa89df4a0793e34ec1d512a358": {
          "model_module": "@jupyter-widgets/controls",
          "model_module_version": "1.5.0",
          "model_name": "HTMLModel",
          "state": {
            "_dom_classes": [],
            "_model_module": "@jupyter-widgets/controls",
            "_model_module_version": "1.5.0",
            "_model_name": "HTMLModel",
            "_view_count": null,
            "_view_module": "@jupyter-widgets/controls",
            "_view_module_version": "1.5.0",
            "_view_name": "HTMLView",
            "description": "",
            "description_tooltip": null,
            "layout": "IPY_MODEL_5e4f44dde9a844ef83e455c10feca58e",
            "placeholder": "​",
            "style": "IPY_MODEL_045f6a739fe04a92a94e52399d8cdebd",
            "value": "Downloading (…)&quot;tf_model.h5&quot;;: 100%"
          }
        },
        "08061d56c5db4565996216cd063a50cd": {
          "model_module": "@jupyter-widgets/controls",
          "model_module_version": "1.5.0",
          "model_name": "FloatProgressModel",
          "state": {
            "_dom_classes": [],
            "_model_module": "@jupyter-widgets/controls",
            "_model_module_version": "1.5.0",
            "_model_name": "FloatProgressModel",
            "_view_count": null,
            "_view_module": "@jupyter-widgets/controls",
            "_view_module_version": "1.5.0",
            "_view_name": "ProgressView",
            "bar_style": "success",
            "description": "",
            "description_tooltip": null,
            "layout": "IPY_MODEL_c54060108bd64d2da3e289ecd993722b",
            "max": 791656,
            "min": 0,
            "orientation": "horizontal",
            "style": "IPY_MODEL_c317b0418b0240fda9c390f2ffca47be",
            "value": 791656
          }
        },
        "08917850df1147678e2fccb6e3af24b1": {
          "model_module": "@jupyter-widgets/controls",
          "model_module_version": "1.5.0",
          "model_name": "HBoxModel",
          "state": {
            "_dom_classes": [],
            "_model_module": "@jupyter-widgets/controls",
            "_model_module_version": "1.5.0",
            "_model_name": "HBoxModel",
            "_view_count": null,
            "_view_module": "@jupyter-widgets/controls",
            "_view_module_version": "1.5.0",
            "_view_name": "HBoxView",
            "box_style": "",
            "children": [
              "IPY_MODEL_b237575386964219a9c9de3b0ea268e4",
              "IPY_MODEL_b5f67135090547f8a6f444348317bde0",
              "IPY_MODEL_b715c0ce335a490db4d5b72d05baddd1"
            ],
            "layout": "IPY_MODEL_f5fe8e832f4b479d8e36c833986e9a43"
          }
        },
        "0f444e540c9e4cd3a1b6d088d969bae0": {
          "model_module": "@jupyter-widgets/controls",
          "model_module_version": "1.5.0",
          "model_name": "FloatProgressModel",
          "state": {
            "_dom_classes": [],
            "_model_module": "@jupyter-widgets/controls",
            "_model_module_version": "1.5.0",
            "_model_name": "FloatProgressModel",
            "_view_count": null,
            "_view_module": "@jupyter-widgets/controls",
            "_view_module_version": "1.5.0",
            "_view_name": "ProgressView",
            "bar_style": "success",
            "description": "",
            "description_tooltip": null,
            "layout": "IPY_MODEL_5378dfd350cb4408afd0ce22f6cd490c",
            "max": 147,
            "min": 0,
            "orientation": "horizontal",
            "style": "IPY_MODEL_14a5f7b822754bff8b9aa1ec71f18273",
            "value": 147
          }
        },
        "1351dddab63348a9afaee3491e6d5a9b": {
          "model_module": "@jupyter-widgets/base",
          "model_module_version": "1.2.0",
          "model_name": "LayoutModel",
          "state": {
            "_model_module": "@jupyter-widgets/base",
            "_model_module_version": "1.2.0",
            "_model_name": "LayoutModel",
            "_view_count": null,
            "_view_module": "@jupyter-widgets/base",
            "_view_module_version": "1.2.0",
            "_view_name": "LayoutView",
            "align_content": null,
            "align_items": null,
            "align_self": null,
            "border": null,
            "bottom": null,
            "display": null,
            "flex": null,
            "flex_flow": null,
            "grid_area": null,
            "grid_auto_columns": null,
            "grid_auto_flow": null,
            "grid_auto_rows": null,
            "grid_column": null,
            "grid_gap": null,
            "grid_row": null,
            "grid_template_areas": null,
            "grid_template_columns": null,
            "grid_template_rows": null,
            "height": null,
            "justify_content": null,
            "justify_items": null,
            "left": null,
            "margin": null,
            "max_height": null,
            "max_width": null,
            "min_height": null,
            "min_width": null,
            "object_fit": null,
            "object_position": null,
            "order": null,
            "overflow": null,
            "overflow_x": null,
            "overflow_y": null,
            "padding": null,
            "right": null,
            "top": null,
            "visibility": null,
            "width": null
          }
        },
        "14a5f7b822754bff8b9aa1ec71f18273": {
          "model_module": "@jupyter-widgets/controls",
          "model_module_version": "1.5.0",
          "model_name": "ProgressStyleModel",
          "state": {
            "_model_module": "@jupyter-widgets/controls",
            "_model_module_version": "1.5.0",
            "_model_name": "ProgressStyleModel",
            "_view_count": null,
            "_view_module": "@jupyter-widgets/base",
            "_view_module_version": "1.2.0",
            "_view_name": "StyleView",
            "bar_color": null,
            "description_width": ""
          }
        },
        "19fb9e97809e48528760359c315ceda6": {
          "model_module": "@jupyter-widgets/controls",
          "model_module_version": "1.5.0",
          "model_name": "FloatProgressModel",
          "state": {
            "_dom_classes": [],
            "_model_module": "@jupyter-widgets/controls",
            "_model_module_version": "1.5.0",
            "_model_name": "FloatProgressModel",
            "_view_count": null,
            "_view_module": "@jupyter-widgets/controls",
            "_view_module_version": "1.5.0",
            "_view_name": "ProgressView",
            "bar_style": "success",
            "description": "",
            "description_tooltip": null,
            "layout": "IPY_MODEL_b996d7b803944184bfc0f6c58dc7e93b",
            "max": 1209,
            "min": 0,
            "orientation": "horizontal",
            "style": "IPY_MODEL_5846d0566c4b4a0abb66d35ecf57dd4e",
            "value": 1209
          }
        },
        "1cbb12551fb14c4ea3a060ca859bf6a2": {
          "model_module": "@jupyter-widgets/controls",
          "model_module_version": "1.5.0",
          "model_name": "HTMLModel",
          "state": {
            "_dom_classes": [],
            "_model_module": "@jupyter-widgets/controls",
            "_model_module_version": "1.5.0",
            "_model_name": "HTMLModel",
            "_view_count": null,
            "_view_module": "@jupyter-widgets/controls",
            "_view_module_version": "1.5.0",
            "_view_name": "HTMLView",
            "description": "",
            "description_tooltip": null,
            "layout": "IPY_MODEL_64477215d7c54e988e042f8b3923011c",
            "placeholder": "​",
            "style": "IPY_MODEL_d0c8046fdf1e4a2eba4757ce74974938",
            "value": "Downloading (…)ve/main/spiece.model: 100%"
          }
        },
        "21069da5e03640cc947968ee2cda0a31": {
          "model_module": "@jupyter-widgets/base",
          "model_module_version": "1.2.0",
          "model_name": "LayoutModel",
          "state": {
            "_model_module": "@jupyter-widgets/base",
            "_model_module_version": "1.2.0",
            "_model_name": "LayoutModel",
            "_view_count": null,
            "_view_module": "@jupyter-widgets/base",
            "_view_module_version": "1.2.0",
            "_view_name": "LayoutView",
            "align_content": null,
            "align_items": null,
            "align_self": null,
            "border": null,
            "bottom": null,
            "display": null,
            "flex": null,
            "flex_flow": null,
            "grid_area": null,
            "grid_auto_columns": null,
            "grid_auto_flow": null,
            "grid_auto_rows": null,
            "grid_column": null,
            "grid_gap": null,
            "grid_row": null,
            "grid_template_areas": null,
            "grid_template_columns": null,
            "grid_template_rows": null,
            "height": null,
            "justify_content": null,
            "justify_items": null,
            "left": null,
            "margin": null,
            "max_height": null,
            "max_width": null,
            "min_height": null,
            "min_width": null,
            "object_fit": null,
            "object_position": null,
            "order": null,
            "overflow": null,
            "overflow_x": null,
            "overflow_y": null,
            "padding": null,
            "right": null,
            "top": null,
            "visibility": null,
            "width": null
          }
        },
        "222d17e71cb341639c298726c3083d64": {
          "model_module": "@jupyter-widgets/controls",
          "model_module_version": "1.5.0",
          "model_name": "ProgressStyleModel",
          "state": {
            "_model_module": "@jupyter-widgets/controls",
            "_model_module_version": "1.5.0",
            "_model_name": "ProgressStyleModel",
            "_view_count": null,
            "_view_module": "@jupyter-widgets/base",
            "_view_module_version": "1.2.0",
            "_view_name": "StyleView",
            "bar_color": null,
            "description_width": ""
          }
        },
        "24ddf35e641748259b54a132d4da23aa": {
          "model_module": "@jupyter-widgets/controls",
          "model_module_version": "1.5.0",
          "model_name": "HTMLModel",
          "state": {
            "_dom_classes": [],
            "_model_module": "@jupyter-widgets/controls",
            "_model_module_version": "1.5.0",
            "_model_name": "HTMLModel",
            "_view_count": null,
            "_view_module": "@jupyter-widgets/controls",
            "_view_module_version": "1.5.0",
            "_view_name": "HTMLView",
            "description": "",
            "description_tooltip": null,
            "layout": "IPY_MODEL_98f211febaaa4f5ca1317530ffd601eb",
            "placeholder": "​",
            "style": "IPY_MODEL_81fbac7e521c41eba1875d4c1ecd1db1",
            "value": " 899k/899k [00:01&lt;00:00, 811kB/s]"
          }
        },
        "28adf5ae61df4890a817ce39bed03501": {
          "model_module": "@jupyter-widgets/controls",
          "model_module_version": "1.5.0",
          "model_name": "DescriptionStyleModel",
          "state": {
            "_model_module": "@jupyter-widgets/controls",
            "_model_module_version": "1.5.0",
            "_model_name": "DescriptionStyleModel",
            "_view_count": null,
            "_view_module": "@jupyter-widgets/base",
            "_view_module_version": "1.2.0",
            "_view_name": "StyleView",
            "description_width": ""
          }
        },
        "29bace504ff84aefaee8e95904c571e8": {
          "model_module": "@jupyter-widgets/controls",
          "model_module_version": "1.5.0",
          "model_name": "HBoxModel",
          "state": {
            "_dom_classes": [],
            "_model_module": "@jupyter-widgets/controls",
            "_model_module_version": "1.5.0",
            "_model_name": "HBoxModel",
            "_view_count": null,
            "_view_module": "@jupyter-widgets/controls",
            "_view_module_version": "1.5.0",
            "_view_name": "HBoxView",
            "box_style": "",
            "children": [
              "IPY_MODEL_6277d6da4f3c460b8eb8a10c9e3180ef",
              "IPY_MODEL_0f444e540c9e4cd3a1b6d088d969bae0",
              "IPY_MODEL_b01a6bb99876457285765ea5a6da7fce"
            ],
            "layout": "IPY_MODEL_79c38130697045279fe163f3e8a56945"
          }
        },
        "2a4cbabb04bd4de0898bd2592f490529": {
          "model_module": "@jupyter-widgets/base",
          "model_module_version": "1.2.0",
          "model_name": "LayoutModel",
          "state": {
            "_model_module": "@jupyter-widgets/base",
            "_model_module_version": "1.2.0",
            "_model_name": "LayoutModel",
            "_view_count": null,
            "_view_module": "@jupyter-widgets/base",
            "_view_module_version": "1.2.0",
            "_view_name": "LayoutView",
            "align_content": null,
            "align_items": null,
            "align_self": null,
            "border": null,
            "bottom": null,
            "display": null,
            "flex": null,
            "flex_flow": null,
            "grid_area": null,
            "grid_auto_columns": null,
            "grid_auto_flow": null,
            "grid_auto_rows": null,
            "grid_column": null,
            "grid_gap": null,
            "grid_row": null,
            "grid_template_areas": null,
            "grid_template_columns": null,
            "grid_template_rows": null,
            "height": null,
            "justify_content": null,
            "justify_items": null,
            "left": null,
            "margin": null,
            "max_height": null,
            "max_width": null,
            "min_height": null,
            "min_width": null,
            "object_fit": null,
            "object_position": null,
            "order": null,
            "overflow": null,
            "overflow_x": null,
            "overflow_y": null,
            "padding": null,
            "right": null,
            "top": null,
            "visibility": null,
            "width": null
          }
        },
        "2a4f7b679fd6443b94cfbfc7adbe4eb1": {
          "model_module": "@jupyter-widgets/controls",
          "model_module_version": "1.5.0",
          "model_name": "DescriptionStyleModel",
          "state": {
            "_model_module": "@jupyter-widgets/controls",
            "_model_module_version": "1.5.0",
            "_model_name": "DescriptionStyleModel",
            "_view_count": null,
            "_view_module": "@jupyter-widgets/base",
            "_view_module_version": "1.2.0",
            "_view_name": "StyleView",
            "description_width": ""
          }
        },
        "2a5668cc44ec4c1c8567f08e5f33460e": {
          "model_module": "@jupyter-widgets/controls",
          "model_module_version": "1.5.0",
          "model_name": "DescriptionStyleModel",
          "state": {
            "_model_module": "@jupyter-widgets/controls",
            "_model_module_version": "1.5.0",
            "_model_name": "DescriptionStyleModel",
            "_view_count": null,
            "_view_module": "@jupyter-widgets/base",
            "_view_module_version": "1.2.0",
            "_view_name": "StyleView",
            "description_width": ""
          }
        },
        "2bc08cfee8ad43fb8d281c64da76b0de": {
          "model_module": "@jupyter-widgets/controls",
          "model_module_version": "1.5.0",
          "model_name": "DescriptionStyleModel",
          "state": {
            "_model_module": "@jupyter-widgets/controls",
            "_model_module_version": "1.5.0",
            "_model_name": "DescriptionStyleModel",
            "_view_count": null,
            "_view_module": "@jupyter-widgets/base",
            "_view_module_version": "1.2.0",
            "_view_name": "StyleView",
            "description_width": ""
          }
        },
        "2cf1a4fa717e4a5db7374c52f6b7e280": {
          "model_module": "@jupyter-widgets/controls",
          "model_module_version": "1.5.0",
          "model_name": "DescriptionStyleModel",
          "state": {
            "_model_module": "@jupyter-widgets/controls",
            "_model_module_version": "1.5.0",
            "_model_name": "DescriptionStyleModel",
            "_view_count": null,
            "_view_module": "@jupyter-widgets/base",
            "_view_module_version": "1.2.0",
            "_view_name": "StyleView",
            "description_width": ""
          }
        },
        "2e25fabb290d4d8d884ece1932f4825a": {
          "model_module": "@jupyter-widgets/base",
          "model_module_version": "1.2.0",
          "model_name": "LayoutModel",
          "state": {
            "_model_module": "@jupyter-widgets/base",
            "_model_module_version": "1.2.0",
            "_model_name": "LayoutModel",
            "_view_count": null,
            "_view_module": "@jupyter-widgets/base",
            "_view_module_version": "1.2.0",
            "_view_name": "LayoutView",
            "align_content": null,
            "align_items": null,
            "align_self": null,
            "border": null,
            "bottom": null,
            "display": null,
            "flex": null,
            "flex_flow": null,
            "grid_area": null,
            "grid_auto_columns": null,
            "grid_auto_flow": null,
            "grid_auto_rows": null,
            "grid_column": null,
            "grid_gap": null,
            "grid_row": null,
            "grid_template_areas": null,
            "grid_template_columns": null,
            "grid_template_rows": null,
            "height": null,
            "justify_content": null,
            "justify_items": null,
            "left": null,
            "margin": null,
            "max_height": null,
            "max_width": null,
            "min_height": null,
            "min_width": null,
            "object_fit": null,
            "object_position": null,
            "order": null,
            "overflow": null,
            "overflow_x": null,
            "overflow_y": null,
            "padding": null,
            "right": null,
            "top": null,
            "visibility": null,
            "width": null
          }
        },
        "2f9305325ec548d8a512966783b1fbc8": {
          "model_module": "@jupyter-widgets/controls",
          "model_module_version": "1.5.0",
          "model_name": "DescriptionStyleModel",
          "state": {
            "_model_module": "@jupyter-widgets/controls",
            "_model_module_version": "1.5.0",
            "_model_name": "DescriptionStyleModel",
            "_view_count": null,
            "_view_module": "@jupyter-widgets/base",
            "_view_module_version": "1.2.0",
            "_view_name": "StyleView",
            "description_width": ""
          }
        },
        "3055f5c777ae44ebb922ff09adbf0c52": {
          "model_module": "@jupyter-widgets/base",
          "model_module_version": "1.2.0",
          "model_name": "LayoutModel",
          "state": {
            "_model_module": "@jupyter-widgets/base",
            "_model_module_version": "1.2.0",
            "_model_name": "LayoutModel",
            "_view_count": null,
            "_view_module": "@jupyter-widgets/base",
            "_view_module_version": "1.2.0",
            "_view_name": "LayoutView",
            "align_content": null,
            "align_items": null,
            "align_self": null,
            "border": null,
            "bottom": null,
            "display": null,
            "flex": null,
            "flex_flow": null,
            "grid_area": null,
            "grid_auto_columns": null,
            "grid_auto_flow": null,
            "grid_auto_rows": null,
            "grid_column": null,
            "grid_gap": null,
            "grid_row": null,
            "grid_template_areas": null,
            "grid_template_columns": null,
            "grid_template_rows": null,
            "height": null,
            "justify_content": null,
            "justify_items": null,
            "left": null,
            "margin": null,
            "max_height": null,
            "max_width": null,
            "min_height": null,
            "min_width": null,
            "object_fit": null,
            "object_position": null,
            "order": null,
            "overflow": null,
            "overflow_x": null,
            "overflow_y": null,
            "padding": null,
            "right": null,
            "top": null,
            "visibility": null,
            "width": null
          }
        },
        "342ca7df0a0d4f1c85319f9e2abb880e": {
          "model_module": "@jupyter-widgets/controls",
          "model_module_version": "1.5.0",
          "model_name": "HBoxModel",
          "state": {
            "_dom_classes": [],
            "_model_module": "@jupyter-widgets/controls",
            "_model_module_version": "1.5.0",
            "_model_name": "HBoxModel",
            "_view_count": null,
            "_view_module": "@jupyter-widgets/controls",
            "_view_module_version": "1.5.0",
            "_view_name": "HBoxView",
            "box_style": "",
            "children": [
              "IPY_MODEL_59fd294947674fcfaf7183dc052a3e5e",
              "IPY_MODEL_19fb9e97809e48528760359c315ceda6",
              "IPY_MODEL_03136f812ae2446b9bfae25f8ea59acb"
            ],
            "layout": "IPY_MODEL_3ad9dd99ce5a485ab02073560833bb0b"
          }
        },
        "354bde2806db4ab9b8733c36877d2048": {
          "model_module": "@jupyter-widgets/controls",
          "model_module_version": "1.5.0",
          "model_name": "DescriptionStyleModel",
          "state": {
            "_model_module": "@jupyter-widgets/controls",
            "_model_module_version": "1.5.0",
            "_model_name": "DescriptionStyleModel",
            "_view_count": null,
            "_view_module": "@jupyter-widgets/base",
            "_view_module_version": "1.2.0",
            "_view_name": "StyleView",
            "description_width": ""
          }
        },
        "39961a23b92d435b9d2daee31732606b": {
          "model_module": "@jupyter-widgets/controls",
          "model_module_version": "1.5.0",
          "model_name": "HTMLModel",
          "state": {
            "_dom_classes": [],
            "_model_module": "@jupyter-widgets/controls",
            "_model_module_version": "1.5.0",
            "_model_name": "HTMLModel",
            "_view_count": null,
            "_view_module": "@jupyter-widgets/controls",
            "_view_module_version": "1.5.0",
            "_view_name": "HTMLView",
            "description": "",
            "description_tooltip": null,
            "layout": "IPY_MODEL_3df33e47f77347f6aa154682cec720f8",
            "placeholder": "​",
            "style": "IPY_MODEL_6c317e38b35447e48b2b8d4f465b7d84",
            "value": " 685/685 [00:00&lt;00:00, 35.4kB/s]"
          }
        },
        "3ad9dd99ce5a485ab02073560833bb0b": {
          "model_module": "@jupyter-widgets/base",
          "model_module_version": "1.2.0",
          "model_name": "LayoutModel",
          "state": {
            "_model_module": "@jupyter-widgets/base",
            "_model_module_version": "1.2.0",
            "_model_name": "LayoutModel",
            "_view_count": null,
            "_view_module": "@jupyter-widgets/base",
            "_view_module_version": "1.2.0",
            "_view_name": "LayoutView",
            "align_content": null,
            "align_items": null,
            "align_self": null,
            "border": null,
            "bottom": null,
            "display": null,
            "flex": null,
            "flex_flow": null,
            "grid_area": null,
            "grid_auto_columns": null,
            "grid_auto_flow": null,
            "grid_auto_rows": null,
            "grid_column": null,
            "grid_gap": null,
            "grid_row": null,
            "grid_template_areas": null,
            "grid_template_columns": null,
            "grid_template_rows": null,
            "height": null,
            "justify_content": null,
            "justify_items": null,
            "left": null,
            "margin": null,
            "max_height": null,
            "max_width": null,
            "min_height": null,
            "min_width": null,
            "object_fit": null,
            "object_position": null,
            "order": null,
            "overflow": null,
            "overflow_x": null,
            "overflow_y": null,
            "padding": null,
            "right": null,
            "top": null,
            "visibility": null,
            "width": null
          }
        },
        "3b623f09283344cc931ac37ca053b293": {
          "model_module": "@jupyter-widgets/controls",
          "model_module_version": "1.5.0",
          "model_name": "HBoxModel",
          "state": {
            "_dom_classes": [],
            "_model_module": "@jupyter-widgets/controls",
            "_model_module_version": "1.5.0",
            "_model_name": "HBoxModel",
            "_view_count": null,
            "_view_module": "@jupyter-widgets/controls",
            "_view_module_version": "1.5.0",
            "_view_name": "HBoxView",
            "box_style": "",
            "children": [
              "IPY_MODEL_3e8d5f55b5ef4aa6ae580391abb26075",
              "IPY_MODEL_40ae8b7462104dbe95dc10eb62d8749a",
              "IPY_MODEL_9ce113147e9e42f883ab8019ad900a5b"
            ],
            "layout": "IPY_MODEL_e2fae6209a5f49d4aff34dae478c9503"
          }
        },
        "3c859e6cc4ee4c6cb6929e86a42a0661": {
          "model_module": "@jupyter-widgets/base",
          "model_module_version": "1.2.0",
          "model_name": "LayoutModel",
          "state": {
            "_model_module": "@jupyter-widgets/base",
            "_model_module_version": "1.2.0",
            "_model_name": "LayoutModel",
            "_view_count": null,
            "_view_module": "@jupyter-widgets/base",
            "_view_module_version": "1.2.0",
            "_view_name": "LayoutView",
            "align_content": null,
            "align_items": null,
            "align_self": null,
            "border": null,
            "bottom": null,
            "display": null,
            "flex": null,
            "flex_flow": null,
            "grid_area": null,
            "grid_auto_columns": null,
            "grid_auto_flow": null,
            "grid_auto_rows": null,
            "grid_column": null,
            "grid_gap": null,
            "grid_row": null,
            "grid_template_areas": null,
            "grid_template_columns": null,
            "grid_template_rows": null,
            "height": null,
            "justify_content": null,
            "justify_items": null,
            "left": null,
            "margin": null,
            "max_height": null,
            "max_width": null,
            "min_height": null,
            "min_width": null,
            "object_fit": null,
            "object_position": null,
            "order": null,
            "overflow": null,
            "overflow_x": null,
            "overflow_y": null,
            "padding": null,
            "right": null,
            "top": null,
            "visibility": null,
            "width": null
          }
        },
        "3dc3b53ca25d484f9a03e7ae5292f917": {
          "model_module": "@jupyter-widgets/controls",
          "model_module_version": "1.5.0",
          "model_name": "HTMLModel",
          "state": {
            "_dom_classes": [],
            "_model_module": "@jupyter-widgets/controls",
            "_model_module_version": "1.5.0",
            "_model_name": "HTMLModel",
            "_view_count": null,
            "_view_module": "@jupyter-widgets/controls",
            "_view_module_version": "1.5.0",
            "_view_name": "HTMLView",
            "description": "",
            "description_tooltip": null,
            "layout": "IPY_MODEL_fb3b5b3e5c644e54be3f0828f860a63a",
            "placeholder": "​",
            "style": "IPY_MODEL_ea1ecf40aca74599a89b1b9173fb2070",
            "value": "Downloading (…)ve/main/spiece.model: 100%"
          }
        },
        "3df33e47f77347f6aa154682cec720f8": {
          "model_module": "@jupyter-widgets/base",
          "model_module_version": "1.2.0",
          "model_name": "LayoutModel",
          "state": {
            "_model_module": "@jupyter-widgets/base",
            "_model_module_version": "1.2.0",
            "_model_name": "LayoutModel",
            "_view_count": null,
            "_view_module": "@jupyter-widgets/base",
            "_view_module_version": "1.2.0",
            "_view_name": "LayoutView",
            "align_content": null,
            "align_items": null,
            "align_self": null,
            "border": null,
            "bottom": null,
            "display": null,
            "flex": null,
            "flex_flow": null,
            "grid_area": null,
            "grid_auto_columns": null,
            "grid_auto_flow": null,
            "grid_auto_rows": null,
            "grid_column": null,
            "grid_gap": null,
            "grid_row": null,
            "grid_template_areas": null,
            "grid_template_columns": null,
            "grid_template_rows": null,
            "height": null,
            "justify_content": null,
            "justify_items": null,
            "left": null,
            "margin": null,
            "max_height": null,
            "max_width": null,
            "min_height": null,
            "min_width": null,
            "object_fit": null,
            "object_position": null,
            "order": null,
            "overflow": null,
            "overflow_x": null,
            "overflow_y": null,
            "padding": null,
            "right": null,
            "top": null,
            "visibility": null,
            "width": null
          }
        },
        "3e8d5f55b5ef4aa6ae580391abb26075": {
          "model_module": "@jupyter-widgets/controls",
          "model_module_version": "1.5.0",
          "model_name": "HTMLModel",
          "state": {
            "_dom_classes": [],
            "_model_module": "@jupyter-widgets/controls",
            "_model_module_version": "1.5.0",
            "_model_name": "HTMLModel",
            "_view_count": null,
            "_view_module": "@jupyter-widgets/controls",
            "_view_module_version": "1.5.0",
            "_view_name": "HTMLView",
            "description": "",
            "description_tooltip": null,
            "layout": "IPY_MODEL_551220905b9b41d7aa0308a3380740ff",
            "placeholder": "​",
            "style": "IPY_MODEL_2bc08cfee8ad43fb8d281c64da76b0de",
            "value": "Downloading (…)neration_config.json: 100%"
          }
        },
        "40ae8b7462104dbe95dc10eb62d8749a": {
          "model_module": "@jupyter-widgets/controls",
          "model_module_version": "1.5.0",
          "model_name": "FloatProgressModel",
          "state": {
            "_dom_classes": [],
            "_model_module": "@jupyter-widgets/controls",
            "_model_module_version": "1.5.0",
            "_model_name": "FloatProgressModel",
            "_view_count": null,
            "_view_module": "@jupyter-widgets/controls",
            "_view_module_version": "1.5.0",
            "_view_name": "ProgressView",
            "bar_style": "success",
            "description": "",
            "description_tooltip": null,
            "layout": "IPY_MODEL_81b690d1f94448239ea1a0984f0a4521",
            "max": 137,
            "min": 0,
            "orientation": "horizontal",
            "style": "IPY_MODEL_b1a5419e344e4c349e905522f1f15aa0",
            "value": 137
          }
        },
        "45f3c05afd6d43b79fccbf8e7f493241": {
          "model_module": "@jupyter-widgets/controls",
          "model_module_version": "1.5.0",
          "model_name": "HTMLModel",
          "state": {
            "_dom_classes": [],
            "_model_module": "@jupyter-widgets/controls",
            "_model_module_version": "1.5.0",
            "_model_name": "HTMLModel",
            "_view_count": null,
            "_view_module": "@jupyter-widgets/controls",
            "_view_module_version": "1.5.0",
            "_view_name": "HTMLView",
            "description": "",
            "description_tooltip": null,
            "layout": "IPY_MODEL_b452b0f0c7a840939b9275af315bc98d",
            "placeholder": "​",
            "style": "IPY_MODEL_9ae121329a604b8ba29fb1348ce9da2f",
            "value": " 1.21k/1.21k [00:00&lt;00:00, 41.4kB/s]"
          }
        },
        "473308def3504a6c88ad8dca43ba1c4d": {
          "model_module": "@jupyter-widgets/controls",
          "model_module_version": "1.5.0",
          "model_name": "DescriptionStyleModel",
          "state": {
            "_model_module": "@jupyter-widgets/controls",
            "_model_module_version": "1.5.0",
            "_model_name": "DescriptionStyleModel",
            "_view_count": null,
            "_view_module": "@jupyter-widgets/base",
            "_view_module_version": "1.2.0",
            "_view_name": "StyleView",
            "description_width": ""
          }
        },
        "479f64f1f834474b8c3764dd26434568": {
          "model_module": "@jupyter-widgets/base",
          "model_module_version": "1.2.0",
          "model_name": "LayoutModel",
          "state": {
            "_model_module": "@jupyter-widgets/base",
            "_model_module_version": "1.2.0",
            "_model_name": "LayoutModel",
            "_view_count": null,
            "_view_module": "@jupyter-widgets/base",
            "_view_module_version": "1.2.0",
            "_view_name": "LayoutView",
            "align_content": null,
            "align_items": null,
            "align_self": null,
            "border": null,
            "bottom": null,
            "display": null,
            "flex": null,
            "flex_flow": null,
            "grid_area": null,
            "grid_auto_columns": null,
            "grid_auto_flow": null,
            "grid_auto_rows": null,
            "grid_column": null,
            "grid_gap": null,
            "grid_row": null,
            "grid_template_areas": null,
            "grid_template_columns": null,
            "grid_template_rows": null,
            "height": null,
            "justify_content": null,
            "justify_items": null,
            "left": null,
            "margin": null,
            "max_height": null,
            "max_width": null,
            "min_height": null,
            "min_width": null,
            "object_fit": null,
            "object_position": null,
            "order": null,
            "overflow": null,
            "overflow_x": null,
            "overflow_y": null,
            "padding": null,
            "right": null,
            "top": null,
            "visibility": null,
            "width": null
          }
        },
        "4834332789aa43e6a9c7cef244d27cd3": {
          "model_module": "@jupyter-widgets/base",
          "model_module_version": "1.2.0",
          "model_name": "LayoutModel",
          "state": {
            "_model_module": "@jupyter-widgets/base",
            "_model_module_version": "1.2.0",
            "_model_name": "LayoutModel",
            "_view_count": null,
            "_view_module": "@jupyter-widgets/base",
            "_view_module_version": "1.2.0",
            "_view_name": "LayoutView",
            "align_content": null,
            "align_items": null,
            "align_self": null,
            "border": null,
            "bottom": null,
            "display": null,
            "flex": null,
            "flex_flow": null,
            "grid_area": null,
            "grid_auto_columns": null,
            "grid_auto_flow": null,
            "grid_auto_rows": null,
            "grid_column": null,
            "grid_gap": null,
            "grid_row": null,
            "grid_template_areas": null,
            "grid_template_columns": null,
            "grid_template_rows": null,
            "height": null,
            "justify_content": null,
            "justify_items": null,
            "left": null,
            "margin": null,
            "max_height": null,
            "max_width": null,
            "min_height": null,
            "min_width": null,
            "object_fit": null,
            "object_position": null,
            "order": null,
            "overflow": null,
            "overflow_x": null,
            "overflow_y": null,
            "padding": null,
            "right": null,
            "top": null,
            "visibility": null,
            "width": null
          }
        },
        "4dd42e0344f4431cb242a250a7d1073e": {
          "model_module": "@jupyter-widgets/controls",
          "model_module_version": "1.5.0",
          "model_name": "HBoxModel",
          "state": {
            "_dom_classes": [],
            "_model_module": "@jupyter-widgets/controls",
            "_model_module_version": "1.5.0",
            "_model_name": "HBoxModel",
            "_view_count": null,
            "_view_module": "@jupyter-widgets/controls",
            "_view_module_version": "1.5.0",
            "_view_name": "HBoxView",
            "box_style": "",
            "children": [
              "IPY_MODEL_1cbb12551fb14c4ea3a060ca859bf6a2",
              "IPY_MODEL_08061d56c5db4565996216cd063a50cd",
              "IPY_MODEL_f9363c84bf71430b83e810f8ba386f89"
            ],
            "layout": "IPY_MODEL_7e7c882ae2b44d5b87398f5fad2ffc9f"
          }
        },
        "4ef76cbd354f45ffbac8d3f05597f51e": {
          "model_module": "@jupyter-widgets/base",
          "model_module_version": "1.2.0",
          "model_name": "LayoutModel",
          "state": {
            "_model_module": "@jupyter-widgets/base",
            "_model_module_version": "1.2.0",
            "_model_name": "LayoutModel",
            "_view_count": null,
            "_view_module": "@jupyter-widgets/base",
            "_view_module_version": "1.2.0",
            "_view_name": "LayoutView",
            "align_content": null,
            "align_items": null,
            "align_self": null,
            "border": null,
            "bottom": null,
            "display": null,
            "flex": null,
            "flex_flow": null,
            "grid_area": null,
            "grid_auto_columns": null,
            "grid_auto_flow": null,
            "grid_auto_rows": null,
            "grid_column": null,
            "grid_gap": null,
            "grid_row": null,
            "grid_template_areas": null,
            "grid_template_columns": null,
            "grid_template_rows": null,
            "height": null,
            "justify_content": null,
            "justify_items": null,
            "left": null,
            "margin": null,
            "max_height": null,
            "max_width": null,
            "min_height": null,
            "min_width": null,
            "object_fit": null,
            "object_position": null,
            "order": null,
            "overflow": null,
            "overflow_x": null,
            "overflow_y": null,
            "padding": null,
            "right": null,
            "top": null,
            "visibility": null,
            "width": null
          }
        },
        "530762b56504499a828d257fa5dbe1d7": {
          "model_module": "@jupyter-widgets/base",
          "model_module_version": "1.2.0",
          "model_name": "LayoutModel",
          "state": {
            "_model_module": "@jupyter-widgets/base",
            "_model_module_version": "1.2.0",
            "_model_name": "LayoutModel",
            "_view_count": null,
            "_view_module": "@jupyter-widgets/base",
            "_view_module_version": "1.2.0",
            "_view_name": "LayoutView",
            "align_content": null,
            "align_items": null,
            "align_self": null,
            "border": null,
            "bottom": null,
            "display": null,
            "flex": null,
            "flex_flow": null,
            "grid_area": null,
            "grid_auto_columns": null,
            "grid_auto_flow": null,
            "grid_auto_rows": null,
            "grid_column": null,
            "grid_gap": null,
            "grid_row": null,
            "grid_template_areas": null,
            "grid_template_columns": null,
            "grid_template_rows": null,
            "height": null,
            "justify_content": null,
            "justify_items": null,
            "left": null,
            "margin": null,
            "max_height": null,
            "max_width": null,
            "min_height": null,
            "min_width": null,
            "object_fit": null,
            "object_position": null,
            "order": null,
            "overflow": null,
            "overflow_x": null,
            "overflow_y": null,
            "padding": null,
            "right": null,
            "top": null,
            "visibility": null,
            "width": null
          }
        },
        "5378dfd350cb4408afd0ce22f6cd490c": {
          "model_module": "@jupyter-widgets/base",
          "model_module_version": "1.2.0",
          "model_name": "LayoutModel",
          "state": {
            "_model_module": "@jupyter-widgets/base",
            "_model_module_version": "1.2.0",
            "_model_name": "LayoutModel",
            "_view_count": null,
            "_view_module": "@jupyter-widgets/base",
            "_view_module_version": "1.2.0",
            "_view_name": "LayoutView",
            "align_content": null,
            "align_items": null,
            "align_self": null,
            "border": null,
            "bottom": null,
            "display": null,
            "flex": null,
            "flex_flow": null,
            "grid_area": null,
            "grid_auto_columns": null,
            "grid_auto_flow": null,
            "grid_auto_rows": null,
            "grid_column": null,
            "grid_gap": null,
            "grid_row": null,
            "grid_template_areas": null,
            "grid_template_columns": null,
            "grid_template_rows": null,
            "height": null,
            "justify_content": null,
            "justify_items": null,
            "left": null,
            "margin": null,
            "max_height": null,
            "max_width": null,
            "min_height": null,
            "min_width": null,
            "object_fit": null,
            "object_position": null,
            "order": null,
            "overflow": null,
            "overflow_x": null,
            "overflow_y": null,
            "padding": null,
            "right": null,
            "top": null,
            "visibility": null,
            "width": null
          }
        },
        "5431e07aed214681961b463376fcd6e4": {
          "model_module": "@jupyter-widgets/controls",
          "model_module_version": "1.5.0",
          "model_name": "HBoxModel",
          "state": {
            "_dom_classes": [],
            "_model_module": "@jupyter-widgets/controls",
            "_model_module_version": "1.5.0",
            "_model_name": "HBoxModel",
            "_view_count": null,
            "_view_module": "@jupyter-widgets/controls",
            "_view_module_version": "1.5.0",
            "_view_name": "HBoxView",
            "box_style": "",
            "children": [
              "IPY_MODEL_f028f9b33a2c4af3905b48664dc9fe1c",
              "IPY_MODEL_ed7da85a4f24495fa1272a3464724a9a",
              "IPY_MODEL_7fc7592b74e44f5d852804f2dd70e2c3"
            ],
            "layout": "IPY_MODEL_58e6198b426946fda6777b1e497b1002"
          }
        },
        "547fc6fc4bb349ed9c5e5a81468f1245": {
          "model_module": "@jupyter-widgets/controls",
          "model_module_version": "1.5.0",
          "model_name": "DescriptionStyleModel",
          "state": {
            "_model_module": "@jupyter-widgets/controls",
            "_model_module_version": "1.5.0",
            "_model_name": "DescriptionStyleModel",
            "_view_count": null,
            "_view_module": "@jupyter-widgets/base",
            "_view_module_version": "1.2.0",
            "_view_name": "StyleView",
            "description_width": ""
          }
        },
        "551220905b9b41d7aa0308a3380740ff": {
          "model_module": "@jupyter-widgets/base",
          "model_module_version": "1.2.0",
          "model_name": "LayoutModel",
          "state": {
            "_model_module": "@jupyter-widgets/base",
            "_model_module_version": "1.2.0",
            "_model_name": "LayoutModel",
            "_view_count": null,
            "_view_module": "@jupyter-widgets/base",
            "_view_module_version": "1.2.0",
            "_view_name": "LayoutView",
            "align_content": null,
            "align_items": null,
            "align_self": null,
            "border": null,
            "bottom": null,
            "display": null,
            "flex": null,
            "flex_flow": null,
            "grid_area": null,
            "grid_auto_columns": null,
            "grid_auto_flow": null,
            "grid_auto_rows": null,
            "grid_column": null,
            "grid_gap": null,
            "grid_row": null,
            "grid_template_areas": null,
            "grid_template_columns": null,
            "grid_template_rows": null,
            "height": null,
            "justify_content": null,
            "justify_items": null,
            "left": null,
            "margin": null,
            "max_height": null,
            "max_width": null,
            "min_height": null,
            "min_width": null,
            "object_fit": null,
            "object_position": null,
            "order": null,
            "overflow": null,
            "overflow_x": null,
            "overflow_y": null,
            "padding": null,
            "right": null,
            "top": null,
            "visibility": null,
            "width": null
          }
        },
        "5846d0566c4b4a0abb66d35ecf57dd4e": {
          "model_module": "@jupyter-widgets/controls",
          "model_module_version": "1.5.0",
          "model_name": "ProgressStyleModel",
          "state": {
            "_model_module": "@jupyter-widgets/controls",
            "_model_module_version": "1.5.0",
            "_model_name": "ProgressStyleModel",
            "_view_count": null,
            "_view_module": "@jupyter-widgets/base",
            "_view_module_version": "1.2.0",
            "_view_name": "StyleView",
            "bar_color": null,
            "description_width": ""
          }
        },
        "587d7d33535d4ce5a8b084a552073e52": {
          "model_module": "@jupyter-widgets/base",
          "model_module_version": "1.2.0",
          "model_name": "LayoutModel",
          "state": {
            "_model_module": "@jupyter-widgets/base",
            "_model_module_version": "1.2.0",
            "_model_name": "LayoutModel",
            "_view_count": null,
            "_view_module": "@jupyter-widgets/base",
            "_view_module_version": "1.2.0",
            "_view_name": "LayoutView",
            "align_content": null,
            "align_items": null,
            "align_self": null,
            "border": null,
            "bottom": null,
            "display": null,
            "flex": null,
            "flex_flow": null,
            "grid_area": null,
            "grid_auto_columns": null,
            "grid_auto_flow": null,
            "grid_auto_rows": null,
            "grid_column": null,
            "grid_gap": null,
            "grid_row": null,
            "grid_template_areas": null,
            "grid_template_columns": null,
            "grid_template_rows": null,
            "height": null,
            "justify_content": null,
            "justify_items": null,
            "left": null,
            "margin": null,
            "max_height": null,
            "max_width": null,
            "min_height": null,
            "min_width": null,
            "object_fit": null,
            "object_position": null,
            "order": null,
            "overflow": null,
            "overflow_x": null,
            "overflow_y": null,
            "padding": null,
            "right": null,
            "top": null,
            "visibility": null,
            "width": null
          }
        },
        "58e6198b426946fda6777b1e497b1002": {
          "model_module": "@jupyter-widgets/base",
          "model_module_version": "1.2.0",
          "model_name": "LayoutModel",
          "state": {
            "_model_module": "@jupyter-widgets/base",
            "_model_module_version": "1.2.0",
            "_model_name": "LayoutModel",
            "_view_count": null,
            "_view_module": "@jupyter-widgets/base",
            "_view_module_version": "1.2.0",
            "_view_name": "LayoutView",
            "align_content": null,
            "align_items": null,
            "align_self": null,
            "border": null,
            "bottom": null,
            "display": null,
            "flex": null,
            "flex_flow": null,
            "grid_area": null,
            "grid_auto_columns": null,
            "grid_auto_flow": null,
            "grid_auto_rows": null,
            "grid_column": null,
            "grid_gap": null,
            "grid_row": null,
            "grid_template_areas": null,
            "grid_template_columns": null,
            "grid_template_rows": null,
            "height": null,
            "justify_content": null,
            "justify_items": null,
            "left": null,
            "margin": null,
            "max_height": null,
            "max_width": null,
            "min_height": null,
            "min_width": null,
            "object_fit": null,
            "object_position": null,
            "order": null,
            "overflow": null,
            "overflow_x": null,
            "overflow_y": null,
            "padding": null,
            "right": null,
            "top": null,
            "visibility": null,
            "width": null
          }
        },
        "58f36121b0d24e12b0e0e69f98bcff4d": {
          "model_module": "@jupyter-widgets/controls",
          "model_module_version": "1.5.0",
          "model_name": "HBoxModel",
          "state": {
            "_dom_classes": [],
            "_model_module": "@jupyter-widgets/controls",
            "_model_module_version": "1.5.0",
            "_model_name": "HBoxModel",
            "_view_count": null,
            "_view_module": "@jupyter-widgets/controls",
            "_view_module_version": "1.5.0",
            "_view_name": "HBoxView",
            "box_style": "",
            "children": [
              "IPY_MODEL_96fea4e79c254651b714d87c69457955",
              "IPY_MODEL_e6ed441cf40346ffa1d430392c0f198c",
              "IPY_MODEL_45f3c05afd6d43b79fccbf8e7f493241"
            ],
            "layout": "IPY_MODEL_64b024e9cd6544b5aa03e3cd10c1fc85"
          }
        },
        "595035e2401a4ce1a3d60e6660bed987": {
          "model_module": "@jupyter-widgets/controls",
          "model_module_version": "1.5.0",
          "model_name": "FloatProgressModel",
          "state": {
            "_dom_classes": [],
            "_model_module": "@jupyter-widgets/controls",
            "_model_module_version": "1.5.0",
            "_model_name": "FloatProgressModel",
            "_view_count": null,
            "_view_module": "@jupyter-widgets/controls",
            "_view_module_version": "1.5.0",
            "_view_name": "ProgressView",
            "bar_style": "success",
            "description": "",
            "description_tooltip": null,
            "layout": "IPY_MODEL_3055f5c777ae44ebb922ff09adbf0c52",
            "max": 898822,
            "min": 0,
            "orientation": "horizontal",
            "style": "IPY_MODEL_032ebb22f33641cc94f57de3bfe55585",
            "value": 898822
          }
        },
        "59fd294947674fcfaf7183dc052a3e5e": {
          "model_module": "@jupyter-widgets/controls",
          "model_module_version": "1.5.0",
          "model_name": "HTMLModel",
          "state": {
            "_dom_classes": [],
            "_model_module": "@jupyter-widgets/controls",
            "_model_module_version": "1.5.0",
            "_model_name": "HTMLModel",
            "_view_count": null,
            "_view_module": "@jupyter-widgets/controls",
            "_view_module_version": "1.5.0",
            "_view_name": "HTMLView",
            "description": "",
            "description_tooltip": null,
            "layout": "IPY_MODEL_3c859e6cc4ee4c6cb6929e86a42a0661",
            "placeholder": "​",
            "style": "IPY_MODEL_6730c4fcd52840b0b9e6148d1fa04579",
            "value": "Downloading (…)lve/main/config.json: 100%"
          }
        },
        "5c50113ab7884863bbf0e90d7d49132b": {
          "model_module": "@jupyter-widgets/base",
          "model_module_version": "1.2.0",
          "model_name": "LayoutModel",
          "state": {
            "_model_module": "@jupyter-widgets/base",
            "_model_module_version": "1.2.0",
            "_model_name": "LayoutModel",
            "_view_count": null,
            "_view_module": "@jupyter-widgets/base",
            "_view_module_version": "1.2.0",
            "_view_name": "LayoutView",
            "align_content": null,
            "align_items": null,
            "align_self": null,
            "border": null,
            "bottom": null,
            "display": null,
            "flex": null,
            "flex_flow": null,
            "grid_area": null,
            "grid_auto_columns": null,
            "grid_auto_flow": null,
            "grid_auto_rows": null,
            "grid_column": null,
            "grid_gap": null,
            "grid_row": null,
            "grid_template_areas": null,
            "grid_template_columns": null,
            "grid_template_rows": null,
            "height": null,
            "justify_content": null,
            "justify_items": null,
            "left": null,
            "margin": null,
            "max_height": null,
            "max_width": null,
            "min_height": null,
            "min_width": null,
            "object_fit": null,
            "object_position": null,
            "order": null,
            "overflow": null,
            "overflow_x": null,
            "overflow_y": null,
            "padding": null,
            "right": null,
            "top": null,
            "visibility": null,
            "width": null
          }
        },
        "5e4f44dde9a844ef83e455c10feca58e": {
          "model_module": "@jupyter-widgets/base",
          "model_module_version": "1.2.0",
          "model_name": "LayoutModel",
          "state": {
            "_model_module": "@jupyter-widgets/base",
            "_model_module_version": "1.2.0",
            "_model_name": "LayoutModel",
            "_view_count": null,
            "_view_module": "@jupyter-widgets/base",
            "_view_module_version": "1.2.0",
            "_view_name": "LayoutView",
            "align_content": null,
            "align_items": null,
            "align_self": null,
            "border": null,
            "bottom": null,
            "display": null,
            "flex": null,
            "flex_flow": null,
            "grid_area": null,
            "grid_auto_columns": null,
            "grid_auto_flow": null,
            "grid_auto_rows": null,
            "grid_column": null,
            "grid_gap": null,
            "grid_row": null,
            "grid_template_areas": null,
            "grid_template_columns": null,
            "grid_template_rows": null,
            "height": null,
            "justify_content": null,
            "justify_items": null,
            "left": null,
            "margin": null,
            "max_height": null,
            "max_width": null,
            "min_height": null,
            "min_width": null,
            "object_fit": null,
            "object_position": null,
            "order": null,
            "overflow": null,
            "overflow_x": null,
            "overflow_y": null,
            "padding": null,
            "right": null,
            "top": null,
            "visibility": null,
            "width": null
          }
        },
        "5f19c5d2f3054edbb5c749779636701f": {
          "model_module": "@jupyter-widgets/controls",
          "model_module_version": "1.5.0",
          "model_name": "DescriptionStyleModel",
          "state": {
            "_model_module": "@jupyter-widgets/controls",
            "_model_module_version": "1.5.0",
            "_model_name": "DescriptionStyleModel",
            "_view_count": null,
            "_view_module": "@jupyter-widgets/base",
            "_view_module_version": "1.2.0",
            "_view_name": "StyleView",
            "description_width": ""
          }
        },
        "6128dd75865a4b1bbfca4b60902e523c": {
          "model_module": "@jupyter-widgets/controls",
          "model_module_version": "1.5.0",
          "model_name": "ProgressStyleModel",
          "state": {
            "_model_module": "@jupyter-widgets/controls",
            "_model_module_version": "1.5.0",
            "_model_name": "ProgressStyleModel",
            "_view_count": null,
            "_view_module": "@jupyter-widgets/base",
            "_view_module_version": "1.2.0",
            "_view_name": "StyleView",
            "bar_color": null,
            "description_width": ""
          }
        },
        "6277d6da4f3c460b8eb8a10c9e3180ef": {
          "model_module": "@jupyter-widgets/controls",
          "model_module_version": "1.5.0",
          "model_name": "HTMLModel",
          "state": {
            "_dom_classes": [],
            "_model_module": "@jupyter-widgets/controls",
            "_model_module_version": "1.5.0",
            "_model_name": "HTMLModel",
            "_view_count": null,
            "_view_module": "@jupyter-widgets/controls",
            "_view_module_version": "1.5.0",
            "_view_name": "HTMLView",
            "description": "",
            "description_tooltip": null,
            "layout": "IPY_MODEL_d2a7499f09494e12a9edd765e1110f44",
            "placeholder": "​",
            "style": "IPY_MODEL_2cf1a4fa717e4a5db7374c52f6b7e280",
            "value": "Downloading (…)neration_config.json: 100%"
          }
        },
        "64204bc52bab4cfbbcc85d65c3bf10bb": {
          "model_module": "@jupyter-widgets/controls",
          "model_module_version": "1.5.0",
          "model_name": "DescriptionStyleModel",
          "state": {
            "_model_module": "@jupyter-widgets/controls",
            "_model_module_version": "1.5.0",
            "_model_name": "DescriptionStyleModel",
            "_view_count": null,
            "_view_module": "@jupyter-widgets/base",
            "_view_module_version": "1.2.0",
            "_view_name": "StyleView",
            "description_width": ""
          }
        },
        "64477215d7c54e988e042f8b3923011c": {
          "model_module": "@jupyter-widgets/base",
          "model_module_version": "1.2.0",
          "model_name": "LayoutModel",
          "state": {
            "_model_module": "@jupyter-widgets/base",
            "_model_module_version": "1.2.0",
            "_model_name": "LayoutModel",
            "_view_count": null,
            "_view_module": "@jupyter-widgets/base",
            "_view_module_version": "1.2.0",
            "_view_name": "LayoutView",
            "align_content": null,
            "align_items": null,
            "align_self": null,
            "border": null,
            "bottom": null,
            "display": null,
            "flex": null,
            "flex_flow": null,
            "grid_area": null,
            "grid_auto_columns": null,
            "grid_auto_flow": null,
            "grid_auto_rows": null,
            "grid_column": null,
            "grid_gap": null,
            "grid_row": null,
            "grid_template_areas": null,
            "grid_template_columns": null,
            "grid_template_rows": null,
            "height": null,
            "justify_content": null,
            "justify_items": null,
            "left": null,
            "margin": null,
            "max_height": null,
            "max_width": null,
            "min_height": null,
            "min_width": null,
            "object_fit": null,
            "object_position": null,
            "order": null,
            "overflow": null,
            "overflow_x": null,
            "overflow_y": null,
            "padding": null,
            "right": null,
            "top": null,
            "visibility": null,
            "width": null
          }
        },
        "64b024e9cd6544b5aa03e3cd10c1fc85": {
          "model_module": "@jupyter-widgets/base",
          "model_module_version": "1.2.0",
          "model_name": "LayoutModel",
          "state": {
            "_model_module": "@jupyter-widgets/base",
            "_model_module_version": "1.2.0",
            "_model_name": "LayoutModel",
            "_view_count": null,
            "_view_module": "@jupyter-widgets/base",
            "_view_module_version": "1.2.0",
            "_view_name": "LayoutView",
            "align_content": null,
            "align_items": null,
            "align_self": null,
            "border": null,
            "bottom": null,
            "display": null,
            "flex": null,
            "flex_flow": null,
            "grid_area": null,
            "grid_auto_columns": null,
            "grid_auto_flow": null,
            "grid_auto_rows": null,
            "grid_column": null,
            "grid_gap": null,
            "grid_row": null,
            "grid_template_areas": null,
            "grid_template_columns": null,
            "grid_template_rows": null,
            "height": null,
            "justify_content": null,
            "justify_items": null,
            "left": null,
            "margin": null,
            "max_height": null,
            "max_width": null,
            "min_height": null,
            "min_width": null,
            "object_fit": null,
            "object_position": null,
            "order": null,
            "overflow": null,
            "overflow_x": null,
            "overflow_y": null,
            "padding": null,
            "right": null,
            "top": null,
            "visibility": null,
            "width": null
          }
        },
        "65527cdb577247fdb252c04d78a958f1": {
          "model_module": "@jupyter-widgets/base",
          "model_module_version": "1.2.0",
          "model_name": "LayoutModel",
          "state": {
            "_model_module": "@jupyter-widgets/base",
            "_model_module_version": "1.2.0",
            "_model_name": "LayoutModel",
            "_view_count": null,
            "_view_module": "@jupyter-widgets/base",
            "_view_module_version": "1.2.0",
            "_view_name": "LayoutView",
            "align_content": null,
            "align_items": null,
            "align_self": null,
            "border": null,
            "bottom": null,
            "display": null,
            "flex": null,
            "flex_flow": null,
            "grid_area": null,
            "grid_auto_columns": null,
            "grid_auto_flow": null,
            "grid_auto_rows": null,
            "grid_column": null,
            "grid_gap": null,
            "grid_row": null,
            "grid_template_areas": null,
            "grid_template_columns": null,
            "grid_template_rows": null,
            "height": null,
            "justify_content": null,
            "justify_items": null,
            "left": null,
            "margin": null,
            "max_height": null,
            "max_width": null,
            "min_height": null,
            "min_width": null,
            "object_fit": null,
            "object_position": null,
            "order": null,
            "overflow": null,
            "overflow_x": null,
            "overflow_y": null,
            "padding": null,
            "right": null,
            "top": null,
            "visibility": null,
            "width": null
          }
        },
        "658d0a7d25a24d658d239d2a3469c129": {
          "model_module": "@jupyter-widgets/controls",
          "model_module_version": "1.5.0",
          "model_name": "ProgressStyleModel",
          "state": {
            "_model_module": "@jupyter-widgets/controls",
            "_model_module_version": "1.5.0",
            "_model_name": "ProgressStyleModel",
            "_view_count": null,
            "_view_module": "@jupyter-widgets/base",
            "_view_module_version": "1.2.0",
            "_view_name": "StyleView",
            "bar_color": null,
            "description_width": ""
          }
        },
        "6730c4fcd52840b0b9e6148d1fa04579": {
          "model_module": "@jupyter-widgets/controls",
          "model_module_version": "1.5.0",
          "model_name": "DescriptionStyleModel",
          "state": {
            "_model_module": "@jupyter-widgets/controls",
            "_model_module_version": "1.5.0",
            "_model_name": "DescriptionStyleModel",
            "_view_count": null,
            "_view_module": "@jupyter-widgets/base",
            "_view_module_version": "1.2.0",
            "_view_name": "StyleView",
            "description_width": ""
          }
        },
        "6c317e38b35447e48b2b8d4f465b7d84": {
          "model_module": "@jupyter-widgets/controls",
          "model_module_version": "1.5.0",
          "model_name": "DescriptionStyleModel",
          "state": {
            "_model_module": "@jupyter-widgets/controls",
            "_model_module_version": "1.5.0",
            "_model_name": "DescriptionStyleModel",
            "_view_count": null,
            "_view_module": "@jupyter-widgets/base",
            "_view_module_version": "1.2.0",
            "_view_name": "StyleView",
            "description_width": ""
          }
        },
        "6eba6653997447f1b5f4fd79e4a71500": {
          "model_module": "@jupyter-widgets/base",
          "model_module_version": "1.2.0",
          "model_name": "LayoutModel",
          "state": {
            "_model_module": "@jupyter-widgets/base",
            "_model_module_version": "1.2.0",
            "_model_name": "LayoutModel",
            "_view_count": null,
            "_view_module": "@jupyter-widgets/base",
            "_view_module_version": "1.2.0",
            "_view_name": "LayoutView",
            "align_content": null,
            "align_items": null,
            "align_self": null,
            "border": null,
            "bottom": null,
            "display": null,
            "flex": null,
            "flex_flow": null,
            "grid_area": null,
            "grid_auto_columns": null,
            "grid_auto_flow": null,
            "grid_auto_rows": null,
            "grid_column": null,
            "grid_gap": null,
            "grid_row": null,
            "grid_template_areas": null,
            "grid_template_columns": null,
            "grid_template_rows": null,
            "height": null,
            "justify_content": null,
            "justify_items": null,
            "left": null,
            "margin": null,
            "max_height": null,
            "max_width": null,
            "min_height": null,
            "min_width": null,
            "object_fit": null,
            "object_position": null,
            "order": null,
            "overflow": null,
            "overflow_x": null,
            "overflow_y": null,
            "padding": null,
            "right": null,
            "top": null,
            "visibility": null,
            "width": null
          }
        },
        "6f6c48462e96490ea7723becf2607e79": {
          "model_module": "@jupyter-widgets/base",
          "model_module_version": "1.2.0",
          "model_name": "LayoutModel",
          "state": {
            "_model_module": "@jupyter-widgets/base",
            "_model_module_version": "1.2.0",
            "_model_name": "LayoutModel",
            "_view_count": null,
            "_view_module": "@jupyter-widgets/base",
            "_view_module_version": "1.2.0",
            "_view_name": "LayoutView",
            "align_content": null,
            "align_items": null,
            "align_self": null,
            "border": null,
            "bottom": null,
            "display": null,
            "flex": null,
            "flex_flow": null,
            "grid_area": null,
            "grid_auto_columns": null,
            "grid_auto_flow": null,
            "grid_auto_rows": null,
            "grid_column": null,
            "grid_gap": null,
            "grid_row": null,
            "grid_template_areas": null,
            "grid_template_columns": null,
            "grid_template_rows": null,
            "height": null,
            "justify_content": null,
            "justify_items": null,
            "left": null,
            "margin": null,
            "max_height": null,
            "max_width": null,
            "min_height": null,
            "min_width": null,
            "object_fit": null,
            "object_position": null,
            "order": null,
            "overflow": null,
            "overflow_x": null,
            "overflow_y": null,
            "padding": null,
            "right": null,
            "top": null,
            "visibility": null,
            "width": null
          }
        },
        "70bb6c84251641c4939e1998b6893806": {
          "model_module": "@jupyter-widgets/controls",
          "model_module_version": "1.5.0",
          "model_name": "ProgressStyleModel",
          "state": {
            "_model_module": "@jupyter-widgets/controls",
            "_model_module_version": "1.5.0",
            "_model_name": "ProgressStyleModel",
            "_view_count": null,
            "_view_module": "@jupyter-widgets/base",
            "_view_module_version": "1.2.0",
            "_view_name": "StyleView",
            "bar_color": null,
            "description_width": ""
          }
        },
        "70f0e480489a46e896c18f8f0c9f9ede": {
          "model_module": "@jupyter-widgets/controls",
          "model_module_version": "1.5.0",
          "model_name": "HTMLModel",
          "state": {
            "_dom_classes": [],
            "_model_module": "@jupyter-widgets/controls",
            "_model_module_version": "1.5.0",
            "_model_name": "HTMLModel",
            "_view_count": null,
            "_view_module": "@jupyter-widgets/controls",
            "_view_module_version": "1.5.0",
            "_view_name": "HTMLView",
            "description": "",
            "description_tooltip": null,
            "layout": "IPY_MODEL_1351dddab63348a9afaee3491e6d5a9b",
            "placeholder": "​",
            "style": "IPY_MODEL_473308def3504a6c88ad8dca43ba1c4d",
            "value": " 147/147 [00:00&lt;00:00, 8.05kB/s]"
          }
        },
        "710f0af951eb48148e715f544a014854": {
          "model_module": "@jupyter-widgets/controls",
          "model_module_version": "1.5.0",
          "model_name": "HBoxModel",
          "state": {
            "_dom_classes": [],
            "_model_module": "@jupyter-widgets/controls",
            "_model_module_version": "1.5.0",
            "_model_name": "HBoxModel",
            "_view_count": null,
            "_view_module": "@jupyter-widgets/controls",
            "_view_module_version": "1.5.0",
            "_view_name": "HBoxView",
            "box_style": "",
            "children": [
              "IPY_MODEL_be738395495c4296af63be3b3cc6bec1",
              "IPY_MODEL_f4ef59a869074119a49eec655d24bdc3",
              "IPY_MODEL_884dcca5099a42b28e503450ff4d4213"
            ],
            "layout": "IPY_MODEL_2e25fabb290d4d8d884ece1932f4825a"
          }
        },
        "72b78141b901440ea67a1f9a9661926b": {
          "model_module": "@jupyter-widgets/controls",
          "model_module_version": "1.5.0",
          "model_name": "FloatProgressModel",
          "state": {
            "_dom_classes": [],
            "_model_module": "@jupyter-widgets/controls",
            "_model_module_version": "1.5.0",
            "_model_name": "FloatProgressModel",
            "_view_count": null,
            "_view_module": "@jupyter-widgets/controls",
            "_view_module_version": "1.5.0",
            "_view_name": "ProgressView",
            "bar_style": "success",
            "description": "",
            "description_tooltip": null,
            "layout": "IPY_MODEL_4834332789aa43e6a9c7cef244d27cd3",
            "max": 685,
            "min": 0,
            "orientation": "horizontal",
            "style": "IPY_MODEL_ed605cf37f7049ab83d2ccd09ea5047c",
            "value": 685
          }
        },
        "75063084efea45448d8af5fe5b0a3263": {
          "model_module": "@jupyter-widgets/controls",
          "model_module_version": "1.5.0",
          "model_name": "ProgressStyleModel",
          "state": {
            "_model_module": "@jupyter-widgets/controls",
            "_model_module_version": "1.5.0",
            "_model_name": "ProgressStyleModel",
            "_view_count": null,
            "_view_module": "@jupyter-widgets/base",
            "_view_module_version": "1.2.0",
            "_view_name": "StyleView",
            "bar_color": null,
            "description_width": ""
          }
        },
        "79c38130697045279fe163f3e8a56945": {
          "model_module": "@jupyter-widgets/base",
          "model_module_version": "1.2.0",
          "model_name": "LayoutModel",
          "state": {
            "_model_module": "@jupyter-widgets/base",
            "_model_module_version": "1.2.0",
            "_model_name": "LayoutModel",
            "_view_count": null,
            "_view_module": "@jupyter-widgets/base",
            "_view_module_version": "1.2.0",
            "_view_name": "LayoutView",
            "align_content": null,
            "align_items": null,
            "align_self": null,
            "border": null,
            "bottom": null,
            "display": null,
            "flex": null,
            "flex_flow": null,
            "grid_area": null,
            "grid_auto_columns": null,
            "grid_auto_flow": null,
            "grid_auto_rows": null,
            "grid_column": null,
            "grid_gap": null,
            "grid_row": null,
            "grid_template_areas": null,
            "grid_template_columns": null,
            "grid_template_rows": null,
            "height": null,
            "justify_content": null,
            "justify_items": null,
            "left": null,
            "margin": null,
            "max_height": null,
            "max_width": null,
            "min_height": null,
            "min_width": null,
            "object_fit": null,
            "object_position": null,
            "order": null,
            "overflow": null,
            "overflow_x": null,
            "overflow_y": null,
            "padding": null,
            "right": null,
            "top": null,
            "visibility": null,
            "width": null
          }
        },
        "7c8307f281a34fe9a2c1d91e8da30dc7": {
          "model_module": "@jupyter-widgets/controls",
          "model_module_version": "1.5.0",
          "model_name": "DescriptionStyleModel",
          "state": {
            "_model_module": "@jupyter-widgets/controls",
            "_model_module_version": "1.5.0",
            "_model_name": "DescriptionStyleModel",
            "_view_count": null,
            "_view_module": "@jupyter-widgets/base",
            "_view_module_version": "1.2.0",
            "_view_name": "StyleView",
            "description_width": ""
          }
        },
        "7d48e8625c934b849884397a5a5afc89": {
          "model_module": "@jupyter-widgets/base",
          "model_module_version": "1.2.0",
          "model_name": "LayoutModel",
          "state": {
            "_model_module": "@jupyter-widgets/base",
            "_model_module_version": "1.2.0",
            "_model_name": "LayoutModel",
            "_view_count": null,
            "_view_module": "@jupyter-widgets/base",
            "_view_module_version": "1.2.0",
            "_view_name": "LayoutView",
            "align_content": null,
            "align_items": null,
            "align_self": null,
            "border": null,
            "bottom": null,
            "display": null,
            "flex": null,
            "flex_flow": null,
            "grid_area": null,
            "grid_auto_columns": null,
            "grid_auto_flow": null,
            "grid_auto_rows": null,
            "grid_column": null,
            "grid_gap": null,
            "grid_row": null,
            "grid_template_areas": null,
            "grid_template_columns": null,
            "grid_template_rows": null,
            "height": null,
            "justify_content": null,
            "justify_items": null,
            "left": null,
            "margin": null,
            "max_height": null,
            "max_width": null,
            "min_height": null,
            "min_width": null,
            "object_fit": null,
            "object_position": null,
            "order": null,
            "overflow": null,
            "overflow_x": null,
            "overflow_y": null,
            "padding": null,
            "right": null,
            "top": null,
            "visibility": null,
            "width": null
          }
        },
        "7e7c882ae2b44d5b87398f5fad2ffc9f": {
          "model_module": "@jupyter-widgets/base",
          "model_module_version": "1.2.0",
          "model_name": "LayoutModel",
          "state": {
            "_model_module": "@jupyter-widgets/base",
            "_model_module_version": "1.2.0",
            "_model_name": "LayoutModel",
            "_view_count": null,
            "_view_module": "@jupyter-widgets/base",
            "_view_module_version": "1.2.0",
            "_view_name": "LayoutView",
            "align_content": null,
            "align_items": null,
            "align_self": null,
            "border": null,
            "bottom": null,
            "display": null,
            "flex": null,
            "flex_flow": null,
            "grid_area": null,
            "grid_auto_columns": null,
            "grid_auto_flow": null,
            "grid_auto_rows": null,
            "grid_column": null,
            "grid_gap": null,
            "grid_row": null,
            "grid_template_areas": null,
            "grid_template_columns": null,
            "grid_template_rows": null,
            "height": null,
            "justify_content": null,
            "justify_items": null,
            "left": null,
            "margin": null,
            "max_height": null,
            "max_width": null,
            "min_height": null,
            "min_width": null,
            "object_fit": null,
            "object_position": null,
            "order": null,
            "overflow": null,
            "overflow_x": null,
            "overflow_y": null,
            "padding": null,
            "right": null,
            "top": null,
            "visibility": null,
            "width": null
          }
        },
        "7f2be85389a045fb8b18f0b4d03217fa": {
          "model_module": "@jupyter-widgets/base",
          "model_module_version": "1.2.0",
          "model_name": "LayoutModel",
          "state": {
            "_model_module": "@jupyter-widgets/base",
            "_model_module_version": "1.2.0",
            "_model_name": "LayoutModel",
            "_view_count": null,
            "_view_module": "@jupyter-widgets/base",
            "_view_module_version": "1.2.0",
            "_view_name": "LayoutView",
            "align_content": null,
            "align_items": null,
            "align_self": null,
            "border": null,
            "bottom": null,
            "display": null,
            "flex": null,
            "flex_flow": null,
            "grid_area": null,
            "grid_auto_columns": null,
            "grid_auto_flow": null,
            "grid_auto_rows": null,
            "grid_column": null,
            "grid_gap": null,
            "grid_row": null,
            "grid_template_areas": null,
            "grid_template_columns": null,
            "grid_template_rows": null,
            "height": null,
            "justify_content": null,
            "justify_items": null,
            "left": null,
            "margin": null,
            "max_height": null,
            "max_width": null,
            "min_height": null,
            "min_width": null,
            "object_fit": null,
            "object_position": null,
            "order": null,
            "overflow": null,
            "overflow_x": null,
            "overflow_y": null,
            "padding": null,
            "right": null,
            "top": null,
            "visibility": null,
            "width": null
          }
        },
        "7fc7592b74e44f5d852804f2dd70e2c3": {
          "model_module": "@jupyter-widgets/controls",
          "model_module_version": "1.5.0",
          "model_name": "HTMLModel",
          "state": {
            "_dom_classes": [],
            "_model_module": "@jupyter-widgets/controls",
            "_model_module_version": "1.5.0",
            "_model_name": "HTMLModel",
            "_view_count": null,
            "_view_module": "@jupyter-widgets/controls",
            "_view_module_version": "1.5.0",
            "_view_name": "HTMLView",
            "description": "",
            "description_tooltip": null,
            "layout": "IPY_MODEL_9bfe0289d7a34eaab8fdcdbcd654cd24",
            "placeholder": "​",
            "style": "IPY_MODEL_64204bc52bab4cfbbcc85d65c3bf10bb",
            "value": " 441/441 [00:00&lt;00:00, 19.9kB/s]"
          }
        },
        "81b690d1f94448239ea1a0984f0a4521": {
          "model_module": "@jupyter-widgets/base",
          "model_module_version": "1.2.0",
          "model_name": "LayoutModel",
          "state": {
            "_model_module": "@jupyter-widgets/base",
            "_model_module_version": "1.2.0",
            "_model_name": "LayoutModel",
            "_view_count": null,
            "_view_module": "@jupyter-widgets/base",
            "_view_module_version": "1.2.0",
            "_view_name": "LayoutView",
            "align_content": null,
            "align_items": null,
            "align_self": null,
            "border": null,
            "bottom": null,
            "display": null,
            "flex": null,
            "flex_flow": null,
            "grid_area": null,
            "grid_auto_columns": null,
            "grid_auto_flow": null,
            "grid_auto_rows": null,
            "grid_column": null,
            "grid_gap": null,
            "grid_row": null,
            "grid_template_areas": null,
            "grid_template_columns": null,
            "grid_template_rows": null,
            "height": null,
            "justify_content": null,
            "justify_items": null,
            "left": null,
            "margin": null,
            "max_height": null,
            "max_width": null,
            "min_height": null,
            "min_width": null,
            "object_fit": null,
            "object_position": null,
            "order": null,
            "overflow": null,
            "overflow_x": null,
            "overflow_y": null,
            "padding": null,
            "right": null,
            "top": null,
            "visibility": null,
            "width": null
          }
        },
        "81e9e35f86724f258f17f98e38841a33": {
          "model_module": "@jupyter-widgets/controls",
          "model_module_version": "1.5.0",
          "model_name": "DescriptionStyleModel",
          "state": {
            "_model_module": "@jupyter-widgets/controls",
            "_model_module_version": "1.5.0",
            "_model_name": "DescriptionStyleModel",
            "_view_count": null,
            "_view_module": "@jupyter-widgets/base",
            "_view_module_version": "1.2.0",
            "_view_name": "StyleView",
            "description_width": ""
          }
        },
        "81fbac7e521c41eba1875d4c1ecd1db1": {
          "model_module": "@jupyter-widgets/controls",
          "model_module_version": "1.5.0",
          "model_name": "DescriptionStyleModel",
          "state": {
            "_model_module": "@jupyter-widgets/controls",
            "_model_module_version": "1.5.0",
            "_model_name": "DescriptionStyleModel",
            "_view_count": null,
            "_view_module": "@jupyter-widgets/base",
            "_view_module_version": "1.2.0",
            "_view_name": "StyleView",
            "description_width": ""
          }
        },
        "821c3317c1044e5f932602535da3e569": {
          "model_module": "@jupyter-widgets/controls",
          "model_module_version": "1.5.0",
          "model_name": "HBoxModel",
          "state": {
            "_dom_classes": [],
            "_model_module": "@jupyter-widgets/controls",
            "_model_module_version": "1.5.0",
            "_model_name": "HBoxModel",
            "_view_count": null,
            "_view_module": "@jupyter-widgets/controls",
            "_view_module_version": "1.5.0",
            "_view_name": "HBoxView",
            "box_style": "",
            "children": [
              "IPY_MODEL_04af3b20fca44068acb99029552d90d7",
              "IPY_MODEL_cc4e1f2e57404d0088629001a336ade6",
              "IPY_MODEL_cbab82bb9ad248f991bd90a7a972d631"
            ],
            "layout": "IPY_MODEL_c95df3d184ea41a4a0c3d01684da16a1"
          }
        },
        "82bc5e8fbb5149aeb660b9ec7fdfc154": {
          "model_module": "@jupyter-widgets/controls",
          "model_module_version": "1.5.0",
          "model_name": "HTMLModel",
          "state": {
            "_dom_classes": [],
            "_model_module": "@jupyter-widgets/controls",
            "_model_module_version": "1.5.0",
            "_model_name": "HTMLModel",
            "_view_count": null,
            "_view_module": "@jupyter-widgets/controls",
            "_view_module_version": "1.5.0",
            "_view_name": "HTMLView",
            "description": "",
            "description_tooltip": null,
            "layout": "IPY_MODEL_da6d628552124d7aac3974c92962996b",
            "placeholder": "​",
            "style": "IPY_MODEL_2a5668cc44ec4c1c8567f08e5f33460e",
            "value": "Downloading (…)olve/main/merges.txt: 100%"
          }
        },
        "856e6c27084a4764bf6c7a31368c3811": {
          "model_module": "@jupyter-widgets/controls",
          "model_module_version": "1.5.0",
          "model_name": "FloatProgressModel",
          "state": {
            "_dom_classes": [],
            "_model_module": "@jupyter-widgets/controls",
            "_model_module_version": "1.5.0",
            "_model_name": "FloatProgressModel",
            "_view_count": null,
            "_view_module": "@jupyter-widgets/controls",
            "_view_module_version": "1.5.0",
            "_view_name": "ProgressView",
            "bar_style": "success",
            "description": "",
            "description_tooltip": null,
            "layout": "IPY_MODEL_530762b56504499a828d257fa5dbe1d7",
            "max": 791656,
            "min": 0,
            "orientation": "horizontal",
            "style": "IPY_MODEL_75063084efea45448d8af5fe5b0a3263",
            "value": 791656
          }
        },
        "884dcca5099a42b28e503450ff4d4213": {
          "model_module": "@jupyter-widgets/controls",
          "model_module_version": "1.5.0",
          "model_name": "HTMLModel",
          "state": {
            "_dom_classes": [],
            "_model_module": "@jupyter-widgets/controls",
            "_model_module_version": "1.5.0",
            "_model_name": "HTMLModel",
            "_view_count": null,
            "_view_module": "@jupyter-widgets/controls",
            "_view_module_version": "1.5.0",
            "_view_name": "HTMLView",
            "description": "",
            "description_tooltip": null,
            "layout": "IPY_MODEL_e1d090e8eef4440195ca7ac98afc7aa5",
            "placeholder": "​",
            "style": "IPY_MODEL_28adf5ae61df4890a817ce39bed03501",
            "value": " 644/644 [00:00&lt;00:00, 26.1kB/s]"
          }
        },
        "888bf56f2a204b8f883df979436aaa21": {
          "model_module": "@jupyter-widgets/base",
          "model_module_version": "1.2.0",
          "model_name": "LayoutModel",
          "state": {
            "_model_module": "@jupyter-widgets/base",
            "_model_module_version": "1.2.0",
            "_model_name": "LayoutModel",
            "_view_count": null,
            "_view_module": "@jupyter-widgets/base",
            "_view_module_version": "1.2.0",
            "_view_name": "LayoutView",
            "align_content": null,
            "align_items": null,
            "align_self": null,
            "border": null,
            "bottom": null,
            "display": null,
            "flex": null,
            "flex_flow": null,
            "grid_area": null,
            "grid_auto_columns": null,
            "grid_auto_flow": null,
            "grid_auto_rows": null,
            "grid_column": null,
            "grid_gap": null,
            "grid_row": null,
            "grid_template_areas": null,
            "grid_template_columns": null,
            "grid_template_rows": null,
            "height": null,
            "justify_content": null,
            "justify_items": null,
            "left": null,
            "margin": null,
            "max_height": null,
            "max_width": null,
            "min_height": null,
            "min_width": null,
            "object_fit": null,
            "object_position": null,
            "order": null,
            "overflow": null,
            "overflow_x": null,
            "overflow_y": null,
            "padding": null,
            "right": null,
            "top": null,
            "visibility": null,
            "width": null
          }
        },
        "8a7f2c044c3d421e83a896a699d04ae5": {
          "model_module": "@jupyter-widgets/base",
          "model_module_version": "1.2.0",
          "model_name": "LayoutModel",
          "state": {
            "_model_module": "@jupyter-widgets/base",
            "_model_module_version": "1.2.0",
            "_model_name": "LayoutModel",
            "_view_count": null,
            "_view_module": "@jupyter-widgets/base",
            "_view_module_version": "1.2.0",
            "_view_name": "LayoutView",
            "align_content": null,
            "align_items": null,
            "align_self": null,
            "border": null,
            "bottom": null,
            "display": null,
            "flex": null,
            "flex_flow": null,
            "grid_area": null,
            "grid_auto_columns": null,
            "grid_auto_flow": null,
            "grid_auto_rows": null,
            "grid_column": null,
            "grid_gap": null,
            "grid_row": null,
            "grid_template_areas": null,
            "grid_template_columns": null,
            "grid_template_rows": null,
            "height": null,
            "justify_content": null,
            "justify_items": null,
            "left": null,
            "margin": null,
            "max_height": null,
            "max_width": null,
            "min_height": null,
            "min_width": null,
            "object_fit": null,
            "object_position": null,
            "order": null,
            "overflow": null,
            "overflow_x": null,
            "overflow_y": null,
            "padding": null,
            "right": null,
            "top": null,
            "visibility": null,
            "width": null
          }
        },
        "8b5e3965d635481b92493c2f8c2a0340": {
          "model_module": "@jupyter-widgets/controls",
          "model_module_version": "1.5.0",
          "model_name": "HTMLModel",
          "state": {
            "_dom_classes": [],
            "_model_module": "@jupyter-widgets/controls",
            "_model_module_version": "1.5.0",
            "_model_name": "HTMLModel",
            "_view_count": null,
            "_view_module": "@jupyter-widgets/controls",
            "_view_module_version": "1.5.0",
            "_view_name": "HTMLView",
            "description": "",
            "description_tooltip": null,
            "layout": "IPY_MODEL_d011b55823b04b36afcdf4f23996e34a",
            "placeholder": "​",
            "style": "IPY_MODEL_2f9305325ec548d8a512966783b1fbc8",
            "value": "Downloading (…)neration_config.json: 100%"
          }
        },
        "8dddd6f83c1b49ffb417be1141d5ae67": {
          "model_module": "@jupyter-widgets/base",
          "model_module_version": "1.2.0",
          "model_name": "LayoutModel",
          "state": {
            "_model_module": "@jupyter-widgets/base",
            "_model_module_version": "1.2.0",
            "_model_name": "LayoutModel",
            "_view_count": null,
            "_view_module": "@jupyter-widgets/base",
            "_view_module_version": "1.2.0",
            "_view_name": "LayoutView",
            "align_content": null,
            "align_items": null,
            "align_self": null,
            "border": null,
            "bottom": null,
            "display": null,
            "flex": null,
            "flex_flow": null,
            "grid_area": null,
            "grid_auto_columns": null,
            "grid_auto_flow": null,
            "grid_auto_rows": null,
            "grid_column": null,
            "grid_gap": null,
            "grid_row": null,
            "grid_template_areas": null,
            "grid_template_columns": null,
            "grid_template_rows": null,
            "height": null,
            "justify_content": null,
            "justify_items": null,
            "left": null,
            "margin": null,
            "max_height": null,
            "max_width": null,
            "min_height": null,
            "min_width": null,
            "object_fit": null,
            "object_position": null,
            "order": null,
            "overflow": null,
            "overflow_x": null,
            "overflow_y": null,
            "padding": null,
            "right": null,
            "top": null,
            "visibility": null,
            "width": null
          }
        },
        "8f1ddf337a834d4fba557d99403e99a3": {
          "model_module": "@jupyter-widgets/controls",
          "model_module_version": "1.5.0",
          "model_name": "FloatProgressModel",
          "state": {
            "_dom_classes": [],
            "_model_module": "@jupyter-widgets/controls",
            "_model_module_version": "1.5.0",
            "_model_name": "FloatProgressModel",
            "_view_count": null,
            "_view_module": "@jupyter-widgets/controls",
            "_view_module_version": "1.5.0",
            "_view_name": "ProgressView",
            "bar_style": "success",
            "description": "",
            "description_tooltip": null,
            "layout": "IPY_MODEL_2a4cbabb04bd4de0898bd2592f490529",
            "max": 662802840,
            "min": 0,
            "orientation": "horizontal",
            "style": "IPY_MODEL_70bb6c84251641c4939e1998b6893806",
            "value": 662802840
          }
        },
        "941499bee36e4594ad909b3cae5ea390": {
          "model_module": "@jupyter-widgets/base",
          "model_module_version": "1.2.0",
          "model_name": "LayoutModel",
          "state": {
            "_model_module": "@jupyter-widgets/base",
            "_model_module_version": "1.2.0",
            "_model_name": "LayoutModel",
            "_view_count": null,
            "_view_module": "@jupyter-widgets/base",
            "_view_module_version": "1.2.0",
            "_view_name": "LayoutView",
            "align_content": null,
            "align_items": null,
            "align_self": null,
            "border": null,
            "bottom": null,
            "display": null,
            "flex": null,
            "flex_flow": null,
            "grid_area": null,
            "grid_auto_columns": null,
            "grid_auto_flow": null,
            "grid_auto_rows": null,
            "grid_column": null,
            "grid_gap": null,
            "grid_row": null,
            "grid_template_areas": null,
            "grid_template_columns": null,
            "grid_template_rows": null,
            "height": null,
            "justify_content": null,
            "justify_items": null,
            "left": null,
            "margin": null,
            "max_height": null,
            "max_width": null,
            "min_height": null,
            "min_width": null,
            "object_fit": null,
            "object_position": null,
            "order": null,
            "overflow": null,
            "overflow_x": null,
            "overflow_y": null,
            "padding": null,
            "right": null,
            "top": null,
            "visibility": null,
            "width": null
          }
        },
        "94e81dcd66014701833893ab8dd6cccf": {
          "model_module": "@jupyter-widgets/base",
          "model_module_version": "1.2.0",
          "model_name": "LayoutModel",
          "state": {
            "_model_module": "@jupyter-widgets/base",
            "_model_module_version": "1.2.0",
            "_model_name": "LayoutModel",
            "_view_count": null,
            "_view_module": "@jupyter-widgets/base",
            "_view_module_version": "1.2.0",
            "_view_name": "LayoutView",
            "align_content": null,
            "align_items": null,
            "align_self": null,
            "border": null,
            "bottom": null,
            "display": null,
            "flex": null,
            "flex_flow": null,
            "grid_area": null,
            "grid_auto_columns": null,
            "grid_auto_flow": null,
            "grid_auto_rows": null,
            "grid_column": null,
            "grid_gap": null,
            "grid_row": null,
            "grid_template_areas": null,
            "grid_template_columns": null,
            "grid_template_rows": null,
            "height": null,
            "justify_content": null,
            "justify_items": null,
            "left": null,
            "margin": null,
            "max_height": null,
            "max_width": null,
            "min_height": null,
            "min_width": null,
            "object_fit": null,
            "object_position": null,
            "order": null,
            "overflow": null,
            "overflow_x": null,
            "overflow_y": null,
            "padding": null,
            "right": null,
            "top": null,
            "visibility": null,
            "width": null
          }
        },
        "96fea4e79c254651b714d87c69457955": {
          "model_module": "@jupyter-widgets/controls",
          "model_module_version": "1.5.0",
          "model_name": "HTMLModel",
          "state": {
            "_dom_classes": [],
            "_model_module": "@jupyter-widgets/controls",
            "_model_module_version": "1.5.0",
            "_model_name": "HTMLModel",
            "_view_count": null,
            "_view_module": "@jupyter-widgets/controls",
            "_view_module_version": "1.5.0",
            "_view_name": "HTMLView",
            "description": "",
            "description_tooltip": null,
            "layout": "IPY_MODEL_941499bee36e4594ad909b3cae5ea390",
            "placeholder": "​",
            "style": "IPY_MODEL_03d019f212454b6da55fa81c3dcb509e",
            "value": "Downloading (…)lve/main/config.json: 100%"
          }
        },
        "974c1406d98f4fb4a23f2b700a48b632": {
          "model_module": "@jupyter-widgets/controls",
          "model_module_version": "1.5.0",
          "model_name": "ProgressStyleModel",
          "state": {
            "_model_module": "@jupyter-widgets/controls",
            "_model_module_version": "1.5.0",
            "_model_name": "ProgressStyleModel",
            "_view_count": null,
            "_view_module": "@jupyter-widgets/base",
            "_view_module_version": "1.2.0",
            "_view_name": "StyleView",
            "bar_color": null,
            "description_width": ""
          }
        },
        "97d3fd32bd5b413bbd70bef90dfa6ac4": {
          "model_module": "@jupyter-widgets/controls",
          "model_module_version": "1.5.0",
          "model_name": "ProgressStyleModel",
          "state": {
            "_model_module": "@jupyter-widgets/controls",
            "_model_module_version": "1.5.0",
            "_model_name": "ProgressStyleModel",
            "_view_count": null,
            "_view_module": "@jupyter-widgets/base",
            "_view_module_version": "1.2.0",
            "_view_name": "StyleView",
            "bar_color": null,
            "description_width": ""
          }
        },
        "98f211febaaa4f5ca1317530ffd601eb": {
          "model_module": "@jupyter-widgets/base",
          "model_module_version": "1.2.0",
          "model_name": "LayoutModel",
          "state": {
            "_model_module": "@jupyter-widgets/base",
            "_model_module_version": "1.2.0",
            "_model_name": "LayoutModel",
            "_view_count": null,
            "_view_module": "@jupyter-widgets/base",
            "_view_module_version": "1.2.0",
            "_view_name": "LayoutView",
            "align_content": null,
            "align_items": null,
            "align_self": null,
            "border": null,
            "bottom": null,
            "display": null,
            "flex": null,
            "flex_flow": null,
            "grid_area": null,
            "grid_auto_columns": null,
            "grid_auto_flow": null,
            "grid_auto_rows": null,
            "grid_column": null,
            "grid_gap": null,
            "grid_row": null,
            "grid_template_areas": null,
            "grid_template_columns": null,
            "grid_template_rows": null,
            "height": null,
            "justify_content": null,
            "justify_items": null,
            "left": null,
            "margin": null,
            "max_height": null,
            "max_width": null,
            "min_height": null,
            "min_width": null,
            "object_fit": null,
            "object_position": null,
            "order": null,
            "overflow": null,
            "overflow_x": null,
            "overflow_y": null,
            "padding": null,
            "right": null,
            "top": null,
            "visibility": null,
            "width": null
          }
        },
        "9ae121329a604b8ba29fb1348ce9da2f": {
          "model_module": "@jupyter-widgets/controls",
          "model_module_version": "1.5.0",
          "model_name": "DescriptionStyleModel",
          "state": {
            "_model_module": "@jupyter-widgets/controls",
            "_model_module_version": "1.5.0",
            "_model_name": "DescriptionStyleModel",
            "_view_count": null,
            "_view_module": "@jupyter-widgets/base",
            "_view_module_version": "1.2.0",
            "_view_name": "StyleView",
            "description_width": ""
          }
        },
        "9bfe0289d7a34eaab8fdcdbcd654cd24": {
          "model_module": "@jupyter-widgets/base",
          "model_module_version": "1.2.0",
          "model_name": "LayoutModel",
          "state": {
            "_model_module": "@jupyter-widgets/base",
            "_model_module_version": "1.2.0",
            "_model_name": "LayoutModel",
            "_view_count": null,
            "_view_module": "@jupyter-widgets/base",
            "_view_module_version": "1.2.0",
            "_view_name": "LayoutView",
            "align_content": null,
            "align_items": null,
            "align_self": null,
            "border": null,
            "bottom": null,
            "display": null,
            "flex": null,
            "flex_flow": null,
            "grid_area": null,
            "grid_auto_columns": null,
            "grid_auto_flow": null,
            "grid_auto_rows": null,
            "grid_column": null,
            "grid_gap": null,
            "grid_row": null,
            "grid_template_areas": null,
            "grid_template_columns": null,
            "grid_template_rows": null,
            "height": null,
            "justify_content": null,
            "justify_items": null,
            "left": null,
            "margin": null,
            "max_height": null,
            "max_width": null,
            "min_height": null,
            "min_width": null,
            "object_fit": null,
            "object_position": null,
            "order": null,
            "overflow": null,
            "overflow_x": null,
            "overflow_y": null,
            "padding": null,
            "right": null,
            "top": null,
            "visibility": null,
            "width": null
          }
        },
        "9ce113147e9e42f883ab8019ad900a5b": {
          "model_module": "@jupyter-widgets/controls",
          "model_module_version": "1.5.0",
          "model_name": "HTMLModel",
          "state": {
            "_dom_classes": [],
            "_model_module": "@jupyter-widgets/controls",
            "_model_module_version": "1.5.0",
            "_model_name": "HTMLModel",
            "_view_count": null,
            "_view_module": "@jupyter-widgets/controls",
            "_view_module_version": "1.5.0",
            "_view_name": "HTMLView",
            "description": "",
            "description_tooltip": null,
            "layout": "IPY_MODEL_a2e6d14eed674b1293e5337744f4d5da",
            "placeholder": "​",
            "style": "IPY_MODEL_354bde2806db4ab9b8733c36877d2048",
            "value": " 137/137 [00:00&lt;00:00, 8.41kB/s]"
          }
        },
        "9f674bac61164a6b9248496734b10471": {
          "model_module": "@jupyter-widgets/base",
          "model_module_version": "1.2.0",
          "model_name": "LayoutModel",
          "state": {
            "_model_module": "@jupyter-widgets/base",
            "_model_module_version": "1.2.0",
            "_model_name": "LayoutModel",
            "_view_count": null,
            "_view_module": "@jupyter-widgets/base",
            "_view_module_version": "1.2.0",
            "_view_name": "LayoutView",
            "align_content": null,
            "align_items": null,
            "align_self": null,
            "border": null,
            "bottom": null,
            "display": null,
            "flex": null,
            "flex_flow": null,
            "grid_area": null,
            "grid_auto_columns": null,
            "grid_auto_flow": null,
            "grid_auto_rows": null,
            "grid_column": null,
            "grid_gap": null,
            "grid_row": null,
            "grid_template_areas": null,
            "grid_template_columns": null,
            "grid_template_rows": null,
            "height": null,
            "justify_content": null,
            "justify_items": null,
            "left": null,
            "margin": null,
            "max_height": null,
            "max_width": null,
            "min_height": null,
            "min_width": null,
            "object_fit": null,
            "object_position": null,
            "order": null,
            "overflow": null,
            "overflow_x": null,
            "overflow_y": null,
            "padding": null,
            "right": null,
            "top": null,
            "visibility": null,
            "width": null
          }
        },
        "a2e6d14eed674b1293e5337744f4d5da": {
          "model_module": "@jupyter-widgets/base",
          "model_module_version": "1.2.0",
          "model_name": "LayoutModel",
          "state": {
            "_model_module": "@jupyter-widgets/base",
            "_model_module_version": "1.2.0",
            "_model_name": "LayoutModel",
            "_view_count": null,
            "_view_module": "@jupyter-widgets/base",
            "_view_module_version": "1.2.0",
            "_view_name": "LayoutView",
            "align_content": null,
            "align_items": null,
            "align_self": null,
            "border": null,
            "bottom": null,
            "display": null,
            "flex": null,
            "flex_flow": null,
            "grid_area": null,
            "grid_auto_columns": null,
            "grid_auto_flow": null,
            "grid_auto_rows": null,
            "grid_column": null,
            "grid_gap": null,
            "grid_row": null,
            "grid_template_areas": null,
            "grid_template_columns": null,
            "grid_template_rows": null,
            "height": null,
            "justify_content": null,
            "justify_items": null,
            "left": null,
            "margin": null,
            "max_height": null,
            "max_width": null,
            "min_height": null,
            "min_width": null,
            "object_fit": null,
            "object_position": null,
            "order": null,
            "overflow": null,
            "overflow_x": null,
            "overflow_y": null,
            "padding": null,
            "right": null,
            "top": null,
            "visibility": null,
            "width": null
          }
        },
        "a3e2edec1c5049a9ab5b78a559ab5809": {
          "model_module": "@jupyter-widgets/controls",
          "model_module_version": "1.5.0",
          "model_name": "DescriptionStyleModel",
          "state": {
            "_model_module": "@jupyter-widgets/controls",
            "_model_module_version": "1.5.0",
            "_model_name": "DescriptionStyleModel",
            "_view_count": null,
            "_view_module": "@jupyter-widgets/base",
            "_view_module_version": "1.2.0",
            "_view_name": "StyleView",
            "description_width": ""
          }
        },
        "a6580a5c8b1f4a5a9703c3a1464aa6c1": {
          "model_module": "@jupyter-widgets/controls",
          "model_module_version": "1.5.0",
          "model_name": "HTMLModel",
          "state": {
            "_dom_classes": [],
            "_model_module": "@jupyter-widgets/controls",
            "_model_module_version": "1.5.0",
            "_model_name": "HTMLModel",
            "_view_count": null,
            "_view_module": "@jupyter-widgets/controls",
            "_view_module_version": "1.5.0",
            "_view_name": "HTMLView",
            "description": "",
            "description_tooltip": null,
            "layout": "IPY_MODEL_7f2be85389a045fb8b18f0b4d03217fa",
            "placeholder": "​",
            "style": "IPY_MODEL_7c8307f281a34fe9a2c1d91e8da30dc7",
            "value": "Downloading (…)olve/main/vocab.json: 100%"
          }
        },
        "a6a4e393905847a88fe81eded073d252": {
          "model_module": "@jupyter-widgets/base",
          "model_module_version": "1.2.0",
          "model_name": "LayoutModel",
          "state": {
            "_model_module": "@jupyter-widgets/base",
            "_model_module_version": "1.2.0",
            "_model_name": "LayoutModel",
            "_view_count": null,
            "_view_module": "@jupyter-widgets/base",
            "_view_module_version": "1.2.0",
            "_view_name": "LayoutView",
            "align_content": null,
            "align_items": null,
            "align_self": null,
            "border": null,
            "bottom": null,
            "display": null,
            "flex": null,
            "flex_flow": null,
            "grid_area": null,
            "grid_auto_columns": null,
            "grid_auto_flow": null,
            "grid_auto_rows": null,
            "grid_column": null,
            "grid_gap": null,
            "grid_row": null,
            "grid_template_areas": null,
            "grid_template_columns": null,
            "grid_template_rows": null,
            "height": null,
            "justify_content": null,
            "justify_items": null,
            "left": null,
            "margin": null,
            "max_height": null,
            "max_width": null,
            "min_height": null,
            "min_width": null,
            "object_fit": null,
            "object_position": null,
            "order": null,
            "overflow": null,
            "overflow_x": null,
            "overflow_y": null,
            "padding": null,
            "right": null,
            "top": null,
            "visibility": null,
            "width": null
          }
        },
        "afae606770e2448f8c99253cec22d1d8": {
          "model_module": "@jupyter-widgets/controls",
          "model_module_version": "1.5.0",
          "model_name": "HTMLModel",
          "state": {
            "_dom_classes": [],
            "_model_module": "@jupyter-widgets/controls",
            "_model_module_version": "1.5.0",
            "_model_name": "HTMLModel",
            "_view_count": null,
            "_view_module": "@jupyter-widgets/controls",
            "_view_module_version": "1.5.0",
            "_view_name": "HTMLView",
            "description": "",
            "description_tooltip": null,
            "layout": "IPY_MODEL_db999cc21e144fae95020fedc8f547ca",
            "placeholder": "​",
            "style": "IPY_MODEL_dace66e7450741e2bc806e8c44e3486e",
            "value": "Downloading (…)okenizer_config.json: 100%"
          }
        },
        "b01a6bb99876457285765ea5a6da7fce": {
          "model_module": "@jupyter-widgets/controls",
          "model_module_version": "1.5.0",
          "model_name": "HTMLModel",
          "state": {
            "_dom_classes": [],
            "_model_module": "@jupyter-widgets/controls",
            "_model_module_version": "1.5.0",
            "_model_name": "HTMLModel",
            "_view_count": null,
            "_view_module": "@jupyter-widgets/controls",
            "_view_module_version": "1.5.0",
            "_view_name": "HTMLView",
            "description": "",
            "description_tooltip": null,
            "layout": "IPY_MODEL_8a7f2c044c3d421e83a896a699d04ae5",
            "placeholder": "​",
            "style": "IPY_MODEL_c1d53ecf061a4348a36434d5ca8f8662",
            "value": " 147/147 [00:00&lt;00:00, 7.39kB/s]"
          }
        },
        "b1a5419e344e4c349e905522f1f15aa0": {
          "model_module": "@jupyter-widgets/controls",
          "model_module_version": "1.5.0",
          "model_name": "ProgressStyleModel",
          "state": {
            "_model_module": "@jupyter-widgets/controls",
            "_model_module_version": "1.5.0",
            "_model_name": "ProgressStyleModel",
            "_view_count": null,
            "_view_module": "@jupyter-widgets/base",
            "_view_module_version": "1.2.0",
            "_view_name": "StyleView",
            "bar_color": null,
            "description_width": ""
          }
        },
        "b237575386964219a9c9de3b0ea268e4": {
          "model_module": "@jupyter-widgets/controls",
          "model_module_version": "1.5.0",
          "model_name": "HTMLModel",
          "state": {
            "_dom_classes": [],
            "_model_module": "@jupyter-widgets/controls",
            "_model_module_version": "1.5.0",
            "_model_name": "HTMLModel",
            "_view_count": null,
            "_view_module": "@jupyter-widgets/controls",
            "_view_module_version": "1.5.0",
            "_view_name": "HTMLView",
            "description": "",
            "description_tooltip": null,
            "layout": "IPY_MODEL_5c50113ab7884863bbf0e90d7d49132b",
            "placeholder": "​",
            "style": "IPY_MODEL_a3e2edec1c5049a9ab5b78a559ab5809",
            "value": "Downloading (…)&quot;tf_model.h5&quot;;: 100%"
          }
        },
        "b452b0f0c7a840939b9275af315bc98d": {
          "model_module": "@jupyter-widgets/base",
          "model_module_version": "1.2.0",
          "model_name": "LayoutModel",
          "state": {
            "_model_module": "@jupyter-widgets/base",
            "_model_module_version": "1.2.0",
            "_model_name": "LayoutModel",
            "_view_count": null,
            "_view_module": "@jupyter-widgets/base",
            "_view_module_version": "1.2.0",
            "_view_name": "LayoutView",
            "align_content": null,
            "align_items": null,
            "align_self": null,
            "border": null,
            "bottom": null,
            "display": null,
            "flex": null,
            "flex_flow": null,
            "grid_area": null,
            "grid_auto_columns": null,
            "grid_auto_flow": null,
            "grid_auto_rows": null,
            "grid_column": null,
            "grid_gap": null,
            "grid_row": null,
            "grid_template_areas": null,
            "grid_template_columns": null,
            "grid_template_rows": null,
            "height": null,
            "justify_content": null,
            "justify_items": null,
            "left": null,
            "margin": null,
            "max_height": null,
            "max_width": null,
            "min_height": null,
            "min_width": null,
            "object_fit": null,
            "object_position": null,
            "order": null,
            "overflow": null,
            "overflow_x": null,
            "overflow_y": null,
            "padding": null,
            "right": null,
            "top": null,
            "visibility": null,
            "width": null
          }
        },
        "b475d760fccc4e4987aae40141b8886e": {
          "model_module": "@jupyter-widgets/controls",
          "model_module_version": "1.5.0",
          "model_name": "DescriptionStyleModel",
          "state": {
            "_model_module": "@jupyter-widgets/controls",
            "_model_module_version": "1.5.0",
            "_model_name": "DescriptionStyleModel",
            "_view_count": null,
            "_view_module": "@jupyter-widgets/base",
            "_view_module_version": "1.2.0",
            "_view_name": "StyleView",
            "description_width": ""
          }
        },
        "b5f67135090547f8a6f444348317bde0": {
          "model_module": "@jupyter-widgets/controls",
          "model_module_version": "1.5.0",
          "model_name": "FloatProgressModel",
          "state": {
            "_dom_classes": [],
            "_model_module": "@jupyter-widgets/controls",
            "_model_module_version": "1.5.0",
            "_model_name": "FloatProgressModel",
            "_view_count": null,
            "_view_module": "@jupyter-widgets/controls",
            "_view_module_version": "1.5.0",
            "_view_name": "ProgressView",
            "bar_style": "success",
            "description": "",
            "description_tooltip": null,
            "layout": "IPY_MODEL_ccf42986beda4dd8944f0c01906d7f02",
            "max": 2951710928,
            "min": 0,
            "orientation": "horizontal",
            "style": "IPY_MODEL_ec32a0133f1643dfb1acabaa7abc5f80",
            "value": 2951710928
          }
        },
        "b715c0ce335a490db4d5b72d05baddd1": {
          "model_module": "@jupyter-widgets/controls",
          "model_module_version": "1.5.0",
          "model_name": "HTMLModel",
          "state": {
            "_dom_classes": [],
            "_model_module": "@jupyter-widgets/controls",
            "_model_module_version": "1.5.0",
            "_model_name": "HTMLModel",
            "_view_count": null,
            "_view_module": "@jupyter-widgets/controls",
            "_view_module_version": "1.5.0",
            "_view_name": "HTMLView",
            "description": "",
            "description_tooltip": null,
            "layout": "IPY_MODEL_6eba6653997447f1b5f4fd79e4a71500",
            "placeholder": "​",
            "style": "IPY_MODEL_d34dec55384e4b38852981ac5844487e",
            "value": " 2.95G/2.95G [00:42&lt;00:00, 178MB/s]"
          }
        },
        "b77d5cf2b3474b3b86846605dd6019b2": {
          "model_module": "@jupyter-widgets/base",
          "model_module_version": "1.2.0",
          "model_name": "LayoutModel",
          "state": {
            "_model_module": "@jupyter-widgets/base",
            "_model_module_version": "1.2.0",
            "_model_name": "LayoutModel",
            "_view_count": null,
            "_view_module": "@jupyter-widgets/base",
            "_view_module_version": "1.2.0",
            "_view_name": "LayoutView",
            "align_content": null,
            "align_items": null,
            "align_self": null,
            "border": null,
            "bottom": null,
            "display": null,
            "flex": null,
            "flex_flow": null,
            "grid_area": null,
            "grid_auto_columns": null,
            "grid_auto_flow": null,
            "grid_auto_rows": null,
            "grid_column": null,
            "grid_gap": null,
            "grid_row": null,
            "grid_template_areas": null,
            "grid_template_columns": null,
            "grid_template_rows": null,
            "height": null,
            "justify_content": null,
            "justify_items": null,
            "left": null,
            "margin": null,
            "max_height": null,
            "max_width": null,
            "min_height": null,
            "min_width": null,
            "object_fit": null,
            "object_position": null,
            "order": null,
            "overflow": null,
            "overflow_x": null,
            "overflow_y": null,
            "padding": null,
            "right": null,
            "top": null,
            "visibility": null,
            "width": null
          }
        },
        "b878c7fd6f0a43ddb967a6db68d2e4cb": {
          "model_module": "@jupyter-widgets/controls",
          "model_module_version": "1.5.0",
          "model_name": "DescriptionStyleModel",
          "state": {
            "_model_module": "@jupyter-widgets/controls",
            "_model_module_version": "1.5.0",
            "_model_name": "DescriptionStyleModel",
            "_view_count": null,
            "_view_module": "@jupyter-widgets/base",
            "_view_module_version": "1.2.0",
            "_view_name": "StyleView",
            "description_width": ""
          }
        },
        "b996d7b803944184bfc0f6c58dc7e93b": {
          "model_module": "@jupyter-widgets/base",
          "model_module_version": "1.2.0",
          "model_name": "LayoutModel",
          "state": {
            "_model_module": "@jupyter-widgets/base",
            "_model_module_version": "1.2.0",
            "_model_name": "LayoutModel",
            "_view_count": null,
            "_view_module": "@jupyter-widgets/base",
            "_view_module_version": "1.2.0",
            "_view_name": "LayoutView",
            "align_content": null,
            "align_items": null,
            "align_self": null,
            "border": null,
            "bottom": null,
            "display": null,
            "flex": null,
            "flex_flow": null,
            "grid_area": null,
            "grid_auto_columns": null,
            "grid_auto_flow": null,
            "grid_auto_rows": null,
            "grid_column": null,
            "grid_gap": null,
            "grid_row": null,
            "grid_template_areas": null,
            "grid_template_columns": null,
            "grid_template_rows": null,
            "height": null,
            "justify_content": null,
            "justify_items": null,
            "left": null,
            "margin": null,
            "max_height": null,
            "max_width": null,
            "min_height": null,
            "min_width": null,
            "object_fit": null,
            "object_position": null,
            "order": null,
            "overflow": null,
            "overflow_x": null,
            "overflow_y": null,
            "padding": null,
            "right": null,
            "top": null,
            "visibility": null,
            "width": null
          }
        },
        "be738395495c4296af63be3b3cc6bec1": {
          "model_module": "@jupyter-widgets/controls",
          "model_module_version": "1.5.0",
          "model_name": "HTMLModel",
          "state": {
            "_dom_classes": [],
            "_model_module": "@jupyter-widgets/controls",
            "_model_module_version": "1.5.0",
            "_model_name": "HTMLModel",
            "_view_count": null,
            "_view_module": "@jupyter-widgets/controls",
            "_view_module_version": "1.5.0",
            "_view_name": "HTMLView",
            "description": "",
            "description_tooltip": null,
            "layout": "IPY_MODEL_9f674bac61164a6b9248496734b10471",
            "placeholder": "​",
            "style": "IPY_MODEL_2a4f7b679fd6443b94cfbfc7adbe4eb1",
            "value": "Downloading (…)lve/main/config.json: 100%"
          }
        },
        "c1d53ecf061a4348a36434d5ca8f8662": {
          "model_module": "@jupyter-widgets/controls",
          "model_module_version": "1.5.0",
          "model_name": "DescriptionStyleModel",
          "state": {
            "_model_module": "@jupyter-widgets/controls",
            "_model_module_version": "1.5.0",
            "_model_name": "DescriptionStyleModel",
            "_view_count": null,
            "_view_module": "@jupyter-widgets/base",
            "_view_module_version": "1.2.0",
            "_view_name": "StyleView",
            "description_width": ""
          }
        },
        "c317b0418b0240fda9c390f2ffca47be": {
          "model_module": "@jupyter-widgets/controls",
          "model_module_version": "1.5.0",
          "model_name": "ProgressStyleModel",
          "state": {
            "_model_module": "@jupyter-widgets/controls",
            "_model_module_version": "1.5.0",
            "_model_name": "ProgressStyleModel",
            "_view_count": null,
            "_view_module": "@jupyter-widgets/base",
            "_view_module_version": "1.2.0",
            "_view_name": "StyleView",
            "bar_color": null,
            "description_width": ""
          }
        },
        "c3a39fcf40a74acdb46b45d411b58906": {
          "model_module": "@jupyter-widgets/controls",
          "model_module_version": "1.5.0",
          "model_name": "HBoxModel",
          "state": {
            "_dom_classes": [],
            "_model_module": "@jupyter-widgets/controls",
            "_model_module_version": "1.5.0",
            "_model_name": "HBoxModel",
            "_view_count": null,
            "_view_module": "@jupyter-widgets/controls",
            "_view_module_version": "1.5.0",
            "_view_name": "HBoxView",
            "box_style": "",
            "children": [
              "IPY_MODEL_afae606770e2448f8c99253cec22d1d8",
              "IPY_MODEL_72b78141b901440ea67a1f9a9661926b",
              "IPY_MODEL_39961a23b92d435b9d2daee31732606b"
            ],
            "layout": "IPY_MODEL_21069da5e03640cc947968ee2cda0a31"
          }
        },
        "c54060108bd64d2da3e289ecd993722b": {
          "model_module": "@jupyter-widgets/base",
          "model_module_version": "1.2.0",
          "model_name": "LayoutModel",
          "state": {
            "_model_module": "@jupyter-widgets/base",
            "_model_module_version": "1.2.0",
            "_model_name": "LayoutModel",
            "_view_count": null,
            "_view_module": "@jupyter-widgets/base",
            "_view_module_version": "1.2.0",
            "_view_name": "LayoutView",
            "align_content": null,
            "align_items": null,
            "align_self": null,
            "border": null,
            "bottom": null,
            "display": null,
            "flex": null,
            "flex_flow": null,
            "grid_area": null,
            "grid_auto_columns": null,
            "grid_auto_flow": null,
            "grid_auto_rows": null,
            "grid_column": null,
            "grid_gap": null,
            "grid_row": null,
            "grid_template_areas": null,
            "grid_template_columns": null,
            "grid_template_rows": null,
            "height": null,
            "justify_content": null,
            "justify_items": null,
            "left": null,
            "margin": null,
            "max_height": null,
            "max_width": null,
            "min_height": null,
            "min_width": null,
            "object_fit": null,
            "object_position": null,
            "order": null,
            "overflow": null,
            "overflow_x": null,
            "overflow_y": null,
            "padding": null,
            "right": null,
            "top": null,
            "visibility": null,
            "width": null
          }
        },
        "c95df3d184ea41a4a0c3d01684da16a1": {
          "model_module": "@jupyter-widgets/base",
          "model_module_version": "1.2.0",
          "model_name": "LayoutModel",
          "state": {
            "_model_module": "@jupyter-widgets/base",
            "_model_module_version": "1.2.0",
            "_model_name": "LayoutModel",
            "_view_count": null,
            "_view_module": "@jupyter-widgets/base",
            "_view_module_version": "1.2.0",
            "_view_name": "LayoutView",
            "align_content": null,
            "align_items": null,
            "align_self": null,
            "border": null,
            "bottom": null,
            "display": null,
            "flex": null,
            "flex_flow": null,
            "grid_area": null,
            "grid_auto_columns": null,
            "grid_auto_flow": null,
            "grid_auto_rows": null,
            "grid_column": null,
            "grid_gap": null,
            "grid_row": null,
            "grid_template_areas": null,
            "grid_template_columns": null,
            "grid_template_rows": null,
            "height": null,
            "justify_content": null,
            "justify_items": null,
            "left": null,
            "margin": null,
            "max_height": null,
            "max_width": null,
            "min_height": null,
            "min_width": null,
            "object_fit": null,
            "object_position": null,
            "order": null,
            "overflow": null,
            "overflow_x": null,
            "overflow_y": null,
            "padding": null,
            "right": null,
            "top": null,
            "visibility": null,
            "width": null
          }
        },
        "cbab82bb9ad248f991bd90a7a972d631": {
          "model_module": "@jupyter-widgets/controls",
          "model_module_version": "1.5.0",
          "model_name": "HTMLModel",
          "state": {
            "_dom_classes": [],
            "_model_module": "@jupyter-widgets/controls",
            "_model_module_version": "1.5.0",
            "_model_name": "HTMLModel",
            "_view_count": null,
            "_view_module": "@jupyter-widgets/controls",
            "_view_module_version": "1.5.0",
            "_view_name": "HTMLView",
            "description": "",
            "description_tooltip": null,
            "layout": "IPY_MODEL_b77d5cf2b3474b3b86846605dd6019b2",
            "placeholder": "​",
            "style": "IPY_MODEL_b878c7fd6f0a43ddb967a6db68d2e4cb",
            "value": " 892M/892M [00:04&lt;00:00, 131MB/s]"
          }
        },
        "cbae8d027fd2497da5d9a3ed5760871f": {
          "model_module": "@jupyter-widgets/controls",
          "model_module_version": "1.5.0",
          "model_name": "HBoxModel",
          "state": {
            "_dom_classes": [],
            "_model_module": "@jupyter-widgets/controls",
            "_model_module_version": "1.5.0",
            "_model_name": "HBoxModel",
            "_view_count": null,
            "_view_module": "@jupyter-widgets/controls",
            "_view_module_version": "1.5.0",
            "_view_name": "HBoxView",
            "box_style": "",
            "children": [
              "IPY_MODEL_82bc5e8fbb5149aeb660b9ec7fdfc154",
              "IPY_MODEL_fd75cb6ec09f4af8a584391742aa6e86",
              "IPY_MODEL_cf7e914b8c1f4c67ac22ec91486e133f"
            ],
            "layout": "IPY_MODEL_8dddd6f83c1b49ffb417be1141d5ae67"
          }
        },
        "cc4e1f2e57404d0088629001a336ade6": {
          "model_module": "@jupyter-widgets/controls",
          "model_module_version": "1.5.0",
          "model_name": "FloatProgressModel",
          "state": {
            "_dom_classes": [],
            "_model_module": "@jupyter-widgets/controls",
            "_model_module_version": "1.5.0",
            "_model_name": "FloatProgressModel",
            "_view_count": null,
            "_view_module": "@jupyter-widgets/controls",
            "_view_module_version": "1.5.0",
            "_view_name": "ProgressView",
            "bar_style": "success",
            "description": "",
            "description_tooltip": null,
            "layout": "IPY_MODEL_6f6c48462e96490ea7723becf2607e79",
            "max": 892146080,
            "min": 0,
            "orientation": "horizontal",
            "style": "IPY_MODEL_658d0a7d25a24d658d239d2a3469c129",
            "value": 892146080
          }
        },
        "cc65b8f9967844a19d2d29521d995a3b": {
          "model_module": "@jupyter-widgets/base",
          "model_module_version": "1.2.0",
          "model_name": "LayoutModel",
          "state": {
            "_model_module": "@jupyter-widgets/base",
            "_model_module_version": "1.2.0",
            "_model_name": "LayoutModel",
            "_view_count": null,
            "_view_module": "@jupyter-widgets/base",
            "_view_module_version": "1.2.0",
            "_view_name": "LayoutView",
            "align_content": null,
            "align_items": null,
            "align_self": null,
            "border": null,
            "bottom": null,
            "display": null,
            "flex": null,
            "flex_flow": null,
            "grid_area": null,
            "grid_auto_columns": null,
            "grid_auto_flow": null,
            "grid_auto_rows": null,
            "grid_column": null,
            "grid_gap": null,
            "grid_row": null,
            "grid_template_areas": null,
            "grid_template_columns": null,
            "grid_template_rows": null,
            "height": null,
            "justify_content": null,
            "justify_items": null,
            "left": null,
            "margin": null,
            "max_height": null,
            "max_width": null,
            "min_height": null,
            "min_width": null,
            "object_fit": null,
            "object_position": null,
            "order": null,
            "overflow": null,
            "overflow_x": null,
            "overflow_y": null,
            "padding": null,
            "right": null,
            "top": null,
            "visibility": null,
            "width": null
          }
        },
        "ccf42986beda4dd8944f0c01906d7f02": {
          "model_module": "@jupyter-widgets/base",
          "model_module_version": "1.2.0",
          "model_name": "LayoutModel",
          "state": {
            "_model_module": "@jupyter-widgets/base",
            "_model_module_version": "1.2.0",
            "_model_name": "LayoutModel",
            "_view_count": null,
            "_view_module": "@jupyter-widgets/base",
            "_view_module_version": "1.2.0",
            "_view_name": "LayoutView",
            "align_content": null,
            "align_items": null,
            "align_self": null,
            "border": null,
            "bottom": null,
            "display": null,
            "flex": null,
            "flex_flow": null,
            "grid_area": null,
            "grid_auto_columns": null,
            "grid_auto_flow": null,
            "grid_auto_rows": null,
            "grid_column": null,
            "grid_gap": null,
            "grid_row": null,
            "grid_template_areas": null,
            "grid_template_columns": null,
            "grid_template_rows": null,
            "height": null,
            "justify_content": null,
            "justify_items": null,
            "left": null,
            "margin": null,
            "max_height": null,
            "max_width": null,
            "min_height": null,
            "min_width": null,
            "object_fit": null,
            "object_position": null,
            "order": null,
            "overflow": null,
            "overflow_x": null,
            "overflow_y": null,
            "padding": null,
            "right": null,
            "top": null,
            "visibility": null,
            "width": null
          }
        },
        "cf7e914b8c1f4c67ac22ec91486e133f": {
          "model_module": "@jupyter-widgets/controls",
          "model_module_version": "1.5.0",
          "model_name": "HTMLModel",
          "state": {
            "_dom_classes": [],
            "_model_module": "@jupyter-widgets/controls",
            "_model_module_version": "1.5.0",
            "_model_name": "HTMLModel",
            "_view_count": null,
            "_view_module": "@jupyter-widgets/controls",
            "_view_module_version": "1.5.0",
            "_view_name": "HTMLView",
            "description": "",
            "description_tooltip": null,
            "layout": "IPY_MODEL_cf8862773f914949951bf36b6a9fece6",
            "placeholder": "​",
            "style": "IPY_MODEL_faf829d0986b48a8aae017339008bc4e",
            "value": " 456k/456k [00:01&lt;00:00, 409kB/s]"
          }
        },
        "cf8862773f914949951bf36b6a9fece6": {
          "model_module": "@jupyter-widgets/base",
          "model_module_version": "1.2.0",
          "model_name": "LayoutModel",
          "state": {
            "_model_module": "@jupyter-widgets/base",
            "_model_module_version": "1.2.0",
            "_model_name": "LayoutModel",
            "_view_count": null,
            "_view_module": "@jupyter-widgets/base",
            "_view_module_version": "1.2.0",
            "_view_name": "LayoutView",
            "align_content": null,
            "align_items": null,
            "align_self": null,
            "border": null,
            "bottom": null,
            "display": null,
            "flex": null,
            "flex_flow": null,
            "grid_area": null,
            "grid_auto_columns": null,
            "grid_auto_flow": null,
            "grid_auto_rows": null,
            "grid_column": null,
            "grid_gap": null,
            "grid_row": null,
            "grid_template_areas": null,
            "grid_template_columns": null,
            "grid_template_rows": null,
            "height": null,
            "justify_content": null,
            "justify_items": null,
            "left": null,
            "margin": null,
            "max_height": null,
            "max_width": null,
            "min_height": null,
            "min_width": null,
            "object_fit": null,
            "object_position": null,
            "order": null,
            "overflow": null,
            "overflow_x": null,
            "overflow_y": null,
            "padding": null,
            "right": null,
            "top": null,
            "visibility": null,
            "width": null
          }
        },
        "cfe68cbe424d411e9790b1ffee83c9cc": {
          "model_module": "@jupyter-widgets/base",
          "model_module_version": "1.2.0",
          "model_name": "LayoutModel",
          "state": {
            "_model_module": "@jupyter-widgets/base",
            "_model_module_version": "1.2.0",
            "_model_name": "LayoutModel",
            "_view_count": null,
            "_view_module": "@jupyter-widgets/base",
            "_view_module_version": "1.2.0",
            "_view_name": "LayoutView",
            "align_content": null,
            "align_items": null,
            "align_self": null,
            "border": null,
            "bottom": null,
            "display": null,
            "flex": null,
            "flex_flow": null,
            "grid_area": null,
            "grid_auto_columns": null,
            "grid_auto_flow": null,
            "grid_auto_rows": null,
            "grid_column": null,
            "grid_gap": null,
            "grid_row": null,
            "grid_template_areas": null,
            "grid_template_columns": null,
            "grid_template_rows": null,
            "height": null,
            "justify_content": null,
            "justify_items": null,
            "left": null,
            "margin": null,
            "max_height": null,
            "max_width": null,
            "min_height": null,
            "min_width": null,
            "object_fit": null,
            "object_position": null,
            "order": null,
            "overflow": null,
            "overflow_x": null,
            "overflow_y": null,
            "padding": null,
            "right": null,
            "top": null,
            "visibility": null,
            "width": null
          }
        },
        "d011b55823b04b36afcdf4f23996e34a": {
          "model_module": "@jupyter-widgets/base",
          "model_module_version": "1.2.0",
          "model_name": "LayoutModel",
          "state": {
            "_model_module": "@jupyter-widgets/base",
            "_model_module_version": "1.2.0",
            "_model_name": "LayoutModel",
            "_view_count": null,
            "_view_module": "@jupyter-widgets/base",
            "_view_module_version": "1.2.0",
            "_view_name": "LayoutView",
            "align_content": null,
            "align_items": null,
            "align_self": null,
            "border": null,
            "bottom": null,
            "display": null,
            "flex": null,
            "flex_flow": null,
            "grid_area": null,
            "grid_auto_columns": null,
            "grid_auto_flow": null,
            "grid_auto_rows": null,
            "grid_column": null,
            "grid_gap": null,
            "grid_row": null,
            "grid_template_areas": null,
            "grid_template_columns": null,
            "grid_template_rows": null,
            "height": null,
            "justify_content": null,
            "justify_items": null,
            "left": null,
            "margin": null,
            "max_height": null,
            "max_width": null,
            "min_height": null,
            "min_width": null,
            "object_fit": null,
            "object_position": null,
            "order": null,
            "overflow": null,
            "overflow_x": null,
            "overflow_y": null,
            "padding": null,
            "right": null,
            "top": null,
            "visibility": null,
            "width": null
          }
        },
        "d0c8046fdf1e4a2eba4757ce74974938": {
          "model_module": "@jupyter-widgets/controls",
          "model_module_version": "1.5.0",
          "model_name": "DescriptionStyleModel",
          "state": {
            "_model_module": "@jupyter-widgets/controls",
            "_model_module_version": "1.5.0",
            "_model_name": "DescriptionStyleModel",
            "_view_count": null,
            "_view_module": "@jupyter-widgets/base",
            "_view_module_version": "1.2.0",
            "_view_name": "StyleView",
            "description_width": ""
          }
        },
        "d2a7499f09494e12a9edd765e1110f44": {
          "model_module": "@jupyter-widgets/base",
          "model_module_version": "1.2.0",
          "model_name": "LayoutModel",
          "state": {
            "_model_module": "@jupyter-widgets/base",
            "_model_module_version": "1.2.0",
            "_model_name": "LayoutModel",
            "_view_count": null,
            "_view_module": "@jupyter-widgets/base",
            "_view_module_version": "1.2.0",
            "_view_name": "LayoutView",
            "align_content": null,
            "align_items": null,
            "align_self": null,
            "border": null,
            "bottom": null,
            "display": null,
            "flex": null,
            "flex_flow": null,
            "grid_area": null,
            "grid_auto_columns": null,
            "grid_auto_flow": null,
            "grid_auto_rows": null,
            "grid_column": null,
            "grid_gap": null,
            "grid_row": null,
            "grid_template_areas": null,
            "grid_template_columns": null,
            "grid_template_rows": null,
            "height": null,
            "justify_content": null,
            "justify_items": null,
            "left": null,
            "margin": null,
            "max_height": null,
            "max_width": null,
            "min_height": null,
            "min_width": null,
            "object_fit": null,
            "object_position": null,
            "order": null,
            "overflow": null,
            "overflow_x": null,
            "overflow_y": null,
            "padding": null,
            "right": null,
            "top": null,
            "visibility": null,
            "width": null
          }
        },
        "d34dec55384e4b38852981ac5844487e": {
          "model_module": "@jupyter-widgets/controls",
          "model_module_version": "1.5.0",
          "model_name": "DescriptionStyleModel",
          "state": {
            "_model_module": "@jupyter-widgets/controls",
            "_model_module_version": "1.5.0",
            "_model_name": "DescriptionStyleModel",
            "_view_count": null,
            "_view_module": "@jupyter-widgets/base",
            "_view_module_version": "1.2.0",
            "_view_name": "StyleView",
            "description_width": ""
          }
        },
        "d41200b65b3040d8b85ee05b5c86a89d": {
          "model_module": "@jupyter-widgets/controls",
          "model_module_version": "1.5.0",
          "model_name": "DescriptionStyleModel",
          "state": {
            "_model_module": "@jupyter-widgets/controls",
            "_model_module_version": "1.5.0",
            "_model_name": "DescriptionStyleModel",
            "_view_count": null,
            "_view_module": "@jupyter-widgets/base",
            "_view_module_version": "1.2.0",
            "_view_name": "StyleView",
            "description_width": ""
          }
        },
        "d4ac471161e7469687bfb5e7c0896d85": {
          "model_module": "@jupyter-widgets/base",
          "model_module_version": "1.2.0",
          "model_name": "LayoutModel",
          "state": {
            "_model_module": "@jupyter-widgets/base",
            "_model_module_version": "1.2.0",
            "_model_name": "LayoutModel",
            "_view_count": null,
            "_view_module": "@jupyter-widgets/base",
            "_view_module_version": "1.2.0",
            "_view_name": "LayoutView",
            "align_content": null,
            "align_items": null,
            "align_self": null,
            "border": null,
            "bottom": null,
            "display": null,
            "flex": null,
            "flex_flow": null,
            "grid_area": null,
            "grid_auto_columns": null,
            "grid_auto_flow": null,
            "grid_auto_rows": null,
            "grid_column": null,
            "grid_gap": null,
            "grid_row": null,
            "grid_template_areas": null,
            "grid_template_columns": null,
            "grid_template_rows": null,
            "height": null,
            "justify_content": null,
            "justify_items": null,
            "left": null,
            "margin": null,
            "max_height": null,
            "max_width": null,
            "min_height": null,
            "min_width": null,
            "object_fit": null,
            "object_position": null,
            "order": null,
            "overflow": null,
            "overflow_x": null,
            "overflow_y": null,
            "padding": null,
            "right": null,
            "top": null,
            "visibility": null,
            "width": null
          }
        },
        "da6d628552124d7aac3974c92962996b": {
          "model_module": "@jupyter-widgets/base",
          "model_module_version": "1.2.0",
          "model_name": "LayoutModel",
          "state": {
            "_model_module": "@jupyter-widgets/base",
            "_model_module_version": "1.2.0",
            "_model_name": "LayoutModel",
            "_view_count": null,
            "_view_module": "@jupyter-widgets/base",
            "_view_module_version": "1.2.0",
            "_view_name": "LayoutView",
            "align_content": null,
            "align_items": null,
            "align_self": null,
            "border": null,
            "bottom": null,
            "display": null,
            "flex": null,
            "flex_flow": null,
            "grid_area": null,
            "grid_auto_columns": null,
            "grid_auto_flow": null,
            "grid_auto_rows": null,
            "grid_column": null,
            "grid_gap": null,
            "grid_row": null,
            "grid_template_areas": null,
            "grid_template_columns": null,
            "grid_template_rows": null,
            "height": null,
            "justify_content": null,
            "justify_items": null,
            "left": null,
            "margin": null,
            "max_height": null,
            "max_width": null,
            "min_height": null,
            "min_width": null,
            "object_fit": null,
            "object_position": null,
            "order": null,
            "overflow": null,
            "overflow_x": null,
            "overflow_y": null,
            "padding": null,
            "right": null,
            "top": null,
            "visibility": null,
            "width": null
          }
        },
        "dace66e7450741e2bc806e8c44e3486e": {
          "model_module": "@jupyter-widgets/controls",
          "model_module_version": "1.5.0",
          "model_name": "DescriptionStyleModel",
          "state": {
            "_model_module": "@jupyter-widgets/controls",
            "_model_module_version": "1.5.0",
            "_model_name": "DescriptionStyleModel",
            "_view_count": null,
            "_view_module": "@jupyter-widgets/base",
            "_view_module_version": "1.2.0",
            "_view_name": "StyleView",
            "description_width": ""
          }
        },
        "db79c4f0f5b744e8a75f41c92f2eba19": {
          "model_module": "@jupyter-widgets/base",
          "model_module_version": "1.2.0",
          "model_name": "LayoutModel",
          "state": {
            "_model_module": "@jupyter-widgets/base",
            "_model_module_version": "1.2.0",
            "_model_name": "LayoutModel",
            "_view_count": null,
            "_view_module": "@jupyter-widgets/base",
            "_view_module_version": "1.2.0",
            "_view_name": "LayoutView",
            "align_content": null,
            "align_items": null,
            "align_self": null,
            "border": null,
            "bottom": null,
            "display": null,
            "flex": null,
            "flex_flow": null,
            "grid_area": null,
            "grid_auto_columns": null,
            "grid_auto_flow": null,
            "grid_auto_rows": null,
            "grid_column": null,
            "grid_gap": null,
            "grid_row": null,
            "grid_template_areas": null,
            "grid_template_columns": null,
            "grid_template_rows": null,
            "height": null,
            "justify_content": null,
            "justify_items": null,
            "left": null,
            "margin": null,
            "max_height": null,
            "max_width": null,
            "min_height": null,
            "min_width": null,
            "object_fit": null,
            "object_position": null,
            "order": null,
            "overflow": null,
            "overflow_x": null,
            "overflow_y": null,
            "padding": null,
            "right": null,
            "top": null,
            "visibility": null,
            "width": null
          }
        },
        "db999cc21e144fae95020fedc8f547ca": {
          "model_module": "@jupyter-widgets/base",
          "model_module_version": "1.2.0",
          "model_name": "LayoutModel",
          "state": {
            "_model_module": "@jupyter-widgets/base",
            "_model_module_version": "1.2.0",
            "_model_name": "LayoutModel",
            "_view_count": null,
            "_view_module": "@jupyter-widgets/base",
            "_view_module_version": "1.2.0",
            "_view_name": "LayoutView",
            "align_content": null,
            "align_items": null,
            "align_self": null,
            "border": null,
            "bottom": null,
            "display": null,
            "flex": null,
            "flex_flow": null,
            "grid_area": null,
            "grid_auto_columns": null,
            "grid_auto_flow": null,
            "grid_auto_rows": null,
            "grid_column": null,
            "grid_gap": null,
            "grid_row": null,
            "grid_template_areas": null,
            "grid_template_columns": null,
            "grid_template_rows": null,
            "height": null,
            "justify_content": null,
            "justify_items": null,
            "left": null,
            "margin": null,
            "max_height": null,
            "max_width": null,
            "min_height": null,
            "min_width": null,
            "object_fit": null,
            "object_position": null,
            "order": null,
            "overflow": null,
            "overflow_x": null,
            "overflow_y": null,
            "padding": null,
            "right": null,
            "top": null,
            "visibility": null,
            "width": null
          }
        },
        "ddeed5f76d2048c3871503d162e135a7": {
          "model_module": "@jupyter-widgets/controls",
          "model_module_version": "1.5.0",
          "model_name": "ProgressStyleModel",
          "state": {
            "_model_module": "@jupyter-widgets/controls",
            "_model_module_version": "1.5.0",
            "_model_name": "ProgressStyleModel",
            "_view_count": null,
            "_view_module": "@jupyter-widgets/base",
            "_view_module_version": "1.2.0",
            "_view_name": "StyleView",
            "bar_color": null,
            "description_width": ""
          }
        },
        "ded31453b8004d3f8ebd16ae4707db16": {
          "model_module": "@jupyter-widgets/controls",
          "model_module_version": "1.5.0",
          "model_name": "FloatProgressModel",
          "state": {
            "_dom_classes": [],
            "_model_module": "@jupyter-widgets/controls",
            "_model_module_version": "1.5.0",
            "_model_name": "FloatProgressModel",
            "_view_count": null,
            "_view_module": "@jupyter-widgets/controls",
            "_view_module_version": "1.5.0",
            "_view_name": "ProgressView",
            "bar_style": "success",
            "description": "",
            "description_tooltip": null,
            "layout": "IPY_MODEL_cc65b8f9967844a19d2d29521d995a3b",
            "max": 147,
            "min": 0,
            "orientation": "horizontal",
            "style": "IPY_MODEL_6128dd75865a4b1bbfca4b60902e523c",
            "value": 147
          }
        },
        "dfc0f40a1a55493e869c279717db8603": {
          "model_module": "@jupyter-widgets/controls",
          "model_module_version": "1.5.0",
          "model_name": "HBoxModel",
          "state": {
            "_dom_classes": [],
            "_model_module": "@jupyter-widgets/controls",
            "_model_module_version": "1.5.0",
            "_model_name": "HBoxModel",
            "_view_count": null,
            "_view_module": "@jupyter-widgets/controls",
            "_view_module_version": "1.5.0",
            "_view_name": "HBoxView",
            "box_style": "",
            "children": [
              "IPY_MODEL_8b5e3965d635481b92493c2f8c2a0340",
              "IPY_MODEL_ded31453b8004d3f8ebd16ae4707db16",
              "IPY_MODEL_70f0e480489a46e896c18f8f0c9f9ede"
            ],
            "layout": "IPY_MODEL_ee1e9cdf3c4c4aaa828e4637abcb1115"
          }
        },
        "e175633d47424ebe9f701484536a2965": {
          "model_module": "@jupyter-widgets/base",
          "model_module_version": "1.2.0",
          "model_name": "LayoutModel",
          "state": {
            "_model_module": "@jupyter-widgets/base",
            "_model_module_version": "1.2.0",
            "_model_name": "LayoutModel",
            "_view_count": null,
            "_view_module": "@jupyter-widgets/base",
            "_view_module_version": "1.2.0",
            "_view_name": "LayoutView",
            "align_content": null,
            "align_items": null,
            "align_self": null,
            "border": null,
            "bottom": null,
            "display": null,
            "flex": null,
            "flex_flow": null,
            "grid_area": null,
            "grid_auto_columns": null,
            "grid_auto_flow": null,
            "grid_auto_rows": null,
            "grid_column": null,
            "grid_gap": null,
            "grid_row": null,
            "grid_template_areas": null,
            "grid_template_columns": null,
            "grid_template_rows": null,
            "height": null,
            "justify_content": null,
            "justify_items": null,
            "left": null,
            "margin": null,
            "max_height": null,
            "max_width": null,
            "min_height": null,
            "min_width": null,
            "object_fit": null,
            "object_position": null,
            "order": null,
            "overflow": null,
            "overflow_x": null,
            "overflow_y": null,
            "padding": null,
            "right": null,
            "top": null,
            "visibility": null,
            "width": null
          }
        },
        "e1d090e8eef4440195ca7ac98afc7aa5": {
          "model_module": "@jupyter-widgets/base",
          "model_module_version": "1.2.0",
          "model_name": "LayoutModel",
          "state": {
            "_model_module": "@jupyter-widgets/base",
            "_model_module_version": "1.2.0",
            "_model_name": "LayoutModel",
            "_view_count": null,
            "_view_module": "@jupyter-widgets/base",
            "_view_module_version": "1.2.0",
            "_view_name": "LayoutView",
            "align_content": null,
            "align_items": null,
            "align_self": null,
            "border": null,
            "bottom": null,
            "display": null,
            "flex": null,
            "flex_flow": null,
            "grid_area": null,
            "grid_auto_columns": null,
            "grid_auto_flow": null,
            "grid_auto_rows": null,
            "grid_column": null,
            "grid_gap": null,
            "grid_row": null,
            "grid_template_areas": null,
            "grid_template_columns": null,
            "grid_template_rows": null,
            "height": null,
            "justify_content": null,
            "justify_items": null,
            "left": null,
            "margin": null,
            "max_height": null,
            "max_width": null,
            "min_height": null,
            "min_width": null,
            "object_fit": null,
            "object_position": null,
            "order": null,
            "overflow": null,
            "overflow_x": null,
            "overflow_y": null,
            "padding": null,
            "right": null,
            "top": null,
            "visibility": null,
            "width": null
          }
        },
        "e25fe958b35c43b08608f742bb2d97a1": {
          "model_module": "@jupyter-widgets/controls",
          "model_module_version": "1.5.0",
          "model_name": "HTMLModel",
          "state": {
            "_dom_classes": [],
            "_model_module": "@jupyter-widgets/controls",
            "_model_module_version": "1.5.0",
            "_model_name": "HTMLModel",
            "_view_count": null,
            "_view_module": "@jupyter-widgets/controls",
            "_view_module_version": "1.5.0",
            "_view_name": "HTMLView",
            "description": "",
            "description_tooltip": null,
            "layout": "IPY_MODEL_d4ac471161e7469687bfb5e7c0896d85",
            "placeholder": "​",
            "style": "IPY_MODEL_547fc6fc4bb349ed9c5e5a81468f1245",
            "value": " 792k/792k [00:01&lt;00:00, 707kB/s]"
          }
        },
        "e2fae6209a5f49d4aff34dae478c9503": {
          "model_module": "@jupyter-widgets/base",
          "model_module_version": "1.2.0",
          "model_name": "LayoutModel",
          "state": {
            "_model_module": "@jupyter-widgets/base",
            "_model_module_version": "1.2.0",
            "_model_name": "LayoutModel",
            "_view_count": null,
            "_view_module": "@jupyter-widgets/base",
            "_view_module_version": "1.2.0",
            "_view_name": "LayoutView",
            "align_content": null,
            "align_items": null,
            "align_self": null,
            "border": null,
            "bottom": null,
            "display": null,
            "flex": null,
            "flex_flow": null,
            "grid_area": null,
            "grid_auto_columns": null,
            "grid_auto_flow": null,
            "grid_auto_rows": null,
            "grid_column": null,
            "grid_gap": null,
            "grid_row": null,
            "grid_template_areas": null,
            "grid_template_columns": null,
            "grid_template_rows": null,
            "height": null,
            "justify_content": null,
            "justify_items": null,
            "left": null,
            "margin": null,
            "max_height": null,
            "max_width": null,
            "min_height": null,
            "min_width": null,
            "object_fit": null,
            "object_position": null,
            "order": null,
            "overflow": null,
            "overflow_x": null,
            "overflow_y": null,
            "padding": null,
            "right": null,
            "top": null,
            "visibility": null,
            "width": null
          }
        },
        "e6ed441cf40346ffa1d430392c0f198c": {
          "model_module": "@jupyter-widgets/controls",
          "model_module_version": "1.5.0",
          "model_name": "FloatProgressModel",
          "state": {
            "_dom_classes": [],
            "_model_module": "@jupyter-widgets/controls",
            "_model_module_version": "1.5.0",
            "_model_name": "FloatProgressModel",
            "_view_count": null,
            "_view_module": "@jupyter-widgets/controls",
            "_view_module_version": "1.5.0",
            "_view_name": "ProgressView",
            "bar_style": "success",
            "description": "",
            "description_tooltip": null,
            "layout": "IPY_MODEL_479f64f1f834474b8c3764dd26434568",
            "max": 1208,
            "min": 0,
            "orientation": "horizontal",
            "style": "IPY_MODEL_222d17e71cb341639c298726c3083d64",
            "value": 1208
          }
        },
        "ea1ecf40aca74599a89b1b9173fb2070": {
          "model_module": "@jupyter-widgets/controls",
          "model_module_version": "1.5.0",
          "model_name": "DescriptionStyleModel",
          "state": {
            "_model_module": "@jupyter-widgets/controls",
            "_model_module_version": "1.5.0",
            "_model_name": "DescriptionStyleModel",
            "_view_count": null,
            "_view_module": "@jupyter-widgets/base",
            "_view_module_version": "1.2.0",
            "_view_name": "StyleView",
            "description_width": ""
          }
        },
        "ec32a0133f1643dfb1acabaa7abc5f80": {
          "model_module": "@jupyter-widgets/controls",
          "model_module_version": "1.5.0",
          "model_name": "ProgressStyleModel",
          "state": {
            "_model_module": "@jupyter-widgets/controls",
            "_model_module_version": "1.5.0",
            "_model_name": "ProgressStyleModel",
            "_view_count": null,
            "_view_module": "@jupyter-widgets/base",
            "_view_module_version": "1.2.0",
            "_view_name": "StyleView",
            "bar_color": null,
            "description_width": ""
          }
        },
        "ed5e354d9b0b42b2b6b6068e50247603": {
          "model_module": "@jupyter-widgets/controls",
          "model_module_version": "1.5.0",
          "model_name": "HBoxModel",
          "state": {
            "_dom_classes": [],
            "_model_module": "@jupyter-widgets/controls",
            "_model_module_version": "1.5.0",
            "_model_name": "HBoxModel",
            "_view_count": null,
            "_view_module": "@jupyter-widgets/controls",
            "_view_module_version": "1.5.0",
            "_view_name": "HBoxView",
            "box_style": "",
            "children": [
              "IPY_MODEL_05ccbcaa89df4a0793e34ec1d512a358",
              "IPY_MODEL_8f1ddf337a834d4fba557d99403e99a3",
              "IPY_MODEL_ff27df55197e486e8f0e66d49d41121e"
            ],
            "layout": "IPY_MODEL_a6a4e393905847a88fe81eded073d252"
          }
        },
        "ed605cf37f7049ab83d2ccd09ea5047c": {
          "model_module": "@jupyter-widgets/controls",
          "model_module_version": "1.5.0",
          "model_name": "ProgressStyleModel",
          "state": {
            "_model_module": "@jupyter-widgets/controls",
            "_model_module_version": "1.5.0",
            "_model_name": "ProgressStyleModel",
            "_view_count": null,
            "_view_module": "@jupyter-widgets/base",
            "_view_module_version": "1.2.0",
            "_view_name": "StyleView",
            "bar_color": null,
            "description_width": ""
          }
        },
        "ed7da85a4f24495fa1272a3464724a9a": {
          "model_module": "@jupyter-widgets/controls",
          "model_module_version": "1.5.0",
          "model_name": "FloatProgressModel",
          "state": {
            "_dom_classes": [],
            "_model_module": "@jupyter-widgets/controls",
            "_model_module_version": "1.5.0",
            "_model_name": "FloatProgressModel",
            "_view_count": null,
            "_view_module": "@jupyter-widgets/controls",
            "_view_module_version": "1.5.0",
            "_view_name": "ProgressView",
            "bar_style": "success",
            "description": "",
            "description_tooltip": null,
            "layout": "IPY_MODEL_587d7d33535d4ce5a8b084a552073e52",
            "max": 441,
            "min": 0,
            "orientation": "horizontal",
            "style": "IPY_MODEL_974c1406d98f4fb4a23f2b700a48b632",
            "value": 441
          }
        },
        "ede33228db42489484dddc78fd804a85": {
          "model_module": "@jupyter-widgets/controls",
          "model_module_version": "1.5.0",
          "model_name": "HBoxModel",
          "state": {
            "_dom_classes": [],
            "_model_module": "@jupyter-widgets/controls",
            "_model_module_version": "1.5.0",
            "_model_name": "HBoxModel",
            "_view_count": null,
            "_view_module": "@jupyter-widgets/controls",
            "_view_module_version": "1.5.0",
            "_view_name": "HBoxView",
            "box_style": "",
            "children": [
              "IPY_MODEL_a6580a5c8b1f4a5a9703c3a1464aa6c1",
              "IPY_MODEL_595035e2401a4ce1a3d60e6660bed987",
              "IPY_MODEL_24ddf35e641748259b54a132d4da23aa"
            ],
            "layout": "IPY_MODEL_e175633d47424ebe9f701484536a2965"
          }
        },
        "ee1e9cdf3c4c4aaa828e4637abcb1115": {
          "model_module": "@jupyter-widgets/base",
          "model_module_version": "1.2.0",
          "model_name": "LayoutModel",
          "state": {
            "_model_module": "@jupyter-widgets/base",
            "_model_module_version": "1.2.0",
            "_model_name": "LayoutModel",
            "_view_count": null,
            "_view_module": "@jupyter-widgets/base",
            "_view_module_version": "1.2.0",
            "_view_name": "LayoutView",
            "align_content": null,
            "align_items": null,
            "align_self": null,
            "border": null,
            "bottom": null,
            "display": null,
            "flex": null,
            "flex_flow": null,
            "grid_area": null,
            "grid_auto_columns": null,
            "grid_auto_flow": null,
            "grid_auto_rows": null,
            "grid_column": null,
            "grid_gap": null,
            "grid_row": null,
            "grid_template_areas": null,
            "grid_template_columns": null,
            "grid_template_rows": null,
            "height": null,
            "justify_content": null,
            "justify_items": null,
            "left": null,
            "margin": null,
            "max_height": null,
            "max_width": null,
            "min_height": null,
            "min_width": null,
            "object_fit": null,
            "object_position": null,
            "order": null,
            "overflow": null,
            "overflow_x": null,
            "overflow_y": null,
            "padding": null,
            "right": null,
            "top": null,
            "visibility": null,
            "width": null
          }
        },
        "f028f9b33a2c4af3905b48664dc9fe1c": {
          "model_module": "@jupyter-widgets/controls",
          "model_module_version": "1.5.0",
          "model_name": "HTMLModel",
          "state": {
            "_dom_classes": [],
            "_model_module": "@jupyter-widgets/controls",
            "_model_module_version": "1.5.0",
            "_model_name": "HTMLModel",
            "_view_count": null,
            "_view_module": "@jupyter-widgets/controls",
            "_view_module_version": "1.5.0",
            "_view_name": "HTMLView",
            "description": "",
            "description_tooltip": null,
            "layout": "IPY_MODEL_4ef76cbd354f45ffbac8d3f05597f51e",
            "placeholder": "​",
            "style": "IPY_MODEL_5f19c5d2f3054edbb5c749779636701f",
            "value": "Downloading (…)cial_tokens_map.json: 100%"
          }
        },
        "f34e749967224aafb91b0750ef0f79b6": {
          "model_module": "@jupyter-widgets/controls",
          "model_module_version": "1.5.0",
          "model_name": "DescriptionStyleModel",
          "state": {
            "_model_module": "@jupyter-widgets/controls",
            "_model_module_version": "1.5.0",
            "_model_name": "DescriptionStyleModel",
            "_view_count": null,
            "_view_module": "@jupyter-widgets/base",
            "_view_module_version": "1.2.0",
            "_view_name": "StyleView",
            "description_width": ""
          }
        },
        "f37bb5f0191f4e4ab0929d279b6ab51b": {
          "model_module": "@jupyter-widgets/base",
          "model_module_version": "1.2.0",
          "model_name": "LayoutModel",
          "state": {
            "_model_module": "@jupyter-widgets/base",
            "_model_module_version": "1.2.0",
            "_model_name": "LayoutModel",
            "_view_count": null,
            "_view_module": "@jupyter-widgets/base",
            "_view_module_version": "1.2.0",
            "_view_name": "LayoutView",
            "align_content": null,
            "align_items": null,
            "align_self": null,
            "border": null,
            "bottom": null,
            "display": null,
            "flex": null,
            "flex_flow": null,
            "grid_area": null,
            "grid_auto_columns": null,
            "grid_auto_flow": null,
            "grid_auto_rows": null,
            "grid_column": null,
            "grid_gap": null,
            "grid_row": null,
            "grid_template_areas": null,
            "grid_template_columns": null,
            "grid_template_rows": null,
            "height": null,
            "justify_content": null,
            "justify_items": null,
            "left": null,
            "margin": null,
            "max_height": null,
            "max_width": null,
            "min_height": null,
            "min_width": null,
            "object_fit": null,
            "object_position": null,
            "order": null,
            "overflow": null,
            "overflow_x": null,
            "overflow_y": null,
            "padding": null,
            "right": null,
            "top": null,
            "visibility": null,
            "width": null
          }
        },
        "f4ef59a869074119a49eec655d24bdc3": {
          "model_module": "@jupyter-widgets/controls",
          "model_module_version": "1.5.0",
          "model_name": "FloatProgressModel",
          "state": {
            "_dom_classes": [],
            "_model_module": "@jupyter-widgets/controls",
            "_model_module_version": "1.5.0",
            "_model_name": "FloatProgressModel",
            "_view_count": null,
            "_view_module": "@jupyter-widgets/controls",
            "_view_module_version": "1.5.0",
            "_view_name": "ProgressView",
            "bar_style": "success",
            "description": "",
            "description_tooltip": null,
            "layout": "IPY_MODEL_f37bb5f0191f4e4ab0929d279b6ab51b",
            "max": 644,
            "min": 0,
            "orientation": "horizontal",
            "style": "IPY_MODEL_97d3fd32bd5b413bbd70bef90dfa6ac4",
            "value": 644
          }
        },
        "f5fe8e832f4b479d8e36c833986e9a43": {
          "model_module": "@jupyter-widgets/base",
          "model_module_version": "1.2.0",
          "model_name": "LayoutModel",
          "state": {
            "_model_module": "@jupyter-widgets/base",
            "_model_module_version": "1.2.0",
            "_model_name": "LayoutModel",
            "_view_count": null,
            "_view_module": "@jupyter-widgets/base",
            "_view_module_version": "1.2.0",
            "_view_name": "LayoutView",
            "align_content": null,
            "align_items": null,
            "align_self": null,
            "border": null,
            "bottom": null,
            "display": null,
            "flex": null,
            "flex_flow": null,
            "grid_area": null,
            "grid_auto_columns": null,
            "grid_auto_flow": null,
            "grid_auto_rows": null,
            "grid_column": null,
            "grid_gap": null,
            "grid_row": null,
            "grid_template_areas": null,
            "grid_template_columns": null,
            "grid_template_rows": null,
            "height": null,
            "justify_content": null,
            "justify_items": null,
            "left": null,
            "margin": null,
            "max_height": null,
            "max_width": null,
            "min_height": null,
            "min_width": null,
            "object_fit": null,
            "object_position": null,
            "order": null,
            "overflow": null,
            "overflow_x": null,
            "overflow_y": null,
            "padding": null,
            "right": null,
            "top": null,
            "visibility": null,
            "width": null
          }
        },
        "f9363c84bf71430b83e810f8ba386f89": {
          "model_module": "@jupyter-widgets/controls",
          "model_module_version": "1.5.0",
          "model_name": "HTMLModel",
          "state": {
            "_dom_classes": [],
            "_model_module": "@jupyter-widgets/controls",
            "_model_module_version": "1.5.0",
            "_model_name": "HTMLModel",
            "_view_count": null,
            "_view_module": "@jupyter-widgets/controls",
            "_view_module_version": "1.5.0",
            "_view_name": "HTMLView",
            "description": "",
            "description_tooltip": null,
            "layout": "IPY_MODEL_65527cdb577247fdb252c04d78a958f1",
            "placeholder": "​",
            "style": "IPY_MODEL_f34e749967224aafb91b0750ef0f79b6",
            "value": " 792k/792k [00:01&lt;00:00, 714kB/s]"
          }
        },
        "faf829d0986b48a8aae017339008bc4e": {
          "model_module": "@jupyter-widgets/controls",
          "model_module_version": "1.5.0",
          "model_name": "DescriptionStyleModel",
          "state": {
            "_model_module": "@jupyter-widgets/controls",
            "_model_module_version": "1.5.0",
            "_model_name": "DescriptionStyleModel",
            "_view_count": null,
            "_view_module": "@jupyter-widgets/base",
            "_view_module_version": "1.2.0",
            "_view_name": "StyleView",
            "description_width": ""
          }
        },
        "fb3b5b3e5c644e54be3f0828f860a63a": {
          "model_module": "@jupyter-widgets/base",
          "model_module_version": "1.2.0",
          "model_name": "LayoutModel",
          "state": {
            "_model_module": "@jupyter-widgets/base",
            "_model_module_version": "1.2.0",
            "_model_name": "LayoutModel",
            "_view_count": null,
            "_view_module": "@jupyter-widgets/base",
            "_view_module_version": "1.2.0",
            "_view_name": "LayoutView",
            "align_content": null,
            "align_items": null,
            "align_self": null,
            "border": null,
            "bottom": null,
            "display": null,
            "flex": null,
            "flex_flow": null,
            "grid_area": null,
            "grid_auto_columns": null,
            "grid_auto_flow": null,
            "grid_auto_rows": null,
            "grid_column": null,
            "grid_gap": null,
            "grid_row": null,
            "grid_template_areas": null,
            "grid_template_columns": null,
            "grid_template_rows": null,
            "height": null,
            "justify_content": null,
            "justify_items": null,
            "left": null,
            "margin": null,
            "max_height": null,
            "max_width": null,
            "min_height": null,
            "min_width": null,
            "object_fit": null,
            "object_position": null,
            "order": null,
            "overflow": null,
            "overflow_x": null,
            "overflow_y": null,
            "padding": null,
            "right": null,
            "top": null,
            "visibility": null,
            "width": null
          }
        },
        "fd75cb6ec09f4af8a584391742aa6e86": {
          "model_module": "@jupyter-widgets/controls",
          "model_module_version": "1.5.0",
          "model_name": "FloatProgressModel",
          "state": {
            "_dom_classes": [],
            "_model_module": "@jupyter-widgets/controls",
            "_model_module_version": "1.5.0",
            "_model_name": "FloatProgressModel",
            "_view_count": null,
            "_view_module": "@jupyter-widgets/controls",
            "_view_module_version": "1.5.0",
            "_view_name": "ProgressView",
            "bar_style": "success",
            "description": "",
            "description_tooltip": null,
            "layout": "IPY_MODEL_7d48e8625c934b849884397a5a5afc89",
            "max": 456318,
            "min": 0,
            "orientation": "horizontal",
            "style": "IPY_MODEL_ddeed5f76d2048c3871503d162e135a7",
            "value": 456318
          }
        },
        "ff27df55197e486e8f0e66d49d41121e": {
          "model_module": "@jupyter-widgets/controls",
          "model_module_version": "1.5.0",
          "model_name": "HTMLModel",
          "state": {
            "_dom_classes": [],
            "_model_module": "@jupyter-widgets/controls",
            "_model_module_version": "1.5.0",
            "_model_name": "HTMLModel",
            "_view_count": null,
            "_view_module": "@jupyter-widgets/controls",
            "_view_module_version": "1.5.0",
            "_view_name": "HTMLView",
            "description": "",
            "description_tooltip": null,
            "layout": "IPY_MODEL_888bf56f2a204b8f883df979436aaa21",
            "placeholder": "​",
            "style": "IPY_MODEL_b475d760fccc4e4987aae40141b8886e",
            "value": " 663M/663M [00:08&lt;00:00, 76.6MB/s]"
          }
        }
      }
    }
  },
  "nbformat": 4,
  "nbformat_minor": 0
}