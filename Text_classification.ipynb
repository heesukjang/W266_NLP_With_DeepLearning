{
  "cells": [
    {
      "cell_type": "markdown",
      "metadata": {
        "id": "view-in-github",
        "colab_type": "text"
      },
      "source": [
        "<a href=\"https://colab.research.google.com/github/heesukjang/W266_NLP_With_DeepLearning/blob/main/Text_classification.ipynb\" target=\"_parent\"><img src=\"https://colab.research.google.com/assets/colab-badge.svg\" alt=\"Open In Colab\"/></a>"
      ]
    },
    {
      "cell_type": "markdown",
      "metadata": {
        "id": "n7BzBd-N9mS1"
      },
      "source": [
        "# Assignment 2: Text Classification with Various Neural Networks\n",
        "\n",
        "**Description:** This assignment covers various neural network architectures and components, largely used in the context of classification. You will compare Deep Averaging Networks, Deep Weighted Averaging Networks using Attention, and BERT-based models. You should also be able to develop an intuition for:\n",
        "\n",
        "\n",
        "*   The effects of fine-tuning word vectors or starting with random word vectors\n",
        "*   How various networks behave when the training set size changes\n",
        "*   The effect of shuffling your training data\n",
        "*   The benefits of Attention calculations\n",
        "*   Working with BERT\n",
        "\n",
        "\n",
        "The assignment notebook closely follows the lesson notebooks. We will use the IMDB dataset and will leverage some of the models, or part of the code, for our current investigation.\n",
        "\n",
        "The initial part of the notebook is purely setup. We will then evaluate how Attention can make Deep Averaging networks better. \n",
        "\n",
        "Do not try to run this entire notebook on your GCP instance as the training of models requires a GPU to work in a timely fashion. This notebook should be run on a Google Colab leveraging a GPU. By default, when you open the notebook in Colab it will try to use a GPU. Total runtime of the entire notebook (with solutions and a Colab GPU) should be about 1h.\n",
        "\n",
        "\n",
        "[![Open In Colab](https://colab.research.google.com/assets/colab-badge.svg)](https://colab.research.google.com/github/datasci-w266/2023-spring-main/blob/master/assignment/a2/Text_classification.ipynb)\n",
        "\n",
        "The overall assignment structure is as follows:\n",
        "\n",
        "\n",
        "1. Setup\n",
        "  \n",
        "  1.1 Libraries, Embeddings,  & Helper Functions\n",
        "\n",
        "  1.2 Data Acquisition\n",
        "\n",
        "  1.3. Data Preparation\n",
        "\n",
        "      1.3.1 Training/Test Sets using Word2Vec \n",
        "\n",
        "      1.3.2 Training/Test Sets for BERT-based models\n",
        "\n",
        "\n",
        "2. Classification with various Word2Vec-based Models\n",
        "\n",
        "  2.1 The Role of Shuffling of the Training Set\n",
        "\n",
        "  2.2 DAN vs Weighted Averaging Models using Attention\n",
        "\n",
        "    2.2.1 Warm-Up\n",
        "    \n",
        "    2.2.2 The WAN Model\n",
        "    \n",
        "  2.3 Approaches for Training of Embeddings \n",
        "\n",
        "\n",
        "3. Classification with BERT\n",
        "\n",
        "  3.1. BERT Basics\n",
        "\n",
        "  3.2 CLS-Token-based Classification \n",
        "\n",
        "  3.3 Averaging of BERT Outputs\n",
        "\n",
        "  3.4. Adding a CNN on top of BERT\n",
        "\n",
        "\n",
        "\n",
        "**INSTRUCTIONS:**: \n",
        "\n",
        "* Questions are always indicated as **QUESTION**, so you can search for this string to make sure you answered all of the questions. You are expected to fill out, run, and submit this notebook, as well as to answer the questions in the **answers** file as you did in a1.  Please do **not** remove the output from your notebooks when you submit them as we'll look at the output as well as your code for grading purposes.\n",
        "\n",
        "* **### YOUR CODE HERE** indicates that you are supposed to write code.\n",
        "\n",
        "* If you want to, you can run all of the cells in section 1 in bulk. This is setup work and no questions are in there. At the end of section 1 we will state all of the relevant variables that were defined and created in section 1.\n",
        "\n",
        "* Finally, unless otherwise indicated your validation accuracy will be 0.65 or higher if you have correctly implemented the model.\n",
        "\n"
      ]
    },
    {
      "cell_type": "markdown",
      "metadata": {
        "id": "so-yur1S9mS4"
      },
      "source": [
        "## 1. Setup\n",
        "\n",
        "### 1.1. Libraries and Helper Functions\n",
        "\n",
        "This notebook requires the TensorFlow dataset and other prerequisites that you must download. "
      ]
    },
    {
      "cell_type": "code",
      "execution_count": 4,
      "metadata": {
        "id": "8uQnMctL9mS5",
        "colab": {
          "base_uri": "https://localhost:8080/"
        },
        "outputId": "cefca41c-c391-47c6-dd38-3dff76ed9d4c"
      },
      "outputs": [
        {
          "output_type": "stream",
          "name": "stdout",
          "text": [
            "\u001b[2K     \u001b[90m━━━━━━━━━━━━━━━━━━━━━━━━━━━━━━━━━━━━━━━━\u001b[0m \u001b[32m24.2/24.2 MB\u001b[0m \u001b[31m29.7 MB/s\u001b[0m eta \u001b[36m0:00:00\u001b[0m\n",
            "\u001b[2K     \u001b[90m━━━━━━━━━━━━━━━━━━━━━━━━━━━━━━━━━━━━━━━━\u001b[0m \u001b[32m4.9/4.9 MB\u001b[0m \u001b[31m40.8 MB/s\u001b[0m eta \u001b[36m0:00:00\u001b[0m\n",
            "\u001b[2K     \u001b[90m━━━━━━━━━━━━━━━━━━━━━━━━━━━━━━━━━━━━━━━\u001b[0m \u001b[32m498.0/498.0 MB\u001b[0m \u001b[31m2.7 MB/s\u001b[0m eta \u001b[36m0:00:00\u001b[0m\n",
            "\u001b[2K     \u001b[90m━━━━━━━━━━━━━━━━━━━━━━━━━━━━━━━━━━━━━━\u001b[0m \u001b[32m462.3/462.3 KB\u001b[0m \u001b[31m31.7 MB/s\u001b[0m eta \u001b[36m0:00:00\u001b[0m\n",
            "\u001b[2K     \u001b[90m━━━━━━━━━━━━━━━━━━━━━━━━━━━━━━━━━━━━━━━━\u001b[0m \u001b[32m5.8/5.8 MB\u001b[0m \u001b[31m55.3 MB/s\u001b[0m eta \u001b[36m0:00:00\u001b[0m\n",
            "\u001b[2K     \u001b[90m━━━━━━━━━━━━━━━━━━━━━━━━━━━━━━━━━━━━━━━━\u001b[0m \u001b[32m1.4/1.4 MB\u001b[0m \u001b[31m58.4 MB/s\u001b[0m eta \u001b[36m0:00:00\u001b[0m\n",
            "\u001b[2K     \u001b[90m━━━━━━━━━━━━━━━━━━━━━━━━━━━━━━━━━━━━━━━━\u001b[0m \u001b[32m6.3/6.3 MB\u001b[0m \u001b[31m41.2 MB/s\u001b[0m eta \u001b[36m0:00:00\u001b[0m\n",
            "\u001b[2K     \u001b[90m━━━━━━━━━━━━━━━━━━━━━━━━━━━━━━━━━━━━━━━━\u001b[0m \u001b[32m7.6/7.6 MB\u001b[0m \u001b[31m80.2 MB/s\u001b[0m eta \u001b[36m0:00:00\u001b[0m\n",
            "\u001b[2K     \u001b[90m━━━━━━━━━━━━━━━━━━━━━━━━━━━━━━━━━━━━━━\u001b[0m \u001b[32m190.3/190.3 KB\u001b[0m \u001b[31m18.9 MB/s\u001b[0m eta \u001b[36m0:00:00\u001b[0m\n",
            "\u001b[?25h"
          ]
        }
      ],
      "source": [
        "#@title Installs\n",
        "\n",
        "!pip install pydot --quiet\n",
        "!pip install gensim==3.8.3 --quiet\n",
        "!pip install tensorflow-datasets --quiet\n",
        "!pip install -U tensorflow-text==2.8.2 --quiet\n",
        "!pip install transformers --quiet"
      ]
    },
    {
      "cell_type": "markdown",
      "metadata": {
        "id": "ZFFBvPMR9mS8"
      },
      "source": [
        "Now we are ready to do the imports."
      ]
    },
    {
      "cell_type": "code",
      "source": [
        "# !pip list"
      ],
      "metadata": {
        "id": "j_bmrDC0iDpz"
      },
      "execution_count": 2,
      "outputs": []
    },
    {
      "cell_type": "code",
      "source": [
        "# !pip install tensorflow==2.11.0\n",
        "# !pip install numpy==1.21.5\n",
        "# !pip install matplotlib==3.5.2\n",
        "# !pip install pandas==1.4.4\n",
        "# !pip install keras==2.11.0"
      ],
      "metadata": {
        "id": "a8JEaugLmlNN"
      },
      "execution_count": 3,
      "outputs": []
    },
    {
      "cell_type": "code",
      "execution_count": 5,
      "metadata": {
        "id": "Q8b9aykE9mS8"
      },
      "outputs": [],
      "source": [
        "#@title Imports\n",
        "\n",
        "import numpy as np\n",
        "import pandas as pd\n",
        "import tensorflow as tf\n",
        "from tensorflow import keras\n",
        "\n",
        "from tensorflow.keras.layers import Embedding, Input, Dense, Lambda\n",
        "from tensorflow.keras.models import Model\n",
        "import tensorflow.keras.backend as K\n",
        "import tensorflow_datasets as tfds\n",
        "import tensorflow_text as tf_text\n",
        "\n",
        "from transformers import BertTokenizer, TFBertModel\n",
        "\n",
        "\n",
        "import sklearn as sk\n",
        "import os\n",
        "import nltk\n",
        "from nltk.data import find\n",
        "\n",
        "import matplotlib.pyplot as plt\n",
        "\n",
        "import re\n",
        "\n",
        "#This continues to work with gensim 3.8.3.  It doesn't yet work with 4.x.  \n",
        "#Make sure your pip install command specifies gensim==3.8.3\n",
        "import gensim\n"
      ]
    },
    {
      "cell_type": "markdown",
      "metadata": {
        "id": "ESElm33U9mS9"
      },
      "source": [
        "Below is a helper function to plot histories."
      ]
    },
    {
      "cell_type": "code",
      "execution_count": 6,
      "metadata": {
        "id": "YKWj6pPM9mS-"
      },
      "outputs": [],
      "source": [
        "#@title Plotting Function\n",
        "\n",
        "# 4-window plot. Small modification from matplotlib examples.\n",
        "\n",
        "def make_plot(axs,\n",
        "              model_history1, \n",
        "              model_history2, \n",
        "              model_1_name='model 1',\n",
        "              model_2_name='model 2',\n",
        "              ):\n",
        "    box = dict(facecolor='yellow', pad=5, alpha=0.2)\n",
        "\n",
        "    for i, metric in enumerate(['loss', 'accuracy']):\n",
        "        # small adjustment to account for the 2 accuracy measures in the Weighted Averging Model with Attention\n",
        "        if 'classification_%s' % metric in model_history2.history:\n",
        "            metric2 = 'classification_%s' % metric\n",
        "        else:\n",
        "            metric2 = metric\n",
        "        \n",
        "        y_lim_lower1 = np.min(model_history1.history[metric])\n",
        "        y_lim_lower2 = np.min(model_history2.history[metric2])\n",
        "        y_lim_lower = min(y_lim_lower1, y_lim_lower2) * 0.9\n",
        "\n",
        "        y_lim_upper1 = np.max(model_history1.history[metric])\n",
        "        y_lim_upper2 = np.max(model_history2.history[metric2])\n",
        "        y_lim_upper = max(y_lim_upper1, y_lim_upper2) * 1.1\n",
        "\n",
        "        for j, model_history in enumerate([model_history1, model_history2]):\n",
        "            model_name = [model_1_name, model_2_name][j]\n",
        "            model_metric = [metric, metric2][j]\n",
        "            ax1 = axs[i, j]\n",
        "            ax1.plot(model_history.history[model_metric])\n",
        "            ax1.plot(model_history.history['val_%s' % model_metric])\n",
        "            ax1.set_title('%s - %s' % (metric, model_name))\n",
        "            ax1.set_ylabel(metric, bbox=box)\n",
        "            ax1.set_ylim(y_lim_lower, y_lim_upper)"
      ]
    },
    {
      "cell_type": "markdown",
      "metadata": {
        "id": "1QDi-Kg49mS-"
      },
      "source": [
        "Next, we get the word2vec model from nltk."
      ]
    },
    {
      "cell_type": "code",
      "execution_count": 7,
      "metadata": {
        "colab": {
          "base_uri": "https://localhost:8080/",
          "height": 71
        },
        "id": "49X1T6an9mS_",
        "outputId": "640b9c4c-76ac-490e-aaf9-b1cbf4bd03eb"
      },
      "outputs": [
        {
          "output_type": "stream",
          "name": "stderr",
          "text": [
            "[nltk_data] Downloading package word2vec_sample to /root/nltk_data...\n",
            "[nltk_data]   Unzipping models/word2vec_sample.zip.\n"
          ]
        },
        {
          "output_type": "execute_result",
          "data": {
            "text/plain": [
              "'/root/nltk_data/models/word2vec_sample/pruned.word2vec.txt'"
            ],
            "application/vnd.google.colaboratory.intrinsic+json": {
              "type": "string"
            }
          },
          "metadata": {},
          "execution_count": 7
        }
      ],
      "source": [
        "#@title NLTK & Word2Vec\n",
        "\n",
        "nltk.download('word2vec_sample')\n",
        "\n",
        "word2vec_sample = str(find('models/word2vec_sample/pruned.word2vec.txt'))\n",
        "word2vec_sample\n"
      ]
    },
    {
      "cell_type": "markdown",
      "metadata": {
        "id": "Y_rdVE3z9mTA"
      },
      "source": [
        "Now here we have the embedding **model** defined, let's see how many words are in the vocabulary:"
      ]
    },
    {
      "cell_type": "code",
      "execution_count": 8,
      "metadata": {
        "colab": {
          "base_uri": "https://localhost:8080/"
        },
        "id": "uoL6l_q89mTA",
        "outputId": "16608a57-5db3-4667-9201-e27f477886a1"
      },
      "outputs": [
        {
          "output_type": "execute_result",
          "data": {
            "text/plain": [
              "43981"
            ]
          },
          "metadata": {},
          "execution_count": 8
        }
      ],
      "source": [
        "model = gensim.models.KeyedVectors.load_word2vec_format(word2vec_sample, binary=False)\n",
        "len(model.vocab)"
      ]
    },
    {
      "cell_type": "markdown",
      "metadata": {
        "id": "r3Q0zOkJ9mTB"
      },
      "source": [
        "What do the word vectors look like? As expected:"
      ]
    },
    {
      "cell_type": "code",
      "execution_count": 9,
      "metadata": {
        "colab": {
          "base_uri": "https://localhost:8080/"
        },
        "id": "ZyAGMYGK9mTB",
        "outputId": "ea875f79-52f8-4e6b-ba17-39c0e89c49b8"
      },
      "outputs": [
        {
          "output_type": "stream",
          "name": "stdout",
          "text": [
            "300\n"
          ]
        },
        {
          "output_type": "execute_result",
          "data": {
            "text/plain": [
              "array([ 0.0306035 ,  0.0886877 , -0.0121269 ,  0.0761965 ,  0.0566269 ,\n",
              "       -0.0424702 ,  0.0410129 , -0.0497567 , -0.00364328,  0.0632889 ,\n",
              "       -0.0142608 , -0.0791111 ,  0.0174877 , -0.0383064 ,  0.00926433,\n",
              "        0.0295626 ,  0.0770293 ,  0.0949334 , -0.0428866 , -0.0295626 ],\n",
              "      dtype=float32)"
            ]
          },
          "metadata": {},
          "execution_count": 9
        }
      ],
      "source": [
        "print(len(model['great']))\n",
        "model['great'][:20]"
      ]
    },
    {
      "cell_type": "code",
      "source": [
        "print(len(model['university']))\n",
        "print(len(model.vocab.keys()))\n",
        "print(model.vocab.keys())\n",
        "print(list(model.vocab.items())[:2])\n",
        "[val for val in list(model.vocab.values())[:2]]"
      ],
      "metadata": {
        "colab": {
          "base_uri": "https://localhost:8080/"
        },
        "id": "CKKy6pyYsjYZ",
        "outputId": "933dc206-1d53-4d3e-a5ef-31d032fe5197"
      },
      "execution_count": 10,
      "outputs": [
        {
          "output_type": "stream",
          "name": "stdout",
          "text": [
            "300\n",
            "43981\n",
            "dict_keys(['fawn', 'deferment', 'Debts', 'Poetry', 'woods', 'clotted', 'hanging', 'hastily', 'comically', 'localized', 'spidery', 'disobeying', 'Adjusting', 'originality', 'Journey', 'mutinies', 'Western', 'alphabetic', 'Gravesend', 'Elec', 'slothful', 'wracked', 'Valle', 'Famed', 'stipulate', 'pigment', 'appropriation', 'rawhide', 'strictest', 'screaming', 'wooded', 'liaisons', 'broiler', 'wooden', 'Pergamon', 'Loeb', 'Sack', 'broiled', 'circuitry', 'deferments', 'resounds', 'Colonialism', 'gaskets', 'scrapes', 'precocity', 'Shocked', 'feasibility', 'miniatures', 'deadheads', 'mortgages', 'sustaining', 'consenting', 'Honorable', 'Pampa', 'scraped', 'snuggled', 'inanimate', 'errors', 'semicircular', 'tiered', 'Initially', 'cooking', 'Hamilton', 'outfielders', 'Niagara', 'hallucinating', 'succumb', 'shocks', 'crouch', 'chins', 'Foundation', 'jubilantly', 'zlotys', 'mailings', 'perforations', 'affiliates', 'perfunctorily', 'china', 'affiliated', 'Footnotes', 'confronts', 'doldrums', 'existentialist', 'kids', 'Downfall', 'deferring', 'Nibble', 'Stanhope', 'controversy', 'Farther', 'natures', 'neurologist', 'spotty', 'Isles', 'rebel', 'appropriately', 'Dexter', 'topography', 'projection', 'Harvey', 'lengthen', 'stern', 'turnouts', 'Archuleta', 'catchy', 'insecurity', 'abbreviations', 'Gemeinschaft', 'Vernon', 'music', 'therefore', 'distortions', 'reasserting', 'sermons', 'pinpoints', 'populations', 'astound', 'exuberantly', 'tomes', 'primeval', 'schoolboys', 'unpack', 'circumstances', 'intake', 'morally', 'locked', 'Edgardo', 'Madrid', 'leadings', 'locker', 'Colombia', 'confining', 'unreconstructed', 'Le', 'wand', 'cockier', 'unjust', 'Prison', 'disparagement', 'titanium', 'kingdoms', 'Tippecanoe', 'pinto', 'absolute', 'LD', 'travel', 'Attention', 'copious', 'cutback', 'playback', 'LP', 'Falcon', 'cadence', 'tabac', 'uselessness', 'Feelers', 'wholewheat', 'assimilated', 'dinosaurs', 'modest', 'Fogg', 'twined', 'sentencing', 'promotion', 'Hoping', 'romped', 'Matunuck', 'sickening', 'kiloton', 'Mizell', 'farmlands', 'nonsensical', 'leisurely', 'Willy', 'Even', 'snugly', 'welcomed', 'Blackstone', 'stoicism', 'whizzing', 'partnered', 'Willa', 'Robertson', 'rewarded', 'activating', 'Redding', 'Boxford', 'fir', 'Abbott', 'His', 'wickedly', 'ligand', 'fit', 'raggedness', 'fix', 'striking', 'Copp', 'secede', 'Progressivism', 'anticipations', 'fig', 'reentered', 'Honan', 'fin', 'Him', 'corridor', 'Hickory', 'municipality', 'riggers', 'vouchers', 'recollections', 'effects', 'Emotionally', 'multidimensional', 'sixteen', 'undeveloped', 'saddened', 'Lemuel', 'Loen', 'arrow', 'Rates', 'uninfluenced', 'development', 'diatoms', 'Authenticated', 'telescope', 'sandbars', 'parasites', 'Tiburon', 'strips', 'Jamestown', 'allay', 'Crowds', 'Pomerania', 'toleration', 'Susie', 'whaddya', 'smirk', 'encourage', 'adapt', 'Basement', 'size', 'outburst', 'misrepresentations', 'nightdress', 'stamping', 'underfoot', 'negociant', 'Blessings', 'Osric', 'estimate', 'obliterans', 'universally', 'chlorine', 'competes', 'disturber', 'nucleoli', 'Woodberry', 'ministries', 'disturbed', 'competed', 'dentures', 'Facts', 'Niger', 'lightened', 'Basically', 'disfigured', 'maladies', 'clamorous', 'reintroduces', 'households', 'renovated', 'service', 'Fearless', 'Engaging', 'needed', 'master', 'critter', 'genesis', 'rewards', 'Serving', 'mutilated', 'Daddy', 'positively', 'handcuffs', 'idly', 'regulator', 'idle', 'exclaimed', 'friend', 'feeling', 'assertiveness', 'Chicago', 'longs', 'Preludes', 'Generally', 'spectrum', 'dozed', 'arousal', 'thaw', 'resignations', 'dozen', 'Then', 'Them', 'wholesome', 'hymen', 'Kennard', 'Thee', 'Thea', 'racers', 'They', 'Missionary', 'concedes', 'committing', 'limitless', 'diminishing', 'vexing', 'chumminess', 'eliminates', 'simplify', 'tensely', 'mouth', 'Pandora', 'conceded', 'transverse', 'Mahler', 'singer', 'purges', 'Paragon', 'Armide', 'paneling', 'scream', 'Zanzibar', 'saying', 'Curly', 'schism', 'rediscovery', 'fennel', 'ulcer', 'tempted', 'cheaply', 'clicked', 'Extend', \"baby's\", 'Ceil', 'Tiao', 'midshipmen', 'bliss', 'Octave', 'Coliseum', 'rice', 'Mylar', 'plate', 'remotest', 'Tricks', 'designing', 'pyrometer', 'altogether', 'affronted', 'Platonism', 'Conferences', 'nicely', 'boarder', 'Rip', 'patch', 'Whigs', 'eyelids', 'Rim', 'pipers', 'boarded', 'Composers', 'healthful', 'clarified', 'sensitivity', 'Anderson', 'accesses', 'alternative', 'clarifies', 'advisedly', 'lots', 'Advances', 'Heinkel', 'motional', 'droves', 'Dexedrine', 'Tasso', 'imprimatur', 'ire', 'Advanced', 'requisites', 'wage', 'redistricting', 'extend', 'nature', 'lapping', 'extent', 'tendons', 'atoms', 'flathead', 'tyranny', 'airflow', 'veer', 'Resolute', 'lookit', 'heating', 'incense', 'Laura', 'sublime', 'incapacitated', 'polyesters', 'southeastern', 'Lauro', 'eradicate', 'obscenity', 'Apartment', 'foreclosing', 'meaningfulness', 'wearying', 'gypsies', 'brindle', 'humming', 'Instantly', 'relearns', 'milquetoast', 'Sitting', 'union', 'Vallee', 'muck', 'much', 'sommelier', 'Closely', 'anastomotic', 'dehumanised', 'unleavened', 'fry', 'Serenity', 'Goals', 'Remington', 'Poseidon', 'retrospect', 'spit', 'allotting', 'spic', 'sycophants', 'doubts', 'Indemnity', 'Cipolla', 'spin', 'skilfully', 'wildcat', 'Elgin', 'contingencies', 'professionally', 'employ', 'misconstrued', 'Linville', 'prostrate', 'Crusaders', 'Combined', 'Zurcher', 'climbed', 'Skye', 'Innumerable', 'conditioned', 'Potomac', 'eighteen', 'Sword', 'conditioner', 'insatiable', 'memorial', 'Valley', 'jolting', 'mummified', 'democracies', 'split', 'Peden', 'visitations', 'principals', 'boiled', 'effortlessly', 'myocardial', 'marches', 'Maybe', 'torpedoes', 'marched', 'boiler', 'supper', 'Persia', 'Traces', 'furlough', 'peremptory', 'Verges', 'Gavin', 'academic', 'Belton', 'lonelier', 'Table', 'corporate', 'massaging', 'plaque', 'Weaken', 'outlived', 'bellow', 'Truth', 'absurdities', 'golden', 'lefthander', 'homogeneity', 'snickered', 'Neversink', 'portrayed', 'lasso', 'Eternity', 'ham', 'duffer', 'Oscar', 'espouses', 'had', 'insubordination', 'Mohammedanism', 'hay', 'Connecticut', 'beloved', 'duffel', 'has', 'espoused', 'unblinkingly', 'municipal', 'confidentially', 'elders', 'survival', 'Faculty', 'constrictors', 'unequivocally', 'palazzo', 'otherworldly', 'indicative', 'clustered', 'shadow', 'Suitable', 'sleuthing', 'Mongi', 'gangplank', 'festivities', 'Pentagon', 'Swedish', 'warping', 'attorney', 'crowd', 'Literally', 'mosques', 'Expressways', 'crown', 'begin', 'culpas', 'defeatists', 'crows', 'emphases', 'Between', 'billboard', 'stealthily', 'Asiatic', 'perchance', 'Thankful', 'inhuman', 'plucked', 'treadmill', 'Celebration', 'Calls', 'binder', 'brigades', 'starring', 'loyalist', 'anagram', 'disdains', 'composites', 'stoker', 'restlessness', 'benches', 'Porch', 'anomalous', 'becalmed', 'officeholders', 'oneness', 'stoked', 'infraction', 'honeymoon', 'administer', 'Aaron', 'Management', 'Vernor', 'despised', 'Gulf', 'altitude', 'diocese', 'Inherently', 'raped', 'grasping', 'Testicular', 'greatness', 'rapes', 'avocados', 'contusions', 'grooms', 'perfumes', 'waistcoat', 'safeties', 'denoting', 'thesaurus', 'sedative', 'perfumed', 'Roast', 'bridgework', 'safeguard', 'incinerator', 'duel', 'humbled', \"else's\", 'VTOL', 'County', 'complications', 'servings', 'soldering', 'doorkeeper', 'duet', 'Stallard', 'passenger', 'disgrace', 'Sentiment', 'prudentially', 'Tales', 'moderns', 'Pittsboro', 'railhead', 'triangles', 'Apollo', 'eventual', 'crowns', 'role', 'intrusions', 'wordlessly', 'roll', 'Demagogues', 'intend', 'thoroughgoing', 'palms', 'ointment', 'transported', 'Melbourne', 'comely', 'intent', 'smelling', 'variable', 'hawker', 'Gardens', 'Ida', 'continentally', 'Debutante', 'Sudanese', 'Dragonetti', 'overturned', 'gown', 'Blackwells', 'proficient', 'chain', 'whoever', 'Northeast', 'bandits', 'Wabash', 'chair', 'Bye', 'Proudhon', 'Ukrainian', 'Beyeler', 'ballet', 'amplification', 'Tourist', 'timbered', 'crates', 'crater', 'balled', 'grappled', 'oversight', 'tenacious', 'telegraphers', 'jerk', 'Glendora', 'choice', 'Lyle', 'embark', 'gloomy', 'opinions', 'rationality', 'stays', 'Barren', 'southpaw', 'Barrel', 'exact', 'minute', 'Tau', 'cooks', 'Scientifique', 'Tap', 'Tar', 'Fifteen', 'Tax', 'grimed', 'illustrators', 'Move', 'skewer', 'Tan', 'Tao', 'Tai', 'Copernicus', 'Silvio', 'meadow', 'intial', 'hindered', 'M.', 'lengthened', 'Olgivanna', 'chopping', 'shirts', 'ogled', 'adorns', 'kindliness', 'celebrated', 'Landau', 'Loper', 'geography', 'boost', 'Lopez', 'unintentionally', 'Me', 'drafted', 'Ma', 'busyness', 'oldies', 'climbs', 'blunted', 'Mi', 'plucking', 'gnaw', 'address', 'dwindling', 'My', 'testings', 'Webb', 'Hallmark', 'MF', 'accomplishes', 'dusty', 'impacted', 'Displayed', 'accomplished', 'sprouted', 'MS', 'Jardin', 'prepositional', 'Thornton', 'cacophony', 'Enough', 'betraying', 'texture', 'Davidson', 'undergone', 'August', 'working', 'perished', 'La', 'opposed', 'Inmates', 'Lo', 'Bars', 'liberalizing', 'familar', 'pavilions', 'perishes', 'Klaus', 'consoled', 'Proposals', 'moored', 'approving', \"Children's\", 'consoles', 'Barr', 'tines', 'intemperance', 'Opelika', 'riders', 'Pianos', 'originally', 'constraint', 'abortion', 'harmonious', 'Showers', 'following', 'stupidities', 'Protestantism', 'admired', 'want', 'mirrors', 'Hump', 'mailboxes', 'parachute', 'locks', 'incremental', 'admires', 'admirer', 'listens', 'bibliographical', 'septic', 'Broglio', 'dooms', 'vainly', 'thanking', 'foreshortening', 'subroutines', 'Skinner', 'Significant', 'Printemps', 'Drain', 'Relentlessly', 'convincingly', 'fueled', 'laxative', 'Softness', 'Corporate', 'temperate', 'pulley', 'canvassing', 'combinations', 'conscious', 'inhabiting', 'subdivisions', 'Moll', 'forebears', 'swollen', 'skirmish', 'wolves', 'Mold', 'Mole', 'Encouraged', 'Wetter', 'Bowie', \"O'Dwyer\", 'years', 'professors', 'structuring', 'episodes', 'Trustees', 'comedians', 'yeard', 'Cromwell', 'jig', 'ovals', 'invalid', 'Cypress', 'Assist', 'troubles', 'Agencies', 'nomenclature', 'revulsion', 'antipathy', 'suspension', 'Tift', 'Hiding', 'modestly', 'recipients', 'civilian', 'shacked', 'Kemm', 'bashful', 'Deutsche', 'courageously', 'indigenous', 'secularized', 'overpowering', 'Gordon', 'workmanlike', 'henpecked', 'sorted', 'frontage', 'aft', 'Pardon', 'hickory', 'materialized', 'didn', 'Lattimer', 'Yellow', 'Bubenik', 'fisherman', 'scratchiness', 'instability', 'quarter', 'quartet', 'quarrymen', 'reminded', 'retrieve', 'bursting', 'commuting', 'receipt', 'Venturesome', 'remembrance', 'Live', 'irremediable', 'entering', 'Soiree', 'prudently', 'Bates', 'salads', 'disasters', 'assessors', 'interned', 'Michigan', 'Nightclubs', 'L.', 'seriously', 'Barbour', 'Drums', 'thermodynamic', 'plotting', 'hibernate', 'curbs', 'incentives', 'Recital', 'inwardly', 'complicated', 'grandma', 'workmanship', 'vocalization', 'wrong', 'initiate', 'Kepler', 'aboard', 'Owens', 'neglect', 'hemorrhoids', 'emotion', 'saving', 'symmetry', 'spoken', 'reprisal', 'one', 'spokes', 'periodical', 'veldt', 'affords', 'exaggerations', 'Monday', 'Burford', 'Amici', 'stifled', 'types', 'Runyon', 'oversimplified', 'Mounted', 'lingering', 'shawl', 'derangement', 'tombstones', 'snatch', 'retrogressive', 'herds', 'absorbs', 'surged', 'History', 'Equinox', 'Willingness', 'Ciao', 'crossroads', 'unheated', 'unfit', 'Hubert', 'wandering', 'ascendancy', 'illness', 'sumptuous', 'Suggest', 'turned', 'locations', 'jewels', 'Field', 'Hubay', 'uninterrupted', 'borough', 'erudition', 'politicos', 'Hals', 'fashionable', 'warriors', 'Alicia', 'zoo', 'intends', 'Darkling', 'Hale', 'Half', 'Hall', 'Stephenson', 'opposite', 'buffer', 'discerning', 'spewing', 'Newcomers', 'Concessionaires', 'talk', 'Allison', 'gauss', 'knowingly', 'prayerfully', 'creditable', 'Lands', 'Ches', 'touchy', 'Chef', 'exaltations', 'jitters', 'obsidian', 'jittery', 'Schilling', 'feuds', 'Sibley', 'seekers', 'Rheumatism', 'infuriate', 'imagines', 'Sky', 'friction', 'elan', 'inconsistent', 'aggressive', 'Ski', 'Meanings', 'ensembles', 'reconciling', 'transact', 'Duponts', 'coaxing', 'Capistrano', 'betrothal', 'Leadership', 'concurrence', 'Bianco', 'hindmost', 'guarded', 'rejoiced', 'suitcases', 'revolutionized', 'tilting', 'balconies', 'skiffs', 'simplistic', 'monde', 'etcetera', 'mechanization', 'awaiting', 'Muscle', 'pimp', 'recurred', 'Facilities', \"could've\", 'Pawtucket', 'vision', 'morose', 'noisier', 'Osbert', 'bishopry', 'impressions', 'hastened', 'intoxicating', 'refresher', 'humorists', 'Still', 'alarming', 'Compilation', 'Wisdom', 'unlocks', 'kilometer', 'moons', 'satiety', 'Ziegfeld', 'enjoys', 'Peck', 'Placement', 'Harbor', 'Oglethorpe', 'Mazowsze', 'awards', 'Teeth', 'menacing', 'Hit', 'convoluted', 'concentrated', 'circumference', 'Hathaway', 'majestically', 'millionaire', 'flipped', 'unflattering', 'grooming', \"can't\", 'Yosemite', 'loveliest', 'Kaganovich', 'compels', 'glutinous', 'Leavitt', 'gaiety', 'Whiteley', 'cribs', 'buoyancy', 'Shouldering', 'Horton', 'Skies', 'epistemology', 'Tech.', 'Caius', 'accelerometer', 'west', 'Interscience', 'Asheville', 'motives', 'Babel', 'wants', 'Briefer', 'relations', 'Palsy', 'combatted', 'formed', 'notarized', 'photos', 'wanta', 'tightened', 'wales', 'abject', 'extant', 'former', 'talented', 'Adjusted', 'straighten', 'Commander', 'Cooch', 'defeatism', 'resulting', 'squeezed', 'situation', 'Copland', 'penthouse', 'parboiled', 'appetizing', 'engaged', 'dubious', 'proteolytic', 'depressors', 'Linda', 'engages', 'demolition', 'Profile', 'debilitating', 'cafe', 'verified', 'sinuously', 'Replacing', 'yearbook', 'Profili', 'Lovejoy', 'Apocrypha', 'gelding', 'Blood', 'reformatory', 'Bloom', 'Whipple', 'visually', 'managements', 'edged', 'assigns', 'hideaway', 'sickness', 'defy', 'constraining', 'Murder', 'wired', 'Clean', 'nightmare', 'Temper', 'Spherical', 'Appropriately', 'Tappan', 'tracking', 'Manor', 'nothin', 'May', 'peculiarities', 'Berlitz', 'Sigmund', 'dimension', 'persistently', 'NAB', 'steamed', 'Conceivably', 'being', 'disconcert', 'mycology', 'enclaves', 'steamer', 'Death', 'overconfident', 'BOD', 'exiling', 'Boylston', 'grounded', 'excuses', 'Completed', 'occluded', 'plunderers', 'plumed', 'grounder', 'viscometer', 'glutted', 'overthrow', 'haystack', 'dicks', 'unerring', 'gestured', 'sportsmanship', 'rejoin', 'sums', 'gestures', 'traffic', 'preference', 'world', 'postal', 'decomposes', 'Example', 'sensational', 'confine', 'unrepentant', 'Hypothesis', 'shutter', 'pleats', 'superiority', 'Achievement', 'glamor', 'Suggs', 'obstruct', 'Case', 'seating', 'superintendent', 'pulverized', 'grub', 'Aligning', 'Expressed', 'unshielded', 'pervading', 'Expresses', 'stagecoach', 'divine', 'conventionally', 'substance', 'cavity', 'seaman', 'propylthiouracil', 'itemizing', 'semantically', 'restoring', 'retains', 'Pooling', \"You'll\", 'leadership', 'KCs', 'endogamy', 'prepared', 'exasperating', 'Revolution', 'ferromagnetic', 'retraced', 'disabilities', 'Geology', 'revolutionists', 'newsboy', 'uniforms', 'rumpus', 'sonority', 'sensitively', 'Paine', 'perturbed', 'shapely', 'No', 'disrupts', 'Paint', 'cowhide', 'Celie', 'lively', 'Pains', 'Celia', 'pivot', 'conceptually', 'Finley', 'gnashing', 'bubbly', 'cared', 'Hultberg', 'rumbled', 'lacquered', 'glean', 'NC', 'NE', 'lounging', 'Peninsula', 'rumbles', 'Insect', 'mindless', 'harpsichord', 'sealed', 'Maeterlinck', 'NS', 'bubble', 'trusses', 'NW', 'yearned', 'continents', 'N.', 'wits', 'Calamity', 'Alternately', 'societal', \"N'\", 'foreheads', 'Taft', 'plunking', 'whinny', 'with', 'Redevelopment', 'abused', 'pull', 'rush', 'rehabilitations', 'monopoly', 'marginality', 'ruse', 'rags', 'operationally', 'dirty', 'abuses', 'Berea', 'pulp', 'rust', 'gratuitous', 'Airlines', 'watches', 'substantially', 'incepting', 'ensuing', 'formulation', 'creak', 'jargon', 'tremble', 'Humanity', 'cream', 'Real', 'yoga', 'ideally', 'Read', 'sympathetically', 'introspection', 'unparalleled', 'Savior', 'Bunyan', 'puppy', 'Lady', 'Amadee', 'Rear', 'passerby', 'ignoramus', 'refunded', 'hydraulics', 'waving', 'brotherhood', 'linebackers', 'infirmity', 'tricky', 'Krims', 'persimmons', 'tricks', 'Correlations', 'maliciously', 'dyed', 'Specifications', 'Hardware', 'Pitch', 'valves', 'Hens', 'legislatures', 'Drinkhouse', 'Fit', 'caused', 'beware', 'ceramic', 'Farley', 'Alperts', 'Houdini', 'causes', 'taxicab', 'Schaefer', 'Waterbury', 'overexpose', 'sedition', 'norm', 'roadway', 'Capricorn', 'amplifier', 'quadrupling', 'floated', 'baton', 'floater', 'Speeches', 'Wilkes', 'rootless', 'shenanigans', 'Wilkey', 'Normandy', 'insufficiently', 'sang', 'desertion', 'sane', 'sana', 'small', 'senselessly', 'sank', 'pathologic', 'abbreviated', 'quicker', 'paso', 'healed', 'past', 'substitutions', 'fractionation', 'displays', 'pass', 'Reyes', 'investment', 'quicken', 'shockwave', 'tularemia', 'accreditation', 'psychosomatic', 'corked', 'prevailed', 'colonists', 'greenness', 'jurist', 'mystic', 'dwells', 'full', 'desegregation', 'Charlie', 'Huntley', 'diapers', 'portrays', 'strata', 'daunted', 'Digby', 'compose', 'civilians', 'hast', 'Spencer', 'criminality', 'Fawkes', 'sorghum', 'Justine', 'experience', 'anthropologists', 'prior', 'periodic', 'Quintet', 'cessation', 'skepticism', 'Alsatian', 'suave', 'depart', 'reclaimed', 'Richmond', 'follower', 'crowned', 'cynics', 'launchings', 'Payne', 'attendance', 'Conlow', 'trips', 'Wexler', 'unrecognizable', 'automate', 'more', 'door', 'masculine', 'initiated', 'substances', 'kerosene', 'corrected', 'Subways', 'tested', 'jealousies', 'Subic', 'nonviolent', 'doom', 'Willows', 'exposing', 'Irradiation', 'Rosenberg', 'Gods', 'thickest', 'resorcinol', 'learn', 'knocked', 'grope', 'scramble', 'civilizations', 'generalists', 'memoirs', 'Yale', 'bogy', 'clotheslines', 'allegro', 'Grits', 'concordant', 'Glasgow', 'bonded', 'sequins', 'huge', 'respective', 'cosily', 'speedboat', 'statisticians', 'enlarge', 'dismissed', 'Frances', 'Succeed', 'footman', 'dismisses', 'Skorich', 'sprinkle', 'lanky', 'intended', 'thickened', 'disgraced', 'variant', 'Medfield', 'mended', 'hackwork', 'Unspeakable', 'Complete', 'resemble', 'twisting', 'Woonsocket', 'Nero', 'overcooked', 'exclusions', 'replied', 'circularity', 'accuse', 'installed', 'resorts', 'paper', 'vilifying', 'replies', 'spirituals', 'smiling', 'schoolhouse', 'cheerfulness', 'roots', 'saucy', 'tantalizingly', 'Lizzie', 'Pualani', 'hounds', 'symptoms', 'shuddering', 'bypass', 'Brussels', 'sauce', 'focussed', 'clefts', 'universality', 'gadget', 'Due', 'Berkman', 'Banker', 'weeds', 'idols', 'verandah', 'Satires', 'Authority', 'courses', 'piping', 'repayment', 'Swears', 'shocking', 'armchair', 'Kahler', 'chipping', 'reactions', 'engendered', 'begged', 'cicadas', 'abutments', 'advertisers', 'operation', 'inquired', 'elms', 'Weldon', 'Riggs', 'research', 'denoted', 'Prof.', 'impudence', 'Jewett', 'Lime', 'Builder', 'bedlam', 'Muzo', 'Nina', 'parings', 'abnormally', 'Nine', 'outfitted', 'Serious', 'kings', 'plowing', 'definition', 'pairs', 'Panza', 'Fleischman', 'Itch', 'MGM', 'scholastics', 'testament', 'existential', 'Reluctant', 'euphemism', 'Fra', 'precautionary', 'purport', 'brutally', 'preservation', 'Delancy', 'Paree', 'Fry', 'Personality', 'peaceable', 'percolator', 'Guardian', 'swipe', 'moderately', 'hallowed', 'bedridden', 'saint', 'essays', 'cradled', 'Starter', 'justly', 'tenderfoot', 'Rolette', 'interviewee', 'interviewed', 'gaiters', 'typhoon', 'cheekbones', 'printed', 'interviewer', 'Mademoiselle', 'Recounting', 'Cancer', 'condolences', 'getaway', 'charges', 'Shiloh', 'elaborate', 'navigators', 'synergism', 'Impartiality', 'swanky', 'drums', 'guarding', 'graffiti', 'blond', 'conjugate', 'cleverness', 'odors', 'sell', 'Founding', 'fermented', 'permanence', 'self', 'Krogers', 'also', 'recognizing', 'jostle', 'Othello', 'conscription', 'Foot', 'penman', 'giblet', 'Recreation', 'departmental', 'Consultant', 'Check', 'raucous', 'virus', 'Grail', 'singled', 'nirvana', 'deviations', 'Capitol', 'arson', 'seize', 'sidesteps', 'Ory', 'proclaims', 'barred', 'proliferated', 'cultivating', 'workpiece', 'barren', 'barrel', 'Relatively', 'amusements', 'pipes', 'wording', 'ambiguities', 'Hal', 'Ham', 'Han', 'exterminate', 'blended', 'affix', 'Had', 'accommodations', 'bookings', 'Hay', 'Merciful', 'Dooleys', 'baneful', 'Has', 'Hat', 'overwhelmed', 'Haw', 'Bast', 'Dunn', 'Dirt', 'Patrolmen', 'Dung', 'gooey', 'Annual', 'Base', 'removable', 'calibers', 'Sequoia', 'indifference', 'hookups', 'chiefdoms', 'atheistic', 'Necessity', 'Wife', 'secular', 'ceasing', 'sunny', 'informants', 'Cooked', 'remedy', 'Subtitled', 'compass', 'gifts', 'damnit', 'plasters', 'Dimes', 'disordered', 'devoured', 'sects', 'scars', 'pleasures', 'sojourn', 'goitre', 'caramel', 'untrustworthiness', 'roundhouse', 'rumored', 'insane', 'delicately', 'anniversaries', 'endowed', 'collectively', 'Fiori', 'overboard', 'Founders', 'twittering', 'Osram', 'Straightening', 'dipole', 'Tieken', 'apologetic', 'ablated', 'thrive', 'Erikson', 'sparsely', 'Hollowell', 'pantomimed', 'untouched', 'Sewer', 'demoniac', 'condoned', 'Fulton', 'empowering', 'f', 'Neil', 'legitimately', 'connection', 'objects', 'Wilde', 'Acapulco', 'retarded', 'lash', 'Wisely', 'Breton', 'bell', 'acted', 'Oresteia', 'aforethought', 'Clyde', 'adaptation', 'Woonasquatucket', 'revved', 'Peanuts', 'belt', 'trestle', 'Appointment', 'Furies', 'Carr', 'Cars', 'satire', 'implicit', 'suburbs', 'proprietor', 'extravagant', 'Carl', 'patrolled', 'Care', 'combatants', 'periwinkles', 'N.C.', 'infect', 'Polls', 'adaptable', 'moderation', 'awake', 'diffusely', 'Prompt', 'Harriet', 'consulate', 'motets', 'presses', 'presser', 'Cried', 'exponential', 'caged', 'expanded', 'empirical', 'Reverdy', 'presentational', 'cagey', 'pressed', 'Market', 'seams', 'agitation', 'averaging', 'von', 'binding', 'vow', 'vos', 'Expressway', 'cuisine', 'raiders', 'starlight', 'Spencerian', 'ugliness', 'coincidences', 'affairs', 'flooded', 'Pakistanis', 'Chorus', 'Heinze', 'ringsiders', 'nickname', 'climb', 'infamous', 'Minns', 'Named', 'honor', 'Manny', 'Names', 'Kare', 'tryin', 'looted', 'Acceptable', 'Karl', 'recoverable', 'O.', 'salvo', 'detract', 'Grenier', 'Unimpressed', 'Orphic', 'crackled', 'salve', 'Marsh', 'Myron', 'crackles', 'abstention', 'execution', 'truism', 'cuffs', 'lady', 'recommended', 'rangers', 'parents', 'depravity', 'Marina', 'Marine', 'Pursuit', 'On', 'emergency', 'Oh', 'Of', 'couple', 'bureaucrat', 'emanating', 'wives', 'abound', 'Buzz', 'dripping', 'colonials', 'emergence', 'Gunfire', 'OK', 'OH', 'spine', 'pounds', 'chorus', 'individuals', 'Heideman', 'tribes', 'privately', 'shipments', 'Batchelder', 'goddamn', 'Brazilian', 'bounce', 'bouncy', 'Assumption', 'fabric', 'underbelly', 'sorbed', 'orderings', 'Norristown', 'Effectively', 'Frank', 'measurements', 'firecracker', 'benefit', 'Witter', 'cupped', 'behave', 'Franz', 'Aviation', 'seclusion', 'Antigone', 'chrysanthemums', 'obscures', 'respite', 'obscured', 'Hello', \"Y'all\", 'sub', 'deserved', 'reverberated', 'Aroused', 'encylopedia', 'wrinkles', 'Mallinckrodt', 'scraggly', 'impoundments', 'Oso', 'Winnetka', 'wrinkled', 'diagnosable', 'Rican', 'canning', 'Bunch', 'Shaw', 'terrorists', 'readable', 'into', 'Shay', 'gyros', 'bloodspots', 'controversies', 'contributor', 'Wholesome', 'Shah', 'chirping', 'sightseeing', 'clustering', 'uncertainties', 'Used', 'span', 'harnessed', 'tasting', 'nails', 'sock', 'gases', 'atheists', 'Feds', 'prowling', 'redoubled', 'Sabras', 'Counties', 'considerably', 'Principal', 'Congresswoman', 'Natchez', 'deductions', 'Keynotes', 'carping', 'Contest', 'Resolution', 'considerable', 'intestines', 'charmed', 'positivist', 'inhumane', 'testaments', 'Elegant', 'Astor', 'faded', 'retaliatory', 'Scotchman', 'Magoun', 'squinted', 'deadliest', 'haunt', 'Deactivation', 'globally', 'duration', 'chap', 'diverse', 'Twins', 'palisades', 'chat', 'surveying', 'Sierra', 'unsaturated', 'intrepid', 'puzzling', 'Phillies', 'Hazel', 'uranium', 'Noticing', 'conceptions', 'Senor', 'hove', 'singed', 'Gurion', 'revision', 'depredations', 'Julius', 'gardenia', 'Rutstein', 'Longwood', 'suppression', 'perverse', 'bibliographies', 'bianco', 'slaughtering', 'interfaith', 'lane', 'Devery', 'lana', 'Government', 'thrombosis', 'purged', 'Skipping', 'beverage', 'Stamford', 'normalized', 'modernizing', 'dawning', 'treasuries', 'railbirds', 'splashing', 'Jim', 'cobalt', 'Bolivar', 'Doubt', 'infuriating', 'broader', 'amiss', 'flashback', 'detectives', 'Garson', 'amalgamation', 'unforseen', 'glows', 'Youngest', 'contours', 'expeditious', 'carelessly', 'resources', 'boatload', 'Organ', 'dissents', 'petitions', 'decorating', 'quadrupled', 'minerals', 'championship', 'padded', 'detested', 'Wakes', 'harbor', 'rifling', 'amanuensis', 'whooping', 'Sabbath', 'damning', 'disheveled', 'Winchester', 'Sodium', 'cannibals', 'mishap', 'unprofitable', 'crook', 'Catskills', 'video', 'Wellsley', 'dynamics', 'incorruptibility', 'victor', 'Entrance', 'Campaigne', 'waning', 'sweaty', 'henceforth', 'Wooden', 'turnaround', 'flowing', 'harassing', 'lessons', 'Freedom', 'Dupont', 'Puppies', 'fifteen', 'untidiness', 'sedimentation', 'Trumbull', 'ould', 'unwittingly', 'rehabilitation', 'quaint', 'survey', 'derby', 'thatt', 'makes', 'maker', 'hasps', 'panicked', 'Greenwich', 'Tito', 'Feuchtwanger', 'Pigeon', 'Beronio', 'desiring', 'confidence', 'Presently', 'Sole', 'next', 'eleven', 'Neutral', 'NATO', 'Kauffmann', 'Wedding', 'nonpolitical', 'pencil', 'rich', 'stolidly', 'undeclared', 'Hiawatha', 'Growing', 'housebreakers', 'hampers', 'customer', 'Madam', 'integrating', 'clients', 'Fiedler', 'unknowns', 'retell', 'paints', 'exclaims', 'scatter', 'Offenses', 'awakens', 'painstakingly', 'process', 'professedly', 'billboards', 'rode', 'Cimabue', 'promotional', 'rods', 'bolstered', 'engagingly', 'educational', 'Rosie', 'procurer', 'paled', 'easements', 'procured', 'bilingual', 'hormones', 'burley', 'comedy', 'Friends', 'clasping', 'pales', 'Solutions', 'Nathan', 'chow', 'Red', 'Gospel', 'upstate', 'Marlowe', 'realized', 'manpower', 'lame', 'Results', 'Grosse', 'Oct.', 'realizes', 'pungently', 'presuppose', 'leftfield', 'evolutionary', 'thigh', 'mute', 'volts', 'insight', 'Fitzgerald', 'Committeeman', 'directs', 'perfect', 'byline', 'Scientific', 'Emergency', 'Kodaks', 'Brooks', 'Cabinet', 'meantime', 'thieves', 'stalled', 'Brooke', 'hijackers', 'subparagraph', 'physicians', 'morgen', 'Teleprompter', 'Raoul', 'Register', 'creedal', 'Extensions', 'snake', 'avenues', 'squabbles', 'Works', 'inducing', 'realize', 'autistic', 'ruefully', 'scenic', 'Emmanuel', 'sneezed', 'Harburg', 'Ade', 'shortage', 'reproducing', 'homogeneous', 'Landis', 'suitors', 'Dunes', 'Chehel', 'Anniversary', 'deficiency', 'Dropping', 'Andover', 'Cheng', 'watchdog', 'witness', 'fundamentally', 'Welborn', 'Rio', 'rigging', 'Bassis', 'Dances', 'bicameral', 'frowns', 'unprepared', 'highs', 'Shortly', 'inferiority', 'greedy', 'Expecting', 'disintegrating', 'Passing', 'prayerful', 'mainland', 'Harvard', 'gallons', 'could', 'Plenary', 'Jesus', 'snobbishly', 'length', 'ratification', 'repeats', 'jurists', 'scene', 'soothing', 'Coombs', 'Kubek', 'affliction', 'Backstairs', 'scent', 'Iraj', 'vetoed', 'avert', 'Dunston', 'Maguires', 'Eastern', 'festival', 'unreliability', 'onslaughts', 'cats', 'sergeant', 'lumen', 'Iraq', 'denominators', 'interests', 'enforcement', 'stomach', 'quarry', 'ambiguous', 'devoutly', 'laymen', 'Calcium', 'Xenia', 'yellowing', 'Edition', 'merrily', 'incongruities', 'Hastings', 'Heckman', 'roulette', 'commandant', 'pads', 'chattels', 'identical', 'twos', 'Oldenburg', 'false', 'shrinks', 'chivalrous', 'Bolingbroke', 'Montreux', 'tonight', 'Secret', 'Ledge', 'mustachioed', 'mountainous', 'dishes', 'cloakrooms', 'uncalled', 'dished', 'Invisible', 'worldwide', 'Pierce', 'Adultery', 'manor', 'petals', 'scabrous', 'cipher', 'Pupil', 'jimmied', 'Reserve', 'placement', 'bred', 'thanksgiving', 'consorting', 'undersea', 'brew', 'Tussle', 'woolly', 'Reliance', 'uncommitted', 'Brandel', 'rubric', 'nominally', 'taps', 'Betsey', 'jay', 'jaw', 'quickened', 'jar', 'Curzon', 'terminal', 'entities', 'bombings', 'tape', 'riding', 'jab', 'preliminaries', 'Schlieren', 'Ashmolean', 'undivided', 'teats', 'prohibition', 'Keep', 'molasses', 'sinus', 'wring', 'antagonist', 'monkish', 'Rating', 'determinants', 'comprising', 'taxes', 'solenoid', 'vying', 'unofficially', 'taxed', 'rapped', 'barest', 'strengthened', 'downward', 'pronoun', 'frame', 'elusiveness', 'Pa', 'Larkspur', 'Pe', 'Pi', 'Po', 'airmail', 'Pm', 'Linden', 'Consitutional', 'amass', 'PQ', 'Rheims', 'insulting', 'Yanks', 'nuclear', 'Hindoo', 'thermonuclear', 'membrane', 'Jackman', 'Vastly', 'PM', 'keynote', 'toner', 'transluscent', 'Domesday', 'Kimbolton', 'Courbet', 'authorizing', 'P.', 'staring', 'slitter', 'Istiqlal', 'handstands', 'perfidious', 'bucked', 'Clearwater', 'Circus', 'doorway', 'Ione', 'Cows', 'Musmanno', 'exalting', 'koan', 'conclude', 'carbonyl', 'roughed', 'unreflective', 'Bronx', 'scapulars', 'Moderate', 'undergraduate', 'Meadows', 'torsion', 'mailman', 'decanting', 'genetic', 'willing', 'entitle', 'Modern', 'feather', 'commuter', 'commutes', 'swarmed', 'moved', 'coherence', 'commuted', 'Epiphany', 'hateful', 'swindling', 'Vicky', 'banish', 'sourly', 'Widener', 'reminiscence', 'cutlass', 'attachments', 'chambre', 'Bethlehem', 'country', 'Battle', 'Virginians', 'deductible', 'fielding', 'agonized', 'stuffing', 'Bardell', 'Noces', 'agonizes', 'Adequate', 'Darling', 'impervious', 'ransom', 'ostentatious', 'denial', 'pangs', 'Regular', 'Stanbury', 'planned', 'unimaginable', 'facetiously', 'Monica', 'logic', 'Diplomatic', 'unsympathetic', 'Lauri', 'sunshades', 'Inquirer', 'colts', 'identity', 'Dulles', 'audit', 'off', 'Joking', 'shotgun', 'patterns', 'fearlessly', 'oft', 'Artists', 'barricades', 'audio', 'windowless', 'newest', 'rehash', 'Mother', 'slitters', 'Wingman', 'resuspended', 'clocks', 'floes', 'granulocytic', 'web', 'wee', 'wed', 'moralities', 'wei', 'Tact', 'undulating', 'neoliberal', 'wet', 'applicants', 'villagers', 'Verdi', 'biologists', 'Qualitative', 'archeological', 'stooped', 'falters', 'crux', 'yow', 'capitulation', 'atrophy', 'tick', 'pier', 'pies', 'debatable', 'Virdon', 'Pirates', 'bulge', 'Baldrige', 'truculence', 'DuPont', 'Gino', 'Agents', 'become', 'sourdough', 'breakables', 'Lauritsen', 'actuarial', 'underwent', 'Kidder', 'immortal', 'gymnastics', 'scatters', 'choosing', 'flush', 'hissing', 'Belvidere', 'recognition', 'contested', 'B.C.', 'asthma', 'mementos', 'passion', 'saucepan', 'godhead', 'biology', 'Kikuyu', 'Jaggers', 'pressure', 'Utopia', 'posterity', 'infiltrating', 'imaginary', 'coldly', 'homemaker', 'adverb', 'Judgments', 'debentures', 'grayer', 'triviality', 'overreach', 'Replace', 'blackness', 'curative', 'flair', 'grayed', 'swimming', 'cultivates', 'stator', 'letters', 'miscegenation', 'Somewhere', 'sharpness', 'Greenville', 'Schmalzried', 'cultivated', 'Mood', 'bothers', 'glistened', 'Guimet', 'splintered', 'providential', 'terminates', 'heresy', 'Brassica', 'riflemen', 'indoctrinated', 'boites', 'bagged', 'Sanitation', 'mourned', 'yarns', 'Contract', 'Hoosier', 'Cooke', 'Lifson', 'fragmentation', 'tossed', 'places', 'shaving', 'excitement', 'placed', 'tosses', 'Packards', 'gloated', 'problem', 'Squad', 'Executive', 'nurses', 'costumes', 'hearers', 'disengagement', 'Darwin', 'Nate', 'effected', 'compared', 'Fate', 'nonetheless', 'deadly', 'Somers', 'Critic', 'lately', 'Fats', 'decisional', 'compares', 'details', 'behold', 'Corp.', 'Nineteen', 'illusion', 'rebelled', 'February', 'repeat', 'Trickster', 'Inheriting', 'fairway', 'worker', 'Pablo', 'outlets', 'treelike', 'U', 'seraphim', 'nicest', 'Michaels', 'repeal', 'exposure', 'searches', 'Corps', 'caricaturist', 'Donovan', 'perpendicularly', 'compete', 'villainous', 'searched', 'Philly', 'gardens', 'Deauville', 'clamoring', 'Lippmann', 'magnetic', 'Elegance', 'Interlude', 'nursery', 'Berkshires', 'tenuous', 'integrity', 'onus', 'unanimity', 'periodicals', 'sexualized', 'worth', 'militantly', 'summarizes', 'Dignity', 'amorous', 'Moon', 'perishable', 'replication', 'blustery', 'Musique', 'summarized', 'Military', 'succumbing', 'Tasmania', 'Yearly', 'progression', 'investigator', 'Subsidies', 'compassionately', 'roadblock', 'notifying', 'monologue', 'dishwater', 'Boats', 'Troubled', 'shatteringly', 'machines', 'Salle', 'stardom', 'Avery', 'Whirling', 'Game', 'Judicial', 'Olatunji', 'personifies', 'Photograph', 'Courtrai', 'equals', 'remarried', 'protection', 'personified', 'Marshal', 'obtained', 'qua', 'Nonresidential', 'KKK', 'stressed', 'lonesome', 'postponed', 'Brownell', 'inflicting', 'lavatory', 'archaeological', 'socioeconomic', 'compulsively', 'absolution', 'nonpoisonous', 'devastation', 'inculcation', 'Bellini', 'Seymour', 'nine', 'wintertime', 'coins', 'bundles', 'plod', 'Poughkeepsie', 'spearhead', 'bundled', 'sweated', 'centrifuging', 'exacts', 'separated', 'chlorpromazine', 'plenitude', 'ascribe', 'pokerfaced', 'regrouping', 'sobering', 'Chronicles', 'separates', 'yard', 'adamant', 'Sylphide', 'blocking', 'Svevo', 'err', 'divorcee', 'Julian', 'Steele', 'elicit', 'honeymooners', 'ere', 'era', 'containment', 'elbow', 'dost', 'hinting', 'Abe', 'indicated', 'quivering', 'deadweight', 'relativistic', 'flung', 'Ralph', 'agriculturally', 'impair', 'indicates', 'befuddling', 'Puerto', 'totaled', 'impassive', 'clubbed', 'carriers', 'inhabitants', 'rationed', 'nuts', 'vehicular', 'recovers', 'truthful', 'bebop', 'evolutionists', 'Cryptic', 'arcs', 'chines', 'mortal', 'customs', 'millimeter', 'arch', 'foundering', 'misleads', 'complacent', 'Farrell', 'elusive', 'alienate', 'appreciate', 'purging', 'backwoods', 'matriculated', 'rustlers', 'gumption', \"Master's\", 'undetected', 'ancients', 'slimmer', 'coiling', 'firebreaks', 'priming', 'understates', \"What's\", 'Drew', 'production', 'Orthodontic', 'braced', \"What'd\", 'damages', 'Cherwell', 'coffee', 'typescript', 'choicest', 'jerking', 'safe', 'expressionist', 'Motion', 'Question', 'Beethoven', 'penetration', 'reaches', 'expressionism', 'effluvium', 'lifelong', 'glanders', 'eventualities', 'anion', 'Saunders', 'dingo', 'reasonably', 'routines', 'l', 'dingy', 'reasonable', 'Broadcasters', 'cashmere', 'feeds', 'volcanos', 'statue', 'dumping', 'magnification', 'emeralds', 'apotheosis', 'undereducated', 'maniacs', 'Lully', 'Type', 'inadvertently', 'ruggedly', 'Downtown', 'owning', 'Cereal', 'Meyer', 'occurs', 'disputed', 'barrier', 'colorless', 'qualifications', 'dashing', 'forcibly', 'enlightened', 'certified', 'chortled', 'dammit', 'Ugh', 'Parade', 'maniac', 'refugee', 'raisin', 'flawless', 'renew', 'sprig', 'Reiss', 'footsteps', 'Amendments', 'anaplasmosis', 'render', 'railroads', 'another', 'implicated', 'electronic', 'alcoves', 'illustrate', 'historiography', 'Portia', 'pardonable', 'parting', 'seduction', 'nebular', 'elevator', 'fumble', 'john', 'dogs', 'Kenzo', 'incitements', 'Pike', 'Rare', 'offhand', 'Dodington', 'wastes', 'enmeshed', 'cereal', 'wasted', 'anachronisms', 'chantey', 'guild', 'guile', 'Relation', 'historical', 'acoustics', 'microfossils', 'combustibles', 'Q3', 'Arteries', 'Lendrum', 'sixteenth', 'respecting', 'Lubbock', 'Venable', 'enchanted', 'sportsmen', 'hazelnuts', 'refreshingly', 'impelled', 'DeKalb', 'Oshkosh', 'Q.', 'praising', 'fraternized', 'Victorians', 'convenient', 'stillness', 'subjects', 'thundering', 'pilgrimage', 'enervation', 'Orthodoxy', 'gravy', 'nobody', 'unsurmountable', 'Artist', 'germane', 'Resolving', 'Lucy', 'ramblings', 'Columnist', 'culminates', 'raindrops', 'assessed', 'grave', 'Luck', 'Twelve', 'foamy', 'nostrils', 'Arshinkoff', 'Bordner', 'Shanties', 'cheering', 'swamp', 'bracket', 'aunt', 'That', 'reserve', 'cheery', 'yachters', 'Ridge', 'slightest', 'papillary', 'Slater', 'letterman', 'witnesses', 'haberdashery', 'ellipsoid', 'toured', 'Stravinsky', 'facades', 'discretionary', 'industriously', 'Englishmen', 'cashews', 'misconstruction', 'marketings', 'hairshirt', 'rectangle', 'tracers', 'rotated', 'degradation', 'haunted', 'roundabout', 'vividly', 'Loud', 'egalitarianism', 'runs', 'domesticity', 'runt', 'tartly', 'LaSalle', \"children's\", 'gears', 'rung', 'insurgents', 'Loeser', 'scrubbed', 'secretary', 'smoldered', 'Jackson', 'Caracas', 'turmoil', 'dustbin', 'Atwells', 'gladness', 'AEC', 'electrostatic', 'torrents', 'discussions', 'Tatras', 'lacerate', 'optimum', 'techniques', 'diffidence', 'draws', 'pasted', 'away', 'Fifteenth', 'divination', 'Repeated', 'bracing', 'amusingly', 'cooperation', 'drawn', 'Philosophic', 'encounters', 'shields', 'pastes', 'handful', 'Shapes', 'flashes', 'Weird', 'kitchen', 'climate', 'psychologists', 'Sutherland', 'astringency', 'Bring', 'Mich.', 'Eighteen', 'Dawn', 'disappears', 'householder', 'Telemann', 'tone', 'Katangan', 'haltingly', 'engulfs', 'nonconformist', 'condescending', 'anticipatory', 'tons', 'Ireland', 'infirm', 'companionway', 'gratitude', 'Kerry', \"I've\", 'noes', 'Heinzes', 'Dedication', 'Surely', 'oleanders', 'Raphaels', 'lockup', 'hospitalization', 'plebeian', 'attacked', 'excite', 'hacksaw', 'madhouse', 'psychically', 'attacker', 'idolatry', 'imbroglio', 'Casbah', 'clairvoyant', 'Rufus', 'gracious', 'Horstman', 'reciprocal', 'hat', 'Sokolov', 'Hoot', 'Hook', 'rattlers', 'Emanuel', 'thrash', 'endpoints', 'tellers', 'Hood', 'cylinder', 'cons', 'beetles', 'marksmanship', 'Athens', 'tissue', 'cone', 'Convention', 'spectrometric', 'Rafer', 'Athena', 'canvases', 'Stop', 'indecipherable', 'Ill.', 'agreeableness', 'addressees', 'Smug', 'disciplining', 'wheel', 'tangency', 'unready', 'hang', 'counterparts', 'hand', 'liberties', 'fuse', 'Machiavelli', 'rasping', 'Salvation', 'camping', 'whereby', 'humble', 'Gresham', 'client', 'Subcommittee', 'humbly', 'sullenly', 'Portland', 'wops', 'pronouncements', 'Doubtless', 'unharmonious', 'traditions', 'Cambodia', 'Enquirer', 'Ballistic', 'thanks', 'ol', 'taxied', 'brackets', 'beautifying', 'volumetric', 'Muscovy', 'Taxing', 'similarities', 'Eighty', 'shout', 'cognac', 'cowhand', 'joss', 'righteous', 'Molesworth', 'usable', 'insensitive', 'Restaurant', 'pizzicato', 'portents', 'Jansen', 'designers', 'unmolested', 'Wing', 'Wind', 'Wine', 'eroded', 'rustle', 'Fresno', 'cooler', 'Certain', 'temporally', 'luminous', 'sawmill', 'sparse', 'night', 'fluoride', 'cooled', 'Arrack', 'taffy', 'flatter', 'Steamboat', 'caliper', 'Ewe', 'Papanicolaou', 'Commission', 'Grapefruit', 'flatten', 'bore', 'contaminating', 'glamorize', 'ungracious', 'congratulate', 'matriculate', 'Booby', 'asking', 'melange', 'cortical', 'adorable', 'participation', 'Gray', 'peel', 'Medicale', 'Gras', 'Neal', 'peed', 'Mementoes', 'ratable', 'Gram', 'architectural', 'substitution', 'peer', 'Grab', 'Mailing', 'Maser', 'gentler', 'Hackettstown', 'Arata', 'Priory', 'thermostat', 'synagogues', 'wasting', 'sparing', 'profession', 'beneficial', 'rendering', 'Schnabel', 'Negroid', 'stumble', 'deception', 'connote', 'globulins', 'sovereign', 'sternal', 'Cherkasov', 'Regency', 'conservation', 'wrongdoing', 'Presley', 'discordantly', 'gaseous', 'garaged', 'diligence', 'garages', 'observances', 'needles', 'catalyst', 'boon', 'sailboats', 'Greville', 'Distinguished', 'reproductive', 'captive', 'ancestral', 'maximum', 'apostles', 'coverings', 'Reducing', 'prayed', 'guesses', 'aorta', 'request', 'Manners', 'postscript', 'Cabot', 'guessed', 'expertise', 'prepackaged', 'prayer', 'Hillsboro', 'Maximizing', 'Kabalevsky', 'senatorial', 'Falls', 'hoarseness', 'evasive', 'heterozygous', 'dynasties', \"o'clock\", 'mulling', 'Wilmington', 'Behan', 'improvisation', \"let's\", 'Trial', 'authoritarianism', 'heptachlor', 'Harpers', 'faze', 'bottom', 'beds', 'Jess', 'Bertha', 'banquets', 'Chicken', 'songs', 'tribunals', 'concept', 'incisiveness', 'Mathias', 'Clifford', 'horseback', 'supplement', 'synapses', 'battle', 'p.m.', 'Memoir', 'tenable', 'interlaced', 'layers', 'soothed', 'varnish', 'drunkards', 'visualizes', 'Buri', 'Burt', 'aristocratic', 'Delphine', 'dissatisfied', 'Burr', 'Bury', 'puppyish', 'appliques', 'Princes', 'Roles', 'automobiles', 'Elaine', 'Artistic', 'Cyrus', 'unformed', 'visualized', 'evaded', 'flammable', 'Mineralogy', 'turns', 'gun', 'gum', 'Mateo', 'Episcopal', 'Mater', 'evades', 'gut', 'guy', 'jurisdictional', 'turne', 'detonated', 'Remy', 'Arcilla', 'agitate', 'cost', 'forging', 'Instant', 'Height', 'demurrer', 'OK.', 'Form', 'heaviness', 'foregoing', 'shares', 'Ford', 'peels', 'ecumenist', 'shared', 'oaks', 'Representing', 'cynically', 'alertness', 'Fort', 'housebroken', 'efficacious', 'handyman', 'Corroborating', 'lustrous', 'sojourners', 'English', \"hadn't\", 'Distribution', 'sieve', 'teaches', 'teacher', 'sociable', 'sending', 'Juvenile', 'Portugal', 'filched', 'generator', 'Percy', 'burdensome', 'bangs', 'Quakers', 'scenario', 'domains', 'reagents', 'Lizzy', 'pillow', 'ineffectiveness', 'plotted', 'lighthouses', 'regardless', 'extra', 'sextet', 'uphill', 'filaments', 'puffed', 'memorable', 'Isaac', 'quenching', 'Customers', 'caskets', 'Dies', 'Diet', 'centrality', 'coalesce', 'wonderfully', 'officiating', 'Diem', 'symbolized', 'intently', 'rainfall', 'Watchers', 'Anabaptist', 'cluck', 'Require', 'Westbrook', 'Quotations', 'extracting', 'decked', 'defeats', 'fortified', 'ensues', 'purge', 'Johann', 'syntactically', 'woefully', 'Throughout', 'Sweeneys', 'Behold', 'Homer', 'Livermore', 'Ernie', 'chip', \"didn't\", \"bird's\", 'chin', 'anteater', 'chic', 'occur', 'squabbling', 'varnishes', 'dialysis', 'discussion', 'spreads', 'giveaways', 'switchgear', 'takings', 'unrealistically', 'etymological', 'ROTC', 'strays', 'retorted', 'economy', 'armies', 'product', 'sedately', 'peerless', 'dampened', 'Elaborate', 'songbook', 'ornery', 'disgusted', 'produce', 'Martin', 'mediumship', 'drastic', 'Model', 'Spiller', 'epaulets', 'Shih', 'Kornbluth', 'noses', 'wanderings', 'corona', 'beehive', 'Radio', 'Radic', 'Ship', 'conquests', 'Sheep', 'Sheer', 'serving', 'nonpayment', 'freckles', 'Fed', 'Tanin', 'Jan', 'brain', 'Boulevard', 'disparities', 'pocketful', 'Jai', 'still', 'Rh', 'freckled', 'sod', 'Dolan', 'incendiaries', 'resettling', 'supernaturalism', 'RA', 'atonement', 'factual', 'correspondence', 'non', 'Modigliani', 'nod', 'Faber', 'introduce', 'slacks', 'wealthy', 'not', 'R.', 'now', 'galloping', 'nos', 'layering', 'inversion', 'Witt', 'sop', 'Skip', 'drop', 'beings', 'cannibalistic', 'Dreams', 'Agricultural', 'Skid', 'unloaded', 'raises', 'seamanship', 'Additive', 'policed', 'challenged', 'Museum', 'stooping', 'spittle', 'yeah', 'Legal', 'challenges', 'challenger', 'year', 'Expected', 'hymns', 'Thru', 'monitors', 'Compagnie', 'bullish', 'parceled', 'furthermore', 'Vasa', 'deltoid', 'thirst', 'Norwegian', 'Ephesus', 'wholeheartedly', 'unappreciated', 'Secesh', 'Vast', 'philharmonic', 'Iijima', 'divergence', 'abjectly', 'diagnostic', 'Yen', 'advantages', 'repayable', 'Constitutions', 'contemplation', 'Travelers', 'municipally', 'transition', 'unsung', 'tangled', 'Erik', 'invitation', 'thankfulness', 'protuberance', 'outcry', 'Erie', 'Eric', 'blind', 'Sprague', 'Stainless', 'Simmel', 'flipping', 'blink', 'Till', 'Simmer', 'pliant', 'gasp', 'Medicine', 'ring', 'tame', 'tomorrow', 'test', 'caught', 'remotely', 'Lieutenant', 'Zadel', 'scholastically', 'Analyses', 'Response', 'authorized', 'larks', 'showdown', 'asymmetric', 'brains', 'appreciates', 'polyphosphates', 'Jail', 'Sovietskaya', 'appreciated', 'professionals', 'Creator', 'Seventies', 'intensity', 'discernment', 'aerials', 'vocals', 'launching', 'impinge', 'extinguish', 'Settlement', 'Ekberg', 'profuse', 'shrimp', 'Saigon', 'Cappy', 'Marcos', 'dynamically', 'bugs', 'Winnipeg', 'Danville', 'Numeral', 'Faulkner', 'Israelite', 'Commune', 'colonels', 'Delegates', 'Wimsatt', 'Broun', 'snout', 'equipment', 'Refuses', 'polygynous', 'Off', 'scaring', 'Unlike', 'manmade', 'neatly', 'Kauffeld', 'importantly', 'precedents', 'saintliness', 'attempting', 'implications', 'unconquerable', 'chauffeured', 'lacey', 'Cossack', 'Aggies', 'Wee', 'scoreboard', 'hairpin', 'discovered', 'canons', 'teamed', 'Wet', 'Nineteenth', 'Sharing', 'Worse', 'stair', 'Jeepers', 'embittered', 'staid', 'Nijinsky', 'Discreet', 'Worst', 'Dunlop', 'stain', 'otter', 'shrill', 'pumpkin', 'Luther', 'rhinos', 'Adaptations', 'paneled', 'invariant', 'Nippur', 'argumentation', 'Denmark', 'masquerading', 'irritant', 'reprints', 'ambling', 'carloads', 'inside', 'burst', 'incarcerated', 'committed', 'anchored', 'Benzedrine', 'actively', 'charcoaled', 'recalcitrant', 'hoes', 'Tolerance', 'reproduced', 'suspects', 'lexical', 'glaze', 'rollicking', 'Renoir', 'altercation', 'Members', 'import', 'cardiovascular', 'therapies', 'intonations', 'Wert', 'punches', 'Lieberman', 'exhortations', 'smashed', 'Team', 'broil', 'Konishi', 'duces', 'resides', 'Adoniram', 'Manderscheid', 'resided', 'downtrodden', 'Altenburg', 'madness', 'sulky', 'pestilent', 'inspecting', 'foreboding', 'jeans', 'inexplicable', 'sulks', 'exploit', 'Interested', 'biographer', 'Principals', 'Entirely', 'sledding', 'amino', 'muttered', 'Pain', 'lioness', 'Paid', 'tropical', 'Paix', 'Floyd', 'dictator', 'Doctors', 'Goodby', 'Trooper', 'disclosed', 'aggressions', 'fours', 'Purification', 'commenting', 'vagueness', 'suspected', 'baying', 'Stimulating', 'Night', 'freebooters', 'Sportsman', 'offbeat', 'blinkers', 'Performed', 'Edgewater', 'Moody', 'implacable', 'GNP', 'misanthrope', 'tilling', 'Medmenham', 'mucus', 'Better', 'stewardess', 'raptures', 'beaver', 'waterway', 'Israel', 'develop', 'inquire', 'pester', 'quagmire', 'inquiry', 'hens', \"They're\", 'Amado', 'Publicly', 'squatted', 'meteorological', 'foam', 'rodder', 'Wragge', 'Anabaptists', 'unasked', 'Peruvian', 'Caverns', 'Track', 'congressmen', 'alleviate', 'uninjured', 'taxi', 'livestock', 'Service', 'typhus', 'neon', 'sweeping', 'Pump', 'growled', 'greetings', 'Syllables', 'Might', 'cliffhanging', 'renewed', 'preponderantly', 'Spot', 'verse', 'felicities', 'versa', 'halftime', 'disproportionate', 'swim', 'propped', 'psi', 'laundering', 'stunk', 'Herter', 'Starts', 'stung', 'Oersted', 'gonna', 'dialectics', 'earnest', 'Plainview', 'using', 'Hatred', 'Bench', 'fortune', 'heightened', 'Regulars', 'Soybeans', 'unrequited', 'conducts', 'Greyhound', 'Preferably', 'annually', 'yearnings', 'beguiled', 'blackberry', 'fully', 'output', 'insured', 'twelve', 'falsehood', 'verbal', 'exposed', 'tragedies', 'cathode', 'envoys', 'Walnut', 'nucleic', 'zealously', 'slurries', 'E', 'hemorrhage', 'Udall', 'capability', 'realest', 'primary', 'unlocked', 'Earlier', 'Pompey', 'Ion', 'Minerals', 'fractures', 'Enlargement', 'assembly', 'indestructible', 'carefulness', 'fractured', 'assemble', 'sadder', 'creaking', 'casuals', 'piety', 'nonliterary', 'ideology', 'Scapin', 'Blaine', 'conceals', 'antibody', 'freeing', 'outlook', 'protease', 'Jeopardize', 'officially', 'Pavletich', 'shrinking', 'savored', 'stare', 'qualifying', 'stark', 'suppositions', 'start', 'Budzyn', 'Dryer', 'stars', 'politeness', 'devoting', 'allergic', 'thirteenth', 'withstands', 'smuggling', 'pitcher', 'pitches', 'philosophers', 'intermissions', 'recoil', 'recouped', 'omelet', 'pervasively', 'machinelike', 'pitched', 'Original', 'wholes', 'fraud', 'illustrator', 'improved', 'embedded', 'default', 'biscuit', 'Marston', 'loneliness', 'Lightweight', 'Awake', 'Granite', 'Ferdinand', 'Judas', 'Idol', 'Niven', 'Lante', 'inactivation', 'Finnegan', 'appraising', 'housework', 'terminating', 'Purpose', 'instantly', 'evildoers', 'forcing', 'poor', 'taunted', 'ineligible', 'diaries', 'endeavors', 'whistling', 'vp', 'registry', 'Entry', 'pool', 'titillating', 'insertions', 'Boissoneault', 'moonlight', 'prying', 'townsmen', 'overseas', 'misnomer', 'Letting', 'semantic', 'Compression', 'ceases', 'month', 'pique', 'thoughtful', 'Take', 'bulb', 'religious', 'osteoporosis', 'bookers', 'corps', 'cliff', 'Renaissance', 'pledged', 'insulate', 'sustain', 'pledges', 'resounding', 'horror', 'nullified', 'decide', 'anarchical', 'pasture', 'ceaseless', 'disrepute', 'random', 'throbbing', 'locomotive', 'Boatyards', 'ass', 'lulls', 'nullity', 'pinholes', 'streets', 'orgasm', 'enjoin', 'Gaetan', 'hamper', 'chuckle', 'inert', 'Korea', 'cues', 'investing', 'Tombigbee', 'lurch', 'scallops', 'learned', 'Bartholf', 'ferocious', 'longshoremen', 'tracks', 'uneven', 'dune', 'Shortage', 'marring', 'arena', 'conviction', 'outgrowth', 'inspired', 'losses', 'base', 'advertising', 'sealing', 'Intermarriage', 'Joan', 'inspires', 'Castaneda', 'marginal', 'ask', 'S.', 'seventeenth', 'Palladio', 'conventional', 'revelation', 'Chenoweth', 'Butlers', 'almost', 'epicenter', 'Connor', 'Backyard', 'Houk', 'lowering', 'conformational', 'Limits', 'quickening', 'Sp', 'outpatient', 'Si', 'So', 'deigned', 'producing', 'recreates', 'Se', 'grill', 'atavistic', 'Afterwards', 'SS', 'SR', 'Blumberg', 'SW', 'Martian', 'budgets', 'Publick', 'SE', 'SD', 'persists', 'cubist', 'IBM', 'Finberg', 'phosphor', 'Cellist', 'phrase', 'Bitter', 'Opening', 'utilize', 'surpassed', 'unlucky', 'individualistic', 'Bevo', 'Fall', 'vigilance', 'skirmishers', 'tumbled', 'Television', 'Microorganisms', 'copiously', 'communicating', 'Boehmer', 'scouts', 'maladjustments', 'purring', 'productivity', 'horizontal', 'misnamed', 'compulsory', 'Flies', 'criticize', 'Mexico', 'anytime', 'roommates', 'affirmations', 'testimonials', 'eulogize', 'miso', 'remnants', 'Publication', 'Levittown', 'Definite', 'charities', 'thermal', 'Atlas', 'clarinet', 'Confederacy', 'wishful', 'miter', 'absence', 'prowled', 'systems', 'differed', 'rabble', 'collosal', \"haven't\", 'misalignment', 'evening', 'Intergroup', 'Classicist', 'slighter', 'musket', 'tumbles', 'petted', 'electives', 'nymphs', 'patronize', 'permissible', 'stateroom', 'inflecting', 'impressionists', 'infer', 'fairs', 'disdaining', 'McNaughton', 'radial', 'fairy', 'obligated', 'heavy', 'thrombi', 'transcribe', 'Stockhausen', 'jaws', 'exasperated', 'Gentleman', 'ballistics', 'punitive', 'Guillaume', 'absurdity', 'anarchy', 'unsurpassed', 'Farina', 'wedlock', 'miss', 'testify', 'jolly', 'equate', 'safety', '7', 'Prevents', 'mittens', 'Serpentine', 'Town', 'None', 'earns', 'housed', 'favored', 'Staged', 'houses', 'perturbation', 'unsightly', 'brightest', 'dud', 'straightened', 'hapless', 'Blend', 'loads', 'Fantastic', 'unresolved', 'Boston', 'uncertainly', 'Brod', 'apocalypse', 'Reflections', 'merry', 'Samba', 'Tatler', 'Hawksworth', 'E.T.', 'Mennonites', 'malfeasant', 'incubated', 'warty', 'effortless', 'warts', 'equating', 'horse', 'Lipchitz', 'blossom', 'Grenville', 'Youngsters', 'transcendent', 'seafaring', 'trails', 'Emancipation', 'hundred', 'merciless', 'trapped', 'Molotov', 'trapper', 'boredom', 'consonant', 'tapestries', 'classifiers', 'Initiating', 'gret', 'assaulted', 'skillfulness', 'imperiled', 'miseries', 'Dreamboat', 'gnawed', 'shoestrings', 'Senate', 'promulgating', 'garrison', 'Cecil', 'procedural', 'mooed', 'Traditionally', 'readapting', 'contraception', 'footnote', 'tearfully', 'anaconda', 'committment', 'randomly', 'Pena', 'Penn', 'blissful', 'null', 'organs', \"God's\", 'boorish', 'Prick', 'Lateiner', 'Price', 'itemized', 'Graduates', 'Swinburne', 'Langsdorf', 'Lightfoot', 'aired', 'caliber', 'hires', 'Anthropologists', 'Chief', 'hired', 'starboard', 'unbeknownst', 'Chien', 'Satis', 'Schweitzer', 'wreckage', 'ballyhoo', 'sturdy', 'arising', 'bedfast', 'asters', 'tongs', 'divestiture', 'electrons', 'velocity', 'unwed', 'tubes', 'naively', 'Viewed', 'stalked', 'Pythagoreans', 'hovered', 'Favour', 'beatniks', 'Johannesburg', 'inventing', 'velvety', 'ringers', 'heavens', 'Parkway', 'distressing', 'predilections', 'Prednisone', 'justice', 'French', 'vomica', 'Caravaggio', 'FITC', 'grocery', 'strut', 'Intercollegiate', 'Tillotson', 'feels', 'Eaton', 'pretending', 'competing', 'boils', 'imitating', 'exoneration', 'unburned', 'fluff', 'Nev.', 'Auntie', 'celebrates', 'Confucian', 'retaliation', 'stored', 'irresolvable', 'doctrinaire', 'Franck', 'howled', 'Rochester', 'Franco', 'locale', 'Bridgewater', 'Laramie', 'France', 'culture', 'Gibbs', 'Schillinger', 'Mama', 'portrait', 'Poised', 'Mame', 'counterchallenge', 'pictures', 'terrified', 'tolls', 'Realty', 'intensities', 'Brass', 'pictured', 'Serafin', 'Staiger', 'Gill', 'stagnation', 'Bessarabia', 'missing', 'disintegrative', 'zipped', 'Redundant', 'spray', 'ranked', 'Tuskegee', 'fluently', 'zipper', 'kneeled', 'league', 'collaborators', 'Consciousness', 'memorized', \"wouldn't\", 'minorities', 'Steve', 'forgotten', 'vault', 'experimental', 'mausoleum', 'Admirably', 'expendable', 'deciding', 'waterside', 'solvency', 'proton', 'jure', 'unfolded', 'Sullam', 'Lookout', 'sailboat', 'Bethel', 'irresponsibility', 'wifely', 'Protection', 'threaten', 'blunter', 'instructing', 'empty', 'lived', 'Ballard', 'enroll', 'Flashed', 'N', 'Switch', 'Broadcasting', 'lives', 'Donna', 'Pick', 'Thruston', 'Sumner', 'emperors', 'furrow', 'pact', 'intriguing', 'practicality', 'substantiates', 'pace', 'Incest', 'Supplement', 'confederacy', 'flailed', 'guide', 'sombre', 'pack', 'smacked', 'costly', 'Photographer', 'embroidered', 'Pulaski', 'sluice', 'Eagles', 'communal', 'Esther', 'grant', 'Luke', 'makeshift', 'Extraordinary', 'vulnerable', 'grand', 'irregulars', 'Phyllis', 'impious', 'Faith', 'classmates', 'fatty', 'lie', 'banter', 'youngsters', 'Seated', 'soberly', 'Doaty', 'calcification', 'vitriol', 'sniggered', 'Rhenish', 'consistence', 'obviously', 'overgrazing', 'influx', 'consistency', 'mobs', 'speculative', 'romanticize', 'Living', 'exploits', 'bearer', 'shivering', 'settlements', 'technicians', 'reviewed', 'devastatingly', 'Release', 'Tyler', 'Reconstruction', 'reviewer', 'questioner', 'informal', 'shortcut', 'representational', 'cherries', 'questioned', 'Commodore', 'Berkeley', 'operators', 'Visigoths', 'Graphic', 'nymphomaniacs', 'capacities', 'Forked', 'Madeleine', 'preparatory', 'ponds', 'vests', 'excluding', 'envisioned', 'oncoming', 'Auxiliaries', 'eel', 'Systemic', 'popular', 'softness', 'Crip', 'adulterous', 'Cris', 'premium', 'sketch', 'Rickettsia', 'Dancing', 'radicalism', 'yolk', 'lips', 'Kennan', 'admitted', 'Laos', 'Jesuits', 'callousness', 'Difficult', 'AMA', 'spouting', 'Preparations', 'intramuscularly', 'simmer', 'Sainted', 'Protestant', 'anecdotes', 'benefactor', 'opposes', 'equipotent', 'multivalent', 'assists', 'viewpoints', 'Homeric', 'Swallow', 'smothered', 'Taylor', 'ghosted', 'turret', 'lyophilized', 'Looks', 'mentalities', 'silence', 'Looky', 'tofu', 'unimpaired', 'Teamsters', 'Discovering', 'presupposes', 'Gershwin', 'Boulder', 'Evangelicalism', 'Norman', 'Normal', 'placing', 'Kitty', 'Economically', 'Nadine', 'Kitti', 'withholding', 'Tonal', 'janitors', 'Tosca', 'tragically', 'Howe', 'injection', 'probate', 'Pinsk', 'Howl', 'livability', 'Woodward', 'vacancies', 'limpid', 'purloined', 'politic', 'preparative', 'Those', 'crudities', 'similar', 'hesitantly', 'Wylie', 'ordered', 'Lauder', 'metalsmiths', 'Blackmer', 'cleat', 'accessibility', 'reopening', 'To', 'Edward', 'Avis', 'Ti', 'recalculated', 'surmise', 'ancestors', 'amounts', 'creeper', 'fears', 'application', 'Wash.', 'department', 'inglorious', 'absentia', 'dashes', 'Customer', 'smiles', 'venerable', 'nonspecific', 'Stanford', 'Vicolo', 'Sentry', 'Wesker', 'assimilation', 'T.', 'assayed', 'graphically', 'smiled', 'Minutemen', 'earphones', 'shrub', 'correlated', 'e', 'syntactical', 'complicating', 'navy', 'turbines', 'orbit', 'Corrette', 'bribe', 'ignorant', 'underrated', 'imprecise', 'giggles', 'Bengal', 'hypothyroidism', 'Clasping', 'Mortality', 'compact', 'Biddle', 'Non', 'appraisers', 'stunned', 'Nod', 'Norris', 'Nob', 'Not', 'Sulphur', 'Now', 'friendly', 'Nor', 'unabridged', 'Penrose', 'acreage', 'felicity', 'Telephones', 'rattling', 'telling', 'yourselves', 'nausea', 'Charlotte', 'No.', 'Hewett', 'flounders', 'positions', 'compassionate', 'booze', 'queen', 'Yiddish', 'sedentary', 'enforce', 'Index', 'facilitating', 'Laughlin', 'Antietam', 'oscillator', 'Cameras', 'thinly', 'jump', 'Camera', 'parimutuels', 'go', 'sultans', 'notwithstanding', 'Raton', 'Gris', 'Disadvantages', 'pitilessly', 'conning', 'maladaptive', 'Laotian', 'Publisher', 'Locked', 'freest', 'upsetting', 'Blanched', 'kidnapper', 'fifteenth', 'Popes', 'Hershel', 'Published', 'enterprising', 'kidnapped', 'Skipjack', 'convert', 'Palace', 'Back', 'Bach', 'Newsweek', 'stubbornness', 'avaricious', 'Greenleaf', 'Soapy', 'salvation', 'patents', 'frictional', 'hilltops', 'Blake', 'foresee', 'adroitness', 'Doctor', 'Assistance', 'manage', 'buildup', 'infest', 'handfuls', 'necking', 'biophysical', 'enterprisingly', 'Fields', 'Discontinue', 'Disputes', 'devotedly', 'historically', 'surveyed', 'compatriot', 'formally', 'beauteous', 'Mandate', 'visibility', 'charming', 'Kirkwood', 'appointee', 'appointed', 'socket', 'blithely', 'meek', 'lapse', 'averaged', 'subrogation', 'ensconced', 'recession', 'transmitted', 'Symphony', 'Birmingham', 'servants', 'fiefdom', 'juke', 'averages', 'certainty', 'Israeli', 'links', 'Mr.', 'inviolate', 'intuitions', 'Lovely', 'Merchant', 'Lascivious', 'embodiment', 'defective', 'picturesque', 'meanwhile', 'sentiments', 'Reservation', 'instinctively', 'Hume', 'filament', 'embellished', 'fare', 'Assisting', 'Baubles', 'ultrasonically', 'farm', 'peeling', 'faro', 'Mrs', 'aborigines', 'Roman', 'fouled', 'aliquots', 'Guardino', 'Alloy', 'Wheeling', 'alibis', 'bloodstream', 'Crystal', 'computations', 'Nyberg', 'scoop', 'Guard', 'Arrangements', 'encyclopedia', 'desensitized', 'encyclopedic', 'Resisting', 'Baltimorean', 'Eq.', 'including', 'costume', 'interceptor', 'Favre', 'RAF', 'Multiple', 'equanimity', 'thence', 'temporal', \"Who's\", 'Reuther', 'walnut', 'gymnasts', 'Multiply', 'popularly', 'Labouisse', 'Knauer', 'articulation', 'frontal', 'reservoir', 'functional', 'Ervin', 'subtraction', 'stout', 'Hettie', 'Venus', 'sinfulness', 'unnaturalness', 'university', 'Montpelier', 'Bellman', 'slide', 'Pesce', 'prevailing', 'ankles', 'Statistics', 'interdependence', 'Bertrand', 'pursuits', 'constitute', 'investigative', 'Oils', 'separating', 'Breeding', 'transitions', 'Wick', 'special', 'maximizes', 'littered', 'armor', 'terming', 'maximized', 'gloves', 'teetotaler', 'obsessive', 'Anderlini', 'stews', 'hopscotch', 'galaxies', 'delegates', 'bleaching', 'darkly', 'hobbled', 'Corrections', 'ridge', 'delegated', 'evidential', 'Prevost', 'Drawing', 'resumed', 'determining', 'Owen', 'times', 'confrontations', 'projectile', 'timed', 'Recklessly', 'Satan', 'powerful', 'cramp', 'unsupported', 'Fete', 'bitch', 'Snelling', 'Theoretical', \"you're\", 'Shann', 'Newtonian', 'Fran', 'tinkering', 'Tshombe', 'wrapper', 'Dunkel', 'gainful', 'ankle', 'Therapy', 'fairest', 'Volney', 'crackle', 'innovate', 'biggest', 'chemicals', 'golfers', 'secco', 'objectification', 'newlywed', 'Geary', 'catered', 'characterizations', 'girdle', 'Needless', 'Orange', 'submitted', 'Auburn', 'succinctly', 'Zing', 'Zinc', 'Oval', 'insignificance', 'Absolution', 'enforced', 'Abilene', 'Flying', 'horrors', 'Other', 'enforces', 'Interview', 'Editions', 'metaphysics', 'bastard', 'Solemnly', 'Bastianini', 'battles', 'Schuman', 'grounding', 'Morgenthau', 'blades', 'plowshares', 'duels', 'vengeance', 'counterbalance', 'regi', 'intrinsic', 'gallery', 'patties', 'calving', 'subtracted', 'knockdown', 'pulled', 'urn', 'repeated', 'Fellow', 'astonishing', 'predispositions', 'Brains', 'north', 'Centredale', 'Anthea', 'redheads', 'pompously', 'seclude', 'telepathically', 'Belzec', 'ridiculously', 'halting', 'Randy', 'beatific', 'Bonenfant', 'obsequious', 'lowlands', 'unfinished', 'sheriff', 'Hough', 'MacPhail', 'Waterways', 'grocer', 'tracings', 'won', 'patristic', 'Newtown', 'cameos', 'inherited', 'Lumia', 'achieve', 'Marquis', 'indentations', 'exaltation', 'alabaster', 'Guizot', 'assistants', 'starred', 'dwellings', 'Forget', 'tobacco', 'imperious', 'expansions', 'yearn', 'Allegro', 'coaxed', 'Palisades', 'tunes', 'Austrian', 'slimed', 'embryonic', 'widow', 'Rainy', 'multiplying', 'heatedly', 'shrouded', 'Estep', 'immigrant', 'Stolzenbach', 'officials', 'reinforcements', 'raiser', 'operated', 'Sent', 'Leopoldville', 'Softener', 'Wisconsin', 'humilation', 'illusory', 'Alabamas', 'Amp', 'tend', 'unshaven', 'dialectically', 'tens', 'unshaved', 'tent', 'ken', 'determinative', 'constituted', 'keg', 'hurrying', 'Gauguin', 'avid', 'interfere', 'Hooray', 'kicking', 'key', 'poorer', 'unfired', 'Juras', 'Remarque', 'questionaire', 'hits', 'sniff', 'limits', 'Arlene', 'Formosan', 'strains', 'bellboy', 'Quebec', 'refraction', 'estimation', 'diplomats', 'paranormal', 'erased', 'accomplishing', 'thanked', 'Leukemia', 'glommed', 'outlaws', 'immense', 'liberals', 'eraser', 'whisper', 'troopers', 'battlements', 'controlled', 'retrospective', 'Surgeons', 'scrumptious', 'replenishment', 'Wellington', 'guerrillas', 'Courses', 'controller', 'Whitrow', 'abortions', 'smoking', 'reclassified', 'Consequently', 'troubled', 'Gardening', 'Weekly', 'Bricks', 'Belasco', 'Kamchatka', 'Fisk', 'Kneeling', 'piloting', 'comets', 'examines', 'examiner', 'apron', 'Baccarat', 'Asilomar', 'surface', 'harassed', 'examined', 'Pretty', 'cometh', 'Ashman', 'bazaars', 'shotshells', 'proceeds', 'Bangkok', 'tweezed', 'Congressmen', 'parts', 'speaker', 'thermometers', 'party', 'Types', 'impeccably', 'proscribe', 'Failing', 'abounds', 'quarrels', 'Curie', 'Curia', 'Hallelujah', 'refashion', 'impeccable', 'steals', 'destruction', 'rift', 'scarcely', 'Macaulay', 'MacReady', 'banking', 'Evelyn', 'placating', 'anemic', 'murmuring', 'insurmountable', 'Durkin', 'Shops', 'drowns', 'Threshold', 'coronaries', 'Mencius', 'reinvigoration', 'wrestle', 'advertises', 'Flower', 'discord', 'increasingly', 'Ultimately', 'detail', 'distant', 'oxcart', 'advertised', 'parchment', 'femme', 'gamut', 'density', 'O.K.', 'restaurateur', 'Dorsey', 'morgue', 'Dorset', 'balloons', 'indignation', 'Exposure', 'canter', 'pursuer', 'disappearance', 'propelled', 'Herrmann', 'Limit', 'Nelson', 'overpopulation', 'propeller', 'intersection', 'loss', 'teahouse', 'necessary', 'Aug.', 'Manuscript', 'header', 'Merely', 'gangsters', 'tipple', 'homogeneously', 'Jasper', 'Victim', 'lose', 'Schrunk', 'trucked', 'Garryowen', 'glare', 'Thunder', 'Avoid', 'library', 'U.', 'trucker', 'home', 'EEG', 'Interlocking', 'solving', 'Tchaikovsky', 'moderates', 'Geely', 'overlay', 'steaming', 'broad', 'objected', 'overlap', 'seaquake', 'cradle', 'inflammation', 'adventuring', 'sweepstakes', 'Strang', 'demonstrated', 'limitations', 'reaching', 'Straight', 'Official', 'Up', 'Us', 'Um', 'Uh', 'Archaeology', 'refuge', 'science', 'Euratom', 'unhinged', 'Mental', 'anchorage', 'Boadicea', 'US', 'nightclub', 'Jorda', 'UN', 'myeloid', 'UK', 'Garibaldi', 'contending', 'booboo', 'previously', 'Quickly', 'cocoa', 'Internal', 'restatement', 'pointless', 'cyclorama', 'additional', 'lagged', 'Stripes', 'Valois', 'Colorama', 'Directions', 'growths', 'Adelos', 'Moss', 'Waldo', 'recorder', 'rioted', 'triangular', 'fountains', 'gait', 'Chamber', 'strawberries', 'oxygens', 'gain', 'Rauschenbusch', 'sprinkling', 'ordinances', 'squirms', 'minutely', 'Pagnol', 'metronome', 'derelicts', 'Cheyennes', 'Twist', 'delights', 'Einstein', 'display', 'urging', 'sponsor', 'diligently', 'marketplace', 'Invictus', 'universal', 'kisses', 'compromises', 'beats', 'Doors', 'kissed', 'Especially', 'functions', 'Geneva', 'tyme', 'Jr.', 'Never', 'propositioned', 'presaged', 'Delivery', 'Neveh', 'publicists', 'blunders', 'star', 'Congregationalism', 'exothermic', 'traditionalist', 'Hyndman', 'stay', 'stag', 'foil', 'backstage', 'additionally', 'doggedly', 'Congregationalist', 'phosphorus', 'shuns', 'asocial', 'shunt', 'amp', 'Neilson', 'Fourteenth', 'indirectly', 'eclipsing', 'aided', 'Soak', 'Frontier', 'circumlocution', 'knelt', 'elegy', 'perverted', 'aides', 'Bailey', 'Leggett', 'Supports', 'Soap', 'buddy', 'auf', 'swam', 'Cluck', 'swan', 'disability', 'pensions', 'Merle', 'robed', 'bays', 'sweltering', 'swap', 'Sheets', 'trauma', 'sorry', 'sway', 'fists', 'Presses', 'Presser', 'void', 'sorrel', 'bowstring', 'deplorably', 'squares', 'crops', 'Extending', 'unrelated', 'irrationally', 'enhance', 'Colosseum', 'deplorable', 'whirlwind', 'landlords', 'Burgess', 'McIntosh', 'Christie', 'likely', 'Bouvier', 'arrangers', 'tangential', 'subordinate', 'appetite', 'Arizona', 'Eng.', 'Schenk', 'Carters', 'spokesman', 'unwholesome', 'foodstuffs', 'secessionists', 'reviving', 'snared', 'mee', 'helmets', 'niche', 'mea', 'Marcellus', 'mem', 'men', 'Irwin', 'weirdly', 'met', 'mew', 'Hoover', 'Lassus', 'systematized', 'Rizzuto', 'contraction', 'Engh', 'Rounded', 'Brakes', 'chills', 'recordings', 'Demonstrations', 'oozed', 'lucrative', 'intrigue', 'Either', 'uncompromising', 'Lyon', 'Russians', 'slices', 'kinesthetic', 'objectively', 'sliced', 'Fleischmanns', 'guests', 'jackets', 'poems', 'Piano', 'Romanza', 'tertiary', 'rationalist', 'scarred', 'rationalism', 'Sewing', 'TASS', 'Furthermore', 'Catcher', 'tenacity', 'chubby', 'disruption', 'phraseology', 'defecated', 'ostracized', 'room', 'interposition', 'Libertines', 'roof', 'movies', 'Bienville', 'exceptions', 'root', 'McElvaney', 'unmarked', 'huskily', 'Corporation', 'Whereas', 'Wizard', 'stressing', 'foods', \"You're\", 'isothermal', 'autonomy', 'Hardscrabble', 'titular', 'elicited', 'biplane', 'arboreal', 'amazing', 'Ruiz', 'insemination', 'remonstrated', 'wallpapers', 'blanks', 'Lucas', 'disassemble', 'believers', 'manuals', 'vicious', 'ova', 'schoolchildren', 'speculatively', 'photoluminescence', 'disassembly', 'synchrony', 'molesting', 'Trujillos', 'anymore', 'third', 'Solution', 'Touring', 'Trianon', 'Dachshund', 'Ended', 'broaden', 'fictitious', 'goodbye', 'operate', 'athletes', 'wus', 'determinate', 'pothole', 'biracial', 'inconclusive', 'drumlin', 'Newark', 'Krupa', 'fable', 'fellas', 'budding', 'wuh', 'famille', 'before', 'scooting', 'Hosaka', 'deathly', 'Ryerson', 'personal', 'crew', 'sprays', 'Pate', 'Pati', 'chatty', 'drops', 'confidently', 'rebutted', 'gunning', 'combination', 'Challenge', 'glazes', 'demythologize', 'caterpillar', 'glazed', 'downright', 'antagonisms', 'Secondly', 'Silk', 'arrested', 'curator', 'superficiality', 'ventilation', 'discipline', 'hawkers', 'interpolation', 'pepping', 'methacrylate', 'punishable', 'calmly', 'durability', 'skins', 'trading', 'forgot', 'aids', 'Shelagh', 'Thereupon', 'postman', 'merchants', 'unbound', 'redressed', 'Menderes', 'oppressors', 'lurks', 'bulkheads', 'detestation', 'Join', 'Dodd', 'birefringence', 'overweight', 'ascending', 'Reps.', 'underrate', 'Circuit', 'delightfully', 'mushrooming', 'Ripa', 'Ripe', 'Guideposts', 'cosmic', 'Angrily', 'punctuated', 'falsehoods', 'penury', 'enraged', 'Adolf', 'oracles', 'Workshops', 'Waite', 'floors', 'miserable', 'immensely', 'Contrast', 'disciplines', 'acquaint', 'Hmm', 'hawks', 'stumpage', 'broadened', 'Fortunately', 'woodwind', 'gourmets', 'Beech', 'Commandeering', 'Desert', 'shallowness', 'reprobate', 'Scotian', 'fancying', 'digs', 'Cerv', 'begotten', 'chronicled', 'Charleston', 'matting', 'begins', 'Shepard', 'conforms', 'Bentham', 'bitterness', 'wielder', 'Adams', 'wielded', 'girlishly', 'evaporated', 'perilla', 'Mercier', 'Fads', 'recommence', 'abstracting', 'palace', 'rattle', 'Alors', 'Glaze', 'reassert', 'ginger', 'Lewellyn', 'floodlit', 'grind', 'tells', 'jealously', 'Egyptian', 'communicative', 'Cochran', 'fitting', 'tactile', 'insularity', 'quarterback', 'salubrious', 'dearer', 'overplayed', 'grins', 'Ivan', 'Biological', 'maria', 'Sanctuary', 'observation', 'overloud', 'breathes', 'breather', 'competitors', 'unadjusted', 'hamming', 'Ballets', 'breathed', 'Nazism', 'excised', 'Opponents', 'commemorating', 'coup', 'converse', 'brutalities', 'mineralized', 'implying', 'flouted', 'supplied', 'specialists', 'Carmine', 'gyms', 'northeast', 'dampening', 'judgments', 'weekends', 'celery', 'Advantages', 'Others', 'jailed', 'palliative', 'Havana', 'Leave', 'Satellites', 'watermelon', 'Holstein', 'earl', 'earn', 'Wild', 'godliness', 'monumental', 'traversed', 'troop', 'favors', 'winced', 'enchant', 'terminology', 'ears', 'lettering', 'diminutive', 'Stickney', 'testing', 'alterations', 'allure', 'interruptions', 'incorporating', 'Somebody', 'narrated', 'Tool', 'Inferiority', 'artificial', 'Toot', 'bloodstains', 'adjudged', 'flubbed', 'homebuilding', 'insinuated', 'Scarsdale', 'wears', 'physicist', 'lotion', 'slaughtered', 'insinuates', 'cousin', 'motto', 'Otherwise', 'suggested', 'Cylinder', 'allusiveness', 'resistant', 'uncertainty', 'jotted', 'else', 'favore', 'presumably', 'Football', 'clerking', 'eulogized', 'incessant', 'Papal', 'Returns', 'lanterns', 'foray', 'drilled', 'putt', 'tint', 'oceanography', 'Vocabulary', 'basis', 'Ryne', 'Waters', 'patrolling', 'parsley', 'tiny', 'Lamon', 'commission', 'trigger', 'detrimental', 'interest', 'basic', 'basin', 'lovely', 'deeper', 'Saddle', 'Emmert', 'Flor', 'dismiss', 'shattering', 'paramilitary', 'Epstein', 'tolled', 'Stuart', 'deepen', 'Voice', 'harshness', 'unpopular', 'Centrale', 'Reputedly', 'affirm', 'Process', 'hideously', 'spontaneously', 'ugly', 'wildest', 'settler', 'pessimistic', 'seven', 'ridicule', 'Arrangement', 'cant', 'cans', 'inscrutable', 'mauling', 'disappear', 'gaze', 'waging', 'radiator', 'parish', 'realizing', 'Treatment', 'V.', 'Sansom', 'Dixieland', 'Kellum', 'colonies', 'detergency', 'VA', 'bearded', 'opulent', 'Champlain', 'renaissance', 'Values', 'realness', 'Usually', 'provisioned', 'weakly', 'constriction', 'programs', 'unconditionally', 'jackdaws', 'failing', 'Matson', 'inherit', 'Howorth', 'resuming', 'washbasin', 'flops', 'investments', 'Native', 'etiquette', 'Griffin', 'Politburo', 'yen', 'yea', 'crystallites', 'swearing', 'assigned', 'assignee', 'fighters', 'reformation', 'salivary', 'yes', 'yet', 'Musee', 'Bills', 'nudge', 'brassiere', 'Demetrius', 'royal', 'bantered', 'appellant', 'Giving', 'julep', 'copyrights', 'overthrown', 'save', 'trimming', 'Missions', 'Bowman', 'boasted', 'sailors', 'supervisors', 'moire', 'orthodontic', 'nationalists', 'supervisory', 'Browne', 'Picturing', 'Arp', 'Art', 'nude', 'chuffing', 'Orinoco', 'Arc', 'Are', 'zombies', 'Arm', 'cowardice', 'theorists', 'Beef', 'bookseller', 'deaf', 'somehow', 'Been', 'platters', 'shuttled', 'Beer', 'printer', 'fingering', 'dear', 'translates', 'Siege', 'microwave', 'runing', 'Moliere', 'carte', 'Vadim', 'epigenetic', 'Odilo', 'compress', 'predicting', 'swings', 'unreason', 'missive', 'codified', 'wept', 'digestible', 'barbarians', 'magazine', 'Pressing', 'Including', 'afternoon', 'Swinging', 'Travellers', 'Physiologist', 'Haskins', 'ores', 'mixture', 'thinner', 'managers', 'pungency', 'fumed', 'Lehman', 'Isabell', 'paunch', 'down', 'fumes', 'tomblike', 'thinned', 'narration', 'refined', 'murderers', 'Cranston', 'Unless', 'NBS', 'flying', 'jealousy', 'corporeal', 'editor', 'fraction', 'NBC', 'vacated', 'handicaps', 'factions', 'Herman', 'polemical', 'lathe', 'Konzerthaus', 'clinics', 'Lissa', 'doctrinally', 'landing', 'educations', 'feminine', 'unpadded', 'prettily', 'Defeat', 'clotheshorse', 'analyst', 'evinced', 'titters', 'prevents', 'whisked', 'whiskey', 'Attempts', 'northerner', 'manning', 'horrifying', 'average', 'Sybert', 'neuritis', 'Nuclear', 'saddles', 'thunk', 'pimpled', 'tarnished', 'muffins', 'awhile', 'Highway', 'marinated', 'Tiber', 'marking', 'lifelike', 'Tibet', 'fanfare', 'fosters', 'Bimini', 'Persons', 'Uplands', 'pouted', 'Romantic', 'faction', 'handicap', 'utilities', 'parenthood', 'Chen', 'Conveyance', 'brightens', 'budded', 'platoons', 'magnificence', 'Mass.', 'weekend', 'Iroquois', 'bluefish', 'Barnard', 'pseudo', 'liquidity', 'jacket', 'Substitute', 'restored', 'discreetly', 'Apalachicola', 'relieve', 'vermilion', 'Desmond', 'cattlemen', 'Jonesborough', 'myelofibrosis', 'retention', 'anticipation', 'disorders', 'unrelieved', 'father', 'parenchyma', '0', 'sophomores', 'swoop', 'stabilizing', 'sovereignty', 'D.C.', 'advises', 'Grill', 'Sewanee', 'Tenements', 'enslavement', 'advised', 'wintering', 'mayorship', 'biceps', 'Cardboard', 'Smythe', 'proposals', 'headings', 'Potemkin', 'noiseless', 'Mahmoud', 'Fidelity', 'stiffer', 'round', 'Ribes', 'unexpected', 'purposeless', 'Merger', 'dealing', 'onrushing', 'measurable', 'Nellie', 'measurably', 'costlier', 'bombardment', 'talker', 'ravenous', 'sordid', 'Define', 'majors', 'Head', 'filler', 'filles', 'encrusted', 'acquisitiveness', 'Heat', 'annals', 'Hear', 'international', 'covetousness', 'filled', 'Forever', 'Bishops', 'Cooperman', 'DSW', 'Bids', 'rug', 'DSM', 'Keeshond', 'wearily', 'frosting', 'box', 'boy', 'exemplified', 'Hole', 'bop', 'salvage', 'Railroads', 'jungles', 'bureaucratization', 'Founded', 'spheres', 'exemplifies', 'Session', 'diagnosed', 'boo', 'boa', 'Antonini', 'bog', 'teenage', 'Cortlandt', 'Hold', 'statewide', 'merely', 'Stained', 'transplant', 'sweating', 'Couperin', 'Schang', 'sake', 'lieutenants', 'cooperates', 'visit', 'Tonio', 'vineyard', 'disaffiliated', 'Aerospace', 'blonde', 'postgraduate', 'cooperated', 'Maintaining', 'Kingwood', 'dolphin', 'faith', 'labyrinth', 'unequaled', 'Customhouse', 'forswears', 'Hayes', 'Hayek', 'bushels', 'cows', 'Rebels', 'reelected', 'premarital', 'frivolity', 'Improvements', 'Numbers', 'making', 'thicknesses', 'nearest', 'Heather', 'Fundamentally', 'frescoes', 'fuck', 'flouting', 'greenest', 'sample', 'pointedly', 'frescoed', 'subconsciously', 'burgeoning', 'Tristan', 'nonchalant', 'Jarvis', 'trollop', 'Pretender', 'Flotilla', 'irreverent', 'persuasion', 'swamping', 'testicle', 'Germania', 'undisciplined', 'Germanic', 'Urn', 'membership', 'Sexton', 'tramway', 'Succession', 'noun', 'waist', 'basked', 'Series', 'purify', 'elongation', 'rejoices', 'Kerby', 'block', 'basket', 'serge', 'shoes', 'Nutcracker', 'Ngo', 'Olvey', 'fatalities', 'solder', 'blooded', 'Cf.', 'gouged', 'Balkanizing', 'group', 'monitor', 'interesting', 'Rain', 'taller', 'drummer', 'Legers', 'policy', 'Hartford', 'sterility', 'mollycoddle', 'tucked', 'rattled', 'infallible', 'soulful', 'lunch', 'markings', 'leopards', 'rattles', 'rattler', 'keenly', 'feverish', 'Purse', 'careless', 'seacoast', 'physiologic', 'vogue', 'motherland', 'tiredly', 'unachievable', 'elephants', 'saleslady', 'treacherous', 'conventions', 'Saviour', 'speculators', 'fingertips', 'Keo', 'fenders', 'Step', 'stitch', 'Successful', 'sprawled', 'pantomimic', 'Pocket', 'nominal', 'Key', 'patenting', 'assurance', 'registries', 'Commerce', 'bayed', 'irrigating', 'G', 'Rights', 'Sometimes', 'coffers', 'bringing', 'worries', 'Gorshin', 'Afternoon', 'noisemakers', 'ajar', 'carnival', 'waiter', 'Baku', 'contented', 'hinged', 'registrar', 'Huntington', 'Bake', 'assuredly', 'waited', 'first', 'fleeing', 'besieged', 'subterfuges', 'airless', 'enthralled', 'Black', 'specificity', 'methodological', 'Lecky', 'Minerva', 'clamshell', 'flatiron', 'Posey', 'moisture', 'Sancho', 'returns', 'speaking', 'bantering', 'meme', 'gaudy', 'inefficient', 'allegedly', 'streaked', 'memo', 'Miracle', 'crevice', 'Denouncing', 'divan', 'clumsy', 'serves', 'Consulting', 'easement', 'clobbers', 'scraping', 'lick', 'Noll', 'Rockies', 'lice', 'Lovett', 'summing', 'entombed', 'incontestable', 'narrator', 'pastry', 'Watterson', 'modality', 'squaw', 'squat', 'recreated', 'Broncs', 'vestments', 'Visitation', 'Murphy', 'foreigner', 'poppyseed', 'shocked', 'approvingly', 'squad', 'shocker', 'performance', 'reacquainted', 'Casualties', 'Lloyd', 'flattered', 'formulas', 'Thule', 'Parrot', 'comings', 'arguing', 'cathedrals', 'incidence', 'Tristano', 'rehearsal', 'roused', 'assault', 'barrage', 'bete', 'canny', 'tugging', 'Keane', 'preventive', 'queens', 'radioactive', 'incisive', 'compounds', 'bleating', 'creativeness', 'Actively', 'voodoo', 'iniquitous', 'shielding', 'rejoinder', 'Barry', 'disunity', 'representatives', 'bedside', 'Barre', 'tiredness', 'Stephen', 'sponsorship', 'Fosdick', 'Across', 'enthusiast', 'We', 'reek', 'despairingly', 'stormy', 'Polish', 'treasure', 'storms', 'spirituality', 'Wu', 'windbag', 'Diary', 'coagulating', 'travesty', 'treasury', 'enthusiasm', 'pegged', 'sensitivities', 'alternation', 'awareness', 'outclassed', 'Organizations', 'get', 'Kleist', 'refreshed', 'Large', 'unimportant', 'hailed', 'unconsciously', 'juleps', 'bitters', 'gem', 'gel', 'Right', 'Angel', 'moodily', 'bearings', 'colossus', 'Snodgrass', 'requesting', 'rotationally', 'miles', 'nostril', 'Anger', 'tallow', 'Education', 'exuberant', 'audited', 'declared', 'Visualize', 'Grant', 'seas', 'sear', 'seat', 'starlet', 'sensitives', 'Vital', 'declares', 'eliminating', 'seal', 'stigma', 'insoluble', 'Shaefer', 'wonder', 'radiates', 'indicted', 'satisfying', 'Itching', 'label', 'boundaries', 'enough', 'radiated', 'across', 'Subgroups', 'satiate', 'quarterbacks', 'august', 'evensong', 'dreamless', 'Each', 'nationality', 'gauntlet', 'Perse', 'coupons', 'Reversing', 'philosophically', 'feelers', 'Carvey', 'fulminate', 'blasts', 'tour', 'Taught', 'tout', 'Statistical', 'cognizance', 'Moulton', 'longshot', 'among', 'dislocations', 'Pearl', 'spans', 'pacifier', 'considering', 'Anthropology', 'Assembly', 'tuning', 'Bock', 'wobble', 'attaching', 'wobbly', 'judging', 'Assemble', 'capably', 'finial', 'fiftieth', 'Romulo', 'precautions', 'lustily', 'glanced', 'squash', 'Crane', 'dramatic', 'wake', 'amphitheater', 'declaration', 'Action', 'Bumbry', 'Revise', 'sound', 'plastering', 'Ambulances', 'parapet', 'Chiaromonte', 'epidermis', 'inadequacies', 'estrangement', 'forefinger', 'coco', 'investigating', 'slapping', 'cock', 'Summertime', 'Factors', 'strait', 'Factory', 'leavened', 'sleeping', 'strain', 'sudden', 'purportedly', 'Symposium', 'protein', 'creaks', 'synagogue', 'melted', 'woodland', 'lava', 'Mobile', 'compiling', 'clammy', 'Destruction', 'interweaving', 'extended', 'pickoffs', 'patrician', 'expended', 'Mustangs', 'companion', 'Tribes', 'embarrassingly', 'shopworn', 'Hampton', 'supports', 'tagua', 'Motors', 'nuclide', 'admonishing', 'soundproof', 'allowance', 'convened', 'cameramen', 'consisted', 'riddle', 'outdoor', 'sights', 'Plastic', 'unofficial', 'leeway', 'thudding', 'flavor', 'embroideries', 'statesmen', 'forgo', 'Cezannes', 'meteorite', 'electrical', 'atomisation', 'decentralization', 'tenses', 'superintendents', 'Quadrille', 'tensed', 'gnarled', 'credentials', 'Dolley', 'Operations', 'vertically', 'nay', 'vending', 'identifying', 'epicycles', 'twittered', 'utopians', 'gratifyingly', 'demography', 'Moreover', 'passionate', 'Digest', 'obsessions', 'pronounce', 'Rolnick', 'showman', 'Pressures', 'AB', 'Pembina', 'images', 'snoring', 'prerogatives', 'Meg', 'outs', 'calculating', 'Augustin', 'Mel', 'stages', 'charlatans', 'Met', 'Chisholm', 'knife', 'caring', 'dispensary', 'Ciardi', 'each', 'Seabrook', 'AL', 'Vietnam', 'bravado', 'Behavior', 'Assuredly', 'released', 'averting', 'Intermediates', 'Leigh', 'Ziffren', 'Scared', 'lithograph', 'pockets', 'Images', 'fallacy', 'Fanning', 'recaptured', 'fertile', 'coupon', 'skilled', 'actuate', 'Middletown', 'quintets', 'harness', 'Maintenance', 'certitudes', 'skillet', 'pastures', 'acquiesced', 'telescoping', 'paraphernalia', 'distracted', 'collided', 'deadlines', 'restrained', 'Appropriation', 'prevented', 'tyrosine', 'spicy', 'oxidised', 'Orlick', 'motherly', 'spice', 'arranged', 'Significantly', 'Af', 'Tuborg', 'Eddie', 'arranges', 'peeking', 'eschew', 'powerless', 'Gershwins', 'neutralized', 'undiminished', 'imagination', 'examine', \"she'd\", 'Broeg', 'Frail', 'Mulligatawny', 'An', 'casualty', 'Rawlins', 'again', 'goddam', 'designating', 'weeded', 'Courtenay', 'Buddhists', 'Riverboat', 'Somewhat', 'Azusa', 'victimize', 'Parella', 'equitably', 'academies', 'Yorktown', 'motoring', 'marshes', 'clenches', 'Alfredo', 'equitable', 'readings', 'itches', 'grudge', 'assets', 'payoff', 'collegiate', 'excretion', 'burrow', 'u', 'oases', 'colleges', 'lapped', 'founder', 'grassroots', 'Workers', 'allergy', 'founded', 'commute', 'Kaplan', 'expressions', 'plodding', 'unfounded', 'shattered', 'preserves', 'Byzantine', 'Davenport', 'diffuse', 'lange', 'Devout', 'crimson', 'enjoying', 'puffs', 'Training', 'unabashed', 'sitting', 'authentications', 'puffy', 'toss', 'Calif.', 'nuns', 'clench', 'Punishment', 'squirted', 'elated', 'washing', 'alma', \"Don't\", 'drugged', 'Beaumont', 'subsoil', 'Piraro', 'bypassed', 'McEachern', 'CTCA', 'blared', 'tribal', 'elution', 'Impact', 'outworn', 'clinch', 'strung', 'zero', 'perspective', 'Reenact', 'delivered', 'affable', 'creatures', 'residue', 'swampy', 'sweetly', 'Densmore', 'swamps', 'wrecked', 'carcass', 'trinket', 'Gin', 'fetishize', 'hotbed', 'Ahead', 'Metal', 'bushwhacked', 'Classified', 'mule', 'newspaper', 'unheeded', 'affectionately', 'furlongs', 'Apologia', 'stupor', 'Clark', 'Clare', 'frangipani', 'Clara', 'sofar', 'sofas', 'uncharted', 'misery', 'Separating', 'Marquette', 'collated', 'specialize', 'medics', 'graphed', 'Reform', 'caravan', 'boosting', 'Tears', 'Dolly', 'pigmented', 'marauders', 'shareholders', 'Walle', 'uniformity', 'Smokies', 'plastered', 'Walls', 'squires', 'subsumed', 'correspondents', 'Wally', 'restraints', 'plasterer', 'Governments', 'Biblically', 'handsomely', 'reviled', 'pulpits', 'magpies', 'necromantic', 'apprehensions', 'Roger', 'Byronic', 'disfavor', 'Woburn', 'Purcell', \"season's\", 'hour', 'recall', 'phrasing', 'specializes', 'Stoicism', 'Hamlet', 'guards', 'Oregonians', 'patrols', 'halts', 'Harnack', 'specialized', 'Eliminate', 'stubborn', 'Retirement', 'synchronized', 'salesmen', 'onslaught', 'days', 'collision', 'minimum', 'rainstorm', 'numbers', 'despot', 'Cafritz', 'tolerant', 'Cause', 'biography', 'homicide', 'filter', 'needs', 'Mustard', 'Chromatography', 'needy', 'technology', 'comfort', 'rapport', 'maps', 'Declarative', 'joblessness', 'sacred', 'Spark', 'stir', 'slackening', 'redwood', 'divinities', 'Artemis', 'questioning', 'malediction', 'Carefully', 'Continue', 'spectacularly', 'coming', 'Kelly', 'reappeared', 'Aristotelian', 'Muscular', 'dragon', 'upholstered', 'skilful', 'Lottie', 'serenade', 'Pullen', 'perpetually', 'heartfelt', 'through', 'Forces', 'warfront', 'Pagans', 'golfing', 'messed', 'emaciated', 'bosom', 'Notte', 'Elijah', 'microscopic', 'misunderstandings', 'messes', 'Breve', 'worshiping', 'cinches', 'postwar', 'Fuchs', 'smothering', 'invigoration', 'prejudices', 'Capitalism', 'frigid', 'Capitalist', 'stoneware', 'prejudiced', 'Taipei', 'groped', 'mystery', 'huddle', 'Jinny', 'hails', 'Kika', 'supersensitive', 'evade', 'rattail', 'repeating', 'saloons', 'sterling', 'Fiddles', 'starved', 'Berle', 'winnow', 'engaging', 'wires', 'suspecting', 'marshaling', 'manumission', 'respectful', 'uninvited', 'Oxygen', 'Collyer', 'pubescent', 'deft', 'dejectedly', \"they'll\", 'Sweeping', 'evaluation', 'catastrophes', 'airframe', 'Weaning', 'enforcing', 'totalistic', 'extraordinary', 'Enos', 'gobblers', 'backed', 'beginning', 'faucet', 'Puritan', 'antithyroid', 'needing', 'wither', 'Puritans', 'Tranquility', 'mazurka', 'configurations', 'wallboard', 'indebted', 'embraces', 'advertisement', 'stabs', 'treetops', 'Beman', 'jabbed', 'embraced', 'fiction', 'unacquainted', 'razor', 'mercilessly', 'Screen', 'radiating', 'Slums', 'Environmental', 'Silesia', 'Scholastica', 'Tsar', 'differentiate', 'prodigious', 'trolls', 'reedbuck', 'Whiting', 'conventionality', 'commiserate', 'ogress', 'Equipment', 'Cimoli', 'trudged', 'swerve', 'bassinet', 'lilting', 'confessional', 'curtains', 'ditches', 'showers', 'Troopers', 'cowman', 'Limitations', 'Labans', 'Bernardo', 'Power', 'refute', 'Clostridium', 'Lucia', 'recondite', 'lifts', 'rafters', 'Countrymen', 'Teacher', 'serene', \"She'arim\", 'headmaster', 'Holes', 'chart', 'quixotic', 'esse', 'shawls', 'Fresh', 'Taras', 'teems', 'honkytonks', 'Twice', 'unsealed', 'dystrophy', 'Benefit', 'drifts', 'Port', 'suppleness', 'mammoth', 'reflections', 'Pisces', 'consanguineous', 'chelas', 'Stands', 'swelling', 'Fil', 'noblest', 'converge', 'violinists', 'businesses', 'Billiken', 'immaturity', 'headlines', 'Hanoverian', 'detector', 'Kathy', 'Freeman', 'sluggishly', 'merger', 'merges', 'Lessing', 'loudspeaker', 'Sellers', 'Jacksons', 'thruways', 'Concluding', 'volatile', 'merged', 'Fiat', 'intractable', 'cholera', 'express', 'toddlers', 'Snapped', 'breast', 'irresolution', 'autobiographic', 'Conservative', 'Keene', 'Assiniboia', 'spikes', 'roles', 'Attributes', 'Tootsie', 'doubled', 'spiked', 'tale', 'witches', 'Apologies', 'doubles', 'restaurants', 'chocks', 'Morse', 'deactivation', 'semisecret', 'overburdened', 'Citing', 'manly', 'clasped', 'Houghton', 'internationalist', 'DeCicco', 'Aviv', 'expert', 'shatterproof', 'doting', 'cahoots', 'conveyed', 'vascular', 'Richards', 'enameling', 'stanch', 'beetling', 'intimidated', 'trustingly', 'mailbox', 'conservationist', 'Ionic', 'acidulous', 'glorification', 'Detective', 'symbolical', 'defunct', 'uncap', 'restaurant', 'Yea', 'Dancers', 'tempos', 'foreign', 'sparring', 'Carving', 'Green', 'Dawson', 'apocalyptic', 'Yet', 'combinable', 'point', 'Surrounded', 'ravages', 'Rastus', 'gypsy', 'asserted', 'expensive', 'Khmer', 'fused', 'Wendell', 'apostle', 'Processing', 'Dineen', 'screened', 'grandsons', 'rivals', 'faithfully', 'fuses', 'omniscient', 'chiseled', 'anythin', 'assorted', 'decorous', 'roved', 'enchantingly', 'dissension', 'resisted', 'outriggers', 'patriarchy', 'evangelical', 'Indications', 'politician', 'Pohly', 'grains', 'elections', 'deferred', 'skiff', 'teaspoonful', 'denominations', 'coyly', 'unearned', 'escheat', 'century', 'perilously', 'Bluntly', 'starving', 'Irv', 'anode', 'Soothsayer', 'stoves', 'Ira', 'Elliott', 'Easter', 'disbelieving', 'urethra', 'around', 'disillusioning', 'perpetrator', 'infernally', 'maneuverability', 'randomization', 'gangway', 'bristle', 'fibrosis', 'riddling', 'windmill', 'Statute', 'currencies', 'Statuto', 'shatters', 'Arabia', 'puritanical', 'stripe', 'Provisional', 'Zionists', 'downtrend', 'organically', 'task', 'whores', 'scriptures', 'Councils', 'coachmen', 'Economic', 'withdraw', 'Quacks', 'homesteaders', 'Albany', 'Platonist', 'irritably', 'maleness', 'segregate', 'shape', 'pandanus', 'shrewdly', 'irritable', 'stabilization', 'Occupational', 'choreographers', 'snare', 'timber', 'rundown', 'cut', 'cur', 'cup', 'marrying', 'danger', 'source', 'studious', 'cud', 'undistinguished', 'clamping', 'centum', 'Astra', 'suffocation', 'womanly', 'Commons', 'Exploration', 'Betty', 'Retracing', 'hallucinations', 'knock', 'maples', 'purveyor', 'objectiveness', 'forcefulness', 'borrows', 'bockwurst', 'cu.', 'foolish', 'walrus', 'machinegun', 'ligament', 'valleys', 'collectors', 'metabolic', 'absolutely', 'delegation', 'presences', 'Riverview', 'candle', 'culprit', 'decision', 'though', 'gimme', 'balmy', 'Modular', 'manipulate', 'fixations', 'epic', 'Kelts', 'Box', 'Boy', 'Bow', 'Bon', 'Boa', 'Bob', 'Hayter', 'feigning', 'Ezra', 'Cocoa', '3MM', 'submucosa', 'Captain', 'systematizing', 'hindrances', 'depose', 'abusive', 'retailer', 'satisfactory', 'Strauss', 'Increase', 'Experiment', 'inhospitable', 'Accuracy', 'Leland', 'gesticulated', 'Coverage', 'translate', 'invite', 'Esperanza', 'Splendide', 'mechanistic', 'underlined', 'delighting', 'switchboard', 'subsidiary', 'planed', 'pickers', 'casein', 'Birkhead', 'Bennett', 'driveways', 'planet', 'indefensible', 'planer', 'planes', 'Lindy', 'curt', 'constant', 'stripped', 'beckoning', 'deprive', 'scarlet', 'curd', 'cure', 'curb', 'fabricating', 'organizational', 'serological', 'curl', 'titer', 'Presentation', 'overfeed', 'Commissioner', 'biblical', 'Fidel', 'Chrissake', 'imprisons', 'composing', 'intensifying', 'Student', 'emanated', 'mayonnaise', 'Nacht', 'Advance', 'cellar', 'Slogan', 'intensifier', 'antiquities', 'intensified', 'restoration', 'cater', 'utterly', 'reflectors', 'worsted', 'scouting', 'deterrence', 'implies', 'overlooking', 'wards', 'bankers', 'cooked', 'implied', 'Sahara', 'presenting', 'Determine', 'razing', 'conjugal', 'Voegelin', 'magnetically', 'portraying', 'tombs', 'groceries', 'fascinatingly', 'Assuming', 'amplified', 'Coons', 'Angelina', 'sago', 'Means', 'welter', 'Piccadilly', 'literary', 'saga', 'compost', 'tradesmen', 'pleasing', 'Bondi', 'nervousness', 'Redoute', 'proctor', 'presently', 'unhurt', 'dessert', 'implicitly', 'startlingly', 'aspires', 'entire', 'busied', 'salad', 'absinthe', 'diverging', 'Gator', 'Eldon', 'busier', 'transmutation', 'Murat', 'Caligula', 'McCloy', 'havens', 'verandas', 'polemics', 'Howard', 'rector', 'UCLA', 'overtaxed', 'Tropic', 'Avocados', 'Brace', 'analogue', 'chewed', 'assisted', 'access', 'McLemore', 'Butte', 'Tindal', 'plunkers', 'Kroger', 'beasts', 'packing', 'healing', 'safer', 'inhibitor', 'talent', \"O's\", 'Jennifer', 'Gaul', 'principally', 'implement', 'Proceeds', 'absolutes', 'composed', 'Starlings', 'Beneficiary', 'Rhode', 'richest', 'composer', 'composes', 'Answer', 'inspiration', 'belittling', 'Driver', 'hammered', 'Driven', 'classically', 'Congregational', 'slatted', 'totality', 'butler', 'Eastman', 'defendant', 'charcoal', 'prized', 'excitedly', 'engender', 'kiosk', 'Honest', 'Wilfrid', 'habitually', 'prizes', 'dentistry', 'headstands', 'unwinding', 'dwarf', 'fooling', 'transmissible', 'dullness', 'Etruscan', 'gruff', 'swarms', 'closing', 'Asylum', 'fetch', 'experiential', 'Camping', 'invoices', 'ontologically', 'teamster', 'McGeorge', 'syrupy', 'Cultures', 'varied', 'regains', 'noises', 'midsts', 'Worrell', 'Drink', 'Ye', 'unseasonable', 'formations', 'varies', 'profile', 'Durocher', 'relates', 'incompetence', 'leukemia', 'fluid', 'Petrie', 'Conservatism', 'communicator', 'Hedison', 'prostate', 'pleasantness', 'Gosson', 'Southey', 'lecher', 'chasing', 'friendlier', 'Maplecrest', 'Y.', 'interviewees', 'trembling', 'mortaring', 'Tennessee', 'supranational', 'chambermaids', 'flask', 'furious', 'solos', 'subsequently', 'campers', 'mustache', 'rutted', 'despite', 'disarm', 'contriving', 'symbols', 'Creations', 'credulousness', 'horns', 'flattering', 'electors', 'galaxy', 'commingled', 'edematous', 'Legislators', 'located', 'botanical', 'accredited', 'collaborate', 'heroism', 'blatant', 'circumspectly', 'couplers', 'antidote', 'sapling', 'Slack', 'bolder', 'Architect', 'tetragonal', 'merriest', 'Robin', 'preschool', 'paddies', 'straddling', 'flail', 'Hollingshead', 'frayed', 'blindfolded', 'greenhouses', 'masterminding', 'hisself', 'preclude', 'cider', 'Moroccan', 'ineffable', 'McLish', 'Gary', 'phonetic', 'monumentally', 'theatergoing', 'shies', 'cobwebs', 'pantry', 'incensed', 'Print', 'sexual', 'popping', 'enforceable', 'Ching', 'China', 'barley', 'flushing', 'Bostonian', 'approached', 'fluctuates', 'grunting', 'fourteen', 'clarify', 'approaches', 'que', 'canker', 'Exceptions', 'quo', 'chiefs', 'Outlook', 'backwards', 'allies', 'I.', 'mortar', 'recipes', 'yarn', 'kwashiorkor', 'Acey', 'allied', 'gleam', 'Aces', 'Sammy', 'domiciled', 'handier', 'suffix', 'elegiac', 'hex', 'sack', 'betrays', 'whoop', 'guidebook', 'reached', 'Kooks', 'verbenas', 'braces', 'Playboy', 'flagrantly', 'Inheritance', 'remodeled', 'inhabitation', 'vagina', 'intermediate', 'acquiescence', 'scant', 'missy', 'Stocks', 'scans', 'Glee', 'explanation', 'acquire', 'espousal', 'Gaines', 'Bordeaux', 'foams', 'slopes', 'coughed', 'Nearby', 'Reds', 'Textile', 'bodyguard', 'treatise', 'smoothbore', 'carabao', 'Agnese', 'tenements', 'transducer', 'Lastly', 'abstracts', 'mastodons', 'fermentation', 'anthropologist', 'behaviorally', 'cavern', 'have', 'disturbing', 'throat', 'Dilworth', 'catapults', 'secreted', 'gingerly', 'incentive', 'precipice', 'schoolmaster', 'concerns', 'Ticker', 'Glad', 'rove', 'Morley', \"sky's\", 'orchestrations', 'procure', 'hostages', 'accede', 'craggy', 'prisoner', 'payment', 'inexorable', 'Tetanus', 'beets', 'disease', 'McNamara', 'Joyce', 'occasion', 'cartels', 'contemptuous', 'inexorably', 'thicken', 'recess', 'Britten', 'ejaculated', 'demurred', 'bathing', 'hamlet', 'rotating', 'Religion', 'traitor', 'definable', 'superimposing', 'Salish', 'thicket', 'thicker', 'remorseful', 'lolling', 'communism', 'knowledge', 'sparks', 'Pizarro', 'sonofabitch', 'prolong', 'cohesiveness', 'prancing', 'Jacob', 'emitting', 'communist', 'handsome', 'Thrift', 'regularly', 'hijacking', 'Finnish', 'starch', 'pave', 'reputations', 'Stories', 'perfection', 'Blevins', 'Carlson', 'rage', 'dispell', 'teams', 'tableland', 'Civilization', 'excesses', 'fixed', 'Zoe', 'turkeys', 'racked', 'groggy', 'watersheds', 'herding', 'Zoo', 'mentioned', 'teakwood', 'daffodils', 'Chantilly', 'racket', 'Scrub', 'imposition', 'reform', 'brunt', 'difficulties', 'Caution', 'boundary', 'tediously', 'antiquarians', 'Concerto', 'Incline', 'cauliflower', 'Tree', 'sorrow', 'Mantegna', 'antics', 'however', 'reproduces', 'mandamus', 'Stanton', 'sassafras', 'Concerts', 'Macintosh', 'effluent', 'revoked', 'rime', 'joke', 'equal', 'metered', 'kosher', 'Byrnes', 'liquidating', 'touchstone', 'broom', 'Champassak', 'statues', 'ambushed', 'impaling', 'Squire', 'disarmament', 'coexistence', 'Machinists', 'reborn', 'liquidations', 'Pallavicini', 'Musica', 'manhood', 'uninitiated', 'Pending', 'playwrights', \"it's\", 'mouthpiece', 'magnetized', 'teamwork', 'newt', 'rump', 'Thailand', 'anomaly', \"it'd\", 'Nations', 'musicality', 'tense', 'Parson', 'assessments', 'locomotives', 'locales', 'welcoming', 'Arigato', 'Bullets', 'General', 'exhumations', 'caving', 'hubs', 'associating', 'venomous', 'frustrating', 'trailer', 'Carty', 'Centering', 'lairs', 'delusion', 'weighed', 'arrangements', 'closets', 'watched', 'partner', 'Beach', 'tranquil', 'espousing', 'whirl', 'diety', 'Yaqui', 'diets', 'Poster', 'DiSimone', 'coronary', 'tumbler', 'auto', 'mildly', 'garish', 'Avoiding', 'itemization', 'sigue', 'indivisibility', 'Grover', 'noncommittally', 'sisters', 'recourse', 'neural', 'nevertheless', 'Spring', 'builder', 'chastisement', 'disoriented', 'exceedingly', 'comparisons', 'Total', 'Seventeenth', 'stores', 'excise', 'nicknames', 'numbering', 'smuggled', 'nicknamed', 'interim', 'aromatic', 'Fourth', 'Collected', 'localize', 'flashlight', 'Lutheran', 'Aspects', 'repetitious', 'whiplashes', 'reformer', 'operands', 'onward', 'demographic', 'recommending', 'Victoria', 'ductwork', 'slits', 'delegations', 'tremulously', 'Dirksen', 'embossed', 'ought', 'characteristically', 'resolved', 'agitators', 'Thread', 'Madrigal', 'elapsed', 'Threat', 'resolves', 'elapses', 'Socialization', 'displaced', 'Inflammatory', 'like', 'success', 'vibrant', 'Midwestern', 'Isaacson', 'displaces', 'Anders', 'chick', 'soviet', 'livelier', 'kaleidoscope', 'straightway', 'classical', 'adjournment', 'scurried', 'hail', 'hair', 'Silas', 'band', 'recommendation', 'elephantine', 'poseurs', 'taskmaster', 'Picasso', 'righthander', 'happens', 'Crosbys', 'jurisprudence', 'hurricane', 'neurosis', 'discretion', 'screwed', 'Heaven', 'Applying', 'refurbishing', 'Baker', 'lieutenant', 'marketable', 'unchangeable', 'jam', 'urbanized', 'Indulgence', 'introduces', 'purism', 'Rabaul', 'befogged', 'Japan', 'tomb', 'introduced', 'similitude', 'Guardini', 'backbends', 'Psychology', 'planners', 'socks', 'termini', 'female', 'proteolysis', 'lightyears', 'earthenware', 'knuckles', 'impartation', 'elastic', 'rushed', 'Blackman', 'condense', 'rushes', 'inasmuch', 'Lydia', 'knuckled', 'glimmer', 'crucially', 'November', 'Valmet', 'Arbuckle', 'insures', 'crawled', 'coke', 'sequel', 'Protons', 'unpartisan', 'landscaping', 'staunchest', 'kraft', 'versatile', 'Graff', 'Crosby', 'Acala', 'thorn', 'Graft', 'madrigal', 'replying', 'indiscriminating', 'Hephzibah', 'circus', 'Fulbright', 'Direct', 'periods', 'Stallings', 'commentators', 'identities', 'anchors', 'geeing', 'dressed', 'Movable', 'interdepartmental', 'detain', 'Pennsylvania', 'ducked', 'dresses', 'Milton', 'convicts', 'conveys', 'chroniclers', 'behavioral', 'Hersey', 'maturational', 'April', 'detours', 'stirred', 'ramble', 'Alba', 'grimmer', \"dog's\", 'Gratified', 'loosest', 'Communism', 'restates', 'sterilizing', 'dynasty', 'Communist', 'inexpert', 'undisputed', 'consciences', 'patronizing', 'metamorphic', 'acoustically', 'whatsoever', 'undergrowth', 'ontological', 'struck', 'haughtiness', 'slipstream', 'dispense', 'limiting', 'Prieur', 'gratification', 'vastly', 'caliphs', 'reiterating', 'anemia', 'school', 'magnate', 'Murtaugh', 'pragmatism', 'cannery', 'barracks', 'influent', 'glued', 'martingale', 'veritable', 'feathery', 'construed', 'guidelines', 'feathers', 'direct', 'Solly', 'nail', 'disciplined', 'Diron', 'Palazzo', 'Iberia', 'misplaced', 'blue', 'hide', 'caseworkers', 'selected', 'revolves', 'revolver', 'liberty', 'Mmm', 'hawked', 'oaths', 'Beside', 'blur', 'ebbs', 'supplies', 'revolved', 'Augustan', 'electroshocks', 'Niebuhr', 'discontinuity', 'vertebrates', 'Crispin', 'luggage', 'Gradual', 'leaves', 'settles', 'Hee', 'culminate', 'synchronism', 'museums', 'shinbone', 'hangars', 'settled', 'midway', 'prints', 'Group', 'grumbled', 'Narrative', 'Pedersen', 'purifying', 'patience', 'Orville', 'Pasadena', 'meats', 'meaty', 'riots', 'would', 'Laotians', 'pigeonhole', 'princess', 'distributing', 'Whichever', 'quipping', 'spike', 'excommunicated', 'tenors', 'poultices', 'saber', 'portraiture', 'excellent', 'supplemental', 'Danzig', 'abundance', 'philanthropic', 'Brahms', 'Crowd', 'arterioles', 'archaism', 'Crown', 'advocacy', 'Crows', 'iridium', 'deficiencies', \"workers'\", 'Mrad', 'degeneration', 'fleetest', 'grenade', 'estate', 'hemoglobin', 'childless', 'preserving', 'pyschiatrist', 'gadgets', 'powerfulness', 'overheard', 'jumble', 'attract', 'Bunny', 'overpowered', 'ceremony', 'legislate', 'Haywood', 'drummed', 'finalist', 'Muslims', 'Poverty', 'toxin', 'toxic', 'actuality', 'dialect', 'Commonweal', 'Flemings', 'description', 'horoscope', 'insecure', 'lump', 'tidying', 'Wilhelmina', 'understandable', 'parallel', 'humiliatingly', 'girders', 'strapping', 'splendid', 'amid', 'capacitors', 'funniest', 'Rouge', 'plumbing', 'Sohn', 'Rough', 'Beyond', 'reforming', 'Newburger', 'Unanimously', 'Arlington', 'fiendish', 'sociability', 'staining', 'forehead', 'fealty', 'falsifying', 'tilth', 'dioramas', 'tilts', 'rancidity', 'pitied', 'Convinced', 'Blistered', 'blots', 'diseases', 'chromatography', 'Guignol', 'preconceived', 'diseased', 'linguists', 'Nameless', 'rental', 'Dwight', 'swaying', 'gluttons', 'reconditioning', 'Four', 'Reliability', 'minutiae', 'noncompliance', 'consolidate', 'lusty', 'exhilarated', 'Frayne', 'Frankfort', 'Carrel', 'fishpond', 'septa', 'leftist', 'joined', 'juggling', 'Frankford', 'Corpus', 'runabout', 'lugged', 'revisions', 'mandrel', 'Quincy', 'psychic', 'sighing', 'sand', 'aloneness', 'laid', 'Oberlin', 'banning', 'lain', 'newly', 'Signore', 'independence', 'Darwen', 'associate', 'Bitterness', 'aforesaid', 'Signora', 'W', 'mastering', 'mononuclear', 'greeted', 'Supervisor', 'sods', 'Chain', 'Junkers', 'notching', 'privacy', 'conceding', 'P.M.', 'Its', 'Traits', 'heck', 'soda', 'anatomical', 'separable', 'artistry', 'officious', 'researcher', 'researches', 'Pittsburghers', 'encouraging', 'ecumenists', 'lovable', 'fantasy', 'inharmonious', 'occupancy', 'insulation', 'Shenandoah', 'thousand', 'Congress', 'sarcasm', 'heights', 'confirming', 'gowns', 'corpus', 'malingering', 'reparation', 'frailest', 'illiterate', 'Pornographer', 'Flanagan', 'kindest', 'Thames', 'postcards', 'unsaid', 'lather', 'lathes', 'reclining', 'frankly', 'immigrants', 'final', 'Longfellow', 'hemispherical', 'seminal', 'tubules', 'handkerchief', 'Farmington', 'lunchtime', 'healer', 'Bernini', 'screws', 'seminar', 'traditionally', 'thoroughly', 'Trends', 'thorough', 'Sylvie', 'rodents', 'hatch', 'geographers', 'Shafer', 'unashamedly', 'Grasslands', 'Shooter', 'Loyal', 'topcoats', 'Ceilings', 'Paced', 'potency', 'erasers', 'clock', 'Bourbons', 'suitability', 'entertaining', 'registrants', 'Loomis', 'pardoned', 'bait', 'overpriced', 'alight', 'confabulations', 'Spots', 'Martinelli', 'colors', 'reissue', 'musicals', 'fuzzy', 'aspired', 'peddle', 'bail', 'departed', 'spite', 'situations', 'sycophantic', 'knuckle', 'Finals', 'borrowed', 'Anxiety', 'photograph', 'unhurried', 'Handicapped', 'borrower', 'wedding', 'applejack', 'knocks', 'considerate', 'Matilda', 'Selected', 'beads', 'Moore', 'beady', 'igneous', 'anxiously', 'Mediterranean', 'commercialization', 'Moors', 'unwitting', 'ailments', 'penance', 'generally', 'Vineyard', 'skeptically', 'Wolfe', 'Wolff', 'Formula', 'Publications', 'feline', 'Insomnia', 'continually', 'grandmother', 'mud', 'mug', 'discovers', 'hopefully', 'mum', 'discovery', 'reiterate', 'Colored', 'rims', 'deposed', 'Borrowing', 'Staffordshire', 'Soldier', 'consists', 'news', 'preflight', 'drowsy', 'Among', 'fault', 'elm', 'Pantas', 'sultry', 'supplanting', 'Roads', 'expense', 'Deduction', 'Rumford', 'untenable', 'unrewarding', 'smudged', 'inactivate', 'Vendome', 'dissipating', 'padlocked', 'villains', 'subscribing', 'thwarted', 'conference', 'Literature', 'lightly', 'Hockett', 'warehouses', 'sororities', 'beneficiary', 'schoolroom', 'moneymaking', 'captives', 'dewdrops', 'refuted', 'stepladders', 'AFL-CIO', 'loft', 'Underwater', 'warped', 'pecked', 'transatlantic', 'Adame', 'Adamo', 'Alexandre', 'Cartoons', 'microns', 'Deputy', 'apprehension', 'censors', 'arnica', 'n', 'batterie', 'Herzog', 'NAREB', 'dashboard', 'YMCA', 'poshest', 'natives', 'persecutory', 'planking', 'broth', 'accessories', 'dazzled', 'dazzles', 'dazzler', 'pathology', 'Tell', 'Handing', 'Abstraction', 'border', 'metaphorical', 'Woodruff', 'beside', 'drawback', 'Remarks', 'Imaginary', 'Clumps', 'Contraction', 'peaks', 'rotor', 'numerical', 'peaky', 'Oleg', 'Beckworth', 'Cascading', 'goofed', 'darned', 'shortly', 'loblolly', 'possessed', 'vacuumed', 'ocean', 'Manager', 'impediment', 'multistage', 'admiringly', 'possesses', 'leaguer', 'leagues', 'rubies', 'assembling', 'graded', 'proposed', 'unemployment', 'physique', 'Thevenow', 'bruise', 'rodent', 'proposes', 'grades', 'grader', 'Hegelian', 'leagued', 'followed', 'rivulets', 'gunner', 'scattering', 'propitiate', 'enlighten', 'dissenters', 'instance', 'cherry', 'creased', 'sacredness', 'consideration', 'Konstantin', 'flavorings', 'gave', 'salacious', 'Heart', 'breaks', 'Doolin', 'Skyline', 'descending', 'burns', 'burnt', 'rumor', 'melting', 'Relevant', 'brutality', 'mansions', 'zeal', 'contradict', 'Unmarried', 'Echo', 'Heard', 'majored', 'pursues', 'reams', 'Hearn', 'Again', 'Merchants', 'stringing', 'envision', 'spongy', 'selectivity', 'clucks', 'usher', 'election', 'Plates', 'welcomes', 'contests', 'rapidity', 'renamed', 'circumscribed', 'mystified', 'Nazarova', 'grapefruit', 'loins', 'skylight', 'offices', 'Burnside', 'Accepted', 'Tradition', 'officer', 'khaki', 'brawl', 'newcomer', 'wigmaker', 'attacks', 'McCone', 'blabbed', 'choke', 'dinner', 'Scarface', 'horseplay', 'xenon', 'tannin', 'Szold', 'duke', 'donates', 'aber', 'disaffiliate', 'unsalted', 'extremis', 'lavishly', 'obscene', 'bath', 'abed', 'ussr', 'bats', 'dissenting', 'Islanders', 'anorexia', 'infidelity', 'Vapor', 'Amen', 'vaccination', 'transoceanic', 'sunlight', 'dreamin', 'Break', 'stuck', 'striding', 'Infamous', 'Congratulations', 'interrelation', 'Periclean', 'fragrance', 'Mosque', 'bottlenecks', 'pp.', 'payable', 'Ventilation', 'forborne', 'lizards', 'sponge', 'Brevet', 'consequences', 'Vom', 'Von', 'Tensing', 'panicky', 'worshipful', 'suspicions', 'limbic', 'sometime', 'Taylors', 'warhead', 'liberalism', 'silliest', 'inborn', 'eerie', 'when', 'Rinker', 'Cornwall', 'Rouben', 'wher', 'bumptious', 'beheading', 'setting', 'soundly', 'implant', 'erosion', 'company', 'undeniably', 'picture', 'Blueprints', 'tasteful', 'suppers', 'football', 'flushed', 'faster', 'initiates', 'sacks', 'verve', 'vigorously', 'Clifton', 'uncovered', 'unchallenged', 'remarked', 'fasten', 'nuclei', 'roi', 'logarithms', 'winnings', 'affair', 'rob', 'rod', 'Sonny', 'tripartite', 'Hiram', 'functioned', 'Gets', 'rot', 'row', 'inverse', 'clarification', 'Smithsonian', 'passage', 'aplomb', 'unconcernedly', 'determinations', 'allocate', 'Corning', 'exalted', 'frequencies', 'emphasizes', 'unfamiliar', 'Creepers', 'congregation', 'tanks', 'emphasized', 'bathos', 'hydraulically', 'incitement', 'clouds', 'impressive', 'level', 'posts', 'Shakespearean', 'cloudy', 'standards', 'Purely', 'domestically', 'differential', 'Accounts', 'lever', 'bisque', 'Debate', 'tenths', 'Novo', 'pork', 'illustrating', 'tougher', 'trend', 'injunction', 'pore', 'Nova', 'patriarch', 'widened', 'Ledyard', 'soldiers', 'Savory', 'bales', 'port', 'irritated', 'reelection', 'stately', 'evaporative', 'axial', 'goes', 'Qui', 'throughput', 'jilted', 'Nov.', 'Apology', 'tabulation', 'slaying', 'femininity', 'entertain', 'witch', 'Pebworth', 'boast', 'rethink', 'Shrewd', 'Francesco', 'Francesca', 'Maine', 'Leet', 'shootings', 'Lees', 'Visiting', 'problematic', 'hadd', 'Languages', \"Dan'l\", 'Therefore', 'bribers', 'antagonists', 'crisis', 'bulbs', 'Sienkiewicz', 'runes', 'Hoffa', 'variously', 'prey', 'prep', 'today', 'chapter', 'teased', 'survivalist', 'diurnal', 'These', 'Pellegrini', 'Walford', 'cased', 'fuel', 'cases', 'Fat', 'spoilage', 'unscrewed', 'Charter', 'orderliness', 'edible', 'depressants', 'posthumous', 'inveterate', 'pickle', 'Ground', 'nursing', 'figure', 'doubting', 'avocation', 'inexperience', 'critic', 'unloads', 'Felske', 'Acropolis', 'Dilys', 'naivete', 'Concerning', 'meager', 'vital', 'fourth', 'Demand', 'ensure', 'Ormoc', 'husbandry', 'deification', 'inveigh', 'Macklin', 'digesting', 'eighty', 'informs', 'trickling', 'apprenticeship', 'Valery', 'Pinar', 'Exclusive', 'disheartening', 'syndicates', 'Furious', 'reaped', 'succeeded', 'Coal', 'inform', 'pastilles', 'representation', 'pidgin', 'spat', 'fallout', 'Hunting', 'imitative', 'dials', 'mantlepiece', 'Higher', 'farmed', 'demeans', 'Jury', 'Rules', 'guiltiness', 'Wesley', 'Anson', 'farmer', 'Matamoras', 'loophole', 'leggy', 'Throne', 'Wildlife', 'qualifies', 'bouffe', 'Cyclades', 'Koenigsberg', 'Augusta', 'qualified', 'refrigerated', 'fern', 'patriotic', 'escorting', 'blueprints', 'stabilize', 'Lindemann', 'debating', 'Methodism', 'importation', 'eighties', 'busts', 'torch', 'shrillness', 'whiplash', 'catching', 'farewell', 'Petersburg', 'Eugenia', 'unrestrictedly', 'Emil', 'concur', 'precooked', 'intercourse', 'tensions', 'UGF', 'liveliness', 'abounding', 'Jager', 'Throw', 'coolers', 'eagle', 'virtues', 'existed', 'sympathize', 'dispatched', 'treatments', 'sloshed', 'git', 'telepathy', 'dispatches', 'manikin', 'Widen', 'Spear', 'referent', 'Battery', 'congressman', 'pandemic', 'Sign', 'turn', 'handicrafts', 'Anticipating', 'outbreaks', 'Wider', 'turf', 'Speak', 'sneezing', 'dumb', 'accruing', 'wholesalers', 'parasols', 'Horowitz', 'unattainable', 'cheerfully', 'squashed', 'gig', 'spurned', 'Carolingian', 'Commercial', 'renderings', 'minter', 'Silently', 'woodcarver', 'malevolent', 'Pickford', 'Airpark', 'Orso', 'Brendan', \"men's\", 'stylized', 'enigma', 'naught', 'grunt', 'Adrar', 'reinforce', 'Sears', 'accused', 'ooze', 'cards', 'pulsation', 'scoreboards', 'Pottawatomie', 'overfill', 'Vida', 'measure', 'overtones', 'suspense', 'Navona', 'exchanging', 'amateur', 'Tory', 'batting', 'Karlis', 'subsystems', 'astonishingly', 'wanderer', 'unifying', 'imagined', 'Topeka', 'sciences', 'animation', 'resembling', 'Sauternes', 'tambourine', 'improvisations', 'surf', 'roleplaying', 'commonplace', 'Institutions', 'Dealers', 'printable', 'indelible', 'deadlock', 'TV', 'insets', 'donation', 'indelibly', 'latex', 'glycosides', 'Whoever', 'NRA', 'proud', 'pores', 'beaded', 'joys', 'pored', 'grasshoppers', 'applicator', 'ADC', 'uninterested', 'everlastingly', 'drastically', 'spaced', 'Anglophilia', 'cheat', 'pursuant', 'Research', 'dirge', 'spacer', 'spaces', 'inshore', 'painlessly', 'trot', 'Publishers', 'nadir', 'gulf', 'gull', 'written', 'gulp', 'furthering', 'Binomial', 'believing', 'glandular', 'Mimi', 'fatherly', 'Louis', 'masking', 'broadest', 'Mullen', 'Edythe', 'disharmony', 'heisted', 'neither', 'burlesque', 'homestead', 'contrivances', 'joked', 'doble', 'jokes', 'barbaric', 'predicted', 'Plympton', 'Nell', \"y'all\", 'signs', 'slashing', 'Bits', 'sceneries', 'Chicagoans', 'surfaces', 'Vigorous', 'voluntary', 'managing', 'illusionary', 'Campo', 'commitments', 'surfaced', 'barging', 'ketosis', 'Himalayas', 'guitar', 'harshly', 'Westerly', 'Indigestion', 'Tolstoy', 'acquiring', 'Colonna', 'Irma', 'quiet', 'contract', 'scrutiny', 'boomerangs', 'designations', 'railway', 'filtering', 'Proceeding', 'constancy', 'Travel', 'squads', 'furs', 'insist', 'disproportionately', 'oversubscribed', 'stroking', 'turkey', 'enunciated', 'spotlights', 'subscribed', 'Meeker', 'featuring', 'direction', 'exasperate', 'Madama', 'downwind', 'Madame', 'surreptitiously', 'Cambridgeport', 'ashtrays', 'spirit', 'Laws', 'case', 'Aeronautics', 'predominately', 'Stetson', 'cash', 'cask', 'cast', 'Laurel', 'Lauren', 'Open', 'colleague', 'pomaded', 'Dionysian', 'ironic', 'impaled', 'Salton', 'Characteristically', 'Snead', 'revolutions', 'participant', 'author', 'Frenchmen', 'fender', 'Swiftly', 'levity', 'manila', 'subtitled', 'jazzmen', 'spatter', 'huzzahs', 'frequented', 'week', 'Aphrodite', 'tipsy', 'Antone', 'advancements', 'publicized', 'weed', 'director', 'delicate', 'imponderable', 'Banks', 'Sidewalk', 'Antony', 'Dream', 'electromagnetism', 'relies', 'Psychoanalytic', 'sinned', 'rupee', 'Pure', 'without', 'relief', 'deflated', 'inability', 'bodies', 'sinner', 'Pink', 'aimlessly', 'ninth', 'spliced', 'cease', 'polish', 'Decorators', 'persiflage', 'Belgian', 'Municipal', 'liters', 'Author', 'Missile', 'airfield', 'ditties', 'lets', 'Lamentation', 'bleats', 'flashing', 'Slough', 'Manu', 'omnipotence', 'Many', 'papers', 'Ortega', 'Mana', 'mahua', 'Accompanied', 'U.N.', 'Mann', 'acute', 'Brave', 'towel', 'Bravo', 'Consul', 'towed', 'preparedness', 'papery', 'Switches', 'knuckleball', 'donations', 'Majestic', 'tower', 'squeals', 'snatches', 'gusts', 'shillings', 'Aschenbach', 'Reuben', 'competition', 'Located', 'Master', 'Ellen', 'snatched', 'redeeming', 'lentils', 'developmental', 'mood', 'Sherrill', 'frees', 'freer', 'mercenaries', 'rooming', 'depletion', 'teardrop', 'hipster', 'imputed', 'porter', 'Extreme', 'Schley', 'cringing', 'slaughter', 'Schlek', 'abstractions', 'Forsyth', 'parishioners', 'resurrection', 'lifeboats', 'Blush', 'stereotypes', 'beaches', 'Burial', 'fillings', 'reprisals', 'discussed', 'Liaison', 'Handley', 'thousands', 'pistachio', 'whence', 'disintegrate', 'Marsden', 'discusses', 'tribe', 'Nunes', 'nods', 'curses', 'instruments', 'Cumulative', 'warbling', 'cursed', 'rising', 'syringe', 'syringa', 'Postmaster', 'Obelisk', 'Norma', 'there', 'relocation', 'alleged', 'cultured', 'junctures', 'resolute', 'Norms', 'cultures', 'Mingus', 'Singer', 'Compute', 'Ordinarily', 'Tunis', 'Permit', 'crystallite', 'rouse', 'Narragansett', 'wholesale', 'artisans', 'extermination', 'incise', 'jellies', 'grasp', 'flats', 'grass', 'creeping', 'Lancaster', 'accentuated', 'taste', 'measurement', 'hardboiled', 'cockeyed', 'accentuates', 'tasty', 'firebug', 'overflowing', 'piracy', 'deserve', 'Eternal', 'Dark', 'roses', 'Darn', 'immunity', 'Pulitzer', 'deviation', 'mummies', 'Pretend', 'Jaguar', 'pillows', 'embattled', 'uncorked', 'finale', 'Foundry', 'bullets', 'sociologists', 'inroads', 'finals', 'lipstick', 'Satisfactory', 'assassins', 'hammock', 'wife', 'teleology', 'Deegan', 'Darlene', 'platted', 'directors', 'treason', 'directory', 'numbing', 'platter', 'Maple', 'crumpled', 'wreath', 'mismanaged', 'Hendrik', 'coach', 'generalize', 'barons', 'meditation', 'denotes', 'decisions', 'barony', 'glimpse', 'apartment', 'sociological', 'extraneous', 'dairy', 'adjudicate', 'Frequently', 'lawmakers', 'crest', 'Axioms', 'tethered', 'incorporate', 'infringement', 'Alaska', 'Report', 'prognostication', 'snapdragons', 'vacationing', 'treating', 'leads', 'Dickey', 'clinched', 'list', 'Getz', 'Rest', 'retied', 'phonology', 'Carla', 'Carriages', 'liars', 'threshing', 'renouncing', 'indemnity', 'clincher', 'clinches', 'familiarly', 'flick', 'employing', 'escalation', 'abstracted', 'Willow', 'Ease', 'breakers', 'butyrate', 'invention', 'Easy', 'yokel', 'subspecies', 'East', 'stickpin', 'distributorship', 'Ionizing', 'sue', 'demure', 'musts', 'sun', 'sum', 'rascal', 'brief', 'Drs.', 'version', 'pulpit', 'musta', 'intersect', 'sup', 'womb', 'compresses', 'toes', 'mayoral', 'drudgery', 'Gloves', 'compressed', 'equations', 'tragedy', 'Canute', 'underhanded', 'qualify', 'Mathewson', 'Kolb', 'horrified', 'stiffness', 'Principle', 'tragedians', 'binders', 'Thoroughly', 'solitude', 'Providence', 'Louisville', 'enlivened', 'Gisele', 'Truly', 'herring', 'environment', 'endurable', 'Circumstance', 'rustic', 'Supper', 'Immediately', 'discipleship', 'affluence', 'Amonasro', 'flat', 'darting', 'newlyweds', 'Erich', 'Buell', 'presumes', 'sorcery', 'flax', 'mutely', 'Morocco', 'Masu', 'Mass', 'hissed', 'Laplace', 'presumed', 'Libyan', 'Lightly', 'Gymnasium', 'besides', 'ineffectual', 'Finalists', 'Apropos', 'absently', 'Indefinite', 'salted', 'Nepal', 'duets', 'conspire', 'claps', 'metamorphosis', 'Hinduism', 'Thompson', 'Democratique', 'Bowdoin', 'Fortin', 'liveried', 'ordinance', 'Cannon', 'irrigate', 'untied', 'occasionally', 'interrogator', 'detonation', 'handsomer', 'okay', 'flip', 'orbits', 'widthwise', 'cadmium', 'lighting', 'adventure', 'Chappell', 'concentrating', 'Ceremonial', 'proclaimed', 'short', 'Aiken', 'meticulous', 'Tsunami', 'supervision', 'climaxed', 'shore', 'extrapolation', 'Democrats', 'climaxes', 'encased', 'anachronism', 'lifeguards', 'Bottom', 'Alsop', 'Tessie', 'closeness', 'Same', 'Lorrain', 'chansons', 'pretext', 'avenue', 'thirtieth', 'millinery', 'Cigarette', 'Roach', 'Monticello', 'clashes', 'bout', 'soccer', 'oftentimes', 'somebody', 'generously', 'Trimmer', 'adoption', 'hunter', 'eclectic', 'Era', 'Pleasure', 'hunted', 'Seward', 'adventurous', 'instructions', 'Longue', 'incited', 'mathematician', 'liniment', 'Danger', 'philology', 'Curtiss', 'accommodates', 'mastered', 'Midwood', 'Ready', 'accommodated', 'intolerable', 'Larson', 'bolstering', 'tilted', 'weight', 'oppressed', 'Huddle', 'Butcher', 'Mud', 'levee', 'loops', 'Sprinkle', 'croaking', 'impersonation', 'alcohol', 'foolproof', 'disquiet', 'hilt', 'hill', 'installing', 'enciphered', 'compounding', 'Bryce', 'roofs', 'guess', 'tassels', 'Opinion', 'guest', 'echelons', 'Rude', 'seahorse', 'bourgeoisie', 'Tempter', 'prejudice', 'avec', 'fallen', 'Blanc', 'connotation', 'greenware', 'shrewish', 'seeming', 'Oklahoma', 'vellum', 'traveled', 'Connelly', 'Territories', 'enlarged', 'Indian', 'traveler', 'Sinan', 'Sinai', 'story', 'scathing', 'Dictionary', 'talismanic', 'gpd', 'automobile', 'interviews', 'shooting', 'Fayette', 'Pleasant', 'irritates', 'Larry', 'storm', 'ventricle', 'store', 'untold', 'Bevel', 'calculations', 'Dangerous', 'retinal', 'luckily', 'rifle', 'versatility', 'shrunken', 'king', 'kind', 'excitability', 'scabbard', 'Chickasaws', 'Elementary', 'scanners', 'dried', 'unrelenting', 'Ballet', 'skyscrapers', 'exert', 'Dearly', 'shrewd', 'overran', 'tongued', 'Westport', 'smallpox', 'hopelessly', 'Moreland', 'Iceland', 'Relativism', 'Gute', 'entirety', 'humanize', 'Eppler', 'foamed', 'banjo', 'electric', 'populate', 'exec', 'gild', 'inconvenience', 'Equal', 'architects', 'Bugs', 'Bohemian', 'gilt', 'defensible', 'probabilistic', 'patterned', 'farmhouses', 'dealers', 'tightening', 'Gaither', 'traditional', 'forerunner', 'satirical', 'acclaims', 'liberate', 'Chapters', 'lying', 'parsimonious', 'Colfax', 'Muong', 'stumped', 'inflexible', 'howls', 'Suite', 'emulsion', 'Brumby', 'stifle', 'Resident', 'Lacking', 'grazed', 'suburbanized', 'Epsilon', 'original', 'grazer', \"mom's\", 'founding', 'gains', 'invoke', 'ungrateful', 'librarians', 'Specialties', 'grievances', 'adulthood', 'bona', 'engraver', 'catharsis', 'precaution', 'relentless', 'wrote', 'Whitehead', 'excellences', 'defense', 'chambers', 'heaped', 'skill', 'Reformed', 'visualize', 'threats', 'axially', 'underpinning', 'surmounted', 'Mmmm', 'Quell', 'Fogelson', 'obscenities', 'frugality', 'solo', 'misstep', 'grappling', 'silicone', 'sold', 'attention', 'Manual', 'betrayer', 'fatality', 'betrayed', 'inertia', 'Bonnor', 'paradigms', 'Meadow', 'bandit', 'Apollonian', 'operas', 'footballs', 'asceticism', 'Counseling', 'Spurdle', 'Trujillo', 'Cheddi', 'Cotton', 'reside', 'nettled', 'distress', 'sweet', 'wastebasket', 'sweep', 'regulated', 'village', 'banditos', 'tepees', 'startling', 'gypsum', 'Lovie', 'deuterated', 'Ibrahim', 'Cement', 'suffocating', 'fieldstone', 'Properties', 'adenomas', 'Sunay', 'institutionalized', 'flight', 'precision', 'Corinth', 'softest', 'cinch', 'demand', 'notables', 'instructor', 'curdling', 'Booty', 'shove', 'workmen', 'frozen', 'Boots', 'Booth', 'shortened', 'concurrently', 'napped', 'antithesis', 'Vicenza', 'demon', 'Hatfield', 'obstacle', 'Dominated', 'laundered', 'Harbors', 'Continuum', 'chestnuts', 'shirt', 'stomachs', 'sachems', 'badgering', '9', 'yucca', 'daughters', 'higher', 'pouches', 'exigencies', 'restraint', 'Ranch', 'demarcated', 'restrains', 'essences', 'peacemaking', 'liquids', 'contractors', 'Crossing', 'Zemlinsky', 'Floating', 'bourgeois', 'Munroe', 'objecting', 'Miller', 'magnified', 'Food', 'sneered', 'magnifies', 'unmated', 'Liberalism', 'unseen', 'emerge', 'prorate', 'Sec.', 'humaine', \"We're\", 'comprehensively', 'racially', 'prince', 'meanest', 'Ironically', 'grottoes', 'speedily', 'difficile', 'Matsu', 'erudite', 'tormented', 'acrobatics', 'finder', 'generalized', 'Thou', 'discriminatory', 'fleas', 'Thor', 'Thom', 'glazing', 'Foliage', 'macromolecular', 'doorways', 'skeptical', 'systematically', 'admittedly', 'phosphors', 'separately', 'collect', 'Dearie', 'alternatively', 'divining', 'Communion', 'prank', 'engravings', 'Lemon', 'roofer', 'touchdown', 'Sixties', 'hurriedly', \"O'Dwyers\", 'Prosecutor', 'controllers', 'drunkenly', 'Klimt', 'seamen', 'suddenness', 'rectitude', 'pegboard', 'contrasting', 'meretricious', 'perpendicular', 'Tennyson', 'refused', 'zombie', 'Prejudice', 'obeys', 'refuses', 'vaccine', 'projector', 'pipeline', 'asserting', 'neuropsychiatric', 'Ron', 'kitchenette', 'Rob', 'glaucoma', 'Rod', 'Roe', 'rangy', 'Roy', 'range', 'hydrolyzed', 'quashed', 'Keizer', 'complimentary', 'fluttering', 'youthful', 'Row', 'calloused', 'Andersen', 'Urbano', 'Moffett', 'tappets', 'Urbana', 'heedless', 'purporting', 'artifice', 'flagellated', 'inventories', 'strumming', 'stench', 'impressed', 'rows', 'acquiesce', 'carreer', 'lone', 'long', 'childishness', 'summertime', 'upheld', 'Appaloosas', 'squirt', 'Hrothgar', 'solidity', 'understands', 'monomers', 'reassurance', 'supinely', 'Austin', 'allotted', 'Petipa', 'remunerative', 'doubloon', 'fulfilling', 'Wesleyan', 'landscaped', 'sanguineum', \"hasn't\", 'Maryinsky', 'Mignon', 'diagrams', 'fluctuations', 'etc.', 'archenemy', 'exposures', 'sometimes', 'tiniest', 'Saxony', 'roared', 'steeped', 'sepia', 'Saxons', 'sagebrush', 'Attack', 'reservoirs', 'rally', 'rained', 'Indicating', 'steeper', 'boatyards', 'rainbow', 'peach', 'marching', 'peace', 'Jorge', 'Ignorance', 'saffron', 'Opera', 'Cost', 'Personally', 'bandstand', 'Naomi', 'Colts', 'nice', 'dictating', 'TNT', 'users', 'gloss', 'smitten', 'cityscapes', 'breasts', 'fertilized', 'dragnet', 'bonding', 'shunts', 'fertilizer', 'posters', 'wrinkle', 'Indirect', 'happier', 'Curling', 'Stansbery', 'contender', 'wildness', 'Deller', 'bulletin', 'impatient', 'vocally', 'Turner', 'buffalo', 'reined', 'kettle', 'Based', 'carnality', 'Basel', 'alien', 'dispel', 'windy', 'gang', 'winds', 'loyalty', 'Manningham', 'cruiser', 'uphold', 'Monagan', 'inbreeding', 'graybeards', 'fortresses', 'languages', 'careened', 'Deadly', 'breach', 'include', 'dandy', 'overstraining', 'confirmation', 'mainstream', 'ladle', 'Rhodes', 'disquieting', 'P', 'foretell', 'Bruckmann', 'Congdon', 'disclaimed', 'extenuate', 'Coletta', \"cap'n\", 'melodies', 'friendliness', 'disclaimer', 'concluded', 'Cygne', 'plows', \"you'd\", 'Nocturne', 'wrestling', 'malice', 'Hap', 'Novaya', 'reunion', 'acid', 'makers', 'folk', 'Mekong', 'unavailable', 'bibliophiles', 'showcase', 'concessions', 'Practically', 'bearish', 'Webster', 'occupation', 'Former', 'unruly', 'chose', 'degree', 'Grovers', 'wraps', 'monetary', 'youngest', 'Apostles', 'explore', 'adjoined', 'Begley', 'settling', 'Goodis', 'Arvey', 'Selection', 'survivor', 'distressed', 'Haverfield', 'larger', 'shades', 'stupidity', 'suggests', 'imperfectly', 'Palm', 'Pall', 'Palo', 'submerged', 'lighthearted', 'Pale', 'pajama', 'distresses', 'falsity', 'duct', 'Ships', 'improbably', 'apt', 'hardy', 'captaincy', 'duck', 'doubtfully', 'Beaming', 'segregating', 'Gwen', 'from', 'frog', 'procrastinate', 'examination', 'brushwork', 'Arranging', 'eagles', 'circuitous', 'freezers', 'secretions', 'homopolymers', 'opiates', 'Confederate', 'Gun', 'antennae', 'Integration', 'Gus', 'Rameau', 'capitulated', 'parrots', 'prepublication', 'antennas', 'Guy', 'verity', 'concierge', 'fraternize', 'mounded', 'Plainfield', 'accrues', 'cubists', 'columns', 'executor', 'Vamp', 'Varner', 'dissolve', 'ordained', 'sinister', 'jobless', 'thirsty', 'nonverbal', 'inaccessible', 'Forests', 'assumptions', 'Australian', 'autobiography', 'provoke', 'syndrome', 'hinders', 'cliches', 'justifiable', 'sidewalks', 'struggles', 'roughness', 'Garments', 'justifiably', 'struggled', 'adventurers', 'Campobello', 'typewriter', 'restructured', 'Cowbird', 'Reading', 'Soba', 'attend', 'tact', 'militarist', 'normalcy', 'tack', 'wrist', 'unnaturally', 'arrogantly', 'Inability', 'somethin', 'Vickery', 'majorities', 'Vickers', 'arduous', 'manganese', 'budge', 'Sonenberg', 'tenure', 'Kings', 'perishing', 'sanctioned', 'reeling', 'accretions', 'Interference', 'interpreted', 'strove', 'Tobin', 'interpreter', 'unchecked', 'dismaying', 'superior', 'Cecilia', 'inconsistency', 'glee', 'flautist', 'Lublin', 'distraction', 'crowds', 'deductive', 'campaigned', 'Ibn', 'idiomatic', 'impressing', 'Eddies', 'dilates', 'Deloris', 'dimensioning', 'ambition', 'crystallographers', 'Turnover', 'landings', 'articles', 'clippings', 'edit', 'enviable', 'ale', 'Copley', 'begs', 'trimmed', 'congregate', 'Eliminating', 'hosses', 'dogmatic', 'cocoon', 'invitees', 'rhythmic', 'oui', 'cry', 'oud', 'Ronnel', 'leavin', 'Chaucer', 'our', 'Structures', 'repulsive', 'out', 'Improper', 'honorably', 'sentiment', 'carbines', 'cerebral', 'gossamer', 'Ouzo', 'herded', 'honorable', 'Unique', 'concededly', 'Average', 'disclose', 'Fists', 'pours', 'Willett', 'Unconcerned', 'Mattie', 'Stupid', 'Paganini', 'tenant', 'Agnes', 'organic', 'g', 'zoologist', 'Durante', 'regaining', 'Hyde', 'hence', 'biting', 'footnotes', 'gentlemanly', 'museum', 'Baldness', 'embryo', 'obscurity', 'signboard', 'proviso', 'realtors', 'bonnet', 'eleventh', 'Electrical', 'representations', 'filial', 'umbrellas', \"doesn't\", 'unknown', 'eighth', 'priority', 'Vegas', 'Hawk', 'Moscone', 'misunderstood', 'tidbit', 'unceasing', 'consoling', 'rebuttal', 'Trader', 'mules', 'diminish', 'astounded', 'commodity', 'objectionable', 'cheekbone', 'McDermott', 'Vessel', 'Peter', 'yodel', 'Diego', 'tracts', 'coalesced', 'fowl', 'Anton', 'teenagers', 'coalesces', 'delineated', 'Jody', 'Forgiveness', 'linked', 'ringed', 'pallor', 'Howsam', 'pupils', 'homebuilders', 'bough', 'Bayerische', 'syndicated', 'Johansen', 'misplacing', 'Dewey', 'collaboration', 'who', 'accountants', 'digestive', 'Panels', 'Cyprian', 'Lindsay', 'prophecies', 'polyester', 'Slim', 'Actions', 'pipe', 'blowup', 'swarming', 'Everybody', 'Whose', 'Huck', 'balding', 'pleases', 'artfully', 'chapters', 'Chemical', 'docilely', 'Terral', 'woodcutters', 'weekly', 'utter', 'fear', 'feat', 'pleased', 'postulates', 'nearer', 'Dickson', 'neared', 'studded', 'he', 'local', 'plazas', 'cube', 'topple', 'harmed', 'Enright', 'massacre', 'sponsors', 'burglars', 'malaise', 'misbranded', 'coordinating', 'burglary', 'Providing', 'statutes', 'Holman', 'Plastics', 'married', 'nonracial', 'Ambushes', 'juror', 'ascertain', 'marries', 'available', 'requirement', 'Philco', 'Ungava', 'humiliation', 'buzzed', 'Gildas', 'endothermic', 'Hostile', 'seafarers', 'drawling', 'monstrous', 'droughts', 'favor', 'chairmanship', 'identification', 'fifties', 'wetting', 'boughs', 'limit', 'defacing', 'Diagnoses', 'Gordin', 'jot', 'conclave', 'opening', 'horrifyingly', 'joy', 'steepest', 'Democrat', 'job', 'takeover', 'scoreless', 'stucco', 'Mets', 'Donnelly', 'lifeboat', 'theoreticians', 'incident', 'april', 'resuspension', 'Sustaining', 'Dealer', 'grounds', 'unclear', 'Lila', 'Annie', 'Harriman', 'lyricist', 'Lili', 'environments', 'Huston', 'heredity', 'Subjects', 'symphonies', 'Lonsdale', 'connotes', 'Lily', 'electrocardiogram', 'unclean', 'abrogated', 'platform', 'decent', 'grindstone', 'trademark', 'responds', 'boatman', 'pleading', 'remedies', 'Vale', 'Guild', 'puberty', 'Face', 'ensuring', 'McGruder', 'pageants', 'tangible', 'Fellows', 'Ennis', 'admonishments', 'lanthanum', 'fearful', 'speculator', 'stunning', 'medicinal', 'motif', 'ringing', 'thus', 'Mines', 'crassness', 'rooster', 'thum', 'Marchand', 'lightweight', 'thug', 'Troup', 'gyroscopes', 'Trout', 'Rimini', 'pilgrimages', 'perhaps', 'Culver', 'maddening', 'Wishing', 'temptingly', 'lyricists', 'exuberance', 'geographical', 'largest', 'misogynist', 'disciple', 'difficult', 'clamors', 'Measuring', 'slave', 'conceived', 'disagree', 'overcrowded', 'recriminations', 'picayune', 'Rauschenberg', 'Loosli', 'laborious', 'misconception', 'warming', 'Houston', 'correspondent', 'aquisition', 'undertaker', 'timbre', 'castigation', 'banging', 'Rome', 'cowering', 'tubers', 'Ruppert', 'excessive', 'camel', 'coffeepot', 'germanium', 'outdo', 'Weeks', 'Nicholas', 'Liebler', 'recreational', 'Crumley', 'guts', 'arresting', 'clothier', 'tawny', 'usage', 'jars', 'smart', 'Pearson', 'MacWhorter', 'wagon', 'Homeowners', 'execute', 'frighteningly', 'suspiciously', 'Components', 'catchers', 'press', 'countervailing', 'name', 'unimpeachably', 'showing', 'safest', 'perpetual', 'Treece', 'roundly', 'feigned', 'hosts', 'smoothness', 'wonders', 'darbuka', 'Sue', 'smoothly', 'Sun', 'Sum', 'church', 'naval', 'fodder', 'melee', 'Sut', 'Sur', 'vicarious', 'employment', 'Biblical', 'breakthroughs', 'Sponsors', 'staccato', 'dipoles', 'pasty', 'FN', 'ripped', 'moldboard', 'inescapable', 'Remove', 'fords', 'storekeepers', 'Ellamae', 'pike', 'Jurists', 'rare', 'carried', 'Dufresne', 'abstinence', 'carries', 'carrier', 'Americans', 'Addison', 'Portrait', 'Pointer', 'outset', 'polished', 'Gorton', 'wilderness', 'Juan', 'Angelico', 'weather', 'promise', 'lawful', 'zoology', 'shortsightedness', 'fawning', 'Finance', 'Capetown', 'spiral', 'trenches', 'Invitations', 'Amy', 'Brinsley', 'Stoic', 'scintillating', 'initiation', 'Execution', 'Amt', 'Greasy', 'bronchi', 'hilar', 'catsup', 'volume', 'Turandot', 'automated', 'trimester', 'assail', 'Fantasia', 'Consumer', 'Calder', 'Lieut', 'protesting', 'fossilized', 'Tawney', 'distract', 'sorriest', 'Britain', 'graphite', 'cake', 'gullibility', 'sympathizing', 'monastic', 'bewail', 'Descent', 'carborundum', 'resourcefully', 'maroon', 'sheered', 'congealed', 'tumultuous', 'Geometric', 'champion', 'keno', 'monopolists', 'incredible', 'Oxidation', 'glint', 'gabbling', 'corkscrew', 'curtained', 'Elsinore', 'repute', 'incredibly', 'conclusion', 'Barrington', 'kinds', 'shredded', 'nourishment', 'Future', 'pumps', 'kinda', 'squeak', 'squeal', 'coupling', 'Surviving', 'Lavaughn', 'seceding', 'riboflavin', 'conveying', 'tulips', 'Ditch', 'sash', 'unscientific', 'writings', 'pacemaker', 'impersonalized', 'fig.', 'yellow', 'Sugar', 'Abbas', 'aegis', 'ornate', 'Woodwards', 'Seekonk', 'briskness', 'Tiles', 'herpetologists', 'electricity', 'unanswered', 'Hiroshima', 'Casey', 'fingernails', 'Cases', 'Winooski', 'homemakers', 'valeur', 'swivel', 'Riegger', 'dynamic', 'preceeded', 'regional', 'dell', 'forties', 'differentiated', 'Markel', 'yachting', 'protest', 'committeemen', 'tensile', 'intensification', 'succession', 'debuting', 'Evidently', 'Bolivia', 'Screw', 'charter', 'glassy', 'daybed', 'switchblade', 'stiffens', 'budget', 'rampart', 'crisply', 'charted', 'sterile', 'Townsend', 'admire', 'Appeal', 'dangled', 'whaling', 'ruthless', 'decry', 'Dakota', 'Poltava', 'Hooper', 'increasing', 'Presidential', 'pictorially', 'insinuation', 'bronchiolitis', 'Sioux', 'intentioned', 'error', 'Budget', 'Unpublished', 'Stuttgart', 'dogwood', 'Yuki', 'Flannagan', 'Elman', 'hollyhocks', 'cages', 'military', 'NOP', 'Compared', 'divide', 'Frist', 'besets', 'explained', 'Physique', 'Gatlinburg', 'summons', 'remnant', 'Savoyards', 'Skeptics', 'scoffed', 'Irishmen', 'cheating', 'spoke', 'tardiness', 'Slate', 'impartiality', 'overshadow', 'glimmering', 'Anticipated', 'statesmanship', 'telegraph', 'heralded', 'Stepanovich', 'segregationist', 'relay', 'relax', 'successful', 'motors', 'whirling', 'hurt', 'tying', 'hurl', 'pontifical', 'tiptoeing', 'pronouncing', 'famed', 'blade', 'Lung', 'Gogol', 'Lund', 'fames', 'DPW', 'vanities', 'unstuffy', 'household', 'bitterest', 'organized', 'Insulate', 'Reality', 'Brian', 'cryostat', 'Holding', 'organizes', 'rescue', 'preferably', 'Eagle', 'yuh', 'complaining', 'handguns', 'damage', 'machine', 'methodology', 'cheetah', 'agglutination', 'preferable', 'cheetal', 'gaming', 'Metabolite', 'modulation', 'envied', 'connects', 'pimps', 'possum', 'destined', 'mortars', 'chump', 'calves', 'effective', 'scourge', 'wins', 'attracts', 'Walkers', 'luring', 'Haskell', 'snowballs', 'specks', 'Another', 'keeps', 'Manitoba', 'Totalitarianism', 'Holley', 'wing', 'wind', 'evocations', 'restriction', 'Requirements', 'misdemeanor', 'vary', 'Brew', 'Ruffians', 'soothingly', 'diagonally', 'Spangled', 'directional', 'revenue', 'matured', 'Prohibited', 'endeavoring', 'hidden', 'glorify', 'universalistic', 'enrich', 'commemorate', 'tenancy', 'Stark', 'Robbery', 'Cards', 'township', 'silver', 'structural', 'represents', 'Finders', 'Ado', 'dumps', 'shoelace', 'Mouse', 'queued', 'Seidel', 'expectancy', 'preceded', 'financial', 'garment', 'displacement', 'bowls', 'precedes', 'fortnight', 'laboratory', 'blinded', 'Alastor', 'diction', 'waive', 'Awkwardly', \"Simpson's\", 'Godfrey', 'rented', 'assured', 'peddler', 'Systematically', 'University', 'cholesterol', 'midpoint', 'fugitive', 'Liner', 'sensory', 'assures', 'sensors', 'contrition', 'knit', 'quickstep', 'Raphael', 'Hord', 'secularism', 'obsolescent', 'ups', 'resonable', 'secularist', 'Human', 'potions', 'relentlessness', 'necessity', 'carryover', 'wasp', 'subtlety', 'Please', 'Yoknapatawpha', 'wash', 'instruct', 'Rall', 'Quarterly', 'niger', 'Wharton', 'Proctor', 'contralto', 'outstandingly', 'cooling', 'theatrically', 'listed', 'blossoms', 'hardboard', 'postulate', 'legs', 'Random', 'listen', 'collapse', 'predictably', 'fibrous', 'bounty', 'frowned', 'wisdom', 'Ratcliff', 'predictable', 'hayfields', 'Bertoia', 'Beautiful', 'outlay', 'Plummer', 'outlaw', 'crave', 'Poussin', 'endure', 'seminary', 'recheck', 'Angelo', 'Gradually', 'Angell', 'groaning', 'Sumter', 'regime', 'Wis.', 'Fraud', 'Gursel', 'Angels', 'Williams', 'person', 'responsible', 'nagged', 'Tastes', 'eagerly', 'metallic', 'Everglades', 'Band', 'Washoe', 'defiantly', 'responsibly', 'Bani', 'paintbrush', 'Guglielmo', 'Wise', 'stirrup', 'mouldering', 'miscalculated', 'Wish', 'doin', 'mystique', 'looming', 'affirmation', 'letter', 'equilibrated', 'retaining', 'drought', 'ipso', 'Typical', 'initiator', 'episode', 'antitrust', 'grove', 'professor', 'Kingston', 'detectors', 'regulative', 'nonoccurrence', 'braying', 'countian', 'advisory', 'bomb', 'reactor', 'Sawallisch', 'advisors', 'parolees', 'reinstitution', 'soluble', 'gauge', 'Confessions', 'Meyner', 'capes', 'copy', 'buckboard', 'shuffling', 'menu', 'buxom', 'theme', 'mend', 'telegrams', 'codfish', 'Belated', 'stropping', 'sniping', 'reversal', 'new', 'Sports', 'chutney', 'Completions', 'maverick', 'Concord', 'altruistically', 'Galen', 'flanked', 'wronged', 'Purified', 'Clearly', 'aurally', 'respond', 'blew', 'Futhermore', 'leasing', 'disaster', 'fair', 'Thrush', 'consummation', 'Daer', 'bled', 'centric', 'glad', 'babyhood', 'fail', 'faim', 'nocturnal', 'Quarterback', 'essayists', 'Craddock', 'Shelter', 'Convocation', 'killable', 'score', 'Courts', 'scorn', 'purported', 'toolmaker', 'Peugeot', 'pirate', 'preserve', 'claws', 'screwball', 'felons', 'felony', 'sera', 'twinkling', 'lefthanders', 'Burbank', 'carbon', 'angling', 'Malabar', 'Capello', 'Veronica', 'oath', 'adapter', 'readers', 'nolle', 'deposition', 'Stratford', 'federalism', 'adapted', 'irresponsible', 'canyon', 'biddies', 'Telegraph', 'linguistically', 'Peltz', 'contestants', 'Skyros', 'corrugations', 'pinball', 'chrome', 'breakoff', 'breathlessly', 'extraction', 'increase', 'startled', 'Deadwood', 'quadripartite', 'tutorials', 'Flowers', 'Pipeline', 'incompetent', 'life', 'hospitalized', 'Poland', 'Concrete', 'joust', 'confinement', 'regaled', 'child', 'Boulez', 'chili', 'diverted', 'unsold', 'adaptations', 'presidency', 'ferreted', 'taper', 'Peterhouse', 'pastime', 'Brandt', 'skirts', 'Potsdam', 'cordon', 'hunkered', 'Clurman', 'FHA', 'actuated', 'obeying', 'Courtney', 'schoolbooks', 'aqueducts', 'doorman', 'specter', 'trusted', 'trustee', 'rapprochement', 'Killingsworth', 'Ulyate', 'Venezuela', 'cumulative', 'Barataria', 'enlistment', 'malapropism', 'swarthy', 'babies', 'Appleby', 'fairly', 'Mandhata', 'typhoid', 'tops', 'Angeles', 'Peking', 'stiffs', 'pioneers', 'stupendous', 'ventricles', 'rescinded', 'Continent', 'unhook', 'coldness', 'subpoena', 'juridical', 'misrepresents', 'fittest', 'blackjack', 'adagios', 'Russell', 'Notebooks', 'forsaken', 'forsakes', 'disguise', 'deductable', 'Bravado', 'plight', 'cellophane', 'alum', 'Reavey', 'irradiated', 'Ligne', 'elaborated', 'Or', 'thickening', 'collections', 'delinquents', 'unavailing', 'Apart', 'casually', 'Trinitarian', 'possible', 'firmer', 'possibly', 'Length', 'birth', 'Emilio', 'Grass', 'Taksim', 'Lords', 'articulated', 'tapering', 'seaside', 'pavement', 'steps', 'Lorde', 'facets', 'abscesses', 'truncated', 'macabre', 'predominance', 'Pharmacy', 'sure', 'gasps', 'sociology', 'for', 'hulks', 'Baum', 'fox', 'foe', 'fog', 'particularity', 'consummately', 'serpents', 'tamp', 'germinate', 'Keith', 'microscopes', 'Royce', 'pinched', 'betrayal', 'dental', 'Hauling', 'Alix', 'Thing', 'Practices', 'shifting', 'capacious', 'AD', 'Think', 'Macon', 'transcends', 'insinuations', 'dollars', 'rebuffed', 'turbinates', 'storeroom', 'repellent', 'Shake', 'homesteads', 'rebut', 'gauze', 'shopkeepers', 'Summers', 'Occasional', 'Misses', 'problematical', 'AF', 'stockholder', 'spores', 'attrition', 'reducing', 'defendants', 'methods', 'unambiguous', 'ownerships', 'Approached', 'panorama', 'Elvis', 'Wichita', 'avail', 'width', 'collimated', 'physicists', 'Burlingham', 'call', 'halls', 'happy', 'alloys', 'therefrom', 'manufacturers', 'Column', 'Completing', 'conclusively', 'annum', 'gripes', 'shrilly', 'hemisphere', 'necessaries', 'straggle', 'blockading', 'Lundy', 'mirthless', 'NRL', 'mural', 'Engineering', 'felonious', 'pest', 'lays', 'mighty', 'Enrique', 'panels', 'pall', 'juvenile', 'looms', 'liberal', 'Depending', 'Dixiecrats', 'tournament', 'drovers', 'proven', 'crumble', 'soothe', 'proves', 'exist', 'accounting', 'provisons', 'dealer', 'crutches', 'protested', 'dotted', 'Weakness', 'actor', 'composite', 'Nolan', 'republic', 'conferring', 'snick', \"Martin's\", 'directionally', 'maimed', 'nondriver', 'deathbed', 'literalism', 'persecution', 'Carpathians', 'Philosophies', 'Ranke', 'Englander', 'spades', 'deformational', 'sniffed', 'shrugged', \"O'Hare\", 'goaded', 'prolixity', 'disorganization', 'urinary', 'Unanimity', 'novelty', 'Indians', 'threaded', 'crocodile', 'avalanche', 'gallbladder', 'Indiana', 'indefinite', 'vet', 'unawareness', 'Podgers', 'rousing', 'indolent', 'Gonna', 'Jumping', 'Lighting', 'veterans', 'misted', 'allegations', 'refinance', 'densitometry', 'Bosley', 'servicing', 'Shh', 'Experimental', 'Bosler', 'wondrously', 'dating', 'Dugan', 'solves', 'tear', 'teas', 'Northeastern', 'solved', 'subway', 'stockade', 'Cantonese', 'inscribed', 'outdrew', 'anesthetics', 'bonfire', 'prevent', 'officiate', 'attic', 'Marmi', 'steaks', 'Bldg.', 'erotic', 'fluting', 'Participation', 'educate', 'Arragon', 'crackpot', 'Haverhill', 'reminiscent', 'extraterrestrial', 'necrotic', 'freaks', 'True', 'illegally', 'palindromes', 'assertive', 'Caetani', 'Traditionalists', 'muskets', 'Eighties', 'Godwin', 'Warner', 'nitroglycerine', 'bunkered', 'studied', 'wherever', 'vitiates', 'commonly', 'heliotrope', 'crumbled', 'therein', 'studies', 'carousing', 'carpets', 'indiscriminantly', 'love', 'bloods', 'Lie', 'eyepiece', 'bloody', 'marvelous', 'Alberto', 'traversing', 'monaural', 'Limbo', 'Emanuele', 'positive', 'dangle', 'predictions', 'tightly', 'imaginations', 'cherished', 'wondering', 'Pontius', 'introducing', 'shadings', 'afford', 'apparent', 'odious', 'Streptococcus', 'visual', 'degrade', 'easiest', 'epitaph', 'Blackwell', 'honey', 'preponderance', 'Peony', 'overloaded', 'reportage', 'believes', 'nether', 'values', 'slowness', 'believed', 'scenics', 'indolence', 'stockroom', 'Out', 'Federal', 'teaspoons', 'Illustrations', 'Galahad', 'hides', 'viewers', 'philological', 'winter', 'deserves', 'Who', 'fps', 'elephant', 'parameter', 'Why', 'jazz', 'Herrington', 'mortally', 'blasting', 'spot', 'applications', 'misshapen', 'Ottoman', 'date', 'rightfield', 'filthy', 'shockingly', 'disagreeable', 'supersonic', 'sectors', 'approximation', 'applicant', 'sclerosis', 'yielding', 'Bedtime', 'definitions', 'quatrain', 'immersion', 'wavelengths', 'Wrath', 'haute', 'unacceptable', 'Leaguers', 'hiring', 'maneuvered', 'unfavorable', 'stills', 'Brookfield', 'thoughtfulness', 'solitary', 'Direction', 'solace', 'protoplasmic', 'Unlimited', 'Bela', 'attraction', 'covertly', 'creations', 'Whitney', 'grudges', 'Pitchers', 'decades', 'disturbingly', 'petition', 'embezzling', 'stabilizers', 'matches', 'subordinates', 'origination', 'Folly', 'insomnia', 'Maximum', 'Langer', 'Farouk', 'records', 'Socialism', 'arriving', 'epithets', 'Raceway', 'subordinated', 'matched', 'Lullaby', 'Newest', 'Goethe', 'revert', 'Ironic', 'crushers', 'Draco', 'repaired', 'dramas', 'whosoever', 'Snyder', 'bovine', 'breakthrough', 'interferometer', 'Bermuda', 'Calderone', 'Heresy', 'compulsives', 'intellectual', 'crowding', 'giddy', 'Eire', 'canvas', 'container', 'rounding', 'Shan', 'Emission', 'biographers', 'collisions', 'contained', 'onrush', 'sibilant', 'Joe', 'suggesting', 'Ivies', 'Jon', 'bordering', 'backbend', 'joiners', 'Places', 'enthusiasms', 'Braille', 'million', 'governing', 'intensely', 'flurried', 'Mixed', 'Averages', 'liberally', 'Monet', 'discoid', 'disguised', 'jetliners', 'Consent', 'collapsing', 'thunderclaps', 'disguises', 'livable', 'recompense', 'bothersome', 'Hovarter', 'Monel', 'Synthetic', 'intuition', 'Tailback', 'Wordsworth', 'nested', 'vote', 'nester', 'potted', 'intermolecular', 'Benington', 'sayed', 'Gains', 'phonetics', 'runways', 'indicate', '2', 'Garza', 'typing', 'Spagna', 'Uses', 'drugstore', 'Thoughts', 'Grandson', 'floppy', 'tuneful', 'boomtown', 'meddling', 'padding', 'Torrid', 'Appeals', 'simmered', 'Torrio', 'clannish', 'Sept', 'storehouses', 'clairvoyance', 'rival', 'Titan', 'exhibitors', 'Emmerich', 'Intermediate', 'Alf', 'future', 'opens', 'loyalists', 'prospect', 'Oratory', 'glorifies', 'tasted', 'nicer', 'fragmented', 'tastes', 'collects', 'dragooned', 'elsewhere', 'harbored', 'MacArthur', 'sanctimonious', 'Jewish', 'Kleenex', 'fathered', 'take', 'infinitive', 'vandals', 'convulsive', 'towers', 'Chestnut', 'altered', 'Defoe', 'Kerr', 'Kern', 'reproducibly', 'Settled', 'Portuguese', 'bads', 'enamel', 'stilts', 'infections', 'Merit', 'occidental', 'crooked', 'bade', 'refining', 'Strip', 'Parmer', 'affirmed', 'Halfway', 'Franny', 'operations', 'walking', 'Hereby', 'surplus', 'Lateran', 'circulating', 'Lateral', 'synchronous', 'mince', 'interdependent', 'lettered', 'unkind', 'conduction', 'Sacramento', 'robs', 'Kobayashi', 'hockey', 'repartee', 'equipped', 'robe', 'clawing', 'Bluebird', 'bridge', 'Sergei', 'overstepping', 'morphological', 'Lexington', 'countered', 'cursing', 'Kiowa', 'Products', 'lucidity', 'Geraghty', 'maniacal', 'Cohn', 'assimilate', 'neutralist', 'nociceptive', 'neutralism', 'bombs', 'liable', 'dumbbells', 'Kassem', 'gout', 'Dashwood', 'raged', 'dived', 'Specifically', 'Biggest', 'cheesecloth', 'us', 'Olivetti', 'surgery', 'Babylon', 'diver', 'rages', 'bugler', 'gastrointestinal', 'enlightening', 'maturity', 'partisans', 'Sarmi', 'affecting', 'teens', 'presage', 'Debora', 'uh', 'cantaloupe', 'Bible', 'aberration', 'ascertainable', 'supermarket', 'Directors', 'jovial', 'reigns', 'Gaulle', 'jaunty', 'undermine', 'positivism', 'necropsy', 'Worms', 'besieging', 'loudly', 'expression', 'retriever', 'Mollie', 'Liber', 'ants', 'twin', 'stereophonic', 'anti', 'Libel', 'sentinel', 'dislocation', 'Deus', 'combines', 'teddy', 'throttled', 'vacation', 'needlessly', 'Schweizer', 'combined', 'modifiers', 'Depew', 'influence', 'Torrence', 'Rotary', 'Ellwood', 'rooftops', 'Agatha', 'Greatest', 'felling', 'char', 'blowfish', 'Honshu', 'shanty', 'hypertrophy', 'newspaperman', 'Doctrine', 'curricula', 'girth', 'perpetuate', 'brow', 'Trager', 'Machado', 'brok', 'presides', 'appeasing', 'shuts', 'Macrophages', 'spiraling', 'shute', 'coconuts', 'workout', 'berry', 'breakdown', 'nightclubs', 'unmanageably', 'oceanographic', 'I', 'cheers', 'Iron', 'unmanageable', 'disown', 'psychiatrists', 'escorts', 'undefined', 'vacant', 'pacing', 'Coroner', 'costs', 'engulfing', 'dancelike', 'bravura', 'trains', 'genie', 'Soule', 'Slab', 'idleness', 'truculent', 'exaggerating', 'Mexicans', 'Daniel', 'thermometry', 'potentiality', 'Markets', 'underline', 'barbecued', 'afterwards', 'blondes', 'alarmist', 'Kluckhohn', \"6'\", 'hereabouts', 'formative', \"We've\", 'prominently', 'Harvest', 'joyful', 'skies', 'Dammit', 'Hitchcock', 'colony', 'Korra', 'Monk', 'Drake', 'period', 'Mont', 'Wellman', 'delicacies', 'Pettit', 'clan', 'clam', 'clad', 'Artillery', 'souvenirs', 'integrals', 'clay', 'swum', 'footfall', 'slings', 'clap', 'grouping', 'Zur', 'somersault', 'nasal', 'Brandon', 'yyyy', 'laughed', 'Sloan', 'racial', 'thinks', 'Rube', 'obviousness', 'authenticate', 'Crimean', 'Piranesi', 'Numerous', 'tube', 'tuba', 'oblige', 'Planning', 'tubs', 'Projects', 'jackboots', 'unsuccessfully', 'philosophizing', 'Concordance', 'contingent', 'confided', 'crease', 'malfunctioning', 'litigants', 'ration', 'sprung', 'imminence', 'ratios', 'standpoint', 'consumptive', 'ace', 'industry', 'practicable', 'act', 'gesturing', 'widowed', 'curling', 'Litz', 'image', 'Advancement', 'fritters', 'widower', 'Hansen', 'parties', 'adobe', 'Pakistani', 'technically', 'fill', 'bookcases', \"how'd\", 'springboard', 'punctuation', 'Harro', 'recommends', 'Sphinx', 'imbibed', 'fastidious', 'McFeeley', 'irredentism', 'land', 'Harry', 'antiquated', 'coloreds', 'buying', 'rotundity', 'Wrigley', \"they're\", 'algorithm', 'severally', 'Close', 'politically', 'unwaivering', 'agree', 'Seminar', 'detailed', 'gone', 'carver', 'ad', 'Seigner', 'ah', 'am', 'al', 'an', 'as', 'carved', 'hobbies', 'ax', 'graining', 'beaming', 'extract', 'novice', 'Salamander', 'decrying', 'administers', 'spatial', 'contemporaries', 'thoroughfares', 'blessing', 'vocabulary', 'annex', 'Maier', 'slant', 'a.', 'herbs', 'Sabol', 'slang', 'menace', 'dogleg', 'neuter', 'impossibility', 'restricted', 'cps', 'wastewater', 'overeager', 'Canada', 'externally', 'Litigants', 'instincts', 'Caesar', 'upkeep', 'fairness', 'reasoning', 'improperly', 'particles', 'disciples', 'pornographic', 'piddling', 'dressing', 'Precious', 'pilot', 'endogenous', 'puzzled', 'gemlike', 'crestfallen', 'puzzler', 'candid', 'Wolf', 'offal', 'scapegoats', 'chromatographic', 'cunningly', 'fan', 'condition', 'enjoyable', 'Noah', 'accompanying', 'overprotective', 'confederates', 'underclothes', 'dinosaur', 'choreographic', 'facsimile', 'Darrell', 'Vita', 'antibiotic', 'pretenses', 'penalties', 'Nordmann', 'Acoustical', 'canvass', 'turning', 'situated', 'poisonous', 'householders', 'excitatory', 'nurse', 'seemed', 'contrast', 'installations', 'Tracing', 'Notice', 'bumming', 'vomiting', 'hours', 'Calvary', 'irrespective', 'yellowed', 'phrasings', 'backlash', 'squashy', 'mudslinging', 'Zurich', 'reactionaries', 'Totaling', 'compliance', 'Kroening', 'subtended', 'pick', 'action', 'proportionality', 'smuggle', 'gunfights', 'brimmed', 'Astarte', 'reflectance', 'strolling', 'rattlesnakes', 'marriages', 'excellently', 'indoors', 'Servatius', 'coercion', 'Elements', 'ridding', 'Balkan', 'petroleum', 'implore', 'Peal', 'Peak', 'pitching', 'Meaningful', 'sanitaire', 'reminiscing', 'inferential', 'Financing', 'contrive', 'Philippines', 'Eisler', 'Privy', 'Liberals', 'expansively', 'coyote', 'riverbank', 'Lingo', 'cunning', 'delphic', 'evolves', 'keeping', 'disquietude', 'apportion', 'Irvin', 'vicissitudes', 'Fathers', 'chisel', 'Coney', 'Bornholm', 'indicating', 'gesticulating', 'deductibility', 'professions', 'beautiful', 'Denton', 'impacts', 'gallop', 'rustled', 'pervades', 'dislikes', 'accept', 'states', 'Whee', 'sense', 'gallon', 'disliked', 'rustler', 'tapestry', 'axis', 'information', 'distastefully', 'Misunderstanding', 'browny', 'earnings', 'monopolistic', 'unattended', 'telegraphic', 'unburdened', 'wiles', 'cushioning', 'includes', 'countryside', 'Bracken', 'mapping', 'Tacloban', 'Maxentius', 'Swiss', 'backyard', 'evaluations', 'unhesitant', 'acquisitions', 'Bottega', 'debility', 'imagery', 'premonitions', 'courteously', 'hauling', 'Brennan', 'chemistries', 'Okla.', 'geographic', 'granted', 'pans', 'eggshell', 'radios', 'redefinition', 'sinning', 'pane', 'Nkrumah', 'Benjamin', 'Llewellyn', 'debilitated', 'pronto', 'polarizing', 'deeds', 'urbanization', 'jarred', 'Nichols', 'Colavito', 'Anyhow', 'skipped', 'hysterectomy', 'rigids', 'propose', 'lineback', 'consign', 'skipper', 'misuse', 'Gerhard', 'Creative', 'hotdogs', 'stewed', 'Alcibiades', 'likeness', 'Menet', 'always', 'Newton', 'truths', 'swimsuit', 'Pole', 'Thanks', 'undreamt', 'eva', 'Polo', 'Sounds', 'disorganized', 'status', 'Bryn', 'accelerator', 'Dactyls', 'Balenciaga', 'clockwork', 'exorbitant', 'Setting', 'fewer', 'bouquets', 'Commentary', 'takeing', 'silky', 'psychology', 'mattered', 'holstered', 'misses', 'Grigori', 'ministerial', 'expiation', 'darling', 'Astronomy', 'highway', 'Beckstrom', 'Folding', 'reformulated', 'localization', 'porcelain', 'sparked', 'Burgundies', 'paucity', 'arable', 'proxy', 'imagine', 'Cairoli', 'reproach', 'prefab', 'bumped', 'persons', 'armful', 'statutory', 'insolence', 'instigation', 'w', 'expedient', 'lute', 'Doran', 'volumetrically', 'waspishly', 'corrugated', 'reversing', 'gazed', 'vowel', 'slipped', 'historian', 'thereafter', 'number', 'slipper', 'gazer', 'gazes', 'guar', 'ethereal', 'rhinotracheitis', 'Isham', 'Corruption', 'unexplained', 'weep', 'heads', 'Paperweight', 'Courier', 'threatening', 'heady', 'flimsy', 'erupted', 'fruitfully', 'exponents', 'crisscrossed', 'sympathies', 'relationship', 'immediate', 'appreciation', 'forthrightness', 'consult', 'focusing', 'Mathematically', 'rampant', 'grace', 'Grabski', 'Hercule', 'diffusion', 'clattering', 'determines', 'Equator', 'freighters', 'detractor', 'tablespoonfuls', 'determined', 'marriage', 'Atomic', 'bodied', 'kitten', 'inflow', 'remembers', 'livers', 'refrigerators', 'fights', 'livery', 'vitally', 'Stoneware', 'mawkish', 'ballerina', 'honeybees', 'tough', 'Club', 'foals', 'commemorates', 'silvery', 'analogy', 'commemorated', 'play', 'relied', 'effecting', 'yawn', 'Octavia', 'yawl', 'plan', 'viscoelasticity', 'funnier', 'sauerkraut', 'tokens', 'unequal', 'directive', 'pliable', 'Redhook', 'covet', 'cover', 'coves', 'autofluorescence', 'tensioning', 'Romances', 'justify', 'Singing', 'attacking', 'Troop', 'Explain', 'Interviewing', 'Gridley', 'aghast', 'session', 'Hajime', 'impact', 'sideboard', 'Blockade', 'undying', 'Rhyme', 'Istvan', 'failed', 'bastion', 'alloted', 'Prime', 'Masters', 'magicians', 'Pascagoula', 'gratis', 'dandelion', 'Rectangular', 'Niobe', \"they'd\", 'actress', 'closely', 'Hearts', 'Minutes', 'Rabbits', 'Help', 'sleeve', 'tumors', 'stirling', 'Held', 'tottering', 'aryl', 'inductees', 'Helm', 'Hell', 'obscure', 'sew', 'When', 'set', 'Graves', 'For', 'advantageously', 'overwhelm', 'Fox', 'Foy', 'sex', 'Whitehall', 'see', 'Fog', 'unsheltered', 'migration', 'outwardly', 'Umm', 'outward', 'Zeitgeist', 'Calabria', 'vitamins', 'Elected', 'muted', 'Advocate', 'topmost', 'taming', 'Lauderdale', 'theatricals', 'crosswalk', 'avoidance', 'Enzymatic', 'arises', 'unflagging', 'Serves', 'bedazzlement', 'peacetime', 'hooted', 'selectively', 'baroness', 'pagan', 'Kaskaskia', 'Scholarship', 'Bostonians', 'feminist', 'Kapnek', 'Vigreux', 'Violet', 'whole', 'shortsighted', 'volcanic', 'drunk', 'forklift', 'smashing', 'corresponds', 'community', 'hollow', 'Lounge', 'reported', 'agents', 'unrealism', 'creeds', 'connexion', 'roofing', 'worthless', 'numinous', 'acceptance', 'Robbins', 'hitting', 'Trail', 'Train', 'scions', 'McBride', 'flounced', 'assassinated', 'Mack', 'Hints', 'firm', 'sobriety', 'fire', \"what's\", 'towne', 'fund', 'McRoberts', 'insiders', 'towns', 'ligands', 'Concert', 'judicial', 'sesame', 'Fighters', 'Measure', 'unwounded', 'Concern', 'owed', 'inoperable', 'moth', 'screech', 'dotting', 'Strategy', 'Armond', 'owes', 'vanish', 'funny', 'decor', 'Marmara', 'choking', 'wreaths', 'maids', 'elevated', 'ledgers', 'elevates', 'Grooms', 'voraciously', 'epithet', 'expediting', 'monasticism', 'doan', 'levels', 'leaps', 'confines', 'Expands', 'focal', 'recent', 'canned', 'Cameo', 'Ibsen', 'loathsome', 'regulating', 'Uxbridge', 'clearance', 'Quality', 'Resourceful', 'paymaster', 'hotrod', 'hypothesized', 'telegram', 'moonlike', 'westerly', 'Alabamans', 'rumbling', 'plagued', 'idler', 'Coulson', 'relevancy', 'dissociation', 'interregnum', 'reactivity', 'pillars', 'hues', 'Varian', 'ellipsoids', 'location', 'homeland', 'relevance', 'clutches', 'victims', 'demands', 'instructors', 'Vermejo', 'Burgesses', 'clutched', 'contraptions', 'Aransas', 'governess', 'Harassed', 'Instructions', 'Ainu', 'amicably', 'irresistibly', 'Burman', 'Coyotes', 'Bodhisattva', 'DES', 'Hydraulic', 'sighs', 'Damn', 'sight', 'battalion', 'amicable', 'emigrating', 'wrongful', 'wrists', 'stamens', 'stables', 'Sufficient', 'stabled', 'efficiencies', 'prosecuted', 'W.', 'inclination', 'Loon', 'be', 'tankers', 'Look', 'Rosalie', 'Outfielder', 'Riviera', 'Colossus', 'agreement', 'Antonio', 'Cervantes', 'vitals', 'tidal', 'by', 'Loop', 'glorying', 'Adelia', 'wildlife', 'curriculums', 'discontented', 'anything', 'nosebleed', 'Shawano', 'ambush', 'forgave', 'Cares', 'hatched', 'skeptics', 'computational', 'stampeded', 'integral', 'Young', 'ACS', 'Pollock', 'adverbs', 'primarily', 'insecticide', 'Vevay', 'Bosco', 'Bosch', 'criticisms', 'Babylonian', 'arcade', 'bargaining', 'assuring', 'chide', 'occupy', 'Comes', 'impudent', 'Mlle', 'polytonal', 'relaxed', 'tally', 'Steady', 'Trafton', 'vowing', 'archaic', 'braided', 'link', 'flaunted', 'Turnpike', 'line', 'Jolly', 'Bandish', 'relaxes', 'Bueno', 'nieces', 'Jeff', 'forefathers', 'Buena', 'horned', 'corsage', 'Erdos', 'mature', 'Birdwhistell', 'Married', 'supervisor', 'nationalist', 'setbacks', 'defined', 'greased', 'Parks', 'Memory', 'wove', 'formalism', 'concealment', 'Manhattan', 'defines', 'phantom', 'codes', 'Erlenmeyer', 'Greenberg', 'overshoots', 'thrived', 'definitely', 'coded', 'Plain', 'swirl', 'finite', 'sails', 'wrongly', 'sided', 'faintly', 'robots', 'proclamations', 'Centigrade', 'Railway', 'disarming', 'sides', 'worsened', 'tailored', 'Hoak', 'expressionless', 'Leibowitz', 'rescued', 'Ritter', 'walked', 'Hoag', 'summit', 'urgency', 'walker', 'Krauts', 'hello', 'essay', 'chalk', 'Guardia', 'pooched', 'results', 'Contemplating', 'baby', 'renown', 'moon', 'guzzled', 'inferences', 'archdiocese', 'renunciations', 'Milhaud', 'send', 'citing', 'Sanatorium', 'Cater', 'dislike', 'Candide', 'sent', 'moot', 'pestering', 'garden', 'Sanctions', 'preachers', 'languished', 'jist', 'Varani', 'Lagoon', 'despises', 'Regardless', 'categories', 'Kimball', 'Related', 'Talking', 'bemoans', 'obesity', 'Seattle', \"O'Casey\", 'logistics', 'burrowed', 'agrarian', 'Redbirds', 'buckskins', 'Newbery', 'Oxnard', 'Dreadnought', 'munitions', 'incidentally', 'Reinhardt', 'shivery', 'Jessica', 'firma', 'Alai', 'analogously', 'Alan', 'Semra', 'Alas', 'twins', 'firms', 'Bodenheim', 'bird', 'stereotyped', 'led', 'eminently', 'leg', 'Lammermoor', 'identifications', 'les', 'let', 'lex', 'aerodynamic', 'physiology', 'Commonwealth', 'sentimentality', 'engage', 'Energy', 'Ala.', 'Himmler', 'insulin', 'impressionist', 'portions', 'residents', 'Religious', 'Staff', 'Fiddlesticks', 'debts', 'hath', 'Britannic', 'Decay', 'complying', 'nationalism', 'distrusted', 'boxy', 'jackass', 'standing', 'sketchbook', 'cheered', 'unblushing', 'recalling', 'archbishop', 'whipping', 'vocalize', 'ministers', 'doubt', 'Oppenheim', 'lock', 'yardstick', 'Kaisers', 'lodgment', 'coolness', 'Merchandise', 'Wolverton', 'Bricktop', 'monophonic', 'queerer', 'occurred', 'Gums', 'sharply', 'Hetman', 'winches', 'Rifles', 'Mainly', 'instinctual', 'endearments', 'reproduce', 'drill', 'campsites', 'streamed', 'bent', 'transpired', 'depiction', 'beckoned', 'reappraisal', 'Catt', 'bend', 'Several', 'trumpet', 'compounded', 'hydrophilic', 'negation', 'reinstated', 'insistent', 'Rental', 'luster', 'blocks', 'equalize', 'aspiring', 'wallpaper', 'blocky', 'Days', 'Garcia', 'notebook', 'demonstrating', 'lagoons', 'efficiently', 'intraepithelial', 'Welmers', 'Community', 'selectors', 'acquitted', 'allot', 'allow', 'lactate', 'intellectuals', 'Regina', 'Kaiser', 'Raise', 'jigger', 'annoyances', 'ladies', 'comma', 'thinning', 'operative', 'recreating', 'Secretariat', 'Liberace', 'Vagabonds', 'hypothesize', 'shudder', 'spoiling', 'hobby', 'Bazaar', 'designs', 'python', 'belch', 'bat', 'ship', 'swivels', 'billiard', 'Manzanola', 'Cholesterol', 'Melanesian', 'establishes', 'Cristo', 'installment', 'gallstones', 'intelligent', 'Sporting', 'draftees', 'merge', 'delightful', 'accounts', 'Kate', 'veracious', 'beginner', 'scanty', 'Treasure', 'Mills', 'lithographs', 'decays', 'thirteen', 'Marum', 'banal', 'Mille', 'radiomen', 'agriculture', 'registrant', 'Multnomah', 'reformism', 'populace', 'Agreement', 'venom', 'saltbush', 'oblong', 'Statesman', 'interactions', 'Grove', 'Misbegotten', 'incalculable', 'inhaling', 'loomed', 'surely', 'monographs', 'mars', 'linguist', 'mesmerized', 'latches', 'stimulate', 'latched', 'Caper', 'Capet', 'blown', 'pines', 'Review', 'owned', 'straining', 'privies', 'owner', 'blows', 'marrow', 'buoyed', 'Naturally', 'legislative', 'Donnell', 'Peeping', 'percussion', 'Lazarus', 'burial', 'spaceship', 'painful', 'adopts', 'malady', 'inscrutability', 'shepherd', 'Levin', 'dislocated', 'opalescent', 'rotunda', 'extensions', 'centrifugal', 'marquees', 'irresistible', 'delimits', 'steel', 'colleagues', 'buttocks', 'Classical', 'steed', 'haystacks', 'tortured', 'punctured', 'briefing', 'Paschall', 'steep', 'torrent', 'misunderstand', 'stopovers', 'intriguingly', 'Pageants', 'spelled', 'robot', 'devotions', 'relic', 'One', 'clearly', 'necessities', 'competency', 'documents', 'soak', 'studying', 'probly', 'merrymaking', 'patroness', 'adjunct', 'decomposing', 'demolished', 'mechanist', 'schematically', 'Mississippians', 'Bleeker', 'carcasses', 'flagellation', 'medal', 'Expedition', 'inappropriate', 'ignited', \"you'll\", 'Pancho', 'unscramble', 'Marquess', 'Sophias', 'noire', 'Evidences', 'Under', 'Rue', 'Independence', 'folksongs', 'illumine', 'planter', 'hops', 'enamelled', 'softens', 'Serif', 'planted', 'molecules', 'maggots', 'bourbon', 'maggoty', 'hope', 'nuances', 'exchanged', 'Owners', 'humanness', 'disprove', 'Whether', 'intellectually', 'Brittany', 'exchanges', 'River', 'streamliner', 'committees', 'luminosity', 'coalescence', 'nise', 'disapprobation', 'streamlined', 'rein', 'Anniston', 'incurably', 'anomie', 'temporarily', 'anomic', 'catastrophic', 'credo', 'edition', 'Handbook', 'subcommittee', 'forepaws', 'bidders', 'incurable', 'Porterhouse', 'Desprez', 'heaters', 'interacting', 'bossman', 'partisan', 'geochemistry', 'injustice', 'classless', 'faceless', 'Forum', 'ignorance', 'advisability', 'gnomes', 'historians', 'restrictions', 'tantrum', 'figured', 'drum', 'inoculation', 'drug', 'Coordination', 'sugared', 'figures', 'Centennial', 'volley', 'Vaughan', 'crafter', 'adjusted', 'hinterlands', 'cm', 'Winchell', 'Guinea', 'skylights', 'laity', 'migrant', 'outcrops', 'Bruhn', 'Garry', 'Passos', 'allocated', 'chromium', 'cu', 'Get', 'trajectory', \"O'Connor\", 'dazzling', 'Gee', 'Vivier', 'hottest', 'recurring', 'Revulsion', 'Gel', \"Lowe's\", 'accompaniments', 'rioting', 'derivative', 'gunpowder', 'Wilder', 'Presidents', 'rigger', 'grinning', 'Pulling', 'expiration', 'Choctaw', 'Hickok', 'rigged', 'Eros', 'bronzed', 'accusingly', 'Tire', 'Abnormal', 'lush', 'prosper', 'lust', 'mitigates', 'Stroked', 'Sort', 'Badly', 'waspish', 'maligned', 'concealing', 'Oklahoma!', 'romance', 'Sore', 'infarction', 'soundness', 'tollhouse', 'congratulations', 'fenugreek', 'ball', 'dusk', 'elicits', 'bale', 'bald', 'forecasts', 'hangman', 'paving', 'dust', 'overalls', 'Herbert', 'monopolize', 'Julio', 'discounted', 'Escalation', 'dock', 'confronted', 'Julie', 'Julia', 'unceasingly', 'Stram', 'clambering', 'Thutmose', 'Phrase', 'gully', 'moments', 'excoriate', 'glum', 'tansy', 'Equivalents', 'glue', 'rambles', 'Flynn', 'afflicted', 'Wearing', 'Helping', 'generous', 'ferns', 'clergyman', 'residential', 'sickened', 'Eduard', 'coattails', 'Wieland', 'innocents', 'fluctuating', 'Unfortunately', 'complicity', 'chancellor', 'Reginald', 'Lavoisier', 'Kaddish', 'Dinner', 'headlining', 'Booker', 'bayonets', 'Skating', 'crisp', 'onion', 'roughneck', 'bigotry', 'accelerating', 'stagger', 'neutrophils', 'replacement', 'Quit', 'indications', 'Kodama', 'guaranty', 'habitat', 'foreseeable', 'concave', 'footage', 'shuttling', 'thief', 'Comptroller', 'ballot', 'transport', 'conspiracies', 'henchman', 'disbelief', 'avoid', 'apprehended', 'snappy', 'forgiven', 'Barrow', 'stairway', 'Eden', 'haulage', 'stags', 'electrically', 'Toward', 'Refill', 'stage', 'gained', 'sister', 'idolize', 'seeds', 'gainer', 'glasses', 'diabolical', 'mythological', 'priorities', 'alliance', 'libertarians', 'miscarried', 'flailing', 'commitment', 'Comus', 'Consolidated', 'Pavlovsky', 'disaffected', 'Charters', 'swimmers', 'brass', 'jingled', 'Philistines', 'sander', 'Serra', 'Gentiles', 'Sickness', 'housing', 'disapproval', 'stamina', 'expectantly', 'Expenditure', 'Republicanism', 'specimens', 'naturally', 'function', 'funnel', 'bums', 'cosmopolitan', 'storehouse', 'ambiance', 'Interestingly', 'Well', 'PFC', 'delivery', 'construction', 'Suppose', 'delivers', 'illustrative', 'count', 'Jessy', 'Bicycle', 'official', 'smooth', 'reinforcement', 'formalized', 'catecholamines', 'harvested', 'books', 'Orin', 'Jesse', 'bearing', 'recognize', 'uninvolved', 'dissemination', 'denote', 'consumed', 'CH', 'anaerobic', 'KARL', 'homecomings', 'mushroom', 'variety', 'prodded', 'Volume', 'Fagan', 'penciled', 'quartz', 'oppression', 'Covent', 'baffling', 'arbiter', 'pacify', 'Page', 'South', 'matrix', 'limousines', 'stunt', 'Fujimoto', 'tanned', 'forthrightly', 'coquette', 'Soaring', 'pension', 'questionnaires', 'rural', 'Overwhelmed', 'consolidated', 'dysplasia', 'Claims', 'Lodge', 'Antler', 'oldest', 'Sicurella', 'psychopathic', 'orthophosphate', 'underclassman', 'metropolitian', 'sputtered', 'physiological', 'Watch', 'CV', 'Ranger', 'Schonberg', 'Changing', 'slowest', 'restock', 'litle', 'League', 'tarry', 'fireplaces', 'geology', 'blanket', 'hilarious', 'distort', \"women's\", 'manic', 'Adlai', 'disobedient', 'wagons', 'bewildered', 'Attic', 'differentiating', 'fogy', 'relentlessly', 'tang', 'disc', 'SNP', 'indices', 'Spahn', 'Adolescents', 'dwindled', 'advocate', 'Thirties', 'diverting', 'occasioned', 'Hackmann', 'deportees', 'chaffing', 'belaboring', 'Collins', 'flatus', 'established', 'Churchyard', 'LSO', '+', 'Sherman', 'Merner', 'walkout', 'LSU', 'above', 'churches', 'counters', 'textures', 'notions', 'Yeller', 'Stiles', 'Tiepolo', 'pursuit', 'textured', 'Emcee', 'celebration', 'studs', 'balance', 'Burkes', 'Labrador', 'rigorously', 'study', 'mannerism', 'aku', 'Hush', 'smoke', 'bunker', 'diameter', 'secure', 'sanatorium', 'Legislation', 'subsided', 'Figone', 'modulated', 'glance', 'Rexroth', 'linearly', 'experimentation', 'waitresses', 'resurgence', 'chooses', 'bronze', 'shortest', 'knoll', 'Steiners', 'fractions', 'fragmentary', 'traceable', 'Dells', 'reign', 'encamped', 'escapist', 'Gould', 'deputized', 'continual', 'Angola', 'tariff', 'authentically', 'Della', 'permits', 'unfailing', 'Courtier', 'grovel', 'immutable', 'Habib', 'groves', 'tinder', 'mechanic', 'Astronaut', 'Glance', 'piers', 'ascetic', 'Carnochan', 'Marxist', 'anastomosis', 'serpent', 'somnolent', 'indifferent', 'Hogan', 'sweethearts', 'aerated', 'chilly', 'debauchery', 'Heidelberg', 'aerates', 'morbid', 'minuet', 'objets', 'Tyson', 'convulsively', 'memorization', 'Zealand', 'classifying', 'Dylan', 'Extruded', 'suing', 'Gear', 'chromatogram', 'Erwin', 'chilled', 'receding', 'homeowners', 'exhibition', 'greet', 'Dryfoos', 'supermarkets', 'nascent', 'green', 'remonstrate', 'greed', 'claimant', 'consent', 'jabs', 'tricked', 'Switchgear', 'Inner', 'chronically', 'mayor', 'Catholics', 'Finish', 'somewhere', 'Ardmore', 'Judge', 'precipitate', 'Nehru', 'tirades', 'them', 'affected', 'beakers', 'fragment', 'thee', 'amenable', 'Periodic', 'clogging', 'promulgators', 'thet', 'ther', 'moneyed', 'gallows', 'relishes', 'classified', 'backgrounds', 'presupposition', 'Eisenhower', 'Softer', 'seedlings', 'excavations', 'Renville', 'Rainbow', 'monolith', 'councils', 'transient', 'crimes', 'cabanas', 'flock', 'singularly', 'pigments', 'Myth', 'forts', 'dialects', 'forty', 'vessels', 'strangers', 'forte', 'Warm', 'Contradictions', 'Ward', 'Chatham', 'forth', 'declaring', 'disagreements', 'troopship', 'lawless', 'depots', 'appointments', 'putty', 'Palaces', 'unquiet', \"people's\", 'Iran', 'conform', 'incorporates', 'Omission', 'unfulfilled', 'recovering', 'Carlo', 'appendages', 'lise', 'construing', 'ordering', 'incorporated', 'Faust', 'warden', 'chopped', 'truthfulness', 'organize', 'Cooper', 'abolish', 'sentence', 'potentials', 'SEATO', 'crooning', 'Cell', 'Stalinist', 'Squeezing', 'blossomed', 'chopper', 'drones', 'Harveys', 'Nestor', 'trundling', 'adventitious', 'Jaycees', 'hearse', 'protracted', 'plentiful', 'airs', 'Shreveport', 'airy', 'inflate', 'Judgment', 'Isolde', 'B', 'enhancing', 'Rockville', 'Lehner', 'luncheon', 'totted', 'Forsan', 'Necklace', 'Ilka', 'Advisory', 'Set', 'glorified', 'tavern', 'admonitions', 'Advisors', 'Sez', 'Sex', 'binds', 'See', 'Sea', 'devious', 'evacuated', 'solely', 'Downers', 'pervasive', 'manned', 'encumbered', 'microscope', 'shoals', 'manner', 'vigorous', 'Correct', 'strength', 'Finot', 'Cumhuriyet', 'alors', 'shorts', 'subduing', 'magnum', 'conducive', 'Bakersfield', 'prohibitive', 'Mead', 'Conrad', 'Bong', 'nutritive', 'Vision', 'Bond', 'smoked', 'neighborhoods', 'crosswise', 'leavening', 'deacon', 'accounted', 'calmness', 'unsophisticated', 'notion', 'fussy', 'renting', 'ticks', 'subtly', 'barbiturate', 'phosphide', 'Gouldings', 'infrared', 'serenely', 'subtle', 'blotting', 'latent', 'just', 'desegregate', 'guidance', 'appended', 'electrophoresis', 'summarizing', 'accompanists', 'fatboy', 'Nowhere', 'predecessor', 'do', 'di', 'de', 'unfair', 'protectively', 'Grinsfelder', 'stimulations', 'du', 'Soviet', 'warfare', 'infrequent', 'linoleum', 'Armstrong', 'Fresnel', 'irregularities', 'Carrara', 'Upson', 'Rockport', 'squadron', 'endosperm', 'Pull', 'lemonade', 'condensed', 'splayed', 'Murrin', 'depends', 'Orissa', 'jocose', 'gentleman', 'symmetric', 'tainted', 'props', 'trances', 'paramagnetic', 'slugs', 'accord', 'Preoccupied', 'stalemate', 'Doria', 'Doric', 'postponement', 'Segovia', 'I.B.M.', 'packages', 'downgraded', 'saloonkeeper', 'cop', 'parried', 'candidate', 'cow', 'coy', 'infinitely', \"Queen's\", 'cod', 'gobbledygook', 'Navy', 'requests', 'com', 'satisfactions', 'con', 'negotiation', 'eyesight', 'Initial', 'Alamogordo', 'Board', 'polynomial', 'broadens', 'broadening', 'petty', 'buffets', 'chimneys', 'Hillary', \"You've\", 'corollaries', 'dozens', 'superieure', 'Bootle', 'cutouts', 'families', 'Vice', 'Citizens', 'coherent', 'surreptitious', 'reassuring', \"rock'n'roll\", 'Winthrop', 'ordnance', 'physician', 'chorines', 'Cynical', 'Chelmno', 'Worcester', 'voluminous', 'abrupt', 'Dried', 'coffin', 'vernal', 'voice', 'davenport', 'mealtime', 'receptionist', 'encyclopedias', 'Thence', 'discourses', 'dumped', 'urethanes', 'Kizzie', 'tugged', 'comparative', 'Falling', 'Rococo', 'confirmed', 'patent', 'recurrent', 'plated', 'extremes', 'plates', 'indictment', 'raid', 'bifocal', 'Frick', 'rail', 'rain', 'pubs', 'depict', 'Y', 'faiths', 'greedily', 'Minh', 'literatures', 'kept', 'condiments', 'Ishii', 'counterman', 'Mind', 'Mine', 'deal', 'Electrification', 'orgasms', 'elongated', 'Proper', 'the', 'camps', 'infra', 'kinship', 'Pete', 'therewith', 'Sheldon', 'repose', 'Pets', 'Surprise', 'waffles', 'convivial', 'adding', 'pegboards', 'hills', 'flooring', 'reuniting', 'passive', \"ma'am\", 'spread', 'transformed', 'cranberries', 'plasma', 'Wagon', 'mocked', 'babes', 'Filipino', 'basses', 'Athlete', 'apostates', 'caps', 'barge', 'arak', 'disadvantage', 'insurgent', 'immoralities', 'grizzly', 'stroke', 'lapsed', 'perjury', 'Northland', 'Trading', 'unpacking', 'Styka', 'lapses', 'security', 'starvation', 'antique', 'sends', 'Divided', 'collarbone', 'productions', 'constables', 'critique', 'separateness', 'intercollegiate', 'Poker', 'Led', 'Lee', 'Relationship', 'Leg', 'purple', 'phenomenal', 'Len', 'Leo', 'violinist', 'Les', 'Let', 'External', 'Lev', 'Lew', 'Lex', 'lagers', 'Voiture', 'Chairs', 'Caucusing', 'confluent', 'graduates', 'Place', 'mutters', 'Swing', 'graduated', 'louvers', 'dead', 'proceed', 'Eileen', 'dines', 'impenetrable', 'theirs', 'Image', 'Ceramic', 'routings', 'dined', 'cherish', 'faint', 'dilemma', 'Cup', 'pays', 'Make', 'formidably', 'delighted', 'balances', 'formidable', 'balanced', 'lewd', 'malignancies', 'Sirs', 'intervention', 'wailed', 'Existentialism', 'unchanging', 'suffice', 'fuchsia', 'liquidated', 'fight', 'standstill', 'accordingly', 'unstressed', 'survivals', 'sagging', 'Stacked', 'toughs', 'vitality', 'McLauchlin', 'Fanshawe', 'Serial', 'Woven', 'responding', 'dowry', 'veiled', 'unthinkable', 'crop', 'generosity', 'veterinarian', 'Bacterial', 'Milman', 'Milstein', 'horses', 'hotter', 'theorizing', 'religiously', 'flaw', 'Malta', 'evidence', 'manure', 'Hector', 'subsist', 'cacao', 'mold', 'mole', 'dosages', 'inculcated', 'Jacobean', 'weaned', 'disputable', 'weakened', 'gentile', 'materiel', 'handmade', 'perceiving', 'Carrozza', 'Running', 'interested', 'shoji', 'unwilling', 'guiltless', 'polite', 'yardage', 'mightily', 'polity', 'Monument', 'Fausto', 'funerals', 'balloon', 'Lumumba', 'cheated', 'modules', 'flag', 'together', 'Teutonic', 'reception', 'lineup', 'Situated', 'Sandalwood', 'vampires', 'pilots', 'Triandos', 'global', 'datum', 'baited', 'wakeful', 'Dyer', 'lactating', 'supposedly', 'grape', 'zone', 'honoring', 'graph', 'godless', 'flash', 'outplayed', 'permanently', 'atrophied', 'feebly', 'protective', 'alumnae', 'aldermen', 'liability', 'anonymous', 'forgiving', 'Volunteers', 'feeble', 'Rapoport', 'slip', 'Rangers', 'altering', 'McNeil', 'fragile', 'Cheerful', 'p', 'ruminants', 'greenhouse', 'distasteful', 'revolution', 'hesitating', 'Transylvania', 'repetitive', 'professionalism', 'thinker', \"Hon'ble\", 'Reilly', 'Bryson', 'Rider', 'Lowe', 'continence', 'Lown', 'scaffold', 'Notable', 'ancient', 'burl', 'relational', 'satisfy', 'supporting', 'unsure', 'Mineral', 'roundhead', 'Berra', 'Berry', 'Sunnyvale', 'Saud', 'Bassi', 'rubbery', 'appears', 'change', 'Saul', 'pedals', 'Humpty', 'Cynthia', 'vibrating', 'trial', 'data', 'triad', 'agates', 'matrimonial', 'inference', 'Rangoni', 'hiking', 'Zwei', 'lending', 'hypoactive', 'retires', 'seashore', 'suicides', 'spenders', 'rarely', 'streetcar', 'Walton', 'senile', 'Stritch', 'Tiger', 'live', 'unadorned', 'waterline', 'eccentrics', 'marginally', 'entrance', 'searchlight', 'credulity', 'Shalom', 'Mount', 'pinpoint', 'extruding', 'jag', 'Mound', 'clumps', 'logarithm', 'wretchedness', 'redecoration', 'Jens', 'labeled', 'gathers', 'incidents', 'Alessio', 'Jena', 'Corporations', 'breeds', 'spy', 'dedicated', 'saith', 'expanding', 'subsidies', 'supremacy', 'libertarian', 'fortunes', 'dedicates', 'Coupling', 'capsules', 'distinguishable', 'Nori', 'wornout', 'productive', 'bankrupt', 'malevolence', 'antagonism', 'Austria', 'trophies', 'nihilism', 'criterion', 'Norm', 'nihilist', 'allowable', 'terrestrial', 'staircase', 'burrowing', 'averted', 'brazen', 'wistful', 'banding', 'nomination', 'Exhibited', 'antiquarian', 'goal', 'Detente', 'Quietly', 'crepe', 'remember', 'nationalistic', 'candles', 'explicit', 'baseballs', 'Rumania', 'rather', 'crept', 'offend', 'Rawlings', 'bleedings', 'idiosyncratic', 'embassies', 'tagged', 'Che', 'Donaldson', 'Chi', 'forfeit', 'haircut', 'affectingly', 'rhyming', 'nitrogen', 'cold', 'Swartz', 'birds', 'urgencies', 'rooftop', 'hungrier', 'assiduity', 'acknowledge', 'selves', 'conquerors', 'reacting', 'Landing', 'inflicted', 'immortality', 'Avon', 'Sinner', 'Grace', 'feats', 'centenary', 'gassing', 'fling', 'Robertsons', 'relativism', 'Ch.', 'Registrations', 'relativist', 'flint', 'appoints', 'half', 'Elinor', 'Shadow', 'halo', 'wont', 'concerto', 'Marlene', 'streaks', 'concerti', 'servant', 'victuals', 'phonic', 'ceremonially', 'redactions', 'guttural', 'dramatical', 'entirely', 'concerts', 'em', 'en', 'poetically', 'significantly', 'Baer', 'Implementation', 'provocateurs', 'worriedly', 'Except', 'goose', 'avidity', 'fires', 'ex', 'et', 'Caroline', 'Carolina', 'shown', 'Louisianan', 'opened', 'space', 'unsupportable', 'Torquemada', 'opener', 'showy', 'eidetic', 'receiving', 'viable', 'shows', 'inevitably', 'Stans', 'Creston', 'Callas', 'Nutrition', 'Cover', 'eluted', 'quart', 'Stand', 'combatant', 'Callan', 'inevitable', 'waxy', 'milestones', 'Beatie', 'Guiana', 'domes', 'Sarsaparilla', 'Gaspard', 'palaces', 'Cooperative', 'domed', 'sprawling', 'concertos', 'benefited', 'impossibly', 'guessing', 'omitted', 'Asia', 'comprised', 'Inca', 'Combine', 'orthographic', 'Rookie', 'comprises', 'impossible', 'forwarding', 'Ever', 'allusion', 'sheep', 'sheer', 'sheet', 'silent', 'categorical', 'determing', 'breed', 'callous', 'transaminase', 'naughtier', 'Burro', 'specters', 'Calmer', 'sheen', 'larder', 'pecs', 'skullcap', 'mostly', 'pelting', 'expanse', 'packet', 'peck', 'Inc.', 'Quinzaine', 'rugged', 'optimism', 'fruits', 'Rockabye', 'Adoption', 'yesteryear', 'shady', 'anatomic', 'physiotherapist', 'surname', 'angel', 'layette', 'saute', 'correction', 'contortion', 'Call', 'Calm', 'anger', 'abnormalities', 'breakfast', 'Crawford', 'Calf', 'sterilized', 'Apocalyptic', 'Phi', 'Sprite', 'cavemen', 'skidding', 'veteran', 'Logan', 'Olsen', 'packed', 'objective', 'impairment', 'palazzi', 'placeless', 'dungeon', 'Forensic', 'hostelries', 'Cal.', 'undertakings', 'collar', 'destiny', 'Armed', 'Letitia', 'Fifty', 'sunset', 'diagonals', 'penned', 'dispersed', 'turnover', 'Oriole', 'Fifth', 'Weldwood', 'Spector', 'foaming', 'octagonal', 'hydride', 'misrepresenting', 'blindness', 'ground', 'Liter', 'ratio', 'probings', 'proportion', 'Shakya', 'redevelopers', 'Solar', 'developed', 'cloudless', 'telomeric', 'Seventeen', 'Ahmad', 'prides', 'fortifications', 'remoter', 'immodesty', 'appreciatively', \"don't\", 'seldom', 'emboldened', 'Cudmore', 'Alley', 'breeches', 'guttered', 'Rundfunk', 'Florentine', 'sonar', 'Allen', 'Bellwood', \"everything's\", 'husband', 'irradiation', 'concert', 'staged', 'unmarried', 'Parkhouse', 'fanned', 'famine', 'Location', 'Dimensions', 'Winslow', 'concern', 'Bolsheviks', 'Reactionary', 'halides', 'Berlin', 'Butt', 'justified', 'Speaker', 'Equations', 'airily', 'boun', 'connoisseurs', 'Stenton', 'indefiniteness', 'article', 'vue', 'Prompted', 'diocesan', 'clashed', 'comet', 'comes', 'comer', 'fluffy', 'characterization', 'Chevalier', 'dispatch', 'Coble', 'moreover', 'Leader', 'sticks', 'punishes', 'Knows', 'lawsuit', 'rebuild', 'shim', 'lumpish', 'relatedness', 'soils', 'punished', 'dangers', 'rebuilt', 'inimical', 'exhaustion', 'shortages', 'wounds', 'observers', 'stems', 'scrupulously', 'countless', 'developing', 'Continuation', 'OEP', 'expropriated', 'editorial', 'hatchway', 'dregs', 'Reine', 'landslide', 'Mercer', 'marts', 'Dice', 'soil', 'Dick', 'Charge', 'bias', 'embrace', 'bestial', 'heels', 'multitudes', 'mediocre', 'reappearance', 'media', 'Arden', 'Anaconda', 'Chart', 'epoch', 'Charm', 'shit', 'coworkers', 'Wildhack', 'congress', 'Nassau', 'document', 'contouring', 'pedantic', 'finish', 'edifying', 'Lorena', 'reunions', 'Lorenz', 'fruit', 'Shade', 'cinder', 'trawler', 'ringside', 'tradition', 'mentally', \"O'Neill\", 'theater', 'traps', 'nonmetallic', 'wedge', 'toadies', 'diatomic', 'Nilsen', 'Playhouse', 'slugged', 'choreography', 'edema', 'wintered', 'tablespoonful', 'civilized', 'storming', 'slugger', 'touch', 'speed', 'dueling', 'revaluation', 'Sterling', 'provocatively', 'daydreaming', 'nimbler', 'treatment', 'complements', 'Othon', 'mournful', 'momentum', 'real', 'hover', 'frown', 'preliterate', 'Tuck', 'read', 'Phillip', 'specimen', 'absorptive', 'usefully', 'leapfrog', 'quickness', 'snowfall', 'politely', 'Adrien', 'reap', 'hovel', 'rear', 'Shop', 'Shot', 'Show', 'postcard', 'suppliers', 'tardy', 'Theocracy', 'Operation', 'abjection', 'Before', 'evidencing', 'densest', 'Hawkinses', 'photomicrography', 'Danes', 'servile', 'astronomer', 'Archives', 'bobbed', 'Attorney', 'strangulation', 'Ludie', 'Zeme', 'putter', 'recorded', 'hepatitis', 'conservative', 'Southeast', 'deficit', 'necessitating', 'putted', 'Marilyn', 'architectonic', 'Wooded', 'felt', 'dejection', 'Comics', 'tuition', 'credits', 'meets', 'cottonmouth', 'hectic', 'Promotion', 'aeon', 'fondness', 'reexamine', 'central', 'Hospitals', 'copywriter', 'chop', 'foh', 'greatly', 'underway', 'Huggins', 'deranged', 'heater', 'researching', 'protests', 'weighs', 'bathtubs', 'shipbuilding', 'heated', 'operator', 'Castroism', 'Meeting', 'actuarially', 'Exodus', 'prepare', 'stoppage', 'Hotel', 'Hotei', 'stealth', 'died', 'Prestige', 'immaculate', 'uremia', 'overpaid', 'Saints', 'curiously', 'Tripoli', 'cottage', 'Calcutta', 'trying', 'irreversible', 'corduroy', 'hire', 'circulation', 'condemnatory', 'bucket', 'dabbling', 'Leyte', 'pessimists', 'censures', 'keyboarding', 'builders', 'Moise', 'cartons', 'oxen', 'subdue', 'momentarily', 'describe', 'Cemetery', 'sales', 'bawled', 'Lennie', 'moves', 'Jake', 'completeness', 'valuations', 'antenna', 'administered', 'storage', 'foothills', 'thither', 'intercontinental', 'Fascists', 'evenings', 'mathematics', 'weak', 'gaining', 'polar', 'Dogberry', 'punditry', 'desolation', 'mudguard', 'Excitement', 'Renaults', 'irons', 'flattened', 'coverage', 'torches', 'Surrealists', 'resealed', 'connotations', 'chords', 'adsorbed', 'thermos', 'titration', 'convicting', 'doubted', 'stringy', 'strings', 'beachhead', 'shiftless', 'pointing', 'splitting', 'blanche', 'gaucherie', 'Moses', 'Schmidt', 'Astwood', 'Brown', 'altruism', 'referring', 'headsman', 'substantively', 'dinnertime', 'solicit', 'nodes', 'purposively', 'skis', 'subtleties', 'sprains', 'Recovering', 'very', 'indubitable', 'robes', 'mph', 'skit', 'verb', 'minded', 'cantilevers', 'austerity', 'Situs', 'Enzo', 'suzerain', 'organizationally', 'Hamburger', 'guileless', 'Kline', 'Kruger', 'Ancel', 'Electrostatic', 'Breakfast', 'Pernod', 'blackout', 'approximately', 'TSH', 'nearing', 'Number', 'Cerise', 'conscience', 'Latin', 'witnessed', 'Tolley', 'skid', 'Harmful', 'Feeney', 'apologized', 'fractional', 'blundered', 'Tammany', 'repugnant', 'Alexei', 'recruits', 'ma', 'rudimentary', 'answers', 'Grindlay', 'sardines', 'strong', 'historicism', 'Borden', 'interposed', 'colored', 'ahead', 'Tommie', 'soldier', 'bestowal', 'whoppers', 'groin', 'musically', 'victimized', 'Payment', 'Border', 'Victor', 'sidearms', 'toughness', 'Schopenhauer', 'Parish', 'Clarke', 'disgusting', 'hogs', 'chunky', 'slavish', 'chunks', 'unpleasantness', 'finally', 'unpleasant', 'injury', 'abridged', 'Policemen', 'Chickens', 'retarding', 'Ouse', 'rangelands', 'broke', 'Containment', 'underwriter', 'suction', 'hurry', 'Oral', 'Sheila', 'Literary', 'Freudian', 'peals', 'Staining', 'thumped', 'parasol', 'spontaneous', 'lubricant', 'stampede', 'pushes', 'fresco', 'pushed', 'revelry', 'exclude', 'lacks', 'inciting', 'Wergeland', 'chops', 'permissive', 'ratified', 'foreseen', 'Oedipus', 'cloying', 'centimeters', 'gash', 'ft', 'fy', 'Pansies', 'dwarfed', 'germinal', 'biennium', 'outdistanced', 'Syria', 'inconceivable', 'Kopstein', 'morphine', 'frictions', 'laminate', 'documentation', 'Deer', 'overnight', 'Deep', 'slacking', 'renewing', 'Sometime', 'File', 'Eloi', 'Film', 'Fill', 'chicks', 'Floresville', 'Africans', 'indigestion', 'auburn', 'perceptive', 'tousled', 'oblivious', 'rebelling', 'Habsburg', 'fined', 'Cardinals', 'Superstition', 'Moods', 'painstaking', 'fines', 'finer', 'fool', 'Reaction', 'food', 'seminarians', 'awarding', 'lengthening', 'Rural', 'grandfathers', 'Syndicated', 'offensives', 'foot', 'Stillwell', 'Lewisohn', 'staples', 'desperately', 'croupier', 'trailed', 'veering', 'transplanting', 'ACTH', 'die', 'Krakowiak', 'Toland', 'referred', 'unachieved', 'pamper', 'dichotomy', 'Conquering', 'wacky', 'bickering', 'irreconcilable', 'Peaceful', 'cemented', 'totalitarianism', 'Engine', 'magnet', 'vertigo', 'Zemlya', 'juniors', 'presumptuous', 'since', 'Ledford', 'dunk', 'pun', 'bass', 'protruding', 'dirt', 'dung', 'pub', 'boulders', 'heroin', 'coastline', 'dire', 'put', 'Climb', 'ash', 'pup', 'heroic', 'Godot', 'sclerotic', 'uprooted', 'Tintoretto', 'dip', 'tenets', 'Models', 'schemata', 'leading', 'Respect', 'knots', 'Mecca', 'probability', 'Panther', 'quarreled', 'dabbing', 'reflected', 'antiquity', 'elder', 'Hubbell', 'tektites', 'alliterative', 'villa', 'Jeremiah', 'Nature', 'Orestes', 'obedience', 'airborne', 'obtainable', 'onlookers', 'Delta', 'diabetes', 'shifted', 'ladylike', 'lawman', 'audiences', 'Vaska', 'Lookit', 'Oddly', 'Ventura', 'cartridges', 'Venturi', 'flattery', 'Lancashire', 'Sibling', 'squeaky', 'kindly', 'inducted', 'performers', 'impersonal', 'prejudged', 'McClellan', 'photographing', 'haddock', 'uncanny', 'Figs.', 'temptations', 'rationalizations', 'seceded', 'Defence', 'Father', 'juicy', 'Douglas', 'Current', 'juice', 'substantial', 'sensual', 'retracted', 'flaming', 'auctioneer', 'Vineyards', 'uncommonly', 'Myself', 'towards', 'Thy', 'frauds', 'quote', 'quota', 'Kakutani', 'eaten', 'hothouse', 'The', 'Mulligan', 'gregarious', 'aberrations', 'salary', 'Muzak', 'prettiness', 'Quizzical', 'prolongation', 'Marella', 'Mommy', 'Momma', 'Fishing', 'buncha', 'blend', 'enunciation', 'Bartha', 'fiercest', 'jiving', 'Thirdly', 'hefted', 'giggled', 'sheepskin', 'completion', 'absoluteness', 'midmorning', 'bonheur', 'Similarly', 'darted', 'Lanza', 'Fourteen', 'Traffic', 'spruced', 'pretty', 'Bolger', 'believeth', 'upstanding', 'waterproof', 'custodian', 'custodial', 'trees', 'famous', 'Ditmars', 'during', 'workouts', 'wheezes', 'gloved', 'sacrificed', 'perfume', 'sacrifices', 'Unitarians', 'Parioli', 'vestibule', 'glover', 'Fatso', 'wheezed', 'plunges', 'Bombay', 'rooms', 'scanning', 'seventeen', 'reminisced', 'undergoes', 'unpublished', 'outboard', 'nostalgically', 'Verne', 'reminisces', 'descriptions', 'Neither', 'deploying', 'Rescue', 'horrid', 'dramatics', 'Park', 'wop', 'Tikopia', 'woo', 'Part', 'Tuberculosis', 'thermistor', 'woe', 'cuff', 'piss', 'involuntarily', 'catalogs', 'notoriously', 'appetites', 'stairways', 'gynecologists', 'Sanity', 'readying', 'genre', 'useable', 'Hark', 'adores', 'handmaiden', 'orienting', 'Fish', 'Hard', 'Satisfied', 'adored', 'detest', 'buzz', 'Hart', 'searchlights', 'tongues', 'liked', 'ridiculing', 'battery', 'Discussion', 'motivation', 'awnings', 'skips', 'unthaw', 'Maidens', 'likes', 'Borland', 'Mose', 'Melancholy', 'described', 'unaided', 'Mosk', 'earthquake', 'Most', 'describes', 'maintenance', 'mockingly', 'Preamble', 'budgeted', 'partly', 'packs', 'crack', 'grille', 'Jeroboam', 'dystopia', 'clove', 'Pleas', 'referrals', 'utmost', 'pilgrim', 'mumbling', 'Zionism', 'governor', 'hairdos', 'Alacrity', 'Done', 'transcripts', 'erupting', 'dominantly', 'straggling', 'voters', 'overlooked', 'herein', 'geologists', 'Spuyten', 'rulers', 'wartorn', 'salons', 'clerical', 'Meistersinger', 'belong', 'monumentality', 'shuttered', 'checking', 'shag', 'madly', 'modification', 'Meir', 'sham', 'Shine', 'Huff', 'used', 'temporary', 'dime', 'Transmission', 'Clive', 'uses', 'user', 'haunting', 'plugs', 'luminescence', '7A', 'underlies', 'wedged', 'theology', 'chronicles', 'uproariously', 'clears', 'Girl', 'Dennis', 'authoritatively', 'distances', 'blockhouse', 'incongruity', 'breathtaking', 'quarters', 'Pamela', 'inlets', 'hemolytic', 'praying', 'panaceas', 'crus', 'throaty', 'Rorschach', 'peeked', 'dampness', 'canisters', 'guaranteed', 'throats', 'daylights', 'guarantees', 'transformation', 'sprinted', 'ensued', 'march', 'Handlers', 'evaluate', 'tiring', 'enthusiastically', 'Billy', 'culturally', 'testily', 'Waited', 'Creek', 'overriding', 'submission', 'Computing', 'signal', 'Smallwood', 'resorted', 'flexibility', 'actives', 'strife', 'immunization', 'minced', 'woodshed', 'licensing', 'brakes', 'creation', 'outnumber', 'trends', 'histology', 'transversely', 'inarticulate', 'Pittsburgh', 'exceeding', 'dialyzed', 'Attacks', 'pounding', 'civilization', 'slash', 'pushers', 'ruh', 'run', 'rum', 'rub', 'hypocritical', 'processing', 'lakes', 'rue', 'dilating', 'pitchers', 'abroad', 'rut', 'integers', 'beefsteak', 'portico', 'Catherine', 'trucking', 'Lion', 'allotment', 'reportedly', 'Leale', 'seeing', 'shipshape', 'caretaker', 'birches', 'ensue', 'Their', 'Sally', 'conscientious', 'gambits', 'Racing', 'rolls', 'Racine', 'scenarios', 'caressed', 'Lunch', 'Composite', 'Caddy', 'accountability', 'Cursing', 'consultation', 'caresses', 'heritage', 'confessing', 'sizzle', 'Severs', 'theatergoer', 'pert', 'bursitis', 'Severe', 'Individuals', 'warlike', 'ceremonies', 'Frothingham', 'chiropractor', 'Lilac', 'noradrenalin', 'circuits', 'chromed', 'strikebreakers', 'Murray', 'foresight', 'heterogeneous', 'stragglers', 'comprise', 'adults', 'Stormy', 'Tate', 'willed', 'tormenters', 'Nietzsche', 'precept', 'languishing', 'Above', 'guardians', 'cotton', 'Kazan', 'Complicity', 'paradoxical', 'obelisk', 'politicians', 'Speaking', 'tits', 'forge', 'Gannon', 'Gerry', 'curriculum', 'spectators', 'triumph', 'visits', 'Thought', 'neocortex', 'Emmett', 'heroine', 'revamped', 'superhighways', 'required', 'humiliated', 'clenched', 'depth', 'Geiger', \"she's\", 'requires', 'evenly', 'Lars', 'Brae', 'mores', 'Zeffirelli', 'Hazlitt', 'Defense', 'Pels', 'calorimeter', 'marbleizing', 'Lark', 'gm', 'mercer', 'instrumentally', 'baron', 'wizard', 'arid', 'nose', 'attired', 'ripened', 'capturing', 'sayonara', 'schooner', 'Pulley', 'putout', 'prudence', 'Dolores', 'squeaked', 'rebuked', 'enslaved', 'discouragement', 'polymeric', 'Chico', 'kindled', 'tonal', 'asparagus', 'insuperable', 'flickered', 'Schuylkill', 'avoiding', 'Spa', 'dilute', 'Thynne', 'manliness', 'punishing', 'expunging', 'Teaching', 'Soothing', 'Poirot', 'auspices', 'Briefly', 'Boyd', 'opaque', 'edifice', 'valet', 'Boys', 'rotten', 'experiment', 'dilation', 'selecting', 'piezoelectric', 'Swift', 'saps', 'melancholy', 'focuses', 'Cunningham', 'Kerrville', 'stance', 'Greer', 'armhole', 'Debating', 'Greek', 'focused', 'affidavits', 'Volumes', 'likened', 'noisily', 'Dives', 'Ahm', 'repel', 'products', 'antecedents', 'Wonder', 'examining', 'Emory', 'Hindu', 'juries', 'clout', 'Lipson', 'Kirk', 'Utopian', 'anomalies', 'apples', 'Yin', 'Kira', 'cloud', 'strapped', 'aspirants', 'swanlike', 'vs.', 'Taxable', 'simpliciter', 'reflects', 'optimizing', 'McWhinney', 'Appropriations', 'tennis', 'missile', 'Skylark', 'Claire', 'Westmore', 'Editorial', 'inattentive', 'arched', 'Khrushchev', 'shrieked', 'Choreographed', 'arches', 'infinitesimal', 'vexatious', 'nurture', 'Englanders', 'anthropological', 'Speidel', 'Heidegger', 'headstand', 'escapes', 'Similarities', 'Dutch', 'escaped', 'Almighty', 'Homemade', 'suds', 'triangle', 'darkening', 'bradykinin', 'hesitate', 'boasting', 'jails', 'ambivalence', 'reoriented', 'semitropical', 'digested', 'Ideally', 'poetry', 'neurotic', 'meditations', 'Gord', 'Gore', 'Urich', 'elliptical', 'cladding', 'deplore', 'Lobby', 'normalize', 'fostered', 'furiously', 'Senesac', 'billows', 'colonnaded', 'Specific', 'jiffy', 'Blackberry', 'spelling', 'hasher', 'Alleghenies', 'documentary', 'pansies', 'corral', 'adjectival', 'Farewell', 'agenda', 'inundated', 'immensity', 'Gonzalez', 'unsolved', 'submachine', 'unbreakable', 'arithmetic', 'Brandeis', 'Gonzales', 'Smith', 'bogeymen', 'Patchen', 'Bangles', 'brittle', 'subversive', 'exclusion', 'till', 'housewife', 'Allocation', 'youngster', 'Luis', 'Eyke', 'Volunteer', 'Philibert', 'sword', 'Miami', 'stratification', 'swore', 'Brother', 'tile', 'Salsich', 'modernistic', 'Repeating', 'Coolest', 'assess', 'Supreme', 'gastronomy', 'McNear', 'Sailor', 'mode', 'pools', 'indolently', 'Displaying', 'expressly', 'upward', 'commonwealth', 'aggravates', 'chunk', 'inverted', 'aggravated', 'Hubba', 'sands', 'Spatial', 'Carwood', 'Narbonne', 'sandy', 'secretly', 'lukewarm', 'undemocratic', 'activism', 'fathom', 'scimitar', 'Proust', 'wick', 'Beginning', \"one's\", 'achievements', 'Brumidi', 'terminated', 'reacts', 'diagonal', 'Substantive', 'ancestry', 'Sweat', 'Fundamental', 'conservatives', 'Agrobacterium', 'Mikoyan', 'drowning', 'McLendon', 'engraved', 'route', 'diminished', 'keep', 'keen', 'keel', 'diminishes', 'glories', 'incarnate', 'succeeds', 'Managing', 'possessing', 'lobule', 'forego', 'introspective', 'filigree', 'fella', 'Slavic', 'ASW', 'Peerless', 'they', 'adjoins', 'grow', 'attach', 'attack', 'buckaroos', 'Odom', 'declines', 'prouder', 'unambiguously', 'Roquemore', 'circulate', 'Bini', 'Rev.', 'lighters', 'earmarked', 'Bing', 'DUF', 'formalities', 'Bride', 'R', 'Dutton', 'Searles', 'synergistic', 'overwhelming', 'herself', 'Grossman', 'achieves', 'Channing', 'ultimatum', 'electroshock', 'distinguishes', 'beg', 'bed', 'bee', 'Fury', 'transgression', 'snazzy', 'buggers', 'spurt', 'providing', 'distinguished', 'spurs', 'firehouses', 'exhibit', 'Information', 'gratingly', 'dogmatically', 'unchanged', 'carrots', 'sardonic', 'thereto', 'torment', 'mycobacteria', 'beefy', 'constrained', 'batwings', 'fluent', 'Patterson', 'unadulterated', 'Dillinger', 'Photos', 'sprinkled', 'romances', 'jail', 'Cotman', 'fuels', 'adieu', 'floundered', 'hoodlums', 'campmate', 'plugging', 'Sharkey', 'resplendent', 'liturgical', 'thorns', 'sippers', 'demise', 'Norths', 'nuisance', 'Somersaults', 'harmonization', 'proceedings', 'Growth', 'businessman', 'Provincial', 'Matt', 'reprehensible', 'anyway', 'unfathomable', 'farfetched', 'parked', 'Math', 'envy', 'idiocies', 'millennia', 'wreak', 'Mercifully', 'equivalents', 'sulfur', 'broncs', 'adherent', 'Medici', 'crumbling', 'Eats', 'Hague', 'bodybuilders', 'Removal', 'ascended', 'marvels', 'evolution', 'evident', 'parlors', 'shy', 'ordain', 'she', 'solicitous', 'flogged', 'preach', 'tactically', 'accuses', 'Driving', 'prayers', 'capitalists', 'inkling', 'marshmallows', 'legacy', 'usefulness', 'Tartary', 'Jenkins', 'Evansville', 'unearth', 'furbishing', 'Hergesheimer', 'Good', 'Dimaggio', 'horribly', 'thumb', 'tabula', 'arraigned', 'unsavory', 'correctly', 'horrible', 'lui', 'flicks', 'kidneys', 'franchises', 'sole', 'ultracentrifugation', 'spares', 'munching', 'Breuer', 'Christopher', 'bemoan', 'spared', 'Race', 'confiscated', 'ailerons', 'approval', 'precious', 'outfit', 'pilgrims', 'thank', 'undetermined', 'interpretations', 'disobeyed', 'Masson', 'jersey', 'habitual', 'Chabrier', 'individuation', 'baleful', 'penchant', 'cohere', 'crystalline', 'addition', 'discrimination', 'Immigration', 'conjoined', 'Careful', 'armistice', 'isolating', 'darkling', 'wetlands', 'banshees', 'releasing', 'Ignazio', 'expenditure', 'Repayment', 'mail', 'kicks', 'boxcars', 'Subsequently', 'capering', 'digger', 'owne', 'novel', 'contexts', 'Tires', 'Rusty', 'mischief', 'Unsinkable', 'owns', 'cornering', 'Elba', 'Troops', 'resident', 'neuron', 'eruption', 'despues', 'Heenan', 'Briggs', 'disclosures', 'lambs', 'Shu', 'orbital', 'Melamine', 'calamitous', 'upside', 'Underneath', 'chants', 'incumbent', 'blight', 'helium', 'Viareggio', 'haranguing', 'practitioner', 'rightfully', 'absorb', 'Saba', 'antagonize', 'outcasts', 'paycheck', 'transaction', 'Wallingford', 'reflection', 'i', 'modeled', 'despoiled', 'energizes', 'shackles', 'Provinces', 'Peaceable', 'underdog', 'schnooks', 'accurate', 'aspirations', 'Sunday', 'Aeschylus', 'centralizing', 'spells', 'reaffirmation', 'ushered', 'bequests', 'deposits', 'killed', 'Helmut', 'extends', 'developments', 'warrant', 'Fabrics', 'kick', 'intimated', 'sonic', 'wooed', 'definitive', 'fate', 'fats', 'historic', 'rebelliously', 'turbulence', 'Proof', 'Priddy', 'sizes', 'exploiting', 'candy', 'sized', 'tablespoons', 'pinging', 'backlog', 'lends', 'benzene', 'cognate', \"O'Clock\", 'Wagner', 'Barth', 'incubus', 'copra', 'liking', 'Trees', 'Larkin', 'ROK', 'Monsieur', 'sweepingly', 'upswing', 'sorption', 'Bull', 'fretted', 'retirements', 'Rhythms', 'medieval', 'disentangle', 'olim', 'Leavenworth', 'expansion', 'Christmastime', 'tenfold', 'choked', 'misrepresentation', 'decorators', 'exacerbation', 'incomes', 'Ages', 'recognized', 'Antiquity', 'eatables', 'epitomize', 'airlock', 'recognizes', 'Agee', 'Beale', 'celebrations', 'citron', 'Graph', 'evocation', 'mushrooms', 'Foxx', 'brusquely', 'winging', 'Dukes', 'Nakamura', 'agin', 'Sarti', 'rejoice', 'commends', 'Lawrence', 'Lorca', 'canting', 'noticed', 'accountant', 'coloration', 'notices', 'jinx', 'unexamined', 'draperies', 'prophetic', 'Campitelli', 'hr', 'Drifts', 'administrators', 'spigots', 'overflow', 'ha', 'fraternities', 'mucker', 'Industrial', 'Sentence', 'Appalachian', 'Luang', 'Resentment', 'carriage', 'projecting', 'Seashore', 'gagged', 'mechanics', 'Alla', 'affectionate', 'urns', 'lasted', 'twist', 'lobes', 'vociferously', 'balcony', 'Perfect', 'Shall', 'Paynes', 'Byzantium', 'dispenser', 'Fridays', 'crummy', 'meteor', 'fledgling', 'relive', 'transferring', 'expressible', 'Rests', 'gradations', 'insults', 'inescapably', 'pathways', 'impurity', 'appoint', 'Betting', 'dripped', 'tightest', 'unsteadily', 'Chambers', 'Savage', 'reversibility', 'straws', 'Constantinos', 'Albanians', 'esplanade', 'fronts', 'Liverpool', 'Klein', 'canted', 'Jennings', 'Lunge', 'Addict', 'Mystery', 'nourishes', 'Grocery', 'Tulane', 'downstream', 'vociferous', 'activation', 'railways', 'nourished', 'reforms', 'affect', 'NYU', 'Memoirs', 'operetta', 'snowflakes', 'naturalist', 'clothed', 'companies', 'solution', 'correct', 'indefinitely', 'vector', 'sexton', 'greenish', 'entropy', 'Goering', 'typified', 'heading', 'naturalism', 'Occupation', 'bimonthly', 'Strasbourg', 'ironies', 'dogmas', 'lavender', 'orifices', 'Hounds', 'fitness', 'Poles', 'spouses', 'desirous', 'Clemence', 'corporation', 'shamefacedly', 'unskilled', 'Put', 'fetish', 'net', 'harbors', 'Anselmo', 'evolving', 'healthily', 'screams', 'filbert', 'Assemblies', 'Items', 'neckline', 'Artisans', 'drew', 'jade', 'cardboard', 'interpret', 'buckled', 'Correction', 'vulnerability', 'groveling', 'piercing', 'tolerating', 'buckles', 'monosyllable', 'floorboards', 'adolescents', 'astute', 'Archangel', 'exquisiteness', 'hunch', 'Privacy', 'dehumanize', 'plinking', 'Behind', 'busses', 'drowned', 'rakishly', 'counts', 'Armies', 'Snatching', 'Sigma', 'invaders', 'Allons', 'Barbecued', 'Heuvelmans', 'recommend', 'N.J.', 'type', 'tell', 'churchyard', 'supporters', 'DiMaggio', 'expose', 'Intuition', 'jakes', 'rimless', 'shelters', 'inhabited', 'Chiba', 'Vittorio', 'rights', 'Cornwallis', 'sizzled', 'Italo', 'suggestive', 'Petrini', 'foliage', 'endow', 'drizzling', 'Miglia', 'alternating', 'squirting', 'give', 'blips', 'assent', 'wrenches', 'wrenched', 'fiche', 'crystallized', 'Tillie', 'polio', 'Phoenix', 'scrivener', 'braids', 'sixties', 'exhaustingly', 'Jack', 'polis', 'butting', 'Laurance', 'McGhie', 'peopled', 'Ferraros', 'reconciled', 'abdomen', 'Prickly', 'Howell', 'sickroom', 'summarize', 'reconciles', 'muddling', 'ambivalent', 'rewrites', 'U.S.A.', 'ablation', 'fees', 'Regius', 'gulling', 'Werther', 'cofactors', 'Methyl', 'amplifying', 'Brook', 'Laurence', 'Sharpe', 'panthers', 'Hitlers', 'indispensible', 'soaking', 'Frederic', 'stopover', 'Helen', 'Vidal', 'ghouls', 'Bobby', 'sterilization', 'unemployed', 'recruit', 'Silkworms', 'academics', 'Simultaneous', 'indulge', 'Frederik', 'Someday', 'rhetoric', 'venereal', 'brightness', 'calibrating', 'exaggerate', 'lucy', 'Goose', 'Fortescue', 'Milan', 'philosophized', 'prerequisite', 'acoustic', 'calibrations', 'luck', 'interruption', 'sonatas', 'enthusiasts', 'Couve', 'Wow', 'mystification', 'About', 'taught', 'corporations', 'Woe', 'dawn', 'publically', 'oilcloth', 'enclosure', 'Dresses', 'conjectures', 'harrowed', 'decree', 'Goodwin', 'ranted', 'Expansion', 'revolting', 'adhesion', 'discharged', 'unromantic', 'conjectured', 'surprise', 'sluggish', 'grease', 'Ricans', 'telescoped', 'revenge', 'Weigand', 'Crowder', 'bestow', 'monolithic', 'Planes', 'mistress', 'telescopes', 'greasy', 'Criticism', 'aisle', 'Lucien', 'logging', 'messages', 'childishly', 'ist', 'Ukrainians', 'prodigal', 'braggadocio', 'perforated', 'cellars', 'loud', 'enrollees', 'grownups', 'playwright', 'economists', 'workingmen', 'hoop', 'Sovereign', 'hoot', 'executions', 'hook', 'synthesize', 'hoof', 'hood', 'monotonous', 'psychotic', 'neutralization', 'girls', 'interlude', 'P.S.', 'inferno', 'drawled', 'lovelorn', 'dilated', 'Boucher', 'villager', 'villages', 'dramatizes', 'Boonton', 'Neighbor', 'Heatwole', 'swells', 'stocking', 'Purchases', 'upholstery', 'cruelly', 'depraved', 'Galina', 'matter', 'childlike', 'N.M.', 'threadbare', 'bidder', 'coltish', 'steelmaker', 'Floor', 'pistons', 'rivers', 'Flood', 'Coaching', 'expeditions', 'reprieve', 'Roleplaying', 'Poets', 'alibi', 'boaters', 'impotent', 'niece', 'demoralizing', 'await', 'machinery', 'Algerian', 'Refunds', 'psychologically', 'buggies', 'replenished', 'Ludlow', 'Petitioner', 'scarify', 'Comet', 'exonerate', 'Trenton', 'Bakhtiari', \"O'Donnell\", 'medical', 'impudently', 'Philippine', 'digress', 'points', 'summitry', 'greases', 'doves', 'discontent', 'Karsner', 'rapture', 'visitor', 'brilliance', 'calculable', 'thirds', 'judges', 'resisting', 'divinity', 'paralleling', 'insecticides', 'folded', 'Visual', 'unleashed', 'judged', 'integrate', 'folder', 'Pembroke', 'Drying', 'Sonata', 'Seems', 'baptistery', 'stop', 'meditate', 'smug', 'Organization', 'thermoforming', 'Southeastern', 'comply', 'Gloucester', 'briefer', 'fields', 'thrusts', 'Anatole', 'briefed', 'Sacre', 'fertility', 'Clapping', 'Playground', 'attest', 'questions', 'reference', 'zoned', 'Belle', 'arrowed', 'Bella', 'sturgeon', 'zones', 'Juanita', 'Patrimony', 'Butler', 'vented', 'Orioles', 'hydrocarbon', 'Bells', 'pebbles', 'constrictor', 'Run', 'Rum', 'scrap', 'insolently', 'revenuers', 'Canyon', 'continent', 'tantamount', \"there's\", 'Yards', 'sorts', 'fluoresces', 'pyrophosphate', 'vows', 'undergirding', 'pickins', 'residual', 'virtuosity', 'modeling', 'picking', 'horsemen', 'prudential', 'subverting', 'Burnsides', 'conceive', 'Brush', 'distinction', 'vex', 'Reasoning', 'Devoted', 'appeared', 'Jouvet', 'Snow', 'hygiene', 'camouflaged', 'springs', 'resourcefulness', \"boys'\", 'Wentworth', 'brassy', 'Constantin', 'proceeded', 'eradication', 'Arctic', 'dusting', 'particulars', 'Ratcliffe', 'Wyckoff', 'Cagayan', 'ethers', 'stresses', 'Georgia', 'quantities', 'sunshine', 'McFeely', 'briefs', 'strictures', 'Yang', 'sunshiny', 'Marines', 'DA', 'individualists', 'Yank', 'misquoted', 'exception', 'shovels', 'Brindisi', 'Boothby', 'homebound', 'near', 'apocryphal', 'neat', 'motorist', 'Tigard', 'reconnaissance', 'anchor', 'chilling', 'Queen', 'metropolitan', 'shams', 'semper', 'reproducibility', 'is', 'it', 'shame', 'ij', 'Jenks', 'clinging', 'jest', 'in', 'vendor', 'wainscoted', 'if', 'bottles', 'Fergeson', 'cools', 'bottled', 'sidelines', 'doorbell', 'Convocations', 'blandly', 'Spruce', 'waterfall', 'Truck', 'Hebraic', 'beaching', 'jealous', 'Builders', 'stiffened', 'Aim', 'practiced', 'romp', 'elaborates', 'crabapple', 'practices', 'tombstone', 'Bantus', 'Thornburg', 'De', 'facto', 'perpetration', 'wonderingly', 'wetly', 'sporting', 'rebellions', 'belowground', 'bandwidth', 'identify', 'supernormal', 'facts', 'Jew', 'catalytic', 'regarded', 'Rotunda', 'defray', 'justices', 'designate', 'beholds', 'Ligget', 'unfitting', 'fluidity', 'Freya', 'Disciplinary', 'creatively', 'ducts', 'Albania', 'coarseness', 'Jeb', 'Barker', 'banshee', 'Targo', 'esthetics', 'polymers', 'signposts', 'curtness', 'indium', 'unexplored', 'anodes', 'wilted', 'Chevrolet', 'holdup', 'scrimmage', 'Klauber', 'Denverite', 'meekest', 'tripped', 'sprawl', 'tracked', 'undisturbed', 'uproar', 'notification', 'Nobody', 'oleophobic', 'daytime', 'Quite', 'flounder', 'dispelled', 'beget', 'Souci', 'Dunne', 'plot', 'Basso', 'burn', 'plow', 'Swedes', 'Bishopsgate', 'Sweden', 'firemen', 'burr', 'keeper', 'bury', 'zur', 'denuded', 'yelling', 'Cheat', 'metrical', 'Cheap', 'Technicians', 'Evidence', 'Magog', 'craftsman', 'islands', 'Deity', 'boors', 'sweater', 'nerve', 'motivate', 'formerly', 'castanets', 'Ratified', \"world's\", 'pair', 'Critical', 'Draft', 'frightened', 'Withholding', 'Revolutionary', 'unrehearsed', 'catlike', 'Fortman', 'lurid', 'fork', 'Rte.', 'dogmatism', 'form', 'Assume', 'fireworks', 'Carmack', 'fore', 'garments', 'Convenience', 'powerfully', 'Survey', 'syndicate', 'Bauer', 'massacred', 'obsequies', 'fort', 'Melzi', 'administering', 'pavilion', 'tempeh', 'Fire', 'unvarying', 'occupancies', 'cosmos', 'DeGroot', 'temper', 'campaigners', 'napkin', 'shin', 'Publishing', 'Anthology', 'classic', 'Twenty', 'Walbridge', 'sticky', 'revitalize', 'fashioned', 'stirrings', 'adversely', 'gowned', 'Jeffersonian', 'caucuses', 'Marmon', 'excerpt', 'oversimplification', 'Starch', 'Arthritis', 'venison', 'Stennis', 'breakwaters', 'digital', 'Paget', 'ribbons', 'Potowomut', 'Vous', 'dies', 'coning', 'Hunt', 'diet', 'ammonium', 'fell', 'exported', 'diem', 'authorities', 'transfers', 'aware', 'unclasping', 'billion', 'lettermen', 'Roxy', 'assume', 'blushing', 'Second', 'championships', 'Throat', 'Changeable', 'mobilized', 'woodwork', 'skip', 'jingling', 'bien', 'invent', 'grandly', 'skin', 'morphology', 'primes', 'Ronnie', 'Evening', 'deceitful', 'Normally', 'Exactly', 'editors', 'answered', 'unruffled', 'marks', 'phonemes', 'Atlanta', 'Chieftains', 'ballooning', 'string', 'yeast', 'penniless', 'Explicit', 'geometrical', 'pathologist', 'dinghy', 'Plus', 'Athabascan', 'Vent', 'Recess', 'divorced', 'banished', 'Medecine', 'accidentally', 'Madagascar', 'travels', 'banishes', 'humanistic', 'brownish', 'Unsuccessful', 'perceptual', 'shave', 'extenuating', 'oscillation', 'Brinkley', 'Conduct', 'Loesser', 'Macassar', 'photosensitive', 'Beverages', 'landslides', 'template', 'unrestricted', 'transportation', 'bandwagon', 'Coward', 'Variations', 'raided', 'unknowing', 'crackpots', 'hummed', 'congestion', 'deceit', 'Chateau', 'environs', 'beatification', 'Sleeping', 'exploitation', 'forages', 'priceless', 'rediscover', 'stubbed', 'genuinely', 'crusading', 'rheumatic', 'consolation', 'colloquial', 'enticements', 'regeneration', 'histories', 'modus', 'Hammarskjold', 'Montenegrin', 'sympathetic', 'troops', 'Plexiglas', 'Russia', 'insides', 'Visa', 'balks', 'armchairs', 'thru', 'pattered', 'Ben', 'Bel', 'Leather', 'Bea', 'Orlando', 'satirizes', 'Bed', 'Bee', 'subsistent', 'Bey', 'rigid', 'heartless', 'savior', 'calorimetric', 'effort', 'incompetents', 'Bet', 'bristling', 'walled', 'pageant', 'transferral', 'inertial', 'hubris', 'wallet', 'violins', 'growing', 'abandon', 'Children', 'deceased', 'Caring', 'crazy', 'licensed', 'sphere', 'remanded', 'birdbath', 'justness', 'Sweepstakes', 'craze', 'pink', 'frightful', 'rays', 'lifeless', 'tilt', 'necklaces', 'Bolshevism', 'pine', 'chemical', 'scornfully', 'pure', 'skates', 'pins', 'concertmaster', 'sworn', 'pint', 'grok', 'outlining', 'designer', 'bidding', 'designated', 'spacesuits', 'whodunnit', 'blame', 'designed', 'scalloped', 'guys', 'aviator', 'recovery', 'relinquish', 'aimless', 'Hendl', 'outline', 'facile', 'maybe', 'Gaussian', 'Isabel', 'provide', 'thorny', 'killers', 'pickets', 'verify', 'Worlders', 'Hamm', 'gesture', 'procreation', 'cute', 'recrimination', 'fleets', 'rabbi', 'pointed', 'entity', 'stability', 'bewitched', 'arabesque', 'cuts', 'differs', 'consolidating', 'pointer', 'Resting', 'conjunction', 'encompasses', 'serenaded', 'extirpated', 'encompassed', 'chanceries', 'Purchase', 'tonic', 'finance', 'captivated', 'Shy', 'killer', 'shatter', 'timepiece', 'sooner', 'Arbogast', 'interview', 'Geroge', 'touching', 'interclass', 'Ponce', 'Perasso', 'Kestner', 'bullshit', 'Floridian', 'Rotonda', 'Stores', 'Althaus', 'resignation', 'pickoff', 'nonfood', 'peered', 'peasant', 'offshore', 'Southwestern', 'surfeit', 'richly', 'Split', 'preaching', 'aloof', 'rosettes', 'Laredo', 'socialized', 'threading', 'interference', 'socializes', 'imperative', 'Omsk', 'objectivity', 'nudes', 'Aliah', 'Stone', 'after', 'monster', 'yokels', 'Siamese', 'hefty', 'mechanisms', 'gagging', 'Jude', 'walnuts', 'Tumor', 'Judy', 'vinyl', 'reliving', 'Griggs', 'Farrar', 'finishing', 'Loire', 'Deciding', 'underwear', 'unfrosted', 'grist', 'language', 'widths', 'App', 'listings', 'Elder', 'proffered', 'blacksmith', 'Hapgood', 'exotic', 'dwelling', 'kernel', 'buzzes', 'question', 'scandalized', 'Detail', 'ICBMs', 'carry', 'cloture', 'rivets', 'honesty', 'vermeil', 'unduly', 'plains', 'Polytechnic', 'Post', 'prettier', 'impresses', 'continuous', 'accurately', 'Urethane', 'Floradora', 'Berkely', 'stipulation', 'cracks', 'Ridiculing', 'gotta', 'browning', 'Tenderloin', 'orgy', 'knives', 'venture', 'were', 'gigantic', 'tractor', 'Autobiography', 'coconut', 'Jockey', 'marijuana', 'conspiracy', 'Arnolphe', 'Celebes', 'rehearsals', 'commissions', 'converged', 'personalized', 'pranks', 'aboveground', 'Articles', 'pain', 'Name', 'pail', 'investigations', 'tallies', 'paid', 'ordinates', 'indwelling', 'contrasts', 'Toscanini', 'mettle', 'conspicuous', 'Domina', 'fills', 'gyro', 'wreathed', 'trotter', 'filly', 'Kasavubu', 'fille', 'Galena', 'grassland', 'trotted', 'Franklin', 'usurp', 'contemporary', 'Graduate', 'veranda', 'Gate', 'Monogamy', 'lieder', 'curled', 'gage', 'Seaton', 'Woollcott', 'Fascism', 'metabolites', 'outpost', 'nickels', 'black', 'raising', 'defenders', 'Fisher', 'Epicurus', 'savoring', 'Leaves', 'strutted', 'spraying', 'slyness', 'framing', 'Midway', 'corticotropin', 'encroached', 'Tougher', 'Bell', 'Ullman', 'summary', 'Folsom', 'Lawrenceville', 'Wycombe', 'Toccata', 'ruddy', 'Malmesbury', 'Soeren', 'communicated', 'Killebrew', 'Cavalry', 'lethargy', 'Heitschmidt', 'Weltanschauung', 'eighteenth', 'Exhibits', 'blurred', 'doings', 'Cloudcroft', 'Hopefully', 'Screwed', 'calendar', 'nets', 'Forgive', 'whereabouts', 'behind', 'rads', 'Toodle', 'Bernet', 'reading', 'snorted', 'checks', 'oversized', 'Weybosset', 'loped', 'Impersonal', 'handbooks', 'killing', 'Competitors', 'je', 'tub', 'pillared', 'tug', 'dates', 'parentheses', 'Melodious', 'landscapes', 'according', 'indelicate', 'Tours', 'disappointment', 'dwellers', 'holders', 'decimals', 'capable', 'forecasting', 'cancer', 'Elizabethan', 'possessive', 'Spontaneity', 'scherzo', 'cancel', 'perpetuating', 'mortification', 'custody', 'Urge', 'arts', 'caricature', 'Prevot', 'arty', 'certify', 'shortening', 'Reporters', 'rancher', 'understated', 'borders', 'corduroys', 'graveyard', 'hodgepodge', 'offered', 'valor', 'Allstates', 'Taxpayers', 'bespeak', 'spills', 'Sprouted', 'vents', 'Sansome', 'odyssey', 'those', 'emeritus', 'litterbug', 'Minors', 'disconnected', 'Discounts', 'Marshall', 'presenter', 'Dred', 'compile', 'terrestial', 'Sloane', 'Toynbee', 'deformities', 'awakened', 'margin', 'bathe', 'endothelial', 'Basketball', 'Transfer', 'sincere', 'kindnesses', 'middle', 'baths', 'wisely', 'receptacle', 'comments', 'Plant', 'Hoyt', 'Plans', 'insofar', 'multicolor', 'same', 'authentication', 'Plane', 'flageolet', 'Nazis', 'Oman', 'deference', 'Cunard', 'Plank', 'dated', 'Salvador', 'gaspingly', 'Leroy', 'munch', 'Drawers', 'Canticle', 'Humanist', 'Mortars', 'discernable', 'totally', 'Patil', 'drain', 'intermittent', 'Employment', 'roommate', 'Reno', 'evils', 'accountable', 'Burkette', 'amazed', 'lumbered', 'gangs', 'backs', 'imprint', 'reputable', 'Hiss', 'Gambling', 'adrenal', 'Chavis', 'ethyl', 'abstractors', 'dipped', 'hopping', 'comradeship', 'swath', 'dipper', 'trespasses', '4', 'Although', 'Ethics', 'elaborately', 'Glow', 'presentable', 'newsmen', 'docks', 'admitting', 'shallower', 'inhibition', 'Moosilauke', 'Fonds', 'blankets', 'Prefecture', 'Artfully', 'chamber', 'audience', 'thighs', 'robbery', 'spandrels', 'arcades', 'Pathology', 'Dress', 'specifies', 'Democracy', 'doll', 'alternated', 'Stinky', 'Nec', 'dole', 'specified', 'New', 'Net', 'Schutz', 'booming', 'gross', 'Rake', 'Medea', 'Gogo', 'Artie', 'inject', 'Gogh', 'ovens', 'buttressed', 'underwriters', 'cliques', 'seconds', 'lethality', 'flyers', 'broker', 'squall', 'broken', 'Kyne', 'buttresses', 'Chancellorsville', 'squarely', 'Husky', 'roaming', 'lamplight', 'giggle', 'opium', 'stations', 'island', 'insect', 'Trade', 'analogies', 'Suspecting', 'metaphors', 'allowing', 'organizers', 'Espanol', 'lands', 'oversize', 'Contacts', 'schemes', 'pharmaceutical', \"O'Banion\", 'Conductor', 'daubed', 'Operators', 'brute', 'fates', 'tycoon', 'mornings', 'lunchroom', 'hesitance', 'proportionately', 'buggy', 'constituencies', 'wiping', 'jejunum', 'staircases', 'ranches', 'Walker', 'Castle', 'hesitancy', 'belated', 'Longstreet', 'Duty', \"wasn't\", 'Nouvelle', 'sapping', 'drills', 'hinges', 'Outraged', 'Attitude', 'netting', 'suitcase', 'Blues', 'ossification', 'Alison', 'leaked', 'deliberation', 'perennially', 'diffusers', 'departments', 'garrulous', 'lifetime', 'deterrent', 'Springfield', 'Benet', 'assessing', 'Nieman', 'retiring', 'hybrid', 'tablets', 'drouth', 'bragging', 'unaccustomed', 'raucously', 'lapel', 'Frontage', 'obsessed', 'students', 'durations', 'vertex', 'deriving', 'obsesses', 'brandy', 'democratize', 'brands', 'revolve', 'Major', 'remote', 'recapitulation', 'Intangible', 'nutrient', 'deluxe', 'starting', 'growling', 'looped', 'liar', 'suburban', 'invariable', 'alerting', 'bravest', 'talky', 'Wayne', 'cooperative', 'Theorem', 'talks', 'allowances', 'reluctant', 'Specialist', 'captivity', 'hooks', 'Everywhere', 'Westchester', 'Beame', 'bevy', 'Jeep', 'Vehicles', 'neonatal', 'carefree', 'overdone', 'Standards', 'scout', 'scour', 'fall', 'Recherches', 'bottleneck', 'capillary', 'Araby', 'extractors', 'neurological', 'mothers', 'benevolent', 'skeletal', 'Arabs', 'Cooling', 'reminding', 'Course', 'slumber', 'mistaking', 'economically', 'infatuation', 'fauteuil', 'sobbed', 'titled', 'periodicity', 'knitted', 'Department', 'Only', 'titles', 'lawyer', 'Budd', 'Unam', 'material', 'centering', 'Wycoff', 'bellhops', 'stool', 'Liberties', 'traineeships', 'certifies', 'sociologically', 'outgoing', 'K', \"nation's\", 'tighter', 'beacon', 'operating', 'unfurled', 'fantasies', 'fatter', 'search', 'prosecutors', 'tortoise', 'airport', 'disputes', 'narrow', 'fatten', 'milks', 'Miraculously', 'Devil', 'Scriptures', 'transit', 'sadist', 'fastening', 'Yaddo', 'sadism', 'extinction', 'establish', 'detecting', 'suspensions', 'libertine', 'Guthrie', 'cultivation', 'devotees', 'aperture', 'pocketbooks', 'achieving', 'Boeing', 'formality', 'shrubbery', 'Vienot', 'brisk', 'patrolmen', 'baseman', 'admissions', 'controlling', 'projective', 'Harcourt', 'Peters', 'town', 'dey', 'none', 'der', 'des', 'Byron', 'intercepted', 'dew', 'del', 'clergy', 'aspirant', 'marble', 'def', 'wails', 'purchases', 'compare', 'surfactant', 'Rilke', 'galleries', 'socal', 'Aldo', 'purchased', 'Injury', 'maturing', 'drained', 'pressing', 'sec.', 'showmanship', 'overshoes', 'Balkanize', 'Stack', 'Vinegar', 'Subdivision', 'charms', 'bouffant', 'Radiation', 'petits', 'blood', 'faculty', 'surfactants', 'Sophie', 'bloom', 'Sophia', 'harsh', 'coax', 'Dillon', 'coat', 'Shivering', 'doctor', 'coal', 'sect', 'Notre', 'pleasure', 'What', 'Bridges', 'surrealist', 'setback', 'radiators', 'surrealism', 'dough', 'sleepily', 'existence', 'clumsily', 'Whah', 'Bisque', 'Ranking', 'Morehouse', 'champs', 'lats', 'sodium', 'energies', 'late', 'Marietta', 'PABA', 'clamor', 'bereft', 'lath', 'infantrymen', 'dolls', 'Gullah', 'seeking', 'synonymous', 'males', 'Dorcas', 'walls', 'Vatican', 'unauthentic', 'detach', 'bounded', 'stepped', 'Afrique', 'headroom', 'crispness', 'Chung', 'fluttered', 'intermediary', 'token', 'habits', 'subjugation', 'boisterous', 'Dish', 'McDonnell', 'harboring', 'leveled', 'clams', 'nakedness', 'Strictly', 'idea', 'Manfred', 'Waiting', 'endearment', 'seniority', 'dignitaries', 'insurance', 'Wires', 'funding', 'Victrola', 'Rathbone', 'pigeon', 'projected', 'numbingly', 'avenge', 'Bushell', 'stewards', 'pathetic', 'Humanism', 'Parsons', 'pleasant', 'caravans', 'disposition', 'Squeezed', 'Arkabutla', 'hunters', 'Pelham', 'Yankees', 'dribbled', 'eventuality', 'settlers', 'omit', 'lotions', 'audacity', 'Inna', 'McKinley', 'Pullman', 'Rover', 'utilizes', 'netted', 'bullies', 'Officers', 'utilized', 'Lithe', 'Ethan', 'campground', 'gripping', 'Gilbert', 'wager', 'Lipton', 'modish', 'Algeria', 'Slight', 'careerism', 'kob', 'entreated', 'construct', 'paint', 'pains', 'mama', 'casework', 'Durkheim', 'Modifications', 'needle', 'mentality', 'DTF', 'madmen', 'glycerin', 'vernier', 'jaggedly', 'bunter', 'gruesome', 'lug', 'stirs', 'b', 'compliments', 'fold', 'Selena', 'Near', 'spirited', 'polishing', 'riddance', 'Tabernacle', 'chanted', 'Ito', 'Henrietta', 'disunion', 'concludes', 'intestine', 'confirms', 'paths', 'escapades', 'Virginia', 'onset', 'extracted', 'rowed', 'Constantinople', 'professorship', 'civilizational', 'commentary', 'RPM', 'Aventine', 'province', 'uncommunicative', 'equipping', 'Governor', 'depths', 'Communications', 'significant', 'Daly', 'Anatomically', 'squelched', 'Egypt', 'loners', 'Encouraging', 'Levitt', 'charitable', 'Consort', 'pennant', 'Alexis', 'weigh', 'Armageddon', 'Robinson', 'chanter', 'scattered', 'hillside', 'sanctity', 'carefully', 'Francois', 'Henderson', 'nervous', 'freedoms', 'generators', 'cysts', 'batted', 'prowess', 'notation', 'permission', 'batten', 'cheaper', 'ferret', 'courage', 'batter', 'cumulate', 'transitional', 'Hebrews', 'whitening', 'Op.', 'Attendance', 'transpiration', 'Create', 'tended', 'Wright', 'arouse', 'tender', 'Hinton', 'Lolly', 'feared', 'Seton', 'unacknowledged', 'TCU', 'aviary', 'halves', 'Osborne', 'Plunking', 'envelopes', 'guilt', 'bellies', 'interfaces', 'analogues', 'Malinovsky', 'pagoda', 'trespassed', 'mustard', 'Obviously', 'drawings', 'endows', 'floats', 'dualism', 'Belshazzar', 'journeyed', 'McGehee', 'Inventories', 'Rossi', 'telegraphing', 'reconsidered', 'Sidney', 'supply', 'dwindle', 'Carmody', 'Meager', 'newborn', 'shutdown', 'throughout', 'patiently', 'platinum', 'dovetail', 'create', 'creativity', 'Lousie', 'temporize', 'secret', 'recopied', 'Senora', 'Piloting', 'portraits', 'Ritchie', 'hopefuls', 'astonishment', 'Servant', 'Casino', 'cruelty', 'priced', 'understand', 'realms', 'prices', 'Akita', 'Feed', 'gradualist', 'thermoelectric', 'unify', 'laxness', 'bill', 'tolerate', 'Salpetriere', 'Dinh', 'sexuality', 'Fees', 'fun', 'Incorrect', 'vaults', 'shoddy', 'Khan', 'Bismarck', 'encountered', 'decoration', 'Maestro', 'suntan', 'ICBM', 'tribesmen', 'arenas', 'leaving', 'saline', 'Chapel', 'leafed', 'Bleaching', 'Carrying', 'complaints', 'emphasize', 'copying', 'Follows', 'dishonouring', 'lenient', 'Prudent', 'Novosti', 'adverbial', 'belfry', 'soothsayers', 'itch', 'assignment', 'desks', 'moment', 'verboten', 'aggregate', 'realm', 'considerately', 'Coffin', 'knowed', 'seers', 'shaded', 'Figure', 'Faulknerian', 'percentages', 'spent', 'morrow', 'unannounced', 'howe', 'chaplains', 'revising', 'sulking', 'sawdust', 'revelatory', 'spend', 'howl', 'singlehandedly', 'Considering', 'echoing', 'resistive', 'makeshifts', 'untrammeled', 'Cabana', 'confessor', 'atomic', 'zodiacal', 'dishonesty', 'underwriting', 'alignment', 'punted', 'diversions', 'hated', 'alternate', 'shouting', 'regimented', 'bridal', 'impoverished', 'scowled', 'Scholars', 'hates', 'Romaniuk', 'adversaries', 'chambermaid', 'rebound', 'jerked', 'Loewe', 'messengers', 'reapportionment', 'Position', 'Trichinella', 'wisenheimer', 'disrepair', 'disproving', 'improbable', 'bulked', 'besiegers', 'coarsened', 'glove', 'Gallery', 'indication', 'moccasins', 'friezes', 'Java', 'peddlers', 'remarking', 'examples', 'scrim', 'aerobic', 'Kerosene', 'Brett', 'integration', 'per', 'pen', 'sneakers', 'bogus', 'ellipsis', 'ape', 'commentator', 'invade', 'resolutely', 'anarchic', 'ladder', 'neuronal', 'chartists', 'drainage', 'mettlesome', 'troughs', 'effusive', 'chanting', 'Elsie', 'chargeable', 'crone', 'voluntarily', 'Strippers', 'Banfield', 'Alvin', 'Lovingood', \"You'd\", 'hackneyed', 'robbers', 'conciliatory', 'bestseller', 'immediacy', 'beans', 'Privately', 'consequently', 'maelstrom', 'undifferentiated', 'Shares', 'reckonings', 'neutrality', 'Helps', 'ministrations', 'Buckley', 'uncaused', 'jockey', 'autopsy', 'Syrians', 'bores', 'borer', 'infected', 'homemade', 'Moineau', 'forward', 'subsequent', 'bored', 'Come', 'doctored', 'roadbuilding', 'Tatian', 'nodular', 'adjusting', 'Slavery', 'juxtaposed', 'timetable', 'Psalm', 'nutshell', 'rejection', 'divans', 'Streets', 'Soon', 'halfhearted', 'capitalistic', 'groove', 'MVP', 'congruence', 'possessor', 'scavenging', 'engineering', 'clever', 'dispensation', 'organdy', 'prevail', 'denying', 'Versailles', 'fogged', 'hydrous', 'commonest', 'overhearing', 'plugged', 'bronchioles', 'Fiberglas', 'Andrews', 'transferors', 'spasm', 'explaining', 'Intercede', 'cartoonists', \"child's\", \"guy's\", 'fervently', 'fishes', 'Comanche', 'retranslated', 'limping', 'strolled', 'watchful', 'Scots', 'Scott', 'boathouses', 'Roots', 'dogged', 'Fla.', 'Harper', 'businessmen', 'fluids', 'Saint', 'query', 'golfer', 'disintegration', 'Isle', 'Surprised', 'Someone', 'graves', 'graver', 'Business', 'peanut', 'Lucky', 'Orly', 'granular', 'Weil', 'chaps', 'Hempel', 'unitized', 'gravel', 'lunar', 'Istanbul', 'Cautious', 'assay', 'Bridewell', 'confounding', 'furloughed', 'putting', 'resonant', 'subservient', 'surgeon', 'samovar', 'severely', 'Margaretville', 'moderate', 'homogenize', 'knight', 'shambling', 'supine', 'burlesques', 'disbursements', 'mobilize', 'choppy', 'optics', 'Select', 'dimes', 'Turkey', 'sacrificial', 'educators', 'antigen', 'demonstrations', 'strategically', 'dimensionally', 'Ghadiali', 'bloodshot', 'chartist', 'suzerainty', 'skeet', 'doctrines', 'unshelled', 'campuses', 'giving', 'intergovernmental', 'Johnnie', 'napkins', 'Herford', 'European', 'Supplemental', 'Suggested', 'Seize', 'Backstage', 'nonexistent', 'accrued', 'bachelor', 'intercept', 'remark', 'Grammophon', 'respiration', 'aromas', 'Movies', 'birthed', 'named', 'Gomez', 'Oldsmobile', 'bittersweet', 'Blossom', 'SMU', 'trachea', 'baskets', 'asynchrony', 'Farnese', 'names', 'Manila', 'oval', 'resolutions', 'Detached', 'Status', 'refers', 'steroid', 'Martians', 'seamless', 'Analyzer', 'pinnings', 'Statue', 'oils', 'themselves', 'Lockheed', 'oily', 'Galway', 'assailed', 'Sampson', 'Connection', 'armadillo', 'ashamed', 'informally', 'arranging', 'parapsychology', 'harvest', 'Bulletin', 'extrapolated', 'Nationalist', 'vaudeville', 'contagion', 'crocked', 'Period', 'Haitian', 'instantaneously', 'Parts', 'praise', 'Impressions', 'parkway', 'Odors', 'prohibiting', 'Comroe', 'proportions', 'reconstructed', 'Dogtown', 'Galata', 'justifications', 'spruce', 'contempt', 'hangar', 'maturities', 'daring', 'emotionalism', 'Clemenceau', 'regions', 'fete', 'winners', 'Ridgway', 'Authorities', 'Cliff', 'Continuity', 'buildings', 'Institutionalization', 'specifications', 'philosophy', 'bothered', 'nullify', 'frau', 'leisure', 'Gazing', 'Orwell', 'fray', 'scurvy', 'primers', 'italics', 'Livestock', 'extravaganzas', 'stevedore', 'addiction', 'Huffman', 'Hausman', 'nearness', 'resurgent', 'Dunbar', 'Molly', 'meter', 'stewardship', 'Haruo', 'hugged', 'Buddha', 'meted', 'bunch', 'industries', 'traders', 'revived', 'le', 'lb', 'unstained', 'la', 'lo', 'Cove', 'acres', 'resorting', 'Hermanovski', 'Unfriendly', 'Wm.', 'latitude', 'criminal', 'Wansley', 'Porto', 'cleanly', 'Porta', 'Stricken', 'Filling', 'phagocytes', 'mandate', 'strive', \"l'\", 'doffing', 'Stonestown', 'Laurentian', 'l.', 'Deck', 'memoir', 'handiest', 'slipping', 'lingerie', 'vivified', 'gazing', 'Previous', 'Gorky', 'thwart', 'Balloon', 'programmed', 'Mercers', 'standardizing', 'Noranda', 'announcer', 'announces', 'defend', 'Sussex', 'wholly', 'electronics', 'fondly', 'announced', 'hedged', 'franc', 'Magwitch', 'apologetically', 'retrieved', 'payroll', 'Theodor', 'salami', 'bites', 'likelihood', 'bleed', 'receipts', 'cured', 'widowhood', 'deprived', 'gravid', 'cures', 'Hanging', 'retain', 'retail', 'Nest', 'strippers', 'arterial', 'rudely', 'plastics', 'militarism', 'Administration', 'embarrassed', 'alleys', 'Birdwood', 'afield', 'warships', 'reread', 'monkey', 'workbench', 'vulgar', 'pots', 'ripples', 'realistically', 'Lippincott', 'rippled', 'messing', 'surmount', 'wistfully', 'dabbed', 'Stevenson', 'writhe', 'Deacon', 'environmental', 'Outdoor', 'slack', 'shrapnel', 'Universal', 'shampoo', 'splotches', 'calamity', 'boyish', 'Burton', 'Engineer', 'Lovingly', 'teaspoonfuls', 'wakes', 'Lura', 'Divertimento', 'tidy', 'allotments', 'comfortable', 'patting', 'strongrooms', 'comfortably', 'Reply', 'countryman', 'regenerates', 'Nugent', 'MLSS', 'Airways', 'saponins', 'Thousand', 'Disagreement', 'gravity', 'Hitching', 'provokes', 'Flem', 'provoked', 'honestly', 'mooring', 'reciting', 'tapis', 'Transition', 'pastel', 'hazel', 'callable', 'useful', 'Without', 'hazes', 'handbag', 'transcript', 'heartening', 'enthusiastic', 'Shoals', 'Illustrated', 'callers', 'absurd', 'planks', 'afloat', 'supported', 'Irrawaddy', 'overhangs', 'Straighten', 'pulsed', 'beauties', 'Unconscionable', 'supporter', 'Divergent', 'coloring', 'Return', 'ossify', 'ambiguity', 'Dieux', 'equilibrium', 'chairmanships', 'Decide', 'Matsuo', 'aforementioned', 'timing', 'thrives', 'areas', 'crabs', 'manhours', 'drawl', 'organ', 'bedsprings', 'misguided', 'eyebrow', 'motherhood', 'Thaddeus', 'Orpheus', 'pertains', 'hydrocarbons', 'Bois', 'untrue', 'hankered', 'Area', 'puddle', 'Hurray', 'yearning', 'scholastic', 'Ares', 'Justices', 'refrained', 'Hurrah', 'kinesthetically', 'Dnieper', 'exploited', 'pedigree', 'Hawaiian', 'literate', 'DeWitt', 'solvents', 'purses', 'discounts', 'pursed', 'July', 'glen', 'College', 'Fairly', 'junkies', 'grumble', 'jeopardizing', 'rustproof', 'Gagarin', 'optional', 'Portsmouth', 'instant', 'robberies', 'freely', 'attributed', 'fulfilled', 'assure', 'insidious', 'busted', 'conquered', 'passing', 'Heliopolis', 'Conscience', 'underhandedness', 'overcoat', 'teasing', 'Savannakhet', 'Magpie', 'commend', 'Pension', 'laugh', 'Judson', 'bespectacled', 'freeholders', 'Temple', 'pouring', 'Berlioz', 'muddy', 'Farmers', 'Salmon', 'unstrung', 'indicators', 'paratroops', 'asymmetrically', 'Acceptance', 'perplexed', 'Center', 'airplanes', 'essentially', 'axle', 'clusters', 'arisen', 'holiday', 'atmospheric', 'splits', 'contradicted', 'value', 'Ferrell', 'permeate', 'Confidence', 'Tannhaeuser', 'Bill', 'freeman', 'Jacoby', 'captors', 'Uniform', 'respected', 'Gerstacker', 'Volstead', 'haunches', 'prose', 'bloodless', 'portray', 'fusiform', 'Astin', 'Eloise', 'untoward', 'Hunter', 'indistinguishable', 'defiant', 'Excelsior', 'brightened', 'plenipotentiary', 'tumbling', 'Car', 'gasped', 'Herzfeld', 'kidnapping', 'cubic', 'Doug', 'Dusseldorf', 'bullying', 'oranges', 'never', 'invitations', 'Order', 'buttonholes', 'besmirch', 'retard', 'center', 'Conversely', 'weapon', 'overshadowed', 'procurement', 'oops', 'unwire', 'creators', 'latest', 'shriveled', 'reupholstering', 'Cal', 'Seaman', 'coasted', 'underlying', 'surpass', 'seats', 'protecting', 'Brigade', 'Inquisition', 'Rabies', 'field', 'twinges', 'passively', 'nastier', 'bluebonnets', 'bench', 'Groggins', 'Saabye', 'citizen', 'Dearborn', 'successor', 'Willem', 'Greenwood', 'tests', 'Devonshire', 'gulped', 'judiciary', 'mutations', 'corporeality', 'deployment', 'footstool', 'Fallen', 'Mennen', 'insert', 'incompletely', 'housekeeper', 'subjectivist', 'porous', 'commencements', 'Mauch', 'Nagrin', 'Gossip', 'works', 'Scale', 'applicability', 'Scala', 'interludes', 'Pirandello', 'deviants', 'corroborate', 'infiltrated', 'subcontinent', 'legislated', 'interment', 'whined', 'supportive', 'refill', 'Mike', 'est', 'involuntary', 'Maurine', 'wittingly', 'shelter', 'Bucky', 'Gallon', 'highpoint', 'kidnappers', 'panes', 'manifesting', 'enviably', 'slight', 'Heating', 'snapper', 'Lousy', 'worthy', 'snapped', 'vivacity', 'periodically', 'simples', 'panel', 'Galt', 'rationing', 'distilling', 'Weight', 'colicky', 'follies', 'thuds', 'intimations', 'serviceable', 'flaky', 'romancing', 'unidirectional', 'Gala', 'Questions', 'Bessie', 'baseless', 'rendered', 'submits', 'rhythmical', 'demonstrable', 'tackle', 'demonstrably', 'eine', 'oughta', 'Foamed', 'legends', 'Spectacular', 'Chile', 'Child', 'Chili', 'Cleaning', 'Dey', 'buy', 'bus', 'Des', 'but', 'hurdles', 'authenticator', 'Dei', 'Del', 'bum', 'bookshelf', 'subdivision', 'bug', 'bud', 'partially', 'embargo', 'misty', 'wise', 'princes', 'Wall', 'wish', 'frugally', 'mists', 'variations', 'Walk', 'Walt', 'wisp', 'minutes', 'Insurance', 'Desiring', 'penetrating', 'rabbits', 'veiling', 'brochures', 'enlists', 'Meantime', 'Instrument', 'Carruthers', 'ambassadors', 'Dunkirk', 'Colombian', 'redder', 'Turning', 'Marches', 'postmen', 'virtual', 'Fanny', 'ledge', 'Altogether', 'cashed', 'granite', 'Verboort', 'puzzlement', 'Ace', 'traumatic', 'drugging', 'bundle', 'Elections', 'weaponry', 'spreader', 'shrank', 'thumping', 'Act', 'inboard', 'Junction', 'Scotchgard', 'mediocrities', 'acknowledgment', 'Shedding', 'hiked', 'Blaber', 'baker', 'bakes', 'winders', 'hikes', 'wryly', 'pupil', 'experimenters', 'Scandal', 'baked', 'augmented', 'Strangely', 'bagpipe', 'represent', 'hats', 'incredulously', 'chaos', 'Continental', 'Dining', 'pheasant', 'dere', 'hate', 'Winter', 'trolley', 'poorest', 'thinness', 'Additionally', 'tweed', 'pride', 'divergent', 'softener', 'Tallchief', 'nonresident', 'Pilgrim', 'marimba', 'Industry', 'despondency', 'Ledoux', 'every', 'efficaciously', 'softened', 'upstream', 'Steak', 'Steam', 'missionary', 'Origin', 'vaccinating', 'Presence', 'ovation', 'vitriolic', 'Conway', 'Archipelago', 'Tenn.', 'pagodas', 'Hemphill', 'vertebrae', 'religionists', 'editorialist', 'enjoy', 'picketed', 'leaders', 'strivings', 'Festival', 'invariably', 'estimates', 'Rapport', 'scribbled', 'street', 'freehand', 'estimated', 'ransack', 'shining', 'filibusters', 'specification', 'Continuous', 'sheeted', 'unreality', 'mischievous', 'conduct', 'Scripps', 'Chaplain', 'Made', 'Holiness', 'stared', 'hundreds', 'asymmetry', 'studio', 'contentions', 'Wattenberg', 'morosely', 'path', 'stares', 'connoisseur', 'electrolysis', 'Coddington', 'auction', 'Heine', 'Beatrice', 'Marksmanship', 'tenement', 'Furnishes', 'characterizing', 'abolition', 'monogamous', 'mantic', 'Koh', 'Kok', 'ridiculed', 'resurrected', 'touchdowns', 'Nicodemus', 'visibly', 'erected', 'sorrows', 'visible', 'viscera', 'gallonage', 'Circular', 'Danbury', 'privet', 'lessening', 'discrepancies', 'Houses', 'Instruments', 'sobered', 'raids', 'breathe', 'Blume', 'poultice', 'acceded', 'mV', 'Gaspee', 'breaths', 'robbing', 'casualties', 'cerebellum', 'Crazy', 'join', 'swiped', 'ml', 'Broglie', 'entertained', 'joie', 'dizzy', 'entertainer', 'my', 'shook', 'loosen', 'autoloader', 'joyous', 'Motel', 'Sara', 'Paschal', 'Musial', 'Lord', 'Mardis', 'end', 'trill', 'frescos', 'rhinoceros', 'shifters', 'writers', 'Kreisler', 'ancestor', 'charging', 'Essentially', 'scion', 'mess', 'Chesapeake', 'Chapman', 'sparkled', 'fusillades', 'mesh', 'Mamma', 'Diving', 'cement', 'sparkles', 'stronghold', 'Etudes', 'Divine', 'Tough', 'Maxwell', 'spout', 'arbitrate', 'enervating', 'mucking', 'Greetings', 'enter', 'unglued', 'flippers', 'imbued', 'Alternate', 'Weiss', 'thesis', 'reformers', 'imprecisely', 'transferor', 'undid', 'Urban', 'Hero', 'hypocrisy', 'canto', 'Herb', 'Kelsey', 'expectations', 'Here', 'comprehend', 'fade', 'Emerald', 'whips', 'Herr', 'Sturdy', 'plaster', 'roost', 'revelations', 'Injun', 'Odysseus', 'felicitous', 'persuaders', 'Laguerre', 'notified', 'Bronislaw', 'chuck', 'Moritz', 'filling', 'unconcern', 'industrialization', 'lasting', 'lacerations', 'signing', 'geldings', 'Humor', 'Lippman', 'decedent', 'winsome', 'fussing', 'combining', 'poncho', 'lebensraum', 'fuss', 'Drafted', 'outstate', 'overcame', 'prewar', 'vade', 'trumpeter', 'stringed', 'god', 'washed', 'gob', 'springing', 'millennium', 'alluring', 'unspectacular', 'interconnectedness', 'got', 'washer', 'washes', 'underwrite', 'Cuban', 'Rugged', 'merchandising', 'Rector', 'scoped', 'Pasha', 'nucleated', 'alarmingly', 'jubilant', 'Carre', 'inexpensive', 'suburbia', 'syndication', 'labored', 'Embassy', 'cooperating', 'Nicolas', 'Darnell', 'already', 'Working', 'Gennaro', 'Leverett', 'coding', 'selfless', 'sober', 'Kehl', 'Overlords', 'Cocktail', 'Academy', 'Lindskog', 'euphoric', 'euphoria', 'Racie', 'ballistic', 'Wolstenholme', 'Afghan', 'Rebecca', \"X's\", 'ceiling', 'inholdings', 'Fur', 'Splendid', 'servo', 'Areas', 'tool', 'brushes', 'serve', 'took', 'compressor', 'Sunset', 'western', 'Fun', 'abated', 'nonpartisan', 'Shotguns', 'cowhands', 'Pocasset', 'Adele', 'genders', 'Unit', 'Dimly', 'fashion', 'unrest', 'Dying', 'ruckus', 'torque', 'Offutt', 'talking', 'further', 'staggeringly', 'regulate', 'leafy', 'spade', 'Staley', 'unimpressed', 'teakettle', 'steamboat', 'balling', 'oriented', 'upholding', 'cleft', 'effectiveness', 'Omega', 'propitious', 'evangelist', 'rumble', 'cilia', 'carcinoma', 'mannerisms', 'varmint', 'Communistic', 'stood', 'coin', 'unorthodox', 'Ille', 'lb.', 'peers', 'treats', 'flop', 'flow', 'treaty', 'orderly', 'reemerged', 'enterprise', 'floc', 'crankshaft', 'flog', 'romantics', 'floe', 'Koenig', 'inspire', 'novitiate', 'reorganize', 'arrayed', 'Ndola', 'tacitly', 'substituting', 'stoop', 'Simultaneously', 'peasants', 'Re', 'studiously', 'photo', 'Regional', 'Furniture', 'rinsing', 'Netherlands', 'unassisted', 'Larger', 'novelists', 'blinking', 'baffle', 'shutting', 'tuberculosis', 'Control', 'Quarter', 'Quartet', 'harried', 'countries', 'dips', 'pacifism', 'falsify', 'twice', 'interspersed', 'shots', 'pacifist', 'cufflinks', 'adapters', 'Caribbean', 'swept', 'thwarting', 'liquor', 'Hessians', 'Per', 'resist', 'demented', 'alkalis', 'Albacore', 'Taurog', 'Pee', 'Peg', 'Macedon', 'Rhythmic', 'amalgamated', 'slotted', 'propulsion', 'interviewing', 'luminescent', 'deceptively', 'electronically', 'Trotsky', 'Kupcinet', 'gravestone', 'visualization', 'confusion', 'boss', 'nightmares', 'adage', 'censorship', 'contamination', 'flowering', 'Patti', 'holds', 'blasted', 'improve', 'ranges', 'protect', 'indistinct', 'sanitation', 'Dance', 'Whig', 'biologically', 'inconsiderable', 'participating', 'merging', 'layered', 'creditors', 'conceits', 'rhetoricians', 'escapade', 'Makers', 'lenses', 'confidences', 'elfin', 'Palmer', 'epidemic', 'intimal', 'maudlin', 'towels', 'Greases', 'clip', 'beef', 'tyrannize', 'bikinis', 'foully', 'ropes', 'muddied', 'Southern', 'been', 'beep', 'beer', 'bees', 'Patty', 'photorealism', 'roped', 'Mayoral', 'Herold', 'clarity', 'snips', 'chipped', 'uncommon', 'Cain', 'palladium', 'Upper', 'dissatisfactions', 'Mahone', 'Anywhere', 'lessen', 'Eighth', 'lesser', 'fallow', 'unchristian', 'Follow', 'Norborne', 'decanted', 'Gross', 'Bust', 'Eckart', 'gloomily', 'Bush', 'ramifications', 'Quirinal', 'Jacqueline', 'Cramer', 'Camaret', 'Zimmerman', 'wound', 'utilitarian', 'complex', 'inventory', 'Vieux', 'several', 'Bolshoi', 'inventors', 'unbearable', 'progressed', 'Spectra', 'constricting', 'postmark', 'Britannica', 'Kearton', 'forceful', 'pathological', 'Pedestrian', 'Hilton', 'greatest', 'unification', 'shadowed', 'arousing', 'Kirov', 'stenography', 'Saran', 'Sinton', 'Williamsburg', 'Arabian', 'uncooperative', 'playtime', 'progresses', 'Krakatoa', 'flutist', 'pharmacy', 'categorized', 'technological', 'hairless', 'interprets', 'humanity', 'actresses', 'turquoise', 'D', 'Fluorescence', 'Cady', 'Teagarden', 'James', 'Taking', 'Owls', 'Hollander', 'racketeers', 'sanitary', 'Rudolf', 'apart', 'intertwined', 'gift', 'remanding', 'pharmacist', 'Contrarily', 'Assyriology', 'unbearably', 'specific', 'Hackett', 'mosquito', 'pectoralis', 'Educate', 'overnighters', 'rustling', 'sanction', 'enrolling', 'clubs', 'ragged', 'meters', 'displeasure', 'escape', 'indirect', 'embodied', 'Motherwell', 'armed', 'Looming', 'prejudicial', 'icy', 'embodies', 'plantain', 'bellwethers', 'espionage', 'cord', 'core', 'Subdued', 'homing', 'corn', 'Yacht', 'cork', 'Bambi', 'Maximilian', 'phthalate', 'CJS', 'inflections', 'landowners', 'limitation', 'census', 'Eighteenth', 'surround', 'Kafka', 'catkins', 'misleading', 'cosmologists', 'Games', 'Foss', 'Machines', 'primitive', 'froze', 'preambles', 'slogan', 'accommodate', 'laborers', 'dualities', 'electorate', 'Sybil', 'Martha', 'jeunes', 'rely', 'Selling', 'dispatching', 'disinterest', 'lags', 'opus', 'Burghley', 'unpretentious', 'purposely', 'head', 'medium', 'Sundays', 'heal', 'realer', 'heat', 'hear', 'heap', 'furor', 'nodded', 'counsel', 'Interpretation', 'contradistinction', 'born', 'compositional', 'prow', 'Domestic', 'Cotten', 'Bonnet', 'danseur', 'adore', 'Bonner', 'neighboring', 'bide', 'mustering', 'Electronic', 'adorn', 'brightly', 'atypical', 'sinful', 'Carson', 'Actress', 'pigpens', 'Lumpe', 'willingly', 'Begin', 'no', 'commercials', 'ne', 'junta', 'confusing', 'pseudonym', 'incestuous', 'reconsider', 'ESP', 'preceding', 'geneticist', 'Tooth', 'trailers', 'Costs', 'ribbing', 'dappled', 'ESN', 'scratchy', 'reassuringly', 'stops', 'Unconscious', 'bullet', 'cloisters', 'uranyl', 'withhold', 'urethane', 'rejections', 'Budlong', 'plastically', 'backward', 'Contributions', 'Suvorov', 'forgeries', 'Choral', 'Title', 'particular', 'livelihood', 'Venti', 'ventilator', 'fusing', 'Conflict', 'Buddy', 'weasel', 'filming', 'bandaged', 'contemplating', 'flowered', 'trustees', 'jalopy', 'lapels', 'scrawny', 'agreed', 'methyl', 'Anything', 'Countries', 'Centralia', 'later', 'thawed', 'sloppy', 'refractive', 'hatted', 'roving', 'Reels', 'partitions', 'longevity', 'denounced', 'sighed', 'sedimentary', 'Wollman', 'intangibles', 'denounces', 'accumulation', 'aseptic', 'Rey', 'Schone', 'Rev', 'lavishing', 'Northwest', 'takeoff', 'Reb', 'supplier', 'Jana', 'Seeks', 'spectral', 'distaste', 'Newsom', 'constitution', 'Theatre', 'Bruce', 'spire', 'agrees', 'manikins', 'chanced', 'hairy', 'litigation', 'den', 'eliminations', 'Hopkins', 'Trackdown', 'hairs', 'confer', 'meteorites', 'piezoelectricity', 'Jan.', 'twentieth', 'groups', 'dissipated', 'houseboats', 'unidentified', 'pearly', 'Sees', 'thirty', 'pearls', 'Madaripur', 'weirs', 'sharpening', 'Seed', 'descended', 'Hitler', 'abounded', 'Seen', 'weird', 'Caruso', 'lowers', 'Talmud', 'Gran', 'shelled', 'Catholicism', 'threes', 'morale', 'heelers', 'smallish', 'Hungarian', 'Hostage', 'Grad', 'Differences', 'wrongs', 'contrite', 'criteria', 'Foggy', 'flinching', 'Elizabethans', 'chapels', 'editorially', 'riot', 'share', 'postulated', 'Vivacious', 'chocolate', 'Gesualdo', 'Time', 'Push', 'Weidman', 'inhabit', 'Crystallographic', 'German', 'Teatro', 'districts', 'predominating', 'fauna', 'indignant', 'laughter', 'Malmros', 'unconditional', 'disowned', 'performer', 'corrupted', 'garbled', 'accepts', 'newsletters', 'JYM', 'death', \"Ma'am\", 'corrupter', 'slugging', 'dropped', 'hydrogen', 'requirements', 'Marketing', 'eloquent', 'innumerable', 'Harlingen', 'plaintiff', 'infringements', 'Flyer', 'monopolization', 'speaks', 'flavored', 'unutterably', 'epigrammatic', 'unbelievable', 'Natalie', 'irrational', 'ballroom', 'granddaughter', 'rites', 'motorists', 'outlandish', 'tipped', 'Powers', 'Fortress', 'overreaches', 'Dauphine', 'compressing', 'overreached', 'infidels', 'glancing', 'refund', 'Unusual', 'sonnet', 'overgrown', 'embezzlement', 'accolades', 'Stacy', 'worship', 'blocked', 'Ghana', 'courthouse', 'apex', 'cheerleaders', 'coordinates', 'varicolored', 'Burgher', 'coordinated', 'Factories', 'cutter', 'float', 'Highness', 'appraised', 'conversations', 'warranted', 'feathered', 'acetone', 'rescind', 'Clams', 'equality', 'Josephus', 'Stephens', 'realist', 'opera', 'Gotterdammerung', 'crucified', 'nodding', 'Campaigning', 'Gilroy', 'realism', 'capped', 'inaugurating', 'weighted', 'nettlesome', 'pillaged', 'Easily', 'divisional', 'gaps', 'zebra', 'begun', 'galactic', 'approximated', 'myrtle', 'adequately', 'reckons', 'splashy', 'ultimately', 'dramatists', 'Shakespearian', 'infuriated', 'Grabbing', 'closure', 'Fike', 'dehydrated', 'attracted', 'bugging', 'cloves', 'clover', 'theory', 'booby', 'bicarbonate', 'pathogenic', 'obituaries', 'momentoes', 'nightmarish', 'commonwealths', 'explorers', 'Hobday', 'disillusionment', 'impose', 'schnapps', 'divertimento', 'Delray', 'stuff', 'unborn', 'deceived', 'associates', 'teammates', 'origin', 'Petey', 'Expenditures', 'simplifies', 'predictive', 'incongruous', 'Sochi', 'awfully', 'soaring', 'simplified', 'millions', 'disinterested', 'surveys', 'Espagnol', 'stimulation', 'chastity', 'convention', 'Such', 'circa', 'Dove', 'hue', 'hug', 'tempers', 'hub', 'hum', 'threshhold', 'huh', 'inexpressible', 'hut', 'inexpressibly', 'tempera', 'holder', 'intrinsically', 'Clothes', 'Carney', 'petrified', 'demythologizing', 'looting', 'Sousa', 'require', 'Stevens', 'diplomatic', 'unreservedly', 'r', 'Columbia', 'mated', 'armored', 'pro', 'ani', 'prostitution', 'ant', 'mater', 'Aylesbury', 'needled', 'pry', 'stolid', 'calisthenics', 'exploratory', 'Sadie', 'transcription', 'Watercolor', 'dining', 'emphasis', 'thermometer', 'Maltese', 'Precinct', 'hyperemia', 'sterns', 'botulinum', 'Mickie', 'invasions', 'usurped', 'falls', 'lounges', 'visitors', 'freshman', 'librarian', 'vibrancy', 'littering', 'depreciation', 'Carpentier', 'considered', 'yelped', 'unwisely', 'Anouilh', 'peptides', 'Tensile', 'brushfire', 'Galatians', 'Cafeteria', 'perpetrated', 'applauding', 'revamping', 'Texan', 'woolen', 'protrusion', 'crime', 'overage', 'stains', 'explicitly', 'Plea', 'centrally', 'hooting', 'narrows', 'Piazza', 'chillier', 'Piazzo', 'begging', 'boilers', 'substitutionary', 'crude', 'indulgences', 'tailor', 'Affect', 'primates', 'Puny', 'Remembering', 'Buchenwald', 'regarding', 'mewed', 'pinnacle', 'Shantung', 'floods', 'cumin', 'Bailly', 'Sweazey', 'mapped', 'bought', 'formulations', 'Puddingstone', 'reveals', 'pummeled', 'picnic', 'publishers', 'Fontana', 'Colonel', 'violated', 'labors', 'sorest', 'catapulting', 'violates', 'ability', 'Jesuit', 'detect', 'commutation', 'weapons', 'charters', 'arrogant', 'caucus', 'Lilian', 'sacker', 'receivers', 'Northumberland', 'agencies', 'inclusions', 'floundering', 'tooling', 'pens', 'Songs', 'Replied', 'eschews', 'successes', 'stupidest', 'cafes', 'propagation', 'Imbrium', 'Replies', 'senator', 'Smiling', 'bunks', 'Investment', 'launderings', 'Ransom', 'Jessie', 'color', 'Sherwood', 'Note', 'Sciences', 'pole', 'Wisman', 'pundits', 'polo', 'Lundeen', 'poll', 'Crumlish', 'runaway', 'mezzo', 'Buy', 'lifer', 'Bacillus', 'But', 'coupe', 'votive', 'coups', 'cords', 'hardly', 'Bug', 'Bud', 'schoolboy', 'WAO', 'Maggie', 'robbed', 'WAC', 'mocking', 'gamble', 'Barbara', 'robber', 'paying', 'libelous', 'McLeod', 'Divide', 'Rodding', 'embodying', 'nothingness', 'explicitness', 'Crusade', 'moors', 'prescriptive', 'puncher', 'Slow', 'compensations', 'crusader', 'trackless', 'yachtsmen', 'hurting', 'valiantly', 'Shingles', 'someone', 'converts', 'whimpering', 'Hidden', 'volition', 'helmet', 'resentful', 'alphabet', 'unrolled', 'diehard', 'coarsely', 'Excuse', 'buys', 'shifty', 'Silver', 'toweling', 'libido', 'booths', 'applaud', 'Signal', 'tactical', 'producers', 'devoid', 'Idle', 'prospered', 'smatterings', 'arose', 'changing', 'implements', 'vantage', 'bet', 'gibes', 'modes', 'purposeful', 'recital', 'Inaugural', 'melodramatic', 'Burghardt', 'termination', 'model', 'offensively', 'clod', 'United', 'softwood', 'guided', 'clot', 'entrusting', 'pariah', 'manse', 'laminating', 'differentiation', 'perilous', 'announcement', 'overlapped', 'assemblages', 'dauntless', 'poises', 'churns', 'pallet', 'decompression', 'Scores', 'engulfed', 'poised', 'scheduled', 'Virginian', 'Terrible', 'loaned', 'Competent', 'predetermined', 'coaxial', 'schedules', 'Tall', 'Talk', 'Nikolai', 'Sonatas', 'buddies', 'lyricism', 'Thieves', 'Something', 'recalls', 'captious', 'collapsible', 'Army', 'veracity', 'Tizard', 'Arms', 'Capote', 'Listed', 'cowboys', 'Terror', 'canteen', 'tonally', 'informant', 'adjuncts', 'Listen', 'floured', 'Danish', 'incidentals', 'colloidal', 'Invite', 'prolific', \"o'\", 'rpm', 'Sacrifice', 'Largely', 'Appian', 'legal', 'delectation', 'colchicum', 'provides', 'compulsion', 'quitting', 'terrifies', 'communicate', 'nudist', 'update', 'Venetian', 'monsoon', 'nudism', 'calmer', 'Rock', 'tintype', 'rearranging', 'on', 'subdued', 'demarcation', 'oh', 'zealous', 'paralysis', 'reinforcing', 'mutually', 'subdues', 'waded', 'ox', 'os', 'or', 'amber', 'vicar', 'Jordon', 'communication', 'garner', 'everyone', 'Inject', 'Saxon', 'speculated', 'congeniality', 'refinements', 'strictly', 'hazards', 'Assam', 'strict', 'Bachelor', 'detectable', 'Bowes', 'Letter', 'Seaboard', 'equated', 'tedious', 'jug', 'radioactivity', 'strenuous', 'rosebush', 'Assign', 'terminus', 'applying', 'Boal', 'mortals', 'multiplicity', 'Boaz', 'preside', 'sternum', 'Boat', 'Enemies', 'strongly', 'Toronto', 'interval', 'politico', 'Indonesia', 'totaling', 'Granville', 'headwaters', 'governed', 'orchards', 'Mathematics', 'earthmoving', 'unteach', 'cohesion', 'stumbled', 'horsemanship', 'bedded', 'idiot', 'diarrhea', 'Physicist', 'allusions', 'Armentieres', 'idiom', 'regents', 'stumbles', 'hellfire', 'unneeded', 'dismayed', 'oneself', 'ICC', 'infighting', 'ICA', 'gunplay', 'souls', 'Tougas', 'subbing', 'courtly', 'nucleus', 'Cromwellian', 'included', 'spouse', 'illusive', 'dextrous', 'bilateral', 'Eminonu', 'invest', 'odds', 'curve', 'unscathed', 'Brain', 'dressers', 'rimmed', 'Primarily', 'Fame', 'Theoretically', 'confers', 'migrated', 'Edison', 'sluggers', 'Noon', 'Faint', 'seals', 'miraculous', 'surgical', 'Parents', 'migrates', 'Minot', 'follow', 'settlement', 'voids', 'Minor', 'Burnt', 'polarity', 'Eluard', 'subjected', 'diplomacy', 'participants', 'removal', 'diluting', 'program', 'depending', 'viz.', 'presentation', 'rankest', 'positivists', 'belonging', 'woman', 'worse', 'equivocal', 'vassal', 'Bruckner', 'bubbled', 'induce', 'cadaver', 'Classes', 'worst', 'hatching', 'quince', 'bubbles', 'soles', 'tiresome', 'Joshua', 'Momentarily', 'regiments', 'grandfather', 'Aiding', 'Despina', 'vibes', 'undone', 'saxophone', 'Republic', 'instantaneous', 'manslaughter', 'rats', 'Britches', 'ten', 'tea', 'tee', 'rate', 'Initiation', 'rata', 'Oversized', 'Seminario', 'Mileage', 'hesitation', 'gunk', 'deeply', 'lobules', 'Mick', 'Antares', 'guns', 'prosaic', 'eligibility', 'seeping', 'eventuate', 'combating', 'foreshortened', 'directions', 'epitome', 'misinterpret', 'deities', 'sophisticate', 'veining', 'sculptural', 'Congolese', 'Grayson', 'options', 'sticking', 'Style', 'tablecloths', 'Acres', 'screens', 'impolitic', 'armoire', 'snug', 'feedings', 'Nigeria', 'viscoelastic', 'Chiggers', 'tarpaulin', 'Siciliana', 'socialization', 'compensate', 'Baseball', 'Sicilians', 'Manville', 'wretched', 'seismograph', 'unworkable', 'golly', 'drips', 'pectorals', 'Intensification', 'Fleet', 'pews', 'draughty', 'debates', 'equation', 'sentry', 'draining', 'debated', 'prophet', 'precociously', 'southwest', 'Tomorrow', 'enfant', 'matchmaking', 'embarrassing', 'cosmological', 'Saadi', 'epics', 'abandonment', 'coerce', 'imitation', 'arise', 'cultivate', 'offspring', 'Paragraph', 'thud', 'desperation', 'disinterred', 'breaking', 'cleansing', 'Docherty', 'extinguished', 'assailing', 'conceptual', 'Visitors', 'emulate', 'Seafood', 'pertained', 'Reprints', 'fungus', 'panoramic', 'absentmindedly', 'numb', 'Perluss', 'capitalize', 'rotund', 'dissolving', 'trickle', 'cooperatives', 'Titanic', 'strutting', 'Marvelous', 'barbs', 'specifying', 'agnostics', 'rentals', 'Linus', 'Siepi', 'handlebars', 'sloop', 'Interesting', 'anachronistically', 'mission', 'proverbial', 'koinonia', 'interpersonal', 'unite', 'Supplies', 'concentric', 'policemen', 'Smithfield', 'Jerusalem', 'unleashing', 'Fitzhugh', 'glide', 'susceptible', 'Carnegie', 'acoustical', 'dross', 'might', 'alter', 'Karol', 'incompleteness', 'Badlands', 'perceived', 'waged', 'units', 'Parker', 'Tualatin', 'Rafael', 'bigger', 'unreasoning', 'Vandervoort', 'nephews', 'Masons', 'Participants', 'cantonment', 'inequality', 'Scottish', 'inherent', 'athletics', 'Pils', 'formulate', 'Display', 'recapitulate', 'autobiographical', 'modernized', 'Jefferson', 'Pile', 'scratching', 'wages', 'seditious', 'chiefdom', 'Funston', 'consonance', 'disbelieved', 'Tigers', 'Samuel', 'Glennon', 'imploring', 'puckering', 'disbelieves', 'eyeteeth', 'Eight', 'paradise', 'aligned', 'Deane', 'boldness', 'ersatz', 'blaring', 'alleviating', 'Mall', 'Doolittle', 'Deans', 'Mali', 'attendant', 'Bloch', 'fiat', 'People', \"year's\", 'Dietary', 'circuit', 'twenty', 'throws', 'solidly', 'unhealthy', 'Mendoza', 'rankles', 'defects', 'blank', 'bland', 'Playhouses', 'overrode', 'corporal', 'moan', 'pensioner', 'temperature', 'utilization', 'swart', 'conceives', 'Frost', 'rails', 'downpayment', 'swarm', 'reverence', 'attendants', 'Barrette', 'imprinted', 'Ottawa', 'undertakes', 'Malia', 'compartment', 'waterproofing', 'Whosoever', 'wonderfulness', 'instruction', 'dispensed', 'impersonally', 'wattles', 'Delvin', 'foreleg', 'rasped', 'executioner', 'Oliver', 'Olivet', 'inappropriateness', 'outstanding', 'strengthen', 'Longhorns', 'Beryl', 'Nagasaki', 'Quiney', 'hexagonal', 'rugs', 'heightening', 'febrile', 'interferes', 'Secretariate', 'lackadaisical', 'comportment', 'empirically', 'catastrophically', 'Drexel', 'chairman', 'Parsifal', 'favorably', 'populous', 'interfered', 'foreman', 'added', 'beribboned', 'warnings', 'reckon', 'pillage', 'measures', 'shimming', 'purchasers', 'reunited', 'shareholder', 'enduring', 'undertaken', 'measured', 'Pieta', 'feudalism', 'grams', 'Zen', 'dissolved', 'Reynolds', 'institutions', 'drunkenness', 'stones', 'asphalt', 'ballplayer', 'memorandum', 'Veneto', 'stoned', 'Dartmouth', 'melody', 'costing', 'Alexeyeva', 'aggravate', 'deserts', 'securing', 'heavily', 'penalty', 'abiding', 'tacking', 'transcendental', 'Kandinsky', 'Courcy', 'clarifying', 'counterpoint', 'Accident', 'pulsating', 'aficionado', 'furnaces', 'Alone', 'avarice', 'procrastination', 'Incorporated', 'Epicurean', 'beards', 'Carausius', 'accosting', 'Olympic', 'appeal', 'keenest', 'Wes', 'marinas', 'activity', 'PHS', 'dizziness', 'Merc', 'Networks', 'consciously', 'loveliness', 'Plays', 'martyrdom', 'Parkersburg', 'slanting', 'upsurge', 'chaplain', 'reverberations', 'Playa', 'Homemakers', 'Rooseveltian', 'Derails', 'Boniface', 'Eshleman', 'Faustus', 'obstructionist', 'nailed', 'slapped', 'Jubal', 'Colmer', 'Hyannis', 'orbiting', 'spectrophotometer', 'corruption', 'Reub', 'recently', 'Outline', 'ciliated', 'succeed', 'Ignition', 'lyrical', 'ciliates', 'Newfoundland', 'senators', 'license', 'breakin', 'ritualized', 'Coastal', 'Flake', 'flies', 'flier', 'Fabricius', 'ranchers', 'reasons', 'Quintana', 'Willis', 'pH', 'Willie', 'Snook', 'bolster', 'Filippo', 'roaring', 'dun', 'Bunks', 'emanation', 'illumined', 'due', 'strategy', 'apprehensively', 'confabulation', 'Successive', 'brick', 'illumines', 'woke', 'N.A.', 'foreseeing', 'quintet', 'togs', 'Blanton', 'vaguely', 'driers', 'temperament', 'incoming', 'earnestly', 'infuriation', 'flames', 'batch', 'corrode', 'parachutes', 'untenanted', 'intercepts', 'p.', 'Shannon', 'welding', 'enriching', 'Edmonia', 'interlacing', 'leans', 'Sinatra', 'Raft', 'Izaak', 'Co.', 'chauffeur', 'provisions', 'parading', 'jets', 'Cop', 'arrives', 'cartridge', 'Cox', 'Prokofieff', 'usually', 'Coe', 'Sokol', 'birch', 'brocade', 'knack', 'Wanna', 'lower', 'sumac', 'persuasive', 'anybody', 'Starkey', 'Reinforcements', 'Examples', 'riffle', 'bounced', 'steeled', 'Dowager', 'abilities', 'catkin', 'facial', 'precedence', 'Semmes', 'Handmade', 'competitive', 'inactive', 'Suspicion', 'Poindexter', 'Bizerte', 'Scripture', 'gems', 'Arab', 'loading', 'Freida', 'advisers', 'exclusively', 'plateau', 'rocklike', 'Front', 'Aventino', 'Alto', 'homozygous', 'vindicate', 'condemnation', 'lovin', 'unwomanly', 'integer', 'sandals', 'Pakistan', 'Wharf', 'Kenny', 'Salida', 'mans', 'straightaway', 'Meisenheimer', 'Hiring', 'stings', 'alignments', 'folders', 'Within', 'Heiser', 'unappeasable', 'understood', 'Avowed', 'uppercut', 'grenades', 'newsletter', 'rippling', 'gradually', 'vortex', 'tends', 'fragments', 'jumpy', 'jumps', 'conversant', 'juju', 'Eph', 'Proponents', 'powerplants', 'Decries', 'mingled', 'volunteering', 'ordeal', 'stricken', 'mingles', \"Won't\", 'doltish', 'gospel', 'clubhouse', 'Subsystems', 'Simon', 'Feversham', 'exhaustively', 'Bears', 'upshots', 'elasticity', 'mustached', 'holster', 'razorback', 'mustaches', 'Dieu', 'Beard', 'sonny', 'whims', 'conceivably', 'territories', 'farces', 'tumble', 'fast', 'creaked', 'vendors', 'Every', \"we're\", 'Brownings', 'oddities', 'conceivable', 'Buckenham', 'bluffing', 'melodic', 'mountains', 'flagrant', 'Gainesville', 'potassium', 'succumbed', 'Gautier', 'forbidding', 'Contribution', 'deployed', 'groupings', 'Perdido', 'drinkers', 'demeanor', 'Harrity', 'Loan', 'stalking', 'gratifying', 'fried', 'beguiling', 'humanitarian', 'associated', 'Calenda', 'Blasphemous', 'charitably', 'racking', 'warning', 'bicep', 'Lecture', 'Bagatelles', 'sandalwood', 'lemon', 'suffuse', 'scrutinized', 'income', 'Airless', 'Laguna', 'perusal', 'vaulting', 'Pt.', 'symptomatic', 'develops', 'Laughing', 'flirtation', 'Making', 'halfback', 'pottery', 'Extractor', 'suffers', 'Andean', 'potters', 'alongside', 'waxing', 'weights', 'Montero', 'pyre', 'joining', 'proximate', 'Perle', 'undisrupted', 'Cranes', 'issued', 'besetting', 'acquiesence', 'Hitting', 'polonaise', 'dumbbell', 'issues', 'antisubmarine', 'Dodge', 'Marvin', 'peering', 'Duclos', 'Catalog', 'Joint', 'obstinate', 'Sarason', 'stable', 'wailing', 'waiters', 'overlaps', 'Superintendents', 'misinterpretation', 'iliac', 'reinterpret', 'electron', 'graphic', 'bounding', 'gins', 'drinking', 'materialism', 'Enjoy', 'scandalizing', 'Emerging', 'physiognomy', 'incoherent', 'Loveless', 'Competition', 'Feelings', 'reappearing', \"week's\", 'FFA', 'politicking', 'folds', 'Waymouth', 'sensation', 'persuasively', 'State', 'protrude', 'Maryland', 'Mme', 'growers', 'south', 'Zion', 'microanalysis', 'frankfurters', 'Awakening', 'Tucker', 'cubbyhole', 'garishness', 'refilled', 'multichannel', 'gaily', 'desires', 'Shantz', 'Light', 'pushing', 'Missoula', 'slated', 'desired', 'swirled', 'separation', 'sexy', 'confiscating', 'Confederation', 'vividness', 'Tulsa', 'Spelman', 'CBS', 'celebrants', 'continuities', 'reds', 'examinations', 'slinging', 'Burleson', 'leguminous', 'Treat', 'lodging', 'summation', 'boasts', 'sofa', 'fed', 'fee', 'rackety', 'Hub', '&', 'manifested', 'paste', 'Hun', 'rackets', 'germ', 'few', 'depicted', 'fer', 'swaggered', 'bitterly', 'Intervenes', 'Count', 'parliament', 'journalists', 'Tanner', 'musician', 'heir', 'Chuck', 'infection', 'sore', 'Exclaimed', 'pitfalls', 'Trains', 'distractedly', 'sculptor', 'Americana', 'augment', 'weighting', 'foppish', 'analogous', 'lumber', 'purports', 'befits', 'Hattiesburg', 'distractions', 'calculation', 'Larkins', 'Feature', 'complaisance', 'villain', 'carrot', 'something', 'scrounging', 'summers', 'galls', 'united', 'decaying', 'Aldermen', 'buoyant', 'Stigmata', 'prognosis', 'unites', 'dismissing', 'grudgingly', 'sighting', 'Mohammad', 'tension', 'puppets', 'lesion', 'Snellville', 'unforgivable', 'masks', 'readiness', 'Letters', 'Moonan', 'heroics', 'straps', 'Stubblefield', 'promptings', 'gardenias', 'martini', 'parsonage', 'saturated', 'unfortunates', 'Moslem', 'Disapproval', 'Dostoevsky', 'looks', 'tyrant', 'flapped', 'Janice', 'boosts', 'contaminated', 'linguistics', 'Shell', 'gymnastic', 'ships', 'nostalgia', 'nostalgic', 'estimating', 'permanent', 'contemplative', 'turban', 'orange', 'researchers', 'conformance', 'Rebel', 'eastward', 'contention', 'richness', 'Cooperatives', 'makings', 'indexing', 'topcoat', 'negligent', 'fingerprint', 'satellites', 'impaired', 'Steffens', 'investor', 'Enrico', 'bewilderment', 'Greenland', 'admonished', 'profound', 'Pro', 'unpredictably', 'unpredictable', 'polishes', 'conservatism', 'deteriorate', 'erratic', 'Subject', 'mitral', 'studios', 'Bonaparte', 'Octet', 'mothered', 'bogey', 'Geddes', 'Which', 'substructure', 'loquacious', 'vehement', 'disarray', 'redefined', 'thrifty', 'performs', 'hollering', 'Marion', 'induction', 'integrated', 'despairing', 'apses', 'This', 'Neptune', 'Wilsonian', 'promptly', 'Solder', 'avowed', 'compositions', 'Bulgaria', 'comrade', 'overtake', 'enlargements', 'Wegener', 'phrases', 'illicit', 'crystallization', 'phrased', 'bouquet', 'vases', 'Decanting', 'Sashimi', 'Lemma', 'listless', 'Lemme', 'proposing', 'enormity', 'captains', 'recurrently', 'salutary', 'Tien', 'Increased', 'buffet', 'retreats', 'Increases', 'quadratic', 'Edwardes', 'rigs', 'Margo', 'Palermo', 'agility', 'resists', 'academy', 'transistor', 'slides', 'regards', 'Taliesin', 'intonation', 'ricocheted', 'Mayans', 'roadbed', 'Berger', 'hearings', 'grandson', 'boring', 'gages', 'infectious', 'screeching', 'chattered', 'patients', 'individual', 'grander', 'Pillsbury', 'dynamo', 'Berniece', 'unaccountable', 'Folded', 'westward', 'sincerity', 'concise', 'intersecting', 'unaccountably', 'Relieved', 'admittance', 'Duane', 'lope', 'towboats', 'willful', 'trivia', 'vegetation', 'Appendixes', 'combat', 'Dragoslav', 'harmful', 'Manley', 'spacesuit', 'Gregory', 'Proximate', 'realtor', 'thespians', 'refreshing', 'appallingly', 'flappers', 'Prague', 'looked', 'contended', 'Lessons', 'presentments', 'insulators', 'Wilshire', 'burners', 'tidings', 'headquarter', 'planning', 'brutalized', 'spindle', 'Wilkinson', 'spurring', 'Shut', 'unanimously', 'mugs', 'clutching', 'Jay', 'Shuz', 'perfumery', 'Failure', 'tribulation', 'myriad', 'undermining', 'threateningly', 'spun', 'prosecute', 'overeating', 'Willings', 'Terry', 'spur', 'Isaiah', 'ended', 'Penny', 'plopped', 'ministered', 'nightingale', 'unison', 'rafts', 'shedding', 'expel', 'dreariness', 'affirms', 'fantastically', 'distantly', 'Unity', 'barrels', 'vocation', 'junks', 'invulnerable', 'scathingly', 'torpedo', 'Wrangler', 'weighing', 'Sophocles', 'embarrassment', 'hypothesis', 'probing', 'hobo', 'commands', 'bronc', 'Strait', 'budgeting', 'Confused', 'Cairns', 'Canneries', 'tinning', 'commando', 'unconvincing', 'Timothy', 'disenfranchised', 'interchanges', 'narrower', 'undergraduates', 'packaging', 'subscribe', 'table', 'narrowed', 'Regrets', 'amigo', 'provinces', 'fishery', 'cavities', 'fishers', 'Perrin', 'storyteller', 'tutor', 'literal', 'outflow', 'tawdry', 'shims', 'determinant', 'proudest', 'painted', 'sufficient', 'jaded', 'inquisitor', 'Credit', 'Richardson', 'Saloon', 'Flory', 'painter', 'interstices', 'perseveres', 'Force', 'align', 'ejection', 'carelessness', 'Taiwan', 'Wait', 'primacy', 'sobriquet', 'layer', 'Barstow', 'palely', 'dual', 'snuck', 'imprudently', 'Intelligent', 'leafhopper', 'trailing', 'Taxation', 'clinked', 'radiation', 'cross', 'member', 'Marquet', 'Delinquency', 'grandeur', 'residing', 'sincerest', 'rake', 'mutual', 'beast', 'obstructed', 'Savonarola', 'Stated', 'Staten', 'fighting', 'tithes', 'States', 'Moral', 'Welch', 'Fawcett', 'bending', 'routinely', 'cried', 'dressings', 'Kingstown', 'Bonfiglio', 'replenish', 'fibrin', 'cries', 'fishing', 'Argentina', 'overdeveloped', 'NAHB', 'Temperature', 'rapid', 'silicates', 'capabilities', 'nor', 'lymphocytes', 'Stakes', 'enact', 'captivating', 'myth', 'susceptibility', \"who's\", 'interrogation', 'Below', 'T', 'presume', 'raincoats', 'Marylanders', \"who'd\", 'Dvorak', 'helpful', 'endowment', 'Steichen', 'Honey', 'Clubs', 'rituals', 'Maria', 'herons', 'virginity', 'religiosity', 'mattresses', 'Section', 'growth', 'Bonanza', 'disrupting', 'Formally', 'Promoters', 'miner', 'mines', 'bossed', 'manipulations', 'courtyards', 'Mile', 'earrings', 'mined', 'Moriarty', 'trout', 'obey', 'Nosebleed', 'shavings', 'hostage', 'gentians', 'frustrate', 'Mill', 'raise', 'extension', 'saddle', 'hookup', 'sectarian', 'urged', 'Boggs', 'vocationally', 'Nogay', 'perky', 'urges', 'Stagecoach', 'emperor', 'taxpaying', 'additives', 'owl', 'own', 'perfectionists', 'Cornell', 'domain', 'besmirched', 'Writing', 'hutment', 'negate', 'gurgle', 'prompted', 'Diversity', 'platoon', 'blanketed', 'Upon', 'groomed', 'smoothing', 'continental', 'announcements', 'Ramsey', 'Rowley', 'breeding', 'shredder', 'Engisch', 'Condition', 'Ginning', 'shank', 'Science', 'fixers', 'hurried', 'Miscellany', 'auxiliary', 'Sonoma', 'Tel', 'Jenny', 'Ten', 'mispronunciation', 'Ted', 'Tee', 'Tex', 'record', 'Jenni', 'infants', 'demonstrate', 'Chromium', 'Oceanography', 'Peru', 'Garth', 'resumption', 'abbot', 'Electronics', 'naming', 'conspired', 'Lander', 'guitarist', 'pills', 'Fuji', 'Islamic', 'other', 'Five', 'conspires', 'ventilating', 'contacting', 'sloping', 'Yeni', 'reorientation', 'apportioned', 'circumspection', 'inherently', 'Payson', 'Converts', 'earthly', 'Musical', 'Baltimore', 'upwards', 'insipid', 'Hemingway', 'Fights', 'Dorenzo', 'Livery', 'ideological', 'pods', 'Masque', 'xylem', 'raining', 'sitters', 'hordes', 'foul', 'four', 'Does', 'Olympics', 'preface', 'ringlets', 'centimeter', 'Until', 'aggression', 'Electromyography', 'crooned', 'Spectators', 'Manufacturers', 'quadruple', 'outwit', 'Belgians', 'demoted', 'sputter', 'Climbing', 'immature', 'meadows', 'sinking', 'navigating', 'oceans', 'bile', 'Charitable', 'tantalizing', 'Elevated', 'fur', 'stabbed', 'narcotic', 'markers', 'JNR', 'disturb', 'basics', 'uttering', 'Less', 'Bacon', 'persisted', 'disunited', 'Paul', 'Jerez', 'commented', 'Convair', 'Conventional', 'Rachel', 'specially', 'eclipsed', 'valiant', 'sailed', 'crutch', 'loathing', 'Huai', 'McQuillan', 'relieving', 'Virtually', 'thunder', 'Perinetti', 'jocular', 'Guerrillas', 'conjure', 'inducement', 'pioneering', 'legations', 'sweetpeas', 'Munoz', 'sobs', 'unseemly', 'fissured', 'cart', 'Forgotten', 'cult', 'excelsior', 'Stephanie', 'cyclical', 'Dominique', 'unwillingness', 'k', 'Petite', 'unnumbered', 'unwanted', 'Hydrogen', 'criticism', 'indulging', 'Mutton', 'pertinence', 'Three', 'Towsley', 'replace', 'smolders', 'beneficiaries', 'anions', 'cocaine', 'Pompeii', 'opponents', 'apportionment', 'Efficiency', 'reticulate', 'pompons', 'cents', 'symphony', 'strike', 'care', 'Recent', 'whorls', 'females', 'standardized', 'hereby', 'sortie', 'Rule', 'reversible', 'smelts', 'portentous', 'rancor', 'Widow', 'systemization', 'Merz', 'flicking', 'Dimitri', 'pursue', 'plunged', 'rulings', 'Professors', 'Beebe', 'imperialism', 'revenues', 'example', 'nitrates', 'currency', 'caution', 'counseling', 'Easier', 'truckdriver', 'groaned', 'unmasked', 'Prudence', 'feature', 'Maritime', 'imperishable', 'hesitatingly', 'Rollie', 'Mullins', 'dignified', 'fanaticism', 'ruts', 'abstraction', 'typed', 'minimized', 'despondent', 'Players', 'Aloud', 'minimizes', 'unselfish', 'nonprofit', 'constants', 'profess', 'Bananas', 'fictional', 'baggage', 'trellises', 'orally', 'timers', 'communistic', 'leapt', 'biochemical', 'Criminals', 'Housing', 'Toll', 'Ludwig', 'wrought', 'Commies', 'Told', 'unforeseen', 'heretofore', 'auditors', 'survivors', 'Barber', 'insubstantial', 'dissolutions', 'easier', 'Implements', 'Wilcox', 'doghouse', 'planetoid', 'pitfall', 'slate', 'Martinique', 'renunciation', 'constructional', 'interrupt', 'Mossberg', 'slats', 'prize', 'prophetically', 'renditions', 'Publique', 'Gustavus', 'Hobbes', 'volcano', 'loyalties', 'reputedly', 'series', 'Winner', 'Bentleys', 'Recognizing', 'Okada', 'tragicomic', 'mutineer', 'emulsified', 'drove', 'Foreseeing', 're', 'rf', 'specialties', 'Culvers', 'Super', 'Josiah', 'foundation', 'Word', 'diversities', 'Extension', 'rateable', 'Work', 'threatened', 'Worn', 'faculties', 'tinkled', 'mobsters', 'Frankfurt', 'enormous', 'shipper', 'birdie', 'eared', 'scrupulosity', 'diabetic', 'fuzz', 'silicon', 'shipped', 'speedy', 'coeds', 'tempting', 'reserving', 'repealed', 'symbolize', 'thankless', 'speeds', 'flitting', 'Universities', 'hearsay', 'steroids', 'Harbert', 'vitro', 'sallies', 'channels', 'Cesare', 'davits', 'basketball', 'exchequer', 'betrothed', 'lawsuits', 'Toomey', 'Chorale', 'carload', 'perturbations', 'hypothetical', 'brashness', 'rectifier', 'unplowed', 'Corne', 'Murkland', 'Haliburton', 'advisement', 'Summit', 'defaulted', 'legatee', 'repressive', 'crawl', 'lunged', 'trek', 'requesters', 'exultation', 'showed', 'icicle', 'approximations', 'hibachi', 'tree', 'second', 'shower', 'skimmed', 'blasphemed', 'Weigle', 'Elks', 'willingness', 'runner', 'Automobile', 'shyly', 'Woodyard', 'Mullenax', 'untrained', 'antagonistic', 'brainy', 'shrubs', 'constricted', 'benighted', 'bleachers', 'soaked', 'promenades', 'instructs', 'amusing', 'doors', 'sores', 'Ask', 'grips', 'Ash', 'Jones', 'thrilled', 'unmindful', 'wells', 'y', 'guardedness', 'organization', 'Galveston', 'dummy', 'chemistry', 'snooping', 'cams', 'Chardon', 'camp', 'Schwada', 'rotary', 'memberships', 'Lisbon', 'detriment', 'mating', 'came', 'Anglicans', 'Symonds', 'insects', 'meetings', 'Twain', 'hostesses', 'participate', 'lethal', 'unmanaged', 'Marcello', 'abreast', 'Timon', 'layout', 'Reaching', 'headline', 'crossways', 'maturation', 'salvos', 'rosebuds', 'Nevertheless', 'remarry', 'denounce', 'psychiatric', 'foremost', 'pocket', 'beavertail', 'tenaciously', 'relish', 'societies', 'sittings', 'spilling', 'Squats', 'dipping', 'stunningly', 'Siva', 'adherence', 'Pasture', 'hasten', 'chemise', 'peripheral', 'Bennington', 'transferred', 'flaxen', 'Brevard', 'radius', 'Szelenyi', 'McPherson', 'resigned', 'pricking', 'sedans', 'Include', 'reporter', 'rings', 'solicitude', 'injuries', 'pressures', 'Wednesdays', 'oedipal', 'propagated', 'skimpy', 'wanted', 'smelled', 'Chris', 'souvenir', 'defiance', 'Quemoy', 'debt', 'debs', 'planner', 'disdain', 'chirped', 'fallacious', 'Blessed', 'decompose', 'Menshikov', 'argue', 'Bibb', 'BCD', 'troublesome', 'smithereens', 'gleaming', 'pregnancy', 'munched', 'Sorry', 'Bernstein', 'grazing', 'Movement', 'Perception', 'Mais', 'reconsideration', 'parley', 'trapdoor', 'subside', 'Malay', 'subsidy', 'stadium', 'privilege', 'phyla', 'superhuman', 'gladly', 'dots', 'conversational', 'graphical', 'Tokyo', 'gloats', 'punctually', 'reproof', 'strewn', 'Schulz', 'evasions', 'worked', 'Miantonomi', 'gritty', 'NMR', 'contemplated', 'lilacs', 'Pancrazio', 'excited', 'contemplates', 'unfelt', 'Harrison', 'Campbell', 'silken', 'Settlements', 'congratulation', 'Neisse', 'Tossing', 'Painters', 'taunts', 'overpowers', 'anticipating', 'Gazette', 'violin', 'churchmen', 'smoothest', 'damaged', 'severity', 'pawnshop', 'allegoric', 'clucking', 'gateways', 'Die', 'Wratten', 'Enoch', 'emphatic', 'voyager', 'voyages', 'Budapest', 'Barnaba', 'equalizing', 'jungle', 'Voters', 'photographers', 'sobbing', 'Apples', 'haggard', 'Tijuana', 'maximizing', 'Spalding', 'matters', 'askance', 'holdups', 'redeem', 'offstage', 'simulated', 'quantitative', 'veils', 'scissoring', 'boyhood', 'capitol', 'sleeps', 'throttling', 'Subsequent', 'sleepy', 'stirringly', 'Thant', 'rotates', 'Bricker', 'freshened', 'Pumpkin', 'handshake', 'spectacles', 'magically', 'Offer', 'Odell', 'Leonard', 'disparity', 'obedient', 'innocent', 'botanists', 'weeklies', '9b', 'elevation', 'Fontainebleau', 'quirk', 'precincts', 'Laudably', 'Broiled', 'shabbily', 'Chrysler', 'Shucks', 'desire', 'brought', 'specie', 'deviance', 'diffraction', 'Claudio', 'Aristotle', 'marinating', 'grotesquely', 'headwalls', 'miffed', 'creek', 'creed', 'consultants', 'Quince', 'prick', 'Norton', 'Haydn', 'creep', 'enemies', 'Abbe', 'iniquities', 'Cudkowicz', 'daddy', 'polluted', 'birdlike', 'Auberge', 'exposition', 'periphery', 'Hatching', 'nitrate', 'Convertible', 'Harrow', 'theological', 'cultist', 'palatable', 'shaker', 'shakes', 'substitutes', 'secularists', 'Valedictorian', 'Dooley', 'Marocaine', 'unfrozen', 'substituted', 'yoke', 'defensive', 'poppies', 'losing', 'pliers', 'shaken', 'Gurkhas', 'globetrotter', 'MPH', 'Valentine', 'AVC', 'hulking', 'raised', 'Scheherazade', 'soe', 'Knowledge', 'Blacks', 'facility', 'Greeks', 'rotations', 'son', 'thankful', 'magazines', 'consummated', 'sow', 'wrap', 'novo', 'occupying', 'authorizes', 'Belief', 'waits', 'serfs', 'constantly', \"boy's\", 'resulted', 'overhand', 'overhang', 'Homestead', 'passport', 'magnificent', 'Hinkle', 'Nagel', 'back', 'premises', 'beech', 'bishops', 'extremity', 'Schubert', 'officiated', 'devices', 'paprika', 'Productions', 'glaringly', 'Weatherford', 'Develop', 'Personal', 'steady', 'wetness', 'textbook', 'centrifuged', 'Rimbaud', 'Observations', 'Calves', 'negotiations', 'Francisco', 'holy', 'glacier', 'Mayo', 'ambrosial', 'Possible', 'ourselves', 'Possibly', 'nestling', 'Mays', 'Tract', 'entomologist', 'superfluous', 'models', 'officio', 'primed', 'cleaved', 'eminent', 'premieres', 'entrust', 'Amos', 'Seoul', 'Charley', 'fastened', 'rockers', 'glass', 'Charles', 'Bayanihan', 'pet', 'Madeira', 'resonances', 'conferred', 'someplace', 'breadth', 'irrigation', 'Castor', 'hangovers', 'goddammit', 'activated', 'theaters', 'skate', 'skiing', 'Films', 'chests', 'hole', 'bribes', 'discoverer', 'Falmouth', 'inflected', 'methodically', 'recurrence', 'bicycles', 'prolonging', 'bribed', 'Bahi', 'Believe', 'Simplex', 'persevere', 'Federalist', 'icing', 'Character', 'spate', 'cataclysmic', 'roundups', 'spats', 'fretting', 'Rand', 'peg', 'Rents', 'caloric', 'amoral', 'Fairing', 'Rank', 'Feeder', 'leave', 'tap', 'engrossing', 'aviators', 'eosinophilic', 'speculation', 'Suzanne', 'spiritual', 'occurrence', 'collage', 'sigh', 'sign', 'adulation', 'reaffirmed', 'Associations', 'Sewickley', 'floorshow', 'thyroglobulin', 'jeopardy', 'Francie', 'melt', 'copes', 'Cruz', 'lazily', 'nationalizing', 'Crus', 'meld', 'Emma', 'Crosson', 'leaped', 'torpid', 'understanding', 'magnetism', 'Woman', 'sublease', 'momentous', 'passengers', 'hurtling', 'Memorials', 'redemption', 'brilliant', 'ineffective', 'absenteeism', 'Scratching', 'Pickman', 'misfortunes', 'tasks', 'Hagner', 'logical', 'Asteria', 'logically', 'loquacity', 'fake', 'Atonement', 'Ecuador', 'Fractions', 'crammed', 'hoosegow', 'nearsighted', 'Sarasota', 'wicker', 'angry', 'wicket', 'papal', 'citywide', 'scope', 'theoretical', 'prosecutor', 'wicked', 'scratched', 'Celso', 'Compiler', 'Poetics', 'Mortar', 'inventions', 'transoms', 'Briar', 'Jimmy', 'everywhere', 'virtue', 'intoxicated', 'scratches', 'dragons', 'sieben', 'subjective', 'Sintered', 'piles', 'sanctified', 'hydrochloride', 'Saga', 'pretend', 'Magnificent', 'inflamed', 'Lois', 'flannels', 'bake', 'stature', 'detached', 'interstate', 'gunfire', 'remitted', 'parishes', 'awesome', 'validly', 'unveiled', 'allowed', 'stole', 'Happened', 'monitoring', 'savor', 'swami', 'paleness', 'optimal', 'undertook', 'Darwinism', 'encampment', 'landmark', 'Meets', 'fascinate', 'Discussed', 'wardens', 'Blowing', 'unclaimed', 'improving', 'spouted', 'revealed', 'lids', 'equilibriums', 'natural', 'correlate', 'nakedly', 'biographical', 'Format', 'ordinarily', 'daisies', 'Inland', 'opinionated', 'so', 'sl', 'snowed', 'pollution', 'tutoring', 'se', 'Islam', 'drunken', 'augurs', 'footstep', 'Wyoming', 'flips', 'experiments', 'Nathanael', 'omitting', 'Paray', 'bulldoze', 'drunker', 'lovelies', 'tendency', 'sacrosanct', 'tore', 'splurge', 'limbs', 'overhaul', 'internationally', 'nymph', 'torn', 'Greylag', 'sylvan', 'disconcertingly', 'suspicion', 'stroll', 'constitutes', 'collegians', 'swastika', 'aliens', 'limbo', 'mused', 'Buck', 'Sister', 'thereby', 'nation', 'amulet', 'pretense', 'Bucs', 'reckoning', 'twilight', 'shouted', 'Lazzeri', 'roasts', 'Macbeth', 'establishing', 'legume', 'shores', 'Stanley', 'cropping', 'suffixes', 'Communists', 'stalling', 'square', 'Men', 'crushing', 'decreed', 'owing', 'Learned', 'overworked', 'Added', 'barometric', 'rioters', 'squared', 'abide', 'Furnaces', 'navels', 'investigation', 'Article', 'astral', 'Griston', 'Holloway', 'demoralization', 'sings', 'Meynell', 'siege', 'spavined', 'instrumentalists', 'disrespect', 'bumps', 'matchless', 'McCay', 'exhusband', 'Westfield', 'Meyers', 'patronage', 'diagram', 'backside', 'erotically', 'wanderers', 'vociferousness', 'footwear', 'Brazil', 'Ontario', 'distal', 'Royal', 'guardhouse', 'reinvestigation', 'open', 'ripping', 'partook', 'city', 'boulevard', 'operable', 'wrath', 'convent', 'Patrolman', 'Burlingame', 'bite', 'Mencken', 'shiver', 'brevity', 'stuffed', 'Hambric', 'streetlight', 'Wycliffe', 'bits', 'cite', 'Goodbody', 'slashes', 'sentinels', 'southbound', 'antic', 'slashed', 'inhomogeneous', 'fooled', 'Kalamazoo', 'Seven', 'hyperplasia', 'impractical', 'depressed', 'yelping', 'folly', 'corruptible', 'typography', 'Lester', 'coats', 'Businesses', 'individualized', 'counselor', 'drywall', 'damned', 'depresses', 'dutifully', 'addressing', 'revolt', 'argument', 'alley', 'headquarters', 'buried', 'horsepower', 'Idaho', 'dewars', 'wink', 'Simmonsville', 'instructed', 'Congregation', 'coincide', 'blinding', 'Impressionism', 'ironically', 'Getting', 'syllable', 'backyards', 'molecule', 'staffed', 'Boone', 'crochet', 'hoped', 'inserted', 'winters', 'Auditorium', 'photochemical', 'lawn', 'pantheist', 'pageantry', 'drive', 'Kenilworth', 'Weston', 'metalworking', 'wine', 'Decisions', 'trembled', 'laws', 'Systeme', 'honeymooned', 'marshalled', 'lotus', 'babbled', 'merit', 'peaches', 'opportunism', 'bright', 'Roland', 'Systems', 'scarce', 'parsimony', 'Indirectly', 'journalese', 'liberation', 'dancing', 'dreamed', 'outrage', 'directed', 'psychiatrist', 'assistant', 'freezing', 'holdovers', 'clang', 'battalions', 'Magazine', 'Having', 'Pontiff', 'resource', 'Thereafter', 'parasitic', 'saliva', 'worried', 'soloist', 'priest', 'resins', 'Baudelaire', 'uncover', 'Hound', 'snapback', 'resiny', 'orchids', 'tibialis', 'temperance', 'artistically', 'arouses', 'Patricia', 'redcoats', 'shuld', 'anyways', 'Fraction', 'overflowed', 'Hendricks', 'aroused', 'fidelity', 'Kan.', 'mutton', 'Littlepage', 'ostensibly', 'Thay', 'sites', 'fierceness', 'furnishing', 'Twentieth', 'sable', 'Thai', 'Turnout', 'Than', 'molds', 'pitiless', 'Shotwell', 'vertical', 'apparition', 'screen', 'ascribed', 'Securities', 'recitation', 'concentrate', 'ascribes', 'Constance', 'Tjokorda', 'partakes', 'oust', 'puerile', 'Sniffle', 'App.', 'many', 'mana', 'Already', 'Kant', 'Whatman', 'mano', 'yearly', 'pastimes', 'Maroc', 'adjudication', 'amateurishness', 'moans', 'Riverside', 'considers', 'cramps', 'Medieval', 'Flash', 'brainwashing', 'bereavements', 'concede', 'braving', 'pouch', 'Harris', 'prototype', 'reflex', 'hilarity', 'enable', 'gist', 'Accardo', 'curbing', 'Districts', 'turtleneck', 'Analysts', 'psychotherapy', 'calligraphy', 'dropouts', 'Round', 'sharpshooters', 'Spiritual', 'profane', 'consultant', 'pettiness', 'polls', 'endures', 'policies', 'endured', 'spotlight', 'aerosolized', 'seepage', 'croaked', 'purse', 'bumper', 'Calculations', 'pinks', 'ivy', 'expenditures', 'missiles', 'Nashville', 'wiring', 'essayed', 'Objects', 'lovers', 'preconceptions', 'Christiansen', 'motioned', 'wrappers', 'barbed', 'boosted', 'Geraldine', 'Escape', 'structurally', 'barber', 'extern', 'Vroman', 'Physics', 'recapture', 'booster', 'Superintendent', 'Raynal', 'idiotically', 'clobber', 'parlayed', 'veal', 'loosens', 'Milwaukee', 'Markovitz', 'HBO', 'rest', 'safeguards', 'fateful', 'semiautomatic', 'presumption', 'diachronic', 'Jacksonian', 'Advice', 'esprit', 'sterilize', 'dryly', 'usurious', 'unventilated', 'ebullient', 'tunelessly', 'aspects', 'counteracting', 'counterattack', 'dark', 'Verstandig', 'Aunt', 'darn', 'vacuum', 'Baltic', 'breakage', 'dare', 'Milling', 'Shari', 'malignancy', 'Share', 'Contemporary', 'expository', 'Notwithstanding', 'Sharp', 'inter', 'primaries', 'Recognition', 'fives', 'crabbed', 'conditional', 'pickled', 'Controls', 'supplementary', 'lobster', 'kola', 'pickles', 'composers', 'scholarships', 'Bully', 'memories', 'best', 'Danubian', 'corrosive', 'M.D.', 'refer', 'transformers', 'zest', 'Moccasin', 'industrialized', 'liners', 'biases', 'pluralism', 'sloppily', 'punishments', 'Roos', 'Serge', 'cozy', 'origins', 'package', 'interfering', 'Regretfully', 'slights', 'Stimson', 'shied', 'chivalry', 'Superior', 'Away', 'legged', 'markedly', 'Duplicate', 'extramarital', 'apologize', 'portrayal', 'Flaxseed', 'peonies', 'hev', 'Malraux', 'her', 'bristles', 'Sievers', 'hey', 'Iliad', 'lapsing', 'hel', 'hem', 'hen', 'tireless', 'masquerades', 'bristled', 'survives', 'verbatim', 'Stevie', 'beginners', 'follicular', 'survived', 'Breasted', 'unreliable', 'housewives', 'amplify', 'rescuing', 'House', 'robustness', 'browbeaten', 'impute', 'vehicles', 'citizenship', 'fright', 'invigorating', 'migrate', 'Hatters', 'straightens', 'Thursday', 'Camille', 'catchup', 'Camilla', 'fumbling', 'cathedral', 'Estes', 'pedestal', 'appalling', 'angelica', 'Atlantis', 'drafts', 'Kidnapper', 'drafty', 'vocational', 'tight', 'Watson', \"J'ai\", 'Atlantic', 'querulous', 'incomprehensible', 'Walcott', 'Employees', 'remounting', 'misfortune', 'terra', 'terry', 'unanimous', 'Coolidges', 'rostrum', 'waived', 'Degas', 'mask', 'clowning', 'mash', 'mast', 'mass', 'parallelism', 'sawing', 'Youth', 'sensibility', 'axles', 'retch', 'gingham', 'excepting', 'debris', 'welfare', 'minors', 'directorship', 'masonry', 'evicted', 'glomerular', 'tinsel', 'tt', 'restraining', 'Falstaff', 'tail', 'chewing', 'asterisks', 'Entries', 'Arturo', 'appointment', 'returned', 'Morikawa', 'wavers', 'detention', 'documentaries', 'blockade', 'corollary', 'diary', 'Belge', 'showings', 'Copper', 'Vivaldi', 'parliaments', 'hooking', 'cable', 'pulsing', 'dodged', 'large', 'deftness', 'harry', 'joiner', 'pigskin', 'methodical', 'interpretor', 'Flatiron', 'Should', 'crystallography', 'crests', 'Drury', 'Giovanni', 'Crockett', 'Ferguson', 'scientists', 'whirled', 'escaping', 'Tartuffe', 'sentient', 'empower', 'Finland', 'Herald', \"Poor's\", 'corniest', 'legend', 'Silence', 'bulged', 'Feathertop', 'Commissions', 'welded', 'Cong', 'murdering', 'reactors', 'rummaging', 'orgone', 'numerology', 'Placing', 'flatland', 'spooned', 'Cardinal', 'beheld', 'pulls', 'gosh', 'Biscayne', 'Cumberland', 'ownself', 'pears', 'pearl', 'sitter', 'gorgeous', 'amassing', 'thereupon', 'ballad', 'befitting', 'Buber', 'Congregationalists', 'Presbyterianism', 'mowed', 'foundations', 'eatable', 'enlightenment', 'Neumann', 'industrialists', 'midstream', 'railroading', 'Cathedral', 'ingredient', 'Your', 'eras', 'seismological', 'eardrums', 'prompt', 'scan', 'suggestions', 'fiercely', 'AID', 'schoolgirl', 'implausibly', 'scar', 'xxxx', 'scoundrels', 'contributing', 'imminent', 'brokerage', 'att', 'glowing', 'relinquished', 'waved', 'perversely', 'Isis', 'Mailer', 'blotted', 'waver', 'waves', 'ethics', 'authentic', 'wobbling', 'transposed', 'refuse', 'constitutions', 'Jaross', 'register', 'volleyball', 'Sophoclean', 'Hebrew', 'assai', 'Kronenberger', 'lignite', 'Dobbs', 'adorned', 'Purple', 'staginess', 'distortion', 'Aeschbacher', 'Dixon', 'brim', 'turbine', 'brig', 'laced', 'shopper', 'termed', 'conjugation', 'laces', 'wry', 'Sound', 'Resolve', 'Pawtuxet', 'Theirs', 'Michael', 'salamander', 'outlawed', 'speculate', 'sucked', 'hereafter', 'nugget', 'assemblies', 'Resistance', 'unsprayed', 'aggrieved', 'found', 'flaxseed', 'energetically', 'investigators', 'dosed', 'upstairs', 'noble', 'Proclamation', 'reduce', 'Rosa', 'Abell', 'Rosy', 'doses', 'blithe', 'Crossman', 'penicillin', 'Ross', 'mottled', 'blacks', 'Gander', 'Durlach', 'Dramatic', 'finned', 'Funari', 'rhythmically', 'tensional', 'foal', 'salute', 'Eskimos', 'belief', 'risen', 'belied', 'bungled', 'conditioning', 'Historical', 'clique', 'rises', 'Strings', 'owners', 'sicker', 'Years', 'sensations', 'contingency', 'Businessmen', 'engagement', 'rooted', 'belligerent', 'Reverend', 'transgressed', 'spiritually', 'anonymity', 'glitter', 'Chesterton', 'unpleased', 'inapplicable', 'leverage', 'jet', 'Molding', 'introduction', 'unsafe', 'Brigantine', 'Plantations', 'crow', 'Rudy', 'elaboration', 'warmly', 'lavished', 'Heilman', 'tangy', 'aesthetic', 'chomp', 'Dumont', 'endlessly', 'thawing', 'Ansley', 'polarized', 'worktable', 'Often', 'Mantle', 'Lyford', 'fishermen', 'taxis', 'railroader', 'teensy', 'Alcohol', 'bimolecular', 'millenarianism', 'canceling', 'beforehand', 'defect', 'pedestrian', 'caress', 'Aide', 'scrawled', 'nests', 'jeopardize', 'commotion', 'Druid', 'reliance', 'internal', 'Comique', 'Dobbins', 'frail', 'knobs', 'Logically', 'kneecap', 'reconciliation', 'monastery', 'miscellany', 'M', 'Utopians', 'wedded', 'accepting', 'chancery', 'mean', 'dragger', 'Balzac', 'dragged', 'Cloud', 'unguided', 'chowder', 'golf', 'palsy', 'gold', 'cruises', 'Drenched', 'flirted', 'lengthwise', 'evaporation', 'freight', 'degraded', 'Lilly', 'standeth', 'Exports', 'Southerner', 'writes', 'writer', 'clothesline', 'competently', 'Barco', 'enzyme', 'larkspur', 'Carolinians', 'factor', 'cholinesterase', 'Dwyer', 'clomped', 'downpour', 'Danube', 'streamer', 'banned', 'Slocum', 'Tarkington', 'peril', 'reporters', 'charmingly', 'banner', 'Tigris', 'enemy', 'progressive', 'Moiseyev', 'Warrenton', 'Haynes', 'compressibility', 'Ernest', 'photomicrograph', 'McCormack', 'Piersee', 'bulky', 'unqualifiedly', 'largesse', 'bulks', 'potent', 'justification', 'contour', 'baritone', 'spirits', 'pneumonia', 'guinea', 'Kader', 'demons', 'underlie', 'pickup', 'itinerant', 'viciousness', 'monsters', 'compliment', 'knowing', 'screeched', 'candor', 'Vive', 'stretcher', 'Browning', 'respondents', 'rudderless', 'tramp', 'screeches', 'diminution', 'dividend', 'Leona', 'Leone', 'legislature', 'cryptic', 'Jason', 'Pittenger', 'thou', 'Mendelssohn', 'Strategic', 'Chin', 'Todd', 'tangibly', 'accomodations', 'Jour', 'allegiance', 'Nobel', 'dimensional', 'acclaim', 'adjoining', 'frosty', 'sing', 'Rousseau', 'souffle', 'inboards', 'Mariano', 'Hepker', 'Ramey', 'traipsing', 'evoking', 'contentedly', 'Adriatic', 'veneer', 'resting', 'Gracias', 'raced', 'squirrel', 'Matheson', 'Multiplication', 'races', 'representative', 'systematic', 'deport', 'Fairfax', 'Myra', 'hardness', 'inclement', 'uncertain', 'hostess', 'reliable', 'hilariously', 'medically', 'reliably', 'Church', 'Mist', 'Miss', 'comport', 'occlusive', 'Viola', 'Stock', 'clucked', 'welts', 'Associate', 'fetching', 'Sinfonica', 'Address', 'premonition', 'forgiveness', 'swig', 'Harnessing', 'knitting', 'Leatherman', 'comprehensive', 'Lines', 'upbringing', 'alert', 'Mercenary', 'rabid', 'nouns', 'fabrication', 'Limited', 'expend', 'halogens', 'flagpoles', 'alleging', 'italicized', 'Sol', 'Son', 'concrete', 'Congo', 'normals', 'Sox', 'cabins', 'Tones', 'befuddled', 'Labor', 'abbreviation', 'ousting', 'Papers', 'befuddles', 'conclusions', 'admission', 'advertisements', 'Holidays', 'eager', 'causing', 'rifleman', 'wrongdoer', 'ruled', 'Doberman', 'harvesting', 'Both', 'jutting', 'Tracking', 'Palomar', 'format', 'suffering', 'Smaller', 'hitters', 'private', 'shading', 'entrenched', 'formal', 'Mallory', 'sorting', 'utterances', 'squandered', 'ambuscade', 'bruited', 'Methodist', 'aridity', 'Highly', 'MacDonald', 'continue', 'yields', 'Bank', 'Bones', 'continuo', 'Bergamaschi', 'senate', 'spring', 'pals', 'Fahrenheit', 'beckon', 'Scot', 'palm', 'thermostats', 'curious', 'pale', 'Friend', 'Mostly', 'transactions', 'staple', 'rehabilitating', 'masculinity', 'welling', 'convulsions', 'Overwhelming', 'shooters', 'slopping', 'Assimilation', 'tinkers', 'Brady', 'eclectically', 'UPI', 'odor', 'pasteurization', 'impotency', 'carob', 'departures', 'Interruptions', 'relating', 'Attica', 'Sanchez', 'Pony', 'Pont', 'weatherbeaten', 'sacrament', 'Pons', 'Halting', 'Baffin', 'gynecologist', 'Pond', 'forearms', 'anterior', 'muddleheaded', 'Grosvenor', 'awaited', 'Styron', 'calf', 'Scarborough', 'unnerving', 'striven', 'Diario', 'apartments', 'exceed', 'suit', 'morality', 'strives', 'Baptist', 'perplex', 'inches', 'graciously', 'poster', 'Declaration', 'slump', 'slums', 'inched', 'posted', 'exposes', 'yeller', 'burrows', 'up', 'differentiable', 'um', 'un', 'Abbot', 'spectroscopy', 'unpremeditated', 'yelled', 'storing', 'genial', 'Marr', 'flocked', 'whitens', 'presided', 'McAlister', 'nautical', 'graceful', 'declaimed', 'rekindling', 'stiffly', 'thugs', 'paradox', 'fixing', 'Incarnation', 'enacting', 'Grandma', 'freighter', 'deviate', 'Bagley', 'rollickingly', 'ferried', 'scapegoat', 'trouser', 'besiege', 'lucid', 'prosecution', 'ferries', 'leaflets', 'Bromley', 'pedestrians', 'holes', 'Webber', 'confederation', 'enrolled', 'retardation', 'fresh', 'holed', 'having', 'polypropylene', 'scratch', 'knotted', 'tattered', 'Kleiber', 'soften', 'highways', 'softer', 'Ambiguity', 'limousine', 'Progress', 'Customs', 'Revisited', 'luxuries', 'longstanding', 'edgewise', 'departing', 'young', 'pathos', 'uniqueness', 'Designed', 'Rhythm', 'Bottoms', 'tremor', 'Tories', 'droppings', 'Hanukkah', 'panting', 'reopened', 'Candy', 'nominated', 'mixing', 'precinct', 'unimposing', 'wipe', 'magic', 'stodgy', 'Maurice', 'transmission', 'experiencing', 'eve', 'Surface', 'racy', 'try', 'Manning', 'race', 'discounting', 'trite', 'rack', 'Gilman', 'pledge', 'Turks', 'seventies', 'licensee', 'conjunctions', 'imply', 'Farmer', 'licenses', 'wheat', 'spaghetti', 'leakage', 'graduating', 'Rees', 'Janet', 'drugstores', 'glissade', 'expressed', 'consistently', 'celiac', 'Reed', 'oration', 'Reef', 'sixth', 'expresses', 'delving', 'Tibetan', 'equivalent', 'caper', 'Campagnoli', 'punch', 'balked', 'Prior', 'puckish', 'poverty', 'Bustard', 'Kuhn', 'invented', 'Gibson', 'technical', 'poseur', 'casino', 'bellicosity', 'Immortal', 'Elisha', 'brinkmanship', 'cousins', 'loses', 'buffered', 'altho', 'Leading', 'innocence', 'sameness', 'outcomes', 'sienna', 'sixty', 'immoderate', 'Explains', 'causal', 'salesman', 'bazaar', 'asymptotic', 'fitfully', 'pedagogical', 'Drag', 'instrumentation', 'Eskimo', 'thickeners', 'midday', 'Heretic', 'Eastland', 'shipwreck', 'bobbing', 'conditioners', 'bodily', 'foolishly', 'rubbish', 'lowliest', 'shoelaces', 'Pilots', 'bobbins', 'Truckee', 'practicing', 'effectively', 'challenge', 'Dequindre', 'Written', 'Library', 'hydrolysis', 'prompts', 'Marjorie', 'publications', 'Scandinavians', 'Spirituals', 'plug', 'cherubim', 'slid', 'perfecting', 'Police', 'pawn', 'Borneo', 'pelvic', 'slim', 'bones', 'slit', 'tantrums', 'Ethiopians', 'Policy', 'pelvis', 'bovines', 'paws', 'Brelin', 'Duties', 'shuffled', 'Phelps', 'mumbled', 'occipital', 'delay', 'paternally', 'wolf', 'mysteries', 'palates', 'stammered', 'Reprisals', 'wristwatch', 'graveyards', 'fits', 'Kempe', 'cabbage', 'hawk', 'Cleva', 'Badrawi', 'solidarity', 'tomato', 'Anglicanism', 'sprue', 'counter', 'reminders', 'element', 'commodities', 'writ', 'asserts', 'Greece', 'counted', 'Schramm', 'antelope', 'kittenish', 'interlocutor', 'Nearness', 'Washed', 'emissaries', 'warred', 'Weaving', 'deducing', 'warren', 'Himself', 'decay', 'chosen', 'Shayne', 'compulsions', 'dispose', 'imperfection', 'diluents', 'degrees', 'sedulously', 'therefor', 'Haven', 'Rondo', 'Attorneys', 'outlined', 'innermost', 'prevision', 'Alabamian', 'disrupted', 'rougher', 'sandpaper', 'legendary', 'Social', 'rotation', 'outlines', 'presidential', 'wrangler', 'wallowing', 'Swelling', 'sniffing', 'wrangled', 'truth', 'Rourke', 'Titans', 'tents', 'imbibe', 'Willard', 'sportsman', 'Steiner', 'Overriding', 'stepmothers', 'irritation', 'jagged', 'Grips', 'tenth', 'borderline', 'dismissal', 'Technical', 'superbly', 'motifs', 'evacuation', 'lurched', 'Trying', 'realigning', 'Golda', 'Sukuma', 'graze', 'Canadians', 'regulatory', 'jowl', 'minstrel', 'reposed', 'Point', 'dubbed', 'serenity', 'meals', 'Lascar', 'ultramodern', 'Shearing', 'staggered', 'manuscript', 'collagen', 'metering', 'feasts', 'Blomdahl', 'Program', 'occurrences', 'collages', 'mandatory', 'opportune', 'deceptive', 'Volker', 'Happily', 'lengthily', 'system', 'accretion', 'inalienable', 'exhilarating', 'low', 'fouling', 'gummy', 'Actual', 'aerate', 'chagrin', 'Chalmers', 'Housman', 'depressing', 'emasculated', 'accompaniment', 'unexpended', 'Democratic', 'momentary', 'retraction', 'unamused', 'dresser', 'bother', 'aggressor', 'reacted', 'philologists', 'listeners', 'reproduction', 'dissensions', 'devotion', 'collecting', 'accusing', 'AAA', 'beggar', 'separations', 'trusting', 'gently', 'liner', 'gentle', 'Smithtown', 'defending', 'fourteenth', 'affinities', 'Mutants', 'amphibious', 'hypothalamic', 'babel', 'Rickenbaugh', 'awed', 'mills', 'Loyalty', 'hangover', 'mesenteric', 'lilt', 'astride', 'ashore', 'scooping', 'Decatur', 'accuracy', 'warily', 'Conservatory', 'Weinstein', 'unobtrusively', 'delayed', 'courtesy', 'Curry', 'Godunov', 'gussets', 'segment', 'chien', 'Risk', 'hypocrite', 'socialistic', 'locust', 'face', 'screechy', 'Aquinas', 'mechanical', 'Ruger', 'painting', 'fact', 'ignite', 'Shawnee', 'bondsman', 'Paris', 'proclivities', 'disbanded', 'Daley', 'bring', 'underling', 'economist', 'brink', 'decade', 'principal', 'redirect', 'Cusa', 'burnished', 'noir', 'Meanwhile', 'conciliate', 'scurrilous', 'should', 'buttons', 'spontaneity', 'Strong', 'indecisiveness', 'meant', 'handle', 'listened', 'bonds', 'impinging', 'muttering', 'Dudley', 'listener', 'unalterable', 'telephoning', 'Nightingale', 'defenseless', 'shaping', 'generalist', 'Once', 'smash', 'Because', 'metabolite', 'Jacobite', 'Connally', 'glossed', 'summon', 'intermission', 'basking', 'favoring', 'interiors', 'correlations', 'Cretaceous', 'textiles', 'Saxton', 'mien', 'taunting', 'Gallup', 'piston', 'pistol', 'disgruntled', 'Adaptation', 'ends', 'industrious', 'butts', 'hogging', 'strides', 'reappears', 'configuration', 'absented', 'absentee', 'whereon', 'observable', 'Alsing', 'invited', 'LaGuardia', 'monograph', 'Holyoke', 'streams', 'trumps', 'Harvie', 'Scribe', 'invites', 'horseflesh', 'Inspiring', 'Her', 'stranding', 'butane', 'Girls', 'Hey', 'Hez', 'distil', 'Squatting', 'whispering', 'winning', 'undependable', 'outsider', 'Monmouth', 'steadiness', 'Pensive', 'Phone', 'Samuels', 'Kinda', 'compensating', 'utilizing', 'Stations', 'acclamation', 'Whence', 'hindquarters', 'mannequin', 'Knights', 'toasting', 'Diman', 'Pledge', 'coals', 'runway', 'sentimentalize', 'bombproof', 'bathtub', 'discoveries', 'unpaired', 'Warfield', \"America's\", 'concerted', 'whitewashed', 'insanely', 'site', 'adventures', 'hardware', 'Fitting', 'vs', 'demanded', 'adultery', 'tenor', 'sits', 'situ', 'descriptive', 'Burle', 'Veterans', 'fashioning', 'concealed', 'mustiness', 'showerhead', 'buffoon', 'entail', 'outbreak', 'Burly', 'Loans', 'Carmer', 'Danny', 'infinity', 'emotionally', 'drink', 'Grey', 'v.', 'cafeterias', 'installments', 'fecundity', 'Greg', 'architectures', 'Midas', 'infinite', 'Carmen', 'pleasantly', 'Garland', 'shacks', 'enrage', 'Need', 'drawing', 'Fulke', 'mastic', 'immortalized', 'Fuming', 'flesh', 'Retiring', 'alertly', 'footbridge', 'Adonis', 'Negroes', 'Yugoslavia', 'roomy', 'extempore', 'bibliography', 'Corcoran', 'Babylonians', 'Company', 'trample', 'Darius', 'clipped', 'exempt', 'punchbowl', 'vain', 'Heroic', 'Pettibone', 'Clemente', 'government', 'unfenced', 'unbalance', 'Clements', 'supervise', 'whopping', 'airports', 'blockages', 'passable', 'fools', 'Engineers', 'Decca', 'Schwartz', 'chairs', 'Creed', 'Unemployment', 'shuddered', 'philanthropies', 'warned', 'nerves', 'pretest', 'inexperienced', 'therapeutic', 'amendment', 'Dolmabahce', 'Arrowhead', 'Addition', 'retelling', 'algebraically', 'daylight', 'pacifistic', 'crudely', 'fantasist', 'Eugene', 'trainman', 'cruelest', 'bedding', 'sketching', 'accents', 'demonstrators', 'anguished', 'Montana', 'therapists', 'blowing', 'voluptuous', 'pear', 'tidewater', 'staccatos', 'adversary', 'counties', 'Alsatians', 'reimbursed', 'podium', 'whistled', 'merited', 'Dependent', 'Havilland', 'Payments', 'centrist', 'Speakers', 'intermediates', 'pussy', 'longings', 'screamed', 'Labour', 'lung', 'protozoa', 'Creole', 'larvae', 'Frauds', 'Dangling', 'larval', 'restricts', 'roofed', 'Listening', 'Epitaph', \"We'll\", 'Groth', 'complacency', 'Mondrian', 'Hutchinson', 'lowered', 'valuation', 'proverbs', 'disbursement', 'compute', 'Diana', 'Fichte', 'gravitational', 'Diane', 'triumphant', 'imbalances', 'convince', 'leashes', 'Leverkuhn', 'distribution', 'baptism', 'appraise', 'rightly', 'retina', 'contribute', 'rubble', 'availabilities', 'inn', 'ink', 'programmer', 'Waltham', 'renowned', 'Families', 'compressive', 'Bearden', 'trials', 'Utah', 'Yesterday', 'scholarly', 'lookup', 'Luechtefeld', 'incorrigible', 'predominant', 'Pompadour', 'reckless', 'semblance', 'Acquiring', 'Vitus', 'Jimenez', 'vignette', 'Maturity', 'in.', 'cores', 'Congressman', 'capers', 'veil', 'vein', 'ghost', 'Gargle', 'Boland', 'moneys', 'tinkling', 'OOH', 'hedges', 'write', 'handymen', 'silica', 'unspeakable', 'frolics', 'philantrophy', 'Sulzberger', 'desirable', 'reactants', 'blisters', 'extrapolates', 'controversial', 'mansion', 'interspecies', 'defraud', 'speeded', 'Vince', 'Claus', 'Langford', 'obsoleting', 'regal', 'Shirley', 'sped', 'chill', 'whack', 'Rakestraw', 'Patriarch', \"driver's\", 'shoot', 'yanking', 'begrudge', 'expectable', 'wholeness', \"isn't\", 'tagging', 'porpoises', 'ceased', 'Pettigrew', 'pinch', 'Gauer', 'nigger', 'red', 'Miniver', 'Kinsey', 'Sermon', 'chew', 'speck', 'preached', 'Claude', 'bubbling', 'midsummer', 'horn', 'chef', 'preaches', 'hors', 'dogtrot', 'subaltern', 'decadence', 'Available', 'meekly', 'Partly', 'deliberate', 'airmen', 'consequent', 'Amazon', 'glaciers', 'frank', 'zoomed', 'Twilight', 'Bourgeois', 'Faced', 'crunch', 'festive', 'revels', 'kindred', 'leitmotif', 'thrombosed', 'Faces', 'leitmotiv', 'Blois', 'watchers', 'daughter', 'Shea', 'items', 'booklists', 'Blanchard', 'absorbency', 'picturing', 'Shep', 'browsing', 'calculators', 'anarchist', 'Floridians', 'doleful', 'glittering', 'remembering', 'envious', 'Unhappily', 'Jet', 'infield', 'eyeful', 'highly', 'Where', 'Play', 'Jed', 'hindsight', 'Inferno', 'total', 'Jen', 'rancho', 'Reporter', 'alligator', 'Buffalo', 'manipulators', 'Lawn', 'negative', 'mightiest', 'memoranda', 'Pezza', 'main', 'Hamiltonian', 'infusion', 'award', 'Teams', 'posse', 'zeroed', \"must've\", 'compatability', 'ineptness', 'player', 'theories', 'oxide', 'Chambre', 'Walsh', 'transparency', 'Developed', 'passivity', 'nozzle', 'Capital', 'antislavery', 'Bruno', 'validated', 'acrobatic', 'tornadoes', 'farce', 'Welsh', 'agony', 'Leger', 'foulest', 'rookie', 'hostler', 'operatic', 'beach', 'Hancock', 'taverns', 'pizza', 'Tyranny', 'fever', 'coined', 'Cicero', 'movable', 'Flatness', 'Pankowski', 'strategists', 'rephrased', 'austere', 'hasty', 'interlining', 'retort', 'Rulers', 'haste', 'Folk', 'extirpating', 'Vincent', 'Hustler', 'salon', 'infested', 'Colonial', 'finest', 'frequency', 'Meister', 'rebellion', 'patronized', 'bombing', 'appeasement', 'highlights', 'avocado', 'haphazard', 'Salu', 'awfulness', 'Velasquez', 'workable', 'savory', 'Orcutt', 'Tsvetkov', 'Fairview', 'versus', 'Mercy', 'stabilities', 'bans', 'Manpower', 'Analysis', 'reagent', 'bang', 'cautious', 'Merce', 'bank', 'affianced', 'rocky', 'franks', 'tampering', 'Librarians', 'energized', 'Irina', 'slavery', 'snobbish', 'rocks', 'improvements', 'profusely', 'Frankfurter', 'hurdle', 'ologies', 'cornbread', 'corpsman', 'lifted', 'artfulness', 'kneels', 'logs', 'mangled', 'Antoine', 'Djakarta', 'loaders', 'whining', 'disloyalty', 'characteristic', 'hooked', 'Guns', 'remorse', 'Complementing', 'medicine', 'impatience', 'imperialists', 'dishwashers', 'veto', 'Tomkins', 'Havisham', 'standard', 'campaigns', 'ecliptic', 'Cautiously', 'collation', 'thirties', 'elegance', 'morass', 'created', 'September', 'watercolorist', 'Torah', 'creates', 'Audits', 'brucellosis', 'Gamecock', 'Bridget', 'Gen.', 'guzzle', 'delicious', 'Quod', 'thoughtfully', 'navigator', 'Wives', 'Committeemen', 'centrifuge', 'Uncle', 'observations', 'snags', 'farming', 'crunched', 'filibuster', 'pinpointing', 'Masonic', 'grandchildren', 'happily', 'Quoting', 'diversified', 'inexact', 'Edge', 'tabloids', 'corresponded', 'ubiquitous', 'Gene', 'Adnan', 'intrusion', 'scenes', 'seated', 'rationalization', 'TUC', 'Buckman', 'minus', 'effectuate', 'navigate', 'constellations', 'Kelseyville', 'stalls', 'Depot', 'quieter', 'Christian', 'necktie', 'laden', 'latter', 'crinkles', 'envisions', 'quieted', 'luxury', 'transmit', 'correlating', 'warmish', 'insulated', 'maiden', 'timidity', 'Frozen', 'boxcar', 'Computers', 'viscosity', 'Ryder', 'exercised', 'anatomy', 'involving', 'forethought', 'exercises', 'Andrus', 'Went', 'Hwang', 'demoralizes', 'intergroup', 'calculated', 'alumni', 'Scene', 'Emperors', 'leaflet', 'missed', 'demoralized', 'Frostbite', 'profundity', 'voting', 'responded', 'Missiles', 'Monitor', 'Opaque', 'doped', 'religions', 'Ganges', 'Anne', 'unattached', 'enjoyed', 'Anna', 'Buxtehude', 'Dec.', 'foraging', 'painfully', 'implementation', 'Judsons', 'layman', 'Solicitor', 'deepest', 'adequate', 'colds', 'personality', 'Fiscal', 'loved', 'stasis', 'vowels', 'Ladies', 'cardinals', 'Quick', 'nasty', 'prefaced', 'Bahia', 'furnishings', 'Concertante', 'Fife', 'winos', 'covering', 'idioms', 'unshakeable', 'financially', 'complimenting', 'Functionally', 'Astonishingly', 'scours', 'w.', 'initialed', 'Foster', 'projections', 'damnation', 'cattle', 'Longhorn', 'Hardly', 'Tension', 'Indonesian', 'Jensen', 'Comprehensive', 'scoffing', 'Forgot', 'quadrillion', 'Water', 'unable', 'cellist', 'contraband', 'Huxley', 'Kohnstamm', 'we', 'terms', 'admiring', 'overestimates', 'McFee', 'wt', 'admirals', 'authorizations', 'convertible', 'overestimated', 'linkage', 'electing', 'foes', 'Heavily', 'brag', 'brad', 'exceeds', 'homesickness', 'Cokes', 'bran', 'Sistine', 'pulleys', 'gable', 'freakish', 'soap', 'excess', 'seizure', 'narcosis', 'Colmans', 'interrelations', 'constructively', 'Pat', 'frenetic', 'zigzagging', 'headlights', 'Erhart', 'unhappily', 'condemned', 'Seemingly', 'drafting', 'accentuate', 'ransacking', 'Pay', 'warmth', 'duties', 'poring', 'droplets', 'Coronado', 'applied', 'tide', 'chicanery', 'publicly', 'waked', 'launcher', 'launches', 'stubs', 'Sicily', 'Messengers', 'air', 'aim', 'harrumphing', 'applies', 'aid', 'property', 'launched', 'paeans', 'psalmist', 'skipping', 'Carpenters', 'uplift', 'intellect', 'grandiose', 'crawlspace', 'perform', 'Willcox', 'alveoli', 'Pratt', 'indirection', 'sheltered', 'Ike', 'hierarchies', 'imperiously', 'crevices', 'Amaral', 'palpably', 'Activities', 'Institute', 'disagreement', 'confiding', 'redneck', 'palpable', 'prescribed', 'successors', 'singleness', 'peacocks', 'contact', 'prescribes', 'tormenting', 'analyzable', 'unified', 'Conversion', 'kale', 'enslaving', 'athletic', 'gods', 'Missouri', 'Editors', 'Tuttle', 'farther', 'unifies', 'Philippe', 'unique', 'lineman', 'Philippi', 'eying', 'exalt', 'belongs', 'board', 'requiring', 'featured', 'expelled', 'editorials', 'boxed', 'sloganeering', 'Tampering', 'troika', 'Morning', 'Try', 'Flea', 'boxes', 'boxer', 'bastards', 'thatches', 'lymphoma', 'Hondo', 'retreat', 'disinclination', 'bogeys', 'Regarding', 'aimed', 'honored', 'honoree', 'lashes', 'Caldwell', \"King's\", 'eyeing', 'lashed', 'unless', 'clamps', 'denies', 'somersaulting', 'nuzzled', 'indoctrination', 'denied', 'Judea', 'beating', 'haberdasheries', 'sensationalism', 'hare', 'pose', 'Commencing', 'illustration', 'constructive', 'Methuselah', 'post', 'Explorer', 'chafe', 'Sesame', 'rallying', 'Strickland', 'Aquidneck', 'coral', 'months', 'nonce', 'sizzling', 'townsman', 'Cadillac', 'incur', 'eight', 'octopus', 'soldiering', 'contains', 'ruefulness', 'peppered', 'bound', 'Tipperary', 'gearing', 'crags', 'unwired', 'Judging', 'croaks', 'retrenching', 'Taos', 'strangely', 'wan', 'travelogues', 'Becket', 'people', 'Pa.', 'way', 'wax', 'Elena', 'innovators', 'was', 'war', 'tints', 'pirouette', 'becoming', 'sundry', 'forgetful', 'taken', 'Belleville', 'restive', 'true', 'comprehending', 'Left', 'nationwide', 'absent', 'adjectives', 'Menuhin', 'invincible', 'quilted', 'flirtatious', 'liens', 'theatregoer', 'attuned', 'Patience', 'complaint', 'anew', 'Lautner', 'inquiring', 'emit', 'promises', 'medication', 'Mfg.', 'computing', 'nudity', 'Purvis', 'sycophantically', 'muscular', 'lumped', 'promised', 'Cut', 'incursion', 'Donald', 'topped', 'porosity', 'polymyositis', 'Jolliffe', 'frolic', 'grimly', 'autonomic', 'brothers', 'juices', 'welcome', 'Hillsdale', 'complains', 'indenture', 'concurrent', 'remarrying', 'reflexes', 'abridgment', 'swathed', 'pacer', 'paces', 'necessitates', 'respectable', 'collared', 'WBAI', 'loyal', 'classmate', 'pacem', 'necessitated', 'precedent', 'paced', 'consul', 'unmixed', 'Gotham', 'Marsha', 'grateful', 'adamantly', 'creative', 'Yamabe', 'witty', 'certainly', 'Sept.', 'Bold', 'shrinkage', 'Desolation', 'watchmen', 'unhappiest', 'rhythm', 'Tapley', 'division', 'diddling', 'Fritzie', 'decking', 'Gentile', 'ferociously', 'Kodiak', 'entries', 'hotly', 'Jersey', 'consorted', 'respiratory', 'Leningrad', 'Just', 'presented', 'respirators', 'anisotropy', 'Duchess', 'discrete', 'perceives', 'woven', 'affiliation', 'scarcity', 'Finding', 'helpless', 'perusing', 'Bert', 'Assyrian', 'curse', 'appear', 'Georgian', 'Bregman', 'pleasingly', 'havoc', 'uniform', 'SH', 'Demonstrating', 'Imagine', 'illustrations', 'Along', 'Bern', 'Digges', 'Molten', 'Momoyama', 'vocalists', 'oscillating', 'featherbedding', 'Yucatan', 'fractious', 'suckers', 'Deadlock', 'Alvear', 'exemption', 'coerced', 'impatiently', 'Rivers', 'depositions', 'flamed', 'pictorial', 'IND', 'Staggeringly', 'homecoming', 'probable', 'ions', 'halfbacks', 'paragon', 'Murrow', 'Mondays', 'penalized', 'sufferers', 'subjectivity', 'Coolidge', 'terraced', 'stingy', 'prove', 'beneficence', 'aborigine', 'BSN', 'ca.', 'ripening', 'balking', 'selects', 'Pity', 'hesitates', 'commissioner', 'dramatizing', 'F', 'Orchestra', 'repentance', 'Pitt', 'absorptions', 'throbbed', 'commissioned', 'hesitated', 'fingered', 'Fyodor', 'organizations', 'migrants', 'Lied', 'indescribable', 'car', 'Magnetic', 'cap', 'Lien', 'cat', 'Prix', 'hardest', 'renders', 'can', 'cab', 'heart', 'citizens', 'hears', 'attribute', 'stoutly', 'topic', 'heard', 'Stephane', 'o', 'wardroom', 'clothing', 'restitution', 'redundancy', 'scrimmaged', 'dispositions', 'freezer', 'freezes', 'beat', 'flank', 'Gain', 'Marshes', 'Pericles', 'dominance', 'nonstop', 'deviated', 'Rumanian', 'whacked', 'shooter', 'Always', 'residues', 'pasting', 'Viet', 'disqualified', 'View', 'Ablard', 'forged', 'Whitfield', 'affronting', 'Upstairs', 'Metropolitan', 'priestly', 'Toss', 'accelerated', 'handhold', 'worsens', 'Recovery', 'deactivated', 'Texoma', 'displayed', 'inheres', 'bewitching', 'playful', 'cotter', 'Strength', 'statistical', 'statements', 'irruptions', 'Buying', 'culmination', 'forma', 'willow', 'homogenization', 'Compress', 'vicinity', 'hewed', 'forms', 'exacerbates', 'gaging', 'unlovely', 'chattering', 'pruned', 'Rogers', 'Birch', 'Peralta', 'tails', 'prunes', 'unimpressive', 'slippage', 'Friar', 'denominational', 'enacted', 'lineage', 'Milt', 'Musicale', 'intrigues', 'chuckled', 'Uhles', 'inaccuracy', 'chuckles', 'intrigued', 'bursts', 'Robby', 'furtive', 'Alcorn', 'Milk', 'Airmail', 'civilizing', 'directing', 'Lower', 'Stops', 'carryovers', 'Abra', 'happen', 'Suzuki', 'amusement', 'album', 'shadowing', 'irony', 'worshiped', 'Mimieux', 'looking', 'rational', 'ruinous', 'Mo.', 'thong', 'cars', 'punks', 'Bankers', 'Propriety', 'Boxwood', 'counteracted', 'obligation', 'ominous', 'axioms', 'card', 'plodded', 'vestige', 'selections', 'deprivation', 'Hungary', 'entrusted', 'Linked', 'sarcastically', 'madam', 'indecent', 'Dares', 'directly', 'Templeman', 'message', 'Hand', 'creche', 'farthest', 'slaked', 'truthfully', 'checked', 'attractions', 'Investigations', 'waned', 'crossings', 'Whaddya', 'solstice', 'checker', 'tragic', 'yip', 'blackening', 'national', 'nutrition', 'expounding', 'Segura', 'taxation', 'triplets', 'quam', 'Hobart', 'Flier', 'Nairobi', 'television', 'Mears', 'threads', 'monopolies', 'Commissary', 'incepted', 'movingly', 'respectability', 'Korman', 'surfeited', 'investors', 'Insofar', 'slat', 'Philadelphia', 'slap', 'Maid', 'slam', 'distorted', 'Mail', 'Main', 'slab', 'Naples', 'undercurrent', 'regenerating', 'overcoming', 'Okinawa', 'USIS', 'fascination', 'socked', 'deux', 'Aggie', 'beardless', 'dread', 'Wappinger', 'Hillyer', 'Mijbil', 'price', 'crafts', 'phases', 'KSAN', 'eatings', 'sightseers', 'Constantine', 'rationale', 'successive', 'mullah', 'Childhood', 'bands', 'Constantino', 'hurler', 'forever', 'Truman', 'renal', 'appraisals', 'hurley', 'Goldberg', 'hurled', 'Preface', 'incorporation', 'duplication', 'typically', 'laureate', 'rambling', 'operagoers', 'mains', 'fifty', 'resurrecting', 'Hoopla', 'earthworm', 'molars', 'Femmes', 'fifth', 'Southwest', 'Chautauqua', 'upgrade', 'scatterbrained', 'stained', 'saints', 'jolt', 'Egon', 'Majdanek', 'only', 'Yuri', 'Fuhrmann', 'overwritten', 'cannon', 'truly', 'loath', 'cannot', 'symmetrically', 'unfastened', 'manuscripts', 'vaporization', 'celebrate', 'denting', 'Haydon', 'Capitoline', 'imbecile', 'keyed', 'craftsmanship', 'effectual', 'losers', 'quickie', 'gleamed', 'Arbor', 'nonspecifically', 'physically', 'elected', 'asleep', 'Ferment', 'sport', 'kinetic', 'exterminating', 'palette', 'incite', 'Cellulose', 'vanguard', 'Miners', 'Mikhail', 'Leeds', 'Rostagno', 'between', 'Fauntleroy', 'Heffer', 'Study', 'Golly', 'Scenic', 'queerest', 'coolheaded', 'Burmese', 'comeback', 'receded', 'Thaxter', 'perceptions', 'installation', 'taxpayer', 'propulsions', 'reinterpreted', 'pertain', 'monk', 'enabling', 'Through', 'aura', 'newfound', 'Viale', 'Englishman', 'Sir', 'Pictures', 'deviating', 'Viall', 'Eager', 'proved', 'Midwest', 'evangelists', 'Variety', 'informed', 'territorial', 'maladroit', 'jerks', 'Stick', 'Tanks', 'prurient', 'Schools', 'linguistic', 'jerky', 'patriarchal', 'Berth', 'Berto', 'coccidiosis', 'founders', 'Krakow', 'Ravine', 'Pasley', 'realities', 'Arterial', 'Sic', 'prehistoric', 'these', 'wealthiest', 'accommodating', 'trick', 'notoriety', 'crumbly', 'Packers', 'thrillers', 'ein', 'polymer', 'orientation', 'zenith', 'alcoholic', 'commander', 'canceled', 'pleads', 'morphologic', 'commanded', 'Flugel', 'AIA', 'thrills', 'unshakable', 'Whiteleaf', 'intelligently', 'figuring', 'followers', 'Caron', 'Carol', 'numerals', 'ominously', 'closest', 'McDaniel', 'Rowswell', 'anecdotal', 'favorites', 'attributes', 'corpulence', 'Handle', 'validate', 'enchanting', 'complained', 'alfresco', 'bondage', 'Aida', 'constitutional', 'breezy', 'Dash', 'Rep.', 'Coopers', 'breeze', 'Lubell', 'glorious', 'Hardwicke', 'Aids', 'comment', 'entertainments', 'aeration', 'transmitting', 'emerald', 'valuable', 'shouts', 'Examination', 'ounces', 'Senior', 'Niepce', 'mingling', 'flood', 'domicile', 'mirrored', 'curiae', 'Koop', 'Abruptly', 'Solving', 'overturning', 'spectacular', 'rules', 'ruler', 'repetitions', 'calendars', 'Headquarters', 'briefest', 'overlooks', 'listening', 'culprits', 'recipient', 'Photek', 'externalization', 'proponent', 'developers', 'conversing', 'dislodged', 'persuasions', 'collective', 'Langeland', 'greeting', 'miracle', 'oblivion', 't', 'occasions', 'steamship', 'Mare', 'Indochina', 'circumscribing', 'Marc', 'Sokolsky', 'Mark', 'Mart', 'Marv', 'Alfred', 'Mars', 'Marx', 'Mary', 'bless', 'passions', 'Lilliputian', 'Yakima', 'earning', 'Ormsby', 'ethos', 'cleansed', 'Earl', 'unplumbed', 'Spokane', 'Stranger', 'Crunch', 'Mar.', 'blest', 'unease', 'uneasy', 'habe', 'Earp', 'throw', 'Ears', 'supervises', 'confederations', 'trekked', 'previsions', 'supervised', 'wold', 'invested', 'Knowlton', 'arabic', 'faulted', 'stratagem', 'statuette', 'inclusion', 'bumblebee', 'numerically', 'skunks', 'Afghans', 'Bagh', 'restless', 'lob', 'supervising', 'log', 'removing', 'retching', 'lop', 'Stirring', 'lot', 'groan', 'drains', 'exclusiveness', 'Tillich', 'sideboards', 'Stall', 'upbeat', 'reorganization', 'Century', 'receptive', 'quantitatively', 'Highways', 'Pogue', 'sadness', 'postures', 'beliefs', 'illnesses', 'Judges', 'Asks', 'statesmanlike', 'Seaborg', 'ASPIS', 'reliability', 'Gorgeous', 'hospitals', 'statuses', 'inclusiveness', 'heave', 'Survival', 'snuffer', 'snuffed', 'woeful', 'Intense', 'suites', 'paranoiac', 'Country', 'esthetic', 'drift', 'peas', 'Hyena', 'Plymouth', 'preconditions', 'peak', 'suited', 'redecorating', 'tendencies', 'banners', 'fiscal', 'assert', 'inevitability', 'Fromm', 'untidy', 'bystander', 'requisition', 'unnatural', 'Licenses', 'detonating', 'banishment', 'precondition', 'skeleton', 'codification', 'peacock', 'groundwork', 'Fernand', 'victoriously', 'Cricket', 'Nowacki', 'Ella', 'federalize', 'foster', 'erects', 'fizzled', 'fervor', 'flattening', 'daises', 'Passavant', 'Salk', 'Anglican', 'decreeing', 'maladjusted', 'rehearing', 'Tortoises', 'Squint', 'censuses', 'deficient', 'Barnett', 'Oakes', 'unfailingly', 'Reedville', 'vulpine', 'cookies', 'palazzos', 'colossal', 'unheard', 'Grandmother', 'vivacious', 'gyration', 'keening', 'rectangular', 'Auxiliary', 'ecclesiastical', 'Singles', 'Max', 'thickness', 'SanAntonio', 'insomniacs', 'proselytizing', 'acknowledgments', 'ciphers', 'Braves', 'loose', 'modify', 'mendacious', 'Sniffing', 'determinism', 'selective', 'Newburyport', 'advisable', 'invitational', 'Jews', 'vegetarian', 'whine', 'reason', 'unproved', 'fired', 'Korngold', 'Milledgeville', 'Simba', 'Madding', 'Senese', 'invalidate', 'Gantry', 'family', 'grindings', 'courtier', 'Jacobs', 'fatuous', 'Alvarez', 'lurked', 'toys', 'gunmen', 'Studebaker', 'topsoil', 'khan', 'takes', 'probabilities', 'turnout', 'Agrippa', 'slants', 'abstaining', 'mysterious', 'Undoubtedly', 'entails', 'chestnut', 'stylistic', 'instrumental', 'excuse', 'impulse', 'factories', 'gauche', 'offender', 'unrealistic', 'breezes', 'offended', 'Wherefore', 'Comfortably', 'adjudging', 'fronted', 'Pentecostal', 'situs', 'history', 'fundamentalist', 'deducting', 'visage', 'Orchestre', 'Munger', 'stinging', 'northernmost', 'archipelago', 'Liberated', 'fundamentalism', 'magenta', 'species', 'hamburgers', 'firmly', 'Federation', 'menus', 'lift', 'Clerks', 'Polaris', 'Aldridge', 'sneak', 'finality', 'gardeners', 'invasion', 'telephoned', 'preferential', 'Southland', 'spectra', 'racetrack', 'inundations', 'negligible', 'telephones', 'deterioration', 'microseconds', 'banks', 'mourn', 'dispersing', 'redcoat', 'dream', 'crafty', 'fatigued', 'materialistic', 'help', 'hierarchy', 'progressing', 'slouch', 'urine', 'soon', 'held', 'soot', 'helm', 'hell', 'Advise', 'Michilimackinac', 'Hartselle', 'fanning', 'skirmishing', 'carpeted', 'Marlborough', 'teeming', 'Giacomo', 'deformation', 'Pilot', 'acculturated', 'groping', 'nestled', 'indefatigable', 'Meriwether', 'ye', 'reigning', 'anticipated', 'geopolitical', \"you've\", 'anticipates', 'ys', 'irrationality', 'cadenza', 'slicker', 'erection', 'chamfer', 'imprisoned', 'Culmone', 'Ierulli', 'intervene', 'Lippi', 'stopped', 'blooms', 'Council', 'Ponchielli', 'minstrels', 'Battalion', 'sketches', 'End', 'Peasants', 'undetectable', 'positioned', 'sketched', 'Cozen', 'ethic', 'dominates', 'handless', 'gardened', 'visions', 'surrounded', 'receptions', 'Hawthorne', 'publish', 'trusts', 'Packing', 'dominated', 'myocardium', 'bargain', 'issue', 'outrun', 'gardener', 'dictatorial', 'team', 'Tucson', 'algae', 'curtailed', 'launch', 'perceptible', 'persuading', 'brazenly', 'concessionaires', 'whitetail', 'Brailsford', 'beggars', 'heartiest', 'blush', 'assign', 'beggary', 'Apollinaire', 'consultations', 'buffaloes', 'heritages', 'knocking', 'arsenal', 'unaccompanied', 'dominating', 'maple', 'Centrally', 'arbitration', 'Felons', 'wonderful', 'Gloria', 'Goddammit', 'soprano', 'scheme', 'Transparent', 'schema', 'selling', 'Lummus', 'Vocal', 'contradictorily', 'signaling', 'gnomon', 'authors', 'norms', 'Algol', 'ulcerated', 'apprentice', 'Guevara', 'tunic', 'uncolored', 'ouster', 'Schuyler', 'banana', 'alluding', 'battering', 'S.C.', 'ousted', 'withered', 'God', 'Gog', 'phosphates', 'Goa', 'Got', 'cumbersome', 'Kalonji', 'sidewise', 'constructions', 'evasion', 'trance', 'N.L.', 'salable', 'officers', 'camouflage', 'swallowing', 'applauded', 'Developments', 'defends', 'experienced', 'unstuck', 'unifications', 'plunder', 'Slipping', 'Massacres', 'bridle', 'Aboveground', 'Concepts', 'sequestration', 'liniments', 'Bridge', 'puddings', 'loopholes', 'popularity', 'unreasonable', 'unreasonably', 'reground', 'Springs', 'usual', 'Gabrielle', 'perseverance', 'axes', 'humid', 'languid', 'bespeaks', 'planeload', 'scorched', 'Histories', 'barbell', 'scriptural', 'registers', 'pocketed', 'flicked', 'barking', 'current', 'northern', 'paranoid', 'unwillingly', 'striptease', 'hardener', 'grandiloquent', 'hardened', 'scooted', 'Duffy', 'policing', 'antithetical', 'Notes', 'imparted', 'speckled', 'While', 'grew', 'speckles', 'isolationism', 'Noted', 'chimney', 'molten', 'catches', 'catcher', 'Jannsen', 'millenium', 'voyageurs', 'alteration', 'palatability', 'Councilman', 'withdrawal', 'poisoned', 'courteous', 'anticipate', 'Tahoe', 'cavorted', 'irredeemably', 'Rosen', 'schizophrenic', 'Cheyenne', 'ramming', 'lynched', 'Boltzmann', 'despair', 'Broil', 'impiety', 'conditions', \"years'\", 'Coupal', 'Golfers', 'invisibly', 'statistically', 'unconscious', 'amused', 'keyboard', 'endogamous', 'Egerton', 'invisible', 'proportionally', 'Mardi', 'Hohlbein', 'toward', 'secrets', 'prepubescent', 'Infantry', 'Schaack', 'Sherlock', 'weatherstrip', 'Graham', 'wagging', 'Friday', 'Productivity', 'yards', 'hackers', 'Turkish', 'puritan', 'woodsmoke', 'cavalrymen', 'Haney', 'baptisms', 'spotting', 'Way', 'vessel', 'complied', 'Was', 'War', 'stamp', 'dams', 'damp', 'Henrik', 'Capt.', 'psychotherapists', 'California', 'coolant', 'collected', 'urgently', 'dame', 'generating', 'heaviest', 'Allies', 'storylines', 'Allied', 'recalled', 'disruptive', 'heute', 'reenact', 'cabdriver', 'chinless', 'assigning', 'dialing', 'loon', 'Late', 'loom', 'soiled', 'look', 'Taste', 'socialist', 'rope', 'socialism', 'Alfonso', 'endanger', 'loot', 'loop', 'requisitioned', 'reads', 'Dictator', 'thereunder', 'Esquire', 'Roloff', 'hyperbole', 'Foley', 'predominates', 'fedora', 'Born', 'repudiated', 'discredit', 'predominated', 'hocking', 'Vientiane', 'Bombus', 'Ariadne', 'conflict', 'Gerome', 'Rushmore', 'Reactionaries', 'censure', 'jackbooted', 'Indication', 'decency', 'Glendale', 'Fleeting', 'assortment', 'vitiated', 'idling', 'herewith', 'older', 'docked', 'dryer', 'methode', 'reclaim', 'pricks', 'Incidentally', 'secession', 'olden', 'grossly', 'weakest', 'chore', 'chord', 'migratory', 'Faneuil', 'festivus', 'morsel', 'expansionist', 'Opposite', 'cocky', 'Anabel', 'startups', 'uselessly', 'retirement', 'Dauntless', 'Venusians', 'decayed', 'exercising', 'Treasurer', 'weightlessness', 'ballots', 'remaining', 'lacking', 'audibly', 'Tea', 'Copernican', 'game', 'ballgowns', 'wiser', 'diehards', 'wings', 'outright', 'Alexandria', 'Friedrich', 'Previously', 'stimulatory', 'Ensign', 'Rodent', 'Fink', 'byproduct', 'Finn', 'bump', 'Fine', 'Find', 'Fing', 'mathematical', 'dizzily', 'Carols', 'Plains', 'Caroli', 'gamebird', 'Economy', 'savage', 'paginated', 'Readings', 'providence', 'Massachusetts', 'funnels', 'minimal', 'heed', 'Performers', \"They've\", 'stem', 'step', 'outlanders', 'interpretative', 'stew', 'lasts', 'denominationally', 'taboo', 'predictability', 'shine', \"It's\", 'reappear', 'experiences', 'classics', 'shiny', 'Hackstaff', 'miracles', 'DiLuzio', 'misbehavior', 'panders', 'within', 'nonsense', 'Ruth', 'Institution', 'smells', 'behaving', 'renewal', 'Keys', 'Shylock', 'Katharine', 'disallowed', 'manufacture', 'harem', 'duly', 'collapsed', 'inept', 'specialty', 'psychoactive', 'Tommy', 'ginkgo', 'properly', 'Resuming', 'segregation', 'Switzerland', 'Quixote', 'Schott', 'dull', 'bevel', 'persisting', 'intuitive', 'sifting', 'accustomed', 'happiness', 'responsively', 'Florence', 'Editor', 'Ich', 'abruptness', 'mindful', 'Viennese', 'Nuovo', 'Oedipal', 'Hampshire', 'Kitchin', 'unwise', 'psychopath', 'kidney', 'sullen', 'anthology', 'Spartan', 'spokesmen', 'resistances', 'nabbed', 'rewriting', 'Yehudi', 'jesting', 'Italics', 'atheromatous', 'potentialities', 'pretended', 'regulations', 'sluicing', 'validity', 'ruthlessly', 'reservation', 'neuropathology', 'Automatically', 'thundered', 'independently', 'Statues', 'Makepeace', 'zooming', 'physics', 'sounder', 'wellbeing', 'dunes', 'Wissahickon', 'Fredrico', 'banishing', 'Village', 'megawatt', 'berries', 'sounded', 'hyaline', 'pinioned', 'underbrush', 'Molinari', 'cheerful', 'desserts', 'idolized', 'Righteous', 'phenomenon', 'excludes', 'Kraemer', 'Ballroom', 'vacuous', 'aerator', 'stave', 'Award', 'arrogance', 'shack', 'shackled', 'Registry', 'excluded', 'Rifle', 'suite', 'Herridge', 'Weider', 'virtuous', 'flicker', 'Reorganization', 'murderous', 'Canadian', 'miners', 'Ministers', 'quelling', 'valued', 'trough', 'cellular', 'polyphosphate', 'crowed', 'Oum', 'excruciating', 'mercurial', 'ornately', 'assignments', 'exasperatingly', 'Rosburg', 'Zodiacal', 'picker', 'compensated', 'picket', 'oz.', 'encroachment', 'boots', 'waking', 'compensates', 'booth', 'picked', 'decrees', 'zu', 'climes', 'sausage', 'Fueloil', 'Oceanside', 'colonel', 'bluntly', 'scorcher', 'graybeard', 'America', 'denunciations', 'accomplices', 'meandering', 'Cossacks', 'commercial', 'quell', 'Baird', 'Our', 'canals', 'Revere', 'Lying', 'thermocouples', 'indivisible', 'chant', 'haunts', 'Menas', 'whisking', 'buckwheat', 'animism', 'nameless', 'hoss', 'wig', 'felled', 'Ritz', 'terrorizing', 'win', 'wil', 'assertion', 'surpluses', 'feller', 'Rite', 'unpleasantly', 'Lena', 'Breathing', 'crap', 'agreeably', 'Lend', 'remains', 'Leni', 'Papa', 'adequacy', 'frogs', 'Membership', 'ASPR', 'agreeable', 'saddlebags', 'balustrade', 'Papp', 'cheeks', 'retribution', 'started', 'Seagoville', 'unfaithful', 'disabling', 'starter', 'Monterey', 'crosses', 'irreparably', 'irreparable', 'depravities', 'smartly', 'Traveler', 'lummox', 'atone', 'Grazie', 'dominant', 'skirt', 'preacher', 'arrangement', 'Blumenthal', 'frontiers', 'titre', 'reestablish', 'circular', 'Joel', 'rations', 'fatigue', 'belongings', 'Joey', 'advocated', 'xenophobia', 'consecration', 'lordly', 'Emptied', 'contraceptives', 'Middle', 'bakery', 'advocates', 'Politics', 'quotations', 'fracases', 'astronomical', 'byproducts', 'docile', 'Ceylon', 'slickers', 'embezzle', 'Final', 'Finan', 'Body', 'physicalness', 'outer', 'guerrilla', 'mineralogy', 'backers', 'filets', 'spellbound', 'Quintus', 'Sing', 'Abdallah', 'wellknown', 'hande', 'Celtic', 'belatedly', 'Harvester', 'Dissect', 'billions', 'hands', 'dinnerware', 'documented', 'alarmed', 'handy', 'grumbling', 'Pabor', 'perfectionism', 'divides', 'Yarrow', 'crossing', 'shaking', 'legions', 'conceiving', 'tumbrels', 'trooper', 'nightshirt', 'ills', 'Representatives', 'Liberty', 'multicolored', 'Benedictine', 'Harmony', 'explores', 'margins', 'steadier', 'deprivations', 'clarets', 'offsetting', 'longhorns', 'confess', 'unlawful', 'Adrianople', 'wondrous', 'effeminate', 'withering', 'recommendations', 'humiliating', 'transfer', 'completely', 'mares', 'Anita', 'Hostaria', 'farmland', 'hostile', 'Managua', 'counterpart', 'stride', 'shred', 'Gothic', 'derivations', 'brides', 'benediction', 'soldered', 'beadle', 'disembodied', 'stultifying', 'Chewing', 'Hamey', 'patriotism', 'eminence', 'precisely', 'Boris', 'Conduit', 'management', 'stringently', 'practitioners', 'Siberia', 'dove', 'Inauguration', 'Paestum', 'Argos', 'Argon', 'Spelling', 'perfectly', 'paved', 'hitching', 'approachable', 'manipulation', 'comported', 'Saturdays', 'cartoonist', 'Feringa', 'Reviewing', 'Franciscans', 'irredeemable', 'earsplitting', 'dourly', 'Gentlemen', 'ultrasonic', 'close', 'emptying', 'Ainsley', 'roiling', 'Gibby', 'Rollins', 'ecumenical', 'Billie', 'enchantment', 'clodhoppers', 'issuing', 'pivotal', 'Vacations', 'Granny', 'Decorating', 'lecturer', 'lectures', 'mileage', 'passionately', 'sewing', 'camper', 'intentions', 'moths', 'lectured', 'camped', 'fisted', 'expired', 'starve', 'thermopile', 'Bugle', 'simplicities', 'isotopic', 'spleen', 'Boatmen', 'Bruxelles', 'Nantucket', 'Export', 'Larimer', 'bun', 'qualms', 'violation', 'Tara', 'Acts', 'crate', 'Nischwitz', 'excursus', 'Grimm', 'Pushup', 'Grand', 'manzanita', 'partners', 'based', 'tire', 'rasa', 'dramatize', 'chromatics', 'credited', 'Mervin', 'rash', 'quadrennial', 'baser', 'bases', 'reorganizing', 'rasp', 'tune', 'girlie', 'Refund', 'Insinuations', 'eulogizers', 'commendation', 'Midi', 'Flocks', 'Burning', 'Soloviev', 'Burckhardt', 'Stella', 'Gorham', 'Popular', 'parlance', 'Narrow', 'procedures', 'endless', 'gray', 'processes', 'Fears', 'sowing', 'Humiliation', 'blustered', 'gust', 'transposition', 'Fredericksburg', 'watershed', 'nutmeg', 'gush', 'Impossible', 'uniformed', 'grad', 'spotted', 'sensuality', \"C'est\", 'Sr.', 'freeze', 'driveway', 'desperate', 'humane', 'timeliness', 'Toppers', 'Magnetism', 'supernatural', 'Pseudomonas', 'Technician', 'sabotage', 'outsiders', 'comparable', 'buckets', 'shimmer', 'blinked', 'Smokers', 'haughty', 'psychotherapeutic', 'Isaacs', 'Titled', 'diligent', 'Strolling', 'presentations', 'admit', 'Woods', 'fielder', 'budgetary', 'toneless', 'Patton', 'coverall', 'distinguish', 'Music', 'Low', 'Lot', 'instituting', 'Agreeable', 'unselfishly', 'Loy', 'aloes', 'willy', 'quit', 'sari', 'Sisk', 'Gregg', 'wills', 'hubbub', 'quiz', 'Ghent', 'slowly', 'kingpin', 'edified', 'abruptly', 'dwarfs', 'corresponding', 'hoisted', 'thump', 'schoolgirls', 'Sizzling', 'behalf', 'Cousin', 'quotation', 'And', 'uncertified', 'Ana', 'Brasstown', 'intimidate', 'Ann', 'enthalpy', 'Ant', 'encircled', 'coincidental', 'Any', 'coddled', 'Sergeant', 'unquestioningly', 'Geisha', 'unsheathing', 'Fireside', 'swinging', 'Ariz.', 'bucks', 'advisor', 'capture', 'mysteriously', 'Beat', 'Beau', 'Sukarno', 'Bear', 'Beam', 'Bean', 'strange', 'underground', 'fanatics', 'Socialist', 'fide', 'experimented', 'unconventional', 'Vue', 'plaids', 'promoters', 'eccentric', 'Coral', 'nightly', 'Tulip', 'privations', 'experimenter', 'Menlo', 'fierce', 'frequently', 'spree', 'magician', 'endearing', 'poultry', 'weld', 'Spofford', 'well', 'nebulous', 'Fantasy', 'displacing', 'drone', 'mixers', 'Stern', 'Winds', 'Expressions', 'quavered', 'Patiently', 'spherical', 'Project', 'enormously', 'attractively', 'insinuating', 'Erskine', 'mistaken', 'dose', 'mistakes', 'Chairman', 'foxholes', 'Porter', 'steward', 'arteriosclerosis', 'Jacopo', 'imparts', 'feasting', 'philanthropist', 'runners', 'Despite', 'escapees', 'clouded', 'assesment', 'Programs', 'Ref.', 'livid', 'Phase', 'formulaic', 'immediately', 'Glorious', 'sublimate', 'Jamaica', 'Marmee', 'Stains', 'fingerprints', 'Azerbaijan', 'sages', 'Cologne', 'Sheeran', 'nonfunctional', 'divest', 'refugees', 'page', 'adversity', 'drizzly', 'Californians', 'Riesman', 'phenomena', 'desecration', 'Mason', 'hush', 'drizzle', 'helplessness', 'Homozygous', 'entourage', 'communes', 'Seventh', 'Zoning', 'consultative', 'appreciative', 'sponsoring', 'Tuohy', 'detractors', 'Seurat', 'inaccurate', 'individualist', 'journal', 'Pfaff', 'poignant', 'variation', 'sheriffs', 'individualism', 'Clubhouse', 'freedom', 'compatible', \"Li'l\", 'Konrad', 'beige', 'Scarcity', 'Proves', 'tongue', 'eloquently', 'Insuring', 'equally', 'Dialogues', 'townships', 'attains', 'articulate', 'Keystone', 'panoramas', 'Thousands', 'seismic', 'Skiway', 'godsend', 'PMR', 'synthesized', 'Pecos', 'relegated', 'imperial', 'synthesizes', 'Grapes', 'damn', 'Jeannie', 'hoofs', 'Bradford', 'revised', 'Tyburn', 'chinning', 'contraceptive', 'Royale', 'neutral', 'goals', 'courts', 'ear', 'presuppositions', 'eat', 'paean', 'storied', 'prevalent', 'Coughlin', 'tetrachloride', 'pansy', 'turnings', 'Barrymores', 'Gott', 'heiress', 'Women', 'strengthens', 'flecked', 'Spirits', 'Hymen', 'sexually', 'Lake', 'upsets', 'utensils', 'decisiveness', 'crystals', 'Bohart', 'Bullfinch', 'pussycat', 'rumors', 'Orchestral', 'Sunshine', 'Merrimac', 'Gynecologists', 'onwards', 'Besides', 'Fingered', 'acrylic', 'stumpy', 'Baseman', 'wouldbe', 'Shepherd', 'astounding', 'whisperings', 'tailgate', 'Millennium', 'friends', 'grunted', 'anacondas', 'Sibylla', 'Rayburn', 'persistent', 'reveled', 'Viscera', 'extras', 'theretofore', 'diagnosis', 'Spanish', 'uneducated', 'validation', 'commencement', 'liver', 'voluble', 'Toast', 'sunburnt', 'Corbin', 'pardon', 'powdery', 'mackerel', 'powders', 'plenary', 'sermon', 'battleground', 'encores', 'Rylie', 'whose', 'Hose', 'Purgatory', 'Descriptive', 'Exceptional', 'Plato', 'Plath', 'Job', 'Supervisors', 'teaspoon', 'Apache', 'editorship', 'promulgated', 'Waterloo', 'translation', 'vasa', 'vase', 'smack', 'govern', 'vast', 'Thomas', 'reexamination', 'baking', 'strayed', 'graced', 'Hercules', 'panelized', 'epigraph', 'employees', 'graces', 'heliocentric', 'Gallet', 'winded', 'winder', 'implemented', 'worthlessness', 'Eventually', 'gawky', 'preferences', 'wreck', 'complexities', 'inordinately', 'tirelessly', 'orchestra', 'Minuteman', 'hazy', 'Earthquakes', 'liberated', 'haze', 'Imboden', 'sidled', 'coefficient', 'Ave.', 'repugnance', 'seventh', 'abstractly', 'Professionally', 'Greene', 'Renfro', 'possibility', 'Krutch', 'brackish', 'dry', 'suitably', 'rests', 'economics', 'ignoring', 'credit', 'harass', 'exacting', 'tranquilizers', 'diagrammed', 'adopting', 'suitable', 'menial', 'reckoned', 'Afraid', 'Jeroboams', 'constrictions', 'Rather', 'emblematic', 'Relations', 'Also', 'specifics', 'decried', 'Microscopic', 'Wyman', 'soybean', 'dictum', 'Wiry', 'undesirable', 'criminals', 'huskiness', 'Downs', 'watering', 'patched', 'leaks', 'negociants', 'Included', 'leaky', 'negativism', 'Chekhov', 'lungs', 'wary', 'wart', 'wars', 'warp', 'warn', 'warm', 'frenzy', 'adult', 'V', 'ward', 'ware', 'shepherds', 'verdant', 'kraut', 'Supply', 'Fellowships', 'setup', 'somber', 'Realtors', 'Money', 'guise', 'akin', 'informality', 'sinusoidal', 'derogate', 'punk', 'merest', 'ready', 'transshipment', 'magnitudes', 'routed', 'advancing', 'masterly', 'gumming', 'predictors', 'Lakewood', 'Irving', 'boroughs', 'fielders', 'faults', 'twitching', 'Kay', 'faulty', 'construe', 'Teen', 'commencing', 'prefectures', 'flustered', 'Richey', 'Fragonard', 'replacing', 'Eyes', 'Castro', 'waterfront', 'natch', 'immoral', 'accouterments', 'attempt', 'overtaken', 'owls', 'jumbled', 'plied', 'Monroe', 'foresaw', 'Ancient', 'Ptolemy', 'Javert', 'befall', 'ghastly', 'Olson', 'banged', 'appropriating', 'wickedness', 'McNair', 'experientially', 'glycerine', 'plantation', 'encounter', 'enlisted', 'persist', 'weeks', 'maximal', 'petulant', 'Lifeboat', 'pianists', 'tentacle', 'therapy', 'Generale', 'bronchial', 'ethicist', 'bony', 'meat', 'Indeed', 'sleepless', 'India', 'composition', 'roast', 'mounts', 'Curious', 'bootleggers', 'encephalitis', 'bone', 'bond', 'improvise', 'objectors', 'marital', 'Investigation', 'glinting', 'awry', 'happenstance', 'shirking', 'typology', 'Discovery', 'disjointed', 'velvet', 'relict', 'gradient', 'tales', 'Winsor', 'Muse', 'Romeo', 'Phedre', 'ruffled', 'revolving', 'instigate', 'Must', 'customarily', 'rehearsed', 'cutest', 'whiff', 'Halkett', 'discolors', 'aboriginal', 'Repeat', 'struggle', 'inadequately', 'unconditioned', 'Curt', 'Clinton', 'bromides', 'Beaulieu', 'Cury', 'Gelly', 'Cafe', 'Racquet', 'naughty', 'features', 'thereon', 'Buddhist', 'reassure', 'comforted', 'Sobibor', 'Sociological', 'radiate', 'ditch', 'dwelt', 'neuromuscular', 'Introduce', 'sidle', 'Nuttall', 'Vindication', 'Press', 'dwell', 'invalids', 'weddings', 'outputting', 'wieners', 'bouncing', 'gym', 'Malden', 'Humphrey', 'gambles', 'boarding', 'distance', 'Consider', 'incantation', 'enabled', 'imputation', 'preparation', 'Guerin', 'persuade', 'stratified', 'exorcise', 'Picture', 'enables', 'anatomically', 'turrets', 'Movements', 'mink', 'sees', 'seep', 'quench', 'modern', 'mind', 'mine', 'yachts', 'formula', 'pantheon', 'seed', 'seen', 'seem', 'sounding', 'mint', 'Attilio', 'bogies', 'blazon', 'Albers', 'Albert', 'Devol', 'calibrated', 'Shrugs', 'Loren', 'Directed', 'min.', 'Housed', 'Knight', 'Journalism', 'mashed', 'memorabilia', 'translator', 'TSEM', 'regular', 'Roommates', 'crescendo', 'Stendhal', 'Jacques', 'Sonar', 'reimbursement', 'assisting', 'don', 'doo', 'doc', 'alarm', 'dog', 'principle', 'consumer', 'consumes', 'dot', 'planetary', 'amending', 'hunger', 'spangle', 'jurisdiction', 'syntax', 'sown', 'sneaking', 'Kurt', 'carbons', 'explain', 'oxytetracycline', 'Detention', 'Free', 'Fred', 'ebbing', 'clobbered', 'folks', 'abides', 'tiles', 'Mainland', 'Carnival', 'rejoicing', 'convulsed', 'coast', 'patted', 'enters', 'tiled', 'slanderous', 'Voting', 'scudding', 'chronological', 'Leaders', 'Over', 'internationalized', 'Washington', 'Searching', 'discs', 'streetcars', 'exacted', 'grilled', 'Completion', 'decides', 'fascinating', 'crewmen', 'Burch', 'decided', 'Pursuing', 'Reflex', 'subject', 'underarm', 'voyage', 'Hewlitt', 'siding', 'connective', 'smacks', 'Controller', 'embroidery', 'simplest', 'Stopping', 'Overt', 'warrior', 'crayons', 'triplet', 'Central', 'Tribal', 'Luftwaffe', 'blitzes', 'Wickham', 'tripled', 'dismembered', 'staved', 'Ehlers', 'laze', 'maneuvers', 'disorderly', 'swoops', 'regattas', 'Ferraro', 'against', 'prefabricated', 'und', 'une', 'pate', 'Syrian', 'Carlisle', 'gushed', 'Corelli', 'portant', 'ponder', 'fluorescein', 'loader', 'offerings', 'initiative', 'nilly', 'Confabulation', 'loaded', 'arsenic', 'Cezanne', 'shortness', 'paralyze', 'unproblematic', 'Kingan', 'abdominal', 'futility', 'referendum', 'erect', 'milieu', 'Beardslee', 'gadgetry', 'idol', 'Definition', 'efficacy', 'suppress', 'chum', 'Prolonged', 'spherules', 'generals', 'personally', 'regretted', 'censored', \"Can't\", 'Advertiser', 'picketing', 'Athletic', 'Into', 'Sushi', 'Dollar', 'stratosphere', 'sheath', 'moratorium', 'chowders', 'Tearle', 'mousy', 'Rickards', 'Ilyushin', 'diaphragm', 'lurking', 'defeated', 'poignantly', 'faked', 'mouse', 'Georgetown', 'Epsom', 'entitles', 'make', 'Voorhees', 'jotting', 'N.D.', 'belly', 'contaminate', 'mixtures', 'President', 'sodden', 'bells', 'Balinese', 'differing', 'kit', 'delight', 'grammar', 'garlic', 'kin', 'supposing', 'sharers', 'opportunity', 'kid', 'butter', 'hydrophobia', 'drowsily', 'unconcerned', 'bedspread', 'materials', 'butted', 'virile', 'liqueur', 'Wesson', 'schooldays', 'Errors', 'protocol', 'consciousness', 'Hypothalamic', 'dearly', 'plasm', 'Crime', 'verses', 'Skywave', 'transforms', 'Branch', 'Heavenly', 'Corinthians', 'tattooed', 'Exponents', 'impending', 'buyers', 'contents', 'legion', 'assassination', 'character', 'Judiciary', 'magistrates', 'Condliffe', 'transcribed', 'stomped', 'Groat', 'Support', 'pinochle', 'Roberta', 'unreeling', 'stockpiling', 'spacious', 'perfunctory', 'auspicious', 'blanching', 'dreamy', 'wanting', 'feelings', 'dreams', 'shoulder', 'dignity', 'Soviets', 'Observing', 'performing', 'Throneberry', 'arrivals', 'intermittently', 'disillusioned', 'Prince', 'Marching', 'Kowalski', 'compulsivity', 'Garrett', 'intern', 'Catfish', 'maneuvering', 'eked', 'Piedmont', 'Saintsbury', 'theatrical', 'grading', 'candidly', 'strangeness', 'Toying', 'conquering', 'Drinking', 'levitation', 'Arundel', 'coordinator', 'Drop', 'meanings', 'microwaves', 'humanists', 'Daily', 'Participating', 'protagonist', 'amended', 'flourished', 'conceal', 'swooped', 'ribs', 'lathered', 'gallium', 'flourishes', 'crucifix', 'outboards', 'vaginal', 'marshal', 'Coming', 'fatalists', 'amounted', 'birdied', 'misunderstanding', 'shippers', 'carving', 'Vermouth', 'birdies', 'cones', 'inductions', 'shortstop', 'illustrious', 'catalysts', 'inspected', 'prodigies', 'lampoon', 'victorious', 'Pattern', 'Safavids', 'teletype', 'purpling', 'immorality', 'Delia', 'Theology', 'idealized', 'cutlets', 'lows', 'turpentine', 'bevels', 'surrender', 'Golden', 'lilies', 'Archimedes', 'milligrams', 'bounds', 'conformists', 'economic', 'benchmarks', 'plaintiffs', 'Suffer', 'propaganda', 'originating', 'boomed', 'frowzy', 'Oakwood', 'Franciscan', 'lingers', 'bloodstained', 'gland', 'pedagogue', 'claimants', 'vivify', 'Mayer', 'availing', 'Rafter', 'discriminate', 'aunts', 'agreeing', 'Andres', 'Ministry', 'clings', 'Andrew', 'Andrei', 'Colo.', 'matriarchal', 'warehouse', 'Township', 'Andrea', 'voltaic', 'optically', 'garland', 'Armbro', 'phony', 'sensuous', 'outback', 'Rensselaer', 'hollered', 'russe', 'describing', 'grapevines', 'Paprika', 'diathesis', 'Fairmount', 'outskirts', 'phone', 'Respecting', 'accented', 'dilapidated', 'myrrh', 'tuxedoed', 'forecasters', 'teeth', 'Orient', 'Woodcock', 'decelerate', 'auspiciously', 'customary', 'proletariat', 'eldest', 'lubrication', 'manager', 'manages', 'claret', 'assailants', 'micrometeorites', 'Gasset', 'resourceful', 'Nutritious', 'depend', 'fancies', 'breathy', 'sufferer', 'micrometers', 'mackintosh', 'Monde', 'skirting', 'suffered', 'fancied', 'Certainly', 'me', 'deltoids', 'survive', 'Adventures', 'Candlestick', 'estranging', 'Eichmann', 'forked', 'Klan', 'mashing', 'cleaners', 'unopened', 'luxuriance', 'Eldest', 'Propylaea', 'mm', 'excellence', 'grimace', \"it'll\", 'anesthetic', 'nineties', 'inconsequential', 'Accademia', 'Burlington', 'Shakespeare', 'Heritage', 'stealer', 'sacral', 'adds', 'Orthodox', 'phonographs', 'Parliamentarians', 'reunite', 'sweaters', 'Traveling', 'Wants', 'Economics', 'Tuscany', 'Presidency', 'mussels', 'compound', 'makeup', 'availed', 'superstition', 'airfields', 'tangent', 'kilometers', 'implanted', 'battling', 'shift', 'bruises', 'somatic', 'expulsion', 'women', 'simultaneous', 'Clair', 'suggestion', 'conveniently', 'quarrel', 'Technology', 'bruised', 'Northerner', 'Clipper', 'adjustable', 'elect', 'repressions', 'withal', 'quibble', 'contradictions', 'verge', 'plots', 'Hellfire', 'hotels', 'wealth', 'salting', 'aye', 'aya', 'complaisant', 'pelts', 'Needham', 'Cedric', 'duds', 'compactly', 'lessened', 'aspirin', 'vous', 'Historians', 'Sultan', 'diversionary', 'multitudinous', 'archaeologists', 'orator', 'Adventists', 'Montreal', 'Latest', 'melodrama', 'unimproved', 'reviews', 'Haddix', \"O'Brien\", 'septum', 'lords', 'classrooms', 'reflector', 'concocted', 'confused', 'Whitemarsh', 'Score', 'battered', 'council', 'Brewers', 'Prado', 'confuses', 'Issue', 'Brewery', 'complainant', 'Coke', 'thumbing', 'propagandistic', 'Ludwick', 'periscopes', 'condemning', 'drapery', 'Thurber', 'loaves', 'map', 'Schmitt', 'swayed', 'hydrogens', 'strokes', 'Healthier', 'Sagami', 'mankind', 'Graceful', 'mai', 'mah', 'destructive', 'journals', 'stroked', 'Trim', 'Trio', 'neck', 'pulsations', 'Cavanagh', 'Trig', 'outpouring', 'cascade', 'rarified', 'deposit', 'deceive', 'unleash', 'Speedy', 'officialdom', 'Hymn', 'esters', 'Uncas', 'distributors', 'Mayfair', 'Finney', 'wishing', 'Dicke', 'introductions', 'lyric', 'pitch', 'Dicks', 'Ticonderoga', 'adhesive', 'WTV', 'undermined', 'buns', 'Ursuline', 'listing', 'consequential', 'World', 'sensitized', 'uptake', 'Gascony', 'accusations', 'undisclosed', 'christening', 'safari', 'Harrington', 'Givers', 'Laboratories', 'attorneys', 'Simple', 'Lovelace', 'settings', 'misgivings', 'Beauchamps', 'Simply', 'rock', 'inducements', 'noncombatant', 'Detectives', 'eyelid', 'sweepings', 'Shorter', 'unlock', 'Startled', 'befell', 'Squibb', 'tempore', 'paging', 'thoroughness', 'emerges', 'hemmed', 'Springing', 'Theresa', 'Renovo', 'Overreach', 'militarily', 'emerged', 'dioxide', 'centerline', 'sensor', 'Tragedy', 'Attakapas', 'telegraphy', 'sideways', 'Ziggy', 'demanding', 'trademarks', 'cough', 'orb', 'supplicating', 'advance', 'Traverse', 'derivation', 'Being', 'Parris', 'Reeder', 'thing', 'thine', 'algaecide', 'Orwellian', 'think', 'cheese', 'Referring', 'utopianism', 'crib', 'suspended', 'sounds', '1M', 'singling', 'interchange', 'little', 'burly', 'murky', 'Hoffman', 'participates', 'Problems', 'Bundle', 'modernism', 'anyone', 'Arequipa', 'participated', 'mermaid', 'bloodshed', 'eyes', 'masseur', 'Fortune', 'Councilwoman', 'Koch', 'subpoenas', 'broadcast', 'ambulatory', 'systematization', 'satirically', 'eyed', 'butt', 'interred', 'coefficients', 'ceramics', 'sailing', 'notches', 'Teresa', 'encomiums', 'booted', 'Regulus', 'Ayub', 'Protectorate', 'predicator', 'notched', 'gathering', 'stubby', \"He's\", 'shimmering', 'topics', 'hearer', 'nuisances', 'comedian', 'unpunished', 'glibly', 'speakers', 'castor', 'hopples', 'efficient', 'dives', 'isolate', 'purest', 'endangered', 'potential', 'Westhampton', 'Investor', 'switching', 'Napkin', 'straightening', 'Jungian', 'roster', 'Cattle', 'insanity', 'Thorp', 'bowels', 'coveted', 'befouled', 'Elmira', 'Ringel', 'stockings', 'Accounting', 'Herring', 'shop', 'rating', 'shot', 'Keng', 'show', 'Demons', 'shod', 'arrears', 'Kent', 'corner', 'safekeeping', 'Souths', 'dice', 'Hull', 'plume', 'plumb', 'collapses', 'Kiwanis', 'Studio', 'fens', 'germs', 'Services', 'over', 'plump', 'Commenting', 'exaggeration', 'Amid', 'Irish', 'Fighting', 'employers', 'Gide', 'nearly', 'denials', 'gibbet', 'Amis', 'secondary', 'Brookmont', 'frolicking', 'flyways', 'Sturley', 'capstan', 'Mundt', 'Corner', 'decks', 'worrying', 'silently', 'relative', 'Lucifer', 'reevaluation', 'teething', 'Stanislas', 'Iowa', 'registering', 'limber', 'Velon', 'ornament', 'malted', 'diamonds', 'ruptured', 'atrophic', 'parental', 'legitimacy', 'slingshot', 'Quartermaster', 'Overnight', 'enthralling', 'bedraggled', 'motivations', 'Carolyn', 'adept', 'Northrop', 'uneconomic', 'theologian', 'amateurs', 'Felice', 'Borak', 'cornered', 'Paddle', 'accusation', 'Directory', 'dereliction', 'exhibits', 'Crombie', 'technicalities', 'specializing', 'sensible', 'intrude', 'acidity', 'umber', 'conceptualization', 'undershirt', 'Hodgkin', 'armload', 'Luckily', 'workshop', 'dependable', 'shakers', 'compensatory', 'Catheter', 'sensibly', 'Leary', 'educated', 'Originals', 'Siecle', 'Ice', 'Learn', 'ideologist', 'memorialized', 'predicament', 'Diversification', 'Somehow', 'Undergraduates', 'canonist', 'ignition', 'Avenue', 'huckster', 'inadvertence', 'conferences', 'ethically', 'Supplementing', 'Wood', 'Bester', 'malformed', 'tidiness', 'SCR', 'Montevideo', 'siphoned', 'deduction', 'Toch', 'evocative', 'censorial', 'cabana', 'shipmates', 'triumphantly', 'oil', 'Hicks', 'foundling', 'Shipley', 'cauterize', 'McCrady', 'diversion', 'Softly', 'climbing', 'flexed', 'freed', 'weave', 'Thorstein', 'walkover', 'roughly', 'substantive', 'aeronautical', 'solve', 'dashed', 'intima', 'easing', 'bumping', 'parody', 'Surveys', 'crossbars', 'Ways', 'money', 'adjustments', 'Frelinghuysen', 'Maynor', 'woodworking', 'Lions', 'proximal', 'illegitimacy', 'baptismal', 'sprang', 'Sandwich', 'eave', 'barnyard', 'pups', 'cayenne', 'shingles', 'pile', 'FELA', 'Newcastle', 'heavier', 'pill', 'grip', 'grit', 'Thenceforth', 'stinking', 'Napoleonic', 'Wherever', 'reddened', 'Denny', 'Sisters', 'orthopedic', 'aprons', 'grim', 'grin', 'Characteristics', 'Bloomfield', 'Kemble', 'facing', 'indisputably', 'Childe', 'Thesis', 'Hack', 'served', 'thirsted', 'niceties', 'sneaker', 'Gerald', 'ascend', 'eyelets', 'ante', 'erase', 'sneaked', 'Telefunken', 'Dr.', 'cabs', 'Hamiltonians', 'ascent', 'matching', 'Douglass', 'explode', 'confirm', 'colonial', 'allegiances', 'pioneer', 'decomposition', 'understandings', 'windbreaks', 'victory', 'vistas', 'Dinsmore', 'Coping', 'manservant', 'dictators', 'Billings', 'Goodbye', 'arithmetical', 'submerging', 'Zenith', 'smear', 'fringe', 'mixer', 'helpmate', 'Paper', 'Yvette', 'toothpaste', 'mixed', 'Mousie', 'provisional', 'checkup', 'RAND', 'memorials', 'bricklayers', 'implantation', 'Bowl', 'blessed', 'Meinung', 'references', 'dreaming', 'annoys', 'breath', 'shells', 'Duncan', 'totalitarian', 'caterpillars', 'shorelines', 'Arco', 'Arch', 'pretends', 'indorsed', 'purgatory', 'Workmen', 'Confucius', 'lodgings', 'strikes', 'Treaty', 'sophisticates', 'Beneath', 'downstairs', 'romantic', 'Transpiration', 'serviettes', 'Societe', 'indisposition', 'Society', 'exemplar', 'Signor', 'jabbing', 'conqueror', 'electrifying', 'palate', 'USO', 'resolving', 'lint', 'citation', 'deer', 'acetate', 'resultant', 'Bragg', 'deem', 'mimesis', 'grasped', 'planets', 'USP', 'deed', 'Hino', 'film', 'processed', 'Resolved', 'selfish', 'amendments', 'Doppler', 'meticulously', 'sufferings', 'personnel', 'drivers', 'vagaries', 'ceaselessly', 'repent', 'narcotics', 'Instrumental', 'Whenever', 'supplementing', 'Tooling', 'Resolves', 'Riders', 'fruitless', 'Omaha', 'stilted', 'hemorrhages', 'cloudburst', 'important', 'decorated', 'Rehabilitation', 'conclusive', 'resembled', 'Crusades', 'Holy', 'Apparently', \"life's\", 'Gunther', 'recklessness', 'resale', 'Thermal', 'inhibited', 'incubating', 'resembles', 'husky', 'oral', 'levers', 'Lorraine', 'vile', 'wormy', 'Satterfield', 'suns', 'forbidden', 'dollar', 'worms', 'Willamette', 'sunk', 'slung', 'Station', 'zinc', 'Secretion', 'fixtures', 'sung', 'prolongs', 'duplicated', 'William', 'Tartar', 'Meditations', 'inexhaustible', 'prefixes', 'modernization', 'shredding', 'destroyers', 'fairways', 'prodding', 'overdoing', 'hideout', 'hideous', 'instigating', 'nibblers', 'turnips', 'Referrals', 'returning', 'counterproposal', 'interglacial', 'difference', 'Airedale', 'Abyssinians', 'haggling', 'Winsett', 'dictatorship', 'nonwhite', 'applicable', 'Junior', 'juxtaposition', 'Kill', 'Luzon', 'thermocouple', 'undulated', 'portable', 'Kochanek', 'scopes', 'eloped', 'grabs', 'Denver', 'preposterous', 'transvestitism', 'perception', 'appreciating', 'cigars', 'Giants', 'illogical', 'mobilizing', 'diffusing', 'Websterville', 'exasperation', 'Berliners', 'Cultural', 'everlasting', 'public', 'Bleak', 'rusting', 'compilation', 'component', 'birthplace', 'dabbled', 'Elector', 'Contact', 'eutectic', 'dabbles', 'dabbler', 'Canandaigua', 'enmity', 'Liquor', 'Yuba', 'chamois', 'expiating', 'Edna', 'temperately', 'formation', 'whimsical', 'Britisher', 'proscription', 'captions', 'extrapolations', 'roadster', 'cowardly', 'emptied', 'marooned', 'Horsely', 'empties', 'emptier', 'suits', 'legislator', 'readily', 'Europe', 'annunciated', 'eye', 'Frito', 'wiped', 'canoe', 'two', 'wobbled', 'comparing', 'Fritz', 'splash', 'Forsythe', 'warmed', 'libel', 'raft', 'Apprentice', 'hegemony', 'Adagio', 'pawing', 'Flaming', 'Words', 'suffused', 'lemons', 'cluttered', 'laborer', 'lisping', 'Abstracts', 'Mouvement', 'Ribas', 'thrumming', 'Cocktails', 'paragraph', 'slovenly', 'superstitions', 'pioneered', 'mediums', 'Hessian', 'Featherbed', 'mutuality', 'bravely', 'muzzles', 'gravely', 'approved', 'Oder', 'hilum', 'contradicts', 'Compromise', 'attain', 'intimating', 'Hearst', 'Correggio', 'fillip', 'Patentees', 'Raymond', 'awkward', 'pyrometers', 'preening', 'Dragnet', 'Sedimentation', 'Meaning', 'Arrington', 'Raymont', 'ensemble', 'Attu', 'Don', 'Doc', 'advice', 'Dog', 'Doe', 'fundamental', 'Nebraska', 'Atta', 'intoned', 'Dos', 'statuary', 'Dow', 'chute', 'hypnotized', 'crowded', 'rooting', 'crippling', 'blunder', 'deserted', 'doused', 'wavy', 'responsibility', 'Confucianism', 'Salads', 'Rockaways', \"that's\", 'rifles', 'played', 'winged', 'Eleazar', 'Elbow', 'industrial', 'rifled', 'predisposed', 'filters', 'noncommissioned', 'visceral', 'Worry', 'Trinity', 'lashings', 'thrilling', 'calluses', 'Philosophy', 'gaslights', \"2'\", 'oxalate', 'carpentry', 'wharves', 'arrogate', 'Mortals', 'unreal', 'noticing', 'Muncipal', 'obeyed', 'humans', 'Philmont', 'inception', 'formulating', 'megalopolises', 'complain', 'association', 'deteriorates', 'Investors', 'Spoken', 'Holbrook', 'Lack', 'ashen', '2d', 'ashes', 'deteriorated', '2a', 'Lacy', 'Abel', 'exquisite', 'forthright', 'harm', 'Built', 'Blitz', 'energy', 'hard', 'watered', 'Meyle', 'Build', 'surly', 'categorize', 'schoolmate', 'harp', 'mustered', 'Ephesians', 'fermentations', 'childish', 'throes', 'crowing', 'discouraging', 'Cepheus', 'Ridgefield', 'print', 'fortitude', 'ironed', 'brewery', 'overindulged', 'foreground', 'disobedience', 'crouched', 'circumstance', 'Estella', 'Leaving', 'Reception', 'McCracken', 'Uno', 'allocation', 'bragged', 'Lescaut', 'reinforces', 'computers', 'unlacing', 'conducted', 'rogues', 'Bandon', 'reinforced', 'grammatical', 'Cyril', 'jogs', 'barbarian', 'done', 'neglects', 'booty', 'Genesis', 'Nonresident', 'watchmaker', 'purposive', 'revive', 'least', 'thickets', 'militant', 'regulation', 'assumption', 'Gamma', 'amplifiers', 'Belgium', 'conspirators', 'muggers', 'pare', 'Linguists', 'Boards', 'draper', 'drapes', 'park', 'draped', 'dentist', 'part', 'pars', 'leaderless', 'doctors', 'Fleisher', 'roughcast', 'supposes', 'savagery', 'namesake', 'preconscious', 'ungodly', 'recording', 'Wilhelm', 'supposed', 'sedate', 'Reunion', 'clods', 'declare', 'Affairs', 'idled', 'Issuing', 'nominee', 'Revelation', 'Custom', 'Condensation', 'unimpeachable', 'Moisture', 'Affaire', 'Galli', 'Dozens', 'orders', 'Kiz', 'Diseases', 'flared', 'Confusion', 'Clearer', 'honors', 'flares', 'Goulding', 'deepening', 'Alpha', 'Kid', 'waitin', 'easygoing', 'salmon', 'Dreiser', 'most', 'poke', 'Common', 'moss', 'ileum', 'Ainsworth', 'extremely', 'branching', 'giggling', 'paintings', 'corrupts', 'whetted', '2nd', 'storyline', 'exacerbations', 'sector', 'Lola', 'marketed', 'Catastrophe', 'Patent', 'Appropriate', 'minimizing', 'contorted', 'bodybuilding', 'networks', 'rosaries', 'brushed', 'ruin', 'distributed', 'unhappy', 'massing', 'affiliations', 'roughshod', 'fiend', 'override', '8', 'distributes', 'Crucible', 'stylist', 'Yakov', 'devastate', 'Thirty', 'revolts', 'Dublin', 'Thanksgiving', 'Salt', 'Responsibility', 'theft', 'Paxton', 'classed', 'silk', 'sill', 'merchandise', 'silo', 'contagious', 'Anyway', 'jollying', 'common', 'allocations', 'unfettered', 'severing', 'locating', 'Confession', 'snarled', 'cynical', 'excavation', 'semiquantitative', 'Mough', 'irregularly', 'amorphously', 'gravest', 'outsmarted', 'Majesties', 'Boulle', 'changeable', 'forthcoming', 'materially', 'repairs', 'Judith', 'electoral', \"kid's\", 'fans', 'Toobin', 'Printed', 'Folklore', 'Krist', 'distraught', 'burned', 'champagne', 'Blackfeet', 'transferee', 'meal', 'egotist', 'complementary', 'cinders', 'complement', 'barrack', 'Populaire', 'Dane', 'irreverence', 'Refugees', 'egotism', 'prams', 'folding', 'reverse', 'radicals', 'tapered', 'Gaveston', 'dreamlike', 'kitchens', 'spume', 'geniuses', 'bongo', 'shrines', 'danced', 'simple', 'Voltaire', 'donkey', 'dances', 'dancer', 'simply', 'caked', 'kernels', 'ensures', 'longsuffering', 'pocketbook', 'vertebrate', 'dropping', 'intrusive', 'fountainhead', 'slips', 'Stake', 'gay', 'skinless', 'chatted', 'ghostly', 'gas', 'Craven', 'gap', 'repertoire', 'gal', 'gai', 'gag', 'Sitwell', 'chatter', 'gab', 'unnecessarily', 'replaces', 'raw', 'capsicum', 'Muller', 'replaced', 'consular', 'Likewise', 'Angie', 'lingo', 'redevelopment', 'Divinity', 'clubrooms', 'pegging', 'heroically', 'vulcanized', 'bedstraw', 'echelon', 'transom', 'stubbornly', 'facade', 'Receiving', 'shunning', 'aches', 'Londoner', 'OWI', 'prognosticator', 'sociologist', 'rheumatism', 'dishonor', 'engrossed', 'butcher', 'wherein', 'benign', 'discourse', 'ached', 'honeybee', 'DeForest', 'neuroses', 'overseer', 'expressiveness', 'husbands', 'purpose', 'Activity', 'Nerves', 'Wynston', 'timid', 'predecessors', 'Detailed', 'nolo', 'motionless', 'noli', 'craved', 'Escadrille', 'craven', 'undressed', 'unlicensed', 'toil', 'functionary', 'hardwoods', 'prevention', 'musicologists', 'vindictive', 'Oilers', 'Burgundy', 'distracting', 'openly', 'circling', 'letting', 'superficial', 'dynastic', 'Theory', 'localities', 'deliberately', 'Snake', 'circumcision', 'administrative', 'voltmeter', 'unloading', 'partaking', 'squawk', 'Sommers', 'valueless', 'conformed', 'saluted', 'squashing', 'displace', 'smallness', 'foreigners', 'subparts', 'Harlem', 'competitively', 'tonalities', 'degenerated', 'cogs', 'Cohen', 'disks', 'Bourcier', 'Whatever', 'flux', 'Einsteinian', 'wit', 'surging', 'neatest', 'mediocrity', 'accelerations', 'gardening', 'jibes', 'humorous', 'obliged', 'Whom', 'glimpsed', 'Messenger', 'pricing', 'ornaments', 'mirror', 'scuttled', 'Whoa', 'Burke', 'Barbarians', 'Holden', 'acquaintance', 'jewelry', 'Psychologically', 'Wiley', 'Nehf', 'metamorphosed', 'burgeoned', 'connecting', 'verbally', 'lard', 'lark', 'aflame', 'dismally', 'patient', 'rapping', 'taxing', 'wayward', 'windowpanes', 'O', 'subconscious', 'unenthusiastic', 'monologist', 'Policies', 'claw', 'glycol', 'shrilling', 'Chieti', 'megaton', 'goods', 'Alfa', 'juste', 'Glenn', 'Choctaws', 'goody', 'Revolutionaries', 'gratings', 'peccadilloes', 'oatmeal', 'Linking', 'ounce', 'Bare', 'Beauclerk', 'Bari', 'bluster', 'Gillespie', 'corrupting', 'clattery', 'commanding', 'framed', 'Joaquin', 'moderating', 'coil', 'frames', 'framer', 'lesson', 'picnickers', 'calming', 'evangelism', \"Where'd\", 'camera', 'inexcusable', 'Excellent', 'prostitute', 'Sens.', 'opponent', 'groomsmen', 'frenzied', 'pounded', 'iodinated', 'Shock', 'immigration', 'butlers', 'Collegiate', 'boys', 'sideshow', 'subjectively', 'Mattathias', 'Winnipesaukee', 'Nearing', 'Fools', 'Books', 'exploration', 'aversion', 'demandingly', 'precipitated', 'geese', 'Perhaps', 'FLN', 'Cross', 'singly', 'Westinghouse', 'single', 'necks', 'donated', 'Occident', \"A's\", 'brethren', 'Map', 'Mar', 'excused', 'Berton', 'Danehy', 'pennants', 'cohesive', 'buckshot', 'pails', 'transience', 'Mac', 'Mae', 'Mad', 'Mag', \"Joe's\", 'Manon', 'proposal', 'Mal', 'Mao', 'Man', 'brushing', 'belched', 'yodeling', 'Carried', 'spurns', 'ravines', 'Gaieties', 'Cash', 'luxurious', 'Nigger', 'Carrier', 'prepares', 'stoppages', 'depicting', 'freeways', 'dimensions', 'rallied', 'statesman', 'tote', 'Tunisia', 'TR', 'speculations', 'silencing', 'dispassionate', 'ascertained', 'bergs', 'Asian', 'exerting', 'rallies', 'enrichment', 'initiating', 'potboiler', 'toto', 'commoner', 'Balcolm', 'fecund', 'beckons', 'crossover', 'contacted', 'Drifting', 'corroding', 'rivalry', 'rudder', 'helps', 'Crippled', 'diagnosticians', 'pianistic', 'stupefying', 'labels', 'automotive', 'Region', 'rhyme', 'agitating', 'huddled', 'Sholom', 'Stuff', 'Ikle', 'micelles', 'enrollments', 'persecuted', 'molar', 'recreation', 'False', 'insubordinate', 'sulked', 'Griffith', 'sewage', 'bandoleers', 'queer', 'playmate', 'Shortening', 'sulfide', 'insertion', 'earth', 'Leila', 'Norway', 'Guthman', 'pellagra', 'wiggled', 'Rockettes', 'harvests', 'relented', 'payday', 'crossed', 'piped', 'exercise', 'Marty', 'misdeeds', 'dissection', 'personification', 'exchange', 'Boheme', 'spacing', 'nimbly', 'jointly', 'outlying', 'Buckhannon', 'unthinking', 'Marriage', 'meet', 'preamble', 'imperfections', 'Boyer', 'design', 'Chinese', 'numbness', 'Intelligence', 'Ishtar', 'weekday', 'Big', 'existent', 'Hoagy', 'finger', 'Prosperity', 'formulated', 'blizzard', 'decrease', 'Firearms', 'sewers', 'festivals', 'Ferdinando', 'gateway', 'bested', 'nauseated', 'attracting', 'asteroid', 'Katherine', 'sons', 'upcoming', 'apprentices', 'trait', 'capitalizing', 'apprenticed', 'trail', 'train', 'unbelieving', 'enviously', 'duped', 'hints', 'swooping', 'account', 'joyfully', 'embarked', 'alia', 'Frame', 'misfired', 'Encourage', 'obvious', 'pulling', 'transcendence', 'octoroon', 'reserved', 'snacks', 'Fenwick', 'infantry', 'sought', 'reserves', 'Lawford', 'stories', 'magnificently', 'lamb', 'curving', 'Pfohl', 'democracy', 'awkwardness', 'timetables', 'lamp', 'solitudes', 'forest', 'psyches', 'grimaced', 'furnace', 'nips', 'flanking', 'crudity', 'Chiefly', 'Shades', 'masterpieces', 'Stirling', 'legality', 'bluff', 'nary', 'terrier', 'obtrusiveness', 'trifling', 'Dill', 'counterbalanced', 'bind', 'sidelong', 'poaches', 'Weather', 'Champ', 'bins', 'Capable', 'institutional', 'Hooked', 'dilettante', 'reconstruct', 'charting', 'agricultural', 'Millie', 'delineating', 'butternut', 'decorum', 'Benefactor', 'Negro', 'kindergarten', 'Pressure', 'Fortier', 'Forties', 'bedpost', 'crewcut', 'sauces', 'Stronghold', 'tickled', 'greater', 'descendants', 'Bulge', 'spell', 'fiesta', 'landau', 'Wacker', 'courtroom', 'Lover', 'thrill', 'meterological', 'Newburgh', 'blazing', 'Gunny', 'virulent', 'tubing', 'Lionel', 'mucilage', 'ratings', 'interlayer', 'winked', 'burdened', 'licking', 'wade', 'Chaffey', 'tubular', 'matt', 'mats', 'Molvar', 'relinquishing', 'repress', 'stub', 'mate', 'messenger', 'stud', 'deras', 'smog', 'math', 'Douce', 'roughened', 'heretics', 'Appalachians', 'Tanker', 'afterward', 'Reefs', 'interaction', 'Sparling', 'ruins', 'orations', 'Pantheon', 'matchmaker', 'Welton', 'grieving', 'crystallographic', 'scalding', 'Allow', 'tributes', 'strategic', 'Japs', 'Winfield', 'Dickinson', 'sockets', 'Weinberg', 'pedigreed', 'unspecified', 'Coast', 'nut', 'cabin', 'futile', 'plantings', 'Lincoln', 'ultracentrifuge', 'completed', 'picnicked', 'dreary', 'perforce', 'Rapunzel', 'completes', 'nun', 'bindle', \"o'er\", 'Caleb', 'Pen', 'flashed', 'humped', 'McAuliffe', 'circumspect', 'amplitude', 'visited', 'abolished', 'athleticism', 'imaginative', 'morticians', 'neutralize', 'Machine', 'Goodman', 'Fought', 'unlikely', 'habitable', 'Gladden', 'apparently', 'acceleration', 'Oil', 'dilatation', 'skillful', 'Couple', 'mid', 'parks', 'mix', 'Sante', 'Stidger', 'shipyards', 'gladiator', 'Santa', 'mammals', 'Santo', 'autocratic', 'Laude', 'savages', 'closeups', 'relatively', 'Robbie', 'disappointments', 'oilseed', 'Printing', 'propagate', 'Trap', 'Musically', 'sedan', 'capacity', 'Unitarian', 'overestimation', 'afresh', 'wherewith', 'stranded', 'Some', 'coexist', 'graphs', 'denouncing', 'artificially', 'rendezvous', 'sheathing', 'skinny', 'normally', 'Saturday', 'galvanizing', 'Invitation', 'industrialism', 'elimination', 'slanderer', 'industrialist', 'floodlight', 'gasping', 'Worth', 'staff', 'openings', 'inspiring', 'textual', 'grabbed', 'controls', 'Rushall', 'York', 'fumbled', 'Few', 'inferior', 'adroit', 'Homes', 'lobo', 'lobe', 'swiftest', 'littlest', 'Cemal', 'Selden', 'cycled', 'kilts', 'Dragons', 'Seldes', 'gunman', 'cycles', 'enhances', 'constructing', 'Scrivener', 'Spokesmen', 'Bremerton', 'Passion', 'enhanced', 'psychical', 'injunctive', 'tentatively', 'speechlessness', 'awaits', 'imaginatively', \"master's\", 'pattern', 'Nakoma', 'Ophthalmic', 'Charnock', 'thumbnail', 'Shoulder', 'smilingly', 'Olaf', 'emitted', 'deliver', 'firmness', 'Islands', 'festering', 'toothbrush', 'exclaim', 'flatteringly', 'asunder', 'torso', 'taking', 'Design', 'Knecht', 'swallow', 'regimes', 'relevant', 'abortive', 'Pinkie', 'keine', 'basing', 'unearthed', 'flourishing', 'sur', 'Pietro', 'highball', 'attends', 'curtain', 'Trouble', 'curtail', 'phosphorescent', 'wrings', 'faced', 'finisher', 'finishes', 'stationed', 'overwhelmingly', 'Magee', 'Dent', 'bulk', 'finished', 'tenderly', 'sausages', 'wartime', 'bull', 'Professional', 'mourning', 'volunteer', 'divisions', 'imbalance', 'Jurisdiction', 'washings', 'Production', 'deloused', 'extracts', 'deadness', 'inherits', 'manually', 'chaotic', 'dissent', 'walks', 'micrometer', 'Imperial', 'commending', 'schoolers', 'convection', 'regression', 'disengage', 'Primate', 'slammed', 'Dorado', 'Drought', 'eugenic', 'Suez', 'Handsome', 'disseminating', 'guises', 'Transitional', 'Ride', 'reporting', 'corkers', 'binoculars', 'ghazal', 'grandstand', 'Unruly', 'spitting', 'Cadillacs', 'sunburn', 'Loses', 'numbered', 'pampered', 'compilations', 'Auschwitz', 'McGlynn', 'knotty', 'muscle', 'inwardness', 'Montaigne', 'placid', 'deltas', 'ratify', 'necessitate', 'Pilgrimage', 'graduate', 'spectrophotometric', 'Kercheval', 'ads', 'desperadoes', 'Grandparents', 'mathematically', 'add', 'propositions', 'Smoldering', 'confusions', 'match', 'dimers', 'molding', 'thoughtlessly', 'Donato', 'Offices', 'Officer', 'Flanked', 'Olney', 'essential', 'reconverting', 'Hands', 'ozone', 'Scarlet', 'contrabass', 'honeycombed', 'accessible', 'Oceania', 'crazily', 'propel', 'bloodroot', 'Bordeau', 'authority', 'Orchester', 'ideals', 'Offers', 'proper', 'Banbury', 'shrug', 'Cott', 'unfunny', 'fluorinated', 'rattlesnake', 'masked', 'bustling', 'assuming', 'Afterward', 'pepper', 'lessens', 'oiled', 'stellar', 'Temperatures', 'although', 'Loyalist', 'raiding', 'seriousness', 'about', 'actual', 'boards', 'mastiff', 'Generation', 'Caravan', 'withdrew', 'Comprised', 'cockroaches', 'coachman', 'evoke', 'fleshy', 'drip', 'unreleased', 'Salinger', 'Comedie', 'obliterated', 'Two', 'playoff', 'esteem', 'Vichy', 'illuminate', 'gleaned', 'annee', 'quivered', 'Mountains', 'Raymondville', 'stairwells', 'Reckon', 'stainless', 'vegetables', 'Chance', 'reigned', 'Vecchio', 'Adirondack', 'Haying', 'rococo', 'dieters', 'glib', 'Minnett', 'chatting', 'Arabians', 'rajah', 'tilled', 'preparations', 'steadied', 'Unpaid', 'besmirching', 'contemptuously', 'tiller', 'stratagems', 'Multiplying', 'Leasing', 'Proposed', 'balletomane', 'Prisca', 'Uninhibited', 'cerulean', 'Discussions', 'Serological', 'alliteration', 'Newbiggin', 'Ivy', 'skating', 'groom', 'recounts', 'Bauhaus', 'Witold', 'undiluted', 'autism', \"aujourd'hui\", 'Mayflower', 'waggling', 'oak', 'Violent', 'Know', \"4'\", 'Knox', 'satirist', 'fussily', 'electrocardiograph', 'wallow', 'Collingwood', 'wallop', 'previous', 'gloriously', 'Orchesis', 'goin', 'musclemen', 'Benita', 'entertainment', 'Wander', 'entreat', 'proctors', 'Sleep', 'parole', 'Techniques', 'limited', 'Lead', 'Vaudois', 'hitch', 'Lear', 'facilities', 'scouted', 'yonder', 'poorly', 'muzzle', 'replacements', 'violate', 'powderpuff', 'crises', 'Naive', 'Corder', 'agitator', 'under', 'stationery', 'rightist', 'Mite', 'Slug', 'conjecture', 'legislators', 'Henri', 'barium', 'Henry', 'Fudo', 'freethinkers', 'monkeys', 'determinedly', 'pooled', 'Reference', 'cause', 'Premier', 'mackinaw', 'remoteness', 'Melody', 'Europeans', 'parted', 'bicycle', 'faintest', 'Creamery', 'consistent', 'frosted', 'fabulous', 'infiltration', 'parapets', 'Drawn', 'friendships', 'fattening', 'redistributed', 'mutational', 'organisms', 'solemn', 'distributive', 'turbofan', 'poison', 'endorse', 'parched', 'Abandoning', 'dauphin', 'teachers', 'Lymington', 'Vilas', 'undressing', 'shills', 'Urged', 'represented', 'aftermath', 'aural', 'fjords', 'forum', 'ventures', 'stipulates', 'Surprisingly', 'Elisabeth', 'Andre', 'Malmud', 'mentor', 'Tabb', 'astuteness', 'punishment', 'ventured', 'Capone', 'Jossy', 'stray', 'straw', 'Studying', 'Boot', 'Liston', 'strap', 'sneer', 'Book', 'Sick', 'plasticity', 'tulle', 'couch', 'cawing', 'Sprouting', 'swingy', 'hospital', 'Express', 'June', 'Rodgers', 'noting', 'reserpine', 'antisocial', 'incautious', 'preview', 'assessment', 'mystical', 'juiciest', 'barbarous', 'Summerdale', 'polyether', 'interpenetrate', 'grief', 'correspondingly', 'Dilthey', 'converted', 'Fonta', 'reeled', 'Write', 'Financial', 'brandishing', 'tremendously', 'boldest', 'prearranged', 'install', 'Warring', 'machinist', 'Mister', 'Popping', 'galling', 'unilateral', 'ingenuity', 'Whippet', 'Polymerization', 'mayhem', 'whizzed', 'camellias', 'Hillman', 'pluralistic', 'Wheel', 'Carvalho', 'sneers', 'scolding', 'vagrant', 'Admissions', 'Felicity', 'Jordan', 'aching', 'Gretchen', 'eyeballs', 'Spoilage', 'badly', 'moisten', 'kilowatt', 'Excellency', 'unwrinkled', 'delicacy', 'containing', 'Marlin', 'jumping', 'snobbery', 'puzzles', 'snarling', 'move', 'intermeshed', 'imbedded', 'Maddalena', 'complexity', 'ultimate', 'innuendoes', 'decreasing', 'aloud', 'vapor', 'oysters', 'cosponsors', 'interpreting', 'Partisan', 'Nostalgia', 'underside', 'Nostalgic', 'synonyms', 'synonymy', 'clapped', 'Nervousness', 'fittings', 'womanhood', 'polities', 'entranced', 'compelling', 'Jacky', 'Syndicate', \"cain't\", 'Observatory', 'tourist', 'fucken', 'confuse', 'churchgoers', 'disreputable', 'shadows', 'interrelationship', 'Coconut', 'heeded', 'Liberal', 'mammas', 'potatoes', 'shadowy', 'Eligio', 'frantically', 'Dizzy', 'Tropez', 'ingratitude', 'Khasi', 'laying', 'mahogany', 'Vinson', 'Damascus', 'Riding', 'ghosts', 'Atlee', 'hurts', 'footfalls', 'depress', 'islanders', 'Chancellor', 'motel', 'tonsil', 'counselors', 'collaborated', 'motet', 'adjust', 'reappraisals', 'heavenly', 'dusky', 'calmest', 'splashed', 'Bardall', 'chisels', 'eternal', 'salesmanship', 'polarize', 'masterpiece', 'splashes', 'Soldiers', 'Studies', 'BTU', 'jangling', 'silicate', 'Impatiently', 'Insects', 'grasses', 'FDA', 'ritual', 'correctness', 'Rittenhouse', 'hopeless', 'Funds', 'aspire', 'onto', 'grassed', 'rang', 'appeals', 'Tensions', 'bandages', 'rank', 'hearing', 'restrict', 'Volare', 'awoke', 'amortization', 'calorie', 'Ammunition', 'traitorous', 'lulled', 'toy', 'rewritten', 'top', 'indeterminate', 'tow', 'antiques', 'ton', 'too', 'flippant', 'inconvenient', 'unbroken', 'toe', 'Sprinkel', 'urban', 'murder', 'indiscreet', 'outdistancing', 'Joneses', 'pondering', 'negotiating', 'solicitor', 'wrapped', 'Forerunner', 'wardrobe', 'nudging', 'garlanded', 'cogently', 'pyramidal', 'bulletins', 'rampage', 'divisible', 'bloated', 'Apartments', 'nastiest', 'precocious', 'interrelated', 'flame', 'mirth', 'prone', 'legibility', 'Triamcinolone', 'Institut', 'bards', 'Shires', 'miserably', 'Menilmontant', 'advising', 'careening', 'Chases', 'cottages', 'Czechoslovakia', 'Conceived', 'snow', 'Picon', 'predominantly', \"Let's\", 'Appendix', 'mopped', 'inured', 'infliction', 'phantasy', 'outscoring', 'complexes', 'lists', 'plenty', 'Beallsville', 'Feeley', 'disarmed', 'prevails', 'devastating', 'uncomplainingly', 'reputation', 'Want', 'pineapple', 'rupees', 'attested', 'section', 'yank', 'Sarah', 'sanctuary', 'herpetologist', 'shipmate', 'marveled', 'reductions', 'manifestation', 'sage', 'liste', 'radii', 'radio', 'solutions', 'Sacred', 'Hartman', 'Saltonstall', 'bluing', 'carbine', 'delays', 'symphonic', 'refreshment', 'Records', 'Abuse', 'disgust', 'lodge', 'announce', 'jeers', 'Whittier', 'continuity', 'imperceptibly', 'asbestos', 'hostility', 'overpressure', 'watch', 'Aah', 'criticized', 'congruent', 'Eurasian', 'intereference', 'report', 'Magdalene', 'reinstall', 'youngish', 'overbearing', 'subservience', 'translating', 'bloat', 'peroxide', 'Colquitt', 'erupt', 'Jupiter', 'cozier', 'Angry', 'automatic', 'Glen', 'fragrant', 'presuming', 'habit', 'wrest', 'discussant', 'Abide', 'inapt', 'detection', 'Remaking', 'corrupt', 'Macmillan', 'phloem', 'byword', 'gentility', 'Dodgers', 'Desegregation', 'unalienable', 'bellowing', 'approach', 'deputy', 'purity', 'incarnation', 'Budgeting', 'indecision', 'southeast', 'Lumber', 'Bangs', 'wear', 'honeysuckle', 'goddess', 'irregular', 'Karet', 'beeps', 'Thomson', 'Karen', 'chandeliers', 'games', 'variance', 'evenutally', 'Maj.', 'Rhinoceros', 'Hinsdale', 'majestic', 'litigant', 'trust', 'banisters', 'casters', 'Publicity', 'rotenone', 'dramatist', 'Sandman', 'Hazard', 'quickly', 'universals', 'submarine', 'communion', 'expected', 'shrewdest', 'Kasai', 'drugs', 'glided', 'Geographic', 'sallow', 'Philip', 'windup', 'deeps', 'extruded', 'Allay', 'Okamoto', 'leprosy', 'stopping', 'delle', 'marinade', 'procedure', 'extruder', 'confreres', 'subnormal', 'pyramid', 'Ellis', 'provocative', 'slovenliness', 'Sounion', 'submissive', 'expenses', 'Ellie', 'experts', 'roadways', 'exterior', 'interacts', 'Nathaniel', 'leaches', 'suggest', 'unrecognized', 'repudiating', 'whitened', 'bifocals', 'uncharged', 'Schweitzers', 'Lebanese', 'satellite', 'settle', 'Maguire', 'lusts', 'Sarasate', 'springtime', 'suburb', 'portal', 'Bristol', 'insisted', 'Bowers', 'McConnell', 'gabble', 'savings', 'Upholds', 'incapable', 'mother', 'alarms', 'seasonal', 'appease', 'Lots', 'ephemeral', 'mending', 'massifs', 'bugged', 'thumbs', 'breaching', 'Churches', 'strenuously', 'Georgians', 'Ought', 'elk', 'Koussevitzky', 'collars', 'ell', 'vibration', 'niggers', 'thick', 'Auf', 'relatives', 'kelp', 'teenager', 'unaggressive', 'tolerable', 'bustle', 'xylophones', 'atmospheres', 'Piero', 'mounds', 'Reduces', 'addicts', 'spanned', 'upturn', 'cultural', 'Gosh', 'rubbing', 'Cotty', 'judge', 'authorship', 'roach', 'Rembrandt', 'Reduced', 'Piers', 'conspiratorial', 'appearing', 'triplication', 'hunt', 'dishonest', 'skulls', 'Hedda', 'hunk', 'overrated', 'arbitrary', 'hung', 'superlative', 'petting', 'frustrations', 'successfully', 'proudly', 'Wildenstein', 'encumbrances', 'Much', 'roamed', 'Fargo', 'doorstep', 'anciently', 'proceeding', 'Cuba', 'companions', 'Davy', 'totals', 'everything', 'Dave', 'ditty', 'Cubs', 'intolerant', 'splendor', 'expires', 'PBS', 'enunciate', 'disappeared', 'discount', 'lamps', 'permitted', 'mechanized', 'interjected', 'Madison', 'Niccolo', 'Grassy', 'cowboy', 'plum', 'Disarmament', 'trustworthy', 'embody', 'plus', 'glowering', 'conformations', 'Hone', 'Hong', 'civic', 'civil', 'obtaining', 'naturalized', 'tablespoon', 'Schaffner', 'maltreat', 'trafficked', 'fruitful', 'classiest', 'Trastevere', 'Weissmuller', 'stereotype', 'bootlegging', 'buffoons', 'attainments', 'Traditionalist', 'personage', 'Illustration', 'Fellini', 'virgin', 'Traditionalism', 'fought', 'Aurelius', 'crews', 'astrophysics', 'gin', 'Bonjour', 'metabolism', 'archives', 'questionable', 'intolerance', 'steers', 'attempted', 'Hon.', 'illuminating', 'satisfactorily', 'Emotional', 'attesting', 'cylinders', 'Conquest', 'ruined', 'quicksilver', 'oratorical', 'phosphate', 'decorate', 'submitting', 'clawed', 'Surgery', 'Governors', 'Vista', 'hams', 'forearm', 'fury', 'Pensacola', 'Viator', 'Abigail', 'Ashikaga', 'sq.', 'acclaimed', 'shines', 'annoying', 'injurious', 'Gladdy', 'propagandists', 'faithful', 'Fragment', 'whereas', 'loosening', 'punster', 'Maureen', 'bunkmate', 'formalize', 'unbalanced', 'subsidize', 'cleric', 'superposition', 'Effective', 'Relishes', 'toad', 'spoils', 'miscellaneous', 'blokes', 'Splendor', 'ridges', 'Happy', 'discharge', 'longrun', 'Emile', 'navel', 'Kohi', 'yacht', 'Dumas', 'intimacy', 'Nights', 'melodically', 'regulars', 'focus', 'adjective', 'ice', 'Currency', 'discern', 'underpins', 'cooped', 'click', 'glittered', 'charge', 'Hi', 'promoting', 'Leisurely', 'weakening', 'Anthem', 'discovering', 'outmoded', 'coop', 'federation', 'Maquet', 'shibboleths', 'Ferro', 'sours', 'nesting', 'cook', 'Ferry', 'cool', 'couches', 'camaraderie', 'couched', 'encroach', 'Hereford', 'He', 'dries', 'drier', 'invader', 'invades', 'obsolete', 'weatherproof', 'Questioned', 'Sorrentino', 'bacteria', 'slumbered', 'endangering', 'deluded', 'Honolulu', 'Hurts', 'splotched', 'Duel', 'Titian', 'pathless', 'evolved', 'prescriptions', 'channeled', 'cylindrical', 'Gasoline', 'chairing', 'Lucius', 'supercilious', 'noticeable', 'healthy', 'Aikin', 'guilty', 'Sibly', 'denunciation', 'hospitality', 'noticeably', 'Conference', 'paralyzes', 'Said', 'somersaults', 'Adios', 'soybeans', 'hopeful', 'Sail', 'connivance', 'Member', 'Baines', 'paralyzed', 'ballets', 'Ind.', 'Siegfried', 'Emperor', 'handled', 'brighter', 'Defrost', 'stated', 'sports', 'handles', 'Carbones', 'Pestle', 'Designers', 'reorder', 'lawns', 'bombastic', 'neglected', 'Czarina', 'Eve', 'offing', 'Asher', 'flapping', 'prophecy', 'misdemeanants', 'Procedure', 'autumn', 'sheds', 'Family', 'Burst', 'revivified', 'mortality', 'moonlit', 'Mij', 'iodine', 'Mio', 'auxiliaries', 'diving', 'Wheaton', 'Mig', 'shards', 'millionaires', 'unarmed', 'Edmund', 'Laban', 'counting', 'intelligible', 'parliamentary', 'Venezuelan', 'sweetish', 'Persian', 'Underwood', '1', 'sprouting', 'cardinal', 'salts', 'H.', 'subsidiaries', 'redwoods', 'etched', 'micrometeorite', 'whipsawed', 'paramount', 'clattered', 'crashes', 'crasher', 'impartial', 'Prop.', 'Seats', 'dazzle', 'Ramirez', 'crashed', 'depriving', 'curing', 'efforts', 'muggy', 'Luette', 'dynamical', 'liquid', 'Damas', 'cosmology', 'propriety', 'Trinitarians', 'Parties', 'invests', 'Morton', 'Trenchard', 'Kwango', 'extractor', 'subsections', 'furnished', 'understandingly', 'discharging', 'furnishes', 'paternalism', 'White', 'Pupils', 'supplemented', 'skinfolds', 'abhorred', 'offers', 'tangos', 'Using', 'happened', 'lonely', 'cling', 'Cable', 'unhurriedly', 'underneath', 'tulip', 'conquer', 'lustful', 'Pontchartrain', 'superlatives', 'term', 'clannishness', 'arteriolar', 'clutch', 'sensibilities', 'synchronize', 'picnics', 'accomplishments', 'Centrality', 'creature', 'individually', 'Hanover', 'trunks', 'Dervish', 'ailment', 'populated', 'hiccups', 'Margenau', 'uninhibited', 'Semiramis', 'inopportune', 'apothecary', 'tuned', 'obsession', 'cafeteria', 'infarct', 'depersonalized', 'inadequacy', 'cancels', 'rounds', \"shouldn't\", 'kidnaped', 'gram', 'simile', 'antiphonal', 'Verner', 'Record', 'flyer', 'bumblebees', 'skillfully', 'Occidental', 'Security', 'limps', 'grab', 'surmises', 'calories', 'unpaid', 'butterflies', 'Jussel', 'swine', 'broached', 'Kaboom', 'Hospice', 'childhood', 'ammo', 'Bowden', 'Schapiro', 'knoweth', 'Hertz', 'Hengesbach', 'Start', 'Stars', 'Starr', 'array', 'appealed', 'petered', 'engineer', 'tingling', 'clanking', 'given', 'necessarily', 'district', 'Baldy', 'Bernoulli', 'provenance', 'antibiotics', 'flutter', 'Fiorello', 'Skyway', 'terrifying', 'peddled', 'legally', 'Provision', 'giver', 'gives', 'seduced', 'summarization', 'Keeping', 'greenly', 'releases', 'cope', 'Pasternak', 'terrain', 'Siddo', 'tintable', 'Naked', 'cops', 'alas', 'canine', 'seducer', 'operates', 'Mobutu', 'specify', 'population', 'Katanga', 'possiblities', 'unfortunately', 'oats', 'Regionalism', 'Coleridge', 'Tune', 'schooled', 'Alpers', 'outcome', 'Nicaragua', 'Alpert', 'polycrystalline', 'rend', 'froth', 'Topkapi', 'Prussia', 'generalization', 'scorecard', 'rent', 'cupful', 'straddled', 'sells', 'sashayed', 'marathon', 'homerun', 'Fazio', 'ideas', 'ideal', 'Operating', 'Raine', 'fracture', 'sorority', 'conductivity', 'blunt', 'urge', 'hooves', 'aspen', 'probed', 'inks', 'Didi', 'clearer', 'barflies', 'stormed', 'Wyn', 'cleared', 'probes', 'Littau', 'Taoism', 'adopt', 'hungry', 'Ellsworth', 'sculpted', 'bawling', 'casebook', 'convoy', 'hustled', 'southward', 'Whittaker', 'workshops', 'Comments', 'Fellowship', 'dealerships', 'shibboleth', 'Beaver', 'mister', 'hustler', 'Drunkenness', 'partake', 'invocation', 'transfusions', 'slimly', 'linden', 'icebox', 'uncles', 'H', 'Twigs', 'EQU', 'She', 'strafing', 'hedge', 'Negligence', 'reveal', 'workman', 'obliterate', 'kickbacks', 'McIntyre', 'discussing', 'microphones', 'imposing', 'bids', 'abler', 'connections', 'turntable', 'disarranged', 'college', 'Wildly', 'apologies', 'Sen.', 'stepson', \"cat's\", 'premiums', 'intensifiers', 'Shopping', 'farmers', 'federal', 'Mont.', 'Unoccupied', 'definite', 'outside', 'hiss', 'reproducible', 'cantered', 'corridors', 'communicators', 'synthetics', 'Natural', 'Civilian', 'January', 'indiscriminate', 'Monte', 'wanders', 'Kokoschka', 'priests', 'recumbent', 'Millay', 'Tsarevich', 'Individual', 'restorers', 'Abernathy', 'item', 'Monty', 'duty', 'Guess', 'Guest', 'Shortstop', 'bricks', 'Jahr', 'pot', 'pontificates', 'hunched', 'Shriver', 'pop', 'satisfaction', 'atrociously', 'jammed', 'endeavor', 'hunches', 'believably', 'teammate', 'Electric', 'troupes', 'rhinestones', 'bequeathed', 'yeasts', 'Rossoff', 'helicopter', 'confessions', 'engine', '6a', 'Hellenic', 'Phil', 'Together', 'Stavropoulos', 'tiger', 'padlock', 'minister', 'Elysees', 'eaters', 'careful', 'irrelevant', 'champions', 'sediments', 'myself', 'snails', 'macromolecules', 'advocating', 'mount', 'volatilization', 'Magnum', 'premature', 'Ciudad', 'slippery', 'Balanced', 'mound', 'hunts', 'interconnected', 'slippers', 'vest', 'Slice', 'Silvers', 'coupled', 'candies', 'Edwin', 'Oak', 'discrepancy', 'couples', 'coupler', 'recounted', 'Linguistic', 'decisively', 'Correspondence', 'Factions', 'erroneously', 'Schwarzkopf', 'Burger', 'quarreling', 'trip', 'motley', 'Titles', 'E.', 'Experimentally', 'heavenward', 'persona', 'Commodity', 'Goody', 'nest', 'refusal', 'Rockefeller', 'Soup', 'decently', 'Sour', 'conductors', 'unqualified', 'cartoon', 'vowed', 'Buckhead', 'Drunken', 'eucalyptus', 'antibodies', 'scabbed', 'ranch', 'magical', 'sculptors', 'reward', 'Physical', 'Vikings', 'ya', 'Oslo', 'Heron', 'actions', 'risking', 'Nikolais', 'provincial', 'Enfield', 'fineness', 'satin', 'incurring', 'halfway', 'alphabetical', 'widest', 'rose', 'seems', 'empiricism', 'thimble', 'rosy', 'dully', 'bloops', 'disrupt', 'dulls', 'sociality', 'Enemy', 'anchovy', 'kills', 'reassured', 'Adair', 'watercolorists', 'inflation', 'confined', 'accepted', 'Beiderbecke', 'furniture', 'isomers', 'Wynn', 'Producer', 'Los', 'exquisitely', 'reduces', 'reducer', 'bracelet', 'sanity', 'coping', 'Congresses', 'snort', 'reduced', 'Antoinette', 'Bookwalter', 'burdens', 'joking', 'West', 'cynicism', 'overheated', 'Employes', 'Employer', 'permitting', 'Jolla', 'Employee', 'Ours', 'oftener', 'Luxemburg', 'Bartleby', 'olive', 'eloquence', 'boatsmen', 'Basler', 'Europeanized', 'ornamentation', 'Giddings', 'herringbone', 'Rutherford', 'Militia', 'Neuberger', 'radiography', 'cornucopia', 'jeep', 'Thelma', 'informing', 'creepers', 'stand', 'determinable', 'Prayer', 'Bexar', 'cosmopolitanism', 'propelling', 'polka', 'garb', 'skippers', 'breakwater', 'Identification', 'cent', 'Otto', 'theoretically', 'bends', 'buds', 'boatloads', 'Bultmann', 'Nabisco', 'stickler', 'Wheeler', 'edges', 'Ashamed', 'Infinite', 'saxophonist', 'potpourri', 'forbade', 'conciseness', 'Remember', 'kittens', 'Errol', 'lapidary', 'regard', 'amongst', 'burrs', 'Melies', 'Inscribed', 'promote', 'emancipate', 'Heavy', 'Chadwick', 'caveat', 'Heave', 'Serum', 'enriched', 'ruffian', 'Layout', 'Space', 'bleakly', 'shoulders', 'ineluctable', 'Detergent', 'Consultation', 'smokescreen', 'McKenzie', 'aces', 'encompass', 'bishop', 'protruded', 'heather', 'discerned', 'compel', 'Ankara', 'narrowing', 'Hired', 'heathen', 'starkly', 'brash', 'briefly', 'Farnum', 'winking', 'McCormick', 'Physicians', 'exploiters', 'unbent', 'Perier', 'Sensibility', 'unresponsive', 'thematic', 'Agamemnon', 'variegated', 'quavering', 'internalized', 'lamentations', 'apparel', 'stephanotis', 'sudsing', 'hitless', 'transports', 'all', 'quizzical', 'Delphi', 'Breed', 'Frederick', 'swerving', 'eschewed', 'spacecraft', 'systemic', 'Sabinas', 'Messrs', 'dish', 'disk', 'Rochdale', 'Ensemble', 'wakened', 'Ritschl', 'wanton', 'homage', 'Strut', 'Boils', 'stochastic', 'Porters', 'Vs.', 'activities', 'liter', 'BMT', 'sundials', 'oxides', 'admonition', 'Fowler', 'awful', 'forestall', 'unlined', 'quadriceps', 'Railroad', 'sentimental', 'Nursing', 'proscribed', 'Vail', 'defensiveness', 'Neglected', 'Class', 'Psyche', 'outspread', 'Nitrogen', 'attentions', 'Wellesley', 'immanent', 'monodisperse', 'reins', 'Ewen', 'Cannibal', 'Tolls', 'Interest', 'Circle', 'remarkably', 'what', 'displaying', 'magnolia', 'drifting', 'crust', 'overload', 'crush', 'faltered', 'racing', 'multitude', 'Rusk', 'Rush', 'passiveness', 'tags', 'unwaveringly', 'unprofessional', 'raked', 'Baylor', 'condenser', 'borates', 'Russ', 'Rust', 'mythology', 'identifiable', 'piquant', 'pulverizing', 'Maude', 'outposts', 'bodes', 'imaging', 'paired', 'fernery', 'crackling', 'Top', 'Yogi', 'bathers', 'semester', 'Too', 'ocelot', 'Tom', 'coatings', 'potboilers', 'senders', 'obscurely', 'Lived', 'jurors', 'Inspection', 'denominated', 'Sipping', 'Lives', 'widens', 'markets', 'minor', 'uplands', 'underprivileged', 'knows', 'spacers', 'Newspapers', 'lopsidedly', 'Wyatt', 'basically', 'known', 'elegantly', 'Homecoming', 'confessionals', 'parable', 'stationmaster', 'Particularly', 'Figurines', 'irritations', 'Inn', 'wrestles', 'tabernacles', 'pony', 'Grahamstown', 'Allotments', 'treasured', 'pond', 'Coleman', 'swung', 'allege', 'Caucasian', 'meandered', 'influenced', 'Parliament', 'court', 'broadly', 'obverse', 'bridgehead', 'goad', 'Holty', 'Telli', 'influences', 'bawdy', 'explains', 'goat', 'Structural', 'acknowledging', 'algebra', 'Mattei', 'weaknesses', 'Gallium', 'Foreign', 'Matter', 'catalog', 'Incapable', 'mountings', 'cutoff', 'profited', 'chiefly', 'rationalize', 'prefers', 'interpolations', 'artful', 'assailant', 'shade', 'romancers', 'outrages', 'essence', 'Katya', 'doorknob', 'Nikko', 'sponging', 'outraged', 'underplayed', 'Wolfgang', 'inquiries', 'developer', 'disagreed', 'style', 'Full', 'pray', 'abbey', 'resort', 'harmonies', 'disagrees', 'prai', 'Estimate', 'flexural', 'pram', 'northwest', 'Combs', 'sucking', 'Goodwill', 'woulda', 'immobility', 'Bead', 'communities', 'Obesity', 'ruthlessness', 'lineages', 'Hutchins', 'characterizes', 'policeman', 'debacle', 'friendship', 'characterized', 'Lambeth', 'colder', 'Mort', 'Untch', 'Platform', 'expect', 'Mischa', 'inflated', 'Were', 'More', 'Lou', 'reverent', 'gangland', 'wondered', 'Weathers', 'lionesses', 'clandestine', 'induces', 'adhere', 'Culturally', 'shipment', 'diaphragms', 'induced', 'remodeling', 'appearances', 'monotone', 'Howser', 'differ', 'tractors', 'cookie', 'monotony', 'Transportation', 'loused', 'bushes', 'Malone', 'Flemish', 'starched', 'outstripping', 'Paso', 'Past', 'Expect', 'Pass', 'consequence', 'bushel', 'feed', 'Huge', 'dine', 'hydrides', 'dammed', 'feel', 'Redondo', 'Hugo', 'Hugh', 'Rex', 'feet', 'sympathy', 'sailor', 'Ekwanok', 'notify', 'soapy', 'says', 'soaps', 'Eating', 'gourmet', 'Selma', 'brisker', 'hangs', 'Evangelism', 'aristocracy', 'recovered', 'pump', 'checklist', 'hotel', 'Companies', 'optical', 'megalomania', 'Nevsky', 'inaugurated', 'Road', 'inland', 'nagging', 'professeur', 'aims', 'Babin', 'outrageous', 'harping', 'mania', 'architect', 'risks', 'insulted', 'outdoors', 'restful', 'Youngish', 'risky', 'liabilities', 'suspicious', 'Jane', 'cognizant', 'Odessa', 'Tide', 'nights', 'Jagan', 'imitations', 'moist', 'Finished', 'Experiments', 'Germany', 'substitute', 'finding', 'donor', 'Decorated', 'contractual', 'Germans', 'seedless', 'unremarkable', 'instigator', 'intervened', 'Hokan', 'harangued', 'screenings', 'cigarette', 'choral', 'Diagnosis', 'nothing', 'prestige', 'transcending', 'Skill', 'Champion', 'Augustine', 'Stannard', 'Speer', 'Interpersonal', 'Kimmell', 'saloon', 'notch', 'Speed', 'Euripides', 'journeys', 'Cerebral', 'pennies', 'wildcatter', 'readjustment', 'Rothko', 'Skinny', 'Kirkland', 'outrigger', 'stubble', 'gilded', 'Amateur', 'delinquent', 'stairs', 'inflection', 'grotesque', 'Wilfred', 'congestive', 'unsuited', 'Liberia', 'publicity', 'spurious', 'compiled', 'multimillionaire', 'fastest', 'Recommendations', 'critically', 'compiler', 'Protests', 'continuum', 'Fiske', 'Sleight', 'medicines', 'insidiously', 'timeless', 'Shortcuts', 'investigate', 'Dalles', 'Itasca', 'submariners', 'Salaries', 'wheeling', 'retaliated', 'repulsed', 'choreographer', 'achieved', 'Archbishop', 'choreographed', 'declined', 'annihilation', 'mechanically', 'dais', 'degrading', 'playmates', 'downturn', 'numerous', 'Mahayana', 'leavings', 'creating', 'desegregated', 'Toys', 'Tunnard', 'nonionic', 'Camilo', 'competent', 'Highfield', 'prelude', 'relying', 'prescription', 'hesitant', 'hermetic', 'Reinhard', 'distinctively', 'context', 'mg', 'blissfully', 'Happiness', 'Moloch', 'reject', 'chaperon', \"rockin'\", 'simpler', 'decline', 'java', 'deprecatory', 'scented', 'political', 'refrigeration', 'checkbook', 'Travancore', 'tangents', 'referee', 'orchestral', 'stratum', 'chided', 'brokers', 'orchestras', 'swellings', 'rocking', 'Donnay', 'concentrates', 'plants', 'conception', 'Ganado', 'Winston', 'Sales', 'evaluated', 'mythologies', 'Salem', 'barricade', 'Italy', 'canvassed', 'orthography', 'gasket', 'disappointing', 'awakening', 'frantic', 'Ruggiero', 'alliances', 'hookworm', 'stimulates', 'nightingales', 'assuaged', 'Nation', 'stimulated', 'kimono', 'firearms', 'peoples', 'esteemed', 'advise', 'Vermont', 'literature', 'painless', 'flows', 'holidays', 'Traditional', 'flown', 'doers', 'resonance', 'anhydrous', 'Samar', 'stateless', 'congregated', 'Carter', 'Trevelyan', 'cheek', 'chickens', 'cheer', 'Kyoto', 'stating', 'motorscooters', 'bureaucracies', 'pollen', 'gorgeously', 'carport', 'Anzilotti', 'Fearful', 'polled', 'bottoms', 'Bourbon', 'Territory', 'profitable', 'tables', 'morals', 'tablet', 'Francaise', 'workers', 'Diversified', 'drooped', 'contractor', 'governmental', 'Acadia', 'Glocester', 'Stout', 'judiciously', 'Palfrey', 'profitably', 'associations', 'customers', 'Lass', 'Last', 'tease', 'Evensen', 'Youths', 'astringent', 'Air', 'Anxious', 'moods', 'Aid', 'awaken', 'moody', 'plundering', 'rotate', 'lost', 'shaped', 'Tacitus', 'brace', 'commanders', 'shapes', 'distrust', 'unendurable', 'rots', 'hallmark', 'theistic', 'fellers', 'billets', 'clown', 'sprightly', 'aptitudes', 'String', 'Sneed', 'seller', 'Tulln', 'Hemisphere', 'orthodontists', 'innovation', 'Fooled', 'Frenchman', 'payments', 'porridge', 'Timex', 'yaws', 'telegrapher', 'weir', 'Times', 'aloft', 'Command', 'upraised', 'fugitives', 'telegraphed', 'Damned', 'dormant', 'Square', 'undertow', 'housekeeping', 'wherefores', 'firing', 'forbears', 'Motive', 'Fishkill', 'militia', 'purists', 'fantasia', 'wanna', 'gamma', 'Wolcott', 'conserving', 'blouses', 'Elmer', 'nerveless', 'Stranahan', 'figs.', 'drifted', 'Roberto', 'diameters', 'featureless', 'ache', 'baggy', 'Anthony', 'capacitance', 'Fahey', 'analyze', 'sections', 'oilseeds', 'austerely', 'files', 'plunge', 'beriberi', 'Stems', 'scuffle', 'cloth', 'Ltd.', 'filed', 'junior', 'shutters', 'motive', 'patriot', 'consist', 'Mumford', 'apricot', 'Preston', 'barring', 'Cruise', 'highlight', 'barkeep', 'strands', 'Belt', 'smeared', 'individuality', 'freak', 'Tims', 'airdrops', 'vaguest', 'enduringly', 'Luisa', 'puttering', 'Luise', 'Roberts', 'Grecian', 'graham', 'Coolers', 'rainy', 'Curtis', 'rains', 'endurance', 'Babcock', 'parlor', 'outputs', 'ferment', 'Curtin', 'unjustifiable', 'mock', 'generates', 'Metro', 'backbone', 'problems', 'helping', 'generated', 'garbed', 'vigil', 'competitor', 'Calling', 'counterpointing', 'rightful', 'Bankhead', 'progressivism', 'Buries', 'vice', 'Malcolm', 'Migrant', 'attaining', 'narrative', 'beers', 'Carolinas', 'intentional', 'once', 'gabardine', 'McAlester', 'epitomizes', 'Midwesterners', 'Bologna', 'alleyways', 'Veterinary', 'resistance', 'However', 'Boating', 'epitomized', 'grinding', 'Symington', 'acclimatized', 'worrisome', 'rigidity', 'venerated', 'monomer', 'Ky.', 'Object', 'Geneticist', 'Carsten', 'Belvedere', 'dramatically', 'ionizing', 'breathing', 'seized', 'Whitman', 'bibles', 'ed.', 'Calvin', 'spoon', 'midwestern', 'artery', 'spoof', 'Irishman', 'posture', 'oboist', 'Kyo', 'gullible', 'tenderness', 'Bryant', 'polling', 'stratify', 'relives', 'pleas', 'someday', 'smaller', 'Brien', 'goodies', 'Vegetables', 'datelined', 'lightest', 'Brief', 'Gustave', 'traveling', 'plead', 'coated', 'Somerset', 'friable', 'Cabrini', 'Gleason', 'gainers', 'appeased', 'sables', \"man's\", 'Regulations', 'gubernatorial', 'capital', 'Kingdom', 'Highlands', 'Clad', 'categorically', 'indicator', 'myosin', 'Leonato', 'Clay', 'Rummaging', 'communicational', 'unenviable', 'Moments', 'incriminating', 'headless', 'Danchin', 'Tanny', 'worthiest', 'Motor', 'armpit', 'Trustee', 'Thackeray', 'boyars', 'stockholders', 'Readers', 'Operational', 'Safety', 'columnists', 'copybooks', 'galloped', 'unlaced', 'consumption', 'Stowey', 'devotional', 'amazons', 'bottomless', 'unequally', 'possession', 'tonics', 'Lane', 'Land', 'Lana', 'Gyp', 'steadfastly', 'virulence', 'recount', 'stabilized', 'panted', 'Pappas', 'Uniqueness', 'undecorated', 'dusted', 'anywhere', 'stabilizes', 'performed', 'Maynard', 'confidante', 'patrol', 'patron', 'Parti', 'Patriot', 'Pioneer', 'Nairne', 'bloodiest', 'Party', 'greening', 'quacks', 'counterfeit', 'Shipments', 'sir', 'sip', 'scuff', 'adjourns', 'sit', 'tamper', 'invulnerability', 'six', 'outclass', 'unquestionable', 'sic', 'unquestionably', 'slamming', 'instead', 'sin', 'dominion', 'Ghost', 'maternal', 'maladjustment', 'demonstrates', 'immersed', 'impulsive', 'detachment', 'abuse', 'resent', 'polarities', 'improviser', 'improvises', 'Seeming', 'light', 'sanest', 'doubleheader', 'improvised', 'necklace', 'WACS', 'Hammer', 'preparing', 'rusted', 'stamped', 'coolly', 'tropics', 'damsel', 'beguile', 'pistols', 'Oriental', 'quake', 'lifeblood', 'remove', 'Beirut', 'badges', 'horizontally', 'longitudinal', 'Vermeersch', \"Women's\", 'restrain', 'glisten', 'parroting', 'redhead', 'troubleshooter', 'Testifies', 'edging', 'belted', 'flex', 'pecans', 'citrus', 'gasser', 'Cap', 'Cav', 'flew', 'Cat', 'Can', 'Cam', 'Lavato', 'Mawr', 'flee', 'fled', 'gassed', 'worlds', 'grisly', 'feast', 'accidents', 'Restrict', 'Rubens', 'rockets', 'beveled', 'bills', 'Izvestia', 'lilac', 'tepid', 'related', 'Next', 'interplay', 'stewardesses', 'colonnade', 'preying', 'indulged', 'shearing', 'tabulate', 'irritability', 'Babe', 'cocktail', 'frontier', 'Approach', 'Jastrow', 'exporting', 'Baby', 'attentively', 'Conseil', 'maintains', 'Sacrifices', 'Alva', 'vacations', 'repairing', 'Gone', 'river', 'latitudes', '4th', 'Halma', 'surrealists', 'tacked', 'plainly', 'Andromache', 'wakening', 'echo', 'intuitively', 'Accordingly', 'straight', 'bois', 'laughingly', 'North', 'publication', 'LeClair', 'Bonaventure', 'Miriam', 'their', 'Segur', 'unbelievably', 'canvassers', 'badness', 'boil', 'shell', 'Success', 'Meredith', 'shelf', 'reversed', 'musings', 'instituted', 'Daphne', 'reflecting', 'baptized', 'reverses', 'congenital', 'Deutsch', 'isolation', 'proneness', 'rarity', 'probe', 'sed', 'squealing', 'Deterrent', 'sea', 'violets', 'alerted', 'Simms', 'writhed', 'academically', 'Michelangelo', 'angle', 'rearranged', 'After', 'dilemmas', 'which', 'Asleep', 'Severna', 'Lichtenstein', 'Watling', 'clash', 'pronouncement', 'Joined', 'Lucretia', 'grievance', 'cracking', 'emancipation', 'Dodger', 'class', 'puncturing', 'statute', 'jubilation', 'Lock', 'unsettling', 'Pop', 'exhorting', 'neatness', 'vernacular', 'Pod', 'Poe', 'hypervelocity', 'inspirations', 'kegs', 'bulging', 'chances', 'Dumpty', 'stove', 'Genevieve', 'Territorial', 'chancel', 'roundness', 'darkest', 'subtracting', 'bottling', 'highest', 'naturalistic', 'boucle', 'gouging', 'Promptly', 'surroundings', 'verbs', 'bogged', 'combo', 'piano', 'intranasal', 'Eurydice', 'enthrones', 'Considered', 'midnight', 'soirees', 'Tarrant', 'Abandon', 'chips', 'clothbound', 'queried', 'fangs', 'belts', 'deceives', 'affluent', 'acutely', 'queries', 'saucers', 'Burnham', 'inventive', 'acquired', 'doormen', 'ruthenium', 'FDR', 'geometrically', 'Hirsch', 'Ballad', 'acquires', 'puts', 'televised', 'Huntingtons', 'coveting', 'Lawless', 'broach', 'Newells', 'rendition', 'frustrated', 'variability', 'Gazettes', 'amen', 'Florida', 'Doxiadis', 'Zabel', 'stropped', 'Against', 'Volkswagens', 'swift', 'recitals', 'Gospels', 'undrinkable', 'epidemics', 'believer', 'dismemberment', 'cavalcades', 'Indies', 'Rolls', 'Axis', 'sequenced', 'Cargo', 'wall', 'unlamented', 'walk', 'interface', 'Finally', 'Sierras', 'Could', 'sequences', 'overpayment', 'flourish', 'trays', 'Preserve', 'subsurface', 'Grzesiak', 'Kirkpatrick', 'intendant', 'charts', 'Sandra', 'Active', 'ungallant', 'Appleton', 'tissues', 'nickel', 'OBE', 'twinge', 'injustices', 'walloping', 'overture', 'unmoved', 'Joplin', 'present', 'inconspicuous', 'abandoned', 'unlike', 'CDC', 'means', 'Panting', 'chimes', 'Distributive', 'barely', 'apprehend', 'disapprove', 'encouragement', 'bookies', 'no.', 'gothic', 'Spirito', \"Russia's\", 'Stooges', 'Loving', 'disapprovingly', 'education', 'Brazos', 'enumeration', 'unity', 'Schwarzen', 'Waveland', 'gets', 'tomatoes', 'cinq', 'sops', 'Ridpath', 'windstorm', 'Alma', 'Third', 'outcast', 'automation', 'coaches', 'student', 'Manuel', 'pedal', 'Gansevoort', 'lobby', 'gutter', 'plowed', 'badminton', 'ingredients', 'banded', 'gutted', 'spectator', 'Gables', 'Gabler', 'Faithful', 'obtain', 'batteries', 'recollection', 'Greenock', 'Wells', 'biologist', 'neurasthenic', 'toilets', 'pendulum', 'Giles', 'breastworks', 'hastening', 'attractive', 'cruisers', 'Pioneers', 'stowed', 'unprecedented', 'frieze', 'stumps', 'masquerade', 'USGA', 'Camels', 'Deluxe', 'Endgame', 'racists', 'Carrie', 'Guam', 'sophomore', 'Foods', 'Guar', 'Inspector', 'ventilates', 'scared', 'Informed', 'ventilated', 'platforms', 'Kahn', 'export', 'twirling', 'Underground', 'ablaze', 'Mando', 'possibilities', 'NORAD', 'Warmly', 'underlay', 'Sihanouk', 'Schwab', 'detergent', 'campfire', 'noose', 'pricked', 'debuts', 'curtseyed', 'apostolic', 'dangling', 'Range', 'proprieter', 'asinine', 'filth', \"Lord's\", 'linger', 'universe', 'Persians', 'traditionalism', 'monthly', 'Zero', 'swear', 'sweat', 'stab', 'cocked', 'dulcet', 'travelers', 'unproductive', 'yanked', 'convicted', 'Ivory', 'van', 'exciting', 'unpatriotic', 'artifacts', 'incipient', 'support', 'kidding', 'polymerization', 'uniting', 'citations', 'dynamite', 'stymied', 'Commands', 'Shipman', 'mutter', 'Detroit', 'unfalteringly', 'mailed', 'courtliness', 'Following', 'teaming', 'squeeze', 'made', 'tactics', 'hitter', 'whether', 'Engaged', 'Pemberton', 'below', 'ruling', 'Catatonia', 'Engages', 'stirring', 'unfolding', 'Hamrick', 'inadequate', 'Writes', 'Writer', 'fertilizers', 'Fortunate', 'plaques', 'Forks', 'diplomat', 'calibration', 'Freinkel', 'Maris', 'waterskiing', 'Marin', 'Mario', 'Decathlon', 'cutthroat', 'Marie', 'Banner', 'clicks', 'pantomime', 'watercolors', 'Route', 'truckers', 'sustains', 'metabolized', 'risked', 'Marble', 'incurred', 'alienated', 'Coach', 'ranks', 'Competitive', 'profit', 'volumes', 'alienates', 'sleeves', 'Shooting', 'sopping', 'unimaginative', 'sunbonnet', 'Avocado', 'Heights', 'Survivability', 'railing', 'treading', 'junketeering', 'granting', 'eligible', 'snowing', 'aggregations', 'wheeled', 'Ronald', 'superficially', 'lore', 'lord', 'dissolution', 'ostinato', 'digit', 'hormone', 'Frankly', 'cardiomegaly', 'rearguard', 'experimentally', 'Ducking', 'lecturing', 'Presumably', 'internally', 'scholar', 'Chippendale', 'clientele', 'Brandywine', 'piling', 'lime', 'Sands', 'Bavaria', 'nigh', 'tired', 'contretemps', 'bacon', 'pulse', 'tires', 'elegant', 'rusty', 'inheritors', 'haughtily', 'blouse', 'Althea', 'Lucille', 'Unemployed', 'boogie', 'contributed', 'fingers', 'Weary', 'Wrong', 'roadhouse', 'contributes', 'exclamations', 'specialist', 'misjudged', 'hero', 'brocaded', 'Plate', 'herb', 'splinter', 'platitudinous', 'sunspot', 'here', 'herd', 'Radhakrishnan', 'chassis', 'hers', 'shriek', 'calculate', 'Precise', 'bulkhead', 'chlorides', 'pretensions', 'reactivated', 'reports', 'symmetrical', 'cancellation', 'classification', 'secluded', '9a', 'bauble', '9e', 'panjandrum', 'psychological', 'Basie', 'pound', 'Basic', 'Basil', 'Wales', 'Basin', 'Messing', 'Messina', 'unit', 'painters', 'cherishing', '9N', 'Admitting', 'Checkit', 'backing', 'Tex.', 'untie', 'Chahar', 'Expressionism', 'until', 'Charity', 'suffocated', 'Tudor', 'playboy', 'Necessary', 'Christine', 'brings', 'gashes', 'canonized', 'Person', 'Emerson', 'menaced', 'aux', 'midst', 'ducks', 'irksome', 'porcupines', 'Wilderness', 'Text', 'accomplishment', 'aloofness', 'Westphalia', 'battlefront', 'temperatures', 'sweeter', 'concepts', 'lobbied', 'centralization', 'Frosts', 'Positive', 'chasm', 'malign', 'Beecher', 'reviewing', 'Foggia', 'Travelling', 'gargantuan', 'hog', 'fuzzed', 'Venerable', 'hob', 'hoc', 'Ozarks', 'syntactic', 'hon', 'drying', 'Gardner', 'how', 'hot', 'hop', 'significance', 'symposium', 'chase', 'classify', 'A', 'beauty', 'mediating', 'glamorous', 'forefingers', 'Reese', 'Lerner', 'overexploited', 'culminated', 'gusty', 'youths', 'Quint', 'Poesy', 'presiding', 'alias', 'democratic', 'backdrop', 'schoolmates', 'Pavese', 'feedback', 'Edith', 'hallelujahs', 'Mindanao', 'kickoff', 'Jules', 'suspend', 'Charlottesville', 'Egalitarianism', 'LM', 'dreamer', 'admirably', 'conned', 'Smarter', 'backpack', 'intelligentsia', 'distinguishing', 'nobler', 'nobles', 'admirable', 'undercut', 'grievous', 'programed', 'zoning', 'Commonly', 'educating', 'Sets', 'Gossiping', 'Crozier', 'headboard', 'haphazardly', 'exhaustible', 'blushes', 'debut', 'flamboyantly', 'spotless', 'Dutchman', 'McCluskey', 'addicted', 'commissioners', 'Undersecretary', 'blushed', 'Plot', 'Plow', 'whim', 'snakes', 'spider', 'Mongolia', 'contracting', 'snaked', 'whiz', \"we'd\", 'strychnine', 'whit', 'whir', 'whip', 'borne', 'shutdowns', 'Gustav', 'Dominant', 'whoosh', 'triptych', 'copolymers', 'Gustaf', 'Almonds', 'hangouts', 'sellout', 'Saliva', 'Loneliness', 'managerial', 'Buenas', 'grapes', 'cornerstone', 'ate', 'piecemeal', 'shelves', 'atm', 'shelved', 'reprimanded', 'musicians', 'Mighty', \"today's\", 'dosage', 'Helpless', 'Voter', 'angelic', 'spinning', 'Arianism', 'Steelers', 'bitten', 'Sonic', 'rhododendron', \"C'mon\", 'reportorial', 'similarly', 'numerological', 'tango', 'Recordings', 'Simmons', 'chugging', 'Invasion', 'bitter', 'ranging', 'rummaged', 'Alexander', 'librettists', 'cushions', 'Victory', 'Braque', 'Code', 'anesthetized', 'coward', 'Carroll', 'walloped', 'nations', 'Compson', 'Croydon', 'readjusted', 'Ilona', 'Eades', 'acquisition', 'Cody', 'unintended', 'fevered', 'broods', \"Didn't\", 'corne', 'lads', 'broody', 'pigs', 'selflessness', 'headland', 'corny', 'corns', 'kayo', 'absorber', 'unobtainable', 'absorbed', 'Minister', 'layoffs', 'Lynn', 'blackmailer', 'matriarch', 'Gabriel', 'shall', 'circulated', 'figger', 'object', 'Birgitta', 'Chablis', 'blackmailed', 'Texans', 'Bulloch', 'pirogues', 'bodybuilder', 'drunks', 'consummate', 'place', 'Mansion', 'nineteenth', 'unperformed', 'incomplete', 'marvel', 'signatures', 'prim', 'Union', 'Agency', 'undue', 'judgeship', 'Paradise', 'Achieving', 'Congressional', 'parodies', 'touches', 'busy', 'Premium', 'skirmishes', 'typewriters', 'buss', 'Moller', 'bust', 'skirmished', 'bush', 'Hirschey', 'touched', 'parodied', 'heartily', 'longhorn', 'emphatically', 'cartwheels', 'tramped', 'Vases', 'nonobservant', 'cushion', 'tungsten', 'X', 'blistered', 'Colorado', 'Arleigh', 'Ringing', 'greens', 'textbooks', 'release', 'transistors', 'Ackerly', 'Ulbricht', 'expediency', 'Hastily', 'unexpectedly', 'naturalness', 'goodnight', 'Olympian', 'Afrika', 'result', 'Leyden', 'John', 'hammer', 'Dogs', 'Heydrich', 'Cocteau', 'Greens', 'ambitions', 'thees', 'Rise', 'stamps', 'pilloried', 'occupational', 'Terrier', 'indecisive', 'parallels', 'rolled', 'inextricable', 'symbolizes', 'conflagration', 'Sartre', 'downgrade', 'musical', 'marines', 'roller', 'pity', 'patented', 'accident', 'trickster', 'sacrificing', 'pits', 'askew', 'recoilless', 'Vacancy', 'pith', 'demander', 'genus', 'asked', 'Closer', 'Mehitabel', 'agglomerate', 'unprotected', 'Unquestionably', 'Closed', 'blending', 'prominent', 'Method', 'Columns', 'Clint', 'postmasters', 'sponged', 'Clarence', 'billing', 'holdings', 'sauterne', 'mitigation', 'sponges', 'dollies', 'eastern', 'skiis', 'analytic', 'Platoons', 'modesty', 'estuaries', 'Almaden', 'Gloriana', 'Holmes', 'commerce', 'Schaeffer', 'manes', 'inch', 'calcium', 'symbolically', 'mates', 'flooding', 'levies', 'LOC', 'Nonetheless', 'equator', 'characterize', 'levied', 'campaigning', 'Assessment', 'marshlands', 'things', 'shipwrecked', 'any', 'Newman', 'harmony', 'toasted', 'exertion', 'Simpson', 'Presiding', 'Wonderland', 'Contrary', 'ownership', 'Inorganic', 'tung', 'personifying', 'District', 'subgroups', 'processional', 'disseminated', 'echoed', 'chafing', 'echoes', 'voulez', 'rancorous', 'spurred', 'distribute', 'overemphasis', 'fantastic', 'beset', 'Wire', 'sovereigns', 'exclaiming', 'rushing', 'succeeding', 'Inevitably', 'remedial', 'dialogues', 'ease', 'mobility', 'topical', 'sags', 'easy', 'prison', 'falter', 'east', 'Wilbur', 'posed', 'drilling', 'Hindus', 'pertinent', 'poses', 'occurring', 'harmoniously', 'paraphrase', 'Midshipman', 'bobby', 'remind', 'misled', 'ninety', 'Shrove', 'malnutrition', 'Further', 'Ithaca', 'Warren', 'battlefield', 'right', 'old', 'ole', 'vigilant', 'Peanut', 'shirtsleeve', 'System', 'Application', 'Conservation', 'Noel', 'insistence', 'animate', 'knifelike', 'Dutchess', 'rehearse', 'Hasseltine', 'Cassiopeia', 'repression', 'Angst', 'ruffles', 'summoned', 'pondered', 'nubbins', 'precluded', \"ol'\", 'Nicholson', 'terraces', 'bowing', 'manufacturing', 'reassemble', 'First', 'predisposition', 'disorder', 'recollect', 'Lullwater', 'cohesively', 'Horne', 'lacked', 'slightly', 'meddle', 'consulting', 'Fenway', 'Scotland', 'clatter', 'Korean', 'Zachrisson', 'Hank', 'frazzled', 'Fuss', 'genii', 'Hang', 'GOP', 'uncluttered', 'Submarines', 'alphabetized', 'Dams', 'Hans', 'Damp', 'underestimated', 'insurrection', 'offer', 'understandably', 'forming', 'talents', 'peppermints', 'Dalloway', 'Carbon', 'squalid', 'onlooker', 'Seeing', 'Tone', 'Tong', 'Toni', 'myopic', 'prosecutions', 'myopia', 'equalization', 'Hatteras', 'Guests', 'Tony', 'Hawksley', 'bateau', 'Sis', 'Jose', 'Sit', 'Six', 'bathrobe', 'restorative', 'Crush', 'Virgin', 'ribcage', 'Virgil', 'Sie', 'Sid', 'acacia', 'pretrial', 'smelt', 'floor', 'credibility', 'uttered', 'geographically', 'warms', 'indigent', 'ambitious', 'Dame', 'smell', 'Outing', 'cortex', 'rehearsing', 'Lenny', 'Luthuli', 'grinders', 'Arkansas', 'rolling', 'congested', 'lunge', 'cortege', 'dogma', 'cottonseed', 'lowdown', 'twinkle', 'packets', 'Quaker', 'Fleming', 'Palladian', 'unquenched', 'time', 'push', 'Empire', 'shrieking', 'detective', 'cinematic', 'Habla', 'reviewers', 'protozoan', 'Nicklaus', 'shimmy', 'fawned', 'Backward', 'Peel', 'Santayana', 'plainclothes', 'Sizable', 'carpenters', 'Peep', 'accelerometers', 'fatigues', 'Prize', 'recipe', 'navigable', 'smalltime', 'consolidation', 'alcoholics', 'Laurie', 'orientations', 'fullest', 'Hannibal', 'betterment', 'thermoformed', 'Sylvania', 'depositors', 'Dubin', 'unaware', 'presumptions', 'thinkers', 'rents', 'findings', 'insignificant', 'prediction', 'milligram', 'crescent', 'frankfurter', 'Lt.', 'ordo', 'coppery', 'Timmy', 'Irenaeus', 'crooks', 'falling', 'badge', 'banister', 'digitalization', 'grandparents', 'funeral', 'bi', 'contemplate', 'splice', 'alone', 'along', 'anchoring', 'D.A.', 'Associated', 'saws', 'vectors', 'Casals', 'Associates', 'Bore', 'Paradoxically', 'confidentiality', 'melodious', 'radish', 'Technique', 'prefer', 'Abbey', 'Lisle', 'coinciding', 'Boxell', 'ironical', 'Tilghman', 'Parry', 'barnstormer', 'Borglum', 'Crouch', 'toppled', 'homesick', 'Altar', 'Ghormley', 'Danaher', 'filmy', 'Ultraviolet', 'films', 'sonnets', 'calligraphers', 'climax', 'pvt', 'loving', 'marbles', 'Bede', 'subsistence', 'refrain', 'militated', 'Retail', 'Pope', 'surveyor', 'fluorescent', 'privy', 'Pops', 'impasse', 'biophysicist', 'printing', 'disking', 'Glue', 'Yinger', 'hatchet', 'Gertrude', 'romanticism', 'greatcoat', 'typicality', 'offense', 'stockbroker', 'BAM', 'evidently', 'mauler', 'silos', 'divided', 'poking', 'windless', 'unforgettable', 'divider', 'revolted', 'Carmichael', 'Violence', 'laundry', 'explorer', 'rigors', 'aging', 'transients', 'Beckman', 'Burgundian', 'explored', 'cardiac', 'such', 'suck', 'Flotte', 'stress', 'varieties', 'Watching', 'darkened', 'truck', 'truce', 'Barney', 'lighter', 'Maurier', 'noteworthy', 'Barnes', 'Edwina', 'reaffirms', 'Barnet', 'course', 'incapacity', 'dyspeptic', 'glumly', 'insurgence', 'Lectures', 'derive', 'yawning', 'Fitzroy', 'accordion', 'paraded', 'decreases', 'escutcheon', 'decreased', 'bipartisan', 'parades', 'deviant', 'Incinerator', 'Laodicean', 'executors', 'smarter', 'thyroids', 'chromatic', 'compelled', 'subscribers', 'ketchup', 'maintaining', 'smarted', 'Codification', 'internationalists', 'veins', 'turtle', 'Lotte', 'concertina', 'expectedly', 'fluted', 'fainted', 'paling', 'regionally', 'Knife', 'minority', 'denouement', 'Elizabeth', 'Minoso', 'Welcome', 'rubdown', 'verisimilitude', 'boundless', 'exploding', 'inconspicuously', 'bison', 'Saturn', 'sainthood', 'chemically', 'superiors', 'complimented', 'Valerie', 'prostitutes', 'willya', 'cowling', 'descendents', 'Francis', 'quite', 'plea', 'glances', 'quits', 'unnamed', 'remainder', 'seventy', 'training', 'silhouetted', 'potting', 'basso', 'plainest', 'undisguised', 'undigested', 'Layton', 'spending', 'silhouettes', 'Philippians', 'massive', 'routes', 'Brodie', 'hooch', 'puny', 'Acheson', 'ignored', 'clause', 'passageway', 'Isolated', 'bluish', 'reopen', 'specifically', 'ATP', 'president', 'Miyagi', 'excursions', 'appreciations', 'structured', 'Salesmanship', 'Observers', 'twenties', 'draft', 'realization', 'structures', 'closeted', 'Socola', 'Buster', 'Mozart', 'Patrick', 'Kurd', 'perpetuation', 'veers', 'ridiculous', 'Install', 'chilblains', 'Lafe', 'Bruegel', 'pheasants', 'inventor', 'waylaid', 'meteors', 'fledglings', 'Seerey', 'Athenians', 'glossy', 'Dissenting', 'janitor', 'companionable', 'thousandths', 'ignores', 'polemic', 'Regarded', 'sag', 'afternoons', 'sad', 'Couturier', 'say', 'sax', 'financier', 'foiled', 'flatness', 'inhibiting', 'bewilderingly', 'sap', 'saw', 'sat', 'nott', 'gunfighter', 'unsuitable', 'aside', 'underpaid', 'note', 'Important', 'unsuitably', 'roadside', 'destroy', 'hedonistic', 'insuring', 'butterfly', 'handing', 'Kankakee', 'buttery', 'knew', 'fails', 'pastor', 'invoked', 'remarks', 'knee', 'paternalistic', 'pages', 'sale', 'defeating', 'Antarctica', 'butchered', 'salt', 'Medicis', 'glycols', 'cobra', 'Broncos', 'propagandist', 'commissary', 'urgings', 'slot', 'Cyr', 'slow', 'slop', 'gourd', 'cloak', 'sloe', 'tears', 'going', 'Unconsciously', 'slob', 'uppermost', 'blinds', 'congressional', 'dispute', 'godlike', 'Hetty', 'dissimilar', 'Presto', 'genera', 'incubation', 'outlet', 'mysticism', 'Admiralty', 'prime', 'Conneaut', 'bestselling', 'artist', 'Scrupulous', 'redeemed', 'borrow', 'absurdly', 'skyline', 'Manchester', 'landlord', 'Yeats', 'marred', 'where', 'sirens', 'Juniors', 'subversives', 'subatomic', 'Kwame', 'gangster', 'mystics', 'Armory', 'Ordinary', 'dysentery', 'windshield', 'Hempstead', 'jumped', 'diddle', 'Sweeney', 'mops', 'dormitory', 'originated', 'bureau', 'churchgoing', 'Hotham', 'forsake', 'jumper', 'domi', 'Beaujolais', 'jobs', 'personae', 'Jervis', 'dome', 'gratefully', 'spare', 'Buchheister', 'spark', 'suppressed', 'quack', 'deliciously', 'congregations', 'residence', 'jokers', 'ineptly', 'thickly', 'Phipps', 'fiddling', 'governmentally', 'Mortgage', 'Delaware', 'furthered', 'Refrigeration', 'boar', 'discolored', 'extinct', 'boat', 'fitful', 'comb', 'companionship', 'testimonial', 'stretch', 'mounting', 'locally', 'airlines', 'overland', 'reflective', 'Princess', 'tank', 'torpor', 'lanes', 'ethical', 'coughing', 'observe', 'Dominion', 'Dazed', 'unclouded', 'missions', 'Formerly', 'prominence', 'intimately', 'invoking', 'pacers', 'canoes', 'dressy', 'Oyster', 'constituency', 'region', 'twisty', 'Londonderry', 'prevalence', 'twists', 'Tennis', 'canon', 'Looking', 'regularity', 'Prettier', 'Airy', 'fame', 'compatriots', 'Towards', 'Merchandising', 'threatens', 'thinkin', 'scientifically', 'Saracens', 'helpfully', 'surveillance', 'Freddie', 'underestimate', 'vandalism', 'Readiness', 'births', 'hypnotically', 'domineering', 'entanglement', 'Woodin', 'microfilm', 'squeamishness', 'renewable', 'Conant', 'hubba', 'Says', 'sunken', 'Suns', 'Holies', 'Displacement', 'bailiff', 'PWA', 'hubby', 'scholarship', 'summer', 'sprayed', 'manifold', 'Missa', 'Missy', 'disperse', 'summed', 'Rummel', 'omissions', 'inaudible', 'trimmings', 'preventing', 'deceiving', 'interstitial', 'Campus', 'retinue', 'geological', 'instrument', 'nymphomaniac', 'kazoo', 'Olive', 'actors', 'Approved', 'defection', 'Miss.', 'Washing', 'Tripe', 'Nile', 'petulance', 'brazier', 'Kloman', 'countrywide', 'bandage', 'transcended', 'boycotted', 'sampling', 'vague', 'bravery', 'meaning', 'stranger', 'expunge', 'schools', 'nutrients', 'Dubois', 'Belmont', 'Augustus', 'discarded', 'tsunami', 'Beall', 'offenders', 'colon', 'travelogue', 'stationary', 'auditorium', 'Perry', 'gaggle', 'Delaney', 'Organic', 'Vienne', 'Vienna', 'conscionable', 'scandals', 'dialectical', 'Ruidoso', 'noon', 'searing', 'pathogenesis', 'Events', 'Orthopedic', 'exit', 'scientific', 'power', 'intimate', 'exultantly', 'forgetfulness', 'senora', 'adrift', 'ducking', 'Glenda', 'stone', 'cobblestone', 'favorite', 'slender', 'side', 'tumor', 'amusedly', 'neighbor', 'Message', 'lofty', 'stony', 'irreversibly', 'burning', 'Latter', 'Beaten', 'Polaroid', 'accumulates', 'wads', 'Acting', 'sneering', 'gaited', 'certifying', 'accumulated', 'Increasing', 'fluorine', 'burglar', 'Maiden', 'Alain', 'Collection', 'Baton', 'myths', 'percussive', 'secretion', 'mollify', 'viscous', 'project', 'complete', 'hells', 'Sandburg', 'Steuben', 'Knee', 'Small', 'mice', 'aide', 'mica', 'superego', 'regimen', 'electromagnet', 'flirt', 'fruitfulness', 'dispensing', 'mopping', 'stonily', 'dependents', 'advantage', 'age', 'darker', 'Anglia', 'deferent', 'perch', 'brotherly', 'exhausted', 'certain', 'galleys', 'stealing', 'laminated', 'Showmanship', 'How', 'Hot', 'hoodlum', 'Criterion', 'clauses', 'unhesitatingly', 'Hoy', 'Swim', 'feud', 'collie', 'noise', 'Acorns', 'hollowness', 'comedies', 'predestined', 'grammarians', 'Bullshit', 'disgraceful', 'Wide', 'perspired', 'Alex', 'Israelites', 'trombonist', 'accosted', 'vigilantism', 'Practical', 'oracle', 'Nonspecific', 'Greentree', 'Alec', 'Complying', 'acids', 'Street', 'Rychard', 'Artur', 'splicing', 'influenza', 'consider', 'Physiological', 'crucial', 'weariness', 'Creon', 'code', 'tours', 'F.B.I.', 'exhaled', 'hunting', 'overlying', 'Evil', 'prophets', 'bilked', 'Kingsley', 'smile', 'Eat', 'shaft', 'reader', 'swallows', 'Dante', 'seedbed', 'Kretchmer', 'Shaffner', 'encroaching', 'existing', 'strand', 'Betsy', 'enmities', 'monolithically', 'misinformation', 'Neon', 'amend', 'swirling', 'mammal', 'ninetieth', 'poise', 'tricolor', 'carriages', 'theatergoers', 'destitute', 'hick', 'Bourn', 'dispassionately', 'disruptions', 'imperceptible', 'resume', 'fucks', 'Conestoga', 'Capo', 'succinct', 'Cape', 'method', 'revealing', 'Prettyman', 'trampling', 'leaping', 'timberlands', 'concluding', 'buzzing', 'Gap', 'reshaped', 'introductory', 'frenziedly', 'brutal', 'reshapes', 'infrequently', 'healthier', 'acquittal', 'social', 'sweetness', \"day's\", 'via', 'shorthand', 'Salvatore', 'enactment', 'purveyors', 'regiment', 'stopper', 'cargo', 'decrement', 'letterhead', 'career', 'select', 'Md.', 'Glass', 'objectives', 'Romano', 'poodle', 'Valente', 'Romans', 'polecat', 'Russian', 'refueling', 'teen', 'signpost', 'foregone', 'waterways', 'emission', 'Janssen', 'Lang', 'pursuers', 'citizenry', 'rudeness', 'Hardings', 'objections', 'normative', 'blemishes', 'primly', 'Greenfield', 'Otis', 'malt', 'classificatory', 'Perelman', 'bomber', 'mall', 'punched', 'Mustang', 'male', 'Bayreuth', 'concessionaire', 'libertines', 'nationhood', 'gristmill', 'obliquely', 'salty', 'dress', 'lucked', 'condemn', 'Bordens', 'emancipated', 'fruition', 'ungoverned', 'freshly', 'Bouton', 'fleck', 'plant', 'Gather', 'plans', 'Division', 'Instantaneously', 'Sleepers', 'pleader', 'plane', 'conveniences', 'pleaded', 'plank', 'Taoist', 'Churchill', 'rowdy', 'declining', 'larceny', 'broadcasting', 'tentacles', 'Signs', 'chinked', 'helplessly', 'patio', 'Homicide', 'frontiersmen', 'passages', 'Lyman', 'incessantly', 'bowl', 'trade', 'attitude', 'embassy', 'questioningly', 'supra', 'greate', 'ity', 'Candle', 'its', 'imaginings', 'rapidly', 'shifts', 'epileptic', 'ruining', 'ally', 'rapier', 'snobs', 'tyrants', 'secondarily', 'agitated', 'snowball', 'imperil', 'thereof', 'Dwellers', 'Waggin', 'Ricco', 'Beaverton', 'designation', 'Ricci', 'Savannah', 'loosely', 'Buddhism', 'labeling', 'events', 'Connections', 'Handler', 'cratered', 'Busch', 'lantern', 'Zone', 'twosome', 'unfertile', 'contiguous', 'critters', 'grandmothers', 'girlish', 'interferometers', 'Patmore', 'barefoot', 'blues', 'scribe', 'really', 'Dion', 'mockery', 'load', 'armaments', 'Dior', 'flyaway', 'hangers', 'Yugoslav', 'Pullmans', 'nervously', 'Directly', 'driver', 'antisera', 'cockpit', 'pickaxe', 'murmur', 'looseness', 'reared', 'retained', 'submarines', 'Heffernan', \"woman's\", 'afflictions', 'Shape', 'Lausanne', 'anecdote', 'clump', 'exhibited', 'ft.', 'sidewinder', 'major', 'Island', 'mimetic', 'Garrick', 'imitators', 'adduce', 'florist', 'ironing', 'fluxes', 'Combe', 'Iglehart', 'economizing', 'Cosmo', 'exertions', 'fuller', 'probity', 'Igbo', 'Sunny', 'zealot', 'franker', 'syllables', 'molecular', 'gassings', 'Rival', 'depressingly', 'spacings', 'Catherwood', 'Mesa', 'secretarial', 'inhalation', 'frock', 'parenthetically', 'Catskill', 'vocal', 'Sanderson', 'minimize', 'acrobats', 'Nowadays', 'caressing', 'multipurpose', 'electrodynamics', 'Pecks', 'Connell', 'solemnly', 'precipitating', 'Equity', 'Delahanty', 'Hannah', 'odd', 'synchronizers', 'partings', 'auditions', 'directives', 'severly', 'ancillary', 'Leopold', 'Erection', 'components', 'index', 'firsthand', 'blackboard', 'swiftly', 'Wards', 'unused', 'oyster', 'apparatus', 'Aparicio', 'lounge', 'artistic', 'Deacons', 'fashions', 'If', 'totemic', 'despise', 'soapsuds', 'defended', 'decentralizing', 'clog', 'parochial', 'Palestine', 'defender', 'superceded', 'hereditary', 'stepwise', 'Koreans', 'sayin', 'spineless', 'Muslim', 'sacrilege', 'Balkans', 'underscore', 'equity', 'giants', 'Bucks', 'drafters', 'Flames', 'dependent', 'beams', 'adheres', 'devising', 'adhered', 'frightening', 'untreated', 'affront', 'Pauling', 'riven', 'disregarding', 'roughest', 'proclaim', 'belles', 'surrendering', 'Dalton', 'Farnworth', 'weaves', 'approaching', 'staunch', 'mineralogical', 'Grattan', 'creator', 'docketed', 'hoarsely', 'Colefax', 'knees', 'Pontiac', 'Song', 'movie', 'Fuhrer', 'currently', 'diluted', 'rejecting', 'guides', 'repeater', 'Sons', 'Arithmetic', 'rite', 'kneel', 'milder', 'mildew', 'hardship', 'buoys', 'Bridgeport', 'giddiness', 'brewing', 'Lombard', 'dramatization', 'carbonates', 'knights', 'smoldering', 'Jobs', 'Brahmaputra', 'Honor', 'adagio', 'prospects', 'cavorting', 'MacPherson', 'influential', 'Fitch', 'offending', 'harpy', 'improves', 'somnolence', 'Trinidad', 'approve', 'Cool', 'Legislative', 'loaf', 'majesty', 'Teddy', 'loan', 'gadfly', 'except', 'hollyhock', 'jowls', 'Greatness', 'midair', 'DiGiorgio', 'psychoanalyst', 'unemotional', 'devil', 'publishing', 'conveyor', 'Students', 'MacLean', 'Col.', 'calculi', 'Scout', 'overgenerous', 'sweetheart', 'silenced', 'Universe', 'silences', 'clergymen', 'Steinberg', 'Saudi', 'Starting', 'Fetch', 'handling', 'Old', 'Ole', 'slyly', 'Colt', 'Carrots', 'forgetting', 'optimization', 'Turnkey', 'evaluating', 'kissing', 'Cold', 'Cole', 'robin', 'Seeley', 'kingdom', 'sizeable', 'hoping', 'arching', 'folksy', 'Holds', 'Galapagos', 'titanic', 'centennial', 'triple', 'beautifully', 'Charlayne', 'Gerosa', 'fibers', 'seek', 'shorten', 'shorter', 'virtually', 'Favorites', 'wasteland', 'Fiats', 'commune', 'servitors', 'displeased', 'snail', 'Charges', 'Skeletal', 'cigar', 'deformity', 'henchmen', 'viewing', 'Rainier', 'stack', 'frankness', 'commoners', 'Solomon', 'picks', 'services', 'involves', 'Lottery', 'Landon', 'Mountain', 'aroma', 'Survivors', 'arrests', 'unto', 'assaying', 'surprises', 'signals', 'sputnik', 'crying', 'input', 'submissions', 'reverted', 'surprised', 'misconceptions', 'quest', 'falcon', 'Requests', 'Atlantica', 'projects', 'flannel', 'imposed', 'Pin', 'McCullers', 'consensus', 'communications', 'imposes', 'tunnels', 'confinements', 'stylish', 'cronies', 'coexistent', 'pertaining', 'gargle', 'Revised', 'Herrick', 'Alterman', 'Andy', 'eclat', 'Gibault', 'Heywood', 'veterinary', 'religion', 'Foreigners', 'temple', 'Pact', 'smithy', 'idealistic', 'dictates', 'Pace', 'nowhere', 'chole', 'impurities', 'dictated', 'Pack', 'certificate', 'exaggerated', 'Tackle', 'modernity', 'Conceding', 'helpfulness', 'biennial', 'Sapio', 'progressions', 'caricatured', 'Katie', 'Kans.', 'repair', 'garbage', 'Carthage', 'recreate', 'Carthago', 'locus', 'appropriate', 'Exposition', 'repaid', 'sneaky', 'mythic', 'sneaks', 'submit', 'custom', 'Alamo', 'lithe', 'bridesmaids', 'blueprint', 'royalties', 'rogue', 'Strongheart', 'treasonous', 'abode', 'atop', 'brazenness', 'mitigate', 'atom', 'coldest', 'legation', 'Dixie', 'Office', 'bumpers', 'Tuesday', 'chloride', 'Africa', 'Pascal', 'verification', 'Neck', 'apiece', 'continuously', 'parasympathetic', 'aerial', 'reconcile', 'raging', 'likewise', 'Outside', 'skimming', 'nondiscriminatory', 'subtypes', 'Pawcatuck', 'Colorful', 'scrape', 'occasional', 'stepchild', 'Almond', 'Background', 'scraps', 'reimburses', 'hustling', 'tart', 'tedium', 'elements', 'scrub', 'energetic', 'beginnings', 'provided', 'Sethness', 'lashing', 'balkiness', 'successorship', 'Concetta', 'rise', 'boulevards', 'Derby', 'articulations', 'ago', 'destinies', 'fighter', 'Nineties', 'reasoned', 'napping', 'annoyed', 'Alamein', 'opposing', 'teachings', 'psychiatry', 'prestidigitator', 'Mercury', 'partial', 'illustrates', 'scooped', 'Ecumenical', 'blebs', 'illustrated', 'Visibility', 'dainty', 'gossip', 'Blowers', 'centers', 'churned', 'detoured', 'Supporting', 'concerned', 'debunking', 'Alden', 'curds', 'subcontracting', 'dyeing', 'housebreaking', 'charity', 'armament', 'Holland', 'torture', 'continues', 'manipulated', 'Harve', 'abduction', 'Fixed', 'continued', 'timely', 'Ambassador', 'Morals', 'marry', \"they've\", 'Morale', 'this', 'calmed', 'encloses', 'Assessors', 'insists', 'Currently', 'degassed', 'Onset', 'recruitment', 'enclosed', 'Nurse', 'pajamas', 'Stonehenge', 'Mobilization', 'Bodleian', 'kibbutzim', 'decolletage', 'Easthampton', 'Grudges', 'scenery', 'counterbalancing', 'proliferation', 'respectively', 'gathered', 'delivering', 'Internationale', 'medallions', 'deduced', 'vinegar', 'great', 'coops', 'receive', 'involved', 'polystyrene', 'Remus', 'outdated', 'Lips', 'defeat', 'opinion', 'bookkeeping', 'Organizing', 'bookish', 'grower', 'Sulcer', 'Daniels', 'Triptych', 'extricate', 'Bedridden', 'Pragmatism', 'sugar', 'tools', 'inconveniently', 'Dashiell', 'affording', 'perfusion', 'rutabaga', 'zip', 'anticoagulation', 'illegal', 'figurative', 'duplicate', 'doubling', 'turnoff', 'infamy', 'Nernst', 'Copies', 'dealings', 'carrying', 'Chou', 'Croix', 'delegating', 'haircuts', 'high', 'balls', 'animals', 'Feedback', 'retreated', 'pout', 'athlete', 'erythroid', 'pour', 'rubberized', 'Cats', 'thin', 'fulfill', 'aniline', 'Diety', 'weaker', 'Hemus', 'Diets', 'reedy', 'purposes', 'signers', 'pieces', 'intramural', 'purposed', 'martyr', 'hereinafter', 'Christmas', 'weaken', 'pretexts', 'patter', 'swished', 'destroying', 'wares', 'Sooner', 'interdenominational', 'Wavy', 'Emeritus', 'establishment', 'puckered', 'yellowish', 'scornful', 'overridden', 'singular', 'Ryan', 'Q', 'concentrations', 'vineyards', 'nailing', 'preferring', 'ties', 'racks', 'autograph', 'bellboys', 'Apple', 'microbial', 'redundant', 'pyramids', 'Buffeted', 'erasing', 'Catholic', 'producer', 'produces', 'doubtful', 'produced', 'Pfau', 'flopped', 'Serene', 'Clayton', 'progeny', 'Friedman', 'mistletoe', 'strode', 'remorseless', 'courtiers', 'Doyle', 'garnet', 'derelict', 'bolting', 'cusp', 'animal', 'repercussions', 'separators', 'detergents', 'bothering', 'Percussion', 'Cowley', 'cage', 'transparent', 'Sarkees', 'coriander', 'Arlen', 'hallmarks', 'San', 'Sam', 'undertaking', 'traced', 'accompanies', 'Sad', 'Say', 'Conan', 'accompanied', 'beneath', 'Saw', 'Garnett', 'Sat', 'enigmatic', 'exacerbated', 'doing', 'Gregorius', 'upholders', 'Send', 'society', 'idiosyncrasies', 'salves', 'ionosphere', 'snippy', 'Hayward', 'Evergreen', 'halter', 'Very', 'valve', 'Miscellaneous', 'Vera', 'Vere', 'Vero', 'Vern', 'shut', 'Spikes', 'perish', 'Meek', 'tempo', 'Miguel', 'tied', 'Mytton', 'shun', 'Meet', 'steering', 'defining', 'halted', 'compote', 'Brenner', 'compulsive', 'hitched', 'Jump', 'hindering', 'Ziraldo', 'distinctions', 'nationalisms', 'Fredrik', 'scare', 'scarf', 'Popish', 'Destroyer', 'humanly', 'Ornament', 'touring', 'gatherings', 'Nara', 'Gimbel', 'brimful', 'Placentia', 'behaves', 'imitate', 'Adult', 'decorations', 'Farr', 'belligerently', 'behaved', 'Hospital', 'Trophy', 'accompany', 'Quasimodo', 'rearmed', 'argot', 'unoccupied', 'Demanded', 'beatings', 'argon', 'Jaycee', 'elite', 'haven', 'bodyweight', 'inscriptions', 'subroutine', 'dower', 'extraordinarily', 'appealing', 'dowel', 'Pohl', 'negatively', 'Teter', 'ingenious', 'querulously', 'chromic', 'viewer', 'deodorant', 'poisons', 'municipalities', 'Westminster', 'Workshop', 'Electra', 'viewed', 'illuminated', 'outfought', 'Petermann', 'directivity', 'psyche', 'chaperone', 'jurisdictions', 'reloaded', 'Hodges', 'Particular', 'seductive', 'thrones', 'conniver', 'tyrannical', 'embroiled', 'Hughes', 'noblesse', 'alloy', 'visa', 'Advertising', 'vise', 'device', 'Asked', 'unerringly', 'amortize', 'leafiest', 'Prisoners', 'metaphysical', 'enlist', 'Relative', 'Hexen', 'fiasco', 'wounded', 'Crescent', 'atmosphere', 'monasteries', 'hawing', 'terminate', 'centralized', 'Took', 'vacancy', 'Shrine', 'newsreel', 'inviolability', 'bedroom', 'unconnected', 'rough', 'trivial', 'pause', 'foreknowledge', 'Gatsby', 'Compulsory', 'pets', 'lucks', 'familiar', 'cranky', 'lucky', 'Housekeeping', 'autos', 'familial', 'optimality', 'fortiori', 'campus', 'hoses', 'contemptible', 'h', 'extremists', 'Werner', 'Gilmore', 'intervening', 'withstand', 'Donner', 'exerted', 'lazy', 'Urbanization', 'Source', 'electrode', 'Paula', 'coils', 'wire', 'Joanne', 'Arimathea', 'quickest', 'unravel', 'Representative', 'harsher', 'Republican', 'retentive', 'Parenthood', 'explosive', 'Developing', 'loafed', 'courtyard', 'specious', 'interchangeable', 'weary', 'Stalling', 'Preserving', 'seaports', 'deficits', 'innocently', 'puff', 'Sunman', 'castles', 'epigrams', 'Christ', 'Would', 'Godkin', 'trampled', 'incest', 'coercive', 'Turin', 'glowered', 'powered', 'Outputs', 'Louise', 'quaver', 'drank', 'rates', 'waste', 'Durer', 'Interfaith', 'Micawber', 'homosexual', 'Sayers', 'pixies', 'Benny', 'blatancy', 'Saturated', 'Naxos', 'lumbar', 'Shaking', 'expounded', 'intradepartmental', 'wearied', 'loathed', 'pretentious', 'Martinez', 'cornmeal', 'memorizing', 'Chion', 'AIChE', 'snack', 'aesthetics', 'adminstration', 'diversification', 'Strict', 'excessively', 'optimistic', 'politics', 'conserve', 'Inflow', 'inquest', 'dilate', 'Solid', 'overcoats', 'digging', 'Reichenberg', 'glaring', 'joyously', 'covenant', 'conflicting', 'restating', 'fielded', 'Medical', 'wisest', 'upon', 'nationally', 'proficiency', 'afghan', 'broccoli', 'expand', 'Powerful', 'overcast', 'Meats', 'prospering', 'Matching', 'Thyroid', 'kiss', 'softening', 'less', 'Atreus', 'Quota', 'Warmongering', 'predicts', 'hauled', 'Proxmire', 'Theodosius', 'Nilsson', 'pompous', 'Stilts', 'canister', 'orphaned', 'Brigadier', 'arrest', 'Magi', 'combine', 'cosmetics', 'combing', 'mannered', 'rectilinear', 'scoundrel', 'beryllium', 'Hits', 'increased', 'Horn', 'ultramarine', 'fairies', 'Shipping', 'whispers', 'haul', 'five', 'desk', 'Snopes', 'height', 'Prevention', 'Metaphysics', 'Roebuck', 'purling', 'resin', 'parasite', 'alkali', 'garage', 'precut', 'sinewy', 'liquidation', 'gusher', 'hemming', 'sinews', 'Blenheim', 'almonds', 'Curtain', 'Oakmont', 'sufficiently', 'literally', 'Karamazov', 'shone', 'legato', 'does', 'reimbursements', 'blurry', 'schedule', 'cadaverous', 'Inside', 'cellulose', 'residences', 'fetid', 'loans', 'Inspections', 'hiding', 'drumming', 'asks', 'alginates', 'traces', 'insufficient', 'concession', 'encamp', 'Plaster', 'revise', 'executives', 'cadet', 'Gibbon', 'Wallace', 'debutante', 'teamsters', 'gallstone', 'lobular', 'roads', 'Acreage', 'afoot', 'mere', 'parentage', 'gambling', 'caviar', 'spots', 'Procreation', 'frustration', 'troubling', 'Ambler', 'Verrone', 'Bacchus', 'overlapping', 'Infrequently', 'sidelight', 'grate', 'candidacy', 'grata', 'entered', 'detestable', 'soreness', 'Gettysburg', 'Culture', 'corpses', 'intangible', 'monument', 'static', 'gynecological', 'informational', 'uglier', 'profusion', 'menstruation', 'Portage', 'Treasury', 'cosponsored', 'slowing', 'replica', 'repainting', 'endeared', 'planting', 'universalize', 'Buckets', 'forests', 'wander', 'Naktong', 'Lauritz', 'mentions', 'Prelude', 'Loss', 'independents', 'colonized', 'bailing', 'tides', 'bunched', 'crystallizing', 'chance', 'Beringer', 'Context', 'Testament', 'ambidextrous', 'epilogue', 'Sheeting', 'tidelands', 'quetzal', 'Findings', 'Pyrex', 'hoots', 'Weissman', 'preoccupations', 'rule', 'palletized', 'trims', 'Melcher', 'inning', 'practicability', 'Residential', 'saver', 'saves', 'encouragingly', 'saved', 'admixed', 'relationships', 'votes', 'voter', 'Freeholder', 'Snowball', 'bludgeon', 'Enforce', 'Mankowski', 'voted', 'A.M.', 'Rocking', 'plaintive', 'regalia', 'Beads', 'compassion', 'gobbles', 'Senator', 'Intangibles', 'closeup', 'washboard', 'egrets', 'exporters', 'Automatic', 'gobbled', 'chapel', 'tickets', \"we'll\", 'pachinko', 'furrowed', 'Longinotti', 'sonorities', 'scalar', 'humidity', 'delegate', 'Shearn', 'nondescript', 'Hess', 'undercover', 'Sunrise', 'Yoneda', 'paperback', 'pragmatic', 'Paintings', 'phones', 'Sighing', 'impressionistic', 'Strange', 'rigorous', 'MacGregors', 'planters', 'phoned', 'colonialism', 'Trivia', 'incompatible', 'irrevocably', 'clocked', 'Ones', 'irrevocable', 'toll', 'colonialist', 'consisting', 'tole', 'told', 'unmotivated', 'simultaneously', 'interns', 'human', 'admirers', 'wrapping', 'bookcase', 'Jamaican', 'interne', 'Freddy', 'Merrill', 'foolishness', 'pinning', 'pooling', 'Homo', 'loincloth', 'Home', 'Sameness', 'regimentation', 'discontinuous', 'spooky', 'tempt', 'angrily', 'charred', 'thrust', 'cane', 'Health', 'CTA', 'romantically', 'Lighted', 'Star', 'Bernhardt', 'Mailings', 'Stay', 'Foil', 'whinnied', 'Stan', 'blueberry', 'tolerated', 'Squadrons', 'scary', 'bilge', 'curvature', 'pierced', 'faker', 'Feeds', 'striving', 'Torquato', 'overrun', 'handkerchiefs', 'word', 'wore', 'hips', 'work', 'eclipse', 'worm', 'worn', 'mammalian', 'macroscopically', 'blooming', 'criticizing', 'crackers', 'Mussolini', 'Lagerlof', 'Standing', 'radiance', 'airstrip', 'psyllium', 'cited', 'Swan', 'Hurricane', 'Pennock', 'hyphenated', 'fronting', 'fanciful', 'betide', 'cites', 'gaped', 'Journal', 'mulch', 'sever', 'Rilly', 'lak', 'lad', 'lag', 'lab', 'Ocean', 'Will', 'interlibrary', 'lax', 'lay', 'outbursts', 'law', 'meaningful', 'nipped', 'specialization', 'foolhardy', 'castle', 'coursing', 'shucks', 'counseled', 'cannonball', 'ambulance', 'boatswain', 'Sexual', 'order', 'Moultons', 'Ingo', 'Eye', 'office', 'freights', 'Indeterminate', 'satisfied', 'proportionate', 'Filipinos', 'wrathful', 'deducted', 'sludge', 'satisfies', 'ticket', 'adolescence', 'Broke', 'endowments', 'sheaf', 'Hypocrisy', 'showmen', 'clanged', 'strafe', 'Burns', 'Bonhoeffer', 'shear', 'eventually', 'unfortunate', 'Midge', 'exhaling', 'break', 'emigrated', 'Foote', 'shameful', 'suitor', 'filtered', 'Rathbones', 'pegs', 'bolted', 'oxygen', 'alternately', 'embankment', 'entitled', 'Agriculture', 'doled', 'Gallant', 'overpopulated', 'Sparky', 'observance', 'Rhine', 'Candlelight', 'evolve', 'Mythological', 'Aside', 'Churchillian', 'prolonged', 'recognizable', 'trench', 'Presbyterian', 'network', 'cameras', 'diesel', 'fellows', 'fellowship', 'unkempt', 'Napoleon', 'Bugatti', 'Committees', 'arpeggios', 'Originally', 'commercially', 'admits', 'N.Y.', 'amazement', 'Norell', 'Brotherhood', 'undaunted', 'writhing', 'National', 'louse', 'dispersal', 'Farm', 'licked', 'oppose', 'solicitousness', 'impelling', 'carloading', 'Depression', 'dexterity', 'Cherokee', 'vibrated', 'miscalculation', 'overaggressive', 'Going', 'Guatemalan', 'comin', 'comic', 'tangle', 'Secretaries', 'Hustle', 'Tests', 'rated', 'vibrato', 'rejects', 'bequest', 'coccidioidomycosis', 'interrelationships', 'immodest', 'compromise', 'upshot', 'Psychotherapy', 'Disneyland', 'Pageant', 'fanatical', 'lass', 'rejected', 'Preparation', 'Ahmet', 'Berman', 'dissociated', 'Selkirk', 'handiwork', 'rebuff', 'mercy', 'target', 'unexplainable', 'Tables', 'Reproach', 'instrumentals', 'forensic', 'Allan', 'medley', 'iota', 'unmistakably', 'iron', 'Prose', 'Madonna', 'hacking', 'contrasted', 'tipping', 'Setter', 'Ghiberti', 'Evangelical', 'songful', 'rewrite', 'pessimism', 'lulu', 'lull', 'Instead', 'menarche', 'suburbanite', 'forced', 'currant', 'genuine', 'pleural', 'Amory', 'indexes', 'elation', 'overtook', 'confabulated', 'forces', 'isotonic', 'circles', 'Aristide', 'extending', 'Tempos', 'circled', 'phase', 'proverb', 'solidifies', 'Vieth', 'printmaking', 'Lewis', 'inferred', 'newcomers', 'yours', 'Election', 'Bodin', 'Thayer', 'Institutes', 'stereo', 'fitted', 'decidedly', 'teetering', 'precarious', 'knightly', 'chandelier', 'respectfully', 'nephew', 'Powell', 'Armistice', 'unclenched', 'toast', 'sewn', 'crewel', 'wasteful', 'Facetious', 'elucidated', 'thermodynamically', 'Muses', 'squirmed', 'geologist', 'screening', 'pursuing', 'Orkney', 'columbines', 'explorations', 'Level', 'ardor', 'preferred', 'Muzyka', 'minarets', 'Lever', 'happiest', 'rebirth', 'Menagerie', 'OME', 'speared', 'suffrage', 'humanism', 'Helion', 'quietness', 'Brownlow', 'stead', 'humanist', 'analytical', 'Perez', 'crucifixion', 'steak', 'steal', 'steam', 'ghoul', 'personages', 'erroneous', 'inns', 'fullness', 'Apparatus', 'observes', 'reproductions', 'Female', 'Incumbent', 'lacquer', 'Assiniboine', 'scrutinizing', 'Auto', 'caved', 'plummeting', 'chiding', 'jetting', 'psalm', 'chortling', 'Leamington', 'breakaway', 'Simonelli', 'mincing', 'Boogie', 'Nasser', 'terrace', 'tortures', 'Dousman', 'overactive', 'unfold', 'disservice', 'received', 'ill', 'matrimony', 'Waking', 'retraining', 'steer', 'receives', 'receiver', 'Yokel', 'unlinked', 'Honors', 'Feb.', 'peacefully', 'Teheran', 'widen', 'spear', 'Aging', 'Shout', 'Bulba', 'Shoup', 'revivalism', 'wider', 'Boss', 'wakefulness', 'speak', 'Hernandez', 'engines', 'mobilization', 'refurbished', 'canopy', 'allurement', 'thrice', 'repelled', 'partnership', 'relaxing', 'Electoral', 'concerning', 'catering', 'Uruguay', 'hoist', 'Synod', 'Arbitrary', 'McIver', 'Klees', 'rasps', 'inhibit', 'thenceforth', 'Perlman', 'Calvinist', 'pungent', 'Billions', 'rationally', 'Blasingame', 'lahk', 'Bales', 'Hopedale', 'weakens', 'stink', 'Ithacan', 'weaning', 'sting', 'Gottingen', 'brake', 'exile', 'stint', 'sapped', 'Dolce', 'Around', 'suavity', 'grapple', 'descend', 'Burmans', 'avoids', 'unlaundered', 'convictions', 'perimeter', 'independent', 'nil', 'prohibits', 'exuded', 'swell', 'Freeport', 'insulating', 'hyperbolically', 'outmaneuvered', 'nip', 'trucks', 'Distillers', 'wispy', 'piazza', 'Budgetary', 'figural', 'Physically', 'wisps', 'huddling', 'compartments', 'Tribuna', 'discreet', 'Tribune', 'impertinent', 'messieurs', 'Randolph', 'Memorial', \"she'll\", 'mingle', 'Mubarak', 'Conclusions', 'dignify', 'Passage', 'quotes', 'tenting', 'goggles', 'Zeros', 'mechanism', 'victim', 'swears', 'upturned', 'physiochemical', 'clamped', 'thyroid', 'Rumanians', 'Sheriff', 'Reifenrath', 'Vivian', 'photographer', 'Gas', 'occupants', 'evidences', 'suddenly', 'Gal', 'evidenced', 'bonanza', 'fares', 'leering', 'Bougie', 'Alice', 'fusion', 'injuring', 'tarpon', 'Societies', 'injunctions', 'flavoring', 'texts', 'bucolic', 'Scotty', 'competence', 'securities', 'Ga.', 'transform', 'persistence', 'slouches', 'invaluable', 'toughest', 'occlusion', 'Putt', 'Heretofore', 'Brandenburg', 'Hendry', 'Tiny', 'unnecessary', 'fulminating', 'Kali', 'Distilled', 'Rd.', 'humor', 'stylization', 'overdriving', 'unavoidable', 'Guilford', 'leered', 'unavoidably', 'Stoll', 'School', 'repository', 'marketing', 'unhitched', 'conformation', 'Groot', 'Seeds', 'Farrells', 'Holders', 'Property', 'properties', 'trophy', 'aerosols', 'banked', 'newspapers', 'hostilities', 'Essex', 'constituting', 'congregational', 'banker', 'horizon', 'croak', 'treble', 'considerations', 'Icelandic', 'prisoners', 'loin', 'dean', 'compression', \"Men's\", 'legislation', 'fervent', 'derision', 'clinical', 'Broad', 'accords', 'editions', 'Mechanized', 'lowest', 'emulated', 'snowy', 'snows', 'maxim', 'peninsula', 'Descartes', 'elderly', 'astonished', 'evaluative', 'entertainers', 'Beadle', 'braved', 'crystal', 'cancers', 'emotional', 'vacationers', 'Moslems', 'fulfills', 'conserves', 'stronger', 'umpire', 'Broome', 'howling', 'Olde', 'Speakership', 'wintry', 'distributions', 'revetments', 'dimly', 'dying', 'meanness', 'disloyal', 'reality', 'parklike', 'shrine', 'holding', 'shrink', 'heyday', 'scored', 'Later', 'convincing', 'spectrally', 'scores', 'troupe', 'Branchville', 'caraway', 'WWRL', 'Estate', 'bestowed', 'Radical', 'Principles', 'Osis', 'Andrena', 'carts', 'ramification', 'functionalism', 'keyhole', 'Ore.', 'matron', 'switched', 'dance', 'patina', 'fabricated', 'switches', 'recluse', 'idealism', 'disdainful', 'hovers', 'Steeves', 'Serve', 'disapproves', 'busboy', 'infinitesimally', 'Figaro', 'idealist', 'disapproved', 'Moorish', 'donned', 'volunteers', 'brown', 'Deerstalker', 'upriver', 'Policeman', 'seemingly', 'emergencies', 'Jokes', 'unblemished', 'Tech', 'trouble', 'brows', 'Cubans', 'Superlative', 'irreducible', 'Sincere', 'steeply', 'smooching', 'Georgi', 'guitars', 'steeple', 'sidewalk', 'disqualify', 'Hartley', 'George', 'upper', 'brave', 'legalized', 'regret', 'regained', 'rouge', 'discover', 'Rico', 'prairie', 'Slowly', 'Rich', 'upped', 'perplexity', 'Rice', 'tempest', 'penetrated', 'Cahill', 'wheedled', 'Cushman', 'sleepwalker', 'assistance', 'rationalized', 'Moravian', 'Charming', 'ragging', 'commensurate', 'Grenoble', 'jocularly', 'inauguration', 'peeled', 'Quiet', 'whiteness', 'rodeos', 'faery', 'goldfish', 'gorge', 'buck', 'merriment', 'theorize', 'Deal', 'Deaf', 'petitioner', 'Dead', 'excursion', 'Sober', 'blasphemy', 'petitioned', 'Lawmaking', 'homeward', 'bevor', 'Kriss', 'marked', 'sincerely', 'psychoanalytic', 'Evenings', 'marker', 'market', 'flavors', 'heaven', 'Tracks', 'Thuggee', 'Retrace', 'Fierce', 'Cities', 'angels', 'Adler', 'missionaries', 'club', 'Lorelei', 'Required', 'envelope', 'clue', 'underachievers', 'instructional', 'catechism', 'secretaries', 'Down', 'foci', 'SBA', 'protects', 'Spada', 'miscalculations', 'stimulating', 'pogroms', 'relaying', 'pauses', 'playbacks', 'sidemen', 'paused', 'bluebook', 'posing', 'refine', 'Britons', 'Effie', 'airplane', 'Walter', 'infantile', 'writs', 'fortunately', 'cliche', 'Munich', 'amputated', 'Addabbo', 'gaping', 'Kieffer', 'Considerable', 'Powder', 'teahouses', 'superintend', 'Indigo', 'ponies', 'use', 'southern', 'unobtrusive', 'diva', 'conscripted', 'prowlers', 'Malenkov', 'heroes', 'lifting', 'Stoics', 'wiggle', 'whenever', 'voce', 'automatically', 'McKinney', 'typical', 'novelized', 'albicans', 'Fashions', 'aiding', 'genteel', 'subs', 'trifle', 'tending', 'Mesta', 'curly', 'Kirby', 'Delhi', 'curls', 'wracking', 'titers', 'artisan', 'dreadfully', 'showered', 'hackles', 'Handguns', 'inefficiency', 'expansiveness', 'Grubb', 'Tactics', 'disparate', 'Wasson', 'lumbering', 'septillion', 'liberality', 'brigadier', 'motels', 'dishearten', 'identically', 'Tower', 'provision', 'discuss', 'idyllic', 'calipers', 'residentially', 'Mountaineering', 'scalded', 'prospers', 'lawmen', 'cliffs', 'Eliot', 'last', 'uncoiling', 'snapshots', 'supplant', 'operand', 'wavelength', 'counteract', 'avoided', 'Verloop', 'Freed', 'Oskar', 'digressions', 'Substances', 'desirability', 'belligerence', 'tunefulness', 'showroom', 'happenings', 'Phyfe', 'rebuilding', 'virtuosi', 'Uncertainty', 'virtuoso', 'Pierson', 'Pharmacopoeia', 'marina', 'Laue', 'marine', 'Blind', 'handstand', 'coulda', 'Tournament', 'fonder', 'vehemently', 'Ninth', 'stillbirths', 'disable', 'TEA', 'Pinscher', 'inevitabilities', 'initial', 'Rumors', 'occupations', 'sojourner', 'variables', 'There', 'mountainside', 'yourself', 'survivalists', 'Hollywood', 'angular', 'impetuous', 'Sparta', 'dawns', 'tusks', 'blacked', 'vehemence', 'grimness', 'Guidance', 'artless', 'thar', 'pomp', 'Scholar', 'that', 'thieving', 'Berne', 'shortcomings', 'disabuse', 'Everyone', 'inmates', 'Becoming', 'Beverly', 'Flats', 'eliminated', 'flowers', 'than', 'traverse', 'accordance', 'Fairbrothers', 'reconvened', 'eschewing', 'transcendant', 'slanted', 'reconvenes', 'Halls', 'remained', 'Cherry', 'premier', 'Kittredge', 'invalidated', 'Hieronymus', 'wallowed', 'recover', 'JYJ', 'cudgels', 'lumpy', 'lumps', 'terrific', 'rascals', 'idealization', 'siesta', 'swelled', 'Poultry', 'topping', 'oppressive', 'Ingleside', 'winless', 'evaporate', 'algebraic', 'expertly', 'analytically', 'Bursting', 'failure', 'Fuck', 'tooth', 'experimentations', 'aerosol', 'slaves', 'professional', 'filing', 'erred', 'Political', 'concurs', 'gratified', 'excerpts', 'ocarina', 'Roll', 'battens', 'crashing', 'nemesis', 'busily', 'agreements', 'title', 'proclamation', 'Kansas', 'skits', 'assented', 'Restoration', 'threefold', 'Rickshaw', 'watching', 'alcoholism', 'defying', 'toffee', 'mouthed', 'beatnik', 'alerts', 'Northfield', 'Sturbridge', 'Legislatures', 'Villa', 'Champs', 'leather', 'Felix', 'reorganized', 'bigoted', 'pituitary', 'wiry', 'Jock', 'administratively', 'protestations', 'derogatory', 'Shillong', 'namely', 'Janissaries', 'flatly', 'paunchy', 'hypodermic', 'reputed', 'conscript', 'leaning', 'hypocrisies', 'Langhorne', 'fascinated', '3', 'complexion', 'skyscraper', 'fascinates', 'whipped', 'Maneuvers', 'notice', 'Johnson', 'prettiest', 'garde', 'observant', 'pluck', 'analyzes', 'analyzed', 'Squadron', 'impromptu', 'vrai', 'onetime', 'discernible', 'Stein', 'Give', 'paddock', 'tutors', 'Primary', 'Metals', 'Stepson', 'segmental', 'assaulting', 'reluctantly', 'wheels', 'shouldered', 'nearby', 'monochromes', 'fungicides', 'Bourguiba', 'strengthening', 'learning', 'pimples', 'olives', 'Frohock', 'Puzzled', 'invert', 'Tewfik', 'Beta', 'wheezing', 'petit', 'outweighed', 'Beth', 'favoritism', 'Yokuts', 'homely', 'Forand', 'external', 'foggy', 'Flick', 'Kenneth', 'slogans', 'photographic', 'straggled', 'handicapped', 'Ninety', 'shirtfront', 'Kennett', 'coolest', 'ramp', 'interviewers', 'anxieties', 'habitants', 'donating', 'Hitch', 'worry', 'northward', 'widows', 'Statistically', 'Sixth', 'gentlemen', 'poetic', 'Delawares', 'officered', 'angered', 'Supposing', 'Sixty', 'hauls', 'gorging', 'Whisky', 'Pachelbel', 'investigated', 'centuries', 'courtesan', 'enjoyment', 'imprecations', 'bumpin', 'investigates', 'despatched', 'Proprietorship', 'intruding', 'speechless', 'patchwork', 'immeasurably', 'Outboard', 'authoritative', 'Philosophical', 'poplar', 'immeasurable', 'skirted', 'coordinate', 'laboratories', 'Knickerbocker', 'charged', 'heaps', 'Jimmie', 'knowledgeable', 'dancers', 'beveling', 'Minn.', 'Indigenes', 'Reduction', 'madrigals', 'terrains', 'apportionments', 'answerable', 'staging', 'thinking', 'senseless', 'sinuous', 'smugglers', 'improvement', 'subversion', 'Kolpakova', 'inner', 'trinkets', 'conferees', 'Grands', 'discontinue', 'typographic', 'sawtimber', 'early', 'Tour', 'Grande', 'symbolism', 'communiques', 'throwed', 'typify', 'velocities', 'subtler', 'thrower', 'nubile', 'hollowware', 'dilution', 'endorsed', 'ceremonial', 'tamale', 'orgiastic', 'ghostlike', 'Limerick', 'Telephone', 'chronology', 'Bryan', 'questionnaire', 'abetted', 'cobblestones', 'yaks', 'squire', 'Woodrow', 'premonitory', 'forks', 'Vaughn', 'Luger', 'copings', 'hustle', 'business', 'Duren', 'strained', 'Drive', 'Mathematical', 'comparison', 'enzymatic', 'Malesherbes', 'Karlheinz', 'gums', 'boldly', 'journey', 'parson', 'testimony', 'assassin', 'processor', 'Story', 'rediscovering', 'unbounded', 'astronomically', 'quotas', 'Cathy', 'Add', 'candlewick', 'involvement', 'bedtime', 'Ada', 'elementary', 'Carbondale', 'garrisoned', 'nowadays', 'your', 'Store', 'forwarded', 'area', 'assumed', 'unmodified', 'exonerated', 'Priam', 'mellowed', 'premix', 'confrontation', 'poured', 'grated', 'burnings', 'Denials', 'assumes', 'Ambrose', 'firelight', 'Mollusks', 'J', 'Experience', 'gunners', 'posterior', 'lymph', 'Johnston', 'Lobar', 'Hockaday', 'whirring', 'happening', 'historicity', 'potato', 'appliance', 'Robinsonville', 'stapling', 'Color', 'Complex', 'ballast', 'tones', 'sallying', 'Dietetic', 'cowbirds', 'Crisis', 'undertake', 'remembrances', 'Yonkers', 'Flight', 'Duque', 'Vowel', 'scanned', 'midweek', 'Strike', 'gradients', 'Banjo', 'Karns', 'yon', 'unwelcome', 'Lao', 'hurtled', 'hydroxylation', 'elemental', 'valid', 'Lay', 'semiarid', 'you', 'Law', 'Lap', 'Las', 'Great', 'authoritarian', 'perils', 'carpenter', 'unattractive', 'building', 'La.', 'condensation', 'Mexican', 'apathy', 'marionettes', 'vines', 'repay', 'profits', 'Soybean', 'embracing', 'Melvin', 'Practice', 'exhibitions', 'lopped', 'alleviation', 'infestations', 'twigged', 'deadline', 'messy', 'managed', 'brunettes', 'carpet', 'dreadful', 'blueberries', 'Braud', 'gymnast', 'Slightly', 'equivalence', 'Braun', 'eventfully', 'stomping', 'health', 'Pilate', 'azaleas', 'lifters', 'Torino', 'transducers', 'agglomeration', 'greensward', \"I'd\", 'balancing', 'Undertaken', \"I'm\", 'securely', 'Seasonal', 'squadrons', 'Bentley', 'heaved', 'punish', 'kolkhoz', 'heaves', 'Schlesinger', 'riverbanks', 'fence', 'solvent', 'attributable', 'casual', 'commentaries', 'darkness', 'consumers', 'rapists', 'Motorists', 'emotions', 'Lumiere', 'belching', 'amatory', 'certificates', 'incoherently', 'hijacked', 'Seldom', 'edited', 'litters', 'modular', 'unsharpened', 'trunk', 'murmured', 'Gov.', 'ommission', 'creeps', 'partaker', 'Northampton', 'exceptionally', 'experimenting', 'creepy', 'drawers', 'amount', 'fancier', 'uniquely', 'Cartesian', 'shuffle', 'cosmetic', 'analyzing', 'dispersement', 'trained', 'globes', 'Specimens', 'teach', 'flaws', 'ripe', 'generate', 'Halda', 'assessor', 'authorization', 'Butter', 'thrown', 'commences', 'ejected', 'regrettable', 'surprisingly', 'Bless', 'commenced', 'moistened', 'regrettably', 'Wingback', 'Fairy', 'alderman', 'blasphemies', 'weathering', 'typifying', 'Batavia', 'Atkinson', 'coalition', 'Doubtful', 'illuminations', 'playable', 'Donnybrook', 'transcend', 'adviser', 'Legion', 'boycott', 'fillies', 'climates', 'Interstate', 'oratory', 'processors', 'orators', 'ledges', 'ledger', 'stayed', 'hampered', 'fishmongers', 'Barrett', 'tried', 'rude', 'Birgit', 'derived', 'triumphs', 'tries', 'Kaminsky', 'malnourished', 'derives', 'Sensing', 'Matisse', 'hooliganism', 'contrived', 'deluge', 'enzymes', 'Sweet', 'Kamens', 'mantrap', 'ego', 'Existence', 'egg', 'grizzled', 'Horse', 'wickets', 'chalked', 'mucosa', 'Illinois', 'Hartsfield', 'committee', 'unworn', 'Dresbach', 'reminiscences', 'dummies', 'limelight', 'discloses', 'overexcited', 'reluctance', 'Strikes', 'actually', 'Colonus', 'Putting', 'followeth', 'radical', 'peanuts', 'Evolution', 'motivated', 'roomful', 'Victorian', 'motivates', 'fancy', 'towering', 'Dominic', 'linking', 'lightens', 'Sturch', 'Allemands', 'dulled', 'decimal', 'Commentaries', 'duller', 'abstractionism', 'stickman', 'yearningly', 'inlaid', 'Handling', 'Exhibition', 'quantum', 'inspections', 'beyond', 'event', 'steered', 'veneration', 'basements', 'Everett', 'meditating', 'viability', 'wadded', 'fountain', \"musn't\", 'sympathized', 'meteoric', 'expansive', \"devil's\", 'Plaza', 'According', 'ponderous', 'cornstarch', 'breathless', 'Rosabelle', 'earliest', 'coiffure', 'revolutionary', 'diffused', 'Pater', 'terrible', 'bridegroom', 'terribly', 'liaison', 'expecting', 'diffuses', 'heartbeat', 'undergo', 'interact', 'sacrifice', 'cetera', 'Phelan', 'Siberian', 'industrially', 'talked', 'loadings', 'mist', 'splattered', 'min', 'wingman', 'adherents', 'inure', 'harmlessly', 'Cavaliere', 'interwoven', 'generalities', 'pinned', 'Autos', 'mosaic', 'Bumblebees', 'Frankie', 'Montmartre', 'bowed', 'Threaded', 'Improved', 'understructure', 'reawaken', 'Improves', 'bower', 'monosyllables', 'blindly', 'taxable', 'Prosser', 'albums', 'Athalie', 'Treadwell', 'financing', 'lament', 'grocers', 'McKellar', 'derriere', 'Sextet', 'bride', 'utopia', 'Officials', 'Mimesis', 'wastage', 'entranceway', 'quacked', 'sentenced', 'Peach', 'Peace', 'Elemental', 'affirmative', 'Regions', 'Kimberly', 'comrades', 'sentences', 'gleefully', 'concentration', 'soubriquet', 'lid', 'curbside', 'jour', 'Grafton', 'empowered', 'transference', 'targets', 'lit', 'rutabagas', 'Galilee', 'lip', 'useless', 'comprehended', 'command', 'With', 'Spirit', 'Obligingly', 'approves', 'Epistles', 'Kentucky', 'promenade', 'sponsored', 'Violin', 'watt', 'diametrically', 'Massimo', 'Called', 'archery', 'chronicle', 'mobile', 'performances', 'clear', 'Johns', 'snapping', 'indecisively', 'outhouse', 'distension', 'succor', 'creeks', 'clean', 'lordship', 'Braden', 'lest', 'tincture', 'celebrities', 'sheik', 'multilateral', 'octaves', 'negligence', 'Dandy', 'Populaires', 'parameters', 'Theodore', 'flights', 'subsection', 'balsams', 'inadvisable', 'suspect', 'circle', 'Howdy', 'Circumstances', 'biopsy', 'phosgene', 'capsule', 'basement', 'interminable', 'intensify', 'exhibiting', 'querying', 'Confrontation', 'ohmic', 'coincidence', 'Jawaharlal', 'abolitionists', 'double', 'x', 'Hurok', 'Wustman', 'Wealth', 'scampering', 'throwing', 'plausible', 'Cotillion', 'Isfahan', 'accelerators', 'commandeered', 'baldness', 'Morrison', 'gravitation', 'dweller', 'JEDEC', 'Novak', 'Blair', 'familiarity', 'timeworn', 'skylarking', 'Materials', 'incompatibility', 'probably', 'cautions', 'bigots', 'Southampton', 'Lyttleton', 'Sans', 'intending', 'timidly', 'Constable', 'craters', 'Nuf', 'Sane', 'autocrats', 'gangling', 'both', 'delimit', 'fiance', 'clothes', 'gaunt', 'sensitive', 'phonies', 'vaster', 'Keegan', 'Chapter', 'headed', 'Panama', 'parakeets', 'manners', 'whatever', 'fission', 'steely', 'Lights', 'Vicksburg', 'Mt.', 'steels', 'mumble', 'Cabin', 'acculturation', 'Deemed', 'naps', 'lattice', 'Trigg', 'Reason', 'uncritically', 'reciprocate', 'coarse', 'mutiny', 'territory', 'hirelings', 'Pilgrims', 'dismounting', 'collectible', 'dialogue', 'Metronome', 'Diocesan', 'deter', 'determination', 'compromised', 'folklore', 'honest', 'preconditioned', 'smolderingly', 'gale', 'Konitz', 'Cursed', 'while', 'fleet', 'animated', 'flees', 'Hotels', 'Industries', 'grinned', 'tendered', 'gall', 'bellowed', 'loosened', 'bow', 'faires', 'RCA', 'riotous', 'autopsied', 'baseline', 'seismographs', 'Understanding', 'unpromising', 'Wrist', 'taunt', 'clearness', 'hallway', 'Shabbat', 'lawyers', 'bonus', 'Testaments', 'stashed', 'cleaning', 'tufts', 'indefinable', 'Distances', 'comas', 'formability', 'anxious', 'increases', 'auditor', 'savvy', 'slackened', 'appalled', 'scouring', 'ambassador', \"couldn't\", 'abstain', 'Exchequer', 'Hemmed', 'goings', 'recounting', 'Bernard', 'restlessly', 'planetoids', 'OAS', 'roasted', 'insolent', 'dissimulation', 'CCC', 'conjured', 'wounding', 'cemetery', 'indigestible', 'Pimen', 'Dever', 'conjures', 'fractionated', 'schoolwork', 'Devey', 'descendant', 'motivating', 'lasses', 'stein', 'Messrs.', 'opprobrium', 'translucent', 'defied', 'Cincinnati', 'pillar', 'manifest', 'Rising', 'translated', 'patriots', 'ingratiating', 'refracted', 'saddled', 'Little', 'wrack', 'parade', 'soma', 'mauve', 'fathers', 'some', 'urgent', 'thruway', 'Choose', 'erupts', 'bruising', 'Moscow', 'Warning', 'Arriving', 'slapstick', 'claimed', 'thyroxine', 'eating', 'booklet', 'Bruises', 'Schelling', 'jazzy', 'Raccoon', 'infinitum', 'raspberry', 'subtract', 'Westwood', 'Comment', 'rumen', 'bureaus', 'gnome', 'concretely', 'tracing', 'samplers', 'scattergun', 'simulation', 'hinge', 'Committee', 'Redstone', 'Silone', 'diisocyanate', 'disclosure', 'Mutual', 'Eli', 'Elm', 'uncritical', 'decertify', 'Vocational', 'dissatisfaction', 'Cauffman', 'parables', 'pentagon', 'furtively', 'Designs', 'statistics', 'innate', 'Giorgio', 'Orleans', 'Republics', 'translucence', 'translucency', 'achievement', 'rivalries', 'kamikaze', 'calumny', 'Sixteen', 'portly', 'Materialism', 'eagerness', 'governs', 'newel', 'Peacocks', 'registered', 'frost', 'reiterated', 'newer', 'Adrian', 'reiterates', 'amateurish', 'reel', 'Clemens', 'mineral', 'skulk', 'klaxon', 'microorganisms', 'skull', 'stumbling', 'Clement', 'bewilders', 'Helena', \"There's\", 'cautiously', 'Helene', 'Personnel', 'metals', 'troopships', 'nab', 'Harding', 'objection', 'prerogative', 'A.', 'nap', 'contenting', 'A5', 'pronouns', 'hydrated', 'AA', 'draw', 'Lutte', 'Reverse', 'Putas', 'crouching', 'NCTA', 'AM', 'luminaries', 'resign', 'william', 'AP', 'drag', 'rested', 'drab', 'dram', 'Tenderfoot', 'Coronation', 'Yalies', 'structure', 'cryptographic', 'antecedent', 'Ad', 'practically', 'Ai', 'Ah', 'outing', 'Aj', 'Am', 'Al', 'bleached', 'Stubbs', 'pamphlets', 'As', 'tandem', 'At', 'Aw', 'hallways', 'Ax', 'Gracie', 'Warsaw', 'Sell', 'rakish', 'Git', 'Self', 'farms', 'proposition', 'salaries', 'barbecue', 'Gil', 'Thrifty', 'Gaynor', 'Sabine', 'Sabina', 'Returning', 'mosque', 'expelling', 'attackers', 'pinnacles', 'Borromini', 'wayside', 'Titus', 'Mrs.', 'unstructured', 'salaried', 'Xavier', 'Feeling', 'slopped', 'retold', 'recollected', 'homicidal', 'exits', 'stiff', 'Brisbane', 'gender', 'button', 'hive', 'defocusing', 'verdict', 'prosodic', 'shish', 'inspection', 'quoting', 'comforts', 'overblown', 'pater', 'felon', 'blitz', 'Favor', 'carted', 'graying', 'Schleiermacher', 'ardent', 'Tabit', 'plays', 'evokes', 'Abner', 'ribald', 'cell', 'evoked', 'Properly', 'poles', 'Dannehower', 'pristine', 'tournaments', 'Tipoff', 'weirdy', 'shoreline', 'Wheelock', 'prescribe', 'Windham', 'playwriting', 'retrograde', 'engraving', 'withdrawing', 'morsels', 'veered', 'Bayou', 'benevolence', 'preferentially', \"weren't\", 'virility', 'Arabic', 'hexagon', 'commendable', 'daybreak', 'Yorkers', 'addresses', 'Sharon', 'shake', 'Construct', 'danged', 'addressed', 'Lucian', 'singing', 'Photographing', 'inhumanities', 'metaphor', 'snoop', 'congratulated', 'contentment', 'subsidized', 'vehicle', 'inserts', 'exhaustive', 'expressway', 'Memphis', 'Wildcat', 'bureaucracy', 'popped', 'dentists', 'Sailing', 'becomes', 'carvings', 'testified', 'Wednesday', 'testifies', 'disrobe', 'forerunners', 'announcing', 'sanctions', 'ride', 'Forbes', 'Nevada', 'conformity', 'Cites', 'control', 'wharf', 'corpuscular', 'sacking', 'rejoining', 'thermally', 'Brig.', 'spanning', 'fearsome', 'Kentfield', 'stemmed', 'Tidewater', 'vesicular', 'Thoreau', 'Rarer', 'Opportunity', 'hafta', 'Nationalistic', 'franchise', 'IRSAC', 'British', 'Thorpe', 'ostensible', 'Figures', 'laudanum', 'Shelley', 'gulps', 'revered', 'Marcel', 'crazed', 'alienation', 'hid', 'Wilson', 'soggy', 'Rosella', 'facilitated', 'rebellious', 'Phillips', 'Pedro', \"won't\", 'purgation', 'cruise', 'Interior', 'converting', 'facilitates', 'brood', 'Recently', 'Exchange', 'masses', 'notebooks', 'brook', 'him', 'Jennie', 'coachwork', 'insulator', 'drapers', 'massed', 'demoralize', \"Ch'in\", 'sweets', 'fallible', 'Zeiss', 'front', 'announcers', 'uninterruptedly', 'refuel', 'masters', 'impresario', 'mastery', 'registrations', 'muff', 'magnitude', 'Alpharetta', 'Shipbuilding', 'Use', 'seniors', 'showering', 'despots', 'globe', 'Madden', 'mar', 'Fifties', 'exceeded', 'Bandstand', 'corticosteroids', 'stimulants', 'mat', 'gallant', 'shambled', 'maw', 'edentulous', 'Selecting', 'Blakey', 'THC', 'may', 'playground', 'ASME', 'Fords', 'thriving', 'Housewives', 'Sartoris', 'dissented', 'intruded', 'umbrella', 'wines', 'Spinco', 'Draw', 'interplanetary', 'undo', 'attending', 'intrudes', 'intruder', 'dissenter', 'dockside', 'Messiah', 'Traxel', 'corrosion', 'geometry', 'lanced', 'snowstorm', 'pilfering', 'pedimented', 'Comic', 'appropriateness', 'Strindberg', 'justifying', 'mad', 'prospective', 'Nuit', 'poignancy', 'indisposed', 'drinker', 'stump', 'quality', 'horseman', 'Todman', 'Platter', 'Argonauts', 'bears', 'squinting', 'durable', 'adopted', 'Employers', 'forgery', 'quaking', 'man', 'tourists', 'beard', 'Knit', 'exactly', 'Alumni', 'scrambling', 'feint', 'Leaning', 'apologist', 'swindled', 'amide', 'aspiration', 'photogenic', 'Ants', 'shill', 'Formby', 'Waddell', 'injecting', 'referral', 'Anta', 'bard', 'behaviors', 'Span', 'Tenda', 'Richard', 'recessed', 'Writers', 'Pugh', 'sundown', 'need', 'Weld', 'Caves', 'assurances', 'Development', 'screw', 'microphone', 'kebob', 'pursued', 'able', 'purchasing', 'Shirl', 'ably', 'teleological', 'unsmiling', 'Merry', 'sufficiency', 'barn', 'medals', 'unagi', 'goddamned', 'refocusing', 'axiomatic', 'Delmore', 'Amra', 'isocyanate', 'connected', 'tall', 'awe', 'foisted', 'plumber', 'topographic', 'Observer', 'undeniable', 'upset', 'scrambled', 'prickly', 'plumbed', 'Tris', 'forlorn', 'impression', 'emerging', 'indoor', 'airlift', 'Mississippi', 'retouching', 'Fatima', 'soldiery', 'Oregon', 'midwife', 'catapulted', 'molest', 'Public', 'shield', 'drooping', 'creamed', 'untimely', 'cavort', 'Underwriters', 'earned', 'winner', 'employes', 'employer', 'creamer', 'thunderous', 'employee', 'employed', 'Ahrens', 'Harford', 'dodge', 'gratify', 'righteousness', 'moralist', 'Yard', 'Packard', 'overall', 'Jackie', 'NAIR', 'sipping', 'joint', 'legitimate', 'joins', 'magistrate', 'buyer', 'leases', 'Italian', 'conservatory', 'trammel', 'contain', 'proponents', 'Believing', 'computed', 'modifications', 'tossing', 'Wolfes', 'Zinman', 'orphan', 'computes', 'computer', 'powder', 'equip', 'anastomoses', 'Gaining', 'statu', 'surmised', 'state', 'beautify', 'Preliminary', 'malocclusion', 'observational', 'Became', 'sorely', 'Portico', 'importance', 'Thank', 'efficiency', 'police', 'Kennel', 'paraphrasing', 'harrassment', 'histrionics', 'Aegean', 'Expectations', 'attached', 'minds', 'middles', 'manifestations', 'a.m.', 'Result', 'Tsou', 'flocking', 'Christendom', 'cordial', 'Matthew', 'complication', 'harmonic', 'Blaustein', 'maximize', 'poem', 'tread', 'Relax', 'Guatemala', 'Pettersson', 'treat', 'tactic', 'poet', 'senses', 'diversity', 'Worthy', 'subspace', 'orphanage', 'Livingston', 'sensed', 'corks', 'infestation', 'titter', 'Masonry', \"That's\", 'sluiced', 'kava', 'glossary', 'harder', 'harden', 'reapportioned', 'Stickler', 'Granted', 'coating', 'sustenance', 'Overtones', 'You', 'sluices', 'blasphemous', 'began', 'tappet', 'embodiments', 'Ironside', 'schematic', 'Oxford', 'tapped', 'prophesies', 'reactionary', 'fireman', 'effect', 'trembles', 'sagged', 'prophesied', 'disorderliness', 'Mitchell', 'herpetology', 'compendium', 'supernatant', 'obstacles', 'Idea', 'Frowning', 'Have', 'Mamaroneck', 'glowed', 'restore', 'BG', 'dismounted', 'Sargent', 'sources', 'BW', 'overhauling', 'laurel', 'purified', 'coordination', 'Be', 'brothels', 'Bo', 'logged', 'barefooted', 'lured', 'logger', 'luncheons', 'By', 'impassable', 'ample', 'devised', 'declarations', 'crushed', 'indomitable', 'overemphasized', 'contingents', 'burden', 'jockeying', 'crusher', 'Fashion', 'England', 'B.', 'Beckett', 'incandescent', 'shed', 'shea', 'repositories', 'belonged', 'restudy', 'Depicted', 'redress', 'warmer', 'deliverance', 'Transcendental', 'slots', 'Clever', 'Draper', 'solicits', 'attaches', 'boggled', 'Attending', 'rewarding', 'coloratura', 'Connie', 'allegory', 'intersections', 'quarts', 'Maitres', 'questioners', 'Gaylor', 'shrilled', 'narrowness', 'prohibited', 'offset', 'instinct', 'Seminary', 'Merited', 'shakily', 'torsos', 'Johnny', 'staked', 'scribing', 'cleans', 'Peabody', 'rodeo', 'toppings', 'Novosibirsk', 'NLRB', 'wrenching', 'persuaded', 'stakes', 'steeples', 'countenance', 'primal', 'interstellar', 'artists', 'legitimized', 'additions', 'dug', 'utility', 'doubtless', 'grassfire', 'tidied', 'miscount', 'Assistant', 'recruiter', 'sopranos', 'resentment', 'pa', 'divulging', 'dolphins', 'recruited', 'Arrange', 'cricket', 'Vending', 'hazardous', 'evacuate', \"Where're\", 'uncurled', 'Bosphorus', 'technician', 'Examiner', 'pi', 'Sicilian', 'cells', 'frightfully', 'signed', 'Michaelson', 'cruel', 'exerts', 'Sponsor', 'leathers', 'pumped', 'piece', 'leathery', 'Horror', 'Chestnuts', 'devise', 'reservations', 'penny', 'magnates', 'resented', 'ideational', 'Defining', 'Billikens', 'cavalry', 'Mining', 'Explosion', 'contest', 'fencing', 'offensive', 'Hygiene', 'paratroopers', 'envisaged', 'Gilels', 'Boron', 'envisages', 'Parapsychology', 'Kenyon', 'expositions', 'Like', 'ecstatic', 'Ken', 'Directionality', 'refreshments', 'Kel', 'Morgan', 'animosity', 'agonizing', 'Neglect', 'Melville', 'chalky', '3rd', 'poplin', 'portion', 'Yearbook', 'Orders', 'secondly', 'Vitamins', 'similarity', 'Burnet', 'Routine', 'Burnes', 'Improvement', 'Bolet', 'scheming', 'captain', 'offenses', 'presente', 'segments', 'sweetest', 'blacking', 'presents', 'condemns', 'hardtack', 'trousers', 'teaching', 'updated', 'cruising', 'overprotection', 'compacts', 'Django', 'toppling', 'Tenure', 'overcomes', 'courageous', 'convexity', 'Physiologically', 'soulfully', 'skills', 'laurels', 'commons', 'convenience', 'pardons', 'Matisses', 'Frisco', 'inaction', 'farmhouse', 'embouchure', 'force', 'Waco', 'pleura', 'churchly', 'warns', 'shoveled', 'Version', 'Tape', 'helluva', 'qualitatively', 'Everest', 'quill', 'even', 'Lamar', 'trapping', 'prisons', 'malleable', 'Battenkill', 'lights', 'sunder', 'bachelors', 'tips', 'ever', 'Gregorio', 'deemed', \"parents'\", 'experimentalism', 'Flip', 'anthropology', 'refinement', 'Patients', 'active', 'Ohio', \"aren't\", 'tapes', 'jams', 'Hail', 'Hair', 'taped', 'superstitious', 'permit', 'Nazi', 'Bottineau', 'eyebrows', 'chaperoned', 'fragrances', 'campaign', 'shoestring', 'St.', 'bayonet', 'schooling', 'Sputnik', 'moral', 'suburbanites', 'Giffen', 'endings', 'landscape', 'unfixed', 'overheat', 'Accidental', 'army', 'twirler', 'arms', 'tabulated', 'secessionist', 'overhead', 'calm', 'twirled', 'Cliburn', 'peeping', 'decencies', 'pecan', 'Invalid', 'raillery', 'spiraled', 'flora', 'pivoting', 'ecstasy', 'gasoline', 'superstructure', 'urbanism', 'bungalow', 'gossiping', 'Advertisers', 'Borough', 'mountainsides', 'defer', 'Lil', 'laughs', 'Lifting', 'involve', 'Relatives', 'Chauncey', 'Waldensian', 'rig', 'cursory', 'Liz', 'sideline', 'anguish', 'Josef', 'Veblen', 'salivate', 'currents', 'Hargett', 'answer', 'cavernous', 'briefcase', 'undergoing', 'Nineveh', 'clemency', 'Starbird', 'Bonne', 'Hattie', 'curiosity', 'Budweisers', 'inactivity', 'purchase', 'All', 'guerilla', 'toilsome', 'Civic', 'Civil', 'capitalism', 'maintain', 'frequent', 'capitalist', 'Festivals', 'Blue', 'cession', 'unfolds', 'deck', 'Blum', 'Opportunities', 'fortify', 'disaffection', 'responsive', 'scoring', 'cumulus', 'Virgilia', 'blackened', 'better', 'Beck', 'Cutting', 'differently', 'Birth', 'carve', 'apogee', 'overcome', 'imperturbable', 'repairmen', 'donors', 'regrouped', 'weakness', 'downs', 'Ditmar', 'intimidation', 'Steps', 'Abolitionists', 'dejeuner', 'singularity', 'decorator', 'innings', 'fringed', 'Dohnanyi', 'Cairo', 'mistrust', 'Sympathy', 'victories', 'leaned', \"doctor's\", 'went', 'sullying', 'spinneret', 'afforded', 'dour', 'successively', 'Hulks', 'overheating', 'principles', 'ministering', 'projectiles', 'mandated', 'contend', 'Cow', 'Surrounding', 'Piddington', 'hushed', 'Lefty', 'content', 'sparkle', 'undeserved', 'Hanford', 'assaults', 'linear', 'voltages', 'pityingly', 'spill', 'USSR', 'undersize', 'poppy', 'lineal', 'warmhearted', 'Nixon', 'shaggy', 'lacerated', 'starts', 'cackled', 'Nail', 'Fabian', 'Computation', 'signature', 'swiping', 'arrived', 'Kivu', 'Cod', 'Swahili', 'arrows', 'chronologically', 'grade', 'Bookies', 'Grigory', 'peculiarity', 'primitivism', 'disappearing', 'Shevchenko', 'twitched', 'snubbing', 'masterfully', 'grads', '1a', 'spinach', 'concussion', 'recruiting', 'twisted', 'boating', 'Corollary', 'zeros', 'witnessing', 'twister', 'fiery', 'BBB', 'unfertilized', 'somewhat', 'peculiar', 'symptom', 'congratulatory', 'anxiety', 'Craig', 'fraternisation', 'silly', 'deserving', 'spoiled', 'usages', '7th', 'Pickering', 'emphasizing', 'Idealist', 'dared', 'adjourned', 'horde', 'POW', 'unalloyed', 'Pianists', 'chest', 'edge', 'chess', 'hoods', 'panties', 'Terrace', 'batters', 'Pennell', 'Confederates', 'phonograph', 'Vanguard', 'Alabama', 'Rosemary', 'trusteeship', 'unknowingly', 'Bernie', 'Giacometti', 'Crow', 'nighttime', 'Meltzer', 'Hillcrest', 'Comedian', 'Mambo', 'Copenhagen', 'mailing', 'reprinted', 'Dirty', 'fungal', 'lyrics', 'Taussig', 'retire', 'Carey', 'ballfields', 'ending', 'treaties', 'attempts', 'chartered', 'uneasiness', 'discourteous', 'stepping', 'alcohols', 'marvelously', 'Gioconda', 'cripple', 'monuments', 'pigeons', 'scrubbing', 'wearing', 'exports', 'Crumb', 'reconstruction', 'colorful', 'retaliating', 'Albanian', 'perceive', 'Oneida', 'Nodding', 'Crump', 'Realism', 'Feverishly', 'Whitey', 'bar', 'microsomal', 'cleanups', 'microscopy', 'bay', 'illegitimate', 'bag', 'bad', 'softly', 'Hippodrome', 'ban', 'Bernhard', 'Corinthian', 'unworthy', 'Heusen', 'beaten', 'serratus', 'emergent', 'Christianity', 'Semenov', 'Sydney', 'Sleeper', 'spattered', 'mournfully', 'prototypical', 'brazil', 'said', 'shaven', 'Eligibility', 'Nope', 'Registered', 'sail', 'shaved', 'Choice', 'Spraying', 'Gloomy', 'meditative', 'tolerance', 'C', 'stiffening', 'Rudyard', 'restricting', 'vitamin', 'vacuuming', 'orthodontist', 'bullyboys', 'gentry', 'Yours', 'Chipping', 'eyeball', 'Gunnar', 'cartilage', 'contribution', 'Davao', 'Worship', 'Given', 'motioning', 'repertory', 'hardworking', 'lullaby', 'inquisitive', 'Forest', 'lowly', 'Nationalism', 'ether', 'Chavez', 'C.', 'recur', 'commonplaces', 'Chaves', 'Rennell', \"C'\", 'three', 'Early', 'revisionist', 'SWC', 'threw', 'Morningstar', 'CO', 'prosperous', 'CB', 'deadliness', 'Meehan', 'CD', 'tapping', 'Lucretius', 'aviation', 'calcified', 'Co', 'sly', 'reddish', 'originate', 'economies', 'suppose', 'itinerary', 'Cr', 'murders', 'smoky', 'Nae', 'sushi', 'Nan', 'Ideas', 'Nam', 'Ideal', 'Caltech', 'Naw', 'Nat', 'deadened', 'redecorated', 'grown', 'growl', 'Benoit', 'tucking', \"everybody's\", 'speculating', 'potentially', 'vegetable', 'confronting', 'grows', 'governors', 'Jakarta', 'pharmacological', 'Morris', 'declarative', 'sacraments', 'arcus', 'overt', \"he'll\", 'thoughts', 'emissary', 'stimuli', 'smokes', 'qualities', 'claims', 'paradigm', 'Vandiver', 'left', 'alluded', 'trilled', 'longish', 'hillbilly', 'alludes', 'propionate', 'trestles', 'Custer', 'acumen', 'agile', 'Begging', 'jeweler', 'wretch', 'affinity', 'servicemen', 'News', 'spasms', 'Building', 'chives', 'Empedocles', 'Carraway', 'flatulence', 'interior', 'whichever', 'natal', 'background', 'gastrocnemius', 'bel', 'vanity', 'afire', 'thickens', 'Bait', 'uncivil', 'Armour', 'manual', 'perfectibility', 'autocracies', 'Provost', 'notorious', 'bets', 'incidental', 'repudiate', 'Beloved', 'revel', 'paragraphs', 'amiable', 'auditing', 'dense', 'Dellwood', 'unnameable', 'outspoken', 'PTC', 'PTA', 'maitre', 'loudspeakers', 'bold', 'novelties', 'draftee', 'blackmail', 'bolo', 'squeamish', 'bolt', 'Mackey', 'super', 'impersonates', 'Noyes', 'Retired', 'innuendo', 'Abstract', 'Hearing', 'cadre', 'impersonated', 'Cameron', 'commit', 'Lovers', 'sheets', 'lied', 'reaping', 'lien', 'lies', 'doctrine', 'lieu', 'errs', 'cascades', 'insult', 'upland', 'annoyance', 'effaces', 'amazingly', 'Castros', 'approximate', 'Mocking', 'influencing', 'Bismark', 'impassioned', 'faring', 'secondhand', 'offering', 'Dade', 'Akron', 'overburden', 'synonym', 'Jean', 'Z', 'atrocities', 'Melisande', 'continuance', 'Cinerama', 'Southfield', 'builds', 'streaming', 'Estimates', 'Wister', 'Sabella', 'boomerang', 'stager', 'Estimated', 'diagnose', 'hypertrophied', 'covert', 'Knead', 'covers', 'vacate', 'megatons', 'epiphysis', 'marksman', 'floating', 'triamcinolone', 'vista', 'Description', 'Pirie', 'locality', 'absences', 'excel', 'handed', 'Bodily', 'hander', 'adjourning', 'misinterpreted', 'sling', 'why', 'Eben', 'Arnold', 'Eber', 'insurrections', 'fruitlessly', 'unlocking', 'immemorial', 'Constant', 'apology', 'microcosm', 'daily', 'Separate', 'luckier', 'pellets', 'parcels', 'overdue', 'cares', 'Shelby', 'recalculation', 'bombed', 'themes', 'yapping', 'mild', 'mile', 'Scriptural', 'Louisiane', 'mill', 'abundant', 'Louisiana', 'milk', 'Czar', 'suicide', 'praises', 'Philharmonic', 'polyunsaturated', 'technique', 'bordered', 'logistical', 'amaze', 'Brooding', 'praised', 'cuttings', 'emasculation', 'daintily', 'lake', 'encircle', 'gambit', 'patrolman', 'nationalize', 'figment', 'bogeyed', 'sappy', 'mil.', 'bartender', 'pious', 'governments', 'materialize', 'dim', 'din', 'Statements', 'nectar', 'did', 'apartheid', 'economize', 'dig', 'involution', 'Funk', 'Belanger', 'Campground', 'moistening', 'overlaid', 'shoe', 'Reich', 'Faustian', 'Epidemiological', 'fearing', 'seasoning', 'maximization', 'refusing', 'threshold', 'threshed', 'bacterial', 'Charcoal', 'takin', 'courting', 'Shahn', 'dishonored', 'drunkard', 'deerskins', 'bookshelves', 'proclaiming', 'wail', 'bloke', 'guardian', 'clerk', 'unsmilingly', 'stallion', 'Rabat', 'Stalin', 'monies', 'Changes', 'nooks', 'wait', 'alto', 'institute', 'vintner', 'thrashed', 'biopsies', 'nylon', 'Baldwin', 'massage', 'hither', 'spatially', 'Buren', 'careworn', 'Marcius', 'Hazards', 'Purchasing', 'Lamb', 'Taoists', 'stiletto', 'Holabird', 'Fountain', 'subverted', 'ailing', 'Farming', 'milliliter', 'Ratto', 'everybody', 'ungainly', 'Australia', 'additive', 'Rhodesia', 'sharper', 'intensively', 'perk', 'Giselle', 'palmed', 'creamy', 'Conchita', 'emptiness', 'flaunting', 'francs', 'sharpen', 'creams', 'roundup', 'sharing', 'cremate', 'astray', 'hurlers', 'condescension', 'acceptable', 'Lusignan', 'ageless', 'mouthing', 'downtown', 'downing', 'realty', 'fly', 'Duke', 'Nordyke', 'gassy', 'armpits', 'station', 'representing', 'flu', 'soul', 'Pacific', 'Bath', 'soup', 'quivers', 'sour', 'presto', '9th', 'tortuous', 'Frans', 'arrive', 'Basing', 'biter', 'claim', 'barbecues', 'predict', 'Calhoun', 'agent', 'drawer', 'disbelieve', 'Damon', 'Coriolanus', 'Alger', 'Ed.', 'Bleckley', 'strikingly', 'Prometheus', 'Whiteman', 'marbleized', 'repulsion', 'nighters', 'diathermy', 'Pye', 'rivaled', 'staying', 'geocentric', 'critics', 'accessory', 'hedonism', 'omen', 'highroad', '6th', 'borrowing', 'avant', 'switch', 'Leslie', 'Edw', 'halos', 'longhand', 'granary', 'Litta', 'Fella', 'gradual', 'argues', 'Suburbs', 'Covington', 'Coconuts', 'Morgart', 'argued', 'uninominal', 'irresolute', 'Rodney', 'Elsewhere', 'mais', 'maid', 'coaching', 'blends', 'ours', 'Executives', 'truest', 'views', 'impulses', 'Manas', 'bein', 'drowsing', 'sarcastic', 'boats', 'Mussorgsky', 'ordinary', 'unpredictability', 'possess', 'outweigh', 'battlefields', 'chockfull', 'proteins', 'Monteverdi', 'Measurement', 'liberating', 'Holzman', 'abnormal', 'recitative', 'vagabond', 'gird', 'sifted', 'giveth', 'girl', 'morning', 'living', 'transforming', 'Straits', 'tidbits', 'blubber', 'dominate', 'Tillet', 'metaphysic', 'ethicists', 'charlotte', 'Theater', 'kedgeree', 'pumping', 'spies', 'miscreants', 'mortared', 'musing', 'bootlegger', 'forbids', 'Walking', 'Kimpton', 'ministry', 'standby', 'introverted', 'boastfully', 'pepperoni', 'desultory', 'substrates', 'Viyella', 'Probable', 'Easterners', 'remuneration', 'discharges', 'oafs', \"How'd\", 'permissibility', 'signifies', 'Entwhistle', 'Probably', 'extrovert', 'Pirate', 'Gestapo', 'seersucker', 'thoughtless', 'personalities', 'trisodium', 'lap', 'slept', 'Provide', 'headdress', 'escort', 'ayes', 'daunt', 'amphetamines', 'Bundy', 'Thurman', 'mining', 'Martyrs', 'Subscribers', 'loneliest', 'Miles', 'signified', 'undoubtedly', \"here's\", 'Replacement', 'knackwurst', 'mutilation', 'protected', 'scaffoldings', 'egged', 'Tunisian', 'Court', 'seam', 'mundane', 'occupies', 'DC', 'voices', 'dash', 'winding', 'Regulation', 'spectacle', 'voiced', 'Animals', 'DU', 'occupied', 'Do', 'clung', 'Di', 'unheeding', 'answering', 'upgrading', 'Da', 'callously', 'Du', 'cooing', 'channel', 'Legislature', 'subtilis', 'trace', 'normal', 'track', 'Gaunt', 'blackest', 'halvah', 'tract', 'supremely', 'hardships', 'D.', 'highboy', 'Trust', 'naturopath', 'especially', 'surprising', \"D'\", 'gracefully', 'pernicious', 'D8', 'Amsterdam', 'precise', 'lexicon', 'certification', 'Assassination', 'moderator', 'therapist', 'Wondering', 'Test', 'Chamberlain', 'waggled', 'Tess', 'Province', 'objector', 'devote', 'soliciting', 'Rozelle', 'impunity', 'Rozella', 'dissembling', 'disconcerting', 'Gillis', 'ranking', 'Kappa', 'permeated', 'contracts', 'reps', 'Apaches', 'Turn', 'ionized', 'Turk', 'distinctly', 'designates', 'beseech', 'Alliance', 'Methods', 'busiest', 'median', 'Shintoism', 'yield', 'subtype', 'stupid', 'photographically', 'Educational', 'Masaryk', 'milling', 'Noting', 'Inventory', 'salutation', 'Montrachet', 'pebble', 'dialectic', 'Inventors', 'gantlet', 'rigidly', 'gags', 'Fascist', 'forecast', 'Hours', 'calfskin', 'Selective', 'enumerated', 'geometric', 'moaned', 'brokenly', 'whispered', 'parent', 'Visually', 'cupboard', 'pained', 'tacit', 'signaled', 'condensing', 'unanalyzed', 'harpsichordist', 'singers', 'childbirth', 'Unitarianism', 'Grounds', 'lbs.', 'trader', 'trades', 'patrons', 'orchestration', 'remake', 'delirium', 'traded', 'Michelson', 'breakfasts', 'stretches', 'arcaded', 'terse', 'Sheridan', 'innovations', 'Ouray', 'maintained', 'grants', 'clambered', 'stretched', 'disliking', 'westwards', 'anyplace', 'Poconos', 'mare', 'unusual', 'Sure', 'underworld', 'discouraged', 'mark', 'Schiele', 'quackery', 'acre', 'employments', 'shopping', 'devilish', 'measles', 'Equally', 'gripped', 'veterinarians', 'Jungle', 'Colcord', 'Scotch', 'stacked', 'turtles', 'romping', 'tuck', 'profiles', 'Yardumian', 'Rumor', 'philosophies', 'Causes', 'Venice', 'bathrooms', 'then', 'characteristics', 'rammed', 'sprained', 'cluster', 'dangerously', 'scavenger', 'obnoxious', 'everyday', 'movements', 'pap', 'bags', 'different', 'pas', 'pat', 'thei', 'paw', 'pay', 'Jazz', 'steppes', 'heirs', 'heartbreak', 'pad', 'Muskegon', 'struggling', 'Fretting', 'pal', 'Mitropoulos', 'pan', 'meaningfully', 'exhaust', 'Commanders', 'seagulls', 'running', 'scorned', 'Laboratory', 'Apparel', 'Myers', 'Travels', 'slanders', 'haint', 'spoonful', 'bottle', 'individualizing', 'instillation', 'gates', 'Arrow', 'dehydration', 'aspect', 'Pershing', 'Hadrian', 'alimony', 'Criticality', 'adulterated', 'Margaret', 'Wolpe', 'borax', 'grating', 'extensive', 'bread', 'careers', 'shapeless', 'Georges', 'bluestocking', 'mor', 'mop', 'Marinas', 'mot', 'moi', 'mon', 'mom', 'secrecy', 'mob', 'railroad', 'aiming', 'disappointed', 'Friars', 'Mises', 'lightning', 'Troy', 'London', 'laughing', 'retailers', 'transmittable', 'Savoy', 'climactic', 'pacifies', 'interstage', 'imprisonment', 'Bostitch', 'galvanic', 'organizing', 'accomplice', 'livres', 'overly', 'critical', 'expressing', 'claustrophobia', 'staffs', 'Sonora', 'measuring', 'Troyes', 'egocentric', 'Ferber', 'buckling', 'airways', 'manufactured', 'notable', 'notably', 'transpiring', 'Efforts', 'strangled', 'finicky', 'Stacey', 'manufactures', 'manufacturer', 'conducting', 'preoccupied', 'Revenue', 'roar', 'violence', 'practical', 'preoccupies', 'Commissioners', 'airline', 'roam', 'sadistic', 'threesome', 'road', 'detente', 'imitated', 'quietly', 'Heads', 'Sunken', 'whites', 'spreading', 'Dist.', 'imitates', 'uptown', 'paganism', 'Week', 'Harold', 'Islandia', 'Though', 'slurped', 'downed', 'styling', 'elbowing', 'lions', 'Plenty', 'Bartlett', 'decisive', 'Weep', 'hysterical', 'braiding', 'Whipsnade', 'bettering', 'deepened', 'granules', 'unsettled', 'improvising', 'tripod', 'Freud', 'chambered', 'Canterbury', 'porches', 'flamboyant', 'billowed', 'affection', 'celestial', 'geriatric', 'cabled', 'Korneyev', 'fellow', 'Percussive', 'hound', 'cables', 'doctrinal', 'tripods', 'departs', 'consigned', 'astronaut', 'Poems', 'overtime', 'outfield', 'Galtier', 'attactive', 'Cheer', 'auditioning', 'prudent', 'awkwardly', 'clamored', 'pitifully', 'consternation', 'unload', 'Reasons', 'casts', 'Yeah', 'unsee', 'ingestion', 'weighty', 'Year', 'upperclassmen', 'craftsmen', 'resolution', 'caste', 'Van', 'forget', 'bosoms', 'Wars', 'Moos', 'Plateau', 'Natrona', 'behooves', 'children', 'Gizenga', 'Zapala', 'Tertre', 'Counsel', 'Va.', 'parcel', 'straightforward', 'Chartres', 'translations', 'coyness', 'Allegretti', 'veined', 'conjugating', 'dampen', 'celebrity', 'worded', 'sliding', 'Owing', 'Rink', 'biological', 'Ring', 'exemptions', 'neighborhood', 'Needy', 'Actually', 'Valuable', 'affectation', 'ribbon', 'dial', 'diam', 'opted', 'overshot', 'coroner', 'judicious', 'tribute', 'Pagan', 'plush', 'movement', 'violently', 'cohorts', 'Ruthlessness', 'Gift', 'ranged', 'promising', 'aristocrats', 'puddles', 'Arthur', 'disastrous', 'capacitor', 'Nazarene', 'sunning', 'Whole', 'publishes', 'publisher', 'speeches', 'leveling', 'Kawecki', 'stretching', 'storefront', 'chipper', 'published', 'chieftain', 'Neglecting', 'skids', 'authorize', 'Gouge', 'deterministic', 'Constitution', 'buses', 'Jameson', 'clapping', 'planar', 'aptitude', 'memos', 'helmsman', 'Core', 'phonemic', 'nothings', 'Jovian', 'distinct', 'Corn', 'destination', 'Towne', 'Cloth', 'Corp', 'Petitions', 'mEq', 'Towns', 'diamond', 'Kennedy', 'staggering', 'reeked', 'falloff', 'Cambridge', \"ain't\", 'varying', 'nineteen', 'willfully', 'Viceroy', 'Culbertson', 'Odyssey', 'Tonight', 'sarcasms', 'categorizing', 'Hartwell', 'taut', 'lingered', 'Wallenstein', 'bivouac', 'Funny', 'hamburger', 'unrevealing', 'stacking', 'expeditiously', 'deplores', 'Transcendentalism', 'sharp', 'Moluccas', 'deplored', 'siren', 'Paramount', 'lousy', 'sired', 'turnpikes', 'rye', 'enforcers', 'Outlays', 'talons', 'Mavis', 'bleat', 'Chattanooga', 'frilly', 'McCauley', 'Liss', 'List', 'frills', 'unyielding', 'solipsism', 'Lisa', 'Ozzie', 'response', 'bleak', 'orchard', 'Drunk', 'sunshield', 'eats', 'bathed', 'blandness', 'turnpike', 'nonagricultural', 'retrieval', 'egregiously', 'infant', 'Grumble', 'rounded', 'swamped', 'oblique', 'Masterpieces', 'lewdly', 'alkaloids', 'Extensive', 'Texas', 'arteries', 'surtout', 'possessions', 'Wechsler', 'Specialty', 'rookies', 'detected', 'speech', 'parametric', 'crawls', 'Viscount', 'lookout', 'airspeed', 'oks', 'good', 'Bar', 'Bas', 'pinafores', 'Bay', 'Bad', 'grubby', 'DePaul', 'declamatory', 'Bal', 'Bah', 'Amendment', 'easily', 'exiles', 'celerity', 'pregnant', 'Globe', 'Potter', 'exiled', 'unperceived', 'biscuits', 'ports', 'subsystem', 'mental', 'Hardwick', 'house', 'monks', 'wiggling', 'deluged', 'countrymen', 'connect', 'ripple', 'Criminal', 'Charts', 'Flat', 'Miro', 'effete', 'Mira', 'acting', 'Construction', 'flowed', 'jacketed', 'learners', 'Whirlpool', 'Northwestern', 'assist', 'Erickson', 'bully', 'Beowulf', 'commits', 'bulls', 'geared', 'difficulty', 'terminals', 'giveaway', 'Propaganda', 'El', 'En', 'benefits', 'Eh', 'Evans', 'Ed', 'assemblage', 'omits', 'Contempt', 'botany', 'Stengel', 'stepmother', 'Prattville', 'mistakenly', 'disregarded', 'juncture', 'instances', 'Rancher', 'cups', 'Lanesville', 'precariously', 'untraditional', 'Okay', 'indulgent', 'divorce', '5th', 'smoother', 'glides', 'Stafford', 'statement', 'seeker', 'smoothed', 'muscles', 'Language', 'Anglophobia', 'excels', 'sizable', 'muscled', 'favorable', 'Problem', 'purposefully', 'Galindez', 'peaked', 'Lenin', 'involvements', 'horizons', 'gotten', 'largely', 'youth', 'contrary', 'damaging', 'treated', 'Boun', 'ambitiously', 'outta', 'desuetude', 'ages', 'Breath', 'Census', 'cistern', 'cometary', 'sciatica', 'unafraid', 'aged', 'fading', 'mountain', 'buffeted', 'built', 'amorality', 'Connall', 'Pausing', 'boardinghouses', 'build', 'anthems', 'Sides', 'Teller', 'flute', 'Hawaii', 'crash', 'Savings', 'Whelan', 'Manassas', 'soldierly', 'engagements', 'Martini', 'refrigerator', 'Responses', 'esterases', 'organist', 'Poach', 'consanguinity', 'Sample', 'Canteloube', 'directness', 'overcrowding', 'organism', 'nobility', 'dodging', 'Adcock', 'directorate', 'particularly', 'disturbances', 'obligations', 'fins', 'hopper', 'hugging', 'carne', 'relation', 'Hill', 'Hilo', 'repels', 'perched', 'hopped', 'fine', 'find', \"month's\", 'Poor', 'giant', 'depended', 'dividing', 'hospitable', 'frothier', 'chaw', 'Pool', 'Emigrant', 'boulder', 'Desperately', 'Leatherneck', 'elapse', 'resolve', 'unwarrantable', 'flotillas', 'Suddenly', 'D.J.', 'Prairie', 'hike', 'brooked', 'Tempest', 'Allah', 'devils', 'vine', 'glottal', 'unmistakable', 'surrendered', 'overeat', 'despoiling', 'Impressive', 'tunneled', 'visiting', 'Rose', 'superseded', 'please', 'splendidly', 'smallest', 'Extrapolation', 'Egyptians', 'hold', 'donate', 'consonants', 'King', 'Kind', 'vindicated', 'responses', 'Weede', 'renews', 'aircraft', 'foothill', 'lightness', 'alters', 'breakups', 'Babatunde', 'cubes', 'erysipelas', 'brunches', 'powers', 'annual', 'mistrusted', 'cubed', 'gamblers', 'afar', 'upgraded', 'consume', 'prosecuting', 'asymptotically', 'Hoffer', 'Dallas', 'Koehler', 'dietary', 'unsuccessful', 'volunteered', 'Bellows', 'McKenna', 'headaches', 'perspectives', 'Cicognani', 'trilogy', 'choruses', 'collaborator', 'chorused', 'meeting', 'Poet', 'Liquid', 'Princeton', 'longitudes', 'Months', 'acolyte', 'nihilistic', 'Marsicano', 'Presenting', 'Drill', 'Enver', 'Newts', 'rupture', 'interlocking', 'Classic', 'solid', 'puissant', 'holocaust', 'aptness', 'interposing', 'Eustis', 'Lovering', 'eclipses', 'Benelux', 'Walters', 'birthright', 'adjusts', 'elucidation', 'impracticable', 'moralistic', 'imperialist', 'Speedup', 'Eleven', 'itself', 'primping', 'evading', 'Inspect', 'textile', 'Saratoga', 'Beatitudes', 'Ludmilla', 'Sorrentine', 'Featherweight', 'neutron', 'Realtor', 'sophisticated', 'keys', 'appreciably', 'yesterday', 'solicited', 'flurry', 'appreciable', 'Nancy', 'ab', 'consulted', 'dystopian', 'forfeited', 'county', 'flags', 'entry', 'Racial', 'dystopias', 'pfennig', 'Lothario', 'grabbing', 'Hoeve', 'eyeglasses', 'Darrow', 'ludicrous', 'profoundly', 'shovel', 'Comedy', 'impetus', 'Wilmette', 'scales', 'snag', 'fingerprinting', 'snap', 'Chips', 'bin', 'shoved', 'Did', 'big', 'bid', 'Dig', 'bib', 'Cruel', 'acquainted', 'biz', 'bit', 'Dip', 'calypso', 'blemish', 'Samoa', 'cognitive', 'follows', 'Haase', 'Bradley', 'often', 'abundantly', 'underdeveloped', 'strongest', 'insincere', 'Origen', 'accelerate', 'Nagle', 'cabinets', 'pronounced', 'scald', 'scale', 'Merritt', 'jitterbug', 'contacts', 'affects', 'eliminate', 'scalp', 'Nothing', 'augmenting', 'either', 'lounged', 'depressions', 'squalls', 'remembered', 'peculiarly', 'continuing', 'Infectious', 'Lazybones', 'David', 'restrictive', 'Indianapolis', 'Norberg', 'Abolition', 'Davis', 'costumed', 'carbide', 'Typically', 'tripping', 'Rebs', 'fairgoers', 'deductibles', 'graduation', 'drama', 'piled', 'belting', 'gherkins', 'Dorothy', 'Precisely', 'tenants', 'basting', 'Bonn', 'waltz', 'Hunters', 'invading', 'disenfranchisement', 'Literal', 'Rotelli', 'corded', 'Paulus', 'proportional', 'downhill', 'bankruptcy', 'Lehmann', 'Warwickshire', 'errand', 'Side', 'broadcasts', 'handbook', 'McFarland', 'grillwork', 'Fly', 'newsman', 'organismic', 'splenetic', 'Analogously', 'quiescent', 'hopes', 'migrating', 'calico', \"I'll\", 'Westerner', 'originals', 'mavericks', 'implementing', 'detachable', 'clips', \"tomorrow's\", 'Whitcomb', 'KQED', 'ropers', 'sort', 'Mauldin', 'expedition', 'lackeys', 'Selectmen', 'dragging', 'psychoanalysis', 'fluency', 'humanities', 'Hillel', 'crypt', 'Mormon', 'porch', 'tactlessness', 'Monarque', 'transmuted', 'Khartoum', 'pesticides', 'Rises', 'Medal', 'Thirteen', 'Recherche', 'accidental', 'lend', 'impress', 'Mullendore', 'Gimpy', 'polynomials', 'lens', 'lent', 'hansom', 'desert', 'Choir', 'mantel', 'downcast', 'flowerpot', 'Pierpont', 'Accept', 'briskly', 'lidless', 'at', 'failures', 'rinse', 'provincialism', 'Feeding', 'rabbit', 'borderlands', 'hint', 'crofters', 'angriest', 'extensively', 'brochure', 'Sumatra', 'Sentiments', 'intricate', 'Seeking', 'enjoined', 'intensive', 'blaze', 'quarterly', 'redemptive', 'fatal', 'staffing', 'brigade', 'paralleled', 'Constitutional', 'arrange', 'Chaplin', 'unluckily', 'classifications', 'Osaka', 'shock', 'tenuously', 'Crumble', 'rearing', 'Abelson', 'Dry', 'Bibliography', 'artificiality', 'bleeding', 'rickety', 'uncomfortably', 'grooved', 'Long', 'Despising', 'uncomfortable', 'grooves', 'depression', 'Kinsell', 'formats', 'transplanted', 'Hammond', 'surcease', 'Olivia', 'Hammons', 'body', 'sharks', 'Southerners', 'Professor', 'repudiation', 'Cassius', 'sins', 'Cosmology', 'Bursts', 'remissions', 'sink', 'others', 'dissuade', 'resemblance', 'sind', 'sine', 'irritating', 'extreme', 'dispensers', 'contradiction', 'crystallize', 'Deportees', 'glycerol', 'Republicans', 'Brothers', 'presidents', 'limp', 'Nick', 'redo', 'limb', 'scandal', 'clockwise', 'FM', 'Weber', 'Nice', 'Dale', 'taxiing', 'tar', 'clocking', 'blighted', 'breakup', 'beefed', 'Dali', 'spying', 'Fe', 'harrowing', 'Gannett', 'impotence', 'tax', 'billet', 'Byrd', 'emigration', 'Flanders', 'hailstorm', 'eccentricity', 'billed', 'tearing', 'subscription', 'inclinations', 'potentiometer', 'tunnel', 'Hinckley', 'Clov', 'tag', 'crickets', 'indignities', 'parquet', 'F.', 'impeded', 'employe', 'Halfback', 'sanitarium', 'sanding', 'Orvis', 'Orvil', 'ludicrousness', 'fulfillment', 'employs', 'nicked', 'patinas', 'expandable', 'patisseries', 'overtly', 'tan', 'native', 'dinners', 'wandered', 'responsibilities', 'attachment', 'reeking', 'Alarmed', 'meditated', 'stock', 'watery', 'Adenauer', 'ABC', 'Dionigi', 'cardamom', 'waters', 'collection', 'ABO', 'Rabbi', 'multiplication', 'trapdoors', 'yielded', 'frowning', 'Casanova', 'bombers', 'memorize', 'Principia', 'lines', 'correspond', 'accenting', 'Shamrock', 'linen', 'chief', 'Salisbury', 'Tahiti', 'anionic', 'lined', 'furnish', 'Technically', 'eerily', 'Minnesota', 'repentant', 'duffers', 'shreds', 'paperbacks', 'fortunate', 'bridges', 'negotiated', 'Northerners', 'hundredth', 'taboos', 'Ebbetts', 'relativity', 'landed', 'whereof', 'labor', 'Director', 'squatting', 'stances', 'Achilles', 'infertile', 'dad', 'noncommittal', 'lushes', 'junction', 'lunatic', 'debonair', 'dam', 'Lorain', 'Taxes', 'Concorde', 'mitigating', 'mention', 'Hafiz', 'cutting', 'sonata', 'das', 'insisting', 'inoculations', 'kindness', 'day', 'stunts', 'estranged', 'jiggling', 'radiant', 'identified', 'Toujours', 'Bancroft', 'disregard', 'identifies', 'uninteresting', 'Rotarians', 'desecrated', 'activate', 'From', 'Injuns', 'strip', 'sergeants', 'exodus', 'Dickens', 'slumped', 'sweatshirt', 'thermoplastic', 'empires', 'labile', 'Stalag', 'oriental', 'lecture', 'postpone', 'wincing', 'affirming', 'Stage', 'coed', 'CSF', 'Nourishing', 'hazard', 'delinquency', 'Jelke', 'implication', 'wagged', 'explanations', 'discomfort', 'Fold', 'Interim', 'Grady', 'qualification', 'barriers', 'facilitate', 'waitress', 'smokehouse', 'infantryman', 'anise', 'bleeps', 'Occasionally', 'puppet', 'Newbury', 'expressionistic', 'covenants', 'sadly', 'observer', 'laps', 'chased', 'deafened', 'establishments', 'dehumidified', 'immovable', 'maidens', 'ferocity', 'natty', 'Association', 'Canned', 'gear', 'unscrupulous', 'agonies', 'Knightfall', 'veridical', 'unending', 'democratization', 'reaffirm', 'stumping', 'observed', 'Pullings', 'prune', 'laboriously', 'inversely', 'compensation', 'halcyon', 'References', 'loves', 'lover', 'lurching', 'Bolker', 'doctorate', 'undamaged', 'Kunkel', 'Pas', 'Blatz', 'inundating', 'Pax', 'cytoplasm', 'curves', 'pitiable', 'nonfiction', 'dictate', 'Pah', 'curved', 'Pak', 'demonstration', 'Pam', 'Pan', 'sayings', 'Credo', 'papiers', 'minimally', 'Texts', 'Enthusiastically', 'builtin', 'fictive', 'replanted', 'Sposato', 'chaise', 'scimitars', 'literalness', 'Exemption', 'prednisone', 'rearrange', 'noontime', 'masts', 'preliminary', 'Ernst', 'descends', 'reveling', 'profoundest', 'Burma', 'gullet', 'allegorical', 'Witherspoon', 'gulley', 'gather', 'capita', 'Wellsville', 'gulled', 'Bishop', 'selection', 'kite', 'flapper', 'absorbing', 'text', 'pinhead', 'estates', 'hemlocks', 'kits', 'rebuke', 'afferent', 'portfolio', 'incorruptible', 'iodide', 'antiserum', 'concurred', 'circumpolar', 'madman', 'Kiang', 'scuttling', \"O'Sullivan\", 'Mom', 'Manin', 'cockpits', 'photographs', 'Shepherds', 'peptide', 'exceptional', 'Lillian', 'beau', 'photography', 'stripes', 'bear', 'yelps', 'beam', 'bean', 'occupant', 'deputies', 'humanely', 'striped', 'annihilate', 'Provincetown', 'Cleaner', 'caves', 'substrate', 'densities', 'unauthorized', 'Buchanan', 'plumpness', 'calling', 'Bright', 'dearest', 'Camden', 'mascara', 'overexploitation', 'Cleaned', 'ballplayers', 'Broadway', 'Jerome', 'Letch', 'omission', 'amply', 'exists', 'Warwick', 'infidel', 'outfielder', 'Traders', 'dislodge', 'Various', 'disposal', 'Parrillo', 'maximums', 'centrifugation', 'wastrel', 'clearing', 'Aurora', 'nebula', 'peripherally', 'derisively', 'routine', 'progress', 'Mellow', 'alveolar', 'nudged', 'Kittler', 'packaged', 'Smoky', 'manometer', 'S', 'Edgar', 'Smoke', 'nightfall', 'sou', 'tenebrous', 'Bontempo', 'antipodes', 'Ethel', 'Louvre', 'retentiveness', 'foibles', 'sexes', 'highland', 'otherwise', 'vent', 'fostering', 'clues', 'aesthetes', 'Knoll', 'monstrosity', 'glassless', 'tremendous', 'crassest', 'Fergusson', 'copies', 'Oranges', 'protoplasm', 'Brooklyn', 'Doris', 'Pompano', 'copied', 'bellows', 'Germantown', 'define', 'Pointers', 'blaming', \"O'Gara\", 'Fairchild', 'penurious', 'permeates', 'Zworykin', 'Boyce', 'ridden', 'deep', 'angles', 'Stratton', 'general', 'Heading', 'homer', 'homes', 'plaid', 'planetarium', 'plain', 'appearance', 'promoter', 'promotes', 'promoted', 'handwriting', 'Queens', 'Somerville', 'cereals', 'file', 'helper', 'Crooked', 'unction', 'Rudolph', 'helped', 'Paredon', 'aggressiveness', 'berated', 'Ashley', 'inspector', 'Product', 'Winking', 'Garden', 'Staunton', 'Christi', 'metier', 'landmarks', 'orthodox', 'administration', 'cabinetmakers', 'Bedbugs', 'trenchant', 'undedicated', 'Pendant', 'Christy', 'Coulomb', 'Wicked', 'twelfth', 'frivolous', 'injured', 'Marcus', 'tighten', 'nutritional', 'novels', 'shames', 'genres', 'ion', 'Airport', 'Teachers', 'judgment', 'scholars', 'shamed', 'insure', 'Bashir', 'raping', 'Transcendentalists', 'Nonconformist', 'highwayman', 'thought', 'showpiece', 'sets', 'position', 'feudalistic', 'Fairless', 'intransigence', 'proximity', 'executive', 'domestic', 'bloodlust', 'clinic', 'voltage', 'Federals', 'ETV', 'DePugh', 'workday', 'conjugates', 'absorption', 'terrorized', 'religiousness', 'conjugated', 'crass', 'Bushes', 'radiocarbon', 'Coles', 'Sawyer', 'newsstand', 'royalty', 'Colee', 'Stammering', 'rumpled', 'drugless', 'inviting', 'trillion', 'qualitative', 'journalism', 'journalist', 'epoxy', 'Fear', 'soft', 'audible', 'heel', 'Castillo', 'awash', 'Documents', 'crotchety', 'Forty', 'alive', 'Forte', 'ostracism', 'abolitionist', 'convey', 'convex', 'novelist', 'stuffy', 'Coffee', 'highlighting', 'treacheries', 'Leasure', 'corpse', 'Patrice', 'Tenderly', 'economical', 'Sanitary', 'chains', 'regain', 'plumped', 'hose', 'EWC', 'buttoned', 'host', 'expire', 'Planned', 'christened', 'beaker', 'manors', 'Igor', 'December', 'preemployment', 'blessings', 'discard', 'sextillion', 'Mayor', 'Traitor', 'seasoned', 'perspiring', 'Milky', 'zooms', 'chemists', 'chronic', 'guard', 'Stadium', 'Scientists', 'signify', 'adolescent', 'utopias', 'styrene', 'buckle', 'psychopharmacological', 'charisma', 'awarded', 'impassively', 'utopian', 'typesetting', 'maze', 'relishing', 'Queried', 'ivory', 'Jeffersonians', 'brand', 'amity', 'deja', 'Hypotheses', 'reminds', 'plague', 'Cmdr.', 'flexible', 'editing', 'sewed', 'curtly', 'Compare', 'Brodbeck', 'glory', 'Camelot', 'dangerous', 'Vague', 'avaliable', 'judiciaries', 'Outwardly', 'aristocratically', 'trapezoid', 'Flock', 'supreme', 'rhenium', 'pin', 'deaths', 'garter', 'Rye', 'pie', 'pig', 'crusade', 'barnyards', 'pip', 'Jars', 'Husbandry', 'pit', 'tarpaulins', 'unintelligible', 'claiming', 'patsy', 'forestry', 'sewer', 'ellipses', 'Posterity', 'Honeysuckle', 'Jacksonville', 'stimulant', 'uttermost', 'Younger', 'quintillion', 'flange', 'Steward', 'nozzles', 'enlargement', 'ecological', 'Rooney', 'misgauged', 'Shatilov', 'astronomy', 'Stewart', 'yelp', 'bulwark', 'Thus', 'Private', 'meteoritic', 'yell', 'integrates', '8th', 'Packwood', 'legacies', 'comparatively', 'bunkmates', 'sleek', 'sleet', 'sleep', 'martinis', 'hating', 'frostbite', 'assembled', 'feeding', 'patches', 'whereever', 'bureaucrats', 'Vernier', 'G.', 'dales', 'regrets', 'merchant', 'convening', 'lure', 'risk', 'incurs', 'nodules', 'lurk', 'amorphous', 'GE', 'leggings', 'sunt', 'GA', 'funneled', 'Gasse', 'fireplace', 'Brakke', 'frothing', 'Campaign', 'postponing', 'zing', 'admissible', 'Regiment', 'flashy', 'guiding', 'enclosing', 'Go', 'Allegheny', 'oddly', 'Tenth', 'Windsor', 'osmotic', 'Elburn', 'Mitch', 'infancy', 'Giulietta', 'surrounding', 'Eddy', 'louder', 'Heraclitus', 'expressive', 'tethers', 'profitability', 'Strafaci', 'despoilers', 'frizzled', 'seeks', 'Plants', 'kicked', 'orgies', 'responsiveness', 'Cleveland', 'ramps', 'Scandinavian', 'socialize', 'ethanol', 'humility', 'rightness', 'arroyo', 'bloomed', 'changed', 'donning', 'analysts', 'amulets', 'mistake', 'changes', 'hydrophobic', 'unglamorous', 'glinted', 'Petty', 'iconoclasm', 'perpetuated', 'Tend', 'punching', 'forums', 'anyhow', 'ebony', 'scaffolding', 'idyll', 'crowning', 'phenomenological', 'asses', 'racketeer', 'asset', 'preserved', 'Branum', 'Parisian', 'Olga', 'naive', 'autumnal', 'muse', 'brushy', 'committeewoman', 'pinching', 'Painting', 'must', 'Claim', 'Baptiste', 'counterflow', 'Muhammad', 'Baptists', 'ocher', 'musculature', 'pavements', 'appraisal', 'fortress', 'decorative', 'inscription', 'walkways', 'Jerry', 'scheduling', 'woodpecker', \"girls'\", 'guarantee', 'conversation', 'bunk', 'intruders', 'gentian', 'grammatically', 'bunt', 'adjacent', 'Miranda', 'gate', 'widespread', 'swiftness', 'poker', 'pokes', 'Krim', 'mouths', 'arthritis', 'campgrounds', 'Oooo', 'poked', 'Yorker', 'spectrometer', 'mouthpieces', 'rummy', 'ineffectively', 'Elegies', 'Fig.', 'acknowledged', 'transcultural', 'hypnotic', 'Del.', 'hypotheses', 'correlation', 'acknowledges', 'Irene', 'unsteady', 'graven', 'executed', 'interpretation', 'Hills', 'sprout', 'bricklaying', 'tapdance', 'expects', 'Montgomery', 'Kanto', 'sickly', 'oven', 'carnal', 'talkative', 'digest', 'outsized', 'destroyer', 'Dorr', 'SAC', 'writing', 'destroyed', 'Dora', 'Armenian', 'stifling', 'Spain', 'Placid', 'Varying', 'Judaism', 'accumulating', 'bouts', 'publicizing', 'monarch', 'McCullough', 'hermeneutics', 'obligingly', 'gloom', 'choir', 'capricious', 'Adjustment', 'Transport', 'prohibit', 'pastels', 'unscrew', 'Evanston', 'Anyone', 'celebrating', 'hanged', 'Adolphus', 'intricately', 'truant', 'clothe', 'Styles', 'grubs', 'ammoniac', 'driving', 'transplantable', 'Radetzky', 'integrative', 'bucking', 'Hurt', 'emphysema', 'Cheshire', 'horsehair', 'Millstone', 'Toasting', 'resistor', 'Sounder', 'hemorrhaging', 'ambled', 'Carreon', 'free', 'untruth', 'whereupon', 'evil', 'tadpoles', 'superimpose', 'Carleton', 'fret', 'Mickey', 'Vic', 'Via', 'anthropomorphic', 'equine', 'Bohlen', 'vacationland', 'corrections', 'recite', 'narratives', 'tetrasodium', 'gazelle', 'accent', 'Sojourner', 'Fight', 'philosophical', 'Delon', 'scissors', 'sharpest', 'catheter', 'blunts', 'withheld', 'mercury', 'inmate', 'revival', 'Pitcher', 'blamed', 'kinder', 'Coates', 'wildly', 'percentage', 'duress', 'consented', 'Search', 'centered', 'esoteric', 'conspicuously', 'baroreceptor', 'injected', 'Diplomats', 'abandoning', 'mercifully', 'hyperbolic', 'thy', 'warmup', 'nominate', 'immaterial', 'genealogies', 'headlands', 'classes', 'preceeding', 'Galaxy', 'screenplay', 'rag', 'ran', 'ram', 'Offensive', 'taint', 'Ferris', 'rat', 'resettlement', 'rap', 'unaffected', 'ray', 'udon', 'nipples', 'Asians', 'relayed', 'isolated', 'Slaughter', 'cotillion', 'Ridiculous', 'educator', 'nonmusical', 'rides', 'rider', 'shallow', 'glands', 'Ogden', 'Blimp', 'Reports', 'uptrend', 'desolate', 'audition', 'glimpses', 'Citroen', 'philosophic', 'explosives', 'glow', 'crazing', 'partition', 'metal', 'swerved', 'freeway', 'shooing', 'Rooms', 'inaccuracies', 'curio', 'Dyke', 'currants', 'chariot', 'Ku', 'pope', 'Alwin', 'Swadesh', 'joyride', 'pops', 'Vehicle', 'unities', 'drawbridge', 'availability', 'och', 'quoted', 'curricular', 'Asch', 'Bid', 'commence', 'commandment', 'whiteface', 'Bix', 'enslave', 'DeSoto', 'scripture', 'axiom', 'velours', 'squeaking', 'airstrips', 'guanidine', 'fabrics', 'hobbing', 'Batista', 'nationals', 'collector', 'diethylstilbestrol', 'collusion', 'idiotic', 'mergers', 'Hammett', 'vocabularies', 'richer', 'Twenties', 'sporadic', 'tersely', 'combustion', 'malaria', 'temptation', 'startle', 'Italians', 'inset', 'incomprehension', 'KV', 'abstractionists', 'Hays', 'listlessly', 'bargains', 'oxidation', 'Seaquarium', 'transformer', 'Chevy', 'Procurement', 'devour', 'devout', 'dedication', 'Giustiniani', 'sipped', 'adapting', 'abasement', 'rhythms', 'Gay', 'Contribute', 'jelly', 'facet', 'players', 'colloquium', 'faces', 'hypocrites', 'indoctrinating', 'Bergson', 'Zooey', 'Kanin', 'vexed', 'reconstructs', 'betting', 'vexes', 'cholelithiasis', 'comprehension', 'Samples', 'Reichstag', 'Hundreds', 'bureaucratic', 'Ailey', 'aback', 'bathroom', 'incomparable', 'Lambert', 'binge', 'Renfrew', 'alchemy', 'blower', 'confident', 'incomparably', 'containers', 'fleeting', 'Conn.', 'Birnbaum', 'bereavement', 'affixed', 'enterprises', 'craft', 'catch', 'Secretary', 'deliberations', 'inviolable', 'Delano', 'strangest', 'thousandth', 'penultimate', 'subjugate', 'cracked', 'photographed', 'precede', 'Plutarch', 'brewed', 'Deliberately', 'punctuality', 'Historically', 'Schultz', 'WLIB', 'Abrams', 'Rapping', 'furled', 'arguments', 'foursome', 'bhoy', 'Rochford', 'forefeet', 'ingested', 'Worlds', 'Room', 'Cedar', 'arraigning', 'Roof', 'Ardent', 'afraid', 'characters', 'Audubon', 'workings', 'Garrison', 'Root', 'Bizarre', 'cycle', 'mentioning', 'Gates', 'hearth', 'Patrol', 'incredulity', \"mother's\", 'frankest', 'hearty', 'detained', 'censured', 'hearts', 'outnumbered', 'Canal', 'tackles', 'Angleterre', 'backwater', 'Hastening', 'transporting', 'Methodists', 'cape', 'resigning', 'Oleanders', 'functionally', 'vices', 'Protestants', 'polarization', 'monitored', 'explanatory', 'Corso', 'Flint', 'Corsi', 'pitiful', 'breakfasted', 'erratically', 'Krishna', 'reorganizations', 'casting', 'advances', 'rubicund', 'vulture', 'incontrovertible', 'convalescing', 'divert', 'advanced', 'bewhiskered', 'Bomb', 'tabulations', 'gifted', 'Cascaded', 'Finns', 'unsuspecting', 'informative', 'willowy', 'diaphanous', 'crudest', 'incumbents', 'rodding', 'Pius', 'Baraclough', 'Casassa', 'advertise', 'perfected', 'nobleman', 'McKee', 'Life', 'exhausts', 'Pegler', 'Lift', 'deeming', 'polyisobutylene', 'convict', 'baklava', 'booking', 'Syracuse', 'arbitrated', 'feted', 'skiddy', 'vanishing', 'Theories', 'reassign', 'searchingly', 'fetes', 'erotica', 'Deductible', 'homewards', 'endorsing', 'Commodities', 'playroom', 'Gaston', 'composure', 'Fair', 'vouching', 'hutments', 'plunging', 'coiled', 'Duverger', 'steadily', 'Bess', 'Fain', 'twitch', 'curry', 'Birds', 'Best', 'Provided', 'paraphrases', 'respondent', 'presence', 'puzzle', 'uncontrolled', 'entrepreneur', 'finely', 'fuselage', 'tableau', 'equines', 'Abraham', 'outmatched', 'lances', 'indispensable', 'forbad', 'Houtz', 'prayerbooks', 'empathy', 'synthesis', 'Rocky', 'abysmal', 'differences', 'removes', 'discourage', 'uncle', 'outfox', 'solar', 'sustained', 'removed', 'Bascom', 'viva', 'admiration', 'Fired', 'versions', 'muster', 'prowl', 'vivo', 'dens', 'Fires', 'prematurely', 'latch', 'starchy', 'penal', 'trim', 'trio', 'Critically', 'impropriety', 'Resnik', 'Introduction', 'Caught', 'Hudson', 'escutcheons', 'despotism', 'Melissa', 'Europeanization', 'believable', 'whiskered', 'check', 'constructed', 'radioed', 'radically', 'upheaval', 'Monster', 'tip', 'vanishes', 'tin', 'luscious', 'stagnant', 'Voroshilov', 'tie', 'vanished', 'depot', 'eternity', 'Jewishness', 'dissonances', 'nuance', 'Double', 'uniformly', 'wisecracked', 'undimmed', 'dullest', 'Americas', 'Analytical', 'Permian', 'younger', 'longer', 'ransacked', 'American', 'longed', 'serious', 'effluents', 'stacks', 'neighbors', 'remarkable', 'alternatives', 'Chiang', 'substantiation', 'computation', 'Sherry', 'extremities', 'Pride', 'Today', 'Dad', 'Dag', 'essentials', 'Dan', 'Standard', 'abhorrent', 'hairier', \"Ain't\", 'Boredom', 'Das', 'melon', 'colloquy', 'Day', 'Seebohm', 'furrows', 'bluffs', 'Devens', 'Eleanor', 'leathered', 'Athletics', 'intellectuality', 'Tractor', 'Mycenae', 'Canoe', 'Canon', 'brother', 'culminating', 'McCarthy', 'brothel', 'quick', 'svelte', 'sulkily', 'Talleyrand', 'slower', 'Coosa', 'Gravity', 'slowed', 'soy', 'comforting', 'Chopin', 'Slender', 'Colossians', 'Hardshell', 'drinks', 'hymn', 'orthodontics', 'stressful', 'stands', 'Heorot', 'nationalized', 'unripe', 'contracted', 'remain', 'Streeters', 'Federico', 'escorted', 'Podger', 'reply', 'amounting', 'Groom', 'alkaline', 'Age', 'dazed', 'water', 'attainment', 'fluke', 'filmed', 'baseball', 'crippled', 'hoarse', 'pastoral', 'supplying', 'avenging', 'bygone', 'snubbed', 'Crimes', 'Geodetic', 'binomial', 'Crimea', 'automaton', 'navigation', 'Swine', 'rededicate', 'Sweating', 'Measures', 'unbidden', 'Justice', 'modifying', 'Eastwick', 'Unions', 'Import', 'swallowed', 'dervishes', 'wrecking', 'Townley', 'confounded', 'unsheathe', 'frothy', 'memory', 'certiorari', 'Bengali', 'unwarranted', 'dismay', 'Adirondacks', 'October', 'Ramble', 'conductor', 'sessions', 'clicking', 'altar', 'Summary', 'drown', 'dismal', 'shafts', 'Apocalypse', 'insights', 'tribunal', 'dialed', 'chignon', 'butterfat', 'modified', 'longitude', 'Spinrad', 'ferry', 'modifies', 'modifier', 'Mennonite', 'streak', 'trump', 'stream', 'downfall', 'inexplicably', 'distillation', 'expectant', 'tinted', 'Buxton', 'Ct.', 'conversely', 'Thoroughbred', 'Terms', 'inheritance', 'inclosed', 'secured', 'Fruit', 'recuperating', 'endorsement', 'bleary', 'Postal', 'narrowly', 'levy', 'Trapp', 'marketability', 'Yalta', 'bonfires', 'filmstrips', 'heartbreaking', 'birthday', 'typewritten', 'doggone', 'floral', 'renovation', 'classroom', 'gorges', 'branches', 'stupidly', 'amuse', 'purification', 'Sources', 'Buttrick', 'branched', 'lagoon', 'Gladius', 'imagining', 'exclusive', 'acts', 'daydreamed', 'Upton', 'constituents', 'mainly', 'Hester', 'fullback', 'motions', 'Rinsing', 'swank', 'paradoxically', 'redheaded', \"he's\", 'duplex', 'handgun', 'mantle', \"he'd\", 'Moving', 'Spare', 'swans', 'Dadaism', 'Nouns', 'eccentricities', 'devastated', 'endeavored', 'Adherence', 'remolding', 'Vogue', 'Platonic', 'corners', 'advent', 'realistic', 'Heels', 'oratorio', 'wearisome', 'footing', 'Exploratory', 'Abstractions', 'Nikita', 'Geological', 'isotropic', 'authenticity', 'distributor', 'phalanx', 'Save', 'sunrise', 'hysteria', 'exclamation', 'Senators', 'factors', 'factory', 'extrapolate', 'hacked', 'Currys', 'maneuver', 'attended', 'bolts', 'hull', 'Nude', 'hulk', 'blizzards', 'proprietorship', 'unfriendly', 'Musicians', 'Ruling', 'hobble', 'eject', 'buckskin', 'sophistication', 'accommodation', \"Isn't\", 'delude', 'roosters', 'flare', 'gusto', 'Collinsville', 'motion', 'hypnosis', 'Folkston', 'retreating', 'Welfare', 'Touch', 'view', 'discontinued', 'programing', 'conversions', 'Vol.', 'surviving', 'Dietrich', 'wave', 'accorded', 'symbolic', 'Erde', 'retainers', 'causative', 'Citizen', 'gala', 'enrollment', 'molded', 'earthy', 'haggle', 'plastic', 'equidistant', 'Margarito', 'quirks', 'Date', 'white', 'Data', 'exploring', 'Overture', 'amines', 'appointees', 'reverie', 'season', 'outreach', 'deceleration', 'Kedzie', 'wide', 'Love', 'sassing', 'interpolated', 'poisoning', 'Peterson', 'mariner', 'Athearn', 'Yankee', 'Caucasus', 'Nostradamus', 'unfairly', 'generality', 'pompousness', 'confessed', 'Gastronomes', 'Oistrakh', 'nominating', 'confesses', 'dryness', 'prosperity', 'conversion', 'silhouette', 'Yankton', 'Funeral', 'mourners', 'Merrick', 'Bastards', 'keynotes', 'strengths', 'dynamited', 'hyperfine', 'multiple', 'agilely', 'tornado', 'boiling', 'Betancourt', 'multiply', 'forage', 'pencils', 'redirecting', 'Verbal', 'Alphonse', 'seafood', 'playing', 'Audrey', 'Beadles', 'readjust', 'senior', 'quantity', 'slope', 'Forced', 'hack', 'superb', 'Formosa', 'Fenster', 'Continuing', 'Lyndon', 'McNeill', 'fickle', 'wood', 'mulching', 'Telling', 'cautioned', 'wool', 'dreaded', 'welled', 'lighted', \"Ass'n\", 'mistrial', 'Stettin', 'viewpoint', 'Hodosh', 'expectation', 'Athenian', 'radiations', 'clerks', 'Baroque', 'Similar', 'Discoveries', 'badinage', 'braver', 'aluminum', 'radar', 'orphans', 'topnotch', 'egghead', 'Kong', 'naked', 'clowns', 'Minute', 'Ozon', 'Collector', 'Corporal', 'poling', 'malformations', 'encourages', 'professes', 'uneconomical', 'beasties', 'Spread', 'Gehrig', 'Ettore', 'Seminole', 'parking', 'bluntness', 'professed', 'encouraged', 'suffer', 'inhibitory', 'mortgage', 'ways', 'review', 'inhibitors', 'Tarzan', 'Simpkins', 'Mazeroski', 'Aggregate', 'rebuilds', 'arrival', 'multiplied', 'shivered', 'Differential', 'Tomas', 'micelle', 'fearless', 'U.S.', 'inseparable', 'cheap', 'Babbitt', 'Minnie', 'multiplies', 'unusually', 'cities', 'come', 'originates', 'reaction', 'pests', 'Mussett', 'columnist', 'reverberation', 'Turbine', 'utterance', '6', 'provocation', 'swaggering', 'mails', 'continuation', 'hereunto', 'assertions', 'bizarre', 'seasonally', 'Herculean', 'skeletons', 'noisy', 'Beauty', 'inclusive', 'deposited', 'sonorous', 'peaceful', 'Hurry', 'abstract', 'enraptured', 'Peale', \"what're\", 'tasteless', 'taffeta', 'reimburse', 'implored', 'foreclosed', 'opportunistic', 'attentive', 'rhymes', 'refractory', 'Colors', 'jonquils', 'accessions', 'shops', 'Crystallography', 'unsatisfactory', 'Sako', 'bunters', 'Additional', 'Sake', 'telephone', 'dissident', 'Content', 'Zendo', 'hash', 'Jacinto', 'Chandler', 'distiller', 'vivid', 'Blunt', 'locking', 'confidant', 'Daytime', 'attributing', 'bows', 'bobbles', 'distilled', 'reminder', 'physical', 'confidential', 'isle', 'circulatory', 'vocalism', 'disadvantages', 'IQ', 'socially', 'barges', 'drives', 'muffled', 'driven', 'octahedron', 'Waxworks', 'Eta', 'puke', 'muffler', 'limped', 'vocalist', 'longing', 'breakdowns', 'perennial', 'swatches', 'Is', 'It', 'sinkhole', 'demineralization', 'flakes', 'Il', 'Io', 'In', 'foyer', 'protege', 'tweedy', 'stake', 'Stimulates', 'captures', 'unconstitutional', 'Woodland', 'lavish', 'violent', 'kill', 'Diodati', 'kneeling', 'captured', 'blow', 'sampled', 'blot', 'gentleness', 'Broadly', 'Lurcat', \"we've\", \"everyone's\", 'Applications', 'bloodhounds', 'bloc', 'blob', 'samples', 'hind', 'Simca', 'scrapbook', 'Change', 'sonogram', 'styles', 'carpeting', 'Camp', 'Cami', 'styled', 'kilowatts', 'Came', 'romanticizing', 'Newbold', 'Thermopylae', 'particle', 'aqueous', 'Turbulent', 'clays', 'sternly', 'shaky', 'Sultans', 'Pip', 'orate', 'shunned', 'deduct', 'neuralgia', 'Since', 'Prexy', 'perspiration', 'deduce', 'viselike', 'respect', 'International', 'intact', 'pulmonary', 'Knowing', 'Parthenon', 'slice', 'conic', 'slick', 'unmatched', 'severed', 'metropolis', 'fables', 'itching', 'inspect', 'loudest', 'substratum', 'fabled', 'pastors', 'Albright', 'healthiest', 'earlier', 'baffled', 'Bundestag', 'Cubist', 'Snakes', 'worksheet', 'Transit', 'Erected', 'Blanche', 'hypothalamus', 'Freight', 'chive', 'Cubism', 'modernists', 'flocculation', 'Equate', 'Dairy', 'determine', 'lastly', 'feudal', 'lawmaking', 'inadvertent', 'ghazals', 'calamities', 'Brannon', 'Figger', 'disposed', 'dispersion', 'unspoken', 'thereabouts', 'suggestibility', 'fairing', 'deteriorating', 'valley', 'fish', 'freshness', 'RDW', 'gibe', 'rainless', 'vested', 'fundamentals', 'tranquility', 'baronial', 'catechize', 'Horace', 'cabinet', 'RDF', 'sentimentalists', 'fabricate', 'telescopic', 'Tawes', 'FBI', 'ghettos', 'Special', 'toilet', 'Louisa', 'russet', 'fist', 'contributors', 'cinema', 'frighten', 'Herry', 'contributory', 'cringed', 'Merrimack', 'Mission', 'toiled', 'trundle', 'ingeniously', 'hummocks', 'spends', 'incorrect', 'abyss', 'rubbed', 'Woodbury', 'cradles', 'swords', 'erecting', 'rubber', '5', 'trash', 'stalwart', 'cypress', 'preoccupation', 'requested', 'meritorious', 'Naval', 'Chronicle', 'separate', 'Collett', 'symbol', 'whiskers', 'cove', 'stocky', 'grotesques', 'uprisings', 'stocks', 'Bashaw', 'architecture', 'booked', 'clinically', 'applause', 'calls', 'associatively', 'exhausting', 'derrick', 'booker', 'Gateway', 'lace', 'Stretch', 'Tube', 'lack', 'executing', 'cornfield', 'lacy', 'piazzas', 'synthetic', 'catastrophe', 'Ecole', 'lining', 'Christiana', 'sparkling', 'Bushnell', 'infirmary', 'Christians', 'longtime', 'urea', 'song', 'far', 'ticked', 'grinds', 'eyelashes', 'fat', 'Cook', 'psychologist', 'Feis', 'ultraviolet', 'dapper', 'fad', 'Capellan', 'shipboard', 'stimulus', 'Bonnie', 'Brest', 'Trimble', 'lesbians', 'Endeavor', 'Rarely', 'Chase', 'cockatoo', 'professing', \"nobody'd\", 'Hilliard', 'Discourse', 'functioning', 'aptly', 'Theological', 'imported', 'advantageous', 'whimper', 'Brigadoon', 'anniversary', 'attitudes', 'fathoms', 'disbursed', 'devoted', 'conciliator', 'Short', 'Clouds', 'prognoses', 'Susan', 'Rachmaninoff', 'researchable', 'Mohammed', 'Comparable', 'Shore', 'hopelessness', 'relaxation', 'somewheres', 'skidded', 'observing', 'Leonore', 'handlers', 'Communication', 'Guggenheim', 'allows', 'Sponge', 'miniature', 'supplements', 'gleeful', 'runoff', 'Forrest', 'members', 'unrecoverable', 'scowling', 'Pendleton', 'Things', 'vertebral', 'fearfully', 'spaciousness', 'appliances', 'inorganic', 'Luray', 'Evaluation', 'aberrant', 'Columbus', 'Packs', 'wield', 'pervaded', 'branded', 'Strenuous', 'waxen', 'pausing', 'Tobacco', 'compromising', 'crested', 'waxed', 'terror', 'domination', 'outlawry', 'stethoscope', 'stick', 'Hegel', 'portended', 'Confronted', 'soloists', 'Approaching', 'undreamed', 'berth', 'plagiarism', 'Toulouse', 'trappings', 'shielded', 'protons', 'Present', 'Soil', 'Different', 'palest', 'Brahmsian', 'challenging', 'joints', 'Bonito', 'Keeler', 'urinals', 'Paterson', 'chores', 'recursive', 'sleeplessly', 'discredited', 'Electron', 'whore', 'gullies', 'speeding', 'hoaxes', 'Improve', 'simplicity', 'tollgate', 'sandwich', 'prepayment', 'Influential', 'musicianship', 'reflect', 'Careless', 'Almanac', 'Mackinac', 'ballads', 'replete', 'cults', 'Played', 'Sear', 'departure', 'groundless', 'Player', 'Sean', 'retaliate', 'magnanimity', 'copper', 'eludes', 'disabled', 'gauged', 'scientist', 'Mandarin', 'eluded', 'blast', 'March', 'inward', 'prodigy', 'harmless', 'Opposition', 'conformist', 'mounted', 'filberts', 'merciful', 'return', 'Dominican', 'aggressively', 'Downbeat', 'Mephistopheles', 'L', 'Lightning', 'framework', 'Complexity', 'cigarettes', 'milestone', 'accumulate', 'artillery', 'ginning', 'Rag', 'Rae', 'Ran', 'Rak', 'refresh', 'Raw', 'streamside', 'inhibits', 'Ray', 'pirates', 'needless', 'generation', 'fixture', 'Joseph', 'inflict', 'wangled', 'theologians', 'Janis', 'Leiden', 'Lakes', 'dugout', 'Venn', 'Pullover', 'premiere', 'congenial', 'craving', 'fiber', 'gimbaled', 'causally', 'combed', 'forgive', 'enveloping', 'abeyance', 'dexamethasone', 'blister', 'proprietors', 'discriminating', 'Justinian', 'cremated', 'thread', 'Breakthrough', 'Scherer', 'threat', 'Praises', 'relate', 'churning', \"Parkinson's\", 'Precision', 'tempts', 'unredeemed', 'hollows', 'speedometer', 'cigaret', 'temples', 'Locate', 'passes', \"John's\", 'touchstones', 'script', 'financed', 'coasts', 'leash', 'doomsday', 'Aircraft', 'inhibitions', 'passed', 'syrup', 'finances', 'headache', 'imperfect', 'option', 'relieved', 'exploded', 'Dijon', 'rawboned', 'treasurer', 'treasures', 'vindication', 'Unifil', 'convinced', 'explodes', 'relieves', 'albeit', 'throttle', 'sinless', 'Magnums', 'dans', 'WPA', 'stall', 'dank', 'doubly', 'dang', 'Crittenden', 'stale', 'lease', 'cleaner', 'gals', 'globulin', 'imports', 'decadent', 'Kombo', 'booklets', 'oaken', 'Dept.', 'alike', 'cleaned', 'Forge', 'pianism', 'Bullet', 'Birdie', 'thiamin', 'cropped', 'Viewing', 'sandwiches', 'sherry', 'hurling', 'pianist', 'puffing', 'buff', 'broadcastings', 'headstones', 'queasiness', 'Coventry', 'Locust', 'reach', 'react', 'coastal', 'Lafayette', 'revivals', 'seasons', 'Giuseppe', 'soared', 'equatorial', 'polyethylene', 'breaker', 'windows', 'coincides', 'Switzer', 'coincided', 'Juliet', 'Roosevelt', 'programming', 'Dionysus', 'Faget', 'reassembled', 'fond', 'allocable', 'laments', 'unbridled', 'JA', 'Neapolitan', 'believe', 'anvil', 'Bonham', 'technologically', 'Jo', 'betray', 'unilaterally', 'gyrations', 'Highest', 'arrowheads', 'hip', 'Bedford', 'hir', 'his', 'hit', 'ceremoniously', 'swing', 'whistle', 'amici', 'explosively', 'Bierce', 'longest', 'During', 'instinctive', 'banquet', 'crucifying', 'J.', 'cartoons', 'baroque', 'ballerinas', 'bars', 'art', 'Shirt', 'dump', 'intelligence', 'arc', 'bare', 'are', 'cleverly', 'explosion', 'bark', 'arm', 'interfacial', 'Pavlov', 'learns', 'glistening', 'distinctive', 'freshmen', 'unpaved', 'libraries', 'unions', 'various', 'plywood', 'consecutive', 'genes', 'initially', 'bronchus', 'denomination', 'disturbance', 'opposition', 'African', 'Zara', 'Japanese', 'Goyette', 'Spurred', 'blazer', 'riddles', 'movers', 'fascicles', 'riddled', 'blazed', 'became', 'fraternity', 'Hildy', 'Morel', 'enchained', 'finds', 'Tullio', 'arbitrarily', 'Nordstrom', 'unleveled', 'improper', 'flattest', 'Gouvernement', 'Cobb', 'untracked', 'semipublic', 'acrid', 'eyewitness', 'suspenders', 'thermodynamics', 'hoops', 'overlook', 'Guitar', 'whom', 'reduction', 'Plan', 'focally', 'whoe', 'Elite', 'Louchheim', 'Maitland', 'overtures', 'Dean', 'creases', 'heighten', 'stolen', 'sportiest', 'civility', 'Demon', 'fingerings', 'pitchfork', 'behavior', 'Examiners', 'engineers', 'City', 'lodges', 'blurted', 'Edwards', 'rip', 'shamrock', 'Tim', 'Tin', 'rim', 'lodged', 'Benedick', 'Tie', 'rid', 'hydrostatic', 'rib', 'underlining', 'lengthy', 'predigested', 'twofold', 'lengths', 'Administrative', 'ideologies', 'propping', 'Jiffy', 'widely', 'Kathleen', 'fastens', 'depersonalization', 'negotiate', 'Blyth', 'Dear', 'brooding', 'Kipling', 'moving', 'Drug', 'uneasily', 'deluding', 'castigates', 'solemnity', 'Almost', 'metis', 'Seizing', 'analysis', 'edgy', 'solids', 'castigated', 'inspirational', 'dares', 'Harnick', 'honeymooning', 'marshalling', 'Measurements', 'reincarnated', 'intervals', 'Taken', 'retired', 'cabaret', 'Hideous', 'Triomphe', 'Sixteenth', 'tigress', 'illusions', 'corroborated', 'majority', 'theorem', 'violations', 'confide', 'curettage', 'Glory', 'fieldwork', 'unlimited', 'aggregation', 'Defends', 'Sedgwick', 'antiseptic', 'sharpened', 'raving', 'Jehovah', 'pithy', 'capitals', 'ignore', 'unstable', 'Dealing', 'hinted', 'descent', 'Backs', 'Leighton', 'eluding', 'traits', 'litter', 'marmalade', 'loser', 'illumination', 'selfishness', 'Worcestershire', 'modernize', 'yachtsman', 'Channel', 'Firm', 'Barcus', 'Fledermaus', 'dented', 'nosing', 'pros', 'raffish', 'prop', 'Fund', 'Virus', 'Reflecting', 'Comiskey', 'ticking', 'osmium', 'prod', 'eggs', 'apathetic', 'Substance', 'casks', 'Bartok', 'Barton', 'Bartol', 'Anybody', 'uncounted', 'intense', 'togetherness', 'Malamud', 'tauntingly', 'seeped', 'entrepreneurs', 'completing', 'I.R.S.', 'recited', 'modal', 'charm', 'hatred', 'credible', 'undoing', 'Hawkins', 'Robards', 'microorganism', 'unnoticed', 'stitched', 'resigns', 'conquest', 'Approximately', 'Everything', 'piteous', 'paradigmatic', 'credibly', 'resilience', 'stitches', 'osseous', 'pallid', 'amidst', 'Fuzzy', 'albumin', 'Thermoforming', 'Beccaria', 'Respiratory', 'perplexing', 'sighted', 'sucess', 'crank', 'repeatedly', 'upright', 'crane', 'gallantry', 'commercialism', 'preposition', 'caller', 'Partlow', 'Leon', 'par', 'Wishart', 'Westerners', 'called', 'dill', 'worthwhile', 'shortcuts', 'divisive', 'Huey', 'tentative', 'ulcerations', 'malicious', 'Embarcadero', 'grouped', 'ornamented', 'interpretable', 'cutters', 'Newport', 'Stearns', 'understatement', 'inflame', 'Foiles', 'Nautilus', 'delineation', 'fluorescence', 'Dharma', 'ocular', 'reproaches', 'Reformation', 'Oakland', 'Casualty', 'obscurities', 'Monthly', 'Asses', 'Asser', 'Bureau', 'philosopher', 'adjustment', 'contributions', 'magnifying', 'cupboards', 'rebels', 'Bowan', 'fenced', 'squeezing', 'Commanding', 'Dailey', 'fences', 'sniper', 'Steel', 'Porgy', 'wished', 'ague', 'bedrooms', 'wishes', 'bosses', 'Kissing', 'Sims', 'troup', 'fadeout', 'notes', 'unmeritorious', 'refolded', 'deals', 'dealt', 'manifestly', 'Germanized', 'underscored', 'noted', 'Gevurtz', 'Functions', 'Neanderthal', 'Harrows', 'Interviews', 'acceptability', 'procession', 'Hutton', 'Durwood', 'manipulating', 'fermenting', 'Sections', 'reclassification', 'universities', 'hourly', 'Linz', 'discontinuance', 'Lint', 'defenses', 'waiting', 'Underlying', 'attire', 'Randall', 'Line', 'ammunition', 'cf.', 'exteriors', 'Belafonte', 'Cantor', 'sinuses', 'Dictionaries', 'tarred', 'insouciance', 'unremitting', 'Benediction', 'scrapped', 'coverlet', 'Cherokees', 'cyclist', 'Bathing', 'jeweled', 'warehousing', 'rationalistic', 'spiced', 'Benched', 'Hardy', 'territoire', 'helpers', 'Spade', 'simpleton', 'spices', 'initials', 'Copeland', 'feverishly', 'Minks', 'gossiped', 'apple', 'declivity', 'miscreant', 'forbid', 'Robert', 'confession', 'particulate', 'scaled', 'adsorbs', 'motor', 'apply', 'Conditions', 'grassy', 'iced', 'Vietnamese', 'modicum', 'Curiously', 'weeping', 'Secrecy', 'Rocco', 'Dolphins', 'particularistic', 'Gloom', 'Selections', 'inclined', 'credulous', 'Wilcke', 'cooperate', 'symbolizing', 'archangels', 'Sighting', 'faultless', 'entwined', 'Creighton', 'Whirlwind', 'annoy', 'thwack', 'slaps', 'Balaguer', 'instrumentalities', 'extralegal', 'column', 'splinters', 'Tannenbaum', 'splintery', 'advancement', 'proof', 'tat', 'indulgence', 'Northern', 'earnestness', 'flaring', 'Czerny', 'forays', 'rapt', 'Migs', 'heaving', 'tab', 'spa', 'recklessly', 'serial', 'onions', 'rape', 'commonness', 'hyacinths', 'guru', 'inaugural', 'serum', 'actualities', 'Jist', 'Doubts', 'undersized', 'goldsmith', 'Pierre', 'panic', 'modulations', 'exemplify', 'administrator', 'Buick', 'salvaging', 'Alvise', 'hurdled', 'Qualities', 'ethnic', 'Hence', 'footpath', 'hymens', 'Anania', 'Cadet', 'Tallahassee', 'sculptures', 'Repertory', 'interrupted', 'Fairmont', 'sculptured', 'crawling', 'irregularity', 'unjustified', 'Walpole', 'accompanist', 'Richert', 'Bird', 'underwater', 'gunslinger', 'complicate', 'inlet', 'voiceless', 'choosy', 'terriers', 'owe', 'choose', 'inconsistencies', 'covered', 'bye', 'Suffice', 'pending', 'Salary', 'violating', 'Task', 'Scandinavia', 'flour', 'practice', 'commended', 'lionized', 'catchwords', 'emanations', 'Adam', 'Marseilles', 'sinners', 'mollified', 'Summer', 'transmitter', 'easel', 'Distributors', 'drummers', 'eased', 'fiddle', 'trap', 'tray', 'Bobbie', 'Arts', 'lobbies', 'completions', 'Auditors', 'Witnesses', 'Arte', 'Minneapolis', 'firepower', 'category', 'respects', 'unabated', 'generalizations', 'Stowe', 'Nearly', 'grits', 'impart', 'McCafferty', 'brilliantly', 'dive', 'adhesives', 'typewriting', 'logistic', 'dictionary', 'sunbaked', 'dusts', 'digitalis', 'supercritical', 'Peeter', 'conflicts', 'obliteration', 'yore', 'bedazzled', 'dormitories', 'segregated', 'barns', 'substantiate', 'feasible', 'noxious', 'ionic', 'precepts', 'timbers', 'indictments', 'Prussian', 'K.', 'hitherto', 'Oceana', 'Cradle', 'gratuitously', 'Flushing', 'probation', 'homers', 'Local', 'Chiefs', 'salient', 'droop', 'intention', 'Uprising', 'galley', 'Rankin', 'galled', 'expressionists', 'Wings', 'Knoxville', 'doomed', 'powdered', 'simulate', 'constituent', 'institution', 'KC', 'Maxine', 'Bellow', 'recontamination', 'Moldavian', 'Outstanding', 'riches', 'lion', 'emotionality', 'Fletcher', 'sculpture', 'bodice', 'Adamson', 'satiric', 'woebegone', 'appointing', 'muezzin', 'Soccer', 'Kremlin', 'Independent', 'Casca', 'excusable', 'triggered', 'Alton', 'florid', 'allergies', 'Quickening', 'agency', 'supplanted', 'Kiss', 'savagely', 'divers', 'progressively', 'firecrackers', 'Laying', 'Woodside', 'severe', 'biologic', 'Mercedes', 'highschool', 'Whimsey', 'nucleotide', 'deny', 'Customary', 'Salted', 'epicure', 'dent', 'High', 'Salter', 'Adjoining', 'Bend', 'Earth', 'inane', 'smirked', 'mistook', 'Charmer', 'superimposes', 'purely', 'BGS', 'seaweed', 'superimposed', 'chicken', 'debate', 'enticing', 'cache', 'transmits', 'operational', 'Craft', 'candidates', 'procreative', 'indeed', 'Catch', 'Textron', 'Measured', 'colt', 'vigor', 'Baringer', 'sued', 'Quelch', 'canyons', 'dope', 'diagnosing', 'watercolor', 'Whiskey', 'ones', 'sues', 'words', 'penetrate', 'wordy', 'mouthful', 'suey', 'ghetto', 'homosexuals', 'invaded', 'Sullivan', 'transfered', 'vied', 'Mankind', 'Experts', 'waterfalls', 'cleavage', 'Bertorelli', 'vies', 'sediment', 'generations', 'truer', 'Muskoka', 'ebb', 'Thinking', 'turbulent', 'merits', 'recoiled', 'Nanook', 'violet', 'gutters', 'scoured', 'recanted', 'closer', 'closes', 'Bernardine', 'gliders', 'closet', 'proteases', 'genius', 'Slavs', 'entrant', 'closed', 'dividends', 'chairmen', 'masterful', 'oldsters', 'pants', 'Shiflett', 'pemmican', 'beverages', 'Shunted', 'huts', 'salesgirl', 'Facing', 'spoil', 'memento', 'Greater', 'tiers', 'profanity', 'broadside', 'grain', 'blackbirds', 'clogged', 'safely', 'premise', 'shoving', 'unuttered', 'Brice', 'worldly', 'Boundary', 'neighborliness', 'withdrawn', 'unhappiness', 'freedmen', 'adulterers', 'Makes', 'thumbed', 'window', 'swabbed', 'validating', 'Dana', 'enlarging', 'Benson', 'divinely', 'Income', 'butchery', 'thrusting', 'horsewoman', 'sportswriter', 'saner', 'dearth', 'repetition', 'Navigation', 'enny', 'Castles', 'kerchief', 'wily', 'wilt', 'vanilla', 'appropriations', 'Halloween', 'Nonsense', 'irate', 'choices', 'will', 'hovering', 'wild', 'quarrelsome', 'boite', 'Averell', 'Yokosuka', 'Plantation', 'Goldwater', 'opportunities', 'Norfolk', 'Instinctively', 'Hope', 'halt', 'Lowell', 'Briton', 'Colman', 'vintage', 'privileges', 'limply', 'himself', 'adverse', 'retailing', 'Ponchartrain', 'flower', 'privileged', 'elbows', 'vaquero', 'tactful', 'courted', 'Prophet', 'takeoffs', 'Reid', 'glared', 'issuance', 'proprietory', 'suffragettes', 'Yes', 'Reik', 'Looked', 'appropriated', 'Adults', 'contendere', 'Muir', 'Perkins', 'theses', 'appropriates', 'ARF', 'Piraeus', 'explicable', 'outgrow', 'Volta', 'sensing', 'Annapolis', 'rocker', 'rocket', 'boot', 'cakes', 'rocked', 'miniscule', 'courtship', 'azalea', 'temerity', 'Fay', 'avidly', 'Stetsons', 'Far', 'duplicable', 'sky', 'unsigned', 'Prohibition', 'hall', 'Stalins', 'Fan', 'crannies', 'ski', 'earthquakes', 'Harmon', 'knob', 'confront', 'saturation', 'Reared', 'Drum', 'sick', 'equalizers', 'tranquilizer', 'republics', 'Recording', 'know', 'knot', 'Newspaper', 'Hesperus', 'Bantu', 'ahem', 'pamphlet', 'Manthey', 'Reuveni', 'taxpayers', 'repressed', 'lance', 'traitors', 'because', 'Fuller', 'shabby', 'sequence', 'dispossession', 'searching', 'mosquitoes', 'libretto', 'Rabb', 'Cooperation', 'empire', 'Jonathan', 'neglecting', 'affections', 'leaden', 'leaf', 'lead', 'Rawson', 'leak', 'leaded', 'lean', 'Pickfair', 'Glazes', 'Glazer', 'Howry', 'leap', 'Glazed', 'Stairs', 'leader', 'Rubber', 'locate', 'poets', \"y'know\", 'murderer', 'idlers', 'thoroughfare', 'Ptolemaic', 'fastenings', 'Affaires', 'consuming', 'leased', 'murdered', 'guffaws', 'Chester', 'slum', 'weaving', 'tempered', 'Canning', 'slug', 'dozing', 'Administrator', 'throne', 'throng', 'Elios', 'incline', 'squealed', 'getting', 'spilled', 'dependence', 'shipping', 'surge', 'dependency', 'epiphany', 'Halleck', 'fatally', 'Really', 'warranty', 'bugle', 'Outer', 'Ecclesiastical', 'versed', 'warrants', 'brambles', 'corralling', 'brush', 'registration', 'dispossessed', 'eh', 'Ball', 'resistors', 'Bali', 'grapevine', 'Bald', 'peppery', 'preferment', 'Dust', 'Dover', 'uncontrollable', 'Alps', 'footwork', 'jury', 'proving', 'funds', 'sweatband', 'Skybolt', 'piously', 'contradictory', 'bratwurst', 'Bucharest', 'convalescence', 'Gathering', 'Topography', 'Golf', 'Gold', 'instructive', 'Goddamn', 'Roswell', 'recede', 'windfall', 'lubricated', 'necrosis', \"Doesn't\", 'attained', 'buffs', 'jewel', 'meaningless', 'gnawing', 'carbohydrate', 'bombarding', 'goodness', 'Daughter', 'intentionally', 'accolade', 'Temporary', 'Artificer', 'Sessions', 'boos', 'percent', 'cave', 'roars', 'book', 'boom', 'branch', 'Chinaman', 'Manufacturing', 'honorary', 'withstood', 'junk', 'Attlee', 'contends', 'accomplish', 'Weaver', 'geysers', 'fusty', 'Calmly', 'rotting', 'expands', 'Lust', 'northerly', 'mosaics', 'jawbone'])\n",
            "[('fawn', <gensim.models.keyedvectors.Vocab object at 0x7f49c7591b50>), ('deferment', <gensim.models.keyedvectors.Vocab object at 0x7f49c4b26670>)]\n"
          ]
        },
        {
          "output_type": "execute_result",
          "data": {
            "text/plain": [
              "[<gensim.models.keyedvectors.Vocab at 0x7f49c7591b50>,\n",
              " <gensim.models.keyedvectors.Vocab at 0x7f49c4b26670>]"
            ]
          },
          "metadata": {},
          "execution_count": 10
        }
      ]
    },
    {
      "cell_type": "markdown",
      "metadata": {
        "id": "2BMraFZS9mTB"
      },
      "source": [
        "We can now build the embedding matrix and a vocabulary dictionary:"
      ]
    },
    {
      "cell_type": "code",
      "execution_count": 11,
      "metadata": {
        "id": "lOTIN3G39mTB",
        "colab": {
          "base_uri": "https://localhost:8080/"
        },
        "outputId": "d2c0d3d0-55f4-4994-98f5-ec54e85fab96"
      },
      "outputs": [
        {
          "output_type": "stream",
          "name": "stdout",
          "text": [
            "EMBEDDING_DIM:  300\n",
            "\n",
            "embedding_matrix dim: (43982, 300)\n",
            "[[0. 0. 0. ... 0. 0. 0.]\n",
            " [0. 0. 0. ... 0. 0. 0.]\n",
            " [0. 0. 0. ... 0. 0. 0.]\n",
            " [0. 0. 0. ... 0. 0. 0.]\n",
            " [0. 0. 0. ... 0. 0. 0.]]\n",
            "\n",
            "len(vocab_dict): 43981\n",
            "Words:  ['fawn', 'deferment', 'Debts', 'Poetry', 'woods', 'clotted', 'hanging', 'hastily', 'comically', 'localized']\n",
            "Indexes:  [0, 1, 2, 3, 4, 5, 6, 7, 8, 9]\n"
          ]
        }
      ],
      "source": [
        "#@title Embedding Matrix Creation\n",
        "\n",
        "EMBEDDING_DIM = len(model['university'])      # we know... it's 300\n",
        "print('EMBEDDING_DIM: ',EMBEDDING_DIM)\n",
        "# initialize embedding matrix and word-to-id map:\n",
        "embedding_matrix = np.zeros((len(model.vocab.keys()) + 1, EMBEDDING_DIM))  \n",
        "print('\\nembedding_matrix dim:',embedding_matrix.shape)   \n",
        "print(embedding_matrix[:5])\n",
        "\n",
        "vocab_dict = {}\n",
        "\n",
        "# build the embedding matrix and the word-to-id map:\n",
        "for i, word in enumerate(model.vocab.keys()):\n",
        "    # print(f'i:{i} ; word:{word}')\n",
        "    embedding_vector = model[word]\n",
        "    if embedding_vector is not None:\n",
        "        # words not found in embedding index will be all-zeros.\n",
        "        embedding_matrix[i] = embedding_vector\n",
        "        vocab_dict[word] = i\n",
        "\n",
        "# we can use the last index at the end of the vocab for unknown tokens\n",
        "print('\\nlen(vocab_dict):',len(vocab_dict))\n",
        "vocab_dict['[UNK]'] = len(vocab_dict)\n",
        "print('Words: ', [k for k in list(vocab_dict.keys())[:10]])\n",
        "print('Indexes: ',[v for v in list(vocab_dict.values())[:10]])"
      ]
    },
    {
      "cell_type": "code",
      "execution_count": 12,
      "metadata": {
        "colab": {
          "base_uri": "https://localhost:8080/"
        },
        "id": "5KlSpLnP6VqA",
        "outputId": "57bae4ad-1b27-4526-aea4-81703abbec70"
      },
      "outputs": [
        {
          "output_type": "execute_result",
          "data": {
            "text/plain": [
              "(43982, 300)"
            ]
          },
          "metadata": {},
          "execution_count": 12
        }
      ],
      "source": [
        "embedding_matrix.shape"
      ]
    },
    {
      "cell_type": "code",
      "execution_count": 13,
      "metadata": {
        "colab": {
          "base_uri": "https://localhost:8080/"
        },
        "id": "LGYcZu0N9mTC",
        "outputId": "0cbd8cff-52e3-40ad-a11d-f360b070caa2"
      },
      "outputs": [
        {
          "output_type": "execute_result",
          "data": {
            "text/plain": [
              "array([[ 0.0891758 ,  0.121832  , -0.0671959 ,  0.0477279 , -0.013659  ],\n",
              "       [ 0.0526281 ,  0.013157  , -0.010104  ,  0.0540819 ,  0.0386715 ],\n",
              "       [ 0.0786419 ,  0.0373911 , -0.0131472 ,  0.0347375 ,  0.0288273 ],\n",
              "       [-0.00157585, -0.0564239 ,  0.00320281,  0.0422498 ,  0.15264399],\n",
              "       [ 0.0356899 , -0.00367283, -0.065534  ,  0.0213832 ,  0.00788408]])"
            ]
          },
          "metadata": {},
          "execution_count": 13
        }
      ],
      "source": [
        "embedding_matrix[:5, :5]   # first 5 rows and columns"
      ]
    },
    {
      "cell_type": "code",
      "source": [
        "embedding_matrix"
      ],
      "metadata": {
        "colab": {
          "base_uri": "https://localhost:8080/"
        },
        "id": "ZDTkw2IWC8N9",
        "outputId": "3b48b803-b631-4396-9f5b-9635c4178bf7"
      },
      "execution_count": 14,
      "outputs": [
        {
          "output_type": "execute_result",
          "data": {
            "text/plain": [
              "array([[ 0.0891758 ,  0.121832  , -0.0671959 , ..., -0.0480419 ,\n",
              "        -0.0277889 ,  0.0872918 ],\n",
              "       [ 0.0526281 ,  0.013157  , -0.010104  , ...,  0.0209349 ,\n",
              "        -0.0537912 ,  0.0654217 ],\n",
              "       [ 0.0786419 ,  0.0373911 , -0.0131472 , ..., -0.00832253,\n",
              "        -0.00398034, -0.0825016 ],\n",
              "       ...,\n",
              "       [ 0.0887422 ,  0.0537124 ,  0.0467064 , ..., -0.0794009 ,\n",
              "         0.0945805 , -0.0361975 ],\n",
              "       [-0.011512  ,  0.0173624 , -0.0364862 , ..., -0.0425253 ,\n",
              "         0.0231499 , -0.014217  ],\n",
              "       [ 0.        ,  0.        ,  0.        , ...,  0.        ,\n",
              "         0.        ,  0.        ]])"
            ]
          },
          "metadata": {},
          "execution_count": 14
        }
      ]
    },
    {
      "cell_type": "markdown",
      "metadata": {
        "id": "YIL1eUtV9mTC"
      },
      "source": [
        "The last row consists of all zeros. We will use that for the UNK token, the placeholder token for **unknown words.**\n",
        "\n",
        "### 1.2 Data Acquisition\n",
        "\n",
        "\n",
        "We will use the IMDB dataset delivered as part of the TensorFlow-datasets library, and split into training and test sets. For expedience, we will limit ourselves in terms of train and test examples."
      ]
    },
    {
      "cell_type": "code",
      "execution_count": 15,
      "metadata": {
        "id": "uwOF0qYb9mTC",
        "colab": {
          "base_uri": "https://localhost:8080/",
          "height": 137,
          "referenced_widgets": [
            "50d4229f8ff14a7eb9ba25b7985e5891",
            "2a08fe6177ed4ca698ad09ddb0908302",
            "36157368cbd248759bc68ccacab11c44",
            "355ed42bca5344a2a4aa4ee8a5e4a318",
            "8b29a735461644f2b5025e2300da6a32",
            "477df0b8be5c4691bdb0cf2a9a93ab91",
            "bb323a6f44b54a1a83ea19bf939a1241",
            "0a0b8a6e71974ec587990b0ffed593b5",
            "5919b2c544594cb3af090a6acb2a0d70",
            "01a6b241aa034f90a1987f73793e0688",
            "a0f256882b8540b5b0e9a910e45676c1",
            "708c9b8ef65d45fa85c8ff8e15d4f8b3",
            "5fb2ec9b81f649d698cc352e960c74dd",
            "dca3f9e0571e440b91cc06bdde8d8209",
            "b87d4690308a4ec399a023ae5bc9de3c",
            "4df3f5fc8d6c40a9a64294bfae2c0198",
            "7bc58ea1fc7d42598a11f1540ff218e7",
            "db22dac412404f52b0de7b86f6bf8f1b",
            "63ebb2ebfc1943fb9226d7e479d01145",
            "4a5f44a7586a4ce28d0d0cf7be3bf1f6",
            "55d58df016604e34974171c4c87d5312",
            "d26c752b9b9549279598aa5ea1e0fc25",
            "049254e6e9ed4f5ab0258f249e42c879",
            "8282b8d51ec14a009e020aa982660cf5",
            "2f89409586a7481aa67cbc94884fc108",
            "04053059588d44dda4784389d98894e9",
            "3d92236323c3465f8b1c4ecce9f4c2fc",
            "22942aa060354dbaa0bbbca1865f6e26",
            "b190d38b08af4799983335c423cf1b1b",
            "1eb344d5875e44709dec2171ecdcd3b3",
            "166dbed867894dfcaf599000d5a3154d",
            "0500d78b84da4aa4ab925c1ba6f5c5fa",
            "1db8068d45fa419d9e028007eebb081f",
            "cf54d04d650645baa9ccad0d8734596a",
            "0cc89f6f6b1c4b059b08561d2afcc49e",
            "513ab97aa61748f18a4a2f23ceafc03f",
            "9d7b17e7de15459dab44e3501af6f85a",
            "60c8a4a36c7f47a6b766cc431bbaeb0b",
            "c07b616a267f41b6a6aa53df0991314f",
            "a5c2ebc0af8e4ea1a40867b8d9e6fb2e",
            "264942c8564c4d8991354aa612de4652",
            "77fc9e7ba0184054b1058c34d45450f5",
            "3654de2f166d46aa93e6dd3e92f01860",
            "28506ba86e4247e28956c3e0dfcb117d",
            "ecc8d695b9d34b379d00b9074bd2bef5",
            "be852066c87d4ce999ff9dd7f9b28f88",
            "92655fb130934eda9f61d25f6266a452",
            "82bed2cdce334b249614a2ed09db8a53",
            "e2f96deb737e46c5a5f1f4d16bda83a9",
            "b053011e6fe840b58b93b16d51eb309b",
            "72a37ec291154790a8c8ad87ac0646e3",
            "0826dd09b1f74a4eb72d450d329eb5c2",
            "798f32eb0ca34a45a6bccbacb925a020",
            "881c49ec2d344179b579c6e21c8669b8",
            "34a68cbe4a5742c2bb827bff2f36e1f6",
            "82275154a91a413d8fcc4473a6677947",
            "60a8995112cf409984a06e78d57b7d30",
            "e5c73d7e3fd34549acbf9ee552d3fe38",
            "7fddcee45f9e4bbc926dabb86883b4fc",
            "48eb136b9f414596bf7f62659a2d7bcb",
            "04ca37a7e81242beb3b14581ae426d95",
            "fbe59e922a9943a38cc473ac3564d3a3",
            "52fbf62c27e64eb39d9e38cb7826311f",
            "41c297e5816d439ba1f15a539b371005",
            "9140d370e4b64fe4b1febf4739fc702e",
            "a177d0faf9e74d20ac4e417ae15791c0",
            "0b9c8c896b4e4f53b7830ddeedf5cae9",
            "0e55d6c72b0f404bb6d2344663cc7618",
            "fcf9d51bb28f41d8931d5dfd094d9de7",
            "9775691c05184ce9bd303b2ae5d096ea",
            "a5162e1b321c49cf8eaa477de0feb571",
            "dc7f44274fe949c0898a38a21826800b",
            "484964cc21274c9bb5604edc1b21283b",
            "9d8bf70ddc1a4d5490633a90d117fe9b",
            "ca66d5d40a434629b2bd66fd0911cfd7",
            "03d2d7022dd641f4b68e08f09cdd7dfe",
            "569744665aa048dfb65f095cd4ce86fa",
            "601e8211c4d940d5abcbb934bb6161be",
            "ddaefdbadd4848b9923ee1adfa80e208",
            "bbd848c3e0ad4270bda29165f47d33bb",
            "f79d014d49c848b5b057d2a0557ab153",
            "a60efc214a1c43d881872fbc6fbe3eca",
            "0a44db41cd494a5fbbb32636ae42c7cb",
            "6ff08cfbd4f6443cbded6f99ca258a89",
            "395641eb0ff14ef5a4c5affaffcb0b74",
            "fde485ba1ae74af8896d2b627a21e867",
            "efbebe24d6bb45faa0a724042f7352cf",
            "a9b02eb4ace448cd8e5ba5cb5188143c",
            "8a756b09ef544b88b49c8347f2b78cd7",
            "045e7b09652c4974a555f7e0996c5018",
            "a1934b6a2b1345829ba206ae4789ad29",
            "3f141621bb6f4155af32e8b335ee286d",
            "f9441e2027f144f6a5ff5bbcb7f0c840",
            "9d65288670b843e5aca87e3332bd462e",
            "7dba0dc2249d48ac9e0e672523d20784",
            "2b8cd667c43845a3955bbda3d4937e36",
            "fa3404c325ff4f84876d9bc5d1a50762",
            "9dc6bc5995b243428f25ebf0e1ca076e",
            "48f2c20c42394b1a8d67e88ae9869f14"
          ]
        },
        "outputId": "5b573bf5-22f0-4156-a28d-2ebc06790ec4"
      },
      "outputs": [
        {
          "output_type": "stream",
          "name": "stdout",
          "text": [
            "Downloading and preparing dataset 80.23 MiB (download: 80.23 MiB, generated: Unknown size, total: 80.23 MiB) to /root/tensorflow_datasets/imdb_reviews/plain_text/1.0.0...\n"
          ]
        },
        {
          "output_type": "display_data",
          "data": {
            "text/plain": [
              "Dl Completed...: 0 url [00:00, ? url/s]"
            ],
            "application/vnd.jupyter.widget-view+json": {
              "version_major": 2,
              "version_minor": 0,
              "model_id": "50d4229f8ff14a7eb9ba25b7985e5891"
            }
          },
          "metadata": {}
        },
        {
          "output_type": "display_data",
          "data": {
            "text/plain": [
              "Dl Size...: 0 MiB [00:00, ? MiB/s]"
            ],
            "application/vnd.jupyter.widget-view+json": {
              "version_major": 2,
              "version_minor": 0,
              "model_id": "708c9b8ef65d45fa85c8ff8e15d4f8b3"
            }
          },
          "metadata": {}
        },
        {
          "output_type": "display_data",
          "data": {
            "text/plain": [
              "Generating splits...:   0%|          | 0/3 [00:00<?, ? splits/s]"
            ],
            "application/vnd.jupyter.widget-view+json": {
              "version_major": 2,
              "version_minor": 0,
              "model_id": "049254e6e9ed4f5ab0258f249e42c879"
            }
          },
          "metadata": {}
        },
        {
          "output_type": "display_data",
          "data": {
            "text/plain": [
              "Generating train examples...:   0%|          | 0/25000 [00:00<?, ? examples/s]"
            ],
            "application/vnd.jupyter.widget-view+json": {
              "version_major": 2,
              "version_minor": 0,
              "model_id": "cf54d04d650645baa9ccad0d8734596a"
            }
          },
          "metadata": {}
        },
        {
          "output_type": "display_data",
          "data": {
            "text/plain": [
              "Shuffling /root/tensorflow_datasets/imdb_reviews/plain_text/1.0.0.incomplete346DOX/imdb_reviews-train.tfrecord…"
            ],
            "application/vnd.jupyter.widget-view+json": {
              "version_major": 2,
              "version_minor": 0,
              "model_id": "ecc8d695b9d34b379d00b9074bd2bef5"
            }
          },
          "metadata": {}
        },
        {
          "output_type": "display_data",
          "data": {
            "text/plain": [
              "Generating test examples...:   0%|          | 0/25000 [00:00<?, ? examples/s]"
            ],
            "application/vnd.jupyter.widget-view+json": {
              "version_major": 2,
              "version_minor": 0,
              "model_id": "82275154a91a413d8fcc4473a6677947"
            }
          },
          "metadata": {}
        },
        {
          "output_type": "display_data",
          "data": {
            "text/plain": [
              "Shuffling /root/tensorflow_datasets/imdb_reviews/plain_text/1.0.0.incomplete346DOX/imdb_reviews-test.tfrecord*…"
            ],
            "application/vnd.jupyter.widget-view+json": {
              "version_major": 2,
              "version_minor": 0,
              "model_id": "0b9c8c896b4e4f53b7830ddeedf5cae9"
            }
          },
          "metadata": {}
        },
        {
          "output_type": "display_data",
          "data": {
            "text/plain": [
              "Generating unsupervised examples...:   0%|          | 0/50000 [00:00<?, ? examples/s]"
            ],
            "application/vnd.jupyter.widget-view+json": {
              "version_major": 2,
              "version_minor": 0,
              "model_id": "601e8211c4d940d5abcbb934bb6161be"
            }
          },
          "metadata": {}
        },
        {
          "output_type": "display_data",
          "data": {
            "text/plain": [
              "Shuffling /root/tensorflow_datasets/imdb_reviews/plain_text/1.0.0.incomplete346DOX/imdb_reviews-unsupervised.t…"
            ],
            "application/vnd.jupyter.widget-view+json": {
              "version_major": 2,
              "version_minor": 0,
              "model_id": "8a756b09ef544b88b49c8347f2b78cd7"
            }
          },
          "metadata": {}
        },
        {
          "output_type": "stream",
          "name": "stdout",
          "text": [
            "Dataset imdb_reviews downloaded and prepared to /root/tensorflow_datasets/imdb_reviews/plain_text/1.0.0. Subsequent calls will reuse this data.\n"
          ]
        }
      ],
      "source": [
        "train_data, test_data = tfds.load(\n",
        "    name=\"imdb_reviews\", \n",
        "    split=('train[:80%]', 'test[80%:]'),     # train/test split to 80%:20%\n",
        "    as_supervised=True)\n",
        "\n",
        "# Out of total 25,000 reviews, 20,000 (80%) is set to the train and 5,000 (20%) to the testing set\n",
        "train_examples, train_labels = next(iter(train_data.batch(20000)))\n",
        "test_examples, test_labels = next(iter(test_data.batch(5000)))"
      ]
    },
    {
      "cell_type": "markdown",
      "metadata": {
        "id": "mPHFtgGkHNOQ"
      },
      "source": [
        "It is always highly recommended to look at the data. What do the records look like? Are they clean or do they contain a lot of cruft (potential noise)?"
      ]
    },
    {
      "cell_type": "code",
      "execution_count": 16,
      "metadata": {
        "colab": {
          "base_uri": "https://localhost:8080/"
        },
        "id": "wvmWKdVQ9mTC",
        "outputId": "7f48c680-4ed5-4ae0-99e7-8c36d22be5ba"
      },
      "outputs": [
        {
          "output_type": "execute_result",
          "data": {
            "text/plain": [
              "<tf.Tensor: shape=(4,), dtype=string, numpy=\n",
              "array([b\"This was an absolutely terrible movie. Don't be lured in by Christopher Walken or Michael Ironside. Both are great actors, but this must simply be their worst role in history. Even their great acting could not redeem this movie's ridiculous storyline. This movie is an early nineties US propaganda piece. The most pathetic scenes were those when the Columbian rebels were making their cases for revolutions. Maria Conchita Alonso appeared phony, and her pseudo-love affair with Walken was nothing but a pathetic emotional plug in a movie that was devoid of any real meaning. I am disappointed that there are movies like this, ruining actor's like Christopher Walken's good name. I could barely sit through it.\",\n",
              "       b'I have been known to fall asleep during films, but this is usually due to a combination of things including, really tired, being warm and comfortable on the sette and having just eaten a lot. However on this occasion I fell asleep because the film was rubbish. The plot development was constant. Constantly slow and boring. Things seemed to happen, but with no explanation of what was causing them or why. I admit, I may have missed part of the film, but i watched the majority of it and everything just seemed to happen of its own accord without any real concern for anything else. I cant recommend this film at all.',\n",
              "       b'Mann photographs the Alberta Rocky Mountains in a superb fashion, and Jimmy Stewart and Walter Brennan give enjoyable performances as they always seem to do. <br /><br />But come on Hollywood - a Mountie telling the people of Dawson City, Yukon to elect themselves a marshal (yes a marshal!) and to enforce the law themselves, then gunfighters battling it out on the streets for control of the town? <br /><br />Nothing even remotely resembling that happened on the Canadian side of the border during the Klondike gold rush. Mr. Mann and company appear to have mistaken Dawson City for Deadwood, the Canadian North for the American Wild West.<br /><br />Canadian viewers be prepared for a Reefer Madness type of enjoyable howl with this ludicrous plot, or, to shake your head in disgust.',\n",
              "       b'This is the kind of film for a snowy Sunday afternoon when the rest of the world can go ahead with its own business as you descend into a big arm-chair and mellow for a couple of hours. Wonderful performances from Cher and Nicolas Cage (as always) gently row the plot along. There are no rapids to cross, no dangerous waters, just a warm and witty paddle through New York life at its best. A family film in every sense and one that deserves the praise it received.'],\n",
              "      dtype=object)>"
            ]
          },
          "metadata": {},
          "execution_count": 16
        }
      ],
      "source": [
        "train_examples[:4]"
      ]
    },
    {
      "cell_type": "code",
      "execution_count": 17,
      "metadata": {
        "colab": {
          "base_uri": "https://localhost:8080/"
        },
        "id": "BzEnCspD9mTD",
        "outputId": "1d9f99d5-dae0-47d0-c66c-001b4b228ff3"
      },
      "outputs": [
        {
          "output_type": "execute_result",
          "data": {
            "text/plain": [
              "<tf.Tensor: shape=(4,), dtype=int64, numpy=array([0, 0, 0, 1])>"
            ]
          },
          "metadata": {},
          "execution_count": 17
        }
      ],
      "source": [
        "train_labels[:4]"
      ]
    },
    {
      "cell_type": "markdown",
      "metadata": {
        "id": "CplHsqSDMKCa"
      },
      "source": [
        "For convenience, in this assignment we will define a sequence length and only keep the examples that are longer than that length.  We do this so that we have records with a lot of signal to aide our classifier predictions."
      ]
    },
    {
      "cell_type": "code",
      "execution_count": 27,
      "metadata": {
        "id": "Zxu9U3qXMKTW"
      },
      "outputs": [],
      "source": [
        "MAX_SEQUENCE_LENGTH = 100"
      ]
    },
    {
      "cell_type": "markdown",
      "metadata": {
        "id": "1bHwj4vu9mTD"
      },
      "source": [
        "## 1.3. Data Preparation\n",
        "\n",
        "### 1.3.1. Training/Test Sets for Word2Vec-based Models\n",
        "\n",
        "First, we tokenize the data:"
      ]
    },
    {
      "cell_type": "code",
      "source": [
        "# HS\n",
        "from nltk.tokenize import WhitespaceTokenizer\n",
        "# tk = tf_text.WhitespaceTokenizer()\n",
        "tk = WhitespaceTokenizer()\n",
        "gfg = \"GeeksforGeeks \\nis\\t for geeks\"\n",
        "geek = tk.tokenize(gfg)\n",
        "print('geek: ',geek)"
      ],
      "metadata": {
        "colab": {
          "base_uri": "https://localhost:8080/"
        },
        "id": "txY2mVLwG_Ry",
        "outputId": "a71d0453-abf7-4f07-e8b7-9459329de1a2"
      },
      "execution_count": 18,
      "outputs": [
        {
          "output_type": "stream",
          "name": "stdout",
          "text": [
            "geek:  ['GeeksforGeeks', 'is', 'for', 'geeks']\n"
          ]
        }
      ]
    },
    {
      "cell_type": "code",
      "execution_count": 19,
      "metadata": {
        "id": "ToVTmC8V9mTD",
        "colab": {
          "base_uri": "https://localhost:8080/"
        },
        "outputId": "8557f030-28a8-447b-ce28-245dc8c05625"
      },
      "outputs": [
        {
          "output_type": "stream",
          "name": "stdout",
          "text": [
            "train_tokens[:2]: <tf.RaggedTensor [[b'This', b'was', b'an', b'absolutely', b'terrible', b'movie.', b\"Don't\",\n",
            "  b'be', b'lured', b'in', b'by', b'Christopher', b'Walken', b'or',\n",
            "  b'Michael', b'Ironside.', b'Both', b'are', b'great', b'actors,', b'but',\n",
            "  b'this', b'must', b'simply', b'be', b'their', b'worst', b'role', b'in',\n",
            "  b'history.', b'Even', b'their', b'great', b'acting', b'could', b'not',\n",
            "  b'redeem', b'this', b\"movie's\", b'ridiculous', b'storyline.', b'This',\n",
            "  b'movie', b'is', b'an', b'early', b'nineties', b'US', b'propaganda',\n",
            "  b'piece.', b'The', b'most', b'pathetic', b'scenes', b'were', b'those',\n",
            "  b'when', b'the', b'Columbian', b'rebels', b'were', b'making', b'their',\n",
            "  b'cases', b'for', b'revolutions.', b'Maria', b'Conchita', b'Alonso',\n",
            "  b'appeared', b'phony,', b'and', b'her', b'pseudo-love', b'affair',\n",
            "  b'with', b'Walken', b'was', b'nothing', b'but', b'a', b'pathetic',\n",
            "  b'emotional', b'plug', b'in', b'a', b'movie', b'that', b'was', b'devoid',\n",
            "  b'of', b'any', b'real', b'meaning.', b'I', b'am', b'disappointed',\n",
            "  b'that', b'there', b'are', b'movies', b'like', b'this,', b'ruining',\n",
            "  b\"actor's\", b'like', b'Christopher', b\"Walken's\", b'good', b'name.', b'I',\n",
            "  b'could', b'barely', b'sit', b'through', b'it.']                          ,\n",
            " [b'I', b'have', b'been', b'known', b'to', b'fall', b'asleep', b'during',\n",
            "  b'films,', b'but', b'this', b'is', b'usually', b'due', b'to', b'a',\n",
            "  b'combination', b'of', b'things', b'including,', b'really', b'tired,',\n",
            "  b'being', b'warm', b'and', b'comfortable', b'on', b'the', b'sette',\n",
            "  b'and', b'having', b'just', b'eaten', b'a', b'lot.', b'However', b'on',\n",
            "  b'this', b'occasion', b'I', b'fell', b'asleep', b'because', b'the',\n",
            "  b'film', b'was', b'rubbish.', b'The', b'plot', b'development', b'was',\n",
            "  b'constant.', b'Constantly', b'slow', b'and', b'boring.', b'Things',\n",
            "  b'seemed', b'to', b'happen,', b'but', b'with', b'no', b'explanation',\n",
            "  b'of', b'what', b'was', b'causing', b'them', b'or', b'why.', b'I',\n",
            "  b'admit,', b'I', b'may', b'have', b'missed', b'part', b'of', b'the',\n",
            "  b'film,', b'but', b'i', b'watched', b'the', b'majority', b'of', b'it',\n",
            "  b'and', b'everything', b'just', b'seemed', b'to', b'happen', b'of',\n",
            "  b'its', b'own', b'accord', b'without', b'any', b'real', b'concern',\n",
            "  b'for', b'anything', b'else.', b'I', b'cant', b'recommend', b'this',\n",
            "  b'film', b'at', b'all.']                                               ]>\n"
          ]
        }
      ],
      "source": [
        "tokenizer = tf_text.WhitespaceTokenizer()\n",
        "train_tokens = tokenizer.tokenize(train_examples)\n",
        "test_tokens = tokenizer.tokenize(test_examples)\n",
        "\n",
        "print('train_tokens[:2]:', train_tokens[:2])"
      ]
    },
    {
      "cell_type": "code",
      "source": [
        "train_examples[0]"
      ],
      "metadata": {
        "colab": {
          "base_uri": "https://localhost:8080/"
        },
        "id": "NNzUWvkQH63k",
        "outputId": "cc71b5fb-2b6a-4939-f95d-2b83e77e8eac"
      },
      "execution_count": 20,
      "outputs": [
        {
          "output_type": "execute_result",
          "data": {
            "text/plain": [
              "<tf.Tensor: shape=(), dtype=string, numpy=b\"This was an absolutely terrible movie. Don't be lured in by Christopher Walken or Michael Ironside. Both are great actors, but this must simply be their worst role in history. Even their great acting could not redeem this movie's ridiculous storyline. This movie is an early nineties US propaganda piece. The most pathetic scenes were those when the Columbian rebels were making their cases for revolutions. Maria Conchita Alonso appeared phony, and her pseudo-love affair with Walken was nothing but a pathetic emotional plug in a movie that was devoid of any real meaning. I am disappointed that there are movies like this, ruining actor's like Christopher Walken's good name. I could barely sit through it.\">"
            ]
          },
          "metadata": {},
          "execution_count": 20
        }
      ]
    },
    {
      "cell_type": "markdown",
      "metadata": {
        "id": "qXauPwil9mTD"
      },
      "source": [
        "Let's look at some tokens.  Does they look acceptable?"
      ]
    },
    {
      "cell_type": "code",
      "execution_count": 21,
      "metadata": {
        "colab": {
          "base_uri": "https://localhost:8080/"
        },
        "id": "QZ22GGb-9mTD",
        "outputId": "4816c316-d6f7-4197-e8a4-17bbc16530b9"
      },
      "outputs": [
        {
          "output_type": "execute_result",
          "data": {
            "text/plain": [
              "<tf.Tensor: shape=(116,), dtype=string, numpy=\n",
              "array([b'This', b'was', b'an', b'absolutely', b'terrible', b'movie.',\n",
              "       b\"Don't\", b'be', b'lured', b'in', b'by', b'Christopher', b'Walken',\n",
              "       b'or', b'Michael', b'Ironside.', b'Both', b'are', b'great',\n",
              "       b'actors,', b'but', b'this', b'must', b'simply', b'be', b'their',\n",
              "       b'worst', b'role', b'in', b'history.', b'Even', b'their', b'great',\n",
              "       b'acting', b'could', b'not', b'redeem', b'this', b\"movie's\",\n",
              "       b'ridiculous', b'storyline.', b'This', b'movie', b'is', b'an',\n",
              "       b'early', b'nineties', b'US', b'propaganda', b'piece.', b'The',\n",
              "       b'most', b'pathetic', b'scenes', b'were', b'those', b'when',\n",
              "       b'the', b'Columbian', b'rebels', b'were', b'making', b'their',\n",
              "       b'cases', b'for', b'revolutions.', b'Maria', b'Conchita',\n",
              "       b'Alonso', b'appeared', b'phony,', b'and', b'her', b'pseudo-love',\n",
              "       b'affair', b'with', b'Walken', b'was', b'nothing', b'but', b'a',\n",
              "       b'pathetic', b'emotional', b'plug', b'in', b'a', b'movie', b'that',\n",
              "       b'was', b'devoid', b'of', b'any', b'real', b'meaning.', b'I',\n",
              "       b'am', b'disappointed', b'that', b'there', b'are', b'movies',\n",
              "       b'like', b'this,', b'ruining', b\"actor's\", b'like', b'Christopher',\n",
              "       b\"Walken's\", b'good', b'name.', b'I', b'could', b'barely', b'sit',\n",
              "       b'through', b'it.'], dtype=object)>"
            ]
          },
          "metadata": {},
          "execution_count": 21
        }
      ],
      "source": [
        "train_tokens[0]"
      ]
    },
    {
      "cell_type": "markdown",
      "metadata": {
        "id": "K9D9nqdg9mTE"
      },
      "source": [
        "Yup... looks right. Of course we will need to take care of the encoding later."
      ]
    },
    {
      "cell_type": "markdown",
      "metadata": {
        "id": "XiqFULXx9mTE"
      },
      "source": [
        "Next, we define a simple function that converts the tokens above into the appropriate word2vec index values.   "
      ]
    },
    {
      "cell_type": "code",
      "execution_count": 22,
      "metadata": {
        "id": "ytUsu3kmuM3n"
      },
      "outputs": [],
      "source": [
        "def docs_to_vocab_ids(tokenized_texts_list):\n",
        "    \"\"\"\n",
        "    converting a list of strings to a list of lists of word ids\n",
        "    \"\"\"\n",
        "    texts_vocab_ids = []\n",
        "    text_labels = []\n",
        "    valid_example_list = []\n",
        "    for i, token_list in enumerate(tokenized_texts_list):\n",
        "\n",
        "        # Get the vocab id for each token in this doc ([UNK] if not in vocab)\n",
        "        vocab_ids = []\n",
        "        for token in list(token_list.numpy()):\n",
        "            decoded = token.decode('utf-8', errors='ignore')\n",
        "            if decoded in vocab_dict:\n",
        "                vocab_ids.append(vocab_dict[decoded])\n",
        "            else:\n",
        "                vocab_ids.append(vocab_dict['[UNK]'])\n",
        "            \n",
        "        # Truncate text to max length, add padding up to max length\n",
        "        vocab_ids = vocab_ids[:MAX_SEQUENCE_LENGTH]\n",
        "        n_padding = (MAX_SEQUENCE_LENGTH - len(vocab_ids))\n",
        "        # For simplicity in this model, we'll just pad with unknown tokens\n",
        "        vocab_ids += [vocab_dict['[UNK]']] * n_padding\n",
        "        # Add this example to the list of converted docs\n",
        "        texts_vocab_ids.append(vocab_ids)\n",
        "            \n",
        "        if i % 5000 == 0:\n",
        "            print('Examples processed: ', i)\n",
        "\n",
        "    print('Total examples: ', i)\n",
        "    return np.array(texts_vocab_ids)"
      ]
    },
    {
      "cell_type": "markdown",
      "metadata": {
        "id": "gv_elC2m9mTE"
      },
      "source": [
        "Now we can create training and test data that can be fed into the models of interest.  We need to convert all of the tokens in to their respective input ids."
      ]
    },
    {
      "cell_type": "code",
      "execution_count": 23,
      "metadata": {
        "colab": {
          "base_uri": "https://localhost:8080/"
        },
        "id": "XpUJLBRkCbtE",
        "outputId": "8b37347b-d4bc-4c2b-dcbc-8663e84cd4d5"
      },
      "outputs": [
        {
          "output_type": "stream",
          "name": "stdout",
          "text": [
            "Examples processed:  0\n",
            "Examples processed:  5000\n",
            "Examples processed:  10000\n",
            "Examples processed:  15000\n",
            "Total examples:  19999\n",
            "Examples processed:  0\n",
            "Total examples:  4999\n"
          ]
        }
      ],
      "source": [
        "train_input_ids = docs_to_vocab_ids(train_tokens)\n",
        "test_input_ids = docs_to_vocab_ids(test_tokens)\n",
        "\n",
        "train_input_labels = np.array(train_labels)\n",
        "test_input_labels = np.array(test_labels)"
      ]
    },
    {
      "cell_type": "markdown",
      "metadata": {
        "id": "-dP2KY7U9mTF"
      },
      "source": [
        "Let's convince ourselves that the data looks correct. We expect the train data to be an array of integer ids and the labels to be an array of zeroes and ones (since we are learning a **binary classifier**)."
      ]
    },
    {
      "cell_type": "code",
      "execution_count": 24,
      "metadata": {
        "id": "FtU56wVR9mTF",
        "colab": {
          "base_uri": "https://localhost:8080/"
        },
        "outputId": "22e6414b-ae1a-4621-cafd-8b3f437ff301"
      },
      "outputs": [
        {
          "output_type": "execute_result",
          "data": {
            "text/plain": [
              "array([[21531, 25272, 12291,  7427, 37254, 43981,  6891, 12917, 38232,\n",
              "        16915, 12929, 16182, 43981, 20526, 23487, 43981, 23807, 42958,\n",
              "        35058, 43981, 19123, 35029, 41270, 29275, 12917, 32597, 20659,\n",
              "          638, 16915, 43981,   174, 32597, 35058, 39971,  2326,  3636,\n",
              "        22434, 35029, 43981, 33922, 43981, 21531, 34710, 16908, 12291,\n",
              "        36880, 28137,  5376, 28038, 43981, 15402, 29155, 18063, 24951,\n",
              "        17433, 17595,  8856, 14193, 43981, 43248, 17433,  6290, 32597,\n",
              "         9001, 11511, 43981, 21807, 39168, 43981, 16856, 43981, 43981,\n",
              "        23245, 43981,  8889,  1331, 43981, 25272, 31976, 19123, 43981,\n",
              "        18063, 36309, 24099, 16915, 43981, 34710, 36633, 25272, 20413,\n",
              "        43981, 33458, 14926, 43981, 12139, 12289, 39617, 36633,  9483,\n",
              "        42958],\n",
              "       [12139,  7841, 19666, 31757, 43981, 17853, 25745, 15445, 43981,\n",
              "        19123, 35029, 16908, 21113, 21068, 43981, 43981,  5668, 43981,\n",
              "        33456, 43981, 34554, 43981,  1200, 27498, 43981, 18802, 20514,\n",
              "        14193, 43981, 43981, 23955, 14042, 15400, 43981, 43981, 32334,\n",
              "        20514, 35029,  7870, 12139, 17108, 25745, 43830, 14193, 28743,\n",
              "        25272, 43981, 15402, 17006,   222, 25272, 43981, 43981, 33994,\n",
              "        43981, 43981, 42659, 12375, 43981, 43981, 19123,  1331, 19870,\n",
              "         7816, 43981, 31696, 25272, 23801, 13877, 20526, 43981, 12139,\n",
              "        43981, 12139, 37939,  7841, 24998, 29109, 43981, 14193, 43981,\n",
              "        19123, 16266,  8017, 14193, 43099, 43981, 16909, 43981, 30811,\n",
              "        14042, 12375, 43981, 25574, 43981, 34511, 21851, 14087,  9370,\n",
              "        33458]])"
            ]
          },
          "metadata": {},
          "execution_count": 24
        }
      ],
      "source": [
        "train_input_ids[:2]"
      ]
    },
    {
      "cell_type": "code",
      "source": [
        "train_input_labels[:4]"
      ],
      "metadata": {
        "colab": {
          "base_uri": "https://localhost:8080/"
        },
        "id": "E2LddT1lXqoD",
        "outputId": "79867ca2-8110-4876-930c-5c803cb5ea6d"
      },
      "execution_count": 25,
      "outputs": [
        {
          "output_type": "execute_result",
          "data": {
            "text/plain": [
              "array([0, 0, 0, 1])"
            ]
          },
          "metadata": {},
          "execution_count": 25
        }
      ]
    },
    {
      "cell_type": "markdown",
      "metadata": {
        "id": "L5svfigoOgaE"
      },
      "source": [
        "### 1.3.2. Training/Test Sets for BERT-based models\n",
        "\n",
        "We already imported the BERT model and the Tokenizer libraries. Now, let's load the pretrained BERT model and tokenizer. Always make sure to load the tokenizer that goes with the model you're going to use."
      ]
    },
    {
      "cell_type": "code",
      "execution_count": 18,
      "metadata": {
        "id": "LEyBUFlT53zk",
        "colab": {
          "base_uri": "https://localhost:8080/",
          "height": 254,
          "referenced_widgets": [
            "a4aab9b2f0834bb9aeb28031e3db8203",
            "4f2fa1051b5747b3ae77bd50d0c74c21",
            "a6377618828b4065a87ab8dbfe225020",
            "16d533b0e6eb4cb0a787da28a0f3c108",
            "b5c38bcd31db403981521808b57498b2",
            "69fcad0b69254a02ad6ae054716a7b94",
            "6d99b261133c429b9b47c256f481f2ea",
            "a9691f9c196d4d16bfd129782aad7e4d",
            "d8b847de5a5e4e4c8ddcfbf25e79c38b",
            "0bbfb558fb4a4615beabd2b60f97a0eb",
            "06056273674e4a489ac4b756db160a56",
            "ef45bbc05d724ce99a95552a33f87c70",
            "6f00f6063cbe4aa1a2fe442092c424da",
            "240763e81f974b04acb7b476ac9e1444",
            "3bea8643ac884c7d85d52fee4a6a2903",
            "027f64ebabe94ff89ca73d502d1ae91c",
            "eb95393b94a1456f96b4cd0a31483695",
            "d2fb42bddf9749cfa5e2f1443a53a996",
            "be624b761a3a47d1b47272ceec4b5fbc",
            "b35fd2fa1b544ecf9c94c2fe78c5843d",
            "d7f4d04d7e52412cb2332519e81822b8",
            "8466b4b4e4a74c5984370edeb4d156a3",
            "426d351ccbc34f599bdaa86441ac207e",
            "4e5b2005b1e24cad9719e8242b98bcb8",
            "d2da4a19d84d47968e4abb2ab0d8e5d3",
            "5f7a124226e3480c95bf87188d03f82c",
            "89378b3bfdfe43eda4e2cb1b549ccb92",
            "0481879194254b4988ab4f8293395bff",
            "c1303e0f4f0145e89806629e398ceddd",
            "753829e10130462eb98bf650287402af",
            "facba4cf03fc45a696428f0ce2d36dfd",
            "e4c0e35ea8c5422caf9b4863bac3bec1",
            "6edb47b78fe749948482f34b547cfb09",
            "0e559d42cd3f4237ac9d4f34b06fe38c",
            "1e199d91daf042889fe60bf161089f6a",
            "98c809c57a434421b122d962290ef35c",
            "5791f7fdf11c450095831ad7cc7ba23c",
            "5ed92d105e0b468f93f5fb5868c30e47",
            "0a3ff3f75d15465f842c4e1210f6c90f",
            "c6cf841fd6034b4ea69e7bd2e33255d4",
            "c12e7166eab342558ca9914f47d70bf6",
            "f2646e28fbd24ea7ad9f6c4c6308371f",
            "343da8b3122547bdbc2498175cfeabee",
            "4fd0eb7ef15849d6bbd57933c04e0404"
          ]
        },
        "outputId": "f816b7db-b333-48e7-b8af-1c9b1a1c7cf5"
      },
      "outputs": [
        {
          "output_type": "display_data",
          "data": {
            "text/plain": [
              "Downloading (…)solve/main/vocab.txt:   0%|          | 0.00/213k [00:00<?, ?B/s]"
            ],
            "application/vnd.jupyter.widget-view+json": {
              "version_major": 2,
              "version_minor": 0,
              "model_id": "a4aab9b2f0834bb9aeb28031e3db8203"
            }
          },
          "metadata": {}
        },
        {
          "output_type": "display_data",
          "data": {
            "text/plain": [
              "Downloading (…)okenizer_config.json:   0%|          | 0.00/29.0 [00:00<?, ?B/s]"
            ],
            "application/vnd.jupyter.widget-view+json": {
              "version_major": 2,
              "version_minor": 0,
              "model_id": "ef45bbc05d724ce99a95552a33f87c70"
            }
          },
          "metadata": {}
        },
        {
          "output_type": "display_data",
          "data": {
            "text/plain": [
              "Downloading (…)lve/main/config.json:   0%|          | 0.00/570 [00:00<?, ?B/s]"
            ],
            "application/vnd.jupyter.widget-view+json": {
              "version_major": 2,
              "version_minor": 0,
              "model_id": "426d351ccbc34f599bdaa86441ac207e"
            }
          },
          "metadata": {}
        },
        {
          "output_type": "display_data",
          "data": {
            "text/plain": [
              "Downloading (…)\"tf_model.h5\";:   0%|          | 0.00/527M [00:00<?, ?B/s]"
            ],
            "application/vnd.jupyter.widget-view+json": {
              "version_major": 2,
              "version_minor": 0,
              "model_id": "0e559d42cd3f4237ac9d4f34b06fe38c"
            }
          },
          "metadata": {}
        },
        {
          "output_type": "stream",
          "name": "stderr",
          "text": [
            "Some layers from the model checkpoint at bert-base-cased were not used when initializing TFBertModel: ['mlm___cls', 'nsp___cls']\n",
            "- This IS expected if you are initializing TFBertModel from the checkpoint of a model trained on another task or with another architecture (e.g. initializing a BertForSequenceClassification model from a BertForPreTraining model).\n",
            "- This IS NOT expected if you are initializing TFBertModel from the checkpoint of a model that you expect to be exactly identical (initializing a BertForSequenceClassification model from a BertForSequenceClassification model).\n",
            "All the layers of TFBertModel were initialized from the model checkpoint at bert-base-cased.\n",
            "If your task is similar to the task the model of the checkpoint was trained on, you can already use TFBertModel for predictions without further training.\n"
          ]
        }
      ],
      "source": [
        "bert_tokenizer = BertTokenizer.from_pretrained('bert-base-cased')\n",
        "bert_model = TFBertModel.from_pretrained('bert-base-cased')"
      ]
    },
    {
      "cell_type": "markdown",
      "metadata": {
        "id": "BuBp01dtAZ4e"
      },
      "source": [
        "Next, we will preprocess our train and test data for use in the BERT model. We need to convert our documents into vocab IDs, like we did above with the Word2Vec vocabulary. But this time we'll use the BERT tokenizer, which has a different vocabulary specific to the BERT model we're going to use."
      ]
    },
    {
      "cell_type": "code",
      "source": [
        "bert_tokenizer.tokenize('I am so busy every day')"
      ],
      "metadata": {
        "colab": {
          "base_uri": "https://localhost:8080/"
        },
        "id": "3iiYuakeYqMH",
        "outputId": "37bc2e88-8541-427e-8377-dfc57d970eb9"
      },
      "execution_count": 19,
      "outputs": [
        {
          "output_type": "execute_result",
          "data": {
            "text/plain": [
              "['I', 'am', 'so', 'busy', 'every', 'day']"
            ]
          },
          "metadata": {},
          "execution_count": 19
        }
      ]
    },
    {
      "cell_type": "code",
      "source": [
        "bert_tokenizer.tokenize('This tree is 1253 years old.')"
      ],
      "metadata": {
        "colab": {
          "base_uri": "https://localhost:8080/"
        },
        "id": "1GFou3kEY8J_",
        "outputId": "d2be6d5e-0d37-42e2-d888-f2a58274bf3c"
      },
      "execution_count": 20,
      "outputs": [
        {
          "output_type": "execute_result",
          "data": {
            "text/plain": [
              "['This', 'tree', 'is', '125', '##3', 'years', 'old', '.']"
            ]
          },
          "metadata": {},
          "execution_count": 20
        }
      ]
    },
    {
      "cell_type": "code",
      "source": [
        "bert_tokenizer.tokenize('Pneumonia can be very serious.')"
      ],
      "metadata": {
        "colab": {
          "base_uri": "https://localhost:8080/"
        },
        "id": "ZMTPIuWHY9n0",
        "outputId": "315aa560-cf3b-4d45-f61a-d1e95333361d"
      },
      "execution_count": 21,
      "outputs": [
        {
          "output_type": "execute_result",
          "data": {
            "text/plain": [
              "['P', '##ne', '##um', '##onia', 'can', 'be', 'very', 'serious', '.']"
            ]
          },
          "metadata": {},
          "execution_count": 21
        }
      ]
    },
    {
      "cell_type": "code",
      "source": [
        "print(len(bert_model.weights))\n",
        "bert_model.weights[0]\n",
        "# bert_model.weights"
      ],
      "metadata": {
        "colab": {
          "base_uri": "https://localhost:8080/"
        },
        "id": "lYUPGs2wbW9M",
        "outputId": "08d00f97-82bc-4f4a-907f-193cb48e2594"
      },
      "execution_count": 22,
      "outputs": [
        {
          "output_type": "stream",
          "name": "stdout",
          "text": [
            "199\n"
          ]
        },
        {
          "output_type": "execute_result",
          "data": {
            "text/plain": [
              "<tf.Variable 'tf_bert_model/bert/embeddings/word_embeddings/weight:0' shape=(28996, 768) dtype=float32, numpy=\n",
              "array([[-0.00054784, -0.04156886,  0.01308366, ..., -0.0038919 ,\n",
              "        -0.0335485 ,  0.0149841 ],\n",
              "       [ 0.01688265, -0.03106827,  0.0042053 , ..., -0.01474032,\n",
              "        -0.03561099, -0.0036223 ],\n",
              "       [-0.00057234, -0.02673604,  0.00803954, ..., -0.01002474,\n",
              "        -0.0331164 , -0.01651673],\n",
              "       ...,\n",
              "       [-0.00643814,  0.01658491, -0.02035619, ..., -0.04178825,\n",
              "        -0.049201  ,  0.00416085],\n",
              "       [-0.00483562, -0.00267701, -0.02901638, ..., -0.05116647,\n",
              "         0.00449265, -0.01177113],\n",
              "       [ 0.03134822, -0.02974372, -0.02302896, ..., -0.01454749,\n",
              "        -0.05249038,  0.02843569]], dtype=float32)>"
            ]
          },
          "metadata": {},
          "execution_count": 22
        }
      ]
    },
    {
      "cell_type": "markdown",
      "source": [
        "Ouch! Many more complex terms are not in BERT's vocabulary and are split up.\n",
        "\n",
        "## Text Classification with BERT (using the Pooler Output)\n",
        "\n",
        "The BERT model returns two values that can be exploited for classification purposes. One is the last_hidden_state which is the sequence of hidden-states at the output of the last layer of the model.  The second one is the pooler output, with is the output of the [CLS] token where another linear layer is added on top followed by a tanh. This pooler output can be used for classification purposes.\n",
        "\n",
        "Let us create the data. More will be discussed in class. (We can limit the training and test data sizes for expedience in class.)"
      ],
      "metadata": {
        "id": "prOp8u_-ZXzt"
      }
    },
    {
      "cell_type": "code",
      "source": [
        "train_examples[:2]"
      ],
      "metadata": {
        "colab": {
          "base_uri": "https://localhost:8080/"
        },
        "id": "z_ldC3joapHM",
        "outputId": "68e47f63-77bf-481e-ed80-d58f45285ec1"
      },
      "execution_count": 23,
      "outputs": [
        {
          "output_type": "execute_result",
          "data": {
            "text/plain": [
              "<tf.Tensor: shape=(2,), dtype=string, numpy=\n",
              "array([b\"This was an absolutely terrible movie. Don't be lured in by Christopher Walken or Michael Ironside. Both are great actors, but this must simply be their worst role in history. Even their great acting could not redeem this movie's ridiculous storyline. This movie is an early nineties US propaganda piece. The most pathetic scenes were those when the Columbian rebels were making their cases for revolutions. Maria Conchita Alonso appeared phony, and her pseudo-love affair with Walken was nothing but a pathetic emotional plug in a movie that was devoid of any real meaning. I am disappointed that there are movies like this, ruining actor's like Christopher Walken's good name. I could barely sit through it.\",\n",
              "       b'I have been known to fall asleep during films, but this is usually due to a combination of things including, really tired, being warm and comfortable on the sette and having just eaten a lot. However on this occasion I fell asleep because the film was rubbish. The plot development was constant. Constantly slow and boring. Things seemed to happen, but with no explanation of what was causing them or why. I admit, I may have missed part of the film, but i watched the majority of it and everything just seemed to happen of its own accord without any real concern for anything else. I cant recommend this film at all.'],\n",
              "      dtype=object)>"
            ]
          },
          "metadata": {},
          "execution_count": 23
        }
      ]
    },
    {
      "cell_type": "code",
      "source": [
        "train_examples[:2].numpy()"
      ],
      "metadata": {
        "colab": {
          "base_uri": "https://localhost:8080/"
        },
        "id": "zDdpRP33avSG",
        "outputId": "32f3d423-0f51-498c-c3ca-05e0c1ff831b"
      },
      "execution_count": 24,
      "outputs": [
        {
          "output_type": "execute_result",
          "data": {
            "text/plain": [
              "array([b\"This was an absolutely terrible movie. Don't be lured in by Christopher Walken or Michael Ironside. Both are great actors, but this must simply be their worst role in history. Even their great acting could not redeem this movie's ridiculous storyline. This movie is an early nineties US propaganda piece. The most pathetic scenes were those when the Columbian rebels were making their cases for revolutions. Maria Conchita Alonso appeared phony, and her pseudo-love affair with Walken was nothing but a pathetic emotional plug in a movie that was devoid of any real meaning. I am disappointed that there are movies like this, ruining actor's like Christopher Walken's good name. I could barely sit through it.\",\n",
              "       b'I have been known to fall asleep during films, but this is usually due to a combination of things including, really tired, being warm and comfortable on the sette and having just eaten a lot. However on this occasion I fell asleep because the film was rubbish. The plot development was constant. Constantly slow and boring. Things seemed to happen, but with no explanation of what was causing them or why. I admit, I may have missed part of the film, but i watched the majority of it and everything just seemed to happen of its own accord without any real concern for anything else. I cant recommend this film at all.'],\n",
              "      dtype=object)"
            ]
          },
          "metadata": {},
          "execution_count": 24
        }
      ]
    },
    {
      "cell_type": "code",
      "execution_count": 28,
      "metadata": {
        "id": "cpSk9zvw532w"
      },
      "outputs": [],
      "source": [
        "#@title BERT Tokenization of training and test data\n",
        "\n",
        "train_examples_str = [x.decode('utf-8') for x in train_examples.numpy()]\n",
        "test_examples_str = [x.decode('utf-8') for x in test_examples.numpy()]\n",
        "\n",
        "bert_train_tokenized = bert_tokenizer(train_examples_str,\n",
        "              max_length=MAX_SEQUENCE_LENGTH,\n",
        "              truncation=True,\n",
        "              padding='max_length',\n",
        "              return_tensors='tf')\n",
        "bert_train_inputs = [bert_train_tokenized.input_ids,\n",
        "                     bert_train_tokenized.token_type_ids,\n",
        "                     bert_train_tokenized.attention_mask]\n",
        "bert_train_labels = np.array(train_labels)\n",
        "\n",
        "bert_test_tokenized = bert_tokenizer(test_examples_str,\n",
        "              max_length=MAX_SEQUENCE_LENGTH,\n",
        "              truncation=True,\n",
        "              padding='max_length',\n",
        "              return_tensors='tf')\n",
        "bert_test_inputs = [bert_test_tokenized.input_ids,\n",
        "                     bert_test_tokenized.token_type_ids,\n",
        "                     bert_test_tokenized.attention_mask]\n",
        "bert_test_labels = np.array(test_labels)"
      ]
    },
    {
      "cell_type": "code",
      "source": [
        "bert_train_inputs[:10]"
      ],
      "metadata": {
        "colab": {
          "base_uri": "https://localhost:8080/"
        },
        "id": "wxRiOrEVZkFT",
        "outputId": "bc87f9c0-b63a-4ce9-a98d-4ad8a6ed454d"
      },
      "execution_count": 29,
      "outputs": [
        {
          "output_type": "execute_result",
          "data": {
            "text/plain": [
              "[<tf.Tensor: shape=(20000, 100), dtype=int32, numpy=\n",
              " array([[  101,  1188,  1108, ...,  1123, 23563,   102],\n",
              "        [  101,   146,  1138, ...,  1133,   178,   102],\n",
              "        [  101, 10852,  6810, ..., 16562,  1115,   102],\n",
              "        ...,\n",
              "        [  101, 10899,   117, ...,   163, 13041,   102],\n",
              "        [  101,  1966,   146, ...,  1109,  1864,   102],\n",
              "        [  101,  1188,   181, ...,  1107,  1385,   102]], dtype=int32)>,\n",
              " <tf.Tensor: shape=(20000, 100), dtype=int32, numpy=\n",
              " array([[0, 0, 0, ..., 0, 0, 0],\n",
              "        [0, 0, 0, ..., 0, 0, 0],\n",
              "        [0, 0, 0, ..., 0, 0, 0],\n",
              "        ...,\n",
              "        [0, 0, 0, ..., 0, 0, 0],\n",
              "        [0, 0, 0, ..., 0, 0, 0],\n",
              "        [0, 0, 0, ..., 0, 0, 0]], dtype=int32)>,\n",
              " <tf.Tensor: shape=(20000, 100), dtype=int32, numpy=\n",
              " array([[1, 1, 1, ..., 1, 1, 1],\n",
              "        [1, 1, 1, ..., 1, 1, 1],\n",
              "        [1, 1, 1, ..., 1, 1, 1],\n",
              "        ...,\n",
              "        [1, 1, 1, ..., 1, 1, 1],\n",
              "        [1, 1, 1, ..., 1, 1, 1],\n",
              "        [1, 1, 1, ..., 1, 1, 1]], dtype=int32)>]"
            ]
          },
          "metadata": {},
          "execution_count": 29
        }
      ]
    },
    {
      "cell_type": "code",
      "source": [
        "print(bert_train_labels)\n",
        "bert_train_labels[:10]"
      ],
      "metadata": {
        "colab": {
          "base_uri": "https://localhost:8080/"
        },
        "id": "JrBMjqEmZj69",
        "outputId": "a994c942-d000-48f6-a601-53cf4a9fd1b1"
      },
      "execution_count": 30,
      "outputs": [
        {
          "output_type": "stream",
          "name": "stdout",
          "text": [
            "[0 0 0 ... 0 0 0]\n"
          ]
        },
        {
          "output_type": "execute_result",
          "data": {
            "text/plain": [
              "array([0, 0, 0, 1, 1, 1, 0, 0, 0, 0])"
            ]
          },
          "metadata": {},
          "execution_count": 30
        }
      ]
    },
    {
      "cell_type": "markdown",
      "metadata": {
        "id": "myNK4ZhQDQBL"
      },
      "source": [
        "Overall, here are the key variables and sets that we encoded for word2vec and BERT and that may be used moving forward. If the variable naming does not make it obvious, we also state the purpose:\n",
        "\n",
        "#### Parameters:\n",
        "\n",
        "* MAX_SEQUENCE_LENGTH (100)\n",
        "\n",
        "\n",
        "#### Word2vec-based models:\n",
        "\n",
        "* train(/test)_input_ids: input ids for the training(/test) sets for word2vec models\n",
        "* train(/test)_input_labels: the corresponding labels\n",
        "\n",
        "#### BERT:\n",
        "\n",
        "\n",
        "* bert_train(/test)_inputs: list of input_ids, token_type_ids and attention_mask for the training(/test) sets for BERT models\n",
        "* bert_train(/test)_labels: the corresponding labels for BERT\n",
        "\n",
        "**NOTE:** We recommend you inspect these variables if you have not gone through the code."
      ]
    },
    {
      "cell_type": "markdown",
      "metadata": {
        "id": "vzbPHBf3GP2O"
      },
      "source": [
        "## 2. Classification with various Word2Vec-based Models"
      ]
    },
    {
      "cell_type": "markdown",
      "metadata": {
        "id": "H7yp2gI-AtCl"
      },
      "source": [
        "**QUESTION:**\n",
        "\n",
        "2.a. Revisit the dataset. Is it balanced? Find the percentage of positive examples in the training set. (Copy and paste the decimal value for the highest validation accuracy, e.g. a number like 0.5678 or 0.8765)"
      ]
    },
    {
      "cell_type": "code",
      "source": [
        "print(type(train_input_labels))\n",
        "print(len(np.where(train_labels==1)[0]))\n",
        "print(len(np.where(train_input_labels==1)[0]))\n",
        "print(len(train_labels))\n",
        "print(len(train_input_labels))\n",
        "print(train_input_labels.shape)\n",
        "# test_labels"
      ],
      "metadata": {
        "colab": {
          "base_uri": "https://localhost:8080/"
        },
        "id": "f8OdJy0HelVx",
        "outputId": "88f6ed10-7eba-4c98-d532-29102cfb06ed"
      },
      "execution_count": 36,
      "outputs": [
        {
          "output_type": "stream",
          "name": "stdout",
          "text": [
            "<class 'numpy.ndarray'>\n",
            "9969\n",
            "9969\n",
            "20000\n",
            "20000\n",
            "(20000,)\n"
          ]
        }
      ]
    },
    {
      "cell_type": "code",
      "execution_count": 37,
      "metadata": {
        "id": "x6EAE6cjA9jM",
        "colab": {
          "base_uri": "https://localhost:8080/"
        },
        "outputId": "bfa3cb6e-b384-415d-da8e-958574052a27"
      },
      "outputs": [
        {
          "output_type": "stream",
          "name": "stdout",
          "text": [
            "Numer of positive samples = 9969\n",
            "Total number of data samples = 20000\n",
            "\n",
            "Positive Examples in the Training Set = 49.845% (0.49845)\n"
          ]
        }
      ],
      "source": [
        "### YOUR CODE HERE\n",
        "count_pos = len(np.where(train_input_labels==1)[0])\n",
        "perc_pos = np.round(count_pos/len(train_input_labels), 5)\n",
        "print(f'Numer of positive samples = {count_pos}\\nTotal number of data samples = {len(train_input_labels)}')\n",
        "print(f'\\nPositive Examples in the Training Set = {(perc_pos*100).round(5)}% ({perc_pos})')\n",
        "\n",
        "### END YOUR CODE"
      ]
    },
    {
      "cell_type": "markdown",
      "metadata": {
        "id": "mGkEVpmu6Bs2"
      },
      "source": [
        "**QUESTION:**\n",
        "\n",
        "2.b. Now find the percentage of positive examples in the test set.  (Copy and paste the decimal value for the highest validation accuracy, e.g. a number like 0.5678 or 0.8765)"
      ]
    },
    {
      "cell_type": "code",
      "execution_count": 38,
      "metadata": {
        "id": "2K_8eBTHArme",
        "colab": {
          "base_uri": "https://localhost:8080/"
        },
        "outputId": "5bff6fc0-2f27-411b-b4e7-1760772972de"
      },
      "outputs": [
        {
          "output_type": "stream",
          "name": "stdout",
          "text": [
            "Numer of positive samples = 2513\n",
            "Total number of data samples = 5000\n",
            "\n",
            "Positive Examples in the Test Set = 50.26% (0.5026)\n"
          ]
        }
      ],
      "source": [
        "### YOUR CODE HERE\n",
        "count_pos = len(np.where(test_input_labels==1)[0])\n",
        "perc_pos = np.round(count_pos/len(test_input_labels),5)\n",
        "print(f'Numer of positive samples = {count_pos}\\nTotal number of data samples = {len(test_input_labels)}')\n",
        "print(f'\\nPositive Examples in the Test Set = {(perc_pos*100).round(5)}% ({perc_pos})')\n",
        "\n",
        "### END YOUR CODE"
      ]
    },
    {
      "cell_type": "markdown",
      "source": [],
      "metadata": {
        "id": "qx-QQKVJsxvY"
      }
    },
    {
      "cell_type": "markdown",
      "metadata": {
        "id": "JY6X0wL3BQKD"
      },
      "source": [
        "### 2.1 The Role of Shuffling of the Training Set\n",
        "\n",
        "\n",
        "We will first revisit the DAN model. \n",
        "\n",
        "2. Reuse the code from the class notebook to build a DAN network with one hidden layer of dimension 100. The optimizer should be Adam. Wrap the model creation in a function according to this API:\n",
        "\n",
        "unshuffled: 50%, shuffled: 75%\n",
        "need only one hidden layer (1 layer with 100 neurons) pass \"h_dim\"=[100] => l layer with 100 nodes"
      ]
    },
    {
      "cell_type": "code",
      "source": [
        "def create_dan_model(retrain_embeddings=False, \n",
        "                     max_sequence_length=MAX_SEQUENCE_LENGTH,\n",
        "                     hidden_dim=100,\n",
        "                     dropout=0.3,\n",
        "                     embedding_initializer='word2vec', \n",
        "                     learning_rate=0.001):\n",
        "  \"\"\"\n",
        "  Construct the DAN model including the compilation and return it. Parametrize it using the arguments.\n",
        "  :param retrain_embeddings: boolean, indicating whether  the word embeddings are trainable\n",
        "  :param hidden_dim: dimension of the hidden layer\n",
        "  :param dropout: dropout applied to the hidden layer\n",
        "\n",
        "  :returns: the compiled model\n",
        "  \"\"\"\n",
        "\n",
        "  if embedding_initializer == 'word2vec':\n",
        "    embeddings_initializer=tf.keras.initializers.Constant(embedding_matrix)\n",
        "  else:\n",
        "    embeddings_initializer='uniform'\n",
        "\n",
        "  \n",
        "  ### YOUR CODE HERE\n",
        "\n",
        "  # start by creating the dan_embedding_layer. Use the embeddings_initializer. variable defined above.\n",
        "\n",
        "  # Input layer\n",
        "  dan_input_layer = tf.keras.layers.Input(shape=(MAX_SEQUENCE_LENGTH,), dtype='int64')\n",
        "\n",
        "  # Embedding layer\n",
        "  dan_embedding_layer = Embedding(embedding_matrix.shape[0],\n",
        "                                  embedding_matrix.shape[1],\n",
        "                                  embeddings_initializer=embeddings_initializer,\n",
        "                                  input_length=MAX_SEQUENCE_LENGTH,\n",
        "                                  trainable=retrain_embeddings)\n",
        "  dan_embeddings = dan_embedding_layer(dan_input_layer)\n",
        "\n",
        "  # Average embedding layer\n",
        "  dan_avg_embeddings = tf.keras.layers.Lambda(lambda x: K.mean(x, axis=1),\n",
        "                                              name='averaging')(dan_embeddings)\n",
        "  last_hidden_output = dan_avg_embeddings\n",
        "\n",
        "  # Dense (fully-connected) layer\n",
        "  last_hidden_output = tf.keras.layers.Dense(hidden_dim, activation='relu', name='dan_hidden_%d' % i)(last_hidden_output)\n",
        "\n",
        "  # Dropout layer\n",
        "  last_hidden_output = tf.keras.layers.Dropout(dropout)(last_hidden_output)\n",
        "  \n",
        "  # Output layer\n",
        "  dan_classification = tf.keras.layers.Dense(1, activation='sigmoid', name='dan_classification')(last_hidden_output)\n",
        "  \n",
        "  # Model\n",
        "  dan_model = tf.keras.models.Model(inputs=dan_input_layer, outputs=[dan_classification])\n",
        "\n",
        "  # Model compile\n",
        "  dan_model.compile(loss='binary_crossentropy',\n",
        "                    optimizer=tf.keras.optimizers.Adam(learning_rate=learning_rate,\n",
        "                                                        beta_1=0.9,\n",
        "                                                        beta_2=0.999,\n",
        "                                                        epsilon=1e-07,\n",
        "                                                        amsgrad=False,\n",
        "                                                        name='Adam'),\n",
        "                    metrics='accuracy')\n",
        "\n",
        "  ### END YOUR CODE\n",
        "  return dan_model"
      ],
      "metadata": {
        "id": "s_4bxHwhFdju"
      },
      "execution_count": 39,
      "outputs": []
    },
    {
      "cell_type": "markdown",
      "metadata": {
        "id": "Hb4LOJkFlYwF"
      },
      "source": [
        "Let us create a sorted version of the training dataset to run our simulations:"
      ]
    },
    {
      "cell_type": "code",
      "execution_count": 40,
      "metadata": {
        "id": "ZX2hWslCflw1",
        "colab": {
          "base_uri": "https://localhost:8080/"
        },
        "outputId": "b0818575-f7b4-4f04-a3bd-2c11cfb156a7"
      },
      "outputs": [
        {
          "output_type": "stream",
          "name": "stdout",
          "text": [
            "[[21531 25272 12291 ... 36633  9483 42958]\n",
            " [12139  7841 19666 ... 14087  9370 33458]\n",
            " [ 9405 40803 14193 ... 43036 11511 43981]\n",
            " ...\n",
            " [15402 28743 38632 ... 43981 32026 14193]\n",
            " [23487 42375 43981 ... 43981 43981 43981]\n",
            " [21531 16908  2230 ... 19123 14193 19791]]\n",
            "[0 0 0 ... 1 1 1]\n"
          ]
        }
      ],
      "source": [
        "sorted_train_input_data = [(x, y) for (x, y) in zip(list(train_input_ids), list(train_input_labels))]\n",
        "sorted_train_input_data.sort(key = lambda x: x[1])\n",
        "sorted_training_input_ids = np.array([x[0] for x in sorted_train_input_data])\n",
        "sorted_training_labels = np.array([x[1] for x in sorted_train_input_data])\n",
        "\n",
        "print(sorted_training_input_ids)\n",
        "print(sorted_training_labels)"
      ]
    },
    {
      "cell_type": "markdown",
      "metadata": {
        "id": "riQ59wcQmtzs"
      },
      "source": [
        "Next, create your DAN model using the default parameters and train it by:\n",
        "\n",
        "1.  Using the sorted dataset\n",
        "2.  Using 'shuffle=False' as one of the model.fit parameters.\n",
        "3.  Train for 10 epochs with a batch size of 32\n",
        "\n",
        "Make sure you store the history (name it 'dan_sorted_history') as we did in the lesson notebooks. \n",
        "\n"
      ]
    },
    {
      "cell_type": "code",
      "execution_count": 41,
      "metadata": {
        "id": "SIgwDUfpi7nu",
        "colab": {
          "base_uri": "https://localhost:8080/"
        },
        "outputId": "d65ea496-b2f7-4e5a-d435-6ad7f05470fe"
      },
      "outputs": [
        {
          "output_type": "stream",
          "name": "stdout",
          "text": [
            "Epoch 1/10\n",
            "625/625 [==============================] - 3s 3ms/step - loss: 0.4426 - accuracy: 0.8433 - val_loss: 1.5195 - val_accuracy: 0.5026\n",
            "Epoch 2/10\n",
            "625/625 [==============================] - 2s 3ms/step - loss: 0.7796 - accuracy: 0.4983 - val_loss: 1.6194 - val_accuracy: 0.5026\n",
            "Epoch 3/10\n",
            "625/625 [==============================] - 2s 3ms/step - loss: 0.7843 - accuracy: 0.5659 - val_loss: 0.8928 - val_accuracy: 0.5026\n",
            "Epoch 4/10\n",
            "625/625 [==============================] - 2s 3ms/step - loss: 0.6779 - accuracy: 0.5989 - val_loss: 0.9271 - val_accuracy: 0.5026\n",
            "Epoch 5/10\n",
            "625/625 [==============================] - 2s 3ms/step - loss: 0.6671 - accuracy: 0.6142 - val_loss: 0.9525 - val_accuracy: 0.5026\n",
            "Epoch 6/10\n",
            "625/625 [==============================] - 2s 3ms/step - loss: 0.6597 - accuracy: 0.6296 - val_loss: 0.9752 - val_accuracy: 0.5026\n",
            "Epoch 7/10\n",
            "625/625 [==============================] - 2s 3ms/step - loss: 0.6525 - accuracy: 0.6392 - val_loss: 0.9997 - val_accuracy: 0.5026\n",
            "Epoch 8/10\n",
            "625/625 [==============================] - 2s 3ms/step - loss: 0.6400 - accuracy: 0.6669 - val_loss: 1.0900 - val_accuracy: 0.5026\n",
            "Epoch 9/10\n",
            "625/625 [==============================] - 2s 3ms/step - loss: 0.6227 - accuracy: 0.6824 - val_loss: 1.0811 - val_accuracy: 0.5026\n",
            "Epoch 10/10\n",
            "625/625 [==============================] - 2s 3ms/step - loss: 0.6138 - accuracy: 0.6895 - val_loss: 1.0899 - val_accuracy: 0.5026\n"
          ]
        }
      ],
      "source": [
        "### YOUR CODE HERE\n",
        "\n",
        "dan_model_sorted = create_dan_model()\n",
        "\n",
        "dan_sorted_history = dan_model_sorted.fit(sorted_training_input_ids,\n",
        "                                          sorted_training_labels,\n",
        "                                          validation_data=(test_input_ids, test_input_labels),\n",
        "                                          shuffle=False,\n",
        "                                          batch_size=32,\n",
        "                                          epochs=10)\n",
        "\n",
        "#use dan_sorted_history = ... below\n",
        "### END YOUR CODE                        "
      ]
    },
    {
      "cell_type": "markdown",
      "metadata": {
        "id": "a4zFifGHMS1S"
      },
      "source": [
        "**QUESTION:**\n",
        "\n",
        "2.1.a What is the highest validation accuracy that you observed after you completed the 10 epochs? (Copy and paste the decimal value for the highest validation accuracy, e.g. a number like 0.5678 or 0.8765)\n",
        "\n",
        "Hint: You should have an accuracy number above 0.30.\n",
        "\n"
      ]
    },
    {
      "cell_type": "code",
      "source": [
        "# print(round(dan_sorted_history.history['val_accuracy'][-1], 5))\n",
        "print('The highest val_accuracy: {:.5f}'.format(max(dan_sorted_history.history['val_accuracy'])))"
      ],
      "metadata": {
        "colab": {
          "base_uri": "https://localhost:8080/"
        },
        "id": "Sf1Q6dYeHRjk",
        "outputId": "f0c39ab7-af68-4447-eada-db257968061c"
      },
      "execution_count": 42,
      "outputs": [
        {
          "output_type": "stream",
          "name": "stdout",
          "text": [
            "The highest val_accuracy: 0.50260\n"
          ]
        }
      ]
    },
    {
      "cell_type": "markdown",
      "metadata": {
        "id": "RUNYdZ8rnaNX"
      },
      "source": [
        "Next, recreate the same model and train it with **'shuffle=True'**. (Note that this is also the default.). Use 'dan_shuffled_history' for the history."
      ]
    },
    {
      "cell_type": "code",
      "execution_count": 43,
      "metadata": {
        "id": "fEsrjV2QkCo_",
        "colab": {
          "base_uri": "https://localhost:8080/"
        },
        "outputId": "5c48dc36-575d-4936-df9f-4f6aad448913"
      },
      "outputs": [
        {
          "output_type": "stream",
          "name": "stdout",
          "text": [
            "Epoch 1/10\n",
            "625/625 [==============================] - 2s 3ms/step - loss: 0.6435 - accuracy: 0.6498 - val_loss: 0.5961 - val_accuracy: 0.7034\n",
            "Epoch 2/10\n",
            "625/625 [==============================] - 2s 3ms/step - loss: 0.5571 - accuracy: 0.7278 - val_loss: 0.5450 - val_accuracy: 0.7308\n",
            "Epoch 3/10\n",
            "625/625 [==============================] - 2s 3ms/step - loss: 0.5253 - accuracy: 0.7441 - val_loss: 0.5270 - val_accuracy: 0.7368\n",
            "Epoch 4/10\n",
            "625/625 [==============================] - 2s 3ms/step - loss: 0.5110 - accuracy: 0.7511 - val_loss: 0.5211 - val_accuracy: 0.7402\n",
            "Epoch 5/10\n",
            "625/625 [==============================] - 2s 3ms/step - loss: 0.5019 - accuracy: 0.7586 - val_loss: 0.5107 - val_accuracy: 0.7526\n",
            "Epoch 6/10\n",
            "625/625 [==============================] - 2s 3ms/step - loss: 0.4957 - accuracy: 0.7614 - val_loss: 0.5067 - val_accuracy: 0.7546\n",
            "Epoch 7/10\n",
            "625/625 [==============================] - 2s 3ms/step - loss: 0.4903 - accuracy: 0.7628 - val_loss: 0.5040 - val_accuracy: 0.7568\n",
            "Epoch 8/10\n",
            "625/625 [==============================] - 2s 3ms/step - loss: 0.4871 - accuracy: 0.7659 - val_loss: 0.4980 - val_accuracy: 0.7572\n",
            "Epoch 9/10\n",
            "625/625 [==============================] - 2s 3ms/step - loss: 0.4834 - accuracy: 0.7674 - val_loss: 0.4967 - val_accuracy: 0.7608\n",
            "Epoch 10/10\n",
            "625/625 [==============================] - 2s 3ms/step - loss: 0.4802 - accuracy: 0.7693 - val_loss: 0.4981 - val_accuracy: 0.7616\n"
          ]
        }
      ],
      "source": [
        "### YOUR CODE HERE\n",
        "\n",
        "dan_model_shuffled = create_dan_model()       \n",
        "\n",
        "dan_shuffled_history = dan_model_shuffled.fit(sorted_training_input_ids,\n",
        "                                              sorted_training_labels,\n",
        "                                              validation_data=(test_input_ids, test_input_labels),\n",
        "                                              shuffle=True,\n",
        "                                              batch_size=32,\n",
        "                                              epochs=10)\n",
        "\n",
        "#use dan_shuffled_history = ... below\n",
        "\n",
        "### END YOUR CODE                        "
      ]
    },
    {
      "cell_type": "markdown",
      "metadata": {
        "id": "sXs6UX44ko7P"
      },
      "source": [
        "**QUESTION:**\n",
        "\n",
        "2.1.b What is the highest validation accuracy that you observed for the shuffled run after completing 10 epochs? (Copy and paste the decimal value for the highest validation accuracy, e.g. a number like 0.5678 or 0.8765)\n"
      ]
    },
    {
      "cell_type": "code",
      "source": [
        "# print(round(dan_shuffled_history.history['val_accuracy'][-1], 5))\n",
        "print('The highest val_accuracy: {:.5f}'.format(max(dan_shuffled_history.history['val_accuracy'])))"
      ],
      "metadata": {
        "colab": {
          "base_uri": "https://localhost:8080/"
        },
        "id": "tbIvlL9yH1Gt",
        "outputId": "bf7309b4-caeb-4316-a024-f9aa62cb2cd4"
      },
      "execution_count": 44,
      "outputs": [
        {
          "output_type": "stream",
          "name": "stdout",
          "text": [
            "The highest val_accuracy: 0.76160\n"
          ]
        }
      ]
    },
    {
      "cell_type": "markdown",
      "metadata": {
        "id": "BYCwHBzyoY0_"
      },
      "source": [
        "Compare the 2 histories in a plot."
      ]
    },
    {
      "cell_type": "code",
      "execution_count": 45,
      "metadata": {
        "id": "ZAlGkoidkun-",
        "colab": {
          "base_uri": "https://localhost:8080/",
          "height": 635
        },
        "outputId": "7fa162c8-e7e3-44cd-815b-f003de1d1ae4"
      },
      "outputs": [
        {
          "output_type": "display_data",
          "data": {
            "text/plain": [
              "<Figure size 1332x756 with 4 Axes>"
            ],
            "image/png": "[encoded data removed]"
          },
          "metadata": {
            "needs_background": "light"
          }
        }
      ],
      "source": [
        "fig, axs = plt.subplots(2, 2)\n",
        "fig.subplots_adjust(left=0.2, wspace=0.6)\n",
        "make_plot(axs, \n",
        "          dan_sorted_history,\n",
        "          dan_shuffled_history, \n",
        "          model_1_name='sorted',\n",
        "         model_2_name='shuffled')\n",
        "\n",
        "fig.align_ylabels(axs[:, 1])\n",
        "fig.set_size_inches(18.5, 10.5)\n",
        "# plt.ylim([0.4, 1])\n",
        "plt.show()"
      ]
    },
    {
      "cell_type": "markdown",
      "metadata": {
        "id": "bRWLsg0WNdcE"
      },
      "source": [
        "### 2.2 DAN vs Weighted Averaging Models using Attention \n",
        "\n",
        "#### 2.2.1. Warm-Up: Manual Attention Calculation\n",
        "\n",
        "**QUESTION:**\n",
        "\n",
        "2.2.1.a Calculate the context vector for the following query and key/value vectors. You can do this manually, or you can use \n",
        "\n",
        "\n",
        "```\n",
        "tf.keras.layers.Attention()\n",
        "```\n",
        "\n",
        "2.2.1.b What are the weights for the key/value vectors?\n",
        "\n",
        "HS: not rely on context prior\n",
        "q = query vector to see if previous context are relevant or not, k=key vector, v=value vactor and k=v\n",
        "if these two vectors are the same, they are similar. feed convex combination weights to softmax (non-linear: squash math) (prob-relative weights will be add up to 1)\n",
        "\n",
        "\n",
        "\n"
      ]
    },
    {
      "cell_type": "code",
      "execution_count": 46,
      "metadata": {
        "id": "fpLZyRImNdz5"
      },
      "outputs": [],
      "source": [
        "from multiprocessing import Value\n",
        "q = [1, 2., 1]\n",
        "\n",
        "k1 = v1 = [-1, -1, 3.]\n",
        "k2 = v2 = [1, 2, -5.]\n",
        "# they are alwasy go together. in terms of search. google search, often have something possible items to return.\n",
        "# match the doc to match.\n",
        "# query is short\n",
        "# then we might not title of the book key to match the uqery. ore match to the querydot product \n",
        "# similary score betweent he key and Valueapply weights to find value"
      ]
    },
    {
      "cell_type": "code",
      "execution_count": 47,
      "metadata": {
        "id": "DSbKYfjEOmlh",
        "colab": {
          "base_uri": "https://localhost:8080/"
        },
        "outputId": "6c9689b2-dfe6-4e0a-f977-ba620d6b5861"
      },
      "outputs": [
        {
          "output_type": "execute_result",
          "data": {
            "text/plain": [
              "(<tf.Tensor: shape=(1, 3), dtype=float32, numpy=array([[ 0. ,  0.5, -1. ]], dtype=float32)>,\n",
              " <tf.Tensor: shape=(1, 2), dtype=float32, numpy=array([[0.5, 0.5]], dtype=float32)>)"
            ]
          },
          "metadata": {},
          "execution_count": 47
        }
      ],
      "source": [
        "### YOUR CODE HERE\n",
        "query = np.array([q])\n",
        "keys_values = np.array([k1, k2])\n",
        "# print(query,'\\n',keys_values)\n",
        "\n",
        "tf.keras.layers.Attention()([query, keys_values], return_attention_scores=True)\n",
        "### END YOUR CODE\n",
        "\n",
        "# outputs  first output = prediction of movie review: weighted average vector (context vector) and then the 2nd output is the weights from attention layer"
      ]
    },
    {
      "cell_type": "markdown",
      "metadata": {
        "id": "68YFNDesI0Cv"
      },
      "source": [
        "#### 2.2.2 The 'WAN' Model\n",
        "\n",
        "\n",
        "Next, we would like to improve our DAN by attempting to train a neural net that learns to put more weight on some words than others. How could we do that? **Attention** is the answer!\n",
        "\n",
        "Here, we will build a model that you can call \"Weighted Averaging Models using Attention\". You should construct a network that uses attention to weight the input tokens for a given example.\n",
        "\n",
        "The core structure is the same as for the DAN network, so remember to re-use the embedding matrix you initialized earlier with word2vec embedding weights.\n",
        "\n",
        "However, there are obviously some critical changes from the DAN:\n",
        "\n",
        "1) How do I create a learnable query vector for the attention calculation that is supposed to generate the suitable token probabilities? And what is its size?\n",
        "\n",
        "2) What are the key vectors for the attention calculation?\n",
        "\n",
        "3) How does the averaging change? \n",
        "\n",
        "\n",
        "First, the key vectors should be the incoming word vectors.\n",
        "\n",
        "The query vector needs to have the size of the word vectors, as it needs to attend to them. A good way to create the query vector is to generate an embedding like vector easily by getting a single row of trained weights from a Dense layer if we pass in a value of one to multiply by that weight matrix in the usual way:\n",
        "\n",
        "\n",
        "```\n",
        "wan_query_layer = tf.keras.layers.Dense(embedding_matrix.shape[1])\n",
        "```\n",
        "\n",
        "That sounds great... but how do I use this to have a vector available in my calculation? And... make this vector available to all examples in the batch?\n",
        "\n",
        "What you can use is a 'fake input-like layer' that creates for each incoming batch example a '1', that then the query layer can get applied to.\n",
        "Assuming that the input layer for your network is **wan_input_layer**, this could be done with\n",
        "\n",
        "```\n",
        "wan_one_vector = tf.Variable(tf.ones((1, 1, 1)))\n",
        "wan_batch_of_ones = tf.tile(wan_one_vector, (tf.shape(wan_input_layer)[0], 1, 1)) \n",
        "```\n",
        "\n",
        "You could then have the query vector available for each example through:\n",
        "\n",
        "```\n",
        "wan_query_vector = wan_query_layer(wan_batch_of_ones)\n",
        "\n",
        "```\n",
        "\n",
        "You will see that this structure is essentially the same as what we did for word vectors, except that we had to replace the input layer with our fake layer, as there is no actual input. We will also have **2 outputs** (discussed in a bit.)\n",
        "\n",
        "How does the averaging change? You should use:\n",
        "\n",
        "```\n",
        "tf.keras.layers.Attention()\n",
        "```\n",
        "\n",
        "and make sure you consider the proper inputs and outputs for that calculation.\n",
        "\n",
        "So why 2 outputs, and how do we do that? First off, we need the output that makes the **classification**, as always. What is the second output? We also would like our model to provide us with the **attention weights** it calculated. This will tell us which words were considered how much for the context creation.\n",
        "\n",
        "Can we implement 2 outputs? You need to have a list of the two outputs. But note that you may also want to have a list of **2 cost function and 2 metrics**. You can use **'None'** both times to account for our new second output, and you can ignore the corresponding values that the model report. (In general, the total loss will be a sum of the individual losses. So one would rather construct a loss that always returns zero for the second loss, but as it is very small we can ignore this here.)\n",
        "\n",
        "Finally, you may want to **reshape the output after the Attention layer**, because the Attention layer will still give a sequence of vectors for each example. It will just be a sequence of one weighted average vector for each example. You may want to **remove that middle dimension of size one** so you just have a single vector for each example. You can do that with layers.Reshape():\n",
        "\n",
        "```\n",
        "wan_attention_output = tf.keras.layers.Reshape((wan_attention_output.shape[-1],))(wan_attention_output)\n",
        "```"
      ]
    },
    {
      "cell_type": "code",
      "source": [
        "# reshape before sigmoid.\n",
        "# needrelu activation (not required).\n",
        "# candropout is not required\n",
        "\n",
        "# attention\n",
        "# flatten (reshape) what does that output look like? each sentence will have one line. the embeddings will return a list of embeddings\n",
        "# add hidden layers with relu\n",
        "# then dropout\n",
        "# then output layer (input to the sigmoid)\n",
        "# create a model with input layer, cla\n",
        "# two matrix to be defined. need to pass metrics=['accuracy', None]\n",
        "# model returns classifcation and weights and we need to return the 2nd one, weights.\n",
        "\n",
        "# relu (dense)\n",
        "# no need loop\n",
        "# just last output\n",
        "# model has two outputs (first output: context vector and weights\n",
        "# whenever  and attention scores)\n",
        "\n",
        "# first one(k1-1st token in the input): context vector and 2nd one(k2-2nd token in the input): weights\n",
        "# 2nd and 3rd models: need to train only 3 epochs"
      ],
      "metadata": {
        "id": "9nQpZ-1TJ2E6"
      },
      "execution_count": 48,
      "outputs": []
    },
    {
      "cell_type": "code",
      "execution_count": 49,
      "metadata": {
        "id": "_9F8zY4WG3Mg"
      },
      "outputs": [],
      "source": [
        "def create_wan_model(retrain_embeddings=False, \n",
        "                     max_sequence_length=MAX_SEQUENCE_LENGTH,\n",
        "                     hidden_dim=100,\n",
        "                     dropout=0.3,\n",
        "                     embedding_initializer='word2vec',\n",
        "                     learning_rate=0.001):\n",
        "  \"\"\"\n",
        "  Construct the WAN model including the compilation and return it. Parametrize it using the arguments.\n",
        "  :param retrain_embeddings: boolean, indicating whether the word embeddings are trainable\n",
        "  :param hidden_dim: dimension of the hidden layer\n",
        "  :param dropout: dropout applied to the hidden layer\n",
        "\n",
        "  :returns: the compiled model\n",
        "  \"\"\"\n",
        "\n",
        "  if embedding_initializer == 'word2vec':\n",
        "    embeddings_initializer=tf.keras.initializers.Constant(embedding_matrix)\n",
        "  else:\n",
        "    embeddings_initializer='uniform'\n",
        "  \n",
        "  ### YOUR CODE HERE\n",
        "\n",
        "  # Input layer\n",
        "  wan_input_layer = tf.keras.layers.Input(shape=(MAX_SEQUENCE_LENGTH,), dtype='int64')\n",
        "\n",
        "  # Generate query vector\n",
        "  wan_one_vector = tf.Variable(tf.ones((1, 1, 1)))\n",
        "  wan_batch_of_ones = tf.tile(wan_one_vector, (tf.shape(wan_input_layer)[0], 1, 1))\n",
        "  wan_query_layer = tf.keras.layers.Dense(embedding_matrix.shape[1]) \n",
        "  wan_query_vector = wan_query_layer(wan_batch_of_ones)\n",
        "  \n",
        "  # Embedding layer\n",
        "  wan_embedding_layer = Embedding(embedding_matrix.shape[0],\n",
        "                                  embedding_matrix.shape[1],\n",
        "                                  embeddings_initializer=embeddings_initializer,\n",
        "                                  input_length=MAX_SEQUENCE_LENGTH,\n",
        "                                  trainable=retrain_embeddings)\n",
        "  \n",
        "  wan_embeddings = wan_embedding_layer(wan_input_layer)\n",
        "\n",
        "  # Attention layer: wan_attention_output (context vector-prediction) and attention_weights  => will use the output of this attention \n",
        "  wan_attention_output, attention_weights = tf.keras.layers.Attention()([wan_query_vector, wan_embeddings], return_attention_scores=True)\n",
        "\n",
        "  # Reshape (flatten) layer: Convert a sequence of vectors for each example (None, 1, 300) to a sequence of one weighted average vector for each example (None, 300)\n",
        "  wan_attention_output = tf.keras.layers.Reshape((wan_attention_output.shape[-1],))(wan_attention_output)\n",
        "\n",
        "  # Dense (fully-connected) layer\n",
        "  last_hidden_output = tf.keras.layers.Dense(hidden_dim, activation='relu', name='dan_hidden')(wan_attention_output)\n",
        "\n",
        "  # Dropout layer\n",
        "  last_hidden_output = tf.keras.layers.Dropout(dropout)(last_hidden_output)\n",
        "  \n",
        "  # Output layer\n",
        "  wan_classification = tf.keras.layers.Dense(1, activation='sigmoid', name='classification')(last_hidden_output)\n",
        "  \n",
        "  # Return 2 Outputs: wan_classification, attention_weights\n",
        "  wan_model = tf.keras.models.Model(inputs=wan_input_layer, outputs=[wan_classification, attention_weights])\n",
        "  wan_model.compile(loss=['binary_crossentropy', None],\n",
        "                    optimizer=tf.keras.optimizers.Adam(learning_rate=learning_rate,\n",
        "                                                        beta_1=0.9,\n",
        "                                                        beta_2=0.999,\n",
        "                                                        epsilon=1e-07,\n",
        "                                                        amsgrad=False,\n",
        "                                                        name='Adam'),\n",
        "                    metrics=['accuracy', None])\n",
        "\n",
        "  ### END YOUR CODE\n",
        "    \n",
        "  return wan_model"
      ]
    },
    {
      "cell_type": "code",
      "source": [
        "wan_model = create_wan_model()\n",
        "wan_model.summary()"
      ],
      "metadata": {
        "colab": {
          "base_uri": "https://localhost:8080/"
        },
        "id": "aKZVGumrNpDB",
        "outputId": "89524468-0c0e-4393-cd74-da59a44b8205"
      },
      "execution_count": 50,
      "outputs": [
        {
          "output_type": "stream",
          "name": "stderr",
          "text": [
            "WARNING:tensorflow:The following Variables were used in a Lambda layer's call (tf.tile), but are not present in its tracked objects:   <tf.Variable 'Variable:0' shape=(1, 1, 1) dtype=float32>. This is a strong indication that the Lambda layer should be rewritten as a subclassed Layer.\n"
          ]
        },
        {
          "output_type": "stream",
          "name": "stdout",
          "text": [
            "Model: \"model_2\"\n",
            "__________________________________________________________________________________________________\n",
            " Layer (type)                   Output Shape         Param #     Connected to                     \n",
            "==================================================================================================\n",
            " input_3 (InputLayer)           [(None, 100)]        0           []                               \n",
            "                                                                                                  \n",
            " tf.compat.v1.shape (TFOpLambda  (2,)                0           ['input_3[0][0]']                \n",
            " )                                                                                                \n",
            "                                                                                                  \n",
            " tf.__operators__.getitem (Slic  ()                  0           ['tf.compat.v1.shape[0][0]']     \n",
            " ingOpLambda)                                                                                     \n",
            "                                                                                                  \n",
            " tf.tile (TFOpLambda)           (None, 1, 1)         0           ['tf.__operators__.getitem[0][0]'\n",
            "                                                                 ]                                \n",
            "                                                                                                  \n",
            " dense (Dense)                  (None, 1, 300)       600         ['tf.tile[0][0]']                \n",
            "                                                                                                  \n",
            " embedding_2 (Embedding)        (None, 100, 300)     13194600    ['input_3[0][0]']                \n",
            "                                                                                                  \n",
            " attention_1 (Attention)        ((None, 1, 300),     0           ['dense[0][0]',                  \n",
            "                                 (None, 1, 100))                  'embedding_2[0][0]']            \n",
            "                                                                                                  \n",
            " reshape (Reshape)              (None, 300)          0           ['attention_1[0][0]']            \n",
            "                                                                                                  \n",
            " dan_hidden (Dense)             (None, 100)          30100       ['reshape[0][0]']                \n",
            "                                                                                                  \n",
            " dropout_39 (Dropout)           (None, 100)          0           ['dan_hidden[0][0]']             \n",
            "                                                                                                  \n",
            " classification (Dense)         (None, 1)            101         ['dropout_39[0][0]']             \n",
            "                                                                                                  \n",
            "==================================================================================================\n",
            "Total params: 13,225,401\n",
            "Trainable params: 30,801\n",
            "Non-trainable params: 13,194,600\n",
            "__________________________________________________________________________________________________\n"
          ]
        }
      ]
    },
    {
      "cell_type": "markdown",
      "metadata": {
        "id": "a5gnW7j8QHUo"
      },
      "source": [
        "Now train the model for the same dataset as we did for the DAN model (shuffled data) and save its history in a variable named 'wan_history'. "
      ]
    },
    {
      "cell_type": "code",
      "execution_count": 51,
      "metadata": {
        "id": "A3WYcv0CNMGC",
        "colab": {
          "base_uri": "https://localhost:8080/"
        },
        "outputId": "66e0dd71-2f8d-4f28-a4a3-1994788e76c2"
      },
      "outputs": [
        {
          "output_type": "stream",
          "name": "stdout",
          "text": [
            "Epoch 1/10\n",
            "625/625 [==============================] - 3s 4ms/step - loss: 0.5685 - classification_loss: 0.5685 - classification_accuracy: 0.7055 - attention_1_accuracy: 0.0111 - val_loss: 0.4960 - val_classification_loss: 0.4960 - val_classification_accuracy: 0.7646 - val_attention_1_accuracy: 0.0061\n",
            "Epoch 2/10\n",
            "625/625 [==============================] - 2s 3ms/step - loss: 0.4825 - classification_loss: 0.4825 - classification_accuracy: 0.7684 - attention_1_accuracy: 0.0079 - val_loss: 0.4866 - val_classification_loss: 0.4866 - val_classification_accuracy: 0.7636 - val_attention_1_accuracy: 0.0060\n",
            "Epoch 3/10\n",
            "625/625 [==============================] - 2s 3ms/step - loss: 0.4673 - classification_loss: 0.4673 - classification_accuracy: 0.7764 - attention_1_accuracy: 0.0075 - val_loss: 0.4713 - val_classification_loss: 0.4713 - val_classification_accuracy: 0.7728 - val_attention_1_accuracy: 0.0049\n",
            "Epoch 4/10\n",
            "625/625 [==============================] - 2s 4ms/step - loss: 0.4587 - classification_loss: 0.4587 - classification_accuracy: 0.7831 - attention_1_accuracy: 0.0072 - val_loss: 0.4663 - val_classification_loss: 0.4663 - val_classification_accuracy: 0.7752 - val_attention_1_accuracy: 0.0050\n",
            "Epoch 5/10\n",
            "625/625 [==============================] - 2s 4ms/step - loss: 0.4527 - classification_loss: 0.4527 - classification_accuracy: 0.7850 - attention_1_accuracy: 0.0073 - val_loss: 0.4621 - val_classification_loss: 0.4621 - val_classification_accuracy: 0.7768 - val_attention_1_accuracy: 0.0045\n",
            "Epoch 6/10\n",
            "625/625 [==============================] - 2s 4ms/step - loss: 0.4498 - classification_loss: 0.4498 - classification_accuracy: 0.7868 - attention_1_accuracy: 0.0072 - val_loss: 0.4630 - val_classification_loss: 0.4630 - val_classification_accuracy: 0.7756 - val_attention_1_accuracy: 0.0046\n",
            "Epoch 7/10\n",
            "625/625 [==============================] - 2s 4ms/step - loss: 0.4452 - classification_loss: 0.4452 - classification_accuracy: 0.7920 - attention_1_accuracy: 0.0070 - val_loss: 0.4579 - val_classification_loss: 0.4579 - val_classification_accuracy: 0.7768 - val_attention_1_accuracy: 0.0046\n",
            "Epoch 8/10\n",
            "625/625 [==============================] - 2s 4ms/step - loss: 0.4417 - classification_loss: 0.4417 - classification_accuracy: 0.7924 - attention_1_accuracy: 0.0067 - val_loss: 0.4561 - val_classification_loss: 0.4561 - val_classification_accuracy: 0.7782 - val_attention_1_accuracy: 0.0047\n",
            "Epoch 9/10\n",
            "625/625 [==============================] - 2s 4ms/step - loss: 0.4394 - classification_loss: 0.4394 - classification_accuracy: 0.7933 - attention_1_accuracy: 0.0069 - val_loss: 0.4626 - val_classification_loss: 0.4626 - val_classification_accuracy: 0.7792 - val_attention_1_accuracy: 0.0046\n",
            "Epoch 10/10\n",
            "625/625 [==============================] - 2s 4ms/step - loss: 0.4373 - classification_loss: 0.4373 - classification_accuracy: 0.7932 - attention_1_accuracy: 0.0067 - val_loss: 0.4639 - val_classification_loss: 0.4639 - val_classification_accuracy: 0.7772 - val_attention_1_accuracy: 0.0045\n"
          ]
        }
      ],
      "source": [
        "### YOUR CODE HERE\n",
        "wan_history = wan_model.fit(sorted_training_input_ids,\n",
        "                            sorted_training_labels,\n",
        "                            validation_data=(test_input_ids, test_input_labels),\n",
        "                            shuffle=True,\n",
        "                            batch_size=32,\n",
        "                            epochs=10)\n",
        "\n",
        "# use wan_history = ... below\n",
        "\n",
        "\n",
        "### END YOUR CODE"
      ]
    },
    {
      "cell_type": "markdown",
      "metadata": {
        "id": "8P0r4zH4k59o"
      },
      "source": [
        "**QUESTION:**\n",
        "\n",
        "2.2.2.a What is the highest validation accuracy that you observed for the wan training after 10 epochs? (Copy and paste the decimal value for the highest validation accuracy, e.g. a number like 0.5678 or 0.8765)\n"
      ]
    },
    {
      "cell_type": "code",
      "source": [
        "# print(wan_history.history.keys())\n",
        "# print('The highest val_accuracy: {:.5f}'.format(max(wan_history.history['val_accuracy'])))\n",
        "print('The highest val_accuracy: {:.5f}'.format(max(wan_history.history['val_classification_accuracy'])))"
      ],
      "metadata": {
        "id": "iQ9kiRozoWBn",
        "outputId": "9027f6a4-ee09-439f-a0ed-041acfb23a8e",
        "colab": {
          "base_uri": "https://localhost:8080/"
        }
      },
      "execution_count": 52,
      "outputs": [
        {
          "output_type": "stream",
          "name": "stdout",
          "text": [
            "The highest val_accuracy: 0.77920\n"
          ]
        }
      ]
    },
    {
      "cell_type": "markdown",
      "metadata": {
        "id": "ZAgsZiy8Nx1U"
      },
      "source": [
        "Now compare the results of the initial dan_model training and the wan_model training:\n",
        "\n",
        "HS: passing two models (accuracy is not plotting) acc is not getting stored."
      ]
    },
    {
      "cell_type": "code",
      "execution_count": 53,
      "metadata": {
        "id": "O-MMBGCWLwe1",
        "colab": {
          "base_uri": "https://localhost:8080/",
          "height": 635
        },
        "outputId": "07182555-3235-4ab7-efed-66f3fb602722"
      },
      "outputs": [
        {
          "output_type": "display_data",
          "data": {
            "text/plain": [
              "<Figure size 1332x756 with 4 Axes>"
            ],
            "image/png": "[encoded data removed]"
          },
          "metadata": {
            "needs_background": "light"
          }
        }
      ],
      "source": [
        "fig, axs = plt.subplots(2, 2)\n",
        "fig.subplots_adjust(left=0.2, wspace=0.6)\n",
        "make_plot(axs, \n",
        "          dan_shuffled_history,\n",
        "          wan_history, \n",
        "          model_1_name='dan',\n",
        "         model_2_name='wan')\n",
        "\n",
        "fig.align_ylabels(axs[:, 1])\n",
        "fig.set_size_inches(18.5, 10.5)\n",
        "plt.show()"
      ]
    },
    {
      "cell_type": "markdown",
      "metadata": {
        "id": "ILMLcnuZOWoT"
      },
      "source": [
        "Next, let us see for the wan_model which words matter most for the classification prediction and which ones did less so. How can we tell? We can look at the attention weights!\n",
        "\n",
        "Let's look at the first training example.  We'll need to convert the input_ids back into the associated strings."
      ]
    },
    {
      "cell_type": "code",
      "execution_count": 54,
      "metadata": {
        "id": "53pdy0pwU91Z",
        "colab": {
          "base_uri": "https://localhost:8080/",
          "height": 107
        },
        "outputId": "53d60f22-98bf-4ebf-f4f6-058ab28ff2f0"
      },
      "outputs": [
        {
          "output_type": "execute_result",
          "data": {
            "text/plain": [
              "\"This was an absolutely terrible movie. Don't be lured in by Christopher Walken or Michael Ironside. Both are great actors, but this must simply be their worst role in history. Even their great acting could not redeem this movie's ridiculous storyline. This movie is an early nineties US propaganda piece. The most pathetic scenes were those when the Columbian rebels were making their cases for revolutions. Maria Conchita Alonso appeared phony, and her pseudo-love affair with Walken was nothing but a pathetic emotional plug in a movie that was devoid of any real meaning. I am disappointed that there are movies like this, ruining actor's like Christopher Walken's good name. I could barely sit through it.\""
            ],
            "application/vnd.google.colaboratory.intrinsic+json": {
              "type": "string"
            }
          },
          "metadata": {},
          "execution_count": 54
        }
      ],
      "source": [
        "train_examples[0].numpy().decode('utf-8')"
      ]
    },
    {
      "cell_type": "markdown",
      "metadata": {
        "id": "B6CFujCuX37x"
      },
      "source": [
        "The corresponding list of input ids that are suitably formatted, i.e. with sequence length 100, are these:"
      ]
    },
    {
      "cell_type": "code",
      "execution_count": 55,
      "metadata": {
        "id": "T5U6X-fcVD88",
        "colab": {
          "base_uri": "https://localhost:8080/"
        },
        "outputId": "a440f843-a8ca-4776-ba33-a44caf6d9499"
      },
      "outputs": [
        {
          "output_type": "stream",
          "name": "stdout",
          "text": [
            "(100,)\n"
          ]
        },
        {
          "output_type": "execute_result",
          "data": {
            "text/plain": [
              "array([21531, 25272, 12291,  7427, 37254, 43981,  6891, 12917, 38232,\n",
              "       16915, 12929, 16182, 43981, 20526, 23487, 43981, 23807, 42958,\n",
              "       35058, 43981, 19123, 35029, 41270, 29275, 12917, 32597, 20659,\n",
              "         638, 16915, 43981,   174, 32597, 35058, 39971,  2326,  3636,\n",
              "       22434, 35029, 43981, 33922, 43981, 21531, 34710, 16908, 12291,\n",
              "       36880, 28137,  5376, 28038, 43981, 15402, 29155, 18063, 24951,\n",
              "       17433, 17595,  8856, 14193, 43981, 43248, 17433,  6290, 32597,\n",
              "        9001, 11511, 43981, 21807, 39168, 43981, 16856, 43981, 43981,\n",
              "       23245, 43981,  8889,  1331, 43981, 25272, 31976, 19123, 43981,\n",
              "       18063, 36309, 24099, 16915, 43981, 34710, 36633, 25272, 20413,\n",
              "       43981, 33458, 14926, 43981, 12139, 12289, 39617, 36633,  9483,\n",
              "       42958])"
            ]
          },
          "metadata": {},
          "execution_count": 55
        }
      ],
      "source": [
        "probe_input_ids = train_input_ids[0]\n",
        "print(probe_input_ids.shape)\n",
        "probe_input_ids"
      ]
    },
    {
      "cell_type": "markdown",
      "metadata": {
        "id": "jWNRYYmUYw-D"
      },
      "source": [
        "and the first 10 corresponding tokens are: "
      ]
    },
    {
      "cell_type": "code",
      "source": [
        "train_tokens[0]"
      ],
      "metadata": {
        "colab": {
          "base_uri": "https://localhost:8080/"
        },
        "id": "SUQTkgZmHeYm",
        "outputId": "aaf3a330-4924-4f21-a8c4-0558402aec48"
      },
      "execution_count": 56,
      "outputs": [
        {
          "output_type": "execute_result",
          "data": {
            "text/plain": [
              "<tf.Tensor: shape=(116,), dtype=string, numpy=\n",
              "array([b'This', b'was', b'an', b'absolutely', b'terrible', b'movie.',\n",
              "       b\"Don't\", b'be', b'lured', b'in', b'by', b'Christopher', b'Walken',\n",
              "       b'or', b'Michael', b'Ironside.', b'Both', b'are', b'great',\n",
              "       b'actors,', b'but', b'this', b'must', b'simply', b'be', b'their',\n",
              "       b'worst', b'role', b'in', b'history.', b'Even', b'their', b'great',\n",
              "       b'acting', b'could', b'not', b'redeem', b'this', b\"movie's\",\n",
              "       b'ridiculous', b'storyline.', b'This', b'movie', b'is', b'an',\n",
              "       b'early', b'nineties', b'US', b'propaganda', b'piece.', b'The',\n",
              "       b'most', b'pathetic', b'scenes', b'were', b'those', b'when',\n",
              "       b'the', b'Columbian', b'rebels', b'were', b'making', b'their',\n",
              "       b'cases', b'for', b'revolutions.', b'Maria', b'Conchita',\n",
              "       b'Alonso', b'appeared', b'phony,', b'and', b'her', b'pseudo-love',\n",
              "       b'affair', b'with', b'Walken', b'was', b'nothing', b'but', b'a',\n",
              "       b'pathetic', b'emotional', b'plug', b'in', b'a', b'movie', b'that',\n",
              "       b'was', b'devoid', b'of', b'any', b'real', b'meaning.', b'I',\n",
              "       b'am', b'disappointed', b'that', b'there', b'are', b'movies',\n",
              "       b'like', b'this,', b'ruining', b\"actor's\", b'like', b'Christopher',\n",
              "       b\"Walken's\", b'good', b'name.', b'I', b'could', b'barely', b'sit',\n",
              "       b'through', b'it.'], dtype=object)>"
            ]
          },
          "metadata": {},
          "execution_count": 56
        }
      ]
    },
    {
      "cell_type": "code",
      "execution_count": 57,
      "metadata": {
        "id": "x1h1vScxYxMw",
        "colab": {
          "base_uri": "https://localhost:8080/"
        },
        "outputId": "a80d4ade-da06-4f4e-eb3d-36794cc5cff9"
      },
      "outputs": [
        {
          "output_type": "execute_result",
          "data": {
            "text/plain": [
              "['This',\n",
              " 'was',\n",
              " 'an',\n",
              " 'absolutely',\n",
              " 'terrible',\n",
              " 'movie.',\n",
              " \"Don't\",\n",
              " 'be',\n",
              " 'lured',\n",
              " 'in']"
            ]
          },
          "metadata": {},
          "execution_count": 57
        }
      ],
      "source": [
        "probe_tokens = [x.decode('utf-8') for x in train_tokens[0].numpy()][:100]\n",
        "probe_tokens[:10]"
      ]
    },
    {
      "cell_type": "markdown",
      "metadata": {
        "id": "y_9R85S7YOXF"
      },
      "source": [
        "Using only the first record in the training set, identify the **5 words** with the highest impact and the **5 words** with the lowest impact on the score, i.e., identify the 5 words with the largest and  smallest weights, respectively. (Note that multiple occurences of the same word count separately for the exercise).\n",
        "\n",
        "HINT: You should create a list of (word/weight) pairs, and then sort by the second argument. Python's '.sort()' function may come in handy.  And make sure you decode the integer ids.\n",
        "\n",
        "HS: just need to predict instead of fit() here"
      ]
    },
    {
      "cell_type": "code",
      "source": [
        "# 1D array (vector)\n",
        "train_input_ids[0]"
      ],
      "metadata": {
        "colab": {
          "base_uri": "https://localhost:8080/"
        },
        "id": "MBXF7YFDKo3V",
        "outputId": "449dadcb-2a5a-4480-94ff-105c429e5683"
      },
      "execution_count": 58,
      "outputs": [
        {
          "output_type": "execute_result",
          "data": {
            "text/plain": [
              "array([21531, 25272, 12291,  7427, 37254, 43981,  6891, 12917, 38232,\n",
              "       16915, 12929, 16182, 43981, 20526, 23487, 43981, 23807, 42958,\n",
              "       35058, 43981, 19123, 35029, 41270, 29275, 12917, 32597, 20659,\n",
              "         638, 16915, 43981,   174, 32597, 35058, 39971,  2326,  3636,\n",
              "       22434, 35029, 43981, 33922, 43981, 21531, 34710, 16908, 12291,\n",
              "       36880, 28137,  5376, 28038, 43981, 15402, 29155, 18063, 24951,\n",
              "       17433, 17595,  8856, 14193, 43981, 43248, 17433,  6290, 32597,\n",
              "        9001, 11511, 43981, 21807, 39168, 43981, 16856, 43981, 43981,\n",
              "       23245, 43981,  8889,  1331, 43981, 25272, 31976, 19123, 43981,\n",
              "       18063, 36309, 24099, 16915, 43981, 34710, 36633, 25272, 20413,\n",
              "       43981, 33458, 14926, 43981, 12139, 12289, 39617, 36633,  9483,\n",
              "       42958])"
            ]
          },
          "metadata": {},
          "execution_count": 58
        }
      ]
    },
    {
      "cell_type": "code",
      "source": [
        "# 2D array\n",
        "train_input_ids[:1]"
      ],
      "metadata": {
        "colab": {
          "base_uri": "https://localhost:8080/"
        },
        "id": "sffU0w3SM31d",
        "outputId": "9ea7faf7-4776-405f-c317-0fcab77ef519"
      },
      "execution_count": 59,
      "outputs": [
        {
          "output_type": "execute_result",
          "data": {
            "text/plain": [
              "array([[21531, 25272, 12291,  7427, 37254, 43981,  6891, 12917, 38232,\n",
              "        16915, 12929, 16182, 43981, 20526, 23487, 43981, 23807, 42958,\n",
              "        35058, 43981, 19123, 35029, 41270, 29275, 12917, 32597, 20659,\n",
              "          638, 16915, 43981,   174, 32597, 35058, 39971,  2326,  3636,\n",
              "        22434, 35029, 43981, 33922, 43981, 21531, 34710, 16908, 12291,\n",
              "        36880, 28137,  5376, 28038, 43981, 15402, 29155, 18063, 24951,\n",
              "        17433, 17595,  8856, 14193, 43981, 43248, 17433,  6290, 32597,\n",
              "         9001, 11511, 43981, 21807, 39168, 43981, 16856, 43981, 43981,\n",
              "        23245, 43981,  8889,  1331, 43981, 25272, 31976, 19123, 43981,\n",
              "        18063, 36309, 24099, 16915, 43981, 34710, 36633, 25272, 20413,\n",
              "        43981, 33458, 14926, 43981, 12139, 12289, 39617, 36633,  9483,\n",
              "        42958]])"
            ]
          },
          "metadata": {},
          "execution_count": 59
        }
      ]
    },
    {
      "cell_type": "code",
      "execution_count": 60,
      "metadata": {
        "id": "0UBhi3G0S0v8",
        "colab": {
          "base_uri": "https://localhost:8080/"
        },
        "outputId": "67f532f0-493e-4c1d-9c3b-b275c8f27518"
      },
      "outputs": [
        {
          "output_type": "stream",
          "name": "stdout",
          "text": [
            "Five Most Important Tokens\t ['worst', 'terrible', 'pathetic', 'pathetic', 'devoid']\n",
            "Five Least Important Tokens\t ['or', 'her', 'am', 'The', 'the'] \n",
            "=============================================\n",
            "most important tokens:\n",
            "\t [('worst', 0.117673434), ('terrible', 0.08152583), ('pathetic', 0.052002992), ('pathetic', 0.052002992), ('devoid', 0.038497232), ('ridiculous', 0.034011666), ('nothing', 0.029898562), ('disappointed', 0.022574093), ('must', 0.021021621), ('simply', 0.020484503)]\n",
            "\n",
            "least important tokens:\n",
            "\t [('their', 0.0019346877), ('their', 0.0019346877), ('I', 0.0019124763), ('this', 0.0018623789), ('this', 0.0018623789), ('or', 0.0018067718), ('her', 0.0017388153), ('am', 0.0016998216), ('The', 0.0015501438), ('the', 0.0013747188)]\n"
          ]
        }
      ],
      "source": [
        "### YOUR CODE HERE\n",
        "\n",
        "# 'pairs' should be the variable that holds the token/weight pairs.\n",
        "# HINT: You should create a list of (word/weight) pairs, \n",
        "# and then sort by the second argument. Python's '.sort()' function may come in handy. And make sure you decode the integer ids.\n",
        "\n",
        "words = probe_tokens\n",
        "weights = wan_model.predict(train_input_ids[:1])[1].ravel()\n",
        "\n",
        "pairs = list(zip(words, weights))\n",
        "pairs.sort(key=lambda x: x[1], reverse=True)\n",
        "important_tokens = [i[0] for i in pairs]\n",
        "\n",
        "print('Five Most Important Tokens\\t', important_tokens[:5])\n",
        "print('Five Least Important Tokens\\t', important_tokens[-5:],'\\n=============================================')\n",
        "### END YOUR CODE\n",
        "\n",
        "print('most important tokens:')\n",
        "print('\\t', pairs[:10])\n",
        "print('\\nleast important tokens:')\n",
        "print('\\t', pairs[-10:])"
      ]
    },
    {
      "cell_type": "markdown",
      "metadata": {
        "id": "UURhPvLWRBNd"
      },
      "source": [
        " **QUESTION:**\n",
        "\n",
        " 2.2.2.b List the 5 most important words, with the most important first. (Again, if a word appears twice, you can include it twice.)<br>\n",
        " **['worst', 'terrible', 'pathetic', 'pathetic', 'devoid']**\n",
        "\n",
        " 2.2.2.c List the 5 least important words in descending order. (Again, if a word appears twice, note it twice in the answers file.)<br>\n",
        " **['I', 'The', 'her', 'am', 'the']** "
      ]
    },
    {
      "cell_type": "markdown",
      "metadata": {
        "id": "5IYOH-QfSj22"
      },
      "source": [
        "### 2.3 Approaches for Training of Embeddings\n",
        "\n",
        "**Heesuk Question:** \n",
        "- shuffle=False or True\n",
        "- fixed batch_size?\n",
        "\n",
        "Rerun the DAN Model in 3 separate configurations:\n",
        "\n",
        "\n",
        "1.   embedding_initializer = 'word2vec' and retrain_embeddings=False\n",
        "2.   embedding_initializer = 'word2vec' and retrain_embeddings=True\n",
        "3.   embedding_initializer = 'uniform' and retrain_embeddings=True\n",
        "\n",
        "\n",
        "**NOTE:** Train the model with static embeddings for 10 epochs and the ones with trainable embeddings for 3 epochs each. \n",
        "\n",
        "What do you observe about the effects of initializing and retraining the embedding matrix?\n",
        "\n"
      ]
    },
    {
      "cell_type": "code",
      "execution_count": 61,
      "metadata": {
        "id": "h6Pxm-2xU1aw"
      },
      "outputs": [],
      "source": [
        "### YOUR CODE HERE\n",
        "def run_dan_experiments(retrain_embeddings=False, \n",
        "                        embedding_initializer='word2vec',\n",
        "                        num_epochs=10):\n",
        "  dan_model_shuffled = create_dan_model(retrain_embeddings=retrain_embeddings, embedding_initializer=embedding_initializer)\n",
        "  dan_shuffled_history = dan_model_shuffled.fit(sorted_training_input_ids,\n",
        "                                                sorted_training_labels,\n",
        "                                                validation_data=(test_input_ids, test_input_labels),\n",
        "                                                shuffle=True,\n",
        "                                                batch_size=32,\n",
        "                                                epochs=num_epochs)\n",
        "  print('\\nThe highest val_accuracy: {:.5f}'.format(max(dan_shuffled_history.history['val_accuracy'])))\n",
        "  return dan_shuffled_history\n",
        "### END YOUR CODE"
      ]
    },
    {
      "cell_type": "markdown",
      "metadata": {
        "id": "a0jwQ6ailUm4"
      },
      "source": [
        "**QUESTION:**\n",
        "\n",
        "2.3.a First, what is the highest validation accuracy that you just observed for the static model initialized with the word2vec after 10 epochs?  (Copy and paste the decimal value for the highest validation accuracy, e.g. a number like 0.5678 or 0.8765)"
      ]
    },
    {
      "cell_type": "code",
      "execution_count": 62,
      "metadata": {
        "id": "qwlDqMTxVwbQ",
        "colab": {
          "base_uri": "https://localhost:8080/"
        },
        "outputId": "df9a5583-41f3-4aba-b6d9-35dfe03a2b9f"
      },
      "outputs": [
        {
          "output_type": "stream",
          "name": "stdout",
          "text": [
            "Epoch 1/10\n",
            "625/625 [==============================] - 2s 3ms/step - loss: 0.6487 - accuracy: 0.6392 - val_loss: 0.6029 - val_accuracy: 0.6950\n",
            "Epoch 2/10\n",
            "625/625 [==============================] - 2s 3ms/step - loss: 0.5601 - accuracy: 0.7247 - val_loss: 0.5472 - val_accuracy: 0.7304\n",
            "Epoch 3/10\n",
            "625/625 [==============================] - 2s 3ms/step - loss: 0.5259 - accuracy: 0.7408 - val_loss: 0.5274 - val_accuracy: 0.7374\n",
            "Epoch 4/10\n",
            "625/625 [==============================] - 2s 3ms/step - loss: 0.5114 - accuracy: 0.7505 - val_loss: 0.5197 - val_accuracy: 0.7424\n",
            "Epoch 5/10\n",
            "625/625 [==============================] - 2s 3ms/step - loss: 0.5021 - accuracy: 0.7578 - val_loss: 0.5151 - val_accuracy: 0.7432\n",
            "Epoch 6/10\n",
            "625/625 [==============================] - 2s 3ms/step - loss: 0.4978 - accuracy: 0.7591 - val_loss: 0.5077 - val_accuracy: 0.7514\n",
            "Epoch 7/10\n",
            "625/625 [==============================] - 2s 3ms/step - loss: 0.4924 - accuracy: 0.7600 - val_loss: 0.5168 - val_accuracy: 0.7406\n",
            "Epoch 8/10\n",
            "625/625 [==============================] - 2s 3ms/step - loss: 0.4879 - accuracy: 0.7656 - val_loss: 0.5132 - val_accuracy: 0.7454\n",
            "Epoch 9/10\n",
            "625/625 [==============================] - 2s 3ms/step - loss: 0.4856 - accuracy: 0.7656 - val_loss: 0.4975 - val_accuracy: 0.7548\n",
            "Epoch 10/10\n",
            "625/625 [==============================] - 2s 3ms/step - loss: 0.4805 - accuracy: 0.7665 - val_loss: 0.4952 - val_accuracy: 0.7626\n",
            "\n",
            "The highest val_accuracy: 0.76260\n"
          ]
        }
      ],
      "source": [
        "### YOUR CODE HERE\n",
        "dan_model_shuffled_1 = run_dan_experiments()\n",
        "### END YOUR CODE"
      ]
    },
    {
      "cell_type": "markdown",
      "metadata": {
        "id": "sZXr9UY7lfHE"
      },
      "source": [
        "**QUESTION:**\n",
        "\n",
        "\n",
        "2.3.b What is the highest validation accuracy that you observed for the model where you initialized with word2vec vectors but allow them to retrain for 3 epochs? (Copy and paste the decimal value for the highest validation accuracy, e.g. a number like 0.5678 or 0.8765)\n",
        "\n",
        "HS: may have a higher accuracy but likely to overfit when unfreeze pre-trained layers.\n",
        "\n"
      ]
    },
    {
      "cell_type": "code",
      "execution_count": 63,
      "metadata": {
        "id": "H0rMPTAOVw70",
        "colab": {
          "base_uri": "https://localhost:8080/"
        },
        "outputId": "9f7be320-9b8f-4db0-a737-144c21b584bd"
      },
      "outputs": [
        {
          "output_type": "stream",
          "name": "stdout",
          "text": [
            "Epoch 1/3\n",
            "625/625 [==============================] - 7s 10ms/step - loss: 0.5040 - accuracy: 0.7533 - val_loss: 0.4414 - val_accuracy: 0.7958\n",
            "Epoch 2/3\n",
            "625/625 [==============================] - 6s 10ms/step - loss: 0.3215 - accuracy: 0.8650 - val_loss: 0.4919 - val_accuracy: 0.7736\n",
            "Epoch 3/3\n",
            "625/625 [==============================] - 6s 10ms/step - loss: 0.2402 - accuracy: 0.9082 - val_loss: 0.5341 - val_accuracy: 0.7686\n",
            "\n",
            "The highest val_accuracy: 0.79580\n"
          ]
        }
      ],
      "source": [
        "### YOUR CODE HERE\n",
        "dan_model_shuffled_2 = run_dan_experiments(retrain_embeddings=True, \n",
        "                        embedding_initializer='word2vec',\n",
        "                        num_epochs=3)\n",
        "### END YOUR CODE"
      ]
    },
    {
      "cell_type": "markdown",
      "metadata": {
        "id": "hO791d-oYOgg"
      },
      "source": [
        "**QUESTION:**\n",
        "\n",
        "2.3.c What is the highest validation accuracy that you observed for the model where you initialized randomly and then trained?  (Copy and paste the decimal value for the highest validation accuracy, e.g. a number like 0.5678 or 0.8765)\n",
        "\n",
        "\n"
      ]
    },
    {
      "cell_type": "code",
      "source": [
        "### YOUR CODE HERE\n",
        "dan_model_shuffled_3 = run_dan_experiments(retrain_embeddings=True, \n",
        "                        embedding_initializer='uniform',\n",
        "                        num_epochs=3)\n",
        "### END YOUR CODE"
      ],
      "metadata": {
        "id": "I2GeJLtBX8qu",
        "outputId": "dd786bde-536a-4e1f-e2c6-f590e8e61cdf",
        "colab": {
          "base_uri": "https://localhost:8080/"
        }
      },
      "execution_count": 64,
      "outputs": [
        {
          "output_type": "stream",
          "name": "stdout",
          "text": [
            "Epoch 1/3\n",
            "625/625 [==============================] - 7s 10ms/step - loss: 0.5117 - accuracy: 0.7448 - val_loss: 0.4398 - val_accuracy: 0.7922\n",
            "Epoch 2/3\n",
            "625/625 [==============================] - 6s 10ms/step - loss: 0.3219 - accuracy: 0.8650 - val_loss: 0.4725 - val_accuracy: 0.7836\n",
            "Epoch 3/3\n",
            "625/625 [==============================] - 6s 10ms/step - loss: 0.2358 - accuracy: 0.9089 - val_loss: 0.5327 - val_accuracy: 0.7788\n",
            "\n",
            "The highest val_accuracy: 0.79220\n"
          ]
        }
      ]
    },
    {
      "cell_type": "markdown",
      "metadata": {
        "id": "4BGRT1g6a0T6"
      },
      "source": [
        "\n",
        "## 3. BERT-based Classification Models\n",
        "real 3 inputs:\n",
        "token input ids = \n",
        "masked lang model predict \n",
        "next sent prediction\n",
        "attention mask: which are real tokens and which ones are padding tokens\n",
        "\n",
        "word embeddings (some weight maxtrix)-all the tokens for the \n",
        "token type input (all zeros) or not pass it\n",
        "3rd embedding: for the position. we don't pass in becasue it's trivial BERT just generate it automaocalltly\n",
        "diff BERT will geenreate diff \n",
        "\n",
        "\n",
        "Now we turn to classification with BERT. We will perform classifications with various models that are based on pre-trained BERT models.\n",
        "\n",
        "\n",
        "### 3.1. Basics\n",
        "\n",
        "Let us first explore some basics of BERT. \n",
        "\n",
        "We've already loaded the pretrained BERT model and tokenizer that we'll use (\n",
        "'bert-base-cased').\n",
        "\n",
        "HS: Split-up words like **\"glaucoma\" -> \"g\", \"##lau\", \"##com\", \"##a\".**\n",
        "The **pound** always means that this token (\"##lau\") here is **a continuation of what was there beforehand (\"g\")**. Each word (i.e. \"g\" and \"##lau\") has own embedding and the immediate implication is that none of these tokens individually here knows anything much about glaucoma.\n",
        "\n",
        "Now, consider this input:\n",
        "\n"
      ]
    },
    {
      "cell_type": "code",
      "execution_count": 31,
      "metadata": {
        "id": "aM3UggLagPn4"
      },
      "outputs": [],
      "source": [
        "test_input = ['this bank is closed on Sunday', 'the steepest bank of the river is dangerous']"
      ]
    },
    {
      "cell_type": "code",
      "source": [
        "# bert_model.weights"
      ],
      "metadata": {
        "id": "VrGML5dzMIpe"
      },
      "execution_count": 32,
      "outputs": []
    },
    {
      "cell_type": "code",
      "source": [
        "print('Tokens_Sent2 = ', bert_tokenizer.tokenize(test_input[1]),'\\n')\n",
        "print('Tokens_Sent2:\\n', bert_tokenizer(test_input[1]))\n",
        "\n",
        "tokenized_sent0 = bert_tokenizer.tokenize(test_input[0])\n",
        "tokenized_sent1 = bert_tokenizer.tokenize(test_input[1])\n",
        "print(f'\\nNum_Tokens_Sent1 = {len(tokenized_sent0)}\\nNum_Tokens_Sent2 = {len(tokenized_sent1)}')"
      ],
      "metadata": {
        "colab": {
          "base_uri": "https://localhost:8080/"
        },
        "id": "dWlsNriiOzHq",
        "outputId": "d9d6155e-e88a-4036-e8bb-d4d7c98d40b9"
      },
      "execution_count": 33,
      "outputs": [
        {
          "output_type": "stream",
          "name": "stdout",
          "text": [
            "Tokens_Sent2 =  ['the', 'steep', '##est', 'bank', 'of', 'the', 'river', 'is', 'dangerous'] \n",
            "\n",
            "Tokens_Sent2:\n",
            " {'input_ids': [101, 1103, 9458, 2556, 3085, 1104, 1103, 2186, 1110, 4249, 102], 'token_type_ids': [0, 0, 0, 0, 0, 0, 0, 0, 0, 0, 0], 'attention_mask': [1, 1, 1, 1, 1, 1, 1, 1, 1, 1, 1]}\n",
            "\n",
            "Num_Tokens_Sent1 = 6\n",
            "Num_Tokens_Sent2 = 9\n"
          ]
        }
      ]
    },
    {
      "cell_type": "markdown",
      "metadata": {
        "id": "YWaNDy5UbmGU"
      },
      "source": [
        "Now apply the BERT tokenizer to tokenize it:"
      ]
    },
    {
      "cell_type": "code",
      "execution_count": 34,
      "metadata": {
        "id": "nmoptRz0bq1o",
        "colab": {
          "base_uri": "https://localhost:8080/"
        },
        "outputId": "beb8b8d7-feda-486e-bfaa-b92fbe5a4201"
      },
      "outputs": [
        {
          "output_type": "execute_result",
          "data": {
            "text/plain": [
              "{'input_ids': <tf.Tensor: shape=(2, 12), dtype=int32, numpy=\n",
              "array([[ 101, 1142, 3085, 1110, 1804, 1113, 3625,  102,    0,    0,    0,\n",
              "           0],\n",
              "       [ 101, 1103, 9458, 2556, 3085, 1104, 1103, 2186, 1110, 4249,  102,\n",
              "           0]], dtype=int32)>, 'token_type_ids': <tf.Tensor: shape=(2, 12), dtype=int32, numpy=\n",
              "array([[0, 0, 0, 0, 0, 0, 0, 0, 0, 0, 0, 0],\n",
              "       [0, 0, 0, 0, 0, 0, 0, 0, 0, 0, 0, 0]], dtype=int32)>, 'attention_mask': <tf.Tensor: shape=(2, 12), dtype=int32, numpy=\n",
              "array([[1, 1, 1, 1, 1, 1, 1, 1, 0, 0, 0, 0],\n",
              "       [1, 1, 1, 1, 1, 1, 1, 1, 1, 1, 1, 0]], dtype=int32)>}"
            ]
          },
          "metadata": {},
          "execution_count": 34
        }
      ],
      "source": [
        "tokenized_input = bert_tokenizer(test_input, \n",
        "                                 max_length=12,\n",
        "                                 truncation=True,\n",
        "                                 padding='max_length', \n",
        "                                 return_tensors='tf')\n",
        "\n",
        "tokenized_input"
      ]
    },
    {
      "cell_type": "markdown",
      "metadata": {
        "id": "q8WYd810dQwh"
      },
      "source": [
        " **QUESTION:** \n",
        " \n",
        " 3.1.a  Why do the attention_masks have 4 and 1 zeros, respectively?  Choose the correct one and enter it in the answers file.; **The 2nd one is correct.**\n",
        "\n",
        "  *  For the first example the last four tokens belong to a different segment. For the second one it is only the last token.\n",
        "\n",
        "  *  **For the first example 4 positions are padded while for the second one it is only one.**\n",
        "\n",
        "------\n",
        "\n",
        "\n",
        "Next, let us look at the BERT outputs for these 2 sentences:"
      ]
    },
    {
      "cell_type": "code",
      "source": [
        "# bert_tokenizer = BertTokenizer.from_pretrained('bert-base-cased')\n",
        "# bert_model = TFBertModel.from_pretrained('bert-base-cased')"
      ],
      "metadata": {
        "id": "gKl5nRp5BSzz"
      },
      "execution_count": null,
      "outputs": []
    },
    {
      "cell_type": "code",
      "execution_count": 35,
      "metadata": {
        "id": "4hpNQPvBehMc",
        "colab": {
          "base_uri": "https://localhost:8080/"
        },
        "outputId": "bae39585-e61a-4445-9ef7-d9252101ba3a"
      },
      "outputs": [
        {
          "output_type": "stream",
          "name": "stdout",
          "text": [
            "Shape of the 1st output (token-level output): \t (2, 12, 768)\n",
            "Shape of the 2nd output: \t (2, 768) \n",
            "\n"
          ]
        },
        {
          "output_type": "execute_result",
          "data": {
            "text/plain": [
              "TFBaseModelOutputWithPoolingAndCrossAttentions(last_hidden_state=<tf.Tensor: shape=(2, 12, 768), dtype=float32, numpy=\n",
              "array([[[ 0.39452162,  0.04198498,  0.06480392, ...,  0.05045465,\n",
              "          0.22358865,  0.24238195],\n",
              "        [-0.09458938,  0.06673858, -0.03607508, ...,  0.21925777,\n",
              "         -0.06967178,  0.7444841 ],\n",
              "        [ 0.00561032,  0.31316498, -0.17982729, ...,  0.19563246,\n",
              "         -0.10614744,  0.47773576],\n",
              "        ...,\n",
              "        [ 0.22268784, -0.11558574,  0.15854378, ...,  0.300253  ,\n",
              "          0.01634064,  0.5133398 ],\n",
              "        [ 0.31638402, -0.10986975,  0.23661816, ...,  0.10924117,\n",
              "         -0.14340344,  0.32835424],\n",
              "        [ 0.34834048, -0.10076536,  0.26903212, ...,  0.1270758 ,\n",
              "         -0.18430144,  0.26176217]],\n",
              "\n",
              "       [[ 0.44506383,  0.22264977, -0.09972473, ..., -0.23736244,\n",
              "          0.12722534,  0.07778197],\n",
              "        [ 0.07407635, -0.3180579 , -0.11924689, ..., -0.06680152,\n",
              "         -0.3061709 ,  0.46923548],\n",
              "        [ 0.314581  ,  0.62658757,  0.00606293, ..., -0.03697463,\n",
              "         -0.08461318,  0.7268307 ],\n",
              "        ...,\n",
              "        [ 0.69994605, -0.11628436,  0.01613309, ..., -0.4743722 ,\n",
              "          0.05725125,  0.2183012 ],\n",
              "        [ 0.56029594,  0.0853578 , -0.91923535, ..., -0.31020045,\n",
              "         -0.09382518,  0.349111  ],\n",
              "        [-0.26863503,  0.11328839,  0.07555664, ...,  0.37382227,\n",
              "          0.00740075,  0.16682114]]], dtype=float32)>, pooler_output=<tf.Tensor: shape=(2, 768), dtype=float32, numpy=\n",
              "array([[-0.6653192 ,  0.47329736,  0.9998541 , ...,  0.99994165,\n",
              "        -0.7300671 ,  0.97826153],\n",
              "       [-0.6258614 ,  0.4441631 ,  0.999798  , ...,  0.99991226,\n",
              "        -0.7422422 ,  0.97257334]], dtype=float32)>, past_key_values=None, hidden_states=None, attentions=None, cross_attentions=None)"
            ]
          },
          "metadata": {},
          "execution_count": 35
        }
      ],
      "source": [
        "### YOUR CODE HERE\n",
        "\n",
        "# bert_output = bert_model(tokenized_input, output_hidden_states=True)\n",
        "bert_output = bert_model(tokenized_input)\n",
        "\n",
        "# have two sentences coming in, each one has 12 tokens, and each position we have a 768 dimentional embedding, because\n",
        "# this is the BERT base model with the embedding dimension of 768\n",
        "print('Shape of the 1st output (token-level output): \\t', bert_output[0].shape)    \n",
        "print('Shape of the 2nd output: \\t', bert_output[1].shape, '\\n')\n",
        "\n",
        "bert_output\n",
        "\n",
        "### END YOUR CODE\n",
        "\n",
        "# how many outputs object - dict how many keys_values \n",
        "# take a pass in two ex sent and then tolkenize pass the tokenized words into bert model and feed out the output."
      ]
    },
    {
      "cell_type": "markdown",
      "metadata": {
        "id": "XVNsqd6QRepy"
      },
      "source": [
        " **QUESTION:** \n",
        " \n",
        " 3.1.b How many outputs are there?\n",
        "\n",
        " Enter your code below."
      ]
    },
    {
      "cell_type": "code",
      "execution_count": 36,
      "metadata": {
        "id": "qAfOnO9zov-y",
        "colab": {
          "base_uri": "https://localhost:8080/"
        },
        "outputId": "b9070241-9a32-4fd3-a569-eb18de53e160"
      },
      "outputs": [
        {
          "output_type": "stream",
          "name": "stdout",
          "text": [
            "2\n"
          ]
        }
      ],
      "source": [
        "### YOUR CODE HERE\n",
        "\n",
        "#b. -> print it out\n",
        "print(len(bert_output))\n",
        "\n",
        "### END YOUR CODE"
      ]
    },
    {
      "cell_type": "markdown",
      "metadata": {
        "id": "7EYXhams6Bs6"
      },
      "source": [
        "**QUESTION:** \n",
        "\n",
        " 3.1.c Which output do we need to use to get token-level embeddings?\n",
        "\n",
        " * **the first** (correct)\n",
        " \n",
        " * the second \n",
        " \n",
        " Put your answer in the answers file.\n",
        "\n",
        "**QUESTION:** \n",
        "\n",
        " 3.1.d In the tokenized input, which input_id number (i.e. the vocabulary id) corresponds to 'bank' in the two sentences? ('bert_tokenizer.tokenize()' may come in handy.. and don't forget the CLS token! )"
      ]
    },
    {
      "cell_type": "code",
      "source": [
        "# test_input = ['this bank is closed on Sunday', 'the steepest bank of the river is dangerous']\n",
        "bert_tokenizer.tokenize(test_input[1])"
      ],
      "metadata": {
        "colab": {
          "base_uri": "https://localhost:8080/"
        },
        "id": "DvegHM971cHa",
        "outputId": "c83d3fed-5409-47b9-fe75-4980c9c1c4a9"
      },
      "execution_count": 57,
      "outputs": [
        {
          "output_type": "execute_result",
          "data": {
            "text/plain": [
              "['the', 'steep', '##est', 'bank', 'of', 'the', 'river', 'is', 'dangerous']"
            ]
          },
          "metadata": {},
          "execution_count": 57
        }
      ]
    },
    {
      "cell_type": "code",
      "source": [
        "# bert_tokenizer.tokenize(test_input[1])\n",
        "dict_tokens_sent2 = bert_tokenizer(test_input[1])\n",
        "# print('Tokens_Sent2:\\n', dict_tokens_sent2)\n",
        "print(\"Input_id for 'bank' in the 2nd sentence: \", dict_tokens_sent2['input_ids'][4])   # bank at index 3 in the 2nd sentence "
      ],
      "metadata": {
        "colab": {
          "base_uri": "https://localhost:8080/"
        },
        "id": "4rErt8Sq0aa2",
        "outputId": "842b37a8-2df4-4a0d-e4b9-91b547880e3d"
      },
      "execution_count": 71,
      "outputs": [
        {
          "output_type": "stream",
          "name": "stdout",
          "text": [
            "Input_id for 'bank' in the 2nd sentence:  3085\n"
          ]
        }
      ]
    },
    {
      "cell_type": "markdown",
      "source": [
        "**QUESTION:** \n",
        "\n",
        " 3.1.e In the array of tokens, which position index number corresponds to 'bank' in the first sentence? ('bert_tokenizer.tokenize()' may come in handy.. and don't forget the CLS token! )"
      ],
      "metadata": {
        "id": "ZLIFDK-I0a91"
      }
    },
    {
      "cell_type": "code",
      "source": [
        "tokens_sent1 = bert_tokenizer.tokenize(test_input[0])\n",
        "tokens_sent2 = bert_tokenizer.tokenize(test_input[1])\n",
        "print(f'tokens_sent1: {tokens_sent1}\\ntokens_sent2: {tokens_sent2}')"
      ],
      "metadata": {
        "colab": {
          "base_uri": "https://localhost:8080/"
        },
        "id": "VuB2uvML4N6t",
        "outputId": "935b0686-b849-4276-c9e2-eb5d2d0d5e39"
      },
      "execution_count": 82,
      "outputs": [
        {
          "output_type": "stream",
          "name": "stdout",
          "text": [
            "tokens_sent1: ['this', 'bank', 'is', 'closed', 'on', 'Sunday']\n",
            "tokens_sent2: ['the', 'steep', '##est', 'bank', 'of', 'the', 'river', 'is', 'dangerous']\n"
          ]
        }
      ]
    },
    {
      "cell_type": "code",
      "execution_count": 80,
      "metadata": {
        "id": "9X-bPMr56Bs6",
        "colab": {
          "base_uri": "https://localhost:8080/"
        },
        "outputId": "de8f40bd-f31f-4d9e-b855-c2bef4bd9969"
      },
      "outputs": [
        {
          "output_type": "stream",
          "name": "stdout",
          "text": [
            "Position Index for \"bank\" in the 1st sentence:  2\n"
          ]
        }
      ],
      "source": [
        "### YOUR CODE HERE\n",
        "\n",
        "#d/e. -> Look at tokens generated by the bert tokenizer for the first example\n",
        "\n",
        "print('Position Index for \"bank\" in the 1st sentence: ', tokens_sent1.index('bank')+1)   # CLS token at index 0\n",
        "\n",
        "### END YOUR CODE"
      ]
    },
    {
      "cell_type": "markdown",
      "metadata": {
        "id": "fmC3H1-96Bs6"
      },
      "source": [
        "**QUESTION:** \n",
        "\n",
        "3.1.f Which array position index number corresponds to 'bank' in the second sentence?"
      ]
    },
    {
      "cell_type": "code",
      "execution_count": 81,
      "metadata": {
        "id": "OiJrrKo26Bs6",
        "colab": {
          "base_uri": "https://localhost:8080/"
        },
        "outputId": "600b0747-a5a8-4448-987a-b93f26908c72"
      },
      "outputs": [
        {
          "output_type": "stream",
          "name": "stdout",
          "text": [
            "Position Index for \"bank\" in the 1st sentence:  4\n"
          ]
        }
      ],
      "source": [
        "### YOUR CODE HERE\n",
        "\n",
        "#f. -> Look at tokenization for the second example\n",
        "\n",
        "print('Position Index for \"bank\" in the 2nd sentence: ', tokens_sent2.index('bank')+1)   # CLS token at index 0\n",
        "\n",
        "### END YOUR CODE"
      ]
    },
    {
      "cell_type": "markdown",
      "metadata": {
        "id": "Nd-Q-3MA6Bs6"
      },
      "source": [
        "**QUESTION:**\n",
        "\n",
        " 3.1.g What is the cosine similarity between the BERT embeddings for the two occurences of 'bank' in the two sentences?"
      ]
    },
    {
      "cell_type": "code",
      "source": [
        "# test_input = ['this bank is closed on Sunday', 'the steepest bank of the river is dangerous']"
      ],
      "metadata": {
        "id": "jT-kTci6dA9e"
      },
      "execution_count": null,
      "outputs": []
    },
    {
      "cell_type": "code",
      "source": [
        "# def cosine_similarities(vectors):\n",
        "#     for v1 in vectors:\n",
        "#         similarities = ''\n",
        "#         for v2 in vectors:\n",
        "#             similarities += ('\\t' + str(np.dot(v1, v2)/np.sqrt(np.dot(v1, v1) * np.dot(v2, v2)))[:4])\n",
        "#         print(similarities)\n",
        "\n",
        "# bank_sent_1 = bert_output[0][0,2]\n",
        "# bank_sent_2 = bert_output[0][1,3]\n",
        "# banks = [bank_sent_1, bank_sent_2]\n",
        "# cosine_similarities(banks)"
      ],
      "metadata": {
        "id": "ZVLthvKnnfVW"
      },
      "execution_count": 44,
      "outputs": []
    },
    {
      "cell_type": "code",
      "execution_count": 41,
      "metadata": {
        "id": "xVIt83S26Bs6",
        "colab": {
          "base_uri": "https://localhost:8080/"
        },
        "outputId": "90d165e6-4bdf-4b8b-849a-0625aee96689"
      },
      "outputs": [
        {
          "output_type": "stream",
          "name": "stdout",
          "text": [
            "               bank_sent_1 bank_sent_2\n",
            "0  bank_sent_1         1.0        0.57\n",
            "1  bank_sent_2        0.57         1.0\n"
          ]
        }
      ],
      "source": [
        "### YOUR CODE HERE\n",
        "\n",
        "#g.  -> get the vectors and calculate cosine similarity between the two 'bank' BERT embedddings\n",
        "# take 1st output (=token-level output) and take the 1st sentence and 3rd token (at index 2 -> CLS token at index 0)\n",
        "\n",
        "from transformers.models.conditional_detr.image_processing_conditional_detr import defaultdict\n",
        "import pandas as pd\n",
        "\n",
        "def cosine_similarities(inputs):\n",
        "  cosine_sim_dict = defaultdict(lambda: defaultdict(str))\n",
        "  names = []\n",
        "\n",
        "  for name1, vec1 in inputs.items():\n",
        "    names.append(name1)\n",
        "    cosine_sim_dict[name1] = []\n",
        "        \n",
        "    for name2, vec2 in inputs.items():\n",
        "        cosine_sim_dict[name1].append(str(np.dot(vec1, vec2)/np.sqrt(np.dot(vec1, vec1) * np.dot(vec2, vec2)))[:4])\n",
        "    \n",
        "  formatted_dict = {**{'':names}, **cosine_sim_dict}\n",
        "  formatted_out = pd.DataFrame(formatted_dict).to_string(index=True)\n",
        "  return formatted_out\n",
        "\n",
        "bank_cosine_sim = {'bank_sent_1':bert_output[0][0,2],\n",
        "                   'bank_sent_2':bert_output[0][1,3]}\n",
        "\n",
        "print(cosine_similarities(bank_cosine_sim))\n",
        "\n",
        "### END YOUR CODE"
      ]
    },
    {
      "cell_type": "markdown",
      "source": [
        "It shows that the cosine similarity score between **bank in sentence 1** and **bank in sentence 2** is **0.57**, which is not significantly close in context."
      ],
      "metadata": {
        "id": "4uExiJSOublH"
      }
    },
    {
      "cell_type": "markdown",
      "metadata": {
        "id": "7a2zCWHP6Bs6"
      },
      "source": [
        "**QUESTION:**\n",
        "\n",
        "3.1.h How does this relate to the cosine similarity of 'this' (in sentence 1) and the first 'the' (in sentence 2). Compute their cosine similarity.\n"
      ]
    },
    {
      "cell_type": "code",
      "execution_count": 45,
      "metadata": {
        "id": "TnEWs6St6Bs6",
        "colab": {
          "base_uri": "https://localhost:8080/"
        },
        "outputId": "da69b9eb-d8bd-48a9-800f-88964f3ed305"
      },
      "outputs": [
        {
          "output_type": "stream",
          "name": "stdout",
          "text": [
            "               bank_sent_1 bank_sent_2 this_sent_1 the_sent_2\n",
            "0  bank_sent_1         1.0        0.57        0.72       0.63\n",
            "1  bank_sent_2        0.57         1.0        0.57       0.63\n",
            "2  this_sent_1        0.72        0.57         1.0       0.81\n",
            "3   the_sent_2        0.63        0.63        0.81        1.0\n"
          ]
        }
      ],
      "source": [
        "### YOUR CODE HERE\n",
        "\n",
        "#h.  -> get the vectors and calculate cosine similarity\n",
        "\n",
        "tokens_cosine_sim = {'bank_sent_1':bert_output[0][0,2],\n",
        "                    'bank_sent_2':bert_output[0][1,3],\n",
        "                    'this_sent_1':bert_output[0][0,1],\n",
        "                    'the_sent_2':bert_output[0][1,1]}\n",
        "\n",
        "print(cosine_similarities(tokens_cosine_sim))\n",
        "\n",
        "### END YOUR CODE"
      ]
    },
    {
      "cell_type": "markdown",
      "source": [
        "The cosine similarity **(0.81)** of **this in sentence 1** is larger with **the in sentence 2** than with bank in either sentences. Interestingly **the in sentence 2** also shows equal similarity **(0.63)** with **bank in both sentence 1 and 2**."
      ],
      "metadata": {
        "id": "HrpNozTbvESS"
      }
    },
    {
      "cell_type": "markdown",
      "metadata": {
        "id": "KBOvsTBwm_Vi"
      },
      "source": [
        "### 3.2 CLS-Token-based Classification \n",
        "\n",
        "In the live session we discussed classification with BERT using the pooled token. We now will do the same but extract the [CLS] token output for each example and use that for classification purposes.\n",
        "\n",
        "Consult the model from the live session and change accordingly. Make sure the BERT model is fully trainable.\n",
        "\n",
        "**HINT:**\n",
        "You will want to extract the output of the [CLS] token from the BERT output similarly to what we did above to get the output for 'bank', etc.\n"
      ]
    },
    {
      "cell_type": "code",
      "execution_count": 83,
      "metadata": {
        "id": "V1OAGPTNgPr6"
      },
      "outputs": [],
      "source": [
        "def create_bert_cls_model(max_sequence_length=MAX_SEQUENCE_LENGTH,\n",
        "                          hidden_size = 100, \n",
        "                          dropout=0.3,\n",
        "                          learning_rate=0.00005):\n",
        "    \"\"\"\n",
        "    Build a simple classification model with BERT. Use the CLS Token output for classification purposes.\n",
        "    \"\"\"\n",
        "\n",
        "    ### YOUR CODE HERE\n",
        "    input_ids = tf.keras.layers.Input(shape=(MAX_SEQUENCE_LENGTH,), dtype=tf.int64, name='input_ids_layer')\n",
        "    token_type_ids = tf.keras.layers.Input(shape=(MAX_SEQUENCE_LENGTH,), dtype=tf.int64, name='token_type_ids_layer')\n",
        "    attention_mask = tf.keras.layers.Input(shape=(MAX_SEQUENCE_LENGTH,), dtype=tf.int64, name='attention_mask_layer')\n",
        "\n",
        "    bert_inputs = {'input_ids': input_ids,\n",
        "                   'token_type_ids': token_type_ids,\n",
        "                   'attention_mask': attention_mask}      \n",
        "\n",
        "    bert_out = bert_model(bert_inputs)\n",
        "\n",
        "    pooler_token = bert_out[1]\n",
        "    #cls_token = bert_out[0][:, 0, :]\n",
        "\n",
        "    hidden = tf.keras.layers.Dense(hidden_size, activation='relu', name='hidden_layer')(pooler_token)\n",
        "\n",
        "\n",
        "    hidden = tf.keras.layers.Dropout(dropout)(hidden)  \n",
        "\n",
        "\n",
        "    classification = tf.keras.layers.Dense(1, activation='sigmoid',name='classification_layer')(hidden)\n",
        "    \n",
        "    classification_model = tf.keras.Model(inputs=[input_ids, token_type_ids, attention_mask], outputs=[classification])\n",
        "    \n",
        "    classification_model.compile(optimizer=tf.keras.optimizers.Adam(learning_rate=learning_rate),\n",
        "                                 loss=tf.keras.losses.BinaryCrossentropy(from_logits=False), \n",
        "                                 metrics='accuracy')\n",
        "\n",
        "\n",
        "\n",
        "\n",
        "\n",
        "\n",
        "    \n",
        "\n",
        "    ### END YOUR CODE\n",
        "    \n",
        "    return classification_model"
      ]
    },
    {
      "cell_type": "markdown",
      "metadata": {
        "id": "KcK2PyPNoNc2"
      },
      "source": [
        "Now create the model and train for 2 epochs. Use batch size 8 and the appropriate validation/test set. (We don't make a distinction here between validation and test although we might in other contexts.)\n"
      ]
    },
    {
      "cell_type": "code",
      "execution_count": null,
      "metadata": {
        "id": "hIXDr8OdiSyv"
      },
      "outputs": [],
      "source": [
        "### YOUR CODE HERE\n",
        "bert_classification_model_history = create_bert_cls_model.fit(\n",
        "    [tokenized_input.input_ids, tokenized_input.token_type_ids, tokenized_input.attention_mask],\n",
        "    y_train,\n",
        "    validation_data=([x_test.input_ids, x_test.token_type_ids, x_test.attention_mask], y_test),\n",
        "    batch_size=8,\n",
        "    epochs=2\n",
        "\n",
        "\n",
        "### END YOUR CODE"
      ]
    },
    {
      "cell_type": "markdown",
      "metadata": {
        "id": "LLjgxylMnC0x"
      },
      "source": [
        " **QUESTION:** \n",
        " \n",
        " 3.2.a What is the highest validation accuracy that you observed for the [CLS]-classification model after training for 2 epochs? (Copy and paste the decimal value for the highest validation accuracy, e.g. a number like 0.5678 or 0.8765)\n",
        "\n",
        "\n",
        " "
      ]
    },
    {
      "cell_type": "markdown",
      "metadata": {
        "id": "3cMVEBuxro4j"
      },
      "source": [
        "### 3.3 Classification by Averaging the BERT outputs\n",
        "\n",
        "Instead of using only the output vector for the [CLS] token, we will now average the output vectors from BERT for all of the tokens in the full sequence.\n",
        "\n",
        "**HINT:**\n",
        "You will want to get the full sequence of token output vectors from the BERT model and then apply an average across the tokens. You may want to use:\n",
        "\n",
        "```\n",
        "tf.math.reduce_mean()\n",
        "```\n",
        "but you can also do it in other ways.\n",
        "\n"
      ]
    },
    {
      "cell_type": "code",
      "execution_count": null,
      "metadata": {
        "id": "sB2WKwLTk4LY"
      },
      "outputs": [],
      "source": [
        "def create_bert_avg_model(max_sequence_length=MAX_SEQUENCE_LENGTH,\n",
        "                          hidden_size = 100, \n",
        "                          dropout=0.3,\n",
        "                          learning_rate=0.00005):\n",
        "    \"\"\"\n",
        "    Build a simple classification model with BERT. Use the average of the BERT output tokens\n",
        "    \"\"\"\n",
        "\n",
        "    ### YOUR CODE HERE\n",
        "\n",
        "\n",
        "\n",
        "\n",
        " \n",
        "\n",
        "\n",
        "\n",
        "    \n",
        "    \n",
        "    ### END YOUR CODE\n",
        "\n",
        "    return classification_model"
      ]
    },
    {
      "cell_type": "markdown",
      "metadata": {
        "id": "xcLrgI49tBde"
      },
      "source": [
        "Now create the model and train for 2 epochs. Use batch size 8 and the appropriate validation/test set. (We again don't make a distinction here.)  Remember that all layers of the BERT model should be trainable."
      ]
    },
    {
      "cell_type": "code",
      "execution_count": null,
      "metadata": {
        "id": "AtS29uRbk4Os"
      },
      "outputs": [],
      "source": [
        "### YOUR CODE HERE\n",
        "\n",
        "\n",
        "\n",
        "### END YOUR CODE"
      ]
    },
    {
      "cell_type": "markdown",
      "metadata": {
        "id": "NiWb3y9anNlG"
      },
      "source": [
        " **QUESTION:** \n",
        " \n",
        " 3.3.a What is the highest validation accuracy that you observed for the BERT-averaging-classification model after training for 2 epochs? (Copy and paste the decimal value for the highest validation accuracy, e.g. a number like 0.5678 or 0.8765)\n",
        "\n",
        "\n",
        " "
      ]
    },
    {
      "cell_type": "markdown",
      "metadata": {
        "id": "jpVZXfOAt0UC"
      },
      "source": [
        "### 3.4 Adding a CNN on top of BERT\n",
        "\n",
        "Can we also combine advanced architectures? Absolutely! In the end we are dealing with tensors and it does not matter whether they are coming from static word2vec embeddings or context-based BERT embeddings. (Whether we want to is another question, but let's try it here.)\n",
        "\n",
        "\n",
        "**HINT:**\n",
        "You should appropriately stitch together the BERT-based components and the CNN components from the lesson notebook. Remember that BERT provides a sequence of contextualized token embeddings as its main output, and a CNN takes a sequence of vectors as input.\n",
        "\n",
        "Use the provided hyperparameters for CNN filter sizes and numbers of filters. Keep the same hyperparameters for the rest of the model, including a dropout layer and dense layer after the CNN, with the provided dropout rate and hidden_size. Again make sure the BERT model is trainable."
      ]
    },
    {
      "cell_type": "code",
      "execution_count": null,
      "metadata": {
        "id": "6IJoPmcHk4UO"
      },
      "outputs": [],
      "source": [
        "def create_bert_cnn_model(max_sequence_length=MAX_SEQUENCE_LENGTH,\n",
        "                          num_filters = [100, 100, 50, 25],\n",
        "                          kernel_sizes = [2, 3, 4, 5],\n",
        "                          dropout = 0.3,\n",
        "                          hidden_size = 100, \n",
        "                          learning_rate=0.00005):\n",
        "    \"\"\"\n",
        "    Build a  classification model with BERT, where you apply CNN layers  to the BERT output\n",
        "    \"\"\"\n",
        "\n",
        "    ### YOUR CODE HERE\n",
        "    \n",
        "\n",
        "\n",
        "\n",
        "\n",
        "\n",
        "\n",
        "\n",
        "\n",
        "\n",
        "\n",
        "    \n",
        "\n",
        "    ### END YOUR CODE\n",
        "    \n",
        "    return classification_model"
      ]
    },
    {
      "cell_type": "markdown",
      "metadata": {
        "id": "1KVHhxxIhkqS"
      },
      "source": [
        "Train this model for 2 epochs as well with mini-batch size of 8:"
      ]
    },
    {
      "cell_type": "code",
      "execution_count": null,
      "metadata": {
        "id": "gobUGAVFk4XG"
      },
      "outputs": [],
      "source": [
        "### YOUR CODE HERE\n",
        "\n",
        "\n",
        "### END YOUR CODE"
      ]
    },
    {
      "cell_type": "markdown",
      "metadata": {
        "id": "19zjdjc0nTn8"
      },
      "source": [
        " **QUESTION:** \n",
        " \n",
        "3.4.a What is the highest validation accuracy that you observed for the BERT-CNN-classification model after 2 epochs?  (Copy and paste the decimal value for the highest validation accuracy, e.g. a number like 0.5678 or 0.8765)\n"
      ]
    },
    {
      "cell_type": "markdown",
      "metadata": {
        "id": "_Y3e9X8bvhZf"
      },
      "source": [
        "# That's It! \n",
        "## Congratulations... You are done! \n",
        "## We hope you learned a ton!"
      ]
    },
    {
      "cell_type": "code",
      "execution_count": null,
      "metadata": {
        "id": "OxoSk-w16Bs8"
      },
      "outputs": [],
      "source": []
    }
  ],
  "metadata": {
    "accelerator": "GPU",
    "colab": {
      "provenance": [],
      "include_colab_link": true
    },
    "gpuClass": "standard",
    "kernelspec": {
      "display_name": "Python 3",
      "language": "python",
      "name": "python3"
    },
    "language_info": {
      "codemirror_mode": {
        "name": "ipython",
        "version": 3
      },
      "file_extension": ".py",
      "mimetype": "text/x-python",
      "name": "python",
      "nbconvert_exporter": "python",
      "pygments_lexer": "ipython3",
      "version": "3.8.5"
    },
    "widgets": {
      "application/vnd.jupyter.widget-state+json": {
        "50d4229f8ff14a7eb9ba25b7985e5891": {
          "model_module": "@jupyter-widgets/controls",
          "model_name": "HBoxModel",
          "model_module_version": "1.5.0",
          "state": {
            "_dom_classes": [],
            "_model_module": "@jupyter-widgets/controls",
            "_model_module_version": "1.5.0",
            "_model_name": "HBoxModel",
            "_view_count": null,
            "_view_module": "@jupyter-widgets/controls",
            "_view_module_version": "1.5.0",
            "_view_name": "HBoxView",
            "box_style": "",
            "children": [
              "IPY_MODEL_2a08fe6177ed4ca698ad09ddb0908302",
              "IPY_MODEL_36157368cbd248759bc68ccacab11c44",
              "IPY_MODEL_355ed42bca5344a2a4aa4ee8a5e4a318"
            ],
            "layout": "IPY_MODEL_8b29a735461644f2b5025e2300da6a32"
          }
        },
        "2a08fe6177ed4ca698ad09ddb0908302": {
          "model_module": "@jupyter-widgets/controls",
          "model_name": "HTMLModel",
          "model_module_version": "1.5.0",
          "state": {
            "_dom_classes": [],
            "_model_module": "@jupyter-widgets/controls",
            "_model_module_version": "1.5.0",
            "_model_name": "HTMLModel",
            "_view_count": null,
            "_view_module": "@jupyter-widgets/controls",
            "_view_module_version": "1.5.0",
            "_view_name": "HTMLView",
            "description": "",
            "description_tooltip": null,
            "layout": "IPY_MODEL_477df0b8be5c4691bdb0cf2a9a93ab91",
            "placeholder": "​",
            "style": "IPY_MODEL_bb323a6f44b54a1a83ea19bf939a1241",
            "value": "Dl Completed...: 100%"
          }
        },
        "36157368cbd248759bc68ccacab11c44": {
          "model_module": "@jupyter-widgets/controls",
          "model_name": "FloatProgressModel",
          "model_module_version": "1.5.0",
          "state": {
            "_dom_classes": [],
            "_model_module": "@jupyter-widgets/controls",
            "_model_module_version": "1.5.0",
            "_model_name": "FloatProgressModel",
            "_view_count": null,
            "_view_module": "@jupyter-widgets/controls",
            "_view_module_version": "1.5.0",
            "_view_name": "ProgressView",
            "bar_style": "success",
            "description": "",
            "description_tooltip": null,
            "layout": "IPY_MODEL_0a0b8a6e71974ec587990b0ffed593b5",
            "max": 1,
            "min": 0,
            "orientation": "horizontal",
            "style": "IPY_MODEL_5919b2c544594cb3af090a6acb2a0d70",
            "value": 1
          }
        },
        "355ed42bca5344a2a4aa4ee8a5e4a318": {
          "model_module": "@jupyter-widgets/controls",
          "model_name": "HTMLModel",
          "model_module_version": "1.5.0",
          "state": {
            "_dom_classes": [],
            "_model_module": "@jupyter-widgets/controls",
            "_model_module_version": "1.5.0",
            "_model_name": "HTMLModel",
            "_view_count": null,
            "_view_module": "@jupyter-widgets/controls",
            "_view_module_version": "1.5.0",
            "_view_name": "HTMLView",
            "description": "",
            "description_tooltip": null,
            "layout": "IPY_MODEL_01a6b241aa034f90a1987f73793e0688",
            "placeholder": "​",
            "style": "IPY_MODEL_a0f256882b8540b5b0e9a910e45676c1",
            "value": " 1/1 [00:05&lt;00:00,  5.91s/ url]"
          }
        },
        "8b29a735461644f2b5025e2300da6a32": {
          "model_module": "@jupyter-widgets/base",
          "model_name": "LayoutModel",
          "model_module_version": "1.2.0",
          "state": {
            "_model_module": "@jupyter-widgets/base",
            "_model_module_version": "1.2.0",
            "_model_name": "LayoutModel",
            "_view_count": null,
            "_view_module": "@jupyter-widgets/base",
            "_view_module_version": "1.2.0",
            "_view_name": "LayoutView",
            "align_content": null,
            "align_items": null,
            "align_self": null,
            "border": null,
            "bottom": null,
            "display": null,
            "flex": null,
            "flex_flow": null,
            "grid_area": null,
            "grid_auto_columns": null,
            "grid_auto_flow": null,
            "grid_auto_rows": null,
            "grid_column": null,
            "grid_gap": null,
            "grid_row": null,
            "grid_template_areas": null,
            "grid_template_columns": null,
            "grid_template_rows": null,
            "height": null,
            "justify_content": null,
            "justify_items": null,
            "left": null,
            "margin": null,
            "max_height": null,
            "max_width": null,
            "min_height": null,
            "min_width": null,
            "object_fit": null,
            "object_position": null,
            "order": null,
            "overflow": null,
            "overflow_x": null,
            "overflow_y": null,
            "padding": null,
            "right": null,
            "top": null,
            "visibility": null,
            "width": null
          }
        },
        "477df0b8be5c4691bdb0cf2a9a93ab91": {
          "model_module": "@jupyter-widgets/base",
          "model_name": "LayoutModel",
          "model_module_version": "1.2.0",
          "state": {
            "_model_module": "@jupyter-widgets/base",
            "_model_module_version": "1.2.0",
            "_model_name": "LayoutModel",
            "_view_count": null,
            "_view_module": "@jupyter-widgets/base",
            "_view_module_version": "1.2.0",
            "_view_name": "LayoutView",
            "align_content": null,
            "align_items": null,
            "align_self": null,
            "border": null,
            "bottom": null,
            "display": null,
            "flex": null,
            "flex_flow": null,
            "grid_area": null,
            "grid_auto_columns": null,
            "grid_auto_flow": null,
            "grid_auto_rows": null,
            "grid_column": null,
            "grid_gap": null,
            "grid_row": null,
            "grid_template_areas": null,
            "grid_template_columns": null,
            "grid_template_rows": null,
            "height": null,
            "justify_content": null,
            "justify_items": null,
            "left": null,
            "margin": null,
            "max_height": null,
            "max_width": null,
            "min_height": null,
            "min_width": null,
            "object_fit": null,
            "object_position": null,
            "order": null,
            "overflow": null,
            "overflow_x": null,
            "overflow_y": null,
            "padding": null,
            "right": null,
            "top": null,
            "visibility": null,
            "width": null
          }
        },
        "bb323a6f44b54a1a83ea19bf939a1241": {
          "model_module": "@jupyter-widgets/controls",
          "model_name": "DescriptionStyleModel",
          "model_module_version": "1.5.0",
          "state": {
            "_model_module": "@jupyter-widgets/controls",
            "_model_module_version": "1.5.0",
            "_model_name": "DescriptionStyleModel",
            "_view_count": null,
            "_view_module": "@jupyter-widgets/base",
            "_view_module_version": "1.2.0",
            "_view_name": "StyleView",
            "description_width": ""
          }
        },
        "0a0b8a6e71974ec587990b0ffed593b5": {
          "model_module": "@jupyter-widgets/base",
          "model_name": "LayoutModel",
          "model_module_version": "1.2.0",
          "state": {
            "_model_module": "@jupyter-widgets/base",
            "_model_module_version": "1.2.0",
            "_model_name": "LayoutModel",
            "_view_count": null,
            "_view_module": "@jupyter-widgets/base",
            "_view_module_version": "1.2.0",
            "_view_name": "LayoutView",
            "align_content": null,
            "align_items": null,
            "align_self": null,
            "border": null,
            "bottom": null,
            "display": null,
            "flex": null,
            "flex_flow": null,
            "grid_area": null,
            "grid_auto_columns": null,
            "grid_auto_flow": null,
            "grid_auto_rows": null,
            "grid_column": null,
            "grid_gap": null,
            "grid_row": null,
            "grid_template_areas": null,
            "grid_template_columns": null,
            "grid_template_rows": null,
            "height": null,
            "justify_content": null,
            "justify_items": null,
            "left": null,
            "margin": null,
            "max_height": null,
            "max_width": null,
            "min_height": null,
            "min_width": null,
            "object_fit": null,
            "object_position": null,
            "order": null,
            "overflow": null,
            "overflow_x": null,
            "overflow_y": null,
            "padding": null,
            "right": null,
            "top": null,
            "visibility": null,
            "width": "20px"
          }
        },
        "5919b2c544594cb3af090a6acb2a0d70": {
          "model_module": "@jupyter-widgets/controls",
          "model_name": "ProgressStyleModel",
          "model_module_version": "1.5.0",
          "state": {
            "_model_module": "@jupyter-widgets/controls",
            "_model_module_version": "1.5.0",
            "_model_name": "ProgressStyleModel",
            "_view_count": null,
            "_view_module": "@jupyter-widgets/base",
            "_view_module_version": "1.2.0",
            "_view_name": "StyleView",
            "bar_color": null,
            "description_width": ""
          }
        },
        "01a6b241aa034f90a1987f73793e0688": {
          "model_module": "@jupyter-widgets/base",
          "model_name": "LayoutModel",
          "model_module_version": "1.2.0",
          "state": {
            "_model_module": "@jupyter-widgets/base",
            "_model_module_version": "1.2.0",
            "_model_name": "LayoutModel",
            "_view_count": null,
            "_view_module": "@jupyter-widgets/base",
            "_view_module_version": "1.2.0",
            "_view_name": "LayoutView",
            "align_content": null,
            "align_items": null,
            "align_self": null,
            "border": null,
            "bottom": null,
            "display": null,
            "flex": null,
            "flex_flow": null,
            "grid_area": null,
            "grid_auto_columns": null,
            "grid_auto_flow": null,
            "grid_auto_rows": null,
            "grid_column": null,
            "grid_gap": null,
            "grid_row": null,
            "grid_template_areas": null,
            "grid_template_columns": null,
            "grid_template_rows": null,
            "height": null,
            "justify_content": null,
            "justify_items": null,
            "left": null,
            "margin": null,
            "max_height": null,
            "max_width": null,
            "min_height": null,
            "min_width": null,
            "object_fit": null,
            "object_position": null,
            "order": null,
            "overflow": null,
            "overflow_x": null,
            "overflow_y": null,
            "padding": null,
            "right": null,
            "top": null,
            "visibility": null,
            "width": null
          }
        },
        "a0f256882b8540b5b0e9a910e45676c1": {
          "model_module": "@jupyter-widgets/controls",
          "model_name": "DescriptionStyleModel",
          "model_module_version": "1.5.0",
          "state": {
            "_model_module": "@jupyter-widgets/controls",
            "_model_module_version": "1.5.0",
            "_model_name": "DescriptionStyleModel",
            "_view_count": null,
            "_view_module": "@jupyter-widgets/base",
            "_view_module_version": "1.2.0",
            "_view_name": "StyleView",
            "description_width": ""
          }
        },
        "708c9b8ef65d45fa85c8ff8e15d4f8b3": {
          "model_module": "@jupyter-widgets/controls",
          "model_name": "HBoxModel",
          "model_module_version": "1.5.0",
          "state": {
            "_dom_classes": [],
            "_model_module": "@jupyter-widgets/controls",
            "_model_module_version": "1.5.0",
            "_model_name": "HBoxModel",
            "_view_count": null,
            "_view_module": "@jupyter-widgets/controls",
            "_view_module_version": "1.5.0",
            "_view_name": "HBoxView",
            "box_style": "",
            "children": [
              "IPY_MODEL_5fb2ec9b81f649d698cc352e960c74dd",
              "IPY_MODEL_dca3f9e0571e440b91cc06bdde8d8209",
              "IPY_MODEL_b87d4690308a4ec399a023ae5bc9de3c"
            ],
            "layout": "IPY_MODEL_4df3f5fc8d6c40a9a64294bfae2c0198"
          }
        },
        "5fb2ec9b81f649d698cc352e960c74dd": {
          "model_module": "@jupyter-widgets/controls",
          "model_name": "HTMLModel",
          "model_module_version": "1.5.0",
          "state": {
            "_dom_classes": [],
            "_model_module": "@jupyter-widgets/controls",
            "_model_module_version": "1.5.0",
            "_model_name": "HTMLModel",
            "_view_count": null,
            "_view_module": "@jupyter-widgets/controls",
            "_view_module_version": "1.5.0",
            "_view_name": "HTMLView",
            "description": "",
            "description_tooltip": null,
            "layout": "IPY_MODEL_7bc58ea1fc7d42598a11f1540ff218e7",
            "placeholder": "​",
            "style": "IPY_MODEL_db22dac412404f52b0de7b86f6bf8f1b",
            "value": "Dl Size...: 100%"
          }
        },
        "dca3f9e0571e440b91cc06bdde8d8209": {
          "model_module": "@jupyter-widgets/controls",
          "model_name": "FloatProgressModel",
          "model_module_version": "1.5.0",
          "state": {
            "_dom_classes": [],
            "_model_module": "@jupyter-widgets/controls",
            "_model_module_version": "1.5.0",
            "_model_name": "FloatProgressModel",
            "_view_count": null,
            "_view_module": "@jupyter-widgets/controls",
            "_view_module_version": "1.5.0",
            "_view_name": "ProgressView",
            "bar_style": "success",
            "description": "",
            "description_tooltip": null,
            "layout": "IPY_MODEL_63ebb2ebfc1943fb9226d7e479d01145",
            "max": 1,
            "min": 0,
            "orientation": "horizontal",
            "style": "IPY_MODEL_4a5f44a7586a4ce28d0d0cf7be3bf1f6",
            "value": 1
          }
        },
        "b87d4690308a4ec399a023ae5bc9de3c": {
          "model_module": "@jupyter-widgets/controls",
          "model_name": "HTMLModel",
          "model_module_version": "1.5.0",
          "state": {
            "_dom_classes": [],
            "_model_module": "@jupyter-widgets/controls",
            "_model_module_version": "1.5.0",
            "_model_name": "HTMLModel",
            "_view_count": null,
            "_view_module": "@jupyter-widgets/controls",
            "_view_module_version": "1.5.0",
            "_view_name": "HTMLView",
            "description": "",
            "description_tooltip": null,
            "layout": "IPY_MODEL_55d58df016604e34974171c4c87d5312",
            "placeholder": "​",
            "style": "IPY_MODEL_d26c752b9b9549279598aa5ea1e0fc25",
            "value": " 80/80 [00:05&lt;00:00, 36.55 MiB/s]"
          }
        },
        "4df3f5fc8d6c40a9a64294bfae2c0198": {
          "model_module": "@jupyter-widgets/base",
          "model_name": "LayoutModel",
          "model_module_version": "1.2.0",
          "state": {
            "_model_module": "@jupyter-widgets/base",
            "_model_module_version": "1.2.0",
            "_model_name": "LayoutModel",
            "_view_count": null,
            "_view_module": "@jupyter-widgets/base",
            "_view_module_version": "1.2.0",
            "_view_name": "LayoutView",
            "align_content": null,
            "align_items": null,
            "align_self": null,
            "border": null,
            "bottom": null,
            "display": null,
            "flex": null,
            "flex_flow": null,
            "grid_area": null,
            "grid_auto_columns": null,
            "grid_auto_flow": null,
            "grid_auto_rows": null,
            "grid_column": null,
            "grid_gap": null,
            "grid_row": null,
            "grid_template_areas": null,
            "grid_template_columns": null,
            "grid_template_rows": null,
            "height": null,
            "justify_content": null,
            "justify_items": null,
            "left": null,
            "margin": null,
            "max_height": null,
            "max_width": null,
            "min_height": null,
            "min_width": null,
            "object_fit": null,
            "object_position": null,
            "order": null,
            "overflow": null,
            "overflow_x": null,
            "overflow_y": null,
            "padding": null,
            "right": null,
            "top": null,
            "visibility": null,
            "width": null
          }
        },
        "7bc58ea1fc7d42598a11f1540ff218e7": {
          "model_module": "@jupyter-widgets/base",
          "model_name": "LayoutModel",
          "model_module_version": "1.2.0",
          "state": {
            "_model_module": "@jupyter-widgets/base",
            "_model_module_version": "1.2.0",
            "_model_name": "LayoutModel",
            "_view_count": null,
            "_view_module": "@jupyter-widgets/base",
            "_view_module_version": "1.2.0",
            "_view_name": "LayoutView",
            "align_content": null,
            "align_items": null,
            "align_self": null,
            "border": null,
            "bottom": null,
            "display": null,
            "flex": null,
            "flex_flow": null,
            "grid_area": null,
            "grid_auto_columns": null,
            "grid_auto_flow": null,
            "grid_auto_rows": null,
            "grid_column": null,
            "grid_gap": null,
            "grid_row": null,
            "grid_template_areas": null,
            "grid_template_columns": null,
            "grid_template_rows": null,
            "height": null,
            "justify_content": null,
            "justify_items": null,
            "left": null,
            "margin": null,
            "max_height": null,
            "max_width": null,
            "min_height": null,
            "min_width": null,
            "object_fit": null,
            "object_position": null,
            "order": null,
            "overflow": null,
            "overflow_x": null,
            "overflow_y": null,
            "padding": null,
            "right": null,
            "top": null,
            "visibility": null,
            "width": null
          }
        },
        "db22dac412404f52b0de7b86f6bf8f1b": {
          "model_module": "@jupyter-widgets/controls",
          "model_name": "DescriptionStyleModel",
          "model_module_version": "1.5.0",
          "state": {
            "_model_module": "@jupyter-widgets/controls",
            "_model_module_version": "1.5.0",
            "_model_name": "DescriptionStyleModel",
            "_view_count": null,
            "_view_module": "@jupyter-widgets/base",
            "_view_module_version": "1.2.0",
            "_view_name": "StyleView",
            "description_width": ""
          }
        },
        "63ebb2ebfc1943fb9226d7e479d01145": {
          "model_module": "@jupyter-widgets/base",
          "model_name": "LayoutModel",
          "model_module_version": "1.2.0",
          "state": {
            "_model_module": "@jupyter-widgets/base",
            "_model_module_version": "1.2.0",
            "_model_name": "LayoutModel",
            "_view_count": null,
            "_view_module": "@jupyter-widgets/base",
            "_view_module_version": "1.2.0",
            "_view_name": "LayoutView",
            "align_content": null,
            "align_items": null,
            "align_self": null,
            "border": null,
            "bottom": null,
            "display": null,
            "flex": null,
            "flex_flow": null,
            "grid_area": null,
            "grid_auto_columns": null,
            "grid_auto_flow": null,
            "grid_auto_rows": null,
            "grid_column": null,
            "grid_gap": null,
            "grid_row": null,
            "grid_template_areas": null,
            "grid_template_columns": null,
            "grid_template_rows": null,
            "height": null,
            "justify_content": null,
            "justify_items": null,
            "left": null,
            "margin": null,
            "max_height": null,
            "max_width": null,
            "min_height": null,
            "min_width": null,
            "object_fit": null,
            "object_position": null,
            "order": null,
            "overflow": null,
            "overflow_x": null,
            "overflow_y": null,
            "padding": null,
            "right": null,
            "top": null,
            "visibility": null,
            "width": "20px"
          }
        },
        "4a5f44a7586a4ce28d0d0cf7be3bf1f6": {
          "model_module": "@jupyter-widgets/controls",
          "model_name": "ProgressStyleModel",
          "model_module_version": "1.5.0",
          "state": {
            "_model_module": "@jupyter-widgets/controls",
            "_model_module_version": "1.5.0",
            "_model_name": "ProgressStyleModel",
            "_view_count": null,
            "_view_module": "@jupyter-widgets/base",
            "_view_module_version": "1.2.0",
            "_view_name": "StyleView",
            "bar_color": null,
            "description_width": ""
          }
        },
        "55d58df016604e34974171c4c87d5312": {
          "model_module": "@jupyter-widgets/base",
          "model_name": "LayoutModel",
          "model_module_version": "1.2.0",
          "state": {
            "_model_module": "@jupyter-widgets/base",
            "_model_module_version": "1.2.0",
            "_model_name": "LayoutModel",
            "_view_count": null,
            "_view_module": "@jupyter-widgets/base",
            "_view_module_version": "1.2.0",
            "_view_name": "LayoutView",
            "align_content": null,
            "align_items": null,
            "align_self": null,
            "border": null,
            "bottom": null,
            "display": null,
            "flex": null,
            "flex_flow": null,
            "grid_area": null,
            "grid_auto_columns": null,
            "grid_auto_flow": null,
            "grid_auto_rows": null,
            "grid_column": null,
            "grid_gap": null,
            "grid_row": null,
            "grid_template_areas": null,
            "grid_template_columns": null,
            "grid_template_rows": null,
            "height": null,
            "justify_content": null,
            "justify_items": null,
            "left": null,
            "margin": null,
            "max_height": null,
            "max_width": null,
            "min_height": null,
            "min_width": null,
            "object_fit": null,
            "object_position": null,
            "order": null,
            "overflow": null,
            "overflow_x": null,
            "overflow_y": null,
            "padding": null,
            "right": null,
            "top": null,
            "visibility": null,
            "width": null
          }
        },
        "d26c752b9b9549279598aa5ea1e0fc25": {
          "model_module": "@jupyter-widgets/controls",
          "model_name": "DescriptionStyleModel",
          "model_module_version": "1.5.0",
          "state": {
            "_model_module": "@jupyter-widgets/controls",
            "_model_module_version": "1.5.0",
            "_model_name": "DescriptionStyleModel",
            "_view_count": null,
            "_view_module": "@jupyter-widgets/base",
            "_view_module_version": "1.2.0",
            "_view_name": "StyleView",
            "description_width": ""
          }
        },
        "049254e6e9ed4f5ab0258f249e42c879": {
          "model_module": "@jupyter-widgets/controls",
          "model_name": "HBoxModel",
          "model_module_version": "1.5.0",
          "state": {
            "_dom_classes": [],
            "_model_module": "@jupyter-widgets/controls",
            "_model_module_version": "1.5.0",
            "_model_name": "HBoxModel",
            "_view_count": null,
            "_view_module": "@jupyter-widgets/controls",
            "_view_module_version": "1.5.0",
            "_view_name": "HBoxView",
            "box_style": "",
            "children": [
              "IPY_MODEL_8282b8d51ec14a009e020aa982660cf5",
              "IPY_MODEL_2f89409586a7481aa67cbc94884fc108",
              "IPY_MODEL_04053059588d44dda4784389d98894e9"
            ],
            "layout": "IPY_MODEL_3d92236323c3465f8b1c4ecce9f4c2fc"
          }
        },
        "8282b8d51ec14a009e020aa982660cf5": {
          "model_module": "@jupyter-widgets/controls",
          "model_name": "HTMLModel",
          "model_module_version": "1.5.0",
          "state": {
            "_dom_classes": [],
            "_model_module": "@jupyter-widgets/controls",
            "_model_module_version": "1.5.0",
            "_model_name": "HTMLModel",
            "_view_count": null,
            "_view_module": "@jupyter-widgets/controls",
            "_view_module_version": "1.5.0",
            "_view_name": "HTMLView",
            "description": "",
            "description_tooltip": null,
            "layout": "IPY_MODEL_22942aa060354dbaa0bbbca1865f6e26",
            "placeholder": "​",
            "style": "IPY_MODEL_b190d38b08af4799983335c423cf1b1b",
            "value": "Generating splits...: 100%"
          }
        },
        "2f89409586a7481aa67cbc94884fc108": {
          "model_module": "@jupyter-widgets/controls",
          "model_name": "FloatProgressModel",
          "model_module_version": "1.5.0",
          "state": {
            "_dom_classes": [],
            "_model_module": "@jupyter-widgets/controls",
            "_model_module_version": "1.5.0",
            "_model_name": "FloatProgressModel",
            "_view_count": null,
            "_view_module": "@jupyter-widgets/controls",
            "_view_module_version": "1.5.0",
            "_view_name": "ProgressView",
            "bar_style": "",
            "description": "",
            "description_tooltip": null,
            "layout": "IPY_MODEL_1eb344d5875e44709dec2171ecdcd3b3",
            "max": 3,
            "min": 0,
            "orientation": "horizontal",
            "style": "IPY_MODEL_166dbed867894dfcaf599000d5a3154d",
            "value": 3
          }
        },
        "04053059588d44dda4784389d98894e9": {
          "model_module": "@jupyter-widgets/controls",
          "model_name": "HTMLModel",
          "model_module_version": "1.5.0",
          "state": {
            "_dom_classes": [],
            "_model_module": "@jupyter-widgets/controls",
            "_model_module_version": "1.5.0",
            "_model_name": "HTMLModel",
            "_view_count": null,
            "_view_module": "@jupyter-widgets/controls",
            "_view_module_version": "1.5.0",
            "_view_name": "HTMLView",
            "description": "",
            "description_tooltip": null,
            "layout": "IPY_MODEL_0500d78b84da4aa4ab925c1ba6f5c5fa",
            "placeholder": "​",
            "style": "IPY_MODEL_1db8068d45fa419d9e028007eebb081f",
            "value": " 3/3 [01:01&lt;00:00, 20.60s/ splits]"
          }
        },
        "3d92236323c3465f8b1c4ecce9f4c2fc": {
          "model_module": "@jupyter-widgets/base",
          "model_name": "LayoutModel",
          "model_module_version": "1.2.0",
          "state": {
            "_model_module": "@jupyter-widgets/base",
            "_model_module_version": "1.2.0",
            "_model_name": "LayoutModel",
            "_view_count": null,
            "_view_module": "@jupyter-widgets/base",
            "_view_module_version": "1.2.0",
            "_view_name": "LayoutView",
            "align_content": null,
            "align_items": null,
            "align_self": null,
            "border": null,
            "bottom": null,
            "display": null,
            "flex": null,
            "flex_flow": null,
            "grid_area": null,
            "grid_auto_columns": null,
            "grid_auto_flow": null,
            "grid_auto_rows": null,
            "grid_column": null,
            "grid_gap": null,
            "grid_row": null,
            "grid_template_areas": null,
            "grid_template_columns": null,
            "grid_template_rows": null,
            "height": null,
            "justify_content": null,
            "justify_items": null,
            "left": null,
            "margin": null,
            "max_height": null,
            "max_width": null,
            "min_height": null,
            "min_width": null,
            "object_fit": null,
            "object_position": null,
            "order": null,
            "overflow": null,
            "overflow_x": null,
            "overflow_y": null,
            "padding": null,
            "right": null,
            "top": null,
            "visibility": "hidden",
            "width": null
          }
        },
        "22942aa060354dbaa0bbbca1865f6e26": {
          "model_module": "@jupyter-widgets/base",
          "model_name": "LayoutModel",
          "model_module_version": "1.2.0",
          "state": {
            "_model_module": "@jupyter-widgets/base",
            "_model_module_version": "1.2.0",
            "_model_name": "LayoutModel",
            "_view_count": null,
            "_view_module": "@jupyter-widgets/base",
            "_view_module_version": "1.2.0",
            "_view_name": "LayoutView",
            "align_content": null,
            "align_items": null,
            "align_self": null,
            "border": null,
            "bottom": null,
            "display": null,
            "flex": null,
            "flex_flow": null,
            "grid_area": null,
            "grid_auto_columns": null,
            "grid_auto_flow": null,
            "grid_auto_rows": null,
            "grid_column": null,
            "grid_gap": null,
            "grid_row": null,
            "grid_template_areas": null,
            "grid_template_columns": null,
            "grid_template_rows": null,
            "height": null,
            "justify_content": null,
            "justify_items": null,
            "left": null,
            "margin": null,
            "max_height": null,
            "max_width": null,
            "min_height": null,
            "min_width": null,
            "object_fit": null,
            "object_position": null,
            "order": null,
            "overflow": null,
            "overflow_x": null,
            "overflow_y": null,
            "padding": null,
            "right": null,
            "top": null,
            "visibility": null,
            "width": null
          }
        },
        "b190d38b08af4799983335c423cf1b1b": {
          "model_module": "@jupyter-widgets/controls",
          "model_name": "DescriptionStyleModel",
          "model_module_version": "1.5.0",
          "state": {
            "_model_module": "@jupyter-widgets/controls",
            "_model_module_version": "1.5.0",
            "_model_name": "DescriptionStyleModel",
            "_view_count": null,
            "_view_module": "@jupyter-widgets/base",
            "_view_module_version": "1.2.0",
            "_view_name": "StyleView",
            "description_width": ""
          }
        },
        "1eb344d5875e44709dec2171ecdcd3b3": {
          "model_module": "@jupyter-widgets/base",
          "model_name": "LayoutModel",
          "model_module_version": "1.2.0",
          "state": {
            "_model_module": "@jupyter-widgets/base",
            "_model_module_version": "1.2.0",
            "_model_name": "LayoutModel",
            "_view_count": null,
            "_view_module": "@jupyter-widgets/base",
            "_view_module_version": "1.2.0",
            "_view_name": "LayoutView",
            "align_content": null,
            "align_items": null,
            "align_self": null,
            "border": null,
            "bottom": null,
            "display": null,
            "flex": null,
            "flex_flow": null,
            "grid_area": null,
            "grid_auto_columns": null,
            "grid_auto_flow": null,
            "grid_auto_rows": null,
            "grid_column": null,
            "grid_gap": null,
            "grid_row": null,
            "grid_template_areas": null,
            "grid_template_columns": null,
            "grid_template_rows": null,
            "height": null,
            "justify_content": null,
            "justify_items": null,
            "left": null,
            "margin": null,
            "max_height": null,
            "max_width": null,
            "min_height": null,
            "min_width": null,
            "object_fit": null,
            "object_position": null,
            "order": null,
            "overflow": null,
            "overflow_x": null,
            "overflow_y": null,
            "padding": null,
            "right": null,
            "top": null,
            "visibility": null,
            "width": null
          }
        },
        "166dbed867894dfcaf599000d5a3154d": {
          "model_module": "@jupyter-widgets/controls",
          "model_name": "ProgressStyleModel",
          "model_module_version": "1.5.0",
          "state": {
            "_model_module": "@jupyter-widgets/controls",
            "_model_module_version": "1.5.0",
            "_model_name": "ProgressStyleModel",
            "_view_count": null,
            "_view_module": "@jupyter-widgets/base",
            "_view_module_version": "1.2.0",
            "_view_name": "StyleView",
            "bar_color": null,
            "description_width": ""
          }
        },
        "0500d78b84da4aa4ab925c1ba6f5c5fa": {
          "model_module": "@jupyter-widgets/base",
          "model_name": "LayoutModel",
          "model_module_version": "1.2.0",
          "state": {
            "_model_module": "@jupyter-widgets/base",
            "_model_module_version": "1.2.0",
            "_model_name": "LayoutModel",
            "_view_count": null,
            "_view_module": "@jupyter-widgets/base",
            "_view_module_version": "1.2.0",
            "_view_name": "LayoutView",
            "align_content": null,
            "align_items": null,
            "align_self": null,
            "border": null,
            "bottom": null,
            "display": null,
            "flex": null,
            "flex_flow": null,
            "grid_area": null,
            "grid_auto_columns": null,
            "grid_auto_flow": null,
            "grid_auto_rows": null,
            "grid_column": null,
            "grid_gap": null,
            "grid_row": null,
            "grid_template_areas": null,
            "grid_template_columns": null,
            "grid_template_rows": null,
            "height": null,
            "justify_content": null,
            "justify_items": null,
            "left": null,
            "margin": null,
            "max_height": null,
            "max_width": null,
            "min_height": null,
            "min_width": null,
            "object_fit": null,
            "object_position": null,
            "order": null,
            "overflow": null,
            "overflow_x": null,
            "overflow_y": null,
            "padding": null,
            "right": null,
            "top": null,
            "visibility": null,
            "width": null
          }
        },
        "1db8068d45fa419d9e028007eebb081f": {
          "model_module": "@jupyter-widgets/controls",
          "model_name": "DescriptionStyleModel",
          "model_module_version": "1.5.0",
          "state": {
            "_model_module": "@jupyter-widgets/controls",
            "_model_module_version": "1.5.0",
            "_model_name": "DescriptionStyleModel",
            "_view_count": null,
            "_view_module": "@jupyter-widgets/base",
            "_view_module_version": "1.2.0",
            "_view_name": "StyleView",
            "description_width": ""
          }
        },
        "cf54d04d650645baa9ccad0d8734596a": {
          "model_module": "@jupyter-widgets/controls",
          "model_name": "HBoxModel",
          "model_module_version": "1.5.0",
          "state": {
            "_dom_classes": [],
            "_model_module": "@jupyter-widgets/controls",
            "_model_module_version": "1.5.0",
            "_model_name": "HBoxModel",
            "_view_count": null,
            "_view_module": "@jupyter-widgets/controls",
            "_view_module_version": "1.5.0",
            "_view_name": "HBoxView",
            "box_style": "",
            "children": [
              "IPY_MODEL_0cc89f6f6b1c4b059b08561d2afcc49e",
              "IPY_MODEL_513ab97aa61748f18a4a2f23ceafc03f",
              "IPY_MODEL_9d7b17e7de15459dab44e3501af6f85a"
            ],
            "layout": "IPY_MODEL_60c8a4a36c7f47a6b766cc431bbaeb0b"
          }
        },
        "0cc89f6f6b1c4b059b08561d2afcc49e": {
          "model_module": "@jupyter-widgets/controls",
          "model_name": "HTMLModel",
          "model_module_version": "1.5.0",
          "state": {
            "_dom_classes": [],
            "_model_module": "@jupyter-widgets/controls",
            "_model_module_version": "1.5.0",
            "_model_name": "HTMLModel",
            "_view_count": null,
            "_view_module": "@jupyter-widgets/controls",
            "_view_module_version": "1.5.0",
            "_view_name": "HTMLView",
            "description": "",
            "description_tooltip": null,
            "layout": "IPY_MODEL_c07b616a267f41b6a6aa53df0991314f",
            "placeholder": "​",
            "style": "IPY_MODEL_a5c2ebc0af8e4ea1a40867b8d9e6fb2e",
            "value": "Generating train examples...:  99%"
          }
        },
        "513ab97aa61748f18a4a2f23ceafc03f": {
          "model_module": "@jupyter-widgets/controls",
          "model_name": "FloatProgressModel",
          "model_module_version": "1.5.0",
          "state": {
            "_dom_classes": [],
            "_model_module": "@jupyter-widgets/controls",
            "_model_module_version": "1.5.0",
            "_model_name": "FloatProgressModel",
            "_view_count": null,
            "_view_module": "@jupyter-widgets/controls",
            "_view_module_version": "1.5.0",
            "_view_name": "ProgressView",
            "bar_style": "",
            "description": "",
            "description_tooltip": null,
            "layout": "IPY_MODEL_264942c8564c4d8991354aa612de4652",
            "max": 25000,
            "min": 0,
            "orientation": "horizontal",
            "style": "IPY_MODEL_77fc9e7ba0184054b1058c34d45450f5",
            "value": 25000
          }
        },
        "9d7b17e7de15459dab44e3501af6f85a": {
          "model_module": "@jupyter-widgets/controls",
          "model_name": "HTMLModel",
          "model_module_version": "1.5.0",
          "state": {
            "_dom_classes": [],
            "_model_module": "@jupyter-widgets/controls",
            "_model_module_version": "1.5.0",
            "_model_name": "HTMLModel",
            "_view_count": null,
            "_view_module": "@jupyter-widgets/controls",
            "_view_module_version": "1.5.0",
            "_view_name": "HTMLView",
            "description": "",
            "description_tooltip": null,
            "layout": "IPY_MODEL_3654de2f166d46aa93e6dd3e92f01860",
            "placeholder": "​",
            "style": "IPY_MODEL_28506ba86e4247e28956c3e0dfcb117d",
            "value": " 24635/25000 [00:08&lt;00:00, 4106.77 examples/s]"
          }
        },
        "60c8a4a36c7f47a6b766cc431bbaeb0b": {
          "model_module": "@jupyter-widgets/base",
          "model_name": "LayoutModel",
          "model_module_version": "1.2.0",
          "state": {
            "_model_module": "@jupyter-widgets/base",
            "_model_module_version": "1.2.0",
            "_model_name": "LayoutModel",
            "_view_count": null,
            "_view_module": "@jupyter-widgets/base",
            "_view_module_version": "1.2.0",
            "_view_name": "LayoutView",
            "align_content": null,
            "align_items": null,
            "align_self": null,
            "border": null,
            "bottom": null,
            "display": null,
            "flex": null,
            "flex_flow": null,
            "grid_area": null,
            "grid_auto_columns": null,
            "grid_auto_flow": null,
            "grid_auto_rows": null,
            "grid_column": null,
            "grid_gap": null,
            "grid_row": null,
            "grid_template_areas": null,
            "grid_template_columns": null,
            "grid_template_rows": null,
            "height": null,
            "justify_content": null,
            "justify_items": null,
            "left": null,
            "margin": null,
            "max_height": null,
            "max_width": null,
            "min_height": null,
            "min_width": null,
            "object_fit": null,
            "object_position": null,
            "order": null,
            "overflow": null,
            "overflow_x": null,
            "overflow_y": null,
            "padding": null,
            "right": null,
            "top": null,
            "visibility": "hidden",
            "width": null
          }
        },
        "c07b616a267f41b6a6aa53df0991314f": {
          "model_module": "@jupyter-widgets/base",
          "model_name": "LayoutModel",
          "model_module_version": "1.2.0",
          "state": {
            "_model_module": "@jupyter-widgets/base",
            "_model_module_version": "1.2.0",
            "_model_name": "LayoutModel",
            "_view_count": null,
            "_view_module": "@jupyter-widgets/base",
            "_view_module_version": "1.2.0",
            "_view_name": "LayoutView",
            "align_content": null,
            "align_items": null,
            "align_self": null,
            "border": null,
            "bottom": null,
            "display": null,
            "flex": null,
            "flex_flow": null,
            "grid_area": null,
            "grid_auto_columns": null,
            "grid_auto_flow": null,
            "grid_auto_rows": null,
            "grid_column": null,
            "grid_gap": null,
            "grid_row": null,
            "grid_template_areas": null,
            "grid_template_columns": null,
            "grid_template_rows": null,
            "height": null,
            "justify_content": null,
            "justify_items": null,
            "left": null,
            "margin": null,
            "max_height": null,
            "max_width": null,
            "min_height": null,
            "min_width": null,
            "object_fit": null,
            "object_position": null,
            "order": null,
            "overflow": null,
            "overflow_x": null,
            "overflow_y": null,
            "padding": null,
            "right": null,
            "top": null,
            "visibility": null,
            "width": null
          }
        },
        "a5c2ebc0af8e4ea1a40867b8d9e6fb2e": {
          "model_module": "@jupyter-widgets/controls",
          "model_name": "DescriptionStyleModel",
          "model_module_version": "1.5.0",
          "state": {
            "_model_module": "@jupyter-widgets/controls",
            "_model_module_version": "1.5.0",
            "_model_name": "DescriptionStyleModel",
            "_view_count": null,
            "_view_module": "@jupyter-widgets/base",
            "_view_module_version": "1.2.0",
            "_view_name": "StyleView",
            "description_width": ""
          }
        },
        "264942c8564c4d8991354aa612de4652": {
          "model_module": "@jupyter-widgets/base",
          "model_name": "LayoutModel",
          "model_module_version": "1.2.0",
          "state": {
            "_model_module": "@jupyter-widgets/base",
            "_model_module_version": "1.2.0",
            "_model_name": "LayoutModel",
            "_view_count": null,
            "_view_module": "@jupyter-widgets/base",
            "_view_module_version": "1.2.0",
            "_view_name": "LayoutView",
            "align_content": null,
            "align_items": null,
            "align_self": null,
            "border": null,
            "bottom": null,
            "display": null,
            "flex": null,
            "flex_flow": null,
            "grid_area": null,
            "grid_auto_columns": null,
            "grid_auto_flow": null,
            "grid_auto_rows": null,
            "grid_column": null,
            "grid_gap": null,
            "grid_row": null,
            "grid_template_areas": null,
            "grid_template_columns": null,
            "grid_template_rows": null,
            "height": null,
            "justify_content": null,
            "justify_items": null,
            "left": null,
            "margin": null,
            "max_height": null,
            "max_width": null,
            "min_height": null,
            "min_width": null,
            "object_fit": null,
            "object_position": null,
            "order": null,
            "overflow": null,
            "overflow_x": null,
            "overflow_y": null,
            "padding": null,
            "right": null,
            "top": null,
            "visibility": null,
            "width": null
          }
        },
        "77fc9e7ba0184054b1058c34d45450f5": {
          "model_module": "@jupyter-widgets/controls",
          "model_name": "ProgressStyleModel",
          "model_module_version": "1.5.0",
          "state": {
            "_model_module": "@jupyter-widgets/controls",
            "_model_module_version": "1.5.0",
            "_model_name": "ProgressStyleModel",
            "_view_count": null,
            "_view_module": "@jupyter-widgets/base",
            "_view_module_version": "1.2.0",
            "_view_name": "StyleView",
            "bar_color": null,
            "description_width": ""
          }
        },
        "3654de2f166d46aa93e6dd3e92f01860": {
          "model_module": "@jupyter-widgets/base",
          "model_name": "LayoutModel",
          "model_module_version": "1.2.0",
          "state": {
            "_model_module": "@jupyter-widgets/base",
            "_model_module_version": "1.2.0",
            "_model_name": "LayoutModel",
            "_view_count": null,
            "_view_module": "@jupyter-widgets/base",
            "_view_module_version": "1.2.0",
            "_view_name": "LayoutView",
            "align_content": null,
            "align_items": null,
            "align_self": null,
            "border": null,
            "bottom": null,
            "display": null,
            "flex": null,
            "flex_flow": null,
            "grid_area": null,
            "grid_auto_columns": null,
            "grid_auto_flow": null,
            "grid_auto_rows": null,
            "grid_column": null,
            "grid_gap": null,
            "grid_row": null,
            "grid_template_areas": null,
            "grid_template_columns": null,
            "grid_template_rows": null,
            "height": null,
            "justify_content": null,
            "justify_items": null,
            "left": null,
            "margin": null,
            "max_height": null,
            "max_width": null,
            "min_height": null,
            "min_width": null,
            "object_fit": null,
            "object_position": null,
            "order": null,
            "overflow": null,
            "overflow_x": null,
            "overflow_y": null,
            "padding": null,
            "right": null,
            "top": null,
            "visibility": null,
            "width": null
          }
        },
        "28506ba86e4247e28956c3e0dfcb117d": {
          "model_module": "@jupyter-widgets/controls",
          "model_name": "DescriptionStyleModel",
          "model_module_version": "1.5.0",
          "state": {
            "_model_module": "@jupyter-widgets/controls",
            "_model_module_version": "1.5.0",
            "_model_name": "DescriptionStyleModel",
            "_view_count": null,
            "_view_module": "@jupyter-widgets/base",
            "_view_module_version": "1.2.0",
            "_view_name": "StyleView",
            "description_width": ""
          }
        },
        "ecc8d695b9d34b379d00b9074bd2bef5": {
          "model_module": "@jupyter-widgets/controls",
          "model_name": "HBoxModel",
          "model_module_version": "1.5.0",
          "state": {
            "_dom_classes": [],
            "_model_module": "@jupyter-widgets/controls",
            "_model_module_version": "1.5.0",
            "_model_name": "HBoxModel",
            "_view_count": null,
            "_view_module": "@jupyter-widgets/controls",
            "_view_module_version": "1.5.0",
            "_view_name": "HBoxView",
            "box_style": "",
            "children": [
              "IPY_MODEL_be852066c87d4ce999ff9dd7f9b28f88",
              "IPY_MODEL_92655fb130934eda9f61d25f6266a452",
              "IPY_MODEL_82bed2cdce334b249614a2ed09db8a53"
            ],
            "layout": "IPY_MODEL_e2f96deb737e46c5a5f1f4d16bda83a9"
          }
        },
        "be852066c87d4ce999ff9dd7f9b28f88": {
          "model_module": "@jupyter-widgets/controls",
          "model_name": "HTMLModel",
          "model_module_version": "1.5.0",
          "state": {
            "_dom_classes": [],
            "_model_module": "@jupyter-widgets/controls",
            "_model_module_version": "1.5.0",
            "_model_name": "HTMLModel",
            "_view_count": null,
            "_view_module": "@jupyter-widgets/controls",
            "_view_module_version": "1.5.0",
            "_view_name": "HTMLView",
            "description": "",
            "description_tooltip": null,
            "layout": "IPY_MODEL_b053011e6fe840b58b93b16d51eb309b",
            "placeholder": "​",
            "style": "IPY_MODEL_72a37ec291154790a8c8ad87ac0646e3",
            "value": "Shuffling /root/tensorflow_datasets/imdb_reviews/plain_text/1.0.0.incomplete346DOX/imdb_reviews-train.tfrecord*...:  99%"
          }
        },
        "92655fb130934eda9f61d25f6266a452": {
          "model_module": "@jupyter-widgets/controls",
          "model_name": "FloatProgressModel",
          "model_module_version": "1.5.0",
          "state": {
            "_dom_classes": [],
            "_model_module": "@jupyter-widgets/controls",
            "_model_module_version": "1.5.0",
            "_model_name": "FloatProgressModel",
            "_view_count": null,
            "_view_module": "@jupyter-widgets/controls",
            "_view_module_version": "1.5.0",
            "_view_name": "ProgressView",
            "bar_style": "",
            "description": "",
            "description_tooltip": null,
            "layout": "IPY_MODEL_0826dd09b1f74a4eb72d450d329eb5c2",
            "max": 25000,
            "min": 0,
            "orientation": "horizontal",
            "style": "IPY_MODEL_798f32eb0ca34a45a6bccbacb925a020",
            "value": 25000
          }
        },
        "82bed2cdce334b249614a2ed09db8a53": {
          "model_module": "@jupyter-widgets/controls",
          "model_name": "HTMLModel",
          "model_module_version": "1.5.0",
          "state": {
            "_dom_classes": [],
            "_model_module": "@jupyter-widgets/controls",
            "_model_module_version": "1.5.0",
            "_model_name": "HTMLModel",
            "_view_count": null,
            "_view_module": "@jupyter-widgets/controls",
            "_view_module_version": "1.5.0",
            "_view_name": "HTMLView",
            "description": "",
            "description_tooltip": null,
            "layout": "IPY_MODEL_881c49ec2d344179b579c6e21c8669b8",
            "placeholder": "​",
            "style": "IPY_MODEL_34a68cbe4a5742c2bb827bff2f36e1f6",
            "value": " 24685/25000 [00:00&lt;00:00, 91445.28 examples/s]"
          }
        },
        "e2f96deb737e46c5a5f1f4d16bda83a9": {
          "model_module": "@jupyter-widgets/base",
          "model_name": "LayoutModel",
          "model_module_version": "1.2.0",
          "state": {
            "_model_module": "@jupyter-widgets/base",
            "_model_module_version": "1.2.0",
            "_model_name": "LayoutModel",
            "_view_count": null,
            "_view_module": "@jupyter-widgets/base",
            "_view_module_version": "1.2.0",
            "_view_name": "LayoutView",
            "align_content": null,
            "align_items": null,
            "align_self": null,
            "border": null,
            "bottom": null,
            "display": null,
            "flex": null,
            "flex_flow": null,
            "grid_area": null,
            "grid_auto_columns": null,
            "grid_auto_flow": null,
            "grid_auto_rows": null,
            "grid_column": null,
            "grid_gap": null,
            "grid_row": null,
            "grid_template_areas": null,
            "grid_template_columns": null,
            "grid_template_rows": null,
            "height": null,
            "justify_content": null,
            "justify_items": null,
            "left": null,
            "margin": null,
            "max_height": null,
            "max_width": null,
            "min_height": null,
            "min_width": null,
            "object_fit": null,
            "object_position": null,
            "order": null,
            "overflow": null,
            "overflow_x": null,
            "overflow_y": null,
            "padding": null,
            "right": null,
            "top": null,
            "visibility": "hidden",
            "width": null
          }
        },
        "b053011e6fe840b58b93b16d51eb309b": {
          "model_module": "@jupyter-widgets/base",
          "model_name": "LayoutModel",
          "model_module_version": "1.2.0",
          "state": {
            "_model_module": "@jupyter-widgets/base",
            "_model_module_version": "1.2.0",
            "_model_name": "LayoutModel",
            "_view_count": null,
            "_view_module": "@jupyter-widgets/base",
            "_view_module_version": "1.2.0",
            "_view_name": "LayoutView",
            "align_content": null,
            "align_items": null,
            "align_self": null,
            "border": null,
            "bottom": null,
            "display": null,
            "flex": null,
            "flex_flow": null,
            "grid_area": null,
            "grid_auto_columns": null,
            "grid_auto_flow": null,
            "grid_auto_rows": null,
            "grid_column": null,
            "grid_gap": null,
            "grid_row": null,
            "grid_template_areas": null,
            "grid_template_columns": null,
            "grid_template_rows": null,
            "height": null,
            "justify_content": null,
            "justify_items": null,
            "left": null,
            "margin": null,
            "max_height": null,
            "max_width": null,
            "min_height": null,
            "min_width": null,
            "object_fit": null,
            "object_position": null,
            "order": null,
            "overflow": null,
            "overflow_x": null,
            "overflow_y": null,
            "padding": null,
            "right": null,
            "top": null,
            "visibility": null,
            "width": null
          }
        },
        "72a37ec291154790a8c8ad87ac0646e3": {
          "model_module": "@jupyter-widgets/controls",
          "model_name": "DescriptionStyleModel",
          "model_module_version": "1.5.0",
          "state": {
            "_model_module": "@jupyter-widgets/controls",
            "_model_module_version": "1.5.0",
            "_model_name": "DescriptionStyleModel",
            "_view_count": null,
            "_view_module": "@jupyter-widgets/base",
            "_view_module_version": "1.2.0",
            "_view_name": "StyleView",
            "description_width": ""
          }
        },
        "0826dd09b1f74a4eb72d450d329eb5c2": {
          "model_module": "@jupyter-widgets/base",
          "model_name": "LayoutModel",
          "model_module_version": "1.2.0",
          "state": {
            "_model_module": "@jupyter-widgets/base",
            "_model_module_version": "1.2.0",
            "_model_name": "LayoutModel",
            "_view_count": null,
            "_view_module": "@jupyter-widgets/base",
            "_view_module_version": "1.2.0",
            "_view_name": "LayoutView",
            "align_content": null,
            "align_items": null,
            "align_self": null,
            "border": null,
            "bottom": null,
            "display": null,
            "flex": null,
            "flex_flow": null,
            "grid_area": null,
            "grid_auto_columns": null,
            "grid_auto_flow": null,
            "grid_auto_rows": null,
            "grid_column": null,
            "grid_gap": null,
            "grid_row": null,
            "grid_template_areas": null,
            "grid_template_columns": null,
            "grid_template_rows": null,
            "height": null,
            "justify_content": null,
            "justify_items": null,
            "left": null,
            "margin": null,
            "max_height": null,
            "max_width": null,
            "min_height": null,
            "min_width": null,
            "object_fit": null,
            "object_position": null,
            "order": null,
            "overflow": null,
            "overflow_x": null,
            "overflow_y": null,
            "padding": null,
            "right": null,
            "top": null,
            "visibility": null,
            "width": null
          }
        },
        "798f32eb0ca34a45a6bccbacb925a020": {
          "model_module": "@jupyter-widgets/controls",
          "model_name": "ProgressStyleModel",
          "model_module_version": "1.5.0",
          "state": {
            "_model_module": "@jupyter-widgets/controls",
            "_model_module_version": "1.5.0",
            "_model_name": "ProgressStyleModel",
            "_view_count": null,
            "_view_module": "@jupyter-widgets/base",
            "_view_module_version": "1.2.0",
            "_view_name": "StyleView",
            "bar_color": null,
            "description_width": ""
          }
        },
        "881c49ec2d344179b579c6e21c8669b8": {
          "model_module": "@jupyter-widgets/base",
          "model_name": "LayoutModel",
          "model_module_version": "1.2.0",
          "state": {
            "_model_module": "@jupyter-widgets/base",
            "_model_module_version": "1.2.0",
            "_model_name": "LayoutModel",
            "_view_count": null,
            "_view_module": "@jupyter-widgets/base",
            "_view_module_version": "1.2.0",
            "_view_name": "LayoutView",
            "align_content": null,
            "align_items": null,
            "align_self": null,
            "border": null,
            "bottom": null,
            "display": null,
            "flex": null,
            "flex_flow": null,
            "grid_area": null,
            "grid_auto_columns": null,
            "grid_auto_flow": null,
            "grid_auto_rows": null,
            "grid_column": null,
            "grid_gap": null,
            "grid_row": null,
            "grid_template_areas": null,
            "grid_template_columns": null,
            "grid_template_rows": null,
            "height": null,
            "justify_content": null,
            "justify_items": null,
            "left": null,
            "margin": null,
            "max_height": null,
            "max_width": null,
            "min_height": null,
            "min_width": null,
            "object_fit": null,
            "object_position": null,
            "order": null,
            "overflow": null,
            "overflow_x": null,
            "overflow_y": null,
            "padding": null,
            "right": null,
            "top": null,
            "visibility": null,
            "width": null
          }
        },
        "34a68cbe4a5742c2bb827bff2f36e1f6": {
          "model_module": "@jupyter-widgets/controls",
          "model_name": "DescriptionStyleModel",
          "model_module_version": "1.5.0",
          "state": {
            "_model_module": "@jupyter-widgets/controls",
            "_model_module_version": "1.5.0",
            "_model_name": "DescriptionStyleModel",
            "_view_count": null,
            "_view_module": "@jupyter-widgets/base",
            "_view_module_version": "1.2.0",
            "_view_name": "StyleView",
            "description_width": ""
          }
        },
        "82275154a91a413d8fcc4473a6677947": {
          "model_module": "@jupyter-widgets/controls",
          "model_name": "HBoxModel",
          "model_module_version": "1.5.0",
          "state": {
            "_dom_classes": [],
            "_model_module": "@jupyter-widgets/controls",
            "_model_module_version": "1.5.0",
            "_model_name": "HBoxModel",
            "_view_count": null,
            "_view_module": "@jupyter-widgets/controls",
            "_view_module_version": "1.5.0",
            "_view_name": "HBoxView",
            "box_style": "",
            "children": [
              "IPY_MODEL_60a8995112cf409984a06e78d57b7d30",
              "IPY_MODEL_e5c73d7e3fd34549acbf9ee552d3fe38",
              "IPY_MODEL_7fddcee45f9e4bbc926dabb86883b4fc"
            ],
            "layout": "IPY_MODEL_48eb136b9f414596bf7f62659a2d7bcb"
          }
        },
        "60a8995112cf409984a06e78d57b7d30": {
          "model_module": "@jupyter-widgets/controls",
          "model_name": "HTMLModel",
          "model_module_version": "1.5.0",
          "state": {
            "_dom_classes": [],
            "_model_module": "@jupyter-widgets/controls",
            "_model_module_version": "1.5.0",
            "_model_name": "HTMLModel",
            "_view_count": null,
            "_view_module": "@jupyter-widgets/controls",
            "_view_module_version": "1.5.0",
            "_view_name": "HTMLView",
            "description": "",
            "description_tooltip": null,
            "layout": "IPY_MODEL_04ca37a7e81242beb3b14581ae426d95",
            "placeholder": "​",
            "style": "IPY_MODEL_fbe59e922a9943a38cc473ac3564d3a3",
            "value": "Generating test examples...: 100%"
          }
        },
        "e5c73d7e3fd34549acbf9ee552d3fe38": {
          "model_module": "@jupyter-widgets/controls",
          "model_name": "FloatProgressModel",
          "model_module_version": "1.5.0",
          "state": {
            "_dom_classes": [],
            "_model_module": "@jupyter-widgets/controls",
            "_model_module_version": "1.5.0",
            "_model_name": "FloatProgressModel",
            "_view_count": null,
            "_view_module": "@jupyter-widgets/controls",
            "_view_module_version": "1.5.0",
            "_view_name": "ProgressView",
            "bar_style": "",
            "description": "",
            "description_tooltip": null,
            "layout": "IPY_MODEL_52fbf62c27e64eb39d9e38cb7826311f",
            "max": 25000,
            "min": 0,
            "orientation": "horizontal",
            "style": "IPY_MODEL_41c297e5816d439ba1f15a539b371005",
            "value": 25000
          }
        },
        "7fddcee45f9e4bbc926dabb86883b4fc": {
          "model_module": "@jupyter-widgets/controls",
          "model_name": "HTMLModel",
          "model_module_version": "1.5.0",
          "state": {
            "_dom_classes": [],
            "_model_module": "@jupyter-widgets/controls",
            "_model_module_version": "1.5.0",
            "_model_name": "HTMLModel",
            "_view_count": null,
            "_view_module": "@jupyter-widgets/controls",
            "_view_module_version": "1.5.0",
            "_view_name": "HTMLView",
            "description": "",
            "description_tooltip": null,
            "layout": "IPY_MODEL_9140d370e4b64fe4b1febf4739fc702e",
            "placeholder": "​",
            "style": "IPY_MODEL_a177d0faf9e74d20ac4e417ae15791c0",
            "value": " 24998/25000 [00:28&lt;00:00, 1224.06 examples/s]"
          }
        },
        "48eb136b9f414596bf7f62659a2d7bcb": {
          "model_module": "@jupyter-widgets/base",
          "model_name": "LayoutModel",
          "model_module_version": "1.2.0",
          "state": {
            "_model_module": "@jupyter-widgets/base",
            "_model_module_version": "1.2.0",
            "_model_name": "LayoutModel",
            "_view_count": null,
            "_view_module": "@jupyter-widgets/base",
            "_view_module_version": "1.2.0",
            "_view_name": "LayoutView",
            "align_content": null,
            "align_items": null,
            "align_self": null,
            "border": null,
            "bottom": null,
            "display": null,
            "flex": null,
            "flex_flow": null,
            "grid_area": null,
            "grid_auto_columns": null,
            "grid_auto_flow": null,
            "grid_auto_rows": null,
            "grid_column": null,
            "grid_gap": null,
            "grid_row": null,
            "grid_template_areas": null,
            "grid_template_columns": null,
            "grid_template_rows": null,
            "height": null,
            "justify_content": null,
            "justify_items": null,
            "left": null,
            "margin": null,
            "max_height": null,
            "max_width": null,
            "min_height": null,
            "min_width": null,
            "object_fit": null,
            "object_position": null,
            "order": null,
            "overflow": null,
            "overflow_x": null,
            "overflow_y": null,
            "padding": null,
            "right": null,
            "top": null,
            "visibility": "hidden",
            "width": null
          }
        },
        "04ca37a7e81242beb3b14581ae426d95": {
          "model_module": "@jupyter-widgets/base",
          "model_name": "LayoutModel",
          "model_module_version": "1.2.0",
          "state": {
            "_model_module": "@jupyter-widgets/base",
            "_model_module_version": "1.2.0",
            "_model_name": "LayoutModel",
            "_view_count": null,
            "_view_module": "@jupyter-widgets/base",
            "_view_module_version": "1.2.0",
            "_view_name": "LayoutView",
            "align_content": null,
            "align_items": null,
            "align_self": null,
            "border": null,
            "bottom": null,
            "display": null,
            "flex": null,
            "flex_flow": null,
            "grid_area": null,
            "grid_auto_columns": null,
            "grid_auto_flow": null,
            "grid_auto_rows": null,
            "grid_column": null,
            "grid_gap": null,
            "grid_row": null,
            "grid_template_areas": null,
            "grid_template_columns": null,
            "grid_template_rows": null,
            "height": null,
            "justify_content": null,
            "justify_items": null,
            "left": null,
            "margin": null,
            "max_height": null,
            "max_width": null,
            "min_height": null,
            "min_width": null,
            "object_fit": null,
            "object_position": null,
            "order": null,
            "overflow": null,
            "overflow_x": null,
            "overflow_y": null,
            "padding": null,
            "right": null,
            "top": null,
            "visibility": null,
            "width": null
          }
        },
        "fbe59e922a9943a38cc473ac3564d3a3": {
          "model_module": "@jupyter-widgets/controls",
          "model_name": "DescriptionStyleModel",
          "model_module_version": "1.5.0",
          "state": {
            "_model_module": "@jupyter-widgets/controls",
            "_model_module_version": "1.5.0",
            "_model_name": "DescriptionStyleModel",
            "_view_count": null,
            "_view_module": "@jupyter-widgets/base",
            "_view_module_version": "1.2.0",
            "_view_name": "StyleView",
            "description_width": ""
          }
        },
        "52fbf62c27e64eb39d9e38cb7826311f": {
          "model_module": "@jupyter-widgets/base",
          "model_name": "LayoutModel",
          "model_module_version": "1.2.0",
          "state": {
            "_model_module": "@jupyter-widgets/base",
            "_model_module_version": "1.2.0",
            "_model_name": "LayoutModel",
            "_view_count": null,
            "_view_module": "@jupyter-widgets/base",
            "_view_module_version": "1.2.0",
            "_view_name": "LayoutView",
            "align_content": null,
            "align_items": null,
            "align_self": null,
            "border": null,
            "bottom": null,
            "display": null,
            "flex": null,
            "flex_flow": null,
            "grid_area": null,
            "grid_auto_columns": null,
            "grid_auto_flow": null,
            "grid_auto_rows": null,
            "grid_column": null,
            "grid_gap": null,
            "grid_row": null,
            "grid_template_areas": null,
            "grid_template_columns": null,
            "grid_template_rows": null,
            "height": null,
            "justify_content": null,
            "justify_items": null,
            "left": null,
            "margin": null,
            "max_height": null,
            "max_width": null,
            "min_height": null,
            "min_width": null,
            "object_fit": null,
            "object_position": null,
            "order": null,
            "overflow": null,
            "overflow_x": null,
            "overflow_y": null,
            "padding": null,
            "right": null,
            "top": null,
            "visibility": null,
            "width": null
          }
        },
        "41c297e5816d439ba1f15a539b371005": {
          "model_module": "@jupyter-widgets/controls",
          "model_name": "ProgressStyleModel",
          "model_module_version": "1.5.0",
          "state": {
            "_model_module": "@jupyter-widgets/controls",
            "_model_module_version": "1.5.0",
            "_model_name": "ProgressStyleModel",
            "_view_count": null,
            "_view_module": "@jupyter-widgets/base",
            "_view_module_version": "1.2.0",
            "_view_name": "StyleView",
            "bar_color": null,
            "description_width": ""
          }
        },
        "9140d370e4b64fe4b1febf4739fc702e": {
          "model_module": "@jupyter-widgets/base",
          "model_name": "LayoutModel",
          "model_module_version": "1.2.0",
          "state": {
            "_model_module": "@jupyter-widgets/base",
            "_model_module_version": "1.2.0",
            "_model_name": "LayoutModel",
            "_view_count": null,
            "_view_module": "@jupyter-widgets/base",
            "_view_module_version": "1.2.0",
            "_view_name": "LayoutView",
            "align_content": null,
            "align_items": null,
            "align_self": null,
            "border": null,
            "bottom": null,
            "display": null,
            "flex": null,
            "flex_flow": null,
            "grid_area": null,
            "grid_auto_columns": null,
            "grid_auto_flow": null,
            "grid_auto_rows": null,
            "grid_column": null,
            "grid_gap": null,
            "grid_row": null,
            "grid_template_areas": null,
            "grid_template_columns": null,
            "grid_template_rows": null,
            "height": null,
            "justify_content": null,
            "justify_items": null,
            "left": null,
            "margin": null,
            "max_height": null,
            "max_width": null,
            "min_height": null,
            "min_width": null,
            "object_fit": null,
            "object_position": null,
            "order": null,
            "overflow": null,
            "overflow_x": null,
            "overflow_y": null,
            "padding": null,
            "right": null,
            "top": null,
            "visibility": null,
            "width": null
          }
        },
        "a177d0faf9e74d20ac4e417ae15791c0": {
          "model_module": "@jupyter-widgets/controls",
          "model_name": "DescriptionStyleModel",
          "model_module_version": "1.5.0",
          "state": {
            "_model_module": "@jupyter-widgets/controls",
            "_model_module_version": "1.5.0",
            "_model_name": "DescriptionStyleModel",
            "_view_count": null,
            "_view_module": "@jupyter-widgets/base",
            "_view_module_version": "1.2.0",
            "_view_name": "StyleView",
            "description_width": ""
          }
        },
        "0b9c8c896b4e4f53b7830ddeedf5cae9": {
          "model_module": "@jupyter-widgets/controls",
          "model_name": "HBoxModel",
          "model_module_version": "1.5.0",
          "state": {
            "_dom_classes": [],
            "_model_module": "@jupyter-widgets/controls",
            "_model_module_version": "1.5.0",
            "_model_name": "HBoxModel",
            "_view_count": null,
            "_view_module": "@jupyter-widgets/controls",
            "_view_module_version": "1.5.0",
            "_view_name": "HBoxView",
            "box_style": "",
            "children": [
              "IPY_MODEL_0e55d6c72b0f404bb6d2344663cc7618",
              "IPY_MODEL_fcf9d51bb28f41d8931d5dfd094d9de7",
              "IPY_MODEL_9775691c05184ce9bd303b2ae5d096ea"
            ],
            "layout": "IPY_MODEL_a5162e1b321c49cf8eaa477de0feb571"
          }
        },
        "0e55d6c72b0f404bb6d2344663cc7618": {
          "model_module": "@jupyter-widgets/controls",
          "model_name": "HTMLModel",
          "model_module_version": "1.5.0",
          "state": {
            "_dom_classes": [],
            "_model_module": "@jupyter-widgets/controls",
            "_model_module_version": "1.5.0",
            "_model_name": "HTMLModel",
            "_view_count": null,
            "_view_module": "@jupyter-widgets/controls",
            "_view_module_version": "1.5.0",
            "_view_name": "HTMLView",
            "description": "",
            "description_tooltip": null,
            "layout": "IPY_MODEL_dc7f44274fe949c0898a38a21826800b",
            "placeholder": "​",
            "style": "IPY_MODEL_484964cc21274c9bb5604edc1b21283b",
            "value": "Shuffling /root/tensorflow_datasets/imdb_reviews/plain_text/1.0.0.incomplete346DOX/imdb_reviews-test.tfrecord*...:  93%"
          }
        },
        "fcf9d51bb28f41d8931d5dfd094d9de7": {
          "model_module": "@jupyter-widgets/controls",
          "model_name": "FloatProgressModel",
          "model_module_version": "1.5.0",
          "state": {
            "_dom_classes": [],
            "_model_module": "@jupyter-widgets/controls",
            "_model_module_version": "1.5.0",
            "_model_name": "FloatProgressModel",
            "_view_count": null,
            "_view_module": "@jupyter-widgets/controls",
            "_view_module_version": "1.5.0",
            "_view_name": "ProgressView",
            "bar_style": "",
            "description": "",
            "description_tooltip": null,
            "layout": "IPY_MODEL_9d8bf70ddc1a4d5490633a90d117fe9b",
            "max": 25000,
            "min": 0,
            "orientation": "horizontal",
            "style": "IPY_MODEL_ca66d5d40a434629b2bd66fd0911cfd7",
            "value": 25000
          }
        },
        "9775691c05184ce9bd303b2ae5d096ea": {
          "model_module": "@jupyter-widgets/controls",
          "model_name": "HTMLModel",
          "model_module_version": "1.5.0",
          "state": {
            "_dom_classes": [],
            "_model_module": "@jupyter-widgets/controls",
            "_model_module_version": "1.5.0",
            "_model_name": "HTMLModel",
            "_view_count": null,
            "_view_module": "@jupyter-widgets/controls",
            "_view_module_version": "1.5.0",
            "_view_name": "HTMLView",
            "description": "",
            "description_tooltip": null,
            "layout": "IPY_MODEL_03d2d7022dd641f4b68e08f09cdd7dfe",
            "placeholder": "​",
            "style": "IPY_MODEL_569744665aa048dfb65f095cd4ce86fa",
            "value": " 23272/25000 [00:00&lt;00:00, 87543.90 examples/s]"
          }
        },
        "a5162e1b321c49cf8eaa477de0feb571": {
          "model_module": "@jupyter-widgets/base",
          "model_name": "LayoutModel",
          "model_module_version": "1.2.0",
          "state": {
            "_model_module": "@jupyter-widgets/base",
            "_model_module_version": "1.2.0",
            "_model_name": "LayoutModel",
            "_view_count": null,
            "_view_module": "@jupyter-widgets/base",
            "_view_module_version": "1.2.0",
            "_view_name": "LayoutView",
            "align_content": null,
            "align_items": null,
            "align_self": null,
            "border": null,
            "bottom": null,
            "display": null,
            "flex": null,
            "flex_flow": null,
            "grid_area": null,
            "grid_auto_columns": null,
            "grid_auto_flow": null,
            "grid_auto_rows": null,
            "grid_column": null,
            "grid_gap": null,
            "grid_row": null,
            "grid_template_areas": null,
            "grid_template_columns": null,
            "grid_template_rows": null,
            "height": null,
            "justify_content": null,
            "justify_items": null,
            "left": null,
            "margin": null,
            "max_height": null,
            "max_width": null,
            "min_height": null,
            "min_width": null,
            "object_fit": null,
            "object_position": null,
            "order": null,
            "overflow": null,
            "overflow_x": null,
            "overflow_y": null,
            "padding": null,
            "right": null,
            "top": null,
            "visibility": "hidden",
            "width": null
          }
        },
        "dc7f44274fe949c0898a38a21826800b": {
          "model_module": "@jupyter-widgets/base",
          "model_name": "LayoutModel",
          "model_module_version": "1.2.0",
          "state": {
            "_model_module": "@jupyter-widgets/base",
            "_model_module_version": "1.2.0",
            "_model_name": "LayoutModel",
            "_view_count": null,
            "_view_module": "@jupyter-widgets/base",
            "_view_module_version": "1.2.0",
            "_view_name": "LayoutView",
            "align_content": null,
            "align_items": null,
            "align_self": null,
            "border": null,
            "bottom": null,
            "display": null,
            "flex": null,
            "flex_flow": null,
            "grid_area": null,
            "grid_auto_columns": null,
            "grid_auto_flow": null,
            "grid_auto_rows": null,
            "grid_column": null,
            "grid_gap": null,
            "grid_row": null,
            "grid_template_areas": null,
            "grid_template_columns": null,
            "grid_template_rows": null,
            "height": null,
            "justify_content": null,
            "justify_items": null,
            "left": null,
            "margin": null,
            "max_height": null,
            "max_width": null,
            "min_height": null,
            "min_width": null,
            "object_fit": null,
            "object_position": null,
            "order": null,
            "overflow": null,
            "overflow_x": null,
            "overflow_y": null,
            "padding": null,
            "right": null,
            "top": null,
            "visibility": null,
            "width": null
          }
        },
        "484964cc21274c9bb5604edc1b21283b": {
          "model_module": "@jupyter-widgets/controls",
          "model_name": "DescriptionStyleModel",
          "model_module_version": "1.5.0",
          "state": {
            "_model_module": "@jupyter-widgets/controls",
            "_model_module_version": "1.5.0",
            "_model_name": "DescriptionStyleModel",
            "_view_count": null,
            "_view_module": "@jupyter-widgets/base",
            "_view_module_version": "1.2.0",
            "_view_name": "StyleView",
            "description_width": ""
          }
        },
        "9d8bf70ddc1a4d5490633a90d117fe9b": {
          "model_module": "@jupyter-widgets/base",
          "model_name": "LayoutModel",
          "model_module_version": "1.2.0",
          "state": {
            "_model_module": "@jupyter-widgets/base",
            "_model_module_version": "1.2.0",
            "_model_name": "LayoutModel",
            "_view_count": null,
            "_view_module": "@jupyter-widgets/base",
            "_view_module_version": "1.2.0",
            "_view_name": "LayoutView",
            "align_content": null,
            "align_items": null,
            "align_self": null,
            "border": null,
            "bottom": null,
            "display": null,
            "flex": null,
            "flex_flow": null,
            "grid_area": null,
            "grid_auto_columns": null,
            "grid_auto_flow": null,
            "grid_auto_rows": null,
            "grid_column": null,
            "grid_gap": null,
            "grid_row": null,
            "grid_template_areas": null,
            "grid_template_columns": null,
            "grid_template_rows": null,
            "height": null,
            "justify_content": null,
            "justify_items": null,
            "left": null,
            "margin": null,
            "max_height": null,
            "max_width": null,
            "min_height": null,
            "min_width": null,
            "object_fit": null,
            "object_position": null,
            "order": null,
            "overflow": null,
            "overflow_x": null,
            "overflow_y": null,
            "padding": null,
            "right": null,
            "top": null,
            "visibility": null,
            "width": null
          }
        },
        "ca66d5d40a434629b2bd66fd0911cfd7": {
          "model_module": "@jupyter-widgets/controls",
          "model_name": "ProgressStyleModel",
          "model_module_version": "1.5.0",
          "state": {
            "_model_module": "@jupyter-widgets/controls",
            "_model_module_version": "1.5.0",
            "_model_name": "ProgressStyleModel",
            "_view_count": null,
            "_view_module": "@jupyter-widgets/base",
            "_view_module_version": "1.2.0",
            "_view_name": "StyleView",
            "bar_color": null,
            "description_width": ""
          }
        },
        "03d2d7022dd641f4b68e08f09cdd7dfe": {
          "model_module": "@jupyter-widgets/base",
          "model_name": "LayoutModel",
          "model_module_version": "1.2.0",
          "state": {
            "_model_module": "@jupyter-widgets/base",
            "_model_module_version": "1.2.0",
            "_model_name": "LayoutModel",
            "_view_count": null,
            "_view_module": "@jupyter-widgets/base",
            "_view_module_version": "1.2.0",
            "_view_name": "LayoutView",
            "align_content": null,
            "align_items": null,
            "align_self": null,
            "border": null,
            "bottom": null,
            "display": null,
            "flex": null,
            "flex_flow": null,
            "grid_area": null,
            "grid_auto_columns": null,
            "grid_auto_flow": null,
            "grid_auto_rows": null,
            "grid_column": null,
            "grid_gap": null,
            "grid_row": null,
            "grid_template_areas": null,
            "grid_template_columns": null,
            "grid_template_rows": null,
            "height": null,
            "justify_content": null,
            "justify_items": null,
            "left": null,
            "margin": null,
            "max_height": null,
            "max_width": null,
            "min_height": null,
            "min_width": null,
            "object_fit": null,
            "object_position": null,
            "order": null,
            "overflow": null,
            "overflow_x": null,
            "overflow_y": null,
            "padding": null,
            "right": null,
            "top": null,
            "visibility": null,
            "width": null
          }
        },
        "569744665aa048dfb65f095cd4ce86fa": {
          "model_module": "@jupyter-widgets/controls",
          "model_name": "DescriptionStyleModel",
          "model_module_version": "1.5.0",
          "state": {
            "_model_module": "@jupyter-widgets/controls",
            "_model_module_version": "1.5.0",
            "_model_name": "DescriptionStyleModel",
            "_view_count": null,
            "_view_module": "@jupyter-widgets/base",
            "_view_module_version": "1.2.0",
            "_view_name": "StyleView",
            "description_width": ""
          }
        },
        "601e8211c4d940d5abcbb934bb6161be": {
          "model_module": "@jupyter-widgets/controls",
          "model_name": "HBoxModel",
          "model_module_version": "1.5.0",
          "state": {
            "_dom_classes": [],
            "_model_module": "@jupyter-widgets/controls",
            "_model_module_version": "1.5.0",
            "_model_name": "HBoxModel",
            "_view_count": null,
            "_view_module": "@jupyter-widgets/controls",
            "_view_module_version": "1.5.0",
            "_view_name": "HBoxView",
            "box_style": "",
            "children": [
              "IPY_MODEL_ddaefdbadd4848b9923ee1adfa80e208",
              "IPY_MODEL_bbd848c3e0ad4270bda29165f47d33bb",
              "IPY_MODEL_f79d014d49c848b5b057d2a0557ab153"
            ],
            "layout": "IPY_MODEL_a60efc214a1c43d881872fbc6fbe3eca"
          }
        },
        "ddaefdbadd4848b9923ee1adfa80e208": {
          "model_module": "@jupyter-widgets/controls",
          "model_name": "HTMLModel",
          "model_module_version": "1.5.0",
          "state": {
            "_dom_classes": [],
            "_model_module": "@jupyter-widgets/controls",
            "_model_module_version": "1.5.0",
            "_model_name": "HTMLModel",
            "_view_count": null,
            "_view_module": "@jupyter-widgets/controls",
            "_view_module_version": "1.5.0",
            "_view_name": "HTMLView",
            "description": "",
            "description_tooltip": null,
            "layout": "IPY_MODEL_0a44db41cd494a5fbbb32636ae42c7cb",
            "placeholder": "​",
            "style": "IPY_MODEL_6ff08cfbd4f6443cbded6f99ca258a89",
            "value": "Generating unsupervised examples...:  99%"
          }
        },
        "bbd848c3e0ad4270bda29165f47d33bb": {
          "model_module": "@jupyter-widgets/controls",
          "model_name": "FloatProgressModel",
          "model_module_version": "1.5.0",
          "state": {
            "_dom_classes": [],
            "_model_module": "@jupyter-widgets/controls",
            "_model_module_version": "1.5.0",
            "_model_name": "FloatProgressModel",
            "_view_count": null,
            "_view_module": "@jupyter-widgets/controls",
            "_view_module_version": "1.5.0",
            "_view_name": "ProgressView",
            "bar_style": "",
            "description": "",
            "description_tooltip": null,
            "layout": "IPY_MODEL_395641eb0ff14ef5a4c5affaffcb0b74",
            "max": 50000,
            "min": 0,
            "orientation": "horizontal",
            "style": "IPY_MODEL_fde485ba1ae74af8896d2b627a21e867",
            "value": 50000
          }
        },
        "f79d014d49c848b5b057d2a0557ab153": {
          "model_module": "@jupyter-widgets/controls",
          "model_name": "HTMLModel",
          "model_module_version": "1.5.0",
          "state": {
            "_dom_classes": [],
            "_model_module": "@jupyter-widgets/controls",
            "_model_module_version": "1.5.0",
            "_model_name": "HTMLModel",
            "_view_count": null,
            "_view_module": "@jupyter-widgets/controls",
            "_view_module_version": "1.5.0",
            "_view_name": "HTMLView",
            "description": "",
            "description_tooltip": null,
            "layout": "IPY_MODEL_efbebe24d6bb45faa0a724042f7352cf",
            "placeholder": "​",
            "style": "IPY_MODEL_a9b02eb4ace448cd8e5ba5cb5188143c",
            "value": " 49734/50000 [00:16&lt;00:00, 4651.17 examples/s]"
          }
        },
        "a60efc214a1c43d881872fbc6fbe3eca": {
          "model_module": "@jupyter-widgets/base",
          "model_name": "LayoutModel",
          "model_module_version": "1.2.0",
          "state": {
            "_model_module": "@jupyter-widgets/base",
            "_model_module_version": "1.2.0",
            "_model_name": "LayoutModel",
            "_view_count": null,
            "_view_module": "@jupyter-widgets/base",
            "_view_module_version": "1.2.0",
            "_view_name": "LayoutView",
            "align_content": null,
            "align_items": null,
            "align_self": null,
            "border": null,
            "bottom": null,
            "display": null,
            "flex": null,
            "flex_flow": null,
            "grid_area": null,
            "grid_auto_columns": null,
            "grid_auto_flow": null,
            "grid_auto_rows": null,
            "grid_column": null,
            "grid_gap": null,
            "grid_row": null,
            "grid_template_areas": null,
            "grid_template_columns": null,
            "grid_template_rows": null,
            "height": null,
            "justify_content": null,
            "justify_items": null,
            "left": null,
            "margin": null,
            "max_height": null,
            "max_width": null,
            "min_height": null,
            "min_width": null,
            "object_fit": null,
            "object_position": null,
            "order": null,
            "overflow": null,
            "overflow_x": null,
            "overflow_y": null,
            "padding": null,
            "right": null,
            "top": null,
            "visibility": "hidden",
            "width": null
          }
        },
        "0a44db41cd494a5fbbb32636ae42c7cb": {
          "model_module": "@jupyter-widgets/base",
          "model_name": "LayoutModel",
          "model_module_version": "1.2.0",
          "state": {
            "_model_module": "@jupyter-widgets/base",
            "_model_module_version": "1.2.0",
            "_model_name": "LayoutModel",
            "_view_count": null,
            "_view_module": "@jupyter-widgets/base",
            "_view_module_version": "1.2.0",
            "_view_name": "LayoutView",
            "align_content": null,
            "align_items": null,
            "align_self": null,
            "border": null,
            "bottom": null,
            "display": null,
            "flex": null,
            "flex_flow": null,
            "grid_area": null,
            "grid_auto_columns": null,
            "grid_auto_flow": null,
            "grid_auto_rows": null,
            "grid_column": null,
            "grid_gap": null,
            "grid_row": null,
            "grid_template_areas": null,
            "grid_template_columns": null,
            "grid_template_rows": null,
            "height": null,
            "justify_content": null,
            "justify_items": null,
            "left": null,
            "margin": null,
            "max_height": null,
            "max_width": null,
            "min_height": null,
            "min_width": null,
            "object_fit": null,
            "object_position": null,
            "order": null,
            "overflow": null,
            "overflow_x": null,
            "overflow_y": null,
            "padding": null,
            "right": null,
            "top": null,
            "visibility": null,
            "width": null
          }
        },
        "6ff08cfbd4f6443cbded6f99ca258a89": {
          "model_module": "@jupyter-widgets/controls",
          "model_name": "DescriptionStyleModel",
          "model_module_version": "1.5.0",
          "state": {
            "_model_module": "@jupyter-widgets/controls",
            "_model_module_version": "1.5.0",
            "_model_name": "DescriptionStyleModel",
            "_view_count": null,
            "_view_module": "@jupyter-widgets/base",
            "_view_module_version": "1.2.0",
            "_view_name": "StyleView",
            "description_width": ""
          }
        },
        "395641eb0ff14ef5a4c5affaffcb0b74": {
          "model_module": "@jupyter-widgets/base",
          "model_name": "LayoutModel",
          "model_module_version": "1.2.0",
          "state": {
            "_model_module": "@jupyter-widgets/base",
            "_model_module_version": "1.2.0",
            "_model_name": "LayoutModel",
            "_view_count": null,
            "_view_module": "@jupyter-widgets/base",
            "_view_module_version": "1.2.0",
            "_view_name": "LayoutView",
            "align_content": null,
            "align_items": null,
            "align_self": null,
            "border": null,
            "bottom": null,
            "display": null,
            "flex": null,
            "flex_flow": null,
            "grid_area": null,
            "grid_auto_columns": null,
            "grid_auto_flow": null,
            "grid_auto_rows": null,
            "grid_column": null,
            "grid_gap": null,
            "grid_row": null,
            "grid_template_areas": null,
            "grid_template_columns": null,
            "grid_template_rows": null,
            "height": null,
            "justify_content": null,
            "justify_items": null,
            "left": null,
            "margin": null,
            "max_height": null,
            "max_width": null,
            "min_height": null,
            "min_width": null,
            "object_fit": null,
            "object_position": null,
            "order": null,
            "overflow": null,
            "overflow_x": null,
            "overflow_y": null,
            "padding": null,
            "right": null,
            "top": null,
            "visibility": null,
            "width": null
          }
        },
        "fde485ba1ae74af8896d2b627a21e867": {
          "model_module": "@jupyter-widgets/controls",
          "model_name": "ProgressStyleModel",
          "model_module_version": "1.5.0",
          "state": {
            "_model_module": "@jupyter-widgets/controls",
            "_model_module_version": "1.5.0",
            "_model_name": "ProgressStyleModel",
            "_view_count": null,
            "_view_module": "@jupyter-widgets/base",
            "_view_module_version": "1.2.0",
            "_view_name": "StyleView",
            "bar_color": null,
            "description_width": ""
          }
        },
        "efbebe24d6bb45faa0a724042f7352cf": {
          "model_module": "@jupyter-widgets/base",
          "model_name": "LayoutModel",
          "model_module_version": "1.2.0",
          "state": {
            "_model_module": "@jupyter-widgets/base",
            "_model_module_version": "1.2.0",
            "_model_name": "LayoutModel",
            "_view_count": null,
            "_view_module": "@jupyter-widgets/base",
            "_view_module_version": "1.2.0",
            "_view_name": "LayoutView",
            "align_content": null,
            "align_items": null,
            "align_self": null,
            "border": null,
            "bottom": null,
            "display": null,
            "flex": null,
            "flex_flow": null,
            "grid_area": null,
            "grid_auto_columns": null,
            "grid_auto_flow": null,
            "grid_auto_rows": null,
            "grid_column": null,
            "grid_gap": null,
            "grid_row": null,
            "grid_template_areas": null,
            "grid_template_columns": null,
            "grid_template_rows": null,
            "height": null,
            "justify_content": null,
            "justify_items": null,
            "left": null,
            "margin": null,
            "max_height": null,
            "max_width": null,
            "min_height": null,
            "min_width": null,
            "object_fit": null,
            "object_position": null,
            "order": null,
            "overflow": null,
            "overflow_x": null,
            "overflow_y": null,
            "padding": null,
            "right": null,
            "top": null,
            "visibility": null,
            "width": null
          }
        },
        "a9b02eb4ace448cd8e5ba5cb5188143c": {
          "model_module": "@jupyter-widgets/controls",
          "model_name": "DescriptionStyleModel",
          "model_module_version": "1.5.0",
          "state": {
            "_model_module": "@jupyter-widgets/controls",
            "_model_module_version": "1.5.0",
            "_model_name": "DescriptionStyleModel",
            "_view_count": null,
            "_view_module": "@jupyter-widgets/base",
            "_view_module_version": "1.2.0",
            "_view_name": "StyleView",
            "description_width": ""
          }
        },
        "8a756b09ef544b88b49c8347f2b78cd7": {
          "model_module": "@jupyter-widgets/controls",
          "model_name": "HBoxModel",
          "model_module_version": "1.5.0",
          "state": {
            "_dom_classes": [],
            "_model_module": "@jupyter-widgets/controls",
            "_model_module_version": "1.5.0",
            "_model_name": "HBoxModel",
            "_view_count": null,
            "_view_module": "@jupyter-widgets/controls",
            "_view_module_version": "1.5.0",
            "_view_name": "HBoxView",
            "box_style": "",
            "children": [
              "IPY_MODEL_045e7b09652c4974a555f7e0996c5018",
              "IPY_MODEL_a1934b6a2b1345829ba206ae4789ad29",
              "IPY_MODEL_3f141621bb6f4155af32e8b335ee286d"
            ],
            "layout": "IPY_MODEL_f9441e2027f144f6a5ff5bbcb7f0c840"
          }
        },
        "045e7b09652c4974a555f7e0996c5018": {
          "model_module": "@jupyter-widgets/controls",
          "model_name": "HTMLModel",
          "model_module_version": "1.5.0",
          "state": {
            "_dom_classes": [],
            "_model_module": "@jupyter-widgets/controls",
            "_model_module_version": "1.5.0",
            "_model_name": "HTMLModel",
            "_view_count": null,
            "_view_module": "@jupyter-widgets/controls",
            "_view_module_version": "1.5.0",
            "_view_name": "HTMLView",
            "description": "",
            "description_tooltip": null,
            "layout": "IPY_MODEL_9d65288670b843e5aca87e3332bd462e",
            "placeholder": "​",
            "style": "IPY_MODEL_7dba0dc2249d48ac9e0e672523d20784",
            "value": "Shuffling /root/tensorflow_datasets/imdb_reviews/plain_text/1.0.0.incomplete346DOX/imdb_reviews-unsupervised.tfrecord*...:  96%"
          }
        },
        "a1934b6a2b1345829ba206ae4789ad29": {
          "model_module": "@jupyter-widgets/controls",
          "model_name": "FloatProgressModel",
          "model_module_version": "1.5.0",
          "state": {
            "_dom_classes": [],
            "_model_module": "@jupyter-widgets/controls",
            "_model_module_version": "1.5.0",
            "_model_name": "FloatProgressModel",
            "_view_count": null,
            "_view_module": "@jupyter-widgets/controls",
            "_view_module_version": "1.5.0",
            "_view_name": "ProgressView",
            "bar_style": "",
            "description": "",
            "description_tooltip": null,
            "layout": "IPY_MODEL_2b8cd667c43845a3955bbda3d4937e36",
            "max": 50000,
            "min": 0,
            "orientation": "horizontal",
            "style": "IPY_MODEL_fa3404c325ff4f84876d9bc5d1a50762",
            "value": 50000
          }
        },
        "3f141621bb6f4155af32e8b335ee286d": {
          "model_module": "@jupyter-widgets/controls",
          "model_name": "HTMLModel",
          "model_module_version": "1.5.0",
          "state": {
            "_dom_classes": [],
            "_model_module": "@jupyter-widgets/controls",
            "_model_module_version": "1.5.0",
            "_model_name": "HTMLModel",
            "_view_count": null,
            "_view_module": "@jupyter-widgets/controls",
            "_view_module_version": "1.5.0",
            "_view_name": "HTMLView",
            "description": "",
            "description_tooltip": null,
            "layout": "IPY_MODEL_9dc6bc5995b243428f25ebf0e1ca076e",
            "placeholder": "​",
            "style": "IPY_MODEL_48f2c20c42394b1a8d67e88ae9869f14",
            "value": " 47831/50000 [00:00&lt;00:00, 139217.25 examples/s]"
          }
        },
        "f9441e2027f144f6a5ff5bbcb7f0c840": {
          "model_module": "@jupyter-widgets/base",
          "model_name": "LayoutModel",
          "model_module_version": "1.2.0",
          "state": {
            "_model_module": "@jupyter-widgets/base",
            "_model_module_version": "1.2.0",
            "_model_name": "LayoutModel",
            "_view_count": null,
            "_view_module": "@jupyter-widgets/base",
            "_view_module_version": "1.2.0",
            "_view_name": "LayoutView",
            "align_content": null,
            "align_items": null,
            "align_self": null,
            "border": null,
            "bottom": null,
            "display": null,
            "flex": null,
            "flex_flow": null,
            "grid_area": null,
            "grid_auto_columns": null,
            "grid_auto_flow": null,
            "grid_auto_rows": null,
            "grid_column": null,
            "grid_gap": null,
            "grid_row": null,
            "grid_template_areas": null,
            "grid_template_columns": null,
            "grid_template_rows": null,
            "height": null,
            "justify_content": null,
            "justify_items": null,
            "left": null,
            "margin": null,
            "max_height": null,
            "max_width": null,
            "min_height": null,
            "min_width": null,
            "object_fit": null,
            "object_position": null,
            "order": null,
            "overflow": null,
            "overflow_x": null,
            "overflow_y": null,
            "padding": null,
            "right": null,
            "top": null,
            "visibility": "hidden",
            "width": null
          }
        },
        "9d65288670b843e5aca87e3332bd462e": {
          "model_module": "@jupyter-widgets/base",
          "model_name": "LayoutModel",
          "model_module_version": "1.2.0",
          "state": {
            "_model_module": "@jupyter-widgets/base",
            "_model_module_version": "1.2.0",
            "_model_name": "LayoutModel",
            "_view_count": null,
            "_view_module": "@jupyter-widgets/base",
            "_view_module_version": "1.2.0",
            "_view_name": "LayoutView",
            "align_content": null,
            "align_items": null,
            "align_self": null,
            "border": null,
            "bottom": null,
            "display": null,
            "flex": null,
            "flex_flow": null,
            "grid_area": null,
            "grid_auto_columns": null,
            "grid_auto_flow": null,
            "grid_auto_rows": null,
            "grid_column": null,
            "grid_gap": null,
            "grid_row": null,
            "grid_template_areas": null,
            "grid_template_columns": null,
            "grid_template_rows": null,
            "height": null,
            "justify_content": null,
            "justify_items": null,
            "left": null,
            "margin": null,
            "max_height": null,
            "max_width": null,
            "min_height": null,
            "min_width": null,
            "object_fit": null,
            "object_position": null,
            "order": null,
            "overflow": null,
            "overflow_x": null,
            "overflow_y": null,
            "padding": null,
            "right": null,
            "top": null,
            "visibility": null,
            "width": null
          }
        },
        "7dba0dc2249d48ac9e0e672523d20784": {
          "model_module": "@jupyter-widgets/controls",
          "model_name": "DescriptionStyleModel",
          "model_module_version": "1.5.0",
          "state": {
            "_model_module": "@jupyter-widgets/controls",
            "_model_module_version": "1.5.0",
            "_model_name": "DescriptionStyleModel",
            "_view_count": null,
            "_view_module": "@jupyter-widgets/base",
            "_view_module_version": "1.2.0",
            "_view_name": "StyleView",
            "description_width": ""
          }
        },
        "2b8cd667c43845a3955bbda3d4937e36": {
          "model_module": "@jupyter-widgets/base",
          "model_name": "LayoutModel",
          "model_module_version": "1.2.0",
          "state": {
            "_model_module": "@jupyter-widgets/base",
            "_model_module_version": "1.2.0",
            "_model_name": "LayoutModel",
            "_view_count": null,
            "_view_module": "@jupyter-widgets/base",
            "_view_module_version": "1.2.0",
            "_view_name": "LayoutView",
            "align_content": null,
            "align_items": null,
            "align_self": null,
            "border": null,
            "bottom": null,
            "display": null,
            "flex": null,
            "flex_flow": null,
            "grid_area": null,
            "grid_auto_columns": null,
            "grid_auto_flow": null,
            "grid_auto_rows": null,
            "grid_column": null,
            "grid_gap": null,
            "grid_row": null,
            "grid_template_areas": null,
            "grid_template_columns": null,
            "grid_template_rows": null,
            "height": null,
            "justify_content": null,
            "justify_items": null,
            "left": null,
            "margin": null,
            "max_height": null,
            "max_width": null,
            "min_height": null,
            "min_width": null,
            "object_fit": null,
            "object_position": null,
            "order": null,
            "overflow": null,
            "overflow_x": null,
            "overflow_y": null,
            "padding": null,
            "right": null,
            "top": null,
            "visibility": null,
            "width": null
          }
        },
        "fa3404c325ff4f84876d9bc5d1a50762": {
          "model_module": "@jupyter-widgets/controls",
          "model_name": "ProgressStyleModel",
          "model_module_version": "1.5.0",
          "state": {
            "_model_module": "@jupyter-widgets/controls",
            "_model_module_version": "1.5.0",
            "_model_name": "ProgressStyleModel",
            "_view_count": null,
            "_view_module": "@jupyter-widgets/base",
            "_view_module_version": "1.2.0",
            "_view_name": "StyleView",
            "bar_color": null,
            "description_width": ""
          }
        },
        "9dc6bc5995b243428f25ebf0e1ca076e": {
          "model_module": "@jupyter-widgets/base",
          "model_name": "LayoutModel",
          "model_module_version": "1.2.0",
          "state": {
            "_model_module": "@jupyter-widgets/base",
            "_model_module_version": "1.2.0",
            "_model_name": "LayoutModel",
            "_view_count": null,
            "_view_module": "@jupyter-widgets/base",
            "_view_module_version": "1.2.0",
            "_view_name": "LayoutView",
            "align_content": null,
            "align_items": null,
            "align_self": null,
            "border": null,
            "bottom": null,
            "display": null,
            "flex": null,
            "flex_flow": null,
            "grid_area": null,
            "grid_auto_columns": null,
            "grid_auto_flow": null,
            "grid_auto_rows": null,
            "grid_column": null,
            "grid_gap": null,
            "grid_row": null,
            "grid_template_areas": null,
            "grid_template_columns": null,
            "grid_template_rows": null,
            "height": null,
            "justify_content": null,
            "justify_items": null,
            "left": null,
            "margin": null,
            "max_height": null,
            "max_width": null,
            "min_height": null,
            "min_width": null,
            "object_fit": null,
            "object_position": null,
            "order": null,
            "overflow": null,
            "overflow_x": null,
            "overflow_y": null,
            "padding": null,
            "right": null,
            "top": null,
            "visibility": null,
            "width": null
          }
        },
        "48f2c20c42394b1a8d67e88ae9869f14": {
          "model_module": "@jupyter-widgets/controls",
          "model_name": "DescriptionStyleModel",
          "model_module_version": "1.5.0",
          "state": {
            "_model_module": "@jupyter-widgets/controls",
            "_model_module_version": "1.5.0",
            "_model_name": "DescriptionStyleModel",
            "_view_count": null,
            "_view_module": "@jupyter-widgets/base",
            "_view_module_version": "1.2.0",
            "_view_name": "StyleView",
            "description_width": ""
          }
        },
        "a4aab9b2f0834bb9aeb28031e3db8203": {
          "model_module": "@jupyter-widgets/controls",
          "model_name": "HBoxModel",
          "model_module_version": "1.5.0",
          "state": {
            "_dom_classes": [],
            "_model_module": "@jupyter-widgets/controls",
            "_model_module_version": "1.5.0",
            "_model_name": "HBoxModel",
            "_view_count": null,
            "_view_module": "@jupyter-widgets/controls",
            "_view_module_version": "1.5.0",
            "_view_name": "HBoxView",
            "box_style": "",
            "children": [
              "IPY_MODEL_4f2fa1051b5747b3ae77bd50d0c74c21",
              "IPY_MODEL_a6377618828b4065a87ab8dbfe225020",
              "IPY_MODEL_16d533b0e6eb4cb0a787da28a0f3c108"
            ],
            "layout": "IPY_MODEL_b5c38bcd31db403981521808b57498b2"
          }
        },
        "4f2fa1051b5747b3ae77bd50d0c74c21": {
          "model_module": "@jupyter-widgets/controls",
          "model_name": "HTMLModel",
          "model_module_version": "1.5.0",
          "state": {
            "_dom_classes": [],
            "_model_module": "@jupyter-widgets/controls",
            "_model_module_version": "1.5.0",
            "_model_name": "HTMLModel",
            "_view_count": null,
            "_view_module": "@jupyter-widgets/controls",
            "_view_module_version": "1.5.0",
            "_view_name": "HTMLView",
            "description": "",
            "description_tooltip": null,
            "layout": "IPY_MODEL_69fcad0b69254a02ad6ae054716a7b94",
            "placeholder": "​",
            "style": "IPY_MODEL_6d99b261133c429b9b47c256f481f2ea",
            "value": "Downloading (…)solve/main/vocab.txt: 100%"
          }
        },
        "a6377618828b4065a87ab8dbfe225020": {
          "model_module": "@jupyter-widgets/controls",
          "model_name": "FloatProgressModel",
          "model_module_version": "1.5.0",
          "state": {
            "_dom_classes": [],
            "_model_module": "@jupyter-widgets/controls",
            "_model_module_version": "1.5.0",
            "_model_name": "FloatProgressModel",
            "_view_count": null,
            "_view_module": "@jupyter-widgets/controls",
            "_view_module_version": "1.5.0",
            "_view_name": "ProgressView",
            "bar_style": "success",
            "description": "",
            "description_tooltip": null,
            "layout": "IPY_MODEL_a9691f9c196d4d16bfd129782aad7e4d",
            "max": 213450,
            "min": 0,
            "orientation": "horizontal",
            "style": "IPY_MODEL_d8b847de5a5e4e4c8ddcfbf25e79c38b",
            "value": 213450
          }
        },
        "16d533b0e6eb4cb0a787da28a0f3c108": {
          "model_module": "@jupyter-widgets/controls",
          "model_name": "HTMLModel",
          "model_module_version": "1.5.0",
          "state": {
            "_dom_classes": [],
            "_model_module": "@jupyter-widgets/controls",
            "_model_module_version": "1.5.0",
            "_model_name": "HTMLModel",
            "_view_count": null,
            "_view_module": "@jupyter-widgets/controls",
            "_view_module_version": "1.5.0",
            "_view_name": "HTMLView",
            "description": "",
            "description_tooltip": null,
            "layout": "IPY_MODEL_0bbfb558fb4a4615beabd2b60f97a0eb",
            "placeholder": "​",
            "style": "IPY_MODEL_06056273674e4a489ac4b756db160a56",
            "value": " 213k/213k [00:00&lt;00:00, 2.20MB/s]"
          }
        },
        "b5c38bcd31db403981521808b57498b2": {
          "model_module": "@jupyter-widgets/base",
          "model_name": "LayoutModel",
          "model_module_version": "1.2.0",
          "state": {
            "_model_module": "@jupyter-widgets/base",
            "_model_module_version": "1.2.0",
            "_model_name": "LayoutModel",
            "_view_count": null,
            "_view_module": "@jupyter-widgets/base",
            "_view_module_version": "1.2.0",
            "_view_name": "LayoutView",
            "align_content": null,
            "align_items": null,
            "align_self": null,
            "border": null,
            "bottom": null,
            "display": null,
            "flex": null,
            "flex_flow": null,
            "grid_area": null,
            "grid_auto_columns": null,
            "grid_auto_flow": null,
            "grid_auto_rows": null,
            "grid_column": null,
            "grid_gap": null,
            "grid_row": null,
            "grid_template_areas": null,
            "grid_template_columns": null,
            "grid_template_rows": null,
            "height": null,
            "justify_content": null,
            "justify_items": null,
            "left": null,
            "margin": null,
            "max_height": null,
            "max_width": null,
            "min_height": null,
            "min_width": null,
            "object_fit": null,
            "object_position": null,
            "order": null,
            "overflow": null,
            "overflow_x": null,
            "overflow_y": null,
            "padding": null,
            "right": null,
            "top": null,
            "visibility": null,
            "width": null
          }
        },
        "69fcad0b69254a02ad6ae054716a7b94": {
          "model_module": "@jupyter-widgets/base",
          "model_name": "LayoutModel",
          "model_module_version": "1.2.0",
          "state": {
            "_model_module": "@jupyter-widgets/base",
            "_model_module_version": "1.2.0",
            "_model_name": "LayoutModel",
            "_view_count": null,
            "_view_module": "@jupyter-widgets/base",
            "_view_module_version": "1.2.0",
            "_view_name": "LayoutView",
            "align_content": null,
            "align_items": null,
            "align_self": null,
            "border": null,
            "bottom": null,
            "display": null,
            "flex": null,
            "flex_flow": null,
            "grid_area": null,
            "grid_auto_columns": null,
            "grid_auto_flow": null,
            "grid_auto_rows": null,
            "grid_column": null,
            "grid_gap": null,
            "grid_row": null,
            "grid_template_areas": null,
            "grid_template_columns": null,
            "grid_template_rows": null,
            "height": null,
            "justify_content": null,
            "justify_items": null,
            "left": null,
            "margin": null,
            "max_height": null,
            "max_width": null,
            "min_height": null,
            "min_width": null,
            "object_fit": null,
            "object_position": null,
            "order": null,
            "overflow": null,
            "overflow_x": null,
            "overflow_y": null,
            "padding": null,
            "right": null,
            "top": null,
            "visibility": null,
            "width": null
          }
        },
        "6d99b261133c429b9b47c256f481f2ea": {
          "model_module": "@jupyter-widgets/controls",
          "model_name": "DescriptionStyleModel",
          "model_module_version": "1.5.0",
          "state": {
            "_model_module": "@jupyter-widgets/controls",
            "_model_module_version": "1.5.0",
            "_model_name": "DescriptionStyleModel",
            "_view_count": null,
            "_view_module": "@jupyter-widgets/base",
            "_view_module_version": "1.2.0",
            "_view_name": "StyleView",
            "description_width": ""
          }
        },
        "a9691f9c196d4d16bfd129782aad7e4d": {
          "model_module": "@jupyter-widgets/base",
          "model_name": "LayoutModel",
          "model_module_version": "1.2.0",
          "state": {
            "_model_module": "@jupyter-widgets/base",
            "_model_module_version": "1.2.0",
            "_model_name": "LayoutModel",
            "_view_count": null,
            "_view_module": "@jupyter-widgets/base",
            "_view_module_version": "1.2.0",
            "_view_name": "LayoutView",
            "align_content": null,
            "align_items": null,
            "align_self": null,
            "border": null,
            "bottom": null,
            "display": null,
            "flex": null,
            "flex_flow": null,
            "grid_area": null,
            "grid_auto_columns": null,
            "grid_auto_flow": null,
            "grid_auto_rows": null,
            "grid_column": null,
            "grid_gap": null,
            "grid_row": null,
            "grid_template_areas": null,
            "grid_template_columns": null,
            "grid_template_rows": null,
            "height": null,
            "justify_content": null,
            "justify_items": null,
            "left": null,
            "margin": null,
            "max_height": null,
            "max_width": null,
            "min_height": null,
            "min_width": null,
            "object_fit": null,
            "object_position": null,
            "order": null,
            "overflow": null,
            "overflow_x": null,
            "overflow_y": null,
            "padding": null,
            "right": null,
            "top": null,
            "visibility": null,
            "width": null
          }
        },
        "d8b847de5a5e4e4c8ddcfbf25e79c38b": {
          "model_module": "@jupyter-widgets/controls",
          "model_name": "ProgressStyleModel",
          "model_module_version": "1.5.0",
          "state": {
            "_model_module": "@jupyter-widgets/controls",
            "_model_module_version": "1.5.0",
            "_model_name": "ProgressStyleModel",
            "_view_count": null,
            "_view_module": "@jupyter-widgets/base",
            "_view_module_version": "1.2.0",
            "_view_name": "StyleView",
            "bar_color": null,
            "description_width": ""
          }
        },
        "0bbfb558fb4a4615beabd2b60f97a0eb": {
          "model_module": "@jupyter-widgets/base",
          "model_name": "LayoutModel",
          "model_module_version": "1.2.0",
          "state": {
            "_model_module": "@jupyter-widgets/base",
            "_model_module_version": "1.2.0",
            "_model_name": "LayoutModel",
            "_view_count": null,
            "_view_module": "@jupyter-widgets/base",
            "_view_module_version": "1.2.0",
            "_view_name": "LayoutView",
            "align_content": null,
            "align_items": null,
            "align_self": null,
            "border": null,
            "bottom": null,
            "display": null,
            "flex": null,
            "flex_flow": null,
            "grid_area": null,
            "grid_auto_columns": null,
            "grid_auto_flow": null,
            "grid_auto_rows": null,
            "grid_column": null,
            "grid_gap": null,
            "grid_row": null,
            "grid_template_areas": null,
            "grid_template_columns": null,
            "grid_template_rows": null,
            "height": null,
            "justify_content": null,
            "justify_items": null,
            "left": null,
            "margin": null,
            "max_height": null,
            "max_width": null,
            "min_height": null,
            "min_width": null,
            "object_fit": null,
            "object_position": null,
            "order": null,
            "overflow": null,
            "overflow_x": null,
            "overflow_y": null,
            "padding": null,
            "right": null,
            "top": null,
            "visibility": null,
            "width": null
          }
        },
        "06056273674e4a489ac4b756db160a56": {
          "model_module": "@jupyter-widgets/controls",
          "model_name": "DescriptionStyleModel",
          "model_module_version": "1.5.0",
          "state": {
            "_model_module": "@jupyter-widgets/controls",
            "_model_module_version": "1.5.0",
            "_model_name": "DescriptionStyleModel",
            "_view_count": null,
            "_view_module": "@jupyter-widgets/base",
            "_view_module_version": "1.2.0",
            "_view_name": "StyleView",
            "description_width": ""
          }
        },
        "ef45bbc05d724ce99a95552a33f87c70": {
          "model_module": "@jupyter-widgets/controls",
          "model_name": "HBoxModel",
          "model_module_version": "1.5.0",
          "state": {
            "_dom_classes": [],
            "_model_module": "@jupyter-widgets/controls",
            "_model_module_version": "1.5.0",
            "_model_name": "HBoxModel",
            "_view_count": null,
            "_view_module": "@jupyter-widgets/controls",
            "_view_module_version": "1.5.0",
            "_view_name": "HBoxView",
            "box_style": "",
            "children": [
              "IPY_MODEL_6f00f6063cbe4aa1a2fe442092c424da",
              "IPY_MODEL_240763e81f974b04acb7b476ac9e1444",
              "IPY_MODEL_3bea8643ac884c7d85d52fee4a6a2903"
            ],
            "layout": "IPY_MODEL_027f64ebabe94ff89ca73d502d1ae91c"
          }
        },
        "6f00f6063cbe4aa1a2fe442092c424da": {
          "model_module": "@jupyter-widgets/controls",
          "model_name": "HTMLModel",
          "model_module_version": "1.5.0",
          "state": {
            "_dom_classes": [],
            "_model_module": "@jupyter-widgets/controls",
            "_model_module_version": "1.5.0",
            "_model_name": "HTMLModel",
            "_view_count": null,
            "_view_module": "@jupyter-widgets/controls",
            "_view_module_version": "1.5.0",
            "_view_name": "HTMLView",
            "description": "",
            "description_tooltip": null,
            "layout": "IPY_MODEL_eb95393b94a1456f96b4cd0a31483695",
            "placeholder": "​",
            "style": "IPY_MODEL_d2fb42bddf9749cfa5e2f1443a53a996",
            "value": "Downloading (…)okenizer_config.json: 100%"
          }
        },
        "240763e81f974b04acb7b476ac9e1444": {
          "model_module": "@jupyter-widgets/controls",
          "model_name": "FloatProgressModel",
          "model_module_version": "1.5.0",
          "state": {
            "_dom_classes": [],
            "_model_module": "@jupyter-widgets/controls",
            "_model_module_version": "1.5.0",
            "_model_name": "FloatProgressModel",
            "_view_count": null,
            "_view_module": "@jupyter-widgets/controls",
            "_view_module_version": "1.5.0",
            "_view_name": "ProgressView",
            "bar_style": "success",
            "description": "",
            "description_tooltip": null,
            "layout": "IPY_MODEL_be624b761a3a47d1b47272ceec4b5fbc",
            "max": 29,
            "min": 0,
            "orientation": "horizontal",
            "style": "IPY_MODEL_b35fd2fa1b544ecf9c94c2fe78c5843d",
            "value": 29
          }
        },
        "3bea8643ac884c7d85d52fee4a6a2903": {
          "model_module": "@jupyter-widgets/controls",
          "model_name": "HTMLModel",
          "model_module_version": "1.5.0",
          "state": {
            "_dom_classes": [],
            "_model_module": "@jupyter-widgets/controls",
            "_model_module_version": "1.5.0",
            "_model_name": "HTMLModel",
            "_view_count": null,
            "_view_module": "@jupyter-widgets/controls",
            "_view_module_version": "1.5.0",
            "_view_name": "HTMLView",
            "description": "",
            "description_tooltip": null,
            "layout": "IPY_MODEL_d7f4d04d7e52412cb2332519e81822b8",
            "placeholder": "​",
            "style": "IPY_MODEL_8466b4b4e4a74c5984370edeb4d156a3",
            "value": " 29.0/29.0 [00:00&lt;00:00, 791B/s]"
          }
        },
        "027f64ebabe94ff89ca73d502d1ae91c": {
          "model_module": "@jupyter-widgets/base",
          "model_name": "LayoutModel",
          "model_module_version": "1.2.0",
          "state": {
            "_model_module": "@jupyter-widgets/base",
            "_model_module_version": "1.2.0",
            "_model_name": "LayoutModel",
            "_view_count": null,
            "_view_module": "@jupyter-widgets/base",
            "_view_module_version": "1.2.0",
            "_view_name": "LayoutView",
            "align_content": null,
            "align_items": null,
            "align_self": null,
            "border": null,
            "bottom": null,
            "display": null,
            "flex": null,
            "flex_flow": null,
            "grid_area": null,
            "grid_auto_columns": null,
            "grid_auto_flow": null,
            "grid_auto_rows": null,
            "grid_column": null,
            "grid_gap": null,
            "grid_row": null,
            "grid_template_areas": null,
            "grid_template_columns": null,
            "grid_template_rows": null,
            "height": null,
            "justify_content": null,
            "justify_items": null,
            "left": null,
            "margin": null,
            "max_height": null,
            "max_width": null,
            "min_height": null,
            "min_width": null,
            "object_fit": null,
            "object_position": null,
            "order": null,
            "overflow": null,
            "overflow_x": null,
            "overflow_y": null,
            "padding": null,
            "right": null,
            "top": null,
            "visibility": null,
            "width": null
          }
        },
        "eb95393b94a1456f96b4cd0a31483695": {
          "model_module": "@jupyter-widgets/base",
          "model_name": "LayoutModel",
          "model_module_version": "1.2.0",
          "state": {
            "_model_module": "@jupyter-widgets/base",
            "_model_module_version": "1.2.0",
            "_model_name": "LayoutModel",
            "_view_count": null,
            "_view_module": "@jupyter-widgets/base",
            "_view_module_version": "1.2.0",
            "_view_name": "LayoutView",
            "align_content": null,
            "align_items": null,
            "align_self": null,
            "border": null,
            "bottom": null,
            "display": null,
            "flex": null,
            "flex_flow": null,
            "grid_area": null,
            "grid_auto_columns": null,
            "grid_auto_flow": null,
            "grid_auto_rows": null,
            "grid_column": null,
            "grid_gap": null,
            "grid_row": null,
            "grid_template_areas": null,
            "grid_template_columns": null,
            "grid_template_rows": null,
            "height": null,
            "justify_content": null,
            "justify_items": null,
            "left": null,
            "margin": null,
            "max_height": null,
            "max_width": null,
            "min_height": null,
            "min_width": null,
            "object_fit": null,
            "object_position": null,
            "order": null,
            "overflow": null,
            "overflow_x": null,
            "overflow_y": null,
            "padding": null,
            "right": null,
            "top": null,
            "visibility": null,
            "width": null
          }
        },
        "d2fb42bddf9749cfa5e2f1443a53a996": {
          "model_module": "@jupyter-widgets/controls",
          "model_name": "DescriptionStyleModel",
          "model_module_version": "1.5.0",
          "state": {
            "_model_module": "@jupyter-widgets/controls",
            "_model_module_version": "1.5.0",
            "_model_name": "DescriptionStyleModel",
            "_view_count": null,
            "_view_module": "@jupyter-widgets/base",
            "_view_module_version": "1.2.0",
            "_view_name": "StyleView",
            "description_width": ""
          }
        },
        "be624b761a3a47d1b47272ceec4b5fbc": {
          "model_module": "@jupyter-widgets/base",
          "model_name": "LayoutModel",
          "model_module_version": "1.2.0",
          "state": {
            "_model_module": "@jupyter-widgets/base",
            "_model_module_version": "1.2.0",
            "_model_name": "LayoutModel",
            "_view_count": null,
            "_view_module": "@jupyter-widgets/base",
            "_view_module_version": "1.2.0",
            "_view_name": "LayoutView",
            "align_content": null,
            "align_items": null,
            "align_self": null,
            "border": null,
            "bottom": null,
            "display": null,
            "flex": null,
            "flex_flow": null,
            "grid_area": null,
            "grid_auto_columns": null,
            "grid_auto_flow": null,
            "grid_auto_rows": null,
            "grid_column": null,
            "grid_gap": null,
            "grid_row": null,
            "grid_template_areas": null,
            "grid_template_columns": null,
            "grid_template_rows": null,
            "height": null,
            "justify_content": null,
            "justify_items": null,
            "left": null,
            "margin": null,
            "max_height": null,
            "max_width": null,
            "min_height": null,
            "min_width": null,
            "object_fit": null,
            "object_position": null,
            "order": null,
            "overflow": null,
            "overflow_x": null,
            "overflow_y": null,
            "padding": null,
            "right": null,
            "top": null,
            "visibility": null,
            "width": null
          }
        },
        "b35fd2fa1b544ecf9c94c2fe78c5843d": {
          "model_module": "@jupyter-widgets/controls",
          "model_name": "ProgressStyleModel",
          "model_module_version": "1.5.0",
          "state": {
            "_model_module": "@jupyter-widgets/controls",
            "_model_module_version": "1.5.0",
            "_model_name": "ProgressStyleModel",
            "_view_count": null,
            "_view_module": "@jupyter-widgets/base",
            "_view_module_version": "1.2.0",
            "_view_name": "StyleView",
            "bar_color": null,
            "description_width": ""
          }
        },
        "d7f4d04d7e52412cb2332519e81822b8": {
          "model_module": "@jupyter-widgets/base",
          "model_name": "LayoutModel",
          "model_module_version": "1.2.0",
          "state": {
            "_model_module": "@jupyter-widgets/base",
            "_model_module_version": "1.2.0",
            "_model_name": "LayoutModel",
            "_view_count": null,
            "_view_module": "@jupyter-widgets/base",
            "_view_module_version": "1.2.0",
            "_view_name": "LayoutView",
            "align_content": null,
            "align_items": null,
            "align_self": null,
            "border": null,
            "bottom": null,
            "display": null,
            "flex": null,
            "flex_flow": null,
            "grid_area": null,
            "grid_auto_columns": null,
            "grid_auto_flow": null,
            "grid_auto_rows": null,
            "grid_column": null,
            "grid_gap": null,
            "grid_row": null,
            "grid_template_areas": null,
            "grid_template_columns": null,
            "grid_template_rows": null,
            "height": null,
            "justify_content": null,
            "justify_items": null,
            "left": null,
            "margin": null,
            "max_height": null,
            "max_width": null,
            "min_height": null,
            "min_width": null,
            "object_fit": null,
            "object_position": null,
            "order": null,
            "overflow": null,
            "overflow_x": null,
            "overflow_y": null,
            "padding": null,
            "right": null,
            "top": null,
            "visibility": null,
            "width": null
          }
        },
        "8466b4b4e4a74c5984370edeb4d156a3": {
          "model_module": "@jupyter-widgets/controls",
          "model_name": "DescriptionStyleModel",
          "model_module_version": "1.5.0",
          "state": {
            "_model_module": "@jupyter-widgets/controls",
            "_model_module_version": "1.5.0",
            "_model_name": "DescriptionStyleModel",
            "_view_count": null,
            "_view_module": "@jupyter-widgets/base",
            "_view_module_version": "1.2.0",
            "_view_name": "StyleView",
            "description_width": ""
          }
        },
        "426d351ccbc34f599bdaa86441ac207e": {
          "model_module": "@jupyter-widgets/controls",
          "model_name": "HBoxModel",
          "model_module_version": "1.5.0",
          "state": {
            "_dom_classes": [],
            "_model_module": "@jupyter-widgets/controls",
            "_model_module_version": "1.5.0",
            "_model_name": "HBoxModel",
            "_view_count": null,
            "_view_module": "@jupyter-widgets/controls",
            "_view_module_version": "1.5.0",
            "_view_name": "HBoxView",
            "box_style": "",
            "children": [
              "IPY_MODEL_4e5b2005b1e24cad9719e8242b98bcb8",
              "IPY_MODEL_d2da4a19d84d47968e4abb2ab0d8e5d3",
              "IPY_MODEL_5f7a124226e3480c95bf87188d03f82c"
            ],
            "layout": "IPY_MODEL_89378b3bfdfe43eda4e2cb1b549ccb92"
          }
        },
        "4e5b2005b1e24cad9719e8242b98bcb8": {
          "model_module": "@jupyter-widgets/controls",
          "model_name": "HTMLModel",
          "model_module_version": "1.5.0",
          "state": {
            "_dom_classes": [],
            "_model_module": "@jupyter-widgets/controls",
            "_model_module_version": "1.5.0",
            "_model_name": "HTMLModel",
            "_view_count": null,
            "_view_module": "@jupyter-widgets/controls",
            "_view_module_version": "1.5.0",
            "_view_name": "HTMLView",
            "description": "",
            "description_tooltip": null,
            "layout": "IPY_MODEL_0481879194254b4988ab4f8293395bff",
            "placeholder": "​",
            "style": "IPY_MODEL_c1303e0f4f0145e89806629e398ceddd",
            "value": "Downloading (…)lve/main/config.json: 100%"
          }
        },
        "d2da4a19d84d47968e4abb2ab0d8e5d3": {
          "model_module": "@jupyter-widgets/controls",
          "model_name": "FloatProgressModel",
          "model_module_version": "1.5.0",
          "state": {
            "_dom_classes": [],
            "_model_module": "@jupyter-widgets/controls",
            "_model_module_version": "1.5.0",
            "_model_name": "FloatProgressModel",
            "_view_count": null,
            "_view_module": "@jupyter-widgets/controls",
            "_view_module_version": "1.5.0",
            "_view_name": "ProgressView",
            "bar_style": "success",
            "description": "",
            "description_tooltip": null,
            "layout": "IPY_MODEL_753829e10130462eb98bf650287402af",
            "max": 570,
            "min": 0,
            "orientation": "horizontal",
            "style": "IPY_MODEL_facba4cf03fc45a696428f0ce2d36dfd",
            "value": 570
          }
        },
        "5f7a124226e3480c95bf87188d03f82c": {
          "model_module": "@jupyter-widgets/controls",
          "model_name": "HTMLModel",
          "model_module_version": "1.5.0",
          "state": {
            "_dom_classes": [],
            "_model_module": "@jupyter-widgets/controls",
            "_model_module_version": "1.5.0",
            "_model_name": "HTMLModel",
            "_view_count": null,
            "_view_module": "@jupyter-widgets/controls",
            "_view_module_version": "1.5.0",
            "_view_name": "HTMLView",
            "description": "",
            "description_tooltip": null,
            "layout": "IPY_MODEL_e4c0e35ea8c5422caf9b4863bac3bec1",
            "placeholder": "​",
            "style": "IPY_MODEL_6edb47b78fe749948482f34b547cfb09",
            "value": " 570/570 [00:00&lt;00:00, 19.7kB/s]"
          }
        },
        "89378b3bfdfe43eda4e2cb1b549ccb92": {
          "model_module": "@jupyter-widgets/base",
          "model_name": "LayoutModel",
          "model_module_version": "1.2.0",
          "state": {
            "_model_module": "@jupyter-widgets/base",
            "_model_module_version": "1.2.0",
            "_model_name": "LayoutModel",
            "_view_count": null,
            "_view_module": "@jupyter-widgets/base",
            "_view_module_version": "1.2.0",
            "_view_name": "LayoutView",
            "align_content": null,
            "align_items": null,
            "align_self": null,
            "border": null,
            "bottom": null,
            "display": null,
            "flex": null,
            "flex_flow": null,
            "grid_area": null,
            "grid_auto_columns": null,
            "grid_auto_flow": null,
            "grid_auto_rows": null,
            "grid_column": null,
            "grid_gap": null,
            "grid_row": null,
            "grid_template_areas": null,
            "grid_template_columns": null,
            "grid_template_rows": null,
            "height": null,
            "justify_content": null,
            "justify_items": null,
            "left": null,
            "margin": null,
            "max_height": null,
            "max_width": null,
            "min_height": null,
            "min_width": null,
            "object_fit": null,
            "object_position": null,
            "order": null,
            "overflow": null,
            "overflow_x": null,
            "overflow_y": null,
            "padding": null,
            "right": null,
            "top": null,
            "visibility": null,
            "width": null
          }
        },
        "0481879194254b4988ab4f8293395bff": {
          "model_module": "@jupyter-widgets/base",
          "model_name": "LayoutModel",
          "model_module_version": "1.2.0",
          "state": {
            "_model_module": "@jupyter-widgets/base",
            "_model_module_version": "1.2.0",
            "_model_name": "LayoutModel",
            "_view_count": null,
            "_view_module": "@jupyter-widgets/base",
            "_view_module_version": "1.2.0",
            "_view_name": "LayoutView",
            "align_content": null,
            "align_items": null,
            "align_self": null,
            "border": null,
            "bottom": null,
            "display": null,
            "flex": null,
            "flex_flow": null,
            "grid_area": null,
            "grid_auto_columns": null,
            "grid_auto_flow": null,
            "grid_auto_rows": null,
            "grid_column": null,
            "grid_gap": null,
            "grid_row": null,
            "grid_template_areas": null,
            "grid_template_columns": null,
            "grid_template_rows": null,
            "height": null,
            "justify_content": null,
            "justify_items": null,
            "left": null,
            "margin": null,
            "max_height": null,
            "max_width": null,
            "min_height": null,
            "min_width": null,
            "object_fit": null,
            "object_position": null,
            "order": null,
            "overflow": null,
            "overflow_x": null,
            "overflow_y": null,
            "padding": null,
            "right": null,
            "top": null,
            "visibility": null,
            "width": null
          }
        },
        "c1303e0f4f0145e89806629e398ceddd": {
          "model_module": "@jupyter-widgets/controls",
          "model_name": "DescriptionStyleModel",
          "model_module_version": "1.5.0",
          "state": {
            "_model_module": "@jupyter-widgets/controls",
            "_model_module_version": "1.5.0",
            "_model_name": "DescriptionStyleModel",
            "_view_count": null,
            "_view_module": "@jupyter-widgets/base",
            "_view_module_version": "1.2.0",
            "_view_name": "StyleView",
            "description_width": ""
          }
        },
        "753829e10130462eb98bf650287402af": {
          "model_module": "@jupyter-widgets/base",
          "model_name": "LayoutModel",
          "model_module_version": "1.2.0",
          "state": {
            "_model_module": "@jupyter-widgets/base",
            "_model_module_version": "1.2.0",
            "_model_name": "LayoutModel",
            "_view_count": null,
            "_view_module": "@jupyter-widgets/base",
            "_view_module_version": "1.2.0",
            "_view_name": "LayoutView",
            "align_content": null,
            "align_items": null,
            "align_self": null,
            "border": null,
            "bottom": null,
            "display": null,
            "flex": null,
            "flex_flow": null,
            "grid_area": null,
            "grid_auto_columns": null,
            "grid_auto_flow": null,
            "grid_auto_rows": null,
            "grid_column": null,
            "grid_gap": null,
            "grid_row": null,
            "grid_template_areas": null,
            "grid_template_columns": null,
            "grid_template_rows": null,
            "height": null,
            "justify_content": null,
            "justify_items": null,
            "left": null,
            "margin": null,
            "max_height": null,
            "max_width": null,
            "min_height": null,
            "min_width": null,
            "object_fit": null,
            "object_position": null,
            "order": null,
            "overflow": null,
            "overflow_x": null,
            "overflow_y": null,
            "padding": null,
            "right": null,
            "top": null,
            "visibility": null,
            "width": null
          }
        },
        "facba4cf03fc45a696428f0ce2d36dfd": {
          "model_module": "@jupyter-widgets/controls",
          "model_name": "ProgressStyleModel",
          "model_module_version": "1.5.0",
          "state": {
            "_model_module": "@jupyter-widgets/controls",
            "_model_module_version": "1.5.0",
            "_model_name": "ProgressStyleModel",
            "_view_count": null,
            "_view_module": "@jupyter-widgets/base",
            "_view_module_version": "1.2.0",
            "_view_name": "StyleView",
            "bar_color": null,
            "description_width": ""
          }
        },
        "e4c0e35ea8c5422caf9b4863bac3bec1": {
          "model_module": "@jupyter-widgets/base",
          "model_name": "LayoutModel",
          "model_module_version": "1.2.0",
          "state": {
            "_model_module": "@jupyter-widgets/base",
            "_model_module_version": "1.2.0",
            "_model_name": "LayoutModel",
            "_view_count": null,
            "_view_module": "@jupyter-widgets/base",
            "_view_module_version": "1.2.0",
            "_view_name": "LayoutView",
            "align_content": null,
            "align_items": null,
            "align_self": null,
            "border": null,
            "bottom": null,
            "display": null,
            "flex": null,
            "flex_flow": null,
            "grid_area": null,
            "grid_auto_columns": null,
            "grid_auto_flow": null,
            "grid_auto_rows": null,
            "grid_column": null,
            "grid_gap": null,
            "grid_row": null,
            "grid_template_areas": null,
            "grid_template_columns": null,
            "grid_template_rows": null,
            "height": null,
            "justify_content": null,
            "justify_items": null,
            "left": null,
            "margin": null,
            "max_height": null,
            "max_width": null,
            "min_height": null,
            "min_width": null,
            "object_fit": null,
            "object_position": null,
            "order": null,
            "overflow": null,
            "overflow_x": null,
            "overflow_y": null,
            "padding": null,
            "right": null,
            "top": null,
            "visibility": null,
            "width": null
          }
        },
        "6edb47b78fe749948482f34b547cfb09": {
          "model_module": "@jupyter-widgets/controls",
          "model_name": "DescriptionStyleModel",
          "model_module_version": "1.5.0",
          "state": {
            "_model_module": "@jupyter-widgets/controls",
            "_model_module_version": "1.5.0",
            "_model_name": "DescriptionStyleModel",
            "_view_count": null,
            "_view_module": "@jupyter-widgets/base",
            "_view_module_version": "1.2.0",
            "_view_name": "StyleView",
            "description_width": ""
          }
        },
        "0e559d42cd3f4237ac9d4f34b06fe38c": {
          "model_module": "@jupyter-widgets/controls",
          "model_name": "HBoxModel",
          "model_module_version": "1.5.0",
          "state": {
            "_dom_classes": [],
            "_model_module": "@jupyter-widgets/controls",
            "_model_module_version": "1.5.0",
            "_model_name": "HBoxModel",
            "_view_count": null,
            "_view_module": "@jupyter-widgets/controls",
            "_view_module_version": "1.5.0",
            "_view_name": "HBoxView",
            "box_style": "",
            "children": [
              "IPY_MODEL_1e199d91daf042889fe60bf161089f6a",
              "IPY_MODEL_98c809c57a434421b122d962290ef35c",
              "IPY_MODEL_5791f7fdf11c450095831ad7cc7ba23c"
            ],
            "layout": "IPY_MODEL_5ed92d105e0b468f93f5fb5868c30e47"
          }
        },
        "1e199d91daf042889fe60bf161089f6a": {
          "model_module": "@jupyter-widgets/controls",
          "model_name": "HTMLModel",
          "model_module_version": "1.5.0",
          "state": {
            "_dom_classes": [],
            "_model_module": "@jupyter-widgets/controls",
            "_model_module_version": "1.5.0",
            "_model_name": "HTMLModel",
            "_view_count": null,
            "_view_module": "@jupyter-widgets/controls",
            "_view_module_version": "1.5.0",
            "_view_name": "HTMLView",
            "description": "",
            "description_tooltip": null,
            "layout": "IPY_MODEL_0a3ff3f75d15465f842c4e1210f6c90f",
            "placeholder": "​",
            "style": "IPY_MODEL_c6cf841fd6034b4ea69e7bd2e33255d4",
            "value": "Downloading (…)&quot;tf_model.h5&quot;;: 100%"
          }
        },
        "98c809c57a434421b122d962290ef35c": {
          "model_module": "@jupyter-widgets/controls",
          "model_name": "FloatProgressModel",
          "model_module_version": "1.5.0",
          "state": {
            "_dom_classes": [],
            "_model_module": "@jupyter-widgets/controls",
            "_model_module_version": "1.5.0",
            "_model_name": "FloatProgressModel",
            "_view_count": null,
            "_view_module": "@jupyter-widgets/controls",
            "_view_module_version": "1.5.0",
            "_view_name": "ProgressView",
            "bar_style": "success",
            "description": "",
            "description_tooltip": null,
            "layout": "IPY_MODEL_c12e7166eab342558ca9914f47d70bf6",
            "max": 526681800,
            "min": 0,
            "orientation": "horizontal",
            "style": "IPY_MODEL_f2646e28fbd24ea7ad9f6c4c6308371f",
            "value": 526681800
          }
        },
        "5791f7fdf11c450095831ad7cc7ba23c": {
          "model_module": "@jupyter-widgets/controls",
          "model_name": "HTMLModel",
          "model_module_version": "1.5.0",
          "state": {
            "_dom_classes": [],
            "_model_module": "@jupyter-widgets/controls",
            "_model_module_version": "1.5.0",
            "_model_name": "HTMLModel",
            "_view_count": null,
            "_view_module": "@jupyter-widgets/controls",
            "_view_module_version": "1.5.0",
            "_view_name": "HTMLView",
            "description": "",
            "description_tooltip": null,
            "layout": "IPY_MODEL_343da8b3122547bdbc2498175cfeabee",
            "placeholder": "​",
            "style": "IPY_MODEL_4fd0eb7ef15849d6bbd57933c04e0404",
            "value": " 527M/527M [00:12&lt;00:00, 48.6MB/s]"
          }
        },
        "5ed92d105e0b468f93f5fb5868c30e47": {
          "model_module": "@jupyter-widgets/base",
          "model_name": "LayoutModel",
          "model_module_version": "1.2.0",
          "state": {
            "_model_module": "@jupyter-widgets/base",
            "_model_module_version": "1.2.0",
            "_model_name": "LayoutModel",
            "_view_count": null,
            "_view_module": "@jupyter-widgets/base",
            "_view_module_version": "1.2.0",
            "_view_name": "LayoutView",
            "align_content": null,
            "align_items": null,
            "align_self": null,
            "border": null,
            "bottom": null,
            "display": null,
            "flex": null,
            "flex_flow": null,
            "grid_area": null,
            "grid_auto_columns": null,
            "grid_auto_flow": null,
            "grid_auto_rows": null,
            "grid_column": null,
            "grid_gap": null,
            "grid_row": null,
            "grid_template_areas": null,
            "grid_template_columns": null,
            "grid_template_rows": null,
            "height": null,
            "justify_content": null,
            "justify_items": null,
            "left": null,
            "margin": null,
            "max_height": null,
            "max_width": null,
            "min_height": null,
            "min_width": null,
            "object_fit": null,
            "object_position": null,
            "order": null,
            "overflow": null,
            "overflow_x": null,
            "overflow_y": null,
            "padding": null,
            "right": null,
            "top": null,
            "visibility": null,
            "width": null
          }
        },
        "0a3ff3f75d15465f842c4e1210f6c90f": {
          "model_module": "@jupyter-widgets/base",
          "model_name": "LayoutModel",
          "model_module_version": "1.2.0",
          "state": {
            "_model_module": "@jupyter-widgets/base",
            "_model_module_version": "1.2.0",
            "_model_name": "LayoutModel",
            "_view_count": null,
            "_view_module": "@jupyter-widgets/base",
            "_view_module_version": "1.2.0",
            "_view_name": "LayoutView",
            "align_content": null,
            "align_items": null,
            "align_self": null,
            "border": null,
            "bottom": null,
            "display": null,
            "flex": null,
            "flex_flow": null,
            "grid_area": null,
            "grid_auto_columns": null,
            "grid_auto_flow": null,
            "grid_auto_rows": null,
            "grid_column": null,
            "grid_gap": null,
            "grid_row": null,
            "grid_template_areas": null,
            "grid_template_columns": null,
            "grid_template_rows": null,
            "height": null,
            "justify_content": null,
            "justify_items": null,
            "left": null,
            "margin": null,
            "max_height": null,
            "max_width": null,
            "min_height": null,
            "min_width": null,
            "object_fit": null,
            "object_position": null,
            "order": null,
            "overflow": null,
            "overflow_x": null,
            "overflow_y": null,
            "padding": null,
            "right": null,
            "top": null,
            "visibility": null,
            "width": null
          }
        },
        "c6cf841fd6034b4ea69e7bd2e33255d4": {
          "model_module": "@jupyter-widgets/controls",
          "model_name": "DescriptionStyleModel",
          "model_module_version": "1.5.0",
          "state": {
            "_model_module": "@jupyter-widgets/controls",
            "_model_module_version": "1.5.0",
            "_model_name": "DescriptionStyleModel",
            "_view_count": null,
            "_view_module": "@jupyter-widgets/base",
            "_view_module_version": "1.2.0",
            "_view_name": "StyleView",
            "description_width": ""
          }
        },
        "c12e7166eab342558ca9914f47d70bf6": {
          "model_module": "@jupyter-widgets/base",
          "model_name": "LayoutModel",
          "model_module_version": "1.2.0",
          "state": {
            "_model_module": "@jupyter-widgets/base",
            "_model_module_version": "1.2.0",
            "_model_name": "LayoutModel",
            "_view_count": null,
            "_view_module": "@jupyter-widgets/base",
            "_view_module_version": "1.2.0",
            "_view_name": "LayoutView",
            "align_content": null,
            "align_items": null,
            "align_self": null,
            "border": null,
            "bottom": null,
            "display": null,
            "flex": null,
            "flex_flow": null,
            "grid_area": null,
            "grid_auto_columns": null,
            "grid_auto_flow": null,
            "grid_auto_rows": null,
            "grid_column": null,
            "grid_gap": null,
            "grid_row": null,
            "grid_template_areas": null,
            "grid_template_columns": null,
            "grid_template_rows": null,
            "height": null,
            "justify_content": null,
            "justify_items": null,
            "left": null,
            "margin": null,
            "max_height": null,
            "max_width": null,
            "min_height": null,
            "min_width": null,
            "object_fit": null,
            "object_position": null,
            "order": null,
            "overflow": null,
            "overflow_x": null,
            "overflow_y": null,
            "padding": null,
            "right": null,
            "top": null,
            "visibility": null,
            "width": null
          }
        },
        "f2646e28fbd24ea7ad9f6c4c6308371f": {
          "model_module": "@jupyter-widgets/controls",
          "model_name": "ProgressStyleModel",
          "model_module_version": "1.5.0",
          "state": {
            "_model_module": "@jupyter-widgets/controls",
            "_model_module_version": "1.5.0",
            "_model_name": "ProgressStyleModel",
            "_view_count": null,
            "_view_module": "@jupyter-widgets/base",
            "_view_module_version": "1.2.0",
            "_view_name": "StyleView",
            "bar_color": null,
            "description_width": ""
          }
        },
        "343da8b3122547bdbc2498175cfeabee": {
          "model_module": "@jupyter-widgets/base",
          "model_name": "LayoutModel",
          "model_module_version": "1.2.0",
          "state": {
            "_model_module": "@jupyter-widgets/base",
            "_model_module_version": "1.2.0",
            "_model_name": "LayoutModel",
            "_view_count": null,
            "_view_module": "@jupyter-widgets/base",
            "_view_module_version": "1.2.0",
            "_view_name": "LayoutView",
            "align_content": null,
            "align_items": null,
            "align_self": null,
            "border": null,
            "bottom": null,
            "display": null,
            "flex": null,
            "flex_flow": null,
            "grid_area": null,
            "grid_auto_columns": null,
            "grid_auto_flow": null,
            "grid_auto_rows": null,
            "grid_column": null,
            "grid_gap": null,
            "grid_row": null,
            "grid_template_areas": null,
            "grid_template_columns": null,
            "grid_template_rows": null,
            "height": null,
            "justify_content": null,
            "justify_items": null,
            "left": null,
            "margin": null,
            "max_height": null,
            "max_width": null,
            "min_height": null,
            "min_width": null,
            "object_fit": null,
            "object_position": null,
            "order": null,
            "overflow": null,
            "overflow_x": null,
            "overflow_y": null,
            "padding": null,
            "right": null,
            "top": null,
            "visibility": null,
            "width": null
          }
        },
        "4fd0eb7ef15849d6bbd57933c04e0404": {
          "model_module": "@jupyter-widgets/controls",
          "model_name": "DescriptionStyleModel",
          "model_module_version": "1.5.0",
          "state": {
            "_model_module": "@jupyter-widgets/controls",
            "_model_module_version": "1.5.0",
            "_model_name": "DescriptionStyleModel",
            "_view_count": null,
            "_view_module": "@jupyter-widgets/base",
            "_view_module_version": "1.2.0",
            "_view_name": "StyleView",
            "description_width": ""
          }
        }
      }
    }
  },
  "nbformat": 4,
  "nbformat_minor": 0
}